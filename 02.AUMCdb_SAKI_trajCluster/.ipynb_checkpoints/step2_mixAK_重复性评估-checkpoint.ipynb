{
 "cells": [
  {
   "cell_type": "code",
   "execution_count": 1,
   "id": "68c9f1b3",
   "metadata": {
    "ExecuteTime": {
     "end_time": "2023-03-13T01:38:48.615614Z",
     "start_time": "2023-03-13T01:38:47.011305Z"
    }
   },
   "outputs": [],
   "source": [
    "import pandas as pd\n",
    "import numpy as np\n",
    "import matplotlib.pyplot as plt\n",
    "pd.options.display.max_rows = 300\n",
    "import datetime as dt\n",
    "import math\n",
    "import seaborn as sns\n",
    "import miceforest as mf\n",
    "from tableone import TableOne, load_dataset\n",
    "import os\n",
    "import re\n"
   ]
  },
  {
   "cell_type": "code",
   "execution_count": null,
   "id": "67a5e1b5",
   "metadata": {},
   "outputs": [],
   "source": [
    "# 用死亡率检查标签\n",
    "# C1: 死亡率偏中间\n",
    "# C2: 死亡率最低\n",
    "# C3: 死亡率最高"
   ]
  },
  {
   "cell_type": "code",
   "execution_count": 215,
   "id": "2f44f72c",
   "metadata": {
    "ExecuteTime": {
     "end_time": "2023-03-13T03:17:45.642667Z",
     "start_time": "2023-03-13T03:17:45.490650Z"
    }
   },
   "outputs": [
    {
     "name": "stderr",
     "output_type": "stream",
     "text": [
      "/home/hanl/miniconda3/envs/mytensor/lib/python3.9/site-packages/ipykernel/ipkernel.py:287: DeprecationWarning: `should_run_async` will not call `transform_cell` automatically in the future. Please pass the result to `transformed_cell` argument and any exception that happen during thetransform in `preprocessing_exc_tuple` in IPython 7.17 and above.\n",
      "  and should_run_async(code)\n"
     ]
    }
   ],
   "source": [
    "file_lst = os.listdir(\"./rep_clustering_result/\")\n",
    "dir_ = \"./rep_clustering_result/\"\n",
    "df_out = pd.DataFrame()\n",
    "\n",
    "for file in file_lst:\n",
    "    if file.endswith(\".csv\"):\n",
    "        number = re.findall(r'\\d+', file)[0]\n",
    "        newcol = \"groupHPD_rep\" + number\n",
    "        file = dir_ + file \n",
    "        df = pd.read_csv(file)\n",
    "        df = df[[\"stay_id\",\"groupHPD\"]].drop_duplicates()\n",
    "        df.columns = [\"stay_id\", newcol]\n",
    "        df_out = pd.concat([df_out,df], axis=1)\n",
    "df_out = df_out.loc[:, ~df_out.columns.duplicated()]"
   ]
  },
  {
   "cell_type": "code",
   "execution_count": 221,
   "id": "4e996339",
   "metadata": {
    "ExecuteTime": {
     "end_time": "2023-03-13T03:18:53.304334Z",
     "start_time": "2023-03-13T03:18:53.281144Z"
    }
   },
   "outputs": [
    {
     "name": "stderr",
     "output_type": "stream",
     "text": [
      "/home/hanl/miniconda3/envs/mytensor/lib/python3.9/site-packages/ipykernel/ipkernel.py:287: DeprecationWarning: `should_run_async` will not call `transform_cell` automatically in the future. Please pass the result to `transformed_cell` argument and any exception that happen during thetransform in `preprocessing_exc_tuple` in IPython 7.17 and above.\n",
      "  and should_run_async(code)\n"
     ]
    },
    {
     "data": {
      "text/html": [
       "<div>\n",
       "<style scoped>\n",
       "    .dataframe tbody tr th:only-of-type {\n",
       "        vertical-align: middle;\n",
       "    }\n",
       "\n",
       "    .dataframe tbody tr th {\n",
       "        vertical-align: top;\n",
       "    }\n",
       "\n",
       "    .dataframe thead th {\n",
       "        text-align: right;\n",
       "    }\n",
       "</style>\n",
       "<table border=\"1\" class=\"dataframe\">\n",
       "  <thead>\n",
       "    <tr style=\"text-align: right;\">\n",
       "      <th></th>\n",
       "      <th>rep_unique</th>\n",
       "      <th>rep_unique_count</th>\n",
       "      <th>groupHPD_rep1</th>\n",
       "      <th>groupHPD_rep2</th>\n",
       "      <th>groupHPD_rep3</th>\n",
       "      <th>groupHPD_rep4</th>\n",
       "      <th>groupHPD_rep5</th>\n",
       "      <th>count</th>\n",
       "    </tr>\n",
       "  </thead>\n",
       "  <tbody>\n",
       "    <tr>\n",
       "      <th>0</th>\n",
       "      <td>[1, 1, 1, 1]</td>\n",
       "      <td>1899</td>\n",
       "      <td>1</td>\n",
       "      <td>1</td>\n",
       "      <td>1</td>\n",
       "      <td>1</td>\n",
       "      <td>1</td>\n",
       "      <td>1899</td>\n",
       "    </tr>\n",
       "    <tr>\n",
       "      <th>1</th>\n",
       "      <td>[1, 2, 2, 2]</td>\n",
       "      <td>1</td>\n",
       "      <td>2</td>\n",
       "      <td>1</td>\n",
       "      <td>2</td>\n",
       "      <td>2</td>\n",
       "      <td>2</td>\n",
       "      <td>1</td>\n",
       "    </tr>\n",
       "    <tr>\n",
       "      <th>2</th>\n",
       "      <td>[2, 2, 2, 2]</td>\n",
       "      <td>593</td>\n",
       "      <td>2</td>\n",
       "      <td>2</td>\n",
       "      <td>2</td>\n",
       "      <td>2</td>\n",
       "      <td>2</td>\n",
       "      <td>593</td>\n",
       "    </tr>\n",
       "  </tbody>\n",
       "</table>\n",
       "</div>"
      ],
      "text/plain": [
       "     rep_unique  rep_unique_count  groupHPD_rep1  groupHPD_rep2  \\\n",
       "0  [1, 1, 1, 1]              1899              1              1   \n",
       "1  [1, 2, 2, 2]                 1              2              1   \n",
       "2  [2, 2, 2, 2]               593              2              2   \n",
       "\n",
       "   groupHPD_rep3  groupHPD_rep4  groupHPD_rep5  count  \n",
       "0              1              1              1   1899  \n",
       "1              2              2              2      1  \n",
       "2              2              2              2    593  "
      ]
     },
     "execution_count": 221,
     "metadata": {},
     "output_type": "execute_result"
    }
   ],
   "source": [
    "df_stat = df_out.groupby(['groupHPD_rep1', 'groupHPD_rep2', 'groupHPD_rep3', 'groupHPD_rep4', 'groupHPD_rep5']).size().reset_index()\n",
    "df_stat =  df_stat.rename(columns={0:\"count\"})\n",
    "df_stat[\"rep_unique\"] = [sorted(i) for i in df_stat.iloc[:,0:-2].values.tolist()]\n",
    "df_stat[\"rep_unique\"] = df_stat[\"rep_unique\"].astype(\"str\")\n",
    "tmp_df = df_stat.groupby([\"rep_unique\"]).agg({\"count\":\"sum\"}).reset_index()\n",
    "tmp_df.columns = [\"rep_unique\",\"rep_unique_count\"]\n",
    "df_stat = pd.merge(tmp_df,df_stat, how=\"inner\",on=\"rep_unique\")\n",
    "df_stat"
   ]
  }
 ],
 "metadata": {
  "kernelspec": {
   "display_name": "Python [conda env:mytensor]",
   "language": "python",
   "name": "conda-env-mytensor-py"
  },
  "language_info": {
   "codemirror_mode": {
    "name": "ipython",
    "version": 3
   },
   "file_extension": ".py",
   "mimetype": "text/x-python",
   "name": "python",
   "nbconvert_exporter": "python",
   "pygments_lexer": "ipython3",
   "version": "3.9.12"
  },
  "toc": {
   "base_numbering": 1,
   "nav_menu": {},
   "number_sections": true,
   "sideBar": true,
   "skip_h1_title": false,
   "title_cell": "Table of Contents",
   "title_sidebar": "Contents",
   "toc_cell": false,
   "toc_position": {},
   "toc_section_display": true,
   "toc_window_display": false
  },
  "varInspector": {
   "cols": {
    "lenName": 16,
    "lenType": 16,
    "lenVar": 40
   },
   "kernels_config": {
    "python": {
     "delete_cmd_postfix": "",
     "delete_cmd_prefix": "del ",
     "library": "var_list.py",
     "varRefreshCmd": "print(var_dic_list())"
    },
    "r": {
     "delete_cmd_postfix": ") ",
     "delete_cmd_prefix": "rm(",
     "library": "var_list.r",
     "varRefreshCmd": "cat(var_dic_list()) "
    }
   },
   "types_to_exclude": [
    "module",
    "function",
    "builtin_function_or_method",
    "instance",
    "_Feature"
   ],
   "window_display": false
  }
 },
 "nbformat": 4,
 "nbformat_minor": 5
}
