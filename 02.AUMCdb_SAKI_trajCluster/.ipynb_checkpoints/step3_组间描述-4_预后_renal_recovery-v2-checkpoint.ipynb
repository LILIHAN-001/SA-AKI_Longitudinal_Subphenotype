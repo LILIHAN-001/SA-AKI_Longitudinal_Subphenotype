{
 "cells": [
  {
   "cell_type": "markdown",
   "id": "ea7f2482",
   "metadata": {},
   "source": [
    "# def"
   ]
  },
  {
   "cell_type": "code",
   "execution_count": 1,
   "id": "8afe3825",
   "metadata": {
    "ExecuteTime": {
     "end_time": "2024-03-22T13:54:46.216575Z",
     "start_time": "2024-03-22T13:54:45.275529Z"
    }
   },
   "outputs": [
    {
     "name": "stderr",
     "output_type": "stream",
     "text": [
      "/home/hanl/miniconda3/envs/mytensor/lib/python3.9/site-packages/scipy/__init__.py:138: UserWarning: A NumPy version >=1.16.5 and <1.23.0 is required for this version of SciPy (detected version 1.26.4)\n",
      "  warnings.warn(f\"A NumPy version >={np_minversion} and <{np_maxversion} is required for this version of \"\n"
     ]
    }
   ],
   "source": [
    "import pandas as pd\n",
    "import time\n",
    "import numpy as np\n",
    "import matplotlib.pyplot as plt\n",
    "pd.options.display.max_rows = 300\n",
    "import math\n",
    "import datetime as dt\n",
    "from tableone import TableOne, load_dataset\n",
    "import itertools\n",
    "import random\n",
    "import scipy.stats as stats"
   ]
  },
  {
   "cell_type": "code",
   "execution_count": 2,
   "id": "f649a5a9",
   "metadata": {
    "ExecuteTime": {
     "end_time": "2024-03-22T13:54:46.384818Z",
     "start_time": "2024-03-22T13:54:46.217860Z"
    }
   },
   "outputs": [
    {
     "name": "stdout",
     "output_type": "stream",
     "text": [
      "纳入患者数量： 2183\n"
     ]
    },
    {
     "name": "stderr",
     "output_type": "stream",
     "text": [
      "/home/hanl/miniconda3/envs/mytensor/lib/python3.9/site-packages/ipykernel/ipkernel.py:287: DeprecationWarning: `should_run_async` will not call `transform_cell` automatically in the future. Please pass the result to `transformed_cell` argument and any exception that happen during thetransform in `preprocessing_exc_tuple` in IPython 7.17 and above.\n",
      "  and should_run_async(code)\n"
     ]
    },
    {
     "data": {
      "text/plain": [
       "groupHPD\n",
       "2    1400\n",
       "1     564\n",
       "3     219\n",
       "Name: count, dtype: int64"
      ]
     },
     "execution_count": 2,
     "metadata": {},
     "output_type": "execute_result"
    }
   ],
   "source": [
    "df_type = pd.read_csv(\"/public/hanl/jupyter_dir/kidney_sepsis_penotype_v3/02.AUMCdb_SAKI_trajCluster/df_mixAK_fea3_C3_aumc.csv\")\n",
    "df_type_filt = df_type.loc[:,[\"stay_id\",\"groupHPD\"]]\n",
    "df_type_filt = df_type_filt.drop_duplicates()\n",
    "all_lst = df_type_filt.stay_id.unique().tolist()\n",
    "print(\"纳入患者数量：\",len(all_lst))\n",
    "\n",
    "df_type_filt[\"groupHPD\"].value_counts()"
   ]
  },
  {
   "cell_type": "markdown",
   "id": "a67e1cd4",
   "metadata": {},
   "source": [
    "# 定义恢复模式\n",
    "先判断一下每个时间的肾脏情况，再考虑时间来综合判断恢复模式\n",
    "\n",
    "肾脏情况判定：\n",
    "- 尿量不满足KDIGO AKI 定义时，判定为完全恢复C(complete recovery)\n",
    "- 肌酐不满足KDIGO AKI 定义时，判定为完全恢复C(complete recovery)\n",
    "- 否则都为尚未恢复P (partial)\n",
    "\n",
    "- 肌酐在基线肌酐的30%内时，判定为完全恢复\n",
    "\n",
    "恢复模式判定：\n",
    "- 快速恢复QR，3天内恢复(quick recovery ) \n",
    "- 缓慢恢复SR，7天内恢复（slow recovery） \n",
    "- 恶化W（worse） \n",
    "- 恢复指连续5个点 \"不满足AKI定义的数量\" 大于 \"满足AKI定义的数量\"\n"
   ]
  },
  {
   "cell_type": "markdown",
   "id": "d67d8521",
   "metadata": {},
   "source": [
    "# 肾脏情况判定"
   ]
  },
  {
   "cell_type": "markdown",
   "id": "96cb4e0f",
   "metadata": {},
   "source": [
    "## 获取数据-aki stage,aki_stage_uo，aki_stage_cre"
   ]
  },
  {
   "cell_type": "code",
   "execution_count": 3,
   "id": "c9b21f7c",
   "metadata": {
    "ExecuteTime": {
     "end_time": "2024-03-22T13:54:46.397516Z",
     "start_time": "2024-03-22T13:54:46.386085Z"
    }
   },
   "outputs": [
    {
     "name": "stderr",
     "output_type": "stream",
     "text": [
      "/home/hanl/miniconda3/envs/mytensor/lib/python3.9/site-packages/ipykernel/ipkernel.py:287: DeprecationWarning: `should_run_async` will not call `transform_cell` automatically in the future. Please pass the result to `transformed_cell` argument and any exception that happen during thetransform in `preprocessing_exc_tuple` in IPython 7.17 and above.\n",
      "  and should_run_async(code)\n"
     ]
    },
    {
     "data": {
      "text/html": [
       "<div>\n",
       "<style scoped>\n",
       "    .dataframe tbody tr th:only-of-type {\n",
       "        vertical-align: middle;\n",
       "    }\n",
       "\n",
       "    .dataframe tbody tr th {\n",
       "        vertical-align: top;\n",
       "    }\n",
       "\n",
       "    .dataframe thead th {\n",
       "        text-align: right;\n",
       "    }\n",
       "</style>\n",
       "<table border=\"1\" class=\"dataframe\">\n",
       "  <thead>\n",
       "    <tr style=\"text-align: right;\">\n",
       "      <th></th>\n",
       "      <th>stay_id</th>\n",
       "      <th>first_aki_onset</th>\n",
       "      <th>aki_endtime</th>\n",
       "      <th>aki_endstage</th>\n",
       "      <th>los_saaki</th>\n",
       "    </tr>\n",
       "  </thead>\n",
       "  <tbody>\n",
       "    <tr>\n",
       "      <th>0</th>\n",
       "      <td>5</td>\n",
       "      <td>3</td>\n",
       "      <td>13</td>\n",
       "      <td>0</td>\n",
       "      <td>10.0</td>\n",
       "    </tr>\n",
       "    <tr>\n",
       "      <th>1</th>\n",
       "      <td>15</td>\n",
       "      <td>3</td>\n",
       "      <td>89</td>\n",
       "      <td>0</td>\n",
       "      <td>86.0</td>\n",
       "    </tr>\n",
       "  </tbody>\n",
       "</table>\n",
       "</div>"
      ],
      "text/plain": [
       "   stay_id  first_aki_onset  aki_endtime  aki_endstage  los_saaki\n",
       "0        5                3           13             0       10.0\n",
       "1       15                3           89             0       86.0"
      ]
     },
     "execution_count": 3,
     "metadata": {},
     "output_type": "execute_result"
    }
   ],
   "source": [
    "df_time = pd.read_csv(\"/public/hanl/jupyter_dir/kidney_sepsis_penotype_v3/00.data_aumc/disease_definition/AKI/aumc_first_and_max_stage.csv\")\n",
    "df_time = df_time[[\"stay_id\",\"first_aki_onset\",\"aki_endtime\",\"aki_endstage\"]]\n",
    "df_time[\"los_saaki\"] = (df_time[\"aki_endtime\"] - df_time[\"first_aki_onset\"])/1\n",
    "df_time.head(2)"
   ]
  },
  {
   "cell_type": "code",
   "execution_count": 4,
   "id": "783e9e1b",
   "metadata": {
    "ExecuteTime": {
     "end_time": "2024-03-22T13:54:46.424112Z",
     "start_time": "2024-03-22T13:54:46.398595Z"
    },
    "run_control": {
     "marked": true
    }
   },
   "outputs": [
    {
     "name": "stderr",
     "output_type": "stream",
     "text": [
      "/home/hanl/miniconda3/envs/mytensor/lib/python3.9/site-packages/ipykernel/ipkernel.py:287: DeprecationWarning: `should_run_async` will not call `transform_cell` automatically in the future. Please pass the result to `transformed_cell` argument and any exception that happen during thetransform in `preprocessing_exc_tuple` in IPython 7.17 and above.\n",
      "  and should_run_async(code)\n"
     ]
    },
    {
     "data": {
      "text/plain": [
       "(   stay_id  time  aki_stage_uo  aki_stage_creat  aki_stage\n",
       " 1        5     0           1.0              0.0        1.0\n",
       " 2        5     1           2.0              0.0        2.0\n",
       " 3        5     2           3.0              0.0        3.0,\n",
       " 2183)"
      ]
     },
     "execution_count": 4,
     "metadata": {},
     "output_type": "execute_result"
    }
   ],
   "source": [
    "## 获取每个时间点 由尿量或肌酐定义的最大stages\n",
    "df_stage = pd.read_csv(\"/public/hanl/jupyter_dir/kidney_sepsis_penotype_v3/00.data_aumc/disease_definition/AKI/aumc_kdigo_stages_based_time.csv\")\n",
    "df_stage = df_stage[df_stage['time']>=0]\n",
    "df_stage = df_stage[df_stage[\"stay_id\"].isin(all_lst)]\n",
    "df_stage.head(3),len(df_stage.stay_id.unique())"
   ]
  },
  {
   "cell_type": "code",
   "execution_count": 5,
   "id": "d882506b",
   "metadata": {
    "ExecuteTime": {
     "end_time": "2024-03-22T13:54:52.691718Z",
     "start_time": "2024-03-22T13:54:46.425075Z"
    },
    "scrolled": true
   },
   "outputs": [
    {
     "name": "stdout",
     "output_type": "stream",
     "text": [
      "aki_stage_creat\n"
     ]
    },
    {
     "name": "stderr",
     "output_type": "stream",
     "text": [
      "/home/hanl/miniconda3/envs/mytensor/lib/python3.9/site-packages/ipykernel/ipkernel.py:287: DeprecationWarning: `should_run_async` will not call `transform_cell` automatically in the future. Please pass the result to `transformed_cell` argument and any exception that happen during thetransform in `preprocessing_exc_tuple` in IPython 7.17 and above.\n",
      "  and should_run_async(code)\n"
     ]
    },
    {
     "name": "stdout",
     "output_type": "stream",
     "text": [
      "aki_stage_uo\n",
      "aki_stage\n"
     ]
    },
    {
     "data": {
      "text/html": [
       "<div>\n",
       "<style scoped>\n",
       "    .dataframe tbody tr th:only-of-type {\n",
       "        vertical-align: middle;\n",
       "    }\n",
       "\n",
       "    .dataframe tbody tr th {\n",
       "        vertical-align: top;\n",
       "    }\n",
       "\n",
       "    .dataframe thead th {\n",
       "        text-align: right;\n",
       "    }\n",
       "</style>\n",
       "<table border=\"1\" class=\"dataframe\">\n",
       "  <thead>\n",
       "    <tr style=\"text-align: right;\">\n",
       "      <th></th>\n",
       "      <th>stay_id</th>\n",
       "      <th>time</th>\n",
       "      <th>aki_stage_uo</th>\n",
       "      <th>aki_stage_creat</th>\n",
       "      <th>aki_stage</th>\n",
       "      <th>state_crea_start</th>\n",
       "      <th>state_crea_max</th>\n",
       "      <th>state_crea_end</th>\n",
       "      <th>state_uo_start</th>\n",
       "      <th>state_uo_max</th>\n",
       "      <th>state_uo_end</th>\n",
       "      <th>state_start</th>\n",
       "      <th>state_max</th>\n",
       "      <th>state_end</th>\n",
       "    </tr>\n",
       "  </thead>\n",
       "  <tbody>\n",
       "    <tr>\n",
       "      <th>0</th>\n",
       "      <td>5</td>\n",
       "      <td>0</td>\n",
       "      <td>1.0</td>\n",
       "      <td>0.0</td>\n",
       "      <td>1.0</td>\n",
       "      <td>0.0</td>\n",
       "      <td>0.0</td>\n",
       "      <td>0.0</td>\n",
       "      <td>1.0</td>\n",
       "      <td>3.0</td>\n",
       "      <td>0.0</td>\n",
       "      <td>1.0</td>\n",
       "      <td>3.0</td>\n",
       "      <td>0</td>\n",
       "    </tr>\n",
       "    <tr>\n",
       "      <th>1</th>\n",
       "      <td>5</td>\n",
       "      <td>1</td>\n",
       "      <td>2.0</td>\n",
       "      <td>0.0</td>\n",
       "      <td>2.0</td>\n",
       "      <td>0.0</td>\n",
       "      <td>0.0</td>\n",
       "      <td>0.0</td>\n",
       "      <td>1.0</td>\n",
       "      <td>3.0</td>\n",
       "      <td>0.0</td>\n",
       "      <td>1.0</td>\n",
       "      <td>3.0</td>\n",
       "      <td>0</td>\n",
       "    </tr>\n",
       "  </tbody>\n",
       "</table>\n",
       "</div>"
      ],
      "text/plain": [
       "   stay_id  time  aki_stage_uo  aki_stage_creat  aki_stage  state_crea_start  \\\n",
       "0        5     0           1.0              0.0        1.0               0.0   \n",
       "1        5     1           2.0              0.0        2.0               0.0   \n",
       "\n",
       "   state_crea_max  state_crea_end  state_uo_start  state_uo_max  state_uo_end  \\\n",
       "0             0.0             0.0             1.0           3.0           0.0   \n",
       "1             0.0             0.0             1.0           3.0           0.0   \n",
       "\n",
       "   state_start  state_max  state_end  \n",
       "0          1.0        3.0          0  \n",
       "1          1.0        3.0          0  "
      ]
     },
     "execution_count": 5,
     "metadata": {},
     "output_type": "execute_result"
    }
   ],
   "source": [
    "## 获取变化过程\n",
    "ss = \"aki_stage_creat\"  \n",
    "print(ss)\n",
    "tmp_df = pd.DataFrame(columns=[\"stay_id\", \"state_crea_start\", \"state_crea_max\", \"state_crea_end\"])\n",
    "for i,j in df_stage.groupby([\"stay_id\"]):\n",
    "    sstart = j[j[\"time\"]==0][ss].tolist()[0]\n",
    "    smax = sorted(j[ss].tolist()[1:-1])[-1]\n",
    "    send = j[ss].tolist()[-1] \n",
    "    tmp_df.loc[len(tmp_df)] = [i[0], sstart, smax, send]\n",
    "df = pd.merge(df_stage, tmp_df, how=\"inner\",on=\"stay_id\")\n",
    "\n",
    "ss = \"aki_stage_uo\"  \n",
    "print(ss)\n",
    "tmp_df = pd.DataFrame(columns=[\"stay_id\", \"state_uo_start\", \"state_uo_max\", \"state_uo_end\"])\n",
    "for i,j in df_stage.groupby([\"stay_id\"]):\n",
    "    sstart = j[j[\"time\"]==0][ss].tolist()[0]\n",
    "    smax = sorted(j[ss].tolist()[1:-1])[-1]\n",
    "    send = j[ss].tolist()[-1] \n",
    "    tmp_df.loc[len(tmp_df)] = [i[0], sstart, smax, send]\n",
    "df = pd.merge(df, tmp_df, how=\"inner\",on=\"stay_id\")\n",
    "\n",
    "ss = \"aki_stage\" \n",
    "print(ss)\n",
    "tmp_df = pd.DataFrame(columns=[\"stay_id\", \"state_start\", \"state_max\", \"state_end\"])\n",
    "for i,j in df_stage.groupby([\"stay_id\"]):\n",
    "    sstart = j[j[\"time\"]==0][ss].tolist()[0]\n",
    "    smax = sorted(j[ss].tolist()[1:-1])[-1]\n",
    "    send = j[ss].tolist()[-1] \n",
    "    tmp_df.loc[len(tmp_df)] = [i[0], sstart, smax, send]\n",
    "df = pd.merge(df, tmp_df, how=\"inner\",on=\"stay_id\")\n",
    "\n",
    "#替换AKI病程最终状态\n",
    "df = df.drop([\"state_end\"],axis=1)\n",
    "tmp_df = df_time[[\"stay_id\",\"aki_endstage\"]]\n",
    "tmp_df.columns = [\"stay_id\",\"state_end\"]\n",
    "df = pd.merge(df, tmp_df,how=\"left\",on=\"stay_id\")\n",
    "df.head(2)"
   ]
  },
  {
   "cell_type": "markdown",
   "id": "59164866",
   "metadata": {
    "run_control": {
     "marked": true
    }
   },
   "source": [
    "## 定义变化过程 by 变好/变坏/不变\n",
    "- 第一个点：time = 1 时的state\n",
    "- 第二个点：整个过程中stages最大的点\n",
    "- 第三个点：倒数5个点更多的一个状态"
   ]
  },
  {
   "cell_type": "code",
   "execution_count": 6,
   "id": "e4685e55",
   "metadata": {
    "ExecuteTime": {
     "end_time": "2024-03-22T13:54:52.738763Z",
     "start_time": "2024-03-22T13:54:52.692968Z"
    }
   },
   "outputs": [
    {
     "name": "stderr",
     "output_type": "stream",
     "text": [
      "/home/hanl/miniconda3/envs/mytensor/lib/python3.9/site-packages/ipykernel/ipkernel.py:287: DeprecationWarning: `should_run_async` will not call `transform_cell` automatically in the future. Please pass the result to `transformed_cell` argument and any exception that happen during thetransform in `preprocessing_exc_tuple` in IPython 7.17 and above.\n",
      "  and should_run_async(code)\n"
     ]
    }
   ],
   "source": [
    "df_cut = df[['stay_id','time','state_crea_start', 'state_crea_max', 'state_crea_end', 'state_uo_start',\n",
    "             'state_uo_max', 'state_uo_end','state_start','state_max', 'state_end']].drop_duplicates()\n",
    "\n",
    "#################\n",
    "t0 = \"state_crea_start\"\n",
    "tm = \"state_crea_max\"\n",
    "t1 = \"state_crea_end\"\n",
    "tc = \"state_crea_change\"\n",
    "# B\n",
    "df_cut.loc[ (df_cut[tm] >= df_cut[t0]) &  (df_cut[tm] >= df_cut[t1]) & (df_cut[t1]==0), tc] = \"CB\"\n",
    "df_cut.loc[ (df_cut[tm] >= df_cut[t0]) &  (df_cut[tm] >= df_cut[t1]) & (df_cut[t1]!=0), tc] = \"PB\"\n",
    "df_cut.loc[ (df_cut[tm] <= df_cut[t0]) &  (df_cut[t1] <= df_cut[tm]) & (df_cut[t1]!=0), tc] = \"PB\"\n",
    "df_cut.loc[ (df_cut[tm] <= df_cut[t0]) &  (df_cut[t1] <= df_cut[tm]) & (df_cut[t1]==0), tc] = \"CB\"\n",
    "\n",
    "# W\n",
    "df_cut.loc[ (df_cut[tm] >= df_cut[t0]) &  (df_cut[t1] >= df_cut[tm]),tc] = \"W\"\n",
    "# S\n",
    "df_cut.loc[ (df_cut[tm] == df_cut[t0]) &  (df_cut[t1] == df_cut[tm]),tc] = \"S\"\n",
    "\n",
    "#################\n",
    "t0 = \"state_uo_start\"\n",
    "tm = \"state_uo_max\"\n",
    "t1 = \"state_uo_end\"\n",
    "tc = \"state_uo_change\"\n",
    "# B\n",
    "df_cut.loc[ (df_cut[tm] >= df_cut[t0]) &  (df_cut[tm] >= df_cut[t1]) & (df_cut[t1]==0), tc] = \"CB\"\n",
    "df_cut.loc[ (df_cut[tm] >= df_cut[t0]) &  (df_cut[tm] >= df_cut[t1]) & (df_cut[t1]!=0), tc] = \"PB\"\n",
    "df_cut.loc[ (df_cut[tm] <= df_cut[t0]) &  (df_cut[t1] <= df_cut[tm]) & (df_cut[t1]!=0), tc] = \"PB\"\n",
    "df_cut.loc[ (df_cut[tm] <= df_cut[t0]) &  (df_cut[t1] <= df_cut[tm]) & (df_cut[t1]==0), tc] = \"CB\"\n",
    "\n",
    "# W\n",
    "df_cut.loc[ (df_cut[tm] >= df_cut[t0]) &  (df_cut[t1] >= df_cut[tm]),tc] = \"W\"\n",
    "# S\n",
    "df_cut.loc[ (df_cut[tm] == df_cut[t0]) &  (df_cut[t1] == df_cut[tm]),tc] = \"S\"\n",
    "\n",
    "#################\n",
    "t0 = \"state_start\"\n",
    "tm = \"state_max\"\n",
    "t1 = \"state_end\"\n",
    "tc = \"state_change\"\n",
    "# B\n",
    "df_cut.loc[ (df_cut[tm] >= df_cut[t0]) &  (df_cut[tm] >= df_cut[t1]) & (df_cut[t1]==0), tc] = \"CB\"\n",
    "df_cut.loc[ (df_cut[tm] >= df_cut[t0]) &  (df_cut[tm] >= df_cut[t1]) & (df_cut[t1]!=0), tc] = \"PB\"\n",
    "df_cut.loc[ (df_cut[tm] <= df_cut[t0]) &  (df_cut[t1] <= df_cut[tm]) & (df_cut[t1]!=0), tc] = \"PB\"\n",
    "df_cut.loc[ (df_cut[tm] <= df_cut[t0]) &  (df_cut[t1] <= df_cut[tm]) & (df_cut[t1]==0), tc] = \"CB\"\n",
    "\n",
    "# W\n",
    "df_cut.loc[ (df_cut[tm] >= df_cut[t0]) &  (df_cut[t1] >= df_cut[tm]),tc] = \"W\"\n",
    "# S\n",
    "df_cut.loc[ (df_cut[tm] == df_cut[t0]) &  (df_cut[t1] == df_cut[tm]),tc] = \"S\"\n"
   ]
  },
  {
   "cell_type": "markdown",
   "id": "6dcad943",
   "metadata": {},
   "source": [
    "# 恢复模式判定(多少天恢复)\n",
    "- 3天内恢复/7天内恢复/7天内不恢复"
   ]
  },
  {
   "cell_type": "code",
   "execution_count": 7,
   "id": "bb401314",
   "metadata": {
    "ExecuteTime": {
     "end_time": "2024-03-22T13:54:52.757267Z",
     "start_time": "2024-03-22T13:54:52.739794Z"
    },
    "run_control": {
     "marked": true
    }
   },
   "outputs": [
    {
     "name": "stderr",
     "output_type": "stream",
     "text": [
      "/home/hanl/miniconda3/envs/mytensor/lib/python3.9/site-packages/ipykernel/ipkernel.py:287: DeprecationWarning: `should_run_async` will not call `transform_cell` automatically in the future. Please pass the result to `transformed_cell` argument and any exception that happen during thetransform in `preprocessing_exc_tuple` in IPython 7.17 and above.\n",
      "  and should_run_async(code)\n"
     ]
    },
    {
     "data": {
      "text/html": [
       "<div>\n",
       "<style scoped>\n",
       "    .dataframe tbody tr th:only-of-type {\n",
       "        vertical-align: middle;\n",
       "    }\n",
       "\n",
       "    .dataframe tbody tr th {\n",
       "        vertical-align: top;\n",
       "    }\n",
       "\n",
       "    .dataframe thead th {\n",
       "        text-align: right;\n",
       "    }\n",
       "</style>\n",
       "<table border=\"1\" class=\"dataframe\">\n",
       "  <thead>\n",
       "    <tr style=\"text-align: right;\">\n",
       "      <th></th>\n",
       "      <th>stay_id</th>\n",
       "      <th>state_change</th>\n",
       "      <th>los_saaki</th>\n",
       "      <th>stayid_state</th>\n",
       "    </tr>\n",
       "  </thead>\n",
       "  <tbody>\n",
       "    <tr>\n",
       "      <th>0</th>\n",
       "      <td>5</td>\n",
       "      <td>CB</td>\n",
       "      <td>10.0</td>\n",
       "      <td>Rapidly revered AKI</td>\n",
       "    </tr>\n",
       "  </tbody>\n",
       "</table>\n",
       "</div>"
      ],
      "text/plain": [
       "   stay_id state_change  los_saaki         stayid_state\n",
       "0        5           CB       10.0  Rapidly revered AKI"
      ]
     },
     "execution_count": 7,
     "metadata": {},
     "output_type": "execute_result"
    }
   ],
   "source": [
    "df_ = df_cut[[\"stay_id\",\"state_change\"]].drop_duplicates()\n",
    "df_ = pd.merge(df_,df_time[[\"stay_id\",\"los_saaki\"]],how=\"inner\",on=\"stay_id\")\n",
    "\n",
    "df_.loc[(df_[\"state_change\"]==\"CB\") & (df_[\"los_saaki\"]<=48),\"stayid_state\"] = \"Rapidly revered AKI\"\n",
    "df_.loc[(df_[\"state_change\"]==\"CB\") & (df_[\"los_saaki\"]>48),\"stayid_state\"] = \"Persistent AKI with full renal recovery\"\n",
    "df_.loc[(df_[\"state_change\"]==\"PB\"),\"stayid_state\"] = \"Persistent AKI with partial renal recovery\"\n",
    "df_.loc[(df_[\"state_change\"]==\"W\"),\"stayid_state\"] = \"Persistent AKI with worsening renal function\"\n",
    "df_.loc[(df_[\"state_change\"]==\"S\"),\"stayid_state\"] = \"Persistent AKI with worsening renal function\" #\"Persistent AKI with steady renal function\"\n",
    "df_stayid_s = df_\n",
    "df_.head(1)"
   ]
  },
  {
   "cell_type": "code",
   "execution_count": 8,
   "id": "c460a50d",
   "metadata": {
    "ExecuteTime": {
     "end_time": "2024-03-22T13:54:52.776153Z",
     "start_time": "2024-03-22T13:54:52.758876Z"
    }
   },
   "outputs": [
    {
     "name": "stderr",
     "output_type": "stream",
     "text": [
      "/home/hanl/miniconda3/envs/mytensor/lib/python3.9/site-packages/ipykernel/ipkernel.py:287: DeprecationWarning: `should_run_async` will not call `transform_cell` automatically in the future. Please pass the result to `transformed_cell` argument and any exception that happen during thetransform in `preprocessing_exc_tuple` in IPython 7.17 and above.\n",
      "  and should_run_async(code)\n"
     ]
    },
    {
     "data": {
      "text/html": [
       "<div>\n",
       "<style scoped>\n",
       "    .dataframe tbody tr th:only-of-type {\n",
       "        vertical-align: middle;\n",
       "    }\n",
       "\n",
       "    .dataframe tbody tr th {\n",
       "        vertical-align: top;\n",
       "    }\n",
       "\n",
       "    .dataframe thead th {\n",
       "        text-align: right;\n",
       "    }\n",
       "</style>\n",
       "<table border=\"1\" class=\"dataframe\">\n",
       "  <thead>\n",
       "    <tr style=\"text-align: right;\">\n",
       "      <th></th>\n",
       "      <th>groupHPD</th>\n",
       "      <th>stayid_state</th>\n",
       "      <th>stay_id</th>\n",
       "      <th>count_all</th>\n",
       "      <th>percent(%)</th>\n",
       "    </tr>\n",
       "  </thead>\n",
       "  <tbody>\n",
       "    <tr>\n",
       "      <th>0</th>\n",
       "      <td>1</td>\n",
       "      <td>Persistent AKI with full renal recovery</td>\n",
       "      <td>147</td>\n",
       "      <td>564</td>\n",
       "      <td>26.06</td>\n",
       "    </tr>\n",
       "    <tr>\n",
       "      <th>1</th>\n",
       "      <td>1</td>\n",
       "      <td>Persistent AKI with partial renal recovery</td>\n",
       "      <td>209</td>\n",
       "      <td>564</td>\n",
       "      <td>37.06</td>\n",
       "    </tr>\n",
       "    <tr>\n",
       "      <th>2</th>\n",
       "      <td>1</td>\n",
       "      <td>Persistent AKI with worsening renal function</td>\n",
       "      <td>66</td>\n",
       "      <td>564</td>\n",
       "      <td>11.70</td>\n",
       "    </tr>\n",
       "    <tr>\n",
       "      <th>3</th>\n",
       "      <td>1</td>\n",
       "      <td>Rapidly revered AKI</td>\n",
       "      <td>142</td>\n",
       "      <td>564</td>\n",
       "      <td>25.18</td>\n",
       "    </tr>\n",
       "    <tr>\n",
       "      <th>4</th>\n",
       "      <td>2</td>\n",
       "      <td>Persistent AKI with full renal recovery</td>\n",
       "      <td>479</td>\n",
       "      <td>1400</td>\n",
       "      <td>34.21</td>\n",
       "    </tr>\n",
       "    <tr>\n",
       "      <th>5</th>\n",
       "      <td>2</td>\n",
       "      <td>Persistent AKI with partial renal recovery</td>\n",
       "      <td>126</td>\n",
       "      <td>1400</td>\n",
       "      <td>9.00</td>\n",
       "    </tr>\n",
       "    <tr>\n",
       "      <th>6</th>\n",
       "      <td>2</td>\n",
       "      <td>Persistent AKI with worsening renal function</td>\n",
       "      <td>116</td>\n",
       "      <td>1400</td>\n",
       "      <td>8.29</td>\n",
       "    </tr>\n",
       "    <tr>\n",
       "      <th>7</th>\n",
       "      <td>2</td>\n",
       "      <td>Rapidly revered AKI</td>\n",
       "      <td>673</td>\n",
       "      <td>1400</td>\n",
       "      <td>48.07</td>\n",
       "    </tr>\n",
       "    <tr>\n",
       "      <th>8</th>\n",
       "      <td>3</td>\n",
       "      <td>Persistent AKI with full renal recovery</td>\n",
       "      <td>14</td>\n",
       "      <td>219</td>\n",
       "      <td>6.39</td>\n",
       "    </tr>\n",
       "    <tr>\n",
       "      <th>9</th>\n",
       "      <td>3</td>\n",
       "      <td>Persistent AKI with partial renal recovery</td>\n",
       "      <td>61</td>\n",
       "      <td>219</td>\n",
       "      <td>27.85</td>\n",
       "    </tr>\n",
       "    <tr>\n",
       "      <th>10</th>\n",
       "      <td>3</td>\n",
       "      <td>Persistent AKI with worsening renal function</td>\n",
       "      <td>127</td>\n",
       "      <td>219</td>\n",
       "      <td>57.99</td>\n",
       "    </tr>\n",
       "    <tr>\n",
       "      <th>11</th>\n",
       "      <td>3</td>\n",
       "      <td>Rapidly revered AKI</td>\n",
       "      <td>17</td>\n",
       "      <td>219</td>\n",
       "      <td>7.76</td>\n",
       "    </tr>\n",
       "  </tbody>\n",
       "</table>\n",
       "</div>"
      ],
      "text/plain": [
       "    groupHPD                                  stayid_state  stay_id  \\\n",
       "0          1       Persistent AKI with full renal recovery      147   \n",
       "1          1    Persistent AKI with partial renal recovery      209   \n",
       "2          1  Persistent AKI with worsening renal function       66   \n",
       "3          1                           Rapidly revered AKI      142   \n",
       "4          2       Persistent AKI with full renal recovery      479   \n",
       "5          2    Persistent AKI with partial renal recovery      126   \n",
       "6          2  Persistent AKI with worsening renal function      116   \n",
       "7          2                           Rapidly revered AKI      673   \n",
       "8          3       Persistent AKI with full renal recovery       14   \n",
       "9          3    Persistent AKI with partial renal recovery       61   \n",
       "10         3  Persistent AKI with worsening renal function      127   \n",
       "11         3                           Rapidly revered AKI       17   \n",
       "\n",
       "    count_all  percent(%)  \n",
       "0         564       26.06  \n",
       "1         564       37.06  \n",
       "2         564       11.70  \n",
       "3         564       25.18  \n",
       "4        1400       34.21  \n",
       "5        1400        9.00  \n",
       "6        1400        8.29  \n",
       "7        1400       48.07  \n",
       "8         219        6.39  \n",
       "9         219       27.85  \n",
       "10        219       57.99  \n",
       "11        219        7.76  "
      ]
     },
     "execution_count": 8,
     "metadata": {},
     "output_type": "execute_result"
    }
   ],
   "source": [
    "df_count_all = pd.DataFrame(df_type_filt[\"groupHPD\"].value_counts()).reset_index()\n",
    "df_count_all.columns = [\"groupHPD\", \"count_all\"]\n",
    "\n",
    "tmp_df = pd.merge(df_stayid_s,df_type_filt, how=\"inner\",on=\"stay_id\")\n",
    "tmp_df = tmp_df.groupby([\"groupHPD\",\"stayid_state\"]).agg({\"stay_id\":\"count\"}).reset_index()\n",
    "tmp_df = pd.merge(tmp_df,df_count_all, how=\"inner\",on=\"groupHPD\")\n",
    "tmp_df[\"percent(%)\"] = round(tmp_df[\"stay_id\"]/tmp_df[\"count_all\"]*100,2)\n",
    "tmp_df.sort_values([\"groupHPD\",'stayid_state'])"
   ]
  },
  {
   "cell_type": "code",
   "execution_count": 9,
   "id": "ff35fb63",
   "metadata": {
    "ExecuteTime": {
     "end_time": "2024-03-22T13:54:52.787976Z",
     "start_time": "2024-03-22T13:54:52.777326Z"
    }
   },
   "outputs": [
    {
     "name": "stderr",
     "output_type": "stream",
     "text": [
      "/home/hanl/miniconda3/envs/mytensor/lib/python3.9/site-packages/ipykernel/ipkernel.py:287: DeprecationWarning: `should_run_async` will not call `transform_cell` automatically in the future. Please pass the result to `transformed_cell` argument and any exception that happen during thetransform in `preprocessing_exc_tuple` in IPython 7.17 and above.\n",
      "  and should_run_async(code)\n"
     ]
    },
    {
     "data": {
      "text/html": [
       "<div>\n",
       "<style scoped>\n",
       "    .dataframe tbody tr th:only-of-type {\n",
       "        vertical-align: middle;\n",
       "    }\n",
       "\n",
       "    .dataframe tbody tr th {\n",
       "        vertical-align: top;\n",
       "    }\n",
       "\n",
       "    .dataframe thead th {\n",
       "        text-align: right;\n",
       "    }\n",
       "</style>\n",
       "<table border=\"1\" class=\"dataframe\">\n",
       "  <thead>\n",
       "    <tr style=\"text-align: right;\">\n",
       "      <th></th>\n",
       "      <th>groupHPD</th>\n",
       "      <th>stayid_state</th>\n",
       "      <th>stay_id</th>\n",
       "      <th>count_all</th>\n",
       "      <th>percent(%)</th>\n",
       "      <th>dataset</th>\n",
       "    </tr>\n",
       "  </thead>\n",
       "  <tbody>\n",
       "    <tr>\n",
       "      <th>0</th>\n",
       "      <td>1</td>\n",
       "      <td>Persistent AKI with full renal recovery</td>\n",
       "      <td>147</td>\n",
       "      <td>564</td>\n",
       "      <td>26.06</td>\n",
       "      <td>AUMCdb</td>\n",
       "    </tr>\n",
       "    <tr>\n",
       "      <th>1</th>\n",
       "      <td>1</td>\n",
       "      <td>Persistent AKI with partial renal recovery</td>\n",
       "      <td>209</td>\n",
       "      <td>564</td>\n",
       "      <td>37.06</td>\n",
       "      <td>AUMCdb</td>\n",
       "    </tr>\n",
       "    <tr>\n",
       "      <th>2</th>\n",
       "      <td>1</td>\n",
       "      <td>Persistent AKI with worsening renal function</td>\n",
       "      <td>66</td>\n",
       "      <td>564</td>\n",
       "      <td>11.70</td>\n",
       "      <td>AUMCdb</td>\n",
       "    </tr>\n",
       "    <tr>\n",
       "      <th>3</th>\n",
       "      <td>1</td>\n",
       "      <td>Rapidly revered AKI</td>\n",
       "      <td>142</td>\n",
       "      <td>564</td>\n",
       "      <td>25.18</td>\n",
       "      <td>AUMCdb</td>\n",
       "    </tr>\n",
       "    <tr>\n",
       "      <th>4</th>\n",
       "      <td>2</td>\n",
       "      <td>Persistent AKI with full renal recovery</td>\n",
       "      <td>479</td>\n",
       "      <td>1400</td>\n",
       "      <td>34.21</td>\n",
       "      <td>AUMCdb</td>\n",
       "    </tr>\n",
       "    <tr>\n",
       "      <th>5</th>\n",
       "      <td>2</td>\n",
       "      <td>Persistent AKI with partial renal recovery</td>\n",
       "      <td>126</td>\n",
       "      <td>1400</td>\n",
       "      <td>9.00</td>\n",
       "      <td>AUMCdb</td>\n",
       "    </tr>\n",
       "    <tr>\n",
       "      <th>6</th>\n",
       "      <td>2</td>\n",
       "      <td>Persistent AKI with worsening renal function</td>\n",
       "      <td>116</td>\n",
       "      <td>1400</td>\n",
       "      <td>8.29</td>\n",
       "      <td>AUMCdb</td>\n",
       "    </tr>\n",
       "    <tr>\n",
       "      <th>7</th>\n",
       "      <td>2</td>\n",
       "      <td>Rapidly revered AKI</td>\n",
       "      <td>673</td>\n",
       "      <td>1400</td>\n",
       "      <td>48.07</td>\n",
       "      <td>AUMCdb</td>\n",
       "    </tr>\n",
       "    <tr>\n",
       "      <th>8</th>\n",
       "      <td>3</td>\n",
       "      <td>Persistent AKI with full renal recovery</td>\n",
       "      <td>14</td>\n",
       "      <td>219</td>\n",
       "      <td>6.39</td>\n",
       "      <td>AUMCdb</td>\n",
       "    </tr>\n",
       "    <tr>\n",
       "      <th>9</th>\n",
       "      <td>3</td>\n",
       "      <td>Persistent AKI with partial renal recovery</td>\n",
       "      <td>61</td>\n",
       "      <td>219</td>\n",
       "      <td>27.85</td>\n",
       "      <td>AUMCdb</td>\n",
       "    </tr>\n",
       "    <tr>\n",
       "      <th>10</th>\n",
       "      <td>3</td>\n",
       "      <td>Persistent AKI with worsening renal function</td>\n",
       "      <td>127</td>\n",
       "      <td>219</td>\n",
       "      <td>57.99</td>\n",
       "      <td>AUMCdb</td>\n",
       "    </tr>\n",
       "    <tr>\n",
       "      <th>11</th>\n",
       "      <td>3</td>\n",
       "      <td>Rapidly revered AKI</td>\n",
       "      <td>17</td>\n",
       "      <td>219</td>\n",
       "      <td>7.76</td>\n",
       "      <td>AUMCdb</td>\n",
       "    </tr>\n",
       "  </tbody>\n",
       "</table>\n",
       "</div>"
      ],
      "text/plain": [
       "    groupHPD                                  stayid_state  stay_id  \\\n",
       "0          1       Persistent AKI with full renal recovery      147   \n",
       "1          1    Persistent AKI with partial renal recovery      209   \n",
       "2          1  Persistent AKI with worsening renal function       66   \n",
       "3          1                           Rapidly revered AKI      142   \n",
       "4          2       Persistent AKI with full renal recovery      479   \n",
       "5          2    Persistent AKI with partial renal recovery      126   \n",
       "6          2  Persistent AKI with worsening renal function      116   \n",
       "7          2                           Rapidly revered AKI      673   \n",
       "8          3       Persistent AKI with full renal recovery       14   \n",
       "9          3    Persistent AKI with partial renal recovery       61   \n",
       "10         3  Persistent AKI with worsening renal function      127   \n",
       "11         3                           Rapidly revered AKI       17   \n",
       "\n",
       "    count_all  percent(%) dataset  \n",
       "0         564       26.06  AUMCdb  \n",
       "1         564       37.06  AUMCdb  \n",
       "2         564       11.70  AUMCdb  \n",
       "3         564       25.18  AUMCdb  \n",
       "4        1400       34.21  AUMCdb  \n",
       "5        1400        9.00  AUMCdb  \n",
       "6        1400        8.29  AUMCdb  \n",
       "7        1400       48.07  AUMCdb  \n",
       "8         219        6.39  AUMCdb  \n",
       "9         219       27.85  AUMCdb  \n",
       "10        219       57.99  AUMCdb  \n",
       "11        219        7.76  AUMCdb  "
      ]
     },
     "execution_count": 9,
     "metadata": {},
     "output_type": "execute_result"
    }
   ],
   "source": [
    "tmp_df[\"dataset\"] = \"AUMCdb\"\n",
    "tmp_df.to_csv(\"./result/AUMCdb_renal_recovery_2.csv\",index=False)\n",
    "tmp_df"
   ]
  },
  {
   "cell_type": "code",
   "execution_count": 10,
   "id": "407338b9",
   "metadata": {
    "ExecuteTime": {
     "end_time": "2024-03-22T13:54:53.016810Z",
     "start_time": "2024-03-22T13:54:52.788922Z"
    },
    "run_control": {
     "marked": true
    }
   },
   "outputs": [
    {
     "name": "stderr",
     "output_type": "stream",
     "text": [
      "/home/hanl/miniconda3/envs/mytensor/lib/python3.9/site-packages/ipykernel/ipkernel.py:287: DeprecationWarning: `should_run_async` will not call `transform_cell` automatically in the future. Please pass the result to `transformed_cell` argument and any exception that happen during thetransform in `preprocessing_exc_tuple` in IPython 7.17 and above.\n",
      "  and should_run_async(code)\n",
      "/home/hanl/miniconda3/envs/mytensor/lib/python3.9/site-packages/ipykernel/pylab/backend_inline.py:164: DeprecationWarning: `configure_inline_support` is deprecated since IPython 7.23, directly use `matplotlib_inline.backend_inline.configure_inline_support()`\n",
      "  configure_inline_support(ip, backend)\n"
     ]
    },
    {
     "data": {
      "image/png": "[encoded data removed]",
      "text/plain": [
       "<Figure size 1200x500 with 1 Axes>"
      ]
     },
     "metadata": {},
     "output_type": "display_data"
    }
   ],
   "source": [
    "def text(y1,y2,y3,y4,y5,y6,sizes):\n",
    "    plt.text(0,y1[0]/2 ,y1[0],size=sizes)\n",
    "    plt.text(1,y1[1]/2,y1[1],size=sizes)\n",
    "    plt.text(2,y1[2]/2,y1[2],size=sizes)\n",
    "    \n",
    "    plt.text(0,y1[0]+ y2[0]/2 ,y2[0],size=sizes)\n",
    "    plt.text(1,y1[1]+ y2[1]/2 ,y2[1],size=sizes)\n",
    "    plt.text(2,y1[2]+ y2[2]/2 ,y2[2],size=sizes)\n",
    "    \n",
    "    plt.text(0,y1[0]+ y2[0] +y3[0]/2 ,y3[0],size=sizes)\n",
    "    plt.text(1,y1[1]+ y2[1] +y3[1]/2 ,y3[1],size=sizes)\n",
    "    plt.text(2,y1[2]+ y2[2] +y3[2]/2 ,y3[2],size=sizes)\n",
    "    \n",
    "    plt.text(0,y1[0]+ y2[0] +y3[0] + y4[0]/2,y4[0],size=sizes)\n",
    "    plt.text(1,y1[1]+ y2[1] +y3[1] + y4[1]/2,y4[1],size=sizes)\n",
    "    plt.text(2,y1[2]+ y2[2] +y3[2] + y4[2]/2,y4[2],size=sizes)\n",
    "    \n",
    "    plt.text(0,y1[0]+ y2[0] +y3[0] + y4[0]+y5[0]/2,y5[0],size=sizes)\n",
    "    plt.text(1,y1[1]+ y2[1] +y3[1] + y4[1]+y5[1]/2,y5[1],size=sizes)\n",
    "    plt.text(2,y1[2]+ y2[2] +y3[2] + y4[2]+y5[2]/2,y5[2],size=sizes)\n",
    "    \n",
    "    plt.text(0,y1[0]+ y2[0] +y3[0] + y4[0]+y5[0]+y6[0]/2,y6[0],size=sizes)\n",
    "    plt.text(1,y1[1]+ y2[1] +y3[1] + y4[1]+y5[1]+y6[1]/2,y6[1],size=sizes)\n",
    "    plt.text(2,y1[2]+ y2[2] +y3[2] + y4[2]+y5[2]+y6[2]/2,y6[2],size=sizes)    \n",
    "\n",
    "    \n",
    "#三组诊断时的AKI等级分布\n",
    "y1 = tmp_df[tmp_df[\"stayid_state\"]==\"Rapidly revered AKI\"].loc[:,[\"groupHPD\",\"percent(%)\"]].sort_values(\"groupHPD\")[\"percent(%)\"].tolist()\n",
    "y2 = tmp_df[tmp_df[\"stayid_state\"]==\"Persistent AKI with full renal recovery\"].loc[:,[\"groupHPD\",\"percent(%)\"]].sort_values(\"groupHPD\")[\"percent(%)\"].tolist()\n",
    "y3 = tmp_df[tmp_df[\"stayid_state\"]==\"Persistent AKI with partial renal recovery\"].loc[:,[\"groupHPD\",\"percent(%)\"]].sort_values(\"groupHPD\")[\"percent(%)\"].tolist()\n",
    "y4 = tmp_df[tmp_df[\"stayid_state\"]==\"Persistent AKI with worsening renal function\"].loc[:,[\"groupHPD\",\"percent(%)\"]].sort_values(\"groupHPD\")[\"percent(%)\"].tolist()\n",
    "#y5 = tmp_df[tmp_df[\"stayid_state\"]==\"Persistent AKI with worsening renal function\"].loc[:,[\"groupHPD\",\"percent(%)\"]].sort_values(\"groupHPD\")[\"percent(%)\"].tolist()\n",
    "\n",
    "x = [\"C1\",\"C2\",\"C3\"]\n",
    "y1 = np.array(y1)\n",
    "y2 = np.array(y2)\n",
    "y3 = np.array(y3)\n",
    "\n",
    "plt.figure(figsize=(12, 5)) \n",
    "plt.bar(x,y1,width=0.4,label='Rapidly revered AKI',color='#c7e9c0',edgecolor='grey')\n",
    "plt.bar(x,y2,width=0.4,bottom=y1,label='Persistent AKI with full renal recovery',color='#74c476',edgecolor='grey')\n",
    "plt.bar(x,y3,width=0.4,bottom=y1+y2,label='Persistent AKI with partial renal recovery',color='#bcbddc',edgecolor='grey')\n",
    "plt.bar(x,y4,width=0.4,bottom=y1+y2+y3,label='Persistent AKI with worsening renal function',color='#ffffb3',edgecolor='grey')\n",
    "#plt.bar(x,y5,width=0.4,bottom=y1+y2+y3+y4,label='Persistent AKI with worsening renal function',color='#fd8d3c',edgecolor='grey')\n",
    "#text(y1,y2,y3,y4,y5,y6,10)\n",
    "\n",
    "plt.yticks(np.arange(0,120,20),[f'{i}%' for i in range(0,120,20)])\n",
    "plt.grid(axis='y',alpha=0.5,ls='--')\n",
    "\n",
    "plt.legend(frameon=False,bbox_to_anchor=(1.01,1))\n",
    "plt.title(\"recovery type\")\n",
    "plt.tight_layout()\n",
    "plt.show()"
   ]
  },
  {
   "cell_type": "markdown",
   "id": "17029ba2",
   "metadata": {
    "ExecuteTime": {
     "end_time": "2023-12-01T06:40:31.354496Z",
     "start_time": "2023-12-01T06:40:31.352362Z"
    }
   },
   "source": [
    "# 恢复模式判定-程度\n"
   ]
  },
  {
   "cell_type": "code",
   "execution_count": 11,
   "id": "58d12d25",
   "metadata": {
    "ExecuteTime": {
     "end_time": "2024-03-22T13:54:53.033860Z",
     "start_time": "2024-03-22T13:54:53.017745Z"
    }
   },
   "outputs": [
    {
     "name": "stderr",
     "output_type": "stream",
     "text": [
      "/home/hanl/miniconda3/envs/mytensor/lib/python3.9/site-packages/ipykernel/ipkernel.py:287: DeprecationWarning: `should_run_async` will not call `transform_cell` automatically in the future. Please pass the result to `transformed_cell` argument and any exception that happen during thetransform in `preprocessing_exc_tuple` in IPython 7.17 and above.\n",
      "  and should_run_async(code)\n"
     ]
    },
    {
     "data": {
      "text/html": [
       "<div>\n",
       "<style scoped>\n",
       "    .dataframe tbody tr th:only-of-type {\n",
       "        vertical-align: middle;\n",
       "    }\n",
       "\n",
       "    .dataframe tbody tr th {\n",
       "        vertical-align: top;\n",
       "    }\n",
       "\n",
       "    .dataframe thead th {\n",
       "        text-align: right;\n",
       "    }\n",
       "</style>\n",
       "<table border=\"1\" class=\"dataframe\">\n",
       "  <thead>\n",
       "    <tr style=\"text-align: right;\">\n",
       "      <th></th>\n",
       "      <th>stay_id</th>\n",
       "      <th>state_change</th>\n",
       "      <th>los_saaki</th>\n",
       "      <th>stayid_state</th>\n",
       "    </tr>\n",
       "  </thead>\n",
       "  <tbody>\n",
       "    <tr>\n",
       "      <th>0</th>\n",
       "      <td>5</td>\n",
       "      <td>CB</td>\n",
       "      <td>10.0</td>\n",
       "      <td>Full renal recovery</td>\n",
       "    </tr>\n",
       "  </tbody>\n",
       "</table>\n",
       "</div>"
      ],
      "text/plain": [
       "   stay_id state_change  los_saaki         stayid_state\n",
       "0        5           CB       10.0  Full renal recovery"
      ]
     },
     "execution_count": 11,
     "metadata": {},
     "output_type": "execute_result"
    }
   ],
   "source": [
    "df_ = df_cut[[\"stay_id\",\"state_change\"]].drop_duplicates()\n",
    "df_ = pd.merge(df_,df_time[[\"stay_id\",\"los_saaki\"]],how=\"inner\",on=\"stay_id\")\n",
    "\n",
    "df_.loc[(df_[\"state_change\"]==\"CB\"),\"stayid_state\"] = \"Full renal recovery\"\n",
    "df_.loc[(df_[\"state_change\"]==\"PB\"),\"stayid_state\"] = \"Partial renal recovery\"\n",
    "df_.loc[(df_[\"state_change\"]==\"W\"),\"stayid_state\"] = \"Worsening renal function\"\n",
    "df_.loc[(df_[\"state_change\"]==\"S\"),\"stayid_state\"] = \"Worsening renal function\" #\"Persistent AKI with steady renal function\"\n",
    "df_stayid_s = df_\n",
    "df_stayid_s.head(1)"
   ]
  },
  {
   "cell_type": "code",
   "execution_count": 12,
   "id": "e6c47f34",
   "metadata": {
    "ExecuteTime": {
     "end_time": "2024-03-22T13:54:53.036487Z",
     "start_time": "2024-03-22T13:54:53.034783Z"
    }
   },
   "outputs": [
    {
     "name": "stderr",
     "output_type": "stream",
     "text": [
      "/home/hanl/miniconda3/envs/mytensor/lib/python3.9/site-packages/ipykernel/ipkernel.py:287: DeprecationWarning: `should_run_async` will not call `transform_cell` automatically in the future. Please pass the result to `transformed_cell` argument and any exception that happen during thetransform in `preprocessing_exc_tuple` in IPython 7.17 and above.\n",
      "  and should_run_async(code)\n"
     ]
    }
   ],
   "source": [
    "# # 一些插过来的统计\n",
    "# df_stage = pd.read_csv(\"/public/hanl/jupyter_dir/kidney_sepsis_penotype_v3/00.data_aumc///disease_definition/AKI/aumc_first_and_max_stage.csv\")\n",
    "# df_stage = pd.merge(df_stage,df_type_filt,how=\"inner\",on=\"stay_id\")\n",
    "\n",
    "# stage3_lst = df_stage[(df_stage[\"groupHPD\"].isin([1,2]))][\"stay_id\"] #(df_stage[\"first_aki_stage\"].isin([2,3])) & \n",
    "# print(len(stage3_lst),len(stage3_lst)/df_stage.shape[0])\n",
    "\n",
    "# tmp_df = pd.DataFrame(df_stayid_s[df_stayid_s[\"stay_id\"].isin(stage3_lst)].stayid_state.value_counts())\n",
    "# tmp_df[\"stage23\"] = len(stage3_lst)\n",
    "# tmp_df[\"percent\"] = tmp_df[\"stayid_state\"]/tmp_df[\"stage23\"]\n",
    "# tmp_df"
   ]
  },
  {
   "cell_type": "code",
   "execution_count": 14,
   "id": "dd0e4a5c",
   "metadata": {
    "ExecuteTime": {
     "end_time": "2024-03-22T13:54:53.060416Z",
     "start_time": "2024-03-22T13:54:53.045355Z"
    }
   },
   "outputs": [
    {
     "name": "stderr",
     "output_type": "stream",
     "text": [
      "/home/hanl/miniconda3/envs/mytensor/lib/python3.9/site-packages/ipykernel/ipkernel.py:287: DeprecationWarning: `should_run_async` will not call `transform_cell` automatically in the future. Please pass the result to `transformed_cell` argument and any exception that happen during thetransform in `preprocessing_exc_tuple` in IPython 7.17 and above.\n",
      "  and should_run_async(code)\n"
     ]
    },
    {
     "data": {
      "text/html": [
       "<div>\n",
       "<style scoped>\n",
       "    .dataframe tbody tr th:only-of-type {\n",
       "        vertical-align: middle;\n",
       "    }\n",
       "\n",
       "    .dataframe tbody tr th {\n",
       "        vertical-align: top;\n",
       "    }\n",
       "\n",
       "    .dataframe thead th {\n",
       "        text-align: right;\n",
       "    }\n",
       "</style>\n",
       "<table border=\"1\" class=\"dataframe\">\n",
       "  <thead>\n",
       "    <tr style=\"text-align: right;\">\n",
       "      <th></th>\n",
       "      <th>groupHPD</th>\n",
       "      <th>stayid_state</th>\n",
       "      <th>stay_id</th>\n",
       "      <th>count_all</th>\n",
       "      <th>percent(%)</th>\n",
       "    </tr>\n",
       "  </thead>\n",
       "  <tbody>\n",
       "    <tr>\n",
       "      <th>0</th>\n",
       "      <td>1</td>\n",
       "      <td>Full renal recovery</td>\n",
       "      <td>289</td>\n",
       "      <td>564</td>\n",
       "      <td>51.24</td>\n",
       "    </tr>\n",
       "    <tr>\n",
       "      <th>1</th>\n",
       "      <td>1</td>\n",
       "      <td>Partial renal recovery</td>\n",
       "      <td>209</td>\n",
       "      <td>564</td>\n",
       "      <td>37.06</td>\n",
       "    </tr>\n",
       "    <tr>\n",
       "      <th>2</th>\n",
       "      <td>1</td>\n",
       "      <td>Worsening renal function</td>\n",
       "      <td>66</td>\n",
       "      <td>564</td>\n",
       "      <td>11.70</td>\n",
       "    </tr>\n",
       "    <tr>\n",
       "      <th>3</th>\n",
       "      <td>2</td>\n",
       "      <td>Full renal recovery</td>\n",
       "      <td>1152</td>\n",
       "      <td>1400</td>\n",
       "      <td>82.29</td>\n",
       "    </tr>\n",
       "    <tr>\n",
       "      <th>4</th>\n",
       "      <td>2</td>\n",
       "      <td>Partial renal recovery</td>\n",
       "      <td>126</td>\n",
       "      <td>1400</td>\n",
       "      <td>9.00</td>\n",
       "    </tr>\n",
       "    <tr>\n",
       "      <th>5</th>\n",
       "      <td>2</td>\n",
       "      <td>Worsening renal function</td>\n",
       "      <td>116</td>\n",
       "      <td>1400</td>\n",
       "      <td>8.29</td>\n",
       "    </tr>\n",
       "    <tr>\n",
       "      <th>6</th>\n",
       "      <td>3</td>\n",
       "      <td>Full renal recovery</td>\n",
       "      <td>31</td>\n",
       "      <td>219</td>\n",
       "      <td>14.16</td>\n",
       "    </tr>\n",
       "    <tr>\n",
       "      <th>7</th>\n",
       "      <td>3</td>\n",
       "      <td>Partial renal recovery</td>\n",
       "      <td>61</td>\n",
       "      <td>219</td>\n",
       "      <td>27.85</td>\n",
       "    </tr>\n",
       "    <tr>\n",
       "      <th>8</th>\n",
       "      <td>3</td>\n",
       "      <td>Worsening renal function</td>\n",
       "      <td>127</td>\n",
       "      <td>219</td>\n",
       "      <td>57.99</td>\n",
       "    </tr>\n",
       "  </tbody>\n",
       "</table>\n",
       "</div>"
      ],
      "text/plain": [
       "   groupHPD              stayid_state  stay_id  count_all  percent(%)\n",
       "0         1       Full renal recovery      289        564       51.24\n",
       "1         1    Partial renal recovery      209        564       37.06\n",
       "2         1  Worsening renal function       66        564       11.70\n",
       "3         2       Full renal recovery     1152       1400       82.29\n",
       "4         2    Partial renal recovery      126       1400        9.00\n",
       "5         2  Worsening renal function      116       1400        8.29\n",
       "6         3       Full renal recovery       31        219       14.16\n",
       "7         3    Partial renal recovery       61        219       27.85\n",
       "8         3  Worsening renal function      127        219       57.99"
      ]
     },
     "execution_count": 14,
     "metadata": {},
     "output_type": "execute_result"
    }
   ],
   "source": [
    "df_count_all = pd.DataFrame(df_type_filt[\"groupHPD\"].value_counts()).reset_index()\n",
    "df_count_all.columns = [\"groupHPD\", \"count_all\"]\n",
    "\n",
    "tmp_df = pd.merge(df_stayid_s,df_type_filt, how=\"inner\",on=\"stay_id\")\n",
    "tmp_df = tmp_df.groupby([\"groupHPD\",\"stayid_state\"]).agg({\"stay_id\":\"count\"}).reset_index()\n",
    "tmp_df = pd.merge(tmp_df,df_count_all, how=\"inner\",on=\"groupHPD\")\n",
    "tmp_df[\"percent(%)\"] = round(tmp_df[\"stay_id\"]/tmp_df[\"count_all\"]*100,2)\n",
    "tmp_df.sort_values([\"groupHPD\",'stayid_state'])"
   ]
  },
  {
   "cell_type": "code",
   "execution_count": 15,
   "id": "6088b9e5",
   "metadata": {
    "ExecuteTime": {
     "end_time": "2024-03-22T13:54:53.069489Z",
     "start_time": "2024-03-22T13:54:53.061303Z"
    }
   },
   "outputs": [
    {
     "name": "stderr",
     "output_type": "stream",
     "text": [
      "/home/hanl/miniconda3/envs/mytensor/lib/python3.9/site-packages/ipykernel/ipkernel.py:287: DeprecationWarning: `should_run_async` will not call `transform_cell` automatically in the future. Please pass the result to `transformed_cell` argument and any exception that happen during thetransform in `preprocessing_exc_tuple` in IPython 7.17 and above.\n",
      "  and should_run_async(code)\n"
     ]
    },
    {
     "data": {
      "text/html": [
       "<div>\n",
       "<style scoped>\n",
       "    .dataframe tbody tr th:only-of-type {\n",
       "        vertical-align: middle;\n",
       "    }\n",
       "\n",
       "    .dataframe tbody tr th {\n",
       "        vertical-align: top;\n",
       "    }\n",
       "\n",
       "    .dataframe thead th {\n",
       "        text-align: right;\n",
       "    }\n",
       "</style>\n",
       "<table border=\"1\" class=\"dataframe\">\n",
       "  <thead>\n",
       "    <tr style=\"text-align: right;\">\n",
       "      <th></th>\n",
       "      <th>groupHPD</th>\n",
       "      <th>stayid_state</th>\n",
       "      <th>stay_id</th>\n",
       "      <th>count_all</th>\n",
       "      <th>percent(%)</th>\n",
       "      <th>dataset</th>\n",
       "    </tr>\n",
       "  </thead>\n",
       "  <tbody>\n",
       "    <tr>\n",
       "      <th>0</th>\n",
       "      <td>1</td>\n",
       "      <td>Full renal recovery</td>\n",
       "      <td>289</td>\n",
       "      <td>564</td>\n",
       "      <td>51.24</td>\n",
       "      <td>AUMCdb</td>\n",
       "    </tr>\n",
       "    <tr>\n",
       "      <th>1</th>\n",
       "      <td>1</td>\n",
       "      <td>Partial renal recovery</td>\n",
       "      <td>209</td>\n",
       "      <td>564</td>\n",
       "      <td>37.06</td>\n",
       "      <td>AUMCdb</td>\n",
       "    </tr>\n",
       "    <tr>\n",
       "      <th>2</th>\n",
       "      <td>1</td>\n",
       "      <td>Worsening renal function</td>\n",
       "      <td>66</td>\n",
       "      <td>564</td>\n",
       "      <td>11.70</td>\n",
       "      <td>AUMCdb</td>\n",
       "    </tr>\n",
       "    <tr>\n",
       "      <th>3</th>\n",
       "      <td>2</td>\n",
       "      <td>Full renal recovery</td>\n",
       "      <td>1152</td>\n",
       "      <td>1400</td>\n",
       "      <td>82.29</td>\n",
       "      <td>AUMCdb</td>\n",
       "    </tr>\n",
       "    <tr>\n",
       "      <th>4</th>\n",
       "      <td>2</td>\n",
       "      <td>Partial renal recovery</td>\n",
       "      <td>126</td>\n",
       "      <td>1400</td>\n",
       "      <td>9.00</td>\n",
       "      <td>AUMCdb</td>\n",
       "    </tr>\n",
       "    <tr>\n",
       "      <th>5</th>\n",
       "      <td>2</td>\n",
       "      <td>Worsening renal function</td>\n",
       "      <td>116</td>\n",
       "      <td>1400</td>\n",
       "      <td>8.29</td>\n",
       "      <td>AUMCdb</td>\n",
       "    </tr>\n",
       "    <tr>\n",
       "      <th>6</th>\n",
       "      <td>3</td>\n",
       "      <td>Full renal recovery</td>\n",
       "      <td>31</td>\n",
       "      <td>219</td>\n",
       "      <td>14.16</td>\n",
       "      <td>AUMCdb</td>\n",
       "    </tr>\n",
       "    <tr>\n",
       "      <th>7</th>\n",
       "      <td>3</td>\n",
       "      <td>Partial renal recovery</td>\n",
       "      <td>61</td>\n",
       "      <td>219</td>\n",
       "      <td>27.85</td>\n",
       "      <td>AUMCdb</td>\n",
       "    </tr>\n",
       "    <tr>\n",
       "      <th>8</th>\n",
       "      <td>3</td>\n",
       "      <td>Worsening renal function</td>\n",
       "      <td>127</td>\n",
       "      <td>219</td>\n",
       "      <td>57.99</td>\n",
       "      <td>AUMCdb</td>\n",
       "    </tr>\n",
       "  </tbody>\n",
       "</table>\n",
       "</div>"
      ],
      "text/plain": [
       "   groupHPD              stayid_state  stay_id  count_all  percent(%) dataset\n",
       "0         1       Full renal recovery      289        564       51.24  AUMCdb\n",
       "1         1    Partial renal recovery      209        564       37.06  AUMCdb\n",
       "2         1  Worsening renal function       66        564       11.70  AUMCdb\n",
       "3         2       Full renal recovery     1152       1400       82.29  AUMCdb\n",
       "4         2    Partial renal recovery      126       1400        9.00  AUMCdb\n",
       "5         2  Worsening renal function      116       1400        8.29  AUMCdb\n",
       "6         3       Full renal recovery       31        219       14.16  AUMCdb\n",
       "7         3    Partial renal recovery       61        219       27.85  AUMCdb\n",
       "8         3  Worsening renal function      127        219       57.99  AUMCdb"
      ]
     },
     "execution_count": 15,
     "metadata": {},
     "output_type": "execute_result"
    }
   ],
   "source": [
    "tmp_df[\"dataset\"] = \"AUMCdb\"\n",
    "tmp_df.to_csv(\"./result/AUMCdb_renal_recovery_extent.csv\",index=False)\n",
    "tmp_df"
   ]
  },
  {
   "cell_type": "markdown",
   "id": "1cb87661",
   "metadata": {},
   "source": [
    "# 恢复模式判定-时间\n"
   ]
  },
  {
   "cell_type": "code",
   "execution_count": 16,
   "id": "d5a28d21",
   "metadata": {
    "ExecuteTime": {
     "end_time": "2024-03-22T13:54:53.086903Z",
     "start_time": "2024-03-22T13:54:53.070364Z"
    }
   },
   "outputs": [
    {
     "name": "stderr",
     "output_type": "stream",
     "text": [
      "/home/hanl/miniconda3/envs/mytensor/lib/python3.9/site-packages/ipykernel/ipkernel.py:287: DeprecationWarning: `should_run_async` will not call `transform_cell` automatically in the future. Please pass the result to `transformed_cell` argument and any exception that happen during thetransform in `preprocessing_exc_tuple` in IPython 7.17 and above.\n",
      "  and should_run_async(code)\n"
     ]
    },
    {
     "data": {
      "text/html": [
       "<div>\n",
       "<style scoped>\n",
       "    .dataframe tbody tr th:only-of-type {\n",
       "        vertical-align: middle;\n",
       "    }\n",
       "\n",
       "    .dataframe tbody tr th {\n",
       "        vertical-align: top;\n",
       "    }\n",
       "\n",
       "    .dataframe thead th {\n",
       "        text-align: right;\n",
       "    }\n",
       "</style>\n",
       "<table border=\"1\" class=\"dataframe\">\n",
       "  <thead>\n",
       "    <tr style=\"text-align: right;\">\n",
       "      <th></th>\n",
       "      <th>stay_id</th>\n",
       "      <th>state_change</th>\n",
       "      <th>los_saaki</th>\n",
       "      <th>stayid_state</th>\n",
       "    </tr>\n",
       "  </thead>\n",
       "  <tbody>\n",
       "    <tr>\n",
       "      <th>0</th>\n",
       "      <td>5</td>\n",
       "      <td>CB</td>\n",
       "      <td>10.0</td>\n",
       "      <td>Transient AKI</td>\n",
       "    </tr>\n",
       "  </tbody>\n",
       "</table>\n",
       "</div>"
      ],
      "text/plain": [
       "   stay_id state_change  los_saaki   stayid_state\n",
       "0        5           CB       10.0  Transient AKI"
      ]
     },
     "execution_count": 16,
     "metadata": {},
     "output_type": "execute_result"
    }
   ],
   "source": [
    "df_ = df_cut[[\"stay_id\",\"state_change\"]].drop_duplicates()\n",
    "df_ = pd.merge(df_,df_time[[\"stay_id\",\"los_saaki\"]],how=\"inner\",on=\"stay_id\")\n",
    "\n",
    "df_.loc[(df_[\"state_change\"]==\"CB\") & (df_[\"los_saaki\"]<=48),\"stayid_state\"] = \"Transient AKI\"\n",
    "df_.loc[(df_[\"state_change\"]==\"CB\") & (df_[\"los_saaki\"]>48),\"stayid_state\"] = \"Persistent AKI\"\n",
    "df_.loc[(df_[\"state_change\"]==\"PB\"),\"stayid_state\"] = \"Persistent AKI\"\n",
    "df_.loc[(df_[\"state_change\"]==\"W\"),\"stayid_state\"] = \"Persistent AKI\"\n",
    "df_.loc[(df_[\"state_change\"]==\"S\"),\"stayid_state\"] = \"Persistent AKI\" #\"Persistent AKI with steady renal function\"\n",
    "df_stayid_s = df_\n",
    "df_stayid_s.head(1)"
   ]
  },
  {
   "cell_type": "code",
   "execution_count": 17,
   "id": "842de3ed",
   "metadata": {
    "ExecuteTime": {
     "end_time": "2024-03-22T13:54:53.102311Z",
     "start_time": "2024-03-22T13:54:53.087764Z"
    }
   },
   "outputs": [
    {
     "name": "stderr",
     "output_type": "stream",
     "text": [
      "/home/hanl/miniconda3/envs/mytensor/lib/python3.9/site-packages/ipykernel/ipkernel.py:287: DeprecationWarning: `should_run_async` will not call `transform_cell` automatically in the future. Please pass the result to `transformed_cell` argument and any exception that happen during thetransform in `preprocessing_exc_tuple` in IPython 7.17 and above.\n",
      "  and should_run_async(code)\n"
     ]
    },
    {
     "data": {
      "text/html": [
       "<div>\n",
       "<style scoped>\n",
       "    .dataframe tbody tr th:only-of-type {\n",
       "        vertical-align: middle;\n",
       "    }\n",
       "\n",
       "    .dataframe tbody tr th {\n",
       "        vertical-align: top;\n",
       "    }\n",
       "\n",
       "    .dataframe thead th {\n",
       "        text-align: right;\n",
       "    }\n",
       "</style>\n",
       "<table border=\"1\" class=\"dataframe\">\n",
       "  <thead>\n",
       "    <tr style=\"text-align: right;\">\n",
       "      <th></th>\n",
       "      <th>groupHPD</th>\n",
       "      <th>stayid_state</th>\n",
       "      <th>stay_id</th>\n",
       "      <th>count_all</th>\n",
       "      <th>percent(%)</th>\n",
       "    </tr>\n",
       "  </thead>\n",
       "  <tbody>\n",
       "    <tr>\n",
       "      <th>0</th>\n",
       "      <td>1</td>\n",
       "      <td>Persistent AKI</td>\n",
       "      <td>422</td>\n",
       "      <td>564</td>\n",
       "      <td>74.82</td>\n",
       "    </tr>\n",
       "    <tr>\n",
       "      <th>1</th>\n",
       "      <td>1</td>\n",
       "      <td>Transient AKI</td>\n",
       "      <td>142</td>\n",
       "      <td>564</td>\n",
       "      <td>25.18</td>\n",
       "    </tr>\n",
       "    <tr>\n",
       "      <th>2</th>\n",
       "      <td>2</td>\n",
       "      <td>Persistent AKI</td>\n",
       "      <td>721</td>\n",
       "      <td>1400</td>\n",
       "      <td>51.50</td>\n",
       "    </tr>\n",
       "    <tr>\n",
       "      <th>3</th>\n",
       "      <td>2</td>\n",
       "      <td>Transient AKI</td>\n",
       "      <td>673</td>\n",
       "      <td>1400</td>\n",
       "      <td>48.07</td>\n",
       "    </tr>\n",
       "    <tr>\n",
       "      <th>4</th>\n",
       "      <td>3</td>\n",
       "      <td>Persistent AKI</td>\n",
       "      <td>202</td>\n",
       "      <td>219</td>\n",
       "      <td>92.24</td>\n",
       "    </tr>\n",
       "    <tr>\n",
       "      <th>5</th>\n",
       "      <td>3</td>\n",
       "      <td>Transient AKI</td>\n",
       "      <td>17</td>\n",
       "      <td>219</td>\n",
       "      <td>7.76</td>\n",
       "    </tr>\n",
       "  </tbody>\n",
       "</table>\n",
       "</div>"
      ],
      "text/plain": [
       "   groupHPD    stayid_state  stay_id  count_all  percent(%)\n",
       "0         1  Persistent AKI      422        564       74.82\n",
       "1         1   Transient AKI      142        564       25.18\n",
       "2         2  Persistent AKI      721       1400       51.50\n",
       "3         2   Transient AKI      673       1400       48.07\n",
       "4         3  Persistent AKI      202        219       92.24\n",
       "5         3   Transient AKI       17        219        7.76"
      ]
     },
     "execution_count": 17,
     "metadata": {},
     "output_type": "execute_result"
    }
   ],
   "source": [
    "df_count_all = pd.DataFrame(df_type_filt[\"groupHPD\"].value_counts()).reset_index()\n",
    "df_count_all.columns = [\"groupHPD\", \"count_all\"]\n",
    "\n",
    "tmp_df = pd.merge(df_stayid_s,df_type_filt, how=\"inner\",on=\"stay_id\")\n",
    "tmp_df = tmp_df.groupby([\"groupHPD\",\"stayid_state\"]).agg({\"stay_id\":\"count\"}).reset_index()\n",
    "tmp_df = pd.merge(tmp_df,df_count_all, how=\"inner\",on=\"groupHPD\")\n",
    "tmp_df[\"percent(%)\"] = round(tmp_df[\"stay_id\"]/tmp_df[\"count_all\"]*100,2)\n",
    "tmp_df.sort_values([\"groupHPD\",'stayid_state'])"
   ]
  },
  {
   "cell_type": "code",
   "execution_count": 18,
   "id": "96e616b4",
   "metadata": {
    "ExecuteTime": {
     "end_time": "2024-03-22T13:54:53.110951Z",
     "start_time": "2024-03-22T13:54:53.103189Z"
    }
   },
   "outputs": [
    {
     "name": "stderr",
     "output_type": "stream",
     "text": [
      "/home/hanl/miniconda3/envs/mytensor/lib/python3.9/site-packages/ipykernel/ipkernel.py:287: DeprecationWarning: `should_run_async` will not call `transform_cell` automatically in the future. Please pass the result to `transformed_cell` argument and any exception that happen during thetransform in `preprocessing_exc_tuple` in IPython 7.17 and above.\n",
      "  and should_run_async(code)\n"
     ]
    },
    {
     "data": {
      "text/html": [
       "<div>\n",
       "<style scoped>\n",
       "    .dataframe tbody tr th:only-of-type {\n",
       "        vertical-align: middle;\n",
       "    }\n",
       "\n",
       "    .dataframe tbody tr th {\n",
       "        vertical-align: top;\n",
       "    }\n",
       "\n",
       "    .dataframe thead th {\n",
       "        text-align: right;\n",
       "    }\n",
       "</style>\n",
       "<table border=\"1\" class=\"dataframe\">\n",
       "  <thead>\n",
       "    <tr style=\"text-align: right;\">\n",
       "      <th></th>\n",
       "      <th>groupHPD</th>\n",
       "      <th>stayid_state</th>\n",
       "      <th>stay_id</th>\n",
       "      <th>count_all</th>\n",
       "      <th>percent(%)</th>\n",
       "      <th>dataset</th>\n",
       "    </tr>\n",
       "  </thead>\n",
       "  <tbody>\n",
       "    <tr>\n",
       "      <th>0</th>\n",
       "      <td>1</td>\n",
       "      <td>Persistent AKI</td>\n",
       "      <td>422</td>\n",
       "      <td>564</td>\n",
       "      <td>74.82</td>\n",
       "      <td>AUMCdb</td>\n",
       "    </tr>\n",
       "    <tr>\n",
       "      <th>1</th>\n",
       "      <td>1</td>\n",
       "      <td>Transient AKI</td>\n",
       "      <td>142</td>\n",
       "      <td>564</td>\n",
       "      <td>25.18</td>\n",
       "      <td>AUMCdb</td>\n",
       "    </tr>\n",
       "    <tr>\n",
       "      <th>2</th>\n",
       "      <td>2</td>\n",
       "      <td>Persistent AKI</td>\n",
       "      <td>721</td>\n",
       "      <td>1400</td>\n",
       "      <td>51.50</td>\n",
       "      <td>AUMCdb</td>\n",
       "    </tr>\n",
       "    <tr>\n",
       "      <th>3</th>\n",
       "      <td>2</td>\n",
       "      <td>Transient AKI</td>\n",
       "      <td>673</td>\n",
       "      <td>1400</td>\n",
       "      <td>48.07</td>\n",
       "      <td>AUMCdb</td>\n",
       "    </tr>\n",
       "    <tr>\n",
       "      <th>4</th>\n",
       "      <td>3</td>\n",
       "      <td>Persistent AKI</td>\n",
       "      <td>202</td>\n",
       "      <td>219</td>\n",
       "      <td>92.24</td>\n",
       "      <td>AUMCdb</td>\n",
       "    </tr>\n",
       "    <tr>\n",
       "      <th>5</th>\n",
       "      <td>3</td>\n",
       "      <td>Transient AKI</td>\n",
       "      <td>17</td>\n",
       "      <td>219</td>\n",
       "      <td>7.76</td>\n",
       "      <td>AUMCdb</td>\n",
       "    </tr>\n",
       "  </tbody>\n",
       "</table>\n",
       "</div>"
      ],
      "text/plain": [
       "   groupHPD    stayid_state  stay_id  count_all  percent(%) dataset\n",
       "0         1  Persistent AKI      422        564       74.82  AUMCdb\n",
       "1         1   Transient AKI      142        564       25.18  AUMCdb\n",
       "2         2  Persistent AKI      721       1400       51.50  AUMCdb\n",
       "3         2   Transient AKI      673       1400       48.07  AUMCdb\n",
       "4         3  Persistent AKI      202        219       92.24  AUMCdb\n",
       "5         3   Transient AKI       17        219        7.76  AUMCdb"
      ]
     },
     "execution_count": 18,
     "metadata": {},
     "output_type": "execute_result"
    }
   ],
   "source": [
    "tmp_df[\"dataset\"] = \"AUMCdb\"\n",
    "tmp_df.to_csv(\"./result/AUMCdb_renal_recovery_time.csv\",index=False)\n",
    "tmp_df"
   ]
  }
 ],
 "metadata": {
  "kernelspec": {
   "display_name": "Python [conda env:mytensor]",
   "language": "python",
   "name": "conda-env-mytensor-py"
  },
  "language_info": {
   "codemirror_mode": {
    "name": "ipython",
    "version": 3
   },
   "file_extension": ".py",
   "mimetype": "text/x-python",
   "name": "python",
   "nbconvert_exporter": "python",
   "pygments_lexer": "ipython3",
   "version": "3.9.12"
  },
  "toc": {
   "base_numbering": 1,
   "nav_menu": {},
   "number_sections": true,
   "sideBar": true,
   "skip_h1_title": false,
   "title_cell": "Table of Contents",
   "title_sidebar": "Contents",
   "toc_cell": false,
   "toc_position": {
    "height": "calc(100% - 180px)",
    "left": "10px",
    "top": "150px",
    "width": "164.987px"
   },
   "toc_section_display": true,
   "toc_window_display": true
  },
  "varInspector": {
   "cols": {
    "lenName": 16,
    "lenType": 16,
    "lenVar": 40
   },
   "kernels_config": {
    "python": {
     "delete_cmd_postfix": "",
     "delete_cmd_prefix": "del ",
     "library": "var_list.py",
     "varRefreshCmd": "print(var_dic_list())"
    },
    "r": {
     "delete_cmd_postfix": ") ",
     "delete_cmd_prefix": "rm(",
     "library": "var_list.r",
     "varRefreshCmd": "cat(var_dic_list()) "
    }
   },
   "types_to_exclude": [
    "module",
    "function",
    "builtin_function_or_method",
    "instance",
    "_Feature"
   ],
   "window_display": false
  }
 },
 "nbformat": 4,
 "nbformat_minor": 5
}
