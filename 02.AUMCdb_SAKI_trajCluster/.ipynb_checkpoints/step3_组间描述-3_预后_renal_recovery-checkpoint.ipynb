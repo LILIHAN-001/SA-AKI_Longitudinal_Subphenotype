{
 "cells": [
  {
   "cell_type": "markdown",
   "id": "ea7f2482",
   "metadata": {},
   "source": [
    "# def"
   ]
  },
  {
   "cell_type": "code",
   "execution_count": 1,
   "id": "8afe3825",
   "metadata": {
    "ExecuteTime": {
     "end_time": "2023-04-28T01:47:41.917840Z",
     "start_time": "2023-04-28T01:47:40.567925Z"
    }
   },
   "outputs": [],
   "source": [
    "import pandas as pd\n",
    "import time\n",
    "import numpy as np\n",
    "import matplotlib.pyplot as plt\n",
    "pd.options.display.max_rows = 300\n",
    "import math\n",
    "import datetime as dt\n",
    "from tableone import TableOne, load_dataset\n",
    "import itertools\n",
    "import random\n",
    "import scipy.stats as stats"
   ]
  },
  {
   "cell_type": "code",
   "execution_count": 2,
   "id": "f649a5a9",
   "metadata": {
    "ExecuteTime": {
     "end_time": "2023-02-28T07:32:24.227071Z",
     "start_time": "2023-02-28T07:32:23.706594Z"
    }
   },
   "outputs": [
    {
     "name": "stderr",
     "output_type": "stream",
     "text": [
      "/home/hanl/miniconda3/envs/mytensor/lib/python3.9/site-packages/ipykernel/ipkernel.py:287: DeprecationWarning: `should_run_async` will not call `transform_cell` automatically in the future. Please pass the result to `transformed_cell` argument and any exception that happen during thetransform in `preprocessing_exc_tuple` in IPython 7.17 and above.\n",
      "  and should_run_async(code)\n"
     ]
    },
    {
     "name": "stdout",
     "output_type": "stream",
     "text": [
      "纳入患者数量： 5432\n"
     ]
    },
    {
     "data": {
      "text/plain": [
       "2    3463\n",
       "1    1382\n",
       "3     587\n",
       "Name: groupHPD, dtype: int64"
      ]
     },
     "execution_count": 2,
     "metadata": {},
     "output_type": "execute_result"
    }
   ],
   "source": [
    "df_type = pd.read_csv(\"df_mixAK_fea3_C3_aumc.csv\")\n",
    "df_type_filt = df_type.loc[:,[\"stay_id\",\"groupHPD\"]]\n",
    "df_type_filt = df_type_filt.drop_duplicates()\n",
    "all_lst = df_type_filt.stay_id.unique().tolist()\n",
    "print(\"纳入患者数量：\",len(all_lst))\n",
    "\n",
    "df_type_filt[\"groupHPD\"].value_counts()"
   ]
  },
  {
   "cell_type": "markdown",
   "id": "a67e1cd4",
   "metadata": {},
   "source": [
    "# 定义恢复模式\n",
    "先判断一下每个时间的肾脏情况，再考虑时间来综合判断恢复模式\n",
    "\n",
    "肾脏情况判定：\n",
    "- 尿量不满足KDIGO AKI 定义时，判定为完全恢复C(complete recovery)\n",
    "- 肌酐不满足KDIGO AKI 定义时，判定为完全恢复C(complete recovery)\n",
    "- 否则都为尚未恢复P (partial)\n",
    "\n",
    "- 肌酐在基线肌酐的30%内时，判定为完全恢复\n",
    "\n",
    "恢复模式判定：\n",
    "- 快速恢复QR，3天内恢复(quick recovery ) \n",
    "- 缓慢恢复SR，7天内恢复（slow recovery） \n",
    "- 恶化W（worse） \n",
    "- 恢复指连续5个点 \"不满足AKI定义的数量\" 大于 \"满足AKI定义的数量\"\n"
   ]
  },
  {
   "cell_type": "markdown",
   "id": "d67d8521",
   "metadata": {},
   "source": [
    "## 肾脏情况判定"
   ]
  },
  {
   "cell_type": "markdown",
   "id": "96cb4e0f",
   "metadata": {},
   "source": [
    "### 获取数据-肌酐、uo，aki stage"
   ]
  },
  {
   "cell_type": "code",
   "execution_count": 7,
   "id": "b13c0598",
   "metadata": {
    "ExecuteTime": {
     "end_time": "2023-02-28T07:32:53.427956Z",
     "start_time": "2023-02-28T07:32:53.414666Z"
    },
    "scrolled": false
   },
   "outputs": [
    {
     "name": "stderr",
     "output_type": "stream",
     "text": [
      "/home/hanl/miniconda3/envs/mytensor/lib/python3.9/site-packages/ipykernel/ipkernel.py:287: DeprecationWarning: `should_run_async` will not call `transform_cell` automatically in the future. Please pass the result to `transformed_cell` argument and any exception that happen during thetransform in `preprocessing_exc_tuple` in IPython 7.17 and above.\n",
      "  and should_run_async(code)\n"
     ]
    }
   ],
   "source": [
    "## 基于尿量判定肾脏情况\n",
    "#df[\"state_uo\"] = \"P\"\n",
    "df.loc[df[\"aki_stage_uo\"]==0,\"state_uo\"] = \"C\"\n",
    "df.loc[df[\"aki_stage_uo\"].isin([1,2,3]),\"state_uo\"] = \"P\""
   ]
  },
  {
   "cell_type": "code",
   "execution_count": null,
   "id": "65902c53",
   "metadata": {
    "ExecuteTime": {
     "end_time": "2023-02-28T07:32:41.927820Z",
     "start_time": "2023-02-28T07:27:32.684Z"
    }
   },
   "outputs": [],
   "source": [
    "# ## 基于肌酐判定 V1\n",
    "# # 定义肌酐完全恢复的范围 Complete\n",
    "# change_range = 0.3\n",
    "# df[\"baseline_cre_up\"] = df[\"baseline_cre\"] + df[\"baseline_cre\"] * change_range\n",
    "# df[\"baseline_cre_down\"] = df[\"baseline_cre\"] - df[\"baseline_cre\"] * change_range\n",
    "# df.loc[((df[\"creatinine\"] <= df[\"baseline_cre_up\"]) & (df[\"creatinine\"] >= df[\"baseline_cre_down\"])), \"state_crea\"] = \"C\"\n",
    "# df.loc[((df[\"creatinine\"] > df[\"baseline_cre_up\"]) | (df[\"creatinine\"] < df[\"baseline_cre_down\"])), \"state_crea\"] = \"P\"\n",
    "\n",
    "\n",
    "## 基于肌酐判定肾脏情况 V2\n",
    "df.loc[df[\"aki_stage_creat\"].isin([1,2,3]),\"state_crea\"] = \"P\"\n",
    "df.loc[df[\"aki_stage_creat\"]==0,\"state_crea\"] = \"C\""
   ]
  },
  {
   "cell_type": "code",
   "execution_count": 10,
   "id": "c38c0635",
   "metadata": {
    "ExecuteTime": {
     "end_time": "2023-02-28T07:33:35.295702Z",
     "start_time": "2023-02-28T07:33:35.280214Z"
    }
   },
   "outputs": [
    {
     "name": "stderr",
     "output_type": "stream",
     "text": [
      "/home/hanl/miniconda3/envs/mytensor/lib/python3.9/site-packages/ipykernel/ipkernel.py:287: DeprecationWarning: `should_run_async` will not call `transform_cell` automatically in the future. Please pass the result to `transformed_cell` argument and any exception that happen during thetransform in `preprocessing_exc_tuple` in IPython 7.17 and above.\n",
      "  and should_run_async(code)\n"
     ]
    }
   ],
   "source": [
    "# use this\n",
    "#合并 V2\n",
    "df[\"state_uo\"] = df[\"state_uo\"].fillna(method=\"ffill\")\n",
    "df[\"state_crea\"] = df[\"state_crea\"].fillna(method=\"ffill\")\n",
    "df[\"state_crea\"] = df[\"state_crea\"].fillna(method=\"bfill\")\n",
    "\n",
    "#合并 V1\n",
    "# df[\"state_uo\"].fillna(df[\"state_crea\"],inplace=True)\n",
    "# df[\"state_crea\"].fillna(df[\"state_uo\"],inplace=True)"
   ]
  },
  {
   "cell_type": "code",
   "execution_count": 14,
   "id": "c18fb245",
   "metadata": {
    "ExecuteTime": {
     "end_time": "2023-02-28T07:34:20.304645Z",
     "start_time": "2023-02-28T07:34:20.256336Z"
    },
    "run_control": {
     "marked": true
    }
   },
   "outputs": [
    {
     "name": "stderr",
     "output_type": "stream",
     "text": [
      "/home/hanl/miniconda3/envs/mytensor/lib/python3.9/site-packages/ipykernel/ipkernel.py:287: DeprecationWarning: `should_run_async` will not call `transform_cell` automatically in the future. Please pass the result to `transformed_cell` argument and any exception that happen during thetransform in `preprocessing_exc_tuple` in IPython 7.17 and above.\n",
      "  and should_run_async(code)\n"
     ]
    }
   ],
   "source": [
    "df.loc[df[\"state_uo\"]!=df[\"state_crea\"], \"state\"] = \"P\"\n",
    "df.loc[(df[\"state_uo\"]==df[\"state_crea\"]) & (df[\"state_uo\"]==\"P\"), \"state\"] = \"P\"\n",
    "df.loc[(df[\"state_uo\"]==df[\"state_crea\"]) & (df[\"state_uo\"]==\"C\"), \"state\"] = \"C\"\n",
    "\n",
    "#在30006565是一个好例子\n",
    "#30005085 为什么会被定义为AKI呢，变化趋势没有1.5倍的样子? by uo\n",
    "df_ = df.loc[:,[\"stay_id\",\"time\",\"state_uo\",\"state_crea\",\"state\",\"creatinine\",\"crea_divide_basecrea\",\"baseline_cre\",\"urineoutput\"]]"
   ]
  },
  {
   "cell_type": "markdown",
   "id": "6dcad943",
   "metadata": {},
   "source": [
    "## 恢复模式判定"
   ]
  },
  {
   "cell_type": "code",
   "execution_count": 67,
   "id": "17dc0eb4",
   "metadata": {
    "ExecuteTime": {
     "end_time": "2023-02-28T08:07:52.368597Z",
     "start_time": "2023-02-28T08:07:34.957558Z"
    },
    "run_control": {
     "marked": true
    }
   },
   "outputs": [
    {
     "name": "stderr",
     "output_type": "stream",
     "text": [
      "/home/hanl/miniconda3/envs/mytensor/lib/python3.9/site-packages/ipykernel/ipkernel.py:287: DeprecationWarning: `should_run_async` will not call `transform_cell` automatically in the future. Please pass the result to `transformed_cell` argument and any exception that happen during thetransform in `preprocessing_exc_tuple` in IPython 7.17 and above.\n",
      "  and should_run_async(code)\n"
     ]
    },
    {
     "data": {
      "text/plain": [
       "W     2183\n",
       "SR    1732\n",
       "QR    1517\n",
       "Name: stayid_state, dtype: int64"
      ]
     },
     "execution_count": 67,
     "metadata": {},
     "output_type": "execute_result"
    }
   ],
   "source": [
    "## 定义恢复模式\n",
    "# 快速恢复QR，48小时内恢复(quick recovery ) - 缓慢恢复SR，7天内恢复（slow recovery） - 恶化（worse） - 不清晰（unknow）\n",
    "def state_definition(d,t):\n",
    "    # 快速恢复\n",
    "    if max(d[\"time\"]) <= t and len(set(d[\"state\"][-5:].tolist())) ==1 and list(set(d[\"state\"][-5:].tolist()))[0] == \"C\":\n",
    "        s = \"QR\"\n",
    "    elif max(d[\"time\"]) > t and len(set(d[\"state\"][-5:].tolist())) ==1 and list(set(d[\"state\"][-5:].tolist()))[0] == \"C\":\n",
    "        s = \"SR\"\n",
    "    elif len(set(d[\"state\"][-5:].tolist())) ==1 and list(set(d[\"state\"][-5:].tolist()))[0] == \"P\":\n",
    "        s = \"W\"\n",
    "    elif max(d[\"time\"]) <= t and pd.DataFrame(d[\"state\"][-5:].value_counts().head(1)).index[0] == \"C\":\n",
    "        s = \"QR\"\n",
    "    elif max(d[\"time\"]) > t and pd.DataFrame(d[\"state\"][-5:].value_counts().head(1)).index[0] == \"C\":\n",
    "        s = \"SR\"\n",
    "    elif pd.DataFrame(d[\"state\"][-5:].value_counts().head(1)).index[0] == \"P\":\n",
    "        s = \"W\"\n",
    "    else:\n",
    "        s = \"unknow\"\n",
    "    return s\n",
    "\n",
    "## 得到每个stay_id的恢复模式\n",
    "df_stayid_s = pd.DataFrame(columns=[\"stay_id\",\"stayid_state\"])\n",
    "id_lst = df_.stay_id.unique()\n",
    "for id_ in id_lst:\n",
    "    d = df_[df_[\"stay_id\"]==id_]\n",
    "    stayid_s = state_definition(d,t=12)\n",
    "    df_stayid_s.loc[len(df_stayid_s)] = [id_, stayid_s]\n",
    "df_stayid_s[\"stayid_state\"].value_counts()"
   ]
  },
  {
   "cell_type": "code",
   "execution_count": 68,
   "id": "d86f72ad",
   "metadata": {
    "ExecuteTime": {
     "end_time": "2023-02-28T08:08:32.452746Z",
     "start_time": "2023-02-28T08:08:32.425760Z"
    },
    "scrolled": false
   },
   "outputs": [
    {
     "name": "stderr",
     "output_type": "stream",
     "text": [
      "/home/hanl/miniconda3/envs/mytensor/lib/python3.9/site-packages/ipykernel/ipkernel.py:287: DeprecationWarning: `should_run_async` will not call `transform_cell` automatically in the future. Please pass the result to `transformed_cell` argument and any exception that happen during thetransform in `preprocessing_exc_tuple` in IPython 7.17 and above.\n",
      "  and should_run_async(code)\n"
     ]
    },
    {
     "data": {
      "text/html": [
       "<div>\n",
       "<style scoped>\n",
       "    .dataframe tbody tr th:only-of-type {\n",
       "        vertical-align: middle;\n",
       "    }\n",
       "\n",
       "    .dataframe tbody tr th {\n",
       "        vertical-align: top;\n",
       "    }\n",
       "\n",
       "    .dataframe thead th {\n",
       "        text-align: right;\n",
       "    }\n",
       "</style>\n",
       "<table border=\"1\" class=\"dataframe\">\n",
       "  <thead>\n",
       "    <tr style=\"text-align: right;\">\n",
       "      <th></th>\n",
       "      <th>groupHPD</th>\n",
       "      <th>stayid_state</th>\n",
       "      <th>stay_id</th>\n",
       "      <th>count_all</th>\n",
       "      <th>percent(%)</th>\n",
       "    </tr>\n",
       "  </thead>\n",
       "  <tbody>\n",
       "    <tr>\n",
       "      <th>0</th>\n",
       "      <td>1</td>\n",
       "      <td>QR</td>\n",
       "      <td>506</td>\n",
       "      <td>1382</td>\n",
       "      <td>36.61</td>\n",
       "    </tr>\n",
       "    <tr>\n",
       "      <th>1</th>\n",
       "      <td>1</td>\n",
       "      <td>SR</td>\n",
       "      <td>437</td>\n",
       "      <td>1382</td>\n",
       "      <td>31.62</td>\n",
       "    </tr>\n",
       "    <tr>\n",
       "      <th>2</th>\n",
       "      <td>1</td>\n",
       "      <td>W</td>\n",
       "      <td>439</td>\n",
       "      <td>1382</td>\n",
       "      <td>31.77</td>\n",
       "    </tr>\n",
       "    <tr>\n",
       "      <th>3</th>\n",
       "      <td>2</td>\n",
       "      <td>QR</td>\n",
       "      <td>991</td>\n",
       "      <td>3463</td>\n",
       "      <td>28.62</td>\n",
       "    </tr>\n",
       "    <tr>\n",
       "      <th>4</th>\n",
       "      <td>2</td>\n",
       "      <td>SR</td>\n",
       "      <td>1266</td>\n",
       "      <td>3463</td>\n",
       "      <td>36.56</td>\n",
       "    </tr>\n",
       "    <tr>\n",
       "      <th>5</th>\n",
       "      <td>2</td>\n",
       "      <td>W</td>\n",
       "      <td>1206</td>\n",
       "      <td>3463</td>\n",
       "      <td>34.83</td>\n",
       "    </tr>\n",
       "    <tr>\n",
       "      <th>6</th>\n",
       "      <td>3</td>\n",
       "      <td>QR</td>\n",
       "      <td>20</td>\n",
       "      <td>587</td>\n",
       "      <td>3.41</td>\n",
       "    </tr>\n",
       "    <tr>\n",
       "      <th>7</th>\n",
       "      <td>3</td>\n",
       "      <td>SR</td>\n",
       "      <td>29</td>\n",
       "      <td>587</td>\n",
       "      <td>4.94</td>\n",
       "    </tr>\n",
       "    <tr>\n",
       "      <th>8</th>\n",
       "      <td>3</td>\n",
       "      <td>W</td>\n",
       "      <td>538</td>\n",
       "      <td>587</td>\n",
       "      <td>91.65</td>\n",
       "    </tr>\n",
       "  </tbody>\n",
       "</table>\n",
       "</div>"
      ],
      "text/plain": [
       "   groupHPD stayid_state  stay_id  count_all  percent(%)\n",
       "0         1           QR      506       1382       36.61\n",
       "1         1           SR      437       1382       31.62\n",
       "2         1            W      439       1382       31.77\n",
       "3         2           QR      991       3463       28.62\n",
       "4         2           SR     1266       3463       36.56\n",
       "5         2            W     1206       3463       34.83\n",
       "6         3           QR       20        587        3.41\n",
       "7         3           SR       29        587        4.94\n",
       "8         3            W      538        587       91.65"
      ]
     },
     "execution_count": 68,
     "metadata": {},
     "output_type": "execute_result"
    }
   ],
   "source": [
    "df_count_all = pd.DataFrame(df_type_filt[\"groupHPD\"].value_counts()).reset_index()\n",
    "df_count_all.columns = [\"groupHPD\", \"count_all\"]\n",
    "\n",
    "tmp_df = pd.merge(df_stayid_s,df_type_filt, how=\"inner\",on=\"stay_id\")\n",
    "tmp_df = tmp_df.groupby([\"groupHPD\",\"stayid_state\"]).agg({\"stay_id\":\"count\"}).reset_index()\n",
    "tmp_df = pd.merge(tmp_df,df_count_all, how=\"inner\",on=\"groupHPD\")\n",
    "tmp_df[\"percent(%)\"] = round(tmp_df[\"stay_id\"]/tmp_df[\"count_all\"]*100,2)\n",
    "tmp_df"
   ]
  },
  {
   "cell_type": "code",
   "execution_count": 69,
   "id": "407338b9",
   "metadata": {
    "ExecuteTime": {
     "end_time": "2023-02-28T08:08:35.486830Z",
     "start_time": "2023-02-28T08:08:35.282966Z"
    }
   },
   "outputs": [
    {
     "name": "stderr",
     "output_type": "stream",
     "text": [
      "/home/hanl/miniconda3/envs/mytensor/lib/python3.9/site-packages/ipykernel/ipkernel.py:287: DeprecationWarning: `should_run_async` will not call `transform_cell` automatically in the future. Please pass the result to `transformed_cell` argument and any exception that happen during thetransform in `preprocessing_exc_tuple` in IPython 7.17 and above.\n",
      "  and should_run_async(code)\n"
     ]
    },
    {
     "data": {
      "image/png": "[encoded data removed]",
      "text/plain": [
       "<Figure size 600x400 with 1 Axes>"
      ]
     },
     "metadata": {},
     "output_type": "display_data"
    }
   ],
   "source": [
    "def text(y1,y2,y3):\n",
    "    plt.text(0,15,y1[0],size=8)\n",
    "    plt.text(1,15,y1[1],size=8)\n",
    "    plt.text(2,0.5,y1[2],size=7)\n",
    "    \n",
    "    plt.text(0,50,y2[0],size=8)\n",
    "    plt.text(1,45,y2[1],size=8)\n",
    "    plt.text(2,4,y2[2],size=7)\n",
    "    \n",
    "    plt.text(0,82,y3[0],size=8)\n",
    "    plt.text(1,82,y3[1],size=8)\n",
    "    plt.text(2,50,y3[2],size=8)\n",
    "    \n",
    "#三组诊断时的AKI等级分布\n",
    "y1 = tmp_df[tmp_df[\"stayid_state\"]==\"QR\"].loc[:,[\"groupHPD\",\"percent(%)\"]].sort_values(\"groupHPD\")[\"percent(%)\"].tolist()\n",
    "y2 = tmp_df[tmp_df[\"stayid_state\"]==\"SR\"].loc[:,[\"groupHPD\",\"percent(%)\"]].sort_values(\"groupHPD\")[\"percent(%)\"].tolist()\n",
    "y3 = tmp_df[tmp_df[\"stayid_state\"]==\"W\"].loc[:,[\"groupHPD\",\"percent(%)\"]].sort_values(\"groupHPD\")[\"percent(%)\"].tolist()\n",
    "\n",
    "x = [\"C1\",\"C2\",\"C3\"]\n",
    "y1 = np.array(y1)\n",
    "y2 = np.array(y2)\n",
    "y3 = np.array(y3)\n",
    "\n",
    "plt.figure(figsize=(6, 4))\n",
    "plt.bar(x,y1,width=0.4,label='QR',color='#f9766e',edgecolor='grey')\n",
    "plt.bar(x,y2,width=0.4,bottom=y1,label='SR',color='#00bfc4',edgecolor='grey')\n",
    "plt.bar(x,y3,width=0.4,bottom=y1+y2,label='W',color='#756bb1',edgecolor='grey')\n",
    "text(y1,y2,y3)\n",
    "\n",
    "plt.yticks(np.arange(0,120,20),[f'{i}%' for i in range(0,120,20)])\n",
    "plt.grid(axis='y',alpha=0.5,ls='--')\n",
    "\n",
    "plt.legend(frameon=False,bbox_to_anchor=(1.01,1))\n",
    "plt.title(\"recovery type\")\n",
    "plt.tight_layout()\n",
    "plt.show()"
   ]
  },
  {
   "cell_type": "code",
   "execution_count": null,
   "id": "895c4e57",
   "metadata": {
    "ExecuteTime": {
     "end_time": "2023-02-28T07:32:41.933845Z",
     "start_time": "2023-02-28T07:27:32.704Z"
    }
   },
   "outputs": [],
   "source": [
    "stop!!!"
   ]
  },
  {
   "cell_type": "markdown",
   "id": "ff6d3a17",
   "metadata": {},
   "source": [
    "# 纵向上定义每组的肾损伤情况"
   ]
  },
  {
   "cell_type": "code",
   "execution_count": 18,
   "id": "1e6935f0",
   "metadata": {
    "ExecuteTime": {
     "end_time": "2023-02-28T07:35:06.497484Z",
     "start_time": "2023-02-28T07:35:06.488364Z"
    }
   },
   "outputs": [
    {
     "name": "stderr",
     "output_type": "stream",
     "text": [
      "/home/hanl/miniconda3/envs/mytensor/lib/python3.9/site-packages/ipykernel/ipkernel.py:287: DeprecationWarning: `should_run_async` will not call `transform_cell` automatically in the future. Please pass the result to `transformed_cell` argument and any exception that happen during thetransform in `preprocessing_exc_tuple` in IPython 7.17 and above.\n",
      "  and should_run_async(code)\n"
     ]
    },
    {
     "data": {
      "text/html": [
       "<div>\n",
       "<style scoped>\n",
       "    .dataframe tbody tr th:only-of-type {\n",
       "        vertical-align: middle;\n",
       "    }\n",
       "\n",
       "    .dataframe tbody tr th {\n",
       "        vertical-align: top;\n",
       "    }\n",
       "\n",
       "    .dataframe thead th {\n",
       "        text-align: right;\n",
       "    }\n",
       "</style>\n",
       "<table border=\"1\" class=\"dataframe\">\n",
       "  <thead>\n",
       "    <tr style=\"text-align: right;\">\n",
       "      <th></th>\n",
       "      <th>groupHPD</th>\n",
       "      <th>count_all</th>\n",
       "    </tr>\n",
       "  </thead>\n",
       "  <tbody>\n",
       "    <tr>\n",
       "      <th>0</th>\n",
       "      <td>2</td>\n",
       "      <td>3463</td>\n",
       "    </tr>\n",
       "    <tr>\n",
       "      <th>1</th>\n",
       "      <td>1</td>\n",
       "      <td>1382</td>\n",
       "    </tr>\n",
       "    <tr>\n",
       "      <th>2</th>\n",
       "      <td>3</td>\n",
       "      <td>587</td>\n",
       "    </tr>\n",
       "  </tbody>\n",
       "</table>\n",
       "</div>"
      ],
      "text/plain": [
       "   groupHPD  count_all\n",
       "0         2       3463\n",
       "1         1       1382\n",
       "2         3        587"
      ]
     },
     "execution_count": 18,
     "metadata": {},
     "output_type": "execute_result"
    }
   ],
   "source": [
    "df_count_all = pd.DataFrame(df_type_filt[\"groupHPD\"].value_counts()).reset_index()\n",
    "df_count_all.columns = [\"groupHPD\", \"count_all\"]\n",
    "df_count_all"
   ]
  },
  {
   "cell_type": "code",
   "execution_count": 28,
   "id": "4b82d83a",
   "metadata": {
    "ExecuteTime": {
     "end_time": "2023-02-28T07:52:17.250527Z",
     "start_time": "2023-02-28T07:52:17.200947Z"
    }
   },
   "outputs": [
    {
     "name": "stderr",
     "output_type": "stream",
     "text": [
      "/home/hanl/miniconda3/envs/mytensor/lib/python3.9/site-packages/ipykernel/ipkernel.py:287: DeprecationWarning: `should_run_async` will not call `transform_cell` automatically in the future. Please pass the result to `transformed_cell` argument and any exception that happen during thetransform in `preprocessing_exc_tuple` in IPython 7.17 and above.\n",
      "  and should_run_async(code)\n"
     ]
    },
    {
     "data": {
      "text/html": [
       "<div>\n",
       "<style scoped>\n",
       "    .dataframe tbody tr th:only-of-type {\n",
       "        vertical-align: middle;\n",
       "    }\n",
       "\n",
       "    .dataframe tbody tr th {\n",
       "        vertical-align: top;\n",
       "    }\n",
       "\n",
       "    .dataframe thead th {\n",
       "        text-align: right;\n",
       "    }\n",
       "</style>\n",
       "<table border=\"1\" class=\"dataframe\">\n",
       "  <thead>\n",
       "    <tr style=\"text-align: right;\">\n",
       "      <th></th>\n",
       "      <th>stay_id</th>\n",
       "      <th>time</th>\n",
       "      <th>state</th>\n",
       "      <th>state_uo</th>\n",
       "      <th>state_crea</th>\n",
       "      <th>groupHPD</th>\n",
       "    </tr>\n",
       "  </thead>\n",
       "  <tbody>\n",
       "    <tr>\n",
       "      <th>0</th>\n",
       "      <td>30003598.0</td>\n",
       "      <td>-2.0</td>\n",
       "      <td>C</td>\n",
       "      <td>C</td>\n",
       "      <td>C</td>\n",
       "      <td>1</td>\n",
       "    </tr>\n",
       "    <tr>\n",
       "      <th>1</th>\n",
       "      <td>30003598.0</td>\n",
       "      <td>-1.0</td>\n",
       "      <td>C</td>\n",
       "      <td>C</td>\n",
       "      <td>C</td>\n",
       "      <td>1</td>\n",
       "    </tr>\n",
       "  </tbody>\n",
       "</table>\n",
       "</div>"
      ],
      "text/plain": [
       "      stay_id  time state state_uo state_crea  groupHPD\n",
       "0  30003598.0  -2.0     C        C          C         1\n",
       "1  30003598.0  -1.0     C        C          C         1"
      ]
     },
     "execution_count": 28,
     "metadata": {},
     "output_type": "execute_result"
    }
   ],
   "source": [
    "df_state = df_.loc[:,[\"stay_id\", \"time\", \"state\",\"state_uo\",\"state_crea\"]]\n",
    "df_state =  pd.merge(df_state,df_type_filt, how=\"inner\",on=\"stay_id\")\n",
    "df_state = df_state[df_state['time'].isin([-2,-1,0,1,2,3,5,7,9,11,12])]\n",
    "df_state = df_state[df_state['time'].isin([-2,-1,0,1,2])]\n",
    "\n",
    "df_state_count = df_state.groupby([\"time\",\"groupHPD\"]).agg({\"stay_id\":\"count\"}).reset_index()\n",
    "df_state_count.columns = [\"time\",\"groupHPD\",\"count\"]\n",
    "\n",
    "df_state.head(2)"
   ]
  },
  {
   "cell_type": "code",
   "execution_count": 29,
   "id": "bd43c3fd",
   "metadata": {
    "ExecuteTime": {
     "end_time": "2023-02-28T07:52:19.914292Z",
     "start_time": "2023-02-28T07:52:19.545219Z"
    },
    "scrolled": false
   },
   "outputs": [
    {
     "name": "stderr",
     "output_type": "stream",
     "text": [
      "/home/hanl/miniconda3/envs/mytensor/lib/python3.9/site-packages/ipykernel/ipkernel.py:287: DeprecationWarning: `should_run_async` will not call `transform_cell` automatically in the future. Please pass the result to `transformed_cell` argument and any exception that happen during thetransform in `preprocessing_exc_tuple` in IPython 7.17 and above.\n",
      "  and should_run_async(code)\n"
     ]
    },
    {
     "data": {
      "image/png": "[encoded data removed]",
      "text/plain": [
       "<Figure size 300x200 with 1 Axes>"
      ]
     },
     "metadata": {},
     "output_type": "display_data"
    },
    {
     "data": {
      "image/png": "[encoded data removed]",
      "text/plain": [
       "<Figure size 300x200 with 1 Axes>"
      ]
     },
     "metadata": {},
     "output_type": "display_data"
    }
   ],
   "source": [
    "from matplotlib import pyplot as plt \n",
    "def feature_line_chart_plot(df, df_state_count,fea,label_lst,t1_lst,t2_lst,t3_lst):\n",
    "    df1 = df[df[\"stay_id\"].isin(t1_lst)]\n",
    "    df2 = df[df[\"stay_id\"].isin(t2_lst)]\n",
    "    df3 = df[df[\"stay_id\"].isin(t3_lst)]\n",
    "\n",
    "    df1 = df1.groupby([\"time\",\"groupHPD\",fea]).agg({\"stay_id\":\"count\"}).reset_index()\n",
    "    df1 = df1[df1[fea]==\"C\"]\n",
    "    df1 = pd.merge(df1,df_state_count, how=\"left\",on=[\"time\",\"groupHPD\"])\n",
    "    df1[\"percent\"] = round(df1[\"stay_id\"]/df1[\"count\"]*100, 4)\n",
    "    \n",
    "    df2 = df2.groupby([\"time\",\"groupHPD\",fea]).agg({\"stay_id\":\"count\"}).reset_index()\n",
    "    df2 = df2[df2[fea]==\"C\"]\n",
    "    df2 = pd.merge(df2,df_state_count, how=\"left\",on=[\"time\",\"groupHPD\"])\n",
    "    df2[\"percent\"] = round(df2[\"stay_id\"]/df2[\"count\"]*100, 4)\n",
    "    \n",
    "    df3 = df3.groupby([\"time\",\"groupHPD\",fea]).agg({\"stay_id\":\"count\"}).reset_index()\n",
    "    df3 = df3[df3[fea]==\"C\"]\n",
    "    df3 = pd.merge(df3,df_state_count, how=\"left\",on=[\"time\",\"groupHPD\"])\n",
    "    df3[\"percent\"] = round(df3[\"stay_id\"]/df3[\"count\"]*100, 4)\n",
    "    \n",
    "    x1 = df1[\"time\"].tolist()\n",
    "    y1 =  df1[\"percent\"].tolist()\n",
    "    x2 = df2[\"time\"].tolist()\n",
    "    y2 =  df2[\"percent\"].tolist()\n",
    "    x3 = df3[\"time\"].tolist()\n",
    "    y3 =  df3[\"percent\"].tolist()\n",
    "\n",
    "    plt.figure(figsize=(3, 2)) \n",
    "    plt.plot(x1,y1,'s-',color = '#1b9e77',label=label_lst[0],linewidth=2,markersize=3)\n",
    "    plt.plot(x2,y2,'o-',color = '#d95f02',label=label_lst[1],linewidth=2,markersize=3)\n",
    "    plt.plot(x3,y3,'o-',color = '#7570b3',label=label_lst[2],linewidth=2,markersize=3)\n",
    "    \n",
    "    plt.xlabel(\"* 6Hour (charttime_minus_S-AKI_onset)\")\n",
    "    plt.ylabel(\"Recovery ratio(%)\")\n",
    "    plt.title(fea)\n",
    "    plt.legend(label_lst)\n",
    "    plt.show()\n",
    "\n",
    "t1_lst = df_type_filt[df_type_filt[\"groupHPD\"]==1].stay_id.unique()\n",
    "t2_lst = df_type_filt[df_type_filt[\"groupHPD\"]==2].stay_id.unique()\n",
    "t3_lst = df_type_filt[df_type_filt[\"groupHPD\"]==3].stay_id.unique()\n",
    "label_lst = [\"C1\", \"C2\", \"C3\"]\n",
    "fea_lst = [\"state_crea\",\"state_uo\"]\n",
    "\n",
    "for fea in fea_lst:\n",
    "    feature_line_chart_plot(df_state, df_state_count, fea, label_lst,t1_lst,t2_lst,t3_lst)"
   ]
  },
  {
   "cell_type": "code",
   "execution_count": 30,
   "id": "bbb41ef3",
   "metadata": {
    "ExecuteTime": {
     "end_time": "2023-02-28T07:52:24.967279Z",
     "start_time": "2023-02-28T07:52:24.756506Z"
    }
   },
   "outputs": [
    {
     "name": "stderr",
     "output_type": "stream",
     "text": [
      "/home/hanl/miniconda3/envs/mytensor/lib/python3.9/site-packages/ipykernel/ipkernel.py:287: DeprecationWarning: `should_run_async` will not call `transform_cell` automatically in the future. Please pass the result to `transformed_cell` argument and any exception that happen during thetransform in `preprocessing_exc_tuple` in IPython 7.17 and above.\n",
      "  and should_run_async(code)\n"
     ]
    },
    {
     "data": {
      "image/png": "[encoded data removed]",
      "text/plain": [
       "<Figure size 300x200 with 1 Axes>"
      ]
     },
     "metadata": {},
     "output_type": "display_data"
    }
   ],
   "source": [
    "from matplotlib import pyplot as plt \n",
    "def feature_line_chart_plot(df, df_state_count,fea,label_lst,t1_lst,t2_lst,t3_lst):\n",
    "    df1 = df[df[\"stay_id\"].isin(t1_lst)]\n",
    "    df2 = df[df[\"stay_id\"].isin(t2_lst)]\n",
    "    df3 = df[df[\"stay_id\"].isin(t3_lst)]\n",
    "\n",
    "    df1 = df1.groupby([\"time\",\"groupHPD\",fea]).agg({\"stay_id\":\"count\"}).reset_index()\n",
    "    df1 = df1[df1[fea]==\"C\"]\n",
    "    df1 = pd.merge(df1,df_state_count, how=\"left\",on=[\"time\",\"groupHPD\"])\n",
    "    df1[\"percent\"] = round(df1[\"stay_id\"]/df1[\"count\"]*100, 4)\n",
    "    df1.loc[len(df1.index)] = [0,3,\"C\",0,0,0]\n",
    "    df1 = df1.sort_values([\"time\"])\n",
    "    \n",
    "    df2 = df2.groupby([\"time\",\"groupHPD\",fea]).agg({\"stay_id\":\"count\"}).reset_index()\n",
    "    df2 = df2[df2[fea]==\"C\"]\n",
    "    df2 = pd.merge(df2,df_state_count, how=\"left\",on=[\"time\",\"groupHPD\"])\n",
    "    df2[\"percent\"] = round(df2[\"stay_id\"]/df2[\"count\"]*100, 4)\n",
    "    df2.loc[len(df2.index)] = [0,3,\"C\",0,0,0]\n",
    "    df2 = df2.sort_values([\"time\"])\n",
    "    \n",
    "    df3 = df3.groupby([\"time\",\"groupHPD\",fea]).agg({\"stay_id\":\"count\"}).reset_index()\n",
    "    df3 = df3[df3[fea]==\"C\"]\n",
    "    df3 = pd.merge(df3,df_state_count, how=\"left\",on=[\"time\",\"groupHPD\"])\n",
    "    df3[\"percent\"] = round(df3[\"stay_id\"]/df3[\"count\"]*100, 4)\n",
    "    df3.loc[len(df3.index)] = [0,3,\"C\",0,0,0]\n",
    "    df3 = df3.sort_values([\"time\"])\n",
    "\n",
    "    x1 = df1[\"time\"].tolist()\n",
    "    y1 =  df1[\"percent\"].tolist()\n",
    "    x2 = df2[\"time\"].tolist()\n",
    "    y2 =  df2[\"percent\"].tolist()\n",
    "    x3 = df3[\"time\"].tolist()\n",
    "    y3 =  df3[\"percent\"].tolist()\n",
    "\n",
    "    plt.figure(figsize=(3, 2)) \n",
    "    plt.plot(x1,y1,'s-',color = '#1b9e77',label=label_lst[0],linewidth=2,markersize=3)\n",
    "    plt.plot(x2,y2,'o-',color = '#d95f02',label=label_lst[1],linewidth=2,markersize=3)\n",
    "    plt.plot(x3,y3,'o-',color = '#7570b3',label=label_lst[2],linewidth=2,markersize=3)\n",
    "    \n",
    "    plt.xlabel(\"* 6Hour (charttime_minus_S-AKI_onset)\")\n",
    "    plt.ylabel(\"Recovery ratio(%)\")\n",
    "    plt.title(fea)\n",
    "    plt.legend(label_lst)\n",
    "    plt.show()\n",
    "\n",
    "t1_lst = df_type_filt[df_type_filt[\"groupHPD\"]==1].stay_id.unique()\n",
    "t2_lst = df_type_filt[df_type_filt[\"groupHPD\"]==2].stay_id.unique()\n",
    "t3_lst = df_type_filt[df_type_filt[\"groupHPD\"]==3].stay_id.unique()\n",
    "label_lst = [\"C1\", \"C2\", \"C3\"]\n",
    "fea_lst = [\"state\"]\n",
    "\n",
    "for fea in fea_lst:\n",
    "    feature_line_chart_plot(df_state, df_state_count, fea, label_lst,t1_lst,t2_lst,t3_lst)"
   ]
  },
  {
   "cell_type": "markdown",
   "id": "58212c0a",
   "metadata": {},
   "source": [
    "# 纵向上定义每组的恢复模式"
   ]
  },
  {
   "cell_type": "code",
   "execution_count": 22,
   "id": "e10a255b",
   "metadata": {
    "ExecuteTime": {
     "end_time": "2023-02-28T07:35:41.799951Z",
     "start_time": "2023-02-28T07:35:41.794256Z"
    }
   },
   "outputs": [
    {
     "name": "stderr",
     "output_type": "stream",
     "text": [
      "/home/hanl/miniconda3/envs/mytensor/lib/python3.9/site-packages/ipykernel/ipkernel.py:287: DeprecationWarning: `should_run_async` will not call `transform_cell` automatically in the future. Please pass the result to `transformed_cell` argument and any exception that happen during thetransform in `preprocessing_exc_tuple` in IPython 7.17 and above.\n",
      "  and should_run_async(code)\n"
     ]
    }
   ],
   "source": [
    "df_count_all = pd.DataFrame(df_type_filt[\"groupHPD\"].value_counts()).reset_index()\n",
    "df_count_all.columns = [\"groupHPD\", \"count_all\"]"
   ]
  },
  {
   "cell_type": "code",
   "execution_count": 23,
   "id": "effbc01e",
   "metadata": {
    "ExecuteTime": {
     "end_time": "2023-02-28T07:38:53.117350Z",
     "start_time": "2023-02-28T07:35:44.309414Z"
    },
    "scrolled": false
   },
   "outputs": [
    {
     "name": "stderr",
     "output_type": "stream",
     "text": [
      "/home/hanl/miniconda3/envs/mytensor/lib/python3.9/site-packages/ipykernel/ipkernel.py:287: DeprecationWarning: `should_run_async` will not call `transform_cell` automatically in the future. Please pass the result to `transformed_cell` argument and any exception that happen during thetransform in `preprocessing_exc_tuple` in IPython 7.17 and above.\n",
      "  and should_run_async(code)\n"
     ]
    },
    {
     "data": {
      "text/html": [
       "<div>\n",
       "<style scoped>\n",
       "    .dataframe tbody tr th:only-of-type {\n",
       "        vertical-align: middle;\n",
       "    }\n",
       "\n",
       "    .dataframe tbody tr th {\n",
       "        vertical-align: top;\n",
       "    }\n",
       "\n",
       "    .dataframe thead th {\n",
       "        text-align: right;\n",
       "    }\n",
       "</style>\n",
       "<table border=\"1\" class=\"dataframe\">\n",
       "  <thead>\n",
       "    <tr style=\"text-align: right;\">\n",
       "      <th></th>\n",
       "      <th>stayid_state</th>\n",
       "      <th>groupHPD</th>\n",
       "      <th>stay_id_4h</th>\n",
       "      <th>percent(%)4h</th>\n",
       "      <th>stay_id_6h</th>\n",
       "      <th>percent(%)6h</th>\n",
       "      <th>stay_id_8h</th>\n",
       "      <th>percent(%)8h</th>\n",
       "      <th>stay_id_10h</th>\n",
       "      <th>percent(%)10h</th>\n",
       "      <th>...</th>\n",
       "      <th>stay_id_16h</th>\n",
       "      <th>percent(%)16h</th>\n",
       "      <th>stay_id_18h</th>\n",
       "      <th>percent(%)18h</th>\n",
       "      <th>stay_id_20h</th>\n",
       "      <th>percent(%)20h</th>\n",
       "      <th>stay_id_22h</th>\n",
       "      <th>percent(%)22h</th>\n",
       "      <th>stay_id_24h</th>\n",
       "      <th>percent(%)24h</th>\n",
       "    </tr>\n",
       "  </thead>\n",
       "  <tbody>\n",
       "    <tr>\n",
       "      <th>0</th>\n",
       "      <td>QR</td>\n",
       "      <td>1</td>\n",
       "      <td>46</td>\n",
       "      <td>3.33</td>\n",
       "      <td>182</td>\n",
       "      <td>13.17</td>\n",
       "      <td>307</td>\n",
       "      <td>22.21</td>\n",
       "      <td>428</td>\n",
       "      <td>30.97</td>\n",
       "      <td>...</td>\n",
       "      <td>623</td>\n",
       "      <td>45.08</td>\n",
       "      <td>667</td>\n",
       "      <td>48.26</td>\n",
       "      <td>702</td>\n",
       "      <td>50.80</td>\n",
       "      <td>730</td>\n",
       "      <td>52.82</td>\n",
       "      <td>751</td>\n",
       "      <td>54.34</td>\n",
       "    </tr>\n",
       "    <tr>\n",
       "      <th>1</th>\n",
       "      <td>QR</td>\n",
       "      <td>2</td>\n",
       "      <td>109</td>\n",
       "      <td>3.15</td>\n",
       "      <td>424</td>\n",
       "      <td>12.24</td>\n",
       "      <td>646</td>\n",
       "      <td>18.65</td>\n",
       "      <td>841</td>\n",
       "      <td>24.29</td>\n",
       "      <td>...</td>\n",
       "      <td>1255</td>\n",
       "      <td>36.24</td>\n",
       "      <td>1384</td>\n",
       "      <td>39.97</td>\n",
       "      <td>1451</td>\n",
       "      <td>41.90</td>\n",
       "      <td>1535</td>\n",
       "      <td>44.33</td>\n",
       "      <td>1585</td>\n",
       "      <td>45.77</td>\n",
       "    </tr>\n",
       "    <tr>\n",
       "      <th>2</th>\n",
       "      <td>QR</td>\n",
       "      <td>3</td>\n",
       "      <td>4</td>\n",
       "      <td>0.68</td>\n",
       "      <td>8</td>\n",
       "      <td>1.36</td>\n",
       "      <td>14</td>\n",
       "      <td>2.39</td>\n",
       "      <td>19</td>\n",
       "      <td>3.24</td>\n",
       "      <td>...</td>\n",
       "      <td>24</td>\n",
       "      <td>4.09</td>\n",
       "      <td>27</td>\n",
       "      <td>4.60</td>\n",
       "      <td>27</td>\n",
       "      <td>4.60</td>\n",
       "      <td>27</td>\n",
       "      <td>4.60</td>\n",
       "      <td>29</td>\n",
       "      <td>4.94</td>\n",
       "    </tr>\n",
       "    <tr>\n",
       "      <th>3</th>\n",
       "      <td>SR</td>\n",
       "      <td>1</td>\n",
       "      <td>897</td>\n",
       "      <td>64.91</td>\n",
       "      <td>761</td>\n",
       "      <td>55.07</td>\n",
       "      <td>636</td>\n",
       "      <td>46.02</td>\n",
       "      <td>515</td>\n",
       "      <td>37.26</td>\n",
       "      <td>...</td>\n",
       "      <td>320</td>\n",
       "      <td>23.15</td>\n",
       "      <td>276</td>\n",
       "      <td>19.97</td>\n",
       "      <td>241</td>\n",
       "      <td>17.44</td>\n",
       "      <td>213</td>\n",
       "      <td>15.41</td>\n",
       "      <td>192</td>\n",
       "      <td>13.89</td>\n",
       "    </tr>\n",
       "    <tr>\n",
       "      <th>4</th>\n",
       "      <td>SR</td>\n",
       "      <td>2</td>\n",
       "      <td>2148</td>\n",
       "      <td>62.03</td>\n",
       "      <td>1833</td>\n",
       "      <td>52.93</td>\n",
       "      <td>1611</td>\n",
       "      <td>46.52</td>\n",
       "      <td>1416</td>\n",
       "      <td>40.89</td>\n",
       "      <td>...</td>\n",
       "      <td>1002</td>\n",
       "      <td>28.93</td>\n",
       "      <td>873</td>\n",
       "      <td>25.21</td>\n",
       "      <td>806</td>\n",
       "      <td>23.27</td>\n",
       "      <td>722</td>\n",
       "      <td>20.85</td>\n",
       "      <td>672</td>\n",
       "      <td>19.41</td>\n",
       "    </tr>\n",
       "    <tr>\n",
       "      <th>5</th>\n",
       "      <td>SR</td>\n",
       "      <td>3</td>\n",
       "      <td>45</td>\n",
       "      <td>7.67</td>\n",
       "      <td>41</td>\n",
       "      <td>6.98</td>\n",
       "      <td>35</td>\n",
       "      <td>5.96</td>\n",
       "      <td>30</td>\n",
       "      <td>5.11</td>\n",
       "      <td>...</td>\n",
       "      <td>25</td>\n",
       "      <td>4.26</td>\n",
       "      <td>22</td>\n",
       "      <td>3.75</td>\n",
       "      <td>22</td>\n",
       "      <td>3.75</td>\n",
       "      <td>22</td>\n",
       "      <td>3.75</td>\n",
       "      <td>20</td>\n",
       "      <td>3.41</td>\n",
       "    </tr>\n",
       "    <tr>\n",
       "      <th>6</th>\n",
       "      <td>W</td>\n",
       "      <td>1</td>\n",
       "      <td>439</td>\n",
       "      <td>31.77</td>\n",
       "      <td>439</td>\n",
       "      <td>31.77</td>\n",
       "      <td>439</td>\n",
       "      <td>31.77</td>\n",
       "      <td>439</td>\n",
       "      <td>31.77</td>\n",
       "      <td>...</td>\n",
       "      <td>439</td>\n",
       "      <td>31.77</td>\n",
       "      <td>439</td>\n",
       "      <td>31.77</td>\n",
       "      <td>439</td>\n",
       "      <td>31.77</td>\n",
       "      <td>439</td>\n",
       "      <td>31.77</td>\n",
       "      <td>439</td>\n",
       "      <td>31.77</td>\n",
       "    </tr>\n",
       "    <tr>\n",
       "      <th>7</th>\n",
       "      <td>W</td>\n",
       "      <td>2</td>\n",
       "      <td>1206</td>\n",
       "      <td>34.83</td>\n",
       "      <td>1206</td>\n",
       "      <td>34.83</td>\n",
       "      <td>1206</td>\n",
       "      <td>34.83</td>\n",
       "      <td>1206</td>\n",
       "      <td>34.83</td>\n",
       "      <td>...</td>\n",
       "      <td>1206</td>\n",
       "      <td>34.83</td>\n",
       "      <td>1206</td>\n",
       "      <td>34.83</td>\n",
       "      <td>1206</td>\n",
       "      <td>34.83</td>\n",
       "      <td>1206</td>\n",
       "      <td>34.83</td>\n",
       "      <td>1206</td>\n",
       "      <td>34.83</td>\n",
       "    </tr>\n",
       "    <tr>\n",
       "      <th>8</th>\n",
       "      <td>W</td>\n",
       "      <td>3</td>\n",
       "      <td>538</td>\n",
       "      <td>91.65</td>\n",
       "      <td>538</td>\n",
       "      <td>91.65</td>\n",
       "      <td>538</td>\n",
       "      <td>91.65</td>\n",
       "      <td>538</td>\n",
       "      <td>91.65</td>\n",
       "      <td>...</td>\n",
       "      <td>538</td>\n",
       "      <td>91.65</td>\n",
       "      <td>538</td>\n",
       "      <td>91.65</td>\n",
       "      <td>538</td>\n",
       "      <td>91.65</td>\n",
       "      <td>538</td>\n",
       "      <td>91.65</td>\n",
       "      <td>538</td>\n",
       "      <td>91.65</td>\n",
       "    </tr>\n",
       "  </tbody>\n",
       "</table>\n",
       "<p>9 rows × 24 columns</p>\n",
       "</div>"
      ],
      "text/plain": [
       "  stayid_state  groupHPD  stay_id_4h  percent(%)4h  stay_id_6h  percent(%)6h  \\\n",
       "0           QR         1          46          3.33         182         13.17   \n",
       "1           QR         2         109          3.15         424         12.24   \n",
       "2           QR         3           4          0.68           8          1.36   \n",
       "3           SR         1         897         64.91         761         55.07   \n",
       "4           SR         2        2148         62.03        1833         52.93   \n",
       "5           SR         3          45          7.67          41          6.98   \n",
       "6            W         1         439         31.77         439         31.77   \n",
       "7            W         2        1206         34.83        1206         34.83   \n",
       "8            W         3         538         91.65         538         91.65   \n",
       "\n",
       "   stay_id_8h  percent(%)8h  stay_id_10h  percent(%)10h  ...  stay_id_16h  \\\n",
       "0         307         22.21          428          30.97  ...          623   \n",
       "1         646         18.65          841          24.29  ...         1255   \n",
       "2          14          2.39           19           3.24  ...           24   \n",
       "3         636         46.02          515          37.26  ...          320   \n",
       "4        1611         46.52         1416          40.89  ...         1002   \n",
       "5          35          5.96           30           5.11  ...           25   \n",
       "6         439         31.77          439          31.77  ...          439   \n",
       "7        1206         34.83         1206          34.83  ...         1206   \n",
       "8         538         91.65          538          91.65  ...          538   \n",
       "\n",
       "   percent(%)16h  stay_id_18h  percent(%)18h  stay_id_20h  percent(%)20h  \\\n",
       "0          45.08          667          48.26          702          50.80   \n",
       "1          36.24         1384          39.97         1451          41.90   \n",
       "2           4.09           27           4.60           27           4.60   \n",
       "3          23.15          276          19.97          241          17.44   \n",
       "4          28.93          873          25.21          806          23.27   \n",
       "5           4.26           22           3.75           22           3.75   \n",
       "6          31.77          439          31.77          439          31.77   \n",
       "7          34.83         1206          34.83         1206          34.83   \n",
       "8          91.65          538          91.65          538          91.65   \n",
       "\n",
       "   stay_id_22h  percent(%)22h  stay_id_24h  percent(%)24h  \n",
       "0          730          52.82          751          54.34  \n",
       "1         1535          44.33         1585          45.77  \n",
       "2           27           4.60           29           4.94  \n",
       "3          213          15.41          192          13.89  \n",
       "4          722          20.85          672          19.41  \n",
       "5           22           3.75           20           3.41  \n",
       "6          439          31.77          439          31.77  \n",
       "7         1206          34.83         1206          34.83  \n",
       "8          538          91.65          538          91.65  \n",
       "\n",
       "[9 rows x 24 columns]"
      ]
     },
     "execution_count": 23,
     "metadata": {},
     "output_type": "execute_result"
    }
   ],
   "source": [
    "df_recovery_stat = pd.DataFrame(columns=[\"stayid_state\",\"groupHPD\"])\n",
    "for i in [\"QR\", \"SR\", \"W\"]:\n",
    "    for j in [1,2,3]:\n",
    "        df_recovery_stat.loc[len(df_recovery_stat)] = [i,j]\n",
    "        \n",
    "for i in [4,6,8,10,12,14,16,18,20,22,24]:\n",
    "    ## 得到每个stay_id的恢复模式\n",
    "    df_stayid_s = pd.DataFrame(columns=[\"stay_id\",\"stayid_state\"])\n",
    "    id_lst = df_.stay_id.unique()\n",
    "    for id_ in id_lst:\n",
    "        d = df_[df_[\"stay_id\"]==id_]\n",
    "        stayid_s = state_definition(d,t=i)\n",
    "        df_stayid_s.loc[len(df_stayid_s)] = [id_, stayid_s]\n",
    "    df_stayid_s[\"stayid_state\"].value_counts()\n",
    "    df_stayid_s_ = pd.merge(df_stayid_s, df_type_filt, how=\"inner\", on = \"stay_id\")\n",
    "    df_stat = df_stayid_s_.groupby([\"stayid_state\",\"groupHPD\"]).agg(\"count\").reset_index()\n",
    "    new_name = \"stay_id_\" + str(i) +\"h\"\n",
    "    df_stat = df_stat.rename(columns={'stay_id':new_name})\n",
    "    df_stat = pd.merge(df_stat, df_count_all, how=\"left\", on=\"groupHPD\")\n",
    "    new_name_percent = \"percent(%)\" + str(i) +\"h\"\n",
    "    df_stat[new_name_percent] = round(df_stat[new_name]/df_stat[\"count_all\"]*100,2)\n",
    "    df_stat = df_stat.drop([\"count_all\"],axis=1)\n",
    "    df_recovery_stat = pd.merge(df_recovery_stat, df_stat, how=\"left\",on=[\"stayid_state\",\"groupHPD\"])\n",
    "df_recovery_stat = df_recovery_stat.fillna(0)\n",
    "df_recovery_stat"
   ]
  },
  {
   "cell_type": "code",
   "execution_count": 24,
   "id": "c0c0a4c5",
   "metadata": {
    "ExecuteTime": {
     "end_time": "2023-02-28T07:50:01.317179Z",
     "start_time": "2023-02-28T07:50:01.305582Z"
    }
   },
   "outputs": [
    {
     "name": "stdout",
     "output_type": "stream",
     "text": [
      "Index(['QR_C1', 'QR_C2', 'QR_C3', 'SR_C1', 'SR_C2', 'SR_C3', 'W_C1', 'W_C2',\n",
      "       'W_C3'],\n",
      "      dtype='object', name='index')\n"
     ]
    },
    {
     "name": "stderr",
     "output_type": "stream",
     "text": [
      "/home/hanl/miniconda3/envs/mytensor/lib/python3.9/site-packages/ipykernel/ipkernel.py:287: DeprecationWarning: `should_run_async` will not call `transform_cell` automatically in the future. Please pass the result to `transformed_cell` argument and any exception that happen during thetransform in `preprocessing_exc_tuple` in IPython 7.17 and above.\n",
      "  and should_run_async(code)\n"
     ]
    }
   ],
   "source": [
    "#df_recovery_stat.filter(regex=\"perc\",axis=1).columns\n",
    "df_renal_recovery_series = df_recovery_stat.loc[:,['stayid_state', 'groupHPD','percent(%)4h', 'percent(%)6h', 'percent(%)8h', 'percent(%)10h',\n",
    "       'percent(%)12h', 'percent(%)14h', 'percent(%)16h', 'percent(%)18h',\n",
    "       'percent(%)20h', 'percent(%)22h', 'percent(%)24h']]\n",
    "df_renal_recovery_series[\"index\"] = df_renal_recovery_series[\"stayid_state\"] + \"_C\"+df_renal_recovery_series[\"groupHPD\"].map(str)\n",
    "df_renal_recovery_series.set_index([\"index\"], inplace=True)\n",
    "df_renal_recovery_series = df_renal_recovery_series.filter(regex=\"perc\",axis=1)\n",
    "\n",
    "# 给每个类别赋值\n",
    "for i in df_renal_recovery_series.index:\n",
    "    globals()[i] = df_renal_recovery_series.loc[i].tolist()\n",
    "print(df_renal_recovery_series.index)"
   ]
  },
  {
   "cell_type": "code",
   "execution_count": 25,
   "id": "f4e61bb4",
   "metadata": {
    "ExecuteTime": {
     "end_time": "2023-02-28T07:50:04.117648Z",
     "start_time": "2023-02-28T07:50:03.994272Z"
    }
   },
   "outputs": [
    {
     "name": "stderr",
     "output_type": "stream",
     "text": [
      "/home/hanl/miniconda3/envs/mytensor/lib/python3.9/site-packages/ipykernel/ipkernel.py:287: DeprecationWarning: `should_run_async` will not call `transform_cell` automatically in the future. Please pass the result to `transformed_cell` argument and any exception that happen during thetransform in `preprocessing_exc_tuple` in IPython 7.17 and above.\n",
      "  and should_run_async(code)\n"
     ]
    },
    {
     "data": {
      "image/png": "[encoded data removed]",
      "text/plain": [
       "<Figure size 300x200 with 1 Axes>"
      ]
     },
     "metadata": {},
     "output_type": "display_data"
    }
   ],
   "source": [
    "from matplotlib import pyplot as plt \n",
    "def feature_line_chart_plot(x,l1,l2,l3,label_lst):\n",
    "    plt.figure(figsize=(3, 2)) \n",
    "    plt.plot(x,l1,'s-',color = '#1b9e77',label=label_lst[0])#s-:方形\n",
    "    plt.plot(x,l2,'o-',color = '#d95f02',label=label_lst[1])#o-:圆形\n",
    "    plt.plot(x,l3,'o-',color = '#7570b3',label=label_lst[2])#o-:圆形\n",
    "    plt.xlabel(\"time\")#横坐标名字\n",
    "    plt.ylabel(\"percent(%)\")#纵坐标名字\n",
    "    plt.legend(loc = \"best\")#图例\n",
    "    plt.yticks(np.arange(40, 110, 20))\n",
    "    plt.show()\n",
    "x = [4,6,8,10,12,14,16,18,20,22,24]\n",
    "label_lst = ['W_C1', 'W_C2','W_C3']\n",
    "feature_line_chart_plot(x, W_C1, W_C2, W_C3,label_lst)"
   ]
  },
  {
   "cell_type": "code",
   "execution_count": 26,
   "id": "59e407dd",
   "metadata": {
    "ExecuteTime": {
     "end_time": "2023-02-28T07:50:07.377004Z",
     "start_time": "2023-02-28T07:50:07.237636Z"
    }
   },
   "outputs": [
    {
     "name": "stderr",
     "output_type": "stream",
     "text": [
      "/home/hanl/miniconda3/envs/mytensor/lib/python3.9/site-packages/ipykernel/ipkernel.py:287: DeprecationWarning: `should_run_async` will not call `transform_cell` automatically in the future. Please pass the result to `transformed_cell` argument and any exception that happen during thetransform in `preprocessing_exc_tuple` in IPython 7.17 and above.\n",
      "  and should_run_async(code)\n"
     ]
    },
    {
     "data": {
      "image/png": "[encoded data removed]",
      "text/plain": [
       "<Figure size 300x200 with 1 Axes>"
      ]
     },
     "metadata": {},
     "output_type": "display_data"
    }
   ],
   "source": [
    "from matplotlib import pyplot as plt \n",
    "def feature_line_chart_plot(x,l1,l2,l3,label_lst):\n",
    "    plt.figure(figsize=(3, 2)) \n",
    "    plt.plot(x,l1,'s-',color = '#1b9e77',label=label_lst[0])#s-:方形\n",
    "    plt.plot(x,l2,'o-',color = '#d95f02',label=label_lst[1])#o-:圆形\n",
    "    plt.plot(x,l3,'o-',color = '#7570b3',label=label_lst[2])#o-:圆形\n",
    "    plt.xlabel(\"time\")#横坐标名字\n",
    "    plt.ylabel(\"percent(%)\")#纵坐标名字\n",
    "    plt.legend(loc = \"best\")#图例\n",
    "    plt.yticks(np.arange(0, 100, 20))\n",
    "    plt.show()\n",
    "x = [4,6,8,10,12,14,16,18,20,22,24]\n",
    "label_lst = ['SR_C1', 'SR_C2', 'SR_C3']\n",
    "feature_line_chart_plot(x, SR_C1, SR_C2, SR_C3,label_lst)"
   ]
  },
  {
   "cell_type": "code",
   "execution_count": 27,
   "id": "5ce1898e",
   "metadata": {
    "ExecuteTime": {
     "end_time": "2023-02-28T07:50:09.313301Z",
     "start_time": "2023-02-28T07:50:09.168306Z"
    }
   },
   "outputs": [
    {
     "name": "stderr",
     "output_type": "stream",
     "text": [
      "/home/hanl/miniconda3/envs/mytensor/lib/python3.9/site-packages/ipykernel/ipkernel.py:287: DeprecationWarning: `should_run_async` will not call `transform_cell` automatically in the future. Please pass the result to `transformed_cell` argument and any exception that happen during thetransform in `preprocessing_exc_tuple` in IPython 7.17 and above.\n",
      "  and should_run_async(code)\n"
     ]
    },
    {
     "data": {
      "image/png": "[encoded data removed]",
      "text/plain": [
       "<Figure size 300x200 with 1 Axes>"
      ]
     },
     "metadata": {},
     "output_type": "display_data"
    }
   ],
   "source": [
    "from matplotlib import pyplot as plt \n",
    "def feature_line_chart_plot(x,l1,l2,l3,label_lst):\n",
    "    plt.figure(figsize=(3, 2)) \n",
    "    plt.plot(x,l1,'o-',color = '#1b9e77',label=label_lst[0])#s-:方形\n",
    "    plt.plot(x,l2,'o-',color = '#d95f02',label=label_lst[1])#o-:圆形\n",
    "    plt.plot(x,l3,'o-',color = '#7570b3',label=label_lst[2])#o-:圆形\n",
    "    plt.xlabel(\"time\")#横坐标名字\n",
    "    plt.ylabel(\"percent(%)\")#纵坐标名字\n",
    "    plt.legend(loc = \"best\")#图例\n",
    "    plt.yticks(np.arange(0, 51, 10))\n",
    "    plt.show()\n",
    "x = [4,6,8,10,12,14,16,18,20,22,24]\n",
    "label_lst = ['QR_C1', 'QR_C2', 'QR_C3']\n",
    "feature_line_chart_plot(x,QR_C1,QR_C2,QR_C3,label_lst)"
   ]
  }
 ],
 "metadata": {
  "kernelspec": {
   "display_name": "Python [conda env:mytensor]",
   "language": "python",
   "name": "conda-env-mytensor-py"
  },
  "language_info": {
   "codemirror_mode": {
    "name": "ipython",
    "version": 3
   },
   "file_extension": ".py",
   "mimetype": "text/x-python",
   "name": "python",
   "nbconvert_exporter": "python",
   "pygments_lexer": "ipython3",
   "version": "3.9.12"
  },
  "toc": {
   "base_numbering": 1,
   "nav_menu": {},
   "number_sections": true,
   "sideBar": true,
   "skip_h1_title": false,
   "title_cell": "Table of Contents",
   "title_sidebar": "Contents",
   "toc_cell": false,
   "toc_position": {
    "height": "calc(100% - 180px)",
    "left": "10px",
    "top": "150px",
    "width": "181.016px"
   },
   "toc_section_display": true,
   "toc_window_display": false
  },
  "varInspector": {
   "cols": {
    "lenName": 16,
    "lenType": 16,
    "lenVar": 40
   },
   "kernels_config": {
    "python": {
     "delete_cmd_postfix": "",
     "delete_cmd_prefix": "del ",
     "library": "var_list.py",
     "varRefreshCmd": "print(var_dic_list())"
    },
    "r": {
     "delete_cmd_postfix": ") ",
     "delete_cmd_prefix": "rm(",
     "library": "var_list.r",
     "varRefreshCmd": "cat(var_dic_list()) "
    }
   },
   "types_to_exclude": [
    "module",
    "function",
    "builtin_function_or_method",
    "instance",
    "_Feature"
   ],
   "window_display": false
  }
 },
 "nbformat": 4,
 "nbformat_minor": 5
}
