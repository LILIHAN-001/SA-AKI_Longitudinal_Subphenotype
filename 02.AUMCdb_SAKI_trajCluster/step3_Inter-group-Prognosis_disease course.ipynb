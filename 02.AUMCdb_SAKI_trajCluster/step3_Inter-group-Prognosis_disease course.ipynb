{
 "cells": [
  {
   "cell_type": "markdown",
   "id": "ea7f2482",
   "metadata": {},
   "source": [
    "# def"
   ]
  },
  {
   "cell_type": "code",
   "execution_count": 1,
   "id": "8afe3825",
   "metadata": {
    "ExecuteTime": {
     "end_time": "2024-02-07T17:26:36.334213Z",
     "start_time": "2024-02-07T17:26:35.439858Z"
    }
   },
   "outputs": [],
   "source": [
    "import pandas as pd\n",
    "import time\n",
    "import numpy as np\n",
    "import matplotlib.pyplot as plt\n",
    "pd.options.display.max_rows = 300\n",
    "import math\n",
    "import datetime as dt\n",
    "from tableone import TableOne, load_dataset\n",
    "import itertools\n",
    "import random\n",
    "import scipy.stats as stats"
   ]
  },
  {
   "cell_type": "code",
   "execution_count": null,
   "id": "f649a5a9",
   "metadata": {
    "ExecuteTime": {
     "end_time": "2024-02-07T17:26:36.487078Z",
     "start_time": "2024-02-07T17:26:36.335712Z"
    }
   },
   "outputs": [],
   "source": [
    "df_type = pd.read_csv(\"df_mixAK_fea3_C3_aumc.csv\")\n",
    "df_type_filt = df_type.loc[:,[\"stay_id\",\"groupHPD\"]]\n",
    "df_type_filt = df_type_filt.drop_duplicates()\n",
    "all_lst = df_type_filt.stay_id.unique().tolist()\n",
    "print(\"Number of included patients:\",len(all_lst))\n",
    "\n",
    "df_type_filt[\"groupHPD\"].value_counts()"
   ]
  },
  {
   "cell_type": "markdown",
   "id": "dc799461",
   "metadata": {},
   "source": [
    "# The duration of the entire course of SAKI "
   ]
  },
  {
   "cell_type": "code",
   "execution_count": 3,
   "id": "a68a4775",
   "metadata": {
    "ExecuteTime": {
     "end_time": "2024-02-07T17:26:36.495313Z",
     "start_time": "2024-02-07T17:26:36.488487Z"
    }
   },
   "outputs": [
    {
     "name": "stdout",
     "output_type": "stream",
     "text": [
      "1843\n"
     ]
    },
    {
     "name": "stderr",
     "output_type": "stream",
     "text": [
      "/home/hanl/miniconda3/envs/mytensor/lib/python3.9/site-packages/ipykernel/ipkernel.py:287: DeprecationWarning: `should_run_async` will not call `transform_cell` automatically in the future. Please pass the result to `transformed_cell` argument and any exception that happen during thetransform in `preprocessing_exc_tuple` in IPython 7.17 and above.\n",
      "  and should_run_async(code)\n"
     ]
    }
   ],
   "source": [
    "df_first_aki = pd.read_csv(\"/public/hanl/jupyter_dir/kidney_sepsis_penotype_v3/00.data_aumc/disease_definition/AKI/aumc_first_and_max_stage.csv\")\n",
    "first_aki_lst = df_first_aki[df_first_aki.first_aki_stage == 1].stay_id.unique()\n",
    "print(len(first_aki_lst))"
   ]
  },
  {
   "cell_type": "markdown",
   "id": "fe0a8713",
   "metadata": {},
   "source": [
    "## sepsis to sa-aki"
   ]
  },
  {
   "cell_type": "code",
   "execution_count": 4,
   "id": "64c0c3e6",
   "metadata": {
    "ExecuteTime": {
     "end_time": "2024-02-07T17:26:37.650341Z",
     "start_time": "2024-02-07T17:26:36.496513Z"
    }
   },
   "outputs": [
    {
     "name": "stderr",
     "output_type": "stream",
     "text": [
      "/home/hanl/miniconda3/envs/mytensor/lib/python3.9/site-packages/ipykernel/ipkernel.py:287: DeprecationWarning: `should_run_async` will not call `transform_cell` automatically in the future. Please pass the result to `transformed_cell` argument and any exception that happen during thetransform in `preprocessing_exc_tuple` in IPython 7.17 and above.\n",
      "  and should_run_async(code)\n",
      "/home/hanl/miniconda3/envs/mytensor/lib/python3.9/site-packages/ipykernel/pylab/backend_inline.py:164: DeprecationWarning: `configure_inline_support` is deprecated since IPython 7.23, directly use `matplotlib_inline.backend_inline.configure_inline_support()`\n",
      "  configure_inline_support(ip, backend)\n"
     ]
    },
    {
     "name": "stdout",
     "output_type": "stream",
     "text": [
      "p-value annotation legend:\n",
      "      ns: p <= 1.00e+00\n",
      "       *: 1.00e-02 < p <= 5.00e-02\n",
      "      **: 1.00e-03 < p <= 1.00e-02\n",
      "     ***: 1.00e-04 < p <= 1.00e-03\n",
      "    ****: p <= 1.00e-04\n",
      "\n",
      "1 vs. 2: Mann-Whitney-Wilcoxon test two-sided, P_val:9.945e-02 U_stat=2.642e+05\n",
      "2 vs. 3: Mann-Whitney-Wilcoxon test two-sided, P_val:3.085e-04 U_stat=1.308e+05\n",
      "1 vs. 3: Mann-Whitney-Wilcoxon test two-sided, P_val:3.036e-02 U_stat=4.984e+04\n"
     ]
    },
    {
     "data": {
      "image/png": "[encoded data removed]",
      "text/plain": [
       "<Figure size 300x200 with 1 Axes>"
      ]
     },
     "metadata": {},
     "output_type": "display_data"
    }
   ],
   "source": [
    "df_time_all = pd.read_csv(\"/public/hanl/jupyter_dir/kidney_sepsis_penotype_v3/04.other_feature_in_three_dataset/04.survival_treatment/df_time_all.csv\")\n",
    "dataset_dict = {\"mimic\":\"MIMIC\",\"aumcdb\":\"AUMCdb\",\"eicu\":\"eICU\"}\n",
    "df_time_all = df_time_all[df_time_all[\"dataset\"]==\"aumcdb\"]\n",
    "df_time_all = df_time_all[df_time_all[\"stay_id\"].isin(first_aki_lst)]\n",
    "\n",
    "import seaborn as sns\n",
    "fig, ax = plt.subplots(1,1, figsize=(3,2))\n",
    "ax=plt.gca()\n",
    "ax.spines['right'].set_visible(False)\n",
    "ax.spines['left'].set_visible(False)\n",
    "ax.spines['top'].set_visible(False)\n",
    "f1 = plt.boxplot([df_time_all[df_time_all[\"groupHPD\"]==1][\"los_saki-sepsis\"], df_time_all[df_time_all[\"groupHPD\"]==2][\"los_saki-sepsis\"], df_time_all[df_time_all[\"groupHPD\"]==3][\"los_saki-sepsis\"]],\n",
    "           whis=(10,90),showfliers=False,showmeans=True,vert=False,patch_artist=True,meanprops={'marker':'D','markerfacecolor':'black','markersize':3,'markeredgecolor':'black'},medianprops={'color':'black'}) \n",
    "\n",
    "color = [\"#74a8ff\",\"#3fc968\",\"#f8746a\"]\n",
    "for box,c in zip(f1['boxes'], color):\n",
    "    box.set(facecolor = c,edgecolor='black')\n",
    "plt.xlabel(\"Sepsis to SA-AKI (Hours)\")\n",
    "plt.yticks([1,2,3],[\"C1\",\"C2\",\"C3\"]) \n",
    "\n",
    "from statannotations.Annotator import Annotator\n",
    "box_pairs = [(2,1),(3,1),(3,2)]\n",
    "fig_args = {'x': 'groupHPD',\n",
    "            'y': 'los_saki-sepsis',\n",
    "            'data': df_time_all,\n",
    "            'dodge': True}\n",
    "annotator = Annotator(ax=ax, pairs=box_pairs, **fig_args)\n",
    "\n",
    "fig_args_horiz = {**fig_args,'x': 'los_saki-sepsis', 'y': 'groupHPD'}\n",
    "configuration = {'test':'Mann-Whitney', 'comparisons_correction':None, 'text_format':'star', 'loc':'outside'}\n",
    "annotator.new_plot(ax, orient='h', **fig_args_horiz)\n",
    "annotator.configure(**configuration).apply_test()\n",
    "annotator.apply_and_annotate()\n",
    "plt.savefig('./result/aumcdb_time_interval_sepsis2saaaki.pdf', bbox_inches = 'tight')\n",
    "plt.show()"
   ]
  },
  {
   "cell_type": "code",
   "execution_count": null,
   "id": "30a016be",
   "metadata": {
    "ExecuteTime": {
     "end_time": "2024-02-07T17:26:37.678269Z",
     "start_time": "2024-02-07T17:26:37.651321Z"
    }
   },
   "outputs": [
    {
     "name": "stderr",
     "output_type": "stream",
     "text": [
      "/home/hanl/miniconda3/envs/mytensor/lib/python3.9/site-packages/ipykernel/ipkernel.py:287: DeprecationWarning: `should_run_async` will not call `transform_cell` automatically in the future. Please pass the result to `transformed_cell` argument and any exception that happen during thetransform in `preprocessing_exc_tuple` in IPython 7.17 and above.\n",
      "  and should_run_async(code)\n"
     ]
    },
    {
     "data": {
      "text/html": [
       "<div>\n",
       "<style scoped>\n",
       "    .dataframe tbody tr th:only-of-type {\n",
       "        vertical-align: middle;\n",
       "    }\n",
       "\n",
       "    .dataframe tbody tr th {\n",
       "        vertical-align: top;\n",
       "    }\n",
       "\n",
       "    .dataframe thead th {\n",
       "        text-align: right;\n",
       "    }\n",
       "</style>\n",
       "<table border=\"1\" class=\"dataframe\">\n",
       "  <thead>\n",
       "    <tr style=\"text-align: right;\">\n",
       "      <th></th>\n",
       "      <th>class</th>\n",
       "      <th>Mean</th>\n",
       "      <th>q10</th>\n",
       "      <th>q25</th>\n",
       "      <th>q50</th>\n",
       "      <th>q75</th>\n",
       "      <th>q90</th>\n",
       "    </tr>\n",
       "  </thead>\n",
       "  <tbody>\n",
       "    <tr>\n",
       "      <th>0</th>\n",
       "      <td>C1</td>\n",
       "      <td>11.59</td>\n",
       "      <td>1.0</td>\n",
       "      <td>2.0</td>\n",
       "      <td>3.0</td>\n",
       "      <td>15.0</td>\n",
       "      <td>29.9</td>\n",
       "    </tr>\n",
       "    <tr>\n",
       "      <th>1</th>\n",
       "      <td>C2</td>\n",
       "      <td>11.88</td>\n",
       "      <td>1.0</td>\n",
       "      <td>2.0</td>\n",
       "      <td>3.0</td>\n",
       "      <td>17.0</td>\n",
       "      <td>31.0</td>\n",
       "    </tr>\n",
       "    <tr>\n",
       "      <th>2</th>\n",
       "      <td>C3</td>\n",
       "      <td>8.52</td>\n",
       "      <td>1.0</td>\n",
       "      <td>2.0</td>\n",
       "      <td>3.0</td>\n",
       "      <td>9.0</td>\n",
       "      <td>19.0</td>\n",
       "    </tr>\n",
       "  </tbody>\n",
       "</table>\n",
       "</div>"
      ],
      "text/plain": [
       "  class   Mean  q10  q25  q50   q75   q90\n",
       "0    C1  11.59  1.0  2.0  3.0  15.0  29.9\n",
       "1    C2  11.88  1.0  2.0  3.0  17.0  31.0\n",
       "2    C3   8.52  1.0  2.0  3.0   9.0  19.0"
      ]
     },
     "execution_count": 5,
     "metadata": {},
     "output_type": "execute_result"
    }
   ],
   "source": [
    "# Output the median, mean and quantiles of each data group\n",
    "data_groups = [\n",
    "    df_time_all[df_time_all[\"groupHPD\"]==1][\"los_saki-sepsis\"], \n",
    "    df_time_all[df_time_all[\"groupHPD\"]==2][\"los_saki-sepsis\"], \n",
    "    df_time_all[df_time_all[\"groupHPD\"]==3][\"los_saki-sepsis\"]\n",
    "]\n",
    "\n",
    "df_out = pd.DataFrame(columns = [\"class\",\"Mean\",\"q10\",\"q25\",\"q50\",\"q75\",\"q90\"])\n",
    "for i, group_data in enumerate(data_groups):\n",
    "    i = \"C\" + str(int(i)+1) \n",
    "    mean = round(np.mean(group_data),2)\n",
    "    q10 = round(np.percentile(group_data, 10),2)\n",
    "    q25 = round(np.percentile(group_data, 25),2)\n",
    "    q50 = round(np.percentile(group_data, 50),2)\n",
    "    q75 = round(np.percentile(group_data, 75),2)\n",
    "    q90 = round(np.percentile(group_data, 90),2)\n",
    "    df_out.loc[len(df_out)] = [i,mean,q10,q25,q50,q75,q90]\n",
    "df_out"
   ]
  },
  {
   "cell_type": "code",
   "execution_count": null,
   "id": "1c750ba1",
   "metadata": {},
   "outputs": [],
   "source": []
  },
  {
   "cell_type": "markdown",
   "id": "bc54cf29",
   "metadata": {},
   "source": [
    "## first AKI stage to max AKI stages"
   ]
  },
  {
   "cell_type": "code",
   "execution_count": null,
   "id": "e2081f42",
   "metadata": {
    "ExecuteTime": {
     "end_time": "2024-02-07T17:26:37.946032Z",
     "start_time": "2024-02-07T17:26:37.679219Z"
    }
   },
   "outputs": [],
   "source": [
    "df_time = pd.read_csv(\"/public/hanl/jupyter_dir/kidney_sepsis_penotype_v3/00.data_aumc//disease_definition/AKI/aumc_first_and_max_stage.csv\")\n",
    "df_time = pd.merge(df_time,df_type_filt,how=\"inner\",on=\"stay_id\")\n",
    "print(\"Patients with two-thirds of AKI at the initial diagnosis stage:\",df_time[df_time[\"first_aki_stage\"].isin([3])].shape[0])\n",
    "df_time = df_time[~df_time[\"first_aki_stage\"].isin([3])]\n",
    "df_time = df_time[df_time[\"max_aki_stage\"]!=df_time[\"first_aki_stage\"]]\n",
    "\n",
    "df_time[\"during_time\"] = (df_time[\"max_aki_time\"] - df_time[\"first_aki_onset\"])/24\n",
    "\n",
    "import seaborn as sns\n",
    "fig, ax = plt.subplots(1,1, figsize=(3,2))\n",
    "ax=plt.gca()\n",
    "ax.spines['right'].set_visible(False)\n",
    "ax.spines['left'].set_visible(False)\n",
    "ax.spines['top'].set_visible(False) \n",
    "f1 = plt.boxplot([df_time[df_time[\"groupHPD\"]==1][\"during_time\"], df_time[df_time[\"groupHPD\"]==2][\"during_time\"], df_time[df_time[\"groupHPD\"]==3][\"during_time\"]],\n",
    "           whis=(10,90),showfliers=False,showmeans=True,vert=False,patch_artist=True,meanprops={'marker':'D','markerfacecolor':'black','markersize':3,'markeredgecolor':'black'},medianprops={'color':'black'}) \n",
    "color = [\"#74a8ff\",\"#3fc968\",\"#f8746a\"]\n",
    "for box,c in zip(f1['boxes'], color):\n",
    "    box.set(facecolor = c,edgecolor='black')\n",
    "    \n",
    "plt.xlabel(\"First to max AKI_stages (Hours)\")\n",
    "plt.yticks([1,2,3],[\"C1\",\"C2\",\"C3\"]) \n",
    "\n",
    "from statannotations.Annotator import Annotator\n",
    "box_pairs = [(2,1),(3,1),(3,2)]\n",
    "fig_args = {'x': 'groupHPD',\n",
    "            'y': 'during_time',\n",
    "            'data': df_time,\n",
    "            'dodge': True}\n",
    "annotator = Annotator(ax=ax, pairs=box_pairs, **fig_args)\n",
    "\n",
    "fig_args_horiz = {**fig_args,'x': 'during_time', 'y': 'groupHPD'}\n",
    "configuration = {'test':'Mann-Whitney', 'comparisons_correction':None, 'text_format':'star', 'loc':'outside'}\n",
    "annotator.new_plot(ax, orient='h', **fig_args_horiz)\n",
    "annotator.configure(**configuration).apply_test()\n",
    "annotator.apply_and_annotate()\n",
    "plt.savefig('./result/aumcdb_time_interval_first2max_AKIstages.pdf', bbox_inches = 'tight')\n",
    "\n",
    "plt.show()"
   ]
  },
  {
   "cell_type": "code",
   "execution_count": null,
   "id": "cd509651",
   "metadata": {
    "ExecuteTime": {
     "end_time": "2024-02-07T17:26:37.975976Z",
     "start_time": "2024-02-07T17:26:37.947289Z"
    }
   },
   "outputs": [
    {
     "name": "stderr",
     "output_type": "stream",
     "text": [
      "/home/hanl/miniconda3/envs/mytensor/lib/python3.9/site-packages/ipykernel/ipkernel.py:287: DeprecationWarning: `should_run_async` will not call `transform_cell` automatically in the future. Please pass the result to `transformed_cell` argument and any exception that happen during thetransform in `preprocessing_exc_tuple` in IPython 7.17 and above.\n",
      "  and should_run_async(code)\n"
     ]
    },
    {
     "data": {
      "text/html": [
       "<div>\n",
       "<style scoped>\n",
       "    .dataframe tbody tr th:only-of-type {\n",
       "        vertical-align: middle;\n",
       "    }\n",
       "\n",
       "    .dataframe tbody tr th {\n",
       "        vertical-align: top;\n",
       "    }\n",
       "\n",
       "    .dataframe thead th {\n",
       "        text-align: right;\n",
       "    }\n",
       "</style>\n",
       "<table border=\"1\" class=\"dataframe\">\n",
       "  <thead>\n",
       "    <tr style=\"text-align: right;\">\n",
       "      <th></th>\n",
       "      <th>class</th>\n",
       "      <th>Mean</th>\n",
       "      <th>q10</th>\n",
       "      <th>q25</th>\n",
       "      <th>q50</th>\n",
       "      <th>q75</th>\n",
       "      <th>q90</th>\n",
       "    </tr>\n",
       "  </thead>\n",
       "  <tbody>\n",
       "    <tr>\n",
       "      <th>0</th>\n",
       "      <td>C1</td>\n",
       "      <td>0.54</td>\n",
       "      <td>0.12</td>\n",
       "      <td>0.17</td>\n",
       "      <td>0.38</td>\n",
       "      <td>0.46</td>\n",
       "      <td>1.38</td>\n",
       "    </tr>\n",
       "    <tr>\n",
       "      <th>1</th>\n",
       "      <td>C2</td>\n",
       "      <td>0.43</td>\n",
       "      <td>0.12</td>\n",
       "      <td>0.12</td>\n",
       "      <td>0.25</td>\n",
       "      <td>0.38</td>\n",
       "      <td>1.09</td>\n",
       "    </tr>\n",
       "    <tr>\n",
       "      <th>2</th>\n",
       "      <td>C3</td>\n",
       "      <td>0.61</td>\n",
       "      <td>0.12</td>\n",
       "      <td>0.17</td>\n",
       "      <td>0.38</td>\n",
       "      <td>0.83</td>\n",
       "      <td>1.48</td>\n",
       "    </tr>\n",
       "  </tbody>\n",
       "</table>\n",
       "</div>"
      ],
      "text/plain": [
       "  class  Mean   q10   q25   q50   q75   q90\n",
       "0    C1  0.54  0.12  0.17  0.38  0.46  1.38\n",
       "1    C2  0.43  0.12  0.12  0.25  0.38  1.09\n",
       "2    C3  0.61  0.12  0.17  0.38  0.83  1.48"
      ]
     },
     "execution_count": 7,
     "metadata": {},
     "output_type": "execute_result"
    }
   ],
   "source": [
    "# Output the median, mean and quantiles of each data group\n",
    "data_groups = [df_time[df_time[\"groupHPD\"]==1][\"during_time\"],\n",
    "               df_time[df_time[\"groupHPD\"]==2][\"during_time\"], \n",
    "               df_time[df_time[\"groupHPD\"]==3][\"during_time\"]]\n",
    "\n",
    "df_out = pd.DataFrame(columns = [\"class\",\"Mean\",\"q10\",\"q25\",\"q50\",\"q75\",\"q90\"])\n",
    "for i, group_data in enumerate(data_groups):\n",
    "    i = \"C\" + str(int(i)+1) \n",
    "    mean = round(np.mean(group_data),2)\n",
    "    q10 = round(np.percentile(group_data, 10),2)\n",
    "    q25 = round(np.percentile(group_data, 25),2)\n",
    "    q50 = round(np.percentile(group_data, 50),2)\n",
    "    q75 = round(np.percentile(group_data, 75),2)\n",
    "    q90 = round(np.percentile(group_data, 90),2)\n",
    "    df_out.loc[len(df_out)] = [i,mean,q10,q25,q50,q75,q90]\n",
    "df_out"
   ]
  },
  {
   "cell_type": "code",
   "execution_count": null,
   "id": "c2717bc6",
   "metadata": {},
   "outputs": [],
   "source": [
    "0.38[0.17,0.46]\n",
    "0.25[0.12,0.38]\n",
    "0.38[0.17,0.83]"
   ]
  },
  {
   "cell_type": "markdown",
   "id": "a37f4591",
   "metadata": {},
   "source": [
    "## first AKI to AKI endtime (with a 7-day limit)"
   ]
  },
  {
   "cell_type": "code",
   "execution_count": null,
   "id": "c929b5ab",
   "metadata": {
    "ExecuteTime": {
     "end_time": "2024-02-07T17:29:26.394159Z",
     "start_time": "2024-02-07T17:29:26.160394Z"
    }
   },
   "outputs": [],
   "source": [
    "df_time = pd.read_csv(\"/public/hanl/jupyter_dir/kidney_sepsis_penotype_v3/00.data_aumc/disease_definition/AKI/aumc_first_and_max_stage.csv\")\n",
    "df_time = pd.merge(df_time,df_type_filt,how=\"inner\",on=\"stay_id\")\n",
    "print(\"Patients with two-thirds of AKI at the initial diagnosis stage:\",df_time[df_time[\"first_aki_stage\"].isin([2,3])].shape[0])\n",
    "df_time = df_time[~df_time[\"first_aki_stage\"].isin([2,3])]\n",
    "\n",
    "df_time[\"during_time\"] = (df_time[\"aki_endtime\"] - df_time[\"first_aki_onset\"] )/24\n",
    "# df_time[\"dealt_aki_stage\"] = df_time[\"max_aki_stage\"] - df_time[\"first_aki_stage\"]\n",
    "# df_time.loc[df_time[\"dealt_aki_stage\"]==0, \"dealt_aki_stage\"] = 1\n",
    "# df_time[\"during_time\"] = round(df_time[\"during_time\"]/df_time[\"dealt_aki_stage\"],0)\n",
    "#df_time = df_time.dropna(how='any', subset=['during_time'])\n",
    "print(len(df_time.stay_id.unique()))\n",
    "\n",
    "import seaborn as sns\n",
    "fig, ax = plt.subplots(1,1, figsize=(3,2))\n",
    "ax=plt.gca()\n",
    "ax.spines['right'].set_visible(False)\n",
    "ax.spines['left'].set_visible(False)\n",
    "ax.spines['top'].set_visible(False) \n",
    "f1 = plt.boxplot([df_time[df_time[\"groupHPD\"]==1][\"during_time\"], df_time[df_time[\"groupHPD\"]==2][\"during_time\"], df_time[df_time[\"groupHPD\"]==3][\"during_time\"]],\n",
    "           whis=(10,90),showfliers=False,showmeans=True,vert=False,patch_artist=True,meanprops={'marker':'D','markerfacecolor':'black','markersize':3,'markeredgecolor':'black'},medianprops={'color':'black'}) \n",
    "color = [\"#74a8ff\",\"#3fc968\",\"#f8746a\"]\n",
    "for box,c in zip(f1['boxes'], color):\n",
    "    box.set(facecolor = c,edgecolor='black')\n",
    "    \n",
    "plt.xlabel(\"First to end AKI_stages (Hours)\")\n",
    "plt.yticks([1,2,3],[\"C1\",\"C2\",\"C3\"]) \n",
    "\n",
    "from statannotations.Annotator import Annotator\n",
    "box_pairs = [(2,1),(3,1),(3,2)]\n",
    "fig_args = {'x': 'groupHPD',\n",
    "            'y': 'during_time',\n",
    "            'data': df_time,\n",
    "            'dodge': True}\n",
    "annotator = Annotator(ax=ax, pairs=box_pairs, **fig_args)\n",
    "\n",
    "fig_args_horiz = {**fig_args,'x': 'during_time', 'y': 'groupHPD'}\n",
    "configuration = {'test':'Mann-Whitney', 'comparisons_correction':None, 'text_format':'star', 'loc':'outside'}\n",
    "annotator.new_plot(ax, orient='h', **fig_args_horiz)\n",
    "annotator.configure(**configuration).apply_test()\n",
    "annotator.apply_and_annotate()\n",
    "plt.savefig('./result/aumcdb_time_interval_first2end_AKIstages_in7day.pdf', bbox_inches = 'tight')\n",
    "plt.show()"
   ]
  },
  {
   "cell_type": "code",
   "execution_count": null,
   "id": "e1a532c7",
   "metadata": {
    "ExecuteTime": {
     "end_time": "2024-02-07T17:29:30.517309Z",
     "start_time": "2024-02-07T17:29:30.491001Z"
    }
   },
   "outputs": [
    {
     "name": "stderr",
     "output_type": "stream",
     "text": [
      "/home/hanl/miniconda3/envs/mytensor/lib/python3.9/site-packages/ipykernel/ipkernel.py:287: DeprecationWarning: `should_run_async` will not call `transform_cell` automatically in the future. Please pass the result to `transformed_cell` argument and any exception that happen during thetransform in `preprocessing_exc_tuple` in IPython 7.17 and above.\n",
      "  and should_run_async(code)\n"
     ]
    },
    {
     "data": {
      "text/html": [
       "<div>\n",
       "<style scoped>\n",
       "    .dataframe tbody tr th:only-of-type {\n",
       "        vertical-align: middle;\n",
       "    }\n",
       "\n",
       "    .dataframe tbody tr th {\n",
       "        vertical-align: top;\n",
       "    }\n",
       "\n",
       "    .dataframe thead th {\n",
       "        text-align: right;\n",
       "    }\n",
       "</style>\n",
       "<table border=\"1\" class=\"dataframe\">\n",
       "  <thead>\n",
       "    <tr style=\"text-align: right;\">\n",
       "      <th></th>\n",
       "      <th>class</th>\n",
       "      <th>Mean</th>\n",
       "      <th>q10</th>\n",
       "      <th>q25</th>\n",
       "      <th>q50</th>\n",
       "      <th>q75</th>\n",
       "      <th>q90</th>\n",
       "    </tr>\n",
       "  </thead>\n",
       "  <tbody>\n",
       "    <tr>\n",
       "      <th>0</th>\n",
       "      <td>C1</td>\n",
       "      <td>3.85</td>\n",
       "      <td>0.67</td>\n",
       "      <td>1.82</td>\n",
       "      <td>3.60</td>\n",
       "      <td>6.21</td>\n",
       "      <td>6.79</td>\n",
       "    </tr>\n",
       "    <tr>\n",
       "      <th>1</th>\n",
       "      <td>C2</td>\n",
       "      <td>2.00</td>\n",
       "      <td>0.37</td>\n",
       "      <td>0.88</td>\n",
       "      <td>1.77</td>\n",
       "      <td>2.88</td>\n",
       "      <td>3.58</td>\n",
       "    </tr>\n",
       "    <tr>\n",
       "      <th>2</th>\n",
       "      <td>C3</td>\n",
       "      <td>3.82</td>\n",
       "      <td>1.21</td>\n",
       "      <td>1.85</td>\n",
       "      <td>3.08</td>\n",
       "      <td>6.29</td>\n",
       "      <td>6.83</td>\n",
       "    </tr>\n",
       "  </tbody>\n",
       "</table>\n",
       "</div>"
      ],
      "text/plain": [
       "  class  Mean   q10   q25   q50   q75   q90\n",
       "0    C1  3.85  0.67  1.82  3.60  6.21  6.79\n",
       "1    C2  2.00  0.37  0.88  1.77  2.88  3.58\n",
       "2    C3  3.82  1.21  1.85  3.08  6.29  6.83"
      ]
     },
     "execution_count": 18,
     "metadata": {},
     "output_type": "execute_result"
    }
   ],
   "source": [
    "# Output the median, mean and quantiles of each data group\n",
    "data_groups = [df_time[df_time[\"groupHPD\"]==1][\"during_time\"],\n",
    "               df_time[df_time[\"groupHPD\"]==2][\"during_time\"],\n",
    "               df_time[df_time[\"groupHPD\"]==3][\"during_time\"]]\n",
    "\n",
    "df_out = pd.DataFrame(columns = [\"class\",\"Mean\",\"q10\",\"q25\",\"q50\",\"q75\",\"q90\"])\n",
    "for i, group_data in enumerate(data_groups):\n",
    "    i = \"C\" + str(int(i)+1) \n",
    "    mean = round(np.mean(group_data),2)\n",
    "    q10 = round(np.percentile(group_data, 10),2)\n",
    "    q25 = round(np.percentile(group_data, 25),2)\n",
    "    q50 = round(np.percentile(group_data, 50),2)\n",
    "    q75 = round(np.percentile(group_data, 75),2)\n",
    "    q90 = round(np.percentile(group_data, 90),2)\n",
    "    df_out.loc[len(df_out)] = [i,mean,q10,q25,q50,q75,q90]\n",
    "df_out"
   ]
  },
  {
   "cell_type": "code",
   "execution_count": null,
   "id": "f2e8e541",
   "metadata": {},
   "outputs": [],
   "source": [
    "1.77[0.88,2.88]\n",
    "3.60[1.82,6.21]\n",
    "3.08[1.85,1.85]"
   ]
  },
  {
   "cell_type": "code",
   "execution_count": null,
   "id": "4da91bdf",
   "metadata": {
    "ExecuteTime": {
     "end_time": "2024-02-07T17:29:56.744708Z",
     "start_time": "2024-02-07T17:29:56.715979Z"
    }
   },
   "outputs": [
    {
     "name": "stderr",
     "output_type": "stream",
     "text": [
      "/home/hanl/miniconda3/envs/mytensor/lib/python3.9/site-packages/ipykernel/ipkernel.py:287: DeprecationWarning: `should_run_async` will not call `transform_cell` automatically in the future. Please pass the result to `transformed_cell` argument and any exception that happen during thetransform in `preprocessing_exc_tuple` in IPython 7.17 and above.\n",
      "  and should_run_async(code)\n"
     ]
    },
    {
     "data": {
      "text/html": [
       "<div>\n",
       "<style scoped>\n",
       "    .dataframe tbody tr th:only-of-type {\n",
       "        vertical-align: middle;\n",
       "    }\n",
       "\n",
       "    .dataframe tbody tr th {\n",
       "        vertical-align: top;\n",
       "    }\n",
       "\n",
       "    .dataframe thead th {\n",
       "        text-align: right;\n",
       "    }\n",
       "</style>\n",
       "<table border=\"1\" class=\"dataframe\">\n",
       "  <thead>\n",
       "    <tr style=\"text-align: right;\">\n",
       "      <th></th>\n",
       "      <th>class</th>\n",
       "      <th>Mean</th>\n",
       "      <th>q10</th>\n",
       "      <th>q25</th>\n",
       "      <th>q50</th>\n",
       "      <th>q75</th>\n",
       "      <th>q90</th>\n",
       "    </tr>\n",
       "  </thead>\n",
       "  <tbody>\n",
       "    <tr>\n",
       "      <th>0</th>\n",
       "      <td>C0</td>\n",
       "      <td>0.1</td>\n",
       "      <td>0.0</td>\n",
       "      <td>0.0</td>\n",
       "      <td>0.1</td>\n",
       "      <td>0.1</td>\n",
       "      <td>0.3</td>\n",
       "    </tr>\n",
       "    <tr>\n",
       "      <th>1</th>\n",
       "      <td>C1</td>\n",
       "      <td>0.2</td>\n",
       "      <td>0.0</td>\n",
       "      <td>0.1</td>\n",
       "      <td>0.2</td>\n",
       "      <td>0.3</td>\n",
       "      <td>0.3</td>\n",
       "    </tr>\n",
       "    <tr>\n",
       "      <th>2</th>\n",
       "      <td>C2</td>\n",
       "      <td>0.1</td>\n",
       "      <td>0.0</td>\n",
       "      <td>0.0</td>\n",
       "      <td>0.1</td>\n",
       "      <td>0.1</td>\n",
       "      <td>0.1</td>\n",
       "    </tr>\n",
       "    <tr>\n",
       "      <th>3</th>\n",
       "      <td>C3</td>\n",
       "      <td>0.2</td>\n",
       "      <td>0.1</td>\n",
       "      <td>0.1</td>\n",
       "      <td>0.1</td>\n",
       "      <td>0.3</td>\n",
       "      <td>0.3</td>\n",
       "    </tr>\n",
       "  </tbody>\n",
       "</table>\n",
       "</div>"
      ],
      "text/plain": [
       "  class  Mean  q10  q25  q50  q75  q90\n",
       "0    C0   0.1  0.0  0.0  0.1  0.1  0.3\n",
       "1    C1   0.2  0.0  0.1  0.2  0.3  0.3\n",
       "2    C2   0.1  0.0  0.0  0.1  0.1  0.1\n",
       "3    C3   0.2  0.1  0.1  0.1  0.3  0.3"
      ]
     },
     "execution_count": 19,
     "metadata": {},
     "output_type": "execute_result"
    }
   ],
   "source": [
    "# Output the median, mean and quantiles of each data group\n",
    "data_groups = [df_time[\"during_time\"],\n",
    "               df_time[df_time[\"groupHPD\"]==1][\"during_time\"],\n",
    "               df_time[df_time[\"groupHPD\"]==2][\"during_time\"],\n",
    "               df_time[df_time[\"groupHPD\"]==3][\"during_time\"]]\n",
    "\n",
    "df_out = pd.DataFrame(columns = [\"class\",\"Mean\",\"q10\",\"q25\",\"q50\",\"q75\",\"q90\"])\n",
    "for i, group_data in enumerate(data_groups):\n",
    "    i = \"C\" + str(int(i)) \n",
    "    mean = round(np.mean(group_data)/24,1)\n",
    "    q10 = round(np.percentile(group_data, 10)/24,1)\n",
    "    q25 = round(np.percentile(group_data, 25)/24,1)\n",
    "    q50 = round(np.percentile(group_data, 50)/24,1)\n",
    "    q75 = round(np.percentile(group_data, 75)/24,1)\n",
    "    q90 = round(np.percentile(group_data, 90)/24,1)\n",
    "    df_out.loc[len(df_out)] = [i,mean,q10,q25,q50,q75,q90]\n",
    "df_out\n",
    "# C0 refer to all patients"
   ]
  },
  {
   "cell_type": "code",
   "execution_count": 11,
   "id": "b9a85618",
   "metadata": {
    "ExecuteTime": {
     "end_time": "2024-02-07T17:26:38.275516Z",
     "start_time": "2024-02-07T17:26:38.270879Z"
    }
   },
   "outputs": [
    {
     "name": "stdout",
     "output_type": "stream",
     "text": [
      "all:2.2[1.1,3.5]\n",
      "C1:3.6[1.8,6.2]\n",
      "C2:1.8[0.9,2.9]\n",
      "C3:3.1[1.9,6.3]\n"
     ]
    },
    {
     "name": "stderr",
     "output_type": "stream",
     "text": [
      "/home/hanl/miniconda3/envs/mytensor/lib/python3.9/site-packages/ipykernel/ipkernel.py:287: DeprecationWarning: `should_run_async` will not call `transform_cell` automatically in the future. Please pass the result to `transformed_cell` argument and any exception that happen during thetransform in `preprocessing_exc_tuple` in IPython 7.17 and above.\n",
      "  and should_run_async(code)\n"
     ]
    }
   ],
   "source": [
    "print(\"all:\"+str(df_out.iloc[0,4])+\"[\"+str(df_out.iloc[0,3])+\",\" +str(df_out.iloc[0,5]) +\"]\")\n",
    "print(\"C1:\"+str(df_out.iloc[1,4])+\"[\"+str(df_out.iloc[1,3])+\",\" +str(df_out.iloc[1,5]) +\"]\")\n",
    "print(\"C2:\"+str(df_out.iloc[2,4])+\"[\"+str(df_out.iloc[2,3])+\",\" +str(df_out.iloc[2,5]) +\"]\")\n",
    "print(\"C3:\"+str(df_out.iloc[3,4])+\"[\"+str(df_out.iloc[3,3])+\",\" +str(df_out.iloc[3,5]) +\"]\")"
   ]
  },
  {
   "cell_type": "code",
   "execution_count": 12,
   "id": "29a64422",
   "metadata": {
    "ExecuteTime": {
     "end_time": "2024-02-07T17:26:38.279945Z",
     "start_time": "2024-02-07T17:26:38.276537Z"
    }
   },
   "outputs": [
    {
     "name": "stdout",
     "output_type": "stream",
     "text": [
      "F-statistic: 231.7460106582424\n",
      "P-value: 1.7243357917487015e-90\n"
     ]
    },
    {
     "name": "stderr",
     "output_type": "stream",
     "text": [
      "/home/hanl/miniconda3/envs/mytensor/lib/python3.9/site-packages/ipykernel/ipkernel.py:287: DeprecationWarning: `should_run_async` will not call `transform_cell` automatically in the future. Please pass the result to `transformed_cell` argument and any exception that happen during thetransform in `preprocessing_exc_tuple` in IPython 7.17 and above.\n",
      "  and should_run_async(code)\n"
     ]
    }
   ],
   "source": [
    "import scipy.stats as stats\n",
    "f_statistic, p_value = stats.f_oneway(data_groups[1],data_groups[2],data_groups[3])\n",
    "print(\"F-statistic:\", f_statistic)\n",
    "print(\"P-value:\", p_value)\n"
   ]
  },
  {
   "cell_type": "markdown",
   "id": "c7f4c7a3",
   "metadata": {},
   "source": [
    "## first AKI to AKI endtime (no 7-day limit)"
   ]
  },
  {
   "cell_type": "code",
   "execution_count": null,
   "id": "90e7acf8",
   "metadata": {
    "ExecuteTime": {
     "end_time": "2024-02-07T17:26:38.619691Z",
     "start_time": "2024-02-07T17:26:38.280978Z"
    },
    "scrolled": true
   },
   "outputs": [],
   "source": [
    "df_time = pd.read_csv(\"/public/hanl/jupyter_dir/kidney_sepsis_penotype_v3/00.data_aumc/disease_definition/AKI/aumc_first_and_max_stage.csv\")\n",
    "df_time = pd.merge(df_time,df_type_filt,how=\"inner\",on=\"stay_id\")\n",
    "print(\"Patients with two-thirds of AKI at the initial diagnosis stage:\",df_time[df_time[\"first_aki_stage\"].isin([2,3])].shape[0])\n",
    "df_time = df_time[~df_time[\"first_aki_stage\"].isin([2,3])]\n",
    "\n",
    "\n",
    "df_time[\"during_time\"] = (df_time[\"aki_endtime_H7D\"] - df_time[\"first_aki_onset\"])/24\n",
    "# df_time[\"dealt_aki_stage\"] = df_time[\"max_aki_stage\"] - df_time[\"first_aki_stage\"]\n",
    "# df_time.loc[df_time[\"dealt_aki_stage\"]==0, \"dealt_aki_stage\"] = 1\n",
    "# df_time[\"during_time\"] = round(df_time[\"during_time\"]/df_time[\"dealt_aki_stage\"],0)\n",
    "#df_time = df_time.dropna(how='any', subset=['during_time'])\n",
    "print(len(df_time.stay_id.unique()))\n",
    "\n",
    "import seaborn as sns\n",
    "fig, ax = plt.subplots(1,1, figsize=(3,2))\n",
    "ax=plt.gca()\n",
    "ax.spines['right'].set_visible(False)\n",
    "ax.spines['left'].set_visible(False)\n",
    "ax.spines['top'].set_visible(False) \n",
    "f1 = plt.boxplot([df_time[df_time[\"groupHPD\"]==1][\"during_time\"], df_time[df_time[\"groupHPD\"]==2][\"during_time\"], df_time[df_time[\"groupHPD\"]==3][\"during_time\"]],\n",
    "           whis=(10,90),showfliers=False,showmeans=True,vert=False,patch_artist=True,meanprops={'marker':'D','markerfacecolor':'black','markersize':3,'markeredgecolor':'black'},medianprops={'color':'black'}) \n",
    "color = [\"#74a8ff\",\"#3fc968\",\"#f8746a\"]\n",
    "for box,c in zip(f1['boxes'], color):\n",
    "    box.set(facecolor = c,edgecolor='black')\n",
    "    \n",
    "plt.xlabel(\"First to end AKI_stages (Hours)\")\n",
    "plt.yticks([1,2,3],[\"C1\",\"C2\",\"C3\"]) \n",
    "\n",
    "from statannotations.Annotator import Annotator\n",
    "box_pairs = [(2,1),(3,1),(3,2)]\n",
    "fig_args = {'x': 'groupHPD',\n",
    "            'y': 'during_time',\n",
    "            'data': df_time,\n",
    "            'dodge': True}\n",
    "annotator = Annotator(ax=ax, pairs=box_pairs, **fig_args)\n",
    "\n",
    "fig_args_horiz = {**fig_args,'x': 'during_time', 'y': 'groupHPD'}\n",
    "configuration = {'test':'Mann-Whitney', 'comparisons_correction':None, 'text_format':'star', 'loc':'outside'}\n",
    "annotator.new_plot(ax, orient='h', **fig_args_horiz)\n",
    "annotator.configure(**configuration).apply_test()\n",
    "annotator.apply_and_annotate()\n",
    "plt.savefig('./result/aumcdb_time_interval_first2end_AKIstages_no7day.pdf', bbox_inches = 'tight')\n",
    "plt.show()"
   ]
  },
  {
   "cell_type": "code",
   "execution_count": null,
   "id": "94562051",
   "metadata": {
    "ExecuteTime": {
     "end_time": "2024-02-07T17:26:38.644583Z",
     "start_time": "2024-02-07T17:26:38.620650Z"
    }
   },
   "outputs": [
    {
     "name": "stderr",
     "output_type": "stream",
     "text": [
      "/home/hanl/miniconda3/envs/mytensor/lib/python3.9/site-packages/ipykernel/ipkernel.py:287: DeprecationWarning: `should_run_async` will not call `transform_cell` automatically in the future. Please pass the result to `transformed_cell` argument and any exception that happen during thetransform in `preprocessing_exc_tuple` in IPython 7.17 and above.\n",
      "  and should_run_async(code)\n"
     ]
    },
    {
     "data": {
      "text/html": [
       "<div>\n",
       "<style scoped>\n",
       "    .dataframe tbody tr th:only-of-type {\n",
       "        vertical-align: middle;\n",
       "    }\n",
       "\n",
       "    .dataframe tbody tr th {\n",
       "        vertical-align: top;\n",
       "    }\n",
       "\n",
       "    .dataframe thead th {\n",
       "        text-align: right;\n",
       "    }\n",
       "</style>\n",
       "<table border=\"1\" class=\"dataframe\">\n",
       "  <thead>\n",
       "    <tr style=\"text-align: right;\">\n",
       "      <th></th>\n",
       "      <th>class</th>\n",
       "      <th>Mean</th>\n",
       "      <th>q10</th>\n",
       "      <th>q25</th>\n",
       "      <th>q50</th>\n",
       "      <th>q75</th>\n",
       "      <th>q90</th>\n",
       "    </tr>\n",
       "  </thead>\n",
       "  <tbody>\n",
       "    <tr>\n",
       "      <th>0</th>\n",
       "      <td>C1</td>\n",
       "      <td>8.14</td>\n",
       "      <td>0.71</td>\n",
       "      <td>1.92</td>\n",
       "      <td>4.52</td>\n",
       "      <td>10.79</td>\n",
       "      <td>19.50</td>\n",
       "    </tr>\n",
       "    <tr>\n",
       "      <th>1</th>\n",
       "      <td>C2</td>\n",
       "      <td>3.56</td>\n",
       "      <td>0.42</td>\n",
       "      <td>0.88</td>\n",
       "      <td>1.83</td>\n",
       "      <td>3.12</td>\n",
       "      <td>7.25</td>\n",
       "    </tr>\n",
       "    <tr>\n",
       "      <th>2</th>\n",
       "      <td>C3</td>\n",
       "      <td>8.22</td>\n",
       "      <td>1.21</td>\n",
       "      <td>1.85</td>\n",
       "      <td>3.17</td>\n",
       "      <td>10.98</td>\n",
       "      <td>22.12</td>\n",
       "    </tr>\n",
       "  </tbody>\n",
       "</table>\n",
       "</div>"
      ],
      "text/plain": [
       "  class  Mean   q10   q25   q50    q75    q90\n",
       "0    C1  8.14  0.71  1.92  4.52  10.79  19.50\n",
       "1    C2  3.56  0.42  0.88  1.83   3.12   7.25\n",
       "2    C3  8.22  1.21  1.85  3.17  10.98  22.12"
      ]
     },
     "execution_count": 14,
     "metadata": {},
     "output_type": "execute_result"
    }
   ],
   "source": [
    "# Output the median, mean and quantiles of each data group\n",
    "data_groups = [df_time[df_time[\"groupHPD\"]==1][\"during_time\"],\n",
    "               df_time[df_time[\"groupHPD\"]==2][\"during_time\"],\n",
    "               df_time[df_time[\"groupHPD\"]==3][\"during_time\"]]\n",
    "\n",
    "df_out = pd.DataFrame(columns = [\"class\",\"Mean\",\"q10\",\"q25\",\"q50\",\"q75\",\"q90\"])\n",
    "for i, group_data in enumerate(data_groups):\n",
    "    i = \"C\" + str(int(i)+1) \n",
    "    mean = round(np.mean(group_data),2)\n",
    "    q10 = round(np.percentile(group_data, 10),2)\n",
    "    q25 = round(np.percentile(group_data, 25),2)\n",
    "    q50 = round(np.percentile(group_data, 50),2)\n",
    "    q75 = round(np.percentile(group_data, 75),2)\n",
    "    q90 = round(np.percentile(group_data, 90),2)\n",
    "    df_out.loc[len(df_out)] = [i,mean,q10,q25,q50,q75,q90]\n",
    "df_out"
   ]
  },
  {
   "cell_type": "markdown",
   "id": "e23a47d8",
   "metadata": {},
   "source": [
    "## first AKI to outICU"
   ]
  },
  {
   "cell_type": "code",
   "execution_count": 15,
   "id": "870d0319",
   "metadata": {
    "ExecuteTime": {
     "end_time": "2024-02-07T17:26:38.904003Z",
     "start_time": "2024-02-07T17:26:38.645518Z"
    }
   },
   "outputs": [
    {
     "name": "stderr",
     "output_type": "stream",
     "text": [
      "/home/hanl/miniconda3/envs/mytensor/lib/python3.9/site-packages/ipykernel/ipkernel.py:287: DeprecationWarning: `should_run_async` will not call `transform_cell` automatically in the future. Please pass the result to `transformed_cell` argument and any exception that happen during thetransform in `preprocessing_exc_tuple` in IPython 7.17 and above.\n",
      "  and should_run_async(code)\n"
     ]
    },
    {
     "name": "stdout",
     "output_type": "stream",
     "text": [
      "2183\n",
      "p-value annotation legend:\n",
      "      ns: p <= 1.00e+00\n",
      "       *: 1.00e-02 < p <= 5.00e-02\n",
      "      **: 1.00e-03 < p <= 1.00e-02\n",
      "     ***: 1.00e-04 < p <= 1.00e-03\n",
      "    ****: p <= 1.00e-04\n",
      "\n",
      "1 vs. 2: Mann-Whitney-Wilcoxon test two-sided, P_val:1.923e-09 U_stat=4.631e+05\n",
      "2 vs. 3: Mann-Whitney-Wilcoxon test two-sided, P_val:4.223e-03 U_stat=1.717e+05\n",
      "1 vs. 3: Mann-Whitney-Wilcoxon test two-sided, P_val:6.044e-10 U_stat=7.934e+04\n"
     ]
    },
    {
     "data": {
      "image/png": "[encoded data removed]",
      "text/plain": [
       "<Figure size 300x200 with 1 Axes>"
      ]
     },
     "metadata": {},
     "output_type": "display_data"
    }
   ],
   "source": [
    "df_icu = pd.read_csv(\"/public/hanl/jupyter_dir/kidney_sepsis_penotype_v3/00.data_aumc//disease_definition/AKI/aumcdb_sk_event_time.csv\")\n",
    "df_icu = df_icu[[\"stay_id\",\"saki_onset\",\"outtime\"]]\n",
    "df_icu = pd.merge(df_icu,df_type_filt,how=\"inner\",on=\"stay_id\")\n",
    "print(len(df_icu.stay_id.unique()))\n",
    "df_icu[\"during_time\"] = (df_icu[\"outtime\"] - df_icu[\"saki_onset\"])  \n",
    "\n",
    "import seaborn as sns\n",
    "fig, ax = plt.subplots(1,1, figsize=(3,2))\n",
    "ax=plt.gca()\n",
    "ax.spines['right'].set_visible(False)\n",
    "ax.spines['left'].set_visible(False)\n",
    "ax.spines['top'].set_visible(False)\n",
    "\n",
    "f1 = plt.boxplot([df_icu[df_icu[\"groupHPD\"]==1][\"during_time\"], df_icu[df_icu[\"groupHPD\"]==2][\"during_time\"], df_icu[df_icu[\"groupHPD\"]==3][\"during_time\"]],\n",
    "           whis=(10,90),showfliers=False,showmeans=True,vert=False,patch_artist=True,meanprops={'marker':'D','markerfacecolor':'black','markersize':3,'markeredgecolor':'black'},medianprops={'color':'black'}) \n",
    "\n",
    "color = [\"#74a8ff\",\"#3fc968\",\"#f8746a\"]\n",
    "for box,c in zip(f1['boxes'], color):\n",
    "    box.set(facecolor = c,edgecolor='black')\n",
    "plt.yticks([1,2,3],[\"C1\",\"C2\",\"C3\"]) \n",
    "\n",
    "from statannotations.Annotator import Annotator\n",
    "box_pairs = [(2,1),(3,1),(3,2)]\n",
    "fig_args = {'x': 'groupHPD',\n",
    "            'y': 'during_time',\n",
    "            'data': df_icu,\n",
    "            'dodge': True}\n",
    "annotator = Annotator(ax=ax, pairs=box_pairs, **fig_args)\n",
    "\n",
    "fig_args_horiz = {**fig_args,'x': 'during_time', 'y': 'groupHPD'}\n",
    "configuration = {'test':'Mann-Whitney', 'comparisons_correction':None, 'text_format':'star', 'loc':'outside'}\n",
    "annotator.new_plot(ax, orient='h', **fig_args_horiz)\n",
    "annotator.configure(**configuration).apply_test()\n",
    "annotator.apply_and_annotate()\n",
    "plt.xlabel(\"First diagnose to out ICU (Hours)\")\n",
    "plt.savefig('./result/aumcdb_time_interval_first2out_AKI.pdf', bbox_inches = 'tight')\n",
    "plt.show()"
   ]
  },
  {
   "cell_type": "code",
   "execution_count": null,
   "id": "220a2950",
   "metadata": {
    "ExecuteTime": {
     "end_time": "2024-02-07T17:26:38.928144Z",
     "start_time": "2024-02-07T17:26:38.904914Z"
    }
   },
   "outputs": [
    {
     "name": "stderr",
     "output_type": "stream",
     "text": [
      "/home/hanl/miniconda3/envs/mytensor/lib/python3.9/site-packages/ipykernel/ipkernel.py:287: DeprecationWarning: `should_run_async` will not call `transform_cell` automatically in the future. Please pass the result to `transformed_cell` argument and any exception that happen during thetransform in `preprocessing_exc_tuple` in IPython 7.17 and above.\n",
      "  and should_run_async(code)\n"
     ]
    },
    {
     "data": {
      "text/html": [
       "<div>\n",
       "<style scoped>\n",
       "    .dataframe tbody tr th:only-of-type {\n",
       "        vertical-align: middle;\n",
       "    }\n",
       "\n",
       "    .dataframe tbody tr th {\n",
       "        vertical-align: top;\n",
       "    }\n",
       "\n",
       "    .dataframe thead th {\n",
       "        text-align: right;\n",
       "    }\n",
       "</style>\n",
       "<table border=\"1\" class=\"dataframe\">\n",
       "  <thead>\n",
       "    <tr style=\"text-align: right;\">\n",
       "      <th></th>\n",
       "      <th>class</th>\n",
       "      <th>Mean</th>\n",
       "      <th>q10</th>\n",
       "      <th>q25</th>\n",
       "      <th>q50</th>\n",
       "      <th>q75</th>\n",
       "      <th>q90</th>\n",
       "    </tr>\n",
       "  </thead>\n",
       "  <tbody>\n",
       "    <tr>\n",
       "      <th>0</th>\n",
       "      <td>C1</td>\n",
       "      <td>364.31</td>\n",
       "      <td>51.49</td>\n",
       "      <td>101.04</td>\n",
       "      <td>237.42</td>\n",
       "      <td>465.22</td>\n",
       "      <td>854.52</td>\n",
       "    </tr>\n",
       "    <tr>\n",
       "      <th>1</th>\n",
       "      <td>C2</td>\n",
       "      <td>279.81</td>\n",
       "      <td>33.07</td>\n",
       "      <td>68.06</td>\n",
       "      <td>168.85</td>\n",
       "      <td>350.07</td>\n",
       "      <td>663.74</td>\n",
       "    </tr>\n",
       "    <tr>\n",
       "      <th>2</th>\n",
       "      <td>C3</td>\n",
       "      <td>277.12</td>\n",
       "      <td>37.82</td>\n",
       "      <td>52.35</td>\n",
       "      <td>85.55</td>\n",
       "      <td>330.62</td>\n",
       "      <td>675.17</td>\n",
       "    </tr>\n",
       "  </tbody>\n",
       "</table>\n",
       "</div>"
      ],
      "text/plain": [
       "  class    Mean    q10     q25     q50     q75     q90\n",
       "0    C1  364.31  51.49  101.04  237.42  465.22  854.52\n",
       "1    C2  279.81  33.07   68.06  168.85  350.07  663.74\n",
       "2    C3  277.12  37.82   52.35   85.55  330.62  675.17"
      ]
     },
     "execution_count": 16,
     "metadata": {},
     "output_type": "execute_result"
    }
   ],
   "source": [
    "# Output the median, mean and quantiles of each data group\n",
    "data_groups = [\n",
    "    df_icu[df_icu[\"groupHPD\"]==1][\"during_time\"], \n",
    "    df_icu[df_icu[\"groupHPD\"]==2][\"during_time\"], \n",
    "    df_icu[df_icu[\"groupHPD\"]==3][\"during_time\"]\n",
    "]\n",
    "\n",
    "df_out = pd.DataFrame(columns = [\"class\",\"Mean\",\"q10\",\"q25\",\"q50\",\"q75\",\"q90\"])\n",
    "for i, group_data in enumerate(data_groups):\n",
    "    i = \"C\" + str(int(i)+1) \n",
    "    mean = round(np.mean(group_data),2)\n",
    "    q10 = round(np.percentile(group_data, 10),2)\n",
    "    q25 = round(np.percentile(group_data, 25),2)\n",
    "    q50 = round(np.percentile(group_data, 50),2)\n",
    "    q75 = round(np.percentile(group_data, 75),2)\n",
    "    q90 = round(np.percentile(group_data, 90),2)\n",
    "    df_out.loc[len(df_out)] = [i,mean,q10,q25,q50,q75,q90]\n",
    "df_out"
   ]
  }
 ],
 "metadata": {
  "kernelspec": {
   "display_name": "Python [conda env:mytensor]",
   "language": "python",
   "name": "conda-env-mytensor-py"
  },
  "language_info": {
   "codemirror_mode": {
    "name": "ipython",
    "version": 3
   },
   "file_extension": ".py",
   "mimetype": "text/x-python",
   "name": "python",
   "nbconvert_exporter": "python",
   "pygments_lexer": "ipython3",
   "version": "3.9.12"
  },
  "toc": {
   "base_numbering": 1,
   "nav_menu": {},
   "number_sections": true,
   "sideBar": true,
   "skip_h1_title": false,
   "title_cell": "Table of Contents",
   "title_sidebar": "Contents",
   "toc_cell": false,
   "toc_position": {
    "height": "calc(100% - 180px)",
    "left": "10px",
    "top": "150px",
    "width": "248.975px"
   },
   "toc_section_display": true,
   "toc_window_display": true
  },
  "varInspector": {
   "cols": {
    "lenName": 16,
    "lenType": 16,
    "lenVar": 40
   },
   "kernels_config": {
    "python": {
     "delete_cmd_postfix": "",
     "delete_cmd_prefix": "del ",
     "library": "var_list.py",
     "varRefreshCmd": "print(var_dic_list())"
    },
    "r": {
     "delete_cmd_postfix": ") ",
     "delete_cmd_prefix": "rm(",
     "library": "var_list.r",
     "varRefreshCmd": "cat(var_dic_list()) "
    }
   },
   "types_to_exclude": [
    "module",
    "function",
    "builtin_function_or_method",
    "instance",
    "_Feature"
   ],
   "window_display": false
  }
 },
 "nbformat": 4,
 "nbformat_minor": 5
}
