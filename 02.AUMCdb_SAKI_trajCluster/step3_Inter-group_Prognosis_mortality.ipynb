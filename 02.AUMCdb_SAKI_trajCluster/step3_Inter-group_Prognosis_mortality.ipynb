{
 "cells": [
  {
   "cell_type": "code",
   "execution_count": 1,
   "id": "f6b5692f",
   "metadata": {
    "ExecuteTime": {
     "end_time": "2024-02-21T13:13:16.738354Z",
     "start_time": "2024-02-21T13:04:35.052Z"
    },
    "vscode": {
     "languageId": "r"
    }
   },
   "outputs": [
    {
     "name": "stderr",
     "output_type": "stream",
     "text": [
      "Loading required package: ggplot2\n",
      "\n",
      "Loading required package: ggpubr\n",
      "\n",
      "\n",
      "Attaching package: ‘survminer’\n",
      "\n",
      "\n",
      "The following object is masked from ‘package:survival’:\n",
      "\n",
      "    myeloma\n",
      "\n",
      "\n"
     ]
    }
   ],
   "source": [
    "library(MatchIt)\n",
    "library(survival)\n",
    "library(survminer)\n",
    "library(tidyr)\n",
    "library(tableone)\n",
    "library(ggplot2)\n"
   ]
  },
  {
   "cell_type": "code",
   "execution_count": null,
   "id": "8572d569",
   "metadata": {
    "ExecuteTime": {
     "end_time": "2024-02-21T13:13:16.775471Z",
     "start_time": "2024-02-21T13:04:35.054Z"
    },
    "vscode": {
     "languageId": "r"
    }
   },
   "outputs": [],
   "source": [
    "#Function\n",
    "survival_curve <- function(data,title,survival_day,expire_flag){\n",
    "    df_select <- data\n",
    "    fit <- survfit(Surv(survival_day,expire_flag) ~ groupHPD, data = df_select)\n",
    "\n",
    "    ggsurvplot(fit, data = df_select, \n",
    "               surv.median.line = \"hv\",  \n",
    "               conf.int = TRUE, \n",
    "              # risk.table = TRUE, \n",
    "#               title=title,\n",
    "               pval = TRUE,\n",
    "               #add.all = TRUE, \n",
    "               xlab = \"Follow up time(day)\",\n",
    "               legend = c(0.2,0.2)) \n",
    "  #  ggsave(paste0(\"./plot_survival/plot/\",title,\".pdf\"), print(pp))\n",
    "}"
   ]
  },
  {
   "cell_type": "markdown",
   "id": "da1877d7",
   "metadata": {},
   "source": [
    "# 28d mortality "
   ]
  },
  {
   "cell_type": "code",
   "execution_count": null,
   "id": "04b8d0d6",
   "metadata": {
    "ExecuteTime": {
     "end_time": "2024-02-21T13:13:18.420584Z",
     "start_time": "2024-02-21T13:04:35.055Z"
    },
    "run_control": {
     "marked": true
    },
    "vscode": {
     "languageId": "r"
    }
   },
   "outputs": [
    {
     "name": "stderr",
     "output_type": "stream",
     "text": [
      "Warning message in do_once((if (is_R_CMD_check()) stop else warning)(\"The function xfun::isFALSE() will be deprecated in the future. Please \", :\n",
      "“The function xfun::isFALSE() will be deprecated in the future. Please consider using base::isFALSE(x) or identical(x, FALSE) instead.”\n"
     ]
    },
    {
     "data": {
      "text/html": [
       "<strong>png:</strong> 2"
      ],
      "text/latex": [
       "\\textbf{png:} 2"
      ],
      "text/markdown": [
       "**png:** 2"
      ],
      "text/plain": [
       "png \n",
       "  2 "
      ]
     },
     "metadata": {},
     "output_type": "display_data"
    }
   ],
   "source": [
    "df_survival <- read.csv(\"sk_survival.csv\",as.is = TRUE)\n",
    "df_survival <- as.data.frame(df_survival)\n",
    "df_select =  df_survival[,c(\"survival_28day\",\"mortality_28d\",\"groupHPD\")]\n",
    "df_select=as.data.frame(lapply(df_select,as.numeric))\n",
    "\n",
    "pdf(\"aumcdb_28d_mortality.pdf\")\n",
    "png(\"aumcdb_28d_mortality.png\")\n",
    "fit <- survfit(Surv(survival_28day,mortality_28d) ~ groupHPD, data = df_select)\n",
    "ggsurv <- ggsurvplot(fit, data = df_select, \n",
    "               surv.median.line = \"hv\",  \n",
    "               conf.int = TRUE, \n",
    "               risk.table = TRUE, \n",
    "               risk.table.height = 0.25,\n",
    "               title=\"AUMC\",\n",
    "               pval = TRUE,pval.size = 7,\n",
    "               palette = c(\"#74a8ff\",\"#3fc968\",\"#f8746a\"),\n",
    "               xlab = \"Follow up time (days)\",\n",
    "               legend = c(0.8,0.2),\n",
    "               legend.title = \"\",legend.labs = c(\" DR \", \" RR \",\" PW \"), \n",
    "               font.main = 25,     \n",
    "               font.x = 20,        \n",
    "               font.y = 20,       \n",
    "               font.tickslab = 16,\n",
    "               risk.table.fontsize = 6,tables.theme = theme_cleantable()+ \n",
    "    theme(axis.text.y = element_text(size = 16))\n",
    "          )  \n",
    "ggsurv$plot <- ggsurv$plot +\n",
    "  theme(legend.text = element_text(size = 16),plot.title = element_text(hjust = 0.5))  \n",
    "ggsurv$table <- ggsurv$table +\n",
    "  theme(plot.title = element_text(size = 20, color = \"black\", face = \"bold\"))\n",
    "ggsurv\n",
    "dev.off()"
   ]
  },
  {
   "cell_type": "code",
   "execution_count": null,
   "id": "d4f86430",
   "metadata": {
    "ExecuteTime": {
     "end_time": "2024-02-21T13:13:18.430314Z",
     "start_time": "2024-02-21T13:04:35.057Z"
    },
    "vscode": {
     "languageId": "r"
    }
   },
   "outputs": [],
   "source": [
    "# df_survival <- read.csv(\"sk_survival.csv\",as.is = TRUE)\n",
    "# df_survival <- as.data.frame(df_survival)\n",
    "# df_select =  df_survival[,c(\"survival_28day\",\"mortality_28d\",\"groupHPD\")]\n",
    "# df_select=as.data.frame(lapply(df_select,as.numeric))\n",
    "\n",
    "# #pdf(\"aumcdb_28d_mortality.pdf\")\n",
    "# fit <- survfit(Surv(survival_28day,mortality_28d) ~ groupHPD, data = df_select)\n",
    "# ggsurvplot(fit, data = df_select, \n",
    "#                surv.median.line = \"hv\",  \n",
    "#                conf.int = TRUE, \n",
    "#                risk.table = TRUE, \n",
    "#                title=\"AUMC: 28 day-Mortality\",\n",
    "#                palette = c(\"#74a8ff\",\"#3fc968\",\"#f8746a\"),\n",
    "#                pval = TRUE,\n",
    "#                #add.all = TRUE, \n",
    "#                xlab = \"Follow up time(day)\",\n",
    "#                legend = c(0.8,0.2),\n",
    "#                 legend.title = \"\",legend.labs = c(\" C1 \", \" C2 \",\" C3 \")) \n",
    "# #dev.off()"
   ]
  },
  {
   "cell_type": "code",
   "execution_count": 5,
   "id": "3c312dc1",
   "metadata": {
    "ExecuteTime": {
     "end_time": "2024-02-21T13:13:18.439540Z",
     "start_time": "2024-02-21T13:04:35.059Z"
    },
    "vscode": {
     "languageId": "r"
    }
   },
   "outputs": [
    {
     "ename": "ERROR",
     "evalue": "Error in parse(text = x, srcfile = src): <text>:1:5: unexpected '!'\n1: stop!\n        ^\n",
     "output_type": "error",
     "traceback": [
      "Error in parse(text = x, srcfile = src): <text>:1:5: unexpected '!'\n1: stop!\n        ^\nTraceback:\n"
     ]
    }
   ],
   "source": [
    "stop!"
   ]
  },
  {
   "cell_type": "markdown",
   "id": "ed10b008",
   "metadata": {
    "ExecuteTime": {
     "end_time": "2023-02-14T11:46:25.763096Z",
     "start_time": "2023-02-14T11:42:20.680Z"
    }
   },
   "source": [
    "# 7d mortality - Unmatched data"
   ]
  },
  {
   "cell_type": "code",
   "execution_count": null,
   "id": "958ddccb",
   "metadata": {
    "ExecuteTime": {
     "end_time": "2024-02-21T13:13:18.441198Z",
     "start_time": "2024-02-21T13:04:35.060Z"
    },
    "vscode": {
     "languageId": "r"
    }
   },
   "outputs": [],
   "source": [
    "df_survival <- read.csv(\"sk_survival.csv\",as.is = TRUE)\n",
    "df_survival <- as.data.frame(df_survival)\n",
    "df_select =  df_survival[,c(\"survival_7day\",\"mortality_7d\",\"groupHPD\")]\n",
    "df_select=as.data.frame(lapply(df_select,as.numeric))\n",
    "\n",
    "fit <- survfit(Surv(survival_7day,mortality_7d) ~ groupHPD, data = df_select)\n",
    "ggsurvplot(fit, data = df_select, \n",
    "               surv.median.line = \"hv\",  \n",
    "               conf.int = TRUE, \n",
    "               risk.table = TRUE, \n",
    "               title=\"7 day-Mortality\",\n",
    "               pval = TRUE,\n",
    "               #add.all = TRUE, \n",
    "               xlab = \"Follow up time(day)\",\n",
    "               legend = c(0.8,0.2))"
   ]
  },
  {
   "cell_type": "markdown",
   "id": "5761f4dc",
   "metadata": {},
   "source": [
    "# Data Pairing\n",
    "- ICU type\n",
    "- Disease\n",
    "- Age"
   ]
  },
  {
   "cell_type": "code",
   "execution_count": null,
   "id": "d73b0ec6",
   "metadata": {
    "ExecuteTime": {
     "end_time": "2024-02-21T13:13:18.442655Z",
     "start_time": "2024-02-21T13:04:35.061Z"
    },
    "vscode": {
     "languageId": "r"
    }
   },
   "outputs": [],
   "source": [
    "df_match_fea <- read.csv(\"df_match_fea.csv\",as.is = TRUE)\n",
    "df_match_fea <- as.data.frame(df_match_fea)\n",
    "df_match_fea"
   ]
  },
  {
   "cell_type": "code",
   "execution_count": null,
   "id": "6e784652",
   "metadata": {
    "ExecuteTime": {
     "end_time": "2024-02-21T13:13:18.444105Z",
     "start_time": "2024-02-21T13:04:35.062Z"
    },
    "vscode": {
     "languageId": "r"
    }
   },
   "outputs": [],
   "source": [
    "df_match_fea$group_creteria <- df_match_fea[ , \"groupHPD\"]\n",
    "data_match <- matchit(group_creteria~  age + first_careunit + myocardial_infarct + congestive_heart_failure + peripheral_vascular_disease + cerebrovascular_disease + Acidosis + Hyperlipidemia + Hypertension + diabetes_mellitus + respiratory_failure + septic_shock + liver_disease, data = df_match_fea, method=\"nearest\", ratio=1, distance = 'logit',caliper = 0.2)\n",
    "d1 <- data_match$match.matrix\n",
    "d2 <- rownames(d1)\n",
    "rownames(d1) <- NULL\n",
    "pairs <- cbind(d2, d1) # pair represents the treatment group: The number in the control group indicates the index of the data frame\n",
    "pairs <- as.data.frame(pairs) # pairs[which(pairs$d2 %in% 10007),]\n",
    "df_match_byClass <- match.data(data_match)\n",
    "print(summary(data_match)$nn)"
   ]
  }
 ],
 "metadata": {
  "kernelspec": {
   "display_name": "R [conda env:R]",
   "language": "R",
   "name": "conda-env-R-r"
  },
  "language_info": {
   "codemirror_mode": "r",
   "file_extension": ".r",
   "mimetype": "text/x-r-source",
   "name": "R",
   "pygments_lexer": "r",
   "version": "4.2.2"
  },
  "toc": {
   "base_numbering": 1,
   "nav_menu": {},
   "number_sections": true,
   "sideBar": true,
   "skip_h1_title": false,
   "title_cell": "Table of Contents",
   "title_sidebar": "Contents",
   "toc_cell": false,
   "toc_position": {},
   "toc_section_display": true,
   "toc_window_display": false
  },
  "varInspector": {
   "cols": {
    "lenName": 16,
    "lenType": 16,
    "lenVar": 40
   },
   "kernels_config": {
    "python": {
     "delete_cmd_postfix": "",
     "delete_cmd_prefix": "del ",
     "library": "var_list.py",
     "varRefreshCmd": "print(var_dic_list())"
    },
    "r": {
     "delete_cmd_postfix": ") ",
     "delete_cmd_prefix": "rm(",
     "library": "var_list.r",
     "varRefreshCmd": "cat(var_dic_list()) "
    }
   },
   "types_to_exclude": [
    "module",
    "function",
    "builtin_function_or_method",
    "instance",
    "_Feature"
   ],
   "window_display": false
  }
 },
 "nbformat": 4,
 "nbformat_minor": 5
}
