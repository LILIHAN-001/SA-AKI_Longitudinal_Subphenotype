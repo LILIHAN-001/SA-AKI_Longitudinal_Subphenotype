{
 "cells": [
  {
   "cell_type": "code",
   "execution_count": 1,
   "id": "0e71d70c",
   "metadata": {
    "ExecuteTime": {
     "end_time": "2024-01-27T07:45:23.034887Z",
     "start_time": "2024-01-27T07:45:21.957854Z"
    }
   },
   "outputs": [],
   "source": [
    "import pandas as pd\n",
    "import numpy as np\n",
    "import matplotlib.pyplot as plt\n",
    "pd.options.display.max_rows = 300\n",
    "import datetime as dt\n",
    "import math\n",
    "import seaborn as sns\n",
    "import miceforest as mf\n",
    "from tableone import TableOne, load_dataset"
   ]
  },
  {
   "cell_type": "markdown",
   "id": "34713f6f",
   "metadata": {},
   "source": [
    "# 根据定义筛选S-AKI患者"
   ]
  },
  {
   "cell_type": "markdown",
   "id": "845e446f",
   "metadata": {},
   "source": [
    "## sepsis"
   ]
  },
  {
   "cell_type": "code",
   "execution_count": 2,
   "id": "6129bf4c",
   "metadata": {
    "ExecuteTime": {
     "end_time": "2024-01-05T06:51:36.740960Z",
     "start_time": "2024-01-05T06:51:36.647937Z"
    }
   },
   "outputs": [
    {
     "name": "stdout",
     "output_type": "stream",
     "text": [
      "sepsis患者数量为(by sepsis3)： 8565\n"
     ]
    },
    {
     "name": "stderr",
     "output_type": "stream",
     "text": [
      "/home/hanl/miniconda3/envs/mytensor/lib/python3.9/site-packages/ipykernel/ipkernel.py:287: DeprecationWarning: `should_run_async` will not call `transform_cell` automatically in the future. Please pass the result to `transformed_cell` argument and any exception that happen during thetransform in `preprocessing_exc_tuple` in IPython 7.17 and above.\n",
      "  and should_run_async(code)\n"
     ]
    },
    {
     "data": {
      "text/html": [
       "<div>\n",
       "<style scoped>\n",
       "    .dataframe tbody tr th:only-of-type {\n",
       "        vertical-align: middle;\n",
       "    }\n",
       "\n",
       "    .dataframe tbody tr th {\n",
       "        vertical-align: top;\n",
       "    }\n",
       "\n",
       "    .dataframe thead th {\n",
       "        text-align: right;\n",
       "    }\n",
       "</style>\n",
       "<table border=\"1\" class=\"dataframe\">\n",
       "  <thead>\n",
       "    <tr style=\"text-align: right;\">\n",
       "      <th></th>\n",
       "      <th>stay_id</th>\n",
       "      <th>sepsis_onset</th>\n",
       "    </tr>\n",
       "  </thead>\n",
       "  <tbody>\n",
       "    <tr>\n",
       "      <th>0</th>\n",
       "      <td>2</td>\n",
       "      <td>0.0</td>\n",
       "    </tr>\n",
       "  </tbody>\n",
       "</table>\n",
       "</div>"
      ],
      "text/plain": [
       "   stay_id  sepsis_onset\n",
       "0        2           0.0"
      ]
     },
     "execution_count": 2,
     "metadata": {},
     "output_type": "execute_result"
    }
   ],
   "source": [
    "data_dir = \"/public/hanl/jupyter_dir/kidney_sepsis_penotype_v2/00.data_aumc/disease_definition/sepsis/\"\n",
    "infile = data_dir + \"aumc_sepsis_onset.csv\"\n",
    "df_sepsis = pd.read_csv(infile)\n",
    "sepsis_lst = df_sepsis.stay_id.tolist()\n",
    "print(\"sepsis患者数量为(by sepsis3)：\",df_sepsis.shape[0])\n",
    "df_sepsis.head(1)"
   ]
  },
  {
   "cell_type": "markdown",
   "id": "ad92c1f4",
   "metadata": {},
   "source": [
    "## CKD"
   ]
  },
  {
   "cell_type": "code",
   "execution_count": 3,
   "id": "40c3ed34",
   "metadata": {
    "ExecuteTime": {
     "end_time": "2024-01-05T06:51:36.743794Z",
     "start_time": "2024-01-05T06:51:36.742134Z"
    }
   },
   "outputs": [
    {
     "name": "stderr",
     "output_type": "stream",
     "text": [
      "/home/hanl/miniconda3/envs/mytensor/lib/python3.9/site-packages/ipykernel/ipkernel.py:287: DeprecationWarning: `should_run_async` will not call `transform_cell` automatically in the future. Please pass the result to `transformed_cell` argument and any exception that happen during thetransform in `preprocessing_exc_tuple` in IPython 7.17 and above.\n",
      "  and should_run_async(code)\n"
     ]
    }
   ],
   "source": [
    "# data_dir = \"/public/hanl/jupyter_dir/database/AMUCdb/disease_definition/sepsis_episode/ref_sepsis_definition/out/\"\n",
    "# infile = data_dir + \"combined_diagnoses.csv\"\n",
    "# df_ckd = pd.read_csv(infile)\n",
    "# df_ckd = df_ckd[[ 'admissionid',  'specialty', 'diagnosis_type', 'diagnosis', 'diagnosis_id', 'surgical',\n",
    "#        'diagnosis_group', 'diagnosis_group_id', 'diagnosis_subgroup',\n",
    "#        'diagnosis_subgroup_id']]"
   ]
  },
  {
   "cell_type": "markdown",
   "id": "12eb0ddc",
   "metadata": {},
   "source": [
    "## AKI"
   ]
  },
  {
   "cell_type": "code",
   "execution_count": 4,
   "id": "b37d6ae3",
   "metadata": {
    "ExecuteTime": {
     "end_time": "2024-01-05T06:51:36.878933Z",
     "start_time": "2024-01-05T06:51:36.744893Z"
    }
   },
   "outputs": [
    {
     "name": "stderr",
     "output_type": "stream",
     "text": [
      "/home/hanl/miniconda3/envs/mytensor/lib/python3.9/site-packages/ipykernel/ipkernel.py:287: DeprecationWarning: `should_run_async` will not call `transform_cell` automatically in the future. Please pass the result to `transformed_cell` argument and any exception that happen during thetransform in `preprocessing_exc_tuple` in IPython 7.17 and above.\n",
      "  and should_run_async(code)\n"
     ]
    },
    {
     "name": "stdout",
     "output_type": "stream",
     "text": [
      "aki患者数量为(by KDIGO)： 15068\n"
     ]
    },
    {
     "data": {
      "text/html": [
       "<div>\n",
       "<style scoped>\n",
       "    .dataframe tbody tr th:only-of-type {\n",
       "        vertical-align: middle;\n",
       "    }\n",
       "\n",
       "    .dataframe tbody tr th {\n",
       "        vertical-align: top;\n",
       "    }\n",
       "\n",
       "    .dataframe thead th {\n",
       "        text-align: right;\n",
       "    }\n",
       "</style>\n",
       "<table border=\"1\" class=\"dataframe\">\n",
       "  <thead>\n",
       "    <tr style=\"text-align: right;\">\n",
       "      <th></th>\n",
       "      <th>stay_id</th>\n",
       "      <th>aki_onset</th>\n",
       "      <th>aki_stage</th>\n",
       "    </tr>\n",
       "  </thead>\n",
       "  <tbody>\n",
       "    <tr>\n",
       "      <th>0</th>\n",
       "      <td>0</td>\n",
       "      <td>5</td>\n",
       "      <td>1.0</td>\n",
       "    </tr>\n",
       "    <tr>\n",
       "      <th>1</th>\n",
       "      <td>3</td>\n",
       "      <td>18</td>\n",
       "      <td>1.0</td>\n",
       "    </tr>\n",
       "  </tbody>\n",
       "</table>\n",
       "</div>"
      ],
      "text/plain": [
       "   stay_id  aki_onset  aki_stage\n",
       "0        0          5        1.0\n",
       "1        3         18        1.0"
      ]
     },
     "execution_count": 4,
     "metadata": {},
     "output_type": "execute_result"
    }
   ],
   "source": [
    "data_dir = \"/public/hanl/jupyter_dir/kidney_sepsis_penotype_v1/00.data_aumc/disease_definition/AKI/\"\n",
    "infile = data_dir + \"aumc_first_and_max_stage.csv\"\n",
    "df_aki = pd.read_csv(infile)\n",
    "df_aki_first = df_aki[[\"stay_id\",\"first_aki_onset\",\"first_aki_stage\"]]\n",
    "df_aki_first.columns = [\"stay_id\",\"aki_onset\",\"aki_stage\"]\n",
    "aki_lst = df_aki_first.stay_id.unique().tolist()\n",
    "print(\"aki患者数量为(by KDIGO)：\",len(aki_lst))\n",
    "df_aki_first.head(2)"
   ]
  },
  {
   "cell_type": "markdown",
   "id": "7d799b9c",
   "metadata": {},
   "source": [
    "## sepsis without CKD;  sepsis with AKI"
   ]
  },
  {
   "cell_type": "code",
   "execution_count": 5,
   "id": "fa4a9022",
   "metadata": {
    "ExecuteTime": {
     "end_time": "2024-01-05T06:51:36.882902Z",
     "start_time": "2024-01-05T06:51:36.879817Z"
    },
    "run_control": {
     "marked": true
    }
   },
   "outputs": [
    {
     "name": "stdout",
     "output_type": "stream",
     "text": [
      "6350\n"
     ]
    },
    {
     "name": "stderr",
     "output_type": "stream",
     "text": [
      "/home/hanl/miniconda3/envs/mytensor/lib/python3.9/site-packages/ipykernel/ipkernel.py:287: DeprecationWarning: `should_run_async` will not call `transform_cell` automatically in the future. Please pass the result to `transformed_cell` argument and any exception that happen during thetransform in `preprocessing_exc_tuple` in IPython 7.17 and above.\n",
      "  and should_run_async(code)\n"
     ]
    }
   ],
   "source": [
    "#sepsis_minus_ckd_lst = list(set(sepsis_lst).difference(ckd_lst))\n",
    "#sepsis_minusCKD_addAKI_lst = list(set(sepsis_minus_ckd_lst).intersection(aki_lst))\n",
    "\n",
    "#sepsis_noKidney_lst = list(set(sepsis_lst).difference(ckd_lst, aki_lst))\n",
    "#print(\"sepsis_minusCKD_addAKI_lst:\",len(sepsis_minusCKD_addAKI_lst),\" sepsis_noKidney:\",len(sepsis_noKidney_lst))\n",
    "sepsis_addAKI_lst = list(set(sepsis_lst).intersection(aki_lst))\n",
    "print(len(sepsis_addAKI_lst))"
   ]
  },
  {
   "cell_type": "markdown",
   "id": "bf98bbd5",
   "metadata": {},
   "source": [
    "# S-AKI 纳排标准"
   ]
  },
  {
   "cell_type": "markdown",
   "id": "87a58f4b",
   "metadata": {},
   "source": [
    "## 在sepsis后一周内发生AKI的病人"
   ]
  },
  {
   "cell_type": "code",
   "execution_count": 6,
   "id": "33c16ccf",
   "metadata": {
    "ExecuteTime": {
     "end_time": "2024-01-05T06:51:37.125150Z",
     "start_time": "2024-01-05T06:51:36.883815Z"
    }
   },
   "outputs": [
    {
     "name": "stdout",
     "output_type": "stream",
     "text": [
      "在sepsis后一周内发生AKI的病人数量： 4767\n"
     ]
    },
    {
     "name": "stderr",
     "output_type": "stream",
     "text": [
      "/home/hanl/miniconda3/envs/mytensor/lib/python3.9/site-packages/ipykernel/ipkernel.py:287: DeprecationWarning: `should_run_async` will not call `transform_cell` automatically in the future. Please pass the result to `transformed_cell` argument and any exception that happen during thetransform in `preprocessing_exc_tuple` in IPython 7.17 and above.\n",
      "  and should_run_async(code)\n",
      "/home/hanl/miniconda3/envs/mytensor/lib/python3.9/site-packages/seaborn/distributions.py:2619: FutureWarning: `distplot` is a deprecated function and will be removed in a future version. Please adapt your code to use either `displot` (a figure-level function with similar flexibility) or `histplot` (an axes-level function for histograms).\n",
      "  warnings.warn(msg, FutureWarning)\n",
      "/home/hanl/miniconda3/envs/mytensor/lib/python3.9/site-packages/ipykernel/pylab/backend_inline.py:164: DeprecationWarning: `configure_inline_support` is deprecated since IPython 7.23, directly use `matplotlib_inline.backend_inline.configure_inline_support()`\n",
      "  configure_inline_support(ip, backend)\n"
     ]
    },
    {
     "data": {
      "image/png": "[encoded data removed]",
      "text/plain": [
       "<Figure size 640x480 with 1 Axes>"
      ]
     },
     "metadata": {},
     "output_type": "display_data"
    }
   ],
   "source": [
    "df_sepsis = df_sepsis[df_sepsis[\"stay_id\"].isin(sepsis_addAKI_lst)]\n",
    "df_aki_first = df_aki_first[df_aki_first[\"stay_id\"].isin(sepsis_addAKI_lst)]\n",
    "\n",
    "df_sepsis_aki = pd.merge(df_sepsis, df_aki_first, how=\"left\", on = [\"stay_id\"])\n",
    "df_sepsis_aki[\"time_aki_minus_sepsis\"] =  (df_sepsis_aki[\"aki_onset\"] - df_sepsis_aki[\"sepsis_onset\"])\n",
    "df_sepsis_aki = df_sepsis_aki[(df_sepsis_aki[\"time_aki_minus_sepsis\"]>0) & (df_sepsis_aki[\"time_aki_minus_sepsis\"]<=168)]\n",
    "saki_lst = df_sepsis_aki.stay_id.unique().tolist()\n",
    "print(\"在sepsis后一周内发生AKI的病人数量：\",len(saki_lst))\n",
    "sns.distplot(df_sepsis_aki[\"time_aki_minus_sepsis\"])\n",
    "plt.show()"
   ]
  },
  {
   "cell_type": "code",
   "execution_count": 11,
   "id": "82959574",
   "metadata": {
    "ExecuteTime": {
     "end_time": "2024-01-05T06:53:13.959806Z",
     "start_time": "2024-01-05T06:53:13.442668Z"
    }
   },
   "outputs": [
    {
     "name": "stderr",
     "output_type": "stream",
     "text": [
      "/home/hanl/miniconda3/envs/mytensor/lib/python3.9/site-packages/ipykernel/ipkernel.py:287: DeprecationWarning: `should_run_async` will not call `transform_cell` automatically in the future. Please pass the result to `transformed_cell` argument and any exception that happen during thetransform in `preprocessing_exc_tuple` in IPython 7.17 and above.\n",
      "  and should_run_async(code)\n",
      "/home/hanl/miniconda3/envs/mytensor/lib/python3.9/site-packages/seaborn/distributions.py:2619: FutureWarning: `distplot` is a deprecated function and will be removed in a future version. Please adapt your code to use either `displot` (a figure-level function with similar flexibility) or `histplot` (an axes-level function for histograms).\n",
      "  warnings.warn(msg, FutureWarning)\n"
     ]
    },
    {
     "data": {
      "image/png": "[encoded data removed]",
      "text/plain": [
       "<Figure size 640x480 with 1 Axes>"
      ]
     },
     "metadata": {},
     "output_type": "display_data"
    },
    {
     "name": "stderr",
     "output_type": "stream",
     "text": [
      "/home/hanl/miniconda3/envs/mytensor/lib/python3.9/site-packages/seaborn/distributions.py:2619: FutureWarning: `distplot` is a deprecated function and will be removed in a future version. Please adapt your code to use either `displot` (a figure-level function with similar flexibility) or `histplot` (an axes-level function for histograms).\n",
      "  warnings.warn(msg, FutureWarning)\n"
     ]
    },
    {
     "data": {
      "image/png": "[encoded data removed]",
      "text/plain": [
       "<Figure size 640x480 with 1 Axes>"
      ]
     },
     "metadata": {},
     "output_type": "display_data"
    }
   ],
   "source": [
    "# df_time = pd.read_csv(\"/public/hanl/jupyter_dir/kidney_sepsis_penotype_v3/00.data_aumc//disease_definition/AKI/aumcdb_sk_event_time.csv\")\n",
    "# df_time = df_time[df_time[\"stay_id\"].isin(saki_lst)]\n",
    "\n",
    "# df_time[\"time_aki_minus_intime\"] =  (df_time[\"aki_onset\"] - df_time[\"intime\"]) \n",
    "# df_time[\"time_sepsis_minus_intime\"] =  (df_time[\"sepsis_onset\"] - df_time[\"intime\"]) \n",
    "# sns.distplot(df_time[(df_time[\"time_aki_minus_intime\"]<=168) & (df_time[\"time_aki_minus_intime\"]>=0)][\"time_aki_minus_intime\"])\n",
    "# plt.show()\n",
    "# sns.distplot(df_time[(df_time[\"time_sepsis_minus_intime\"]<=168) & (df_time[\"time_sepsis_minus_intime\"]>=0)][\"time_sepsis_minus_intime\"])\n",
    "# plt.show()"
   ]
  },
  {
   "cell_type": "code",
   "execution_count": 9,
   "id": "53a90726",
   "metadata": {
    "ExecuteTime": {
     "end_time": "2024-01-05T06:51:37.821636Z",
     "start_time": "2024-01-05T06:51:37.332759Z"
    }
   },
   "outputs": [
    {
     "name": "stderr",
     "output_type": "stream",
     "text": [
      "/home/hanl/miniconda3/envs/mytensor/lib/python3.9/site-packages/ipykernel/ipkernel.py:287: DeprecationWarning: `should_run_async` will not call `transform_cell` automatically in the future. Please pass the result to `transformed_cell` argument and any exception that happen during thetransform in `preprocessing_exc_tuple` in IPython 7.17 and above.\n",
      "  and should_run_async(code)\n"
     ]
    },
    {
     "ename": "NameError",
     "evalue": "name 'ss' is not defined",
     "output_type": "error",
     "traceback": [
      "\u001b[0;31m---------------------------------------------------------------------------\u001b[0m",
      "\u001b[0;31mNameError\u001b[0m                                 Traceback (most recent call last)",
      "Input \u001b[0;32mIn [9]\u001b[0m, in \u001b[0;36m<cell line: 1>\u001b[0;34m()\u001b[0m\n\u001b[0;32m----> 1\u001b[0m \u001b[43mss\u001b[49m\n",
      "\u001b[0;31mNameError\u001b[0m: name 'ss' is not defined"
     ]
    }
   ],
   "source": [
    "ss"
   ]
  },
  {
   "cell_type": "markdown",
   "id": "1d0f121b",
   "metadata": {},
   "source": [
    "## 除去age<18, los<1"
   ]
  },
  {
   "cell_type": "code",
   "execution_count": null,
   "id": "d16ae6ac",
   "metadata": {
    "ExecuteTime": {
     "end_time": "2024-01-05T06:51:37.824803Z",
     "start_time": "2024-01-05T06:42:54.304Z"
    }
   },
   "outputs": [],
   "source": [
    "df_demo =  pd.read_csv(\"/public/hanl/jupyter_dir/kidney_sepsis_penotype_v1/00.data_aumc/feature_data/df_admissions.csv\")\n",
    "df_demo = df_demo[df_demo[\"stay_id\"].isin(saki_lst)]\n",
    "df_demo = df_demo[ df_demo[\"lengthofstay\"]>=1] # 条件1： ICU住院时长\n",
    "df_demo = df_demo[(df_demo[\"age\"]>=18)] # 条件2： age >= 18\n",
    "\n",
    "saki_lst_filt_lst = list(df_demo.stay_id.unique())\n",
    "print(\"saki, 年龄>17且los大于1天：\",len(saki_lst_filt_lst))\n",
    "all_lst = saki_lst_filt_lst"
   ]
  },
  {
   "cell_type": "markdown",
   "id": "78a96486",
   "metadata": {},
   "source": [
    "## 去除基线cre 大于1.5、小于0.5的患者"
   ]
  },
  {
   "cell_type": "code",
   "execution_count": null,
   "id": "01386172",
   "metadata": {
    "ExecuteTime": {
     "end_time": "2024-01-05T06:51:37.825428Z",
     "start_time": "2024-01-05T06:42:54.307Z"
    }
   },
   "outputs": [],
   "source": [
    "df_base_crea = pd.read_csv(\"/public/hanl/jupyter_dir/kidney_sepsis_penotype_v3/00.data_aumc/disease_definition/AKI/baseline_creatinine.csv\")\n",
    "df_base_crea[\"baseline_creatinine\"] *= 0.01131\n",
    "df_base_crea = df_base_crea[(df_base_crea[\"baseline_creatinine\"]>=0.5) &(df_base_crea[\"baseline_creatinine\"]<1.5)]\n",
    "df_base_crea = df_base_crea.rename(columns={\"admissionid\":\"stay_id\"})\n",
    "df_base_crea = df_base_crea[df_base_crea.stay_id.isin(all_lst)]\n",
    "\n",
    "all_lst = df_base_crea.stay_id.unique()\n",
    "print(\"去掉没有基线 或基线过低 或基线已到肾衰竭或尿毒症的患者：\",len(all_lst))"
   ]
  },
  {
   "cell_type": "markdown",
   "id": "5ef3963d",
   "metadata": {},
   "source": [
    "# 用于聚类的临床数据获得"
   ]
  },
  {
   "cell_type": "code",
   "execution_count": null,
   "id": "54d99266",
   "metadata": {
    "ExecuteTime": {
     "end_time": "2024-01-05T06:51:37.826017Z",
     "start_time": "2024-01-05T06:42:54.309Z"
    }
   },
   "outputs": [],
   "source": [
    "df_saki = pd.read_csv(\"/public/hanl/jupyter_dir/kidney_sepsis_penotype_v3/00.data_aumc/disease_definition/AKI/aumcdb_sk_event_time.csv\")\n",
    "df_saki = df_saki[df_saki[\"stay_id\"].isin(all_lst)]\n",
    "df_saki = df_saki[[\"stay_id\", \"saki_onset\"]]\n",
    "\n",
    "# 临床特征标准的start是 time//60； end为 time//60 + 1 即入ICU的第几小时\n",
    "df_fea = pd.read_csv(\"/public/hanl/jupyter_dir/kidney_sepsis_penotype_v3/00.data_aumc/feature_data/aumc_icu_feature.csv\") # 时间单位为小时"
   ]
  },
  {
   "cell_type": "markdown",
   "id": "0f676500",
   "metadata": {},
   "source": [
    "## 按时间窗口获取数据"
   ]
  },
  {
   "cell_type": "code",
   "execution_count": null,
   "id": "c589742c",
   "metadata": {
    "ExecuteTime": {
     "end_time": "2024-01-05T06:51:37.826577Z",
     "start_time": "2024-01-05T06:42:54.311Z"
    }
   },
   "outputs": [],
   "source": [
    "df_fea_add = pd.merge(df_fea,df_saki,how=\"inner\",on=\"stay_id\")\n",
    "df_fea_add[\"time\"] = (df_fea_add[\"charttime\"] - df_fea_add[\"saki_onset\"])//6\n",
    "df_fea_add[\"time\"] = df_fea_add[\"time\"].map(lambda x:x//1) \n",
    "df_fea_add[\"time\"] = df_fea_add[\"time\"].map(lambda x: x+1 if x>=0 else x)\n",
    "\n",
    "df_fea_add = df_fea_add.drop([\"charttime\",\"saki_onset\"],axis=1)\n",
    "df_fea_add = df_fea_add.groupby([\"stay_id\",\"time\"]).agg(\"mean\").reset_index()\n",
    "df_fea_add = df_fea_add[(df_fea_add[\"time\"]>=-4) &(df_fea_add[\"time\"]<=28)]\n",
    "\n",
    "# condition2: SAKI发生后必须有一天及以上的记录\n",
    "tmp_df = df_fea_add.groupby(\"stay_id\").agg({\"time\":max}).reset_index()\n",
    "stay_lst = tmp_df[tmp_df[\"time\"]>=4][\"stay_id\"].tolist()\n",
    "df_fea_add = df_fea_add[df_fea_add[\"stay_id\"].isin(stay_lst)]\n",
    "all_lst = df_fea_add.stay_id.unique()\n",
    "print(\"在saki发生后有一天记录以上的患者：\", len(all_lst))\n",
    "\n",
    "#  condition3: SAKI最少有4个数据记录点\n",
    "df_stage = pd.read_csv(\"/public/hanl/jupyter_dir/kidney_sepsis_penotype_v3/00.data_aumc/disease_definition/AKI/kdigo_aki_stage.csv\")\n",
    "df_stage = df_stage.rename(columns={\"admissionid\":\"stay_id\"})\n",
    "df_stage =df_stage[df_stage[\"aki_stage\"]>0]\n",
    "df_stage = df_stage.sort_values([\"stay_id\",\"time\"])\n",
    "df_stage = df_stage[df_stage[\"stay_id\"].isin(all_lst)]\n",
    "df_stage = df_stage.groupby(\"stay_id\").agg({\"aki_stage\":\"count\"}).reset_index()\n",
    "df_stage = df_stage[df_stage.aki_stage >=4]\n",
    "all_lst = df_stage.stay_id.unique()\n",
    "print(\"AKI最少有4个数据记录点\", len(all_lst))\n",
    "\n",
    "df_fea_add = df_fea_add[df_fea_add[\"stay_id\"].isin(all_lst)]\n",
    "all_lst = df_fea_add.stay_id.unique()\n",
    "print(\"最后纳入患者数量：\",len(all_lst))"
   ]
  },
  {
   "cell_type": "code",
   "execution_count": null,
   "id": "ac9b637d",
   "metadata": {
    "ExecuteTime": {
     "end_time": "2024-01-05T06:51:37.827109Z",
     "start_time": "2024-01-05T06:42:54.313Z"
    }
   },
   "outputs": [],
   "source": [
    "df_fea_add[~df_fea_add.urineoutput.isnull()].shape,df_fea_add[df_fea_add.urineoutput.isnull()].shape"
   ]
  },
  {
   "cell_type": "markdown",
   "id": "6d2b5be7",
   "metadata": {},
   "source": [
    "## 前向插补"
   ]
  },
  {
   "cell_type": "code",
   "execution_count": null,
   "id": "f0e51f18",
   "metadata": {
    "ExecuteTime": {
     "end_time": "2024-01-05T06:51:37.828197Z",
     "start_time": "2024-01-05T06:42:54.316Z"
    }
   },
   "outputs": [],
   "source": [
    "# 前向插补\n",
    "tmp_df = pd.DataFrame()\n",
    "df_fea_add = df_fea_add.sort_values(by=[\"stay_id\",\"time\"])\n",
    "for i,j in df_fea_add.groupby([\"stay_id\"]):\n",
    "    j = j.fillna(method=\"ffill\")\n",
    "    tmp_df = pd.concat([tmp_df, j], axis=0)\n",
    "df_im = tmp_df"
   ]
  },
  {
   "cell_type": "code",
   "execution_count": null,
   "id": "4c06d252",
   "metadata": {
    "ExecuteTime": {
     "end_time": "2024-01-05T06:51:37.828718Z",
     "start_time": "2024-01-05T06:42:54.318Z"
    }
   },
   "outputs": [],
   "source": [
    "# 根据na找\n",
    "df = df_im\n",
    "tmp_df = pd.DataFrame(df.isna().sum()/df.shape[0])\n",
    "tmp_df = tmp_df.reset_index()\n",
    "\n",
    "fea_lst = tmp_df[tmp_df[0]<=0.6][\"index\"].tolist()\n",
    "print(\"删除的特征\", str(len(fea_lst)), tmp_df[tmp_df[0]>0.6][\"index\"].tolist()) \n",
    "df_im = df_im[fea_lst]\n",
    "df_im.to_csv(\"./df_im_By_ffill.csv\",index=False)"
   ]
  },
  {
   "cell_type": "markdown",
   "id": "7749c435",
   "metadata": {},
   "source": [
    "## 多重插补"
   ]
  },
  {
   "cell_type": "code",
   "execution_count": null,
   "id": "f7902592",
   "metadata": {
    "ExecuteTime": {
     "end_time": "2024-01-05T06:51:37.829192Z",
     "start_time": "2024-01-05T06:42:54.320Z"
    }
   },
   "outputs": [],
   "source": [
    "# 多重插补\n",
    "df_im = pd.read_csv(\"./df_im_By_ffill.csv\")\n",
    "\n",
    "kernel = mf.ImputationKernel(\n",
    "    df_im,\n",
    "    datasets=3,\n",
    "    save_all_iterations=True,\n",
    "    random_state=10\n",
    ")\n",
    "kernel.mice(iterations = 3, n_jobs=-1)\n",
    "df_im2 = kernel.complete_data(dataset=1)\n",
    "df_im2.to_csv(\"df_im_By_MI.csv\",index=False)\n",
    "df_im2.head(1)"
   ]
  },
  {
   "cell_type": "markdown",
   "id": "5e5d6a6d",
   "metadata": {
    "ExecuteTime": {
     "start_time": "2023-02-10T07:10:05.746Z"
    },
    "run_control": {
     "marked": true
    }
   },
   "source": [
    "## 添加额外特征-肌酐基线肌酐变化率"
   ]
  },
  {
   "cell_type": "code",
   "execution_count": null,
   "id": "ab7cf689",
   "metadata": {
    "ExecuteTime": {
     "end_time": "2024-01-05T06:51:37.829677Z",
     "start_time": "2024-01-05T06:42:54.321Z"
    }
   },
   "outputs": [],
   "source": [
    "# add 肌酐变化数 作为特征\n",
    "df_feaf = pd.merge(df_im2,df_base_crea,how=\"inner\",on=\"stay_id\")\n",
    "df_feaf[\"crea_divide_basecrea\"] = round(df_feaf[\"creatinine\"]/df_feaf[\"baseline_creatinine\"],2)\n",
    "df_feaf = df_feaf.drop([\"baseline_creatinine\"],axis=1)"
   ]
  },
  {
   "cell_type": "markdown",
   "id": "33e5ac1d",
   "metadata": {},
   "source": [
    "## 不同输出\n",
    "- 仅包含平均值"
   ]
  },
  {
   "cell_type": "code",
   "execution_count": null,
   "id": "0c03979c",
   "metadata": {
    "ExecuteTime": {
     "end_time": "2024-01-05T06:51:37.830186Z",
     "start_time": "2024-01-05T06:42:54.323Z"
    }
   },
   "outputs": [],
   "source": [
    "df_feaf.to_csv(\"sk_feature_timescale_aumc.csv\",index=False)"
   ]
  },
  {
   "cell_type": "code",
   "execution_count": null,
   "id": "26509497",
   "metadata": {
    "ExecuteTime": {
     "end_time": "2024-01-05T06:51:37.830690Z",
     "start_time": "2024-01-05T06:42:54.325Z"
    },
    "run_control": {
     "marked": true
    }
   },
   "outputs": [],
   "source": [
    "#查看每个时间点的缺失率\n",
    "df =df_feaf\n",
    "tmp_df = df[df[\"time\"].isin([-4,-3,-2,-1])]\n",
    "tmp_df[\"time\"].value_counts()/len(df.stay_id.unique())"
   ]
  },
  {
   "cell_type": "code",
   "execution_count": null,
   "id": "677f2795",
   "metadata": {
    "ExecuteTime": {
     "end_time": "2024-01-05T06:51:37.831160Z",
     "start_time": "2024-01-05T06:42:54.326Z"
    }
   },
   "outputs": [],
   "source": [
    "df_feaf = df_feaf[df_feaf[\"time\"]>=-2]\n",
    "df_feaf.to_csv(\"sk_feature_timescale_Fb2_aumc.csv\",index=False)"
   ]
  },
  {
   "cell_type": "code",
   "execution_count": null,
   "id": "3680da11",
   "metadata": {
    "ExecuteTime": {
     "end_time": "2024-01-05T06:51:37.831653Z",
     "start_time": "2024-01-05T06:42:54.328Z"
    }
   },
   "outputs": [],
   "source": [
    "import datetime\n",
    "now = datetime.datetime.now()\n",
    "print(now.strftime(\"%Y-%m-%d %H:%M:%S\"))"
   ]
  }
 ],
 "metadata": {
  "kernelspec": {
   "display_name": "Python [conda env:mytensor]",
   "language": "python",
   "name": "conda-env-mytensor-py"
  },
  "language_info": {
   "codemirror_mode": {
    "name": "ipython",
    "version": 3
   },
   "file_extension": ".py",
   "mimetype": "text/x-python",
   "name": "python",
   "nbconvert_exporter": "python",
   "pygments_lexer": "ipython3",
   "version": "3.9.12"
  },
  "toc": {
   "base_numbering": 1,
   "nav_menu": {},
   "number_sections": true,
   "sideBar": true,
   "skip_h1_title": false,
   "title_cell": "Table of Contents",
   "title_sidebar": "Contents",
   "toc_cell": false,
   "toc_position": {
    "height": "calc(100% - 180px)",
    "left": "10px",
    "top": "150px",
    "width": "200.44px"
   },
   "toc_section_display": true,
   "toc_window_display": true
  },
  "varInspector": {
   "cols": {
    "lenName": 16,
    "lenType": 16,
    "lenVar": 40
   },
   "kernels_config": {
    "python": {
     "delete_cmd_postfix": "",
     "delete_cmd_prefix": "del ",
     "library": "var_list.py",
     "varRefreshCmd": "print(var_dic_list())"
    },
    "r": {
     "delete_cmd_postfix": ") ",
     "delete_cmd_prefix": "rm(",
     "library": "var_list.r",
     "varRefreshCmd": "cat(var_dic_list()) "
    }
   },
   "types_to_exclude": [
    "module",
    "function",
    "builtin_function_or_method",
    "instance",
    "_Feature"
   ],
   "window_display": false
  }
 },
 "nbformat": 4,
 "nbformat_minor": 5
}
