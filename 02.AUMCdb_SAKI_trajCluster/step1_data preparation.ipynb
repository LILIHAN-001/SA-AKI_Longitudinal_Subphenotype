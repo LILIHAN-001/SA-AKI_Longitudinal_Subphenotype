{
 "cells": [
  {
   "cell_type": "code",
   "execution_count": 1,
   "id": "0e71d70c",
   "metadata": {
    "ExecuteTime": {
     "end_time": "2024-01-27T07:45:23.034887Z",
     "start_time": "2024-01-27T07:45:21.957854Z"
    }
   },
   "outputs": [],
   "source": [
    "import pandas as pd\n",
    "import numpy as np\n",
    "import matplotlib.pyplot as plt\n",
    "pd.options.display.max_rows = 300\n",
    "import datetime as dt\n",
    "import math\n",
    "import seaborn as sns\n",
    "import miceforest as mf\n",
    "from tableone import TableOne, load_dataset"
   ]
  },
  {
   "cell_type": "markdown",
   "id": "34713f6f",
   "metadata": {},
   "source": [
    "# Screen patients with S-AKI according to the definition"
   ]
  },
  {
   "cell_type": "markdown",
   "id": "845e446f",
   "metadata": {},
   "source": [
    "## sepsis"
   ]
  },
  {
   "cell_type": "code",
   "execution_count": null,
   "id": "6129bf4c",
   "metadata": {
    "ExecuteTime": {
     "end_time": "2024-01-05T06:51:36.740960Z",
     "start_time": "2024-01-05T06:51:36.647937Z"
    }
   },
   "outputs": [],
   "source": [
    "data_dir = \"/public/hanl/jupyter_dir/kidney_sepsis_penotype_v2/00.data_aumc/disease_definition/sepsis/\"\n",
    "infile = data_dir + \"aumc_sepsis_onset.csv\"\n",
    "df_sepsis = pd.read_csv(infile)\n",
    "sepsis_lst = df_sepsis.stay_id.tolist()\n",
    "print(\"The number of sepsis patients is (by sepsis3) :\",df_sepsis.shape[0])\n",
    "df_sepsis.head(1)"
   ]
  },
  {
   "cell_type": "markdown",
   "id": "ad92c1f4",
   "metadata": {},
   "source": [
    "## CKD"
   ]
  },
  {
   "cell_type": "code",
   "execution_count": 3,
   "id": "40c3ed34",
   "metadata": {
    "ExecuteTime": {
     "end_time": "2024-01-05T06:51:36.743794Z",
     "start_time": "2024-01-05T06:51:36.742134Z"
    }
   },
   "outputs": [
    {
     "name": "stderr",
     "output_type": "stream",
     "text": [
      "/home/hanl/miniconda3/envs/mytensor/lib/python3.9/site-packages/ipykernel/ipkernel.py:287: DeprecationWarning: `should_run_async` will not call `transform_cell` automatically in the future. Please pass the result to `transformed_cell` argument and any exception that happen during thetransform in `preprocessing_exc_tuple` in IPython 7.17 and above.\n",
      "  and should_run_async(code)\n"
     ]
    }
   ],
   "source": [
    "# data_dir = \"/public/hanl/jupyter_dir/database/AMUCdb/disease_definition/sepsis_episode/ref_sepsis_definition/out/\"\n",
    "# infile = data_dir + \"combined_diagnoses.csv\"\n",
    "# df_ckd = pd.read_csv(infile)\n",
    "# df_ckd = df_ckd[[ 'admissionid',  'specialty', 'diagnosis_type', 'diagnosis', 'diagnosis_id', 'surgical',\n",
    "#        'diagnosis_group', 'diagnosis_group_id', 'diagnosis_subgroup',\n",
    "#        'diagnosis_subgroup_id']]"
   ]
  },
  {
   "cell_type": "markdown",
   "id": "12eb0ddc",
   "metadata": {},
   "source": [
    "## AKI"
   ]
  },
  {
   "cell_type": "code",
   "execution_count": null,
   "id": "b37d6ae3",
   "metadata": {
    "ExecuteTime": {
     "end_time": "2024-01-05T06:51:36.878933Z",
     "start_time": "2024-01-05T06:51:36.744893Z"
    }
   },
   "outputs": [],
   "source": [
    "data_dir = \"/public/hanl/jupyter_dir/kidney_sepsis_penotype_v1/00.data_aumc/disease_definition/AKI/\"\n",
    "infile = data_dir + \"aumc_first_and_max_stage.csv\"\n",
    "df_aki = pd.read_csv(infile)\n",
    "df_aki_first = df_aki[[\"stay_id\",\"first_aki_onset\",\"first_aki_stage\"]]\n",
    "df_aki_first.columns = [\"stay_id\",\"aki_onset\",\"aki_stage\"]\n",
    "aki_lst = df_aki_first.stay_id.unique().tolist()\n",
    "print(\"The number of aki patients is (by KDIGO) :\",len(aki_lst))\n",
    "df_aki_first.head(2)"
   ]
  },
  {
   "cell_type": "markdown",
   "id": "7d799b9c",
   "metadata": {},
   "source": [
    "## sepsis without CKD;  sepsis with AKI"
   ]
  },
  {
   "cell_type": "code",
   "execution_count": 5,
   "id": "fa4a9022",
   "metadata": {
    "ExecuteTime": {
     "end_time": "2024-01-05T06:51:36.882902Z",
     "start_time": "2024-01-05T06:51:36.879817Z"
    },
    "run_control": {
     "marked": true
    }
   },
   "outputs": [
    {
     "name": "stdout",
     "output_type": "stream",
     "text": [
      "6350\n"
     ]
    },
    {
     "name": "stderr",
     "output_type": "stream",
     "text": [
      "/home/hanl/miniconda3/envs/mytensor/lib/python3.9/site-packages/ipykernel/ipkernel.py:287: DeprecationWarning: `should_run_async` will not call `transform_cell` automatically in the future. Please pass the result to `transformed_cell` argument and any exception that happen during thetransform in `preprocessing_exc_tuple` in IPython 7.17 and above.\n",
      "  and should_run_async(code)\n"
     ]
    }
   ],
   "source": [
    "#sepsis_minus_ckd_lst = list(set(sepsis_lst).difference(ckd_lst))\n",
    "#sepsis_minusCKD_addAKI_lst = list(set(sepsis_minus_ckd_lst).intersection(aki_lst))\n",
    "\n",
    "#sepsis_noKidney_lst = list(set(sepsis_lst).difference(ckd_lst, aki_lst))\n",
    "#print(\"sepsis_minusCKD_addAKI_lst:\",len(sepsis_minusCKD_addAKI_lst),\" sepsis_noKidney:\",len(sepsis_noKidney_lst))\n",
    "sepsis_addAKI_lst = list(set(sepsis_lst).intersection(aki_lst))\n",
    "print(len(sepsis_addAKI_lst))"
   ]
  },
  {
   "cell_type": "markdown",
   "id": "bf98bbd5",
   "metadata": {},
   "source": [
    "# S-AKI Inclusion Criteria"
   ]
  },
  {
   "cell_type": "markdown",
   "id": "87a58f4b",
   "metadata": {},
   "source": [
    "# Patients who developed AKI within one week after sepsis"
   ]
  },
  {
   "cell_type": "code",
   "execution_count": null,
   "id": "33c16ccf",
   "metadata": {
    "ExecuteTime": {
     "end_time": "2024-01-05T06:51:37.125150Z",
     "start_time": "2024-01-05T06:51:36.883815Z"
    }
   },
   "outputs": [],
   "source": [
    "df_sepsis = df_sepsis[df_sepsis[\"stay_id\"].isin(sepsis_addAKI_lst)]\n",
    "df_aki_first = df_aki_first[df_aki_first[\"stay_id\"].isin(sepsis_addAKI_lst)]\n",
    "\n",
    "df_sepsis_aki = pd.merge(df_sepsis, df_aki_first, how=\"left\", on = [\"stay_id\"])\n",
    "df_sepsis_aki[\"time_aki_minus_sepsis\"] =  (df_sepsis_aki[\"aki_onset\"] - df_sepsis_aki[\"sepsis_onset\"])\n",
    "df_sepsis_aki = df_sepsis_aki[(df_sepsis_aki[\"time_aki_minus_sepsis\"]>0) & (df_sepsis_aki[\"time_aki_minus_sepsis\"]<=168)]\n",
    "saki_lst = df_sepsis_aki.stay_id.unique().tolist()\n",
    "print(\"The number of patients with AKI within one week after sepsis:\",len(saki_lst))\n",
    "sns.distplot(df_sepsis_aki[\"time_aki_minus_sepsis\"])\n",
    "plt.show()"
   ]
  },
  {
   "cell_type": "code",
   "execution_count": 11,
   "id": "82959574",
   "metadata": {
    "ExecuteTime": {
     "end_time": "2024-01-05T06:53:13.959806Z",
     "start_time": "2024-01-05T06:53:13.442668Z"
    }
   },
   "outputs": [
    {
     "name": "stderr",
     "output_type": "stream",
     "text": [
      "/home/hanl/miniconda3/envs/mytensor/lib/python3.9/site-packages/ipykernel/ipkernel.py:287: DeprecationWarning: `should_run_async` will not call `transform_cell` automatically in the future. Please pass the result to `transformed_cell` argument and any exception that happen during thetransform in `preprocessing_exc_tuple` in IPython 7.17 and above.\n",
      "  and should_run_async(code)\n",
      "/home/hanl/miniconda3/envs/mytensor/lib/python3.9/site-packages/seaborn/distributions.py:2619: FutureWarning: `distplot` is a deprecated function and will be removed in a future version. Please adapt your code to use either `displot` (a figure-level function with similar flexibility) or `histplot` (an axes-level function for histograms).\n",
      "  warnings.warn(msg, FutureWarning)\n"
     ]
    },
    {
     "data": {
      "image/png": "[encoded data removed]",
      "text/plain": [
       "<Figure size 640x480 with 1 Axes>"
      ]
     },
     "metadata": {},
     "output_type": "display_data"
    },
    {
     "name": "stderr",
     "output_type": "stream",
     "text": [
      "/home/hanl/miniconda3/envs/mytensor/lib/python3.9/site-packages/seaborn/distributions.py:2619: FutureWarning: `distplot` is a deprecated function and will be removed in a future version. Please adapt your code to use either `displot` (a figure-level function with similar flexibility) or `histplot` (an axes-level function for histograms).\n",
      "  warnings.warn(msg, FutureWarning)\n"
     ]
    },
    {
     "data": {
      "image/png": "[encoded data removed]",
      "text/plain": [
       "<Figure size 640x480 with 1 Axes>"
      ]
     },
     "metadata": {},
     "output_type": "display_data"
    }
   ],
   "source": [
    "# df_time = pd.read_csv(\"/public/hanl/jupyter_dir/kidney_sepsis_penotype_v3/00.data_aumc//disease_definition/AKI/aumcdb_sk_event_time.csv\")\n",
    "# df_time = df_time[df_time[\"stay_id\"].isin(saki_lst)]\n",
    "\n",
    "# df_time[\"time_aki_minus_intime\"] =  (df_time[\"aki_onset\"] - df_time[\"intime\"]) \n",
    "# df_time[\"time_sepsis_minus_intime\"] =  (df_time[\"sepsis_onset\"] - df_time[\"intime\"]) \n",
    "# sns.distplot(df_time[(df_time[\"time_aki_minus_intime\"]<=168) & (df_time[\"time_aki_minus_intime\"]>=0)][\"time_aki_minus_intime\"])\n",
    "# plt.show()\n",
    "# sns.distplot(df_time[(df_time[\"time_sepsis_minus_intime\"]<=168) & (df_time[\"time_sepsis_minus_intime\"]>=0)][\"time_sepsis_minus_intime\"])\n",
    "# plt.show()"
   ]
  },
  {
   "cell_type": "markdown",
   "id": "1d0f121b",
   "metadata": {},
   "source": [
    "## Excluding age<18 and los<1"
   ]
  },
  {
   "cell_type": "code",
   "execution_count": null,
   "id": "d16ae6ac",
   "metadata": {
    "ExecuteTime": {
     "end_time": "2024-01-05T06:51:37.824803Z",
     "start_time": "2024-01-05T06:42:54.304Z"
    }
   },
   "outputs": [],
   "source": [
    "df_demo =  pd.read_csv(\"/public/hanl/jupyter_dir/kidney_sepsis_penotype_v1/00.data_aumc/feature_data/df_admissions.csv\")\n",
    "df_demo = df_demo[df_demo[\"stay_id\"].isin(saki_lst)]\n",
    "df_demo = df_demo[ df_demo[\"lengthofstay\"]>=1] \n",
    "df_demo = df_demo[(df_demo[\"age\"]>=18)]\n",
    "\n",
    "saki_lst_filt_lst = list(df_demo.stay_id.unique())\n",
    "print(\"saki, Age >17 and los greater than 1 day:\",len(saki_lst_filt_lst))\n",
    "all_lst = saki_lst_filt_lst"
   ]
  },
  {
   "cell_type": "markdown",
   "id": "78a96486",
   "metadata": {},
   "source": [
    "## Patients with baseline cre greater than 1.5 and less than 0.5 were excluded"
   ]
  },
  {
   "cell_type": "code",
   "execution_count": null,
   "id": "01386172",
   "metadata": {
    "ExecuteTime": {
     "end_time": "2024-01-05T06:51:37.825428Z",
     "start_time": "2024-01-05T06:42:54.307Z"
    }
   },
   "outputs": [],
   "source": [
    "df_base_crea = pd.read_csv(\"/public/hanl/jupyter_dir/kidney_sepsis_penotype_v3/00.data_aumc/disease_definition/AKI/baseline_creatinine.csv\")\n",
    "df_base_crea[\"baseline_creatinine\"] *= 0.01131\n",
    "df_base_crea = df_base_crea[(df_base_crea[\"baseline_creatinine\"]>=0.5) &(df_base_crea[\"baseline_creatinine\"]<1.5)]\n",
    "df_base_crea = df_base_crea.rename(columns={\"admissionid\":\"stay_id\"})\n",
    "df_base_crea = df_base_crea[df_base_crea.stay_id.isin(all_lst)]\n",
    "\n",
    "all_lst = df_base_crea.stay_id.unique()\n",
    "print(\"Remove patients without a baseline or with a low baseline or whose baseline has reached renal failure or uremia:\",len(all_lst))"
   ]
  },
  {
   "cell_type": "markdown",
   "id": "5ef3963d",
   "metadata": {},
   "source": [
    "# Clinical data acquisition for clustering"
   ]
  },
  {
   "cell_type": "code",
   "execution_count": null,
   "id": "54d99266",
   "metadata": {
    "ExecuteTime": {
     "end_time": "2024-01-05T06:51:37.826017Z",
     "start_time": "2024-01-05T06:42:54.309Z"
    }
   },
   "outputs": [],
   "source": [
    "df_saki = pd.read_csv(\"/public/hanl/jupyter_dir/kidney_sepsis_penotype_v3/00.data_aumc/disease_definition/AKI/aumcdb_sk_event_time.csv\")\n",
    "df_saki = df_saki[df_saki[\"stay_id\"].isin(all_lst)]\n",
    "df_saki = df_saki[[\"stay_id\", \"saki_onset\"]]\n",
    "\n",
    "# 临床特征标准的start是 time//60； end为 time//60 + 1 即入ICU的第几小时\n",
    "df_fea = pd.read_csv(\"/public/hanl/jupyter_dir/kidney_sepsis_penotype_v3/00.data_aumc/feature_data/aumc_icu_feature.csv\") # 时间单位为小时"
   ]
  },
  {
   "cell_type": "markdown",
   "id": "0f676500",
   "metadata": {},
   "source": [
    "## Obtain data by time window"
   ]
  },
  {
   "cell_type": "code",
   "execution_count": null,
   "id": "c589742c",
   "metadata": {
    "ExecuteTime": {
     "end_time": "2024-01-05T06:51:37.826577Z",
     "start_time": "2024-01-05T06:42:54.311Z"
    }
   },
   "outputs": [],
   "source": [
    "df_fea_add = pd.merge(df_fea,df_saki,how=\"inner\",on=\"stay_id\")\n",
    "df_fea_add[\"time\"] = (df_fea_add[\"charttime\"] - df_fea_add[\"saki_onset\"])//6\n",
    "df_fea_add[\"time\"] = df_fea_add[\"time\"].map(lambda x:x//1) \n",
    "df_fea_add[\"time\"] = df_fea_add[\"time\"].map(lambda x: x+1 if x>=0 else x)\n",
    "\n",
    "df_fea_add = df_fea_add.drop([\"charttime\",\"saki_onset\"],axis=1)\n",
    "df_fea_add = df_fea_add.groupby([\"stay_id\",\"time\"]).agg(\"mean\").reset_index()\n",
    "df_fea_add = df_fea_add[(df_fea_add[\"time\"]>=-4) &(df_fea_add[\"time\"]<=28)]\n",
    "\n",
    "# condition2: There must be a record of one day or more after SAKI occurs\n",
    "tmp_df = df_fea_add.groupby(\"stay_id\").agg({\"time\":max}).reset_index()\n",
    "stay_lst = tmp_df[tmp_df[\"time\"]>=4][\"stay_id\"].tolist()\n",
    "df_fea_add = df_fea_add[df_fea_add[\"stay_id\"].isin(stay_lst)]\n",
    "all_lst = df_fea_add.stay_id.unique()\n",
    "print(\"Patients who recorded more than one day after the occurrence of saki:\", len(all_lst))\n",
    "\n",
    "#  condition3: SAKI has at least four data recording points\n",
    "df_stage = pd.read_csv(\"/public/hanl/jupyter_dir/kidney_sepsis_penotype_v3/00.data_aumc/disease_definition/AKI/kdigo_aki_stage.csv\")\n",
    "df_stage = df_stage.rename(columns={\"admissionid\":\"stay_id\"})\n",
    "df_stage =df_stage[df_stage[\"aki_stage\"]>0]\n",
    "df_stage = df_stage.sort_values([\"stay_id\",\"time\"])\n",
    "df_stage = df_stage[df_stage[\"stay_id\"].isin(all_lst)]\n",
    "df_stage = df_stage.groupby(\"stay_id\").agg({\"aki_stage\":\"count\"}).reset_index()\n",
    "df_stage = df_stage[df_stage.aki_stage >=4]\n",
    "all_lst = df_stage.stay_id.unique()\n",
    "print(\"AKI has at least four data recording points\", len(all_lst))\n",
    "\n",
    "df_fea_add = df_fea_add[df_fea_add[\"stay_id\"].isin(all_lst)]\n",
    "all_lst = df_fea_add.stay_id.unique()\n",
    "print(\"Finally, the number of included patients:\",len(all_lst))"
   ]
  },
  {
   "cell_type": "code",
   "execution_count": null,
   "id": "ac9b637d",
   "metadata": {
    "ExecuteTime": {
     "end_time": "2024-01-05T06:51:37.827109Z",
     "start_time": "2024-01-05T06:42:54.313Z"
    }
   },
   "outputs": [],
   "source": [
    "df_fea_add[~df_fea_add.urineoutput.isnull()].shape,df_fea_add[df_fea_add.urineoutput.isnull()].shape"
   ]
  },
  {
   "cell_type": "markdown",
   "id": "6d2b5be7",
   "metadata": {},
   "source": [
    "## Forward interpolation"
   ]
  },
  {
   "cell_type": "code",
   "execution_count": null,
   "id": "f0e51f18",
   "metadata": {
    "ExecuteTime": {
     "end_time": "2024-01-05T06:51:37.828197Z",
     "start_time": "2024-01-05T06:42:54.316Z"
    }
   },
   "outputs": [],
   "source": [
    "# Forward interpolation\n",
    "tmp_df = pd.DataFrame()\n",
    "df_fea_add = df_fea_add.sort_values(by=[\"stay_id\",\"time\"])\n",
    "for i,j in df_fea_add.groupby([\"stay_id\"]):\n",
    "    j = j.fillna(method=\"ffill\")\n",
    "    tmp_df = pd.concat([tmp_df, j], axis=0)\n",
    "df_im = tmp_df"
   ]
  },
  {
   "cell_type": "code",
   "execution_count": null,
   "id": "4c06d252",
   "metadata": {
    "ExecuteTime": {
     "end_time": "2024-01-05T06:51:37.828718Z",
     "start_time": "2024-01-05T06:42:54.318Z"
    }
   },
   "outputs": [],
   "source": [
    "# Find according to na\n",
    "df = df_im\n",
    "tmp_df = pd.DataFrame(df.isna().sum()/df.shape[0])\n",
    "tmp_df = tmp_df.reset_index()\n",
    "\n",
    "fea_lst = tmp_df[tmp_df[0]<=0.6][\"index\"].tolist()\n",
    "print(\"Deleted features\", str(len(fea_lst)), tmp_df[tmp_df[0]>0.6][\"index\"].tolist()) \n",
    "df_im = df_im[fea_lst]\n",
    "df_im.to_csv(\"./df_im_By_ffill.csv\",index=False)"
   ]
  },
  {
   "cell_type": "markdown",
   "id": "7749c435",
   "metadata": {},
   "source": [
    "## Multiple interpolation"
   ]
  },
  {
   "cell_type": "code",
   "execution_count": null,
   "id": "f7902592",
   "metadata": {
    "ExecuteTime": {
     "end_time": "2024-01-05T06:51:37.829192Z",
     "start_time": "2024-01-05T06:42:54.320Z"
    }
   },
   "outputs": [],
   "source": [
    "# Multiple interpolation\n",
    "df_im = pd.read_csv(\"./df_im_By_ffill.csv\")\n",
    "\n",
    "kernel = mf.ImputationKernel(\n",
    "    df_im,\n",
    "    datasets=3,\n",
    "    save_all_iterations=True,\n",
    "    random_state=10\n",
    ")\n",
    "kernel.mice(iterations = 3, n_jobs=-1)\n",
    "df_im2 = kernel.complete_data(dataset=1)\n",
    "df_im2.to_csv(\"df_im_By_MI.csv\",index=False)\n",
    "df_im2.head(1)"
   ]
  },
  {
   "cell_type": "markdown",
   "id": "5e5d6a6d",
   "metadata": {
    "ExecuteTime": {
     "start_time": "2023-02-10T07:10:05.746Z"
    },
    "run_control": {
     "marked": true
    }
   },
   "source": [
    "## Add an additional feature - baseline creatinine change rate"
   ]
  },
  {
   "cell_type": "code",
   "execution_count": null,
   "id": "ab7cf689",
   "metadata": {
    "ExecuteTime": {
     "end_time": "2024-01-05T06:51:37.829677Z",
     "start_time": "2024-01-05T06:42:54.321Z"
    }
   },
   "outputs": [],
   "source": [
    "# add creatinine change number is taken as the characteristic\n",
    "df_feaf = pd.merge(df_im2,df_base_crea,how=\"inner\",on=\"stay_id\")\n",
    "df_feaf[\"crea_divide_basecrea\"] = round(df_feaf[\"creatinine\"]/df_feaf[\"baseline_creatinine\"],2)\n",
    "df_feaf = df_feaf.drop([\"baseline_creatinine\"],axis=1)"
   ]
  },
  {
   "cell_type": "markdown",
   "id": "33e5ac1d",
   "metadata": {},
   "source": [
    "## Different outputs\n",
    "- Only include the average value"
   ]
  },
  {
   "cell_type": "code",
   "execution_count": null,
   "id": "0c03979c",
   "metadata": {
    "ExecuteTime": {
     "end_time": "2024-01-05T06:51:37.830186Z",
     "start_time": "2024-01-05T06:42:54.323Z"
    }
   },
   "outputs": [],
   "source": [
    "df_feaf.to_csv(\"sk_feature_timescale_aumc.csv\",index=False)"
   ]
  },
  {
   "cell_type": "code",
   "execution_count": null,
   "id": "26509497",
   "metadata": {
    "ExecuteTime": {
     "end_time": "2024-01-05T06:51:37.830690Z",
     "start_time": "2024-01-05T06:42:54.325Z"
    },
    "run_control": {
     "marked": true
    }
   },
   "outputs": [],
   "source": [
    "# Check the missing rate at each time point\n",
    "df =df_feaf\n",
    "tmp_df = df[df[\"time\"].isin([-4,-3,-2,-1])]\n",
    "tmp_df[\"time\"].value_counts()/len(df.stay_id.unique())"
   ]
  },
  {
   "cell_type": "code",
   "execution_count": null,
   "id": "677f2795",
   "metadata": {
    "ExecuteTime": {
     "end_time": "2024-01-05T06:51:37.831160Z",
     "start_time": "2024-01-05T06:42:54.326Z"
    }
   },
   "outputs": [],
   "source": [
    "df_feaf = df_feaf[df_feaf[\"time\"]>=-2]\n",
    "df_feaf.to_csv(\"sk_feature_timescale_Fb2_aumc.csv\",index=False)"
   ]
  },
  {
   "cell_type": "code",
   "execution_count": null,
   "id": "3680da11",
   "metadata": {
    "ExecuteTime": {
     "end_time": "2024-01-05T06:51:37.831653Z",
     "start_time": "2024-01-05T06:42:54.328Z"
    }
   },
   "outputs": [],
   "source": [
    "import datetime\n",
    "now = datetime.datetime.now()\n",
    "print(now.strftime(\"%Y-%m-%d %H:%M:%S\"))"
   ]
  }
 ],
 "metadata": {
  "kernelspec": {
   "display_name": "Python 3",
   "language": "python",
   "name": "python3"
  },
  "language_info": {
   "codemirror_mode": {
    "name": "ipython",
    "version": 3
   },
   "file_extension": ".py",
   "mimetype": "text/x-python",
   "name": "python",
   "nbconvert_exporter": "python",
   "pygments_lexer": "ipython3",
   "version": "3.9.13"
  },
  "toc": {
   "base_numbering": 1,
   "nav_menu": {},
   "number_sections": true,
   "sideBar": true,
   "skip_h1_title": false,
   "title_cell": "Table of Contents",
   "title_sidebar": "Contents",
   "toc_cell": false,
   "toc_position": {
    "height": "calc(100% - 180px)",
    "left": "10px",
    "top": "150px",
    "width": "200.44px"
   },
   "toc_section_display": true,
   "toc_window_display": true
  },
  "varInspector": {
   "cols": {
    "lenName": 16,
    "lenType": 16,
    "lenVar": 40
   },
   "kernels_config": {
    "python": {
     "delete_cmd_postfix": "",
     "delete_cmd_prefix": "del ",
     "library": "var_list.py",
     "varRefreshCmd": "print(var_dic_list())"
    },
    "r": {
     "delete_cmd_postfix": ") ",
     "delete_cmd_prefix": "rm(",
     "library": "var_list.r",
     "varRefreshCmd": "cat(var_dic_list()) "
    }
   },
   "types_to_exclude": [
    "module",
    "function",
    "builtin_function_or_method",
    "instance",
    "_Feature"
   ],
   "window_display": false
  }
 },
 "nbformat": 4,
 "nbformat_minor": 5
}
