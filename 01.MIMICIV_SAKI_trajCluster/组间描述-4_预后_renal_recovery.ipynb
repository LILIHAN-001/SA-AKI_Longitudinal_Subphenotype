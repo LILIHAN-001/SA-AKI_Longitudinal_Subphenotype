{
 "cells": [
  {
   "cell_type": "markdown",
   "id": "ea7f2482",
   "metadata": {},
   "source": [
    "# def"
   ]
  },
  {
   "cell_type": "code",
   "execution_count": 2,
   "id": "8afe3825",
   "metadata": {
    "ExecuteTime": {
     "end_time": "2023-11-12T01:31:34.701721Z",
     "start_time": "2023-11-12T01:31:31.735139Z"
    }
   },
   "outputs": [],
   "source": [
    "import pandas as pd\n",
    "import time\n",
    "import numpy as np\n",
    "import matplotlib.pyplot as plt\n",
    "pd.options.display.max_rows = 300\n",
    "import math\n",
    "import datetime as dt\n",
    "from tableone import TableOne, load_dataset\n",
    "import itertools\n",
    "import random\n",
    "import scipy.stats as stats"
   ]
  },
  {
   "cell_type": "code",
   "execution_count": 3,
   "id": "f649a5a9",
   "metadata": {
    "ExecuteTime": {
     "end_time": "2023-11-12T01:31:35.150639Z",
     "start_time": "2023-11-12T01:31:34.709430Z"
    }
   },
   "outputs": [
    {
     "name": "stderr",
     "output_type": "stream",
     "text": [
      "/home/hanl/miniconda3/envs/mytensor/lib/python3.9/site-packages/ipykernel/ipkernel.py:287: DeprecationWarning: `should_run_async` will not call `transform_cell` automatically in the future. Please pass the result to `transformed_cell` argument and any exception that happen during thetransform in `preprocessing_exc_tuple` in IPython 7.17 and above.\n",
      "  and should_run_async(code)\n"
     ]
    },
    {
     "name": "stdout",
     "output_type": "stream",
     "text": [
      "纳入患者数量： 4713\n"
     ]
    },
    {
     "data": {
      "text/plain": [
       "2    3055\n",
       "1    1298\n",
       "3     360\n",
       "Name: groupHPD, dtype: int64"
      ]
     },
     "execution_count": 3,
     "metadata": {},
     "output_type": "execute_result"
    }
   ],
   "source": [
    "df_type = pd.read_csv(\"df_mixAK_fea4_C3.csv\")\n",
    "df_type_filt = df_type.loc[:,[\"stay_id\",\"groupHPD\"]]\n",
    "df_type_filt = df_type_filt.drop_duplicates()\n",
    "all_lst = df_type_filt.stay_id.unique().tolist()\n",
    "print(\"纳入患者数量：\",len(all_lst))\n",
    "\n",
    "df_type_filt[\"groupHPD\"].value_counts()"
   ]
  },
  {
   "cell_type": "markdown",
   "id": "a67e1cd4",
   "metadata": {},
   "source": [
    "# 定义恢复模式\n",
    "先判断一下每个时间的肾脏情况，再考虑时间来综合判断恢复模式\n",
    "\n",
    "肾脏情况判定：\n",
    "- 尿量不满足KDIGO AKI 定义时，判定为完全恢复C(complete recovery)\n",
    "- 肌酐不满足KDIGO AKI 定义时，判定为完全恢复C(complete recovery)\n",
    "- 否则都为尚未恢复P (partial)\n",
    "\n",
    "- 肌酐在基线肌酐的30%内时，判定为完全恢复\n",
    "\n",
    "恢复模式判定：\n",
    "- 快速恢复QR，3天内恢复(quick recovery ) \n",
    "- 缓慢恢复SR，7天内恢复（slow recovery） \n",
    "- 恶化W（worse） \n",
    "- 恢复指连续5个点 \"不满足AKI定义的数量\" 大于 \"满足AKI定义的数量\"\n"
   ]
  },
  {
   "cell_type": "markdown",
   "id": "d67d8521",
   "metadata": {},
   "source": [
    "# 肾脏情况判定"
   ]
  },
  {
   "cell_type": "markdown",
   "id": "96cb4e0f",
   "metadata": {},
   "source": [
    "## 获取数据-aki stage,aki_stage_uo，aki_stage_cre"
   ]
  },
  {
   "cell_type": "code",
   "execution_count": 4,
   "id": "783e9e1b",
   "metadata": {
    "ExecuteTime": {
     "end_time": "2023-11-12T01:31:39.291583Z",
     "start_time": "2023-11-12T01:31:39.104672Z"
    },
    "run_control": {
     "marked": true
    }
   },
   "outputs": [
    {
     "name": "stderr",
     "output_type": "stream",
     "text": [
      "/home/hanl/miniconda3/envs/mytensor/lib/python3.9/site-packages/ipykernel/ipkernel.py:287: DeprecationWarning: `should_run_async` will not call `transform_cell` automatically in the future. Please pass the result to `transformed_cell` argument and any exception that happen during thetransform in `preprocessing_exc_tuple` in IPython 7.17 and above.\n",
      "  and should_run_async(code)\n"
     ]
    },
    {
     "data": {
      "text/html": [
       "<div>\n",
       "<style scoped>\n",
       "    .dataframe tbody tr th:only-of-type {\n",
       "        vertical-align: middle;\n",
       "    }\n",
       "\n",
       "    .dataframe tbody tr th {\n",
       "        vertical-align: top;\n",
       "    }\n",
       "\n",
       "    .dataframe thead th {\n",
       "        text-align: right;\n",
       "    }\n",
       "</style>\n",
       "<table border=\"1\" class=\"dataframe\">\n",
       "  <thead>\n",
       "    <tr style=\"text-align: right;\">\n",
       "      <th></th>\n",
       "      <th>stay_id</th>\n",
       "      <th>time</th>\n",
       "      <th>aki_stage_uo</th>\n",
       "      <th>aki_stage_creat</th>\n",
       "      <th>aki_stage</th>\n",
       "    </tr>\n",
       "  </thead>\n",
       "  <tbody>\n",
       "    <tr>\n",
       "      <th>66</th>\n",
       "      <td>30003598</td>\n",
       "      <td>0</td>\n",
       "      <td>2.0</td>\n",
       "      <td>0.0</td>\n",
       "      <td>2.0</td>\n",
       "    </tr>\n",
       "    <tr>\n",
       "      <th>67</th>\n",
       "      <td>30003598</td>\n",
       "      <td>1</td>\n",
       "      <td>3.0</td>\n",
       "      <td>0.0</td>\n",
       "      <td>3.0</td>\n",
       "    </tr>\n",
       "    <tr>\n",
       "      <th>68</th>\n",
       "      <td>30003598</td>\n",
       "      <td>2</td>\n",
       "      <td>3.0</td>\n",
       "      <td>1.0</td>\n",
       "      <td>3.0</td>\n",
       "    </tr>\n",
       "  </tbody>\n",
       "</table>\n",
       "</div>"
      ],
      "text/plain": [
       "     stay_id  time  aki_stage_uo  aki_stage_creat  aki_stage\n",
       "66  30003598     0           2.0              0.0        2.0\n",
       "67  30003598     1           3.0              0.0        3.0\n",
       "68  30003598     2           3.0              1.0        3.0"
      ]
     },
     "execution_count": 4,
     "metadata": {},
     "output_type": "execute_result"
    }
   ],
   "source": [
    "## 获取每个时间点 由尿量或肌酐定义的最大stages\n",
    "df_stage = pd.read_csv(\"/public/hanl/jupyter_dir/kidney_sepsis_penotype_v3/00.data_mimic//disease_definition/AKI/kdigo_stages_based_time.csv\")\n",
    "df_stage = df_stage[df_stage['time']>=0]\n",
    "df_stage = df_stage[df_stage[\"stay_id\"].isin(all_lst)]\n",
    "df_stage.head(3)"
   ]
  },
  {
   "cell_type": "code",
   "execution_count": 4,
   "id": "d882506b",
   "metadata": {
    "ExecuteTime": {
     "end_time": "2023-08-07T02:11:39.824242Z",
     "start_time": "2023-08-07T02:11:14.292507Z"
    }
   },
   "outputs": [
    {
     "name": "stdout",
     "output_type": "stream",
     "text": [
      "aki_stage_creat\n"
     ]
    },
    {
     "name": "stderr",
     "output_type": "stream",
     "text": [
      "/home/hanl/miniconda3/envs/mytensor/lib/python3.9/site-packages/ipykernel/ipkernel.py:287: DeprecationWarning: `should_run_async` will not call `transform_cell` automatically in the future. Please pass the result to `transformed_cell` argument and any exception that happen during thetransform in `preprocessing_exc_tuple` in IPython 7.17 and above.\n",
      "  and should_run_async(code)\n"
     ]
    },
    {
     "name": "stdout",
     "output_type": "stream",
     "text": [
      "aki_stage_uo\n",
      "aki_stage\n"
     ]
    },
    {
     "data": {
      "text/html": [
       "<div>\n",
       "<style scoped>\n",
       "    .dataframe tbody tr th:only-of-type {\n",
       "        vertical-align: middle;\n",
       "    }\n",
       "\n",
       "    .dataframe tbody tr th {\n",
       "        vertical-align: top;\n",
       "    }\n",
       "\n",
       "    .dataframe thead th {\n",
       "        text-align: right;\n",
       "    }\n",
       "</style>\n",
       "<table border=\"1\" class=\"dataframe\">\n",
       "  <thead>\n",
       "    <tr style=\"text-align: right;\">\n",
       "      <th></th>\n",
       "      <th>stay_id</th>\n",
       "      <th>time</th>\n",
       "      <th>aki_stage_uo</th>\n",
       "      <th>aki_stage_creat</th>\n",
       "      <th>aki_stage</th>\n",
       "      <th>state_crea_start</th>\n",
       "      <th>state_crea_max</th>\n",
       "      <th>state_crea_end</th>\n",
       "      <th>state_uo_start</th>\n",
       "      <th>state_uo_max</th>\n",
       "      <th>state_uo_end</th>\n",
       "      <th>state_start</th>\n",
       "      <th>state_max</th>\n",
       "      <th>state_end</th>\n",
       "    </tr>\n",
       "  </thead>\n",
       "  <tbody>\n",
       "    <tr>\n",
       "      <th>0</th>\n",
       "      <td>30003598</td>\n",
       "      <td>0</td>\n",
       "      <td>2.0</td>\n",
       "      <td>0.0</td>\n",
       "      <td>2.0</td>\n",
       "      <td>0.0</td>\n",
       "      <td>1.0</td>\n",
       "      <td>1.0</td>\n",
       "      <td>2.0</td>\n",
       "      <td>3.0</td>\n",
       "      <td>0.0</td>\n",
       "      <td>2.0</td>\n",
       "      <td>3.0</td>\n",
       "      <td>0.0</td>\n",
       "    </tr>\n",
       "    <tr>\n",
       "      <th>1</th>\n",
       "      <td>30003598</td>\n",
       "      <td>1</td>\n",
       "      <td>3.0</td>\n",
       "      <td>0.0</td>\n",
       "      <td>3.0</td>\n",
       "      <td>0.0</td>\n",
       "      <td>1.0</td>\n",
       "      <td>1.0</td>\n",
       "      <td>2.0</td>\n",
       "      <td>3.0</td>\n",
       "      <td>0.0</td>\n",
       "      <td>2.0</td>\n",
       "      <td>3.0</td>\n",
       "      <td>0.0</td>\n",
       "    </tr>\n",
       "  </tbody>\n",
       "</table>\n",
       "</div>"
      ],
      "text/plain": [
       "    stay_id  time  aki_stage_uo  aki_stage_creat  aki_stage  state_crea_start  \\\n",
       "0  30003598     0           2.0              0.0        2.0               0.0   \n",
       "1  30003598     1           3.0              0.0        3.0               0.0   \n",
       "\n",
       "   state_crea_max  state_crea_end  state_uo_start  state_uo_max  state_uo_end  \\\n",
       "0             1.0             1.0             2.0           3.0           0.0   \n",
       "1             1.0             1.0             2.0           3.0           0.0   \n",
       "\n",
       "   state_start  state_max  state_end  \n",
       "0          2.0        3.0        0.0  \n",
       "1          2.0        3.0        0.0  "
      ]
     },
     "execution_count": 4,
     "metadata": {},
     "output_type": "execute_result"
    }
   ],
   "source": [
    "## 获取变化过程\n",
    "ss = \"aki_stage_creat\"  \n",
    "print(ss)\n",
    "tmp_df = pd.DataFrame(columns=[\"stay_id\", \"state_crea_start\", \"state_crea_max\", \"state_crea_end\"])\n",
    "for i,j in df_stage.groupby([\"stay_id\"]):\n",
    "    sstart = j[j[\"time\"]==0][ss].tolist()[0]\n",
    "    smax = sorted(j[ss].tolist()[1:-1])[-1]\n",
    "    send = j[ss].tolist()[-1] \n",
    "    tmp_df.loc[len(tmp_df)] = [i, sstart, smax, send]\n",
    "df = pd.merge(df_stage, tmp_df, how=\"inner\",on=\"stay_id\")\n",
    "\n",
    "ss = \"aki_stage_uo\"  \n",
    "print(ss)\n",
    "tmp_df = pd.DataFrame(columns=[\"stay_id\", \"state_uo_start\", \"state_uo_max\", \"state_uo_end\"])\n",
    "for i,j in df_stage.groupby([\"stay_id\"]):\n",
    "    sstart = j[j[\"time\"]==0][ss].tolist()[0]\n",
    "    smax = sorted(j[ss].tolist()[1:-1])[-1]\n",
    "    send = j[ss].tolist()[-1] \n",
    "    tmp_df.loc[len(tmp_df)] = [i, sstart, smax, send]\n",
    "df = pd.merge(df, tmp_df, how=\"inner\",on=\"stay_id\")\n",
    "\n",
    "ss = \"aki_stage\" \n",
    "print(ss)\n",
    "tmp_df = pd.DataFrame(columns=[\"stay_id\", \"state_start\", \"state_max\", \"state_end\"])\n",
    "for i,j in df_stage.groupby([\"stay_id\"]):\n",
    "    sstart = j[j[\"time\"]==0][ss].tolist()[0]\n",
    "    smax = sorted(j[ss].tolist()[1:-1])[-1]\n",
    "    send = j[ss].tolist()[-1] \n",
    "    tmp_df.loc[len(tmp_df)] = [i, sstart, smax, send]\n",
    "df = pd.merge(df, tmp_df, how=\"inner\",on=\"stay_id\")\n",
    "df.head(2)"
   ]
  },
  {
   "cell_type": "markdown",
   "id": "59164866",
   "metadata": {
    "run_control": {
     "marked": true
    }
   },
   "source": [
    "## 定义变化过程 by 变好/变坏/不变\n",
    "- 第一个点：time = 1 时的state\n",
    "- 第二个点：整个过程中stages最大的点\n",
    "- 第三个点：倒数5个点更多的一个状态"
   ]
  },
  {
   "cell_type": "code",
   "execution_count": 5,
   "id": "e4685e55",
   "metadata": {
    "ExecuteTime": {
     "end_time": "2023-08-07T02:11:39.903719Z",
     "start_time": "2023-08-07T02:11:39.825393Z"
    }
   },
   "outputs": [
    {
     "name": "stderr",
     "output_type": "stream",
     "text": [
      "/home/hanl/miniconda3/envs/mytensor/lib/python3.9/site-packages/ipykernel/ipkernel.py:287: DeprecationWarning: `should_run_async` will not call `transform_cell` automatically in the future. Please pass the result to `transformed_cell` argument and any exception that happen during thetransform in `preprocessing_exc_tuple` in IPython 7.17 and above.\n",
      "  and should_run_async(code)\n"
     ]
    }
   ],
   "source": [
    "df_cut = df[['stay_id','time','state_crea_start', 'state_crea_max', 'state_crea_end', 'state_uo_start',\n",
    "             'state_uo_max', 'state_uo_end','state_start','state_max', 'state_end']].drop_duplicates()\n",
    "\n",
    "#################\n",
    "t0 = \"state_crea_start\"\n",
    "tm = \"state_crea_max\"\n",
    "t1 = \"state_crea_end\"\n",
    "tc = \"state_crea_change\"\n",
    "# B\n",
    "df_cut.loc[ (df_cut[tm] >= df_cut[t0]) &  (df_cut[tm] >= df_cut[t1]) & (df_cut[t1]==0), tc] = \"CB\"\n",
    "df_cut.loc[ (df_cut[tm] >= df_cut[t0]) &  (df_cut[tm] >= df_cut[t1]) & (df_cut[t1]!=0), tc] = \"PB\"\n",
    "df_cut.loc[ (df_cut[tm] <= df_cut[t0]) &  (df_cut[t1] <= df_cut[tm]) & (df_cut[t1]!=0), tc] = \"PB\"\n",
    "df_cut.loc[ (df_cut[tm] <= df_cut[t0]) &  (df_cut[t1] <= df_cut[tm]) & (df_cut[t1]==0), tc] = \"CB\"\n",
    "\n",
    "# W\n",
    "df_cut.loc[ (df_cut[tm] >= df_cut[t0]) &  (df_cut[t1] >= df_cut[tm]),tc] = \"W\"\n",
    "# S\n",
    "df_cut.loc[ (df_cut[tm] == df_cut[t0]) &  (df_cut[t1] == df_cut[tm]),tc] = \"S\"\n",
    "\n",
    "#################\n",
    "t0 = \"state_uo_start\"\n",
    "tm = \"state_uo_max\"\n",
    "t1 = \"state_uo_end\"\n",
    "tc = \"state_uo_change\"\n",
    "# B\n",
    "df_cut.loc[ (df_cut[tm] >= df_cut[t0]) &  (df_cut[tm] >= df_cut[t1]) & (df_cut[t1]==0), tc] = \"CB\"\n",
    "df_cut.loc[ (df_cut[tm] >= df_cut[t0]) &  (df_cut[tm] >= df_cut[t1]) & (df_cut[t1]!=0), tc] = \"PB\"\n",
    "df_cut.loc[ (df_cut[tm] <= df_cut[t0]) &  (df_cut[t1] <= df_cut[tm]) & (df_cut[t1]!=0), tc] = \"PB\"\n",
    "df_cut.loc[ (df_cut[tm] <= df_cut[t0]) &  (df_cut[t1] <= df_cut[tm]) & (df_cut[t1]==0), tc] = \"CB\"\n",
    "\n",
    "# W\n",
    "df_cut.loc[ (df_cut[tm] >= df_cut[t0]) &  (df_cut[t1] >= df_cut[tm]),tc] = \"W\"\n",
    "# S\n",
    "df_cut.loc[ (df_cut[tm] == df_cut[t0]) &  (df_cut[t1] == df_cut[tm]),tc] = \"S\"\n",
    "\n",
    "#################\n",
    "t0 = \"state_start\"\n",
    "tm = \"state_max\"\n",
    "t1 = \"state_end\"\n",
    "tc = \"state_change\"\n",
    "# B\n",
    "df_cut.loc[ (df_cut[tm] >= df_cut[t0]) &  (df_cut[tm] >= df_cut[t1]) & (df_cut[t1]==0), tc] = \"CB\"\n",
    "df_cut.loc[ (df_cut[tm] >= df_cut[t0]) &  (df_cut[tm] >= df_cut[t1]) & (df_cut[t1]!=0), tc] = \"PB\"\n",
    "df_cut.loc[ (df_cut[tm] <= df_cut[t0]) &  (df_cut[t1] <= df_cut[tm]) & (df_cut[t1]!=0), tc] = \"PB\"\n",
    "df_cut.loc[ (df_cut[tm] <= df_cut[t0]) &  (df_cut[t1] <= df_cut[tm]) & (df_cut[t1]==0), tc] = \"CB\"\n",
    "\n",
    "# W\n",
    "df_cut.loc[ (df_cut[tm] >= df_cut[t0]) &  (df_cut[t1] >= df_cut[tm]),tc] = \"W\"\n",
    "# S\n",
    "df_cut.loc[ (df_cut[tm] == df_cut[t0]) &  (df_cut[t1] == df_cut[tm]),tc] = \"S\"\n"
   ]
  },
  {
   "cell_type": "code",
   "execution_count": 6,
   "id": "577e4a77",
   "metadata": {
    "ExecuteTime": {
     "end_time": "2023-08-07T02:11:39.907511Z",
     "start_time": "2023-08-07T02:11:39.904727Z"
    }
   },
   "outputs": [
    {
     "name": "stderr",
     "output_type": "stream",
     "text": [
      "/home/hanl/miniconda3/envs/mytensor/lib/python3.9/site-packages/ipykernel/ipkernel.py:287: DeprecationWarning: `should_run_async` will not call `transform_cell` automatically in the future. Please pass the result to `transformed_cell` argument and any exception that happen during thetransform in `preprocessing_exc_tuple` in IPython 7.17 and above.\n",
      "  and should_run_async(code)\n"
     ]
    },
    {
     "data": {
      "text/plain": [
       "'aki_stage'"
      ]
     },
     "execution_count": 6,
     "metadata": {},
     "output_type": "execute_result"
    }
   ],
   "source": [
    "ss"
   ]
  },
  {
   "cell_type": "code",
   "execution_count": 7,
   "id": "e7b0c135",
   "metadata": {
    "ExecuteTime": {
     "end_time": "2023-08-07T02:11:39.952159Z",
     "start_time": "2023-08-07T02:11:39.909050Z"
    },
    "run_control": {
     "marked": true
    }
   },
   "outputs": [
    {
     "name": "stdout",
     "output_type": "stream",
     "text": [
      "state_change\n"
     ]
    },
    {
     "name": "stderr",
     "output_type": "stream",
     "text": [
      "/home/hanl/miniconda3/envs/mytensor/lib/python3.9/site-packages/ipykernel/ipkernel.py:287: DeprecationWarning: `should_run_async` will not call `transform_cell` automatically in the future. Please pass the result to `transformed_cell` argument and any exception that happen during thetransform in `preprocessing_exc_tuple` in IPython 7.17 and above.\n",
      "  and should_run_async(code)\n"
     ]
    },
    {
     "data": {
      "text/html": [
       "<div>\n",
       "<style scoped>\n",
       "    .dataframe tbody tr th:only-of-type {\n",
       "        vertical-align: middle;\n",
       "    }\n",
       "\n",
       "    .dataframe tbody tr th {\n",
       "        vertical-align: top;\n",
       "    }\n",
       "\n",
       "    .dataframe thead th {\n",
       "        text-align: right;\n",
       "    }\n",
       "</style>\n",
       "<table border=\"1\" class=\"dataframe\">\n",
       "  <thead>\n",
       "    <tr style=\"text-align: right;\">\n",
       "      <th></th>\n",
       "      <th>type</th>\n",
       "      <th>0</th>\n",
       "      <th>groupHPD</th>\n",
       "      <th>count</th>\n",
       "      <th>percent</th>\n",
       "    </tr>\n",
       "  </thead>\n",
       "  <tbody>\n",
       "    <tr>\n",
       "      <th>0</th>\n",
       "      <td>CB</td>\n",
       "      <td>838</td>\n",
       "      <td>1</td>\n",
       "      <td>1298</td>\n",
       "      <td>64.56</td>\n",
       "    </tr>\n",
       "    <tr>\n",
       "      <th>1</th>\n",
       "      <td>W</td>\n",
       "      <td>232</td>\n",
       "      <td>1</td>\n",
       "      <td>1298</td>\n",
       "      <td>17.87</td>\n",
       "    </tr>\n",
       "  </tbody>\n",
       "</table>\n",
       "</div>"
      ],
      "text/plain": [
       "  type    0  groupHPD  count  percent\n",
       "0   CB  838         1   1298    64.56\n",
       "1    W  232         1   1298    17.87"
      ]
     },
     "execution_count": 7,
     "metadata": {},
     "output_type": "execute_result"
    }
   ],
   "source": [
    "df_cut1 = df_cut[['stay_id','state_crea_change','state_uo_change', 'state_change']].drop_duplicates()\n",
    "df_cut1 = pd.merge(df_cut1,df_type_filt, how=\"inner\",on=\"stay_id\")\n",
    "df_type_filt_count = pd.DataFrame(df_type_filt.groupHPD.value_counts()).reset_index()\n",
    "df_type_filt_count.columns = [\"groupHPD\",\"count\"]\n",
    "\n",
    "fea = \"state_change\" \n",
    "print(fea)\n",
    "##\n",
    "tmp_df = pd.DataFrame(df_cut1[df_cut1[\"groupHPD\"]==3][[fea]].value_counts()).reset_index()\n",
    "tmp_df[\"groupHPD\"]=3\n",
    "df_out = tmp_df\n",
    "\n",
    "tmp_df = pd.DataFrame(df_cut1[df_cut1[\"groupHPD\"]==2][[fea]].value_counts()).reset_index()\n",
    "tmp_df[\"groupHPD\"]=2\n",
    "df_out = pd.concat([df_out,tmp_df],axis=0)\n",
    "\n",
    "tmp_df = pd.DataFrame(df_cut1[df_cut1[\"groupHPD\"]==1][[fea]].value_counts()).reset_index()\n",
    "tmp_df[\"groupHPD\"]=1\n",
    "df_out = pd.concat([df_out,tmp_df],axis=0)\n",
    "df_out = df_out.sort_values([\"groupHPD\"])\n",
    "df_out = pd.merge(df_out,df_type_filt_count, how=\"inner\",on=\"groupHPD\")\n",
    "df_out[\"percent\"] = round(df_out[0] /df_out[\"count\"] *100,2)\n",
    "df_out.columns = ['type', 0, 'groupHPD', 'count', 'percent']\n",
    "df_out.head(2)"
   ]
  },
  {
   "cell_type": "code",
   "execution_count": 8,
   "id": "1bfe1aba",
   "metadata": {
    "ExecuteTime": {
     "end_time": "2023-08-07T02:11:39.989386Z",
     "start_time": "2023-08-07T02:11:39.953402Z"
    }
   },
   "outputs": [
    {
     "name": "stderr",
     "output_type": "stream",
     "text": [
      "/home/hanl/miniconda3/envs/mytensor/lib/python3.9/site-packages/ipykernel/ipkernel.py:287: DeprecationWarning: `should_run_async` will not call `transform_cell` automatically in the future. Please pass the result to `transformed_cell` argument and any exception that happen during thetransform in `preprocessing_exc_tuple` in IPython 7.17 and above.\n",
      "  and should_run_async(code)\n"
     ]
    },
    {
     "data": {
      "text/html": [
       "<div>\n",
       "<style scoped>\n",
       "    .dataframe tbody tr th:only-of-type {\n",
       "        vertical-align: middle;\n",
       "    }\n",
       "\n",
       "    .dataframe tbody tr th {\n",
       "        vertical-align: top;\n",
       "    }\n",
       "\n",
       "    .dataframe thead th {\n",
       "        text-align: right;\n",
       "    }\n",
       "</style>\n",
       "<table border=\"1\" class=\"dataframe\">\n",
       "  <thead>\n",
       "    <tr style=\"text-align: right;\">\n",
       "      <th></th>\n",
       "      <th>type</th>\n",
       "      <th>count</th>\n",
       "      <th>groupHPD</th>\n",
       "      <th>count_all</th>\n",
       "      <th>percent</th>\n",
       "      <th>dataset</th>\n",
       "    </tr>\n",
       "  </thead>\n",
       "  <tbody>\n",
       "    <tr>\n",
       "      <th>0</th>\n",
       "      <td>CB</td>\n",
       "      <td>838</td>\n",
       "      <td>1</td>\n",
       "      <td>1298</td>\n",
       "      <td>64.56</td>\n",
       "      <td>MIMIC</td>\n",
       "    </tr>\n",
       "    <tr>\n",
       "      <th>1</th>\n",
       "      <td>W</td>\n",
       "      <td>232</td>\n",
       "      <td>1</td>\n",
       "      <td>1298</td>\n",
       "      <td>17.87</td>\n",
       "      <td>MIMIC</td>\n",
       "    </tr>\n",
       "    <tr>\n",
       "      <th>2</th>\n",
       "      <td>PB</td>\n",
       "      <td>174</td>\n",
       "      <td>1</td>\n",
       "      <td>1298</td>\n",
       "      <td>13.41</td>\n",
       "      <td>MIMIC</td>\n",
       "    </tr>\n",
       "    <tr>\n",
       "      <th>3</th>\n",
       "      <td>S</td>\n",
       "      <td>54</td>\n",
       "      <td>1</td>\n",
       "      <td>1298</td>\n",
       "      <td>4.16</td>\n",
       "      <td>MIMIC</td>\n",
       "    </tr>\n",
       "    <tr>\n",
       "      <th>4</th>\n",
       "      <td>CB</td>\n",
       "      <td>2201</td>\n",
       "      <td>2</td>\n",
       "      <td>3055</td>\n",
       "      <td>72.05</td>\n",
       "      <td>MIMIC</td>\n",
       "    </tr>\n",
       "  </tbody>\n",
       "</table>\n",
       "</div>"
      ],
      "text/plain": [
       "  type  count  groupHPD  count_all  percent dataset\n",
       "0   CB    838         1       1298    64.56   MIMIC\n",
       "1    W    232         1       1298    17.87   MIMIC\n",
       "2   PB    174         1       1298    13.41   MIMIC\n",
       "3    S     54         1       1298     4.16   MIMIC\n",
       "4   CB   2201         2       3055    72.05   MIMIC"
      ]
     },
     "execution_count": 8,
     "metadata": {},
     "output_type": "execute_result"
    }
   ],
   "source": [
    "df_out[\"dataset\"] = \"MIMIC\"\n",
    "df_out.columns = ['type', 'count', 'groupHPD', 'count_all', 'percent', 'dataset']\n",
    "df_out.to_csv(\"./result/MIMIC_renal_recovery_1.csv\",index=False)\n",
    "df_out.head()"
   ]
  },
  {
   "cell_type": "code",
   "execution_count": 9,
   "id": "322dcf2c",
   "metadata": {
    "ExecuteTime": {
     "end_time": "2023-08-07T02:11:40.353627Z",
     "start_time": "2023-08-07T02:11:39.990345Z"
    },
    "run_control": {
     "marked": true
    }
   },
   "outputs": [
    {
     "name": "stderr",
     "output_type": "stream",
     "text": [
      "/home/hanl/miniconda3/envs/mytensor/lib/python3.9/site-packages/ipykernel/ipkernel.py:287: DeprecationWarning: `should_run_async` will not call `transform_cell` automatically in the future. Please pass the result to `transformed_cell` argument and any exception that happen during thetransform in `preprocessing_exc_tuple` in IPython 7.17 and above.\n",
      "  and should_run_async(code)\n",
      "/home/hanl/miniconda3/envs/mytensor/lib/python3.9/site-packages/ipykernel/pylab/backend_inline.py:164: DeprecationWarning: `configure_inline_support` is deprecated since IPython 7.23, directly use `matplotlib_inline.backend_inline.configure_inline_support()`\n",
      "  configure_inline_support(ip, backend)\n"
     ]
    },
    {
     "data": {
      "image/png": "[encoded data removed]",
      "text/plain": [
       "<Figure size 1200x600 with 1 Axes>"
      ]
     },
     "metadata": {},
     "output_type": "display_data"
    }
   ],
   "source": [
    "#plot\n",
    "def text(y1,y2,y3,y4, sizes):\n",
    "    plt.text(0,y1[0]/2 ,y1[0],size=sizes)\n",
    "    plt.text(1,y1[1]/2,y1[1],size=sizes)\n",
    "    plt.text(2,y1[2]/2,y1[2],size=sizes)\n",
    "    \n",
    "    plt.text(0,y1[0]+ y2[0]/2 ,y2[0],size=sizes)\n",
    "    plt.text(1,y1[1]+ y2[1]/2 ,y2[1],size=sizes)\n",
    "    plt.text(2,y1[2]+ y2[2]/2 ,y2[2],size=sizes)\n",
    "    \n",
    "    plt.text(0,y1[0]+ y2[0] +y3[0]/2 ,y3[0],size=sizes)\n",
    "    plt.text(1,y1[1]+ y2[1] +y3[1]/2 ,y3[1],size=sizes)\n",
    "    plt.text(2,y1[2]+ y2[2] +y3[2]/2 ,y3[2],size=sizes)\n",
    "    \n",
    "    plt.text(0,y1[0]+ y2[0] +y3[0] + y4[0]/2,y4[0],size=sizes)\n",
    "    plt.text(1,y1[1]+ y2[1] +y3[1] + y4[1]/2,y4[1],size=sizes)\n",
    "    plt.text(2,y1[2]+ y2[2] +y3[2] + y4[2]/2,y4[2],size=sizes)\n",
    "    \n",
    "#三组诊断时的AKI等级分布\n",
    "y1 = df_out[df_out[\"type\"]==\"S\"][\"percent\"].tolist()\n",
    "y2 = df_out[df_out[\"type\"]==\"CB\"][\"percent\"].tolist()\n",
    "y3 = df_out[df_out[\"type\"]==\"PB\"][\"percent\"].tolist()\n",
    "y4 = df_out[df_out[\"type\"]==\"W\"][\"percent\"].tolist()\n",
    "\n",
    "x = [\"C1\",\"C2\",\"C3\"]\n",
    "y1 = np.array(y1)\n",
    "y2 = np.array(y2)\n",
    "y3 = np.array(y3)\n",
    "y4 = np.array(y4)\n",
    "\n",
    "plt.figure(figsize=(12, 6))\n",
    "plt.bar(x,y1,width=0.4,label='steady',color='#ffffb3',edgecolor='grey')\n",
    "plt.bar(x,y2,width=0.4,bottom=y1,label='full recovery',color='#74c476',edgecolor='grey')\n",
    "plt.bar(x,y3,width=0.4,bottom=y1+y2,label='partial recovery',color='#bcbddc',edgecolor='grey')\n",
    "plt.bar(x,y4,width=0.4,bottom=y1+y2+y3,label='worsen',color='#fd8d3c',edgecolor='grey')\n",
    "\n",
    "text(y1,y2,y3,y4,10)\n",
    "plt.yticks(np.arange(0,110,20),[f'{i}%' for i in range(0,120,20)])\n",
    "plt.grid(axis='y',alpha=0.5,ls='--')\n",
    "\n",
    "plt.legend(frameon=False,bbox_to_anchor=(1.01,1))\n",
    "plt.title(fea)\n",
    "plt.tight_layout()\n",
    "plt.show()"
   ]
  },
  {
   "cell_type": "markdown",
   "id": "6dcad943",
   "metadata": {},
   "source": [
    "# 恢复模式判定(多少天恢复)\n",
    "- 3天内恢复/7天内恢复/7天内不恢复"
   ]
  },
  {
   "cell_type": "code",
   "execution_count": 10,
   "id": "bb401314",
   "metadata": {
    "ExecuteTime": {
     "end_time": "2023-08-07T02:11:40.362381Z",
     "start_time": "2023-08-07T02:11:40.354538Z"
    },
    "run_control": {
     "marked": true
    }
   },
   "outputs": [
    {
     "name": "stderr",
     "output_type": "stream",
     "text": [
      "/home/hanl/miniconda3/envs/mytensor/lib/python3.9/site-packages/ipykernel/ipkernel.py:287: DeprecationWarning: `should_run_async` will not call `transform_cell` automatically in the future. Please pass the result to `transformed_cell` argument and any exception that happen during thetransform in `preprocessing_exc_tuple` in IPython 7.17 and above.\n",
      "  and should_run_async(code)\n"
     ]
    },
    {
     "data": {
      "text/html": [
       "<div>\n",
       "<style scoped>\n",
       "    .dataframe tbody tr th:only-of-type {\n",
       "        vertical-align: middle;\n",
       "    }\n",
       "\n",
       "    .dataframe tbody tr th {\n",
       "        vertical-align: top;\n",
       "    }\n",
       "\n",
       "    .dataframe thead th {\n",
       "        text-align: right;\n",
       "    }\n",
       "</style>\n",
       "<table border=\"1\" class=\"dataframe\">\n",
       "  <thead>\n",
       "    <tr style=\"text-align: right;\">\n",
       "      <th></th>\n",
       "      <th>stay_id</th>\n",
       "      <th>time</th>\n",
       "      <th>state_change</th>\n",
       "      <th>state_uo_change</th>\n",
       "      <th>state_crea_change</th>\n",
       "    </tr>\n",
       "  </thead>\n",
       "  <tbody>\n",
       "    <tr>\n",
       "      <th>0</th>\n",
       "      <td>30003598</td>\n",
       "      <td>0</td>\n",
       "      <td>CB</td>\n",
       "      <td>CB</td>\n",
       "      <td>W</td>\n",
       "    </tr>\n",
       "  </tbody>\n",
       "</table>\n",
       "</div>"
      ],
      "text/plain": [
       "    stay_id  time state_change state_uo_change state_crea_change\n",
       "0  30003598     0           CB              CB                 W"
      ]
     },
     "execution_count": 10,
     "metadata": {},
     "output_type": "execute_result"
    }
   ],
   "source": [
    "df_ = df_cut[[\"stay_id\",\"time\",\"state_change\",\"state_uo_change\",\"state_crea_change\"]]\n",
    "df_.head(1)"
   ]
  },
  {
   "cell_type": "code",
   "execution_count": 11,
   "id": "17dc0eb4",
   "metadata": {
    "ExecuteTime": {
     "end_time": "2023-08-07T02:11:51.025397Z",
     "start_time": "2023-08-07T02:11:40.363274Z"
    },
    "run_control": {
     "marked": true
    }
   },
   "outputs": [
    {
     "name": "stderr",
     "output_type": "stream",
     "text": [
      "/home/hanl/miniconda3/envs/mytensor/lib/python3.9/site-packages/ipykernel/ipkernel.py:287: DeprecationWarning: `should_run_async` will not call `transform_cell` automatically in the future. Please pass the result to `transformed_cell` argument and any exception that happen during thetransform in `preprocessing_exc_tuple` in IPython 7.17 and above.\n",
      "  and should_run_async(code)\n"
     ]
    }
   ],
   "source": [
    "## 定义恢复模式\n",
    "# 快速恢复QR，48小时内恢复(quick recovery ) - 缓慢恢复SR，7天内恢复（slow recovery） - 恶化（worse） - 不清晰（unknow）\n",
    "def state_definition(d,t,fea):\n",
    "    # 快速恢复\n",
    "    if list(set(d[fea].tolist()))[0] ==\"W\":\n",
    "        s = \"W\"\n",
    "    elif max(d[\"time\"]) > t and list(set(d[fea].tolist()))[0] ==\"CB\":\n",
    "        s = \"Slow_CB\"\n",
    "    elif max(d[\"time\"]) > t and list(set(d[fea].tolist()))[0] ==\"PB\":\n",
    "        s = \"Slow_PB\"\n",
    "    elif max(d[\"time\"]) <= t and list(set(d[fea].tolist()))[0] ==\"CB\":\n",
    "        s = \"fast_CB\"\n",
    "    elif max(d[\"time\"]) <= t and list(set(d[fea].tolist()))[0] ==\"PB\":\n",
    "        s = \"fast_PB\"\n",
    "    elif list(set(d[fea].tolist()))[0] ==\"S\":\n",
    "        s = \"S\"\n",
    "    else:\n",
    "        s = \"unknow\"\n",
    "    return s\n",
    "\n",
    "## 得到每个stay_id的恢复模式\n",
    "df_stayid_s = pd.DataFrame(columns=[\"stay_id\",\"stayid_state\"])\n",
    "id_lst = df_.stay_id.unique()\n",
    "fea = \"state_change\"\n",
    "for id_ in id_lst:\n",
    "    d = df_[df_[\"stay_id\"]==id_]\n",
    "    stayid_s = state_definition(d,12,fea)\n",
    "    df_stayid_s.loc[len(df_stayid_s)] = [id_, stayid_s]\n",
    "\n",
    "df_count_all = pd.DataFrame(df_type_filt[\"groupHPD\"].value_counts()).reset_index()\n",
    "df_count_all.columns = [\"groupHPD\", \"count_all\"]\n",
    "\n",
    "tmp_df = pd.merge(df_stayid_s,df_type_filt, how=\"inner\",on=\"stay_id\")\n",
    "tmp_df = tmp_df.groupby([\"groupHPD\",\"stayid_state\"]).agg({\"stay_id\":\"count\"}).reset_index()\n",
    "tmp_df = pd.merge(tmp_df,df_count_all, how=\"inner\",on=\"groupHPD\")\n",
    "tmp_df[\"percent(%)\"] = round(tmp_df[\"stay_id\"]/tmp_df[\"count_all\"]*100,2)\n",
    "#tmp_df.sort_values([\"groupHPD\",'stayid_state'])"
   ]
  },
  {
   "cell_type": "code",
   "execution_count": 12,
   "id": "29d00294",
   "metadata": {
    "ExecuteTime": {
     "end_time": "2023-08-07T02:11:51.036585Z",
     "start_time": "2023-08-07T02:11:51.026647Z"
    }
   },
   "outputs": [
    {
     "name": "stderr",
     "output_type": "stream",
     "text": [
      "/home/hanl/miniconda3/envs/mytensor/lib/python3.9/site-packages/ipykernel/ipkernel.py:287: DeprecationWarning: `should_run_async` will not call `transform_cell` automatically in the future. Please pass the result to `transformed_cell` argument and any exception that happen during thetransform in `preprocessing_exc_tuple` in IPython 7.17 and above.\n",
      "  and should_run_async(code)\n"
     ]
    },
    {
     "data": {
      "text/html": [
       "<div>\n",
       "<style scoped>\n",
       "    .dataframe tbody tr th:only-of-type {\n",
       "        vertical-align: middle;\n",
       "    }\n",
       "\n",
       "    .dataframe tbody tr th {\n",
       "        vertical-align: top;\n",
       "    }\n",
       "\n",
       "    .dataframe thead th {\n",
       "        text-align: right;\n",
       "    }\n",
       "</style>\n",
       "<table border=\"1\" class=\"dataframe\">\n",
       "  <thead>\n",
       "    <tr style=\"text-align: right;\">\n",
       "      <th></th>\n",
       "      <th>groupHPD</th>\n",
       "      <th>stayid_state</th>\n",
       "      <th>stay_id</th>\n",
       "      <th>count_all</th>\n",
       "      <th>percent(%)</th>\n",
       "      <th>dataset</th>\n",
       "    </tr>\n",
       "  </thead>\n",
       "  <tbody>\n",
       "    <tr>\n",
       "      <th>0</th>\n",
       "      <td>1</td>\n",
       "      <td>S</td>\n",
       "      <td>54</td>\n",
       "      <td>1298</td>\n",
       "      <td>4.16</td>\n",
       "      <td>MIMIC</td>\n",
       "    </tr>\n",
       "    <tr>\n",
       "      <th>1</th>\n",
       "      <td>1</td>\n",
       "      <td>Slow_CB</td>\n",
       "      <td>551</td>\n",
       "      <td>1298</td>\n",
       "      <td>42.45</td>\n",
       "      <td>MIMIC</td>\n",
       "    </tr>\n",
       "    <tr>\n",
       "      <th>2</th>\n",
       "      <td>1</td>\n",
       "      <td>Slow_PB</td>\n",
       "      <td>126</td>\n",
       "      <td>1298</td>\n",
       "      <td>9.71</td>\n",
       "      <td>MIMIC</td>\n",
       "    </tr>\n",
       "    <tr>\n",
       "      <th>3</th>\n",
       "      <td>1</td>\n",
       "      <td>W</td>\n",
       "      <td>232</td>\n",
       "      <td>1298</td>\n",
       "      <td>17.87</td>\n",
       "      <td>MIMIC</td>\n",
       "    </tr>\n",
       "    <tr>\n",
       "      <th>4</th>\n",
       "      <td>1</td>\n",
       "      <td>fast_CB</td>\n",
       "      <td>287</td>\n",
       "      <td>1298</td>\n",
       "      <td>22.11</td>\n",
       "      <td>MIMIC</td>\n",
       "    </tr>\n",
       "  </tbody>\n",
       "</table>\n",
       "</div>"
      ],
      "text/plain": [
       "   groupHPD stayid_state  stay_id  count_all  percent(%) dataset\n",
       "0         1            S       54       1298        4.16   MIMIC\n",
       "1         1      Slow_CB      551       1298       42.45   MIMIC\n",
       "2         1      Slow_PB      126       1298        9.71   MIMIC\n",
       "3         1            W      232       1298       17.87   MIMIC\n",
       "4         1      fast_CB      287       1298       22.11   MIMIC"
      ]
     },
     "execution_count": 12,
     "metadata": {},
     "output_type": "execute_result"
    }
   ],
   "source": [
    "tmp_df[\"dataset\"] = \"MIMIC\"\n",
    "tmp_df.to_csv(\"./result/MIMIC_renal_recovery_2.csv\",index=False)\n",
    "tmp_df.head()"
   ]
  },
  {
   "cell_type": "code",
   "execution_count": 13,
   "id": "407338b9",
   "metadata": {
    "ExecuteTime": {
     "end_time": "2023-08-07T02:11:51.267931Z",
     "start_time": "2023-08-07T02:11:51.037528Z"
    },
    "run_control": {
     "marked": true
    },
    "scrolled": false
   },
   "outputs": [
    {
     "name": "stderr",
     "output_type": "stream",
     "text": [
      "/home/hanl/miniconda3/envs/mytensor/lib/python3.9/site-packages/ipykernel/ipkernel.py:287: DeprecationWarning: `should_run_async` will not call `transform_cell` automatically in the future. Please pass the result to `transformed_cell` argument and any exception that happen during thetransform in `preprocessing_exc_tuple` in IPython 7.17 and above.\n",
      "  and should_run_async(code)\n"
     ]
    },
    {
     "data": {
      "image/png": "[encoded data removed]",
      "text/plain": [
       "<Figure size 1200x500 with 1 Axes>"
      ]
     },
     "metadata": {},
     "output_type": "display_data"
    }
   ],
   "source": [
    "def text(y1,y2,y3,y4,y5,y6,sizes):\n",
    "    plt.text(0,y1[0]/2 ,y1[0],size=sizes)\n",
    "    plt.text(1,y1[1]/2,y1[1],size=sizes)\n",
    "    plt.text(2,y1[2]/2,y1[2],size=sizes)\n",
    "    \n",
    "    plt.text(0,y1[0]+ y2[0]/2 ,y2[0],size=sizes)\n",
    "    plt.text(1,y1[1]+ y2[1]/2 ,y2[1],size=sizes)\n",
    "    plt.text(2,y1[2]+ y2[2]/2 ,y2[2],size=sizes)\n",
    "    \n",
    "    plt.text(0,y1[0]+ y2[0] +y3[0]/2 ,y3[0],size=sizes)\n",
    "    plt.text(1,y1[1]+ y2[1] +y3[1]/2 ,y3[1],size=sizes)\n",
    "    plt.text(2,y1[2]+ y2[2] +y3[2]/2 ,y3[2],size=sizes)\n",
    "    \n",
    "    plt.text(0,y1[0]+ y2[0] +y3[0] + y4[0]/2,y4[0],size=sizes)\n",
    "    plt.text(1,y1[1]+ y2[1] +y3[1] + y4[1]/2,y4[1],size=sizes)\n",
    "    plt.text(2,y1[2]+ y2[2] +y3[2] + y4[2]/2,y4[2],size=sizes)\n",
    "    \n",
    "    plt.text(0,y1[0]+ y2[0] +y3[0] + y4[0]+y5[0]/2,y5[0],size=sizes)\n",
    "    plt.text(1,y1[1]+ y2[1] +y3[1] + y4[1]+y5[1]/2,y5[1],size=sizes)\n",
    "    plt.text(2,y1[2]+ y2[2] +y3[2] + y4[2]+y5[2]/2,y5[2],size=sizes)\n",
    "    \n",
    "    plt.text(0,y1[0]+ y2[0] +y3[0] + y4[0]+y5[0]+y6[0]/2,y6[0],size=sizes)\n",
    "    plt.text(1,y1[1]+ y2[1] +y3[1] + y4[1]+y5[1]+y6[1]/2,y6[1],size=sizes)\n",
    "    plt.text(2,y1[2]+ y2[2] +y3[2] + y4[2]+y5[2]+y6[2]/2,y6[2],size=sizes)    \n",
    "\n",
    "    \n",
    "#三组诊断时的AKI等级分布\n",
    "y1 = tmp_df[tmp_df[\"stayid_state\"]==\"fast_CB\"].loc[:,[\"groupHPD\",\"percent(%)\"]].sort_values(\"groupHPD\")[\"percent(%)\"].tolist()\n",
    "y2 = tmp_df[tmp_df[\"stayid_state\"]==\"Slow_CB\"].loc[:,[\"groupHPD\",\"percent(%)\"]].sort_values(\"groupHPD\")[\"percent(%)\"].tolist()\n",
    "y3 = tmp_df[tmp_df[\"stayid_state\"]==\"fast_PB\"].loc[:,[\"groupHPD\",\"percent(%)\"]].sort_values(\"groupHPD\")[\"percent(%)\"].tolist()\n",
    "y4 = tmp_df[tmp_df[\"stayid_state\"]==\"Slow_PB\"].loc[:,[\"groupHPD\",\"percent(%)\"]].sort_values(\"groupHPD\")[\"percent(%)\"].tolist()\n",
    "y5 = tmp_df[tmp_df[\"stayid_state\"]==\"S\"].loc[:,[\"groupHPD\",\"percent(%)\"]].sort_values(\"groupHPD\")[\"percent(%)\"].tolist()\n",
    "y6 = tmp_df[tmp_df[\"stayid_state\"]==\"W\"].loc[:,[\"groupHPD\",\"percent(%)\"]].sort_values(\"groupHPD\")[\"percent(%)\"].tolist()\n",
    "\n",
    "x = [\"C1\",\"C2\",\"C3\"]\n",
    "y1 = np.array(y1)\n",
    "y2 = np.array(y2)\n",
    "y3 = np.array(y3)\n",
    "\n",
    "plt.figure(figsize=(12, 5)) \n",
    "plt.bar(x,y1,width=0.4,label='3Day_full recovery',color='#c7e9c0',edgecolor='grey')\n",
    "plt.bar(x,y2,width=0.4,bottom=y1,label='7Day_full recovery',color='#74c476',edgecolor='grey')\n",
    "plt.bar(x,y3,width=0.4,bottom=y1+y2,label='3Day_partial recovery',color='#bcbddc',edgecolor='grey')\n",
    "plt.bar(x,y4,width=0.4,bottom=y1+y2+y3,label='7Day_partial recovery',color='#756bb1',edgecolor='grey')\n",
    "plt.bar(x,y5,width=0.4,bottom=y1+y2+y3+y4,label='steady',color='#ffffb3',edgecolor='grey')\n",
    "plt.bar(x,y6,width=0.4,bottom=y1+y2+y3+y4+y5,label='worsen',color='#fd8d3c',edgecolor='grey')\n",
    "text(y1,y2,y3,y4,y5,y6,10)\n",
    "\n",
    "plt.yticks(np.arange(0,120,20),[f'{i}%' for i in range(0,120,20)])\n",
    "plt.grid(axis='y',alpha=0.5,ls='--')\n",
    "\n",
    "plt.legend(frameon=False,bbox_to_anchor=(1.01,1))\n",
    "plt.title(\"recovery type\")\n",
    "plt.tight_layout()\n",
    "plt.show()"
   ]
  },
  {
   "cell_type": "markdown",
   "id": "53138897",
   "metadata": {},
   "source": [
    "# 每个患者恢复到AKI 0的时间长度"
   ]
  },
  {
   "cell_type": "code",
   "execution_count": 14,
   "id": "a8163c4e",
   "metadata": {
    "ExecuteTime": {
     "end_time": "2023-08-07T02:11:51.271000Z",
     "start_time": "2023-08-07T02:11:51.269050Z"
    }
   },
   "outputs": [
    {
     "name": "stderr",
     "output_type": "stream",
     "text": [
      "/home/hanl/miniconda3/envs/mytensor/lib/python3.9/site-packages/ipykernel/ipkernel.py:287: DeprecationWarning: `should_run_async` will not call `transform_cell` automatically in the future. Please pass the result to `transformed_cell` argument and any exception that happen during thetransform in `preprocessing_exc_tuple` in IPython 7.17 and above.\n",
      "  and should_run_async(code)\n"
     ]
    }
   ],
   "source": [
    "# df_stage = pd.read_csv(\"/public/hanl/jupyter_dir/kidney_sepsis_penotype_v3/00.data_mimic//disease_definition/AKI/kdigo_stages_based_time.csv\")\n",
    "\n",
    "# df_len = df_stage\n",
    "# df_len = df_len[df_len[\"aki_stage\"]>0]\n",
    "# df_len = df_len.sort_values([\"stay_id\",\"time\"],ascending=False)\n",
    "# df_len = df_len.groupby([\"stay_id\"]).head(1)\n",
    "# df_len = pd.merge(df_len,df_type_filt,how=\"inner\",on=\"stay_id\")\n",
    "# df_len[\"time\"] = df_len[\"time\"]*6 /24\n",
    "# df_len = df_len.rename(columns={\"time\":\"during_time\"})\n",
    "\n",
    "# df_ = df_cut[[\"stay_id\",\"state_change\",\"state_uo_change\",\"state_crea_change\"]].drop_duplicates()\n",
    "# df_len = pd.merge(df_len, df_, how=\"left\",on=['stay_id'])\n",
    "\n",
    "# import seaborn as sns\n",
    "# sns.boxplot(x=\"state_change\",y=\"during_time\",data=df_len,hue=\"groupHPD\",palette=\"Set3\") \n",
    "# plt.legend(loc='upper right')\n",
    "# plt.ylabel(\"during_time (day)\")\n",
    "# plt.show()"
   ]
  },
  {
   "cell_type": "code",
   "execution_count": null,
   "id": "b4d0e988",
   "metadata": {},
   "outputs": [],
   "source": [
    "sss"
   ]
  },
  {
   "cell_type": "markdown",
   "id": "716bbc0f",
   "metadata": {},
   "source": [
    "# 基于不同定义的恢复v2"
   ]
  },
  {
   "cell_type": "code",
   "execution_count": null,
   "id": "c9169b20",
   "metadata": {
    "ExecuteTime": {
     "end_time": "2023-08-07T02:11:53.174015Z",
     "start_time": "2023-08-07T02:02:20.364Z"
    }
   },
   "outputs": [],
   "source": [
    "df_cut.state_crea_change.unique()"
   ]
  },
  {
   "cell_type": "code",
   "execution_count": null,
   "id": "620e878f",
   "metadata": {
    "ExecuteTime": {
     "end_time": "2023-08-07T02:11:53.174669Z",
     "start_time": "2023-08-07T02:02:20.365Z"
    }
   },
   "outputs": [],
   "source": [
    "df_ = df_cut[[\"stay_id\",\"state_change\",\"state_uo_change\",\"state_crea_change\"]].drop_duplicates()\n",
    "\n",
    "df_.loc[(df_[\"state_uo_change\"].isin([\"CB\",\"PB\"])) &(df_[\"state_crea_change\"].isin([\"CB\",\"PB\"])),\"type\"] = \"UC_CC\"\n",
    "df_.loc[(df_[\"state_uo_change\"].isin([\"W\",\"S\"])) &(df_[\"state_crea_change\"].isin([\"W\",\"S\"])) ,\"type\"] = \"UC_PP\"\n",
    "df_.loc[(df_[\"state_uo_change\"].isin([\"CB\",\"PB\"])) &(df_[\"state_crea_change\"].isin([\"W\",\"S\"])) ,\"type\"] = \"UC_CP\"\n",
    "df_.loc[(df_[\"state_uo_change\"].isin([\"W\",\"S\"])) &(df_[\"state_crea_change\"].isin([\"CB\",\"PB\"])),\"type\"] = \"UC_PC\""
   ]
  },
  {
   "cell_type": "code",
   "execution_count": null,
   "id": "79a49d55",
   "metadata": {
    "ExecuteTime": {
     "end_time": "2023-08-07T02:11:53.175284Z",
     "start_time": "2023-08-07T02:02:20.367Z"
    }
   },
   "outputs": [],
   "source": [
    "df_sur = pd.read_csv(\"sk_survival.csv\")\n",
    "df_sur = df_sur[['stay_id', 'groupHPD','mortality_28d', 'survival_28day']]\n",
    "\n",
    "df_creauo = df_\n",
    "df_admit = pd.merge(df_sur,df_creauo,how=\"inner\",on=\"stay_id\")\n",
    "map_dict = {\"UC_CC\":1,\"UC_PC\":2,\"UC_CP\":3,'UC_PP':4}\n",
    "df_admit[\"type_num\"] = df_admit[\"type\"].map(map_dict)\n",
    "df_admit.to_csv(\"sk_survival_肌酐尿量分别是否恢复_v2.csv\", index=False)\n",
    "\n",
    "df_type_filt_count = pd.DataFrame(df_type_filt.groupHPD.value_counts()).reset_index()\n",
    "df_type_filt_count.columns = [\"groupHPD\",\"count\"]\n",
    "\n",
    "df = df_admit.groupby(['groupHPD',\"type_num\"]).agg({\"stay_id\":\"count\"}).reset_index()\n",
    "df = pd.merge(df, df_type_filt_count, how=\"left\",on=\"groupHPD\")\n",
    "df[\"percent\"] = round(df[\"stay_id\"] /df[\"count\"]*100 ,2) \n",
    "df[\"label\"] = df[\"groupHPD\"].astype(\"str\") + \"_\" + df[\"type_num\"].astype(\"int\").astype(\"str\")\n",
    "df"
   ]
  },
  {
   "cell_type": "code",
   "execution_count": null,
   "id": "b5240a0b",
   "metadata": {
    "ExecuteTime": {
     "end_time": "2023-08-07T02:11:53.176016Z",
     "start_time": "2023-08-07T02:02:20.369Z"
    }
   },
   "outputs": [],
   "source": [
    "#plot\n",
    "def text(y1,y2,y3,y4, sizes):\n",
    "    plt.text(0,y1[0]/2 ,y1[0],size=sizes)\n",
    "    plt.text(1,y1[1]/2,y1[1],size=sizes)\n",
    "    plt.text(2,y1[2]/2,y1[2],size=sizes)\n",
    "    \n",
    "    plt.text(0,y1[0]+ y2[0]/2 ,y2[0],size=sizes)\n",
    "    plt.text(1,y1[1]+ y2[1]/2 ,y2[1],size=sizes)\n",
    "    plt.text(2,y1[2]+ y2[2]/2 ,y2[2],size=sizes)\n",
    "    \n",
    "    plt.text(0,y1[0]+ y2[0] +y3[0]/2 ,y3[0],size=sizes)\n",
    "    plt.text(1,y1[1]+ y2[1] +y3[1]/2 ,y3[1],size=sizes)\n",
    "    plt.text(2,y1[2]+ y2[2] +y3[2]/2 ,y3[2],size=sizes)\n",
    "    \n",
    "    plt.text(0,y1[0]+ y2[0] +y3[0] + y4[0]/2,y4[0],size=sizes)\n",
    "    plt.text(1,y1[1]+ y2[1] +y3[1] + y4[1]/2,y4[1],size=sizes)\n",
    "    plt.text(2,y1[2]+ y2[2] +y3[2] + y4[2]/2,y4[2],size=sizes)\n",
    "    \n",
    "#三组诊断时的AKI等级分布\n",
    "y1 = df[df[\"type_num\"]==1][\"percent\"].tolist()\n",
    "y2 = df[df[\"type_num\"]==2][\"percent\"].tolist()\n",
    "y3 = df[df[\"type_num\"]==3][\"percent\"].tolist()\n",
    "y4 = df[df[\"type_num\"]==4][\"percent\"].tolist()\n",
    "\n",
    "x = [\"C1\",\"C2\",\"C3\"]\n",
    "y1 = np.array(y1)\n",
    "y2 = np.array(y2)\n",
    "y3 = np.array(y3)\n",
    "y4 = np.array(y4)\n",
    "\n",
    "plt.figure(figsize=(9, 5))\n",
    "plt.bar(x,y1,width=0.4,label='crea recovery + uo recovery',color='#ffffb3',edgecolor='grey')\n",
    "plt.bar(x,y2,width=0.4,bottom=y1,label='crea recovery + uo no recovery',color='#74c476',edgecolor='grey')\n",
    "plt.bar(x,y3,width=0.4,bottom=y1+y2,label='uo recovery + crea no recovery',color='#bcbddc',edgecolor='grey')\n",
    "plt.bar(x,y4,width=0.4,bottom=y1+y2+y3,label='crea no recovery + uo no recovery',color='#fd8d3c',edgecolor='grey')\n",
    "\n",
    "\n",
    "text(y1,y2,y3,y4,8)\n",
    "plt.yticks(np.arange(0,120,20),[f'{i}%' for i in range(0,120,20)])\n",
    "plt.grid(axis='y',alpha=0.5,ls='--')\n",
    "\n",
    "plt.legend(frameon=False,bbox_to_anchor=(1.01,1))\n",
    "plt.tight_layout()\n",
    "plt.show()"
   ]
  },
  {
   "cell_type": "markdown",
   "id": "b01d652e",
   "metadata": {},
   "source": [
    "# 基于不同定义的恢复v1"
   ]
  },
  {
   "cell_type": "code",
   "execution_count": null,
   "id": "6d13f07b",
   "metadata": {
    "ExecuteTime": {
     "end_time": "2023-08-07T02:11:53.176597Z",
     "start_time": "2023-08-07T02:02:20.372Z"
    }
   },
   "outputs": [],
   "source": [
    "df_stage = pd.read_csv(\"/public/hanl/jupyter_dir/kidney_sepsis_penotype_v3/00.data_mimic//disease_definition/AKI/kdigo_stages_based_time.csv\")\n",
    "df = df_stage\n",
    "\n",
    "df.loc[df[\"aki_stage_uo\"]==0,\"state_uo\"] = \"C\"\n",
    "df.loc[df[\"aki_stage_uo\"].isin([1,2,3]),\"state_uo\"] = \"P\"\n",
    "df.loc[df[\"aki_stage_creat\"].isin([1,2,3]),\"state_crea\"] = \"P\"\n",
    "df.loc[df[\"aki_stage_creat\"]==0,\"state_crea\"] = \"C\"\n",
    "df.loc[df[\"aki_stage\"].isin([1,2,3]),\"state\"] = \"P\"\n",
    "df.loc[df[\"aki_stage\"]==0,\"state\"] = \"C\"\n",
    "\n",
    "df_ = df.loc[:,[\"stay_id\",\"time\",\"state_uo\",\"state_crea\",\"state\"]]"
   ]
  },
  {
   "cell_type": "code",
   "execution_count": null,
   "id": "3962422a",
   "metadata": {
    "ExecuteTime": {
     "end_time": "2023-08-07T02:11:53.177207Z",
     "start_time": "2023-08-07T02:02:20.373Z"
    }
   },
   "outputs": [],
   "source": [
    "df = df_.sort_values([\"stay_id\",\"time\"],ascending=False)\n",
    "df = df.groupby([\"stay_id\"]).head(5)\n",
    "\n",
    "tmp_df = pd.DataFrame(columns=[\"stay_id\",\"uo_state_by_id\",\"crea_state_by_id\",\"state_by_id\" ])\n",
    "for i,j in df.groupby([\"stay_id\"]):\n",
    "    uo_state_by_id = j[\"state_uo\"].value_counts().head(1).index[0]\n",
    "    crea_state_by_id = j[\"state_crea\"].value_counts().head(1).index[0]\n",
    "    state_by_id = j[\"state\"].value_counts().head(1).index[0]\n",
    "    tmp_df.loc[len(tmp_df)] = [i, uo_state_by_id, crea_state_by_id, state_by_id]\n",
    "    \n",
    "tmp_df.loc[(tmp_df[\"uo_state_by_id\"]==\"C\")&(tmp_df[\"crea_state_by_id\"]==\"C\"),\"type\"] = \"UC_CC\"\n",
    "tmp_df.loc[(tmp_df[\"uo_state_by_id\"]==\"P\")&(tmp_df[\"crea_state_by_id\"]==\"P\"),\"type\"] = \"UC_PP\"\n",
    "tmp_df.loc[(tmp_df[\"uo_state_by_id\"]==\"C\")&(tmp_df[\"crea_state_by_id\"]==\"P\"),\"type\"] = \"UC_CP\"\n",
    "tmp_df.loc[(tmp_df[\"uo_state_by_id\"]==\"P\")&(tmp_df[\"crea_state_by_id\"]==\"C\"),\"type\"] = \"UC_PC\"\n",
    "tmp_df = tmp_df[['stay_id', 'type']]\n",
    "tmp_df.to_csv(\"肌酐尿量分别是否恢复.csv\",index=False)"
   ]
  },
  {
   "cell_type": "markdown",
   "id": "af47b24d",
   "metadata": {},
   "source": [
    "肌酐尿量都恢复 - UC_CC\n",
    "\n",
    "肌酐恢复尿量未恢复 - UC_PC\n",
    "\n",
    "尿量恢复肌酐未恢复 - UC_CP\n",
    "\n",
    "尿量肌酐都未恢复 - UC_PP"
   ]
  },
  {
   "cell_type": "code",
   "execution_count": null,
   "id": "13bc1f82",
   "metadata": {
    "ExecuteTime": {
     "end_time": "2023-08-07T02:11:53.177837Z",
     "start_time": "2023-08-07T02:02:20.376Z"
    }
   },
   "outputs": [],
   "source": [
    "df_sur = pd.read_csv(\"sk_survival.csv\")\n",
    "df_sur = df_sur[['stay_id', 'groupHPD','mortality_28d', 'survival_28day']]\n",
    "\n",
    "df_creauo = pd.read_csv(\"肌酐尿量分别是否恢复.csv\")\n",
    "df_admit = pd.merge(df_sur,df_creauo,how=\"inner\",on=\"stay_id\")\n",
    "map_dict = {\"UC_CC\":1,\"UC_PC\":2,\"UC_CP\":3,'UC_PP':4}\n",
    "df_admit[\"type_num\"] = df_admit[\"type\"].map(map_dict)\n",
    "df_admit.to_csv(\"sk_survival_肌酐尿量分别是否恢复.csv\", index=False)\n",
    "\n",
    "df_type_filt_count = pd.DataFrame(df_type_filt.groupHPD.value_counts()).reset_index()\n",
    "df_type_filt_count.columns = [\"groupHPD\",\"count\"]\n",
    "\n",
    "df = df_admit.groupby(['groupHPD',\"type_num\"]).agg({\"stay_id\":\"count\"}).reset_index()\n",
    "df = pd.merge(df, df_type_filt_count, how=\"left\",on=\"groupHPD\")\n",
    "df[\"percent\"] = round(df[\"stay_id\"] /df[\"count\"]*100 ,2) \n",
    "df[\"label\"] = df[\"groupHPD\"].astype(\"str\") + \"_\" + df[\"type_num\"].astype(\"str\")\n",
    "df"
   ]
  },
  {
   "cell_type": "code",
   "execution_count": null,
   "id": "077be478",
   "metadata": {
    "ExecuteTime": {
     "end_time": "2023-08-07T02:11:53.178458Z",
     "start_time": "2023-08-07T02:02:20.378Z"
    },
    "scrolled": false
   },
   "outputs": [],
   "source": [
    "#plot\n",
    "def text(y1,y2,y3,y4, sizes):\n",
    "    plt.text(0,y1[0]/2 ,y1[0],size=sizes)\n",
    "    plt.text(1,y1[1]/2,y1[1],size=sizes)\n",
    "    plt.text(2,y1[2]/2,y1[2],size=sizes)\n",
    "    \n",
    "    plt.text(0,y1[0]+ y2[0]/2 ,y2[0],size=sizes)\n",
    "    plt.text(1,y1[1]+ y2[1]/2 ,y2[1],size=sizes)\n",
    "    plt.text(2,y1[2]+ y2[2]/2 ,y2[2],size=sizes)\n",
    "    \n",
    "    plt.text(0,y1[0]+ y2[0] +y3[0]/2 ,y3[0],size=sizes)\n",
    "    plt.text(1,y1[1]+ y2[1] +y3[1]/2 ,y3[1],size=sizes)\n",
    "    plt.text(2,y1[2]+ y2[2] +y3[2]/2 ,y3[2],size=sizes)\n",
    "    \n",
    "    plt.text(0,y1[0]+ y2[0] +y3[0] + y4[0]/2,y4[0],size=sizes)\n",
    "    plt.text(1,y1[1]+ y2[1] +y3[1] + y4[1]/2,y4[1],size=sizes)\n",
    "    plt.text(2,y1[2]+ y2[2] +y3[2] + y4[2]/2,y4[2],size=sizes)\n",
    "    \n",
    "#三组诊断时的AKI等级分布\n",
    "y1 = df[df[\"type_num\"]==1][\"percent\"].tolist()\n",
    "y2 = df[df[\"type_num\"]==2][\"percent\"].tolist()\n",
    "y3 = df[df[\"type_num\"]==3][\"percent\"].tolist()\n",
    "y4 = df[df[\"type_num\"]==4][\"percent\"].tolist()\n",
    "\n",
    "x = [\"C1\",\"C2\",\"C3\"]\n",
    "y1 = np.array(y1)\n",
    "y2 = np.array(y2)\n",
    "y3 = np.array(y3)\n",
    "y4 = np.array(y4)\n",
    "\n",
    "plt.figure(figsize=(9, 5))\n",
    "plt.bar(x,y1,width=0.4,label='crea recovery + uo recovery',color='#ffffb3',edgecolor='grey')\n",
    "plt.bar(x,y2,width=0.4,bottom=y1,label='crea recovery + uo no recovery',color='#74c476',edgecolor='grey')\n",
    "plt.bar(x,y3,width=0.4,bottom=y1+y2,label='uo recovery + crea no recovery',color='#bcbddc',edgecolor='grey')\n",
    "plt.bar(x,y4,width=0.4,bottom=y1+y2+y3,label='crea no recovery + uo no recovery',color='#fd8d3c',edgecolor='grey')\n",
    "\n",
    "\n",
    "text(y1,y2,y3,y4,8)\n",
    "plt.yticks(np.arange(0,120,20),[f'{i}%' for i in range(0,120,20)])\n",
    "plt.grid(axis='y',alpha=0.5,ls='--')\n",
    "\n",
    "plt.legend(frameon=False,bbox_to_anchor=(1.01,1))\n",
    "plt.tight_layout()\n",
    "plt.show()"
   ]
  },
  {
   "cell_type": "code",
   "execution_count": null,
   "id": "6742bc99",
   "metadata": {
    "ExecuteTime": {
     "end_time": "2023-08-07T02:11:53.179064Z",
     "start_time": "2023-08-07T02:02:20.380Z"
    }
   },
   "outputs": [],
   "source": [
    "df_count_all = pd.DataFrame(df_type_filt[\"groupHPD\"].value_counts()).reset_index()\n",
    "df_count_all.columns = [\"groupHPD\", \"count_all\"]\n",
    "\n",
    "df_state = df_.loc[:,[\"stay_id\", \"time\", \"state\",\"state_uo\",\"state_crea\"]]\n",
    "df_state =  pd.merge(df_state,df_type_filt, how=\"inner\",on=\"stay_id\")\n",
    "df_state = df_state[df_state['time'].isin([-2,-1,1,2,3,4,5,6,7,8,9,10,11,12,13,14,15,16])]\n",
    "\n",
    "df_state_count = df_state.groupby([\"time\",\"groupHPD\"]).agg({\"stay_id\":\"count\"}).reset_index()\n",
    "df_state_count.columns = [\"time\",\"groupHPD\",\"count\"]\n",
    "\n",
    "df_state_count.head(2)"
   ]
  },
  {
   "cell_type": "code",
   "execution_count": null,
   "id": "5e6fd3e5",
   "metadata": {
    "ExecuteTime": {
     "end_time": "2023-08-07T02:11:53.179678Z",
     "start_time": "2023-08-07T02:02:20.381Z"
    }
   },
   "outputs": [],
   "source": [
    "from matplotlib import pyplot as plt \n",
    "def feature_line_chart_plot(df, df_state_count,fea,label_lst,t1_lst,t2_lst,t3_lst):\n",
    "    df1 = df[df[\"stay_id\"].isin(t1_lst)]\n",
    "    df2 = df[df[\"stay_id\"].isin(t2_lst)]\n",
    "    df3 = df[df[\"stay_id\"].isin(t3_lst)]\n",
    "\n",
    "    df1 = df1.groupby([\"time\",\"groupHPD\",fea]).agg({\"stay_id\":\"count\"}).reset_index()\n",
    "    df1 = df1[df1[fea]==\"C\"]\n",
    "    df1 = pd.merge(df1,df_state_count, how=\"left\",on=[\"time\",\"groupHPD\"])\n",
    "    df1[\"percent\"] = round(df1[\"stay_id\"]/df1[\"count\"]*100, 4)\n",
    "    \n",
    "    df2 = df2.groupby([\"time\",\"groupHPD\",fea]).agg({\"stay_id\":\"count\"}).reset_index()\n",
    "    df2 = df2[df2[fea]==\"C\"]\n",
    "    df2 = pd.merge(df2,df_state_count, how=\"left\",on=[\"time\",\"groupHPD\"])\n",
    "    df2[\"percent\"] = round(df2[\"stay_id\"]/df2[\"count\"]*100, 4)\n",
    "    \n",
    "    df3 = df3.groupby([\"time\",\"groupHPD\",fea]).agg({\"stay_id\":\"count\"}).reset_index()\n",
    "    df3 = df3[df3[fea]==\"C\"]\n",
    "    df3 = pd.merge(df3,df_state_count, how=\"left\",on=[\"time\",\"groupHPD\"])\n",
    "    df3[\"percent\"] = round(df3[\"stay_id\"]/df3[\"count\"]*100, 4)\n",
    "    \n",
    "    x1 = df1[\"time\"].tolist()\n",
    "    y1 =  df1[\"percent\"].tolist()\n",
    "    x2 = df2[\"time\"].tolist()\n",
    "    y2 =  df2[\"percent\"].tolist()\n",
    "    x3 = df3[\"time\"].tolist()\n",
    "    y3 =  df3[\"percent\"].tolist()\n",
    "\n",
    "    plt.figure(figsize=(3, 2)) \n",
    "    plt.plot(x1,y1,'s-',color = '#1b9e77',label=label_lst[0],linewidth=2,markersize=3)\n",
    "    plt.plot(x2,y2,'o-',color = '#d95f02',label=label_lst[1],linewidth=2,markersize=3)\n",
    "    plt.plot(x3,y3,'o-',color = '#7570b3',label=label_lst[2],linewidth=2,markersize=3)\n",
    "    \n",
    "    plt.xlabel(\"time after S-AKI (6 hour-window)\")\n",
    "    plt.ylabel(\"Recovery ratio(%)\")\n",
    "    plt.title(fea)\n",
    "    plt.legend(label_lst)\n",
    "    plt.show()\n",
    "\n",
    "t1_lst = df_type_filt[df_type_filt[\"groupHPD\"]==1].stay_id.unique()\n",
    "t2_lst = df_type_filt[df_type_filt[\"groupHPD\"]==2].stay_id.unique()\n",
    "t3_lst = df_type_filt[df_type_filt[\"groupHPD\"]==3].stay_id.unique()\n",
    "label_lst = [\"C1\", \"C2\", \"C3\"]\n",
    "fea_lst = [\"state_crea\",\"state_uo\",\"state\"]\n",
    "\n",
    "for fea in fea_lst:\n",
    "    feature_line_chart_plot(df_state, df_state_count, fea, label_lst,t1_lst,t2_lst,t3_lst)"
   ]
  }
 ],
 "metadata": {
  "kernelspec": {
   "display_name": "Python [conda env:mytensor]",
   "language": "python",
   "name": "conda-env-mytensor-py"
  },
  "language_info": {
   "codemirror_mode": {
    "name": "ipython",
    "version": 3
   },
   "file_extension": ".py",
   "mimetype": "text/x-python",
   "name": "python",
   "nbconvert_exporter": "python",
   "pygments_lexer": "ipython3",
   "version": "3.9.12"
  },
  "toc": {
   "base_numbering": 1,
   "nav_menu": {},
   "number_sections": true,
   "sideBar": true,
   "skip_h1_title": false,
   "title_cell": "Table of Contents",
   "title_sidebar": "Contents",
   "toc_cell": false,
   "toc_position": {
    "height": "calc(100% - 180px)",
    "left": "10px",
    "top": "150px",
    "width": "164.987px"
   },
   "toc_section_display": true,
   "toc_window_display": true
  },
  "varInspector": {
   "cols": {
    "lenName": 16,
    "lenType": 16,
    "lenVar": 40
   },
   "kernels_config": {
    "python": {
     "delete_cmd_postfix": "",
     "delete_cmd_prefix": "del ",
     "library": "var_list.py",
     "varRefreshCmd": "print(var_dic_list())"
    },
    "r": {
     "delete_cmd_postfix": ") ",
     "delete_cmd_prefix": "rm(",
     "library": "var_list.r",
     "varRefreshCmd": "cat(var_dic_list()) "
    }
   },
   "types_to_exclude": [
    "module",
    "function",
    "builtin_function_or_method",
    "instance",
    "_Feature"
   ],
   "window_display": false
  }
 },
 "nbformat": 4,
 "nbformat_minor": 5
}
