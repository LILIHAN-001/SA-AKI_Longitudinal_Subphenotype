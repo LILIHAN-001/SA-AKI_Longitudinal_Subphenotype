{
 "cells": [
  {
   "cell_type": "markdown",
   "id": "5d094976",
   "metadata": {},
   "source": [
    "# def"
   ]
  },
  {
   "cell_type": "code",
   "execution_count": 1,
   "id": "e565be0f",
   "metadata": {
    "ExecuteTime": {
     "end_time": "2024-03-05T08:12:59.113770Z",
     "start_time": "2024-03-05T08:04:20.507Z"
    }
   },
   "outputs": [
    {
     "data": {
      "text/plain": [
       "               _                           \n",
       "platform       x86_64-conda-linux-gnu      \n",
       "arch           x86_64                      \n",
       "os             linux-gnu                   \n",
       "system         x86_64, linux-gnu           \n",
       "status                                     \n",
       "major          4                           \n",
       "minor          2.2                         \n",
       "year           2022                        \n",
       "month          10                          \n",
       "day            31                          \n",
       "svn rev        83211                       \n",
       "language       R                           \n",
       "version.string R version 4.2.2 (2022-10-31)\n",
       "nickname       Innocent and Trusting       "
      ]
     },
     "metadata": {},
     "output_type": "display_data"
    }
   ],
   "source": [
    "R.version\n"
   ]
  },
  {
   "cell_type": "code",
   "execution_count": 1,
   "id": "f6b5692f",
   "metadata": {
    "ExecuteTime": {
     "end_time": "2024-02-21T13:11:12.164062Z",
     "start_time": "2024-02-21T13:02:29.331Z"
    }
   },
   "outputs": [
    {
     "name": "stderr",
     "output_type": "stream",
     "text": [
      "Loading required package: ggplot2\n",
      "\n",
      "Loading required package: ggpubr\n",
      "\n",
      "\n",
      "Attaching package: ‘survminer’\n",
      "\n",
      "\n",
      "The following object is masked from ‘package:survival’:\n",
      "\n",
      "    myeloma\n",
      "\n",
      "\n"
     ]
    }
   ],
   "source": [
    "library(MatchIt)\n",
    "library(survival)\n",
    "library(survminer)\n",
    "library(tidyr)\n",
    "library(tableone)\n"
   ]
  },
  {
   "cell_type": "code",
   "execution_count": 2,
   "id": "8572d569",
   "metadata": {
    "ExecuteTime": {
     "end_time": "2024-02-21T13:11:12.201374Z",
     "start_time": "2024-02-21T13:02:29.332Z"
    }
   },
   "outputs": [],
   "source": [
    "#函数\n",
    "survival_curve <- function(data,title,survival_day,expire_flag){\n",
    "    df_select <- data\n",
    "    fit <- survfit(Surv(survival_day,expire_flag) ~ groupHPD, data = df_select)\n",
    "\n",
    "    ggsurvplot(fit, data = df_select, \n",
    "               surv.median.line = \"hv\",  # 增加中位生存时间\n",
    "               conf.int = TRUE, # 增加置信区间\n",
    "              # risk.table = TRUE, # 绘制累计风险曲线\n",
    "#               title=title,\n",
    "               pval = TRUE,\n",
    "               #add.all = TRUE, # 添加总患者生存曲线\n",
    "               xlab = \"Follow up time(day)\",\n",
    "               legend = c(0.2,0.2)) # 指定图例位置\n",
    "#    ggsave(paste0(\"./result/MIMIC_cluster_survival\",title,\".pdf\"), print(pp))\n",
    "}"
   ]
  },
  {
   "cell_type": "markdown",
   "id": "da1877d7",
   "metadata": {},
   "source": [
    "# 28d mortality"
   ]
  },
  {
   "cell_type": "code",
   "execution_count": 6,
   "id": "d4f86430",
   "metadata": {
    "ExecuteTime": {
     "end_time": "2024-02-21T13:13:42.223285Z",
     "start_time": "2024-02-21T13:05:00.467Z"
    }
   },
   "outputs": [
    {
     "data": {
      "text/html": [
       "<strong>png:</strong> 2"
      ],
      "text/latex": [
       "\\textbf{png:} 2"
      ],
      "text/markdown": [
       "**png:** 2"
      ],
      "text/plain": [
       "png \n",
       "  2 "
      ]
     },
     "metadata": {},
     "output_type": "display_data"
    }
   ],
   "source": [
    "df_survival <- read.csv(\"sk_survival.csv\",as.is = TRUE)\n",
    "df_survival <- as.data.frame(df_survival)\n",
    "df_select =  df_survival[,c(\"survival_28day\",\"mortality_28d\",\"groupHPD\")]\n",
    "df_select=as.data.frame(lapply(df_select,as.numeric))\n",
    "\n",
    "pdf(\"mimic_28d_mortality.pdf\")\n",
    "png(\"mimic_28d_mortality.png\")\n",
    "\n",
    "fit <- survfit(Surv(survival_28day,mortality_28d) ~ groupHPD, data = df_select)\n",
    "ggsurv <- ggsurvplot(fit, data = df_select, \n",
    "               surv.median.line = \"hv\",  # 增加中位生存时间\n",
    "               conf.int = TRUE, # 增加置信区间\n",
    "               risk.table = TRUE, # 绘制累计风险曲线\n",
    "               risk.table.height = 0.25,\n",
    "               title=\"MIMIC-IV\",\n",
    "               pval = TRUE,pval.size = 7,\n",
    "               palette = c(\"#74a8ff\",\"#3fc968\",\"#f8746a\"),\n",
    "               xlab = \"Follow up time (days)\",\n",
    "               legend = c(0.8,0.2),\n",
    "               legend.title = \"\",legend.labs = c(\" DR \", \" RR \",\" PW \"),  #legend.labs = c(\" C1 \", \" C2 \",\" C3 \")\n",
    "               font.main = 25,     #标题字体大小\n",
    "               font.x = 20,        #x坐标字体大小\n",
    "               font.y = 20,        #y坐标字体大小\n",
    "               font.tickslab = 16,\n",
    "               risk.table.fontsize = 6,tables.theme = theme_cleantable()+ \n",
    "    theme(axis.text.y = element_text(size = 16))\n",
    "          )  \n",
    "ggsurv$plot <- ggsurv$plot +\n",
    "  theme(legend.text = element_text(size = 16),plot.title = element_text(hjust = 0.5))  # 调整图例文本的字体大小为16\n",
    "ggsurv$table <- ggsurv$table +\n",
    "  theme(plot.title = element_text(size = 20, color = \"black\", face = \"bold\"))\n",
    "ggsurv\n",
    "dev.off()"
   ]
  },
  {
   "cell_type": "code",
   "execution_count": 4,
   "id": "f160abb2",
   "metadata": {
    "ExecuteTime": {
     "end_time": "2024-02-21T13:11:15.246385Z",
     "start_time": "2024-02-21T13:02:29.335Z"
    }
   },
   "outputs": [
    {
     "ename": "ERROR",
     "evalue": "Error in eval(expr, envir, enclos): object 's' not found\n",
     "output_type": "error",
     "traceback": [
      "Error in eval(expr, envir, enclos): object 's' not found\nTraceback:\n"
     ]
    }
   ],
   "source": [
    "s"
   ]
  },
  {
   "cell_type": "markdown",
   "id": "cebb6d27",
   "metadata": {},
   "source": [
    "# 肌酐尿量分别恢复情况的预后\n",
    "- \"UC_CC\":1,\n",
    "- \"UC_PC\":2\n",
    "- \"UC_CP\":3\n",
    "- 'UC_PP':4"
   ]
  },
  {
   "cell_type": "code",
   "execution_count": null,
   "id": "00ea4925",
   "metadata": {
    "ExecuteTime": {
     "end_time": "2024-02-21T13:11:15.248120Z",
     "start_time": "2024-02-21T13:02:29.336Z"
    },
    "scrolled": false
   },
   "outputs": [],
   "source": [
    "df_survival <- read.csv(\"sk_survival_肌酐尿量分别是否恢复_v2.csv\",as.is = TRUE)\n",
    "df_survival <- as.data.frame(df_survival)\n",
    "df_select =  df_survival[,c(\"survival_28day\",\"mortality_28d\",\"groupHPD\",\"type_num\")]\n",
    "df_select=as.data.frame(lapply(df_select,as.numeric))\n",
    "#df_select <-subset(df_select, type_num == c(2,3))\n",
    "\n",
    "fit <- survfit(Surv(survival_28day,mortality_28d) ~ type_num, data = df_select)\n",
    "ggsurvplot(fit, data = df_select, \n",
    "               surv.median.line = \"hv\",  # 增加中位生存时间\n",
    "               conf.int = TRUE, # 增加置信区间\n",
    "               risk.table = FALSE, # 绘制累计风险曲线\n",
    "               title=\"28 day-Mortality\",\n",
    "               pval = TRUE,\n",
    "               #add.all = TRUE, # 添加总患者生存曲线\n",
    "               xlab = \"Follow up time(day)\",\n",
    "               legend.labs = c(\"crea recovery + uo recovery\", \"crea recovery + uo no recovery\",\"uo recovery + crea no recovery\",\"crea no recovery + uo no recovery\"),\n",
    "               legend = c(0.8,0.2)) # 指定图例位置\n"
   ]
  }
 ],
 "metadata": {
  "kernelspec": {
   "display_name": "R [conda env:R]",
   "language": "R",
   "name": "conda-env-R-r"
  },
  "language_info": {
   "codemirror_mode": "r",
   "file_extension": ".r",
   "mimetype": "text/x-r-source",
   "name": "R",
   "pygments_lexer": "r",
   "version": "4.2.2"
  },
  "toc": {
   "base_numbering": 1,
   "nav_menu": {},
   "number_sections": true,
   "sideBar": true,
   "skip_h1_title": false,
   "title_cell": "Table of Contents",
   "title_sidebar": "Contents",
   "toc_cell": false,
   "toc_position": {
    "height": "calc(100% - 180px)",
    "left": "10px",
    "top": "150px",
    "width": "212.986px"
   },
   "toc_section_display": true,
   "toc_window_display": true
  },
  "varInspector": {
   "cols": {
    "lenName": 16,
    "lenType": 16,
    "lenVar": 40
   },
   "kernels_config": {
    "python": {
     "delete_cmd_postfix": "",
     "delete_cmd_prefix": "del ",
     "library": "var_list.py",
     "varRefreshCmd": "print(var_dic_list())"
    },
    "r": {
     "delete_cmd_postfix": ") ",
     "delete_cmd_prefix": "rm(",
     "library": "var_list.r",
     "varRefreshCmd": "cat(var_dic_list()) "
    }
   },
   "types_to_exclude": [
    "module",
    "function",
    "builtin_function_or_method",
    "instance",
    "_Feature"
   ],
   "window_display": false
  }
 },
 "nbformat": 4,
 "nbformat_minor": 5
}
