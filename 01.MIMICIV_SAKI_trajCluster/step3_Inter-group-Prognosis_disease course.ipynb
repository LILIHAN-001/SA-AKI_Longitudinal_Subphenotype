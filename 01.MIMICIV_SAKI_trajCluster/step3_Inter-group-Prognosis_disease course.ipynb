{
 "cells": [
  {
   "cell_type": "markdown",
   "id": "ea7f2482",
   "metadata": {},
   "source": [
    "# def"
   ]
  },
  {
   "cell_type": "code",
   "execution_count": 1,
   "id": "8afe3825",
   "metadata": {
    "ExecuteTime": {
     "end_time": "2024-02-07T17:32:14.429702Z",
     "start_time": "2024-02-07T17:32:13.518270Z"
    }
   },
   "outputs": [],
   "source": [
    "import pandas as pd\n",
    "import time\n",
    "import numpy as np\n",
    "import matplotlib.pyplot as plt\n",
    "pd.options.display.max_rows = 300\n",
    "import math\n",
    "import datetime as dt\n",
    "from tableone import TableOne, load_dataset\n",
    "import itertools\n",
    "import random\n",
    "import scipy.stats as stats"
   ]
  },
  {
   "cell_type": "code",
   "execution_count": null,
   "id": "f649a5a9",
   "metadata": {
    "ExecuteTime": {
     "end_time": "2024-02-07T17:32:14.866045Z",
     "start_time": "2024-02-07T17:32:14.431233Z"
    }
   },
   "outputs": [],
   "source": [
    "df_type = pd.read_csv(\"df_mixAK_fea4_C3.csv\")\n",
    "df_type_filt = df_type.loc[:,[\"stay_id\",\"groupHPD\"]]\n",
    "df_type_filt = df_type_filt.drop_duplicates()\n",
    "all_lst = df_type_filt.stay_id.unique().tolist()\n",
    "print(\"Number of included patients:\",len(all_lst))\n",
    "\n",
    "df_type_filt[\"groupHPD\"].value_counts()"
   ]
  },
  {
   "cell_type": "markdown",
   "id": "dc799461",
   "metadata": {},
   "source": [
    "# The length of the entire course of SAKI"
   ]
  },
  {
   "cell_type": "code",
   "execution_count": 3,
   "id": "244f0dc4",
   "metadata": {
    "ExecuteTime": {
     "end_time": "2024-02-07T17:32:14.883189Z",
     "start_time": "2024-02-07T17:32:14.867401Z"
    }
   },
   "outputs": [
    {
     "name": "stderr",
     "output_type": "stream",
     "text": [
      "/home/hanl/miniconda3/envs/mytensor/lib/python3.9/site-packages/ipykernel/ipkernel.py:287: DeprecationWarning: `should_run_async` will not call `transform_cell` automatically in the future. Please pass the result to `transformed_cell` argument and any exception that happen during thetransform in `preprocessing_exc_tuple` in IPython 7.17 and above.\n",
      "  and should_run_async(code)\n"
     ]
    }
   ],
   "source": [
    "df_first_aki = pd.read_csv(\"/public/hanl/jupyter_dir/kidney_sepsis_penotype_v3/00.data_mimic/disease_definition/AKI/sk_first_and_max_stage.csv\")\n",
    "first_aki_lst = df_first_aki[df_first_aki.first_aki_stage == 1].stay_id.unique()"
   ]
  },
  {
   "cell_type": "markdown",
   "id": "bd57762f",
   "metadata": {},
   "source": [
    "## sepsis to sa-aki"
   ]
  },
  {
   "cell_type": "code",
   "execution_count": 4,
   "id": "c1a2c497",
   "metadata": {
    "ExecuteTime": {
     "end_time": "2024-02-07T17:32:15.335552Z",
     "start_time": "2024-02-07T17:32:14.884408Z"
    }
   },
   "outputs": [
    {
     "name": "stdout",
     "output_type": "stream",
     "text": [
      "p-value annotation legend:\n",
      "      ns: p <= 1.00e+00\n",
      "       *: 1.00e-02 < p <= 5.00e-02\n",
      "      **: 1.00e-03 < p <= 1.00e-02\n",
      "     ***: 1.00e-04 < p <= 1.00e-03\n",
      "    ****: p <= 1.00e-04\n",
      "\n",
      "1 vs. 2: Mann-Whitney-Wilcoxon test two-sided, P_val:5.659e-01 U_stat=1.274e+06\n",
      "2 vs. 3: Mann-Whitney-Wilcoxon test two-sided, P_val:1.086e-09 U_stat=4.201e+05\n"
     ]
    },
    {
     "name": "stderr",
     "output_type": "stream",
     "text": [
      "/home/hanl/miniconda3/envs/mytensor/lib/python3.9/site-packages/ipykernel/ipkernel.py:287: DeprecationWarning: `should_run_async` will not call `transform_cell` automatically in the future. Please pass the result to `transformed_cell` argument and any exception that happen during thetransform in `preprocessing_exc_tuple` in IPython 7.17 and above.\n",
      "  and should_run_async(code)\n",
      "/home/hanl/miniconda3/envs/mytensor/lib/python3.9/site-packages/ipykernel/pylab/backend_inline.py:164: DeprecationWarning: `configure_inline_support` is deprecated since IPython 7.23, directly use `matplotlib_inline.backend_inline.configure_inline_support()`\n",
      "  configure_inline_support(ip, backend)\n"
     ]
    },
    {
     "name": "stdout",
     "output_type": "stream",
     "text": [
      "1 vs. 3: Mann-Whitney-Wilcoxon test two-sided, P_val:8.730e-07 U_stat=1.740e+05\n"
     ]
    },
    {
     "data": {
      "image/png": "[encoded data removed]",
      "text/plain": [
       "<Figure size 300x200 with 1 Axes>"
      ]
     },
     "metadata": {},
     "output_type": "display_data"
    }
   ],
   "source": [
    "df_time_all = pd.read_csv(\"/public/hanl/jupyter_dir/kidney_sepsis_penotype_v3/04.other_feature_in_three_dataset/04.survival_treatment/df_time_all.csv\")\n",
    "dataset_dict = {\"mimic\":\"MIMIC\",\"aumcdb\":\"AUMCdb\",\"eicu\":\"eICU\"}\n",
    "df_time_all = df_time_all[df_time_all[\"dataset\"]==\"mimic\"]\n",
    "df_time_all = df_time_all[df_time_all[\"stay_id\"].isin(first_aki_lst)]\n",
    "df_time_all[\"los_saki-sepsis\"] = df_time_all[\"los_saki-sepsis\"]/24\n",
    "\n",
    "import seaborn as sns\n",
    "fig, ax = plt.subplots(1,1, figsize=(3,2))\n",
    "ax=plt.gca()\n",
    "ax.spines['right'].set_visible(False)\n",
    "ax.spines['left'].set_visible(False)\n",
    "ax.spines['top'].set_visible(False)\n",
    "\n",
    "f1 = plt.boxplot([df_time_all[df_time_all[\"groupHPD\"]==1][\"los_saki-sepsis\"], df_time_all[df_time_all[\"groupHPD\"]==2][\"los_saki-sepsis\"], df_time_all[df_time_all[\"groupHPD\"]==3][\"los_saki-sepsis\"]],\n",
    "           whis=(10,90),showfliers=False,showmeans=True,vert=False,patch_artist=True,meanprops={'marker':'D','markerfacecolor':'black','markersize':3,'markeredgecolor':'black'},medianprops={'color':'black'}) \n",
    "\n",
    "color = [\"#74a8ff\",\"#3fc968\",\"#f8746a\"]\n",
    "for box,c in zip(f1['boxes'], color):\n",
    "    box.set(facecolor = c,edgecolor='black')\n",
    "plt.xlabel(\"Sepsis to SA-AKI (day)\")\n",
    "plt.yticks([1,2,3],[\"C1\",\"C2\",\"C3\"]) \n",
    "\n",
    "\n",
    "from statannotations.Annotator import Annotator\n",
    "box_pairs = [(2,1),(3,1),(3,2)]\n",
    "fig_args = {'x': 'groupHPD',\n",
    "            'y': 'los_saki-sepsis',\n",
    "            'data': df_time_all,\n",
    "            'dodge': True}\n",
    "annotator = Annotator(ax=ax, pairs=box_pairs, **fig_args)\n",
    "\n",
    "fig_args_horiz = {**fig_args,'x': 'los_saki-sepsis', 'y': 'groupHPD'}\n",
    "configuration = {'test':'Mann-Whitney', 'comparisons_correction':None, 'text_format':'star', 'loc':'outside'}\n",
    "annotator.new_plot(ax, orient='h', **fig_args_horiz)\n",
    "annotator.configure(**configuration).apply_test()\n",
    "annotator.apply_and_annotate()\n",
    "plt.savefig('./result/mimic_time_interval_sepsis2saaaki.pdf', bbox_inches = 'tight')\n",
    "plt.show()"
   ]
  },
  {
   "cell_type": "code",
   "execution_count": null,
   "id": "54432fd7",
   "metadata": {
    "ExecuteTime": {
     "end_time": "2024-02-07T17:32:15.365910Z",
     "start_time": "2024-02-07T17:32:15.337254Z"
    }
   },
   "outputs": [
    {
     "name": "stderr",
     "output_type": "stream",
     "text": [
      "/home/hanl/miniconda3/envs/mytensor/lib/python3.9/site-packages/ipykernel/ipkernel.py:287: DeprecationWarning: `should_run_async` will not call `transform_cell` automatically in the future. Please pass the result to `transformed_cell` argument and any exception that happen during thetransform in `preprocessing_exc_tuple` in IPython 7.17 and above.\n",
      "  and should_run_async(code)\n"
     ]
    },
    {
     "data": {
      "text/html": [
       "<div>\n",
       "<style scoped>\n",
       "    .dataframe tbody tr th:only-of-type {\n",
       "        vertical-align: middle;\n",
       "    }\n",
       "\n",
       "    .dataframe tbody tr th {\n",
       "        vertical-align: top;\n",
       "    }\n",
       "\n",
       "    .dataframe thead th {\n",
       "        text-align: right;\n",
       "    }\n",
       "</style>\n",
       "<table border=\"1\" class=\"dataframe\">\n",
       "  <thead>\n",
       "    <tr style=\"text-align: right;\">\n",
       "      <th></th>\n",
       "      <th>class</th>\n",
       "      <th>Mean</th>\n",
       "      <th>q10</th>\n",
       "      <th>q25</th>\n",
       "      <th>q50</th>\n",
       "      <th>q75</th>\n",
       "      <th>q90</th>\n",
       "    </tr>\n",
       "  </thead>\n",
       "  <tbody>\n",
       "    <tr>\n",
       "      <th>0</th>\n",
       "      <td>C1</td>\n",
       "      <td>0.85</td>\n",
       "      <td>0.13</td>\n",
       "      <td>0.26</td>\n",
       "      <td>0.50</td>\n",
       "      <td>1.00</td>\n",
       "      <td>1.92</td>\n",
       "    </tr>\n",
       "    <tr>\n",
       "      <th>1</th>\n",
       "      <td>C2</td>\n",
       "      <td>0.76</td>\n",
       "      <td>0.17</td>\n",
       "      <td>0.29</td>\n",
       "      <td>0.52</td>\n",
       "      <td>0.92</td>\n",
       "      <td>1.62</td>\n",
       "    </tr>\n",
       "    <tr>\n",
       "      <th>2</th>\n",
       "      <td>C3</td>\n",
       "      <td>0.62</td>\n",
       "      <td>0.09</td>\n",
       "      <td>0.21</td>\n",
       "      <td>0.33</td>\n",
       "      <td>0.67</td>\n",
       "      <td>1.34</td>\n",
       "    </tr>\n",
       "  </tbody>\n",
       "</table>\n",
       "</div>"
      ],
      "text/plain": [
       "  class  Mean   q10   q25   q50   q75   q90\n",
       "0    C1  0.85  0.13  0.26  0.50  1.00  1.92\n",
       "1    C2  0.76  0.17  0.29  0.52  0.92  1.62\n",
       "2    C3  0.62  0.09  0.21  0.33  0.67  1.34"
      ]
     },
     "execution_count": 5,
     "metadata": {},
     "output_type": "execute_result"
    }
   ],
   "source": [
    "# Output the median, mean and quantiles of each data group\n",
    "data_groups = [\n",
    "    df_time_all[df_time_all[\"groupHPD\"]==1][\"los_saki-sepsis\"], \n",
    "    df_time_all[df_time_all[\"groupHPD\"]==2][\"los_saki-sepsis\"], \n",
    "    df_time_all[df_time_all[\"groupHPD\"]==3][\"los_saki-sepsis\"]\n",
    "]\n",
    "\n",
    "df_out = pd.DataFrame(columns = [\"class\",\"Mean\",\"q10\",\"q25\",\"q50\",\"q75\",\"q90\"])\n",
    "for i, group_data in enumerate(data_groups):\n",
    "    i = \"C\" + str(int(i)+1) \n",
    "    mean = round(np.mean(group_data),2)\n",
    "    q10 = round(np.percentile(group_data, 10),2)\n",
    "    q25 = round(np.percentile(group_data, 25),2)\n",
    "    q50 = round(np.percentile(group_data, 50),2)\n",
    "    q75 = round(np.percentile(group_data, 75),2)\n",
    "    q90 = round(np.percentile(group_data, 90),2)\n",
    "    df_out.loc[len(df_out)] = [i,mean,q10,q25,q50,q75,q90]\n",
    "df_out"
   ]
  },
  {
   "cell_type": "code",
   "execution_count": null,
   "id": "a00caabf",
   "metadata": {},
   "outputs": [],
   "source": []
  },
  {
   "cell_type": "markdown",
   "id": "1ac09e59",
   "metadata": {},
   "source": [
    "## first AKI stage to max AKI stages"
   ]
  },
  {
   "cell_type": "code",
   "execution_count": null,
   "id": "8a45690a",
   "metadata": {
    "ExecuteTime": {
     "end_time": "2024-02-07T17:32:15.666705Z",
     "start_time": "2024-02-07T17:32:15.367238Z"
    }
   },
   "outputs": [],
   "source": [
    "df_time = pd.read_csv(\"/public/hanl/jupyter_dir/kidney_sepsis_penotype_v3/00.data_mimic/disease_definition/AKI/sk_first_and_max_stage.csv\")\n",
    "df_time = pd.merge(df_time,df_type_filt,how=\"inner\",on=\"stay_id\")\n",
    "print(\"Patients with two-thirds of AKI at the initial diagnosis stage:\",df_time[df_time[\"first_aki_stage\"].isin([ 3])].shape[0])\n",
    "df_time = df_time[~df_time[\"first_aki_stage\"].isin([ 3])]\n",
    "\n",
    "df_time[\"first_aki_onset\"] = pd.to_datetime(df_time[\"first_aki_onset\"])\n",
    "df_time[\"max_aki_time\"] = pd.to_datetime(df_time[\"max_aki_time\"])\n",
    "df_time = df_time[df_time[\"max_aki_stage\"]!=df_time[\"first_aki_stage\"]]\n",
    "df_time[\"during_time\"] = (df_time[\"max_aki_time\"] - df_time[\"first_aki_onset\"]).map(lambda x:x/np.timedelta64(24, 'h')).tolist()\n",
    "# df_time[\"dealt_aki_stage\"] = df_time[\"max_aki_stage\"] - df_time[\"first_aki_stage\"]\n",
    "# df_time.loc[df_time[\"dealt_aki_stage\"]==0, \"dealt_aki_stage\"] = 1\n",
    "# df_time[\"during_time\"] = round(df_time[\"during_time\"]/df_time[\"dealt_aki_stage\"],0)\n",
    "#df_time = df_time.dropna(how='any', subset=['during_time'])\n",
    "print(len(df_time.stay_id.unique()))\n",
    "\n",
    "import seaborn as sns\n",
    "fig, ax = plt.subplots(1,1, figsize=(3,2))\n",
    "ax=plt.gca()\n",
    "ax.spines['right'].set_visible(False)\n",
    "ax.spines['left'].set_visible(False)\n",
    "ax.spines['top'].set_visible(False) \n",
    "f1 = plt.boxplot([df_time[df_time[\"groupHPD\"]==1][\"during_time\"], df_time[df_time[\"groupHPD\"]==2][\"during_time\"], df_time[df_time[\"groupHPD\"]==3][\"during_time\"]],\n",
    "           whis=(10,90),showfliers=False,showmeans=True,vert=False,patch_artist=True,meanprops={'marker':'D','markerfacecolor':'black','markersize':3,'markeredgecolor':'black'},medianprops={'color':'black'}) \n",
    "color = [\"#74a8ff\",\"#3fc968\",\"#f8746a\"]\n",
    "for box,c in zip(f1['boxes'], color):\n",
    "    box.set(facecolor = c,edgecolor='black')\n",
    "    \n",
    "plt.xlim(0,7.1)     \n",
    "plt.xlabel(\"First to Max AKI_stages (day)\")\n",
    "plt.yticks([1,2,3],[\"C1\",\"C2\",\"C3\"]) \n",
    "\n",
    "from statannotations.Annotator import Annotator\n",
    "box_pairs = [(2,1),(3,1),(3,2)]\n",
    "fig_args = {'x': 'groupHPD',\n",
    "            'y': 'during_time',\n",
    "            'data': df_time,\n",
    "            'dodge': True}\n",
    "annotator = Annotator(ax=ax, pairs=box_pairs, **fig_args)\n",
    "\n",
    "fig_args_horiz = {**fig_args,'x': 'during_time', 'y': 'groupHPD'}\n",
    "configuration = {'test':'Mann-Whitney', 'comparisons_correction':None, 'text_format':'star', 'loc':'outside'}\n",
    "annotator.new_plot(ax, orient='h', **fig_args_horiz)\n",
    "annotator.configure(**configuration).apply_test()\n",
    "annotator.apply_and_annotate()\n",
    "plt.savefig('./result/mimic_time_interval_first2max_AKIstages.pdf', bbox_inches = 'tight')\n",
    "plt.show()"
   ]
  },
  {
   "cell_type": "code",
   "execution_count": null,
   "id": "92d0f5d9",
   "metadata": {
    "ExecuteTime": {
     "end_time": "2024-02-07T17:32:15.692025Z",
     "start_time": "2024-02-07T17:32:15.667702Z"
    }
   },
   "outputs": [
    {
     "name": "stderr",
     "output_type": "stream",
     "text": [
      "/home/hanl/miniconda3/envs/mytensor/lib/python3.9/site-packages/ipykernel/ipkernel.py:287: DeprecationWarning: `should_run_async` will not call `transform_cell` automatically in the future. Please pass the result to `transformed_cell` argument and any exception that happen during thetransform in `preprocessing_exc_tuple` in IPython 7.17 and above.\n",
      "  and should_run_async(code)\n"
     ]
    },
    {
     "data": {
      "text/html": [
       "<div>\n",
       "<style scoped>\n",
       "    .dataframe tbody tr th:only-of-type {\n",
       "        vertical-align: middle;\n",
       "    }\n",
       "\n",
       "    .dataframe tbody tr th {\n",
       "        vertical-align: top;\n",
       "    }\n",
       "\n",
       "    .dataframe thead th {\n",
       "        text-align: right;\n",
       "    }\n",
       "</style>\n",
       "<table border=\"1\" class=\"dataframe\">\n",
       "  <thead>\n",
       "    <tr style=\"text-align: right;\">\n",
       "      <th></th>\n",
       "      <th>class</th>\n",
       "      <th>Mean</th>\n",
       "      <th>q10</th>\n",
       "      <th>q25</th>\n",
       "      <th>q50</th>\n",
       "      <th>q75</th>\n",
       "      <th>q90</th>\n",
       "    </tr>\n",
       "  </thead>\n",
       "  <tbody>\n",
       "    <tr>\n",
       "      <th>0</th>\n",
       "      <td>C1</td>\n",
       "      <td>1.08</td>\n",
       "      <td>0.12</td>\n",
       "      <td>0.21</td>\n",
       "      <td>0.46</td>\n",
       "      <td>1.29</td>\n",
       "      <td>3.05</td>\n",
       "    </tr>\n",
       "    <tr>\n",
       "      <th>1</th>\n",
       "      <td>C2</td>\n",
       "      <td>0.65</td>\n",
       "      <td>0.08</td>\n",
       "      <td>0.17</td>\n",
       "      <td>0.25</td>\n",
       "      <td>0.74</td>\n",
       "      <td>1.72</td>\n",
       "    </tr>\n",
       "    <tr>\n",
       "      <th>2</th>\n",
       "      <td>C3</td>\n",
       "      <td>1.11</td>\n",
       "      <td>0.21</td>\n",
       "      <td>0.33</td>\n",
       "      <td>0.71</td>\n",
       "      <td>1.43</td>\n",
       "      <td>2.85</td>\n",
       "    </tr>\n",
       "  </tbody>\n",
       "</table>\n",
       "</div>"
      ],
      "text/plain": [
       "  class  Mean   q10   q25   q50   q75   q90\n",
       "0    C1  1.08  0.12  0.21  0.46  1.29  3.05\n",
       "1    C2  0.65  0.08  0.17  0.25  0.74  1.72\n",
       "2    C3  1.11  0.21  0.33  0.71  1.43  2.85"
      ]
     },
     "execution_count": 7,
     "metadata": {},
     "output_type": "execute_result"
    }
   ],
   "source": [
    "# Output the median, mean and quantiles of each data group\n",
    "data_groups = [df_time[df_time[\"groupHPD\"]==1][\"during_time\"],\n",
    "               df_time[df_time[\"groupHPD\"]==2][\"during_time\"], \n",
    "               df_time[df_time[\"groupHPD\"]==3][\"during_time\"]]\n",
    "\n",
    "df_out = pd.DataFrame(columns = [\"class\",\"Mean\",\"q10\",\"q25\",\"q50\",\"q75\",\"q90\"])\n",
    "for i, group_data in enumerate(data_groups):\n",
    "    i = \"C\" + str(int(i)+1) \n",
    "    mean = round(np.mean(group_data),2)\n",
    "    q10 = round(np.percentile(group_data, 10),2)\n",
    "    q25 = round(np.percentile(group_data, 25),2)\n",
    "    q50 = round(np.percentile(group_data, 50),2)\n",
    "    q75 = round(np.percentile(group_data, 75),2)\n",
    "    q90 = round(np.percentile(group_data, 90),2)\n",
    "    df_out.loc[len(df_out)] = [i,mean,q10,q25,q50,q75,q90]\n",
    "df_out"
   ]
  },
  {
   "cell_type": "markdown",
   "id": "1b58db77",
   "metadata": {
    "ExecuteTime": {
     "end_time": "2023-09-04T03:28:54.644041Z",
     "start_time": "2023-09-04T03:28:54.641986Z"
    },
    "run_control": {
     "marked": true
    }
   },
   "source": [
    "## first AKI to AKI endtime (with a 7-day limit)"
   ]
  },
  {
   "cell_type": "code",
   "execution_count": null,
   "id": "c3b63182",
   "metadata": {
    "ExecuteTime": {
     "end_time": "2024-02-07T17:32:16.078516Z",
     "start_time": "2024-02-07T17:32:15.693869Z"
    }
   },
   "outputs": [],
   "source": [
    "df_time = pd.read_csv(\"/public/hanl/jupyter_dir/kidney_sepsis_penotype_v3/00.data_mimic/disease_definition/AKI/sk_first_and_max_stage.csv\")\n",
    "df_time = pd.merge(df_time,df_type_filt,how=\"inner\",on=\"stay_id\")\n",
    "print(\"Patients with two-thirds of AKI at the initial diagnosis stage:\",df_time[df_time[\"first_aki_stage\"].isin([2,3])].shape[0])\n",
    "df_time = df_time[~df_time[\"first_aki_stage\"].isin([2,3])]\n",
    "\n",
    "df_time[\"first_aki_onset\"] = pd.to_datetime(df_time[\"first_aki_onset\"])\n",
    "df_time[\"aki_endtime\"] = pd.to_datetime(df_time[\"aki_endtime\"])\n",
    "df_time[\"during_time\"] = (df_time[\"aki_endtime\"] - df_time[\"first_aki_onset\"]).map(lambda x:x/np.timedelta64(24, 'h')).tolist()\n",
    "# df_time[\"dealt_aki_stage\"] = df_time[\"max_aki_stage\"] - df_time[\"first_aki_stage\"]\n",
    "# df_time.loc[df_time[\"dealt_aki_stage\"]==0, \"dealt_aki_stage\"] = 1\n",
    "# df_time[\"during_time\"] = round(df_time[\"during_time\"]/df_time[\"dealt_aki_stage\"],0)\n",
    "#df_time = df_time.dropna(how='any', subset=['during_time'])\n",
    "print(len(df_time.stay_id.unique()))\n",
    "\n",
    "import seaborn as sns\n",
    "fig, ax = plt.subplots(1,1, figsize=(3,2))\n",
    "ax=plt.gca()\n",
    "ax.spines['right'].set_visible(False)\n",
    "ax.spines['left'].set_visible(False)\n",
    "ax.spines['top'].set_visible(False) \n",
    "f1 = plt.boxplot([df_time[df_time[\"groupHPD\"]==1][\"during_time\"], df_time[df_time[\"groupHPD\"]==2][\"during_time\"], df_time[df_time[\"groupHPD\"]==3][\"during_time\"]],\n",
    "           whis=(10,90),showfliers=False,showmeans=True,vert=False,patch_artist=True,meanprops={'marker':'D','markerfacecolor':'black','markersize':3,'markeredgecolor':'black'},medianprops={'color':'black'}) \n",
    "color = [\"#74a8ff\",\"#3fc968\",\"#f8746a\"]\n",
    "for box,c in zip(f1['boxes'], color):\n",
    "    box.set(facecolor = c,edgecolor='black')\n",
    "plt.xlim(0,7)  \n",
    "plt.xlabel(\"First to end AKI_stages (day)\")\n",
    "plt.yticks([1,2,3],[\"C1\",\"C2\",\"C3\"]) \n",
    "\n",
    "from statannotations.Annotator import Annotator\n",
    "box_pairs = [(2,1),(3,1),(3,2)]\n",
    "fig_args = {'x': 'groupHPD',\n",
    "            'y': 'during_time',\n",
    "            'data': df_time,\n",
    "            'dodge': True}\n",
    "annotator = Annotator(ax=ax, pairs=box_pairs, **fig_args)\n",
    "\n",
    "fig_args_horiz = {**fig_args,'x': 'during_time', 'y': 'groupHPD'}\n",
    "configuration = {'test':'Mann-Whitney', 'comparisons_correction':None, 'text_format':'star', 'loc':'outside'}\n",
    "annotator.new_plot(ax, orient='h', **fig_args_horiz)\n",
    "annotator.configure(**configuration).apply_test()\n",
    "annotator.apply_and_annotate()\n",
    "plt.savefig('./result/mimic_time_interval_first2end_AKIstages_in7day.pdf', bbox_inches = 'tight')\n",
    "plt.show()"
   ]
  },
  {
   "cell_type": "code",
   "execution_count": null,
   "id": "d6fd5e38",
   "metadata": {
    "ExecuteTime": {
     "end_time": "2024-02-07T17:32:16.104392Z",
     "start_time": "2024-02-07T17:32:16.079788Z"
    }
   },
   "outputs": [
    {
     "name": "stderr",
     "output_type": "stream",
     "text": [
      "/home/hanl/miniconda3/envs/mytensor/lib/python3.9/site-packages/ipykernel/ipkernel.py:287: DeprecationWarning: `should_run_async` will not call `transform_cell` automatically in the future. Please pass the result to `transformed_cell` argument and any exception that happen during thetransform in `preprocessing_exc_tuple` in IPython 7.17 and above.\n",
      "  and should_run_async(code)\n"
     ]
    },
    {
     "data": {
      "text/html": [
       "<div>\n",
       "<style scoped>\n",
       "    .dataframe tbody tr th:only-of-type {\n",
       "        vertical-align: middle;\n",
       "    }\n",
       "\n",
       "    .dataframe tbody tr th {\n",
       "        vertical-align: top;\n",
       "    }\n",
       "\n",
       "    .dataframe thead th {\n",
       "        text-align: right;\n",
       "    }\n",
       "</style>\n",
       "<table border=\"1\" class=\"dataframe\">\n",
       "  <thead>\n",
       "    <tr style=\"text-align: right;\">\n",
       "      <th></th>\n",
       "      <th>class</th>\n",
       "      <th>Mean</th>\n",
       "      <th>q10</th>\n",
       "      <th>q25</th>\n",
       "      <th>q50</th>\n",
       "      <th>q75</th>\n",
       "      <th>q90</th>\n",
       "    </tr>\n",
       "  </thead>\n",
       "  <tbody>\n",
       "    <tr>\n",
       "      <th>0</th>\n",
       "      <td>C1</td>\n",
       "      <td>3.47</td>\n",
       "      <td>0.83</td>\n",
       "      <td>1.48</td>\n",
       "      <td>3.08</td>\n",
       "      <td>5.57</td>\n",
       "      <td>6.82</td>\n",
       "    </tr>\n",
       "    <tr>\n",
       "      <th>1</th>\n",
       "      <td>C2</td>\n",
       "      <td>2.43</td>\n",
       "      <td>0.46</td>\n",
       "      <td>0.88</td>\n",
       "      <td>1.62</td>\n",
       "      <td>3.50</td>\n",
       "      <td>6.15</td>\n",
       "    </tr>\n",
       "    <tr>\n",
       "      <th>2</th>\n",
       "      <td>C3</td>\n",
       "      <td>3.83</td>\n",
       "      <td>1.03</td>\n",
       "      <td>1.58</td>\n",
       "      <td>3.25</td>\n",
       "      <td>6.68</td>\n",
       "      <td>6.97</td>\n",
       "    </tr>\n",
       "  </tbody>\n",
       "</table>\n",
       "</div>"
      ],
      "text/plain": [
       "  class  Mean   q10   q25   q50   q75   q90\n",
       "0    C1  3.47  0.83  1.48  3.08  5.57  6.82\n",
       "1    C2  2.43  0.46  0.88  1.62  3.50  6.15\n",
       "2    C3  3.83  1.03  1.58  3.25  6.68  6.97"
      ]
     },
     "execution_count": 9,
     "metadata": {},
     "output_type": "execute_result"
    }
   ],
   "source": [
    "# Output the median, mean and quantiles of each data group\n",
    "data_groups = [df_time[df_time[\"groupHPD\"]==1][\"during_time\"],\n",
    "               df_time[df_time[\"groupHPD\"]==2][\"during_time\"],\n",
    "               df_time[df_time[\"groupHPD\"]==3][\"during_time\"]]\n",
    "\n",
    "df_out = pd.DataFrame(columns = [\"class\",\"Mean\",\"q10\",\"q25\",\"q50\",\"q75\",\"q90\"])\n",
    "\n",
    "for i, group_data in enumerate(data_groups):\n",
    "    i = \"C\" + str(int(i)+1) \n",
    "    mean = round(np.mean(group_data),2)\n",
    "    q10 = round(np.percentile(group_data, 10),2)\n",
    "    q25 = round(np.percentile(group_data, 25),2)\n",
    "    q50 = round(np.percentile(group_data, 50),2)\n",
    "    q75 = round(np.percentile(group_data, 75),2)\n",
    "    q90 = round(np.percentile(group_data, 90),2)\n",
    "    df_out.loc[len(df_out)] = [i,mean,q10,q25,q50,q75,q90]\n",
    "df_out"
   ]
  },
  {
   "cell_type": "code",
   "execution_count": null,
   "id": "efb4ac25",
   "metadata": {
    "ExecuteTime": {
     "end_time": "2024-02-07T17:32:16.133670Z",
     "start_time": "2024-02-07T17:32:16.105349Z"
    },
    "run_control": {
     "marked": false
    }
   },
   "outputs": [
    {
     "name": "stderr",
     "output_type": "stream",
     "text": [
      "/home/hanl/miniconda3/envs/mytensor/lib/python3.9/site-packages/ipykernel/ipkernel.py:287: DeprecationWarning: `should_run_async` will not call `transform_cell` automatically in the future. Please pass the result to `transformed_cell` argument and any exception that happen during thetransform in `preprocessing_exc_tuple` in IPython 7.17 and above.\n",
      "  and should_run_async(code)\n"
     ]
    },
    {
     "data": {
      "text/html": [
       "<div>\n",
       "<style scoped>\n",
       "    .dataframe tbody tr th:only-of-type {\n",
       "        vertical-align: middle;\n",
       "    }\n",
       "\n",
       "    .dataframe tbody tr th {\n",
       "        vertical-align: top;\n",
       "    }\n",
       "\n",
       "    .dataframe thead th {\n",
       "        text-align: right;\n",
       "    }\n",
       "</style>\n",
       "<table border=\"1\" class=\"dataframe\">\n",
       "  <thead>\n",
       "    <tr style=\"text-align: right;\">\n",
       "      <th></th>\n",
       "      <th>class</th>\n",
       "      <th>Mean</th>\n",
       "      <th>q10</th>\n",
       "      <th>q25</th>\n",
       "      <th>q50</th>\n",
       "      <th>q75</th>\n",
       "      <th>q90</th>\n",
       "    </tr>\n",
       "  </thead>\n",
       "  <tbody>\n",
       "    <tr>\n",
       "      <th>0</th>\n",
       "      <td>C0</td>\n",
       "      <td>0.1</td>\n",
       "      <td>0.0</td>\n",
       "      <td>0.0</td>\n",
       "      <td>0.1</td>\n",
       "      <td>0.2</td>\n",
       "      <td>0.3</td>\n",
       "    </tr>\n",
       "    <tr>\n",
       "      <th>1</th>\n",
       "      <td>C1</td>\n",
       "      <td>0.1</td>\n",
       "      <td>0.0</td>\n",
       "      <td>0.1</td>\n",
       "      <td>0.1</td>\n",
       "      <td>0.2</td>\n",
       "      <td>0.3</td>\n",
       "    </tr>\n",
       "    <tr>\n",
       "      <th>2</th>\n",
       "      <td>C2</td>\n",
       "      <td>0.1</td>\n",
       "      <td>0.0</td>\n",
       "      <td>0.0</td>\n",
       "      <td>0.1</td>\n",
       "      <td>0.1</td>\n",
       "      <td>0.3</td>\n",
       "    </tr>\n",
       "    <tr>\n",
       "      <th>3</th>\n",
       "      <td>C3</td>\n",
       "      <td>0.2</td>\n",
       "      <td>0.0</td>\n",
       "      <td>0.1</td>\n",
       "      <td>0.1</td>\n",
       "      <td>0.3</td>\n",
       "      <td>0.3</td>\n",
       "    </tr>\n",
       "  </tbody>\n",
       "</table>\n",
       "</div>"
      ],
      "text/plain": [
       "  class  Mean  q10  q25  q50  q75  q90\n",
       "0    C0   0.1  0.0  0.0  0.1  0.2  0.3\n",
       "1    C1   0.1  0.0  0.1  0.1  0.2  0.3\n",
       "2    C2   0.1  0.0  0.0  0.1  0.1  0.3\n",
       "3    C3   0.2  0.0  0.1  0.1  0.3  0.3"
      ]
     },
     "execution_count": 10,
     "metadata": {},
     "output_type": "execute_result"
    }
   ],
   "source": [
    "# Output the median, mean and quantiles of each data group\n",
    "data_groups = [df_time[\"during_time\"],\n",
    "               df_time[df_time[\"groupHPD\"]==1][\"during_time\"],\n",
    "               df_time[df_time[\"groupHPD\"]==2][\"during_time\"],\n",
    "               df_time[df_time[\"groupHPD\"]==3][\"during_time\"]]\n",
    "\n",
    "df_out = pd.DataFrame(columns = [\"class\",\"Mean\",\"q10\",\"q25\",\"q50\",\"q75\",\"q90\"])\n",
    "for i, group_data in enumerate(data_groups):\n",
    "    i = \"C\" + str(int(i)) \n",
    "    mean = round(np.mean(group_data)/24,1)\n",
    "    q10 = round(np.percentile(group_data, 10)/24,1)\n",
    "    q25 = round(np.percentile(group_data, 25)/24,1)\n",
    "    q50 = round(np.percentile(group_data, 50)/24,1)\n",
    "    q75 = round(np.percentile(group_data, 75)/24,1)\n",
    "    q90 = round(np.percentile(group_data, 90)/24,1)\n",
    "    df_out.loc[len(df_out)] = [i,mean,q10,q25,q50,q75,q90]\n",
    "df_out\n",
    "# C0 refer to all patients"
   ]
  },
  {
   "cell_type": "code",
   "execution_count": 11,
   "id": "9c0b48bd",
   "metadata": {
    "ExecuteTime": {
     "end_time": "2024-02-07T17:32:16.139166Z",
     "start_time": "2024-02-07T17:32:16.134590Z"
    }
   },
   "outputs": [
    {
     "name": "stdout",
     "output_type": "stream",
     "text": [
      "all:0.1[0.0,0.2]\n",
      "C1:0.1[0.1,0.2]\n",
      "C2:0.1[0.0,0.1]\n",
      "C3:0.1[0.1,0.3]\n"
     ]
    },
    {
     "name": "stderr",
     "output_type": "stream",
     "text": [
      "/home/hanl/miniconda3/envs/mytensor/lib/python3.9/site-packages/ipykernel/ipkernel.py:287: DeprecationWarning: `should_run_async` will not call `transform_cell` automatically in the future. Please pass the result to `transformed_cell` argument and any exception that happen during thetransform in `preprocessing_exc_tuple` in IPython 7.17 and above.\n",
      "  and should_run_async(code)\n"
     ]
    }
   ],
   "source": [
    "print(\"all:\"+str(df_out.iloc[0,4])+\"[\"+str(df_out.iloc[0,3])+\",\" +str(df_out.iloc[0,5]) +\"]\")\n",
    "print(\"C1:\"+str(df_out.iloc[1,4])+\"[\"+str(df_out.iloc[1,3])+\",\" +str(df_out.iloc[1,5]) +\"]\")\n",
    "print(\"C2:\"+str(df_out.iloc[2,4])+\"[\"+str(df_out.iloc[2,3])+\",\" +str(df_out.iloc[2,5]) +\"]\")\n",
    "print(\"C3:\"+str(df_out.iloc[3,4])+\"[\"+str(df_out.iloc[3,3])+\",\" +str(df_out.iloc[3,5]) +\"]\")"
   ]
  },
  {
   "cell_type": "code",
   "execution_count": 12,
   "id": "3e8a1815",
   "metadata": {
    "ExecuteTime": {
     "end_time": "2024-02-07T17:32:16.143196Z",
     "start_time": "2024-02-07T17:32:16.140106Z"
    }
   },
   "outputs": [
    {
     "name": "stdout",
     "output_type": "stream",
     "text": [
      "F-statistic: 124.93971260503822\n",
      "P-value: 2.8476045647223716e-53\n"
     ]
    },
    {
     "name": "stderr",
     "output_type": "stream",
     "text": [
      "/home/hanl/miniconda3/envs/mytensor/lib/python3.9/site-packages/ipykernel/ipkernel.py:287: DeprecationWarning: `should_run_async` will not call `transform_cell` automatically in the future. Please pass the result to `transformed_cell` argument and any exception that happen during thetransform in `preprocessing_exc_tuple` in IPython 7.17 and above.\n",
      "  and should_run_async(code)\n"
     ]
    }
   ],
   "source": [
    "import scipy.stats as stats\n",
    "f_statistic, p_value = stats.f_oneway(data_groups[1],data_groups[2],data_groups[3])\n",
    "print(\"F-statistic:\", f_statistic)\n",
    "print(\"P-value:\", p_value)"
   ]
  },
  {
   "cell_type": "code",
   "execution_count": null,
   "id": "87fd0d77",
   "metadata": {
    "ExecuteTime": {
     "end_time": "2024-02-07T17:32:16.149463Z",
     "start_time": "2024-02-07T17:32:16.144060Z"
    }
   },
   "outputs": [],
   "source": [
    "from scipy.stats import ranksums\n",
    "for v in [[1,2],[1,3],[2,3]]:\n",
    "    i = v[0]\n",
    "    j = v[1]\n",
    "    print(i,j)\n",
    "    data1 = data_groups[i]\n",
    "    data2 = data_groups[j]\n",
    "    differences = [x - y for x, y in zip(data1, data2)]\n",
    "    statistic, p_value = ranksums(data1, data2)\n",
    "    print(\"Rank sum test statistic:\", statistic)\n",
    "    print(\"p value:\", p_value)"
   ]
  },
  {
   "cell_type": "markdown",
   "id": "fa95dd95",
   "metadata": {},
   "source": [
    "## first AKI to AKI endtime (no 7-day limit)"
   ]
  },
  {
   "cell_type": "code",
   "execution_count": null,
   "id": "ca120107",
   "metadata": {
    "ExecuteTime": {
     "end_time": "2024-02-07T17:32:48.247243Z",
     "start_time": "2024-02-07T17:32:47.865749Z"
    }
   },
   "outputs": [],
   "source": [
    "df_time = pd.read_csv(\"/public/hanl/jupyter_dir/kidney_sepsis_penotype_v3/00.data_mimic/disease_definition/AKI/sk_first_and_max_stage.csv\")\n",
    "df_time = pd.merge(df_time,df_type_filt,how=\"inner\",on=\"stay_id\")\n",
    "print(\"Patients with two-thirds of AKI at the initial diagnosis stage:\",df_time[df_time[\"first_aki_stage\"].isin([2,3])].shape[0])\n",
    "df_time = df_time[~df_time[\"first_aki_stage\"].isin([2,3])]\n",
    "\n",
    "df_time[\"first_aki_onset\"] = pd.to_datetime(df_time[\"first_aki_onset\"])\n",
    "df_time[\"aki_endtime_H7D\"] = pd.to_datetime(df_time[\"aki_endtime_H7D\"])\n",
    "df_time[\"during_time\"] = (df_time[\"aki_endtime_H7D\"] - df_time[\"first_aki_onset\"]).map(lambda x:x/np.timedelta64(1, 'h')).tolist()\n",
    "# df_time[\"dealt_aki_stage\"] = df_time[\"max_aki_stage\"] - df_time[\"first_aki_stage\"]\n",
    "# df_time.loc[df_time[\"dealt_aki_stage\"]==0, \"dealt_aki_stage\"] = 1\n",
    "# df_time[\"during_time\"] = round(df_time[\"during_time\"]/df_time[\"dealt_aki_stage\"],0)\n",
    "#df_time = df_time.dropna(how='any', subset=['during_time'])\n",
    "print(len(df_time.stay_id.unique()))\n",
    "\n",
    "import seaborn as sns\n",
    "fig, ax = plt.subplots(1,1, figsize=(3,2))\n",
    "ax=plt.gca()\n",
    "ax.spines['right'].set_visible(False)\n",
    "ax.spines['left'].set_visible(False)\n",
    "ax.spines['top'].set_visible(False) \n",
    "f1 = plt.boxplot([df_time[df_time[\"groupHPD\"]==1][\"during_time\"], df_time[df_time[\"groupHPD\"]==2][\"during_time\"], df_time[df_time[\"groupHPD\"]==3][\"during_time\"]],\n",
    "           whis=(10,90),showfliers=False,showmeans=True,vert=False,patch_artist=True,meanprops={'marker':'D','markerfacecolor':'black','markersize':3,'markeredgecolor':'black'},medianprops={'color':'black'}) \n",
    "color = [\"#74a8ff\",\"#3fc968\",\"#f8746a\"]\n",
    "for box,c in zip(f1['boxes'], color):\n",
    "    box.set(facecolor = c,edgecolor='black')\n",
    "    \n",
    "plt.xlabel(\"First to end AKI_stages (Hours)\")\n",
    "plt.yticks([1,2,3],[\"C1\",\"C2\",\"C3\"]) \n",
    "\n",
    "from statannotations.Annotator import Annotator\n",
    "box_pairs = [(2,1),(3,1),(3,2)]\n",
    "fig_args = {'x': 'groupHPD',\n",
    "            'y': 'during_time',\n",
    "            'data': df_time,\n",
    "            'dodge': True}\n",
    "annotator = Annotator(ax=ax, pairs=box_pairs, **fig_args)\n",
    "\n",
    "fig_args_horiz = {**fig_args,'x': 'during_time', 'y': 'groupHPD'}\n",
    "configuration = {'test':'Mann-Whitney', 'comparisons_correction':None, 'text_format':'star', 'loc':'outside'}\n",
    "annotator.new_plot(ax, orient='h', **fig_args_horiz)\n",
    "annotator.configure(**configuration).apply_test()\n",
    "annotator.apply_and_annotate()\n",
    "plt.savefig('./result/mimic_time_interval_first2end_AKIstages_no7day.pdf', bbox_inches = 'tight')\n",
    "plt.show()"
   ]
  },
  {
   "cell_type": "code",
   "execution_count": null,
   "id": "281ecf7c",
   "metadata": {
    "ExecuteTime": {
     "end_time": "2024-02-07T17:32:50.925090Z",
     "start_time": "2024-02-07T17:32:50.898685Z"
    }
   },
   "outputs": [
    {
     "name": "stderr",
     "output_type": "stream",
     "text": [
      "/home/hanl/miniconda3/envs/mytensor/lib/python3.9/site-packages/ipykernel/ipkernel.py:287: DeprecationWarning: `should_run_async` will not call `transform_cell` automatically in the future. Please pass the result to `transformed_cell` argument and any exception that happen during thetransform in `preprocessing_exc_tuple` in IPython 7.17 and above.\n",
      "  and should_run_async(code)\n"
     ]
    },
    {
     "data": {
      "text/html": [
       "<div>\n",
       "<style scoped>\n",
       "    .dataframe tbody tr th:only-of-type {\n",
       "        vertical-align: middle;\n",
       "    }\n",
       "\n",
       "    .dataframe tbody tr th {\n",
       "        vertical-align: top;\n",
       "    }\n",
       "\n",
       "    .dataframe thead th {\n",
       "        text-align: right;\n",
       "    }\n",
       "</style>\n",
       "<table border=\"1\" class=\"dataframe\">\n",
       "  <thead>\n",
       "    <tr style=\"text-align: right;\">\n",
       "      <th></th>\n",
       "      <th>class</th>\n",
       "      <th>Mean</th>\n",
       "      <th>q10</th>\n",
       "      <th>q25</th>\n",
       "      <th>q50</th>\n",
       "      <th>q75</th>\n",
       "      <th>q90</th>\n",
       "    </tr>\n",
       "  </thead>\n",
       "  <tbody>\n",
       "    <tr>\n",
       "      <th>0</th>\n",
       "      <td>C1</td>\n",
       "      <td>132.59</td>\n",
       "      <td>21.35</td>\n",
       "      <td>37.10</td>\n",
       "      <td>79.7</td>\n",
       "      <td>159.72</td>\n",
       "      <td>317.40</td>\n",
       "    </tr>\n",
       "    <tr>\n",
       "      <th>1</th>\n",
       "      <td>C2</td>\n",
       "      <td>91.31</td>\n",
       "      <td>12.00</td>\n",
       "      <td>22.00</td>\n",
       "      <td>42.0</td>\n",
       "      <td>101.00</td>\n",
       "      <td>235.09</td>\n",
       "    </tr>\n",
       "    <tr>\n",
       "      <th>2</th>\n",
       "      <td>C3</td>\n",
       "      <td>150.21</td>\n",
       "      <td>24.81</td>\n",
       "      <td>37.85</td>\n",
       "      <td>78.0</td>\n",
       "      <td>192.38</td>\n",
       "      <td>332.00</td>\n",
       "    </tr>\n",
       "  </tbody>\n",
       "</table>\n",
       "</div>"
      ],
      "text/plain": [
       "  class    Mean    q10    q25   q50     q75     q90\n",
       "0    C1  132.59  21.35  37.10  79.7  159.72  317.40\n",
       "1    C2   91.31  12.00  22.00  42.0  101.00  235.09\n",
       "2    C3  150.21  24.81  37.85  78.0  192.38  332.00"
      ]
     },
     "execution_count": 16,
     "metadata": {},
     "output_type": "execute_result"
    }
   ],
   "source": [
    "# Output the median, mean and quantiles of each data group\n",
    "data_groups = [df_time[df_time[\"groupHPD\"]==1][\"during_time\"],\n",
    "               df_time[df_time[\"groupHPD\"]==2][\"during_time\"],\n",
    "               df_time[df_time[\"groupHPD\"]==3][\"during_time\"]]\n",
    "\n",
    "df_out = pd.DataFrame(columns = [\"class\",\"Mean\",\"q10\",\"q25\",\"q50\",\"q75\",\"q90\"])\n",
    "for i, group_data in enumerate(data_groups):\n",
    "    i = \"C\" + str(int(i)+1) \n",
    "    mean = round(np.mean(group_data),2)\n",
    "    q10 = round(np.percentile(group_data, 10),2)\n",
    "    q25 = round(np.percentile(group_data, 25),2)\n",
    "    q50 = round(np.percentile(group_data, 50),2)\n",
    "    q75 = round(np.percentile(group_data, 75),2)\n",
    "    q90 = round(np.percentile(group_data, 90),2)\n",
    "    df_out.loc[len(df_out)] = [i,mean,q10,q25,q50,q75,q90]\n",
    "df_out"
   ]
  },
  {
   "cell_type": "markdown",
   "id": "a036d10c",
   "metadata": {},
   "source": [
    "## first AKI to outICU"
   ]
  },
  {
   "cell_type": "code",
   "execution_count": null,
   "id": "6e5fad0a",
   "metadata": {
    "ExecuteTime": {
     "end_time": "2024-02-07T17:32:16.500755Z",
     "start_time": "2024-02-07T17:23:33.858Z"
    }
   },
   "outputs": [],
   "source": [
    "df_icu = pd.read_csv(\"/public/hanl/jupyter_dir/kidney_sepsis_penotype_v3/00.data_mimic/disease_definition/AKI/sk_event_time.csv\")\n",
    "df_icu = df_icu[[\"stay_id\",\"saki_onset\",\"outtime\"]]\n",
    "df_icu = pd.merge(df_icu,df_type_filt,how=\"inner\",on=\"stay_id\")\n",
    "df_icu[\"saki_onset\"] = pd.to_datetime(df_icu[\"saki_onset\"])\n",
    "df_icu[\"outtime\"] = pd.to_datetime(df_icu[\"outtime\"])\n",
    "print(len(df_icu.stay_id.unique()))\n",
    "\n",
    "df_icu[\"during_time\"] = (df_icu[\"outtime\"] - df_icu[\"saki_onset\"]).map(lambda x:x/np.timedelta64(1, 'h')).tolist()\n",
    "\n",
    "import seaborn as sns\n",
    "fig, ax = plt.subplots(1,1, figsize=(3,2))\n",
    "ax=plt.gca()\n",
    "ax.spines['right'].set_visible(False)\n",
    "ax.spines['left'].set_visible(False)\n",
    "ax.spines['top'].set_visible(False) \n",
    "f1 = plt.boxplot([df_icu[df_icu[\"groupHPD\"]==1][\"during_time\"], df_icu[df_icu[\"groupHPD\"]==2][\"during_time\"], df_icu[df_icu[\"groupHPD\"]==3][\"during_time\"]],\n",
    "           whis=(10,90),showfliers=False,showmeans=True,vert=False,patch_artist=True,meanprops={'marker':'D','markerfacecolor':'black','markersize':3,'markeredgecolor':'black'},medianprops={'color':'black'}) \n",
    "color = [\"#74a8ff\",\"#3fc968\",\"#f8746a\"]\n",
    "for box,c in zip(f1['boxes'], color):\n",
    "    box.set(facecolor = c,edgecolor='black')\n",
    "    \n",
    "plt.xlabel(\"First diagnose to out ICU (Hours)\")\n",
    "plt.yticks([1,2,3],[\"C1\",\"C2\",\"C3\"]) \n",
    "\n",
    "from statannotations.Annotator import Annotator\n",
    "box_pairs = [(2,1),(3,1),(3,2)]\n",
    "fig_args = {'x': 'groupHPD',\n",
    "            'y': 'during_time',\n",
    "            'data': df_time,\n",
    "            'dodge': True}\n",
    "annotator = Annotator(ax=ax, pairs=box_pairs, **fig_args)\n",
    "\n",
    "fig_args_horiz = {**fig_args,'x': 'during_time', 'y': 'groupHPD'}\n",
    "configuration = {'test':'Mann-Whitney', 'comparisons_correction':None, 'text_format':'star', 'loc':'outside'}\n",
    "annotator.new_plot(ax, orient='h', **fig_args_horiz)\n",
    "annotator.configure(**configuration).apply_test()\n",
    "annotator.apply_and_annotate()\n",
    "plt.savefig('./result/mimic_time_interval_first2out_AKI.pdf', bbox_inches = 'tight')\n",
    "plt.show()"
   ]
  },
  {
   "cell_type": "code",
   "execution_count": null,
   "id": "e68335a2",
   "metadata": {
    "ExecuteTime": {
     "end_time": "2024-02-07T17:32:16.501450Z",
     "start_time": "2024-02-07T17:23:33.858Z"
    }
   },
   "outputs": [],
   "source": [
    "# Output the median, mean and quantiles of each data group\n",
    "data_groups = [\n",
    "    df_icu[df_icu[\"groupHPD\"]==1][\"during_time\"], \n",
    "    df_icu[df_icu[\"groupHPD\"]==2][\"during_time\"], \n",
    "    df_icu[df_icu[\"groupHPD\"]==3][\"during_time\"]\n",
    "]\n",
    "\n",
    "df_out = pd.DataFrame(columns = [\"class\",\"Mean\",\"q10\",\"q25\",\"q50\",\"q75\",\"q90\"])\n",
    "for i, group_data in enumerate(data_groups):\n",
    "    i = \"C\" + str(int(i)+1) \n",
    "    mean = round(np.mean(group_data),2)\n",
    "    q10 = round(np.percentile(group_data, 10),2)\n",
    "    q25 = round(np.percentile(group_data, 25),2)\n",
    "    q50 = round(np.percentile(group_data, 50),2)\n",
    "    q75 = round(np.percentile(group_data, 75),2)\n",
    "    q90 = round(np.percentile(group_data, 90),2)\n",
    "    df_out.loc[len(df_out)] = [i,mean,q10,q25,q50,q75,q90]\n",
    "df_out"
   ]
  }
 ],
 "metadata": {
  "kernelspec": {
   "display_name": "Python [conda env:mytensor]",
   "language": "python",
   "name": "conda-env-mytensor-py"
  },
  "language_info": {
   "codemirror_mode": {
    "name": "ipython",
    "version": 3
   },
   "file_extension": ".py",
   "mimetype": "text/x-python",
   "name": "python",
   "nbconvert_exporter": "python",
   "pygments_lexer": "ipython3",
   "version": "3.9.12"
  },
  "toc": {
   "base_numbering": 1,
   "nav_menu": {},
   "number_sections": true,
   "sideBar": true,
   "skip_h1_title": false,
   "title_cell": "Table of Contents",
   "title_sidebar": "Contents",
   "toc_cell": false,
   "toc_position": {
    "height": "calc(100% - 180px)",
    "left": "10px",
    "top": "150px",
    "width": "198.993px"
   },
   "toc_section_display": true,
   "toc_window_display": true
  },
  "varInspector": {
   "cols": {
    "lenName": 16,
    "lenType": 16,
    "lenVar": 40
   },
   "kernels_config": {
    "python": {
     "delete_cmd_postfix": "",
     "delete_cmd_prefix": "del ",
     "library": "var_list.py",
     "varRefreshCmd": "print(var_dic_list())"
    },
    "r": {
     "delete_cmd_postfix": ") ",
     "delete_cmd_prefix": "rm(",
     "library": "var_list.r",
     "varRefreshCmd": "cat(var_dic_list()) "
    }
   },
   "types_to_exclude": [
    "module",
    "function",
    "builtin_function_or_method",
    "instance",
    "_Feature"
   ],
   "window_display": false
  }
 },
 "nbformat": 4,
 "nbformat_minor": 5
}
