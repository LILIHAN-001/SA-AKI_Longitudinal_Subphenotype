{
 "cells": [
  {
   "cell_type": "markdown",
   "id": "ea7f2482",
   "metadata": {},
   "source": [
    "# def"
   ]
  },
  {
   "cell_type": "code",
   "execution_count": 1,
   "id": "8afe3825",
   "metadata": {
    "ExecuteTime": {
     "end_time": "2024-02-07T05:38:09.195120Z",
     "start_time": "2024-02-07T05:38:08.293664Z"
    }
   },
   "outputs": [],
   "source": [
    "import pandas as pd\n",
    "import time\n",
    "import numpy as np\n",
    "import matplotlib.pyplot as plt\n",
    "pd.options.display.max_rows = 300\n",
    "import math\n",
    "import datetime as dt\n",
    "from tableone import TableOne, load_dataset\n",
    "import itertools\n",
    "import random\n",
    "import scipy.stats as stats"
   ]
  },
  {
   "cell_type": "code",
   "execution_count": 2,
   "id": "f649a5a9",
   "metadata": {
    "ExecuteTime": {
     "end_time": "2024-02-07T05:38:09.635831Z",
     "start_time": "2024-02-07T05:38:09.196726Z"
    }
   },
   "outputs": [
    {
     "name": "stderr",
     "output_type": "stream",
     "text": [
      "/home/hanl/miniconda3/envs/mytensor/lib/python3.9/site-packages/ipykernel/ipkernel.py:287: DeprecationWarning: `should_run_async` will not call `transform_cell` automatically in the future. Please pass the result to `transformed_cell` argument and any exception that happen during thetransform in `preprocessing_exc_tuple` in IPython 7.17 and above.\n",
      "  and should_run_async(code)\n"
     ]
    },
    {
     "name": "stdout",
     "output_type": "stream",
     "text": [
      "纳入患者数量： 4713\n"
     ]
    },
    {
     "data": {
      "text/plain": [
       "2    3055\n",
       "1    1298\n",
       "3     360\n",
       "Name: groupHPD, dtype: int64"
      ]
     },
     "execution_count": 2,
     "metadata": {},
     "output_type": "execute_result"
    }
   ],
   "source": [
    "df_type = pd.read_csv(\"df_mixAK_fea4_C3.csv\")\n",
    "df_type_filt = df_type.loc[:,[\"stay_id\",\"groupHPD\"]]\n",
    "df_type_filt = df_type_filt.drop_duplicates()\n",
    "all_lst = df_type_filt.stay_id.unique().tolist()\n",
    "print(\"纳入患者数量：\",len(all_lst))\n",
    "\n",
    "df_type_filt[\"groupHPD\"].value_counts()"
   ]
  },
  {
   "cell_type": "markdown",
   "id": "a67e1cd4",
   "metadata": {},
   "source": [
    "# 定义恢复模式\n",
    "先判断一下每个时间的肾脏情况，再考虑时间来综合判断恢复模式\n",
    "\n",
    "肾脏情况判定：\n",
    "- 尿量不满足KDIGO AKI 定义时，判定为完全恢复C(complete recovery)\n",
    "- 肌酐不满足KDIGO AKI 定义时，判定为完全恢复C(complete recovery)\n",
    "- 否则都为尚未恢复P (partial)\n",
    "\n",
    "- 肌酐在基线肌酐的30%内时，判定为完全恢复\n",
    "\n",
    "恢复模式判定：\n",
    "- 快速恢复QR，3天内恢复(quick recovery ) \n",
    "- 缓慢恢复SR，7天内恢复（slow recovery） \n",
    "- 恶化W（worse） \n",
    "- 恢复指连续5个点 \"不满足AKI定义的数量\" 大于 \"满足AKI定义的数量\"\n"
   ]
  },
  {
   "cell_type": "markdown",
   "id": "d67d8521",
   "metadata": {},
   "source": [
    "# 肾脏情况判定"
   ]
  },
  {
   "cell_type": "markdown",
   "id": "96cb4e0f",
   "metadata": {},
   "source": [
    "## 获取数据-aki stage,aki_stage_uo，aki_stage_cre"
   ]
  },
  {
   "cell_type": "code",
   "execution_count": 3,
   "id": "863d2117",
   "metadata": {
    "ExecuteTime": {
     "end_time": "2024-02-07T05:38:09.758507Z",
     "start_time": "2024-02-07T05:38:09.637315Z"
    }
   },
   "outputs": [
    {
     "name": "stderr",
     "output_type": "stream",
     "text": [
      "/home/hanl/miniconda3/envs/mytensor/lib/python3.9/site-packages/ipykernel/ipkernel.py:287: DeprecationWarning: `should_run_async` will not call `transform_cell` automatically in the future. Please pass the result to `transformed_cell` argument and any exception that happen during thetransform in `preprocessing_exc_tuple` in IPython 7.17 and above.\n",
      "  and should_run_async(code)\n"
     ]
    },
    {
     "data": {
      "text/html": [
       "<div>\n",
       "<style scoped>\n",
       "    .dataframe tbody tr th:only-of-type {\n",
       "        vertical-align: middle;\n",
       "    }\n",
       "\n",
       "    .dataframe tbody tr th {\n",
       "        vertical-align: top;\n",
       "    }\n",
       "\n",
       "    .dataframe thead th {\n",
       "        text-align: right;\n",
       "    }\n",
       "</style>\n",
       "<table border=\"1\" class=\"dataframe\">\n",
       "  <thead>\n",
       "    <tr style=\"text-align: right;\">\n",
       "      <th></th>\n",
       "      <th>stay_id</th>\n",
       "      <th>first_aki_onset</th>\n",
       "      <th>aki_endtime</th>\n",
       "      <th>aki_endstage</th>\n",
       "      <th>los_saaki</th>\n",
       "    </tr>\n",
       "  </thead>\n",
       "  <tbody>\n",
       "    <tr>\n",
       "      <th>0</th>\n",
       "      <td>30003598</td>\n",
       "      <td>2189-04-15 03:04:00</td>\n",
       "      <td>2189-04-19 03:00:00</td>\n",
       "      <td>0</td>\n",
       "      <td>95.933333</td>\n",
       "    </tr>\n",
       "    <tr>\n",
       "      <th>1</th>\n",
       "      <td>30004144</td>\n",
       "      <td>2126-04-05 06:00:00</td>\n",
       "      <td>2126-04-08 08:00:00</td>\n",
       "      <td>0</td>\n",
       "      <td>74.000000</td>\n",
       "    </tr>\n",
       "  </tbody>\n",
       "</table>\n",
       "</div>"
      ],
      "text/plain": [
       "    stay_id     first_aki_onset         aki_endtime  aki_endstage  los_saaki\n",
       "0  30003598 2189-04-15 03:04:00 2189-04-19 03:00:00             0  95.933333\n",
       "1  30004144 2126-04-05 06:00:00 2126-04-08 08:00:00             0  74.000000"
      ]
     },
     "execution_count": 3,
     "metadata": {},
     "output_type": "execute_result"
    }
   ],
   "source": [
    "df_time = pd.read_csv(\"/public/hanl/jupyter_dir/kidney_sepsis_penotype_v3/00.data_mimic//disease_definition/AKI/sk_first_and_max_stage.csv\")\n",
    "df_time = df_time[[\"stay_id\",\"first_aki_onset\",\"aki_endtime\",\"aki_endstage\"]]\n",
    "df_time[\"first_aki_onset\"] = pd.to_datetime(df_time[\"first_aki_onset\"])\n",
    "df_time[\"aki_endtime\"] = pd.to_datetime(df_time[\"aki_endtime\"])\n",
    "df_time[\"los_saaki\"] = (df_time[\"aki_endtime\"] - df_time[\"first_aki_onset\"]).map(lambda x:x/np.timedelta64(1, 'h')).tolist()\n",
    "df_time.head(2)"
   ]
  },
  {
   "cell_type": "code",
   "execution_count": 4,
   "id": "783e9e1b",
   "metadata": {
    "ExecuteTime": {
     "end_time": "2024-02-07T05:38:10.269008Z",
     "start_time": "2024-02-07T05:38:09.759823Z"
    },
    "run_control": {
     "marked": true
    }
   },
   "outputs": [
    {
     "name": "stderr",
     "output_type": "stream",
     "text": [
      "/home/hanl/miniconda3/envs/mytensor/lib/python3.9/site-packages/ipykernel/ipkernel.py:287: DeprecationWarning: `should_run_async` will not call `transform_cell` automatically in the future. Please pass the result to `transformed_cell` argument and any exception that happen during thetransform in `preprocessing_exc_tuple` in IPython 7.17 and above.\n",
      "  and should_run_async(code)\n"
     ]
    },
    {
     "data": {
      "text/html": [
       "<div>\n",
       "<style scoped>\n",
       "    .dataframe tbody tr th:only-of-type {\n",
       "        vertical-align: middle;\n",
       "    }\n",
       "\n",
       "    .dataframe tbody tr th {\n",
       "        vertical-align: top;\n",
       "    }\n",
       "\n",
       "    .dataframe thead th {\n",
       "        text-align: right;\n",
       "    }\n",
       "</style>\n",
       "<table border=\"1\" class=\"dataframe\">\n",
       "  <thead>\n",
       "    <tr style=\"text-align: right;\">\n",
       "      <th></th>\n",
       "      <th>stay_id</th>\n",
       "      <th>time</th>\n",
       "      <th>aki_stage_uo</th>\n",
       "      <th>aki_stage_creat</th>\n",
       "      <th>aki_stage</th>\n",
       "    </tr>\n",
       "  </thead>\n",
       "  <tbody>\n",
       "    <tr>\n",
       "      <th>66</th>\n",
       "      <td>30003598</td>\n",
       "      <td>0</td>\n",
       "      <td>2.0</td>\n",
       "      <td>0.0</td>\n",
       "      <td>2.0</td>\n",
       "    </tr>\n",
       "    <tr>\n",
       "      <th>67</th>\n",
       "      <td>30003598</td>\n",
       "      <td>1</td>\n",
       "      <td>3.0</td>\n",
       "      <td>0.0</td>\n",
       "      <td>3.0</td>\n",
       "    </tr>\n",
       "    <tr>\n",
       "      <th>68</th>\n",
       "      <td>30003598</td>\n",
       "      <td>2</td>\n",
       "      <td>3.0</td>\n",
       "      <td>1.0</td>\n",
       "      <td>3.0</td>\n",
       "    </tr>\n",
       "  </tbody>\n",
       "</table>\n",
       "</div>"
      ],
      "text/plain": [
       "     stay_id  time  aki_stage_uo  aki_stage_creat  aki_stage\n",
       "66  30003598     0           2.0              0.0        2.0\n",
       "67  30003598     1           3.0              0.0        3.0\n",
       "68  30003598     2           3.0              1.0        3.0"
      ]
     },
     "execution_count": 4,
     "metadata": {},
     "output_type": "execute_result"
    }
   ],
   "source": [
    "## 获取每个时间点 由尿量或肌酐定义的最大stages\n",
    "df_stage = pd.read_csv(\"/public/hanl/jupyter_dir/kidney_sepsis_penotype_v3/00.data_mimic//disease_definition/AKI/kdigo_stages_based_time.csv\")\n",
    "df_stage = df_stage[df_stage['time']>=0]\n",
    "df_stage = df_stage[df_stage[\"stay_id\"].isin(all_lst)]\n",
    "df_stage.head(3)"
   ]
  },
  {
   "cell_type": "code",
   "execution_count": 5,
   "id": "d882506b",
   "metadata": {
    "ExecuteTime": {
     "end_time": "2024-02-07T05:38:36.626846Z",
     "start_time": "2024-02-07T05:38:10.270922Z"
    }
   },
   "outputs": [
    {
     "name": "stderr",
     "output_type": "stream",
     "text": [
      "/home/hanl/miniconda3/envs/mytensor/lib/python3.9/site-packages/ipykernel/ipkernel.py:287: DeprecationWarning: `should_run_async` will not call `transform_cell` automatically in the future. Please pass the result to `transformed_cell` argument and any exception that happen during thetransform in `preprocessing_exc_tuple` in IPython 7.17 and above.\n",
      "  and should_run_async(code)\n"
     ]
    },
    {
     "name": "stdout",
     "output_type": "stream",
     "text": [
      "aki_stage_creat\n",
      "aki_stage_uo\n",
      "aki_stage\n"
     ]
    },
    {
     "data": {
      "text/html": [
       "<div>\n",
       "<style scoped>\n",
       "    .dataframe tbody tr th:only-of-type {\n",
       "        vertical-align: middle;\n",
       "    }\n",
       "\n",
       "    .dataframe tbody tr th {\n",
       "        vertical-align: top;\n",
       "    }\n",
       "\n",
       "    .dataframe thead th {\n",
       "        text-align: right;\n",
       "    }\n",
       "</style>\n",
       "<table border=\"1\" class=\"dataframe\">\n",
       "  <thead>\n",
       "    <tr style=\"text-align: right;\">\n",
       "      <th></th>\n",
       "      <th>stay_id</th>\n",
       "      <th>time</th>\n",
       "      <th>aki_stage_uo</th>\n",
       "      <th>aki_stage_creat</th>\n",
       "      <th>aki_stage</th>\n",
       "      <th>state_crea_start</th>\n",
       "      <th>state_crea_max</th>\n",
       "      <th>state_crea_end</th>\n",
       "      <th>state_uo_start</th>\n",
       "      <th>state_uo_max</th>\n",
       "      <th>state_uo_end</th>\n",
       "      <th>state_start</th>\n",
       "      <th>state_max</th>\n",
       "      <th>state_end</th>\n",
       "    </tr>\n",
       "  </thead>\n",
       "  <tbody>\n",
       "    <tr>\n",
       "      <th>0</th>\n",
       "      <td>30003598</td>\n",
       "      <td>0</td>\n",
       "      <td>2.0</td>\n",
       "      <td>0.0</td>\n",
       "      <td>2.0</td>\n",
       "      <td>0.0</td>\n",
       "      <td>1.0</td>\n",
       "      <td>1.0</td>\n",
       "      <td>2.0</td>\n",
       "      <td>3.0</td>\n",
       "      <td>0.0</td>\n",
       "      <td>2.0</td>\n",
       "      <td>3.0</td>\n",
       "      <td>0</td>\n",
       "    </tr>\n",
       "    <tr>\n",
       "      <th>1</th>\n",
       "      <td>30003598</td>\n",
       "      <td>1</td>\n",
       "      <td>3.0</td>\n",
       "      <td>0.0</td>\n",
       "      <td>3.0</td>\n",
       "      <td>0.0</td>\n",
       "      <td>1.0</td>\n",
       "      <td>1.0</td>\n",
       "      <td>2.0</td>\n",
       "      <td>3.0</td>\n",
       "      <td>0.0</td>\n",
       "      <td>2.0</td>\n",
       "      <td>3.0</td>\n",
       "      <td>0</td>\n",
       "    </tr>\n",
       "  </tbody>\n",
       "</table>\n",
       "</div>"
      ],
      "text/plain": [
       "    stay_id  time  aki_stage_uo  aki_stage_creat  aki_stage  state_crea_start  \\\n",
       "0  30003598     0           2.0              0.0        2.0               0.0   \n",
       "1  30003598     1           3.0              0.0        3.0               0.0   \n",
       "\n",
       "   state_crea_max  state_crea_end  state_uo_start  state_uo_max  state_uo_end  \\\n",
       "0             1.0             1.0             2.0           3.0           0.0   \n",
       "1             1.0             1.0             2.0           3.0           0.0   \n",
       "\n",
       "   state_start  state_max  state_end  \n",
       "0          2.0        3.0          0  \n",
       "1          2.0        3.0          0  "
      ]
     },
     "execution_count": 5,
     "metadata": {},
     "output_type": "execute_result"
    }
   ],
   "source": [
    "## 获取变化过程\n",
    "ss = \"aki_stage_creat\"  \n",
    "print(ss)\n",
    "tmp_df = pd.DataFrame(columns=[\"stay_id\", \"state_crea_start\", \"state_crea_max\", \"state_crea_end\"])\n",
    "for i,j in df_stage.groupby([\"stay_id\"]):\n",
    "    sstart = j[j[\"time\"]==0][ss].tolist()[0]\n",
    "    smax = sorted(j[ss].tolist()[1:-1])[-1]\n",
    "    send = j[ss].tolist()[-1] \n",
    "    tmp_df.loc[len(tmp_df)] = [i, sstart, smax, send]\n",
    "df = pd.merge(df_stage, tmp_df, how=\"inner\",on=\"stay_id\")\n",
    "\n",
    "ss = \"aki_stage_uo\"  \n",
    "print(ss)\n",
    "tmp_df = pd.DataFrame(columns=[\"stay_id\", \"state_uo_start\", \"state_uo_max\", \"state_uo_end\"])\n",
    "for i,j in df_stage.groupby([\"stay_id\"]):\n",
    "    sstart = j[j[\"time\"]==0][ss].tolist()[0]\n",
    "    smax = sorted(j[ss].tolist()[1:-1])[-1]\n",
    "    send = j[ss].tolist()[-1] \n",
    "    tmp_df.loc[len(tmp_df)] = [i, sstart, smax, send]\n",
    "df = pd.merge(df, tmp_df, how=\"inner\",on=\"stay_id\")\n",
    "\n",
    "ss = \"aki_stage\" \n",
    "print(ss)\n",
    "tmp_df = pd.DataFrame(columns=[\"stay_id\", \"state_start\", \"state_max\", \"state_end\"])\n",
    "for i,j in df_stage.groupby([\"stay_id\"]):\n",
    "    sstart = j[j[\"time\"]==0][ss].tolist()[0]\n",
    "    smax = sorted(j[ss].tolist()[1:-1])[-1]\n",
    "    send = j[ss].tolist()[-1] \n",
    "    tmp_df.loc[len(tmp_df)] = [i, sstart, smax, send]\n",
    "df = pd.merge(df, tmp_df, how=\"inner\",on=\"stay_id\")\n",
    "\n",
    "#替换AKI病程最终状态\n",
    "df = df.drop([\"state_end\"],axis=1)\n",
    "tmp_df = df_time[[\"stay_id\",\"aki_endstage\"]]\n",
    "tmp_df.columns = [\"stay_id\",\"state_end\"]\n",
    "df = pd.merge(df, tmp_df,how=\"left\",on=\"stay_id\")\n",
    "df.head(2)"
   ]
  },
  {
   "cell_type": "markdown",
   "id": "59164866",
   "metadata": {
    "run_control": {
     "marked": true
    }
   },
   "source": [
    "## 定义变化过程 by 变好/变坏/不变\n",
    "- 第一个点：time = 1 时的state\n",
    "- 第二个点：整个过程中stages最大的点\n",
    "- 第三个点：倒数5个点更多的一个状态"
   ]
  },
  {
   "cell_type": "code",
   "execution_count": 6,
   "id": "e4685e55",
   "metadata": {
    "ExecuteTime": {
     "end_time": "2024-02-07T05:38:36.703654Z",
     "start_time": "2024-02-07T05:38:36.628195Z"
    }
   },
   "outputs": [
    {
     "name": "stderr",
     "output_type": "stream",
     "text": [
      "/home/hanl/miniconda3/envs/mytensor/lib/python3.9/site-packages/ipykernel/ipkernel.py:287: DeprecationWarning: `should_run_async` will not call `transform_cell` automatically in the future. Please pass the result to `transformed_cell` argument and any exception that happen during thetransform in `preprocessing_exc_tuple` in IPython 7.17 and above.\n",
      "  and should_run_async(code)\n"
     ]
    }
   ],
   "source": [
    "df_cut = df[['stay_id','time','state_crea_start', 'state_crea_max', 'state_crea_end', 'state_uo_start',\n",
    "             'state_uo_max', 'state_uo_end','state_start','state_max', 'state_end']].drop_duplicates()\n",
    "\n",
    "#################\n",
    "t0 = \"state_crea_start\"\n",
    "tm = \"state_crea_max\"\n",
    "t1 = \"state_crea_end\"\n",
    "tc = \"state_crea_change\"\n",
    "# B\n",
    "df_cut.loc[ (df_cut[tm] >= df_cut[t0]) &  (df_cut[tm] >= df_cut[t1]) & (df_cut[t1]==0), tc] = \"CB\"\n",
    "df_cut.loc[ (df_cut[tm] >= df_cut[t0]) &  (df_cut[tm] >= df_cut[t1]) & (df_cut[t1]!=0), tc] = \"PB\"\n",
    "df_cut.loc[ (df_cut[tm] <= df_cut[t0]) &  (df_cut[t1] <= df_cut[tm]) & (df_cut[t1]!=0), tc] = \"PB\"\n",
    "df_cut.loc[ (df_cut[tm] <= df_cut[t0]) &  (df_cut[t1] <= df_cut[tm]) & (df_cut[t1]==0), tc] = \"CB\"\n",
    "\n",
    "# W\n",
    "df_cut.loc[ (df_cut[tm] >= df_cut[t0]) &  (df_cut[t1] >= df_cut[tm]),tc] = \"W\"\n",
    "# S\n",
    "df_cut.loc[ (df_cut[tm] == df_cut[t0]) &  (df_cut[t1] == df_cut[tm]),tc] = \"S\"\n",
    "\n",
    "#################\n",
    "t0 = \"state_uo_start\"\n",
    "tm = \"state_uo_max\"\n",
    "t1 = \"state_uo_end\"\n",
    "tc = \"state_uo_change\"\n",
    "# B\n",
    "df_cut.loc[ (df_cut[tm] >= df_cut[t0]) &  (df_cut[tm] >= df_cut[t1]) & (df_cut[t1]==0), tc] = \"CB\"\n",
    "df_cut.loc[ (df_cut[tm] >= df_cut[t0]) &  (df_cut[tm] >= df_cut[t1]) & (df_cut[t1]!=0), tc] = \"PB\"\n",
    "df_cut.loc[ (df_cut[tm] <= df_cut[t0]) &  (df_cut[t1] <= df_cut[tm]) & (df_cut[t1]!=0), tc] = \"PB\"\n",
    "df_cut.loc[ (df_cut[tm] <= df_cut[t0]) &  (df_cut[t1] <= df_cut[tm]) & (df_cut[t1]==0), tc] = \"CB\"\n",
    "\n",
    "# W\n",
    "df_cut.loc[ (df_cut[tm] >= df_cut[t0]) &  (df_cut[t1] >= df_cut[tm]),tc] = \"W\"\n",
    "# S\n",
    "df_cut.loc[ (df_cut[tm] == df_cut[t0]) &  (df_cut[t1] == df_cut[tm]),tc] = \"S\"\n",
    "\n",
    "#################\n",
    "t0 = \"state_start\"\n",
    "tm = \"state_max\"\n",
    "t1 = \"state_end\"\n",
    "tc = \"state_change\"\n",
    "# B\n",
    "df_cut.loc[ (df_cut[tm] >= df_cut[t0]) &  (df_cut[tm] >= df_cut[t1]) & (df_cut[t1]==0), tc] = \"CB\"\n",
    "df_cut.loc[ (df_cut[tm] >= df_cut[t0]) &  (df_cut[tm] >= df_cut[t1]) & (df_cut[t1]!=0), tc] = \"PB\"\n",
    "df_cut.loc[ (df_cut[tm] <= df_cut[t0]) &  (df_cut[t1] <= df_cut[tm]) & (df_cut[t1]!=0), tc] = \"PB\"\n",
    "df_cut.loc[ (df_cut[tm] <= df_cut[t0]) &  (df_cut[t1] <= df_cut[tm]) & (df_cut[t1]==0), tc] = \"CB\"\n",
    "\n",
    "# W\n",
    "df_cut.loc[ (df_cut[tm] >= df_cut[t0]) &  (df_cut[t1] >= df_cut[tm]),tc] = \"W\"\n",
    "# S\n",
    "df_cut.loc[ (df_cut[tm] == df_cut[t0]) &  (df_cut[t1] == df_cut[tm]),tc] = \"S\"\n"
   ]
  },
  {
   "cell_type": "code",
   "execution_count": 7,
   "id": "e7b0c135",
   "metadata": {
    "ExecuteTime": {
     "end_time": "2024-02-07T05:38:36.749407Z",
     "start_time": "2024-02-07T05:38:36.704904Z"
    },
    "run_control": {
     "marked": true
    }
   },
   "outputs": [
    {
     "name": "stdout",
     "output_type": "stream",
     "text": [
      "state_change\n"
     ]
    },
    {
     "name": "stderr",
     "output_type": "stream",
     "text": [
      "/home/hanl/miniconda3/envs/mytensor/lib/python3.9/site-packages/ipykernel/ipkernel.py:287: DeprecationWarning: `should_run_async` will not call `transform_cell` automatically in the future. Please pass the result to `transformed_cell` argument and any exception that happen during thetransform in `preprocessing_exc_tuple` in IPython 7.17 and above.\n",
      "  and should_run_async(code)\n"
     ]
    },
    {
     "data": {
      "text/html": [
       "<div>\n",
       "<style scoped>\n",
       "    .dataframe tbody tr th:only-of-type {\n",
       "        vertical-align: middle;\n",
       "    }\n",
       "\n",
       "    .dataframe tbody tr th {\n",
       "        vertical-align: top;\n",
       "    }\n",
       "\n",
       "    .dataframe thead th {\n",
       "        text-align: right;\n",
       "    }\n",
       "</style>\n",
       "<table border=\"1\" class=\"dataframe\">\n",
       "  <thead>\n",
       "    <tr style=\"text-align: right;\">\n",
       "      <th></th>\n",
       "      <th>type</th>\n",
       "      <th>0</th>\n",
       "      <th>groupHPD</th>\n",
       "      <th>count</th>\n",
       "      <th>percent</th>\n",
       "    </tr>\n",
       "  </thead>\n",
       "  <tbody>\n",
       "    <tr>\n",
       "      <th>0</th>\n",
       "      <td>CB</td>\n",
       "      <td>735</td>\n",
       "      <td>1</td>\n",
       "      <td>1298</td>\n",
       "      <td>56.63</td>\n",
       "    </tr>\n",
       "    <tr>\n",
       "      <th>1</th>\n",
       "      <td>W</td>\n",
       "      <td>247</td>\n",
       "      <td>1</td>\n",
       "      <td>1298</td>\n",
       "      <td>19.03</td>\n",
       "    </tr>\n",
       "  </tbody>\n",
       "</table>\n",
       "</div>"
      ],
      "text/plain": [
       "  type    0  groupHPD  count  percent\n",
       "0   CB  735         1   1298    56.63\n",
       "1    W  247         1   1298    19.03"
      ]
     },
     "execution_count": 7,
     "metadata": {},
     "output_type": "execute_result"
    }
   ],
   "source": [
    "df_cut1 = df_cut[['stay_id','state_crea_change','state_uo_change', 'state_change']].drop_duplicates()\n",
    "df_cut1 = pd.merge(df_cut1,df_type_filt, how=\"inner\",on=\"stay_id\")\n",
    "df_type_filt_count = pd.DataFrame(df_type_filt.groupHPD.value_counts()).reset_index()\n",
    "df_type_filt_count.columns = [\"groupHPD\",\"count\"]\n",
    "\n",
    "fea = \"state_change\" \n",
    "print(fea)\n",
    "##\n",
    "tmp_df = pd.DataFrame(df_cut1[df_cut1[\"groupHPD\"]==3][[fea]].value_counts()).reset_index()\n",
    "tmp_df[\"groupHPD\"]=3\n",
    "df_out = tmp_df\n",
    "\n",
    "tmp_df = pd.DataFrame(df_cut1[df_cut1[\"groupHPD\"]==2][[fea]].value_counts()).reset_index()\n",
    "tmp_df[\"groupHPD\"]=2\n",
    "df_out = pd.concat([df_out,tmp_df],axis=0)\n",
    "\n",
    "tmp_df = pd.DataFrame(df_cut1[df_cut1[\"groupHPD\"]==1][[fea]].value_counts()).reset_index()\n",
    "tmp_df[\"groupHPD\"]=1\n",
    "df_out = pd.concat([df_out,tmp_df],axis=0)\n",
    "df_out = df_out.sort_values([\"groupHPD\"])\n",
    "df_out = pd.merge(df_out,df_type_filt_count, how=\"inner\",on=\"groupHPD\")\n",
    "df_out[\"percent\"] = round(df_out[0] /df_out[\"count\"] *100,2)\n",
    "df_out.columns = ['type', 0, 'groupHPD', 'count', 'percent']\n",
    "df_out.head(2)"
   ]
  },
  {
   "cell_type": "code",
   "execution_count": 8,
   "id": "1bfe1aba",
   "metadata": {
    "ExecuteTime": {
     "end_time": "2024-02-07T05:38:36.886510Z",
     "start_time": "2024-02-07T05:38:36.751409Z"
    }
   },
   "outputs": [
    {
     "name": "stderr",
     "output_type": "stream",
     "text": [
      "/home/hanl/miniconda3/envs/mytensor/lib/python3.9/site-packages/ipykernel/ipkernel.py:287: DeprecationWarning: `should_run_async` will not call `transform_cell` automatically in the future. Please pass the result to `transformed_cell` argument and any exception that happen during thetransform in `preprocessing_exc_tuple` in IPython 7.17 and above.\n",
      "  and should_run_async(code)\n"
     ]
    },
    {
     "data": {
      "text/html": [
       "<div>\n",
       "<style scoped>\n",
       "    .dataframe tbody tr th:only-of-type {\n",
       "        vertical-align: middle;\n",
       "    }\n",
       "\n",
       "    .dataframe tbody tr th {\n",
       "        vertical-align: top;\n",
       "    }\n",
       "\n",
       "    .dataframe thead th {\n",
       "        text-align: right;\n",
       "    }\n",
       "</style>\n",
       "<table border=\"1\" class=\"dataframe\">\n",
       "  <thead>\n",
       "    <tr style=\"text-align: right;\">\n",
       "      <th></th>\n",
       "      <th>type</th>\n",
       "      <th>count</th>\n",
       "      <th>groupHPD</th>\n",
       "      <th>count_all</th>\n",
       "      <th>percent</th>\n",
       "      <th>dataset</th>\n",
       "    </tr>\n",
       "  </thead>\n",
       "  <tbody>\n",
       "    <tr>\n",
       "      <th>0</th>\n",
       "      <td>CB</td>\n",
       "      <td>735</td>\n",
       "      <td>1</td>\n",
       "      <td>1298</td>\n",
       "      <td>56.63</td>\n",
       "      <td>MIMIC</td>\n",
       "    </tr>\n",
       "    <tr>\n",
       "      <th>1</th>\n",
       "      <td>W</td>\n",
       "      <td>247</td>\n",
       "      <td>1</td>\n",
       "      <td>1298</td>\n",
       "      <td>19.03</td>\n",
       "      <td>MIMIC</td>\n",
       "    </tr>\n",
       "    <tr>\n",
       "      <th>2</th>\n",
       "      <td>PB</td>\n",
       "      <td>244</td>\n",
       "      <td>1</td>\n",
       "      <td>1298</td>\n",
       "      <td>18.80</td>\n",
       "      <td>MIMIC</td>\n",
       "    </tr>\n",
       "    <tr>\n",
       "      <th>3</th>\n",
       "      <td>S</td>\n",
       "      <td>64</td>\n",
       "      <td>1</td>\n",
       "      <td>1298</td>\n",
       "      <td>4.93</td>\n",
       "      <td>MIMIC</td>\n",
       "    </tr>\n",
       "    <tr>\n",
       "      <th>4</th>\n",
       "      <td>CB</td>\n",
       "      <td>2032</td>\n",
       "      <td>2</td>\n",
       "      <td>3055</td>\n",
       "      <td>66.51</td>\n",
       "      <td>MIMIC</td>\n",
       "    </tr>\n",
       "  </tbody>\n",
       "</table>\n",
       "</div>"
      ],
      "text/plain": [
       "  type  count  groupHPD  count_all  percent dataset\n",
       "0   CB    735         1       1298    56.63   MIMIC\n",
       "1    W    247         1       1298    19.03   MIMIC\n",
       "2   PB    244         1       1298    18.80   MIMIC\n",
       "3    S     64         1       1298     4.93   MIMIC\n",
       "4   CB   2032         2       3055    66.51   MIMIC"
      ]
     },
     "execution_count": 8,
     "metadata": {},
     "output_type": "execute_result"
    }
   ],
   "source": [
    "df_out[\"dataset\"] = \"MIMIC\"\n",
    "df_out.columns = ['type', 'count', 'groupHPD', 'count_all', 'percent', 'dataset']\n",
    "df_out.to_csv(\"./result/MIMIC_renal_recovery_1.csv\",index=False)\n",
    "df_out.head()"
   ]
  },
  {
   "cell_type": "code",
   "execution_count": 9,
   "id": "322dcf2c",
   "metadata": {
    "ExecuteTime": {
     "end_time": "2024-02-07T05:38:37.124950Z",
     "start_time": "2024-02-07T05:38:36.887952Z"
    },
    "run_control": {
     "marked": true
    }
   },
   "outputs": [
    {
     "name": "stderr",
     "output_type": "stream",
     "text": [
      "/home/hanl/miniconda3/envs/mytensor/lib/python3.9/site-packages/ipykernel/ipkernel.py:287: DeprecationWarning: `should_run_async` will not call `transform_cell` automatically in the future. Please pass the result to `transformed_cell` argument and any exception that happen during thetransform in `preprocessing_exc_tuple` in IPython 7.17 and above.\n",
      "  and should_run_async(code)\n",
      "/home/hanl/miniconda3/envs/mytensor/lib/python3.9/site-packages/ipykernel/pylab/backend_inline.py:164: DeprecationWarning: `configure_inline_support` is deprecated since IPython 7.23, directly use `matplotlib_inline.backend_inline.configure_inline_support()`\n",
      "  configure_inline_support(ip, backend)\n"
     ]
    },
    {
     "data": {
      "image/png": "[encoded data removed]",
      "text/plain": [
       "<Figure size 1200x600 with 1 Axes>"
      ]
     },
     "metadata": {},
     "output_type": "display_data"
    }
   ],
   "source": [
    "#plot\n",
    "def text(y1,y2,y3,y4, sizes):\n",
    "    plt.text(0,y1[0]/2 ,y1[0],size=sizes)\n",
    "    plt.text(1,y1[1]/2,y1[1],size=sizes)\n",
    "    plt.text(2,y1[2]/2,y1[2],size=sizes)\n",
    "    \n",
    "    plt.text(0,y1[0]+ y2[0]/2 ,y2[0],size=sizes)\n",
    "    plt.text(1,y1[1]+ y2[1]/2 ,y2[1],size=sizes)\n",
    "    plt.text(2,y1[2]+ y2[2]/2 ,y2[2],size=sizes)\n",
    "    \n",
    "    plt.text(0,y1[0]+ y2[0] +y3[0]/2 ,y3[0],size=sizes)\n",
    "    plt.text(1,y1[1]+ y2[1] +y3[1]/2 ,y3[1],size=sizes)\n",
    "    plt.text(2,y1[2]+ y2[2] +y3[2]/2 ,y3[2],size=sizes)\n",
    "    \n",
    "    plt.text(0,y1[0]+ y2[0] +y3[0] + y4[0]/2,y4[0],size=sizes)\n",
    "    plt.text(1,y1[1]+ y2[1] +y3[1] + y4[1]/2,y4[1],size=sizes)\n",
    "    plt.text(2,y1[2]+ y2[2] +y3[2] + y4[2]/2,y4[2],size=sizes)\n",
    "    \n",
    "#三组诊断时的AKI等级分布\n",
    "y1 = df_out[df_out[\"type\"]==\"S\"][\"percent\"].tolist()\n",
    "y2 = df_out[df_out[\"type\"]==\"CB\"][\"percent\"].tolist()\n",
    "y3 = df_out[df_out[\"type\"]==\"PB\"][\"percent\"].tolist()\n",
    "y4 = df_out[df_out[\"type\"]==\"W\"][\"percent\"].tolist()\n",
    "\n",
    "x = [\"C1\",\"C2\",\"C3\"]\n",
    "y1 = np.array(y1)\n",
    "y2 = np.array(y2)\n",
    "y3 = np.array(y3)\n",
    "y4 = np.array(y4)\n",
    "\n",
    "plt.figure(figsize=(12, 6))\n",
    "plt.bar(x,y1,width=0.4,label='steady',color='#ffffb3',edgecolor='grey')\n",
    "plt.bar(x,y2,width=0.4,bottom=y1,label='full recovery',color='#74c476',edgecolor='grey')\n",
    "plt.bar(x,y3,width=0.4,bottom=y1+y2,label='partial recovery',color='#bcbddc',edgecolor='grey')\n",
    "plt.bar(x,y4,width=0.4,bottom=y1+y2+y3,label='worsen',color='#fd8d3c',edgecolor='grey')\n",
    "\n",
    "text(y1,y2,y3,y4,10)\n",
    "plt.yticks(np.arange(0,110,20),[f'{i}%' for i in range(0,120,20)])\n",
    "plt.grid(axis='y',alpha=0.5,ls='--')\n",
    "\n",
    "plt.legend(frameon=False,bbox_to_anchor=(1.01,1))\n",
    "plt.title(fea)\n",
    "plt.tight_layout()\n",
    "plt.show()"
   ]
  },
  {
   "cell_type": "markdown",
   "id": "6dcad943",
   "metadata": {},
   "source": [
    "# 恢复模式判定\n",
    "- 3天内恢复/7天内恢复/7天内不恢复"
   ]
  },
  {
   "cell_type": "code",
   "execution_count": 10,
   "id": "bb401314",
   "metadata": {
    "ExecuteTime": {
     "end_time": "2024-02-07T05:38:37.150103Z",
     "start_time": "2024-02-07T05:38:37.126080Z"
    },
    "run_control": {
     "marked": true
    }
   },
   "outputs": [
    {
     "name": "stderr",
     "output_type": "stream",
     "text": [
      "/home/hanl/miniconda3/envs/mytensor/lib/python3.9/site-packages/ipykernel/ipkernel.py:287: DeprecationWarning: `should_run_async` will not call `transform_cell` automatically in the future. Please pass the result to `transformed_cell` argument and any exception that happen during thetransform in `preprocessing_exc_tuple` in IPython 7.17 and above.\n",
      "  and should_run_async(code)\n"
     ]
    },
    {
     "data": {
      "text/html": [
       "<div>\n",
       "<style scoped>\n",
       "    .dataframe tbody tr th:only-of-type {\n",
       "        vertical-align: middle;\n",
       "    }\n",
       "\n",
       "    .dataframe tbody tr th {\n",
       "        vertical-align: top;\n",
       "    }\n",
       "\n",
       "    .dataframe thead th {\n",
       "        text-align: right;\n",
       "    }\n",
       "</style>\n",
       "<table border=\"1\" class=\"dataframe\">\n",
       "  <thead>\n",
       "    <tr style=\"text-align: right;\">\n",
       "      <th></th>\n",
       "      <th>stay_id</th>\n",
       "      <th>state_change</th>\n",
       "      <th>los_saaki</th>\n",
       "      <th>stayid_state</th>\n",
       "    </tr>\n",
       "  </thead>\n",
       "  <tbody>\n",
       "    <tr>\n",
       "      <th>0</th>\n",
       "      <td>30003598</td>\n",
       "      <td>CB</td>\n",
       "      <td>95.933333</td>\n",
       "      <td>Persistent AKI with full renal recovery</td>\n",
       "    </tr>\n",
       "  </tbody>\n",
       "</table>\n",
       "</div>"
      ],
      "text/plain": [
       "    stay_id state_change  los_saaki                             stayid_state\n",
       "0  30003598           CB  95.933333  Persistent AKI with full renal recovery"
      ]
     },
     "execution_count": 10,
     "metadata": {},
     "output_type": "execute_result"
    }
   ],
   "source": [
    "df_ = df_cut[[\"stay_id\",\"state_change\"]].drop_duplicates()\n",
    "df_ = pd.merge(df_,df_time[[\"stay_id\",\"los_saaki\"]],how=\"inner\",on=\"stay_id\")\n",
    "\n",
    "df_.loc[(df_[\"state_change\"]==\"CB\") & (df_[\"los_saaki\"]<=48),\"stayid_state\"] = \"Rapidly revered AKI\"\n",
    "df_.loc[(df_[\"state_change\"]==\"CB\") & (df_[\"los_saaki\"]>48),\"stayid_state\"] = \"Persistent AKI with full renal recovery\"\n",
    "df_.loc[(df_[\"state_change\"]==\"PB\"),\"stayid_state\"] = \"Persistent AKI with partial renal recovery\"\n",
    "df_.loc[(df_[\"state_change\"]==\"W\"),\"stayid_state\"] = \"Persistent AKI with worsening renal function\"\n",
    "df_.loc[(df_[\"state_change\"]==\"S\"),\"stayid_state\"] = \"Persistent AKI with worsening renal function\" #\"Persistent AKI with steady renal function\"\n",
    "df_stayid_s = df_\n",
    "df_.head(1)"
   ]
  },
  {
   "cell_type": "code",
   "execution_count": 11,
   "id": "e9bc2d40",
   "metadata": {
    "ExecuteTime": {
     "end_time": "2024-02-07T05:38:37.172239Z",
     "start_time": "2024-02-07T05:38:37.151223Z"
    }
   },
   "outputs": [
    {
     "name": "stderr",
     "output_type": "stream",
     "text": [
      "/home/hanl/miniconda3/envs/mytensor/lib/python3.9/site-packages/ipykernel/ipkernel.py:287: DeprecationWarning: `should_run_async` will not call `transform_cell` automatically in the future. Please pass the result to `transformed_cell` argument and any exception that happen during thetransform in `preprocessing_exc_tuple` in IPython 7.17 and above.\n",
      "  and should_run_async(code)\n"
     ]
    },
    {
     "data": {
      "text/html": [
       "<div>\n",
       "<style scoped>\n",
       "    .dataframe tbody tr th:only-of-type {\n",
       "        vertical-align: middle;\n",
       "    }\n",
       "\n",
       "    .dataframe tbody tr th {\n",
       "        vertical-align: top;\n",
       "    }\n",
       "\n",
       "    .dataframe thead th {\n",
       "        text-align: right;\n",
       "    }\n",
       "</style>\n",
       "<table border=\"1\" class=\"dataframe\">\n",
       "  <thead>\n",
       "    <tr style=\"text-align: right;\">\n",
       "      <th></th>\n",
       "      <th>groupHPD</th>\n",
       "      <th>stayid_state</th>\n",
       "      <th>stay_id</th>\n",
       "      <th>count_all</th>\n",
       "      <th>percent(%)</th>\n",
       "    </tr>\n",
       "  </thead>\n",
       "  <tbody>\n",
       "    <tr>\n",
       "      <th>0</th>\n",
       "      <td>1</td>\n",
       "      <td>Persistent AKI with full renal recovery</td>\n",
       "      <td>398</td>\n",
       "      <td>1298</td>\n",
       "      <td>30.66</td>\n",
       "    </tr>\n",
       "    <tr>\n",
       "      <th>1</th>\n",
       "      <td>1</td>\n",
       "      <td>Persistent AKI with partial renal recovery</td>\n",
       "      <td>244</td>\n",
       "      <td>1298</td>\n",
       "      <td>18.80</td>\n",
       "    </tr>\n",
       "    <tr>\n",
       "      <th>2</th>\n",
       "      <td>1</td>\n",
       "      <td>Persistent AKI with worsening renal function</td>\n",
       "      <td>311</td>\n",
       "      <td>1298</td>\n",
       "      <td>23.96</td>\n",
       "    </tr>\n",
       "    <tr>\n",
       "      <th>3</th>\n",
       "      <td>1</td>\n",
       "      <td>Rapidly revered AKI</td>\n",
       "      <td>337</td>\n",
       "      <td>1298</td>\n",
       "      <td>25.96</td>\n",
       "    </tr>\n",
       "    <tr>\n",
       "      <th>4</th>\n",
       "      <td>2</td>\n",
       "      <td>Persistent AKI with full renal recovery</td>\n",
       "      <td>684</td>\n",
       "      <td>3055</td>\n",
       "      <td>22.39</td>\n",
       "    </tr>\n",
       "    <tr>\n",
       "      <th>5</th>\n",
       "      <td>2</td>\n",
       "      <td>Persistent AKI with partial renal recovery</td>\n",
       "      <td>409</td>\n",
       "      <td>3055</td>\n",
       "      <td>13.39</td>\n",
       "    </tr>\n",
       "    <tr>\n",
       "      <th>6</th>\n",
       "      <td>2</td>\n",
       "      <td>Persistent AKI with worsening renal function</td>\n",
       "      <td>597</td>\n",
       "      <td>3055</td>\n",
       "      <td>19.54</td>\n",
       "    </tr>\n",
       "    <tr>\n",
       "      <th>7</th>\n",
       "      <td>2</td>\n",
       "      <td>Rapidly revered AKI</td>\n",
       "      <td>1348</td>\n",
       "      <td>3055</td>\n",
       "      <td>44.12</td>\n",
       "    </tr>\n",
       "    <tr>\n",
       "      <th>8</th>\n",
       "      <td>3</td>\n",
       "      <td>Persistent AKI with full renal recovery</td>\n",
       "      <td>50</td>\n",
       "      <td>360</td>\n",
       "      <td>13.89</td>\n",
       "    </tr>\n",
       "    <tr>\n",
       "      <th>9</th>\n",
       "      <td>3</td>\n",
       "      <td>Persistent AKI with partial renal recovery</td>\n",
       "      <td>74</td>\n",
       "      <td>360</td>\n",
       "      <td>20.56</td>\n",
       "    </tr>\n",
       "    <tr>\n",
       "      <th>10</th>\n",
       "      <td>3</td>\n",
       "      <td>Persistent AKI with worsening renal function</td>\n",
       "      <td>186</td>\n",
       "      <td>360</td>\n",
       "      <td>51.67</td>\n",
       "    </tr>\n",
       "    <tr>\n",
       "      <th>11</th>\n",
       "      <td>3</td>\n",
       "      <td>Rapidly revered AKI</td>\n",
       "      <td>50</td>\n",
       "      <td>360</td>\n",
       "      <td>13.89</td>\n",
       "    </tr>\n",
       "  </tbody>\n",
       "</table>\n",
       "</div>"
      ],
      "text/plain": [
       "    groupHPD                                  stayid_state  stay_id  \\\n",
       "0          1       Persistent AKI with full renal recovery      398   \n",
       "1          1    Persistent AKI with partial renal recovery      244   \n",
       "2          1  Persistent AKI with worsening renal function      311   \n",
       "3          1                           Rapidly revered AKI      337   \n",
       "4          2       Persistent AKI with full renal recovery      684   \n",
       "5          2    Persistent AKI with partial renal recovery      409   \n",
       "6          2  Persistent AKI with worsening renal function      597   \n",
       "7          2                           Rapidly revered AKI     1348   \n",
       "8          3       Persistent AKI with full renal recovery       50   \n",
       "9          3    Persistent AKI with partial renal recovery       74   \n",
       "10         3  Persistent AKI with worsening renal function      186   \n",
       "11         3                           Rapidly revered AKI       50   \n",
       "\n",
       "    count_all  percent(%)  \n",
       "0        1298       30.66  \n",
       "1        1298       18.80  \n",
       "2        1298       23.96  \n",
       "3        1298       25.96  \n",
       "4        3055       22.39  \n",
       "5        3055       13.39  \n",
       "6        3055       19.54  \n",
       "7        3055       44.12  \n",
       "8         360       13.89  \n",
       "9         360       20.56  \n",
       "10        360       51.67  \n",
       "11        360       13.89  "
      ]
     },
     "execution_count": 11,
     "metadata": {},
     "output_type": "execute_result"
    }
   ],
   "source": [
    "df_count_all = pd.DataFrame(df_type_filt[\"groupHPD\"].value_counts()).reset_index()\n",
    "df_count_all.columns = [\"groupHPD\", \"count_all\"]\n",
    "\n",
    "tmp_df = pd.merge(df_stayid_s,df_type_filt, how=\"inner\",on=\"stay_id\")\n",
    "tmp_df = tmp_df.groupby([\"groupHPD\",\"stayid_state\"]).agg({\"stay_id\":\"count\"}).reset_index()\n",
    "tmp_df = pd.merge(tmp_df,df_count_all, how=\"inner\",on=\"groupHPD\")\n",
    "tmp_df[\"percent(%)\"] = round(tmp_df[\"stay_id\"]/tmp_df[\"count_all\"]*100,2)\n",
    "tmp_df.sort_values([\"groupHPD\",'stayid_state'])"
   ]
  },
  {
   "cell_type": "code",
   "execution_count": 12,
   "id": "29d00294",
   "metadata": {
    "ExecuteTime": {
     "end_time": "2024-02-07T05:38:37.182087Z",
     "start_time": "2024-02-07T05:38:37.173314Z"
    }
   },
   "outputs": [
    {
     "name": "stderr",
     "output_type": "stream",
     "text": [
      "/home/hanl/miniconda3/envs/mytensor/lib/python3.9/site-packages/ipykernel/ipkernel.py:287: DeprecationWarning: `should_run_async` will not call `transform_cell` automatically in the future. Please pass the result to `transformed_cell` argument and any exception that happen during thetransform in `preprocessing_exc_tuple` in IPython 7.17 and above.\n",
      "  and should_run_async(code)\n"
     ]
    },
    {
     "data": {
      "text/html": [
       "<div>\n",
       "<style scoped>\n",
       "    .dataframe tbody tr th:only-of-type {\n",
       "        vertical-align: middle;\n",
       "    }\n",
       "\n",
       "    .dataframe tbody tr th {\n",
       "        vertical-align: top;\n",
       "    }\n",
       "\n",
       "    .dataframe thead th {\n",
       "        text-align: right;\n",
       "    }\n",
       "</style>\n",
       "<table border=\"1\" class=\"dataframe\">\n",
       "  <thead>\n",
       "    <tr style=\"text-align: right;\">\n",
       "      <th></th>\n",
       "      <th>groupHPD</th>\n",
       "      <th>stayid_state</th>\n",
       "      <th>stay_id</th>\n",
       "      <th>count_all</th>\n",
       "      <th>percent(%)</th>\n",
       "      <th>dataset</th>\n",
       "    </tr>\n",
       "  </thead>\n",
       "  <tbody>\n",
       "    <tr>\n",
       "      <th>0</th>\n",
       "      <td>1</td>\n",
       "      <td>Persistent AKI with full renal recovery</td>\n",
       "      <td>398</td>\n",
       "      <td>1298</td>\n",
       "      <td>30.66</td>\n",
       "      <td>MIMIC</td>\n",
       "    </tr>\n",
       "    <tr>\n",
       "      <th>1</th>\n",
       "      <td>1</td>\n",
       "      <td>Persistent AKI with partial renal recovery</td>\n",
       "      <td>244</td>\n",
       "      <td>1298</td>\n",
       "      <td>18.80</td>\n",
       "      <td>MIMIC</td>\n",
       "    </tr>\n",
       "    <tr>\n",
       "      <th>2</th>\n",
       "      <td>1</td>\n",
       "      <td>Persistent AKI with worsening renal function</td>\n",
       "      <td>311</td>\n",
       "      <td>1298</td>\n",
       "      <td>23.96</td>\n",
       "      <td>MIMIC</td>\n",
       "    </tr>\n",
       "    <tr>\n",
       "      <th>3</th>\n",
       "      <td>1</td>\n",
       "      <td>Rapidly revered AKI</td>\n",
       "      <td>337</td>\n",
       "      <td>1298</td>\n",
       "      <td>25.96</td>\n",
       "      <td>MIMIC</td>\n",
       "    </tr>\n",
       "    <tr>\n",
       "      <th>4</th>\n",
       "      <td>2</td>\n",
       "      <td>Persistent AKI with full renal recovery</td>\n",
       "      <td>684</td>\n",
       "      <td>3055</td>\n",
       "      <td>22.39</td>\n",
       "      <td>MIMIC</td>\n",
       "    </tr>\n",
       "  </tbody>\n",
       "</table>\n",
       "</div>"
      ],
      "text/plain": [
       "   groupHPD                                  stayid_state  stay_id  count_all  \\\n",
       "0         1       Persistent AKI with full renal recovery      398       1298   \n",
       "1         1    Persistent AKI with partial renal recovery      244       1298   \n",
       "2         1  Persistent AKI with worsening renal function      311       1298   \n",
       "3         1                           Rapidly revered AKI      337       1298   \n",
       "4         2       Persistent AKI with full renal recovery      684       3055   \n",
       "\n",
       "   percent(%) dataset  \n",
       "0       30.66   MIMIC  \n",
       "1       18.80   MIMIC  \n",
       "2       23.96   MIMIC  \n",
       "3       25.96   MIMIC  \n",
       "4       22.39   MIMIC  "
      ]
     },
     "execution_count": 12,
     "metadata": {},
     "output_type": "execute_result"
    }
   ],
   "source": [
    "tmp_df[\"dataset\"] = \"MIMIC\"\n",
    "tmp_df.to_csv(\"./result/MIMIC_renal_recovery_2.csv\",index=False)\n",
    "tmp_df.head()"
   ]
  },
  {
   "cell_type": "code",
   "execution_count": 13,
   "id": "407338b9",
   "metadata": {
    "ExecuteTime": {
     "end_time": "2024-02-07T05:38:37.562030Z",
     "start_time": "2024-02-07T05:38:37.183180Z"
    },
    "run_control": {
     "marked": true
    }
   },
   "outputs": [
    {
     "name": "stderr",
     "output_type": "stream",
     "text": [
      "/home/hanl/miniconda3/envs/mytensor/lib/python3.9/site-packages/ipykernel/ipkernel.py:287: DeprecationWarning: `should_run_async` will not call `transform_cell` automatically in the future. Please pass the result to `transformed_cell` argument and any exception that happen during thetransform in `preprocessing_exc_tuple` in IPython 7.17 and above.\n",
      "  and should_run_async(code)\n"
     ]
    },
    {
     "data": {
      "image/png": "[encoded data removed]",
      "text/plain": [
       "<Figure size 1200x500 with 1 Axes>"
      ]
     },
     "metadata": {},
     "output_type": "display_data"
    }
   ],
   "source": [
    "def text(y1,y2,y3,y4,y5,y6,sizes):\n",
    "    plt.text(0,y1[0]/2 ,y1[0],size=sizes)\n",
    "    plt.text(1,y1[1]/2,y1[1],size=sizes)\n",
    "    plt.text(2,y1[2]/2,y1[2],size=sizes)\n",
    "    \n",
    "    plt.text(0,y1[0]+ y2[0]/2 ,y2[0],size=sizes)\n",
    "    plt.text(1,y1[1]+ y2[1]/2 ,y2[1],size=sizes)\n",
    "    plt.text(2,y1[2]+ y2[2]/2 ,y2[2],size=sizes)\n",
    "    \n",
    "    plt.text(0,y1[0]+ y2[0] +y3[0]/2 ,y3[0],size=sizes)\n",
    "    plt.text(1,y1[1]+ y2[1] +y3[1]/2 ,y3[1],size=sizes)\n",
    "    plt.text(2,y1[2]+ y2[2] +y3[2]/2 ,y3[2],size=sizes)\n",
    "    \n",
    "    plt.text(0,y1[0]+ y2[0] +y3[0] + y4[0]/2,y4[0],size=sizes)\n",
    "    plt.text(1,y1[1]+ y2[1] +y3[1] + y4[1]/2,y4[1],size=sizes)\n",
    "    plt.text(2,y1[2]+ y2[2] +y3[2] + y4[2]/2,y4[2],size=sizes)\n",
    "    \n",
    "    plt.text(0,y1[0]+ y2[0] +y3[0] + y4[0]+y5[0]/2,y5[0],size=sizes)\n",
    "    plt.text(1,y1[1]+ y2[1] +y3[1] + y4[1]+y5[1]/2,y5[1],size=sizes)\n",
    "    plt.text(2,y1[2]+ y2[2] +y3[2] + y4[2]+y5[2]/2,y5[2],size=sizes)\n",
    "    \n",
    "    plt.text(0,y1[0]+ y2[0] +y3[0] + y4[0]+y5[0]+y6[0]/2,y6[0],size=sizes)\n",
    "    plt.text(1,y1[1]+ y2[1] +y3[1] + y4[1]+y5[1]+y6[1]/2,y6[1],size=sizes)\n",
    "    plt.text(2,y1[2]+ y2[2] +y3[2] + y4[2]+y5[2]+y6[2]/2,y6[2],size=sizes)    \n",
    "\n",
    "    \n",
    "#三组诊断时的AKI等级分布\n",
    "y1 = tmp_df[tmp_df[\"stayid_state\"]==\"Rapidly revered AKI\"].loc[:,[\"groupHPD\",\"percent(%)\"]].sort_values(\"groupHPD\")[\"percent(%)\"].tolist()\n",
    "y2 = tmp_df[tmp_df[\"stayid_state\"]==\"Persistent AKI with full renal recovery\"].loc[:,[\"groupHPD\",\"percent(%)\"]].sort_values(\"groupHPD\")[\"percent(%)\"].tolist()\n",
    "y3 = tmp_df[tmp_df[\"stayid_state\"]==\"Persistent AKI with partial renal recovery\"].loc[:,[\"groupHPD\",\"percent(%)\"]].sort_values(\"groupHPD\")[\"percent(%)\"].tolist()\n",
    "y4 = tmp_df[tmp_df[\"stayid_state\"]==\"Persistent AKI with worsening renal function\"].loc[:,[\"groupHPD\",\"percent(%)\"]].sort_values(\"groupHPD\")[\"percent(%)\"].tolist()\n",
    "#y5 = tmp_df[tmp_df[\"stayid_state\"]==\"Persistent AKI with worsening renal function\"].loc[:,[\"groupHPD\",\"percent(%)\"]].sort_values(\"groupHPD\")[\"percent(%)\"].tolist()\n",
    "\n",
    "x = [\"C1\",\"C2\",\"C3\"]\n",
    "y1 = np.array(y1)\n",
    "y2 = np.array(y2)\n",
    "y3 = np.array(y3)\n",
    "\n",
    "plt.figure(figsize=(12, 5)) \n",
    "plt.bar(x,y1,width=0.4,label='Rapidly revered AKI',color='#c7e9c0',edgecolor='grey')\n",
    "plt.bar(x,y2,width=0.4,bottom=y1,label='Persistent AKI with full renal recovery',color='#74c476',edgecolor='grey')\n",
    "plt.bar(x,y3,width=0.4,bottom=y1+y2,label='Persistent AKI with partial renal recovery',color='#bcbddc',edgecolor='grey')\n",
    "plt.bar(x,y4,width=0.4,bottom=y1+y2+y3,label='Persistent AKI with worsening renal function',color='#ffffb3',edgecolor='grey')\n",
    "#plt.bar(x,y5,width=0.4,bottom=y1+y2+y3+y4,label='Persistent AKI with worsening renal function',color='#fd8d3c',edgecolor='grey')\n",
    "#text(y1,y2,y3,y4,y5,y6,10)\n",
    "\n",
    "plt.yticks(np.arange(0,120,20),[f'{i}%' for i in range(0,120,20)])\n",
    "plt.grid(axis='y',alpha=0.5,ls='--')\n",
    "\n",
    "plt.legend(frameon=False,bbox_to_anchor=(1.01,1))\n",
    "plt.title(\"recovery type\")\n",
    "plt.tight_layout()\n",
    "plt.savefig('mimic_recovery_type.pdf', bbox_inches = 'tight')\n",
    "plt.show()"
   ]
  },
  {
   "cell_type": "markdown",
   "id": "508b680a",
   "metadata": {
    "run_control": {
     "marked": true
    }
   },
   "source": [
    "# 恢复模式判定-程度"
   ]
  },
  {
   "cell_type": "code",
   "execution_count": 14,
   "id": "37e93241",
   "metadata": {
    "ExecuteTime": {
     "end_time": "2024-02-07T05:38:37.587757Z",
     "start_time": "2024-02-07T05:38:37.563110Z"
    }
   },
   "outputs": [
    {
     "name": "stderr",
     "output_type": "stream",
     "text": [
      "/home/hanl/miniconda3/envs/mytensor/lib/python3.9/site-packages/ipykernel/ipkernel.py:287: DeprecationWarning: `should_run_async` will not call `transform_cell` automatically in the future. Please pass the result to `transformed_cell` argument and any exception that happen during thetransform in `preprocessing_exc_tuple` in IPython 7.17 and above.\n",
      "  and should_run_async(code)\n"
     ]
    },
    {
     "data": {
      "text/html": [
       "<div>\n",
       "<style scoped>\n",
       "    .dataframe tbody tr th:only-of-type {\n",
       "        vertical-align: middle;\n",
       "    }\n",
       "\n",
       "    .dataframe tbody tr th {\n",
       "        vertical-align: top;\n",
       "    }\n",
       "\n",
       "    .dataframe thead th {\n",
       "        text-align: right;\n",
       "    }\n",
       "</style>\n",
       "<table border=\"1\" class=\"dataframe\">\n",
       "  <thead>\n",
       "    <tr style=\"text-align: right;\">\n",
       "      <th></th>\n",
       "      <th>stay_id</th>\n",
       "      <th>state_change</th>\n",
       "      <th>los_saaki</th>\n",
       "      <th>stayid_state</th>\n",
       "      <th>groupHPD</th>\n",
       "    </tr>\n",
       "  </thead>\n",
       "  <tbody>\n",
       "    <tr>\n",
       "      <th>0</th>\n",
       "      <td>30003598</td>\n",
       "      <td>CB</td>\n",
       "      <td>95.933333</td>\n",
       "      <td>Full renal recovery</td>\n",
       "      <td>1</td>\n",
       "    </tr>\n",
       "  </tbody>\n",
       "</table>\n",
       "</div>"
      ],
      "text/plain": [
       "    stay_id state_change  los_saaki         stayid_state  groupHPD\n",
       "0  30003598           CB  95.933333  Full renal recovery         1"
      ]
     },
     "execution_count": 14,
     "metadata": {},
     "output_type": "execute_result"
    }
   ],
   "source": [
    "df_ = df_cut[[\"stay_id\",\"state_change\"]].drop_duplicates()\n",
    "df_ = pd.merge(df_,df_time[[\"stay_id\",\"los_saaki\"]],how=\"inner\",on=\"stay_id\")\n",
    "\n",
    "df_.loc[(df_[\"state_change\"]==\"CB\"),\"stayid_state\"] = \"Full renal recovery\"\n",
    "df_.loc[(df_[\"state_change\"]==\"PB\"),\"stayid_state\"] = \"Partial renal recovery\"\n",
    "df_.loc[(df_[\"state_change\"]==\"W\"),\"stayid_state\"] = \"Worsening renal function\"\n",
    "df_.loc[(df_[\"state_change\"]==\"S\"),\"stayid_state\"] = \"Worsening renal function\" #\"Persistent AKI with steady renal function\"\n",
    "df_stayid_s = df_\n",
    "df_stayid_s.head(1)"
   ]
  },
  {
   "cell_type": "code",
   "execution_count": 15,
   "id": "f3ac17bf",
   "metadata": {
    "ExecuteTime": {
     "end_time": "2024-02-07T05:38:37.730804Z",
     "start_time": "2024-02-07T05:38:37.588845Z"
    }
   },
   "outputs": [
    {
     "name": "stderr",
     "output_type": "stream",
     "text": [
      "/home/hanl/miniconda3/envs/mytensor/lib/python3.9/site-packages/ipykernel/ipkernel.py:287: DeprecationWarning: `should_run_async` will not call `transform_cell` automatically in the future. Please pass the result to `transformed_cell` argument and any exception that happen during thetransform in `preprocessing_exc_tuple` in IPython 7.17 and above.\n",
      "  and should_run_async(code)\n"
     ]
    }
   ],
   "source": [
    "# 绘制表格\n",
    "tmp_df = pd.merge(df_stayid_s,df_type_filt,how=\"inner\",on=\"stay_id\")\n",
    "\n",
    "columns = [\"groupHPD\",\"stayid_state\"]\n",
    "categorical = [\"stayid_state\"]\n",
    "df_demo_stat = TableOne(tmp_df, columns=columns,  categorical=categorical, groupby = [\"groupHPD\"], pval=True)\n",
    "df_demo_stat = pd.DataFrame(df_demo_stat.tableone).reset_index()\n",
    "df_demo_stat = df_demo_stat.droplevel(level=0, axis=1)\n",
    "df_demo_stat"
   ]
  },
  {
   "cell_type": "code",
   "execution_count": 17,
   "id": "291a67ad",
   "metadata": {
    "ExecuteTime": {
     "end_time": "2024-02-07T05:38:37.763198Z",
     "start_time": "2024-02-07T05:38:37.736125Z"
    }
   },
   "outputs": [
    {
     "name": "stdout",
     "output_type": "stream",
     "text": [
      "4353 0.9236155315085932\n"
     ]
    },
    {
     "name": "stderr",
     "output_type": "stream",
     "text": [
      "/home/hanl/miniconda3/envs/mytensor/lib/python3.9/site-packages/ipykernel/ipkernel.py:287: DeprecationWarning: `should_run_async` will not call `transform_cell` automatically in the future. Please pass the result to `transformed_cell` argument and any exception that happen during thetransform in `preprocessing_exc_tuple` in IPython 7.17 and above.\n",
      "  and should_run_async(code)\n"
     ]
    },
    {
     "data": {
      "text/html": [
       "<div>\n",
       "<style scoped>\n",
       "    .dataframe tbody tr th:only-of-type {\n",
       "        vertical-align: middle;\n",
       "    }\n",
       "\n",
       "    .dataframe tbody tr th {\n",
       "        vertical-align: top;\n",
       "    }\n",
       "\n",
       "    .dataframe thead th {\n",
       "        text-align: right;\n",
       "    }\n",
       "</style>\n",
       "<table border=\"1\" class=\"dataframe\">\n",
       "  <thead>\n",
       "    <tr style=\"text-align: right;\">\n",
       "      <th></th>\n",
       "      <th>stayid_state</th>\n",
       "      <th>stage23</th>\n",
       "      <th>percent</th>\n",
       "    </tr>\n",
       "  </thead>\n",
       "  <tbody>\n",
       "    <tr>\n",
       "      <th>Full renal recovery</th>\n",
       "      <td>2767</td>\n",
       "      <td>4353</td>\n",
       "      <td>0.635654</td>\n",
       "    </tr>\n",
       "    <tr>\n",
       "      <th>Worsening renal function</th>\n",
       "      <td>908</td>\n",
       "      <td>4353</td>\n",
       "      <td>0.208592</td>\n",
       "    </tr>\n",
       "    <tr>\n",
       "      <th>Partial renal recovery</th>\n",
       "      <td>653</td>\n",
       "      <td>4353</td>\n",
       "      <td>0.150011</td>\n",
       "    </tr>\n",
       "  </tbody>\n",
       "</table>\n",
       "</div>"
      ],
      "text/plain": [
       "                          stayid_state  stage23   percent\n",
       "Full renal recovery               2767     4353  0.635654\n",
       "Worsening renal function           908     4353  0.208592\n",
       "Partial renal recovery             653     4353  0.150011"
      ]
     },
     "execution_count": 17,
     "metadata": {},
     "output_type": "execute_result"
    }
   ],
   "source": [
    "# 一些插过来的统计\n",
    "df_stage = pd.read_csv(\"/public/hanl/jupyter_dir/kidney_sepsis_penotype_v3/00.data_mimic//disease_definition/AKI/sk_first_and_max_stage.csv\")\n",
    "df_stage = pd.merge(df_stage,df_type_filt,how=\"inner\",on=\"stay_id\")\n",
    "\n",
    "stage3_lst = df_stage[(df_stage[\"groupHPD\"].isin([1,2]))][\"stay_id\"] #(df_stage[\"first_aki_stage\"].isin([2,3])) & \n",
    "print(len(stage3_lst),len(stage3_lst)/df_stage.shape[0])\n",
    "\n",
    "tmp_df = pd.DataFrame(df_stayid_s[df_stayid_s[\"stay_id\"].isin(stage3_lst)].stayid_state.value_counts())\n",
    "tmp_df[\"stage23\"] = len(stage3_lst)\n",
    "tmp_df[\"percent\"] = tmp_df[\"stayid_state\"]/tmp_df[\"stage23\"]\n",
    "tmp_df"
   ]
  },
  {
   "cell_type": "code",
   "execution_count": 18,
   "id": "e9a0576c",
   "metadata": {
    "ExecuteTime": {
     "end_time": "2024-02-07T05:38:39.642387Z",
     "start_time": "2024-02-07T05:38:37.764238Z"
    }
   },
   "outputs": [
    {
     "name": "stderr",
     "output_type": "stream",
     "text": [
      "/home/hanl/miniconda3/envs/mytensor/lib/python3.9/site-packages/ipykernel/ipkernel.py:287: DeprecationWarning: `should_run_async` will not call `transform_cell` automatically in the future. Please pass the result to `transformed_cell` argument and any exception that happen during thetransform in `preprocessing_exc_tuple` in IPython 7.17 and above.\n",
      "  and should_run_async(code)\n"
     ]
    },
    {
     "ename": "KeyError",
     "evalue": "'groupHPD'",
     "output_type": "error",
     "traceback": [
      "\u001b[0;31m---------------------------------------------------------------------------\u001b[0m",
      "\u001b[0;31mKeyError\u001b[0m                                  Traceback (most recent call last)",
      "Input \u001b[0;32mIn [18]\u001b[0m, in \u001b[0;36m<cell line: 5>\u001b[0;34m()\u001b[0m\n\u001b[1;32m      2\u001b[0m df_count_all\u001b[38;5;241m.\u001b[39mcolumns \u001b[38;5;241m=\u001b[39m [\u001b[38;5;124m\"\u001b[39m\u001b[38;5;124mgroupHPD\u001b[39m\u001b[38;5;124m\"\u001b[39m, \u001b[38;5;124m\"\u001b[39m\u001b[38;5;124mcount_all\u001b[39m\u001b[38;5;124m\"\u001b[39m]\n\u001b[1;32m      4\u001b[0m tmp_df \u001b[38;5;241m=\u001b[39m pd\u001b[38;5;241m.\u001b[39mmerge(df_stayid_s,df_type_filt, how\u001b[38;5;241m=\u001b[39m\u001b[38;5;124m\"\u001b[39m\u001b[38;5;124minner\u001b[39m\u001b[38;5;124m\"\u001b[39m,on\u001b[38;5;241m=\u001b[39m\u001b[38;5;124m\"\u001b[39m\u001b[38;5;124mstay_id\u001b[39m\u001b[38;5;124m\"\u001b[39m)\n\u001b[0;32m----> 5\u001b[0m tmp_df \u001b[38;5;241m=\u001b[39m \u001b[43mtmp_df\u001b[49m\u001b[38;5;241;43m.\u001b[39;49m\u001b[43mgroupby\u001b[49m\u001b[43m(\u001b[49m\u001b[43m[\u001b[49m\u001b[38;5;124;43m\"\u001b[39;49m\u001b[38;5;124;43mgroupHPD\u001b[39;49m\u001b[38;5;124;43m\"\u001b[39;49m\u001b[43m,\u001b[49m\u001b[38;5;124;43m\"\u001b[39;49m\u001b[38;5;124;43mstayid_state\u001b[39;49m\u001b[38;5;124;43m\"\u001b[39;49m\u001b[43m]\u001b[49m\u001b[43m)\u001b[49m\u001b[38;5;241m.\u001b[39magg({\u001b[38;5;124m\"\u001b[39m\u001b[38;5;124mstay_id\u001b[39m\u001b[38;5;124m\"\u001b[39m:\u001b[38;5;124m\"\u001b[39m\u001b[38;5;124mcount\u001b[39m\u001b[38;5;124m\"\u001b[39m})\u001b[38;5;241m.\u001b[39mreset_index()\n\u001b[1;32m      6\u001b[0m tmp_df \u001b[38;5;241m=\u001b[39m pd\u001b[38;5;241m.\u001b[39mmerge(tmp_df,df_count_all, how\u001b[38;5;241m=\u001b[39m\u001b[38;5;124m\"\u001b[39m\u001b[38;5;124minner\u001b[39m\u001b[38;5;124m\"\u001b[39m,on\u001b[38;5;241m=\u001b[39m\u001b[38;5;124m\"\u001b[39m\u001b[38;5;124mgroupHPD\u001b[39m\u001b[38;5;124m\"\u001b[39m)\n\u001b[1;32m      7\u001b[0m tmp_df[\u001b[38;5;124m\"\u001b[39m\u001b[38;5;124mpercent(\u001b[39m\u001b[38;5;124m%\u001b[39m\u001b[38;5;124m)\u001b[39m\u001b[38;5;124m\"\u001b[39m] \u001b[38;5;241m=\u001b[39m \u001b[38;5;28mround\u001b[39m(tmp_df[\u001b[38;5;124m\"\u001b[39m\u001b[38;5;124mstay_id\u001b[39m\u001b[38;5;124m\"\u001b[39m]\u001b[38;5;241m/\u001b[39mtmp_df[\u001b[38;5;124m\"\u001b[39m\u001b[38;5;124mcount_all\u001b[39m\u001b[38;5;124m\"\u001b[39m]\u001b[38;5;241m*\u001b[39m\u001b[38;5;241m100\u001b[39m,\u001b[38;5;241m2\u001b[39m)\n",
      "File \u001b[0;32m/home/hanl/miniconda3/envs/mytensor/lib/python3.9/site-packages/pandas/core/frame.py:6717\u001b[0m, in \u001b[0;36mDataFrame.groupby\u001b[0;34m(self, by, axis, level, as_index, sort, group_keys, squeeze, observed, dropna)\u001b[0m\n\u001b[1;32m   6714\u001b[0m     \u001b[38;5;28;01mraise\u001b[39;00m \u001b[38;5;167;01mTypeError\u001b[39;00m(\u001b[38;5;124m\"\u001b[39m\u001b[38;5;124mYou have to supply one of \u001b[39m\u001b[38;5;124m'\u001b[39m\u001b[38;5;124mby\u001b[39m\u001b[38;5;124m'\u001b[39m\u001b[38;5;124m and \u001b[39m\u001b[38;5;124m'\u001b[39m\u001b[38;5;124mlevel\u001b[39m\u001b[38;5;124m'\u001b[39m\u001b[38;5;124m\"\u001b[39m)\n\u001b[1;32m   6715\u001b[0m axis \u001b[38;5;241m=\u001b[39m \u001b[38;5;28mself\u001b[39m\u001b[38;5;241m.\u001b[39m_get_axis_number(axis)\n\u001b[0;32m-> 6717\u001b[0m \u001b[38;5;28;01mreturn\u001b[39;00m \u001b[43mDataFrameGroupBy\u001b[49m\u001b[43m(\u001b[49m\n\u001b[1;32m   6718\u001b[0m \u001b[43m    \u001b[49m\u001b[43mobj\u001b[49m\u001b[38;5;241;43m=\u001b[39;49m\u001b[38;5;28;43mself\u001b[39;49m\u001b[43m,\u001b[49m\n\u001b[1;32m   6719\u001b[0m \u001b[43m    \u001b[49m\u001b[43mkeys\u001b[49m\u001b[38;5;241;43m=\u001b[39;49m\u001b[43mby\u001b[49m\u001b[43m,\u001b[49m\n\u001b[1;32m   6720\u001b[0m \u001b[43m    \u001b[49m\u001b[43maxis\u001b[49m\u001b[38;5;241;43m=\u001b[39;49m\u001b[43maxis\u001b[49m\u001b[43m,\u001b[49m\n\u001b[1;32m   6721\u001b[0m \u001b[43m    \u001b[49m\u001b[43mlevel\u001b[49m\u001b[38;5;241;43m=\u001b[39;49m\u001b[43mlevel\u001b[49m\u001b[43m,\u001b[49m\n\u001b[1;32m   6722\u001b[0m \u001b[43m    \u001b[49m\u001b[43mas_index\u001b[49m\u001b[38;5;241;43m=\u001b[39;49m\u001b[43mas_index\u001b[49m\u001b[43m,\u001b[49m\n\u001b[1;32m   6723\u001b[0m \u001b[43m    \u001b[49m\u001b[43msort\u001b[49m\u001b[38;5;241;43m=\u001b[39;49m\u001b[43msort\u001b[49m\u001b[43m,\u001b[49m\n\u001b[1;32m   6724\u001b[0m \u001b[43m    \u001b[49m\u001b[43mgroup_keys\u001b[49m\u001b[38;5;241;43m=\u001b[39;49m\u001b[43mgroup_keys\u001b[49m\u001b[43m,\u001b[49m\n\u001b[1;32m   6725\u001b[0m \u001b[43m    \u001b[49m\u001b[43msqueeze\u001b[49m\u001b[38;5;241;43m=\u001b[39;49m\u001b[43msqueeze\u001b[49m\u001b[43m,\u001b[49m\n\u001b[1;32m   6726\u001b[0m \u001b[43m    \u001b[49m\u001b[43mobserved\u001b[49m\u001b[38;5;241;43m=\u001b[39;49m\u001b[43mobserved\u001b[49m\u001b[43m,\u001b[49m\n\u001b[1;32m   6727\u001b[0m \u001b[43m    \u001b[49m\u001b[43mdropna\u001b[49m\u001b[38;5;241;43m=\u001b[39;49m\u001b[43mdropna\u001b[49m\u001b[43m,\u001b[49m\n\u001b[1;32m   6728\u001b[0m \u001b[43m\u001b[49m\u001b[43m)\u001b[49m\n",
      "File \u001b[0;32m/home/hanl/miniconda3/envs/mytensor/lib/python3.9/site-packages/pandas/core/groupby/groupby.py:560\u001b[0m, in \u001b[0;36mBaseGroupBy.__init__\u001b[0;34m(self, obj, keys, axis, level, grouper, exclusions, selection, as_index, sort, group_keys, squeeze, observed, mutated, dropna)\u001b[0m\n\u001b[1;32m    557\u001b[0m \u001b[38;5;28;01mif\u001b[39;00m grouper \u001b[38;5;129;01mis\u001b[39;00m \u001b[38;5;28;01mNone\u001b[39;00m:\n\u001b[1;32m    558\u001b[0m     \u001b[38;5;28;01mfrom\u001b[39;00m \u001b[38;5;21;01mpandas\u001b[39;00m\u001b[38;5;21;01m.\u001b[39;00m\u001b[38;5;21;01mcore\u001b[39;00m\u001b[38;5;21;01m.\u001b[39;00m\u001b[38;5;21;01mgroupby\u001b[39;00m\u001b[38;5;21;01m.\u001b[39;00m\u001b[38;5;21;01mgrouper\u001b[39;00m \u001b[38;5;28;01mimport\u001b[39;00m get_grouper\n\u001b[0;32m--> 560\u001b[0m     grouper, exclusions, obj \u001b[38;5;241m=\u001b[39m \u001b[43mget_grouper\u001b[49m\u001b[43m(\u001b[49m\n\u001b[1;32m    561\u001b[0m \u001b[43m        \u001b[49m\u001b[43mobj\u001b[49m\u001b[43m,\u001b[49m\n\u001b[1;32m    562\u001b[0m \u001b[43m        \u001b[49m\u001b[43mkeys\u001b[49m\u001b[43m,\u001b[49m\n\u001b[1;32m    563\u001b[0m \u001b[43m        \u001b[49m\u001b[43maxis\u001b[49m\u001b[38;5;241;43m=\u001b[39;49m\u001b[43maxis\u001b[49m\u001b[43m,\u001b[49m\n\u001b[1;32m    564\u001b[0m \u001b[43m        \u001b[49m\u001b[43mlevel\u001b[49m\u001b[38;5;241;43m=\u001b[39;49m\u001b[43mlevel\u001b[49m\u001b[43m,\u001b[49m\n\u001b[1;32m    565\u001b[0m \u001b[43m        \u001b[49m\u001b[43msort\u001b[49m\u001b[38;5;241;43m=\u001b[39;49m\u001b[43msort\u001b[49m\u001b[43m,\u001b[49m\n\u001b[1;32m    566\u001b[0m \u001b[43m        \u001b[49m\u001b[43mobserved\u001b[49m\u001b[38;5;241;43m=\u001b[39;49m\u001b[43mobserved\u001b[49m\u001b[43m,\u001b[49m\n\u001b[1;32m    567\u001b[0m \u001b[43m        \u001b[49m\u001b[43mmutated\u001b[49m\u001b[38;5;241;43m=\u001b[39;49m\u001b[38;5;28;43mself\u001b[39;49m\u001b[38;5;241;43m.\u001b[39;49m\u001b[43mmutated\u001b[49m\u001b[43m,\u001b[49m\n\u001b[1;32m    568\u001b[0m \u001b[43m        \u001b[49m\u001b[43mdropna\u001b[49m\u001b[38;5;241;43m=\u001b[39;49m\u001b[38;5;28;43mself\u001b[39;49m\u001b[38;5;241;43m.\u001b[39;49m\u001b[43mdropna\u001b[49m\u001b[43m,\u001b[49m\n\u001b[1;32m    569\u001b[0m \u001b[43m    \u001b[49m\u001b[43m)\u001b[49m\n\u001b[1;32m    571\u001b[0m \u001b[38;5;28mself\u001b[39m\u001b[38;5;241m.\u001b[39mobj \u001b[38;5;241m=\u001b[39m obj\n\u001b[1;32m    572\u001b[0m \u001b[38;5;28mself\u001b[39m\u001b[38;5;241m.\u001b[39maxis \u001b[38;5;241m=\u001b[39m obj\u001b[38;5;241m.\u001b[39m_get_axis_number(axis)\n",
      "File \u001b[0;32m/home/hanl/miniconda3/envs/mytensor/lib/python3.9/site-packages/pandas/core/groupby/grouper.py:811\u001b[0m, in \u001b[0;36mget_grouper\u001b[0;34m(obj, key, axis, level, sort, observed, mutated, validate, dropna)\u001b[0m\n\u001b[1;32m    809\u001b[0m         in_axis, name, level, gpr \u001b[38;5;241m=\u001b[39m \u001b[38;5;28;01mFalse\u001b[39;00m, \u001b[38;5;28;01mNone\u001b[39;00m, gpr, \u001b[38;5;28;01mNone\u001b[39;00m\n\u001b[1;32m    810\u001b[0m     \u001b[38;5;28;01melse\u001b[39;00m:\n\u001b[0;32m--> 811\u001b[0m         \u001b[38;5;28;01mraise\u001b[39;00m \u001b[38;5;167;01mKeyError\u001b[39;00m(gpr)\n\u001b[1;32m    812\u001b[0m \u001b[38;5;28;01melif\u001b[39;00m \u001b[38;5;28misinstance\u001b[39m(gpr, Grouper) \u001b[38;5;129;01mand\u001b[39;00m gpr\u001b[38;5;241m.\u001b[39mkey \u001b[38;5;129;01mis\u001b[39;00m \u001b[38;5;129;01mnot\u001b[39;00m \u001b[38;5;28;01mNone\u001b[39;00m:\n\u001b[1;32m    813\u001b[0m     \u001b[38;5;66;03m# Add key to exclusions\u001b[39;00m\n\u001b[1;32m    814\u001b[0m     exclusions\u001b[38;5;241m.\u001b[39madd(gpr\u001b[38;5;241m.\u001b[39mkey)\n",
      "\u001b[0;31mKeyError\u001b[0m: 'groupHPD'"
     ]
    }
   ],
   "source": [
    "df_count_all = pd.DataFrame(df_type_filt[\"groupHPD\"].value_counts()).reset_index()\n",
    "df_count_all.columns = [\"groupHPD\", \"count_all\"]\n",
    "\n",
    "tmp_df = pd.merge(df_stayid_s,df_type_filt, how=\"inner\",on=\"stay_id\")\n",
    "tmp_df = tmp_df.groupby([\"groupHPD\",\"stayid_state\"]).agg({\"stay_id\":\"count\"}).reset_index()\n",
    "tmp_df = pd.merge(tmp_df,df_count_all, how=\"inner\",on=\"groupHPD\")\n",
    "tmp_df[\"percent(%)\"] = round(tmp_df[\"stay_id\"]/tmp_df[\"count_all\"]*100,2)\n",
    "tmp_df.sort_values([\"groupHPD\",'stayid_state'])"
   ]
  },
  {
   "cell_type": "code",
   "execution_count": null,
   "id": "4bb2e60f",
   "metadata": {
    "ExecuteTime": {
     "end_time": "2024-02-07T05:38:39.645075Z",
     "start_time": "2024-02-07T05:29:28.632Z"
    }
   },
   "outputs": [],
   "source": [
    "tmp_df[\"dataset\"] = \"MIMIC\"\n",
    "tmp_df.to_csv(\"./result/MIMIC_renal_recovery_extent.csv\",index=False)\n",
    "tmp_df.head()"
   ]
  },
  {
   "cell_type": "code",
   "execution_count": null,
   "id": "3d8cd936",
   "metadata": {
    "ExecuteTime": {
     "end_time": "2024-02-07T05:38:39.645761Z",
     "start_time": "2024-02-07T05:29:28.633Z"
    }
   },
   "outputs": [],
   "source": [
    "df_"
   ]
  },
  {
   "cell_type": "markdown",
   "id": "d84d56a2",
   "metadata": {},
   "source": [
    "# 恢复模式判定-时间"
   ]
  },
  {
   "cell_type": "code",
   "execution_count": null,
   "id": "2001c611",
   "metadata": {
    "ExecuteTime": {
     "end_time": "2024-02-07T05:38:39.646320Z",
     "start_time": "2024-02-07T05:29:28.634Z"
    }
   },
   "outputs": [],
   "source": [
    "df_ = df_cut[[\"stay_id\",\"state_change\"]].drop_duplicates()\n",
    "df_ = pd.merge(df_,df_time[[\"stay_id\",\"los_saaki\"]],how=\"inner\",on=\"stay_id\")\n",
    "\n",
    "df_.loc[(df_[\"state_change\"]==\"CB\") & (df_[\"los_saaki\"]<=48),\"stayid_state\"] = \"Transient AKI\"\n",
    "df_.loc[(df_[\"state_change\"]==\"CB\") & (df_[\"los_saaki\"]>48),\"stayid_state\"] = \"Persistent AKI\"\n",
    "df_.loc[(df_[\"state_change\"]==\"PB\"),\"stayid_state\"] = \"Persistent AKI\"\n",
    "df_.loc[(df_[\"state_change\"]==\"W\"),\"stayid_state\"] = \"Persistent AKI\"\n",
    "df_.loc[(df_[\"state_change\"]==\"S\"),\"stayid_state\"] = \"Persistent AKI\" #\"Persistent AKI with steady renal function\"\n",
    "df_stayid_s = df_\n",
    "df_stayid_s.head(1)"
   ]
  },
  {
   "cell_type": "code",
   "execution_count": null,
   "id": "05995a0b",
   "metadata": {},
   "outputs": [],
   "source": [
    "# 绘制表格\n",
    "\n",
    "columns = [\"groupHPD\",\"stayid_state\"]\n",
    "categorical = [\"stayid_state\"\n",
    "]\n",
    "df_demo_stat = TableOne(df_stayid_s, columns=columns,  categorical=categorical, groupby = [\"groupHPD\"], pval=True)\n",
    "df_demo_stat = pd.DataFrame(df_demo_stat.tableone).reset_index()\n",
    "df_demo_stat = df_demo_stat.droplevel(level=0, axis=1)\n",
    "df_demo_stat"
   ]
  },
  {
   "cell_type": "code",
   "execution_count": null,
   "id": "b2375293",
   "metadata": {
    "ExecuteTime": {
     "end_time": "2024-02-07T05:38:39.646834Z",
     "start_time": "2024-02-07T05:29:28.635Z"
    },
    "run_control": {
     "marked": true
    }
   },
   "outputs": [],
   "source": [
    "df_count_all = pd.DataFrame(df_type_filt[\"groupHPD\"].value_counts()).reset_index()\n",
    "df_count_all.columns = [\"groupHPD\", \"count_all\"]\n",
    "\n",
    "tmp_df = pd.merge(df_stayid_s,df_type_filt, how=\"inner\",on=\"stay_id\")\n",
    "tmp_df = tmp_df.groupby([\"groupHPD\",\"stayid_state\"]).agg({\"stay_id\":\"count\"}).reset_index()\n",
    "tmp_df = pd.merge(tmp_df,df_count_all, how=\"inner\",on=\"groupHPD\")\n",
    "tmp_df[\"percent(%)\"] = round(tmp_df[\"stay_id\"]/tmp_df[\"count_all\"]*100,2)\n",
    "tmp_df.sort_values([\"groupHPD\",'stayid_state'])"
   ]
  },
  {
   "cell_type": "code",
   "execution_count": null,
   "id": "088459b0",
   "metadata": {
    "ExecuteTime": {
     "end_time": "2024-02-07T05:38:39.647409Z",
     "start_time": "2024-02-07T05:29:28.636Z"
    }
   },
   "outputs": [],
   "source": [
    "tmp_df[\"dataset\"] = \"MIMIC\"\n",
    "tmp_df.to_csv(\"./result/MIMIC_renal_recovery_time.csv\",index=False)\n",
    "tmp_df.head()"
   ]
  }
 ],
 "metadata": {
  "kernelspec": {
   "display_name": "Python [conda env:mytensor]",
   "language": "python",
   "name": "conda-env-mytensor-py"
  },
  "language_info": {
   "codemirror_mode": {
    "name": "ipython",
    "version": 3
   },
   "file_extension": ".py",
   "mimetype": "text/x-python",
   "name": "python",
   "nbconvert_exporter": "python",
   "pygments_lexer": "ipython3",
   "version": "3.9.12"
  },
  "toc": {
   "base_numbering": 1,
   "nav_menu": {},
   "number_sections": true,
   "sideBar": true,
   "skip_h1_title": false,
   "title_cell": "Table of Contents",
   "title_sidebar": "Contents",
   "toc_cell": false,
   "toc_position": {
    "height": "calc(100% - 180px)",
    "left": "10px",
    "top": "150px",
    "width": "164.987px"
   },
   "toc_section_display": true,
   "toc_window_display": true
  },
  "varInspector": {
   "cols": {
    "lenName": 16,
    "lenType": 16,
    "lenVar": 40
   },
   "kernels_config": {
    "python": {
     "delete_cmd_postfix": "",
     "delete_cmd_prefix": "del ",
     "library": "var_list.py",
     "varRefreshCmd": "print(var_dic_list())"
    },
    "r": {
     "delete_cmd_postfix": ") ",
     "delete_cmd_prefix": "rm(",
     "library": "var_list.r",
     "varRefreshCmd": "cat(var_dic_list()) "
    }
   },
   "types_to_exclude": [
    "module",
    "function",
    "builtin_function_or_method",
    "instance",
    "_Feature"
   ],
   "window_display": false
  }
 },
 "nbformat": 4,
 "nbformat_minor": 5
}
