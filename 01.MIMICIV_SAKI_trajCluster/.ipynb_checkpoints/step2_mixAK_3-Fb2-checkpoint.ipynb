{
 "cells": [
  {
   "cell_type": "code",
   "execution_count": null,
   "id": "9c1788d6",
   "metadata": {},
   "outputs": [],
   "source": [
    "#  longitudinal LCA， GBTM 两个方法是否可以作为方法验证"
   ]
  },
  {
   "cell_type": "code",
   "execution_count": 1,
   "id": "df75f0bb",
   "metadata": {
    "ExecuteTime": {
     "end_time": "2023-09-22T01:59:29.286712Z",
     "start_time": "2023-09-22T01:50:33.279Z"
    }
   },
   "outputs": [
    {
     "name": "stderr",
     "output_type": "stream",
     "text": [
      "Loading required package: colorspace\n",
      "\n",
      "Loading required package: lme4\n",
      "\n",
      "Loading required package: Matrix\n",
      "\n",
      "\n",
      "### Mixture of methods including mixtures\n",
      "### Arnost Komarek\n",
      "\n",
      "### See citation(\"mixAK\") or toBibtex(citation(\"mixAK\")) for the best way to cite\n",
      "### the package if you find it useful.\n",
      "\n",
      "\n",
      "\n"
     ]
    }
   ],
   "source": [
    "library(mixAK)\n",
    "library(coda)\n",
    "library(lme4)"
   ]
  },
  {
   "cell_type": "markdown",
   "id": "a523406f",
   "metadata": {},
   "source": [
    "# data"
   ]
  },
  {
   "cell_type": "code",
   "execution_count": 3,
   "id": "ef1d6484",
   "metadata": {
    "ExecuteTime": {
     "end_time": "2023-09-22T01:59:55.035469Z",
     "start_time": "2023-09-22T01:51:03.302Z"
    }
   },
   "outputs": [],
   "source": [
    "df_fea <- read.csv(\"sk_feature_timescale_Fb2.csv\",as.is = TRUE)\n",
    "df_fea <- as.data.frame(df_fea)\n",
    "df <- subset(df_fea,select=c(stay_id,time,bun,creatinine,urineoutput, crea_divide_basecrea))\n",
    "\n",
    "fea_lst = c(\"bun\",\"creatinine\",\"urineoutput\",\"crea_divide_basecrea\")\n",
    "df_y = df[,fea_lst]\n",
    "\n",
    "ip <- getProfiles(t = \"time\", y = fea_lst, id = \"stay_id\", data = df)"
   ]
  },
  {
   "cell_type": "markdown",
   "id": "24edb5d0",
   "metadata": {},
   "source": [
    "# model"
   ]
  },
  {
   "cell_type": "code",
   "execution_count": 3,
   "id": "63a8554a",
   "metadata": {
    "ExecuteTime": {
     "end_time": "2023-04-21T12:49:47.264086Z",
     "start_time": "2023-04-21T07:54:41.081Z"
    },
    "run_control": {
     "marked": true
    }
   },
   "outputs": [
    {
     "name": "stdout",
     "output_type": "stream",
     "text": [
      "\n",
      "Chain number 1\n",
      "==============\n",
      "MCMC sampling started on Fri Apr 21 16:14:55 2023.\n",
      "Burn-in iteration 50\n",
      "Iteration 1015202530354045505560657075808590951010111112121313141415151616171718181919202050\n",
      "MCMC sampling finished on Fri Apr 21 17:47:51 2023.\n",
      "MCMC Iteration (simple re-labelling) 2000\n",
      "Stephens' re-labelling iteration (number of labelling changes): 1 (0)  \n",
      "\n",
      "Chain number 1\n",
      "==============\n",
      "MCMC sampling started on Fri Apr 21 17:56:30 2023.\n",
      "Burn-in iteration 50\n",
      "Iteration 1015202530354045505560657075808590951010111112121313141415151616171718181919202050\n",
      "MCMC sampling finished on Fri Apr 21 19:33:08 2023.\n",
      "MCMC Iteration (simple re-labelling) 2000\n",
      "Stephens' re-labelling iteration (number of labelling changes): 1 (0)  \n",
      "\n",
      "Chain number 1\n",
      "==============\n",
      "MCMC sampling started on Fri Apr 21 19:45:06 2023.\n",
      "Burn-in iteration 50\n",
      "Iteration 101520253035404550550\n",
      "MCMC sampling finished on Fri Apr 21 20:11:50 2023.\n",
      "MCMC Iteration (simple re-labelling) 500\n",
      "Stephens' re-labelling iteration (number of labelling changes): 1 (0)  \n",
      "\n",
      "Chain number 1\n",
      "==============\n",
      "MCMC sampling started on Fri Apr 21 20:16:03 2023.\n",
      "Burn-in iteration 50\n",
      "Iteration 101520253035404550550\n",
      "MCMC sampling finished on Fri Apr 21 20:44:03 2023.\n",
      "MCMC Iteration (simple re-labelling) 500\n",
      "Stephens' re-labelling iteration (number of labelling changes): 1 (0)  \n"
     ]
    }
   ],
   "source": [
    "k=4 #The number of variables in the model\n",
    "ran_int_status = T #calculate random intercepts and slopes. This means that for a 2 cluster solution two intercepts and two slopes will be calculated\n",
    "ran_eff_num <- 2*length(k) #The number of random effects will be equal to two times the number of variables that will be used in the clustering.\n",
    "\n",
    "mod2 <- GLMM_MCMC(y =df_y, \n",
    "                 dist = rep(\"gaussian\",1), \n",
    "                 id = df[, \"stay_id\"],\n",
    "                 x = list(bun=\"empty\", creatinine=\"empty\", urineoutput=\"empty\", crea_divide_basecrea=\"empty\"),\n",
    "                 z = list(bun=df[, \"time\"], creatinine=df[, \"time\"], urineoutput=df[, \"time\"], crea_divide_basecrea=df[, \"time\"]),\n",
    "                 random.intercept = rep(ran_int_status, ran_eff_num/2),prior.b = list(Kmax = 2),\n",
    "                 nMCMC = c(burn = 50, keep = 2000, thin = 50, info = 50),\n",
    "                 parallel = TRUE, PED = F);\n",
    "mod2 <- NMixRelabel(mod2, type = \"stephens\", keep.comp.prob = TRUE)\n",
    "\n",
    "mod3 <- GLMM_MCMC(y =df_y, \n",
    "                  dist = rep(\"gaussian\",1), \n",
    "                  id = df[, \"stay_id\"],\n",
    "                  x = list(bun=\"empty\", creatinine=\"empty\", urineoutput=\"empty\", crea_divide_basecrea=\"empty\"),\n",
    "                  z = list(bun=df[, \"time\"], creatinine=df[, \"time\"], urineoutput=df[, \"time\"], crea_divide_basecrea=df[, \"time\"]),\n",
    "                  random.intercept = rep(ran_int_status, ran_eff_num/2),prior.b = list(Kmax = 3),\n",
    "                  nMCMC = c(burn = 50, keep = 2000, thin = 50, info = 50),\n",
    "                  parallel = TRUE, PED = F);\n",
    "mod3 <- NMixRelabel(mod3, type = \"stephens\", keep.comp.prob = TRUE)\n",
    "\n",
    "mod4 <- GLMM_MCMC(y =df_y, \n",
    "                  dist = rep(\"gaussian\",1), \n",
    "                  id = df[, \"stay_id\"],\n",
    "                  x = list(bun=\"empty\", creatinine=\"empty\", urineoutput=\"empty\", crea_divide_basecrea=\"empty\"),\n",
    "                  z = list(bun=df[, \"time\"], creatinine=df[, \"time\"], urineoutput=df[, \"time\"], crea_divide_basecrea=df[, \"time\"]),\n",
    "                  random.intercept = rep(ran_int_status, ran_eff_num/2),prior.b = list(Kmax = 4),\n",
    "                  nMCMC = c(burn = 50, keep = 500, thin = 50, info = 50),\n",
    "                  parallel = TRUE, PED = F);\n",
    "mod4 <- NMixRelabel(mod4, type = \"stephens\", keep.comp.prob = TRUE)\n",
    "\n",
    "mod5 <- GLMM_MCMC(y =df_y, \n",
    "                  dist = rep(\"gaussian\",1), \n",
    "                  id = df[, \"stay_id\"],\n",
    "                  x = list(bun=\"empty\", creatinine=\"empty\", urineoutput=\"empty\", crea_divide_basecrea=\"empty\"),\n",
    "                  z = list(bun=df[, \"time\"], creatinine=df[, \"time\"], urineoutput=df[, \"time\"], crea_divide_basecrea=df[, \"time\"]),\n",
    "                  random.intercept = rep(ran_int_status, ran_eff_num/2),prior.b = list(Kmax = 5),\n",
    "                  nMCMC = c(burn = 50, keep = 500, thin = 50, info = 50),\n",
    "                  parallel = TRUE, PED = F);\n",
    "mod5 <- NMixRelabel(mod5, type = \"stephens\", keep.comp.prob = TRUE)\n"
   ]
  },
  {
   "cell_type": "markdown",
   "id": "c78ee243",
   "metadata": {},
   "source": [
    "# model stat"
   ]
  },
  {
   "cell_type": "code",
   "execution_count": 4,
   "id": "87545334",
   "metadata": {
    "ExecuteTime": {
     "end_time": "2023-04-21T12:49:56.654191Z",
     "start_time": "2023-04-21T07:54:41.085Z"
    }
   },
   "outputs": [
    {
     "name": "stdout",
     "output_type": "stream",
     "text": [
      "[1] 2\n",
      "[1] 3\n",
      "[1] 4\n",
      "[1] 5\n"
     ]
    },
    {
     "data": {
      "text/html": [
       "<table class=\"dataframe\">\n",
       "<caption>A data.frame: 4 × 4</caption>\n",
       "<thead>\n",
       "\t<tr><th></th><th scope=col>clusternum</th><th scope=col>mcmc_mus_failed</th><th scope=col>uncertainly_clustered_individuals</th><th scope=col>deviance</th></tr>\n",
       "\t<tr><th></th><th scope=col>&lt;dbl&gt;</th><th scope=col>&lt;dbl&gt;</th><th scope=col>&lt;dbl&gt;</th><th scope=col>&lt;dbl&gt;</th></tr>\n",
       "</thead>\n",
       "<tbody>\n",
       "\t<tr><th scope=row>2</th><td>3</td><td>0.000</td><td>383</td><td>1462740</td></tr>\n",
       "\t<tr><th scope=row>1</th><td>2</td><td>0.000</td><td>112</td><td>1464777</td></tr>\n",
       "\t<tr><th scope=row>3</th><td>4</td><td>0.750</td><td> 95</td><td>1844490</td></tr>\n",
       "\t<tr><th scope=row>4</th><td>5</td><td>0.775</td><td>360</td><td>1885722</td></tr>\n",
       "</tbody>\n",
       "</table>\n"
      ],
      "text/latex": [
       "A data.frame: 4 × 4\n",
       "\\begin{tabular}{r|llll}\n",
       "  & clusternum & mcmc\\_mus\\_failed & uncertainly\\_clustered\\_individuals & deviance\\\\\n",
       "  & <dbl> & <dbl> & <dbl> & <dbl>\\\\\n",
       "\\hline\n",
       "\t2 & 3 & 0.000 & 383 & 1462740\\\\\n",
       "\t1 & 2 & 0.000 & 112 & 1464777\\\\\n",
       "\t3 & 4 & 0.750 &  95 & 1844490\\\\\n",
       "\t4 & 5 & 0.775 & 360 & 1885722\\\\\n",
       "\\end{tabular}\n"
      ],
      "text/markdown": [
       "\n",
       "A data.frame: 4 × 4\n",
       "\n",
       "| <!--/--> | clusternum &lt;dbl&gt; | mcmc_mus_failed &lt;dbl&gt; | uncertainly_clustered_individuals &lt;dbl&gt; | deviance &lt;dbl&gt; |\n",
       "|---|---|---|---|---|\n",
       "| 2 | 3 | 0.000 | 383 | 1462740 |\n",
       "| 1 | 2 | 0.000 | 112 | 1464777 |\n",
       "| 3 | 4 | 0.750 |  95 | 1844490 |\n",
       "| 4 | 5 | 0.775 | 360 | 1885722 |\n",
       "\n"
      ],
      "text/plain": [
       "  clusternum mcmc_mus_failed uncertainly_clustered_individuals deviance\n",
       "2 3          0.000           383                               1462740 \n",
       "1 2          0.000           112                               1464777 \n",
       "3 4          0.750            95                               1844490 \n",
       "4 5          0.775           360                               1885722 "
      ]
     },
     "metadata": {},
     "output_type": "display_data"
    },
    {
     "name": "stdout",
     "output_type": "stream",
     "text": [
      "[1] 2 3 4 5\n",
      "[1] 0.004816849 0.000000000 0.902519944 1.000000000\n"
     ]
    }
   ],
   "source": [
    "#THe following script is dedicated to the model assessment\n",
    "Devs1 <-  list() #model deviance list\n",
    "mcmc1_convergence<-list() #mcmc convergence list\n",
    "analysisvars<-list();\n",
    "mod_objects <- list(mod2,mod3,mod4,mod5)# some of models gathered in a list object\n",
    "counter=1\n",
    "for (i in 1:length(mod_objects)){\n",
    "  sim=i\n",
    "  mod_object <- mod_objects[[i]] #pick one simulation output (one clustering solution)\n",
    "  K=mod_object$prior.b$Kmax #find number of cluster\n",
    "  Devs1[[sim]] <- mod_object[[\"Deviance\"]] #extract model deviance \n",
    "  mus_summary<-apply(NMixChainComp(mod_object, relabel = T, param = \"mu_b\"),2,function(x) autocorr(mcmc(x),lags = 1)); #calculate autocorrelation per mixed effect parameter. High autocorrelation suggests lack of MCMC convergence\n",
    "  mus_summary1<-length(which(mus_summary>.85))/length(mus_summary) #calculate percentage of chains with bad convergence to penalize during the model assessment\n",
    "  groupMed <- apply((mod_object$quant.comp.prob[[\"50%\"]])/2, 1, which.max) #calculate median clustering\n",
    "  pHPD <- HPDinterval(mcmc(mod_object$comp.prob)) #add uncertainty measures in the clustering procedure\n",
    "  pHPDlower <- matrix(pHPD[, \"lower\"], ncol = K, byrow = TRUE) #calculate uncertainly classified observations\n",
    "  pHPDupper <- matrix(pHPD[, \"upper\"], ncol = K, byrow = TRUE) #calculate uncertainly classified observations\n",
    "  rownames(pHPDlower) <- rownames(pHPDupper) <- names(ip) #calculate uncertainly classified observations\n",
    "  groupHPD <- groupMed #calculate uncertainly classified observations\n",
    "  for (i in 1:K){ groupHPD[groupHPD == i & pHPDlower[, i] <= 0.5] <- K+1} #calculate uncertainly classified observations\n",
    "  mcmc1_convergence<-rbind(mcmc1_convergence, c(K,mus_summary1,\n",
    "                     ifelse(!is.na(match(K+1,names(table(groupHPD)))),table(groupHPD)[which(names(table(groupHPD))==K+1)],0))) #summarise the data apart from the deviance in a list object \n",
    "  print(unlist(mcmc1_convergence[counter]))\n",
    "  #rm(list= ls()[!(ls() %in% c('thelist',\"Devs1\", \"analysisvars\",\"mcmc1_convergence\",\"counter\"))])\n",
    "  counter=counter+1;\n",
    "  gc();\n",
    "}\n",
    "#summarise all the information and give names to the quality measure outputs\n",
    "mcmc1_convergence<-data.frame(mcmc1_convergence)\n",
    "mcmc1_convergence[,1]<-unlist(mcmc1_convergence[,1])\n",
    "mcmc1_convergence[,2]<-unlist(mcmc1_convergence[,2])\n",
    "mcmc1_convergence[,3]<-unlist(mcmc1_convergence[,3])\n",
    "mcmc1_convergence$deviance<-unlist(lapply(Devs1,function(x) ifelse(length(x)>1,mean(x),NA)))\n",
    "mcmc1_convergence$clusternum<-mcmc1_convergence$X1\n",
    "colnames(mcmc1_convergence)[2]<-\"mcmc_mus_failed\"\n",
    "colnames(mcmc1_convergence)[3]<-\"uncertainly_clustered_individuals\"\n",
    "mcmc_convergence <- data.frame(mcmc1_convergence[,c(\"clusternum\",\"mcmc_mus_failed\",\"uncertainly_clustered_individuals\",\"deviance\")])\n",
    "\n",
    "#quality measure scaling function. This function normalize each quality measure between 0 and 1 so that all qualtiy measures have similar importance\n",
    "scale<-function(thevar) {(((1-0)/(max(thevar)-min(thevar)))*(thevar-max(thevar))+1)}\n",
    "#ordering of clustering solutions after the quality assessment. SInce the data were simulated as two clusters, the 2 cluster solution is the most optimal for the unsupervised separation of the simulated longitudinal dataset.\n",
    "mcmc_convergence[order(sqrt(scale(mcmc_convergence$deviance)^2+scale(mcmc_convergence$mcmc_mus_failed)^2)),]\n",
    "#schematic representation of quality assessment. The solution that is closest to 0 in the plot is the most optimal.\n",
    "#The euclidean distance is used to decide the closest to zero solution accounting for deviance and MCMC chains that fail to converge\n",
    "#plot(scale(mcmc_convergence$deviance), scale(mcmc_convergence$mcmc_mus_failed))\n",
    "print(mcmc_convergence$clusternum)\n",
    "print(scale(mcmc_convergence$deviance))"
   ]
  },
  {
   "cell_type": "code",
   "execution_count": 1,
   "id": "ba4fe312",
   "metadata": {
    "ExecuteTime": {
     "end_time": "2023-09-14T11:58:49.850522Z",
     "start_time": "2023-09-14T11:50:04.581Z"
    }
   },
   "outputs": [
    {
     "data": {
      "text/html": [
       "<table class=\"dataframe\">\n",
       "<caption>A data.frame: 4 × 4</caption>\n",
       "<thead>\n",
       "\t<tr><th scope=col>clusternum</th><th scope=col>mcmc_mus_failed</th><th scope=col>uncertainly_clustered_individuals</th><th scope=col>deviance</th></tr>\n",
       "\t<tr><th scope=col>&lt;dbl&gt;</th><th scope=col>&lt;dbl&gt;</th><th scope=col>&lt;dbl&gt;</th><th scope=col>&lt;dbl&gt;</th></tr>\n",
       "</thead>\n",
       "<tbody>\n",
       "\t<tr><td>3</td><td>0.00</td><td>383</td><td>1462740</td></tr>\n",
       "\t<tr><td>2</td><td>0.00</td><td>112</td><td>1464777</td></tr>\n",
       "\t<tr><td>4</td><td>0.75</td><td> 95</td><td>1844490</td></tr>\n",
       "\t<tr><td>5</td><td>0.77</td><td>360</td><td>1885722</td></tr>\n",
       "</tbody>\n",
       "</table>\n"
      ],
      "text/latex": [
       "A data.frame: 4 × 4\n",
       "\\begin{tabular}{llll}\n",
       " clusternum & mcmc\\_mus\\_failed & uncertainly\\_clustered\\_individuals & deviance\\\\\n",
       " <dbl> & <dbl> & <dbl> & <dbl>\\\\\n",
       "\\hline\n",
       "\t 3 & 0.00 & 383 & 1462740\\\\\n",
       "\t 2 & 0.00 & 112 & 1464777\\\\\n",
       "\t 4 & 0.75 &  95 & 1844490\\\\\n",
       "\t 5 & 0.77 & 360 & 1885722\\\\\n",
       "\\end{tabular}\n"
      ],
      "text/markdown": [
       "\n",
       "A data.frame: 4 × 4\n",
       "\n",
       "| clusternum &lt;dbl&gt; | mcmc_mus_failed &lt;dbl&gt; | uncertainly_clustered_individuals &lt;dbl&gt; | deviance &lt;dbl&gt; |\n",
       "|---|---|---|---|\n",
       "| 3 | 0.00 | 383 | 1462740 |\n",
       "| 2 | 0.00 | 112 | 1464777 |\n",
       "| 4 | 0.75 |  95 | 1844490 |\n",
       "| 5 | 0.77 | 360 | 1885722 |\n",
       "\n"
      ],
      "text/plain": [
       "  clusternum mcmc_mus_failed uncertainly_clustered_individuals deviance\n",
       "1 3          0.00            383                               1462740 \n",
       "2 2          0.00            112                               1464777 \n",
       "3 4          0.75             95                               1844490 \n",
       "4 5          0.77            360                               1885722 "
      ]
     },
     "metadata": {},
     "output_type": "display_data"
    }
   ],
   "source": [
    "clusternum <- c(3,2,4,5)\n",
    "mcmc_mus_failed <- c(0, 0, 0.75,0.77)\n",
    "uncertainly_clustered_individuals <- c(383, 112, 95, 360)\n",
    "deviance <- c(1462740, 1464777, 1844490, 1885722)\n",
    "df <- data.frame(clusternum = clusternum, mcmc_mus_failed = mcmc_mus_failed, uncertainly_clustered_individuals = uncertainly_clustered_individuals,deviance=deviance)\n",
    "df"
   ]
  },
  {
   "cell_type": "code",
   "execution_count": 44,
   "id": "48dcdc52",
   "metadata": {
    "ExecuteTime": {
     "end_time": "2023-09-14T13:46:51.702140Z",
     "start_time": "2023-09-14T13:38:06.374Z"
    }
   },
   "outputs": [
    {
     "data": {
      "text/html": [
       "<strong>png:</strong> 2"
      ],
      "text/latex": [
       "\\textbf{png:} 2"
      ],
      "text/markdown": [
       "**png:** 2"
      ],
      "text/plain": [
       "png \n",
       "  2 "
      ]
     },
     "metadata": {},
     "output_type": "display_data"
    },
    {
     "data": {
      "text/html": [
       "<table class=\"dataframe\">\n",
       "<caption>A data.frame: 4 × 5</caption>\n",
       "<thead>\n",
       "\t<tr><th></th><th scope=col>clusternum</th><th scope=col>mcmc_mus_failed</th><th scope=col>uncertainly_clustered_individuals</th><th scope=col>deviance</th><th scope=col>v</th></tr>\n",
       "\t<tr><th></th><th scope=col>&lt;dbl&gt;</th><th scope=col>&lt;dbl&gt;</th><th scope=col>&lt;dbl&gt;</th><th scope=col>&lt;dbl&gt;</th><th scope=col>&lt;dbl&gt;</th></tr>\n",
       "</thead>\n",
       "<tbody>\n",
       "\t<tr><th scope=row>1</th><td>3</td><td>0.00</td><td>383</td><td>1462740</td><td>0.000000000</td></tr>\n",
       "\t<tr><th scope=row>2</th><td>2</td><td>0.00</td><td>112</td><td>1464777</td><td>0.004815808</td></tr>\n",
       "\t<tr><th scope=row>3</th><td>4</td><td>0.75</td><td> 95</td><td>1844490</td><td>1.327881834</td></tr>\n",
       "\t<tr><th scope=row>4</th><td>5</td><td>0.77</td><td>360</td><td>1885722</td><td>1.414213562</td></tr>\n",
       "</tbody>\n",
       "</table>\n"
      ],
      "text/latex": [
       "A data.frame: 4 × 5\n",
       "\\begin{tabular}{r|lllll}\n",
       "  & clusternum & mcmc\\_mus\\_failed & uncertainly\\_clustered\\_individuals & deviance & v\\\\\n",
       "  & <dbl> & <dbl> & <dbl> & <dbl> & <dbl>\\\\\n",
       "\\hline\n",
       "\t1 & 3 & 0.00 & 383 & 1462740 & 0.000000000\\\\\n",
       "\t2 & 2 & 0.00 & 112 & 1464777 & 0.004815808\\\\\n",
       "\t3 & 4 & 0.75 &  95 & 1844490 & 1.327881834\\\\\n",
       "\t4 & 5 & 0.77 & 360 & 1885722 & 1.414213562\\\\\n",
       "\\end{tabular}\n"
      ],
      "text/markdown": [
       "\n",
       "A data.frame: 4 × 5\n",
       "\n",
       "| <!--/--> | clusternum &lt;dbl&gt; | mcmc_mus_failed &lt;dbl&gt; | uncertainly_clustered_individuals &lt;dbl&gt; | deviance &lt;dbl&gt; | v &lt;dbl&gt; |\n",
       "|---|---|---|---|---|---|\n",
       "| 1 | 3 | 0.00 | 383 | 1462740 | 0.000000000 |\n",
       "| 2 | 2 | 0.00 | 112 | 1464777 | 0.004815808 |\n",
       "| 3 | 4 | 0.75 |  95 | 1844490 | 1.327881834 |\n",
       "| 4 | 5 | 0.77 | 360 | 1885722 | 1.414213562 |\n",
       "\n"
      ],
      "text/plain": [
       "  clusternum mcmc_mus_failed uncertainly_clustered_individuals deviance\n",
       "1 3          0.00            383                               1462740 \n",
       "2 2          0.00            112                               1464777 \n",
       "3 4          0.75             95                               1844490 \n",
       "4 5          0.77            360                               1885722 \n",
       "  v          \n",
       "1 0.000000000\n",
       "2 0.004815808\n",
       "3 1.327881834\n",
       "4 1.414213562"
      ]
     },
     "metadata": {},
     "output_type": "display_data"
    }
   ],
   "source": [
    "pdf(\"mimic_cluster_number_select.pdf\")\n",
    "scale<-function(thevar) {(((1-0)/(max(thevar)-min(thevar)))*(thevar-max(thevar))+1)}\n",
    "df[\"v\"] <- sqrt(scale(df$deviance)^2+scale(df$mcmc_mus_failed)^2)\n",
    "df <- df[order(df$clusternum),]\n",
    "plot(df$clusternum, df$v, type = \"o\", main = \"MIMIC\",cex=2,lwd=2, xlab = \"Number of clusters\", ylab = \"ED(cluster means with high autocorrelation, deviance)\",cex.axis = 1.5,cex.lab = 1.5, cex.main=1.8) # (cluster means with high autocorrelation, model deviance)\n",
    "abline(v = 3, col = \"red\", lty = \"longdash\",cex=2, lwd=1)\n",
    "text(x = 4, y = 0.05, labels = \"Optimal number of clusters: 3\",cex=1.5)\n",
    "dev.off()\n",
    "df[order(df$v),]"
   ]
  },
  {
   "cell_type": "code",
   "execution_count": null,
   "id": "7b95bd86",
   "metadata": {},
   "outputs": [],
   "source": [
    "\"High autocorrelation suggests lack of MCMC convergence\" 这句话的意思是：高自相关性表明蒙特卡罗马尔可夫链（MCMC）未收敛。\n",
    "\n",
    "在蒙特卡罗马尔可夫链中，自相关性是指链中相邻状态之间的相关性。如果自相关性很高，即当前状态与前一状态之间存在较强的相关性，那么意味着链的采样过程不够有效，状态转移较慢，无法达到收敛。\n",
    "\n",
    "收敛是指蒙特卡罗马尔可夫链在采样过程中逐渐趋于稳定状态，即采样的结果不再随时间变化。当链收敛时，采样的样本可以代表所关注的概率分布。\n",
    "\n",
    "因此，这句话的含义是，高自相关性意味着蒙特卡罗马尔可夫链未能达到收敛状态。这可能是由于采样过程不够充分或存在其他问题，导致链中的状态变化缓慢，无法有效地探索概率分布。在MCMC分析中，高自相关性通常被认为是不可取的，因为它会导致采样结果的自相关性较高，从而影响了对概率分布的准确估计。为了获得更好的结果，需要采取调整MCMC算法参数或改进采样策略的措施，以促进收敛。"
   ]
  },
  {
   "cell_type": "code",
   "execution_count": null,
   "id": "808cbc64",
   "metadata": {},
   "outputs": [],
   "source": [
    "#\"mcmc_mus_failed\":\n",
    "#\"uncertainly_clustered_individuals\":\n",
    "#\"deviance\":\n",
    "\n",
    "#最佳聚类数选择：The euclidean distance is used to decide the closest to zero solution accounting for deviance and MCMC chains that fail to converge;schematic representation of quality assessment. The solution that is closest to 0 in the plot is the most optimal."
   ]
  },
  {
   "cell_type": "code",
   "execution_count": null,
   "id": "ba876da7",
   "metadata": {},
   "outputs": [],
   "source": []
  },
  {
   "cell_type": "code",
   "execution_count": 5,
   "id": "e1856065",
   "metadata": {
    "ExecuteTime": {
     "end_time": "2023-04-21T12:49:56.667667Z",
     "start_time": "2023-04-21T07:54:41.086Z"
    }
   },
   "outputs": [
    {
     "ename": "ERROR",
     "evalue": "Error in parse(text = x, srcfile = src): <text>:1:5: unexpected '!'\n1: stop!\n        ^\n",
     "output_type": "error",
     "traceback": [
      "Error in parse(text = x, srcfile = src): <text>:1:5: unexpected '!'\n1: stop!\n        ^\nTraceback:\n"
     ]
    }
   ],
   "source": [
    "stop!"
   ]
  },
  {
   "cell_type": "markdown",
   "id": "8bb7804d",
   "metadata": {
    "ExecuteTime": {
     "end_time": "2022-11-25T08:11:30.765483Z",
     "start_time": "2022-11-25T08:03:55.298Z"
    }
   },
   "source": [
    "# Observed longitudinal profiles by clusters"
   ]
  },
  {
   "cell_type": "code",
   "execution_count": 6,
   "id": "887b9f3d",
   "metadata": {
    "ExecuteTime": {
     "end_time": "2023-04-21T12:51:53.765585Z",
     "start_time": "2023-04-21T12:32:04.904Z"
    }
   },
   "outputs": [
    {
     "name": "stdout",
     "output_type": "stream",
     "text": [
      "             [,1]         [,2]         [,3]\n",
      "[1,] 0.9986357694 0.0008051527 4.756366e-04\n",
      "[2,] 0.0261808287 0.9736572112 1.418512e-04\n",
      "[3,] 0.0002574512 0.9997410302 1.342739e-06\n"
     ]
    },
    {
     "data": {
      "text/plain": [
       "groupMean\n",
       "   1    2    3 \n",
       "1298 3055  360 "
      ]
     },
     "metadata": {},
     "output_type": "display_data"
    }
   ],
   "source": [
    "f_mod <- mod3\n",
    "\n",
    "groupMean <- apply(f_mod$poster.comp.prob, 1, which.max)\n",
    "pMean <- apply(f_mod$poster.comp.prob, 1, max)\n",
    "print(f_mod$quant.comp.prob[[\"50%\"]][1:3, ])\n",
    "table(groupMean)"
   ]
  },
  {
   "cell_type": "code",
   "execution_count": 7,
   "id": "094b60a2",
   "metadata": {
    "ExecuteTime": {
     "end_time": "2023-04-21T12:51:55.739303Z",
     "start_time": "2023-04-21T12:32:06.884Z"
    }
   },
   "outputs": [
    {
     "data": {
      "text/plain": [
       "         groupMed\n",
       "groupMean    1    2    3\n",
       "        1 1296    2    0\n",
       "        2    0 3055    0\n",
       "        3    3    0  357"
      ]
     },
     "metadata": {},
     "output_type": "display_data"
    }
   ],
   "source": [
    "groupMed <- apply(f_mod$quant.comp.prob[[\"50%\"]], 1, which.max)\n",
    "pMed <- apply(f_mod$quant.comp.prob[[\"50%\"]], 1, max)\n",
    "#table(groupMed)\n",
    "table(groupMean, groupMed)"
   ]
  },
  {
   "cell_type": "code",
   "execution_count": 8,
   "id": "99f996b0",
   "metadata": {
    "ExecuteTime": {
     "end_time": "2023-04-21T12:52:04.709161Z",
     "start_time": "2023-04-21T12:32:09.732Z"
    }
   },
   "outputs": [],
   "source": [
    "#TAB <- table(df$stay_id)\n",
    "#df$groupHPD <- factor(rep(groupHPD, TAB), exclude = NULL)\n",
    "TAB <- table(df_fea$stay_id)\n",
    "df_fea$groupHPD <- factor(rep(groupMean, TAB), exclude = NULL)\n",
    "write.csv(x = df_fea, file = \"./df_mixAK_fea4_C3.csv\", row.names = FALSE)"
   ]
  },
  {
   "cell_type": "markdown",
   "id": "dbed4a1c",
   "metadata": {},
   "source": [
    "# plot "
   ]
  },
  {
   "cell_type": "code",
   "execution_count": null,
   "id": "3daa044a",
   "metadata": {
    "ExecuteTime": {
     "end_time": "2023-04-21T12:49:56.677537Z",
     "start_time": "2023-04-21T07:54:41.093Z"
    },
    "run_control": {
     "marked": true
    }
   },
   "outputs": [],
   "source": [
    "ip <- getProfiles(t = \"time\", y = c('urineoutput', 'bun', 'creatinine', \"crea_divide_basecrea\", \"groupHPD\"), id = \"stay_id\", data = df_fea)\n",
    "GCOL <- rainbow_hcl(3, start = 220, end = 40, c = 50, l = 60)[c(2, 3, 1)]\n",
    "names(GCOL) <- levels(df_fea$groupHPD)\n",
    "\n",
    "plotProfiles(ip = ip, data = df_fea, var = \"bun\", tvar = \"time\", gvar = \"groupHPD\", xlab = \"Time (6-hour window)\",\n",
    "             points = TRUE, trans=log, auto.layout = FALSE)#highlight = c(90, 12),\n",
    "legend(x=\"topleft\", lty = 1, bty = 'n', horiz = T, legend =c(\"C1\",\"C2\",\"C3\"),col =GCOL)"
   ]
  },
  {
   "cell_type": "code",
   "execution_count": null,
   "id": "bbe4caae",
   "metadata": {
    "ExecuteTime": {
     "end_time": "2023-04-21T12:49:56.678929Z",
     "start_time": "2023-04-21T07:54:41.095Z"
    },
    "run_control": {
     "marked": true
    }
   },
   "outputs": [],
   "source": [
    "plotProfiles(ip = ip, data = df_fea, var = \"creatinine\", tvar = \"time\", gvar = \"groupHPD\",\n",
    "             points = TRUE, trans=log, auto.layout = FALSE, xlab = \"Time (6-hour window)\") # col = GCOL, highlight = c(90, 12),\n",
    "legend(x=\"topleft\", lty = 1, bty = 'n', horiz = T, legend =c(\"C1\",\"C2\",\"C3\"),col =GCOL)\n"
   ]
  },
  {
   "cell_type": "code",
   "execution_count": null,
   "id": "a0096dae",
   "metadata": {
    "ExecuteTime": {
     "end_time": "2023-04-21T12:49:56.680321Z",
     "start_time": "2023-04-21T07:54:41.096Z"
    }
   },
   "outputs": [],
   "source": [
    "plotProfiles(ip = ip, data = df_fea, var = \"crea_divide_basecrea\",trans=log, tvar = \"time\", points = TRUE, \n",
    "             gvar = \"groupHPD\", auto.layout = FALSE, xlab = \"Time (6-hour window)\")\n",
    "legend(x=\"topleft\", lty = 1, bty = 'n', horiz = T, legend =c(\"C1\",\"C2\",\"C3\"),col =GCOL)"
   ]
  },
  {
   "cell_type": "code",
   "execution_count": null,
   "id": "ca346ae4",
   "metadata": {
    "ExecuteTime": {
     "end_time": "2023-04-21T12:49:56.681707Z",
     "start_time": "2023-04-21T07:54:41.100Z"
    }
   },
   "outputs": [],
   "source": [
    "plotProfiles(ip = ip, data = df_fea, var = \"urineoutput\", tvar = \"time\", gvar = \"groupHPD\",points = TRUE, \n",
    "             auto.layout = FALSE, xlab = \"Time (6-hour window)\")\n",
    "legend(x=\"topleft\", lty = 1, bty = 'n', horiz = T, legend =c(\"C1\",\"C2\",\"C3\"),col =GCOL)"
   ]
  },
  {
   "cell_type": "markdown",
   "id": "771d48ef",
   "metadata": {},
   "source": [
    "# following"
   ]
  },
  {
   "cell_type": "code",
   "execution_count": null,
   "id": "a57939d4",
   "metadata": {
    "ExecuteTime": {
     "end_time": "2023-04-21T12:49:56.683134Z",
     "start_time": "2023-04-21T07:54:41.102Z"
    }
   },
   "outputs": [],
   "source": [
    "f_mod <- mod3\n",
    "mynewmod <- list()\n",
    "for (clusternumber in 1:f_mod$prior.b$Kmax){\n",
    "  mynewmod[[clusternumber]] = list()\n",
    "  mynewmod[[clusternumber]]$dimb = f_mod$dimb\n",
    "  mynewmod[[clusternumber]]$prior.b$priorK = f_mod$prior.b$priorK\n",
    "  mynewmod[[clusternumber]]$R[\"Rc\"] = f_mod$R[\"Rc\"]\n",
    "  mynewmod[[clusternumber]]$R[\"Rd\"] = f_mod$R[\"Rd\"]\n",
    "  mynewmod[[clusternumber]]$nMCMC[\"keep\"] = f_mod$nMCMC[\"keep\"]\n",
    "  mynewmod[[clusternumber]]$dist = f_mod$dist\n",
    "  mynewmod[[clusternumber]]$random.intercept = f_mod$random.intercept\n",
    "  mynewmod[[clusternumber]]$p = f_mod$p\n",
    "  mynewmod[[clusternumber]]$q = f_mod$q\n",
    "  mynewmod[[clusternumber]]$scale.b$shift = f_mod$scale.b$shift\n",
    "  mynewmod[[clusternumber]]$scale.b$scale = f_mod$scale.b$scale\n",
    "  #Here it is the first time that I change a parameter to the new GLMM_MCMC objects from the original one. I define as number of components equal to 1 since I want to have one object for each mixture component\n",
    "  mynewmod[[clusternumber]]$prior.b$Kmax = f_mod$prior.b$Kmax/f_mod$prior.b$Kmax\n",
    "  mynewmod[[clusternumber]]$K_b = rep(f_mod$prior.b$Kmax/f_mod$prior.b$Kmax,length(f_mod$K_b))\n",
    "  mynewmod[[clusternumber]]$w_b = rowSums(f_mod$w_b)\n",
    "  number_of_ref<-(sum(f_mod$q)+unlist(table(f_mod$random.intercept)))\n",
    "  mynewmod[[clusternumber]]$mu_b = f_mod$mu_b[,((clusternumber-1)*number_of_ref+1):(clusternumber*number_of_ref)]\n",
    "  mynewmod[[clusternumber]]$Li_b = f_mod$Li_b[,((clusternumber-1)*((number_of_ref*(number_of_ref+1))/2)+1):(clusternumber*((number_of_ref*(number_of_ref+1))/2))]\n",
    "  mynewmod[[clusternumber]]$alpha = f_mod$alpha\n",
    "  mynewmod[[clusternumber]]$lalpha = f_mod$lalpha\n",
    "  mynewmod[[clusternumber]]$sigma_eps = t(f_mod$sigma_eps)\n",
    "  class(mynewmod[[clusternumber]]) = \"GLMM_MCMC\"\n",
    "}"
   ]
  },
  {
   "cell_type": "code",
   "execution_count": null,
   "id": "996705e2",
   "metadata": {
    "ExecuteTime": {
     "end_time": "2023-04-21T12:49:56.684522Z",
     "start_time": "2023-04-21T07:54:41.103Z"
    }
   },
   "outputs": [],
   "source": [
    "newobs <- GLMM_longitDA2(mod=mynewmod,w.prior = c(1:length(mynewmod)),\n",
    "                         y = df_y, #sim_data_2[, \"var1\"], \n",
    "                         id = df[, \"stay_id\"],\n",
    "                         z = list(bun_mean=df[, \"time\"], creatinine_mean=df[, \"time\"], urineoutput_mean=df[, \"time\"]),\n",
    "                         xz.common = TRUE,info = 20)\n",
    "marginal_probabilities <- newobs$pi_marg\n",
    "marginal_probabilities <- marginal_probabilities[!is.na(marginal_probabilities[,1]),]\n",
    "table(apply(marginal_probabilities,1,which.max))"
   ]
  },
  {
   "cell_type": "code",
   "execution_count": null,
   "id": "8230ca5f",
   "metadata": {},
   "outputs": [],
   "source": []
  },
  {
   "cell_type": "code",
   "execution_count": null,
   "id": "873815a1",
   "metadata": {},
   "outputs": [],
   "source": []
  }
 ],
 "metadata": {
  "kernelspec": {
   "display_name": "R [conda env:R]",
   "language": "R",
   "name": "conda-env-R-r"
  },
  "language_info": {
   "codemirror_mode": "r",
   "file_extension": ".r",
   "mimetype": "text/x-r-source",
   "name": "R",
   "pygments_lexer": "r",
   "version": "4.2.2"
  },
  "toc": {
   "base_numbering": 1,
   "nav_menu": {},
   "number_sections": true,
   "sideBar": true,
   "skip_h1_title": false,
   "title_cell": "Table of Contents",
   "title_sidebar": "Contents",
   "toc_cell": false,
   "toc_position": {},
   "toc_section_display": true,
   "toc_window_display": false
  },
  "varInspector": {
   "cols": {
    "lenName": 16,
    "lenType": 16,
    "lenVar": 40
   },
   "kernels_config": {
    "python": {
     "delete_cmd_postfix": "",
     "delete_cmd_prefix": "del ",
     "library": "var_list.py",
     "varRefreshCmd": "print(var_dic_list())"
    },
    "r": {
     "delete_cmd_postfix": ") ",
     "delete_cmd_prefix": "rm(",
     "library": "var_list.r",
     "varRefreshCmd": "cat(var_dic_list()) "
    }
   },
   "types_to_exclude": [
    "module",
    "function",
    "builtin_function_or_method",
    "instance",
    "_Feature"
   ],
   "window_display": false
  }
 },
 "nbformat": 4,
 "nbformat_minor": 5
}
