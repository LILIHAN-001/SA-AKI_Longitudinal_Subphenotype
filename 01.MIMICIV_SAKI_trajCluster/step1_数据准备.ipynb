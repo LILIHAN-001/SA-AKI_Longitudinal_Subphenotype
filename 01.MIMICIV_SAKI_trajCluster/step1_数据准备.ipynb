{
 "cells": [
  {
   "cell_type": "code",
   "execution_count": 20,
   "id": "0e71d70c",
   "metadata": {
    "ExecuteTime": {
     "end_time": "2024-01-24T13:03:47.560333Z",
     "start_time": "2024-01-24T13:03:47.557098Z"
    }
   },
   "outputs": [
    {
     "name": "stderr",
     "output_type": "stream",
     "text": [
      "/home/hanl/miniconda3/envs/mytensor/lib/python3.9/site-packages/ipykernel/ipkernel.py:287: DeprecationWarning: `should_run_async` will not call `transform_cell` automatically in the future. Please pass the result to `transformed_cell` argument and any exception that happen during thetransform in `preprocessing_exc_tuple` in IPython 7.17 and above.\n",
      "  and should_run_async(code)\n"
     ]
    }
   ],
   "source": [
    "import pandas as pd\n",
    "import numpy as np\n",
    "import matplotlib.pyplot as plt\n",
    "pd.options.display.max_rows = 300\n",
    "import datetime as dt\n",
    "import math\n",
    "import seaborn as sns\n",
    "import miceforest as mf\n",
    "from tableone import TableOne, load_dataset"
   ]
  },
  {
   "cell_type": "markdown",
   "id": "34713f6f",
   "metadata": {},
   "source": [
    "# 根据定义筛选S-AKI患者"
   ]
  },
  {
   "cell_type": "markdown",
   "id": "845e446f",
   "metadata": {},
   "source": [
    "## sepsis (sofa time > infection time)"
   ]
  },
  {
   "cell_type": "code",
   "execution_count": 2,
   "id": "6129bf4c",
   "metadata": {
    "ExecuteTime": {
     "end_time": "2024-01-05T06:44:04.952118Z",
     "start_time": "2024-01-05T06:44:04.598754Z"
    }
   },
   "outputs": [
    {
     "name": "stderr",
     "output_type": "stream",
     "text": [
      "/home/hanl/miniconda3/envs/mytensor/lib/python3.9/site-packages/ipykernel/ipkernel.py:287: DeprecationWarning: `should_run_async` will not call `transform_cell` automatically in the future. Please pass the result to `transformed_cell` argument and any exception that happen during thetransform in `preprocessing_exc_tuple` in IPython 7.17 and above.\n",
      "  and should_run_async(code)\n"
     ]
    },
    {
     "name": "stdout",
     "output_type": "stream",
     "text": [
      "sepsis患者数量为(by sepsis3)： 28649\n"
     ]
    },
    {
     "data": {
      "text/html": [
       "<div>\n",
       "<style scoped>\n",
       "    .dataframe tbody tr th:only-of-type {\n",
       "        vertical-align: middle;\n",
       "    }\n",
       "\n",
       "    .dataframe tbody tr th {\n",
       "        vertical-align: top;\n",
       "    }\n",
       "\n",
       "    .dataframe thead th {\n",
       "        text-align: right;\n",
       "    }\n",
       "</style>\n",
       "<table border=\"1\" class=\"dataframe\">\n",
       "  <thead>\n",
       "    <tr style=\"text-align: right;\">\n",
       "      <th></th>\n",
       "      <th>subject_id</th>\n",
       "      <th>stay_id</th>\n",
       "      <th>antibiotic_time</th>\n",
       "      <th>suspected_infection_time</th>\n",
       "      <th>sofa_time</th>\n",
       "      <th>sepsis3</th>\n",
       "      <th>sofa_score</th>\n",
       "      <th>respiration</th>\n",
       "      <th>coagulation</th>\n",
       "      <th>liver</th>\n",
       "      <th>renal</th>\n",
       "      <th>cardiovascular</th>\n",
       "      <th>cns</th>\n",
       "      <th>sepsis_onset</th>\n",
       "    </tr>\n",
       "  </thead>\n",
       "  <tbody>\n",
       "    <tr>\n",
       "      <th>0</th>\n",
       "      <td>18421337</td>\n",
       "      <td>30000484</td>\n",
       "      <td>14/1/2136 21:00:00</td>\n",
       "      <td>2136-01-14 18:10:00</td>\n",
       "      <td>2136-01-14 19:00:00</td>\n",
       "      <td>t</td>\n",
       "      <td>3</td>\n",
       "      <td>0</td>\n",
       "      <td>0</td>\n",
       "      <td>0</td>\n",
       "      <td>0</td>\n",
       "      <td>0</td>\n",
       "      <td>3</td>\n",
       "      <td>2136-01-14 19:00:00</td>\n",
       "    </tr>\n",
       "  </tbody>\n",
       "</table>\n",
       "</div>"
      ],
      "text/plain": [
       "   subject_id   stay_id     antibiotic_time suspected_infection_time  \\\n",
       "0    18421337  30000484  14/1/2136 21:00:00      2136-01-14 18:10:00   \n",
       "\n",
       "            sofa_time sepsis3  sofa_score  respiration  coagulation  liver  \\\n",
       "0 2136-01-14 19:00:00       t           3            0            0      0   \n",
       "\n",
       "   renal  cardiovascular  cns        sepsis_onset  \n",
       "0      0               0    3 2136-01-14 19:00:00  "
      ]
     },
     "execution_count": 2,
     "metadata": {},
     "output_type": "execute_result"
    }
   ],
   "source": [
    "data_dir = \"/public/hanl/jupyter_dir/kidney_sepsis_penotype_v1/00.data_mimic/disease_definition/sepsis//\"\n",
    "infile = data_dir + \"sk_sepsis_onset.csv\"\n",
    "df_sepsis = pd.read_csv(infile)\n",
    "df_sepsis[\"sofa_time\"] = pd.to_datetime(df_sepsis[\"sofa_time\"], format='%d/%m/%Y %H:%M:%S')\n",
    "df_sepsis[\"suspected_infection_time\"] = pd.to_datetime(df_sepsis[\"suspected_infection_time\"], format='%d/%m/%Y %H:%M:%S')\n",
    "df_sepsis= df_sepsis[ (df_sepsis[\"sofa_time\"]>= df_sepsis[\"suspected_infection_time\"]) ] \n",
    "# \n",
    "df_sepsis[\"sepsis_onset\"] = df_sepsis[\"sofa_time\"]\n",
    "\n",
    "sepsis_lst = df_sepsis.stay_id.tolist()\n",
    "print(\"sepsis患者数量为(by sepsis3)：\",df_sepsis.shape[0])\n",
    "df_sepsis.head(1)"
   ]
  },
  {
   "cell_type": "markdown",
   "id": "ad92c1f4",
   "metadata": {},
   "source": [
    "## CKD"
   ]
  },
  {
   "cell_type": "code",
   "execution_count": 3,
   "id": "03861660",
   "metadata": {
    "ExecuteTime": {
     "end_time": "2024-01-05T06:44:16.532843Z",
     "start_time": "2024-01-05T06:44:04.953290Z"
    },
    "run_control": {
     "marked": true
    }
   },
   "outputs": [
    {
     "name": "stderr",
     "output_type": "stream",
     "text": [
      "/home/hanl/miniconda3/envs/mytensor/lib/python3.9/site-packages/ipykernel/ipkernel.py:287: DeprecationWarning: `should_run_async` will not call `transform_cell` automatically in the future. Please pass the result to `transformed_cell` argument and any exception that happen during thetransform in `preprocessing_exc_tuple` in IPython 7.17 and above.\n",
      "  and should_run_async(code)\n"
     ]
    },
    {
     "name": "stdout",
     "output_type": "stream",
     "text": [
      "ckd患者数量为(by ICD)： 21972\n"
     ]
    }
   ],
   "source": [
    "data_dir = \"/public/hanl/jupyter_dir/kidney_sepsis_penotype_v1/00.data_mimic//disease_definition/CKD/\"\n",
    "\n",
    "infile = data_dir + \"sk_ckd_diagnose.csv\"\n",
    "df_ckd = pd.read_csv(infile)\n",
    "ckd_dict = {'N183   ':\"ckd3\" , 'N186   ':\"ESRD\", '5855   ':\"ckd5\", '5851   ':\"ckd1\", 'N185   ':\"ckd5\", \n",
    "            '5859   ':\"ckd_unknow\", '5856   ':\"ESRD\", '5854   ':\"ckd4\", '5852   ':\"ckd2\", 'N189   ':\"ckd_unknow\",\n",
    "            'N184   ':\"ckd4\", 'N182   ':\"ckd2\", 'N181   ':\"ckd1\", '5853   ':\"ckd3\"}\n",
    "df_ckd[\"CKD_stage\"] = df_ckd[\"icd_code\"].map(ckd_dict)\n",
    "df_ckd = df_ckd.loc[:,[ 'stay_id', 'CKD_stage']].drop_duplicates()\n",
    "\n",
    "tmp_df = pd.DataFrame() # 存在stay_id存在多个CKD标签\n",
    "df_ckd = df_ckd.sort_values([\"stay_id\",\"CKD_stage\"])\n",
    "for i,j in df_ckd.groupby(\"stay_id\"):\n",
    "    j = j.iloc[:1]\n",
    "    tmp_df = pd.concat([tmp_df, j], axis=0)\n",
    "df_ckd = tmp_df\n",
    "\n",
    "ckd_lst = set(df_ckd.stay_id.tolist())\n",
    "print(\"ckd患者数量为(by ICD)：\",len(ckd_lst))"
   ]
  },
  {
   "cell_type": "markdown",
   "id": "12eb0ddc",
   "metadata": {},
   "source": [
    "## AKI"
   ]
  },
  {
   "cell_type": "code",
   "execution_count": 4,
   "id": "ebe14f22",
   "metadata": {
    "ExecuteTime": {
     "end_time": "2024-01-05T06:44:16.682919Z",
     "start_time": "2024-01-05T06:44:16.534198Z"
    },
    "scrolled": false
   },
   "outputs": [
    {
     "name": "stdout",
     "output_type": "stream",
     "text": [
      "aki患者数量为(by KDIGO)： 44461\n"
     ]
    },
    {
     "name": "stderr",
     "output_type": "stream",
     "text": [
      "/home/hanl/miniconda3/envs/mytensor/lib/python3.9/site-packages/ipykernel/ipkernel.py:287: DeprecationWarning: `should_run_async` will not call `transform_cell` automatically in the future. Please pass the result to `transformed_cell` argument and any exception that happen during thetransform in `preprocessing_exc_tuple` in IPython 7.17 and above.\n",
      "  and should_run_async(code)\n"
     ]
    }
   ],
   "source": [
    "data_dir = \"/public/hanl/jupyter_dir/kidney_sepsis_penotype_v1/00.data_mimic//disease_definition/AKI/\"\n",
    "infile = data_dir + \"sk_first_and_max_stage.csv\"\n",
    "df_aki = pd.read_csv(infile)\n",
    "df_aki = df_aki[[\"stay_id\",\"first_aki_onset\"]]\n",
    "df_aki[\"first_aki_onset\"] = pd.to_datetime(df_aki[\"first_aki_onset\"])\n",
    "df_aki = df_aki.rename(columns={'first_aki_onset':'AKI_onset'})\n",
    "\n",
    "aki_lst = df_aki.stay_id.tolist()\n",
    "print(\"aki患者数量为(by KDIGO)：\",len(aki_lst))"
   ]
  },
  {
   "cell_type": "markdown",
   "id": "7d799b9c",
   "metadata": {},
   "source": [
    "## sepsis without CKD;  sepsis with AKI"
   ]
  },
  {
   "cell_type": "code",
   "execution_count": 5,
   "id": "fa4a9022",
   "metadata": {
    "ExecuteTime": {
     "end_time": "2024-01-05T06:44:16.697769Z",
     "start_time": "2024-01-05T06:44:16.683947Z"
    },
    "run_control": {
     "marked": true
    }
   },
   "outputs": [
    {
     "name": "stdout",
     "output_type": "stream",
     "text": [
      "sepsis_minusCKD_addAKI_lst: 12910  sepsis_noKidney: 6172\n"
     ]
    },
    {
     "name": "stderr",
     "output_type": "stream",
     "text": [
      "/home/hanl/miniconda3/envs/mytensor/lib/python3.9/site-packages/ipykernel/ipkernel.py:287: DeprecationWarning: `should_run_async` will not call `transform_cell` automatically in the future. Please pass the result to `transformed_cell` argument and any exception that happen during thetransform in `preprocessing_exc_tuple` in IPython 7.17 and above.\n",
      "  and should_run_async(code)\n"
     ]
    }
   ],
   "source": [
    "sepsis_minus_ckd_lst = list(set(sepsis_lst).difference(ckd_lst))\n",
    "sepsis_minusCKD_addAKI_lst = list(set(sepsis_minus_ckd_lst).intersection(aki_lst))\n",
    "\n",
    "sepsis_noKidney_lst = list(set(sepsis_lst).difference(ckd_lst, aki_lst))\n",
    "print(\"sepsis_minusCKD_addAKI_lst:\",len(sepsis_minusCKD_addAKI_lst),\" sepsis_noKidney:\",len(sepsis_noKidney_lst))\n"
   ]
  },
  {
   "cell_type": "markdown",
   "id": "bf98bbd5",
   "metadata": {},
   "source": [
    "# S-AKI 纳排标准"
   ]
  },
  {
   "cell_type": "markdown",
   "id": "87a58f4b",
   "metadata": {},
   "source": [
    "## 在sepsis后一周内发生AKI的病人"
   ]
  },
  {
   "cell_type": "code",
   "execution_count": 6,
   "id": "33c16ccf",
   "metadata": {
    "ExecuteTime": {
     "end_time": "2024-01-05T06:44:17.842097Z",
     "start_time": "2024-01-05T06:44:16.698708Z"
    }
   },
   "outputs": [
    {
     "name": "stderr",
     "output_type": "stream",
     "text": [
      "/home/hanl/miniconda3/envs/mytensor/lib/python3.9/site-packages/ipykernel/ipkernel.py:287: DeprecationWarning: `should_run_async` will not call `transform_cell` automatically in the future. Please pass the result to `transformed_cell` argument and any exception that happen during thetransform in `preprocessing_exc_tuple` in IPython 7.17 and above.\n",
      "  and should_run_async(code)\n"
     ]
    },
    {
     "name": "stdout",
     "output_type": "stream",
     "text": [
      "在sepsis后一周内发生AKI的病人数量： 10165\n"
     ]
    },
    {
     "name": "stderr",
     "output_type": "stream",
     "text": [
      "/home/hanl/miniconda3/envs/mytensor/lib/python3.9/site-packages/seaborn/distributions.py:2619: FutureWarning: `distplot` is a deprecated function and will be removed in a future version. Please adapt your code to use either `displot` (a figure-level function with similar flexibility) or `histplot` (an axes-level function for histograms).\n",
      "  warnings.warn(msg, FutureWarning)\n",
      "/home/hanl/miniconda3/envs/mytensor/lib/python3.9/site-packages/ipykernel/pylab/backend_inline.py:164: DeprecationWarning: `configure_inline_support` is deprecated since IPython 7.23, directly use `matplotlib_inline.backend_inline.configure_inline_support()`\n",
      "  configure_inline_support(ip, backend)\n"
     ]
    },
    {
     "data": {
      "image/png": "[encoded data removed]",
      "text/plain": [
       "<Figure size 640x480 with 1 Axes>"
      ]
     },
     "metadata": {},
     "output_type": "display_data"
    }
   ],
   "source": [
    "df_sepsis = df_sepsis[df_sepsis[\"stay_id\"].isin(sepsis_minusCKD_addAKI_lst)]\n",
    "df_aki = df_aki[df_aki[\"stay_id\"].isin(sepsis_minusCKD_addAKI_lst)]\n",
    "df_sepsis_aki = pd.merge(df_sepsis, df_aki, how=\"left\", on = [\"stay_id\"])\n",
    "\n",
    "df_sepsis_aki[\"time_aki_minus_sepsis\"] =  (df_sepsis_aki[\"AKI_onset\"] - df_sepsis_aki[\"sepsis_onset\"]).map(lambda x:x/np.timedelta64(1, 'h')).tolist()\n",
    "df_sepsis_aki = df_sepsis_aki[(df_sepsis_aki[\"time_aki_minus_sepsis\"]>0) & (df_sepsis_aki[\"time_aki_minus_sepsis\"]<=168)]\n",
    "saki_lst = df_sepsis_aki.stay_id.unique().tolist()\n",
    "print(\"在sepsis后一周内发生AKI的病人数量：\",len(saki_lst))\n",
    "sns.distplot(df_sepsis_aki[\"time_aki_minus_sepsis\"])\n",
    "plt.show()"
   ]
  },
  {
   "cell_type": "code",
   "execution_count": 15,
   "id": "10867de8",
   "metadata": {
    "ExecuteTime": {
     "end_time": "2024-01-05T06:47:21.988788Z",
     "start_time": "2024-01-05T06:47:21.542472Z"
    }
   },
   "outputs": [
    {
     "name": "stderr",
     "output_type": "stream",
     "text": [
      "/home/hanl/miniconda3/envs/mytensor/lib/python3.9/site-packages/ipykernel/ipkernel.py:287: DeprecationWarning: `should_run_async` will not call `transform_cell` automatically in the future. Please pass the result to `transformed_cell` argument and any exception that happen during thetransform in `preprocessing_exc_tuple` in IPython 7.17 and above.\n",
      "  and should_run_async(code)\n",
      "/home/hanl/miniconda3/envs/mytensor/lib/python3.9/site-packages/seaborn/distributions.py:2619: FutureWarning: `distplot` is a deprecated function and will be removed in a future version. Please adapt your code to use either `displot` (a figure-level function with similar flexibility) or `histplot` (an axes-level function for histograms).\n",
      "  warnings.warn(msg, FutureWarning)\n"
     ]
    },
    {
     "data": {
      "image/png": "[encoded data removed]",
      "text/plain": [
       "<Figure size 640x480 with 1 Axes>"
      ]
     },
     "metadata": {},
     "output_type": "display_data"
    }
   ],
   "source": [
    "# df_time = pd.read_csv(\"/public/hanl/jupyter_dir/kidney_sepsis_penotype_v3/00.data_mimic/disease_definition/AKI/sk_event_time.csv\")\n",
    "# df_time = df_time[df_time[\"stay_id\"].isin(saki_lst)]\n",
    "# df_time[\"intime\"] = pd.to_datetime(df_time[\"intime\"] )\n",
    "# df_time[\"sepsis_onset\"] = pd.to_datetime(df_time[\"sepsis_onset\"] )\n",
    "# df_time[\"aki_onset\"] = pd.to_datetime(df_time[\"aki_onset\"] )\n",
    "# df_time[\"time_aki_minus_intime\"] =  (df_time[\"aki_onset\"] - df_time[\"intime\"]).map(lambda x:x/np.timedelta64(1, 'h')).tolist()\n",
    "# df_time[\"time_sepsis_minus_intime\"] =  (df_time[\"sepsis_onset\"] - df_time[\"intime\"]).map(lambda x:x/np.timedelta64(1, 'h')).tolist()\n",
    "# sns.distplot(df_time[df_time[\"time_aki_minus_intime\"]<=168][\"time_aki_minus_intime\"])\n",
    "# plt.show()"
   ]
  },
  {
   "cell_type": "code",
   "execution_count": 16,
   "id": "8c0d67b0",
   "metadata": {
    "ExecuteTime": {
     "end_time": "2024-01-05T06:47:38.317570Z",
     "start_time": "2024-01-05T06:47:38.107020Z"
    }
   },
   "outputs": [
    {
     "name": "stderr",
     "output_type": "stream",
     "text": [
      "/home/hanl/miniconda3/envs/mytensor/lib/python3.9/site-packages/ipykernel/ipkernel.py:287: DeprecationWarning: `should_run_async` will not call `transform_cell` automatically in the future. Please pass the result to `transformed_cell` argument and any exception that happen during thetransform in `preprocessing_exc_tuple` in IPython 7.17 and above.\n",
      "  and should_run_async(code)\n",
      "/home/hanl/miniconda3/envs/mytensor/lib/python3.9/site-packages/seaborn/distributions.py:2619: FutureWarning: `distplot` is a deprecated function and will be removed in a future version. Please adapt your code to use either `displot` (a figure-level function with similar flexibility) or `histplot` (an axes-level function for histograms).\n",
      "  warnings.warn(msg, FutureWarning)\n"
     ]
    },
    {
     "data": {
      "image/png": "[encoded data removed]",
      "text/plain": [
       "<Figure size 640x480 with 1 Axes>"
      ]
     },
     "metadata": {},
     "output_type": "display_data"
    }
   ],
   "source": [
    "sns.distplot(df_time[df_time[\"time_sepsis_minus_intime\"]<=168][\"time_sepsis_minus_intime\"])\n",
    "plt.show()"
   ]
  },
  {
   "cell_type": "markdown",
   "id": "1d0f121b",
   "metadata": {},
   "source": [
    "## 除去age<18, los<1"
   ]
  },
  {
   "cell_type": "code",
   "execution_count": null,
   "id": "17e5ec20",
   "metadata": {
    "ExecuteTime": {
     "end_time": "2024-01-05T06:44:18.313423Z",
     "start_time": "2024-01-05T06:35:14.209Z"
    }
   },
   "outputs": [],
   "source": [
    "df_demo =  pd.read_csv(\"/public/hanl/jupyter_dir/kidney_sepsis_penotype/00.data/feature_data/sk_icu_basicinfo.csv\")\n",
    "df_demo = df_demo.loc[:,[ 'stay_id', 'age', 'weight', 'gender', 'height',\n",
    "       'race', 'first_careunit', 'last_careunit', 'intime', 'outtime', 'los',\n",
    "       'dod', 'hospital_expire_flag', 'CRRT', 'apsiii', 'isckd',\n",
    "       'CKD_stage', 'isaki', 'aki_stage', 'issepsis3']]\n",
    "df_demo[\"intime\"] = pd.to_datetime(df_demo[\"intime\"], format='%d/%m/%Y %H:%M:%S')\n",
    "df_demo = df_demo[df_demo[\"stay_id\"].isin(saki_lst)]\n",
    "df_demo = df_demo[ df_demo[\"los\"]>=1] # 条件1： ICU住院时长\n",
    "df_demo = df_demo[(df_demo[\"age\"]>=18)] # 条件2： age >= 18\n",
    "\n",
    "saki_lst_filt_lst = list(df_demo.stay_id.unique())\n",
    "print(\"saki, 年龄>17且los大于1天：\",len(saki_lst_filt_lst))\n",
    "all_lst = saki_lst_filt_lst\n"
   ]
  },
  {
   "cell_type": "markdown",
   "id": "78a96486",
   "metadata": {},
   "source": [
    "## 去除基线cre 大于1.5、小于0.5的患者"
   ]
  },
  {
   "cell_type": "code",
   "execution_count": null,
   "id": "5c81cd14",
   "metadata": {
    "ExecuteTime": {
     "end_time": "2024-01-05T06:44:18.314065Z",
     "start_time": "2024-01-05T06:35:14.211Z"
    }
   },
   "outputs": [],
   "source": [
    "df_base_crea = pd.read_csv(\"/public/hanl/jupyter_dir/kidney_sepsis_penotype_v1/00.data_mimic/disease_definition/AKI/df_base_crea.csv\")\n",
    "df_base_crea = df_base_crea[(df_base_crea[\"baseline_cre\"]>=0.5) &(df_base_crea[\"baseline_cre\"]<1.5)]\n",
    "df_base_crea = df_base_crea[df_base_crea[\"stay_id\"].isin(all_lst)]\n",
    "\n",
    "all_lst = df_base_crea.stay_id.unique()\n",
    "print(\"去掉没有基线 或基线过低 或基线已到肾衰竭或尿毒症的患者：\",len(all_lst))"
   ]
  },
  {
   "attachments": {
    "image.png": {
     "image/png": "[encoded data removed]"
    }
   },
   "cell_type": "markdown",
   "id": "65efba6a",
   "metadata": {},
   "source": [
    "![image.png](attachment:image.png)"
   ]
  },
  {
   "cell_type": "code",
   "execution_count": null,
   "id": "3408753c",
   "metadata": {
    "ExecuteTime": {
     "end_time": "2024-01-05T06:44:18.314607Z",
     "start_time": "2024-01-05T06:35:14.213Z"
    }
   },
   "outputs": [],
   "source": [
    "print(\"最后纳入患者数量：\",len(all_lst))"
   ]
  },
  {
   "cell_type": "markdown",
   "id": "5ef3963d",
   "metadata": {},
   "source": [
    "# 用于聚类的临床数据获得"
   ]
  },
  {
   "cell_type": "code",
   "execution_count": null,
   "id": "b91d0a44",
   "metadata": {
    "ExecuteTime": {
     "end_time": "2024-01-05T06:44:18.315166Z",
     "start_time": "2024-01-05T06:35:14.215Z"
    }
   },
   "outputs": [],
   "source": [
    "data_dir = \"/public/hanl/jupyter_dir/kidney_sepsis_penotype_v3/00.data_mimic/feature_data/\"\n",
    "infile = data_dir + \"sk_icu_feature.csv\"\n",
    "df_fea = pd.read_csv(infile)\n",
    "df_fea = df_fea[df_fea[\"stay_id\"].isin(all_lst)] \n",
    "df_fea[\"charttime\"] = pd.to_datetime(df_fea[\"charttime\"])\n",
    "\n",
    "#  condition1: -4 <= time <= 28\n",
    "df_cut = df_aki.loc[:,[\"stay_id\", \"AKI_onset\"]]\n",
    "df_cut.columns = [\"stay_id\", \"saki_onset\"] # AKI时间作为S-AKI 发生时间\n",
    "df_fea_add = pd.merge(df_fea, df_cut, how=\"inner\", on=\"stay_id\")\n",
    "df_fea_add[\"time\"] = (df_fea_add[\"charttime\"] - df_fea_add[\"saki_onset\"]).map(lambda x:x/np.timedelta64(6, 'h')).tolist()\n",
    "df_fea_add[\"time\"] = df_fea_add[\"time\"].map(lambda x:x//1) # -1指sepsis前6小时的数据，0指sepsis后第一个6小时的数据\n",
    "df_fea_add[\"time\"] = df_fea_add[\"time\"].map(lambda x: x+1 if x>=0 else x)\n",
    "df_fea_add = df_fea_add[(df_fea_add[\"time\"]>=-4) &(df_fea_add[\"time\"]<=28)]\n",
    "\n",
    "# #  condition2: SAKI发生后必须有一天及以上的记录\n",
    "tmp_df = df_fea_add.groupby(\"stay_id\").agg({\"time\":max}).reset_index()\n",
    "stay_lst = tmp_df[tmp_df[\"time\"]>=4][\"stay_id\"].tolist()\n",
    "df_fea_add = df_fea_add[df_fea_add[\"stay_id\"].isin(stay_lst)]\n",
    "all_lst = df_fea_add.stay_id.unique()\n",
    "\n",
    "#  condition3: SAKI最少有4个数据记录点\n",
    "df_stage = pd.read_csv(\"/public/hanl/jupyter_dir/kidney_sepsis_penotype_v1/00.data_mimic/disease_definition/AKI/kdigo_stages.csv\")\n",
    "df_stage =df_stage[df_stage[\"aki_stage\"]>0]\n",
    "df_stage = df_stage.sort_values([\"stay_id\",\"charttime\"])\n",
    "df_stage = df_stage[df_stage[\"stay_id\"].isin(all_lst)]\n",
    "df_stage = df_stage.groupby(\"stay_id\").agg({\"aki_stage\":\"count\"}).reset_index()\n",
    "df_stage = df_stage[df_stage.aki_stage >=4]\n",
    "all_lst = df_stage.stay_id.unique()\n",
    "\n",
    "df_fea_add = df_fea_add[df_fea_add[\"stay_id\"].isin(all_lst)]\n",
    "all_lst = df_fea_add.stay_id.unique()\n",
    "print(\"在saki发生后有一天记录以上的患者：\", len(all_lst))\n",
    "print(\"最后纳入患者数量：\",len(all_lst))"
   ]
  },
  {
   "cell_type": "markdown",
   "id": "ab479293",
   "metadata": {},
   "source": [
    "## 按时间窗口获取数据\n"
   ]
  },
  {
   "cell_type": "code",
   "execution_count": null,
   "id": "5c31c12e",
   "metadata": {
    "ExecuteTime": {
     "end_time": "2024-01-05T06:44:18.315720Z",
     "start_time": "2024-01-05T06:35:14.217Z"
    },
    "run_control": {
     "marked": true
    }
   },
   "outputs": [],
   "source": [
    "df_fea_add = df_fea_add.drop([\"charttime\",\"saki_onset\"],axis=1)\n",
    "df_fea_add = df_fea_add.groupby([\"stay_id\",\"time\"]).agg([\"max\",\"mean\",\"min\"]) \n",
    "df_fea_add.columns = ['_'.join(col) for col in df_fea_add.columns]\n",
    "df_fea_add = df_fea_add.reset_index()\n",
    "# 总共260个特征\n",
    "#df_fea_add[\"time\"].hist() "
   ]
  },
  {
   "cell_type": "markdown",
   "id": "6d2b5be7",
   "metadata": {},
   "source": [
    "## 前向插补"
   ]
  },
  {
   "cell_type": "code",
   "execution_count": null,
   "id": "4c06d252",
   "metadata": {
    "ExecuteTime": {
     "end_time": "2024-01-05T06:44:18.316717Z",
     "start_time": "2024-01-05T06:35:14.221Z"
    }
   },
   "outputs": [],
   "source": [
    "# 前向插补\n",
    "tmp_df = pd.DataFrame()\n",
    "df_fea_add = df_fea_add.sort_values(by=[\"stay_id\",\"time\"])\n",
    "for i,j in df_fea_add.groupby([\"stay_id\"]):\n",
    "    j = j.fillna(method=\"ffill\")\n",
    "    tmp_df = pd.concat([tmp_df, j], axis=0)\n",
    "df_im = tmp_df"
   ]
  },
  {
   "cell_type": "code",
   "execution_count": null,
   "id": "c5acd05e",
   "metadata": {
    "ExecuteTime": {
     "end_time": "2024-01-05T06:44:18.317249Z",
     "start_time": "2024-01-05T06:35:14.223Z"
    }
   },
   "outputs": [],
   "source": [
    "# 根据na找\n",
    "df = df_im\n",
    "tmp_df = pd.DataFrame(df.isna().sum()/df.shape[0])\n",
    "tmp_df = tmp_df.reset_index()\n",
    "fea_lst = tmp_df[tmp_df[0]<=0.6][\"index\"].tolist()\n",
    "df_im =df_im[fea_lst]\n",
    "df_im.to_csv(\"./df_im_By_ffill.csv\",index=False)\n",
    "\n",
    "len([i.replace(\"_mean\",\"\") for i in fea_lst if i.endswith(\"mean\")]), str([i.replace(\"_mean\",\"\") for i in fea_lst if i.endswith(\"mean\")])"
   ]
  },
  {
   "cell_type": "markdown",
   "id": "7749c435",
   "metadata": {},
   "source": [
    "## 多重插补"
   ]
  },
  {
   "cell_type": "code",
   "execution_count": null,
   "id": "f7902592",
   "metadata": {
    "ExecuteTime": {
     "end_time": "2024-01-05T06:44:18.317777Z",
     "start_time": "2024-01-05T06:35:14.225Z"
    }
   },
   "outputs": [],
   "source": [
    "# 多重插补\n",
    "df_im = pd.read_csv(\"./df_im_By_ffill.csv\")\n",
    "\n",
    "kernel = mf.ImputationKernel(\n",
    "    df_im,\n",
    "    datasets=3,\n",
    "    save_all_iterations=True,\n",
    "    random_state=10\n",
    ")\n",
    "kernel.mice(iterations = 3, n_jobs=-1)\n",
    "\n",
    "#运行mice后，从kernel中获取完整的数据集\n",
    "df_im2 = kernel.complete_data(dataset=1)\n",
    "df_im2.to_csv(\"df_im_By_MI.csv\",index=False)\n"
   ]
  },
  {
   "cell_type": "markdown",
   "id": "5e5d6a6d",
   "metadata": {
    "ExecuteTime": {
     "start_time": "2023-02-10T07:10:05.746Z"
    },
    "run_control": {
     "marked": true
    }
   },
   "source": [
    "## 添加额外特征-肌酐基线肌酐变化率"
   ]
  },
  {
   "cell_type": "code",
   "execution_count": null,
   "id": "ab7cf689",
   "metadata": {
    "ExecuteTime": {
     "end_time": "2024-01-05T06:44:18.318261Z",
     "start_time": "2024-01-05T06:35:14.227Z"
    }
   },
   "outputs": [],
   "source": [
    "# add 肌酐变化数 作为特征\n",
    "df_base_crea = pd.read_csv(\"/public/hanl/jupyter_dir/kidney_sepsis_penotype_v1/00.data_mimic//disease_definition/AKI/df_base_crea.csv\")\n",
    "df_feaf = pd.merge(df_im2,df_base_crea,how=\"inner\",on=\"stay_id\")\n",
    "df_feaf[\"crea_divide_basecrea_max\"] = round(df_feaf[\"creatinine_max\"]/df_feaf[\"baseline_cre\"],2)\n",
    "df_feaf[\"crea_divide_basecrea_min\"] = round(df_feaf[\"creatinine_min\"]/df_feaf[\"baseline_cre\"],2)\n",
    "df_feaf[\"crea_divide_basecrea_mean\"] = round(df_feaf[\"creatinine_mean\"]/df_feaf[\"baseline_cre\"],2)\n",
    "df_feaf = df_feaf.drop([\"baseline_cre\"],axis=1)"
   ]
  },
  {
   "cell_type": "markdown",
   "id": "33e5ac1d",
   "metadata": {},
   "source": [
    "## 不同输出\n",
    "- 仅包含平均值\n",
    "- 包含最大最小平均值"
   ]
  },
  {
   "cell_type": "code",
   "execution_count": null,
   "id": "976340ba",
   "metadata": {
    "ExecuteTime": {
     "end_time": "2024-01-05T06:44:18.318776Z",
     "start_time": "2024-01-05T06:35:14.229Z"
    },
    "run_control": {
     "marked": true
    }
   },
   "outputs": [],
   "source": [
    "df_feaf.to_csv(\"sk_feature_timescale_3m.csv\",index=False)\n",
    "len(df_feaf.stay_id.unique())"
   ]
  },
  {
   "cell_type": "code",
   "execution_count": null,
   "id": "fcc14f75",
   "metadata": {
    "ExecuteTime": {
     "end_time": "2024-01-05T06:44:18.319266Z",
     "start_time": "2024-01-05T06:35:14.231Z"
    }
   },
   "outputs": [],
   "source": [
    "df = df_feaf.rename(columns={\"stay_id\":'stay_id_mean', \"time\":\"time_mean\"})\n",
    "df = df.filter(regex='mean$',axis=1)\n",
    "df.columns = [col.replace('_mean', '') for col in df.columns]\n",
    "df.to_csv(\"sk_feature_timescale.csv\",index=False)\n",
    "len(df.stay_id.unique())"
   ]
  },
  {
   "cell_type": "code",
   "execution_count": null,
   "id": "26509497",
   "metadata": {
    "ExecuteTime": {
     "end_time": "2024-01-05T06:44:18.319777Z",
     "start_time": "2024-01-05T06:35:14.232Z"
    },
    "run_control": {
     "marked": true
    }
   },
   "outputs": [],
   "source": [
    "# 最后患者聚类的起点确定： 最后决定从SAKI发作前的12h开始\n",
    "tmp_df = df[df[\"time\"].isin([-4,-3,-2,-1])]\n",
    "tmp_df[\"time\"].value_counts()/len(df.stay_id.unique())\n"
   ]
  },
  {
   "cell_type": "code",
   "execution_count": null,
   "id": "677f2795",
   "metadata": {
    "ExecuteTime": {
     "end_time": "2024-01-05T06:44:18.320331Z",
     "start_time": "2024-01-05T06:35:14.234Z"
    }
   },
   "outputs": [],
   "source": [
    "df = pd.read_csv(\"sk_feature_timescale.csv\")\n",
    "df = df[df[\"time\"]>=-2]\n",
    "df.to_csv(\"sk_feature_timescale_Fb2.csv\",index=False)"
   ]
  },
  {
   "cell_type": "code",
   "execution_count": null,
   "id": "3680da11",
   "metadata": {
    "ExecuteTime": {
     "end_time": "2024-01-05T06:44:18.320825Z",
     "start_time": "2024-01-05T06:35:14.236Z"
    }
   },
   "outputs": [],
   "source": [
    "stop!"
   ]
  },
  {
   "cell_type": "markdown",
   "id": "1cbd1ade",
   "metadata": {},
   "source": [
    "# 以天为单位的uo，crea 数据"
   ]
  },
  {
   "cell_type": "code",
   "execution_count": 18,
   "id": "1fb769dc",
   "metadata": {
    "ExecuteTime": {
     "end_time": "2024-01-24T11:42:05.593247Z",
     "start_time": "2024-01-24T11:41:39.910173Z"
    }
   },
   "outputs": [
    {
     "name": "stderr",
     "output_type": "stream",
     "text": [
      "/home/hanl/miniconda3/envs/mytensor/lib/python3.9/site-packages/ipykernel/ipkernel.py:287: DeprecationWarning: `should_run_async` will not call `transform_cell` automatically in the future. Please pass the result to `transformed_cell` argument and any exception that happen during thetransform in `preprocessing_exc_tuple` in IPython 7.17 and above.\n",
      "  and should_run_async(code)\n"
     ]
    },
    {
     "name": "stdout",
     "output_type": "stream",
     "text": [
      "纳入患者数量： 4713\n"
     ]
    }
   ],
   "source": [
    "# 以天为单位的uo，crea 数据\n",
    "df_type = pd.read_csv(\"/public/hanl/jupyter_dir/kidney_sepsis_penotype_v3/01.MIMICIV_SAKI_trajCluster/df_mixAK_fea4_C3.csv\")\n",
    "df_type_filt = df_type.loc[:,[\"stay_id\",\"groupHPD\"]]\n",
    "df_type_filt = df_type_filt.drop_duplicates()\n",
    "all_lst = df_type_filt.stay_id.unique().tolist()\n",
    "print(\"纳入患者数量：\",len(all_lst))\n",
    "df_type_filt[\"groupHPD\"].value_counts()\n",
    "\n",
    "###\n",
    "df_uo = pd.read_csv(\"/public/hanl/jupyter_dir/kidney_sepsis_penotype_v3/00.data_mimic/feature_data/sk_icu_feature.csv\",usecols=[\"stay_id\",\"charttime\",\"urineoutput\",\"creatinine\"])\n",
    "df_uo = df_uo[df_uo[\"stay_id\"].isin(all_lst)] \n",
    "df_uo[\"charttime\"] = pd.to_datetime(df_uo[\"charttime\"])\n",
    "df_uo = df_uo.dropna(how='all', subset=['urineoutput',\"creatinine\"])\n",
    "\n",
    "#  condition1: -4 <= time <= 28\n",
    "df_time=pd.read_csv(\"/public/hanl/jupyter_dir/kidney_sepsis_penotype_v3/00.data_mimic/disease_definition/AKI/sk_event_time.csv\")\n",
    "df_time = df_time.loc[:,[\"stay_id\", \"saki_onset\"]]\n",
    "df_time[\"saki_onset\"] = pd.to_datetime(df_time[\"saki_onset\"])\n",
    "\n",
    "df_uo_add = pd.merge(df_uo, df_time, how=\"inner\", on=\"stay_id\")\n",
    "df_uo_add[\"time\"] = (df_uo_add[\"charttime\"] - df_uo_add[\"saki_onset\"]).map(lambda x:x/np.timedelta64(24, 'h')).tolist()\n",
    "df_uo_add[\"time\"] = df_uo_add[\"time\"].map(lambda x:x//1) # -1指sepsis前6小时的数据，0指sepsis后第一个6小时的数据\n",
    "df_uo_add[\"time\"] = df_uo_add[\"time\"].map(lambda x: x+1 if x>=0 else x)\n",
    "df_uo_add = df_uo_add[(df_uo_add[\"time\"]>=-2) &(df_uo_add[\"time\"]<=7)]\n",
    "df_uo_add = df_uo_add.drop([\"charttime\",\"saki_onset\"],axis=1)\n",
    "df_uo_add = df_uo_add.groupby([\"stay_id\",\"time\"]).agg({\"urineoutput\":\"mean\",\"creatinine\":\"mean\"}).reset_index()\n",
    "\n",
    "df_fea  = df_uo_add\n",
    "df_fea = pd.merge(df_fea,df_type_filt,how=\"inner\",on=\"stay_id\")\n",
    "df_fea[\"time\"] = df_fea[\"time\"].astype(\"int\")"
   ]
  },
  {
   "cell_type": "code",
   "execution_count": 19,
   "id": "12254da3",
   "metadata": {
    "ExecuteTime": {
     "end_time": "2024-01-24T11:42:30.012854Z",
     "start_time": "2024-01-24T11:42:08.824829Z"
    }
   },
   "outputs": [
    {
     "name": "stderr",
     "output_type": "stream",
     "text": [
      "/home/hanl/miniconda3/envs/mytensor/lib/python3.9/site-packages/ipykernel/ipkernel.py:287: DeprecationWarning: `should_run_async` will not call `transform_cell` automatically in the future. Please pass the result to `transformed_cell` argument and any exception that happen during thetransform in `preprocessing_exc_tuple` in IPython 7.17 and above.\n",
      "  and should_run_async(code)\n"
     ]
    }
   ],
   "source": [
    "tmp_df = pd.DataFrame()\n",
    "df_fea = df_fea.sort_values(by=[\"stay_id\",\"time\"])\n",
    "for i,j in df_fea.groupby([\"stay_id\"]):\n",
    "    j = j.fillna(method=\"ffill\")\n",
    "    tmp_df = pd.concat([tmp_df, j], axis=0)\n",
    "df_im = tmp_df\n",
    "\n",
    "# 多重插补\n",
    "kernel = mf.ImputationKernel(\n",
    "    df_im,\n",
    "    datasets=3,\n",
    "    save_all_iterations=True,\n",
    "    random_state=10\n",
    ")\n",
    "kernel.mice(iterations = 3, n_jobs=-1)\n",
    "\n",
    "#运行mice后，从kernel中获取完整的数据集\n",
    "df_im2 = kernel.complete_data(dataset=1)\n",
    "df_im2.to_csv(\"sk_feature_timescale_Fb2_day.csv\",index=False)"
   ]
  },
  {
   "cell_type": "markdown",
   "id": "52f78506",
   "metadata": {},
   "source": [
    "# 筛选出肾相关的特征 - 用于后续聚类\n",
    "- 对基本条件和基础疾病进行 倾向性匹配\n",
    "1) sepsis_noKidney_lst v noCKD_AKI_before_sepsis_lst noCKD_sepsis_before_AKI_lst\n",
    "2) sepsis_noKidney_lst v CKD_before_sepsis_lst "
   ]
  },
  {
   "cell_type": "code",
   "execution_count": null,
   "id": "27be2478",
   "metadata": {
    "ExecuteTime": {
     "end_time": "2024-01-05T06:44:18.321293Z",
     "start_time": "2024-01-05T06:35:14.238Z"
    }
   },
   "outputs": [],
   "source": [
    "#SAKI vs sepsis_nokidney\n",
    "G2_lst = list(set(all_lst).union(sepsis_noKidney_lst))\n",
    "print(len(all_lst),len(sepsis_noKidney_lst),len(G2_lst))"
   ]
  },
  {
   "cell_type": "code",
   "execution_count": null,
   "id": "8ed947d0",
   "metadata": {
    "ExecuteTime": {
     "end_time": "2024-01-05T06:44:18.321854Z",
     "start_time": "2024-01-05T06:35:14.240Z"
    }
   },
   "outputs": [],
   "source": [
    "#以下为两组肾相关的特征：\n",
    "#1）检测类型+ 检测频率：\n",
    "# bg(3h), blood_differential(1/6h), chemistry(6/12h), coagulation(2/6h),viatl (1h), complete_blood_count(1/6/12h),urine_output(1h)"
   ]
  },
  {
   "cell_type": "markdown",
   "id": "3654d09f",
   "metadata": {},
   "source": [
    "## 倾向性评分的数据准备"
   ]
  },
  {
   "cell_type": "code",
   "execution_count": null,
   "id": "94862ade",
   "metadata": {
    "ExecuteTime": {
     "end_time": "2024-01-05T06:44:18.322370Z",
     "start_time": "2024-01-05T06:35:14.242Z"
    }
   },
   "outputs": [],
   "source": [
    "# 倾向性评分的数据准备，for R\n",
    "df_demo =  pd.read_csv(\"/public/hanl/jupyter_dir/kidney_sepsis_penotype/00.data/feature_data/sk_icu_basicinfo.csv\")\n",
    "df_demo = df_demo.loc[:,['stay_id', 'age', \"first_careunit\",'myocardial_infarct',\n",
    "       'congestive_heart_failure', 'peripheral_vascular_disease',\n",
    "       'cerebrovascular_disease', 'dementia', 'chronic_pulmonary_disease',\n",
    "       'rheumatic_disease', 'peptic_ulcer_disease', 'mild_liver_disease',\n",
    "       'diabetes_without_cc', 'diabetes_with_cc', 'paraplegia',\n",
    "       'renal_disease', 'malignant_cancer', 'severe_liver_disease',\n",
    "       'metastatic_solid_tumor', 'aids',\"apsiii\"]]\n",
    "df_demo = df_demo[df_demo[\"stay_id\"].isin(G2_lst)]\n",
    "\n",
    "df_demo[\"group_creteria\"] = 2\n",
    "df_demo.loc[df_demo[\"stay_id\"].isin(sepsis_noKidney_lst),\"group_creteria\"] = 0 #Sepsis_nokidney\n",
    "df_demo.loc[df_demo[\"stay_id\"].isin(all_lst_filt3),\"group_creteria\"] = 1 #SAKI\n",
    "\n",
    "unit_dict = {\"Medical Intensive Care Unit (MICU)\":1, \"Cardiac Vascular Intensive Care Unit (CVICU)\":2,\n",
    "            \"Medical/Surgical Intensive Care Unit (MICU/SICU)\":3, \"Surgical Intensive Care Unit (SICU)\":4,\n",
    "            \"Trauma SICU (TSICU)\":5, \"Coronary Care Unit (CCU)\":6,\"Neuro Surgical Intensive Care Unit (Neuro SICU)\":7,\n",
    "            \"Neuro Intermediate\":7, \"Neuro Stepdown\":7}\n",
    "#df_demo[\"last_careunit\"] = df_demo[\"last_careunit\"].map(unit_dict)\n",
    "df_demo[\"first_careunit\"] = df_demo[\"first_careunit\"].map(unit_dict)\n",
    "\n",
    "#df_demo[\"race\"] = df_demo[\"race\"].fillna(\"UNKNOWN\")\n",
    "#race_dict = {\"WHITE\":1, \"UNKNOWN\":2, \"BLACK\":3, \"HISPANIC\":4, \"OTHER\":2, \"ASIAN\":5, \"PORTUGUESE\":6, \"AMERICAN_INDIAN\":7, \"HAWAIIAN\":8, \"SOUTH_AMERICAN\":9,\"MULTIPLE RACE\":2}\n",
    "#df_demo[\"race\"] = df_demo[\"race\"].map(race_dict)\n",
    "\n",
    "# 插补weight\n",
    "#tmp_df = df_demo\n",
    "#from sklearn.experimental import enable_iterative_imputer\n",
    "#from sklearn.impute import IterativeImputer\n",
    "\n",
    "#iterimp = IterativeImputer(random_state = 123)\n",
    "#df_arr = iterimp.fit_transform(tmp_df)\n",
    "#df_im = pd.DataFrame(df_arr)\n",
    "#df_im.index = tmp_df.index\n",
    "#df_im.columns = tmp_df.columns\n",
    "\n",
    "#df_demo = df_im\n",
    "df_demo.to_csv(\"sk_basicinfo_for_feaSelect.csv\",index=False)"
   ]
  },
  {
   "cell_type": "code",
   "execution_count": null,
   "id": "9156c54f",
   "metadata": {
    "ExecuteTime": {
     "end_time": "2024-01-05T06:44:18.322866Z",
     "start_time": "2024-01-05T06:35:14.243Z"
    },
    "run_control": {
     "marked": false
    }
   },
   "outputs": [],
   "source": [
    "lst = str(df_demo.columns.tolist())\n",
    "lst = lst.replace(\",\",\"+\")\n",
    "lst.replace(\"'\",\"\")"
   ]
  },
  {
   "cell_type": "markdown",
   "id": "c9673360",
   "metadata": {},
   "source": [
    "## 组间FDR筛选特征"
   ]
  },
  {
   "cell_type": "code",
   "execution_count": null,
   "id": "21f6c1b8",
   "metadata": {
    "ExecuteTime": {
     "end_time": "2024-01-05T06:44:18.323434Z",
     "start_time": "2024-01-05T06:35:14.246Z"
    }
   },
   "outputs": [],
   "source": [
    "import random\n",
    "from scipy import stats\n",
    "def iter_fea_selection(data1,data2,bg,ed):\n",
    "    g1 = data1\n",
    "    g2 = data2 \n",
    "    tmp_lst = list(set(g1).union(set(g2)))\n",
    "\n",
    "    data_dir = \"/public/hanl/jupyter_dir/kidney_sepsis_penotype/00.data/feature_data/\"\n",
    "    infile = data_dir + \"sk_icu_feature.csv\"\n",
    "    df_fea = pd.read_csv(infile)\n",
    "    df_fea[\"charttime\"] = pd.to_datetime(df_fea[\"charttime\"])\n",
    "    df_fea = df_fea[df_fea[\"stay_id\"].isin(tmp_lst)] \n",
    "\n",
    "    df_sepsis_cut = df_sepsis.loc[:,[\"stay_id\", \"sepsis_onset\"]]\n",
    "\n",
    "    df_fea_add = pd.merge(df_fea, df_sepsis_cut, how=\"left\", on=\"stay_id\")\n",
    "    df_fea_add[\"interval_H\"] = (df_fea_add[\"charttime\"] - df_fea_add[\"sepsis_onset\"]).map(lambda x:x/np.timedelta64(1, 'h')).tolist()\n",
    "    df_fea_add[\"interval_H\"] = df_fea_add[\"interval_H\"].map(lambda x:x//1)\n",
    "\n",
    "    df_fea_add = df_fea_add[(df_fea_add[\"interval_H\"]>=int(bg)) & (df_fea_add[\"interval_H\"]<=int(ed))]\n",
    "    df_fea_add = df_fea_add.drop([\"charttime\",\"sepsis_onset\",\"interval_H\", \"ggt\",'gcs', 'gcs_motor', 'gcs_verbal', 'gcs_eyes', 'gcs_unable',\"rdwsd\",\"crp\",\"amylase\",\"d_dimer\",\"thrombin\", \"carboxyhemoglobin\", \"methemoglobin\",\"nrbc\"], axis=1) #,\n",
    "    df_sepsis_b12_a6= df_fea_add.groupby(\"stay_id\").agg(\"mean\")\n",
    "    df_sepsis_b12_a6 = df_sepsis_b12_a6.reset_index()\n",
    "#    print(df_sepsis_b12_a6.isna().sum()/df_sepsis_b12_a6.shape[0])\n",
    "\n",
    "    # 得到p值 \n",
    "    df = df_sepsis_b12_a6\n",
    "    group1 = df[df[\"stay_id\"].isin(g1)]\n",
    "    group2 = df[df[\"stay_id\"].isin(g2)]\n",
    "\n",
    "    col_lst = df.columns\n",
    "    tmp_df = pd.DataFrame(columns=[\"feature\", \"p-value-real\"])\n",
    "\n",
    "    import math\n",
    "    import scipy.stats as stats\n",
    "    for fea in col_lst:\n",
    "        group1_lst = group1[fea].tolist()\n",
    "        group2_lst = group2[fea].tolist()\n",
    "        group1_lst = [x for x in group1_lst if math.isnan(x) == False]\n",
    "        group2_lst = [x for x in group2_lst if math.isnan(x) == False]\n",
    "        p = stats.mannwhitneyu(group1_lst,group2_lst).pvalue #, use_continuity = False\n",
    "        tmp_df.loc[len(tmp_df)] = [fea,p]\n",
    "    return tmp_df, df_sepsis_b12_a6"
   ]
  },
  {
   "cell_type": "code",
   "execution_count": null,
   "id": "5d965d99",
   "metadata": {
    "ExecuteTime": {
     "end_time": "2024-01-05T06:44:18.323958Z",
     "start_time": "2024-01-05T06:35:14.247Z"
    },
    "scrolled": true
   },
   "outputs": [],
   "source": [
    "def FDR(x):\n",
    "# Assumes a list or numpy array x which contains p-values for multiple tests, Copied from p.adjust function from R.\"\"\"\n",
    "    o = [i[0] for i in sorted(enumerate(x), key=lambda v:v[1],reverse=True)]\n",
    "    ro = [i[0] for i in sorted(enumerate(o), key=lambda v:v[1])]\n",
    "    q = sum([1.0/i for i in range(1,len(x)+1)])\n",
    "    l = [q*len(x)/i*x[j] for i,j in zip(reversed(range(1,len(x)+1)),o)]\n",
    "    l = [l[k] if l[k] < 1.0 else 1.0 for k in ro]\n",
    "    return l\n",
    "\n",
    "\n",
    "df_G = pd.read_csv(\"SAKI_matched.csv\")\n",
    "g_aki_lst = df_G[df_G[\"group_creteria\"]==1][\"stay_id\"].tolist()\n",
    "g_nokidney_lst = df_G[df_G[\"group_creteria\"]==0][\"stay_id\"].tolist()\n",
    "\n",
    "for i in range(0,1):\n",
    "    tmp_df,Data_2group = iter_fea_selection(g_nokidney_lst, g_aki_lst, -6,18)\n",
    "p = np.array(tmp_df[\"p-value-real\"])\n",
    "print(\"原始特征数量：\", len(p))\n",
    "p_adj = FDR(p) # p_adjust_bh(p)\n",
    "tmp_df[\"p_adj\"] = p_adj\n",
    "tmp_df_bak = tmp_df\n",
    "tmp_df = tmp_df[tmp_df[\"p_adj\"]<=0.05]\n",
    "\n",
    "fea_lst2 = tmp_df[tmp_df[\"p_adj\"]<=0.05][\"feature\"].tolist()\n",
    "print(\"显著特征数量：\", len(fea_lst2))\n",
    "print(\"fea_lst:\",str(len(fea_lst2)),fea_lst2)\n"
   ]
  },
  {
   "cell_type": "code",
   "execution_count": null,
   "id": "7aa564d4",
   "metadata": {
    "ExecuteTime": {
     "end_time": "2024-01-05T06:44:18.324491Z",
     "start_time": "2024-01-05T06:35:14.249Z"
    }
   },
   "outputs": [],
   "source": [
    "fea_ = ['mchc', 'lactate', 'baseexcess', 'heart_rate', 'rdw', 'mbp', 'temperature', 'bun', 'totalco2', 'platelet', 'bicarbonate', 'pt', 'pao2fio2ratio', 'aado2', 'glucose', 'creatinine', 'spo2', 'dbp', 'sodium', 'ph', 'hemoglobin', 'rbc', 'po2', 'potassium', 'wbc', 'inr', 'urineoutput', 'mcv', 'sbp', 'ptt', 'aniongap']\n",
    "dis = [\"linear\",'beta',\"beta\",\"linear\",\"linear\",\"linear\",\"linear\",'beta',\"linear\",'beta',\"linear\",'beta',\"linear\",\"linear\",'beta','beta','beta',\"linear\",\"linear\",\"linear\",\"linear\",\"linear\",\"linear\",\"linear\",'beta','beta',\"linear\",\"linear\",\"linear\",\"beta\",\"linear\"]\n",
    "linear_lst = [i for i in range(len(dis)) if dis[i] == \"linear\"]\n",
    "fea_linear = []\n",
    "for i in linear_lst:\n",
    "    fea_linear.append(fea_[i])\n",
    "fea_beta = list(set(fea_).difference(fea_linear))\n",
    "\n",
    "df = Data_2group\n",
    "df_G = pd.read_csv(\"SAKI_matched.csv\")\n",
    "g_aki_lst = df_G[df_G[\"group_creteria\"]==1][\"stay_id\"].tolist()\n",
    "g_nokidney_lst = df_G[df_G[\"group_creteria\"]==0][\"stay_id\"].tolist()\n",
    "\n",
    "df.loc[df[\"stay_id\"].isin(g_nokidney_lst),\"group\"] = 0\n",
    "df.loc[df[\"stay_id\"].isin(g_aki_lst),\"group\"] = 1\n",
    "\n",
    "columns =  ['heart_rate', 'sbp', 'dbp', 'mbp', 'resp_rate', 'temperature', 'spo2', 'glucose', 'urineoutput', 'so2', 'po2', 'pco2', 'fio2', 'aado2', 'pao2fio2ratio', 'ph', 'baseexcess', 'bicarbonate', 'chloride', 'ck_mb', 'hematocrit', 'hemoglobin', 'potassium', 'sodium', 'wbc', 'free_calcium', 'calcium', 'totalco2', 'lactate', 'basophils_abs', 'eosinophils_abs', 'lymphocytes_abs', 'monocytes_abs', 'neutrophils_abs', 'basophils', 'eosinophils', 'lymphocytes', 'monocytes', 'neutrophils', 'atypical_lymphocytes', 'bands', 'immature_granulocytes', 'metamyelocytes', 'albumin', 'globulin', 'total_protein', 'aniongap', 'bun', 'creatinine', 'fibrinogen', 'inr', 'pt', 'ptt', 'mch', 'mchc', 'mcv', 'platelet', 'rbc', 'rdw', 'alt', 'alp', 'ast', 'bilirubin_total', 'bilirubin_direct', 'bilirubin_indirect', 'ck_cpk', 'ld_ldh', 'sofa']\n",
    "nonnormal = list(set(columns).intersection(fea_beta))\n",
    "\n",
    "df_fea_stat = TableOne(df, columns=columns, nonnormal=nonnormal, groupby = [\"group\"], pval=True)\n",
    "\n",
    "df_fea_stat = pd.DataFrame(df_fea_stat.tableone).reset_index()\n",
    "df_fea_stat = df_fea_stat.droplevel(level=0, axis=1)\n",
    "df_fea_stat"
   ]
  },
  {
   "cell_type": "markdown",
   "id": "0270439c",
   "metadata": {},
   "source": [
    "#0-24h\n",
    "['urineoutput', 'potassium', 'alp']\n",
    "\n",
    "#0-48h \n",
    "['urineoutput', 'bicarbonate', 'potassium', 'alp', 'ld_ldh']\n",
    "\n",
    "#-12至12\n",
    "['resp_rate', 'spo2', 'urineoutput', 'po2', 'bicarbonate', 'potassium', 'basophils_abs', 'eosinophils_abs', 'lymphocytes_abs', 'eosinophils', 'lymphocytes', 'monocytes', 'aniongap', 'mchc', 'platelet', 'sofa']\n",
    "\n",
    "#-12至24\n",
    "['resp_rate', 'spo2', 'urineoutput', 'po2', 'bicarbonate', 'potassium', 'basophils_abs', 'eosinophils_abs', 'lymphocytes_abs', 'eosinophils', 'lymphocytes', 'monocytes', 'aniongap', 'mchc', 'sofa']\n",
    "#-12至48\n",
    "['urineoutput', 'po2', 'baseexcess', 'bicarbonate', 'potassium', 'basophils_abs', 'eosinophils_abs', 'lymphocytes_abs', 'eosinophils', 'lymphocytes', 'monocytes', 'aniongap']"
   ]
  },
  {
   "cell_type": "code",
   "execution_count": null,
   "id": "d4b122a4",
   "metadata": {
    "ExecuteTime": {
     "end_time": "2024-01-05T06:44:18.325026Z",
     "start_time": "2024-01-05T06:35:14.251Z"
    }
   },
   "outputs": [],
   "source": [
    "fea_lst_FDR = fea_lst2"
   ]
  },
  {
   "cell_type": "markdown",
   "id": "3a28fdb1",
   "metadata": {},
   "source": [
    "# V2 筛选出肾相关的特征"
   ]
  },
  {
   "cell_type": "code",
   "execution_count": null,
   "id": "522b378f",
   "metadata": {
    "ExecuteTime": {
     "end_time": "2024-01-05T06:44:18.325563Z",
     "start_time": "2024-01-05T06:35:14.253Z"
    }
   },
   "outputs": [],
   "source": [
    "#  找相关特征(适合正太分布特征)\n",
    "#|r|<= 0.3 不存在线性相关， 0.3<=|r|<= 0.5 低度线性关系， 0.5<=|r|<= 0.8 显著线性关系， |r| > 0.8 高度线性关系\n",
    "\n",
    "infile = \"./sk_feature_timescale_Fb2.csv\"\n",
    "df_fea = pd.read_csv(infile)\n",
    "\n",
    "num = 0.5\n",
    "df = df_fea\n",
    "\n",
    "df_corr = df.corr(method='spearman', min_periods=1)\n",
    "print(pd.DataFrame(df_corr.loc[(df_corr[\"creatinine\"]>=num) | (df_corr[\"creatinine\"]<=-num), \"creatinine\"]))\n",
    "fea2_relate =  pd.DataFrame(df_corr.loc[(df_corr[\"creatinine\"]>=num) | (df_corr[\"creatinine\"]<=-num), \"creatinine\"]).index.tolist()\n",
    "\n",
    "print(\"_________________\")\n",
    "print(pd.DataFrame(df_corr.loc[(df_corr[\"urineoutput\"]>=num) | (df_corr[\"urineoutput\"]<=-num), \"urineoutput\"]))\n",
    "fea1_relate = pd.DataFrame(df_corr.loc[(df_corr[\"urineoutput\"]>=num) | (df_corr[\"urineoutput\"]<=-num), \"urineoutput\"]).index.tolist()\n",
    "\n",
    "print(\"_________________\")\n",
    "print(pd.DataFrame(df_corr.loc[(df_corr[\"bun\"]>=num) | (df_corr[\"bun\"]<=-num), \"bun\"]))\n",
    "#print(\"_________________\")\n",
    "#fea = \"aniongap\"\n",
    "#print(pd.DataFrame(df_corr.loc[(df_corr[fea]>=num) | (df_corr[fea]<=-num), fea]))\n",
    "\n",
    "fea_corr_lst = list(set(fea2_relate).union(set(fea1_relate)))\n",
    "print(len(fea_corr_lst), fea_corr_lst)"
   ]
  },
  {
   "cell_type": "markdown",
   "id": "ebaed699",
   "metadata": {},
   "source": [
    "## 输出最终肾相关的特征"
   ]
  },
  {
   "cell_type": "code",
   "execution_count": null,
   "id": "9962bfbc",
   "metadata": {
    "ExecuteTime": {
     "end_time": "2024-01-05T06:44:18.326111Z",
     "start_time": "2024-01-05T06:35:14.256Z"
    },
    "scrolled": true
   },
   "outputs": [],
   "source": [
    "# 1h \n",
    "vital_lst = ['heart_rate', 'sbp', 'dbp', 'mbp', 'resp_rate', 'temperature', 'spo2', 'glucose']\n",
    "print(\"vital_lst\",len(vital_lst), len(list(set(vital_lst).intersection(set(fea_lst_FDR)))))\n",
    "print(list(set(vital_lst).intersection(set(fea_lst_FDR))))\n",
    "\n",
    "# 2/6h\n",
    "coagulation_lst = ['d_dimer', 'fibrinogen', 'thrombin', 'inr', 'pt', 'ptt']\n",
    "print(\"coagulation_lst\",len(coagulation_lst), len(list(set(coagulation_lst).intersection(set(fea_lst_FDR)))))\n",
    "print(list(set(coagulation_lst).intersection(set(fea_lst_FDR))))\n",
    "\n",
    "# 1/6/12h\n",
    "complete_blood_count_lst = ['mch', 'mchc', 'mcv', 'platelet', 'rbc', 'rdw','hematocrit', 'hemoglobin', 'wbc']\n",
    "print(\"complete_blood_count_lst\", len(complete_blood_count_lst), len(list(set(complete_blood_count_lst).intersection(set(fea_lst_FDR)))))\n",
    "print(list(set(complete_blood_count_lst).intersection(set(fea_lst_FDR))))\n",
    "\n",
    "# 1h\n",
    "urine_output_lst =['urineoutput']\n",
    "print(\"urine_output_lst\", len(urine_output_lst), len(list(set(urine_output_lst).intersection(set(fea_lst_FDR)))))\n",
    "print(list(set(urine_output_lst).intersection(set(fea_lst_FDR))))\n",
    "\n",
    "# 3h\n",
    "blood_gas_lst =['so2', 'po2', 'pco2', 'fio2_chartevents', 'fio2', 'aado2', 'aado2_calc', 'pao2fio2ratio', 'ph', 'baseexcess', 'bicarbonate', 'carboxyhemoglobin', 'methemoglobin', 'totalco2','hematocrit', 'hemoglobin', 'chloride', 'calcium', 'temperature', 'potassium', 'sodium', 'lactate', 'glucose']\n",
    "print(\"blood_gas_lst\", len(blood_gas_lst), len(list(set(blood_gas_lst).intersection(set(fea_lst_FDR)))))\n",
    "print(list(set(blood_gas_lst).intersection(set(fea_lst_FDR))))\n",
    "\n",
    "# \n",
    "gcs_lst = ['gcs_motor', 'gcs_verbal', 'gcs_eyes' ,'gcs', 'gcs_unable']\n",
    "print(\"gcs_lst\",len(gcs_lst), len(list(set(gcs_lst).intersection(set(fea_lst_FDR)))))\n",
    "print(list(set(gcs_lst).intersection(set(fea_lst_FDR))))\n",
    "\n",
    "eny_lst = ['alt', 'alp', 'ast', 'amylase', 'bilirubin_total', 'bilirubin_direct', 'bilirubin_indirect', 'ck_cpk', 'ggt', 'ld_ldh']\n",
    "print(\"eny_lst\", len(eny_lst), len(list(set(eny_lst).intersection(set(fea_lst_FDR)))))\n",
    "print(list(set(eny_lst).intersection(set(fea_lst_FDR))))\n",
    "\n",
    "# 6/12h\n",
    "chemistry_lst = ['albumin', 'globulin', 'total_protein','aniongap', 'bun', 'creatinine','potassium', 'sodium','bicarbonate', 'chloride', 'calcium']\n",
    "print(\"chemistry_lst\", len(chemistry_lst), len(list(set(chemistry_lst).intersection(set(fea_lst_FDR)))))\n",
    "print(list(set(chemistry_lst).intersection(set(fea_lst_FDR))))\n",
    "\n",
    "#1/6h\n",
    "blood_differential_lst = ['basophils_abs', 'eosinophils_abs', 'lymphocytes_abs', 'monocytes_abs', 'neutrophils_abs', 'basophils', 'eosinophils', 'lymphocytes', 'monocytes', 'neutrophils', 'atypical_lymphocytes', 'bands', 'immature_granulocytes', 'metamyelocytes', 'nrbc']\n",
    "print(\"blood_differential_lst\",len(blood_differential_lst), len(list(set(blood_differential_lst).intersection(set(fea_lst_FDR)))))\n",
    "print(list(set(blood_differential_lst).intersection(set(fea_lst_FDR))))"
   ]
  },
  {
   "cell_type": "code",
   "execution_count": null,
   "id": "03c1845c",
   "metadata": {
    "ExecuteTime": {
     "end_time": "2024-01-05T06:44:18.326603Z",
     "start_time": "2024-01-05T06:35:14.258Z"
    },
    "run_control": {
     "marked": true
    }
   },
   "outputs": [],
   "source": [
    "del_lst = list(set(fea_lst_FDR).difference(urine_output_lst,chemistry_lst,blood_gas_lst))\n",
    "fea_lst_FDR = list(set(fea_lst_FDR).difference(del_lst))\n",
    "fea_lst_FDR.append(\"stay_id\")\n",
    "fea_lst_FDR.append(\"charttime\")\n",
    "print(\"特征：\",len(fea_lst_FDR),fea_lst_FDR)"
   ]
  },
  {
   "cell_type": "code",
   "execution_count": null,
   "id": "29423caf",
   "metadata": {},
   "outputs": [],
   "source": []
  }
 ],
 "metadata": {
  "kernelspec": {
   "display_name": "Python [conda env:mytensor]",
   "language": "python",
   "name": "conda-env-mytensor-py"
  },
  "language_info": {
   "codemirror_mode": {
    "name": "ipython",
    "version": 3
   },
   "file_extension": ".py",
   "mimetype": "text/x-python",
   "name": "python",
   "nbconvert_exporter": "python",
   "pygments_lexer": "ipython3",
   "version": "3.9.12"
  },
  "toc": {
   "base_numbering": 1,
   "nav_menu": {},
   "number_sections": true,
   "sideBar": true,
   "skip_h1_title": false,
   "title_cell": "Table of Contents",
   "title_sidebar": "Contents",
   "toc_cell": false,
   "toc_position": {
    "height": "calc(100% - 180px)",
    "left": "10px",
    "top": "150px",
    "width": "286.458px"
   },
   "toc_section_display": true,
   "toc_window_display": true
  },
  "varInspector": {
   "cols": {
    "lenName": 16,
    "lenType": 16,
    "lenVar": 40
   },
   "kernels_config": {
    "python": {
     "delete_cmd_postfix": "",
     "delete_cmd_prefix": "del ",
     "library": "var_list.py",
     "varRefreshCmd": "print(var_dic_list())"
    },
    "r": {
     "delete_cmd_postfix": ") ",
     "delete_cmd_prefix": "rm(",
     "library": "var_list.r",
     "varRefreshCmd": "cat(var_dic_list()) "
    }
   },
   "types_to_exclude": [
    "module",
    "function",
    "builtin_function_or_method",
    "instance",
    "_Feature"
   ],
   "window_display": false
  }
 },
 "nbformat": 4,
 "nbformat_minor": 5
}
