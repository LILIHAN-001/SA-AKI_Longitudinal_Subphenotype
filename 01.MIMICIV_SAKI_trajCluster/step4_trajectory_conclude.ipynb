{
 "cells": [
  {
   "cell_type": "code",
   "execution_count": 1,
   "id": "f9f198aa",
   "metadata": {
    "ExecuteTime": {
     "end_time": "2024-01-21T07:05:49.188828Z",
     "start_time": "2024-01-21T07:05:43.691401Z"
    }
   },
   "outputs": [],
   "source": [
    "import pandas as pd\n",
    "import numpy as np\n",
    "import matplotlib.pyplot as plt\n",
    "pd.options.display.max_rows = 300\n",
    "import math\n",
    "import datetime as dt\n",
    "import itertools\n",
    "import random\n",
    "import scipy.stats as stats\n",
    "import seaborn as sns"
   ]
  },
  {
   "cell_type": "code",
   "execution_count": null,
   "id": "35428004",
   "metadata": {
    "ExecuteTime": {
     "end_time": "2024-01-21T07:05:49.676353Z",
     "start_time": "2024-01-21T07:05:49.190897Z"
    }
   },
   "outputs": [],
   "source": [
    "df_type = pd.read_csv(\"/public/hanl/jupyter_dir/kidney_sepsis_penotype_v3/01.MIMICIV_SAKI_trajCluster/df_mixAK_fea4_C3.csv\")\n",
    "df_type_filt = df_type.loc[:,[\"stay_id\",\"groupHPD\"]]\n",
    "df_type_filt = df_type_filt.drop_duplicates()\n",
    "all_lst = df_type_filt.stay_id.unique().tolist()\n",
    "print(\"Number of included patients:\",len(all_lst))\n",
    "df_type_filt[\"groupHPD\"].value_counts()\n"
   ]
  },
  {
   "cell_type": "code",
   "execution_count": 3,
   "id": "25c5e320",
   "metadata": {
    "ExecuteTime": {
     "end_time": "2024-01-21T07:05:49.757114Z",
     "start_time": "2024-01-21T07:05:49.677610Z"
    }
   },
   "outputs": [
    {
     "data": {
      "text/html": [
       "<div>\n",
       "<style scoped>\n",
       "    .dataframe tbody tr th:only-of-type {\n",
       "        vertical-align: middle;\n",
       "    }\n",
       "\n",
       "    .dataframe tbody tr th {\n",
       "        vertical-align: top;\n",
       "    }\n",
       "\n",
       "    .dataframe thead th {\n",
       "        text-align: right;\n",
       "    }\n",
       "</style>\n",
       "<table border=\"1\" class=\"dataframe\">\n",
       "  <thead>\n",
       "    <tr style=\"text-align: right;\">\n",
       "      <th></th>\n",
       "      <th>stay_id</th>\n",
       "      <th>first_aki_stage</th>\n",
       "      <th>max_aki_stage</th>\n",
       "      <th>aki_endstage</th>\n",
       "      <th>groupHPD</th>\n",
       "    </tr>\n",
       "  </thead>\n",
       "  <tbody>\n",
       "    <tr>\n",
       "      <th>0</th>\n",
       "      <td>30003598</td>\n",
       "      <td>2</td>\n",
       "      <td>3</td>\n",
       "      <td>0</td>\n",
       "      <td>1</td>\n",
       "    </tr>\n",
       "  </tbody>\n",
       "</table>\n",
       "</div>"
      ],
      "text/plain": [
       "    stay_id  first_aki_stage  max_aki_stage  aki_endstage  groupHPD\n",
       "0  30003598                2              3             0         1"
      ]
     },
     "execution_count": 3,
     "metadata": {},
     "output_type": "execute_result"
    }
   ],
   "source": [
    "df_sk_first_and_max_stage = pd.read_csv(\"/public/hanl/jupyter_dir/kidney_sepsis_penotype_v3/00.data_mimic/disease_definition/AKI/sk_first_and_max_stage.csv\")\n",
    "df_sk_first_and_max_stage = df_sk_first_and_max_stage.loc[:,[\"stay_id\",\"first_aki_stage\", \"max_aki_stage\",\"aki_endstage\"]]\n",
    "df_sk_first_and_max_stage = pd.merge(df_sk_first_and_max_stage, df_type_filt, how=\"inner\", on = \"stay_id\")\n",
    "df_sk_first_and_max_stage.head(1)"
   ]
  },
  {
   "cell_type": "code",
   "execution_count": 4,
   "id": "5cc682f1",
   "metadata": {
    "ExecuteTime": {
     "end_time": "2024-01-21T07:05:50.786645Z",
     "start_time": "2024-01-21T07:05:49.758183Z"
    }
   },
   "outputs": [
    {
     "name": "stdout",
     "output_type": "stream",
     "text": [
      "p-value annotation legend:\n",
      "      ns: p <= 1.00e+00\n",
      "       *: 1.00e-02 < p <= 5.00e-02\n",
      "      **: 1.00e-03 < p <= 1.00e-02\n",
      "     ***: 1.00e-04 < p <= 1.00e-03\n",
      "    ****: p <= 1.00e-04\n",
      "\n",
      "1 vs. 2: Mann-Whitney-Wilcoxon test two-sided, P_val:9.792e-01 U_stat=1.982e+06\n",
      "2 vs. 3: Mann-Whitney-Wilcoxon test two-sided, P_val:1.560e-01 U_stat=5.326e+05\n",
      "1 vs. 3: Mann-Whitney-Wilcoxon test two-sided, P_val:1.820e-01 U_stat=2.262e+05\n"
     ]
    },
    {
     "data": {
      "image/png": "[encoded data removed]",
      "text/plain": [
       "<Figure size 300x200 with 1 Axes>"
      ]
     },
     "metadata": {},
     "output_type": "display_data"
    }
   ],
   "source": [
    "df = df_sk_first_and_max_stage\n",
    "df[\"aki_stage\"] = df[\"first_aki_stage\"]\n",
    "import seaborn as sns\n",
    "fig, ax = plt.subplots(1,1, figsize=(3,2))\n",
    "ax=plt.gca()\n",
    "ax.spines['right'].set_visible(False)\n",
    "ax.spines['left'].set_visible(False)\n",
    "ax.spines['top'].set_visible(False) \n",
    "f1 = plt.boxplot([df[df[\"groupHPD\"]==1][\"aki_stage\"], df[df[\"groupHPD\"]==2][\"aki_stage\"], df[df[\"groupHPD\"]==3][\"aki_stage\"]],\n",
    "           whis=(10,90),showfliers=False,showmeans=True,patch_artist=True,meanprops={'marker':'D','markerfacecolor':'black','markersize':3,'markeredgecolor':'black'},medianprops={'color':'black'}) \n",
    "color = [\"#74a8ff\",\"#3fc968\",\"#f8746a\"]\n",
    "for box,c in zip(f1['boxes'], color):\n",
    "    box.set(facecolor = c,edgecolor='black')\n",
    "plt.ylim([0,3])   \n",
    "plt.ylabel(\"First AKI stages\")\n",
    "plt.xticks([1,2,3],[\"C1\",\"C2\",\"C3\"]) \n",
    "\n",
    "from statannotations.Annotator import Annotator\n",
    "box_pairs = [(2,1),(3,1),(3,2)]\n",
    "fig_args = {'x': 'groupHPD',\n",
    "            'y': 'aki_stage',\n",
    "            'data': df,\n",
    "            'dodge': True}\n",
    "annotator = Annotator(ax=ax, pairs=box_pairs, **fig_args)\n",
    "\n",
    "# fig_args_horiz = {**fig_args,'x': 'during_time', 'y': 'groupHPD'}\n",
    "configuration = {'test':'Mann-Whitney', 'comparisons_correction':None, 'text_format':'star', 'loc':'outside'}\n",
    "# annotator.new_plot(ax, orient='h', **fig_args_horiz)\n",
    "annotator.configure(**configuration).apply_test()\n",
    "annotator.apply_and_annotate()\n",
    "plt.savefig('./result/First_AKI_stages.pdf', bbox_inches = 'tight')\n",
    "plt.show()"
   ]
  },
  {
   "cell_type": "code",
   "execution_count": 5,
   "id": "8a6defdc",
   "metadata": {
    "ExecuteTime": {
     "end_time": "2024-01-21T07:05:50.997327Z",
     "start_time": "2024-01-21T07:05:50.787599Z"
    }
   },
   "outputs": [
    {
     "name": "stdout",
     "output_type": "stream",
     "text": [
      "p-value annotation legend:\n",
      "      ns: p <= 1.00e+00\n",
      "       *: 1.00e-02 < p <= 5.00e-02\n",
      "      **: 1.00e-03 < p <= 1.00e-02\n",
      "     ***: 1.00e-04 < p <= 1.00e-03\n",
      "    ****: p <= 1.00e-04\n",
      "\n",
      "1 vs. 2: Mann-Whitney-Wilcoxon test two-sided, P_val:2.966e-12 U_stat=2.197e+06\n",
      "2 vs. 3: Mann-Whitney-Wilcoxon test two-sided, P_val:2.577e-128 U_stat=2.011e+05\n",
      "1 vs. 3: Mann-Whitney-Wilcoxon test two-sided, P_val:3.259e-60 U_stat=1.156e+05\n"
     ]
    },
    {
     "data": {
      "image/png": "[encoded data removed]",
      "text/plain": [
       "<Figure size 300x200 with 1 Axes>"
      ]
     },
     "metadata": {},
     "output_type": "display_data"
    }
   ],
   "source": [
    "df = df_sk_first_and_max_stage\n",
    "df[\"aki_stage\"] = df[\"max_aki_stage\"]\n",
    "import seaborn as sns\n",
    "fig, ax = plt.subplots(1,1, figsize=(3,2))\n",
    "ax=plt.gca()\n",
    "ax.spines['right'].set_visible(False)\n",
    "ax.spines['left'].set_visible(False)\n",
    "ax.spines['top'].set_visible(False) \n",
    "f1 = plt.boxplot([df[df[\"groupHPD\"]==1][\"aki_stage\"], df[df[\"groupHPD\"]==2][\"aki_stage\"], df[df[\"groupHPD\"]==3][\"aki_stage\"]],\n",
    "           whis=(10,90),showfliers=False,showmeans=True, patch_artist=True,meanprops={'marker':'D','markerfacecolor':'black','markersize':3,'markeredgecolor':'black'},medianprops={'color':'black'}) \n",
    "color = [\"#74a8ff\",\"#3fc968\",\"#f8746a\"]\n",
    "for box,c in zip(f1['boxes'], color):\n",
    "    box.set(facecolor = c,edgecolor='black')\n",
    "plt.ylim([0,3])   \n",
    "plt.ylabel(\"Max AKI stages\")\n",
    "plt.xticks([1,2,3],[\"C1\",\"C2\",\"C3\"]) \n",
    "\n",
    "from statannotations.Annotator import Annotator\n",
    "box_pairs = [(2,1),(3,1),(3,2)]\n",
    "fig_args = {'x': 'groupHPD',\n",
    "            'y': 'aki_stage',\n",
    "            'data': df,\n",
    "            'dodge': True}\n",
    "annotator = Annotator(ax=ax, pairs=box_pairs, **fig_args)\n",
    "\n",
    "# fig_args_horiz = {**fig_args,'x': 'during_time', 'y': 'groupHPD'}\n",
    "configuration = {'test':'Mann-Whitney', 'comparisons_correction':None, 'text_format':'star', 'loc':'outside'}\n",
    "# annotator.new_plot(ax, orient='h', **fig_args_horiz)\n",
    "annotator.configure(**configuration).apply_test()\n",
    "annotator.apply_and_annotate()\n",
    "plt.savefig('./result/Max_AKI_stages.pdf', bbox_inches = 'tight')\n",
    "plt.show()"
   ]
  },
  {
   "cell_type": "code",
   "execution_count": 6,
   "id": "cb863bed",
   "metadata": {
    "ExecuteTime": {
     "end_time": "2024-01-21T07:05:51.207295Z",
     "start_time": "2024-01-21T07:05:50.998260Z"
    }
   },
   "outputs": [
    {
     "name": "stdout",
     "output_type": "stream",
     "text": [
      "p-value annotation legend:\n",
      "      ns: p <= 1.00e+00\n",
      "       *: 1.00e-02 < p <= 5.00e-02\n",
      "      **: 1.00e-03 < p <= 1.00e-02\n",
      "     ***: 1.00e-04 < p <= 1.00e-03\n",
      "    ****: p <= 1.00e-04\n",
      "\n",
      "1 vs. 2: Mann-Whitney-Wilcoxon test two-sided, P_val:1.149e-10 U_stat=2.192e+06\n",
      "2 vs. 3: Mann-Whitney-Wilcoxon test two-sided, P_val:5.991e-80 U_stat=2.601e+05\n",
      "1 vs. 3: Mann-Whitney-Wilcoxon test two-sided, P_val:1.652e-44 U_stat=1.294e+05\n"
     ]
    },
    {
     "data": {
      "image/png": "[encoded data removed]",
      "text/plain": [
       "<Figure size 300x200 with 1 Axes>"
      ]
     },
     "metadata": {},
     "output_type": "display_data"
    }
   ],
   "source": [
    "df = df_sk_first_and_max_stage\n",
    "df[\"aki_stage\"] = df[\"aki_endstage\"]\n",
    "import seaborn as sns\n",
    "fig, ax = plt.subplots(1,1, figsize=(3,2))\n",
    "ax=plt.gca()\n",
    "ax.spines['right'].set_visible(False)\n",
    "ax.spines['left'].set_visible(False)\n",
    "ax.spines['top'].set_visible(False) \n",
    "f1 = plt.boxplot([df[df[\"groupHPD\"]==1][\"aki_stage\"], df[df[\"groupHPD\"]==2][\"aki_stage\"], df[df[\"groupHPD\"]==3][\"aki_stage\"]],\n",
    "           whis=(10,90),showfliers=False,showmeans=True, patch_artist=True,meanprops={'marker':'D','markerfacecolor':'black','markersize':3,'markeredgecolor':'black'},medianprops={'color':'black'}) \n",
    "color = [\"#74a8ff\",\"#3fc968\",\"#f8746a\"]\n",
    "for box,c in zip(f1['boxes'], color):\n",
    "    box.set(facecolor = c,edgecolor='black')\n",
    "plt.ylim([0,3])   \n",
    "plt.ylabel(\"End AKI stages\")\n",
    "plt.xticks([1,2,3],[\"C1\",\"C2\",\"C3\"]) \n",
    "\n",
    "from statannotations.Annotator import Annotator\n",
    "box_pairs = [(2,1),(3,1),(3,2)]\n",
    "fig_args = {'x': 'groupHPD',\n",
    "            'y': 'aki_stage',\n",
    "            'data': df,\n",
    "            'dodge': True}\n",
    "annotator = Annotator(ax=ax, pairs=box_pairs, **fig_args)\n",
    "\n",
    "# fig_args_horiz = {**fig_args,'x': 'during_time', 'y': 'groupHPD'}\n",
    "configuration = {'test':'Mann-Whitney', 'comparisons_correction':None, 'text_format':'star', 'loc':'outside'}\n",
    "# annotator.new_plot(ax, orient='h', **fig_args_horiz)\n",
    "annotator.configure(**configuration).apply_test()\n",
    "annotator.apply_and_annotate()\n",
    "plt.savefig('./result/End_AKI_stages.pdf', bbox_inches = 'tight')\n",
    "plt.show()"
   ]
  },
  {
   "cell_type": "markdown",
   "id": "d056e181",
   "metadata": {
    "ExecuteTime": {
     "end_time": "2023-12-13T07:49:44.408755Z",
     "start_time": "2023-12-13T07:49:43.921242Z"
    },
    "run_control": {
     "marked": true
    }
   },
   "source": [
    "# Distribution on Stages"
   ]
  },
  {
   "cell_type": "code",
   "execution_count": null,
   "id": "8997baa5",
   "metadata": {
    "ExecuteTime": {
     "end_time": "2024-01-21T07:05:52.221422Z",
     "start_time": "2024-01-21T07:05:51.208217Z"
    }
   },
   "outputs": [
    {
     "name": "stdout",
     "output_type": "stream",
     "text": [
      "1 1.199537750385208\n",
      "2 1.2009819967266775\n",
      "3 1.2333333333333334\n"
     ]
    },
    {
     "data": {
      "image/png": "[encoded data removed]",
      "text/plain": [
       "<Figure size 300x200 with 1 Axes>"
      ]
     },
     "metadata": {},
     "output_type": "display_data"
    }
   ],
   "source": [
    "import ptitprince as pt\n",
    "# Cloud and rain Figure\n",
    "df = df_sk_first_and_max_stage\n",
    "df[\"aki_stage\"] = df[\"first_aki_stage\"]\n",
    "import seaborn as sns\n",
    "fig, ax = plt.subplots(1,1, figsize=(3,2))\n",
    "ax=plt.gca()\n",
    "ax.spines['right'].set_visible(False)\n",
    "ax.spines['left'].set_visible(False)\n",
    "ax.spines['top'].set_visible(False) \n",
    "ax = pt.RainCloud(x=\"groupHPD\", y=\"aki_stage\", data=df, palette= [\"#74a8ff\",\"#3fc968\",\"#f8746a\"], bw=.5, width_viol=.6, move=.2, point_size=0,box_showfliers=False, ax=ax)\n",
    "\n",
    "\n",
    "plt.xlabel(\"First AKI stages\")\n",
    "plt.xticks([0,1,2],[\"C1\",\"C2\",\"C3\"]) \n",
    "\n",
    "# Add mean value\n",
    "for group, values in df.groupby('groupHPD')['aki_stage']:\n",
    "    mean_value = values.mean()\n",
    "    print(group,mean_value)\n",
    "    group = group-1\n",
    "    ax.scatter([group], [mean_value], color='black', marker='D', s=5, zorder=3)\n",
    "\n",
    "plt.show()"
   ]
  },
  {
   "cell_type": "code",
   "execution_count": null,
   "id": "ad0dba8d",
   "metadata": {
    "ExecuteTime": {
     "end_time": "2024-01-21T07:05:52.366850Z",
     "start_time": "2024-01-21T07:05:52.223119Z"
    }
   },
   "outputs": [
    {
     "name": "stdout",
     "output_type": "stream",
     "text": [
      "1 2.1818181818181817\n",
      "2 2.0631751227495907\n",
      "3 2.772222222222222\n"
     ]
    },
    {
     "data": {
      "image/png": "[encoded data removed]",
      "text/plain": [
       "<Figure size 300x200 with 1 Axes>"
      ]
     },
     "metadata": {},
     "output_type": "display_data"
    }
   ],
   "source": [
    "import ptitprince as pt\n",
    "df = df_sk_first_and_max_stage\n",
    "df[\"aki_stage\"] = df[\"max_aki_stage\"]\n",
    "import seaborn as sns\n",
    "fig, ax = plt.subplots(1,1, figsize=(3,2))\n",
    "ax=plt.gca()\n",
    "ax.spines['right'].set_visible(False)\n",
    "ax.spines['left'].set_visible(False)\n",
    "ax.spines['top'].set_visible(False) \n",
    "ax = pt.RainCloud(x=\"groupHPD\", y=\"aki_stage\", data=df, palette= [\"#74a8ff\",\"#3fc968\",\"#f8746a\"], bw=.5, width_viol=.6, move=.2, \n",
    "                  point_size=0,box_showfliers=False,alpha=0.8, ax=ax)\n",
    "\n",
    "# Add mean value\n",
    "for group, values in df.groupby('groupHPD')['aki_stage']:\n",
    "    mean_value = values.mean()\n",
    "    print(group,mean_value)\n",
    "    group = group-1\n",
    "    ax.scatter([group], [mean_value], color='black', marker='D', s=5, zorder=3)\n",
    "    \n",
    "plt.xlabel(\"Max AKI stages\")\n",
    "plt.xticks([0,1,2],[\"C1\",\"C2\",\"C3\"]) \n",
    "plt.show()"
   ]
  },
  {
   "cell_type": "code",
   "execution_count": null,
   "id": "291d3125",
   "metadata": {
    "ExecuteTime": {
     "end_time": "2024-01-21T07:05:52.506396Z",
     "start_time": "2024-01-21T07:05:52.368049Z"
    }
   },
   "outputs": [
    {
     "name": "stdout",
     "output_type": "stream",
     "text": [
      "1 0.7842835130970724\n",
      "2 0.5797054009819967\n",
      "3 1.8222222222222222\n"
     ]
    },
    {
     "data": {
      "image/png": "[encoded data removed]",
      "text/plain": [
       "<Figure size 300x200 with 1 Axes>"
      ]
     },
     "metadata": {},
     "output_type": "display_data"
    }
   ],
   "source": [
    "import ptitprince as pt\n",
    "df = df_sk_first_and_max_stage\n",
    "df[\"aki_stage\"] = df[\"aki_endstage\"]\n",
    "import seaborn as sns\n",
    "fig, ax = plt.subplots(1,1, figsize=(3,2))\n",
    "ax=plt.gca()\n",
    "ax.spines['right'].set_visible(False)\n",
    "ax.spines['left'].set_visible(False)\n",
    "ax.spines['top'].set_visible(False) \n",
    "ax = pt.RainCloud(x=\"groupHPD\", y=\"aki_stage\", data=df, palette= [\"#74a8ff\",\"#3fc968\",\"#f8746a\"], bw=.5, width_viol=.6, move=.2, point_size=0,box_showfliers=False, ax=ax)\n",
    "\n",
    "# Add mean value\n",
    "for group, values in df.groupby('groupHPD')['aki_stage']:\n",
    "    mean_value = values.mean()\n",
    "    print(group,mean_value)\n",
    "    group = group-1\n",
    "    ax.scatter([group], [mean_value], color='black', marker='D', s=5, zorder=3)\n",
    "plt.xlabel(\"End AKI stages\")\n",
    "plt.xticks([0,1,2],[\"C1\",\"C2\",\"C3\"]) \n",
    "plt.show()"
   ]
  },
  {
   "cell_type": "code",
   "execution_count": null,
   "id": "d10fdd24",
   "metadata": {
    "ExecuteTime": {
     "end_time": "2024-01-21T07:05:53.977850Z",
     "start_time": "2024-01-21T07:05:52.507338Z"
    },
    "scrolled": false
   },
   "outputs": [
    {
     "name": "stdout",
     "output_type": "stream",
     "text": [
      "1 1.2009819967266775\n",
      "2 1.199537750385208\n",
      "3 1.2333333333333334\n",
      "1 2.0631751227495907\n",
      "2 2.1818181818181817\n",
      "3 2.772222222222222\n",
      "1 0.5797054009819967\n",
      "2 0.7842835130970724\n",
      "3 1.8222222222222222\n"
     ]
    },
    {
     "data": {
      "image/png": "[encoded data removed]",
      "text/plain": [
       "<Figure size 1000x300 with 3 Axes>"
      ]
     },
     "metadata": {},
     "output_type": "display_data"
    }
   ],
   "source": [
    "import ptitprince as pt\n",
    "import seaborn as sns\n",
    "import matplotlib.pyplot as plt\n",
    "from matplotlib.gridspec import GridSpec\n",
    "\n",
    "fig = plt.figure(figsize=(10,3))\n",
    "gs = GridSpec(1, 3, width_ratios=[1, 1, 1])\n",
    "\n",
    "positions = {\n",
    "    1: 2,\n",
    "    2: 1,\n",
    "    3: 3,\n",
    "}\n",
    "df_sk_first_and_max_stage['x_position'] = df_sk_first_and_max_stage['groupHPD'].map(positions)\n",
    "\n",
    "ax1 = plt.subplot(gs[0])\n",
    "ax1.spines['right'].set_visible(False)\n",
    "ax1.spines['left'].set_visible(False)\n",
    "ax1.spines['top'].set_visible(False)\n",
    "ax1 = pt.RainCloud(x=\"x_position\", y=\"first_aki_stage\", data=df_sk_first_and_max_stage, palette=[ \"#3fc968\",\"#74a8ff\", \"#f8746a\"], edgecolor='black',\n",
    "                   bw=.5, width_viol=.7, move=.2, point_size=0, alpha=0.9, box_showfliers=False, ax=ax1)\n",
    "for group, values in df_sk_first_and_max_stage.groupby('x_position')['first_aki_stage']:\n",
    "    mean_value = values.mean()\n",
    "    print(group,mean_value)\n",
    "    group = group-1\n",
    "    ax1.scatter([group], [mean_value], color='black', marker='D', s=5, zorder=3)\n",
    "ax1.set_ylim(0,3)\n",
    "ax1.set_ylabel(\"\")\n",
    "plt.xlabel(\"First AKI stages\")\n",
    "plt.xticks([0, 1, 2], [\"RR\", \"DR\", \"PW\"])\n",
    "plt.yticks([0, 1, 2,3])\n",
    "\n",
    "ax2 = plt.subplot(gs[1])\n",
    "ax2.spines['right'].set_visible(False)\n",
    "ax2.spines['left'].set_visible(False)\n",
    "ax2.spines['top'].set_visible(False)\n",
    "ax2 = pt.RainCloud(x=\"x_position\", y=\"max_aki_stage\", data=df_sk_first_and_max_stage, palette=[ \"#3fc968\",\"#74a8ff\", \"#f8746a\"],  edgecolor='black',\n",
    "                   bw=.5, width_viol=.7, move=.2, point_size=0, box_showfliers=False, alpha=0.9, ax=ax2)\n",
    "for group, values in df_sk_first_and_max_stage.groupby('x_position')['max_aki_stage']:\n",
    "    mean_value = values.mean()\n",
    "    print(group,mean_value)\n",
    "    group = group-1\n",
    "    ax2.scatter([group], [mean_value], color='black', marker='D', s=5, zorder=3)\n",
    "ax2.set_ylabel(\"\")\n",
    "ax2.set_yticks([])\n",
    "ax2.set_ylim(0,3)\n",
    "plt.xlabel(\"Max AKI stages\")\n",
    "plt.xticks([0, 1, 2], [\"RR\", \"DR\", \"PW\"])\n",
    "plt.setp(ax2.get_yticklabels(), visible=False)   \n",
    "\n",
    "ax3 = plt.subplot(gs[2])\n",
    "ax3.spines['right'].set_visible(False)\n",
    "ax3.spines['left'].set_visible(False)\n",
    "ax3.spines['top'].set_visible(False)\n",
    "ax3 = pt.RainCloud(x=\"x_position\", y=\"aki_endstage\", data=df_sk_first_and_max_stage, edgecolor='black',linewidth=1.5,\n",
    "                   palette=[\"#3fc968\", \"#74a8ff\",  \"#f8746a\"], bw=.5, width_viol=.7, move=.01, point_size=0,alpha=0.9, box_showfliers=False, ax=ax3)\n",
    "for group, values in df_sk_first_and_max_stage.groupby('x_position')['aki_endstage']:\n",
    "    mean_value = values.mean()\n",
    "    print(group,mean_value)\n",
    "    group = group-1\n",
    "    ax3.scatter([group], [mean_value], color='black', marker='D', s=5, zorder=3)\n",
    "plt.xlabel(\"End AKI stages\")\n",
    "plt.xticks([0, 1, 2], [\"RR\", \"DR\", \"PW\"])\n",
    "ax3.set_ylim(-0.1,3)\n",
    "ax3.set_yticks([])  \n",
    "ax3.set_ylabel(\"\")\n",
    "\n",
    "# 调整每个子图之间的距离\n",
    "plt.subplots_adjust(wspace=0.01)  # 根据需要调整wspace的值\n",
    "plt.savefig('./result/First_max_end_AKI_stages.pdf', bbox_inches = 'tight')\n",
    "plt.show()"
   ]
  },
  {
   "cell_type": "code",
   "execution_count": null,
   "id": "01223df3",
   "metadata": {
    "ExecuteTime": {
     "end_time": "2024-01-21T07:05:54.202740Z",
     "start_time": "2024-01-21T07:05:53.978936Z"
    }
   },
   "outputs": [],
   "source": [
    "import matplotlib.pyplot as plt\n",
    "import matplotlib.patches as mpatches\n",
    "\n",
    "colors = {\"RR\": \"#3fc968\", \"DW\": \"#74a8ff\", \"PW\": \"#f8746a\"}\n",
    "labels = list(colors.keys())\n",
    "handles = [mpatches.Patch(color=colors[label], label=label) for label in labels]\n",
    "\n",
    "legend = plt.legend(handles, labels, bbox_to_anchor=(-0.2, 0.8), loc=0, borderaxespad=0, frameon=False)\n",
    "for legend_handle in legend.legendHandles:\n",
    "    legend_handle.set_edgecolor('black')\n",
    "\n",
    "plt.savefig('./result/First_max_end_AKI_stages_legend.pdf', bbox_inches='tight')\n",
    "plt.show()\n"
   ]
  },
  {
   "cell_type": "markdown",
   "id": "4578e426",
   "metadata": {},
   "source": [
    "# Distribution in time"
   ]
  },
  {
   "cell_type": "code",
   "execution_count": null,
   "id": "57a44587",
   "metadata": {
    "ExecuteTime": {
     "end_time": "2024-01-21T07:05:54.256666Z",
     "start_time": "2024-01-21T07:05:54.203898Z"
    }
   },
   "outputs": [],
   "source": [
    "# first to max\n",
    "df_time = pd.read_csv(\"/public/hanl/jupyter_dir/kidney_sepsis_penotype_v3/00.data_mimic/disease_definition/AKI/sk_first_and_max_stage.csv\")\n",
    "df_time = pd.merge(df_time,df_type_filt,how=\"inner\",on=\"stay_id\")\n",
    "print(\"Patients with two-thirds of AKI at the initial diagnosis stage:\",df_time[df_time[\"first_aki_stage\"].isin([ 3])].shape[0])\n",
    "df_time = df_time[~df_time[\"first_aki_stage\"].isin([ 3])]\n",
    "\n",
    "df_time[\"first_aki_onset\"] = pd.to_datetime(df_time[\"first_aki_onset\"])\n",
    "df_time[\"max_aki_time\"] = pd.to_datetime(df_time[\"max_aki_time\"])\n",
    "df_time = df_time[df_time[\"max_aki_stage\"]!=df_time[\"first_aki_stage\"]]\n",
    "df_time[\"t_time\"] = (df_time[\"max_aki_time\"] - df_time[\"first_aki_onset\"]).map(lambda x:x/np.timedelta64(24, 'h')).tolist()\n",
    "df_time = df_time[[\"stay_id\",\"t_time\",\"groupHPD\"]]\n",
    "df_time[\"t_type\"] =\"First AKI to Max AKI stages\"\n",
    "df_time1 = df_time\n",
    "df_time.head(1)"
   ]
  },
  {
   "cell_type": "code",
   "execution_count": null,
   "id": "ebdee9c4",
   "metadata": {
    "ExecuteTime": {
     "end_time": "2024-01-21T07:05:54.308387Z",
     "start_time": "2024-01-21T07:05:54.257850Z"
    }
   },
   "outputs": [],
   "source": [
    "# first to end\n",
    "df_time = pd.read_csv(\"/public/hanl/jupyter_dir/kidney_sepsis_penotype_v3/00.data_mimic/disease_definition/AKI/sk_first_and_max_stage.csv\")\n",
    "df_time = pd.merge(df_time,df_type_filt,how=\"inner\",on=\"stay_id\")\n",
    "print(\"Patients with two-thirds of AKI at the initial diagnosis stage:\",df_time[df_time[\"first_aki_stage\"].isin([ 3])].shape[0])\n",
    "df_time = df_time[~df_time[\"first_aki_stage\"].isin([ 3])]\n",
    "\n",
    "df_time[\"first_aki_onset\"] = pd.to_datetime(df_time[\"first_aki_onset\"])\n",
    "df_time[\"aki_endtime\"] = pd.to_datetime(df_time[\"aki_endtime\"])\n",
    "df_time[\"t_time\"] = (df_time[\"aki_endtime\"] - df_time[\"first_aki_onset\"]).map(lambda x:x/np.timedelta64(24, 'h')).tolist()\n",
    "df_time = df_time[[\"stay_id\",\"t_time\",\"groupHPD\"]]\n",
    "df_time[\"t_type\"] =\"First AKI to End AKI stages\"\n",
    "df_time2 = df_time\n",
    "df_time.head(1)"
   ]
  },
  {
   "cell_type": "code",
   "execution_count": 14,
   "id": "78ab7ee6",
   "metadata": {
    "ExecuteTime": {
     "end_time": "2024-01-21T07:05:54.315949Z",
     "start_time": "2024-01-21T07:05:54.309502Z"
    }
   },
   "outputs": [
    {
     "data": {
      "text/html": [
       "<div>\n",
       "<style scoped>\n",
       "    .dataframe tbody tr th:only-of-type {\n",
       "        vertical-align: middle;\n",
       "    }\n",
       "\n",
       "    .dataframe tbody tr th {\n",
       "        vertical-align: top;\n",
       "    }\n",
       "\n",
       "    .dataframe thead th {\n",
       "        text-align: right;\n",
       "    }\n",
       "</style>\n",
       "<table border=\"1\" class=\"dataframe\">\n",
       "  <thead>\n",
       "    <tr style=\"text-align: right;\">\n",
       "      <th></th>\n",
       "      <th>stay_id</th>\n",
       "      <th>t_time</th>\n",
       "      <th>groupHPD</th>\n",
       "      <th>t_type</th>\n",
       "    </tr>\n",
       "  </thead>\n",
       "  <tbody>\n",
       "    <tr>\n",
       "      <th>0</th>\n",
       "      <td>30003598</td>\n",
       "      <td>0.247222</td>\n",
       "      <td>1</td>\n",
       "      <td>First AKI to Max AKI stages</td>\n",
       "    </tr>\n",
       "  </tbody>\n",
       "</table>\n",
       "</div>"
      ],
      "text/plain": [
       "    stay_id    t_time  groupHPD                       t_type\n",
       "0  30003598  0.247222         1  First AKI to Max AKI stages"
      ]
     },
     "execution_count": 14,
     "metadata": {},
     "output_type": "execute_result"
    }
   ],
   "source": [
    "df_time = pd.concat([df_time1,df_time2],axis=0)\n",
    "df_time.head(1)"
   ]
  },
  {
   "cell_type": "code",
   "execution_count": null,
   "id": "d0915c86",
   "metadata": {
    "ExecuteTime": {
     "end_time": "2024-01-21T07:12:23.225814Z",
     "start_time": "2024-01-21T07:12:23.201308Z"
    }
   },
   "outputs": [
    {
     "data": {
      "text/html": [
       "<div>\n",
       "<style scoped>\n",
       "    .dataframe tbody tr th:only-of-type {\n",
       "        vertical-align: middle;\n",
       "    }\n",
       "\n",
       "    .dataframe tbody tr th {\n",
       "        vertical-align: top;\n",
       "    }\n",
       "\n",
       "    .dataframe thead th {\n",
       "        text-align: right;\n",
       "    }\n",
       "</style>\n",
       "<table border=\"1\" class=\"dataframe\">\n",
       "  <thead>\n",
       "    <tr style=\"text-align: right;\">\n",
       "      <th></th>\n",
       "      <th>class</th>\n",
       "      <th>Mean</th>\n",
       "      <th>q10</th>\n",
       "      <th>q25</th>\n",
       "      <th>q50</th>\n",
       "      <th>q75</th>\n",
       "      <th>q90</th>\n",
       "    </tr>\n",
       "  </thead>\n",
       "  <tbody>\n",
       "    <tr>\n",
       "      <th>0</th>\n",
       "      <td>C0</td>\n",
       "      <td>2.9</td>\n",
       "      <td>0.6</td>\n",
       "      <td>1.1</td>\n",
       "      <td>2.1</td>\n",
       "      <td>4.5</td>\n",
       "      <td>6.6</td>\n",
       "    </tr>\n",
       "    <tr>\n",
       "      <th>1</th>\n",
       "      <td>C1</td>\n",
       "      <td>3.5</td>\n",
       "      <td>0.8</td>\n",
       "      <td>1.5</td>\n",
       "      <td>3.0</td>\n",
       "      <td>5.6</td>\n",
       "      <td>6.8</td>\n",
       "    </tr>\n",
       "    <tr>\n",
       "      <th>2</th>\n",
       "      <td>C2</td>\n",
       "      <td>2.5</td>\n",
       "      <td>0.5</td>\n",
       "      <td>0.9</td>\n",
       "      <td>1.7</td>\n",
       "      <td>3.7</td>\n",
       "      <td>6.2</td>\n",
       "    </tr>\n",
       "    <tr>\n",
       "      <th>3</th>\n",
       "      <td>C3</td>\n",
       "      <td>3.8</td>\n",
       "      <td>1.0</td>\n",
       "      <td>1.5</td>\n",
       "      <td>3.3</td>\n",
       "      <td>6.6</td>\n",
       "      <td>7.0</td>\n",
       "    </tr>\n",
       "  </tbody>\n",
       "</table>\n",
       "</div>"
      ],
      "text/plain": [
       "  class  Mean  q10  q25  q50  q75  q90\n",
       "0    C0   2.9  0.6  1.1  2.1  4.5  6.6\n",
       "1    C1   3.5  0.8  1.5  3.0  5.6  6.8\n",
       "2    C2   2.5  0.5  0.9  1.7  3.7  6.2\n",
       "3    C3   3.8  1.0  1.5  3.3  6.6  7.0"
      ]
     },
     "execution_count": 24,
     "metadata": {},
     "output_type": "execute_result"
    }
   ],
   "source": [
    "# Output the median, mean and quantiles of each data group\n",
    "def get_time(df_time_filt):\n",
    "    data_groups = [df_time_filt[\"t_time\"],\n",
    "                   df_time_filt[df_time_filt[\"groupHPD\"]==1][\"t_time\"],\n",
    "                   df_time_filt[df_time_filt[\"groupHPD\"]==2][\"t_time\"],\n",
    "                   df_time_filt[df_time_filt[\"groupHPD\"]==3][\"t_time\"]]\n",
    "\n",
    "    df_out = pd.DataFrame(columns = [\"class\",\"Mean\",\"q10\",\"q25\",\"q50\",\"q75\",\"q90\"])\n",
    "    for i, group_data in enumerate(data_groups):\n",
    "        i = \"C\" + str(int(i)) \n",
    "        mean = round(np.mean(group_data),1)\n",
    "        q10 = round(np.percentile(group_data, 10),1)\n",
    "        q25 = round(np.percentile(group_data, 25),1)\n",
    "        q50 = round(np.percentile(group_data, 50),1)\n",
    "        q75 = round(np.percentile(group_data, 75),1)\n",
    "        q90 = round(np.percentile(group_data, 90),1)\n",
    "        df_out.loc[len(df_out)] = [i,mean,q10,q25,q50,q75,q90]\n",
    "    return df_out\n",
    "# C0 refers to all patients\n",
    "df_time_filt = df_time[df_time[\"t_type\"]==\"First AKI to End AKI stages\"]\n",
    "get_time(df_time_filt)"
   ]
  },
  {
   "cell_type": "code",
   "execution_count": 23,
   "id": "5730cc8c",
   "metadata": {
    "ExecuteTime": {
     "end_time": "2024-01-21T07:12:17.165997Z",
     "start_time": "2024-01-21T07:12:17.145825Z"
    }
   },
   "outputs": [
    {
     "data": {
      "text/html": [
       "<div>\n",
       "<style scoped>\n",
       "    .dataframe tbody tr th:only-of-type {\n",
       "        vertical-align: middle;\n",
       "    }\n",
       "\n",
       "    .dataframe tbody tr th {\n",
       "        vertical-align: top;\n",
       "    }\n",
       "\n",
       "    .dataframe thead th {\n",
       "        text-align: right;\n",
       "    }\n",
       "</style>\n",
       "<table border=\"1\" class=\"dataframe\">\n",
       "  <thead>\n",
       "    <tr style=\"text-align: right;\">\n",
       "      <th></th>\n",
       "      <th>class</th>\n",
       "      <th>Mean</th>\n",
       "      <th>q10</th>\n",
       "      <th>q25</th>\n",
       "      <th>q50</th>\n",
       "      <th>q75</th>\n",
       "      <th>q90</th>\n",
       "    </tr>\n",
       "  </thead>\n",
       "  <tbody>\n",
       "    <tr>\n",
       "      <th>0</th>\n",
       "      <td>C0</td>\n",
       "      <td>0.8</td>\n",
       "      <td>0.1</td>\n",
       "      <td>0.2</td>\n",
       "      <td>0.3</td>\n",
       "      <td>0.9</td>\n",
       "      <td>2.2</td>\n",
       "    </tr>\n",
       "    <tr>\n",
       "      <th>1</th>\n",
       "      <td>C1</td>\n",
       "      <td>1.1</td>\n",
       "      <td>0.1</td>\n",
       "      <td>0.2</td>\n",
       "      <td>0.5</td>\n",
       "      <td>1.3</td>\n",
       "      <td>3.0</td>\n",
       "    </tr>\n",
       "    <tr>\n",
       "      <th>2</th>\n",
       "      <td>C2</td>\n",
       "      <td>0.7</td>\n",
       "      <td>0.1</td>\n",
       "      <td>0.2</td>\n",
       "      <td>0.2</td>\n",
       "      <td>0.7</td>\n",
       "      <td>1.7</td>\n",
       "    </tr>\n",
       "    <tr>\n",
       "      <th>3</th>\n",
       "      <td>C3</td>\n",
       "      <td>1.1</td>\n",
       "      <td>0.2</td>\n",
       "      <td>0.3</td>\n",
       "      <td>0.7</td>\n",
       "      <td>1.4</td>\n",
       "      <td>2.9</td>\n",
       "    </tr>\n",
       "  </tbody>\n",
       "</table>\n",
       "</div>"
      ],
      "text/plain": [
       "  class  Mean  q10  q25  q50  q75  q90\n",
       "0    C0   0.8  0.1  0.2  0.3  0.9  2.2\n",
       "1    C1   1.1  0.1  0.2  0.5  1.3  3.0\n",
       "2    C2   0.7  0.1  0.2  0.2  0.7  1.7\n",
       "3    C3   1.1  0.2  0.3  0.7  1.4  2.9"
      ]
     },
     "execution_count": 23,
     "metadata": {},
     "output_type": "execute_result"
    }
   ],
   "source": [
    "df_time_filt = df_time[df_time[\"t_type\"]==\"First AKI to Max AKI stages\"]\n",
    "get_time(df_time_filt)"
   ]
  },
  {
   "cell_type": "code",
   "execution_count": 16,
   "id": "e9df5383",
   "metadata": {
    "ExecuteTime": {
     "end_time": "2024-01-21T07:05:54.608607Z",
     "start_time": "2024-01-21T07:05:54.342167Z"
    },
    "run_control": {
     "marked": true
    }
   },
   "outputs": [
    {
     "data": {
      "image/png": "[encoded data removed]",
      "text/plain": [
       "<Figure size 500x200 with 1 Axes>"
      ]
     },
     "metadata": {},
     "output_type": "display_data"
    }
   ],
   "source": [
    "\n",
    "import seaborn as sns\n",
    "fig, ax = plt.subplots(1,1, figsize=(5,2))\n",
    "ax=plt.gca()\n",
    "ax.spines['right'].set_visible(False)\n",
    "ax.spines['left'].set_visible(False)\n",
    "ax.spines['top'].set_visible(False) \n",
    "\n",
    "df = df_time[df_time[\"t_type\"]=='First AKI to Max AKI stages']\n",
    "f1 = plt.boxplot([df[df[\"groupHPD\"]==3][\"t_time\"], df[df[\"groupHPD\"]==1][\"t_time\"], df[df[\"groupHPD\"]==2][\"t_time\"]],\n",
    "           whis=(10,90),showfliers=False,showmeans=True,vert=False,patch_artist=True,positions=[1,3,5],\n",
    "                 meanprops={'marker':'D','markerfacecolor':'black','markersize':3,'markeredgecolor':'black'},medianprops={'color':'black'}) \n",
    "color = [\"#f8746a\", \"#74a8ff\",\"#3fc968\"]\n",
    "for box,c in zip(f1['boxes'], color):\n",
    "    box.set(facecolor = c,edgecolor='black')\n",
    "\n",
    "df = df_time[df_time[\"t_type\"]=='First AKI to End AKI stages']\n",
    "f2 = plt.boxplot([df[df[\"groupHPD\"]==3][\"t_time\"], df[df[\"groupHPD\"]==1][\"t_time\"], df[df[\"groupHPD\"]==2][\"t_time\"]],\n",
    "           whis=(10,90),showfliers=False,showmeans=True,vert=False,patch_artist=True,positions=[0.4,2.4,4.4],\n",
    "                 meanprops={'marker':'D','markerfacecolor':'black','markersize':3,'markeredgecolor':'black'},\n",
    "                 medianprops={'color':'black'},\n",
    "                boxprops=dict(facecolor='green', hatch='///', edgecolor='black')) \n",
    "color =[\"#f8746a\", \"#74a8ff\",\"#3fc968\"]\n",
    "for box,c in zip(f2['boxes'], color):\n",
    "    box.set(facecolor = c,edgecolor='black')\n",
    "    \n",
    "import matplotlib.patches as mpatches\n",
    "blank_patch = mpatches.Patch(facecolor='white', edgecolor='black', label='First AKI to Max AKI stages')\n",
    "hatched_patch = mpatches.Patch(facecolor='white', edgecolor='black', hatch='////', label='First AKI to End AKI stages')\n",
    "plt.legend([blank_patch, hatched_patch], [\"First AKI to Max AKI stages\",\"First AKI to End AKI stages\" ], \n",
    "           bbox_to_anchor=(1.7,1),ncol=1,frameon=False)\n",
    "plt.xlabel(\"Time (day)\")\n",
    "plt.yticks([0.7,2.6,4.8],[\"PW\",\"DR\",\"RR\"]) \n",
    "plt.savefig('./result/Time_First_max_end_AKI_stages.pdf', bbox_inches = 'tight')\n",
    "\n",
    "plt.show()"
   ]
  }
 ],
 "metadata": {
  "kernelspec": {
   "display_name": "Python [conda env:sp_shock] *",
   "language": "python",
   "name": "conda-env-sp_shock-py"
  },
  "language_info": {
   "codemirror_mode": {
    "name": "ipython",
    "version": 3
   },
   "file_extension": ".py",
   "mimetype": "text/x-python",
   "name": "python",
   "nbconvert_exporter": "python",
   "pygments_lexer": "ipython3",
   "version": "3.9.5"
  },
  "toc": {
   "base_numbering": 1,
   "nav_menu": {},
   "number_sections": true,
   "sideBar": true,
   "skip_h1_title": false,
   "title_cell": "Table of Contents",
   "title_sidebar": "Contents",
   "toc_cell": false,
   "toc_position": {},
   "toc_section_display": true,
   "toc_window_display": false
  },
  "varInspector": {
   "cols": {
    "lenName": 16,
    "lenType": 16,
    "lenVar": 40
   },
   "kernels_config": {
    "python": {
     "delete_cmd_postfix": "",
     "delete_cmd_prefix": "del ",
     "library": "var_list.py",
     "varRefreshCmd": "print(var_dic_list())"
    },
    "r": {
     "delete_cmd_postfix": ") ",
     "delete_cmd_prefix": "rm(",
     "library": "var_list.r",
     "varRefreshCmd": "cat(var_dic_list()) "
    }
   },
   "types_to_exclude": [
    "module",
    "function",
    "builtin_function_or_method",
    "instance",
    "_Feature"
   ],
   "window_display": false
  }
 },
 "nbformat": 4,
 "nbformat_minor": 5
}
