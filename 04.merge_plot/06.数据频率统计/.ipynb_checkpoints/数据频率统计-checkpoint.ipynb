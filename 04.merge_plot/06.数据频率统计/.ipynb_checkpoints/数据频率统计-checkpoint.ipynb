{
 "cells": [
  {
   "cell_type": "markdown",
   "id": "1a99e5e2",
   "metadata": {},
   "source": [
    "# mimic"
   ]
  },
  {
   "cell_type": "code",
   "execution_count": 1,
   "id": "02f21f54",
   "metadata": {
    "ExecuteTime": {
     "end_time": "2024-01-30T15:09:40.357752Z",
     "start_time": "2024-01-30T15:09:36.478407Z"
    }
   },
   "outputs": [],
   "source": [
    "import pandas as pd\n",
    "import numpy as np\n",
    "import matplotlib.pyplot as plt\n",
    "pd.options.display.max_rows = 300\n",
    "import datetime as dt\n",
    "import math\n",
    "import seaborn as sns\n"
   ]
  },
  {
   "cell_type": "code",
   "execution_count": 2,
   "id": "77841303",
   "metadata": {
    "ExecuteTime": {
     "end_time": "2024-01-30T15:09:40.860142Z",
     "start_time": "2024-01-30T15:09:40.359414Z"
    }
   },
   "outputs": [
    {
     "name": "stdout",
     "output_type": "stream",
     "text": [
      "纳入患者数量： 4713\n"
     ]
    },
    {
     "data": {
      "text/plain": [
       "2    3055\n",
       "1    1298\n",
       "3     360\n",
       "Name: groupHPD, dtype: int64"
      ]
     },
     "execution_count": 2,
     "metadata": {},
     "output_type": "execute_result"
    }
   ],
   "source": [
    "df_type = pd.read_csv(\"/public/hanl/jupyter_dir/kidney_sepsis_penotype_v3/01.MIMICIV_SAKI_trajCluster/df_mixAK_fea4_C3.csv\")\n",
    "df_type_filt = df_type.loc[:,[\"stay_id\",\"groupHPD\"]]\n",
    "df_type_filt = df_type_filt.drop_duplicates()\n",
    "all_lst = df_type_filt.stay_id.unique().tolist()\n",
    "print(\"纳入患者数量：\",len(all_lst))\n",
    "\n",
    "df_type_filt[\"groupHPD\"].value_counts()"
   ]
  },
  {
   "cell_type": "code",
   "execution_count": 3,
   "id": "0fa12322",
   "metadata": {
    "ExecuteTime": {
     "end_time": "2024-01-30T15:09:40.920058Z",
     "start_time": "2024-01-30T15:09:40.861606Z"
    }
   },
   "outputs": [
    {
     "data": {
      "text/html": [
       "<div>\n",
       "<style scoped>\n",
       "    .dataframe tbody tr th:only-of-type {\n",
       "        vertical-align: middle;\n",
       "    }\n",
       "\n",
       "    .dataframe tbody tr th {\n",
       "        vertical-align: top;\n",
       "    }\n",
       "\n",
       "    .dataframe thead th {\n",
       "        text-align: right;\n",
       "    }\n",
       "</style>\n",
       "<table border=\"1\" class=\"dataframe\">\n",
       "  <thead>\n",
       "    <tr style=\"text-align: right;\">\n",
       "      <th></th>\n",
       "      <th>stay_id</th>\n",
       "      <th>saki_onset</th>\n",
       "      <th>intime</th>\n",
       "      <th>outtime</th>\n",
       "    </tr>\n",
       "  </thead>\n",
       "  <tbody>\n",
       "    <tr>\n",
       "      <th>6</th>\n",
       "      <td>30028237</td>\n",
       "      <td>2156-02-20 06:31:00</td>\n",
       "      <td>2156-02-20 04:18:00</td>\n",
       "      <td>2156-02-22 01:56:24</td>\n",
       "    </tr>\n",
       "  </tbody>\n",
       "</table>\n",
       "</div>"
      ],
      "text/plain": [
       "    stay_id          saki_onset              intime             outtime\n",
       "6  30028237 2156-02-20 06:31:00 2156-02-20 04:18:00 2156-02-22 01:56:24"
      ]
     },
     "execution_count": 3,
     "metadata": {},
     "output_type": "execute_result"
    }
   ],
   "source": [
    "df_saki = pd.read_csv(\"/public/hanl/jupyter_dir/kidney_sepsis_penotype_v3/00.data_mimic//disease_definition/AKI/sk_event_time.csv\")\n",
    "df_saki = df_saki[df_saki[\"stay_id\"].isin(all_lst)]\n",
    "df_saki = df_saki[[\"stay_id\", \"saki_onset\",\"intime\",\"outtime\"]]\n",
    "df_saki[\"intime\"] = pd.to_datetime(df_saki[\"intime\"])\n",
    "df_saki[\"outtime\"] = pd.to_datetime(df_saki[\"outtime\"])\n",
    "df_saki[\"saki_onset\"] = pd.to_datetime(df_saki[\"saki_onset\"])\n",
    "df_saki.head(1)"
   ]
  },
  {
   "cell_type": "code",
   "execution_count": 4,
   "id": "0910523c",
   "metadata": {
    "ExecuteTime": {
     "end_time": "2024-01-30T15:10:36.049203Z",
     "start_time": "2024-01-30T15:09:40.921381Z"
    },
    "collapsed": true
   },
   "outputs": [
    {
     "ename": "MemoryError",
     "evalue": "Unable to allocate 11.9 GiB for an array with shape (86, 18637031) and data type float64",
     "output_type": "error",
     "traceback": [
      "\u001b[0;31m---------------------------------------------------------------------------\u001b[0m",
      "\u001b[0;31mMemoryError\u001b[0m                               Traceback (most recent call last)",
      "\u001b[0;32m<ipython-input-4-2431d5081202>\u001b[0m in \u001b[0;36m<module>\u001b[0;34m\u001b[0m\n\u001b[1;32m      1\u001b[0m \u001b[0mdata_dir\u001b[0m \u001b[0;34m=\u001b[0m \u001b[0;34m\"/public/hanl/jupyter_dir/kidney_sepsis_penotype_v3/00.data_mimic/feature_data/\"\u001b[0m\u001b[0;34m\u001b[0m\u001b[0;34m\u001b[0m\u001b[0m\n\u001b[1;32m      2\u001b[0m \u001b[0minfile\u001b[0m \u001b[0;34m=\u001b[0m \u001b[0mdata_dir\u001b[0m \u001b[0;34m+\u001b[0m \u001b[0;34m\"sk_icu_feature.csv\"\u001b[0m\u001b[0;34m\u001b[0m\u001b[0;34m\u001b[0m\u001b[0m\n\u001b[0;32m----> 3\u001b[0;31m \u001b[0mdf_fea\u001b[0m \u001b[0;34m=\u001b[0m \u001b[0mpd\u001b[0m\u001b[0;34m.\u001b[0m\u001b[0mread_csv\u001b[0m\u001b[0;34m(\u001b[0m\u001b[0minfile\u001b[0m\u001b[0;34m)\u001b[0m\u001b[0;34m\u001b[0m\u001b[0;34m\u001b[0m\u001b[0m\n\u001b[0m\u001b[1;32m      4\u001b[0m \u001b[0mdf_fea\u001b[0m \u001b[0;34m=\u001b[0m \u001b[0mdf_fea\u001b[0m\u001b[0;34m[\u001b[0m\u001b[0mdf_fea\u001b[0m\u001b[0;34m[\u001b[0m\u001b[0;34m\"stay_id\"\u001b[0m\u001b[0;34m]\u001b[0m\u001b[0;34m.\u001b[0m\u001b[0misin\u001b[0m\u001b[0;34m(\u001b[0m\u001b[0mall_lst\u001b[0m\u001b[0;34m)\u001b[0m\u001b[0;34m]\u001b[0m\u001b[0;34m\u001b[0m\u001b[0;34m\u001b[0m\u001b[0m\n\u001b[1;32m      5\u001b[0m \u001b[0mdf_fea\u001b[0m\u001b[0;34m[\u001b[0m\u001b[0;34m\"charttime\"\u001b[0m\u001b[0;34m]\u001b[0m \u001b[0;34m=\u001b[0m \u001b[0mpd\u001b[0m\u001b[0;34m.\u001b[0m\u001b[0mto_datetime\u001b[0m\u001b[0;34m(\u001b[0m\u001b[0mdf_fea\u001b[0m\u001b[0;34m[\u001b[0m\u001b[0;34m\"charttime\"\u001b[0m\u001b[0;34m]\u001b[0m\u001b[0;34m)\u001b[0m\u001b[0;34m\u001b[0m\u001b[0;34m\u001b[0m\u001b[0m\n",
      "\u001b[0;32m/home/hanl/miniconda3/envs/sp_shock/lib/python3.9/site-packages/pandas/util/_decorators.py\u001b[0m in \u001b[0;36mwrapper\u001b[0;34m(*args, **kwargs)\u001b[0m\n\u001b[1;32m    209\u001b[0m                 \u001b[0;32melse\u001b[0m\u001b[0;34m:\u001b[0m\u001b[0;34m\u001b[0m\u001b[0;34m\u001b[0m\u001b[0m\n\u001b[1;32m    210\u001b[0m                     \u001b[0mkwargs\u001b[0m\u001b[0;34m[\u001b[0m\u001b[0mnew_arg_name\u001b[0m\u001b[0;34m]\u001b[0m \u001b[0;34m=\u001b[0m \u001b[0mnew_arg_value\u001b[0m\u001b[0;34m\u001b[0m\u001b[0;34m\u001b[0m\u001b[0m\n\u001b[0;32m--> 211\u001b[0;31m             \u001b[0;32mreturn\u001b[0m \u001b[0mfunc\u001b[0m\u001b[0;34m(\u001b[0m\u001b[0;34m*\u001b[0m\u001b[0margs\u001b[0m\u001b[0;34m,\u001b[0m \u001b[0;34m**\u001b[0m\u001b[0mkwargs\u001b[0m\u001b[0;34m)\u001b[0m\u001b[0;34m\u001b[0m\u001b[0;34m\u001b[0m\u001b[0m\n\u001b[0m\u001b[1;32m    212\u001b[0m \u001b[0;34m\u001b[0m\u001b[0m\n\u001b[1;32m    213\u001b[0m         \u001b[0;32mreturn\u001b[0m \u001b[0mcast\u001b[0m\u001b[0;34m(\u001b[0m\u001b[0mF\u001b[0m\u001b[0;34m,\u001b[0m \u001b[0mwrapper\u001b[0m\u001b[0;34m)\u001b[0m\u001b[0;34m\u001b[0m\u001b[0;34m\u001b[0m\u001b[0m\n",
      "\u001b[0;32m/home/hanl/miniconda3/envs/sp_shock/lib/python3.9/site-packages/pandas/util/_decorators.py\u001b[0m in \u001b[0;36mwrapper\u001b[0;34m(*args, **kwargs)\u001b[0m\n\u001b[1;32m    329\u001b[0m                     \u001b[0mstacklevel\u001b[0m\u001b[0;34m=\u001b[0m\u001b[0mfind_stack_level\u001b[0m\u001b[0;34m(\u001b[0m\u001b[0;34m)\u001b[0m\u001b[0;34m,\u001b[0m\u001b[0;34m\u001b[0m\u001b[0;34m\u001b[0m\u001b[0m\n\u001b[1;32m    330\u001b[0m                 )\n\u001b[0;32m--> 331\u001b[0;31m             \u001b[0;32mreturn\u001b[0m \u001b[0mfunc\u001b[0m\u001b[0;34m(\u001b[0m\u001b[0;34m*\u001b[0m\u001b[0margs\u001b[0m\u001b[0;34m,\u001b[0m \u001b[0;34m**\u001b[0m\u001b[0mkwargs\u001b[0m\u001b[0;34m)\u001b[0m\u001b[0;34m\u001b[0m\u001b[0;34m\u001b[0m\u001b[0m\n\u001b[0m\u001b[1;32m    332\u001b[0m \u001b[0;34m\u001b[0m\u001b[0m\n\u001b[1;32m    333\u001b[0m         \u001b[0;31m# error: \"Callable[[VarArg(Any), KwArg(Any)], Any]\" has no\u001b[0m\u001b[0;34m\u001b[0m\u001b[0;34m\u001b[0m\u001b[0;34m\u001b[0m\u001b[0m\n",
      "\u001b[0;32m/home/hanl/miniconda3/envs/sp_shock/lib/python3.9/site-packages/pandas/io/parsers/readers.py\u001b[0m in \u001b[0;36mread_csv\u001b[0;34m(filepath_or_buffer, sep, delimiter, header, names, index_col, usecols, squeeze, prefix, mangle_dupe_cols, dtype, engine, converters, true_values, false_values, skipinitialspace, skiprows, skipfooter, nrows, na_values, keep_default_na, na_filter, verbose, skip_blank_lines, parse_dates, infer_datetime_format, keep_date_col, date_parser, dayfirst, cache_dates, iterator, chunksize, compression, thousands, decimal, lineterminator, quotechar, quoting, doublequote, escapechar, comment, encoding, encoding_errors, dialect, error_bad_lines, warn_bad_lines, on_bad_lines, delim_whitespace, low_memory, memory_map, float_precision, storage_options)\u001b[0m\n\u001b[1;32m    948\u001b[0m     \u001b[0mkwds\u001b[0m\u001b[0;34m.\u001b[0m\u001b[0mupdate\u001b[0m\u001b[0;34m(\u001b[0m\u001b[0mkwds_defaults\u001b[0m\u001b[0;34m)\u001b[0m\u001b[0;34m\u001b[0m\u001b[0;34m\u001b[0m\u001b[0m\n\u001b[1;32m    949\u001b[0m \u001b[0;34m\u001b[0m\u001b[0m\n\u001b[0;32m--> 950\u001b[0;31m     \u001b[0;32mreturn\u001b[0m \u001b[0m_read\u001b[0m\u001b[0;34m(\u001b[0m\u001b[0mfilepath_or_buffer\u001b[0m\u001b[0;34m,\u001b[0m \u001b[0mkwds\u001b[0m\u001b[0;34m)\u001b[0m\u001b[0;34m\u001b[0m\u001b[0;34m\u001b[0m\u001b[0m\n\u001b[0m\u001b[1;32m    951\u001b[0m \u001b[0;34m\u001b[0m\u001b[0m\n\u001b[1;32m    952\u001b[0m \u001b[0;34m\u001b[0m\u001b[0m\n",
      "\u001b[0;32m/home/hanl/miniconda3/envs/sp_shock/lib/python3.9/site-packages/pandas/io/parsers/readers.py\u001b[0m in \u001b[0;36m_read\u001b[0;34m(filepath_or_buffer, kwds)\u001b[0m\n\u001b[1;32m    609\u001b[0m \u001b[0;34m\u001b[0m\u001b[0m\n\u001b[1;32m    610\u001b[0m     \u001b[0;32mwith\u001b[0m \u001b[0mparser\u001b[0m\u001b[0;34m:\u001b[0m\u001b[0;34m\u001b[0m\u001b[0;34m\u001b[0m\u001b[0m\n\u001b[0;32m--> 611\u001b[0;31m         \u001b[0;32mreturn\u001b[0m \u001b[0mparser\u001b[0m\u001b[0;34m.\u001b[0m\u001b[0mread\u001b[0m\u001b[0;34m(\u001b[0m\u001b[0mnrows\u001b[0m\u001b[0;34m)\u001b[0m\u001b[0;34m\u001b[0m\u001b[0;34m\u001b[0m\u001b[0m\n\u001b[0m\u001b[1;32m    612\u001b[0m \u001b[0;34m\u001b[0m\u001b[0m\n\u001b[1;32m    613\u001b[0m \u001b[0;34m\u001b[0m\u001b[0m\n",
      "\u001b[0;32m/home/hanl/miniconda3/envs/sp_shock/lib/python3.9/site-packages/pandas/io/parsers/readers.py\u001b[0m in \u001b[0;36mread\u001b[0;34m(self, nrows)\u001b[0m\n\u001b[1;32m   1793\u001b[0m                 \u001b[0mnew_rows\u001b[0m \u001b[0;34m=\u001b[0m \u001b[0mlen\u001b[0m\u001b[0;34m(\u001b[0m\u001b[0mindex\u001b[0m\u001b[0;34m)\u001b[0m\u001b[0;34m\u001b[0m\u001b[0;34m\u001b[0m\u001b[0m\n\u001b[1;32m   1794\u001b[0m \u001b[0;34m\u001b[0m\u001b[0m\n\u001b[0;32m-> 1795\u001b[0;31m             \u001b[0mdf\u001b[0m \u001b[0;34m=\u001b[0m \u001b[0mDataFrame\u001b[0m\u001b[0;34m(\u001b[0m\u001b[0mcol_dict\u001b[0m\u001b[0;34m,\u001b[0m \u001b[0mcolumns\u001b[0m\u001b[0;34m=\u001b[0m\u001b[0mcolumns\u001b[0m\u001b[0;34m,\u001b[0m \u001b[0mindex\u001b[0m\u001b[0;34m=\u001b[0m\u001b[0mindex\u001b[0m\u001b[0;34m)\u001b[0m\u001b[0;34m\u001b[0m\u001b[0;34m\u001b[0m\u001b[0m\n\u001b[0m\u001b[1;32m   1796\u001b[0m \u001b[0;34m\u001b[0m\u001b[0m\n\u001b[1;32m   1797\u001b[0m             \u001b[0mself\u001b[0m\u001b[0;34m.\u001b[0m\u001b[0m_currow\u001b[0m \u001b[0;34m+=\u001b[0m \u001b[0mnew_rows\u001b[0m\u001b[0;34m\u001b[0m\u001b[0;34m\u001b[0m\u001b[0m\n",
      "\u001b[0;32m/home/hanl/miniconda3/envs/sp_shock/lib/python3.9/site-packages/pandas/core/frame.py\u001b[0m in \u001b[0;36m__init__\u001b[0;34m(self, data, index, columns, dtype, copy)\u001b[0m\n\u001b[1;32m    662\u001b[0m         \u001b[0;32melif\u001b[0m \u001b[0misinstance\u001b[0m\u001b[0;34m(\u001b[0m\u001b[0mdata\u001b[0m\u001b[0;34m,\u001b[0m \u001b[0mdict\u001b[0m\u001b[0;34m)\u001b[0m\u001b[0;34m:\u001b[0m\u001b[0;34m\u001b[0m\u001b[0;34m\u001b[0m\u001b[0m\n\u001b[1;32m    663\u001b[0m             \u001b[0;31m# GH#38939 de facto copy defaults to False only in non-dict cases\u001b[0m\u001b[0;34m\u001b[0m\u001b[0;34m\u001b[0m\u001b[0;34m\u001b[0m\u001b[0m\n\u001b[0;32m--> 664\u001b[0;31m             \u001b[0mmgr\u001b[0m \u001b[0;34m=\u001b[0m \u001b[0mdict_to_mgr\u001b[0m\u001b[0;34m(\u001b[0m\u001b[0mdata\u001b[0m\u001b[0;34m,\u001b[0m \u001b[0mindex\u001b[0m\u001b[0;34m,\u001b[0m \u001b[0mcolumns\u001b[0m\u001b[0;34m,\u001b[0m \u001b[0mdtype\u001b[0m\u001b[0;34m=\u001b[0m\u001b[0mdtype\u001b[0m\u001b[0;34m,\u001b[0m \u001b[0mcopy\u001b[0m\u001b[0;34m=\u001b[0m\u001b[0mcopy\u001b[0m\u001b[0;34m,\u001b[0m \u001b[0mtyp\u001b[0m\u001b[0;34m=\u001b[0m\u001b[0mmanager\u001b[0m\u001b[0;34m)\u001b[0m\u001b[0;34m\u001b[0m\u001b[0;34m\u001b[0m\u001b[0m\n\u001b[0m\u001b[1;32m    665\u001b[0m         \u001b[0;32melif\u001b[0m \u001b[0misinstance\u001b[0m\u001b[0;34m(\u001b[0m\u001b[0mdata\u001b[0m\u001b[0;34m,\u001b[0m \u001b[0mma\u001b[0m\u001b[0;34m.\u001b[0m\u001b[0mMaskedArray\u001b[0m\u001b[0;34m)\u001b[0m\u001b[0;34m:\u001b[0m\u001b[0;34m\u001b[0m\u001b[0;34m\u001b[0m\u001b[0m\n\u001b[1;32m    666\u001b[0m             \u001b[0;32mimport\u001b[0m \u001b[0mnumpy\u001b[0m\u001b[0;34m.\u001b[0m\u001b[0mma\u001b[0m\u001b[0;34m.\u001b[0m\u001b[0mmrecords\u001b[0m \u001b[0;32mas\u001b[0m \u001b[0mmrecords\u001b[0m\u001b[0;34m\u001b[0m\u001b[0;34m\u001b[0m\u001b[0m\n",
      "\u001b[0;32m/home/hanl/miniconda3/envs/sp_shock/lib/python3.9/site-packages/pandas/core/internals/construction.py\u001b[0m in \u001b[0;36mdict_to_mgr\u001b[0;34m(data, index, columns, dtype, typ, copy)\u001b[0m\n\u001b[1;32m    491\u001b[0m             \u001b[0marrays\u001b[0m \u001b[0;34m=\u001b[0m \u001b[0;34m[\u001b[0m\u001b[0mx\u001b[0m\u001b[0;34m.\u001b[0m\u001b[0mcopy\u001b[0m\u001b[0;34m(\u001b[0m\u001b[0;34m)\u001b[0m \u001b[0;32mif\u001b[0m \u001b[0mhasattr\u001b[0m\u001b[0;34m(\u001b[0m\u001b[0mx\u001b[0m\u001b[0;34m,\u001b[0m \u001b[0;34m\"dtype\"\u001b[0m\u001b[0;34m)\u001b[0m \u001b[0;32melse\u001b[0m \u001b[0mx\u001b[0m \u001b[0;32mfor\u001b[0m \u001b[0mx\u001b[0m \u001b[0;32min\u001b[0m \u001b[0marrays\u001b[0m\u001b[0;34m]\u001b[0m\u001b[0;34m\u001b[0m\u001b[0;34m\u001b[0m\u001b[0m\n\u001b[1;32m    492\u001b[0m \u001b[0;34m\u001b[0m\u001b[0m\n\u001b[0;32m--> 493\u001b[0;31m     \u001b[0;32mreturn\u001b[0m \u001b[0marrays_to_mgr\u001b[0m\u001b[0;34m(\u001b[0m\u001b[0marrays\u001b[0m\u001b[0;34m,\u001b[0m \u001b[0mcolumns\u001b[0m\u001b[0;34m,\u001b[0m \u001b[0mindex\u001b[0m\u001b[0;34m,\u001b[0m \u001b[0mdtype\u001b[0m\u001b[0;34m=\u001b[0m\u001b[0mdtype\u001b[0m\u001b[0;34m,\u001b[0m \u001b[0mtyp\u001b[0m\u001b[0;34m=\u001b[0m\u001b[0mtyp\u001b[0m\u001b[0;34m,\u001b[0m \u001b[0mconsolidate\u001b[0m\u001b[0;34m=\u001b[0m\u001b[0mcopy\u001b[0m\u001b[0;34m)\u001b[0m\u001b[0;34m\u001b[0m\u001b[0;34m\u001b[0m\u001b[0m\n\u001b[0m\u001b[1;32m    494\u001b[0m \u001b[0;34m\u001b[0m\u001b[0m\n\u001b[1;32m    495\u001b[0m \u001b[0;34m\u001b[0m\u001b[0m\n",
      "\u001b[0;32m/home/hanl/miniconda3/envs/sp_shock/lib/python3.9/site-packages/pandas/core/internals/construction.py\u001b[0m in \u001b[0;36marrays_to_mgr\u001b[0;34m(arrays, columns, index, dtype, verify_integrity, typ, consolidate)\u001b[0m\n\u001b[1;32m    152\u001b[0m \u001b[0;34m\u001b[0m\u001b[0m\n\u001b[1;32m    153\u001b[0m     \u001b[0;32mif\u001b[0m \u001b[0mtyp\u001b[0m \u001b[0;34m==\u001b[0m \u001b[0;34m\"block\"\u001b[0m\u001b[0;34m:\u001b[0m\u001b[0;34m\u001b[0m\u001b[0;34m\u001b[0m\u001b[0m\n\u001b[0;32m--> 154\u001b[0;31m         return create_block_manager_from_column_arrays(\n\u001b[0m\u001b[1;32m    155\u001b[0m             \u001b[0marrays\u001b[0m\u001b[0;34m,\u001b[0m \u001b[0maxes\u001b[0m\u001b[0;34m,\u001b[0m \u001b[0mconsolidate\u001b[0m\u001b[0;34m=\u001b[0m\u001b[0mconsolidate\u001b[0m\u001b[0;34m\u001b[0m\u001b[0;34m\u001b[0m\u001b[0m\n\u001b[1;32m    156\u001b[0m         )\n",
      "\u001b[0;32m/home/hanl/miniconda3/envs/sp_shock/lib/python3.9/site-packages/pandas/core/internals/managers.py\u001b[0m in \u001b[0;36mcreate_block_manager_from_column_arrays\u001b[0;34m(arrays, axes, consolidate)\u001b[0m\n\u001b[1;32m   2197\u001b[0m \u001b[0;34m\u001b[0m\u001b[0m\n\u001b[1;32m   2198\u001b[0m     \u001b[0;32mtry\u001b[0m\u001b[0;34m:\u001b[0m\u001b[0;34m\u001b[0m\u001b[0;34m\u001b[0m\u001b[0m\n\u001b[0;32m-> 2199\u001b[0;31m         \u001b[0mblocks\u001b[0m \u001b[0;34m=\u001b[0m \u001b[0m_form_blocks\u001b[0m\u001b[0;34m(\u001b[0m\u001b[0marrays\u001b[0m\u001b[0;34m,\u001b[0m \u001b[0mconsolidate\u001b[0m\u001b[0;34m)\u001b[0m\u001b[0;34m\u001b[0m\u001b[0;34m\u001b[0m\u001b[0m\n\u001b[0m\u001b[1;32m   2200\u001b[0m         \u001b[0mmgr\u001b[0m \u001b[0;34m=\u001b[0m \u001b[0mBlockManager\u001b[0m\u001b[0;34m(\u001b[0m\u001b[0mblocks\u001b[0m\u001b[0;34m,\u001b[0m \u001b[0maxes\u001b[0m\u001b[0;34m,\u001b[0m \u001b[0mverify_integrity\u001b[0m\u001b[0;34m=\u001b[0m\u001b[0;32mFalse\u001b[0m\u001b[0;34m)\u001b[0m\u001b[0;34m\u001b[0m\u001b[0;34m\u001b[0m\u001b[0m\n\u001b[1;32m   2201\u001b[0m     \u001b[0;32mexcept\u001b[0m \u001b[0mValueError\u001b[0m \u001b[0;32mas\u001b[0m \u001b[0me\u001b[0m\u001b[0;34m:\u001b[0m\u001b[0;34m\u001b[0m\u001b[0;34m\u001b[0m\u001b[0m\n",
      "\u001b[0;32m/home/hanl/miniconda3/envs/sp_shock/lib/python3.9/site-packages/pandas/core/internals/managers.py\u001b[0m in \u001b[0;36m_form_blocks\u001b[0;34m(arrays, consolidate)\u001b[0m\n\u001b[1;32m   2271\u001b[0m                 \u001b[0mdtype\u001b[0m \u001b[0;34m=\u001b[0m \u001b[0mnp\u001b[0m\u001b[0;34m.\u001b[0m\u001b[0mdtype\u001b[0m\u001b[0;34m(\u001b[0m\u001b[0mobject\u001b[0m\u001b[0;34m)\u001b[0m\u001b[0;34m\u001b[0m\u001b[0;34m\u001b[0m\u001b[0m\n\u001b[1;32m   2272\u001b[0m \u001b[0;34m\u001b[0m\u001b[0m\n\u001b[0;32m-> 2273\u001b[0;31m             \u001b[0mvalues\u001b[0m\u001b[0;34m,\u001b[0m \u001b[0mplacement\u001b[0m \u001b[0;34m=\u001b[0m \u001b[0m_stack_arrays\u001b[0m\u001b[0;34m(\u001b[0m\u001b[0mlist\u001b[0m\u001b[0;34m(\u001b[0m\u001b[0mtup_block\u001b[0m\u001b[0;34m)\u001b[0m\u001b[0;34m,\u001b[0m \u001b[0mdtype\u001b[0m\u001b[0;34m)\u001b[0m\u001b[0;34m\u001b[0m\u001b[0;34m\u001b[0m\u001b[0m\n\u001b[0m\u001b[1;32m   2274\u001b[0m             \u001b[0;32mif\u001b[0m \u001b[0mis_dtlike\u001b[0m\u001b[0;34m:\u001b[0m\u001b[0;34m\u001b[0m\u001b[0;34m\u001b[0m\u001b[0m\n\u001b[1;32m   2275\u001b[0m                 \u001b[0mvalues\u001b[0m \u001b[0;34m=\u001b[0m \u001b[0mensure_wrapped_if_datetimelike\u001b[0m\u001b[0;34m(\u001b[0m\u001b[0mvalues\u001b[0m\u001b[0;34m)\u001b[0m\u001b[0;34m\u001b[0m\u001b[0;34m\u001b[0m\u001b[0m\n",
      "\u001b[0;32m/home/hanl/miniconda3/envs/sp_shock/lib/python3.9/site-packages/pandas/core/internals/managers.py\u001b[0m in \u001b[0;36m_stack_arrays\u001b[0;34m(tuples, dtype)\u001b[0m\n\u001b[1;32m   2310\u001b[0m     \u001b[0mshape\u001b[0m \u001b[0;34m=\u001b[0m \u001b[0;34m(\u001b[0m\u001b[0mlen\u001b[0m\u001b[0;34m(\u001b[0m\u001b[0marrays\u001b[0m\u001b[0;34m)\u001b[0m\u001b[0;34m,\u001b[0m\u001b[0;34m)\u001b[0m \u001b[0;34m+\u001b[0m \u001b[0mfirst\u001b[0m\u001b[0;34m.\u001b[0m\u001b[0mshape\u001b[0m\u001b[0;34m\u001b[0m\u001b[0;34m\u001b[0m\u001b[0m\n\u001b[1;32m   2311\u001b[0m \u001b[0;34m\u001b[0m\u001b[0m\n\u001b[0;32m-> 2312\u001b[0;31m     \u001b[0mstacked\u001b[0m \u001b[0;34m=\u001b[0m \u001b[0mnp\u001b[0m\u001b[0;34m.\u001b[0m\u001b[0mempty\u001b[0m\u001b[0;34m(\u001b[0m\u001b[0mshape\u001b[0m\u001b[0;34m,\u001b[0m \u001b[0mdtype\u001b[0m\u001b[0;34m=\u001b[0m\u001b[0mdtype\u001b[0m\u001b[0;34m)\u001b[0m\u001b[0;34m\u001b[0m\u001b[0;34m\u001b[0m\u001b[0m\n\u001b[0m\u001b[1;32m   2313\u001b[0m     \u001b[0;32mfor\u001b[0m \u001b[0mi\u001b[0m\u001b[0;34m,\u001b[0m \u001b[0marr\u001b[0m \u001b[0;32min\u001b[0m \u001b[0menumerate\u001b[0m\u001b[0;34m(\u001b[0m\u001b[0marrays\u001b[0m\u001b[0;34m)\u001b[0m\u001b[0;34m:\u001b[0m\u001b[0;34m\u001b[0m\u001b[0;34m\u001b[0m\u001b[0m\n\u001b[1;32m   2314\u001b[0m         \u001b[0mstacked\u001b[0m\u001b[0;34m[\u001b[0m\u001b[0mi\u001b[0m\u001b[0;34m]\u001b[0m \u001b[0;34m=\u001b[0m \u001b[0marr\u001b[0m\u001b[0;34m\u001b[0m\u001b[0;34m\u001b[0m\u001b[0m\n",
      "\u001b[0;31mMemoryError\u001b[0m: Unable to allocate 11.9 GiB for an array with shape (86, 18637031) and data type float64"
     ]
    }
   ],
   "source": [
    "data_dir = \"/public/hanl/jupyter_dir/kidney_sepsis_penotype_v3/00.data_mimic/feature_data/\"\n",
    "infile = data_dir + \"sk_icu_feature.csv\"\n",
    "df_fea = pd.read_csv(infile)\n",
    "df_fea = df_fea[df_fea[\"stay_id\"].isin(all_lst)] \n",
    "df_fea[\"charttime\"] = pd.to_datetime(df_fea[\"charttime\"])\n",
    "df_fea = df_fea[['stay_id', 'charttime', 'urineoutput', 'creatinine']].drop_duplicates()\n",
    "df_fea_add = pd.merge(df_fea,df_saki,how=\"inner\",on=\"stay_id\")\n",
    "df_fea_add = df_fea_add[(df_fea_add[\"charttime\"] <= df_fea_add[\"outtime\"]) & (df_fea_add[\"charttime\"] >= df_fea_add[\"intime\"])]\n",
    "df_fea_add_mimic = df_fea_add\n",
    "df_fea_add_mimic.head(1)"
   ]
  },
  {
   "cell_type": "markdown",
   "id": "5ba8cd57",
   "metadata": {},
   "source": [
    "# AUMCdb"
   ]
  },
  {
   "cell_type": "code",
   "execution_count": null,
   "id": "853d93b0",
   "metadata": {
    "ExecuteTime": {
     "end_time": "2024-01-30T15:10:36.054274Z",
     "start_time": "2024-01-30T15:00:55.739Z"
    }
   },
   "outputs": [],
   "source": [
    "import pandas as pd\n",
    "import numpy as np\n",
    "import matplotlib.pyplot as plt\n",
    "pd.options.display.max_rows = 300\n",
    "import datetime as dt\n",
    "import math\n",
    "import seaborn as sns\n"
   ]
  },
  {
   "cell_type": "code",
   "execution_count": null,
   "id": "78a6c757",
   "metadata": {
    "ExecuteTime": {
     "end_time": "2024-01-30T15:10:36.054955Z",
     "start_time": "2024-01-30T15:00:55.741Z"
    }
   },
   "outputs": [],
   "source": [
    "df_type = pd.read_csv(\"/public/hanl/jupyter_dir/kidney_sepsis_penotype_v3/02.AUMCdb_SAKI_trajCluster/df_mixAK_fea3_C3_aumc.csv\")\n",
    "df_type_filt = df_type.loc[:,[\"stay_id\",\"groupHPD\"]]\n",
    "df_type_filt = df_type_filt.drop_duplicates()\n",
    "all_lst = df_type_filt.stay_id.unique().tolist()\n",
    "print(\"纳入患者数量：\",len(all_lst))\n",
    "\n",
    "df_type_filt[\"groupHPD\"].value_counts()"
   ]
  },
  {
   "cell_type": "code",
   "execution_count": null,
   "id": "ac55021b",
   "metadata": {
    "ExecuteTime": {
     "end_time": "2024-01-30T15:10:36.055573Z",
     "start_time": "2024-01-30T15:00:55.743Z"
    }
   },
   "outputs": [],
   "source": [
    "df_saki = pd.read_csv(\"/public/hanl/jupyter_dir/kidney_sepsis_penotype_v3/00.data_aumc/disease_definition/AKI/aumcdb_sk_event_time.csv\")\n",
    "df_saki = df_saki[df_saki[\"stay_id\"].isin(all_lst)]\n",
    "df_saki = df_saki[[\"stay_id\", \"saki_onset\",\"intime\",\"outtime\"]]\n",
    "df_saki.head(1)"
   ]
  },
  {
   "cell_type": "code",
   "execution_count": null,
   "id": "2cd0ea5c",
   "metadata": {
    "ExecuteTime": {
     "end_time": "2024-01-30T15:10:36.056160Z",
     "start_time": "2024-01-30T15:00:55.745Z"
    }
   },
   "outputs": [],
   "source": [
    "df_fea = pd.read_csv(\"/public/hanl/jupyter_dir/kidney_sepsis_penotype_v3/00.data_aumc/feature_data/aumc_icu_feature.csv\") # 时间单位为小时\n",
    "df_fea = df_fea[['stay_id', 'charttime', 'urineoutput', 'creatinine']].drop_duplicates()\n",
    "df_fea = df_fea[df_fea[\"charttime\"]>0]\n",
    "df_fea.head(1)"
   ]
  },
  {
   "cell_type": "code",
   "execution_count": null,
   "id": "afc2f31c",
   "metadata": {
    "ExecuteTime": {
     "end_time": "2024-01-30T15:10:36.056739Z",
     "start_time": "2024-01-30T15:00:55.747Z"
    }
   },
   "outputs": [],
   "source": [
    "df_fea_add = pd.merge(df_fea,df_saki,how=\"inner\",on=\"stay_id\")\n",
    "df_fea_add = df_fea_add[(df_fea_add[\"charttime\"] <= df_fea_add[\"outtime\"]) & (df_fea_add[\"charttime\"] >= df_fea_add[\"intime\"])]\n",
    "df_fea_add_aumc = df_fea_add\n",
    "df_fea_add_aumc.head(1)"
   ]
  },
  {
   "cell_type": "markdown",
   "id": "ca5bb24d",
   "metadata": {},
   "source": [
    "# eICU"
   ]
  },
  {
   "cell_type": "code",
   "execution_count": null,
   "id": "87029d97",
   "metadata": {
    "ExecuteTime": {
     "end_time": "2024-01-30T15:10:36.057247Z",
     "start_time": "2024-01-30T15:00:55.748Z"
    }
   },
   "outputs": [],
   "source": [
    "import pandas as pd\n",
    "import numpy as np\n",
    "import matplotlib.pyplot as plt\n",
    "pd.options.display.max_rows = 300\n",
    "import datetime as dt\n",
    "import math\n",
    "import seaborn as sns\n"
   ]
  },
  {
   "cell_type": "code",
   "execution_count": null,
   "id": "55c6d849",
   "metadata": {
    "ExecuteTime": {
     "end_time": "2024-01-30T15:10:36.057786Z",
     "start_time": "2024-01-30T15:00:55.750Z"
    }
   },
   "outputs": [],
   "source": [
    "df_type = pd.read_csv(\"/public/hanl/jupyter_dir/kidney_sepsis_penotype_v3/03.eICU_SAKI_trajCluster/df_mixAK_fea4_C3_eicu.csv\")\n",
    "df_type_filt = df_type.loc[:,[\"stay_id\",\"groupHPD\"]]\n",
    "df_type_filt = df_type_filt.drop_duplicates()\n",
    "all_lst = df_type_filt.stay_id.unique().tolist()\n",
    "print(\"纳入患者数量：\",len(all_lst))\n",
    "\n",
    "df_type_filt[\"groupHPD\"].value_counts()"
   ]
  },
  {
   "cell_type": "code",
   "execution_count": null,
   "id": "e28474fc",
   "metadata": {
    "ExecuteTime": {
     "end_time": "2024-01-30T15:10:36.058272Z",
     "start_time": "2024-01-30T15:00:55.751Z"
    }
   },
   "outputs": [],
   "source": [
    "# 导入时间文件\n",
    "df_time =  pd.read_csv(\"/public/hanl/jupyter_dir/kidney_sepsis_penotype_v3/00.data_eicu/disease_definition/AKI/eicu_saki_event_time.csv\")\n",
    "df_time = df_time[[\"stay_id\", \"saki_onset\",\"intime\",\"outtime\"]]\n",
    "\n",
    "df_time = df_time[df_time[\"stay_id\"].isin(all_lst)]\n",
    "print(len(df_time.stay_id.unique()))\n",
    "df_time.head(2)"
   ]
  },
  {
   "cell_type": "code",
   "execution_count": null,
   "id": "6e6fc6a7",
   "metadata": {
    "ExecuteTime": {
     "end_time": "2024-01-30T15:10:36.058761Z",
     "start_time": "2024-01-30T15:00:55.752Z"
    }
   },
   "outputs": [],
   "source": [
    "# 导入临床特征文件\n",
    "data_dir = \"/public/hanl/jupyter_dir/kidney_sepsis_penotype_v3/00.data_eicu/feature_data/\"\n",
    "infile = data_dir + \"eicu_data_merge.csv\"\n",
    "df_fea = pd.read_csv(infile)\n",
    "df_fea = df_fea[df_fea[\"stay_id\"].isin(all_lst)]\n",
    "df_fea[\"charttime\"] = df_fea[\"charttime\"]/60\n",
    "df_fea = df_fea[['stay_id', 'charttime', 'urineoutput', 'creatinine']].drop_duplicates()\n",
    "df_fea = df_fea[df_fea[\"charttime\"]>0]\n",
    "df_fea.head(1)"
   ]
  },
  {
   "cell_type": "code",
   "execution_count": null,
   "id": "af27c2c1",
   "metadata": {
    "ExecuteTime": {
     "end_time": "2024-01-30T15:10:36.059295Z",
     "start_time": "2024-01-30T15:00:55.754Z"
    },
    "scrolled": true
   },
   "outputs": [],
   "source": [
    "df_fea_add  = pd.merge(df_fea,df_time, how=\"left\", on=\"stay_id\")\n",
    "df_fea_add = df_fea_add[(df_fea_add[\"charttime\"] <= df_fea_add[\"outtime\"]) & (df_fea_add[\"charttime\"] >= df_fea_add[\"intime\"])]\n",
    "df_fea_add_eicu = df_fea_add\n",
    "df_fea_add_eicu.head(1)"
   ]
  },
  {
   "cell_type": "markdown",
   "id": "b5759b14",
   "metadata": {},
   "source": [
    "# stat  + plot"
   ]
  },
  {
   "cell_type": "code",
   "execution_count": null,
   "id": "bf811fed",
   "metadata": {
    "ExecuteTime": {
     "end_time": "2024-01-30T15:10:36.059770Z",
     "start_time": "2024-01-30T15:00:55.755Z"
    }
   },
   "outputs": [],
   "source": [
    "# df_fea_add_mimic_b.groupby([\"stay_id\"]).agg({\"charttime\":\"count\"}).reset_index()"
   ]
  },
  {
   "cell_type": "code",
   "execution_count": null,
   "id": "5137839d",
   "metadata": {
    "ExecuteTime": {
     "end_time": "2024-01-30T15:10:36.060262Z",
     "start_time": "2024-01-30T15:00:55.757Z"
    }
   },
   "outputs": [],
   "source": [
    "fea =  \"creatinine\" # \"creatinine\"  \"urineoutput\""
   ]
  },
  {
   "cell_type": "code",
   "execution_count": null,
   "id": "59773ad3",
   "metadata": {
    "ExecuteTime": {
     "end_time": "2024-01-30T15:10:36.060863Z",
     "start_time": "2024-01-30T15:00:55.759Z"
    }
   },
   "outputs": [],
   "source": [
    "df_fea_add_mimic_b = df_fea_add_mimic[df_fea_add_mimic[\"charttime\"] <= df_fea_add_mimic[\"saki_onset\"]]\n",
    "df_fea_add_mimic_b = df_fea_add_mimic_b.dropna(how='all', subset=[fea])\n",
    "df_fea_add_mimic_b[\"charttime_last\"] = df_fea_add_mimic_b.groupby('stay_id')[\"charttime\"].shift(1)\n",
    "df_fea_add_mimic_b[\"charttime_last\"].fillna(df_fea_add_mimic_b[\"intime\"], inplace=True)\n",
    "df_fea_add_mimic_b[\"during_time\"] = (df_fea_add_mimic_b[\"charttime\"] - df_fea_add_mimic_b[\"charttime_last\"]).map(lambda x:x/np.timedelta64(1, 'h')).tolist()\n",
    "#df_stat_mimic_uo = df_fea_add_mimic_b.groupby([\"stay_id\"]).agg({\"during_time\":\"mean\"}).reset_index()\n",
    "df_fea_add_mimic_b=df_fea_add_mimic_b[df_fea_add_mimic_b[\"intime\"]!=df_fea_add_mimic_b[\"charttime_last\"]]\n",
    "df_stat_mimic_crea = df_fea_add_mimic_b #.groupby([\"stay_id\"]).agg({\"during_time\":\"mean\"}).reset_index()\n",
    "\n",
    "df_fea_add_aumc_b = df_fea_add_aumc[df_fea_add_aumc[\"charttime\"] <= df_fea_add_aumc[\"saki_onset\"]]\n",
    "df_fea_add_aumc_b = df_fea_add_aumc_b.dropna(how='all', subset=[fea])\n",
    "df_fea_add_aumc_b[\"charttime_last\"] = df_fea_add_aumc_b.groupby('stay_id')[\"charttime\"].shift(1)\n",
    "df_fea_add_aumc_b[\"charttime_last\"].fillna(df_fea_add_aumc_b[\"intime\"], inplace=True)\n",
    "df_fea_add_aumc_b[\"during_time\"] = df_fea_add_aumc_b[\"charttime\"] - df_fea_add_aumc_b[\"charttime_last\"]\n",
    "#df_stat_aumc_uo = df_fea_add_aumc_b.groupby([\"stay_id\"]).agg({\"during_time\":\"mean\"}).reset_index()\n",
    "df_fea_add_aumc_b=df_fea_add_aumc_b[df_fea_add_aumc_b[\"intime\"]!=df_fea_add_aumc_b[\"charttime_last\"]]\n",
    "df_stat_aumc_crea = df_fea_add_aumc_b #.groupby([\"stay_id\"]).agg({\"during_time\":\"mean\"}).reset_index()\n",
    "\n",
    "df_fea_add_eicu_b = df_fea_add_eicu[df_fea_add_eicu[\"charttime\"] <= df_fea_add_eicu[\"saki_onset\"]]\n",
    "df_fea_add_eicu_b = df_fea_add_eicu_b.dropna(how='all', subset=[fea])\n",
    "df_fea_add_eicu_b[\"charttime_last\"] = df_fea_add_eicu_b.groupby('stay_id')[\"charttime\"].shift(1)\n",
    "df_fea_add_eicu_b[\"charttime_last\"].fillna(df_fea_add_eicu_b[\"intime\"], inplace=True)\n",
    "df_fea_add_eicu_b[\"during_time\"] = df_fea_add_eicu_b[\"charttime\"] - df_fea_add_eicu_b[\"charttime_last\"]\n",
    "#df_stat_eicu_uo = df_fea_add_eicu_b.groupby([\"stay_id\"]).agg({\"during_time\":\"mean\"}).reset_index()\n",
    "df_fea_add_eicu_b=df_fea_add_eicu_b[df_fea_add_eicu_b[\"intime\"]!=df_fea_add_eicu_b[\"charttime_last\"]]\n",
    "df_stat_eicu_crea = df_fea_add_eicu_b #.groupby([\"stay_id\"]).agg({\"during_time\":\"mean\"}).reset_index()\n"
   ]
  },
  {
   "cell_type": "code",
   "execution_count": null,
   "id": "391409ed",
   "metadata": {
    "ExecuteTime": {
     "end_time": "2024-01-30T15:10:36.061368Z",
     "start_time": "2024-01-30T15:00:55.760Z"
    }
   },
   "outputs": [],
   "source": [
    "fea =   \"urineoutput\""
   ]
  },
  {
   "cell_type": "code",
   "execution_count": null,
   "id": "df4a8230",
   "metadata": {
    "ExecuteTime": {
     "end_time": "2024-01-30T15:10:36.061887Z",
     "start_time": "2024-01-30T15:00:55.762Z"
    }
   },
   "outputs": [],
   "source": [
    "df_fea_add_mimic_b = df_fea_add_mimic[df_fea_add_mimic[\"charttime\"] <= df_fea_add_mimic[\"saki_onset\"]]\n",
    "df_fea_add_mimic_b = df_fea_add_mimic_b.dropna(how='all', subset=[fea])\n",
    "df_fea_add_mimic_b[\"charttime_last\"] = df_fea_add_mimic_b.groupby('stay_id')[\"charttime\"].shift(1)\n",
    "df_fea_add_mimic_b[\"charttime_last\"].fillna(df_fea_add_mimic_b[\"intime\"], inplace=True)\n",
    "df_fea_add_mimic_b[\"during_time\"] = (df_fea_add_mimic_b[\"charttime\"] - df_fea_add_mimic_b[\"charttime_last\"]).map(lambda x:x/np.timedelta64(1, 'h')).tolist()\n",
    "\n",
    "df_fea_add_mimic_b=df_fea_add_mimic_b[df_fea_add_mimic_b[\"intime\"]!=df_fea_add_mimic_b[\"charttime_last\"]]\n",
    "df_stat_mimic_uo = df_fea_add_mimic_b #.groupby([\"stay_id\"]).agg({\"during_time\":\"mean\"}).reset_index()\n",
    "#df_stat_mimic_crea = df_fea_add_mimic_b.groupby([\"stay_id\"]).agg({\"during_time\":\"mean\"}).reset_index()\n",
    "\n",
    "df_fea_add_aumc_b = df_fea_add_aumc[df_fea_add_aumc[\"charttime\"] <= df_fea_add_aumc[\"saki_onset\"]]\n",
    "df_fea_add_aumc_b = df_fea_add_aumc_b.dropna(how='all', subset=[fea])\n",
    "df_fea_add_aumc_b[\"charttime_last\"] = df_fea_add_aumc_b.groupby('stay_id')[\"charttime\"].shift(1)\n",
    "df_fea_add_aumc_b[\"charttime_last\"].fillna(df_fea_add_aumc_b[\"intime\"], inplace=True)\n",
    "df_fea_add_aumc_b[\"during_time\"] = df_fea_add_aumc_b[\"charttime\"] - df_fea_add_aumc_b[\"charttime_last\"]\n",
    "df_fea_add_aumc_b=df_fea_add_aumc_b[df_fea_add_aumc_b[\"intime\"]!=df_fea_add_aumc_b[\"charttime_last\"]]\n",
    "df_stat_aumc_uo = df_fea_add_aumc_b#.groupby([\"stay_id\"]).agg({\"during_time\":\"mean\"}).reset_index()\n",
    "#df_stat_aumc_crea = df_fea_add_aumc_b.groupby([\"stay_id\"]).agg({\"during_time\":\"mean\"}).reset_index()\n",
    "\n",
    "\n",
    "df_fea_add_eicu_b = df_fea_add_eicu[df_fea_add_eicu[\"charttime\"] <= df_fea_add_eicu[\"saki_onset\"]]\n",
    "df_fea_add_eicu_b = df_fea_add_eicu_b.dropna(how='all', subset=[fea])\n",
    "df_fea_add_eicu_b[\"charttime_last\"] = df_fea_add_eicu_b.groupby('stay_id')[\"charttime\"].shift(1)\n",
    "df_fea_add_eicu_b[\"charttime_last\"].fillna(df_fea_add_eicu_b[\"intime\"], inplace=True)\n",
    "df_fea_add_eicu_b[\"during_time\"] = df_fea_add_eicu_b[\"charttime\"] - df_fea_add_eicu_b[\"charttime_last\"]\n",
    "df_fea_add_eicu_b=df_fea_add_eicu_b[df_fea_add_eicu_b[\"intime\"]!=df_fea_add_eicu_b[\"charttime_last\"]]\n",
    "df_stat_eicu_uo = df_fea_add_eicu_b#.groupby([\"stay_id\"]).agg({\"during_time\":\"mean\"}).reset_index()\n",
    "#df_stat_eicu_crea = df_fea_add_eicu_b.groupby([\"stay_id\"]).agg({\"during_time\":\"mean\"}).reset_index()\n"
   ]
  },
  {
   "cell_type": "code",
   "execution_count": null,
   "id": "861fb844",
   "metadata": {
    "ExecuteTime": {
     "end_time": "2024-01-30T15:10:36.062424Z",
     "start_time": "2024-01-30T15:00:55.763Z"
    }
   },
   "outputs": [],
   "source": [
    "df_stat_mimic_uo[\"label\"]= \"mimic\"\n",
    "df_stat_aumc_uo[\"label\"]= \"aumc\"\n",
    "df_stat_eicu_uo[\"label\"]= \"eicu\"\n",
    "df_uo = pd.concat([df_stat_mimic_uo,df_stat_aumc_uo,df_stat_eicu_uo],axis=0)\n",
    "df_uo.head()"
   ]
  },
  {
   "cell_type": "code",
   "execution_count": null,
   "id": "8fa60db9",
   "metadata": {
    "ExecuteTime": {
     "end_time": "2024-01-30T15:10:36.062932Z",
     "start_time": "2024-01-30T15:00:55.765Z"
    }
   },
   "outputs": [],
   "source": [
    "df_stat_mimic_crea[\"label\"]= \"mimic_c\"\n",
    "df_stat_aumc_crea[\"label\"]= \"aumc_c\"\n",
    "df_stat_eicu_crea[\"label\"]= \"eicu_c\"\n",
    "df_crea = pd.concat([df_stat_mimic_crea,df_stat_aumc_crea,df_stat_eicu_crea],axis=0)\n",
    "df_crea.head()"
   ]
  },
  {
   "cell_type": "code",
   "execution_count": null,
   "id": "a24a86a9",
   "metadata": {
    "ExecuteTime": {
     "end_time": "2024-01-30T15:10:36.063520Z",
     "start_time": "2024-01-30T15:00:55.766Z"
    },
    "run_control": {
     "marked": true
    },
    "scrolled": false
   },
   "outputs": [],
   "source": [
    "import seaborn as sns\n",
    "fig,ax=plt.subplots(1,1,figsize=(9,6))\n",
    "ax1=ax.twinx()\n",
    "# ax=plt.gca()\n",
    "# ax.spines['right'].set_visible(False)\n",
    "# ax.spines['left'].set_visible(False)\n",
    "# ax.spines['top'].set_visible(False)\n",
    "f1 = ax.boxplot([df_stat_mimic_uo[\"during_time\"], df_stat_aumc_uo[\"during_time\"], df_stat_eicu_uo[\"during_time\"]],\n",
    "           whis=(10,90),positions=[1,2,3],showfliers=False,showmeans=True,patch_artist=True,\n",
    "                meanprops = {'marker':'D', 'markersize':4,'markerfacecolor':'white','markeredgecolor':'black'}\n",
    "                ,medianprops={'color':'black'}) \n",
    "\n",
    "f2 = ax1.boxplot([df_stat_mimic_crea[\"during_time\"], df_stat_aumc_crea[\"during_time\"], df_stat_eicu_crea[\"during_time\"]],\n",
    "           whis=(10,90),positions=[5,6,7],showfliers=False,showmeans=True,patch_artist=True,meanprops = {'marker':'D', 'markersize':4,'markerfacecolor':'white','markeredgecolor':'black'},medianprops={'color':'black'}) \n",
    "\n",
    "color = [\"#f8746a\",\"#f8746a\",\"#f8746a\"] #\"#74a8ff\"\n",
    "for box,c in zip(f1['boxes'], color):\n",
    "    box.set( facecolor = c,edgecolor='black')\n",
    "color = [\"#74a8ff\",\"#74a8ff\",\"#74a8ff\"]\n",
    "for box,c in zip(f2['boxes'], color):\n",
    "    box.set( facecolor = c,edgecolor='black')\n",
    "\n",
    "#plt.title(\"Frequency of Indicator Measurements During ICU Admission to SA-AKI onset\")\n",
    "ax.set_ylabel(\"Average detection time of uo (hours)\",fontsize=12)\n",
    "ax1.set_ylabel(\"Average detection time of creatinine (hours)\",fontsize=12)\n",
    "\n",
    "from statannotations.Annotator import Annotator\n",
    "box_pairs = [(\"mimic\",\"aumc\"),(\"mimic\",\"eicu\"),(\"aumc\",\"eicu\")]\n",
    "annotator =  Annotator(ax, data=df_uo, x=\"label\",y=\"during_time\",\n",
    "                      pairs=box_pairs,vert=True)\n",
    "annotator.configure(test='Mann-Whitney', text_format='star',line_height=0.01,line_width=1, loc='outside') #t-test_ind， Mann-Whitney Wilcoxon\n",
    "annotator.apply_and_annotate()\n",
    "\n",
    "box_pairs = [(\"mimic_c\",\"aumc_c\"),(\"mimic_c\",\"eicu_c\"),(\"aumc_c\",\"eicu_c\")]\n",
    "annotator =  Annotator(ax1, data=df_crea, x=\"label\",y=\"during_time\",\n",
    "                      pairs=box_pairs,vert=True)\n",
    "annotator.configure(test='Mann-Whitney', text_format='star',line_height=0.01,line_width=1, loc='outside') #t-test_ind， Mann-Whitney Wilcoxon\n",
    "annotator.apply_and_annotate()\n",
    "\n",
    "ax1.text(5.5,24,\"Creatinine\",fontsize=14)\n",
    "ax.text(1.5,2.95,\"Urine Output\",fontsize=14)\n",
    "plt.xticks([1,2,3,5,6,7], [\"MIMIC-IV\",\"AUMC\",\"eICU\",\"MIMIC-IV\",\"AUMC\",\"eICU\"],fontsize=13)\n",
    "plt.show()"
   ]
  },
  {
   "cell_type": "code",
   "execution_count": null,
   "id": "add82187",
   "metadata": {
    "ExecuteTime": {
     "end_time": "2024-01-30T15:10:36.064023Z",
     "start_time": "2024-01-30T15:00:55.768Z"
    }
   },
   "outputs": [],
   "source": [
    "# 输出每个数据组的中值、均值和分位数\n",
    "data_groups = [\n",
    "    df_stat_mimic_uo[\"during_time\"], df_stat_aumc_uo[\"during_time\"], df_stat_eicu_uo[\"during_time\"]\n",
    "]\n",
    "\n",
    "df_out = pd.DataFrame(columns = [\"class\",\"Mean\",\"q10\",\"q25\",\"q50\",\"q75\",\"q90\"])\n",
    "database = [\"MIMIC\",\"AUMCdb\",\"eICU\"]\n",
    "for i, group_data in enumerate(data_groups):\n",
    "    mean = round(np.mean(group_data),1)\n",
    "    q10 = round(np.percentile(group_data, 10),2)\n",
    "    q25 = round(np.percentile(group_data, 25),2)\n",
    "    q50 = round(np.percentile(group_data, 50),2)\n",
    "    q75 = round(np.percentile(group_data, 75),2)\n",
    "    q90 = round(np.percentile(group_data, 90),2)\n",
    "    df_out.loc[len(df_out)] = [database[i],mean,q10,q25,q50,q75,q90]\n",
    "df_out"
   ]
  },
  {
   "cell_type": "code",
   "execution_count": null,
   "id": "d7f3e64b",
   "metadata": {
    "ExecuteTime": {
     "end_time": "2024-01-30T15:10:36.064522Z",
     "start_time": "2024-01-30T15:00:55.769Z"
    }
   },
   "outputs": [],
   "source": [
    "import scipy.stats as stats\n",
    "f_statistic, p_value = stats.f_oneway(data_groups[0],data_groups[1],data_groups[2])\n",
    "print(\"F-statistic:\", f_statistic)\n",
    "print(\"P-value:\", p_value)"
   ]
  },
  {
   "cell_type": "code",
   "execution_count": null,
   "id": "e63d0ca0",
   "metadata": {
    "ExecuteTime": {
     "end_time": "2024-01-30T15:10:36.065067Z",
     "start_time": "2024-01-30T15:00:55.770Z"
    }
   },
   "outputs": [],
   "source": [
    "# 输出每个数据组的中值、均值和分位数\n",
    "data_groups = [\n",
    "    df_stat_mimic_crea[\"during_time\"], df_stat_aumc_crea[\"during_time\"], df_stat_eicu_crea[\"during_time\"]\n",
    "]\n",
    "\n",
    "df_out = pd.DataFrame(columns = [\"class\",\"Mean\",\"q10\",\"q25\",\"q50\",\"q75\",\"q90\"])\n",
    "for i, group_data in enumerate(data_groups):\n",
    "    mean = round(np.mean(group_data),1)\n",
    "    q10 = round(np.percentile(group_data, 10),2)\n",
    "    q25 = round(np.percentile(group_data, 25),2)\n",
    "    q50 = round(np.percentile(group_data, 50),2)\n",
    "    q75 = round(np.percentile(group_data, 75),2)\n",
    "    q90 = round(np.percentile(group_data, 90),2)\n",
    "    df_out.loc[len(df_out)] = [database[i],mean,q10,q25,q50,q75,q90]\n",
    "df_out"
   ]
  },
  {
   "cell_type": "code",
   "execution_count": null,
   "id": "50162070",
   "metadata": {
    "ExecuteTime": {
     "end_time": "2024-01-30T15:10:36.065574Z",
     "start_time": "2024-01-30T15:00:55.772Z"
    }
   },
   "outputs": [],
   "source": [
    "import scipy.stats as stats\n",
    "f_statistic, p_value = stats.f_oneway(data_groups[0],data_groups[1],data_groups[2])\n",
    "print(\"F-statistic:\", f_statistic)\n",
    "print(\"P-value:\", p_value)"
   ]
  }
 ],
 "metadata": {
  "kernelspec": {
   "display_name": "Python [conda env:sp_shock] *",
   "language": "python",
   "name": "conda-env-sp_shock-py"
  },
  "language_info": {
   "codemirror_mode": {
    "name": "ipython",
    "version": 3
   },
   "file_extension": ".py",
   "mimetype": "text/x-python",
   "name": "python",
   "nbconvert_exporter": "python",
   "pygments_lexer": "ipython3",
   "version": "3.9.5"
  },
  "toc": {
   "base_numbering": 1,
   "nav_menu": {},
   "number_sections": true,
   "sideBar": true,
   "skip_h1_title": false,
   "title_cell": "Table of Contents",
   "title_sidebar": "Contents",
   "toc_cell": false,
   "toc_position": {},
   "toc_section_display": true,
   "toc_window_display": false
  },
  "varInspector": {
   "cols": {
    "lenName": 16,
    "lenType": 16,
    "lenVar": 40
   },
   "kernels_config": {
    "python": {
     "delete_cmd_postfix": "",
     "delete_cmd_prefix": "del ",
     "library": "var_list.py",
     "varRefreshCmd": "print(var_dic_list())"
    },
    "r": {
     "delete_cmd_postfix": ") ",
     "delete_cmd_prefix": "rm(",
     "library": "var_list.r",
     "varRefreshCmd": "cat(var_dic_list()) "
    }
   },
   "types_to_exclude": [
    "module",
    "function",
    "builtin_function_or_method",
    "instance",
    "_Feature"
   ],
   "window_display": false
  }
 },
 "nbformat": 4,
 "nbformat_minor": 5
}
