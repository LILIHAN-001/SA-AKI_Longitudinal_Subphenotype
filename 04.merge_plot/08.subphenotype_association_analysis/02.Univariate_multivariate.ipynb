{
 "cells": [
  {
   "cell_type": "code",
   "execution_count": 1,
   "id": "3e4e6dc1",
   "metadata": {
    "ExecuteTime": {
     "end_time": "2023-11-29T02:54:49.965864Z",
     "start_time": "2023-11-29T02:46:06.241Z"
    },
    "vscode": {
     "languageId": "r"
    }
   },
   "outputs": [
    {
     "name": "stderr",
     "output_type": "stream",
     "text": [
      "Loading required package: ggplot2\n",
      "\n",
      "Loading required package: ggpubr\n",
      "\n",
      "\n",
      "Attaching package: ‘survminer’\n",
      "\n",
      "\n",
      "The following object is masked from ‘package:survival’:\n",
      "\n",
      "    myeloma\n",
      "\n",
      "\n",
      "\n",
      "Attaching package: ‘plotRCS’\n",
      "\n",
      "\n",
      "The following object is masked from ‘package:survival’:\n",
      "\n",
      "    cancer\n",
      "\n",
      "\n",
      "Loading required package: Hmisc\n",
      "\n",
      "\n",
      "Attaching package: ‘Hmisc’\n",
      "\n",
      "\n",
      "The following objects are masked from ‘package:base’:\n",
      "\n",
      "    format.pval, units\n",
      "\n",
      "\n"
     ]
    }
   ],
   "source": [
    "library(MatchIt)\n",
    "library(survival)\n",
    "library(survminer)\n",
    "library(tidyr)\n",
    "library(tableone)\n",
    "library(plotRCS)\n",
    "library(rms)"
   ]
  },
  {
   "cell_type": "code",
   "execution_count": 2,
   "id": "8399dd7e",
   "metadata": {
    "ExecuteTime": {
     "end_time": "2023-11-29T02:54:50.008275Z",
     "start_time": "2023-11-29T02:46:06.243Z"
    },
    "vscode": {
     "languageId": "r"
    }
   },
   "outputs": [],
   "source": [
    "df_survival <- read.csv(\"df_eicu_c3_riskfactor.csv\",as.is = TRUE)\n",
    "df_survival <- as.data.frame(df_survival)\n",
    "#df_survival$groupHPD <- as.factor(df_survival$groupHPD)\n",
    "df_select <-  df_survival#[df_survival$time==1,] # subset(df_survival, time == c(1))\n"
   ]
  },
  {
   "cell_type": "markdown",
   "id": "4d7e4ece",
   "metadata": {},
   "source": [
    "# Univariate\n",
    "- Univariate analysis refers to the study of the degree of influence of a certain factor at different levels on an independent variable at a certain point in time"
   ]
  },
  {
   "cell_type": "code",
   "execution_count": 3,
   "id": "2d2bb998",
   "metadata": {
    "ExecuteTime": {
     "end_time": "2023-11-29T02:54:50.019598Z",
     "start_time": "2023-11-29T02:46:06.245Z"
    },
    "vscode": {
     "languageId": "r"
    }
   },
   "outputs": [],
   "source": [
    "# # MIMIC\n",
    "# 'los_sepsis_saaki',  'max_aki_stage_crea',\n",
    "#        'max_aki_stage_uo', 'first_aki_stage', 'max_aki_stage', 'aki_endstage',\n",
    "#        'aki_endstage_H7D',  \n",
    "#        'gender', 'age', 'baseline_Scr', 'Peak_Scr', 'Discharge_Scr',\n",
    "#        'Myocardial_infarct', 'Congestive_heart_failure',\n",
    "#        'Peripheral_vascular_disease', 'Cerebrovascular_disease',\n",
    "#        'Peptic_ulcer', 'Renal', 'Hepatic', 'Tumor',\n",
    "#        'Cardiovascular', 'Acidosis', 'Cardiogenic_shock', 'Diabetes',\n",
    "#        'Hypertension', 'Respiratory_failure', 'Septic_shock', 'is_vaso',\n",
    "#        'is_mv', 'is_rrt', 'is_crrt'\n",
    "# # AUMC\n",
    "# 'los_sepsis_saaki',  'icu_stay_days', 'gender',\n",
    "#        'age', 'weight', 'first_aki_stage', 'max_aki_stage', 'aki_endstage',\n",
    "#        'aki_endstage_H7D', 'max_aki_stage_crea', 'max_aki_stage_uo', 'is_vaso',\n",
    "#        'is_mv', 'is_rrt','baseline_Scr', 'Peak_Scr', 'Discharge_Scr'\n",
    "\n",
    "# eICU\n",
    "# 'los_sepsis_saaki', 'age',\n",
    "#        'height', 'weight', 'icu_stay_days', 'first_aki_stage', 'max_aki_stage',\n",
    "#        'aki_endstage', 'aki_endstage_H7D', 'max_aki_stage_crea',\n",
    "#        'max_aki_stage_uo', 'baseline_Scr', 'Peak_Scr', 'Discharge_Scr',\n",
    "#        'is_vaso', 'is_mv', 'is_rrt', 'Acidosis', 'Cardiogenic_shock',\n",
    "#        'Congestive_heart_failure', 'Diabetes', 'Hepatic', 'Hypertension',\n",
    "#        'Hypovolemic_shock', 'Myocardial_infarct', 'Respiratory_failure',\n",
    "#        'Septic_shock', 'cardiovascular', 'gastrointestinal', 'neurologic',\n",
    "#        'oncology', 'pulmonary', 'renal'"
   ]
  },
  {
   "cell_type": "code",
   "execution_count": null,
   "id": "a2ffdb1e",
   "metadata": {
    "ExecuteTime": {
     "end_time": "2023-11-29T02:54:50.222143Z",
     "start_time": "2023-11-29T02:46:06.247Z"
    },
    "run_control": {
     "marked": true
    },
    "vscode": {
     "languageId": "r"
    }
   },
   "outputs": [
    {
     "name": "stderr",
     "output_type": "stream",
     "text": [
      "Warning message in coxph.fit(X, Y, istrat, offset, init, control, weights = weights, :\n",
      "“Loglik converged before variable  1 ; coefficient may be infinite. ”\n"
     ]
    },
    {
     "data": {
      "text/html": [
       "<table class=\"dataframe\">\n",
       "<caption>A data.frame: 33 × 4</caption>\n",
       "<thead>\n",
       "\t<tr><th></th><th scope=col>beta</th><th scope=col>HR (95% CI for HR)</th><th scope=col>wald.test</th><th scope=col>p.value</th></tr>\n",
       "\t<tr><th></th><th scope=col>&lt;chr&gt;</th><th scope=col>&lt;chr&gt;</th><th scope=col>&lt;chr&gt;</th><th scope=col>&lt;chr&gt;</th></tr>\n",
       "</thead>\n",
       "<tbody>\n",
       "\t<tr><th scope=row>los_sepsis_saaki</th><td>-0.00071</td><td>1 (0.99-1)      </td><td>0.03</td><td>0.87  </td></tr>\n",
       "\t<tr><th scope=row>age</th><td>0.021   </td><td>1 (1-1)         </td><td>6.1 </td><td>0.014 </td></tr>\n",
       "\t<tr><th scope=row>height</th><td>-0.015  </td><td>0.99 (0.97-1)   </td><td>2.1 </td><td>0.14  </td></tr>\n",
       "\t<tr><th scope=row>weight</th><td>-0.0079 </td><td>0.99 (0.98-1)   </td><td>3.2 </td><td>0.075 </td></tr>\n",
       "\t<tr><th scope=row>icu_stay_days</th><td>-0.084  </td><td>0.92 (0.87-0.97)</td><td>8.9 </td><td>0.0028</td></tr>\n",
       "\t<tr><th scope=row>first_aki_stage</th><td>0.044   </td><td>1 (0.7-1.6)     </td><td>0.05</td><td>0.83  </td></tr>\n",
       "\t<tr><th scope=row>max_aki_stage</th><td>0.0052  </td><td>1 (0.75-1.4)    </td><td>0   </td><td>0.97  </td></tr>\n",
       "\t<tr><th scope=row>aki_endstage</th><td>0.54    </td><td>1.7 (1.3-2.2)   </td><td>15  </td><td>9e-05 </td></tr>\n",
       "\t<tr><th scope=row>aki_endstage_H7D</th><td>0.84    </td><td>2.3 (1.8-3)     </td><td>38  </td><td>6e-10 </td></tr>\n",
       "\t<tr><th scope=row>max_aki_stage_crea</th><td>17      </td><td>2.6e+07 (0-Inf) </td><td>0   </td><td>1     </td></tr>\n",
       "\t<tr><th scope=row>max_aki_stage_uo</th><td>-0.01   </td><td>0.99 (0.81-1.2) </td><td>0.01</td><td>0.92  </td></tr>\n",
       "\t<tr><th scope=row>baseline_Scr</th><td>0.48    </td><td>1.6 (0.63-4.2)  </td><td>0.99</td><td>0.32  </td></tr>\n",
       "\t<tr><th scope=row>Peak_Scr</th><td>-0.044  </td><td>0.96 (0.83-1.1) </td><td>0.39</td><td>0.53  </td></tr>\n",
       "\t<tr><th scope=row>Discharge_Scr</th><td>0.065   </td><td>1.1 (0.92-1.2)  </td><td>0.77</td><td>0.38  </td></tr>\n",
       "\t<tr><th scope=row>is_vaso</th><td>0.77    </td><td>2.2 (1.3-3.7)   </td><td>8.2 </td><td>0.0041</td></tr>\n",
       "\t<tr><th scope=row>is_mv</th><td>0.096   </td><td>1.1 (0.63-1.9)  </td><td>0.12</td><td>0.73  </td></tr>\n",
       "\t<tr><th scope=row>is_rrt</th><td>-1.1    </td><td>0.33 (0.08-1.4) </td><td>2.4 </td><td>0.12  </td></tr>\n",
       "\t<tr><th scope=row>Acidosis</th><td>0.59    </td><td>1.8 (0.93-3.5)  </td><td>3.1 </td><td>0.079 </td></tr>\n",
       "\t<tr><th scope=row>Cardiogenic_shock</th><td>0.8     </td><td>2.2 (0.54-9.1)  </td><td>1.2 </td><td>0.27  </td></tr>\n",
       "\t<tr><th scope=row>Congestive_heart_failure</th><td>0.14    </td><td>1.2 (0.56-2.3)  </td><td>0.15</td><td>0.7   </td></tr>\n",
       "\t<tr><th scope=row>Diabetes</th><td>-0.071  </td><td>0.93 (0.46-1.9) </td><td>0.04</td><td>0.84  </td></tr>\n",
       "\t<tr><th scope=row>Hepatic</th><td>-0.038  </td><td>0.96 (0.44-2.1) </td><td>0.01</td><td>0.93  </td></tr>\n",
       "\t<tr><th scope=row>Hypertension</th><td>-0.43   </td><td>0.65 (0.29-1.4) </td><td>1.1 </td><td>0.29  </td></tr>\n",
       "\t<tr><th scope=row>Hypovolemic_shock</th><td>0.02    </td><td>1 (0.14-7.4)    </td><td>0   </td><td>0.98  </td></tr>\n",
       "\t<tr><th scope=row>Myocardial_infarct</th><td>0.33    </td><td>1.4 (0.5-3.8)   </td><td>0.4 </td><td>0.53  </td></tr>\n",
       "\t<tr><th scope=row>Respiratory_failure</th><td>-0.11   </td><td>0.9 (0.53-1.5)  </td><td>0.17</td><td>0.68  </td></tr>\n",
       "\t<tr><th scope=row>Septic_shock</th><td>-0.53   </td><td>0.59 (0.33-1)   </td><td>3.3 </td><td>0.069 </td></tr>\n",
       "\t<tr><th scope=row>cardiovascular</th><td>0.26    </td><td>1.3 (0.61-2.7)  </td><td>0.46</td><td>0.5   </td></tr>\n",
       "\t<tr><th scope=row>gastrointestinal</th><td>-0.49   </td><td>0.61 (0.34-1.1) </td><td>2.7 </td><td>0.1   </td></tr>\n",
       "\t<tr><th scope=row>neurologic</th><td>-0.12   </td><td>0.89 (0.5-1.6)  </td><td>0.16</td><td>0.68  </td></tr>\n",
       "\t<tr><th scope=row>oncology</th><td>-0.33   </td><td>0.72 (0.23-2.3) </td><td>0.3 </td><td>0.58  </td></tr>\n",
       "\t<tr><th scope=row>pulmonary</th><td>0.33    </td><td>1.4 (0.77-2.5)  </td><td>1.2 </td><td>0.28  </td></tr>\n",
       "\t<tr><th scope=row>renal</th><td>-0.24   </td><td>0.79 (0.45-1.4) </td><td>0.7 </td><td>0.4   </td></tr>\n",
       "</tbody>\n",
       "</table>\n"
      ],
      "text/latex": [
       "A data.frame: 33 × 4\n",
       "\\begin{tabular}{r|llll}\n",
       "  & beta & HR (95\\% CI for HR) & wald.test & p.value\\\\\n",
       "  & <chr> & <chr> & <chr> & <chr>\\\\\n",
       "\\hline\n",
       "\tlos\\_sepsis\\_saaki & -0.00071 & 1 (0.99-1)       & 0.03 & 0.87  \\\\\n",
       "\tage & 0.021    & 1 (1-1)          & 6.1  & 0.014 \\\\\n",
       "\theight & -0.015   & 0.99 (0.97-1)    & 2.1  & 0.14  \\\\\n",
       "\tweight & -0.0079  & 0.99 (0.98-1)    & 3.2  & 0.075 \\\\\n",
       "\ticu\\_stay\\_days & -0.084   & 0.92 (0.87-0.97) & 8.9  & 0.0028\\\\\n",
       "\tfirst\\_aki\\_stage & 0.044    & 1 (0.7-1.6)      & 0.05 & 0.83  \\\\\n",
       "\tmax\\_aki\\_stage & 0.0052   & 1 (0.75-1.4)     & 0    & 0.97  \\\\\n",
       "\taki\\_endstage & 0.54     & 1.7 (1.3-2.2)    & 15   & 9e-05 \\\\\n",
       "\taki\\_endstage\\_H7D & 0.84     & 2.3 (1.8-3)      & 38   & 6e-10 \\\\\n",
       "\tmax\\_aki\\_stage\\_crea & 17       & 2.6e+07 (0-Inf)  & 0    & 1     \\\\\n",
       "\tmax\\_aki\\_stage\\_uo & -0.01    & 0.99 (0.81-1.2)  & 0.01 & 0.92  \\\\\n",
       "\tbaseline\\_Scr & 0.48     & 1.6 (0.63-4.2)   & 0.99 & 0.32  \\\\\n",
       "\tPeak\\_Scr & -0.044   & 0.96 (0.83-1.1)  & 0.39 & 0.53  \\\\\n",
       "\tDischarge\\_Scr & 0.065    & 1.1 (0.92-1.2)   & 0.77 & 0.38  \\\\\n",
       "\tis\\_vaso & 0.77     & 2.2 (1.3-3.7)    & 8.2  & 0.0041\\\\\n",
       "\tis\\_mv & 0.096    & 1.1 (0.63-1.9)   & 0.12 & 0.73  \\\\\n",
       "\tis\\_rrt & -1.1     & 0.33 (0.08-1.4)  & 2.4  & 0.12  \\\\\n",
       "\tAcidosis & 0.59     & 1.8 (0.93-3.5)   & 3.1  & 0.079 \\\\\n",
       "\tCardiogenic\\_shock & 0.8      & 2.2 (0.54-9.1)   & 1.2  & 0.27  \\\\\n",
       "\tCongestive\\_heart\\_failure & 0.14     & 1.2 (0.56-2.3)   & 0.15 & 0.7   \\\\\n",
       "\tDiabetes & -0.071   & 0.93 (0.46-1.9)  & 0.04 & 0.84  \\\\\n",
       "\tHepatic & -0.038   & 0.96 (0.44-2.1)  & 0.01 & 0.93  \\\\\n",
       "\tHypertension & -0.43    & 0.65 (0.29-1.4)  & 1.1  & 0.29  \\\\\n",
       "\tHypovolemic\\_shock & 0.02     & 1 (0.14-7.4)     & 0    & 0.98  \\\\\n",
       "\tMyocardial\\_infarct & 0.33     & 1.4 (0.5-3.8)    & 0.4  & 0.53  \\\\\n",
       "\tRespiratory\\_failure & -0.11    & 0.9 (0.53-1.5)   & 0.17 & 0.68  \\\\\n",
       "\tSeptic\\_shock & -0.53    & 0.59 (0.33-1)    & 3.3  & 0.069 \\\\\n",
       "\tcardiovascular & 0.26     & 1.3 (0.61-2.7)   & 0.46 & 0.5   \\\\\n",
       "\tgastrointestinal & -0.49    & 0.61 (0.34-1.1)  & 2.7  & 0.1   \\\\\n",
       "\tneurologic & -0.12    & 0.89 (0.5-1.6)   & 0.16 & 0.68  \\\\\n",
       "\toncology & -0.33    & 0.72 (0.23-2.3)  & 0.3  & 0.58  \\\\\n",
       "\tpulmonary & 0.33     & 1.4 (0.77-2.5)   & 1.2  & 0.28  \\\\\n",
       "\trenal & -0.24    & 0.79 (0.45-1.4)  & 0.7  & 0.4   \\\\\n",
       "\\end{tabular}\n"
      ],
      "text/markdown": [
       "\n",
       "A data.frame: 33 × 4\n",
       "\n",
       "| <!--/--> | beta &lt;chr&gt; | HR (95% CI for HR) &lt;chr&gt; | wald.test &lt;chr&gt; | p.value &lt;chr&gt; |\n",
       "|---|---|---|---|---|\n",
       "| los_sepsis_saaki | -0.00071 | 1 (0.99-1)       | 0.03 | 0.87   |\n",
       "| age | 0.021    | 1 (1-1)          | 6.1  | 0.014  |\n",
       "| height | -0.015   | 0.99 (0.97-1)    | 2.1  | 0.14   |\n",
       "| weight | -0.0079  | 0.99 (0.98-1)    | 3.2  | 0.075  |\n",
       "| icu_stay_days | -0.084   | 0.92 (0.87-0.97) | 8.9  | 0.0028 |\n",
       "| first_aki_stage | 0.044    | 1 (0.7-1.6)      | 0.05 | 0.83   |\n",
       "| max_aki_stage | 0.0052   | 1 (0.75-1.4)     | 0    | 0.97   |\n",
       "| aki_endstage | 0.54     | 1.7 (1.3-2.2)    | 15   | 9e-05  |\n",
       "| aki_endstage_H7D | 0.84     | 2.3 (1.8-3)      | 38   | 6e-10  |\n",
       "| max_aki_stage_crea | 17       | 2.6e+07 (0-Inf)  | 0    | 1      |\n",
       "| max_aki_stage_uo | -0.01    | 0.99 (0.81-1.2)  | 0.01 | 0.92   |\n",
       "| baseline_Scr | 0.48     | 1.6 (0.63-4.2)   | 0.99 | 0.32   |\n",
       "| Peak_Scr | -0.044   | 0.96 (0.83-1.1)  | 0.39 | 0.53   |\n",
       "| Discharge_Scr | 0.065    | 1.1 (0.92-1.2)   | 0.77 | 0.38   |\n",
       "| is_vaso | 0.77     | 2.2 (1.3-3.7)    | 8.2  | 0.0041 |\n",
       "| is_mv | 0.096    | 1.1 (0.63-1.9)   | 0.12 | 0.73   |\n",
       "| is_rrt | -1.1     | 0.33 (0.08-1.4)  | 2.4  | 0.12   |\n",
       "| Acidosis | 0.59     | 1.8 (0.93-3.5)   | 3.1  | 0.079  |\n",
       "| Cardiogenic_shock | 0.8      | 2.2 (0.54-9.1)   | 1.2  | 0.27   |\n",
       "| Congestive_heart_failure | 0.14     | 1.2 (0.56-2.3)   | 0.15 | 0.7    |\n",
       "| Diabetes | -0.071   | 0.93 (0.46-1.9)  | 0.04 | 0.84   |\n",
       "| Hepatic | -0.038   | 0.96 (0.44-2.1)  | 0.01 | 0.93   |\n",
       "| Hypertension | -0.43    | 0.65 (0.29-1.4)  | 1.1  | 0.29   |\n",
       "| Hypovolemic_shock | 0.02     | 1 (0.14-7.4)     | 0    | 0.98   |\n",
       "| Myocardial_infarct | 0.33     | 1.4 (0.5-3.8)    | 0.4  | 0.53   |\n",
       "| Respiratory_failure | -0.11    | 0.9 (0.53-1.5)   | 0.17 | 0.68   |\n",
       "| Septic_shock | -0.53    | 0.59 (0.33-1)    | 3.3  | 0.069  |\n",
       "| cardiovascular | 0.26     | 1.3 (0.61-2.7)   | 0.46 | 0.5    |\n",
       "| gastrointestinal | -0.49    | 0.61 (0.34-1.1)  | 2.7  | 0.1    |\n",
       "| neurologic | -0.12    | 0.89 (0.5-1.6)   | 0.16 | 0.68   |\n",
       "| oncology | -0.33    | 0.72 (0.23-2.3)  | 0.3  | 0.58   |\n",
       "| pulmonary | 0.33     | 1.4 (0.77-2.5)   | 1.2  | 0.28   |\n",
       "| renal | -0.24    | 0.79 (0.45-1.4)  | 0.7  | 0.4    |\n",
       "\n"
      ],
      "text/plain": [
       "                         beta     HR (95% CI for HR) wald.test p.value\n",
       "los_sepsis_saaki         -0.00071 1 (0.99-1)         0.03      0.87   \n",
       "age                      0.021    1 (1-1)            6.1       0.014  \n",
       "height                   -0.015   0.99 (0.97-1)      2.1       0.14   \n",
       "weight                   -0.0079  0.99 (0.98-1)      3.2       0.075  \n",
       "icu_stay_days            -0.084   0.92 (0.87-0.97)   8.9       0.0028 \n",
       "first_aki_stage          0.044    1 (0.7-1.6)        0.05      0.83   \n",
       "max_aki_stage            0.0052   1 (0.75-1.4)       0         0.97   \n",
       "aki_endstage             0.54     1.7 (1.3-2.2)      15        9e-05  \n",
       "aki_endstage_H7D         0.84     2.3 (1.8-3)        38        6e-10  \n",
       "max_aki_stage_crea       17       2.6e+07 (0-Inf)    0         1      \n",
       "max_aki_stage_uo         -0.01    0.99 (0.81-1.2)    0.01      0.92   \n",
       "baseline_Scr             0.48     1.6 (0.63-4.2)     0.99      0.32   \n",
       "Peak_Scr                 -0.044   0.96 (0.83-1.1)    0.39      0.53   \n",
       "Discharge_Scr            0.065    1.1 (0.92-1.2)     0.77      0.38   \n",
       "is_vaso                  0.77     2.2 (1.3-3.7)      8.2       0.0041 \n",
       "is_mv                    0.096    1.1 (0.63-1.9)     0.12      0.73   \n",
       "is_rrt                   -1.1     0.33 (0.08-1.4)    2.4       0.12   \n",
       "Acidosis                 0.59     1.8 (0.93-3.5)     3.1       0.079  \n",
       "Cardiogenic_shock        0.8      2.2 (0.54-9.1)     1.2       0.27   \n",
       "Congestive_heart_failure 0.14     1.2 (0.56-2.3)     0.15      0.7    \n",
       "Diabetes                 -0.071   0.93 (0.46-1.9)    0.04      0.84   \n",
       "Hepatic                  -0.038   0.96 (0.44-2.1)    0.01      0.93   \n",
       "Hypertension             -0.43    0.65 (0.29-1.4)    1.1       0.29   \n",
       "Hypovolemic_shock        0.02     1 (0.14-7.4)       0         0.98   \n",
       "Myocardial_infarct       0.33     1.4 (0.5-3.8)      0.4       0.53   \n",
       "Respiratory_failure      -0.11    0.9 (0.53-1.5)     0.17      0.68   \n",
       "Septic_shock             -0.53    0.59 (0.33-1)      3.3       0.069  \n",
       "cardiovascular           0.26     1.3 (0.61-2.7)     0.46      0.5    \n",
       "gastrointestinal         -0.49    0.61 (0.34-1.1)    2.7       0.1    \n",
       "neurologic               -0.12    0.89 (0.5-1.6)     0.16      0.68   \n",
       "oncology                 -0.33    0.72 (0.23-2.3)    0.3       0.58   \n",
       "pulmonary                0.33     1.4 (0.77-2.5)     1.2       0.28   \n",
       "renal                    -0.24    0.79 (0.45-1.4)    0.7       0.4    "
      ]
     },
     "metadata": {},
     "output_type": "display_data"
    }
   ],
   "source": [
    "covariates <- c('los_sepsis_saaki', 'age',\n",
    "       'height', 'weight', 'icu_stay_days', 'first_aki_stage', 'max_aki_stage',\n",
    "       'aki_endstage', 'aki_endstage_H7D', 'max_aki_stage_crea',\n",
    "       'max_aki_stage_uo', 'baseline_Scr', 'Peak_Scr', 'Discharge_Scr',\n",
    "       'is_vaso', 'is_mv', 'is_rrt', 'Acidosis', 'Cardiogenic_shock',\n",
    "       'Congestive_heart_failure', 'Diabetes', 'Hepatic', 'Hypertension',\n",
    "       'Hypovolemic_shock', 'Myocardial_infarct', 'Respiratory_failure',\n",
    "       'Septic_shock', 'cardiovascular', 'gastrointestinal', 'neurologic',\n",
    "       'oncology', 'pulmonary', 'renal')\n",
    "\n",
    "univ_formulas <- sapply(covariates,function(x) as.formula(paste('Surv(survival_28day, mortality_28d)~', x)))\n",
    "\n",
    "univ_models <- lapply( univ_formulas, function(x){coxph(x, data = df_select)})\n",
    "\n",
    "univ_results <- lapply(univ_models,\n",
    "                       function(x){ \n",
    "                          x <- summary(x)\n",
    "                          p.value<-signif(x$wald[\"pvalue\"], digits=2)\n",
    "                          wald.test<-signif(x$wald[\"test\"], digits=2)\n",
    "                          beta<-signif(x$coef[1], digits=2);#coeficient beta\n",
    "                          HR <-signif(x$coef[2], digits=2);#exp(beta)\n",
    "                          HR.confint.lower <- signif(x$conf.int[,\"lower .95\"],2)\n",
    "                          HR.confint.upper <- signif(x$conf.int[,\"upper .95\"],2)\n",
    "                          HR <- paste0(HR, \" (\", \n",
    "                                       HR.confint.lower, \"-\", HR.confint.upper, \")\")\n",
    "                          res<-c(beta, HR, wald.test, p.value)\n",
    "                          names(res)<-c(\"beta\", \"HR (95% CI for HR)\",\"wald.test\", \"p.value\")\n",
    "                          return(res)\n",
    "                          #return(exp(cbind(coef(x),confint(x))))\n",
    "                         })\n",
    "res <- t(as.data.frame(univ_results, check.names = FALSE))\n",
    "res <- as.data.frame(res)\n",
    "res"
   ]
  },
  {
   "cell_type": "markdown",
   "id": "04f3aece",
   "metadata": {},
   "source": [
    "## A p value of 0.05 was used to screen covariates"
   ]
  },
  {
   "cell_type": "code",
   "execution_count": null,
   "id": "63cb03a3",
   "metadata": {
    "ExecuteTime": {
     "end_time": "2023-11-29T02:54:50.250607Z",
     "start_time": "2023-11-29T02:46:06.249Z"
    },
    "vscode": {
     "languageId": "r"
    }
   },
   "outputs": [],
   "source": [
    "res$p.value <- as.numeric(res$p.value)\n",
    "print(paste0(\" Total number of variables: \",dim(res)[1]))\n",
    "Print (paste0 (p value after the screening of variables: \"\", dim (res [res $p.v alue < 0.05]) [1]))\n",
    "\n",
    "resstr <- paste(rownames(res[res$p.value < 0.05,]), collapse = \" + \")\n",
    "resstr <- paste(\"Surv(survival_28day, mortality_28d) ~ +\", resstr)\n",
    "resstr"
   ]
  },
  {
   "cell_type": "markdown",
   "id": "91cf98a7",
   "metadata": {},
   "source": [
    "# Multivariate analysis is the analysis of whether an independent variable is influenced by one or more factors or variables.\n",
    "- Multivariate analysis is the analysis of whether an independent variable is influenced by one or more factors or variables."
   ]
  },
  {
   "cell_type": "code",
   "execution_count": 6,
   "id": "a87ad36b",
   "metadata": {
    "ExecuteTime": {
     "end_time": "2023-11-29T02:54:50.276284Z",
     "start_time": "2023-11-29T02:46:06.250Z"
    },
    "vscode": {
     "languageId": "r"
    }
   },
   "outputs": [
    {
     "data": {
      "text/plain": [
       "Call:\n",
       "coxph(formula = as.formula(resstr), data = df_select)\n",
       "\n",
       "  n= 159, number of events= 57 \n",
       "   (4 observations deleted due to missingness)\n",
       "\n",
       "                      coef exp(coef)  se(coef)      z Pr(>|z|)   \n",
       "age               0.018983  1.019164  0.008234  2.306  0.02113 * \n",
       "icu_stay_days    -0.084970  0.918540  0.032318 -2.629  0.00856 **\n",
       "aki_endstage     -0.270304  0.763147  0.324842 -0.832  0.40535   \n",
       "aki_endstage_H7D  0.943610  2.569240  0.314623  2.999  0.00271 **\n",
       "is_vaso           0.920715  2.511086  0.289388  3.182  0.00146 **\n",
       "---\n",
       "Signif. codes:  0 ‘***’ 0.001 ‘**’ 0.01 ‘*’ 0.05 ‘.’ 0.1 ‘ ’ 1\n",
       "\n",
       "                 exp(coef) exp(-coef) lower .95 upper .95\n",
       "age                 1.0192     0.9812    1.0028    1.0357\n",
       "icu_stay_days       0.9185     1.0887    0.8622    0.9786\n",
       "aki_endstage        0.7631     1.3104    0.4037    1.4425\n",
       "aki_endstage_H7D    2.5692     0.3892    1.3867    4.7601\n",
       "is_vaso             2.5111     0.3982    1.4241    4.4278\n",
       "\n",
       "Concordance= 0.806  (se = 0.025 )\n",
       "Likelihood ratio test= 57.03  on 5 df,   p=5e-11\n",
       "Wald test            = 53.47  on 5 df,   p=3e-10\n",
       "Score (logrank) test = 60.92  on 5 df,   p=8e-12\n"
      ]
     },
     "metadata": {},
     "output_type": "display_data"
    }
   ],
   "source": [
    "res.cox <- coxph(as.formula(resstr), data = df_select)\n",
    "summary(res.cox)"
   ]
  },
  {
   "cell_type": "code",
   "execution_count": null,
   "id": "d98f3fd1",
   "metadata": {
    "ExecuteTime": {
     "end_time": "2023-11-29T02:54:50.317240Z",
     "start_time": "2023-11-29T02:46:06.252Z"
    },
    "vscode": {
     "languageId": "r"
    }
   },
   "outputs": [
    {
     "data": {
      "text/html": [
       "<table class=\"dataframe\">\n",
       "<caption>A data.frame: 5 × 6</caption>\n",
       "<thead>\n",
       "\t<tr><th></th><th scope=col>Variable</th><th scope=col>HR</th><th scope=col>CI5</th><th scope=col>CI95</th><th scope=col>HR (95% CI)</th><th scope=col>Pvalue</th></tr>\n",
       "\t<tr><th></th><th scope=col>&lt;chr&gt;</th><th scope=col>&lt;dbl&gt;</th><th scope=col>&lt;dbl&gt;</th><th scope=col>&lt;dbl&gt;</th><th scope=col>&lt;chr&gt;</th><th scope=col>&lt;dbl&gt;</th></tr>\n",
       "</thead>\n",
       "<tbody>\n",
       "\t<tr><th scope=row>age</th><td>age             </td><td>1.02</td><td>1.00</td><td>1.04</td><td>1.02 (1-1.04)   </td><td>0.02110</td></tr>\n",
       "\t<tr><th scope=row>icu_stay_days</th><td>icu_stay_days   </td><td>0.92</td><td>0.86</td><td>0.98</td><td>0.92 (0.86-0.98)</td><td>0.00856</td></tr>\n",
       "\t<tr><th scope=row>aki_endstage</th><td>aki_endstage    </td><td>0.76</td><td>0.40</td><td>1.44</td><td>0.76 (0.4-1.44) </td><td>0.40500</td></tr>\n",
       "\t<tr><th scope=row>aki_endstage_H7D</th><td>aki_endstage_H7D</td><td>2.57</td><td>1.39</td><td>4.76</td><td>2.57 (1.39-4.76)</td><td>0.00271</td></tr>\n",
       "\t<tr><th scope=row>is_vaso</th><td>is_vaso         </td><td>2.51</td><td>1.42</td><td>4.43</td><td>2.51 (1.42-4.43)</td><td>0.00146</td></tr>\n",
       "</tbody>\n",
       "</table>\n"
      ],
      "text/latex": [
       "A data.frame: 5 × 6\n",
       "\\begin{tabular}{r|llllll}\n",
       "  & Variable & HR & CI5 & CI95 & HR (95\\% CI) & Pvalue\\\\\n",
       "  & <chr> & <dbl> & <dbl> & <dbl> & <chr> & <dbl>\\\\\n",
       "\\hline\n",
       "\tage & age              & 1.02 & 1.00 & 1.04 & 1.02 (1-1.04)    & 0.02110\\\\\n",
       "\ticu\\_stay\\_days & icu\\_stay\\_days    & 0.92 & 0.86 & 0.98 & 0.92 (0.86-0.98) & 0.00856\\\\\n",
       "\taki\\_endstage & aki\\_endstage     & 0.76 & 0.40 & 1.44 & 0.76 (0.4-1.44)  & 0.40500\\\\\n",
       "\taki\\_endstage\\_H7D & aki\\_endstage\\_H7D & 2.57 & 1.39 & 4.76 & 2.57 (1.39-4.76) & 0.00271\\\\\n",
       "\tis\\_vaso & is\\_vaso          & 2.51 & 1.42 & 4.43 & 2.51 (1.42-4.43) & 0.00146\\\\\n",
       "\\end{tabular}\n"
      ],
      "text/markdown": [
       "\n",
       "A data.frame: 5 × 6\n",
       "\n",
       "| <!--/--> | Variable &lt;chr&gt; | HR &lt;dbl&gt; | CI5 &lt;dbl&gt; | CI95 &lt;dbl&gt; | HR (95% CI) &lt;chr&gt; | Pvalue &lt;dbl&gt; |\n",
       "|---|---|---|---|---|---|---|\n",
       "| age | age              | 1.02 | 1.00 | 1.04 | 1.02 (1-1.04)    | 0.02110 |\n",
       "| icu_stay_days | icu_stay_days    | 0.92 | 0.86 | 0.98 | 0.92 (0.86-0.98) | 0.00856 |\n",
       "| aki_endstage | aki_endstage     | 0.76 | 0.40 | 1.44 | 0.76 (0.4-1.44)  | 0.40500 |\n",
       "| aki_endstage_H7D | aki_endstage_H7D | 2.57 | 1.39 | 4.76 | 2.57 (1.39-4.76) | 0.00271 |\n",
       "| is_vaso | is_vaso          | 2.51 | 1.42 | 4.43 | 2.51 (1.42-4.43) | 0.00146 |\n",
       "\n"
      ],
      "text/plain": [
       "                 Variable         HR   CI5  CI95 HR (95% CI)      Pvalue \n",
       "age              age              1.02 1.00 1.04 1.02 (1-1.04)    0.02110\n",
       "icu_stay_days    icu_stay_days    0.92 0.86 0.98 0.92 (0.86-0.98) 0.00856\n",
       "aki_endstage     aki_endstage     0.76 0.40 1.44 0.76 (0.4-1.44)  0.40500\n",
       "aki_endstage_H7D aki_endstage_H7D 2.57 1.39 4.76 2.57 (1.39-4.76) 0.00271\n",
       "is_vaso          is_vaso          2.51 1.42 4.43 2.51 (1.42-4.43) 0.00146"
      ]
     },
     "metadata": {},
     "output_type": "display_data"
    }
   ],
   "source": [
    "mul_cox <- summary(res.cox)\n",
    "mul_HR<- round(mul_cox$coefficients[,2],2) \n",
    "mul_Pvalue<- mul_cox$coefficients[,5] #round(mul_cox$coefficients[,5],4) \n",
    "mul_CI5<-round(mul_cox$conf.int[,3],2)\n",
    "mul_CI95<-round(mul_cox$conf.int[,4],2)\n",
    "mul_CI<-paste0(mul_HR,' (',mul_CI5,'-',mul_CI95,')')\n",
    "Variable<-row.names(data.frame(mul_cox$coefficients))\n",
    "mulcox_res<- data.frame(Variable,mul_HR,mul_CI5,mul_CI95,mul_CI,mul_Pvalue)\n",
    "colnames(mulcox_res)=c(\"Variable\",\"HR\",\"CI5\",\"CI95\",\"HR (95% CI)\",\"Pvalue\")\n",
    "mulcox_res$Pvalue <- sapply(mulcox_res$Pvalue, function(x) sprintf(\"%.2e\", x))\n",
    "mulcox_res$Pvalue <- as.numeric(mulcox_res$Pvalue)\n",
    "View(mulcox_res)"
   ]
  },
  {
   "cell_type": "markdown",
   "id": "81bdcc11",
   "metadata": {},
   "source": [
    "## A p value of 0.05 was used to screen covariates"
   ]
  },
  {
   "cell_type": "code",
   "execution_count": null,
   "id": "6b289644",
   "metadata": {
    "ExecuteTime": {
     "end_time": "2023-11-29T02:54:50.339063Z",
     "start_time": "2023-11-29T02:46:06.253Z"
    },
    "vscode": {
     "languageId": "r"
    }
   },
   "outputs": [],
   "source": [
    "print(paste0(\" Total number of variables: \",dim(mulcox_res)[1]))\n",
    "print(paste0(\" the number of variables after p-value filtering: \",dim(mulcox_res[mulcox_res$Pvalue < 0.05,])[1]))\n",
    "mulcox_res_filt <- mulcox_res[mulcox_res$Pvalue < 5e-2,]\n",
    "\n",
    "paste(rownames(mulcox_res_filt), collapse = \" + \")"
   ]
  },
  {
   "cell_type": "code",
   "execution_count": 9,
   "id": "230d148d",
   "metadata": {
    "ExecuteTime": {
     "end_time": "2023-11-29T02:54:50.352770Z",
     "start_time": "2023-11-29T02:46:06.255Z"
    },
    "vscode": {
     "languageId": "r"
    }
   },
   "outputs": [
    {
     "data": {
      "text/html": [
       "<style>\n",
       ".list-inline {list-style: none; margin:0; padding: 0}\n",
       ".list-inline>li {display: inline-block}\n",
       ".list-inline>li:not(:last-child)::after {content: \"\\00b7\"; padding: 0 .5ex}\n",
       "</style>\n",
       "<ol class=list-inline><li>'age'</li><li>'icu_stay_days'</li><li>'aki_endstage_H7D'</li><li>'is_vaso'</li></ol>\n"
      ],
      "text/latex": [
       "\\begin{enumerate*}\n",
       "\\item 'age'\n",
       "\\item 'icu\\_stay\\_days'\n",
       "\\item 'aki\\_endstage\\_H7D'\n",
       "\\item 'is\\_vaso'\n",
       "\\end{enumerate*}\n"
      ],
      "text/markdown": [
       "1. 'age'\n",
       "2. 'icu_stay_days'\n",
       "3. 'aki_endstage_H7D'\n",
       "4. 'is_vaso'\n",
       "\n",
       "\n"
      ],
      "text/plain": [
       "[1] \"age\"              \"icu_stay_days\"    \"aki_endstage_H7D\" \"is_vaso\"         "
      ]
     },
     "metadata": {},
     "output_type": "display_data"
    }
   ],
   "source": [
    "rownames(mulcox_res_filt)"
   ]
  },
  {
   "cell_type": "markdown",
   "id": "6721a2ef",
   "metadata": {},
   "source": [
    "## Forest map"
   ]
  },
  {
   "cell_type": "code",
   "execution_count": null,
   "id": "312ef91c",
   "metadata": {
    "ExecuteTime": {
     "end_time": "2023-11-29T02:54:50.712075Z",
     "start_time": "2023-11-29T02:46:06.257Z"
    },
    "vscode": {
     "languageId": "r"
    }
   },
   "outputs": [
    {
     "name": "stderr",
     "output_type": "stream",
     "text": [
      "Loading required package: grid\n",
      "\n",
      "Loading required package: checkmate\n",
      "\n",
      "Loading required package: abind\n",
      "\n"
     ]
    },
    {
     "data": {
      "image/png": "[encoded data removed]",
      "text/plain": [
       "plot without title"
      ]
     },
     "metadata": {
      "image/png": {
       "height": 420,
       "width": 420
      }
     },
     "output_type": "display_data"
    }
   ],
   "source": [
    "library(forestplot)\n",
    "dat=rbind(c(\"Variable\", NA,NA,NA,\"HR (95% CI)\", \"Pvalue\"),mulcox_res_filt)\n",
    "forestplot(dat[,c(1,5,6)], \n",
    "           mean=dat[,2],   \n",
    "           lower=dat[,3], upper=dat[,4], \n",
    "           zero=1,            \n",
    "           boxsize=0.1,       \n",
    "           graph.pos=3,\n",
    "           xticks=c(0.5,1,1.5) ,\n",
    "           txt_gp=fpTxtGp (\n",
    "             label=gpar(cex=1.2) ,ticks=gpar(cex=1.2)\n",
    "            ),\n",
    "           hrzl_lines=list(\"1\" = gpar(lty=1,lwd=1.5)\n",
    "                           ,\"2\" = gpar(lty=1,lwd=1.5)\n",
    "#                            ,\"3\"= gpar(lty=1,lwd=1.5)\n",
    "                          ), \n",
    "           col=fpColors ( box = 'blue ' , \n",
    "                          lines = ' black ' ,\n",
    "                          zero = \"grey\" ),\n",
    "           lwd.zero=1,\n",
    "           lwd.ci=1.5, \n",
    "           lty.ci=7 ,\n",
    "           ci.vertices.height=0.1   \n",
    ")"
   ]
  }
 ],
 "metadata": {
  "kernelspec": {
   "display_name": "R [conda env:R]",
   "language": "R",
   "name": "conda-env-R-r"
  },
  "language_info": {
   "codemirror_mode": "r",
   "file_extension": ".r",
   "mimetype": "text/x-r-source",
   "name": "R",
   "pygments_lexer": "r",
   "version": "4.2.2"
  },
  "toc": {
   "base_numbering": 1,
   "nav_menu": {},
   "number_sections": true,
   "sideBar": true,
   "skip_h1_title": false,
   "title_cell": "Table of Contents",
   "title_sidebar": "Contents",
   "toc_cell": false,
   "toc_position": {},
   "toc_section_display": true,
   "toc_window_display": false
  },
  "varInspector": {
   "cols": {
    "lenName": 16,
    "lenType": 16,
    "lenVar": 40
   },
   "kernels_config": {
    "python": {
     "delete_cmd_postfix": "",
     "delete_cmd_prefix": "del ",
     "library": "var_list.py",
     "varRefreshCmd": "print(var_dic_list())"
    },
    "r": {
     "delete_cmd_postfix": ") ",
     "delete_cmd_prefix": "rm(",
     "library": "var_list.r",
     "varRefreshCmd": "cat(var_dic_list()) "
    }
   },
   "types_to_exclude": [
    "module",
    "function",
    "builtin_function_or_method",
    "instance",
    "_Feature"
   ],
   "window_display": false
  }
 },
 "nbformat": 4,
 "nbformat_minor": 5
}
