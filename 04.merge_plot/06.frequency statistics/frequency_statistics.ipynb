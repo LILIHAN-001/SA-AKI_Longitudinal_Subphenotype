{
 "cells": [
  {
   "cell_type": "markdown",
   "id": "1a99e5e2",
   "metadata": {},
   "source": [
    "# mimic"
   ]
  },
  {
   "cell_type": "code",
   "execution_count": 1,
   "id": "02f21f54",
   "metadata": {
    "ExecuteTime": {
     "end_time": "2024-01-30T15:48:49.636552Z",
     "start_time": "2024-01-30T15:48:48.728508Z"
    }
   },
   "outputs": [],
   "source": [
    "import pandas as pd\n",
    "import numpy as np\n",
    "import matplotlib.pyplot as plt\n",
    "pd.options.display.max_rows = 300\n",
    "import datetime as dt\n",
    "import math\n",
    "import seaborn as sns\n"
   ]
  },
  {
   "cell_type": "code",
   "execution_count": null,
   "id": "77841303",
   "metadata": {
    "ExecuteTime": {
     "end_time": "2024-01-30T15:48:50.066126Z",
     "start_time": "2024-01-30T15:48:49.637563Z"
    }
   },
   "outputs": [],
   "source": [
    "df_type = pd.read_csv(\"/public/hanl/jupyter_dir/kidney_sepsis_penotype_v3/01.MIMICIV_SAKI_trajCluster/df_mixAK_fea4_C3.csv\")\n",
    "df_type_filt = df_type.loc[:,[\"stay_id\",\"groupHPD\"]]\n",
    "df_type_filt = df_type_filt.drop_duplicates()\n",
    "all_lst = df_type_filt.stay_id.unique().tolist()\n",
    "print(\"Number of included patients:\",len(all_lst))\n",
    "\n",
    "df_type_filt[\"groupHPD\"].value_counts()"
   ]
  },
  {
   "cell_type": "code",
   "execution_count": 3,
   "id": "0fa12322",
   "metadata": {
    "ExecuteTime": {
     "end_time": "2024-01-30T15:48:50.120762Z",
     "start_time": "2024-01-30T15:48:50.067275Z"
    }
   },
   "outputs": [
    {
     "data": {
      "text/html": [
       "<div>\n",
       "<style scoped>\n",
       "    .dataframe tbody tr th:only-of-type {\n",
       "        vertical-align: middle;\n",
       "    }\n",
       "\n",
       "    .dataframe tbody tr th {\n",
       "        vertical-align: top;\n",
       "    }\n",
       "\n",
       "    .dataframe thead th {\n",
       "        text-align: right;\n",
       "    }\n",
       "</style>\n",
       "<table border=\"1\" class=\"dataframe\">\n",
       "  <thead>\n",
       "    <tr style=\"text-align: right;\">\n",
       "      <th></th>\n",
       "      <th>stay_id</th>\n",
       "      <th>saki_onset</th>\n",
       "      <th>intime</th>\n",
       "      <th>outtime</th>\n",
       "    </tr>\n",
       "  </thead>\n",
       "  <tbody>\n",
       "    <tr>\n",
       "      <th>6</th>\n",
       "      <td>30028237</td>\n",
       "      <td>2156-02-20 06:31:00</td>\n",
       "      <td>2156-02-20 04:18:00</td>\n",
       "      <td>2156-02-22 01:56:24</td>\n",
       "    </tr>\n",
       "  </tbody>\n",
       "</table>\n",
       "</div>"
      ],
      "text/plain": [
       "    stay_id          saki_onset              intime             outtime\n",
       "6  30028237 2156-02-20 06:31:00 2156-02-20 04:18:00 2156-02-22 01:56:24"
      ]
     },
     "execution_count": 3,
     "metadata": {},
     "output_type": "execute_result"
    }
   ],
   "source": [
    "df_saki = pd.read_csv(\"/public/hanl/jupyter_dir/kidney_sepsis_penotype_v3/00.data_mimic//disease_definition/AKI/sk_event_time.csv\")\n",
    "df_saki = df_saki[df_saki[\"stay_id\"].isin(all_lst)]\n",
    "df_saki = df_saki[[\"stay_id\", \"saki_onset\",\"intime\",\"outtime\"]]\n",
    "df_saki[\"intime\"] = pd.to_datetime(df_saki[\"intime\"])\n",
    "df_saki[\"outtime\"] = pd.to_datetime(df_saki[\"outtime\"])\n",
    "df_saki[\"saki_onset\"] = pd.to_datetime(df_saki[\"saki_onset\"])\n",
    "df_saki.head(1)"
   ]
  },
  {
   "cell_type": "code",
   "execution_count": null,
   "id": "0910523c",
   "metadata": {
    "ExecuteTime": {
     "end_time": "2024-01-30T15:49:44.600689Z",
     "start_time": "2024-01-30T15:48:50.121842Z"
    }
   },
   "outputs": [],
   "source": [
    "data_dir = \"/public/hanl/jupyter_dir/kidney_sepsis_penotype_v3/00.data_mimic/feature_data/\"\n",
    "infile = data_dir + \"sk_icu_feature.csv\"\n",
    "df_fea = pd.read_csv(infile)\n",
    "df_fea = df_fea[df_fea[\"stay_id\"].isin(all_lst)] \n",
    "df_fea[\"charttime\"] = pd.to_datetime(df_fea[\"charttime\"])\n",
    "df_fea = df_fea[['stay_id', 'charttime', 'urineoutput', 'creatinine']].drop_duplicates()\n",
    "df_fea_add = pd.merge(df_fea,df_saki,how=\"inner\",on=\"stay_id\")\n",
    "df_fea_add = df_fea_add[(df_fea_add[\"charttime\"] <= df_fea_add[\"outtime\"]) & (df_fea_add[\"charttime\"] >= df_fea_add[\"intime\"])]\n",
    "df_fea_add_mimic = df_fea_add\n",
    "df_fea_add_mimic.head(1)"
   ]
  },
  {
   "cell_type": "markdown",
   "id": "5ba8cd57",
   "metadata": {},
   "source": [
    "# AUMCdb"
   ]
  },
  {
   "cell_type": "code",
   "execution_count": null,
   "id": "853d93b0",
   "metadata": {
    "ExecuteTime": {
     "end_time": "2024-01-30T15:49:44.603729Z",
     "start_time": "2024-01-30T15:40:07.976Z"
    }
   },
   "outputs": [],
   "source": [
    "import pandas as pd\n",
    "import numpy as np\n",
    "import matplotlib.pyplot as plt\n",
    "pd.options.display.max_rows = 300\n",
    "import datetime as dt\n",
    "import math\n",
    "import seaborn as sns\n"
   ]
  },
  {
   "cell_type": "code",
   "execution_count": null,
   "id": "78a6c757",
   "metadata": {
    "ExecuteTime": {
     "end_time": "2024-01-30T15:49:44.604303Z",
     "start_time": "2024-01-30T15:40:07.978Z"
    }
   },
   "outputs": [],
   "source": [
    "df_type = pd.read_csv(\"/public/hanl/jupyter_dir/kidney_sepsis_penotype_v3/02.AUMCdb_SAKI_trajCluster/df_mixAK_fea3_C3_aumc.csv\")\n",
    "df_type_filt = df_type.loc[:,[\"stay_id\",\"groupHPD\"]]\n",
    "df_type_filt = df_type_filt.drop_duplicates()\n",
    "all_lst = df_type_filt.stay_id.unique().tolist()\n",
    "print(\"Number of included patients:\",len(all_lst))\n",
    "\n",
    "df_type_filt[\"groupHPD\"].value_counts()"
   ]
  },
  {
   "cell_type": "code",
   "execution_count": null,
   "id": "ac55021b",
   "metadata": {
    "ExecuteTime": {
     "end_time": "2024-01-30T15:49:44.604856Z",
     "start_time": "2024-01-30T15:40:07.979Z"
    }
   },
   "outputs": [],
   "source": [
    "df_saki = pd.read_csv(\"/public/hanl/jupyter_dir/kidney_sepsis_penotype_v3/00.data_aumc/disease_definition/AKI/aumcdb_sk_event_time.csv\")\n",
    "df_saki = df_saki[df_saki[\"stay_id\"].isin(all_lst)]\n",
    "df_saki = df_saki[[\"stay_id\", \"saki_onset\",\"intime\",\"outtime\"]]\n",
    "df_saki.head(1)"
   ]
  },
  {
   "cell_type": "code",
   "execution_count": null,
   "id": "2cd0ea5c",
   "metadata": {
    "ExecuteTime": {
     "end_time": "2024-01-30T15:49:44.605411Z",
     "start_time": "2024-01-30T15:40:07.980Z"
    }
   },
   "outputs": [],
   "source": [
    "df_fea = pd.read_csv(\"/public/hanl/jupyter_dir/kidney_sepsis_penotype_v3/00.data_aumc/feature_data/aumc_icu_feature.csv\")\n",
    "df_fea = df_fea[['stay_id', 'charttime', 'urineoutput', 'creatinine']].drop_duplicates()\n",
    "df_fea = df_fea[df_fea[\"charttime\"]>0]\n",
    "df_fea.head(1)"
   ]
  },
  {
   "cell_type": "code",
   "execution_count": null,
   "id": "afc2f31c",
   "metadata": {
    "ExecuteTime": {
     "end_time": "2024-01-30T15:49:44.605954Z",
     "start_time": "2024-01-30T15:40:07.982Z"
    }
   },
   "outputs": [],
   "source": [
    "df_fea_add = pd.merge(df_fea,df_saki,how=\"inner\",on=\"stay_id\")\n",
    "df_fea_add = df_fea_add[(df_fea_add[\"charttime\"] <= df_fea_add[\"outtime\"]) & (df_fea_add[\"charttime\"] >= df_fea_add[\"intime\"])]\n",
    "df_fea_add_aumc = df_fea_add\n",
    "df_fea_add_aumc.head(1)"
   ]
  },
  {
   "cell_type": "markdown",
   "id": "ca5bb24d",
   "metadata": {},
   "source": [
    "# eICU"
   ]
  },
  {
   "cell_type": "code",
   "execution_count": null,
   "id": "87029d97",
   "metadata": {
    "ExecuteTime": {
     "end_time": "2024-01-30T15:49:44.606434Z",
     "start_time": "2024-01-30T15:40:07.983Z"
    }
   },
   "outputs": [],
   "source": [
    "import pandas as pd\n",
    "import numpy as np\n",
    "import matplotlib.pyplot as plt\n",
    "pd.options.display.max_rows = 300\n",
    "import datetime as dt\n",
    "import math\n",
    "import seaborn as sns\n"
   ]
  },
  {
   "cell_type": "code",
   "execution_count": null,
   "id": "55c6d849",
   "metadata": {
    "ExecuteTime": {
     "end_time": "2024-01-30T15:49:44.607010Z",
     "start_time": "2024-01-30T15:40:07.985Z"
    }
   },
   "outputs": [],
   "source": [
    "df_type = pd.read_csv(\"/public/hanl/jupyter_dir/kidney_sepsis_penotype_v3/03.eICU_SAKI_trajCluster/df_mixAK_fea4_C3_eicu.csv\")\n",
    "df_type_filt = df_type.loc[:,[\"stay_id\",\"groupHPD\"]]\n",
    "df_type_filt = df_type_filt.drop_duplicates()\n",
    "all_lst = df_type_filt.stay_id.unique().tolist()\n",
    "print(\"Number of included patients:\",len(all_lst))\n",
    "\n",
    "df_type_filt[\"groupHPD\"].value_counts()"
   ]
  },
  {
   "cell_type": "code",
   "execution_count": null,
   "id": "e28474fc",
   "metadata": {
    "ExecuteTime": {
     "end_time": "2024-01-30T15:49:44.607505Z",
     "start_time": "2024-01-30T15:40:07.986Z"
    }
   },
   "outputs": [],
   "source": [
    "# Import the time file\n",
    "df_time =  pd.read_csv(\"/public/hanl/jupyter_dir/kidney_sepsis_penotype_v3/00.data_eicu/disease_definition/AKI/eicu_saki_event_time.csv\")\n",
    "df_time = df_time[[\"stay_id\", \"saki_onset\",\"intime\",\"outtime\"]]\n",
    "\n",
    "df_time = df_time[df_time[\"stay_id\"].isin(all_lst)]\n",
    "print(len(df_time.stay_id.unique()))\n",
    "df_time.head(2)"
   ]
  },
  {
   "cell_type": "code",
   "execution_count": null,
   "id": "6e6fc6a7",
   "metadata": {
    "ExecuteTime": {
     "end_time": "2024-01-30T15:49:44.608028Z",
     "start_time": "2024-01-30T15:40:07.987Z"
    }
   },
   "outputs": [],
   "source": [
    "# Import the clinical feature file\n",
    "data_dir = \"/public/hanl/jupyter_dir/kidney_sepsis_penotype_v3/00.data_eicu/feature_data/\"\n",
    "infile = data_dir + \"eicu_data_merge.csv\"\n",
    "df_fea = pd.read_csv(infile)\n",
    "df_fea = df_fea[df_fea[\"stay_id\"].isin(all_lst)]\n",
    "df_fea[\"charttime\"] = df_fea[\"charttime\"]/60\n",
    "df_fea = df_fea[['stay_id', 'charttime', 'urineoutput', 'creatinine']].drop_duplicates()\n",
    "df_fea = df_fea[df_fea[\"charttime\"]>0]\n",
    "df_fea.head(1)"
   ]
  },
  {
   "cell_type": "code",
   "execution_count": null,
   "id": "af27c2c1",
   "metadata": {
    "ExecuteTime": {
     "end_time": "2024-01-30T15:49:44.608559Z",
     "start_time": "2024-01-30T15:40:07.989Z"
    },
    "scrolled": true
   },
   "outputs": [],
   "source": [
    "df_fea_add  = pd.merge(df_fea,df_time, how=\"left\", on=\"stay_id\")\n",
    "df_fea_add = df_fea_add[(df_fea_add[\"charttime\"] <= df_fea_add[\"outtime\"]) & (df_fea_add[\"charttime\"] >= df_fea_add[\"intime\"])]\n",
    "df_fea_add_eicu = df_fea_add\n",
    "df_fea_add_eicu.head(1)"
   ]
  },
  {
   "cell_type": "markdown",
   "id": "b5759b14",
   "metadata": {},
   "source": [
    "# stat  + plot"
   ]
  },
  {
   "cell_type": "code",
   "execution_count": null,
   "id": "bf811fed",
   "metadata": {
    "ExecuteTime": {
     "end_time": "2024-01-30T15:49:44.609078Z",
     "start_time": "2024-01-30T15:40:07.990Z"
    }
   },
   "outputs": [],
   "source": [
    "# df_fea_add_mimic_b.groupby([\"stay_id\"]).agg({\"charttime\":\"count\"}).reset_index()"
   ]
  },
  {
   "cell_type": "code",
   "execution_count": null,
   "id": "5137839d",
   "metadata": {
    "ExecuteTime": {
     "end_time": "2024-01-30T15:49:44.609581Z",
     "start_time": "2024-01-30T15:40:07.991Z"
    }
   },
   "outputs": [],
   "source": [
    "fea =  \"creatinine\" # \"creatinine\"  \"urineoutput\""
   ]
  },
  {
   "cell_type": "code",
   "execution_count": null,
   "id": "59773ad3",
   "metadata": {
    "ExecuteTime": {
     "end_time": "2024-01-30T15:49:44.610145Z",
     "start_time": "2024-01-30T15:40:07.993Z"
    }
   },
   "outputs": [],
   "source": [
    "df_fea_add_mimic_b = df_fea_add_mimic[df_fea_add_mimic[\"charttime\"] <= df_fea_add_mimic[\"saki_onset\"]]\n",
    "df_fea_add_mimic_b = df_fea_add_mimic_b.dropna(how='all', subset=[fea])\n",
    "df_fea_add_mimic_b[\"charttime_last\"] = df_fea_add_mimic_b.groupby('stay_id')[\"charttime\"].shift(1)\n",
    "df_fea_add_mimic_b[\"charttime_last\"].fillna(df_fea_add_mimic_b[\"intime\"], inplace=True)\n",
    "df_fea_add_mimic_b[\"during_time\"] = (df_fea_add_mimic_b[\"charttime\"] - df_fea_add_mimic_b[\"charttime_last\"]).map(lambda x:x/np.timedelta64(1, 'h')).tolist()\n",
    "#df_stat_mimic_uo = df_fea_add_mimic_b.groupby([\"stay_id\"]).agg({\"during_time\":\"mean\"}).reset_index()\n",
    "df_fea_add_mimic_b=df_fea_add_mimic_b[df_fea_add_mimic_b[\"intime\"]!=df_fea_add_mimic_b[\"charttime_last\"]]\n",
    "df_stat_mimic_crea = df_fea_add_mimic_b #.groupby([\"stay_id\"]).agg({\"during_time\":\"mean\"}).reset_index()\n",
    "\n",
    "df_fea_add_aumc_b = df_fea_add_aumc[df_fea_add_aumc[\"charttime\"] <= df_fea_add_aumc[\"saki_onset\"]]\n",
    "df_fea_add_aumc_b = df_fea_add_aumc_b.dropna(how='all', subset=[fea])\n",
    "df_fea_add_aumc_b[\"charttime_last\"] = df_fea_add_aumc_b.groupby('stay_id')[\"charttime\"].shift(1)\n",
    "df_fea_add_aumc_b[\"charttime_last\"].fillna(df_fea_add_aumc_b[\"intime\"], inplace=True)\n",
    "df_fea_add_aumc_b[\"during_time\"] = df_fea_add_aumc_b[\"charttime\"] - df_fea_add_aumc_b[\"charttime_last\"]\n",
    "#df_stat_aumc_uo = df_fea_add_aumc_b.groupby([\"stay_id\"]).agg({\"during_time\":\"mean\"}).reset_index()\n",
    "df_fea_add_aumc_b=df_fea_add_aumc_b[df_fea_add_aumc_b[\"intime\"]!=df_fea_add_aumc_b[\"charttime_last\"]]\n",
    "df_stat_aumc_crea = df_fea_add_aumc_b #.groupby([\"stay_id\"]).agg({\"during_time\":\"mean\"}).reset_index()\n",
    "\n",
    "df_fea_add_eicu_b = df_fea_add_eicu[df_fea_add_eicu[\"charttime\"] <= df_fea_add_eicu[\"saki_onset\"]]\n",
    "df_fea_add_eicu_b = df_fea_add_eicu_b.dropna(how='all', subset=[fea])\n",
    "df_fea_add_eicu_b[\"charttime_last\"] = df_fea_add_eicu_b.groupby('stay_id')[\"charttime\"].shift(1)\n",
    "df_fea_add_eicu_b[\"charttime_last\"].fillna(df_fea_add_eicu_b[\"intime\"], inplace=True)\n",
    "df_fea_add_eicu_b[\"during_time\"] = df_fea_add_eicu_b[\"charttime\"] - df_fea_add_eicu_b[\"charttime_last\"]\n",
    "#df_stat_eicu_uo = df_fea_add_eicu_b.groupby([\"stay_id\"]).agg({\"during_time\":\"mean\"}).reset_index()\n",
    "df_fea_add_eicu_b=df_fea_add_eicu_b[df_fea_add_eicu_b[\"intime\"]!=df_fea_add_eicu_b[\"charttime_last\"]]\n",
    "df_stat_eicu_crea = df_fea_add_eicu_b #.groupby([\"stay_id\"]).agg({\"during_time\":\"mean\"}).reset_index()\n"
   ]
  },
  {
   "cell_type": "code",
   "execution_count": null,
   "id": "391409ed",
   "metadata": {
    "ExecuteTime": {
     "end_time": "2024-01-30T15:49:44.610645Z",
     "start_time": "2024-01-30T15:40:07.995Z"
    }
   },
   "outputs": [],
   "source": [
    "fea =   \"urineoutput\""
   ]
  },
  {
   "cell_type": "code",
   "execution_count": null,
   "id": "df4a8230",
   "metadata": {
    "ExecuteTime": {
     "end_time": "2024-01-30T15:49:44.611193Z",
     "start_time": "2024-01-30T15:40:07.997Z"
    }
   },
   "outputs": [],
   "source": [
    "df_fea_add_mimic_b = df_fea_add_mimic[df_fea_add_mimic[\"charttime\"] <= df_fea_add_mimic[\"saki_onset\"]]\n",
    "df_fea_add_mimic_b = df_fea_add_mimic_b.dropna(how='all', subset=[fea])\n",
    "df_fea_add_mimic_b[\"charttime_last\"] = df_fea_add_mimic_b.groupby('stay_id')[\"charttime\"].shift(1)\n",
    "df_fea_add_mimic_b[\"charttime_last\"].fillna(df_fea_add_mimic_b[\"intime\"], inplace=True)\n",
    "df_fea_add_mimic_b[\"during_time\"] = (df_fea_add_mimic_b[\"charttime\"] - df_fea_add_mimic_b[\"charttime_last\"]).map(lambda x:x/np.timedelta64(1, 'h')).tolist()\n",
    "\n",
    "df_fea_add_mimic_b=df_fea_add_mimic_b[df_fea_add_mimic_b[\"intime\"]!=df_fea_add_mimic_b[\"charttime_last\"]]\n",
    "df_stat_mimic_uo = df_fea_add_mimic_b #.groupby([\"stay_id\"]).agg({\"during_time\":\"mean\"}).reset_index()\n",
    "#df_stat_mimic_crea = df_fea_add_mimic_b.groupby([\"stay_id\"]).agg({\"during_time\":\"mean\"}).reset_index()\n",
    "\n",
    "df_fea_add_aumc_b = df_fea_add_aumc[df_fea_add_aumc[\"charttime\"] <= df_fea_add_aumc[\"saki_onset\"]]\n",
    "df_fea_add_aumc_b = df_fea_add_aumc_b.dropna(how='all', subset=[fea])\n",
    "df_fea_add_aumc_b[\"charttime_last\"] = df_fea_add_aumc_b.groupby('stay_id')[\"charttime\"].shift(1)\n",
    "df_fea_add_aumc_b[\"charttime_last\"].fillna(df_fea_add_aumc_b[\"intime\"], inplace=True)\n",
    "df_fea_add_aumc_b[\"during_time\"] = df_fea_add_aumc_b[\"charttime\"] - df_fea_add_aumc_b[\"charttime_last\"]\n",
    "df_fea_add_aumc_b=df_fea_add_aumc_b[df_fea_add_aumc_b[\"intime\"]!=df_fea_add_aumc_b[\"charttime_last\"]]\n",
    "df_stat_aumc_uo = df_fea_add_aumc_b#.groupby([\"stay_id\"]).agg({\"during_time\":\"mean\"}).reset_index()\n",
    "#df_stat_aumc_crea = df_fea_add_aumc_b.groupby([\"stay_id\"]).agg({\"during_time\":\"mean\"}).reset_index()\n",
    "\n",
    "\n",
    "df_fea_add_eicu_b = df_fea_add_eicu[df_fea_add_eicu[\"charttime\"] <= df_fea_add_eicu[\"saki_onset\"]]\n",
    "df_fea_add_eicu_b = df_fea_add_eicu_b.dropna(how='all', subset=[fea])\n",
    "df_fea_add_eicu_b[\"charttime_last\"] = df_fea_add_eicu_b.groupby('stay_id')[\"charttime\"].shift(1)\n",
    "df_fea_add_eicu_b[\"charttime_last\"].fillna(df_fea_add_eicu_b[\"intime\"], inplace=True)\n",
    "df_fea_add_eicu_b[\"during_time\"] = df_fea_add_eicu_b[\"charttime\"] - df_fea_add_eicu_b[\"charttime_last\"]\n",
    "df_fea_add_eicu_b=df_fea_add_eicu_b[df_fea_add_eicu_b[\"intime\"]!=df_fea_add_eicu_b[\"charttime_last\"]]\n",
    "df_stat_eicu_uo = df_fea_add_eicu_b#.groupby([\"stay_id\"]).agg({\"during_time\":\"mean\"}).reset_index()\n",
    "#df_stat_eicu_crea = df_fea_add_eicu_b.groupby([\"stay_id\"]).agg({\"during_time\":\"mean\"}).reset_index()\n"
   ]
  },
  {
   "cell_type": "code",
   "execution_count": null,
   "id": "861fb844",
   "metadata": {
    "ExecuteTime": {
     "end_time": "2024-01-30T15:49:44.611729Z",
     "start_time": "2024-01-30T15:40:07.999Z"
    }
   },
   "outputs": [],
   "source": [
    "df_stat_mimic_uo[\"label\"]= \"mimic\"\n",
    "df_stat_aumc_uo[\"label\"]= \"aumc\"\n",
    "df_stat_eicu_uo[\"label\"]= \"eicu\"\n",
    "df_uo = pd.concat([df_stat_mimic_uo,df_stat_aumc_uo,df_stat_eicu_uo],axis=0)\n",
    "df_uo.head()"
   ]
  },
  {
   "cell_type": "code",
   "execution_count": null,
   "id": "8fa60db9",
   "metadata": {
    "ExecuteTime": {
     "end_time": "2024-01-30T15:49:44.612255Z",
     "start_time": "2024-01-30T15:40:08.000Z"
    }
   },
   "outputs": [],
   "source": [
    "df_stat_mimic_crea[\"label\"]= \"mimic_c\"\n",
    "df_stat_aumc_crea[\"label\"]= \"aumc_c\"\n",
    "df_stat_eicu_crea[\"label\"]= \"eicu_c\"\n",
    "df_crea = pd.concat([df_stat_mimic_crea,df_stat_aumc_crea,df_stat_eicu_crea],axis=0)\n",
    "df_crea.head()"
   ]
  },
  {
   "cell_type": "code",
   "execution_count": null,
   "id": "a24a86a9",
   "metadata": {
    "ExecuteTime": {
     "end_time": "2024-01-30T15:49:44.612795Z",
     "start_time": "2024-01-30T15:40:08.001Z"
    },
    "run_control": {
     "marked": true
    },
    "scrolled": false
   },
   "outputs": [],
   "source": [
    "import seaborn as sns\n",
    "fig,ax=plt.subplots(1,1,figsize=(9,6))\n",
    "ax1=ax.twinx()\n",
    "# ax=plt.gca()\n",
    "# ax.spines['right'].set_visible(False)\n",
    "# ax.spines['left'].set_visible(False)\n",
    "# ax.spines['top'].set_visible(False)\n",
    "f1 = ax.boxplot([df_stat_mimic_uo[\"during_time\"], df_stat_aumc_uo[\"during_time\"], df_stat_eicu_uo[\"during_time\"]],\n",
    "           whis=(10,90),positions=[1,2,3],showfliers=False,showmeans=True,patch_artist=True,\n",
    "                meanprops = {'marker':'D', 'markersize':4,'markerfacecolor':'white','markeredgecolor':'black'}\n",
    "                ,medianprops={'color':'black'}) \n",
    "\n",
    "f2 = ax1.boxplot([df_stat_mimic_crea[\"during_time\"], df_stat_aumc_crea[\"during_time\"], df_stat_eicu_crea[\"during_time\"]],\n",
    "           whis=(10,90),positions=[5,6,7],showfliers=False,showmeans=True,patch_artist=True,meanprops = {'marker':'D', 'markersize':4,'markerfacecolor':'white','markeredgecolor':'black'},medianprops={'color':'black'}) \n",
    "\n",
    "color = [\"#f8746a\",\"#f8746a\",\"#f8746a\"] #\"#74a8ff\"\n",
    "for box,c in zip(f1['boxes'], color):\n",
    "    box.set( facecolor = c,edgecolor='black')\n",
    "color = [\"#74a8ff\",\"#74a8ff\",\"#74a8ff\"]\n",
    "for box,c in zip(f2['boxes'], color):\n",
    "    box.set( facecolor = c,edgecolor='black')\n",
    "\n",
    "#plt.title(\"Frequency of Indicator Measurements During ICU Admission to SA-AKI onset\")\n",
    "ax.set_ylabel(\"Average detection time of uo (hours)\",fontsize=12)\n",
    "ax1.set_ylabel(\"Average detection time of creatinine (hours)\",fontsize=12)\n",
    "\n",
    "from statannotations.Annotator import Annotator\n",
    "box_pairs = [(\"mimic\",\"aumc\"),(\"mimic\",\"eicu\"),(\"aumc\",\"eicu\")]\n",
    "annotator =  Annotator(ax, data=df_uo, x=\"label\",y=\"during_time\",\n",
    "                      pairs=box_pairs,vert=True)\n",
    "annotator.configure(test='Mann-Whitney', text_format='star',line_height=0.01,line_width=1, loc='outside') #t-test_ind， Mann-Whitney Wilcoxon\n",
    "annotator.apply_and_annotate()\n",
    "\n",
    "box_pairs = [(\"mimic_c\",\"aumc_c\"),(\"mimic_c\",\"eicu_c\"),(\"aumc_c\",\"eicu_c\")]\n",
    "annotator =  Annotator(ax1, data=df_crea, x=\"label\",y=\"during_time\",\n",
    "                      pairs=box_pairs,vert=True)\n",
    "annotator.configure(test='Mann-Whitney', text_format='star',line_height=0.01,line_width=1, loc='outside') #t-test_ind， Mann-Whitney Wilcoxon\n",
    "annotator.apply_and_annotate()\n",
    "\n",
    "ax1.text(5.5,24,\"Creatinine\",fontsize=14)\n",
    "ax.text(1.5,2.95,\"Urine Output\",fontsize=14)\n",
    "plt.xticks([1,2,3,5,6,7], [\"MIMIC-IV\",\"AUMC\",\"eICU\",\"MIMIC-IV\",\"AUMC\",\"eICU\"],fontsize=13)\n",
    "plt.show()"
   ]
  },
  {
   "cell_type": "code",
   "execution_count": null,
   "id": "add82187",
   "metadata": {
    "ExecuteTime": {
     "end_time": "2024-01-30T15:49:44.613345Z",
     "start_time": "2024-01-30T15:40:08.003Z"
    }
   },
   "outputs": [],
   "source": [
    "# Output the median, mean and quantiles of each data group\n",
    "data_groups = [\n",
    "    df_stat_mimic_uo[\"during_time\"], df_stat_aumc_uo[\"during_time\"], df_stat_eicu_uo[\"during_time\"]\n",
    "]\n",
    "\n",
    "df_out = pd.DataFrame(columns = [\"class\",\"Mean\",\"q10\",\"q25\",\"q50\",\"q75\",\"q90\"])\n",
    "database = [\"MIMIC\",\"AUMCdb\",\"eICU\"]\n",
    "for i, group_data in enumerate(data_groups):\n",
    "    mean = round(np.mean(group_data),1)\n",
    "    q10 = round(np.percentile(group_data, 10),2)\n",
    "    q25 = round(np.percentile(group_data, 25),2)\n",
    "    q50 = round(np.percentile(group_data, 50),2)\n",
    "    q75 = round(np.percentile(group_data, 75),2)\n",
    "    q90 = round(np.percentile(group_data, 90),2)\n",
    "    df_out.loc[len(df_out)] = [database[i],mean,q10,q25,q50,q75,q90]\n",
    "df_out"
   ]
  },
  {
   "cell_type": "code",
   "execution_count": null,
   "id": "d7f3e64b",
   "metadata": {
    "ExecuteTime": {
     "end_time": "2024-01-30T15:49:44.613897Z",
     "start_time": "2024-01-30T15:40:08.004Z"
    }
   },
   "outputs": [],
   "source": [
    "import scipy.stats as stats\n",
    "f_statistic, p_value = stats.f_oneway(data_groups[0],data_groups[1],data_groups[2])\n",
    "print(\"F-statistic:\", f_statistic)\n",
    "print(\"P-value:\", p_value)"
   ]
  },
  {
   "cell_type": "code",
   "execution_count": null,
   "id": "e63d0ca0",
   "metadata": {
    "ExecuteTime": {
     "end_time": "2024-01-30T15:49:44.614398Z",
     "start_time": "2024-01-30T15:40:08.006Z"
    }
   },
   "outputs": [],
   "source": [
    "# Output the median, mean and quantiles of each data group\n",
    "data_groups = [\n",
    "    df_stat_mimic_crea[\"during_time\"], df_stat_aumc_crea[\"during_time\"], df_stat_eicu_crea[\"during_time\"]\n",
    "]\n",
    "\n",
    "df_out = pd.DataFrame(columns = [\"class\",\"Mean\",\"q10\",\"q25\",\"q50\",\"q75\",\"q90\"])\n",
    "for i, group_data in enumerate(data_groups):\n",
    "    mean = round(np.mean(group_data),1)\n",
    "    q10 = round(np.percentile(group_data, 10),2)\n",
    "    q25 = round(np.percentile(group_data, 25),2)\n",
    "    q50 = round(np.percentile(group_data, 50),2)\n",
    "    q75 = round(np.percentile(group_data, 75),2)\n",
    "    q90 = round(np.percentile(group_data, 90),2)\n",
    "    df_out.loc[len(df_out)] = [database[i],mean,q10,q25,q50,q75,q90]\n",
    "df_out"
   ]
  },
  {
   "cell_type": "code",
   "execution_count": null,
   "id": "50162070",
   "metadata": {
    "ExecuteTime": {
     "end_time": "2024-01-30T15:49:44.615018Z",
     "start_time": "2024-01-30T15:40:08.007Z"
    }
   },
   "outputs": [],
   "source": [
    "import scipy.stats as stats\n",
    "f_statistic, p_value = stats.f_oneway(data_groups[0],data_groups[1],data_groups[2])\n",
    "print(\"F-statistic:\", f_statistic)\n",
    "print(\"P-value:\", p_value)"
   ]
  }
 ],
 "metadata": {
  "kernelspec": {
   "display_name": "Python [conda env:sp_shock] *",
   "language": "python",
   "name": "conda-env-sp_shock-py"
  },
  "language_info": {
   "codemirror_mode": {
    "name": "ipython",
    "version": 3
   },
   "file_extension": ".py",
   "mimetype": "text/x-python",
   "name": "python",
   "nbconvert_exporter": "python",
   "pygments_lexer": "ipython3",
   "version": "3.9.5"
  },
  "toc": {
   "base_numbering": 1,
   "nav_menu": {},
   "number_sections": true,
   "sideBar": true,
   "skip_h1_title": false,
   "title_cell": "Table of Contents",
   "title_sidebar": "Contents",
   "toc_cell": false,
   "toc_position": {},
   "toc_section_display": true,
   "toc_window_display": false
  },
  "varInspector": {
   "cols": {
    "lenName": 16,
    "lenType": 16,
    "lenVar": 40
   },
   "kernels_config": {
    "python": {
     "delete_cmd_postfix": "",
     "delete_cmd_prefix": "del ",
     "library": "var_list.py",
     "varRefreshCmd": "print(var_dic_list())"
    },
    "r": {
     "delete_cmd_postfix": ") ",
     "delete_cmd_prefix": "rm(",
     "library": "var_list.r",
     "varRefreshCmd": "cat(var_dic_list()) "
    }
   },
   "types_to_exclude": [
    "module",
    "function",
    "builtin_function_or_method",
    "instance",
    "_Feature"
   ],
   "window_display": false
  }
 },
 "nbformat": 4,
 "nbformat_minor": 5
}
