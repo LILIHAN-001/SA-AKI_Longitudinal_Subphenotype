{
 "cells": [
  {
   "cell_type": "code",
   "execution_count": 1,
   "id": "a04eff41",
   "metadata": {
    "ExecuteTime": {
     "end_time": "2023-12-14T11:58:19.295575Z",
     "start_time": "2023-12-14T11:58:19.047755Z"
    }
   },
   "outputs": [],
   "source": [
    "import pandas as pd\n",
    "pd.options.display.max_rows=300\n",
    "\n",
    "import numpy as np"
   ]
  },
  {
   "cell_type": "markdown",
   "id": "1d35e300",
   "metadata": {},
   "source": [
    "# MIMIC"
   ]
  },
  {
   "cell_type": "code",
   "execution_count": 2,
   "id": "4fb83dd1",
   "metadata": {
    "ExecuteTime": {
     "end_time": "2023-12-14T11:58:19.352284Z",
     "start_time": "2023-12-14T11:58:19.296960Z"
    }
   },
   "outputs": [],
   "source": [
    "df_time = pd.read_csv(\"/public/hanl/jupyter_dir/kidney_sepsis_penotype_v3/00.data_mimic//disease_definition/AKI/sk_event_time.csv\")\n",
    "df_time = df_time[[\"stay_id\", \"saki_onset\"]]\n",
    "df_time[\"saki_onset\"] = pd.to_datetime(df_time[\"saki_onset\"])\n"
   ]
  },
  {
   "cell_type": "code",
   "execution_count": 3,
   "id": "c5c21a97",
   "metadata": {
    "ExecuteTime": {
     "end_time": "2023-12-14T11:58:19.775145Z",
     "start_time": "2023-12-14T11:58:19.353701Z"
    }
   },
   "outputs": [
    {
     "name": "stdout",
     "output_type": "stream",
     "text": [
      "纳入患者数量： 4713\n"
     ]
    }
   ],
   "source": [
    "df_type = pd.read_csv(\"/public/hanl/jupyter_dir/kidney_sepsis_penotype_v3/01.MIMICIV_SAKI_trajCluster/df_mixAK_fea4_C3.csv\")\n",
    "df_type_filt = df_type.loc[:,[\"stay_id\",\"groupHPD\"]]\n",
    "df_type_filt = df_type_filt.drop_duplicates()\n",
    "all_lst = df_type_filt.stay_id.unique().tolist()\n",
    "print(\"纳入患者数量：\",len(all_lst))"
   ]
  },
  {
   "cell_type": "code",
   "execution_count": 4,
   "id": "fb0e8d1d",
   "metadata": {
    "ExecuteTime": {
     "end_time": "2023-12-14T11:58:36.550529Z",
     "start_time": "2023-12-14T11:58:19.776527Z"
    }
   },
   "outputs": [
    {
     "data": {
      "text/html": [
       "<div>\n",
       "<style scoped>\n",
       "    .dataframe tbody tr th:only-of-type {\n",
       "        vertical-align: middle;\n",
       "    }\n",
       "\n",
       "    .dataframe tbody tr th {\n",
       "        vertical-align: top;\n",
       "    }\n",
       "\n",
       "    .dataframe thead th {\n",
       "        text-align: right;\n",
       "    }\n",
       "</style>\n",
       "<table border=\"1\" class=\"dataframe\">\n",
       "  <thead>\n",
       "    <tr style=\"text-align: right;\">\n",
       "      <th></th>\n",
       "      <th>stay_id</th>\n",
       "      <th>groupHPD</th>\n",
       "      <th>starttime</th>\n",
       "      <th>endtime</th>\n",
       "      <th>respiration_sofa</th>\n",
       "      <th>coagulation_sofa</th>\n",
       "      <th>liver_sofa</th>\n",
       "      <th>cardiovascular_sofa</th>\n",
       "      <th>cns_sofa</th>\n",
       "      <th>renal_sofa</th>\n",
       "      <th>sofa</th>\n",
       "    </tr>\n",
       "  </thead>\n",
       "  <tbody>\n",
       "    <tr>\n",
       "      <th>0</th>\n",
       "      <td>30003598</td>\n",
       "      <td>1</td>\n",
       "      <td>2189-04-14 20:00:00</td>\n",
       "      <td>2189-04-14 21:00:00</td>\n",
       "      <td>2</td>\n",
       "      <td>0</td>\n",
       "      <td>0</td>\n",
       "      <td>1</td>\n",
       "      <td>0</td>\n",
       "      <td>0</td>\n",
       "      <td>3</td>\n",
       "    </tr>\n",
       "    <tr>\n",
       "      <th>1</th>\n",
       "      <td>30003598</td>\n",
       "      <td>1</td>\n",
       "      <td>2189-04-14 21:00:00</td>\n",
       "      <td>2189-04-14 22:00:00</td>\n",
       "      <td>2</td>\n",
       "      <td>0</td>\n",
       "      <td>0</td>\n",
       "      <td>1</td>\n",
       "      <td>0</td>\n",
       "      <td>1</td>\n",
       "      <td>4</td>\n",
       "    </tr>\n",
       "  </tbody>\n",
       "</table>\n",
       "</div>"
      ],
      "text/plain": [
       "    stay_id  groupHPD           starttime             endtime  \\\n",
       "0  30003598         1 2189-04-14 20:00:00 2189-04-14 21:00:00   \n",
       "1  30003598         1 2189-04-14 21:00:00 2189-04-14 22:00:00   \n",
       "\n",
       "   respiration_sofa  coagulation_sofa  liver_sofa  cardiovascular_sofa  \\\n",
       "0                 2                 0           0                    1   \n",
       "1                 2                 0           0                    1   \n",
       "\n",
       "   cns_sofa  renal_sofa  sofa  \n",
       "0         0           0     3  \n",
       "1         0           1     4  "
      ]
     },
     "execution_count": 4,
     "metadata": {},
     "output_type": "execute_result"
    }
   ],
   "source": [
    "df = pd.read_csv(\"./mimic_sofa.csv\")\n",
    "df = pd.merge(df,df_type_filt, how=\"inner\",on=\"stay_id\") #df[df[\"stay_id\"].isin(all_lst)]\n",
    "df = df[['stay_id','groupHPD', 'starttime', 'endtime','respiration_24hours', 'coagulation_24hours', 'liver_24hours',\n",
    "       'cardiovascular_24hours', 'cns_24hours', 'renal_24hours','sofa_24hours']]\n",
    "df = df.rename(columns={'respiration_24hours':\"respiration_sofa\", 'coagulation_24hours':\"coagulation_sofa\", 'liver_24hours': 'liver_sofa',\n",
    "       'cardiovascular_24hours':\"cardiovascular_sofa\", 'cns_24hours':'cns_sofa', 'renal_24hours':'renal_sofa','sofa_24hours':\"sofa\"})\n",
    "df[\"starttime\"] = pd.to_datetime(df[\"starttime\"], format='%d/%m/%Y %H:%M:%S')\n",
    "df[\"endtime\"] = pd.to_datetime(df[\"endtime\"], format='%d/%m/%Y %H:%M:%S')\n",
    "df.head(2)"
   ]
  },
  {
   "cell_type": "code",
   "execution_count": 5,
   "id": "91af9815",
   "metadata": {
    "ExecuteTime": {
     "end_time": "2023-12-14T11:58:44.381404Z",
     "start_time": "2023-12-14T11:58:36.552239Z"
    },
    "run_control": {
     "marked": true
    }
   },
   "outputs": [
    {
     "data": {
      "text/plain": [
       "4713"
      ]
     },
     "execution_count": 5,
     "metadata": {},
     "output_type": "execute_result"
    }
   ],
   "source": [
    "df_merge = pd.merge(df, df_time, how=\"inner\", on=\"stay_id\")\n",
    "df_merge[\"time\"] = (df_merge[\"starttime\"] - df_merge[\"saki_onset\"]).map(lambda x:x/np.timedelta64(6, 'h')).tolist()\n",
    "df_merge[\"time\"] = df_merge[\"time\"].map(lambda x:x//1) # -1指sepsis前6小时的数据，0指sepsis后第一个6小时的数据\n",
    "df_merge[\"time\"] = df_merge[\"time\"].map(lambda x: x+1 if x>=0 else x)\n",
    "df_merge = df_merge[(df_merge[\"time\"]>=-4) &(df_merge[\"time\"]<=28)]\n",
    "df_merge = df_merge.groupby([\"stay_id\",\"time\"]).agg('max').reset_index()\n",
    "df_merge = df_merge.drop([\"starttime\", \"endtime\", \"saki_onset\"],axis=1)\n",
    "len(df_merge.stay_id.unique())"
   ]
  },
  {
   "cell_type": "code",
   "execution_count": 6,
   "id": "6f0e52e6",
   "metadata": {
    "ExecuteTime": {
     "end_time": "2023-12-14T11:58:51.932863Z",
     "start_time": "2023-12-14T11:58:44.382525Z"
    }
   },
   "outputs": [
    {
     "data": {
      "text/html": [
       "<div>\n",
       "<style scoped>\n",
       "    .dataframe tbody tr th:only-of-type {\n",
       "        vertical-align: middle;\n",
       "    }\n",
       "\n",
       "    .dataframe tbody tr th {\n",
       "        vertical-align: top;\n",
       "    }\n",
       "\n",
       "    .dataframe thead th {\n",
       "        text-align: right;\n",
       "    }\n",
       "</style>\n",
       "<table border=\"1\" class=\"dataframe\">\n",
       "  <thead>\n",
       "    <tr style=\"text-align: right;\">\n",
       "      <th></th>\n",
       "      <th>stay_id</th>\n",
       "      <th>time</th>\n",
       "      <th>groupHPD</th>\n",
       "      <th>respiration_sofa</th>\n",
       "      <th>coagulation_sofa</th>\n",
       "      <th>liver_sofa</th>\n",
       "      <th>cardiovascular_sofa</th>\n",
       "      <th>cns_sofa</th>\n",
       "      <th>renal_sofa</th>\n",
       "      <th>sofa</th>\n",
       "    </tr>\n",
       "  </thead>\n",
       "  <tbody>\n",
       "    <tr>\n",
       "      <th>0</th>\n",
       "      <td>30003598</td>\n",
       "      <td>-2</td>\n",
       "      <td>1.0</td>\n",
       "      <td>2.0</td>\n",
       "      <td>0.0</td>\n",
       "      <td>0.0</td>\n",
       "      <td>1.0</td>\n",
       "      <td>0.0</td>\n",
       "      <td>1.0</td>\n",
       "      <td>4.0</td>\n",
       "    </tr>\n",
       "    <tr>\n",
       "      <th>1</th>\n",
       "      <td>30003598</td>\n",
       "      <td>-1</td>\n",
       "      <td>1.0</td>\n",
       "      <td>2.0</td>\n",
       "      <td>0.0</td>\n",
       "      <td>0.0</td>\n",
       "      <td>1.0</td>\n",
       "      <td>0.0</td>\n",
       "      <td>1.0</td>\n",
       "      <td>4.0</td>\n",
       "    </tr>\n",
       "  </tbody>\n",
       "</table>\n",
       "</div>"
      ],
      "text/plain": [
       "    stay_id  time  groupHPD  respiration_sofa  coagulation_sofa  liver_sofa  \\\n",
       "0  30003598    -2       1.0               2.0               0.0         0.0   \n",
       "1  30003598    -1       1.0               2.0               0.0         0.0   \n",
       "\n",
       "   cardiovascular_sofa  cns_sofa  renal_sofa  sofa  \n",
       "0                  1.0       0.0         1.0   4.0  \n",
       "1                  1.0       0.0         1.0   4.0  "
      ]
     },
     "execution_count": 6,
     "metadata": {},
     "output_type": "execute_result"
    }
   ],
   "source": [
    "df = df_merge\n",
    "com_lst = []\n",
    "for i in df.stay_id.unique().tolist():\n",
    "    min_t = -2  # int(min(df_fea[df_fea.stay_id==i].time))\n",
    "    max_t = int(max(df[df.stay_id==i].time))\n",
    "    for j in range(min_t,max_t+1,1):\n",
    "        com_lst.append([i,j])\n",
    "df_complete = pd.DataFrame(com_lst,columns=[\"stay_id\", \"time\"])  \n",
    "\n",
    "df_fea = pd.merge(df_complete, df_merge, how=\"left\", on=[\"stay_id\",\"time\"])\n",
    "df_fea = df_fea[df_fea[\"time\"]!=0]\n",
    "df_fea = df_fea.sort_values([\"stay_id\",\"time\"])\n",
    "\n",
    "tmp_df = pd.DataFrame()\n",
    "for i,j in df_fea.groupby([\"stay_id\"]):\n",
    "    j = j.fillna(method=\"ffill\")\n",
    "    j = j.fillna(method=\"bfill\")\n",
    "    tmp_df = pd.concat([tmp_df, j], axis=0)\n",
    "df_im = tmp_df\n",
    "df_im[\"sofa\"] = df_im[\"respiration_sofa\"] + df_im[\"coagulation_sofa\"] + df_im[\"liver_sofa\"] + df_im[\"cardiovascular_sofa\"] + df_im[\"cns_sofa\"] + df_im[\"renal_sofa\"] \n",
    "df_im.to_csv(\"mimic_sofa_clean.csv\",index=False)\n",
    "df_im.head(2)"
   ]
  },
  {
   "cell_type": "markdown",
   "id": "ca3ee00d",
   "metadata": {},
   "source": [
    "# AUMCdb"
   ]
  },
  {
   "cell_type": "code",
   "execution_count": 7,
   "id": "b3ecb055",
   "metadata": {
    "ExecuteTime": {
     "end_time": "2023-12-14T11:58:52.012079Z",
     "start_time": "2023-12-14T11:58:51.934157Z"
    }
   },
   "outputs": [
    {
     "data": {
      "text/html": [
       "<div>\n",
       "<style scoped>\n",
       "    .dataframe tbody tr th:only-of-type {\n",
       "        vertical-align: middle;\n",
       "    }\n",
       "\n",
       "    .dataframe tbody tr th {\n",
       "        vertical-align: top;\n",
       "    }\n",
       "\n",
       "    .dataframe thead th {\n",
       "        text-align: right;\n",
       "    }\n",
       "</style>\n",
       "<table border=\"1\" class=\"dataframe\">\n",
       "  <thead>\n",
       "    <tr style=\"text-align: right;\">\n",
       "      <th></th>\n",
       "      <th>stay_id</th>\n",
       "      <th>saki_onset</th>\n",
       "    </tr>\n",
       "  </thead>\n",
       "  <tbody>\n",
       "    <tr>\n",
       "      <th>0</th>\n",
       "      <td>0</td>\n",
       "      <td>NaN</td>\n",
       "    </tr>\n",
       "  </tbody>\n",
       "</table>\n",
       "</div>"
      ],
      "text/plain": [
       "   stay_id  saki_onset\n",
       "0        0         NaN"
      ]
     },
     "execution_count": 7,
     "metadata": {},
     "output_type": "execute_result"
    }
   ],
   "source": [
    "df_time = pd.read_csv(\"/public/hanl/jupyter_dir/kidney_sepsis_penotype_v3//00.data_aumc/disease_definition/AKI/aumcdb_sk_event_time.csv\")\n",
    "df_time = df_time[['stay_id','saki_onset']]\n",
    "df_time.head(1)"
   ]
  },
  {
   "cell_type": "code",
   "execution_count": 8,
   "id": "dc8a9764",
   "metadata": {
    "ExecuteTime": {
     "end_time": "2023-12-14T11:58:52.151965Z",
     "start_time": "2023-12-14T11:58:52.013864Z"
    }
   },
   "outputs": [
    {
     "name": "stdout",
     "output_type": "stream",
     "text": [
      "纳入患者数量： 2183\n"
     ]
    }
   ],
   "source": [
    "df_type = pd.read_csv(\"/public/hanl/jupyter_dir/kidney_sepsis_penotype_v3//02.AUMCdb_SAKI_trajCluster/df_mixAK_fea3_C3_aumc.csv\")\n",
    "df_type_filt = df_type.loc[:,[\"stay_id\",\"groupHPD\"]]\n",
    "df_type_filt = df_type_filt.drop_duplicates()\n",
    "all_lst = df_type_filt.stay_id.unique().tolist()\n",
    "print(\"纳入患者数量：\",len(all_lst))"
   ]
  },
  {
   "cell_type": "code",
   "execution_count": 9,
   "id": "c54f7c19",
   "metadata": {
    "ExecuteTime": {
     "end_time": "2023-12-14T11:58:53.092490Z",
     "start_time": "2023-12-14T11:58:52.153404Z"
    }
   },
   "outputs": [
    {
     "data": {
      "text/html": [
       "<div>\n",
       "<style scoped>\n",
       "    .dataframe tbody tr th:only-of-type {\n",
       "        vertical-align: middle;\n",
       "    }\n",
       "\n",
       "    .dataframe tbody tr th {\n",
       "        vertical-align: top;\n",
       "    }\n",
       "\n",
       "    .dataframe thead th {\n",
       "        text-align: right;\n",
       "    }\n",
       "</style>\n",
       "<table border=\"1\" class=\"dataframe\">\n",
       "  <thead>\n",
       "    <tr style=\"text-align: right;\">\n",
       "      <th></th>\n",
       "      <th>admissionid</th>\n",
       "      <th>time</th>\n",
       "      <th>sofa_respiration_score</th>\n",
       "      <th>sofa_coagulation_score</th>\n",
       "      <th>sofa_liver_score</th>\n",
       "      <th>sofa_cardiovascular_score</th>\n",
       "      <th>sofa_cns_score</th>\n",
       "      <th>sofa_renal_score</th>\n",
       "      <th>sofa_total_score</th>\n",
       "    </tr>\n",
       "  </thead>\n",
       "  <tbody>\n",
       "    <tr>\n",
       "      <th>165</th>\n",
       "      <td>5</td>\n",
       "      <td>0.0</td>\n",
       "      <td>NaN</td>\n",
       "      <td>0.0</td>\n",
       "      <td>0.0</td>\n",
       "      <td>4.0</td>\n",
       "      <td>0.0</td>\n",
       "      <td>0.0</td>\n",
       "      <td>4.0</td>\n",
       "    </tr>\n",
       "    <tr>\n",
       "      <th>166</th>\n",
       "      <td>5</td>\n",
       "      <td>1.0</td>\n",
       "      <td>0.0</td>\n",
       "      <td>NaN</td>\n",
       "      <td>NaN</td>\n",
       "      <td>3.0</td>\n",
       "      <td>NaN</td>\n",
       "      <td>0.0</td>\n",
       "      <td>3.0</td>\n",
       "    </tr>\n",
       "    <tr>\n",
       "      <th>167</th>\n",
       "      <td>5</td>\n",
       "      <td>2.0</td>\n",
       "      <td>1.0</td>\n",
       "      <td>NaN</td>\n",
       "      <td>NaN</td>\n",
       "      <td>1.0</td>\n",
       "      <td>NaN</td>\n",
       "      <td>0.0</td>\n",
       "      <td>2.0</td>\n",
       "    </tr>\n",
       "    <tr>\n",
       "      <th>168</th>\n",
       "      <td>5</td>\n",
       "      <td>3.0</td>\n",
       "      <td>NaN</td>\n",
       "      <td>NaN</td>\n",
       "      <td>NaN</td>\n",
       "      <td>1.0</td>\n",
       "      <td>NaN</td>\n",
       "      <td>0.0</td>\n",
       "      <td>1.0</td>\n",
       "    </tr>\n",
       "    <tr>\n",
       "      <th>169</th>\n",
       "      <td>5</td>\n",
       "      <td>4.0</td>\n",
       "      <td>NaN</td>\n",
       "      <td>NaN</td>\n",
       "      <td>NaN</td>\n",
       "      <td>1.0</td>\n",
       "      <td>NaN</td>\n",
       "      <td>0.0</td>\n",
       "      <td>1.0</td>\n",
       "    </tr>\n",
       "    <tr>\n",
       "      <th>170</th>\n",
       "      <td>5</td>\n",
       "      <td>5.0</td>\n",
       "      <td>NaN</td>\n",
       "      <td>NaN</td>\n",
       "      <td>NaN</td>\n",
       "      <td>1.0</td>\n",
       "      <td>NaN</td>\n",
       "      <td>0.0</td>\n",
       "      <td>1.0</td>\n",
       "    </tr>\n",
       "    <tr>\n",
       "      <th>171</th>\n",
       "      <td>5</td>\n",
       "      <td>6.0</td>\n",
       "      <td>NaN</td>\n",
       "      <td>NaN</td>\n",
       "      <td>NaN</td>\n",
       "      <td>1.0</td>\n",
       "      <td>NaN</td>\n",
       "      <td>0.0</td>\n",
       "      <td>1.0</td>\n",
       "    </tr>\n",
       "    <tr>\n",
       "      <th>172</th>\n",
       "      <td>5</td>\n",
       "      <td>7.0</td>\n",
       "      <td>1.0</td>\n",
       "      <td>NaN</td>\n",
       "      <td>NaN</td>\n",
       "      <td>1.0</td>\n",
       "      <td>NaN</td>\n",
       "      <td>0.0</td>\n",
       "      <td>2.0</td>\n",
       "    </tr>\n",
       "    <tr>\n",
       "      <th>173</th>\n",
       "      <td>5</td>\n",
       "      <td>8.0</td>\n",
       "      <td>NaN</td>\n",
       "      <td>NaN</td>\n",
       "      <td>NaN</td>\n",
       "      <td>1.0</td>\n",
       "      <td>NaN</td>\n",
       "      <td>0.0</td>\n",
       "      <td>1.0</td>\n",
       "    </tr>\n",
       "    <tr>\n",
       "      <th>174</th>\n",
       "      <td>5</td>\n",
       "      <td>9.0</td>\n",
       "      <td>NaN</td>\n",
       "      <td>NaN</td>\n",
       "      <td>NaN</td>\n",
       "      <td>1.0</td>\n",
       "      <td>0.0</td>\n",
       "      <td>0.0</td>\n",
       "      <td>1.0</td>\n",
       "    </tr>\n",
       "    <tr>\n",
       "      <th>175</th>\n",
       "      <td>5</td>\n",
       "      <td>10.0</td>\n",
       "      <td>NaN</td>\n",
       "      <td>NaN</td>\n",
       "      <td>NaN</td>\n",
       "      <td>1.0</td>\n",
       "      <td>NaN</td>\n",
       "      <td>0.0</td>\n",
       "      <td>1.0</td>\n",
       "    </tr>\n",
       "    <tr>\n",
       "      <th>176</th>\n",
       "      <td>5</td>\n",
       "      <td>11.0</td>\n",
       "      <td>NaN</td>\n",
       "      <td>NaN</td>\n",
       "      <td>NaN</td>\n",
       "      <td>1.0</td>\n",
       "      <td>NaN</td>\n",
       "      <td>0.0</td>\n",
       "      <td>1.0</td>\n",
       "    </tr>\n",
       "    <tr>\n",
       "      <th>177</th>\n",
       "      <td>5</td>\n",
       "      <td>12.0</td>\n",
       "      <td>1.0</td>\n",
       "      <td>NaN</td>\n",
       "      <td>NaN</td>\n",
       "      <td>1.0</td>\n",
       "      <td>NaN</td>\n",
       "      <td>3.0</td>\n",
       "      <td>5.0</td>\n",
       "    </tr>\n",
       "    <tr>\n",
       "      <th>178</th>\n",
       "      <td>5</td>\n",
       "      <td>13.0</td>\n",
       "      <td>NaN</td>\n",
       "      <td>NaN</td>\n",
       "      <td>NaN</td>\n",
       "      <td>1.0</td>\n",
       "      <td>NaN</td>\n",
       "      <td>3.0</td>\n",
       "      <td>4.0</td>\n",
       "    </tr>\n",
       "    <tr>\n",
       "      <th>179</th>\n",
       "      <td>5</td>\n",
       "      <td>14.0</td>\n",
       "      <td>NaN</td>\n",
       "      <td>0.0</td>\n",
       "      <td>NaN</td>\n",
       "      <td>1.0</td>\n",
       "      <td>NaN</td>\n",
       "      <td>3.0</td>\n",
       "      <td>4.0</td>\n",
       "    </tr>\n",
       "    <tr>\n",
       "      <th>180</th>\n",
       "      <td>5</td>\n",
       "      <td>15.0</td>\n",
       "      <td>NaN</td>\n",
       "      <td>NaN</td>\n",
       "      <td>NaN</td>\n",
       "      <td>0.0</td>\n",
       "      <td>NaN</td>\n",
       "      <td>3.0</td>\n",
       "      <td>3.0</td>\n",
       "    </tr>\n",
       "    <tr>\n",
       "      <th>189</th>\n",
       "      <td>5</td>\n",
       "      <td>24.0</td>\n",
       "      <td>2.0</td>\n",
       "      <td>NaN</td>\n",
       "      <td>NaN</td>\n",
       "      <td>0.0</td>\n",
       "      <td>0.0</td>\n",
       "      <td>0.0</td>\n",
       "      <td>2.0</td>\n",
       "    </tr>\n",
       "    <tr>\n",
       "      <th>195</th>\n",
       "      <td>5</td>\n",
       "      <td>30.0</td>\n",
       "      <td>1.0</td>\n",
       "      <td>NaN</td>\n",
       "      <td>NaN</td>\n",
       "      <td>1.0</td>\n",
       "      <td>0.0</td>\n",
       "      <td>0.0</td>\n",
       "      <td>2.0</td>\n",
       "    </tr>\n",
       "    <tr>\n",
       "      <th>196</th>\n",
       "      <td>5</td>\n",
       "      <td>31.0</td>\n",
       "      <td>NaN</td>\n",
       "      <td>NaN</td>\n",
       "      <td>NaN</td>\n",
       "      <td>1.0</td>\n",
       "      <td>NaN</td>\n",
       "      <td>0.0</td>\n",
       "      <td>1.0</td>\n",
       "    </tr>\n",
       "    <tr>\n",
       "      <th>197</th>\n",
       "      <td>5</td>\n",
       "      <td>32.0</td>\n",
       "      <td>NaN</td>\n",
       "      <td>NaN</td>\n",
       "      <td>NaN</td>\n",
       "      <td>1.0</td>\n",
       "      <td>NaN</td>\n",
       "      <td>0.0</td>\n",
       "      <td>1.0</td>\n",
       "    </tr>\n",
       "    <tr>\n",
       "      <th>198</th>\n",
       "      <td>5</td>\n",
       "      <td>33.0</td>\n",
       "      <td>NaN</td>\n",
       "      <td>NaN</td>\n",
       "      <td>NaN</td>\n",
       "      <td>1.0</td>\n",
       "      <td>NaN</td>\n",
       "      <td>0.0</td>\n",
       "      <td>1.0</td>\n",
       "    </tr>\n",
       "    <tr>\n",
       "      <th>199</th>\n",
       "      <td>5</td>\n",
       "      <td>34.0</td>\n",
       "      <td>NaN</td>\n",
       "      <td>NaN</td>\n",
       "      <td>NaN</td>\n",
       "      <td>1.0</td>\n",
       "      <td>NaN</td>\n",
       "      <td>0.0</td>\n",
       "      <td>1.0</td>\n",
       "    </tr>\n",
       "    <tr>\n",
       "      <th>200</th>\n",
       "      <td>5</td>\n",
       "      <td>35.0</td>\n",
       "      <td>NaN</td>\n",
       "      <td>NaN</td>\n",
       "      <td>NaN</td>\n",
       "      <td>1.0</td>\n",
       "      <td>NaN</td>\n",
       "      <td>0.0</td>\n",
       "      <td>1.0</td>\n",
       "    </tr>\n",
       "    <tr>\n",
       "      <th>203</th>\n",
       "      <td>5</td>\n",
       "      <td>38.0</td>\n",
       "      <td>1.0</td>\n",
       "      <td>0.0</td>\n",
       "      <td>0.0</td>\n",
       "      <td>0.0</td>\n",
       "      <td>NaN</td>\n",
       "      <td>0.0</td>\n",
       "      <td>1.0</td>\n",
       "    </tr>\n",
       "    <tr>\n",
       "      <th>205</th>\n",
       "      <td>5</td>\n",
       "      <td>40.0</td>\n",
       "      <td>NaN</td>\n",
       "      <td>NaN</td>\n",
       "      <td>NaN</td>\n",
       "      <td>1.0</td>\n",
       "      <td>NaN</td>\n",
       "      <td>0.0</td>\n",
       "      <td>1.0</td>\n",
       "    </tr>\n",
       "    <tr>\n",
       "      <th>206</th>\n",
       "      <td>5</td>\n",
       "      <td>41.0</td>\n",
       "      <td>NaN</td>\n",
       "      <td>NaN</td>\n",
       "      <td>NaN</td>\n",
       "      <td>1.0</td>\n",
       "      <td>NaN</td>\n",
       "      <td>0.0</td>\n",
       "      <td>1.0</td>\n",
       "    </tr>\n",
       "  </tbody>\n",
       "</table>\n",
       "</div>"
      ],
      "text/plain": [
       "     admissionid  time  sofa_respiration_score  sofa_coagulation_score  \\\n",
       "165            5   0.0                     NaN                     0.0   \n",
       "166            5   1.0                     0.0                     NaN   \n",
       "167            5   2.0                     1.0                     NaN   \n",
       "168            5   3.0                     NaN                     NaN   \n",
       "169            5   4.0                     NaN                     NaN   \n",
       "170            5   5.0                     NaN                     NaN   \n",
       "171            5   6.0                     NaN                     NaN   \n",
       "172            5   7.0                     1.0                     NaN   \n",
       "173            5   8.0                     NaN                     NaN   \n",
       "174            5   9.0                     NaN                     NaN   \n",
       "175            5  10.0                     NaN                     NaN   \n",
       "176            5  11.0                     NaN                     NaN   \n",
       "177            5  12.0                     1.0                     NaN   \n",
       "178            5  13.0                     NaN                     NaN   \n",
       "179            5  14.0                     NaN                     0.0   \n",
       "180            5  15.0                     NaN                     NaN   \n",
       "189            5  24.0                     2.0                     NaN   \n",
       "195            5  30.0                     1.0                     NaN   \n",
       "196            5  31.0                     NaN                     NaN   \n",
       "197            5  32.0                     NaN                     NaN   \n",
       "198            5  33.0                     NaN                     NaN   \n",
       "199            5  34.0                     NaN                     NaN   \n",
       "200            5  35.0                     NaN                     NaN   \n",
       "203            5  38.0                     1.0                     0.0   \n",
       "205            5  40.0                     NaN                     NaN   \n",
       "206            5  41.0                     NaN                     NaN   \n",
       "\n",
       "     sofa_liver_score  sofa_cardiovascular_score  sofa_cns_score  \\\n",
       "165               0.0                        4.0             0.0   \n",
       "166               NaN                        3.0             NaN   \n",
       "167               NaN                        1.0             NaN   \n",
       "168               NaN                        1.0             NaN   \n",
       "169               NaN                        1.0             NaN   \n",
       "170               NaN                        1.0             NaN   \n",
       "171               NaN                        1.0             NaN   \n",
       "172               NaN                        1.0             NaN   \n",
       "173               NaN                        1.0             NaN   \n",
       "174               NaN                        1.0             0.0   \n",
       "175               NaN                        1.0             NaN   \n",
       "176               NaN                        1.0             NaN   \n",
       "177               NaN                        1.0             NaN   \n",
       "178               NaN                        1.0             NaN   \n",
       "179               NaN                        1.0             NaN   \n",
       "180               NaN                        0.0             NaN   \n",
       "189               NaN                        0.0             0.0   \n",
       "195               NaN                        1.0             0.0   \n",
       "196               NaN                        1.0             NaN   \n",
       "197               NaN                        1.0             NaN   \n",
       "198               NaN                        1.0             NaN   \n",
       "199               NaN                        1.0             NaN   \n",
       "200               NaN                        1.0             NaN   \n",
       "203               0.0                        0.0             NaN   \n",
       "205               NaN                        1.0             NaN   \n",
       "206               NaN                        1.0             NaN   \n",
       "\n",
       "     sofa_renal_score  sofa_total_score  \n",
       "165               0.0               4.0  \n",
       "166               0.0               3.0  \n",
       "167               0.0               2.0  \n",
       "168               0.0               1.0  \n",
       "169               0.0               1.0  \n",
       "170               0.0               1.0  \n",
       "171               0.0               1.0  \n",
       "172               0.0               2.0  \n",
       "173               0.0               1.0  \n",
       "174               0.0               1.0  \n",
       "175               0.0               1.0  \n",
       "176               0.0               1.0  \n",
       "177               3.0               5.0  \n",
       "178               3.0               4.0  \n",
       "179               3.0               4.0  \n",
       "180               3.0               3.0  \n",
       "189               0.0               2.0  \n",
       "195               0.0               2.0  \n",
       "196               0.0               1.0  \n",
       "197               0.0               1.0  \n",
       "198               0.0               1.0  \n",
       "199               0.0               1.0  \n",
       "200               0.0               1.0  \n",
       "203               0.0               1.0  \n",
       "205               0.0               1.0  \n",
       "206               0.0               1.0  "
      ]
     },
     "execution_count": 9,
     "metadata": {},
     "output_type": "execute_result"
    }
   ],
   "source": [
    "df = pd.read_csv(\"./aumcdb_sofa.csv\") # hour\n",
    "df[(df[\"sofa_total_score\"]!=0) & (df[\"admissionid\"]==5)]\n"
   ]
  },
  {
   "cell_type": "code",
   "execution_count": 10,
   "id": "b6c46094",
   "metadata": {
    "ExecuteTime": {
     "end_time": "2023-12-14T11:58:53.901516Z",
     "start_time": "2023-12-14T11:58:53.093675Z"
    }
   },
   "outputs": [
    {
     "data": {
      "text/html": [
       "<div>\n",
       "<style scoped>\n",
       "    .dataframe tbody tr th:only-of-type {\n",
       "        vertical-align: middle;\n",
       "    }\n",
       "\n",
       "    .dataframe tbody tr th {\n",
       "        vertical-align: top;\n",
       "    }\n",
       "\n",
       "    .dataframe thead th {\n",
       "        text-align: right;\n",
       "    }\n",
       "</style>\n",
       "<table border=\"1\" class=\"dataframe\">\n",
       "  <thead>\n",
       "    <tr style=\"text-align: right;\">\n",
       "      <th></th>\n",
       "      <th>stay_id</th>\n",
       "      <th>hr</th>\n",
       "      <th>respiration_sofa</th>\n",
       "      <th>coagulation_sofa</th>\n",
       "      <th>liver_sofa</th>\n",
       "      <th>cardiovascular_sofa</th>\n",
       "      <th>cns_sofa</th>\n",
       "      <th>renal_sofa</th>\n",
       "      <th>sofa</th>\n",
       "      <th>groupHPD</th>\n",
       "    </tr>\n",
       "  </thead>\n",
       "  <tbody>\n",
       "    <tr>\n",
       "      <th>0</th>\n",
       "      <td>5</td>\n",
       "      <td>-1.0</td>\n",
       "      <td>NaN</td>\n",
       "      <td>0.0</td>\n",
       "      <td>NaN</td>\n",
       "      <td>NaN</td>\n",
       "      <td>NaN</td>\n",
       "      <td>NaN</td>\n",
       "      <td>0.0</td>\n",
       "      <td>2</td>\n",
       "    </tr>\n",
       "    <tr>\n",
       "      <th>1</th>\n",
       "      <td>5</td>\n",
       "      <td>0.0</td>\n",
       "      <td>NaN</td>\n",
       "      <td>0.0</td>\n",
       "      <td>0.0</td>\n",
       "      <td>4.0</td>\n",
       "      <td>0.0</td>\n",
       "      <td>0.0</td>\n",
       "      <td>4.0</td>\n",
       "      <td>2</td>\n",
       "    </tr>\n",
       "  </tbody>\n",
       "</table>\n",
       "</div>"
      ],
      "text/plain": [
       "   stay_id   hr  respiration_sofa  coagulation_sofa  liver_sofa  \\\n",
       "0        5 -1.0               NaN               0.0         NaN   \n",
       "1        5  0.0               NaN               0.0         0.0   \n",
       "\n",
       "   cardiovascular_sofa  cns_sofa  renal_sofa  sofa  groupHPD  \n",
       "0                  NaN       NaN         NaN   0.0         2  \n",
       "1                  4.0       0.0         0.0   4.0         2  "
      ]
     },
     "execution_count": 10,
     "metadata": {},
     "output_type": "execute_result"
    }
   ],
   "source": [
    "df = pd.read_csv(\"./aumcdb_sofa.csv\") # hour\n",
    "df = df.rename(columns={'admissionid':'stay_id','time':'hr','sofa_respiration_score':\"respiration_sofa\", 'sofa_coagulation_score':\"coagulation_sofa\", 'sofa_liver_score': 'liver_sofa',\n",
    "        'sofa_cardiovascular_score':\"cardiovascular_sofa\", 'sofa_cns_score':'cns_sofa', 'sofa_renal_score':'renal_sofa','sofa_total_score':\"sofa\"})\n",
    "df = pd.merge(df,df_type_filt, how=\"inner\",on=\"stay_id\") #df[df[\"stay_id\"].isin(all_lst)]\n",
    "df.head(2)"
   ]
  },
  {
   "cell_type": "code",
   "execution_count": 11,
   "id": "2c97c1ec",
   "metadata": {
    "ExecuteTime": {
     "end_time": "2023-12-14T11:58:54.472023Z",
     "start_time": "2023-12-14T11:58:53.902687Z"
    }
   },
   "outputs": [
    {
     "data": {
      "text/plain": [
       "2183"
      ]
     },
     "execution_count": 11,
     "metadata": {},
     "output_type": "execute_result"
    }
   ],
   "source": [
    "df_merge = pd.merge(df, df_time, how=\"inner\", on=\"stay_id\")\n",
    "df_merge[\"hr\"] = df_merge[\"hr\"].map(lambda x: x+1 if x>=0 else x)\n",
    "\n",
    "df_merge[\"time\"] = (df_merge[\"hr\"] - df_merge[\"saki_onset\"])/6\n",
    "df_merge[\"time\"] = df_merge[\"time\"].map(lambda x:x//1) # -1指sepsis前6小时的数据，0指sepsis后第一个6小时的数据\n",
    "\n",
    "df_merge[\"time\"] = df_merge[\"time\"].map(lambda x: x+1 if x>=0 else x)\n",
    "df_merge = df_merge[(df_merge[\"time\"]>=-4) &(df_merge[\"time\"]<=28)]\n",
    "df_merge = df_merge.groupby([\"stay_id\",\"time\"]).agg('max').reset_index()\n",
    "df_merge = df_merge.drop([\"hr\", \"saki_onset\"],axis=1)\n",
    "len(df_merge.stay_id.unique())"
   ]
  },
  {
   "cell_type": "code",
   "execution_count": 12,
   "id": "f6f3280f",
   "metadata": {
    "ExecuteTime": {
     "end_time": "2023-12-14T11:58:57.630259Z",
     "start_time": "2023-12-14T11:58:54.473146Z"
    }
   },
   "outputs": [
    {
     "data": {
      "text/plain": [
       "2183"
      ]
     },
     "execution_count": 12,
     "metadata": {},
     "output_type": "execute_result"
    }
   ],
   "source": [
    "df = df_merge\n",
    "com_lst = []\n",
    "for i in df.stay_id.unique().tolist():\n",
    "    min_t = -2 \n",
    "    max_t = int(max(df[df.stay_id==i].time))\n",
    "    for j in range(min_t,max_t+1,1):\n",
    "        com_lst.append([i,j])\n",
    "df_complete = pd.DataFrame(com_lst,columns=[\"stay_id\", \"time\"])  \n",
    "\n",
    "df_fea = pd.merge(df_complete, df_merge, how=\"left\", on=[\"stay_id\",\"time\"])\n",
    "df_fea = df_fea[df_fea[\"time\"]!=0]\n",
    "df_fea = df_fea.sort_values([\"stay_id\",\"time\"])\n",
    "\n",
    "tmp_df = pd.DataFrame()\n",
    "for i,j in df_fea.groupby([\"stay_id\"]):\n",
    "    j = j.fillna(method=\"ffill\")\n",
    "    j = j.fillna(method=\"bfill\")\n",
    "    tmp_df = pd.concat([tmp_df, j], axis=0)\n",
    "df_im = tmp_df\n",
    "\n",
    "# # 多重插补\n",
    "# import miceforest as mf\n",
    "# kernel = mf.ImputationKernel(\n",
    "#     df_im,\n",
    "#     datasets=3,\n",
    "#     save_all_iterations=True,\n",
    "#     random_state=10\n",
    "# )\n",
    "# kernel.mice(iterations = 3, n_jobs=-1)\n",
    "# df_im2 = kernel.complete_data(dataset=1)\n",
    "df_im2 = df_im.fillna(0)\n",
    "df_im2[\"sofa\"] = df_im2[\"respiration_sofa\"] + df_im2[\"coagulation_sofa\"] + df_im2[\"liver_sofa\"] + df_im2[\"cardiovascular_sofa\"] + df_im2[\"cns_sofa\"] + df_im2[\"renal_sofa\"] \n",
    "df_im2.to_csv(\"aumc_sofa_clean.csv\",index=False)\n",
    "len(df_im2.stay_id.unique())"
   ]
  },
  {
   "cell_type": "markdown",
   "id": "2c328a91",
   "metadata": {},
   "source": [
    "# eICU"
   ]
  },
  {
   "cell_type": "code",
   "execution_count": 13,
   "id": "d5251ed9",
   "metadata": {
    "ExecuteTime": {
     "end_time": "2023-12-14T11:58:57.707277Z",
     "start_time": "2023-12-14T11:58:57.631364Z"
    }
   },
   "outputs": [
    {
     "data": {
      "text/html": [
       "<div>\n",
       "<style scoped>\n",
       "    .dataframe tbody tr th:only-of-type {\n",
       "        vertical-align: middle;\n",
       "    }\n",
       "\n",
       "    .dataframe tbody tr th {\n",
       "        vertical-align: top;\n",
       "    }\n",
       "\n",
       "    .dataframe thead th {\n",
       "        text-align: right;\n",
       "    }\n",
       "</style>\n",
       "<table border=\"1\" class=\"dataframe\">\n",
       "  <thead>\n",
       "    <tr style=\"text-align: right;\">\n",
       "      <th></th>\n",
       "      <th>stay_id</th>\n",
       "      <th>saki_onset</th>\n",
       "    </tr>\n",
       "  </thead>\n",
       "  <tbody>\n",
       "    <tr>\n",
       "      <th>0</th>\n",
       "      <td>224606</td>\n",
       "      <td>NaN</td>\n",
       "    </tr>\n",
       "  </tbody>\n",
       "</table>\n",
       "</div>"
      ],
      "text/plain": [
       "   stay_id  saki_onset\n",
       "0   224606         NaN"
      ]
     },
     "execution_count": 13,
     "metadata": {},
     "output_type": "execute_result"
    }
   ],
   "source": [
    "df_time = pd.read_csv(\"/public/hanl/jupyter_dir/kidney_sepsis_penotype_v3//00.data_eicu/disease_definition/AKI/eicu_saki_event_time.csv\")\n",
    "df_time = df_time[['stay_id','saki_onset']]\n",
    "df_time.head(1)"
   ]
  },
  {
   "cell_type": "code",
   "execution_count": 14,
   "id": "d6e01f6e",
   "metadata": {
    "ExecuteTime": {
     "end_time": "2023-12-14T11:58:57.780545Z",
     "start_time": "2023-12-14T11:58:57.708457Z"
    }
   },
   "outputs": [
    {
     "name": "stdout",
     "output_type": "stream",
     "text": [
      "纳入患者数量： 1417\n"
     ]
    }
   ],
   "source": [
    "df_type = pd.read_csv(\"/public/hanl/jupyter_dir/kidney_sepsis_penotype_v3/03.eICU_SAKI_trajCluster/df_mixAK_fea4_C3_eicu.csv\")\n",
    "df_type_filt = df_type.loc[:,[\"stay_id\",\"groupHPD\"]]\n",
    "df_type_filt = df_type_filt.drop_duplicates()\n",
    "all_lst = df_type_filt.stay_id.unique().tolist()\n",
    "print(\"纳入患者数量：\",len(all_lst))"
   ]
  },
  {
   "cell_type": "code",
   "execution_count": 15,
   "id": "0115f24e",
   "metadata": {
    "ExecuteTime": {
     "end_time": "2023-12-14T11:59:12.942472Z",
     "start_time": "2023-12-14T11:58:57.781726Z"
    }
   },
   "outputs": [
    {
     "data": {
      "text/html": [
       "<div>\n",
       "<style scoped>\n",
       "    .dataframe tbody tr th:only-of-type {\n",
       "        vertical-align: middle;\n",
       "    }\n",
       "\n",
       "    .dataframe tbody tr th {\n",
       "        vertical-align: top;\n",
       "    }\n",
       "\n",
       "    .dataframe thead th {\n",
       "        text-align: right;\n",
       "    }\n",
       "</style>\n",
       "<table border=\"1\" class=\"dataframe\">\n",
       "  <thead>\n",
       "    <tr style=\"text-align: right;\">\n",
       "      <th></th>\n",
       "      <th>stay_id</th>\n",
       "      <th>hr</th>\n",
       "      <th>respiration_sofa</th>\n",
       "      <th>coagulation_sofa</th>\n",
       "      <th>liver_sofa</th>\n",
       "      <th>cardiovascular_sofa</th>\n",
       "      <th>cns_sofa</th>\n",
       "      <th>renal_sofa</th>\n",
       "      <th>sofa</th>\n",
       "      <th>groupHPD</th>\n",
       "    </tr>\n",
       "  </thead>\n",
       "  <tbody>\n",
       "    <tr>\n",
       "      <th>0</th>\n",
       "      <td>243208</td>\n",
       "      <td>0</td>\n",
       "      <td>0</td>\n",
       "      <td>0</td>\n",
       "      <td>0</td>\n",
       "      <td>0</td>\n",
       "      <td>0</td>\n",
       "      <td>1</td>\n",
       "      <td>1</td>\n",
       "      <td>2</td>\n",
       "    </tr>\n",
       "    <tr>\n",
       "      <th>1</th>\n",
       "      <td>243208</td>\n",
       "      <td>1</td>\n",
       "      <td>0</td>\n",
       "      <td>0</td>\n",
       "      <td>0</td>\n",
       "      <td>1</td>\n",
       "      <td>0</td>\n",
       "      <td>1</td>\n",
       "      <td>2</td>\n",
       "      <td>2</td>\n",
       "    </tr>\n",
       "  </tbody>\n",
       "</table>\n",
       "</div>"
      ],
      "text/plain": [
       "   stay_id  hr  respiration_sofa  coagulation_sofa  liver_sofa  \\\n",
       "0   243208   0                 0                 0           0   \n",
       "1   243208   1                 0                 0           0   \n",
       "\n",
       "   cardiovascular_sofa  cns_sofa  renal_sofa  sofa  groupHPD  \n",
       "0                    0         0           1     1         2  \n",
       "1                    1         0           1     2         2  "
      ]
     },
     "execution_count": 15,
     "metadata": {},
     "output_type": "execute_result"
    }
   ],
   "source": [
    "df = pd.read_csv(\"./eicu_sofa.csv\") # hour\n",
    "df = df[['patientunitstayid', 'hr','respiration_24hours', 'coagulation_24hours', 'liver_24hours',\n",
    "       'cardiovascular_24hours', 'cns_24hours', 'renal_24hours',\n",
    "       'sofa_24hours']]\n",
    "df = df.rename(columns={'patientunitstayid':'stay_id','respiration_24hours':\"respiration_sofa\", 'coagulation_24hours':\"coagulation_sofa\", 'liver_24hours': 'liver_sofa',\n",
    "       'cardiovascular_24hours':\"cardiovascular_sofa\", 'cns_24hours':'cns_sofa', 'renal_24hours':'renal_sofa','sofa_24hours':\"sofa\"})\n",
    "df = pd.merge(df,df_type_filt, how=\"inner\",on=\"stay_id\") \n",
    "df.head(2)"
   ]
  },
  {
   "cell_type": "code",
   "execution_count": 16,
   "id": "c0ece1d7",
   "metadata": {
    "ExecuteTime": {
     "end_time": "2023-12-14T11:59:13.119456Z",
     "start_time": "2023-12-14T11:59:12.943671Z"
    }
   },
   "outputs": [],
   "source": [
    "df_merge = pd.merge(df, df_time, how=\"inner\", on=\"stay_id\")\n",
    "df_merge[\"hr\"] = df_merge[\"hr\"].map(lambda x: x+1 if x>=0 else x)\n",
    "\n",
    "df_merge[\"time\"] = (df_merge[\"hr\"] - df_merge[\"saki_onset\"])/6\n",
    "df_merge[\"time\"] = df_merge[\"time\"].map(lambda x:x//1) # -1指sepsis前6小时的数据，0指sepsis后第一个6小时的数据\n",
    "\n",
    "df_merge[\"time\"] = df_merge[\"time\"].map(lambda x: x+1 if x>=0 else x)\n",
    "df_merge = df_merge[(df_merge[\"time\"]>=-4) &(df_merge[\"time\"]<=28)]\n",
    "df_merge = df_merge.groupby([\"stay_id\",\"time\"]).agg('max').reset_index()\n",
    "df_merge = df_merge.drop([\"hr\", \"saki_onset\"],axis=1)\n"
   ]
  },
  {
   "cell_type": "code",
   "execution_count": 17,
   "id": "2b0dc9c8",
   "metadata": {
    "ExecuteTime": {
     "end_time": "2023-12-14T11:59:14.821305Z",
     "start_time": "2023-12-14T11:59:13.120651Z"
    }
   },
   "outputs": [],
   "source": [
    "df = df_merge\n",
    "com_lst = []\n",
    "for i in df.stay_id.unique().tolist():\n",
    "    min_t = -2  \n",
    "    max_t = int(max(df[df.stay_id==i].time))\n",
    "    for j in range(min_t,max_t+1,1):\n",
    "        com_lst.append([i,j])\n",
    "df_complete = pd.DataFrame(com_lst,columns=[\"stay_id\", \"time\"])  \n",
    "\n",
    "df_fea = pd.merge(df_complete, df_merge, how=\"left\", on=[\"stay_id\",\"time\"])\n",
    "df_fea = df_fea[df_fea[\"time\"]!=0]\n",
    "df_fea = df_fea.sort_values([\"stay_id\",\"time\"])\n",
    "\n",
    "tmp_df = pd.DataFrame()\n",
    "for i,j in df_fea.groupby([\"stay_id\"]):\n",
    "    j = j.fillna(method=\"ffill\")\n",
    "    j = j.fillna(method=\"bfill\")\n",
    "    tmp_df = pd.concat([tmp_df, j], axis=0)\n",
    "df_im = tmp_df\n",
    "\n",
    "# 多重插补\n",
    "# import miceforest as mf\n",
    "# kernel = mf.ImputationKernel(\n",
    "#     df_im,\n",
    "#     datasets=3,\n",
    "#     save_all_iterations=True,\n",
    "#     random_state=10\n",
    "# )\n",
    "# kernel.mice(iterations = 3, n_jobs=-1)\n",
    "# df_im2 = kernel.complete_data(dataset=1)\n",
    "df_im2 = df_im.fillna(0)\n",
    "\n",
    "df_im2[\"sofa\"] = df_im2[\"respiration_sofa\"] + df_im2[\"coagulation_sofa\"] + df_im2[\"liver_sofa\"] + df_im2[\"cardiovascular_sofa\"] + df_im2[\"cns_sofa\"] + df_im2[\"renal_sofa\"] \n",
    "\n",
    "df_im2.to_csv(\"eicu_sofa_clean.csv\",index=False)"
   ]
  },
  {
   "cell_type": "markdown",
   "id": "bfc681dc",
   "metadata": {},
   "source": [
    "# merge"
   ]
  },
  {
   "cell_type": "code",
   "execution_count": 18,
   "id": "f80478b7",
   "metadata": {
    "ExecuteTime": {
     "end_time": "2023-12-14T11:59:14.910077Z",
     "start_time": "2023-12-14T11:59:14.822509Z"
    }
   },
   "outputs": [],
   "source": [
    "df1 = pd.read_csv(\"./eicu_sofa_clean.csv\")\n",
    "df1[\"dataset\"] = \"eicu\"\n",
    "df2 = pd.read_csv(\"./aumc_sofa_clean.csv\")\n",
    "df2[\"dataset\"] = \"aumcdb\"\n",
    "df3 = pd.read_csv(\"./mimic_sofa_clean.csv\")\n",
    "df3[\"dataset\"] = \"mimic\""
   ]
  },
  {
   "cell_type": "code",
   "execution_count": 19,
   "id": "62a2d44a",
   "metadata": {
    "ExecuteTime": {
     "end_time": "2023-12-14T11:59:15.488457Z",
     "start_time": "2023-12-14T11:59:14.911255Z"
    }
   },
   "outputs": [],
   "source": [
    "df_all = pd.concat([df1,df2,df3],axis=0)\n",
    "df_all.to_csv(\"df_sofa_merge.csv\",index=False)"
   ]
  },
  {
   "cell_type": "code",
   "execution_count": 20,
   "id": "71cd011c",
   "metadata": {
    "ExecuteTime": {
     "end_time": "2023-12-14T11:59:15.498437Z",
     "start_time": "2023-12-14T11:59:15.489604Z"
    }
   },
   "outputs": [
    {
     "data": {
      "text/plain": [
       "array(['eicu', 'aumcdb', 'mimic'], dtype=object)"
      ]
     },
     "execution_count": 20,
     "metadata": {},
     "output_type": "execute_result"
    }
   ],
   "source": [
    "df_all.dataset.unique()"
   ]
  }
 ],
 "metadata": {
  "kernelspec": {
   "display_name": "Python [conda env:mytensor]",
   "language": "python",
   "name": "conda-env-mytensor-py"
  },
  "language_info": {
   "codemirror_mode": {
    "name": "ipython",
    "version": 3
   },
   "file_extension": ".py",
   "mimetype": "text/x-python",
   "name": "python",
   "nbconvert_exporter": "python",
   "pygments_lexer": "ipython3",
   "version": "3.9.12"
  },
  "toc": {
   "base_numbering": 1,
   "nav_menu": {},
   "number_sections": true,
   "sideBar": true,
   "skip_h1_title": false,
   "title_cell": "Table of Contents",
   "title_sidebar": "Contents",
   "toc_cell": false,
   "toc_position": {
    "height": "calc(100% - 180px)",
    "left": "10px",
    "top": "150px",
    "width": "164.988px"
   },
   "toc_section_display": true,
   "toc_window_display": true
  },
  "varInspector": {
   "cols": {
    "lenName": 16,
    "lenType": 16,
    "lenVar": 40
   },
   "kernels_config": {
    "python": {
     "delete_cmd_postfix": "",
     "delete_cmd_prefix": "del ",
     "library": "var_list.py",
     "varRefreshCmd": "print(var_dic_list())"
    },
    "r": {
     "delete_cmd_postfix": ") ",
     "delete_cmd_prefix": "rm(",
     "library": "var_list.r",
     "varRefreshCmd": "cat(var_dic_list()) "
    }
   },
   "types_to_exclude": [
    "module",
    "function",
    "builtin_function_or_method",
    "instance",
    "_Feature"
   ],
   "window_display": false
  }
 },
 "nbformat": 4,
 "nbformat_minor": 5
}
