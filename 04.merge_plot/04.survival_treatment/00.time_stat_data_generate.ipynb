{
 "cells": [
  {
   "cell_type": "code",
   "execution_count": 1,
   "id": "4e2b38c7",
   "metadata": {
    "ExecuteTime": {
     "end_time": "2023-04-24T12:25:44.070416Z",
     "start_time": "2023-04-24T12:25:43.419859Z"
    }
   },
   "outputs": [],
   "source": [
    "import numpy as np\n",
    "import pandas as pd\n",
    "import matplotlib.pyplot as plt\n",
    "np.random.seed(19680804)"
   ]
  },
  {
   "cell_type": "markdown",
   "id": "ef607a46",
   "metadata": {},
   "source": [
    "# MIMIC"
   ]
  },
  {
   "cell_type": "code",
   "execution_count": null,
   "id": "aa72dc32",
   "metadata": {
    "ExecuteTime": {
     "end_time": "2023-04-24T12:25:44.694964Z",
     "start_time": "2023-04-24T12:25:44.071875Z"
    },
    "run_control": {
     "marked": true
    }
   },
   "outputs": [
    {
     "name": "stdout",
     "output_type": "stream",
     "text": [
      "4713 4713\n"
     ]
    },
    {
     "name": "stderr",
     "output_type": "stream",
     "text": [
      "<ipython-input-2-9740790addfa>:20: SettingWithCopyWarning: \n",
      "A value is trying to be set on a copy of a slice from a DataFrame.\n",
      "Try using .loc[row_indexer,col_indexer] = value instead\n",
      "\n",
      "See the caveats in the documentation: https://pandas.pydata.org/pandas-docs/stable/user_guide/indexing.html#returning-a-view-versus-a-copy\n",
      "  df_mimic_time[\"dataset\"] = \"mimic\"\n"
     ]
    },
    {
     "data": {
      "text/html": [
       "<div>\n",
       "<style scoped>\n",
       "    .dataframe tbody tr th:only-of-type {\n",
       "        vertical-align: middle;\n",
       "    }\n",
       "\n",
       "    .dataframe tbody tr th {\n",
       "        vertical-align: top;\n",
       "    }\n",
       "\n",
       "    .dataframe thead th {\n",
       "        text-align: right;\n",
       "    }\n",
       "</style>\n",
       "<table border=\"1\" class=\"dataframe\">\n",
       "  <thead>\n",
       "    <tr style=\"text-align: right;\">\n",
       "      <th></th>\n",
       "      <th>stay_id</th>\n",
       "      <th>groupHPD</th>\n",
       "      <th>los_saki-sepsis</th>\n",
       "      <th>dataset</th>\n",
       "    </tr>\n",
       "  </thead>\n",
       "  <tbody>\n",
       "    <tr>\n",
       "      <th>0</th>\n",
       "      <td>30003598</td>\n",
       "      <td>1</td>\n",
       "      <td>6.066667</td>\n",
       "      <td>mimic</td>\n",
       "    </tr>\n",
       "    <tr>\n",
       "      <th>1</th>\n",
       "      <td>30004144</td>\n",
       "      <td>2</td>\n",
       "      <td>6.000000</td>\n",
       "      <td>mimic</td>\n",
       "    </tr>\n",
       "    <tr>\n",
       "      <th>2</th>\n",
       "      <td>30005085</td>\n",
       "      <td>2</td>\n",
       "      <td>7.000000</td>\n",
       "      <td>mimic</td>\n",
       "    </tr>\n",
       "    <tr>\n",
       "      <th>3</th>\n",
       "      <td>30006983</td>\n",
       "      <td>2</td>\n",
       "      <td>14.000000</td>\n",
       "      <td>mimic</td>\n",
       "    </tr>\n",
       "    <tr>\n",
       "      <th>4</th>\n",
       "      <td>30008148</td>\n",
       "      <td>2</td>\n",
       "      <td>42.000000</td>\n",
       "      <td>mimic</td>\n",
       "    </tr>\n",
       "  </tbody>\n",
       "</table>\n",
       "</div>"
      ],
      "text/plain": [
       "    stay_id  groupHPD  los_saki-sepsis dataset\n",
       "0  30003598         1         6.066667   mimic\n",
       "1  30004144         2         6.000000   mimic\n",
       "2  30005085         2         7.000000   mimic\n",
       "3  30006983         2        14.000000   mimic\n",
       "4  30008148         2        42.000000   mimic"
      ]
     },
     "execution_count": 2,
     "metadata": {},
     "output_type": "execute_result"
    }
   ],
   "source": [
    "df_type_filt = pd.read_csv(\"/public/hanl/jupyter_dir/kidney_sepsis_penotype_v2/01.MIMICIV_SAKI_trajCluster//df_mixAK_fea4_C3.csv\")\n",
    "df_type_filt = df_type_filt[[\"stay_id\",\"groupHPD\"]].drop_duplicates()\n",
    "\n",
    "df_demo = pd.read_csv(\"/public/hanl/jupyter_dir/kidney_sepsis_penotype_v2/00.data_mimic//disease_definition/AKI/sk_event_time.csv\")\n",
    "df_demo = pd.merge(df_demo, df_type_filt, how=\"right\",on=\"stay_id\") # saki occurs all during the ICU period\n",
    "df_demo[\"intime\"] = pd.to_datetime(df_demo[\"intime\"])\n",
    "df_demo[\"outtime\"] = pd.to_datetime(df_demo[\"outtime\"])\n",
    "df_demo[\"sepsis_onset\"] = pd.to_datetime(df_demo[\"sepsis_onset\"])\n",
    "df_demo[\"saki_onset\"] = pd.to_datetime(df_demo[\"saki_onset\"])\n",
    "\n",
    "#df_demo[\"los_icu\"] = (df_demo[\"outtime\"] - df_demo[\"intime\"]).map(lambda x:x/np.timedelta64(24, 'h')).tolist()\n",
    "df_demo[\"los_saki-sepsis\"] = (df_demo[\"saki_onset\"] - df_demo[\"sepsis_onset\"]).map(lambda x:x/np.timedelta64(1, 'h')).tolist()\n",
    "#df_demo[\"los_outtime-saki\"] = (df_demo[\"outtime\"] - df_demo[\"saki_onset\"]).map(lambda x:x/np.timedelta64(24, 'h')).tolist()\n",
    "\n",
    "#del_lst = df_demo[(df_demo[\"saki_onset\"] < df_demo[\"intime\"]) | (df_demo[\"saki_onset\"] < df_demo[\"intime\"])].stay_id.unique()\n",
    "#df_mimic_time = df_mimic_time[~df_mimic_time.stay_id.isin(del_lst)]\n",
    "\n",
    "df_mimic_time = df_demo[['stay_id','groupHPD', 'los_saki-sepsis']]#, 'los_icu', 'los_outtime-saki']]\n",
    "print(df_demo.shape[0], df_mimic_time.shape[0])\n",
    "df_mimic_time[\"dataset\"] = \"mimic\"\n",
    "df_mimic_time.head()"
   ]
  },
  {
   "cell_type": "markdown",
   "id": "c4a1a6f1",
   "metadata": {},
   "source": [
    "# AUMCdb"
   ]
  },
  {
   "cell_type": "code",
   "execution_count": null,
   "id": "0ed80b35",
   "metadata": {
    "ExecuteTime": {
     "end_time": "2023-04-24T12:25:44.927320Z",
     "start_time": "2023-04-24T12:25:44.696556Z"
    }
   },
   "outputs": [
    {
     "name": "stdout",
     "output_type": "stream",
     "text": [
      "2183 2183\n"
     ]
    },
    {
     "name": "stderr",
     "output_type": "stream",
     "text": [
      "<ipython-input-3-54ea4dfa1835>:17: SettingWithCopyWarning: \n",
      "A value is trying to be set on a copy of a slice from a DataFrame.\n",
      "Try using .loc[row_indexer,col_indexer] = value instead\n",
      "\n",
      "See the caveats in the documentation: https://pandas.pydata.org/pandas-docs/stable/user_guide/indexing.html#returning-a-view-versus-a-copy\n",
      "  df_aumcdb_time[\"dataset\"] = \"aumcdb\"\n"
     ]
    },
    {
     "data": {
      "text/html": [
       "<div>\n",
       "<style scoped>\n",
       "    .dataframe tbody tr th:only-of-type {\n",
       "        vertical-align: middle;\n",
       "    }\n",
       "\n",
       "    .dataframe tbody tr th {\n",
       "        vertical-align: top;\n",
       "    }\n",
       "\n",
       "    .dataframe thead th {\n",
       "        text-align: right;\n",
       "    }\n",
       "</style>\n",
       "<table border=\"1\" class=\"dataframe\">\n",
       "  <thead>\n",
       "    <tr style=\"text-align: right;\">\n",
       "      <th></th>\n",
       "      <th>stay_id</th>\n",
       "      <th>groupHPD</th>\n",
       "      <th>los_saki-sepsis</th>\n",
       "      <th>dataset</th>\n",
       "    </tr>\n",
       "  </thead>\n",
       "  <tbody>\n",
       "    <tr>\n",
       "      <th>0</th>\n",
       "      <td>5</td>\n",
       "      <td>2</td>\n",
       "      <td>3.0</td>\n",
       "      <td>aumcdb</td>\n",
       "    </tr>\n",
       "    <tr>\n",
       "      <th>1</th>\n",
       "      <td>15</td>\n",
       "      <td>2</td>\n",
       "      <td>2.0</td>\n",
       "      <td>aumcdb</td>\n",
       "    </tr>\n",
       "    <tr>\n",
       "      <th>2</th>\n",
       "      <td>20</td>\n",
       "      <td>2</td>\n",
       "      <td>2.0</td>\n",
       "      <td>aumcdb</td>\n",
       "    </tr>\n",
       "    <tr>\n",
       "      <th>3</th>\n",
       "      <td>35</td>\n",
       "      <td>2</td>\n",
       "      <td>3.0</td>\n",
       "      <td>aumcdb</td>\n",
       "    </tr>\n",
       "    <tr>\n",
       "      <th>4</th>\n",
       "      <td>38</td>\n",
       "      <td>2</td>\n",
       "      <td>6.0</td>\n",
       "      <td>aumcdb</td>\n",
       "    </tr>\n",
       "  </tbody>\n",
       "</table>\n",
       "</div>"
      ],
      "text/plain": [
       "   stay_id  groupHPD  los_saki-sepsis dataset\n",
       "0        5         2              3.0  aumcdb\n",
       "1       15         2              2.0  aumcdb\n",
       "2       20         2              2.0  aumcdb\n",
       "3       35         2              3.0  aumcdb\n",
       "4       38         2              6.0  aumcdb"
      ]
     },
     "execution_count": 3,
     "metadata": {},
     "output_type": "execute_result"
    }
   ],
   "source": [
    "df_type_filt = pd.read_csv(\"/public/hanl/jupyter_dir/kidney_sepsis_penotype_v2//02.AUMCdb_SAKI_trajCluster/df_mixAK_fea3_C3_aumc.csv\")\n",
    "df_type_filt = df_type_filt[[\"stay_id\",\"groupHPD\"]].drop_duplicates()\n",
    "\n",
    "df_demo = pd.read_csv(\"/public/hanl/jupyter_dir/kidney_sepsis_penotype_v2//00.data_aumc/disease_definition/AKI/aumcdb_sk_event_time.csv\")\n",
    "df_demo = pd.merge(df_demo, df_type_filt, how=\"right\",on=\"stay_id\") # 43 saki occurred before intime\n",
    "df_demo.head(2)\n",
    "\n",
    "df_demo[\"los_saki-sepsis\"] = (df_demo[\"saki_onset\"] - df_demo[\"sepsis_onset\"]) /1\n",
    "\n",
    "# df_demo[\"los_icu\"] = (df_demo[\"outtime\"] - df_demo[\"intime\"]) /24\n",
    "# df_demo[\"los_outtime-saki\"] = (df_demo[\"outtime\"] - df_demo[\"saki_onset\"]) /24\n",
    "# del_lst = df_demo[(df_demo[\"saki_onset\"] < df_demo[\"intime\"]) | (df_demo[\"saki_onset\"] < df_demo[\"intime\"])].stay_id.unique()\n",
    "# df_aumcdb_time = df_aumcdb_time[~df_aumcdb_time.stay_id.isin(del_lst)]\n",
    "\n",
    "df_aumcdb_time = df_demo[['stay_id','groupHPD', 'los_saki-sepsis']]#, 'los_icu', 'los_outtime-saki']]\n",
    "print(df_demo.shape[0], df_aumcdb_time.shape[0])\n",
    "df_aumcdb_time[\"dataset\"] = \"aumcdb\"\n",
    "\n",
    "df_aumcdb_time.head()"
   ]
  },
  {
   "cell_type": "markdown",
   "id": "4d87f0b0",
   "metadata": {},
   "source": [
    "# eICU"
   ]
  },
  {
   "cell_type": "code",
   "execution_count": null,
   "id": "a123c4f4",
   "metadata": {
    "ExecuteTime": {
     "end_time": "2023-04-24T12:26:09.147913Z",
     "start_time": "2023-04-24T12:26:08.749633Z"
    }
   },
   "outputs": [
    {
     "name": "stdout",
     "output_type": "stream",
     "text": [
      "1970 1970\n"
     ]
    },
    {
     "name": "stderr",
     "output_type": "stream",
     "text": [
      "<ipython-input-6-e32ef537a548>:16: SettingWithCopyWarning: \n",
      "A value is trying to be set on a copy of a slice from a DataFrame.\n",
      "Try using .loc[row_indexer,col_indexer] = value instead\n",
      "\n",
      "See the caveats in the documentation: https://pandas.pydata.org/pandas-docs/stable/user_guide/indexing.html#returning-a-view-versus-a-copy\n",
      "  df_eicu_time[\"dataset\"] = \"eicu\"\n"
     ]
    },
    {
     "data": {
      "text/html": [
       "<div>\n",
       "<style scoped>\n",
       "    .dataframe tbody tr th:only-of-type {\n",
       "        vertical-align: middle;\n",
       "    }\n",
       "\n",
       "    .dataframe tbody tr th {\n",
       "        vertical-align: top;\n",
       "    }\n",
       "\n",
       "    .dataframe thead th {\n",
       "        text-align: right;\n",
       "    }\n",
       "</style>\n",
       "<table border=\"1\" class=\"dataframe\">\n",
       "  <thead>\n",
       "    <tr style=\"text-align: right;\">\n",
       "      <th></th>\n",
       "      <th>stay_id</th>\n",
       "      <th>groupHPD</th>\n",
       "      <th>los_saki-sepsis</th>\n",
       "      <th>dataset</th>\n",
       "    </tr>\n",
       "  </thead>\n",
       "  <tbody>\n",
       "    <tr>\n",
       "      <th>0</th>\n",
       "      <td>243208</td>\n",
       "      <td>1</td>\n",
       "      <td>8.0</td>\n",
       "      <td>eicu</td>\n",
       "    </tr>\n",
       "    <tr>\n",
       "      <th>1</th>\n",
       "      <td>243765</td>\n",
       "      <td>2</td>\n",
       "      <td>20.0</td>\n",
       "      <td>eicu</td>\n",
       "    </tr>\n",
       "    <tr>\n",
       "      <th>2</th>\n",
       "      <td>244573</td>\n",
       "      <td>2</td>\n",
       "      <td>4.0</td>\n",
       "      <td>eicu</td>\n",
       "    </tr>\n",
       "    <tr>\n",
       "      <th>3</th>\n",
       "      <td>246082</td>\n",
       "      <td>2</td>\n",
       "      <td>8.0</td>\n",
       "      <td>eicu</td>\n",
       "    </tr>\n",
       "    <tr>\n",
       "      <th>4</th>\n",
       "      <td>247249</td>\n",
       "      <td>2</td>\n",
       "      <td>11.0</td>\n",
       "      <td>eicu</td>\n",
       "    </tr>\n",
       "  </tbody>\n",
       "</table>\n",
       "</div>"
      ],
      "text/plain": [
       "   stay_id  groupHPD  los_saki-sepsis dataset\n",
       "0   243208         1              8.0    eicu\n",
       "1   243765         2             20.0    eicu\n",
       "2   244573         2              4.0    eicu\n",
       "3   246082         2              8.0    eicu\n",
       "4   247249         2             11.0    eicu"
      ]
     },
     "execution_count": 6,
     "metadata": {},
     "output_type": "execute_result"
    }
   ],
   "source": [
    "df_type_filt = pd.read_csv(\"/public/hanl/jupyter_dir/kidney_sepsis_penotype_v2//03.eICU_SAKI_trajCluster/df_mixAK_fea4_C3_eicu.csv\")\n",
    "df_type_filt = df_type_filt[[\"stay_id\",\"groupHPD\"]].drop_duplicates()\n",
    "\n",
    "df_demo = pd.read_csv(\"/public/hanl/jupyter_dir/kidney_sepsis_penotype_v2//00.data_eicu/disease_definition/AKI/eicu_saki_event_time.csv\")\n",
    "df_demo = pd.merge(df_demo, df_type_filt, how=\"right\",on=\"stay_id\") # 286 saki occurring after outtime\n",
    "\n",
    "df_demo[\"los_saki-sepsis\"] = (df_demo[\"saki_onset\"] - df_demo[\"sepsis_onset\"]) /1 #24\n",
    "# df_demo[\"los_icu\"] = (df_demo[\"outtime\"] - df_demo[\"intime\"])/24\n",
    "# df_demo[\"los_outtime-saki\"] = (df_demo[\"outtime\"] - df_demo[\"saki_onset\"]) /24\n",
    "\n",
    "# del_lst = df_demo[(df_demo[\"saki_onset\"] < df_demo[\"intime\"]) | (df_demo[\"saki_onset\"] > df_demo[\"outtime\"])].stay_id.unique()\n",
    "# df_eicu_time = df_eicu_time[~df_eicu_time.stay_id.isin(del_lst)]\n",
    "\n",
    "df_eicu_time = df_demo[['stay_id','groupHPD',  'los_saki-sepsis']]#,'los_icu', 'los_outtime-saki']]\n",
    "print(df_demo.shape[0], df_eicu_time.shape[0])\n",
    "df_eicu_time[\"dataset\"] = \"eicu\"\n",
    "\n",
    "df_eicu_time.head()"
   ]
  },
  {
   "cell_type": "markdown",
   "id": "e4320b37",
   "metadata": {},
   "source": [
    "# merge"
   ]
  },
  {
   "cell_type": "code",
   "execution_count": 7,
   "id": "84f5cb2b",
   "metadata": {
    "ExecuteTime": {
     "end_time": "2023-04-24T12:26:11.532679Z",
     "start_time": "2023-04-24T12:26:11.510322Z"
    }
   },
   "outputs": [],
   "source": [
    "df_time_all = pd.concat([df_mimic_time,df_aumcdb_time,df_eicu_time],axis=0)\n",
    "df_time_all.to_csv(\"df_time_all.csv\",index=False)"
   ]
  }
 ],
 "metadata": {
  "kernelspec": {
   "display_name": "Python [conda env:mytensor]",
   "language": "python",
   "name": "conda-env-mytensor-py"
  },
  "language_info": {
   "codemirror_mode": {
    "name": "ipython",
    "version": 3
   },
   "file_extension": ".py",
   "mimetype": "text/x-python",
   "name": "python",
   "nbconvert_exporter": "python",
   "pygments_lexer": "ipython3",
   "version": "3.9.12"
  },
  "toc": {
   "base_numbering": 1,
   "nav_menu": {},
   "number_sections": true,
   "sideBar": true,
   "skip_h1_title": false,
   "title_cell": "Table of Contents",
   "title_sidebar": "Contents",
   "toc_cell": false,
   "toc_position": {},
   "toc_section_display": true,
   "toc_window_display": false
  },
  "varInspector": {
   "cols": {
    "lenName": 16,
    "lenType": 16,
    "lenVar": 40
   },
   "kernels_config": {
    "python": {
     "delete_cmd_postfix": "",
     "delete_cmd_prefix": "del ",
     "library": "var_list.py",
     "varRefreshCmd": "print(var_dic_list())"
    },
    "r": {
     "delete_cmd_postfix": ") ",
     "delete_cmd_prefix": "rm(",
     "library": "var_list.r",
     "varRefreshCmd": "cat(var_dic_list()) "
    }
   },
   "types_to_exclude": [
    "module",
    "function",
    "builtin_function_or_method",
    "instance",
    "_Feature"
   ],
   "window_display": false
  }
 },
 "nbformat": 4,
 "nbformat_minor": 5
}
