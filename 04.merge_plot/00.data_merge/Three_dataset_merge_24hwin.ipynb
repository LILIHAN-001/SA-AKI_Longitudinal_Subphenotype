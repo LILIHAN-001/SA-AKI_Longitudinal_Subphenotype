{
 "cells": [
  {
   "cell_type": "code",
   "execution_count": 1,
   "id": "38cdb95b",
   "metadata": {
    "ExecuteTime": {
     "end_time": "2023-10-17T11:44:56.357142Z",
     "start_time": "2023-10-17T11:44:55.426998Z"
    }
   },
   "outputs": [],
   "source": [
    "import pandas as pd\n",
    "import numpy as np\n",
    "import matplotlib.pyplot as plt\n",
    "pd.options.display.max_rows = 300\n",
    "import math\n",
    "import datetime as dt\n",
    "import itertools\n",
    "import random\n",
    "import scipy.stats as stats\n",
    "import warnings\n",
    "from pandas.core.common import SettingWithCopyWarning\n",
    "warnings.simplefilter(action=\"ignore\", category=SettingWithCopyWarning)\n",
    "from sklearn.preprocessing import scale"
   ]
  },
  {
   "cell_type": "markdown",
   "id": "d2840f9d",
   "metadata": {},
   "source": [
    "# Data Synthesis"
   ]
  },
  {
   "cell_type": "markdown",
   "id": "6191cfbc",
   "metadata": {},
   "source": [
    "## eICU"
   ]
  },
  {
   "cell_type": "code",
   "execution_count": null,
   "id": "9e22d20b",
   "metadata": {
    "ExecuteTime": {
     "end_time": "2023-10-17T11:44:56.475378Z",
     "start_time": "2023-10-17T11:44:56.358612Z"
    }
   },
   "outputs": [],
   "source": [
    "df_type = pd.read_csv(\"../../03.eICU_SAKI_trajCluster/df_mixAK_fea4_C3_eicu.csv\")\n",
    "df_type_filt = df_type.loc[:,[\"stay_id\",\"groupHPD\"]]\n",
    "df_type_filt = df_type_filt.drop_duplicates()\n",
    "all_lst = df_type_filt.stay_id.unique().tolist()\n",
    "print(\"Number of included patients:\",len(all_lst))\n",
    "df_type_filt[\"groupHPD\"].value_counts()"
   ]
  },
  {
   "cell_type": "code",
   "execution_count": 3,
   "id": "46cd0113",
   "metadata": {
    "ExecuteTime": {
     "end_time": "2023-10-17T11:44:56.579538Z",
     "start_time": "2023-10-17T11:44:56.476808Z"
    }
   },
   "outputs": [],
   "source": [
    "df_time = pd.read_csv(\"/public/hanl/jupyter_dir/kidney_sepsis_penotype_v2/00.data_eicu//disease_definition/AKI/eicu_saki_event_time.csv\")\n",
    "df_time = df_time[df_time[\"stay_id\"].isin(all_lst)]\n",
    "df_time = df_time[[\"stay_id\", \"saki_onset\"]]"
   ]
  },
  {
   "cell_type": "code",
   "execution_count": 4,
   "id": "3949fd45",
   "metadata": {
    "ExecuteTime": {
     "end_time": "2023-10-17T11:45:34.723156Z",
     "start_time": "2023-10-17T11:44:56.580929Z"
    }
   },
   "outputs": [],
   "source": [
    "data_dir = \"/public/hanl/jupyter_dir/kidney_sepsis_penotype_v2/00.data_eicu/feature_data/\"\n",
    "infile = data_dir + \"eicu_data_merge.csv\"\n",
    "df_fea = pd.read_csv(infile)\n",
    "df_fea = df_fea[df_fea[\"stay_id\"].isin(all_lst)]\n",
    "df_fea[\"charttime\"] = df_fea[\"charttime\"]/60\n",
    "\n",
    "df_fea_add  = pd.merge(df_fea,df_time, how=\"inner\", on=\"stay_id\")\n",
    "df_fea_add[\"time\"] = (df_fea_add[\"charttime\"] - df_fea_add[\"saki_onset\"])/24\n",
    "df_fea_add[\"time\"] = df_fea_add[\"time\"].map(lambda x:x//1) \n",
    "df_fea_add[\"time\"] = df_fea_add[\"time\"].map(lambda x: x+1 if x>=0 else x)\n",
    "df_fea_add = df_fea_add[(df_fea_add[\"time\"]>=-2) &(df_fea_add[\"time\"]<=7)]\n",
    "\n",
    "df_fea_add = df_fea_add.drop([\"charttime\",\"saki_onset\"],axis=1)\n",
    "df_fea_add_1 = df_fea_add.groupby([\"stay_id\",\"time\"]).agg(\"mean\").reset_index()\n",
    "df_fea_add_1 = df_fea_add_1.drop([\"urineoutput\"],axis=1)\n",
    "df_fea_add_2 = df_fea_add.groupby([\"stay_id\",\"time\"]).agg({\"urineoutput\":\"sum\"}).reset_index()\n",
    "df_fea_add = pd.merge(df_fea_add_1,df_fea_add_2,how=\"inner\",on=[\"stay_id\",\"time\"])"
   ]
  },
  {
   "cell_type": "code",
   "execution_count": null,
   "id": "f2a89e2c",
   "metadata": {
    "ExecuteTime": {
     "end_time": "2023-10-17T11:46:37.108396Z",
     "start_time": "2023-10-17T11:45:34.725514Z"
    }
   },
   "outputs": [],
   "source": [
    "# Interpolation 1\n",
    "tmp_df = pd.DataFrame()\n",
    "df_fea_add = df_fea_add.sort_values(by=[\"stay_id\",\"time\"])\n",
    "for i,j in df_fea_add.groupby([\"stay_id\"]):\n",
    "    j = j.fillna(method=\"ffill\")\n",
    "    tmp_df = pd.concat([tmp_df, j], axis=0)\n",
    "df_im = tmp_df\n",
    "\n",
    "# Interpolation 2\n",
    "import miceforest as mf\n",
    "kernel = mf.ImputationKernel(\n",
    "    df_im,\n",
    "    datasets=3,\n",
    "    save_all_iterations=True,\n",
    "    random_state=10\n",
    ")\n",
    "kernel.mice(iterations = 3, n_jobs=-1)\n",
    "df_im2 = kernel.complete_data(dataset=1)"
   ]
  },
  {
   "cell_type": "code",
   "execution_count": 6,
   "id": "1db3c57c",
   "metadata": {
    "ExecuteTime": {
     "end_time": "2023-10-17T11:46:37.133218Z",
     "start_time": "2023-10-17T11:46:37.109834Z"
    }
   },
   "outputs": [
    {
     "data": {
      "text/html": [
       "<div>\n",
       "<style scoped>\n",
       "    .dataframe tbody tr th:only-of-type {\n",
       "        vertical-align: middle;\n",
       "    }\n",
       "\n",
       "    .dataframe tbody tr th {\n",
       "        vertical-align: top;\n",
       "    }\n",
       "\n",
       "    .dataframe thead th {\n",
       "        text-align: right;\n",
       "    }\n",
       "</style>\n",
       "<table border=\"1\" class=\"dataframe\">\n",
       "  <thead>\n",
       "    <tr style=\"text-align: right;\">\n",
       "      <th></th>\n",
       "      <th>stay_id</th>\n",
       "      <th>time</th>\n",
       "      <th>fio2</th>\n",
       "      <th>po2</th>\n",
       "      <th>pco2</th>\n",
       "      <th>ph</th>\n",
       "      <th>aniongap</th>\n",
       "      <th>baseexcess</th>\n",
       "      <th>peep</th>\n",
       "      <th>albumin</th>\n",
       "      <th>...</th>\n",
       "      <th>heart_rate</th>\n",
       "      <th>resp_rate</th>\n",
       "      <th>spo2</th>\n",
       "      <th>temperature</th>\n",
       "      <th>sbp</th>\n",
       "      <th>dbp</th>\n",
       "      <th>mbp</th>\n",
       "      <th>urineoutput</th>\n",
       "      <th>groupHPD</th>\n",
       "      <th>dataset</th>\n",
       "    </tr>\n",
       "  </thead>\n",
       "  <tbody>\n",
       "    <tr>\n",
       "      <th>0</th>\n",
       "      <td>243208</td>\n",
       "      <td>-1.0</td>\n",
       "      <td>0.7</td>\n",
       "      <td>66.2</td>\n",
       "      <td>37.0</td>\n",
       "      <td>7.56</td>\n",
       "      <td>13.0</td>\n",
       "      <td>3.433333</td>\n",
       "      <td>12.0</td>\n",
       "      <td>1.9</td>\n",
       "      <td>...</td>\n",
       "      <td>96.0</td>\n",
       "      <td>20.8</td>\n",
       "      <td>93.6</td>\n",
       "      <td>37.475</td>\n",
       "      <td>111.2</td>\n",
       "      <td>64.230769</td>\n",
       "      <td>78.678571</td>\n",
       "      <td>400.0</td>\n",
       "      <td>1</td>\n",
       "      <td>eicu</td>\n",
       "    </tr>\n",
       "  </tbody>\n",
       "</table>\n",
       "<p>1 rows × 41 columns</p>\n",
       "</div>"
      ],
      "text/plain": [
       "   stay_id  time  fio2   po2  pco2    ph  aniongap  baseexcess  peep  albumin  \\\n",
       "0   243208  -1.0   0.7  66.2  37.0  7.56      13.0    3.433333  12.0      1.9   \n",
       "\n",
       "   ...  heart_rate  resp_rate  spo2  temperature    sbp        dbp        mbp  \\\n",
       "0  ...        96.0       20.8  93.6       37.475  111.2  64.230769  78.678571   \n",
       "\n",
       "   urineoutput  groupHPD  dataset  \n",
       "0        400.0         1     eicu  \n",
       "\n",
       "[1 rows x 41 columns]"
      ]
     },
     "execution_count": 6,
     "metadata": {},
     "output_type": "execute_result"
    }
   ],
   "source": [
    "df_fea_eicu = pd.merge(df_im2,df_type_filt, how=\"inner\",on=\"stay_id\")\n",
    "df_fea_eicu[\"dataset\"] = \"eicu\"\n",
    "df_fea_eicu.head(1)"
   ]
  },
  {
   "cell_type": "markdown",
   "id": "ed9c3ae7",
   "metadata": {},
   "source": [
    "## aumc"
   ]
  },
  {
   "cell_type": "code",
   "execution_count": null,
   "id": "272bd18d",
   "metadata": {
    "ExecuteTime": {
     "end_time": "2023-10-17T11:46:37.271073Z",
     "start_time": "2023-10-17T11:46:37.134191Z"
    }
   },
   "outputs": [],
   "source": [
    "df_type = pd.read_csv(\"../../02.AUMCdb_SAKI_trajCluster/df_mixAK_fea3_C3_aumc.csv\")\n",
    "df_type_filt = df_type.loc[:,[\"stay_id\",\"groupHPD\"]]\n",
    "df_type_filt = df_type_filt.drop_duplicates()\n",
    "all_lst = df_type_filt.stay_id.unique().tolist()\n",
    "print(\"Number of included patients:\",len(all_lst))\n",
    "df_type_filt[\"groupHPD\"].value_counts()"
   ]
  },
  {
   "cell_type": "code",
   "execution_count": null,
   "id": "c7486cde",
   "metadata": {
    "ExecuteTime": {
     "end_time": "2023-10-17T11:46:41.361658Z",
     "start_time": "2023-10-17T11:46:37.272956Z"
    }
   },
   "outputs": [],
   "source": [
    "df_time = pd.read_csv(\"/public/hanl/jupyter_dir/kidney_sepsis_penotype_v2/00.data_aumc/disease_definition/AKI/aumcdb_sk_event_time.csv\")\n",
    "df_time = df_time[df_time[\"stay_id\"].isin(all_lst)]\n",
    "df_time = df_time[[\"stay_id\", \"saki_onset\"]]\n",
    "\n",
    "# The start of the clinical characteristic criteria is time//60; end is time//60 + 1, which is the hour of admission to the ICU\n",
    "df_fea = pd.read_csv(\"/public/hanl/jupyter_dir/kidney_sepsis_penotype_v2/00.data_aumc/feature_data/aumc_icu_feature.csv\")\n",
    "df_fea_add = pd.merge(df_fea,df_time,how=\"inner\",on=\"stay_id\")\n",
    "df_fea_add[\"time\"] = (df_fea_add[\"charttime\"] - df_fea_add[\"saki_onset\"])/24\n",
    "df_fea_add[\"time\"] = df_fea_add[\"time\"].map(lambda x:x//1) \n",
    "df_fea_add[\"time\"] = df_fea_add[\"time\"].map(lambda x: x+1 if x>=0 else x)\n",
    "df_fea_add = df_fea_add[(df_fea_add[\"time\"]>=-2) &(df_fea_add[\"time\"]<=7)]\n",
    "\n",
    "df_fea_add = df_fea_add.drop([\"charttime\",\"saki_onset\",\"platelet\"],axis=1)\n",
    "df_fea_add_1 = df_fea_add.groupby([\"stay_id\",\"time\"]).agg(\"mean\").reset_index()\n",
    "df_fea_add_1 = df_fea_add_1.drop([\"urineoutput\"],axis=1)\n",
    "df_fea_add_2 = df_fea_add.groupby([\"stay_id\",\"time\"]).agg({\"urineoutput\":\"sum\"}).reset_index()\n",
    "df_fea_add = pd.merge(df_fea_add_1,df_fea_add_2,how=\"inner\",on=[\"stay_id\",\"time\"])"
   ]
  },
  {
   "cell_type": "code",
   "execution_count": null,
   "id": "e1bf4e27",
   "metadata": {
    "ExecuteTime": {
     "end_time": "2023-10-17T11:47:02.838775Z",
     "start_time": "2023-10-17T11:46:41.363239Z"
    }
   },
   "outputs": [],
   "source": [
    "# Interpolation 1\n",
    "tmp_df = pd.DataFrame()\n",
    "df_fea_add = df_fea_add.sort_values(by=[\"stay_id\",\"time\"])\n",
    "for i,j in df_fea_add.groupby([\"stay_id\"]):\n",
    "    j = j.fillna(method=\"ffill\")\n",
    "    tmp_df = pd.concat([tmp_df, j], axis=0)\n",
    "df_im = tmp_df\n",
    "\n",
    "# Interpolation 2\n",
    "kernel = mf.ImputationKernel(\n",
    "    df_im,\n",
    "    datasets=1,\n",
    "    save_all_iterations=True,\n",
    "    random_state=10\n",
    ")\n",
    "kernel.mice(iterations = 3, n_jobs=-1)\n",
    "df_im2 = kernel.complete_data(dataset=0)"
   ]
  },
  {
   "cell_type": "code",
   "execution_count": 10,
   "id": "fd5e6fc5",
   "metadata": {
    "ExecuteTime": {
     "end_time": "2023-10-17T11:47:02.861823Z",
     "start_time": "2023-10-17T11:47:02.840095Z"
    }
   },
   "outputs": [
    {
     "data": {
      "text/html": [
       "<div>\n",
       "<style scoped>\n",
       "    .dataframe tbody tr th:only-of-type {\n",
       "        vertical-align: middle;\n",
       "    }\n",
       "\n",
       "    .dataframe tbody tr th {\n",
       "        vertical-align: top;\n",
       "    }\n",
       "\n",
       "    .dataframe thead th {\n",
       "        text-align: right;\n",
       "    }\n",
       "</style>\n",
       "<table border=\"1\" class=\"dataframe\">\n",
       "  <thead>\n",
       "    <tr style=\"text-align: right;\">\n",
       "      <th></th>\n",
       "      <th>stay_id</th>\n",
       "      <th>time</th>\n",
       "      <th>baseexcess</th>\n",
       "      <th>rbc</th>\n",
       "      <th>mch</th>\n",
       "      <th>mcv</th>\n",
       "      <th>mchc</th>\n",
       "      <th>rdw</th>\n",
       "      <th>wbc</th>\n",
       "      <th>hematocrit</th>\n",
       "      <th>...</th>\n",
       "      <th>gcs</th>\n",
       "      <th>gcs_eyes</th>\n",
       "      <th>gcs_motor</th>\n",
       "      <th>gcs_verbal</th>\n",
       "      <th>po2</th>\n",
       "      <th>pco2</th>\n",
       "      <th>fio2</th>\n",
       "      <th>urineoutput</th>\n",
       "      <th>groupHPD</th>\n",
       "      <th>dataset</th>\n",
       "    </tr>\n",
       "  </thead>\n",
       "  <tbody>\n",
       "    <tr>\n",
       "      <th>0</th>\n",
       "      <td>5</td>\n",
       "      <td>-1.0</td>\n",
       "      <td>4.2</td>\n",
       "      <td>4.7</td>\n",
       "      <td>30.100952</td>\n",
       "      <td>96.0</td>\n",
       "      <td>30.6147</td>\n",
       "      <td>13.9</td>\n",
       "      <td>20.600001</td>\n",
       "      <td>0.443333</td>\n",
       "      <td>...</td>\n",
       "      <td>15.0</td>\n",
       "      <td>4.0</td>\n",
       "      <td>6.0</td>\n",
       "      <td>5.0</td>\n",
       "      <td>162.0</td>\n",
       "      <td>42.0</td>\n",
       "      <td>41.0</td>\n",
       "      <td>40.0</td>\n",
       "      <td>2</td>\n",
       "      <td>aumcdb</td>\n",
       "    </tr>\n",
       "  </tbody>\n",
       "</table>\n",
       "<p>1 rows × 40 columns</p>\n",
       "</div>"
      ],
      "text/plain": [
       "   stay_id  time  baseexcess  rbc        mch   mcv     mchc   rdw        wbc  \\\n",
       "0        5  -1.0         4.2  4.7  30.100952  96.0  30.6147  13.9  20.600001   \n",
       "\n",
       "   hematocrit  ...   gcs  gcs_eyes  gcs_motor  gcs_verbal    po2  pco2  fio2  \\\n",
       "0    0.443333  ...  15.0       4.0        6.0         5.0  162.0  42.0  41.0   \n",
       "\n",
       "   urineoutput  groupHPD  dataset  \n",
       "0         40.0         2   aumcdb  \n",
       "\n",
       "[1 rows x 40 columns]"
      ]
     },
     "execution_count": 10,
     "metadata": {},
     "output_type": "execute_result"
    }
   ],
   "source": [
    "df_fea_aumc = pd.merge(df_im2,df_type_filt, how=\"inner\",on=\"stay_id\")\n",
    "df_fea_aumc[\"dataset\"] = \"aumcdb\"\n",
    "df_fea_aumc.head(1)"
   ]
  },
  {
   "cell_type": "markdown",
   "id": "a86f8f72",
   "metadata": {},
   "source": [
    "## MIMIC "
   ]
  },
  {
   "cell_type": "code",
   "execution_count": null,
   "id": "02c8126c",
   "metadata": {
    "ExecuteTime": {
     "end_time": "2023-10-17T11:47:03.281357Z",
     "start_time": "2023-10-17T11:47:02.864385Z"
    }
   },
   "outputs": [],
   "source": [
    "df_type = pd.read_csv(\"../../01.MIMICIV_SAKI_trajCluster/df_mixAK_fea4_C3.csv\")\n",
    "df_type_filt = df_type.loc[:,[\"stay_id\",\"groupHPD\"]]\n",
    "df_type_filt = df_type_filt.drop_duplicates()\n",
    "all_lst = df_type_filt.stay_id.unique().tolist()\n",
    "print(\"Number of included patients:\",len(all_lst))\n",
    "df_type_filt[\"groupHPD\"].value_counts()"
   ]
  },
  {
   "cell_type": "code",
   "execution_count": null,
   "id": "8fa3362a",
   "metadata": {
    "ExecuteTime": {
     "end_time": "2023-10-17T11:48:33.872465Z",
     "start_time": "2023-10-17T11:47:03.282390Z"
    },
    "run_control": {
     "marked": true
    }
   },
   "outputs": [],
   "source": [
    "df_time = pd.read_csv(\"/public/hanl/jupyter_dir/kidney_sepsis_penotype_v2/00.data_mimic/disease_definition/AKI/sk_event_time.csv\")\n",
    "df_time = df_time[df_time[\"stay_id\"].isin(all_lst)]\n",
    "df_time = df_time[[\"stay_id\",\"saki_onset\"]]\n",
    "df_time[\"saki_onset\"] = pd.to_datetime(df_time[\"saki_onset\"])\n",
    "\n",
    "data_dir = \"/public/hanl/jupyter_dir/kidney_sepsis_penotype_v2/00.data_mimic/feature_data/\"\n",
    "infile = data_dir + \"sk_icu_feature.csv\"\n",
    "df_fea = pd.read_csv(infile)\n",
    "df_fea[\"charttime\"] = pd.to_datetime(df_fea[\"charttime\"])\n",
    "#  condition1: -4 <= time <= 28\n",
    "df_fea_add = pd.merge(df_fea, df_time, how=\"inner\", on=\"stay_id\")\n",
    "df_fea_add[\"time\"] = (df_fea_add[\"charttime\"] - df_fea_add[\"saki_onset\"]).map(lambda x:x/np.timedelta64(24, 'h')).tolist()\n",
    "df_fea_add[\"time\"] = df_fea_add[\"time\"].map(lambda x:x//1) # \n",
    "df_fea_add[\"time\"] = df_fea_add[\"time\"].map(lambda x: x+1 if x>=0 else x)\n",
    "df_fea_add = df_fea_add[(df_fea_add[\"time\"]>=-2) &(df_fea_add[\"time\"]<=7)]\n",
    "\n",
    "df_fea_add = df_fea_add.drop([\"charttime\",\"saki_onset\"],axis=1)\n",
    "df_fea_add_1 = df_fea_add.groupby([\"stay_id\",\"time\"]).agg(\"mean\").reset_index()\n",
    "df_fea_add_1 = df_fea_add_1.drop([\"urineoutput\"],axis=1)\n",
    "df_fea_add_2 = df_fea_add.groupby([\"stay_id\",\"time\"]).agg({\"urineoutput\":\"sum\"}).reset_index()\n",
    "df_fea_add = pd.merge(df_fea_add_1,df_fea_add_2,how=\"inner\",on=[\"stay_id\",\"time\"])"
   ]
  },
  {
   "cell_type": "code",
   "execution_count": null,
   "id": "a465ad5a",
   "metadata": {
    "ExecuteTime": {
     "end_time": "2023-10-17T11:53:35.768489Z",
     "start_time": "2023-10-17T11:48:33.873806Z"
    }
   },
   "outputs": [],
   "source": [
    "# Interpolation 1\n",
    "tmp_df = pd.DataFrame()\n",
    "df_fea_add = df_fea_add.sort_values(by=[\"stay_id\",\"time\"])\n",
    "for i,j in df_fea_add.groupby([\"stay_id\"]):\n",
    "    j = j.fillna(method=\"ffill\")\n",
    "    tmp_df = pd.concat([tmp_df, j], axis=0)\n",
    "df_im = tmp_df\n",
    "\n",
    "# Interpolation 2\n",
    "import miceforest as mf\n",
    "kernel = mf.ImputationKernel(\n",
    "    df_im,\n",
    "    datasets=3,\n",
    "    save_all_iterations=True,\n",
    "    random_state=10\n",
    ")\n",
    "kernel.mice(iterations = 3, n_jobs=-1)\n",
    "df_im2 = kernel.complete_data(dataset=1)"
   ]
  },
  {
   "cell_type": "code",
   "execution_count": 14,
   "id": "4a639e3f",
   "metadata": {
    "ExecuteTime": {
     "end_time": "2023-10-17T11:53:35.793311Z",
     "start_time": "2023-10-17T11:53:35.769917Z"
    },
    "run_control": {
     "marked": true
    }
   },
   "outputs": [
    {
     "data": {
      "text/html": [
       "<div>\n",
       "<style scoped>\n",
       "    .dataframe tbody tr th:only-of-type {\n",
       "        vertical-align: middle;\n",
       "    }\n",
       "\n",
       "    .dataframe tbody tr th {\n",
       "        vertical-align: top;\n",
       "    }\n",
       "\n",
       "    .dataframe thead th {\n",
       "        text-align: right;\n",
       "    }\n",
       "</style>\n",
       "<table border=\"1\" class=\"dataframe\">\n",
       "  <thead>\n",
       "    <tr style=\"text-align: right;\">\n",
       "      <th></th>\n",
       "      <th>stay_id</th>\n",
       "      <th>time</th>\n",
       "      <th>heart_rate</th>\n",
       "      <th>sbp</th>\n",
       "      <th>dbp</th>\n",
       "      <th>mbp</th>\n",
       "      <th>resp_rate</th>\n",
       "      <th>temperature</th>\n",
       "      <th>spo2</th>\n",
       "      <th>glucose</th>\n",
       "      <th>...</th>\n",
       "      <th>sofa</th>\n",
       "      <th>respiration_sofa</th>\n",
       "      <th>coagulation_sofa</th>\n",
       "      <th>liver_sofa</th>\n",
       "      <th>cardiovascular_sofa</th>\n",
       "      <th>cns_sofa</th>\n",
       "      <th>renal_sofa</th>\n",
       "      <th>urineoutput</th>\n",
       "      <th>groupHPD</th>\n",
       "      <th>dataset</th>\n",
       "    </tr>\n",
       "  </thead>\n",
       "  <tbody>\n",
       "    <tr>\n",
       "      <th>0</th>\n",
       "      <td>30003598</td>\n",
       "      <td>-1.0</td>\n",
       "      <td>75.588235</td>\n",
       "      <td>125.470588</td>\n",
       "      <td>59.117647</td>\n",
       "      <td>83.0</td>\n",
       "      <td>18.2</td>\n",
       "      <td>35.963333</td>\n",
       "      <td>100.0</td>\n",
       "      <td>142.0</td>\n",
       "      <td>...</td>\n",
       "      <td>3.857143</td>\n",
       "      <td>2.0</td>\n",
       "      <td>0.0</td>\n",
       "      <td>0.0</td>\n",
       "      <td>1.0</td>\n",
       "      <td>0.0</td>\n",
       "      <td>0.857143</td>\n",
       "      <td>100.0</td>\n",
       "      <td>1</td>\n",
       "      <td>mimic</td>\n",
       "    </tr>\n",
       "  </tbody>\n",
       "</table>\n",
       "<p>1 rows × 90 columns</p>\n",
       "</div>"
      ],
      "text/plain": [
       "    stay_id  time  heart_rate         sbp        dbp   mbp  resp_rate  \\\n",
       "0  30003598  -1.0   75.588235  125.470588  59.117647  83.0       18.2   \n",
       "\n",
       "   temperature   spo2  glucose  ...      sofa  respiration_sofa  \\\n",
       "0    35.963333  100.0    142.0  ...  3.857143               2.0   \n",
       "\n",
       "   coagulation_sofa  liver_sofa  cardiovascular_sofa  cns_sofa  renal_sofa  \\\n",
       "0               0.0         0.0                  1.0       0.0    0.857143   \n",
       "\n",
       "   urineoutput  groupHPD  dataset  \n",
       "0        100.0         1    mimic  \n",
       "\n",
       "[1 rows x 90 columns]"
      ]
     },
     "execution_count": 14,
     "metadata": {},
     "output_type": "execute_result"
    }
   ],
   "source": [
    "df_fea_mimic = pd.merge(df_im2,df_type_filt, how=\"inner\",on=\"stay_id\")\n",
    "df_fea_mimic[\"dataset\"] = \"mimic\"\n",
    "df_fea_mimic.head(1)"
   ]
  },
  {
   "cell_type": "markdown",
   "id": "3bdef216",
   "metadata": {},
   "source": [
    "## merge- The same variable"
   ]
  },
  {
   "cell_type": "code",
   "execution_count": null,
   "id": "6a6ef006",
   "metadata": {
    "ExecuteTime": {
     "end_time": "2023-10-17T11:53:35.863708Z",
     "start_time": "2023-10-17T11:53:35.794272Z"
    }
   },
   "outputs": [],
   "source": [
    "df_fea_mimic = df_fea_mimic.rename(columns={'bilirubin_total':'bilirubin','platelet':'platelets'})\n",
    "# merge\n",
    "fea1st1 = df_fea_mimic.columns.tolist()\n",
    "fea1st2 = df_fea_aumc.columns.tolist()\n",
    "fea1st3 = df_fea_eicu.columns.tolist()\n",
    "fea_select = list(set(fea1st1).intersection(fea1st2,fea1st3))\n",
    "\n",
    "print(\" Common Unique Features :\",fea_select)\n",
    "print(\" Specific features of MIMIC :\",list(set(fea1st1).difference(fea_select)))\n",
    "print(\" Unique features of AUMCdb :\",list(set(fea1st2).difference(fea_select)))\n",
    "print(\" Unique Features of eICU :\",list(set(fea1st3).difference(fea_select)))\n",
    "\n",
    "df_merge = pd.concat([df_fea_aumc,df_fea_mimic,df_fea_eicu],axis=0)\n",
    "df_merge = df_merge[fea_select]\n",
    "all_lst = df_merge.stay_id.unique().tolist()\n",
    "print(len(all_lst))"
   ]
  },
  {
   "cell_type": "code",
   "execution_count": null,
   "id": "b929c394",
   "metadata": {
    "ExecuteTime": {
     "end_time": "2023-10-17T11:54:49.184944Z",
     "start_time": "2023-10-17T11:53:35.864877Z"
    },
    "run_control": {
     "marked": false
    }
   },
   "outputs": [],
   "source": [
    "# There are 16 samples that do not have data with time= -1 and time=-2. Fill them with data with time= 1\n",
    "df_fea = df_merge\n",
    "com_lst = []\n",
    "for i in df_fea.stay_id.unique().tolist():\n",
    "    min_t = -2 \n",
    "    max_t = int(max(df_fea[df_fea.stay_id==i].time))\n",
    "    for j in range(min_t,max_t+1,1):\n",
    "        com_lst.append([i,j])\n",
    "df_complete = pd.DataFrame(com_lst,columns=[\"stay_id\", \"time\"])  \n",
    "df_fea = pd.merge(df_complete, df_merge, how=\"left\", on=[\"stay_id\",\"time\"])\n",
    "df_fea = df_fea[df_fea[\"time\"]!=0]\n",
    "\n",
    "df_fea = df_fea.sort_values([\"stay_id\",\"time\"])\n",
    "df_fea[\"stay_id_copy\"] = df_fea[\"stay_id\"]\n",
    "df_fea = df_fea.groupby(['stay_id_copy']).transform(lambda x: x.fillna(method='ffill').fillna(method='bfill'))\n",
    "df_fea.to_csv(\"df_saki_timeseries_feature_24h.csv\",index=False) "
   ]
  },
  {
   "cell_type": "markdown",
   "id": "386d6c40",
   "metadata": {},
   "source": [
    "## merge- All variables"
   ]
  },
  {
   "cell_type": "code",
   "execution_count": null,
   "id": "b36fa514",
   "metadata": {
    "ExecuteTime": {
     "end_time": "2023-10-17T11:54:49.265844Z",
     "start_time": "2023-10-17T11:54:49.186191Z"
    }
   },
   "outputs": [],
   "source": [
    "df_fea_mimic = df_fea_mimic.rename(columns={'bilirubin_total':'bilirubin','platelet':'platelets'})\n",
    "# merge\n",
    "fea1st1 = df_fea_mimic.columns.tolist()\n",
    "fea1st2 = df_fea_aumc.columns.tolist()\n",
    "fea1st3 = df_fea_eicu.columns.tolist()\n",
    "fea_select = list(set(fea1st1).intersection(fea1st2,fea1st3))\n",
    "add_feature = ['bilirubin', 'platelets','inr','pt', 'ptt' ,'alp', 'ast','alt','bun']\n",
    "\n",
    "print(\" Common Unique Features :\",fea_select)\n",
    "print(\" Specific features of MIMIC :\",list(set(fea1st1).difference(fea_select)))\n",
    "print(\" Unique features of AUMCdb :\",list(set(fea1st2).difference(fea_select)))\n",
    "print(\" Unique Features of eICU :\",list(set(fea1st3).difference(fea_select)))\n",
    "\n",
    "fea_select.extend(add_feature)\n",
    "df_merge = pd.concat([df_fea_aumc,df_fea_mimic,df_fea_eicu],axis=0)\n",
    "df_merge = df_merge[fea_select]\n",
    "all_lst = df_merge.stay_id.unique().tolist()\n",
    "print(len(all_lst))"
   ]
  },
  {
   "cell_type": "code",
   "execution_count": 18,
   "id": "0a648f96",
   "metadata": {
    "ExecuteTime": {
     "end_time": "2023-10-17T11:54:49.279335Z",
     "start_time": "2023-10-17T11:54:49.267030Z"
    }
   },
   "outputs": [
    {
     "data": {
      "text/html": [
       "<div>\n",
       "<style scoped>\n",
       "    .dataframe tbody tr th:only-of-type {\n",
       "        vertical-align: middle;\n",
       "    }\n",
       "\n",
       "    .dataframe tbody tr th {\n",
       "        vertical-align: top;\n",
       "    }\n",
       "\n",
       "    .dataframe thead th {\n",
       "        text-align: right;\n",
       "    }\n",
       "</style>\n",
       "<table border=\"1\" class=\"dataframe\">\n",
       "  <thead>\n",
       "    <tr style=\"text-align: right;\">\n",
       "      <th></th>\n",
       "      <th>dataset</th>\n",
       "      <th>stay_id</th>\n",
       "    </tr>\n",
       "  </thead>\n",
       "  <tbody>\n",
       "    <tr>\n",
       "      <th>0</th>\n",
       "      <td>aumcdb</td>\n",
       "      <td>5</td>\n",
       "    </tr>\n",
       "    <tr>\n",
       "      <th>4</th>\n",
       "      <td>aumcdb</td>\n",
       "      <td>15</td>\n",
       "    </tr>\n",
       "    <tr>\n",
       "      <th>12</th>\n",
       "      <td>aumcdb</td>\n",
       "      <td>20</td>\n",
       "    </tr>\n",
       "    <tr>\n",
       "      <th>20</th>\n",
       "      <td>aumcdb</td>\n",
       "      <td>35</td>\n",
       "    </tr>\n",
       "    <tr>\n",
       "      <th>28</th>\n",
       "      <td>aumcdb</td>\n",
       "      <td>38</td>\n",
       "    </tr>\n",
       "    <tr>\n",
       "      <th>...</th>\n",
       "      <td>...</td>\n",
       "      <td>...</td>\n",
       "    </tr>\n",
       "    <tr>\n",
       "      <th>12650</th>\n",
       "      <td>eicu</td>\n",
       "      <td>3338104</td>\n",
       "    </tr>\n",
       "    <tr>\n",
       "      <th>12655</th>\n",
       "      <td>eicu</td>\n",
       "      <td>3340575</td>\n",
       "    </tr>\n",
       "    <tr>\n",
       "      <th>12664</th>\n",
       "      <td>eicu</td>\n",
       "      <td>3344660</td>\n",
       "    </tr>\n",
       "    <tr>\n",
       "      <th>12672</th>\n",
       "      <td>eicu</td>\n",
       "      <td>3346371</td>\n",
       "    </tr>\n",
       "    <tr>\n",
       "      <th>12677</th>\n",
       "      <td>eicu</td>\n",
       "      <td>3348244</td>\n",
       "    </tr>\n",
       "  </tbody>\n",
       "</table>\n",
       "<p>8852 rows × 2 columns</p>\n",
       "</div>"
      ],
      "text/plain": [
       "      dataset  stay_id\n",
       "0      aumcdb        5\n",
       "4      aumcdb       15\n",
       "12     aumcdb       20\n",
       "20     aumcdb       35\n",
       "28     aumcdb       38\n",
       "...       ...      ...\n",
       "12650    eicu  3338104\n",
       "12655    eicu  3340575\n",
       "12664    eicu  3344660\n",
       "12672    eicu  3346371\n",
       "12677    eicu  3348244\n",
       "\n",
       "[8852 rows x 2 columns]"
      ]
     },
     "execution_count": 18,
     "metadata": {},
     "output_type": "execute_result"
    }
   ],
   "source": [
    "df_merge[[\"dataset\",\"stay_id\"]].drop_duplicates()"
   ]
  },
  {
   "cell_type": "code",
   "execution_count": null,
   "id": "94dcced9",
   "metadata": {
    "ExecuteTime": {
     "end_time": "2023-10-17T11:56:23.825857Z",
     "start_time": "2023-10-17T11:54:49.280332Z"
    },
    "run_control": {
     "marked": true
    }
   },
   "outputs": [
    {
     "data": {
      "text/html": [
       "<div>\n",
       "<style scoped>\n",
       "    .dataframe tbody tr th:only-of-type {\n",
       "        vertical-align: middle;\n",
       "    }\n",
       "\n",
       "    .dataframe tbody tr th {\n",
       "        vertical-align: top;\n",
       "    }\n",
       "\n",
       "    .dataframe thead th {\n",
       "        text-align: right;\n",
       "    }\n",
       "</style>\n",
       "<table border=\"1\" class=\"dataframe\">\n",
       "  <thead>\n",
       "    <tr style=\"text-align: right;\">\n",
       "      <th></th>\n",
       "      <th>dataset</th>\n",
       "      <th>stay_id</th>\n",
       "    </tr>\n",
       "  </thead>\n",
       "  <tbody>\n",
       "    <tr>\n",
       "      <th>0</th>\n",
       "      <td>aumcdb</td>\n",
       "      <td>5</td>\n",
       "    </tr>\n",
       "    <tr>\n",
       "      <th>6</th>\n",
       "      <td>aumcdb</td>\n",
       "      <td>15</td>\n",
       "    </tr>\n",
       "    <tr>\n",
       "      <th>16</th>\n",
       "      <td>aumcdb</td>\n",
       "      <td>20</td>\n",
       "    </tr>\n",
       "    <tr>\n",
       "      <th>26</th>\n",
       "      <td>aumcdb</td>\n",
       "      <td>35</td>\n",
       "    </tr>\n",
       "    <tr>\n",
       "      <th>36</th>\n",
       "      <td>aumcdb</td>\n",
       "      <td>38</td>\n",
       "    </tr>\n",
       "    <tr>\n",
       "      <th>...</th>\n",
       "      <td>...</td>\n",
       "      <td>...</td>\n",
       "    </tr>\n",
       "    <tr>\n",
       "      <th>52582</th>\n",
       "      <td>mimic</td>\n",
       "      <td>39985287</td>\n",
       "    </tr>\n",
       "    <tr>\n",
       "      <th>52592</th>\n",
       "      <td>mimic</td>\n",
       "      <td>39989733</td>\n",
       "    </tr>\n",
       "    <tr>\n",
       "      <th>52599</th>\n",
       "      <td>mimic</td>\n",
       "      <td>39992167</td>\n",
       "    </tr>\n",
       "    <tr>\n",
       "      <th>52609</th>\n",
       "      <td>mimic</td>\n",
       "      <td>39993683</td>\n",
       "    </tr>\n",
       "    <tr>\n",
       "      <th>52615</th>\n",
       "      <td>mimic</td>\n",
       "      <td>39993968</td>\n",
       "    </tr>\n",
       "  </tbody>\n",
       "</table>\n",
       "<p>8852 rows × 2 columns</p>\n",
       "</div>"
      ],
      "text/plain": [
       "      dataset   stay_id\n",
       "0      aumcdb         5\n",
       "6      aumcdb        15\n",
       "16     aumcdb        20\n",
       "26     aumcdb        35\n",
       "36     aumcdb        38\n",
       "...       ...       ...\n",
       "52582   mimic  39985287\n",
       "52592   mimic  39989733\n",
       "52599   mimic  39992167\n",
       "52609   mimic  39993683\n",
       "52615   mimic  39993968\n",
       "\n",
       "[8852 rows x 2 columns]"
      ]
     },
     "execution_count": 19,
     "metadata": {},
     "output_type": "execute_result"
    }
   ],
   "source": [
    "df_fea = df_merge\n",
    "com_lst = []\n",
    "for i in df_fea.stay_id.unique().tolist():\n",
    "    min_t = -2 \n",
    "    max_t = int(max(df_fea[df_fea.stay_id==i].time))\n",
    "    for j in range(min_t,max_t+1,1):\n",
    "        com_lst.append([i,j])\n",
    "df_complete = pd.DataFrame(com_lst,columns=[\"stay_id\", \"time\"])  \n",
    "df_fea = pd.merge(df_complete, df_merge, how=\"left\", on=[\"stay_id\",\"time\"])\n",
    "df_fea = df_fea[df_fea[\"time\"]!=0]\n",
    "\n",
    "df_fea = df_fea.sort_values([\"stay_id\",\"time\"])\n",
    "df_fea[\"stay_id_copy\"] = df_fea[\"stay_id\"]\n",
    "df_fea = df_fea.groupby(['stay_id_copy']).transform(lambda x: x.fillna(method='ffill').fillna(method='bfill'))\n",
    "df_fea.to_csv(\"df_saki_timeseries_feature_all_24h.csv\",index=False)\n",
    "df_fea[[\"dataset\",\"stay_id\"]].drop_duplicates()"
   ]
  }
 ],
 "metadata": {
  "kernelspec": {
   "display_name": "Python [conda env:mytensor]",
   "language": "python",
   "name": "conda-env-mytensor-py"
  },
  "language_info": {
   "codemirror_mode": {
    "name": "ipython",
    "version": 3
   },
   "file_extension": ".py",
   "mimetype": "text/x-python",
   "name": "python",
   "nbconvert_exporter": "python",
   "pygments_lexer": "ipython3",
   "version": "3.9.12"
  },
  "toc": {
   "base_numbering": 1,
   "nav_menu": {},
   "number_sections": true,
   "sideBar": true,
   "skip_h1_title": false,
   "title_cell": "Table of Contents",
   "title_sidebar": "Contents",
   "toc_cell": false,
   "toc_position": {
    "height": "calc(100% - 180px)",
    "left": "10px",
    "top": "150px",
    "width": "182.442px"
   },
   "toc_section_display": true,
   "toc_window_display": true
  },
  "varInspector": {
   "cols": {
    "lenName": 16,
    "lenType": 16,
    "lenVar": 40
   },
   "kernels_config": {
    "python": {
     "delete_cmd_postfix": "",
     "delete_cmd_prefix": "del ",
     "library": "var_list.py",
     "varRefreshCmd": "print(var_dic_list())"
    },
    "r": {
     "delete_cmd_postfix": ") ",
     "delete_cmd_prefix": "rm(",
     "library": "var_list.r",
     "varRefreshCmd": "cat(var_dic_list()) "
    }
   },
   "types_to_exclude": [
    "module",
    "function",
    "builtin_function_or_method",
    "instance",
    "_Feature"
   ],
   "window_display": false
  }
 },
 "nbformat": 4,
 "nbformat_minor": 5
}
