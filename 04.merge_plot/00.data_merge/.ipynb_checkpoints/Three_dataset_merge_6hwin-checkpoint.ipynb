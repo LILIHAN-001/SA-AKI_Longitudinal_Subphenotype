{
 "cells": [
  {
   "cell_type": "code",
   "execution_count": 1,
   "id": "38cdb95b",
   "metadata": {
    "ExecuteTime": {
     "end_time": "2023-12-14T12:05:18.694153Z",
     "start_time": "2023-12-14T12:05:17.706465Z"
    }
   },
   "outputs": [],
   "source": [
    "import pandas as pd\n",
    "import numpy as np\n",
    "import matplotlib.pyplot as plt\n",
    "pd.options.display.max_rows = 300\n",
    "import math\n",
    "import datetime as dt\n",
    "import itertools\n",
    "import random\n",
    "import scipy.stats as stats\n",
    "import warnings\n",
    "from pandas.core.common import SettingWithCopyWarning\n",
    "warnings.simplefilter(action=\"ignore\", category=SettingWithCopyWarning)\n",
    "from sklearn.preprocessing import scale"
   ]
  },
  {
   "cell_type": "markdown",
   "id": "d2840f9d",
   "metadata": {},
   "source": [
    "# 数据合成"
   ]
  },
  {
   "cell_type": "markdown",
   "id": "6191cfbc",
   "metadata": {},
   "source": [
    "## eICU"
   ]
  },
  {
   "cell_type": "code",
   "execution_count": 2,
   "id": "9e22d20b",
   "metadata": {
    "ExecuteTime": {
     "end_time": "2023-12-14T12:05:18.873736Z",
     "start_time": "2023-12-14T12:05:18.695366Z"
    }
   },
   "outputs": [
    {
     "name": "stdout",
     "output_type": "stream",
     "text": [
      "纳入患者数量： 1417\n"
     ]
    },
    {
     "data": {
      "text/html": [
       "<div>\n",
       "<style scoped>\n",
       "    .dataframe tbody tr th:only-of-type {\n",
       "        vertical-align: middle;\n",
       "    }\n",
       "\n",
       "    .dataframe tbody tr th {\n",
       "        vertical-align: top;\n",
       "    }\n",
       "\n",
       "    .dataframe thead th {\n",
       "        text-align: right;\n",
       "    }\n",
       "</style>\n",
       "<table border=\"1\" class=\"dataframe\">\n",
       "  <thead>\n",
       "    <tr style=\"text-align: right;\">\n",
       "      <th></th>\n",
       "      <th>stay_id</th>\n",
       "      <th>time</th>\n",
       "      <th>fio2</th>\n",
       "      <th>po2</th>\n",
       "      <th>pco2</th>\n",
       "      <th>ph</th>\n",
       "      <th>aniongap</th>\n",
       "      <th>baseexcess</th>\n",
       "      <th>urineoutput</th>\n",
       "      <th>albumin</th>\n",
       "      <th>...</th>\n",
       "      <th>heart_rate</th>\n",
       "      <th>resp_rate</th>\n",
       "      <th>spo2</th>\n",
       "      <th>temperature</th>\n",
       "      <th>mbp</th>\n",
       "      <th>sbp</th>\n",
       "      <th>dbp</th>\n",
       "      <th>crea_divide_basecrea</th>\n",
       "      <th>groupHPD</th>\n",
       "      <th>dataset</th>\n",
       "    </tr>\n",
       "  </thead>\n",
       "  <tbody>\n",
       "    <tr>\n",
       "      <th>0</th>\n",
       "      <td>243208</td>\n",
       "      <td>-2.0</td>\n",
       "      <td>0.8</td>\n",
       "      <td>72.0</td>\n",
       "      <td>35.1</td>\n",
       "      <td>7.381</td>\n",
       "      <td>13.0</td>\n",
       "      <td>-3.0</td>\n",
       "      <td>0.0</td>\n",
       "      <td>3.2</td>\n",
       "      <td>...</td>\n",
       "      <td>107.0</td>\n",
       "      <td>21.0</td>\n",
       "      <td>93.5</td>\n",
       "      <td>37.45</td>\n",
       "      <td>57.1</td>\n",
       "      <td>87.166667</td>\n",
       "      <td>41.0</td>\n",
       "      <td>1.0</td>\n",
       "      <td>2</td>\n",
       "      <td>eicu</td>\n",
       "    </tr>\n",
       "  </tbody>\n",
       "</table>\n",
       "<p>1 rows × 38 columns</p>\n",
       "</div>"
      ],
      "text/plain": [
       "   stay_id  time  fio2   po2  pco2     ph  aniongap  baseexcess  urineoutput  \\\n",
       "0   243208  -2.0   0.8  72.0  35.1  7.381      13.0        -3.0          0.0   \n",
       "\n",
       "   albumin  ...  heart_rate  resp_rate  spo2  temperature   mbp        sbp  \\\n",
       "0      3.2  ...       107.0       21.0  93.5        37.45  57.1  87.166667   \n",
       "\n",
       "    dbp  crea_divide_basecrea  groupHPD  dataset  \n",
       "0  41.0                   1.0         2     eicu  \n",
       "\n",
       "[1 rows x 38 columns]"
      ]
     },
     "execution_count": 2,
     "metadata": {},
     "output_type": "execute_result"
    }
   ],
   "source": [
    "df_type = pd.read_csv(\"../../03.eICU_SAKI_trajCluster/df_mixAK_fea4_C3_eicu.csv\")\n",
    "df_type_filt = df_type.loc[:,[\"stay_id\",\"groupHPD\"]]\n",
    "df_type_filt = df_type_filt.drop_duplicates()\n",
    "all_lst = df_type_filt.stay_id.unique().tolist()\n",
    "print(\"纳入患者数量：\",len(all_lst))\n",
    "df_type_filt[\"groupHPD\"].value_counts()\n",
    "\n",
    "df_fea_eicu = pd.read_csv(\"../../03.eICU_SAKI_trajCluster/sk_feature_timescale_Fb2_eicu.csv\")\n",
    "df_fea_eicu = pd.merge(df_fea_eicu,df_type_filt, how=\"inner\",on=\"stay_id\")\n",
    "df_fea_eicu[\"dataset\"] = \"eicu\"\n",
    "df_fea_eicu.head(1)"
   ]
  },
  {
   "cell_type": "code",
   "execution_count": 3,
   "id": "5f39aada",
   "metadata": {
    "ExecuteTime": {
     "end_time": "2023-12-14T12:05:18.876468Z",
     "start_time": "2023-12-14T12:05:18.874997Z"
    }
   },
   "outputs": [],
   "source": [
    "# df_fea_eicu[\"temperature\"].hist()\n",
    "# plt.show()"
   ]
  },
  {
   "cell_type": "markdown",
   "id": "ed9c3ae7",
   "metadata": {},
   "source": [
    "## aumc"
   ]
  },
  {
   "cell_type": "code",
   "execution_count": 4,
   "id": "202d40bd",
   "metadata": {
    "ExecuteTime": {
     "end_time": "2023-12-14T12:05:19.803390Z",
     "start_time": "2023-12-14T12:05:18.877592Z"
    }
   },
   "outputs": [
    {
     "name": "stdout",
     "output_type": "stream",
     "text": [
      "纳入患者数量： 2183\n"
     ]
    }
   ],
   "source": [
    "df_type = pd.read_csv(\"../../02.AUMCdb_SAKI_trajCluster/df_mixAK_fea3_C3_aumc.csv\")\n",
    "df_type_filt = df_type.loc[:,[\"stay_id\",\"groupHPD\"]]\n",
    "df_type_filt = df_type_filt.drop_duplicates()\n",
    "all_lst = df_type_filt.stay_id.unique().tolist()\n",
    "print(\"纳入患者数量：\",len(all_lst))\n",
    "df_type_filt[\"groupHPD\"].value_counts()\n",
    "\n",
    "df_fea_aumc = pd.read_csv(\"../../02.AUMCdb_SAKI_trajCluster/sk_feature_timescale_Fb2_aumc.csv\")\n",
    "df_fea_aumc.loc[df_fea_aumc[\"hemoglobin\"]>1000,\"hemoglobin\"] = np.nan\n",
    "df_fea_aumc.loc[df_fea_aumc[\"calcium\"]>25,\"calcium\"] = np.nan\n",
    "df_fea_aumc['calcium'] = df_fea_aumc.groupby('stay_id')['calcium'].fillna(method='ffill').fillna(method='bfill')\n",
    "df_fea_aumc['hemoglobin'] = df_fea_aumc.groupby('stay_id')['hemoglobin'].fillna(method='ffill')\n",
    "\n",
    "# df_fea_aumc = pd.merge(df_fea_aumc,df_type_filt, how=\"inner\",on=\"stay_id\")\n",
    "# df_fea_aumc[\"dataset\"] = \"aumcdb\"\n",
    "# df_fea_aumc.head(1)"
   ]
  },
  {
   "cell_type": "code",
   "execution_count": 5,
   "id": "a55ef8e2",
   "metadata": {
    "ExecuteTime": {
     "end_time": "2023-12-14T12:05:44.204533Z",
     "start_time": "2023-12-14T12:05:19.804483Z"
    }
   },
   "outputs": [],
   "source": [
    "### 添加胆红素 bilirubin ##\n",
    "# 获取saki 发生时间\n",
    "df_saki = pd.read_csv(\"/public/hanl/jupyter_dir/kidney_sepsis_penotype_v3/00.data_aumc/disease_definition/AKI/aumcdb_sk_event_time.csv\")\n",
    "df_saki = df_saki[df_saki[\"stay_id\"].isin(all_lst)]\n",
    "df_saki = df_saki[[\"stay_id\", \"saki_onset\"]]\n",
    "\n",
    "# 获取胆红素时间\n",
    "df_bi = pd.read_csv(\"/public/hanl/jupyter_dir/database/AMUCdb/raw/feature/bilirubin.csv\")\n",
    "df_bi = df_bi[[\"admissionid\",\"measuredat\",\"value\"]]\n",
    "df_bi.columns = [\"stay_id\",\"measuredat\",\"bilirubin\"]\n",
    "df_bi[\"charttime\"] = df_bi[\"measuredat\"]/(1000*60*60)\n",
    "\n",
    "df_bi = pd.merge(df_bi,df_saki,how=\"inner\",on=\"stay_id\")\n",
    "df_bi[\"time\"] = (df_bi[\"charttime\"] - df_bi[\"saki_onset\"])//6\n",
    "df_bi[\"time\"] = df_bi[\"time\"].map(lambda x:x//1) \n",
    "df_bi[\"time\"] = df_bi[\"time\"].map(lambda x: x+1 if x>=0 else x)\n",
    "df_bi = df_bi.drop([\"charttime\",\"saki_onset\",\"measuredat\"],axis=1)\n",
    "df_bi = df_bi.groupby([\"stay_id\",\"time\"]).agg(\"mean\").reset_index()\n",
    "df_bi = df_bi[(df_bi[\"time\"]>=-2) &(df_bi[\"time\"]<=28)]\n",
    "\n",
    "# 插补\n",
    "df_m = pd.merge(df_fea_aumc,df_bi,how=\"outer\",on=[\"stay_id\",\"time\"])\n",
    "df_m = df_m.sort_values([\"stay_id\",\"time\"])\n",
    "df_m[\"stay_id_copy\"] = df_m[\"stay_id\"]\n",
    "df_m = df_m.groupby(['stay_id_copy']).transform(lambda x: x.fillna(method='ffill').fillna(method='bfill'))\n",
    "\n",
    "# 多重插补\n",
    "import miceforest as mf\n",
    "kernel = mf.ImputationKernel(\n",
    "    df_m,\n",
    "    datasets=3,\n",
    "    save_all_iterations=True,\n",
    "    random_state=10\n",
    ")\n",
    "kernel.mice(iterations = 3, n_jobs=-1)\n",
    "df_m2 = kernel.complete_data(dataset=1)\n"
   ]
  },
  {
   "cell_type": "code",
   "execution_count": 6,
   "id": "31b34435",
   "metadata": {
    "ExecuteTime": {
     "end_time": "2023-12-14T12:05:44.230030Z",
     "start_time": "2023-12-14T12:05:44.206117Z"
    },
    "run_control": {
     "marked": true
    }
   },
   "outputs": [
    {
     "data": {
      "text/html": [
       "<div>\n",
       "<style scoped>\n",
       "    .dataframe tbody tr th:only-of-type {\n",
       "        vertical-align: middle;\n",
       "    }\n",
       "\n",
       "    .dataframe tbody tr th {\n",
       "        vertical-align: top;\n",
       "    }\n",
       "\n",
       "    .dataframe thead th {\n",
       "        text-align: right;\n",
       "    }\n",
       "</style>\n",
       "<table border=\"1\" class=\"dataframe\">\n",
       "  <thead>\n",
       "    <tr style=\"text-align: right;\">\n",
       "      <th></th>\n",
       "      <th>stay_id</th>\n",
       "      <th>time</th>\n",
       "      <th>baseexcess</th>\n",
       "      <th>wbc</th>\n",
       "      <th>hematocrit</th>\n",
       "      <th>hemoglobin</th>\n",
       "      <th>pt</th>\n",
       "      <th>ptt</th>\n",
       "      <th>dbp</th>\n",
       "      <th>mbp</th>\n",
       "      <th>...</th>\n",
       "      <th>chloride</th>\n",
       "      <th>creatinine</th>\n",
       "      <th>po2</th>\n",
       "      <th>pco2</th>\n",
       "      <th>fio2</th>\n",
       "      <th>urineoutput</th>\n",
       "      <th>crea_divide_basecrea</th>\n",
       "      <th>bilirubin</th>\n",
       "      <th>groupHPD</th>\n",
       "      <th>dataset</th>\n",
       "    </tr>\n",
       "  </thead>\n",
       "  <tbody>\n",
       "    <tr>\n",
       "      <th>0</th>\n",
       "      <td>5</td>\n",
       "      <td>-1.0</td>\n",
       "      <td>4.2</td>\n",
       "      <td>20.600001</td>\n",
       "      <td>0.443333</td>\n",
       "      <td>14.28686</td>\n",
       "      <td>10.3</td>\n",
       "      <td>34.0</td>\n",
       "      <td>70.2341</td>\n",
       "      <td>84.676544</td>\n",
       "      <td>...</td>\n",
       "      <td>105.0</td>\n",
       "      <td>0.6554</td>\n",
       "      <td>162.0</td>\n",
       "      <td>42.0</td>\n",
       "      <td>41.0</td>\n",
       "      <td>20.0</td>\n",
       "      <td>1.03</td>\n",
       "      <td>5.0</td>\n",
       "      <td>2</td>\n",
       "      <td>aumcdb</td>\n",
       "    </tr>\n",
       "  </tbody>\n",
       "</table>\n",
       "<p>1 rows × 33 columns</p>\n",
       "</div>"
      ],
      "text/plain": [
       "   stay_id  time  baseexcess        wbc  hematocrit  hemoglobin    pt   ptt  \\\n",
       "0        5  -1.0         4.2  20.600001    0.443333    14.28686  10.3  34.0   \n",
       "\n",
       "       dbp        mbp  ...  chloride  creatinine    po2  pco2  fio2  \\\n",
       "0  70.2341  84.676544  ...     105.0      0.6554  162.0  42.0  41.0   \n",
       "\n",
       "   urineoutput  crea_divide_basecrea  bilirubin  groupHPD  dataset  \n",
       "0         20.0                  1.03        5.0         2   aumcdb  \n",
       "\n",
       "[1 rows x 33 columns]"
      ]
     },
     "execution_count": 6,
     "metadata": {},
     "output_type": "execute_result"
    }
   ],
   "source": [
    "df_fea_aumc = pd.merge(df_m2,df_type_filt, how=\"inner\",on=\"stay_id\")\n",
    "df_fea_aumc[\"dataset\"] = \"aumcdb\"\n",
    "df_fea_aumc.head(1)"
   ]
  },
  {
   "cell_type": "code",
   "execution_count": 7,
   "id": "9147e046",
   "metadata": {
    "ExecuteTime": {
     "end_time": "2023-12-14T12:05:44.232771Z",
     "start_time": "2023-12-14T12:05:44.231240Z"
    }
   },
   "outputs": [],
   "source": [
    "# df_fea_aumc[\"temperature\"].hist()\n",
    "# plt.show()"
   ]
  },
  {
   "cell_type": "markdown",
   "id": "a86f8f72",
   "metadata": {},
   "source": [
    "## MIMIC "
   ]
  },
  {
   "cell_type": "code",
   "execution_count": 8,
   "id": "994d30d1",
   "metadata": {
    "ExecuteTime": {
     "end_time": "2023-12-14T12:05:45.181120Z",
     "start_time": "2023-12-14T12:05:44.234870Z"
    }
   },
   "outputs": [
    {
     "name": "stdout",
     "output_type": "stream",
     "text": [
      "纳入患者数量： 4713\n"
     ]
    },
    {
     "data": {
      "text/html": [
       "<div>\n",
       "<style scoped>\n",
       "    .dataframe tbody tr th:only-of-type {\n",
       "        vertical-align: middle;\n",
       "    }\n",
       "\n",
       "    .dataframe tbody tr th {\n",
       "        vertical-align: top;\n",
       "    }\n",
       "\n",
       "    .dataframe thead th {\n",
       "        text-align: right;\n",
       "    }\n",
       "</style>\n",
       "<table border=\"1\" class=\"dataframe\">\n",
       "  <thead>\n",
       "    <tr style=\"text-align: right;\">\n",
       "      <th></th>\n",
       "      <th>stay_id</th>\n",
       "      <th>time</th>\n",
       "      <th>heart_rate</th>\n",
       "      <th>sbp</th>\n",
       "      <th>dbp</th>\n",
       "      <th>mbp</th>\n",
       "      <th>resp_rate</th>\n",
       "      <th>temperature</th>\n",
       "      <th>spo2</th>\n",
       "      <th>glucose</th>\n",
       "      <th>...</th>\n",
       "      <th>sofa</th>\n",
       "      <th>respiration_sofa</th>\n",
       "      <th>coagulation_sofa</th>\n",
       "      <th>liver_sofa</th>\n",
       "      <th>cardiovascular_sofa</th>\n",
       "      <th>cns_sofa</th>\n",
       "      <th>renal_sofa</th>\n",
       "      <th>crea_divide_basecrea</th>\n",
       "      <th>groupHPD</th>\n",
       "      <th>dataset</th>\n",
       "    </tr>\n",
       "  </thead>\n",
       "  <tbody>\n",
       "    <tr>\n",
       "      <th>0</th>\n",
       "      <td>30003598</td>\n",
       "      <td>-2.0</td>\n",
       "      <td>70.25</td>\n",
       "      <td>151.0</td>\n",
       "      <td>59.5</td>\n",
       "      <td>92.75</td>\n",
       "      <td>15.5</td>\n",
       "      <td>36.06</td>\n",
       "      <td>100.0</td>\n",
       "      <td>216.555556</td>\n",
       "      <td>...</td>\n",
       "      <td>3.0</td>\n",
       "      <td>2.0</td>\n",
       "      <td>0.0</td>\n",
       "      <td>0.0</td>\n",
       "      <td>1.0</td>\n",
       "      <td>0.0</td>\n",
       "      <td>0.0</td>\n",
       "      <td>0.64</td>\n",
       "      <td>1</td>\n",
       "      <td>mimic</td>\n",
       "    </tr>\n",
       "  </tbody>\n",
       "</table>\n",
       "<p>1 rows × 73 columns</p>\n",
       "</div>"
      ],
      "text/plain": [
       "    stay_id  time  heart_rate    sbp   dbp    mbp  resp_rate  temperature  \\\n",
       "0  30003598  -2.0       70.25  151.0  59.5  92.75       15.5        36.06   \n",
       "\n",
       "    spo2     glucose  ...  sofa  respiration_sofa  coagulation_sofa  \\\n",
       "0  100.0  216.555556  ...   3.0               2.0               0.0   \n",
       "\n",
       "   liver_sofa  cardiovascular_sofa  cns_sofa  renal_sofa  \\\n",
       "0         0.0                  1.0       0.0         0.0   \n",
       "\n",
       "   crea_divide_basecrea  groupHPD  dataset  \n",
       "0                  0.64         1    mimic  \n",
       "\n",
       "[1 rows x 73 columns]"
      ]
     },
     "execution_count": 8,
     "metadata": {},
     "output_type": "execute_result"
    }
   ],
   "source": [
    "df_type = pd.read_csv(\"../../01.MIMICIV_SAKI_trajCluster/df_mixAK_fea4_C3.csv\")\n",
    "df_type_filt = df_type.loc[:,[\"stay_id\",\"groupHPD\"]]\n",
    "df_type_filt = df_type_filt.drop_duplicates()\n",
    "all_lst = df_type_filt.stay_id.unique().tolist()\n",
    "print(\"纳入患者数量：\",len(all_lst))\n",
    "df_type_filt[\"groupHPD\"].value_counts()\n",
    "\n",
    "df_fea_mimic = pd.read_csv(\"../../01.MIMICIV_SAKI_trajCluster/sk_feature_timescale_Fb2.csv\")\n",
    "df_fea_mimic.loc[df_fea_mimic[\"temperature\"]>1000,\"temperature\"] = np.nan\n",
    "df_fea_mimic = pd.merge(df_fea_mimic,df_type_filt, how=\"inner\",on=\"stay_id\")\n",
    "df_fea_mimic[\"dataset\"] = \"mimic\"\n",
    "df_fea_mimic.head(1)"
   ]
  },
  {
   "cell_type": "code",
   "execution_count": 9,
   "id": "87f1268b",
   "metadata": {
    "ExecuteTime": {
     "end_time": "2023-12-14T12:05:45.184283Z",
     "start_time": "2023-12-14T12:05:45.182699Z"
    }
   },
   "outputs": [],
   "source": [
    "# df_fea_mimic[\"temperature\"].hist()\n",
    "# plt.show()"
   ]
  },
  {
   "cell_type": "markdown",
   "id": "67dbfec7",
   "metadata": {
    "ExecuteTime": {
     "end_time": "2023-04-10T01:59:05.092115Z",
     "start_time": "2023-04-10T01:59:05.088064Z"
    }
   },
   "source": [
    "##  merge-相同变量"
   ]
  },
  {
   "cell_type": "code",
   "execution_count": 10,
   "id": "6a6ef006",
   "metadata": {
    "ExecuteTime": {
     "end_time": "2023-12-14T12:05:45.448449Z",
     "start_time": "2023-12-14T12:05:45.185424Z"
    }
   },
   "outputs": [
    {
     "name": "stdout",
     "output_type": "stream",
     "text": [
      "共同特有的特征: ['aniongap', 'bilirubin', 'po2', 'mbp', 'calcium', 'baseexcess', 'heart_rate', 'temperature', 'hematocrit', 'wbc', 'crea_divide_basecrea', 'dataset', 'bicarbonate', 'time', 'chloride', 'resp_rate', 'groupHPD', 'potassium', 'pco2', 'sbp', 'hemoglobin', 'lactate', 'ph', 'spo2', 'stay_id', 'glucose', 'urineoutput', 'sodium', 'fio2', 'dbp', 'creatinine']\n",
      "MIMIC特有的特征: ['lymphocytes_abs', 'neutrophils_abs', 'liver_sofa', 'eosinophils_abs', 'totalco2', 'bun', 'eosinophils', 'pt', 'alp', 'neutrophils', 'monocytes', 'inr', 'mch', 'respiration_sofa', 'mcv', 'gcs_eyes', 'so2', 'rbc', 'gcs_unable', 'alt', 'lymphocytes', 'ld_ldh', 'monocytes_abs', 'rdw', 'renal_sofa', 'platelets', 'ptt', 'ast', 'gcs_motor', 'basophils', 'mchc', 'sofa', 'pao2fio2ratio', 'basophils_abs', 'gcs_verbal', 'cardiovascular_sofa', 'coagulation_sofa', 'free_calcium', 'aado2', 'albumin', 'gcs', 'cns_sofa']\n",
      "AUMCdb特有的特征: ['ptt', 'pt']\n",
      "eICU特有的特征: ['platelets', 'ast', 'bun', 'alp', 'inr', 'albumin', 'alt']\n",
      "8313\n"
     ]
    }
   ],
   "source": [
    "df_fea_mimic = df_fea_mimic.rename(columns={'bilirubin_total':'bilirubin','platelet':'platelets'})\n",
    "# merge\n",
    "fea1st1 = df_fea_mimic.columns.tolist()\n",
    "fea1st2 = df_fea_aumc.columns.tolist()\n",
    "fea1st3 = df_fea_eicu.columns.tolist()\n",
    "fea_select = list(set(fea1st1).intersection(fea1st2,fea1st3))\n",
    "\n",
    "print(\"共同特有的特征:\",fea_select)\n",
    "print(\"MIMIC特有的特征:\",list(set(fea1st1).difference(fea_select)))\n",
    "print(\"AUMCdb特有的特征:\",list(set(fea1st2).difference(fea_select)))\n",
    "print(\"eICU特有的特征:\",list(set(fea1st3).difference(fea_select)))\n",
    "\n",
    "df_merge = pd.concat([df_fea_aumc,df_fea_mimic,df_fea_eicu],axis=0)\n",
    "df_merge = df_merge[fea_select]\n",
    "all_lst = df_merge.stay_id.unique().tolist()\n",
    "print(len(all_lst))"
   ]
  },
  {
   "cell_type": "code",
   "execution_count": 11,
   "id": "b929c394",
   "metadata": {
    "ExecuteTime": {
     "end_time": "2023-12-14T12:06:59.496923Z",
     "start_time": "2023-12-14T12:05:45.449760Z"
    },
    "run_control": {
     "marked": false
    }
   },
   "outputs": [],
   "source": [
    "# 有16个样本没有 time = -1, time=-2的数据，用time= 1的数据填补\n",
    "df_fea = df_merge\n",
    "com_lst = []\n",
    "for i in df_fea.stay_id.unique().tolist():\n",
    "    min_t = -2 \n",
    "    max_t = int(max(df_fea[df_fea.stay_id==i].time))\n",
    "    for j in range(min_t,max_t+1,1):\n",
    "        com_lst.append([i,j])\n",
    "df_complete = pd.DataFrame(com_lst,columns=[\"stay_id\", \"time\"])  \n",
    "df_fea = pd.merge(df_complete, df_merge, how=\"left\", on=[\"stay_id\",\"time\"])\n",
    "df_fea = df_fea[df_fea[\"time\"]!=0]\n",
    "\n",
    "df_fea = df_fea.sort_values([\"stay_id\",\"time\"])\n",
    "df_fea[\"stay_id_copy\"] = df_fea[\"stay_id\"]\n",
    "df_fea = df_fea.groupby(['stay_id_copy']).transform(lambda x: x.fillna(method='ffill').fillna(method='bfill'))\n",
    "df_fea.to_csv(\"df_saki_timeseries_feature.csv\",index=False) # 三个数据库相交的特征"
   ]
  },
  {
   "cell_type": "markdown",
   "id": "386d6c40",
   "metadata": {},
   "source": [
    "##  merge-所有变量"
   ]
  },
  {
   "cell_type": "code",
   "execution_count": 12,
   "id": "b36fa514",
   "metadata": {
    "ExecuteTime": {
     "end_time": "2023-12-14T12:06:59.755164Z",
     "start_time": "2023-12-14T12:06:59.498518Z"
    }
   },
   "outputs": [
    {
     "name": "stdout",
     "output_type": "stream",
     "text": [
      "共同特有的特征: ['aniongap', 'bilirubin', 'po2', 'mbp', 'calcium', 'baseexcess', 'heart_rate', 'temperature', 'hematocrit', 'wbc', 'crea_divide_basecrea', 'dataset', 'bicarbonate', 'time', 'chloride', 'resp_rate', 'groupHPD', 'potassium', 'pco2', 'sbp', 'hemoglobin', 'lactate', 'ph', 'spo2', 'stay_id', 'glucose', 'urineoutput', 'sodium', 'fio2', 'dbp', 'creatinine']\n",
      "MIMIC特有的特征: ['lymphocytes_abs', 'neutrophils_abs', 'liver_sofa', 'eosinophils_abs', 'totalco2', 'bun', 'eosinophils', 'pt', 'alp', 'neutrophils', 'monocytes', 'inr', 'mch', 'respiration_sofa', 'mcv', 'gcs_eyes', 'so2', 'rbc', 'gcs_unable', 'alt', 'lymphocytes', 'ld_ldh', 'monocytes_abs', 'rdw', 'renal_sofa', 'platelets', 'ptt', 'ast', 'gcs_motor', 'basophils', 'mchc', 'sofa', 'pao2fio2ratio', 'basophils_abs', 'gcs_verbal', 'cardiovascular_sofa', 'coagulation_sofa', 'free_calcium', 'aado2', 'albumin', 'gcs', 'cns_sofa']\n",
      "AUMCdb特有的特征: ['ptt', 'pt']\n",
      "eICU特有的特征: ['platelets', 'ast', 'bun', 'alp', 'inr', 'albumin', 'alt']\n",
      "8313\n"
     ]
    }
   ],
   "source": [
    "df_fea_mimic = df_fea_mimic.rename(columns={'bilirubin_total':'bilirubin','platelet':'platelets'})\n",
    "# merge\n",
    "fea1st1 = df_fea_mimic.columns.tolist()\n",
    "fea1st2 = df_fea_aumc.columns.tolist()\n",
    "fea1st3 = df_fea_eicu.columns.tolist()\n",
    "fea_select = list(set(fea1st1).intersection(fea1st2,fea1st3))\n",
    "add_feature = ['bilirubin', 'platelets','inr','pt', 'ptt' ,'alp', 'ast','alt','bun']\n",
    "\n",
    "print(\"共同特有的特征:\",fea_select)\n",
    "print(\"MIMIC特有的特征:\",list(set(fea1st1).difference(fea_select)))\n",
    "print(\"AUMCdb特有的特征:\",list(set(fea1st2).difference(fea_select)))\n",
    "print(\"eICU特有的特征:\",list(set(fea1st3).difference(fea_select)))\n",
    "\n",
    "fea_select.extend(add_feature)\n",
    "df_merge = pd.concat([df_fea_aumc,df_fea_mimic,df_fea_eicu],axis=0)\n",
    "df_merge = df_merge[fea_select]\n",
    "all_lst = df_merge.stay_id.unique().tolist()\n",
    "print(len(all_lst))"
   ]
  },
  {
   "cell_type": "code",
   "execution_count": 13,
   "id": "0a648f96",
   "metadata": {
    "ExecuteTime": {
     "end_time": "2023-12-14T12:06:59.777438Z",
     "start_time": "2023-12-14T12:06:59.756230Z"
    }
   },
   "outputs": [
    {
     "data": {
      "text/html": [
       "<div>\n",
       "<style scoped>\n",
       "    .dataframe tbody tr th:only-of-type {\n",
       "        vertical-align: middle;\n",
       "    }\n",
       "\n",
       "    .dataframe tbody tr th {\n",
       "        vertical-align: top;\n",
       "    }\n",
       "\n",
       "    .dataframe thead th {\n",
       "        text-align: right;\n",
       "    }\n",
       "</style>\n",
       "<table border=\"1\" class=\"dataframe\">\n",
       "  <thead>\n",
       "    <tr style=\"text-align: right;\">\n",
       "      <th></th>\n",
       "      <th>dataset</th>\n",
       "      <th>stay_id</th>\n",
       "    </tr>\n",
       "  </thead>\n",
       "  <tbody>\n",
       "    <tr>\n",
       "      <th>0</th>\n",
       "      <td>aumcdb</td>\n",
       "      <td>5</td>\n",
       "    </tr>\n",
       "    <tr>\n",
       "      <th>12</th>\n",
       "      <td>aumcdb</td>\n",
       "      <td>15</td>\n",
       "    </tr>\n",
       "    <tr>\n",
       "      <th>41</th>\n",
       "      <td>aumcdb</td>\n",
       "      <td>20</td>\n",
       "    </tr>\n",
       "    <tr>\n",
       "      <th>70</th>\n",
       "      <td>aumcdb</td>\n",
       "      <td>35</td>\n",
       "    </tr>\n",
       "    <tr>\n",
       "      <th>97</th>\n",
       "      <td>aumcdb</td>\n",
       "      <td>38</td>\n",
       "    </tr>\n",
       "    <tr>\n",
       "      <th>...</th>\n",
       "      <td>...</td>\n",
       "      <td>...</td>\n",
       "    </tr>\n",
       "    <tr>\n",
       "      <th>29139</th>\n",
       "      <td>eicu</td>\n",
       "      <td>3247421</td>\n",
       "    </tr>\n",
       "    <tr>\n",
       "      <th>29159</th>\n",
       "      <td>eicu</td>\n",
       "      <td>3329427</td>\n",
       "    </tr>\n",
       "    <tr>\n",
       "      <th>29179</th>\n",
       "      <td>eicu</td>\n",
       "      <td>3338104</td>\n",
       "    </tr>\n",
       "    <tr>\n",
       "      <th>29189</th>\n",
       "      <td>eicu</td>\n",
       "      <td>3340575</td>\n",
       "    </tr>\n",
       "    <tr>\n",
       "      <th>29219</th>\n",
       "      <td>eicu</td>\n",
       "      <td>3344660</td>\n",
       "    </tr>\n",
       "  </tbody>\n",
       "</table>\n",
       "<p>8313 rows × 2 columns</p>\n",
       "</div>"
      ],
      "text/plain": [
       "      dataset  stay_id\n",
       "0      aumcdb        5\n",
       "12     aumcdb       15\n",
       "41     aumcdb       20\n",
       "70     aumcdb       35\n",
       "97     aumcdb       38\n",
       "...       ...      ...\n",
       "29139    eicu  3247421\n",
       "29159    eicu  3329427\n",
       "29179    eicu  3338104\n",
       "29189    eicu  3340575\n",
       "29219    eicu  3344660\n",
       "\n",
       "[8313 rows x 2 columns]"
      ]
     },
     "execution_count": 13,
     "metadata": {},
     "output_type": "execute_result"
    }
   ],
   "source": [
    "df_merge[[\"dataset\",\"stay_id\"]].drop_duplicates()"
   ]
  },
  {
   "cell_type": "code",
   "execution_count": 14,
   "id": "94dcced9",
   "metadata": {
    "ExecuteTime": {
     "end_time": "2023-12-14T12:08:35.978095Z",
     "start_time": "2023-12-14T12:06:59.778389Z"
    },
    "run_control": {
     "marked": true
    }
   },
   "outputs": [
    {
     "data": {
      "text/html": [
       "<div>\n",
       "<style scoped>\n",
       "    .dataframe tbody tr th:only-of-type {\n",
       "        vertical-align: middle;\n",
       "    }\n",
       "\n",
       "    .dataframe tbody tr th {\n",
       "        vertical-align: top;\n",
       "    }\n",
       "\n",
       "    .dataframe thead th {\n",
       "        text-align: right;\n",
       "    }\n",
       "</style>\n",
       "<table border=\"1\" class=\"dataframe\">\n",
       "  <thead>\n",
       "    <tr style=\"text-align: right;\">\n",
       "      <th></th>\n",
       "      <th>dataset</th>\n",
       "      <th>stay_id</th>\n",
       "    </tr>\n",
       "  </thead>\n",
       "  <tbody>\n",
       "    <tr>\n",
       "      <th>0</th>\n",
       "      <td>aumcdb</td>\n",
       "      <td>5</td>\n",
       "    </tr>\n",
       "    <tr>\n",
       "      <th>14</th>\n",
       "      <td>aumcdb</td>\n",
       "      <td>15</td>\n",
       "    </tr>\n",
       "    <tr>\n",
       "      <th>45</th>\n",
       "      <td>aumcdb</td>\n",
       "      <td>20</td>\n",
       "    </tr>\n",
       "    <tr>\n",
       "      <th>76</th>\n",
       "      <td>aumcdb</td>\n",
       "      <td>35</td>\n",
       "    </tr>\n",
       "    <tr>\n",
       "      <th>105</th>\n",
       "      <td>aumcdb</td>\n",
       "      <td>38</td>\n",
       "    </tr>\n",
       "    <tr>\n",
       "      <th>...</th>\n",
       "      <td>...</td>\n",
       "      <td>...</td>\n",
       "    </tr>\n",
       "    <tr>\n",
       "      <th>141975</th>\n",
       "      <td>mimic</td>\n",
       "      <td>39985287</td>\n",
       "    </tr>\n",
       "    <tr>\n",
       "      <th>142003</th>\n",
       "      <td>mimic</td>\n",
       "      <td>39989733</td>\n",
       "    </tr>\n",
       "    <tr>\n",
       "      <th>142020</th>\n",
       "      <td>mimic</td>\n",
       "      <td>39992167</td>\n",
       "    </tr>\n",
       "    <tr>\n",
       "      <th>142051</th>\n",
       "      <td>mimic</td>\n",
       "      <td>39993683</td>\n",
       "    </tr>\n",
       "    <tr>\n",
       "      <th>142063</th>\n",
       "      <td>mimic</td>\n",
       "      <td>39993968</td>\n",
       "    </tr>\n",
       "  </tbody>\n",
       "</table>\n",
       "<p>8313 rows × 2 columns</p>\n",
       "</div>"
      ],
      "text/plain": [
       "       dataset   stay_id\n",
       "0       aumcdb         5\n",
       "14      aumcdb        15\n",
       "45      aumcdb        20\n",
       "76      aumcdb        35\n",
       "105     aumcdb        38\n",
       "...        ...       ...\n",
       "141975   mimic  39985287\n",
       "142003   mimic  39989733\n",
       "142020   mimic  39992167\n",
       "142051   mimic  39993683\n",
       "142063   mimic  39993968\n",
       "\n",
       "[8313 rows x 2 columns]"
      ]
     },
     "execution_count": 14,
     "metadata": {},
     "output_type": "execute_result"
    }
   ],
   "source": [
    "# 有16个样本没有 time = -1, time=-2的数据，用time= 1的数据填补\n",
    "df_fea = df_merge\n",
    "com_lst = []\n",
    "for i in df_fea.stay_id.unique().tolist():\n",
    "    min_t = -2 \n",
    "    max_t = int(max(df_fea[df_fea.stay_id==i].time))\n",
    "    for j in range(min_t,max_t+1,1):\n",
    "        com_lst.append([i,j])\n",
    "df_complete = pd.DataFrame(com_lst,columns=[\"stay_id\", \"time\"])  \n",
    "df_fea = pd.merge(df_complete, df_merge, how=\"left\", on=[\"stay_id\",\"time\"])\n",
    "df_fea = df_fea[df_fea[\"time\"]!=0]\n",
    "\n",
    "df_fea = df_fea.sort_values([\"stay_id\",\"time\"])\n",
    "df_fea[\"stay_id_copy\"] = df_fea[\"stay_id\"]\n",
    "df_fea = df_fea.groupby(['stay_id_copy']).transform(lambda x: x.fillna(method='ffill').fillna(method='bfill'))\n",
    "df_fea.to_csv(\"df_saki_timeseries_feature_all.csv\",index=False)\n",
    "df_fea[[\"dataset\",\"stay_id\"]].drop_duplicates()"
   ]
  },
  {
   "cell_type": "code",
   "execution_count": null,
   "id": "020b2956",
   "metadata": {},
   "outputs": [],
   "source": []
  }
 ],
 "metadata": {
  "kernelspec": {
   "display_name": "Python [conda env:mytensor]",
   "language": "python",
   "name": "conda-env-mytensor-py"
  },
  "language_info": {
   "codemirror_mode": {
    "name": "ipython",
    "version": 3
   },
   "file_extension": ".py",
   "mimetype": "text/x-python",
   "name": "python",
   "nbconvert_exporter": "python",
   "pygments_lexer": "ipython3",
   "version": "3.9.12"
  },
  "toc": {
   "base_numbering": 1,
   "nav_menu": {},
   "number_sections": true,
   "sideBar": true,
   "skip_h1_title": false,
   "title_cell": "Table of Contents",
   "title_sidebar": "Contents",
   "toc_cell": false,
   "toc_position": {
    "height": "calc(100% - 180px)",
    "left": "10px",
    "top": "150px",
    "width": "182.442px"
   },
   "toc_section_display": true,
   "toc_window_display": true
  },
  "varInspector": {
   "cols": {
    "lenName": 16,
    "lenType": 16,
    "lenVar": 40
   },
   "kernels_config": {
    "python": {
     "delete_cmd_postfix": "",
     "delete_cmd_prefix": "del ",
     "library": "var_list.py",
     "varRefreshCmd": "print(var_dic_list())"
    },
    "r": {
     "delete_cmd_postfix": ") ",
     "delete_cmd_prefix": "rm(",
     "library": "var_list.r",
     "varRefreshCmd": "cat(var_dic_list()) "
    }
   },
   "types_to_exclude": [
    "module",
    "function",
    "builtin_function_or_method",
    "instance",
    "_Feature"
   ],
   "window_display": false
  }
 },
 "nbformat": 4,
 "nbformat_minor": 5
}
