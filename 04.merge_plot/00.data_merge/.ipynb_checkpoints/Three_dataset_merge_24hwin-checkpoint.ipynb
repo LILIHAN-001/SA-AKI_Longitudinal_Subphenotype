{
 "cells": [
  {
   "cell_type": "code",
   "execution_count": 1,
   "id": "38cdb95b",
   "metadata": {
    "ExecuteTime": {
     "end_time": "2023-10-17T11:44:56.357142Z",
     "start_time": "2023-10-17T11:44:55.426998Z"
    }
   },
   "outputs": [],
   "source": [
    "import pandas as pd\n",
    "import numpy as np\n",
    "import matplotlib.pyplot as plt\n",
    "pd.options.display.max_rows = 300\n",
    "import math\n",
    "import datetime as dt\n",
    "import itertools\n",
    "import random\n",
    "import scipy.stats as stats\n",
    "import warnings\n",
    "from pandas.core.common import SettingWithCopyWarning\n",
    "warnings.simplefilter(action=\"ignore\", category=SettingWithCopyWarning)\n",
    "from sklearn.preprocessing import scale"
   ]
  },
  {
   "cell_type": "markdown",
   "id": "d2840f9d",
   "metadata": {},
   "source": [
    "# 数据合成"
   ]
  },
  {
   "cell_type": "markdown",
   "id": "6191cfbc",
   "metadata": {},
   "source": [
    "## eICU"
   ]
  },
  {
   "cell_type": "code",
   "execution_count": 2,
   "id": "9e22d20b",
   "metadata": {
    "ExecuteTime": {
     "end_time": "2023-10-17T11:44:56.475378Z",
     "start_time": "2023-10-17T11:44:56.358612Z"
    }
   },
   "outputs": [
    {
     "name": "stdout",
     "output_type": "stream",
     "text": [
      "纳入患者数量： 1970\n"
     ]
    },
    {
     "data": {
      "text/plain": [
       "2    1136\n",
       "1     648\n",
       "3     186\n",
       "Name: groupHPD, dtype: int64"
      ]
     },
     "execution_count": 2,
     "metadata": {},
     "output_type": "execute_result"
    }
   ],
   "source": [
    "df_type = pd.read_csv(\"../../03.eICU_SAKI_trajCluster/df_mixAK_fea4_C3_eicu.csv\")\n",
    "df_type_filt = df_type.loc[:,[\"stay_id\",\"groupHPD\"]]\n",
    "df_type_filt = df_type_filt.drop_duplicates()\n",
    "all_lst = df_type_filt.stay_id.unique().tolist()\n",
    "print(\"纳入患者数量：\",len(all_lst))\n",
    "df_type_filt[\"groupHPD\"].value_counts()"
   ]
  },
  {
   "cell_type": "code",
   "execution_count": 3,
   "id": "cd60a42c",
   "metadata": {
    "ExecuteTime": {
     "end_time": "2023-10-17T11:44:56.579538Z",
     "start_time": "2023-10-17T11:44:56.476808Z"
    }
   },
   "outputs": [],
   "source": [
    "df_time = pd.read_csv(\"/public/hanl/jupyter_dir/kidney_sepsis_penotype_v2/00.data_eicu//disease_definition/AKI/eicu_saki_event_time.csv\")\n",
    "df_time = df_time[df_time[\"stay_id\"].isin(all_lst)]\n",
    "df_time = df_time[[\"stay_id\", \"saki_onset\"]]"
   ]
  },
  {
   "cell_type": "code",
   "execution_count": null,
   "id": "3ae3755b",
   "metadata": {
    "ExecuteTime": {
     "start_time": "2023-10-17T11:36:12.596Z"
    }
   },
   "outputs": [],
   "source": [
    "data_dir = \"/public/hanl/jupyter_dir/kidney_sepsis_penotype_v2/00.data_eicu/feature_data/\"\n",
    "infile = data_dir + \"eicu_data_merge.csv\"\n",
    "df_fea = pd.read_csv(infile)\n",
    "df_fea = df_fea[df_fea[\"stay_id\"].isin(all_lst)]\n",
    "df_fea[\"charttime\"] = df_fea[\"charttime\"]/60\n",
    "\n",
    "df_fea_add  = pd.merge(df_fea,df_time, how=\"inner\", on=\"stay_id\")\n",
    "df_fea_add[\"time\"] = (df_fea_add[\"charttime\"] - df_fea_add[\"saki_onset\"])/24\n",
    "df_fea_add[\"time\"] = df_fea_add[\"time\"].map(lambda x:x//1) \n",
    "df_fea_add[\"time\"] = df_fea_add[\"time\"].map(lambda x: x+1 if x>=0 else x)\n",
    "df_fea_add = df_fea_add[(df_fea_add[\"time\"]>=-2) &(df_fea_add[\"time\"]<=7)]\n",
    "\n",
    "df_fea_add = df_fea_add.drop([\"charttime\",\"saki_onset\"],axis=1)\n",
    "df_fea_add_1 = df_fea_add.groupby([\"stay_id\",\"time\"]).agg(\"mean\").reset_index()\n",
    "df_fea_add_1 = df_fea_add_1.drop([\"urineoutput\"],axis=1)\n",
    "df_fea_add_2 = df_fea_add.groupby([\"stay_id\",\"time\"]).agg({\"urineoutput\":\"sum\"}).reset_index()\n",
    "df_fea_add = pd.merge(df_fea_add_1,df_fea_add_2,how=\"inner\",on=[\"stay_id\",\"time\"])"
   ]
  },
  {
   "cell_type": "code",
   "execution_count": null,
   "id": "96521b1c",
   "metadata": {
    "ExecuteTime": {
     "start_time": "2023-10-17T11:36:12.598Z"
    }
   },
   "outputs": [],
   "source": [
    "# 插补1\n",
    "tmp_df = pd.DataFrame()\n",
    "df_fea_add = df_fea_add.sort_values(by=[\"stay_id\",\"time\"])\n",
    "for i,j in df_fea_add.groupby([\"stay_id\"]):\n",
    "    j = j.fillna(method=\"ffill\")\n",
    "    tmp_df = pd.concat([tmp_df, j], axis=0)\n",
    "df_im = tmp_df\n",
    "\n",
    "# 插补2\n",
    "import miceforest as mf\n",
    "kernel = mf.ImputationKernel(\n",
    "    df_im,\n",
    "    datasets=3,\n",
    "    save_all_iterations=True,\n",
    "    random_state=10\n",
    ")\n",
    "kernel.mice(iterations = 3, n_jobs=-1)\n",
    "df_im2 = kernel.complete_data(dataset=1)"
   ]
  },
  {
   "cell_type": "code",
   "execution_count": null,
   "id": "41b69435",
   "metadata": {
    "ExecuteTime": {
     "start_time": "2023-10-17T11:36:12.601Z"
    }
   },
   "outputs": [],
   "source": [
    "df_fea_eicu = pd.merge(df_im2,df_type_filt, how=\"inner\",on=\"stay_id\")\n",
    "df_fea_eicu[\"dataset\"] = \"eicu\"\n",
    "df_fea_eicu.head(1)"
   ]
  },
  {
   "cell_type": "markdown",
   "id": "ed9c3ae7",
   "metadata": {},
   "source": [
    "## aumc"
   ]
  },
  {
   "cell_type": "code",
   "execution_count": null,
   "id": "006255e8",
   "metadata": {
    "ExecuteTime": {
     "start_time": "2023-10-17T11:36:12.603Z"
    }
   },
   "outputs": [],
   "source": [
    "df_type = pd.read_csv(\"../../02.AUMCdb_SAKI_trajCluster/df_mixAK_fea3_C3_aumc.csv\")\n",
    "df_type_filt = df_type.loc[:,[\"stay_id\",\"groupHPD\"]]\n",
    "df_type_filt = df_type_filt.drop_duplicates()\n",
    "all_lst = df_type_filt.stay_id.unique().tolist()\n",
    "print(\"纳入患者数量：\",len(all_lst))\n",
    "df_type_filt[\"groupHPD\"].value_counts()"
   ]
  },
  {
   "cell_type": "code",
   "execution_count": null,
   "id": "381b0fe7",
   "metadata": {
    "ExecuteTime": {
     "start_time": "2023-10-17T11:36:12.604Z"
    }
   },
   "outputs": [],
   "source": [
    "df_time = pd.read_csv(\"/public/hanl/jupyter_dir/kidney_sepsis_penotype_v2/00.data_aumc/disease_definition/AKI/aumcdb_sk_event_time.csv\")\n",
    "df_time = df_time[df_time[\"stay_id\"].isin(all_lst)]\n",
    "df_time = df_time[[\"stay_id\", \"saki_onset\"]]\n",
    "\n",
    "# 临床特征标准的start是 time//60； end为 time//60 + 1 即入ICU的第几小时\n",
    "df_fea = pd.read_csv(\"/public/hanl/jupyter_dir/kidney_sepsis_penotype_v2/00.data_aumc/feature_data/aumc_icu_feature.csv\") # 时间单位为小时\n",
    "df_fea_add = pd.merge(df_fea,df_time,how=\"inner\",on=\"stay_id\")\n",
    "df_fea_add[\"time\"] = (df_fea_add[\"charttime\"] - df_fea_add[\"saki_onset\"])/24\n",
    "df_fea_add[\"time\"] = df_fea_add[\"time\"].map(lambda x:x//1) \n",
    "df_fea_add[\"time\"] = df_fea_add[\"time\"].map(lambda x: x+1 if x>=0 else x)\n",
    "df_fea_add = df_fea_add[(df_fea_add[\"time\"]>=-2) &(df_fea_add[\"time\"]<=7)]\n",
    "\n",
    "df_fea_add = df_fea_add.drop([\"charttime\",\"saki_onset\",\"platelet\"],axis=1)\n",
    "df_fea_add_1 = df_fea_add.groupby([\"stay_id\",\"time\"]).agg(\"mean\").reset_index()\n",
    "df_fea_add_1 = df_fea_add_1.drop([\"urineoutput\"],axis=1)\n",
    "df_fea_add_2 = df_fea_add.groupby([\"stay_id\",\"time\"]).agg({\"urineoutput\":\"sum\"}).reset_index()\n",
    "df_fea_add = pd.merge(df_fea_add_1,df_fea_add_2,how=\"inner\",on=[\"stay_id\",\"time\"])"
   ]
  },
  {
   "cell_type": "code",
   "execution_count": null,
   "id": "6fd5f1be",
   "metadata": {
    "ExecuteTime": {
     "start_time": "2023-10-17T11:36:12.605Z"
    }
   },
   "outputs": [],
   "source": [
    "# 插补1\n",
    "tmp_df = pd.DataFrame()\n",
    "df_fea_add = df_fea_add.sort_values(by=[\"stay_id\",\"time\"])\n",
    "for i,j in df_fea_add.groupby([\"stay_id\"]):\n",
    "    j = j.fillna(method=\"ffill\")\n",
    "    tmp_df = pd.concat([tmp_df, j], axis=0)\n",
    "df_im = tmp_df\n",
    "\n",
    "# 插补2\n",
    "kernel = mf.ImputationKernel(\n",
    "    df_im,\n",
    "    datasets=1,\n",
    "    save_all_iterations=True,\n",
    "    random_state=10\n",
    ")\n",
    "kernel.mice(iterations = 3, n_jobs=-1)\n",
    "df_im2 = kernel.complete_data(dataset=0)"
   ]
  },
  {
   "cell_type": "code",
   "execution_count": null,
   "id": "23365d26",
   "metadata": {
    "ExecuteTime": {
     "start_time": "2023-10-17T11:36:12.608Z"
    }
   },
   "outputs": [],
   "source": [
    "df_fea_aumc = pd.merge(df_im2,df_type_filt, how=\"inner\",on=\"stay_id\")\n",
    "df_fea_aumc[\"dataset\"] = \"aumcdb\"\n",
    "df_fea_aumc.head(1)"
   ]
  },
  {
   "cell_type": "markdown",
   "id": "a86f8f72",
   "metadata": {},
   "source": [
    "## MIMIC "
   ]
  },
  {
   "cell_type": "code",
   "execution_count": null,
   "id": "ede96163",
   "metadata": {
    "ExecuteTime": {
     "start_time": "2023-10-17T11:36:12.609Z"
    }
   },
   "outputs": [],
   "source": [
    "df_type = pd.read_csv(\"../../01.MIMICIV_SAKI_trajCluster/df_mixAK_fea4_C3.csv\")\n",
    "df_type_filt = df_type.loc[:,[\"stay_id\",\"groupHPD\"]]\n",
    "df_type_filt = df_type_filt.drop_duplicates()\n",
    "all_lst = df_type_filt.stay_id.unique().tolist()\n",
    "print(\"纳入患者数量：\",len(all_lst))\n",
    "df_type_filt[\"groupHPD\"].value_counts()"
   ]
  },
  {
   "cell_type": "code",
   "execution_count": null,
   "id": "ff1a9b43",
   "metadata": {
    "ExecuteTime": {
     "start_time": "2023-10-17T11:36:12.610Z"
    },
    "run_control": {
     "marked": true
    }
   },
   "outputs": [],
   "source": [
    "df_time = pd.read_csv(\"/public/hanl/jupyter_dir/kidney_sepsis_penotype_v2/00.data_mimic/disease_definition/AKI/sk_event_time.csv\")\n",
    "df_time = df_time[df_time[\"stay_id\"].isin(all_lst)]\n",
    "df_time = df_time[[\"stay_id\",\"saki_onset\"]]\n",
    "df_time[\"saki_onset\"] = pd.to_datetime(df_time[\"saki_onset\"])\n",
    "\n",
    "data_dir = \"/public/hanl/jupyter_dir/kidney_sepsis_penotype_v2/00.data_mimic/feature_data/\"\n",
    "infile = data_dir + \"sk_icu_feature.csv\"\n",
    "df_fea = pd.read_csv(infile)\n",
    "df_fea[\"charttime\"] = pd.to_datetime(df_fea[\"charttime\"])\n",
    "#  condition1: -4 <= time <= 28\n",
    "df_fea_add = pd.merge(df_fea, df_time, how=\"inner\", on=\"stay_id\")\n",
    "df_fea_add[\"time\"] = (df_fea_add[\"charttime\"] - df_fea_add[\"saki_onset\"]).map(lambda x:x/np.timedelta64(24, 'h')).tolist()\n",
    "df_fea_add[\"time\"] = df_fea_add[\"time\"].map(lambda x:x//1) # -1指sepsis前24小时的数据，0指sepsis后第一个24小时的数据\n",
    "df_fea_add[\"time\"] = df_fea_add[\"time\"].map(lambda x: x+1 if x>=0 else x)\n",
    "df_fea_add = df_fea_add[(df_fea_add[\"time\"]>=-2) &(df_fea_add[\"time\"]<=7)]\n",
    "\n",
    "df_fea_add = df_fea_add.drop([\"charttime\",\"saki_onset\"],axis=1)\n",
    "df_fea_add_1 = df_fea_add.groupby([\"stay_id\",\"time\"]).agg(\"mean\").reset_index()\n",
    "df_fea_add_1 = df_fea_add_1.drop([\"urineoutput\"],axis=1)\n",
    "df_fea_add_2 = df_fea_add.groupby([\"stay_id\",\"time\"]).agg({\"urineoutput\":\"sum\"}).reset_index()\n",
    "df_fea_add = pd.merge(df_fea_add_1,df_fea_add_2,how=\"inner\",on=[\"stay_id\",\"time\"])"
   ]
  },
  {
   "cell_type": "code",
   "execution_count": null,
   "id": "a17b9a28",
   "metadata": {
    "ExecuteTime": {
     "start_time": "2023-10-17T11:36:12.611Z"
    }
   },
   "outputs": [],
   "source": [
    "# 插补1\n",
    "tmp_df = pd.DataFrame()\n",
    "df_fea_add = df_fea_add.sort_values(by=[\"stay_id\",\"time\"])\n",
    "for i,j in df_fea_add.groupby([\"stay_id\"]):\n",
    "    j = j.fillna(method=\"ffill\")\n",
    "    tmp_df = pd.concat([tmp_df, j], axis=0)\n",
    "df_im = tmp_df\n",
    "\n",
    "# 插补2\n",
    "import miceforest as mf\n",
    "kernel = mf.ImputationKernel(\n",
    "    df_im,\n",
    "    datasets=3,\n",
    "    save_all_iterations=True,\n",
    "    random_state=10\n",
    ")\n",
    "kernel.mice(iterations = 3, n_jobs=-1)\n",
    "df_im2 = kernel.complete_data(dataset=1)"
   ]
  },
  {
   "cell_type": "code",
   "execution_count": null,
   "id": "a1b270cd",
   "metadata": {
    "ExecuteTime": {
     "start_time": "2023-10-17T11:36:12.613Z"
    },
    "run_control": {
     "marked": true
    }
   },
   "outputs": [],
   "source": [
    "df_fea_mimic = pd.merge(df_im2,df_type_filt, how=\"inner\",on=\"stay_id\")\n",
    "df_fea_mimic[\"dataset\"] = \"mimic\"\n",
    "df_fea_mimic.head(1)"
   ]
  },
  {
   "cell_type": "markdown",
   "id": "67dbfec7",
   "metadata": {
    "ExecuteTime": {
     "end_time": "2023-04-10T01:59:05.092115Z",
     "start_time": "2023-04-10T01:59:05.088064Z"
    }
   },
   "source": [
    "##  merge-相同变量"
   ]
  },
  {
   "cell_type": "code",
   "execution_count": null,
   "id": "6a6ef006",
   "metadata": {
    "ExecuteTime": {
     "start_time": "2023-10-17T11:36:12.615Z"
    }
   },
   "outputs": [],
   "source": [
    "df_fea_mimic = df_fea_mimic.rename(columns={'bilirubin_total':'bilirubin','platelet':'platelets'})\n",
    "# merge\n",
    "fea1st1 = df_fea_mimic.columns.tolist()\n",
    "fea1st2 = df_fea_aumc.columns.tolist()\n",
    "fea1st3 = df_fea_eicu.columns.tolist()\n",
    "fea_select = list(set(fea1st1).intersection(fea1st2,fea1st3))\n",
    "\n",
    "print(\"共同特有的特征:\",fea_select)\n",
    "print(\"MIMIC特有的特征:\",list(set(fea1st1).difference(fea_select)))\n",
    "print(\"AUMCdb特有的特征:\",list(set(fea1st2).difference(fea_select)))\n",
    "print(\"eICU特有的特征:\",list(set(fea1st3).difference(fea_select)))\n",
    "\n",
    "df_merge = pd.concat([df_fea_aumc,df_fea_mimic,df_fea_eicu],axis=0)\n",
    "df_merge = df_merge[fea_select]\n",
    "all_lst = df_merge.stay_id.unique().tolist()\n",
    "print(len(all_lst))"
   ]
  },
  {
   "cell_type": "code",
   "execution_count": null,
   "id": "b929c394",
   "metadata": {
    "ExecuteTime": {
     "start_time": "2023-10-17T11:36:12.616Z"
    },
    "run_control": {
     "marked": false
    }
   },
   "outputs": [],
   "source": [
    "# 有16个样本没有 time = -1, time=-2的数据，用time= 1的数据填补\n",
    "df_fea = df_merge\n",
    "com_lst = []\n",
    "for i in df_fea.stay_id.unique().tolist():\n",
    "    min_t = -2 \n",
    "    max_t = int(max(df_fea[df_fea.stay_id==i].time))\n",
    "    for j in range(min_t,max_t+1,1):\n",
    "        com_lst.append([i,j])\n",
    "df_complete = pd.DataFrame(com_lst,columns=[\"stay_id\", \"time\"])  \n",
    "df_fea = pd.merge(df_complete, df_merge, how=\"left\", on=[\"stay_id\",\"time\"])\n",
    "df_fea = df_fea[df_fea[\"time\"]!=0]\n",
    "\n",
    "df_fea = df_fea.sort_values([\"stay_id\",\"time\"])\n",
    "df_fea[\"stay_id_copy\"] = df_fea[\"stay_id\"]\n",
    "df_fea = df_fea.groupby(['stay_id_copy']).transform(lambda x: x.fillna(method='ffill').fillna(method='bfill'))\n",
    "df_fea.to_csv(\"df_saki_timeseries_feature_24h.csv\",index=False) # 三个数据库相交的特征"
   ]
  },
  {
   "cell_type": "markdown",
   "id": "386d6c40",
   "metadata": {},
   "source": [
    "##  merge-所有变量"
   ]
  },
  {
   "cell_type": "code",
   "execution_count": null,
   "id": "b36fa514",
   "metadata": {
    "ExecuteTime": {
     "start_time": "2023-10-17T11:36:12.617Z"
    }
   },
   "outputs": [],
   "source": [
    "df_fea_mimic = df_fea_mimic.rename(columns={'bilirubin_total':'bilirubin','platelet':'platelets'})\n",
    "# merge\n",
    "fea1st1 = df_fea_mimic.columns.tolist()\n",
    "fea1st2 = df_fea_aumc.columns.tolist()\n",
    "fea1st3 = df_fea_eicu.columns.tolist()\n",
    "fea_select = list(set(fea1st1).intersection(fea1st2,fea1st3))\n",
    "add_feature = ['bilirubin', 'platelets','inr','pt', 'ptt' ,'alp', 'ast','alt','bun']\n",
    "\n",
    "print(\"共同特有的特征:\",fea_select)\n",
    "print(\"MIMIC特有的特征:\",list(set(fea1st1).difference(fea_select)))\n",
    "print(\"AUMCdb特有的特征:\",list(set(fea1st2).difference(fea_select)))\n",
    "print(\"eICU特有的特征:\",list(set(fea1st3).difference(fea_select)))\n",
    "\n",
    "fea_select.extend(add_feature)\n",
    "df_merge = pd.concat([df_fea_aumc,df_fea_mimic,df_fea_eicu],axis=0)\n",
    "df_merge = df_merge[fea_select]\n",
    "all_lst = df_merge.stay_id.unique().tolist()\n",
    "print(len(all_lst))"
   ]
  },
  {
   "cell_type": "code",
   "execution_count": null,
   "id": "0a648f96",
   "metadata": {
    "ExecuteTime": {
     "start_time": "2023-10-17T11:36:12.619Z"
    }
   },
   "outputs": [],
   "source": [
    "df_merge[[\"dataset\",\"stay_id\"]].drop_duplicates()"
   ]
  },
  {
   "cell_type": "code",
   "execution_count": null,
   "id": "94dcced9",
   "metadata": {
    "ExecuteTime": {
     "start_time": "2023-10-17T11:36:12.621Z"
    },
    "run_control": {
     "marked": true
    }
   },
   "outputs": [],
   "source": [
    "# 有16个样本没有 time = -1, time=-2的数据，用time= 1的数据填补\n",
    "df_fea = df_merge\n",
    "com_lst = []\n",
    "for i in df_fea.stay_id.unique().tolist():\n",
    "    min_t = -2 \n",
    "    max_t = int(max(df_fea[df_fea.stay_id==i].time))\n",
    "    for j in range(min_t,max_t+1,1):\n",
    "        com_lst.append([i,j])\n",
    "df_complete = pd.DataFrame(com_lst,columns=[\"stay_id\", \"time\"])  \n",
    "df_fea = pd.merge(df_complete, df_merge, how=\"left\", on=[\"stay_id\",\"time\"])\n",
    "df_fea = df_fea[df_fea[\"time\"]!=0]\n",
    "\n",
    "df_fea = df_fea.sort_values([\"stay_id\",\"time\"])\n",
    "df_fea[\"stay_id_copy\"] = df_fea[\"stay_id\"]\n",
    "df_fea = df_fea.groupby(['stay_id_copy']).transform(lambda x: x.fillna(method='ffill').fillna(method='bfill'))\n",
    "df_fea.to_csv(\"df_saki_timeseries_feature_all_24h.csv\",index=False)\n",
    "df_fea[[\"dataset\",\"stay_id\"]].drop_duplicates()"
   ]
  }
 ],
 "metadata": {
  "kernelspec": {
   "display_name": "Python [conda env:mytensor]",
   "language": "python",
   "name": "conda-env-mytensor-py"
  },
  "language_info": {
   "codemirror_mode": {
    "name": "ipython",
    "version": 3
   },
   "file_extension": ".py",
   "mimetype": "text/x-python",
   "name": "python",
   "nbconvert_exporter": "python",
   "pygments_lexer": "ipython3",
   "version": "3.9.12"
  },
  "toc": {
   "base_numbering": 1,
   "nav_menu": {},
   "number_sections": true,
   "sideBar": true,
   "skip_h1_title": false,
   "title_cell": "Table of Contents",
   "title_sidebar": "Contents",
   "toc_cell": false,
   "toc_position": {
    "height": "calc(100% - 180px)",
    "left": "10px",
    "top": "150px",
    "width": "182.442px"
   },
   "toc_section_display": true,
   "toc_window_display": true
  },
  "varInspector": {
   "cols": {
    "lenName": 16,
    "lenType": 16,
    "lenVar": 40
   },
   "kernels_config": {
    "python": {
     "delete_cmd_postfix": "",
     "delete_cmd_prefix": "del ",
     "library": "var_list.py",
     "varRefreshCmd": "print(var_dic_list())"
    },
    "r": {
     "delete_cmd_postfix": ") ",
     "delete_cmd_prefix": "rm(",
     "library": "var_list.r",
     "varRefreshCmd": "cat(var_dic_list()) "
    }
   },
   "types_to_exclude": [
    "module",
    "function",
    "builtin_function_or_method",
    "instance",
    "_Feature"
   ],
   "window_display": false
  }
 },
 "nbformat": 4,
 "nbformat_minor": 5
}
