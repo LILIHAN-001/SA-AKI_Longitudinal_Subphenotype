{
 "cells": [
  {
   "cell_type": "code",
   "execution_count": 1,
   "id": "38cdb95b",
   "metadata": {
    "ExecuteTime": {
     "end_time": "2023-12-14T12:05:18.694153Z",
     "start_time": "2023-12-14T12:05:17.706465Z"
    }
   },
   "outputs": [],
   "source": [
    "import pandas as pd\n",
    "import numpy as np\n",
    "import matplotlib.pyplot as plt\n",
    "pd.options.display.max_rows = 300\n",
    "import math\n",
    "import datetime as dt\n",
    "import itertools\n",
    "import random\n",
    "import scipy.stats as stats\n",
    "import warnings\n",
    "from pandas.core.common import SettingWithCopyWarning\n",
    "warnings.simplefilter(action=\"ignore\", category=SettingWithCopyWarning)\n",
    "from sklearn.preprocessing import scale"
   ]
  },
  {
   "cell_type": "markdown",
   "id": "d2840f9d",
   "metadata": {},
   "source": [
    "# Data Synthesis"
   ]
  },
  {
   "cell_type": "markdown",
   "id": "6191cfbc",
   "metadata": {},
   "source": [
    "## eICU"
   ]
  },
  {
   "cell_type": "code",
   "execution_count": null,
   "id": "9e22d20b",
   "metadata": {
    "ExecuteTime": {
     "end_time": "2023-12-14T12:05:18.873736Z",
     "start_time": "2023-12-14T12:05:18.695366Z"
    }
   },
   "outputs": [],
   "source": [
    "df_type = pd.read_csv(\"../../03.eICU_SAKI_trajCluster/df_mixAK_fea4_C3_eicu.csv\")\n",
    "df_type_filt = df_type.loc[:,[\"stay_id\",\"groupHPD\"]]\n",
    "df_type_filt = df_type_filt.drop_duplicates()\n",
    "all_lst = df_type_filt.stay_id.unique().tolist()\n",
    "print(\"Number of included patients:\",len(all_lst))\n",
    "df_type_filt[\"groupHPD\"].value_counts()\n",
    "\n",
    "df_fea_eicu = pd.read_csv(\"../../03.eICU_SAKI_trajCluster/sk_feature_timescale_Fb2_eicu.csv\")\n",
    "df_fea_eicu = pd.merge(df_fea_eicu,df_type_filt, how=\"inner\",on=\"stay_id\")\n",
    "df_fea_eicu[\"dataset\"] = \"eicu\"\n",
    "df_fea_eicu.head(1)"
   ]
  },
  {
   "cell_type": "code",
   "execution_count": 3,
   "id": "5f39aada",
   "metadata": {
    "ExecuteTime": {
     "end_time": "2023-12-14T12:05:18.876468Z",
     "start_time": "2023-12-14T12:05:18.874997Z"
    }
   },
   "outputs": [],
   "source": [
    "# df_fea_eicu[\"temperature\"].hist()\n",
    "# plt.show()"
   ]
  },
  {
   "cell_type": "markdown",
   "id": "ed9c3ae7",
   "metadata": {},
   "source": [
    "## aumc"
   ]
  },
  {
   "cell_type": "code",
   "execution_count": null,
   "id": "202d40bd",
   "metadata": {
    "ExecuteTime": {
     "end_time": "2023-12-14T12:05:19.803390Z",
     "start_time": "2023-12-14T12:05:18.877592Z"
    }
   },
   "outputs": [],
   "source": [
    "df_type = pd.read_csv(\"../../02.AUMCdb_SAKI_trajCluster/df_mixAK_fea3_C3_aumc.csv\")\n",
    "df_type_filt = df_type.loc[:,[\"stay_id\",\"groupHPD\"]]\n",
    "df_type_filt = df_type_filt.drop_duplicates()\n",
    "all_lst = df_type_filt.stay_id.unique().tolist()\n",
    "print(\"Number of included patients:\",len(all_lst))\n",
    "df_type_filt[\"groupHPD\"].value_counts()\n",
    "\n",
    "df_fea_aumc = pd.read_csv(\"../../02.AUMCdb_SAKI_trajCluster/sk_feature_timescale_Fb2_aumc.csv\")\n",
    "df_fea_aumc.loc[df_fea_aumc[\"hemoglobin\"]>1000,\"hemoglobin\"] = np.nan\n",
    "df_fea_aumc.loc[df_fea_aumc[\"calcium\"]>25,\"calcium\"] = np.nan\n",
    "df_fea_aumc['calcium'] = df_fea_aumc.groupby('stay_id')['calcium'].fillna(method='ffill').fillna(method='bfill')\n",
    "df_fea_aumc['hemoglobin'] = df_fea_aumc.groupby('stay_id')['hemoglobin'].fillna(method='ffill')\n",
    "\n",
    "# df_fea_aumc = pd.merge(df_fea_aumc,df_type_filt, how=\"inner\",on=\"stay_id\")\n",
    "# df_fea_aumc[\"dataset\"] = \"aumcdb\"\n",
    "# df_fea_aumc.head(1)"
   ]
  },
  {
   "cell_type": "code",
   "execution_count": null,
   "id": "a55ef8e2",
   "metadata": {
    "ExecuteTime": {
     "end_time": "2023-12-14T12:05:44.204533Z",
     "start_time": "2023-12-14T12:05:19.804483Z"
    }
   },
   "outputs": [],
   "source": [
    "### Add bilirubin\n",
    "# Obtain the occurrence time of saki\n",
    "df_saki = pd.read_csv(\"/public/hanl/jupyter_dir/kidney_sepsis_penotype_v3/00.data_aumc/disease_definition/AKI/aumcdb_sk_event_time.csv\")\n",
    "df_saki = df_saki[df_saki[\"stay_id\"].isin(all_lst)]\n",
    "df_saki = df_saki[[\"stay_id\", \"saki_onset\"]]\n",
    "\n",
    "# obtain Bilirubin time\n",
    "df_bi = pd.read_csv(\"/public/hanl/jupyter_dir/database/AMUCdb/raw/feature/bilirubin.csv\")\n",
    "df_bi = df_bi[[\"admissionid\",\"measuredat\",\"value\"]]\n",
    "df_bi.columns = [\"stay_id\",\"measuredat\",\"bilirubin\"]\n",
    "df_bi[\"charttime\"] = df_bi[\"measuredat\"]/(1000*60*60)\n",
    "\n",
    "df_bi = pd.merge(df_bi,df_saki,how=\"inner\",on=\"stay_id\")\n",
    "df_bi[\"time\"] = (df_bi[\"charttime\"] - df_bi[\"saki_onset\"])//6\n",
    "df_bi[\"time\"] = df_bi[\"time\"].map(lambda x:x//1) \n",
    "df_bi[\"time\"] = df_bi[\"time\"].map(lambda x: x+1 if x>=0 else x)\n",
    "df_bi = df_bi.drop([\"charttime\",\"saki_onset\",\"measuredat\"],axis=1)\n",
    "df_bi = df_bi.groupby([\"stay_id\",\"time\"]).agg(\"mean\").reset_index()\n",
    "df_bi = df_bi[(df_bi[\"time\"]>=-2) &(df_bi[\"time\"]<=28)]\n",
    "\n",
    "# Interpolation\n",
    "df_m = pd.merge(df_fea_aumc,df_bi,how=\"outer\",on=[\"stay_id\",\"time\"])\n",
    "df_m = df_m.sort_values([\"stay_id\",\"time\"])\n",
    "df_m[\"stay_id_copy\"] = df_m[\"stay_id\"]\n",
    "df_m = df_m.groupby(['stay_id_copy']).transform(lambda x: x.fillna(method='ffill').fillna(method='bfill'))\n",
    "\n",
    "# Multiple interpolation\n",
    "import miceforest as mf\n",
    "kernel = mf.ImputationKernel(\n",
    "    df_m,\n",
    "    datasets=3,\n",
    "    save_all_iterations=True,\n",
    "    random_state=10\n",
    ")\n",
    "kernel.mice(iterations = 3, n_jobs=-1)\n",
    "df_m2 = kernel.complete_data(dataset=1)\n"
   ]
  },
  {
   "cell_type": "code",
   "execution_count": 6,
   "id": "31b34435",
   "metadata": {
    "ExecuteTime": {
     "end_time": "2023-12-14T12:05:44.230030Z",
     "start_time": "2023-12-14T12:05:44.206117Z"
    },
    "run_control": {
     "marked": true
    }
   },
   "outputs": [
    {
     "data": {
      "text/html": [
       "<div>\n",
       "<style scoped>\n",
       "    .dataframe tbody tr th:only-of-type {\n",
       "        vertical-align: middle;\n",
       "    }\n",
       "\n",
       "    .dataframe tbody tr th {\n",
       "        vertical-align: top;\n",
       "    }\n",
       "\n",
       "    .dataframe thead th {\n",
       "        text-align: right;\n",
       "    }\n",
       "</style>\n",
       "<table border=\"1\" class=\"dataframe\">\n",
       "  <thead>\n",
       "    <tr style=\"text-align: right;\">\n",
       "      <th></th>\n",
       "      <th>stay_id</th>\n",
       "      <th>time</th>\n",
       "      <th>baseexcess</th>\n",
       "      <th>wbc</th>\n",
       "      <th>hematocrit</th>\n",
       "      <th>hemoglobin</th>\n",
       "      <th>pt</th>\n",
       "      <th>ptt</th>\n",
       "      <th>dbp</th>\n",
       "      <th>mbp</th>\n",
       "      <th>...</th>\n",
       "      <th>chloride</th>\n",
       "      <th>creatinine</th>\n",
       "      <th>po2</th>\n",
       "      <th>pco2</th>\n",
       "      <th>fio2</th>\n",
       "      <th>urineoutput</th>\n",
       "      <th>crea_divide_basecrea</th>\n",
       "      <th>bilirubin</th>\n",
       "      <th>groupHPD</th>\n",
       "      <th>dataset</th>\n",
       "    </tr>\n",
       "  </thead>\n",
       "  <tbody>\n",
       "    <tr>\n",
       "      <th>0</th>\n",
       "      <td>5</td>\n",
       "      <td>-1.0</td>\n",
       "      <td>4.2</td>\n",
       "      <td>20.600001</td>\n",
       "      <td>0.443333</td>\n",
       "      <td>14.28686</td>\n",
       "      <td>10.3</td>\n",
       "      <td>34.0</td>\n",
       "      <td>70.2341</td>\n",
       "      <td>84.676544</td>\n",
       "      <td>...</td>\n",
       "      <td>105.0</td>\n",
       "      <td>0.6554</td>\n",
       "      <td>162.0</td>\n",
       "      <td>42.0</td>\n",
       "      <td>41.0</td>\n",
       "      <td>20.0</td>\n",
       "      <td>1.03</td>\n",
       "      <td>5.0</td>\n",
       "      <td>2</td>\n",
       "      <td>aumcdb</td>\n",
       "    </tr>\n",
       "  </tbody>\n",
       "</table>\n",
       "<p>1 rows × 33 columns</p>\n",
       "</div>"
      ],
      "text/plain": [
       "   stay_id  time  baseexcess        wbc  hematocrit  hemoglobin    pt   ptt  \\\n",
       "0        5  -1.0         4.2  20.600001    0.443333    14.28686  10.3  34.0   \n",
       "\n",
       "       dbp        mbp  ...  chloride  creatinine    po2  pco2  fio2  \\\n",
       "0  70.2341  84.676544  ...     105.0      0.6554  162.0  42.0  41.0   \n",
       "\n",
       "   urineoutput  crea_divide_basecrea  bilirubin  groupHPD  dataset  \n",
       "0         20.0                  1.03        5.0         2   aumcdb  \n",
       "\n",
       "[1 rows x 33 columns]"
      ]
     },
     "execution_count": 6,
     "metadata": {},
     "output_type": "execute_result"
    }
   ],
   "source": [
    "df_fea_aumc = pd.merge(df_m2,df_type_filt, how=\"inner\",on=\"stay_id\")\n",
    "df_fea_aumc[\"dataset\"] = \"aumcdb\"\n",
    "df_fea_aumc.head(1)"
   ]
  },
  {
   "cell_type": "code",
   "execution_count": 7,
   "id": "9147e046",
   "metadata": {
    "ExecuteTime": {
     "end_time": "2023-12-14T12:05:44.232771Z",
     "start_time": "2023-12-14T12:05:44.231240Z"
    }
   },
   "outputs": [],
   "source": [
    "# df_fea_aumc[\"temperature\"].hist()\n",
    "# plt.show()"
   ]
  },
  {
   "cell_type": "markdown",
   "id": "a86f8f72",
   "metadata": {},
   "source": [
    "## MIMIC "
   ]
  },
  {
   "cell_type": "code",
   "execution_count": null,
   "id": "994d30d1",
   "metadata": {
    "ExecuteTime": {
     "end_time": "2023-12-14T12:05:45.181120Z",
     "start_time": "2023-12-14T12:05:44.234870Z"
    }
   },
   "outputs": [],
   "source": [
    "df_type = pd.read_csv(\"../../01.MIMICIV_SAKI_trajCluster/df_mixAK_fea4_C3.csv\")\n",
    "df_type_filt = df_type.loc[:,[\"stay_id\",\"groupHPD\"]]\n",
    "df_type_filt = df_type_filt.drop_duplicates()\n",
    "all_lst = df_type_filt.stay_id.unique().tolist()\n",
    "print(\"Number of included patients:\",len(all_lst))\n",
    "df_type_filt[\"groupHPD\"].value_counts()\n",
    "\n",
    "df_fea_mimic = pd.read_csv(\"../../01.MIMICIV_SAKI_trajCluster/sk_feature_timescale_Fb2.csv\")\n",
    "df_fea_mimic.loc[df_fea_mimic[\"temperature\"]>1000,\"temperature\"] = np.nan\n",
    "df_fea_mimic = pd.merge(df_fea_mimic,df_type_filt, how=\"inner\",on=\"stay_id\")\n",
    "df_fea_mimic[\"dataset\"] = \"mimic\"\n",
    "df_fea_mimic.head(1)"
   ]
  },
  {
   "cell_type": "code",
   "execution_count": 9,
   "id": "87f1268b",
   "metadata": {
    "ExecuteTime": {
     "end_time": "2023-12-14T12:05:45.184283Z",
     "start_time": "2023-12-14T12:05:45.182699Z"
    }
   },
   "outputs": [],
   "source": [
    "# df_fea_mimic[\"temperature\"].hist()\n",
    "# plt.show()"
   ]
  },
  {
   "cell_type": "markdown",
   "id": "67dbfec7",
   "metadata": {
    "ExecuteTime": {
     "end_time": "2023-04-10T01:59:05.092115Z",
     "start_time": "2023-04-10T01:59:05.088064Z"
    }
   },
   "source": [
    "## merge- The same variable"
   ]
  },
  {
   "cell_type": "code",
   "execution_count": null,
   "id": "6a6ef006",
   "metadata": {
    "ExecuteTime": {
     "end_time": "2023-12-14T12:05:45.448449Z",
     "start_time": "2023-12-14T12:05:45.185424Z"
    }
   },
   "outputs": [],
   "source": [
    "df_fea_mimic = df_fea_mimic.rename(columns={'bilirubin_total':'bilirubin','platelet':'platelets'})\n",
    "# merge\n",
    "fea1st1 = df_fea_mimic.columns.tolist()\n",
    "fea1st2 = df_fea_aumc.columns.tolist()\n",
    "fea1st3 = df_fea_eicu.columns.tolist()\n",
    "fea_select = list(set(fea1st1).intersection(fea1st2,fea1st3))\n",
    "\n",
    "print(\"Common and unique characteristics:\",fea_select)\n",
    "print(\"The unique features of MIMIC:\",list(set(fea1st1).difference(fea_select)))\n",
    "print(\"Unique features of AUMCdb:\",list(set(fea1st2).difference(fea_select)))\n",
    "print(\"The unique characteristics of eICU:\",list(set(fea1st3).difference(fea_select)))\n",
    "\n",
    "df_merge = pd.concat([df_fea_aumc,df_fea_mimic,df_fea_eicu],axis=0)\n",
    "df_merge = df_merge[fea_select]\n",
    "all_lst = df_merge.stay_id.unique().tolist()\n",
    "print(len(all_lst))"
   ]
  },
  {
   "cell_type": "code",
   "execution_count": null,
   "id": "b929c394",
   "metadata": {
    "ExecuteTime": {
     "end_time": "2023-12-14T12:06:59.496923Z",
     "start_time": "2023-12-14T12:05:45.449760Z"
    },
    "run_control": {
     "marked": false
    }
   },
   "outputs": [],
   "source": [
    "#There are 16 samples that do not have data with time= -1 and time=-2. Fill them with data with time= 1\n",
    "df_fea = df_merge\n",
    "com_lst = []\n",
    "for i in df_fea.stay_id.unique().tolist():\n",
    "    min_t = -2 \n",
    "    max_t = int(max(df_fea[df_fea.stay_id==i].time))\n",
    "    for j in range(min_t,max_t+1,1):\n",
    "        com_lst.append([i,j])\n",
    "df_complete = pd.DataFrame(com_lst,columns=[\"stay_id\", \"time\"])  \n",
    "df_fea = pd.merge(df_complete, df_merge, how=\"left\", on=[\"stay_id\",\"time\"])\n",
    "df_fea = df_fea[df_fea[\"time\"]!=0]\n",
    "\n",
    "df_fea = df_fea.sort_values([\"stay_id\",\"time\"])\n",
    "df_fea[\"stay_id_copy\"] = df_fea[\"stay_id\"]\n",
    "df_fea = df_fea.groupby(['stay_id_copy']).transform(lambda x: x.fillna(method='ffill').fillna(method='bfill'))\n",
    "df_fea.to_csv(\"df_saki_timeseries_feature.csv\",index=False) # Characteristics of the Intersection of three databases"
   ]
  },
  {
   "cell_type": "markdown",
   "id": "386d6c40",
   "metadata": {},
   "source": [
    "## merge- All variables"
   ]
  },
  {
   "cell_type": "code",
   "execution_count": null,
   "id": "b36fa514",
   "metadata": {
    "ExecuteTime": {
     "end_time": "2023-12-14T12:06:59.755164Z",
     "start_time": "2023-12-14T12:06:59.498518Z"
    }
   },
   "outputs": [],
   "source": [
    "df_fea_mimic = df_fea_mimic.rename(columns={'bilirubin_total':'bilirubin','platelet':'platelets'})\n",
    "# merge\n",
    "fea1st1 = df_fea_mimic.columns.tolist()\n",
    "fea1st2 = df_fea_aumc.columns.tolist()\n",
    "fea1st3 = df_fea_eicu.columns.tolist()\n",
    "fea_select = list(set(fea1st1).intersection(fea1st2,fea1st3))\n",
    "add_feature = ['bilirubin', 'platelets','inr','pt', 'ptt' ,'alp', 'ast','alt','bun']\n",
    "\n",
    "print(\"Common and unique characteristics:\",fea_select)\n",
    "print(\"The unique features of MIMIC:\",list(set(fea1st1).difference(fea_select)))\n",
    "print(\"Unique features of AUMCdb:\",list(set(fea1st2).difference(fea_select)))\n",
    "print(\"The unique characteristics of eICU:\",list(set(fea1st3).difference(fea_select)))\n",
    "\n",
    "fea_select.extend(add_feature)\n",
    "df_merge = pd.concat([df_fea_aumc,df_fea_mimic,df_fea_eicu],axis=0)\n",
    "df_merge = df_merge[fea_select]\n",
    "all_lst = df_merge.stay_id.unique().tolist()\n",
    "print(len(all_lst))"
   ]
  },
  {
   "cell_type": "code",
   "execution_count": 13,
   "id": "0a648f96",
   "metadata": {
    "ExecuteTime": {
     "end_time": "2023-12-14T12:06:59.777438Z",
     "start_time": "2023-12-14T12:06:59.756230Z"
    }
   },
   "outputs": [
    {
     "data": {
      "text/html": [
       "<div>\n",
       "<style scoped>\n",
       "    .dataframe tbody tr th:only-of-type {\n",
       "        vertical-align: middle;\n",
       "    }\n",
       "\n",
       "    .dataframe tbody tr th {\n",
       "        vertical-align: top;\n",
       "    }\n",
       "\n",
       "    .dataframe thead th {\n",
       "        text-align: right;\n",
       "    }\n",
       "</style>\n",
       "<table border=\"1\" class=\"dataframe\">\n",
       "  <thead>\n",
       "    <tr style=\"text-align: right;\">\n",
       "      <th></th>\n",
       "      <th>dataset</th>\n",
       "      <th>stay_id</th>\n",
       "    </tr>\n",
       "  </thead>\n",
       "  <tbody>\n",
       "    <tr>\n",
       "      <th>0</th>\n",
       "      <td>aumcdb</td>\n",
       "      <td>5</td>\n",
       "    </tr>\n",
       "    <tr>\n",
       "      <th>12</th>\n",
       "      <td>aumcdb</td>\n",
       "      <td>15</td>\n",
       "    </tr>\n",
       "    <tr>\n",
       "      <th>41</th>\n",
       "      <td>aumcdb</td>\n",
       "      <td>20</td>\n",
       "    </tr>\n",
       "    <tr>\n",
       "      <th>70</th>\n",
       "      <td>aumcdb</td>\n",
       "      <td>35</td>\n",
       "    </tr>\n",
       "    <tr>\n",
       "      <th>97</th>\n",
       "      <td>aumcdb</td>\n",
       "      <td>38</td>\n",
       "    </tr>\n",
       "    <tr>\n",
       "      <th>...</th>\n",
       "      <td>...</td>\n",
       "      <td>...</td>\n",
       "    </tr>\n",
       "    <tr>\n",
       "      <th>29139</th>\n",
       "      <td>eicu</td>\n",
       "      <td>3247421</td>\n",
       "    </tr>\n",
       "    <tr>\n",
       "      <th>29159</th>\n",
       "      <td>eicu</td>\n",
       "      <td>3329427</td>\n",
       "    </tr>\n",
       "    <tr>\n",
       "      <th>29179</th>\n",
       "      <td>eicu</td>\n",
       "      <td>3338104</td>\n",
       "    </tr>\n",
       "    <tr>\n",
       "      <th>29189</th>\n",
       "      <td>eicu</td>\n",
       "      <td>3340575</td>\n",
       "    </tr>\n",
       "    <tr>\n",
       "      <th>29219</th>\n",
       "      <td>eicu</td>\n",
       "      <td>3344660</td>\n",
       "    </tr>\n",
       "  </tbody>\n",
       "</table>\n",
       "<p>8313 rows × 2 columns</p>\n",
       "</div>"
      ],
      "text/plain": [
       "      dataset  stay_id\n",
       "0      aumcdb        5\n",
       "12     aumcdb       15\n",
       "41     aumcdb       20\n",
       "70     aumcdb       35\n",
       "97     aumcdb       38\n",
       "...       ...      ...\n",
       "29139    eicu  3247421\n",
       "29159    eicu  3329427\n",
       "29179    eicu  3338104\n",
       "29189    eicu  3340575\n",
       "29219    eicu  3344660\n",
       "\n",
       "[8313 rows x 2 columns]"
      ]
     },
     "execution_count": 13,
     "metadata": {},
     "output_type": "execute_result"
    }
   ],
   "source": [
    "df_merge[[\"dataset\",\"stay_id\"]].drop_duplicates()"
   ]
  },
  {
   "cell_type": "code",
   "execution_count": null,
   "id": "94dcced9",
   "metadata": {
    "ExecuteTime": {
     "end_time": "2023-12-14T12:08:35.978095Z",
     "start_time": "2023-12-14T12:06:59.778389Z"
    },
    "run_control": {
     "marked": true
    }
   },
   "outputs": [
    {
     "data": {
      "text/html": [
       "<div>\n",
       "<style scoped>\n",
       "    .dataframe tbody tr th:only-of-type {\n",
       "        vertical-align: middle;\n",
       "    }\n",
       "\n",
       "    .dataframe tbody tr th {\n",
       "        vertical-align: top;\n",
       "    }\n",
       "\n",
       "    .dataframe thead th {\n",
       "        text-align: right;\n",
       "    }\n",
       "</style>\n",
       "<table border=\"1\" class=\"dataframe\">\n",
       "  <thead>\n",
       "    <tr style=\"text-align: right;\">\n",
       "      <th></th>\n",
       "      <th>dataset</th>\n",
       "      <th>stay_id</th>\n",
       "    </tr>\n",
       "  </thead>\n",
       "  <tbody>\n",
       "    <tr>\n",
       "      <th>0</th>\n",
       "      <td>aumcdb</td>\n",
       "      <td>5</td>\n",
       "    </tr>\n",
       "    <tr>\n",
       "      <th>14</th>\n",
       "      <td>aumcdb</td>\n",
       "      <td>15</td>\n",
       "    </tr>\n",
       "    <tr>\n",
       "      <th>45</th>\n",
       "      <td>aumcdb</td>\n",
       "      <td>20</td>\n",
       "    </tr>\n",
       "    <tr>\n",
       "      <th>76</th>\n",
       "      <td>aumcdb</td>\n",
       "      <td>35</td>\n",
       "    </tr>\n",
       "    <tr>\n",
       "      <th>105</th>\n",
       "      <td>aumcdb</td>\n",
       "      <td>38</td>\n",
       "    </tr>\n",
       "    <tr>\n",
       "      <th>...</th>\n",
       "      <td>...</td>\n",
       "      <td>...</td>\n",
       "    </tr>\n",
       "    <tr>\n",
       "      <th>141975</th>\n",
       "      <td>mimic</td>\n",
       "      <td>39985287</td>\n",
       "    </tr>\n",
       "    <tr>\n",
       "      <th>142003</th>\n",
       "      <td>mimic</td>\n",
       "      <td>39989733</td>\n",
       "    </tr>\n",
       "    <tr>\n",
       "      <th>142020</th>\n",
       "      <td>mimic</td>\n",
       "      <td>39992167</td>\n",
       "    </tr>\n",
       "    <tr>\n",
       "      <th>142051</th>\n",
       "      <td>mimic</td>\n",
       "      <td>39993683</td>\n",
       "    </tr>\n",
       "    <tr>\n",
       "      <th>142063</th>\n",
       "      <td>mimic</td>\n",
       "      <td>39993968</td>\n",
       "    </tr>\n",
       "  </tbody>\n",
       "</table>\n",
       "<p>8313 rows × 2 columns</p>\n",
       "</div>"
      ],
      "text/plain": [
       "       dataset   stay_id\n",
       "0       aumcdb         5\n",
       "14      aumcdb        15\n",
       "45      aumcdb        20\n",
       "76      aumcdb        35\n",
       "105     aumcdb        38\n",
       "...        ...       ...\n",
       "141975   mimic  39985287\n",
       "142003   mimic  39989733\n",
       "142020   mimic  39992167\n",
       "142051   mimic  39993683\n",
       "142063   mimic  39993968\n",
       "\n",
       "[8313 rows x 2 columns]"
      ]
     },
     "execution_count": 14,
     "metadata": {},
     "output_type": "execute_result"
    }
   ],
   "source": [
    "# There are 16 samples that do not have data with time= -1 and time=-2. Fill them with data with time= 1\n",
    "df_fea = df_merge\n",
    "com_lst = []\n",
    "for i in df_fea.stay_id.unique().tolist():\n",
    "    min_t = -2 \n",
    "    max_t = int(max(df_fea[df_fea.stay_id==i].time))\n",
    "    for j in range(min_t,max_t+1,1):\n",
    "        com_lst.append([i,j])\n",
    "df_complete = pd.DataFrame(com_lst,columns=[\"stay_id\", \"time\"])  \n",
    "df_fea = pd.merge(df_complete, df_merge, how=\"left\", on=[\"stay_id\",\"time\"])\n",
    "df_fea = df_fea[df_fea[\"time\"]!=0]\n",
    "\n",
    "df_fea = df_fea.sort_values([\"stay_id\",\"time\"])\n",
    "df_fea[\"stay_id_copy\"] = df_fea[\"stay_id\"]\n",
    "df_fea = df_fea.groupby(['stay_id_copy']).transform(lambda x: x.fillna(method='ffill').fillna(method='bfill'))\n",
    "df_fea.to_csv(\"df_saki_timeseries_feature_all.csv\",index=False)\n",
    "df_fea[[\"dataset\",\"stay_id\"]].drop_duplicates()"
   ]
  },
  {
   "cell_type": "code",
   "execution_count": null,
   "id": "020b2956",
   "metadata": {},
   "outputs": [],
   "source": []
  }
 ],
 "metadata": {
  "kernelspec": {
   "display_name": "Python [conda env:mytensor]",
   "language": "python",
   "name": "conda-env-mytensor-py"
  },
  "language_info": {
   "codemirror_mode": {
    "name": "ipython",
    "version": 3
   },
   "file_extension": ".py",
   "mimetype": "text/x-python",
   "name": "python",
   "nbconvert_exporter": "python",
   "pygments_lexer": "ipython3",
   "version": "3.9.12"
  },
  "toc": {
   "base_numbering": 1,
   "nav_menu": {},
   "number_sections": true,
   "sideBar": true,
   "skip_h1_title": false,
   "title_cell": "Table of Contents",
   "title_sidebar": "Contents",
   "toc_cell": false,
   "toc_position": {
    "height": "calc(100% - 180px)",
    "left": "10px",
    "top": "150px",
    "width": "182.442px"
   },
   "toc_section_display": true,
   "toc_window_display": true
  },
  "varInspector": {
   "cols": {
    "lenName": 16,
    "lenType": 16,
    "lenVar": 40
   },
   "kernels_config": {
    "python": {
     "delete_cmd_postfix": "",
     "delete_cmd_prefix": "del ",
     "library": "var_list.py",
     "varRefreshCmd": "print(var_dic_list())"
    },
    "r": {
     "delete_cmd_postfix": ") ",
     "delete_cmd_prefix": "rm(",
     "library": "var_list.r",
     "varRefreshCmd": "cat(var_dic_list()) "
    }
   },
   "types_to_exclude": [
    "module",
    "function",
    "builtin_function_or_method",
    "instance",
    "_Feature"
   ],
   "window_display": false
  }
 },
 "nbformat": 4,
 "nbformat_minor": 5
}
