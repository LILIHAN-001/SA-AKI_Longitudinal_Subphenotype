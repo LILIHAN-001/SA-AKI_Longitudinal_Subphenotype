{
 "cells": [
  {
   "cell_type": "code",
   "execution_count": 1,
   "id": "d3eb9002",
   "metadata": {
    "ExecuteTime": {
     "end_time": "2023-11-10T16:05:43.773627Z",
     "start_time": "2023-11-10T16:05:43.416358Z"
    }
   },
   "outputs": [],
   "source": [
    "import pandas as pd\n",
    "import numpy as np"
   ]
  },
  {
   "cell_type": "markdown",
   "id": "51e5464d",
   "metadata": {},
   "source": [
    "# 导入数据，转时间格式"
   ]
  },
  {
   "cell_type": "code",
   "execution_count": 2,
   "id": "282fcbfc",
   "metadata": {
    "ExecuteTime": {
     "end_time": "2023-11-10T16:05:44.349349Z",
     "start_time": "2023-11-10T16:05:43.774853Z"
    }
   },
   "outputs": [
    {
     "data": {
      "text/html": [
       "<div>\n",
       "<style scoped>\n",
       "    .dataframe tbody tr th:only-of-type {\n",
       "        vertical-align: middle;\n",
       "    }\n",
       "\n",
       "    .dataframe tbody tr th {\n",
       "        vertical-align: top;\n",
       "    }\n",
       "\n",
       "    .dataframe thead th {\n",
       "        text-align: right;\n",
       "    }\n",
       "</style>\n",
       "<table border=\"1\" class=\"dataframe\">\n",
       "  <thead>\n",
       "    <tr style=\"text-align: right;\">\n",
       "      <th></th>\n",
       "      <th>stay_id</th>\n",
       "      <th>time</th>\n",
       "      <th>calcium</th>\n",
       "      <th>bicarbonate</th>\n",
       "      <th>wbc</th>\n",
       "      <th>spo2</th>\n",
       "      <th>po2</th>\n",
       "      <th>potassium</th>\n",
       "      <th>fio2</th>\n",
       "      <th>dataset</th>\n",
       "      <th>...</th>\n",
       "      <th>lactate</th>\n",
       "      <th>urineoutput</th>\n",
       "      <th>chloride</th>\n",
       "      <th>dbp</th>\n",
       "      <th>glucose</th>\n",
       "      <th>temperature</th>\n",
       "      <th>groupHPD</th>\n",
       "      <th>sodium</th>\n",
       "      <th>baseexcess</th>\n",
       "      <th>datetime</th>\n",
       "    </tr>\n",
       "  </thead>\n",
       "  <tbody>\n",
       "    <tr>\n",
       "      <th>0</th>\n",
       "      <td>5</td>\n",
       "      <td>-2</td>\n",
       "      <td>11.1</td>\n",
       "      <td>21.0</td>\n",
       "      <td>20.600001</td>\n",
       "      <td>98.000002</td>\n",
       "      <td>162.0</td>\n",
       "      <td>4.0</td>\n",
       "      <td>41.0</td>\n",
       "      <td>aumcdb</td>\n",
       "      <td>...</td>\n",
       "      <td>1.0</td>\n",
       "      <td>20.0</td>\n",
       "      <td>105.0</td>\n",
       "      <td>70.2341</td>\n",
       "      <td>76.200002</td>\n",
       "      <td>35.8</td>\n",
       "      <td>2.0</td>\n",
       "      <td>140.0</td>\n",
       "      <td>4.2</td>\n",
       "      <td>2021-12-31 12:00:00</td>\n",
       "    </tr>\n",
       "  </tbody>\n",
       "</table>\n",
       "<p>1 rows × 31 columns</p>\n",
       "</div>"
      ],
      "text/plain": [
       "   stay_id  time  calcium  bicarbonate        wbc       spo2    po2  \\\n",
       "0        5    -2     11.1         21.0  20.600001  98.000002  162.0   \n",
       "\n",
       "   potassium  fio2 dataset  ...  lactate  urineoutput  chloride      dbp  \\\n",
       "0        4.0  41.0  aumcdb  ...      1.0         20.0     105.0  70.2341   \n",
       "\n",
       "     glucose  temperature  groupHPD  sodium  baseexcess            datetime  \n",
       "0  76.200002         35.8       2.0   140.0         4.2 2021-12-31 12:00:00  \n",
       "\n",
       "[1 rows x 31 columns]"
      ]
     },
     "execution_count": 2,
     "metadata": {},
     "output_type": "execute_result"
    }
   ],
   "source": [
    "df = pd.read_csv(\"./df_saki_timeseries_feature.csv\")\n",
    "df = df.sort_values([\"stay_id\",\"time\"])\n",
    "df[\"time_h\"] = df[\"time\"] * 6\n",
    "df['datetime'] = pd.to_datetime('2022-01-01') + pd.to_timedelta(df['time_h'], unit='h') # 将小时列转换为datetime格式\n",
    "df = df.drop([\"time_h\"],axis=1)\n",
    "df.head(1)"
   ]
  },
  {
   "cell_type": "markdown",
   "id": "c524fba8",
   "metadata": {},
   "source": [
    "# 提取特征\n",
    "You can convert each time series into a fixed-dimensional feature vector using libraries like tsfresh（https://tsfresh.readthedocs.io/en/latest/index.html） or catch22（https://github.com/DynamicsAndNeuralSystems/catch22）, and then use the autogluon.tabular.TabularPredictor with problem_type=\"classification\" to classify time series.\n"
   ]
  },
  {
   "cell_type": "markdown",
   "id": "7de7d793",
   "metadata": {},
   "source": [
    "## tsfresh b12 - a12\n",
    "- tsfresh是开源的可以自动提取各种时间特征的python包"
   ]
  },
  {
   "cell_type": "code",
   "execution_count": 3,
   "id": "0328b26f",
   "metadata": {
    "ExecuteTime": {
     "end_time": "2023-11-10T16:05:44.362127Z",
     "start_time": "2023-11-10T16:05:44.351060Z"
    }
   },
   "outputs": [],
   "source": [
    "# 选择saki前后12h的数据\n",
    "df = df[df[\"time\"].isin([1,2,3,4])]\n",
    "df.index = pd.RangeIndex(len(df.index))\n",
    "\n",
    "fix_feature = [ 'time' , 'dataset' ,'groupHPD'] #,'stay_id', 'datetime'\n",
    "select_feature = list(set(df.columns.tolist()).difference(fix_feature))\n",
    "\n",
    "X_timeseries = df[select_feature] "
   ]
  },
  {
   "cell_type": "code",
   "execution_count": 4,
   "id": "aaa6f1f3",
   "metadata": {
    "ExecuteTime": {
     "end_time": "2023-11-10T16:44:32.260970Z",
     "start_time": "2023-11-10T16:05:44.363307Z"
    },
    "run_control": {
     "marked": true
    }
   },
   "outputs": [
    {
     "name": "stderr",
     "output_type": "stream",
     "text": [
      "/home/hanl/miniconda3/envs/sp_shock/lib/python3.9/site-packages/scipy/__init__.py:146: UserWarning: A NumPy version >=1.16.5 and <1.23.0 is required for this version of SciPy (detected version 1.23.5\n",
      "  warnings.warn(f\"A NumPy version >={np_minversion} and <{np_maxversion}\"\n",
      "Feature Extraction: 100%|██████████| 20/20 [30:51<00:00, 92.57s/it]  \n"
     ]
    }
   ],
   "source": [
    "\n",
    "df_y = df[[\"stay_id\",\"groupHPD\",\"dataset\"]].drop_duplicates()\n",
    "df_y.index = pd.RangeIndex(len(df_y.index))\n",
    "y = df_y[\"groupHPD\"]\n",
    "\n",
    "from tsfresh import extract_features\n",
    "from tsfresh import select_features\n",
    "from tsfresh.utilities.dataframe_functions import impute\n",
    "from tsfresh.utilities.distribution import MultiprocessingDistributor\n",
    "Distributor = MultiprocessingDistributor(n_workers=4,\n",
    "                                         disable_progressbar=False,\n",
    "                                         progressbar_title=\"Feature Extraction\")\n",
    "\n",
    "extracted_features = extract_features(X_timeseries, column_id=\"stay_id\", column_sort=\"datetime\",\n",
    "                                      impute_function=impute,distributor=Distributor)\n",
    "\n",
    "extracted_features.index = pd.RangeIndex(len(extracted_features.index))\n",
    "features_filtered = select_features(extracted_features, y)\n",
    "features_filtered = pd.concat([df_y,features_filtered], axis=1)\n",
    "features_filtered.to_csv(\"./df_saki_tsfresh_generate_features_a1234.csv\",index=False)\n"
   ]
  },
  {
   "cell_type": "markdown",
   "id": "c8ad814e",
   "metadata": {},
   "source": [
    "# 过滤特征"
   ]
  },
  {
   "cell_type": "code",
   "execution_count": 5,
   "id": "255da915",
   "metadata": {
    "ExecuteTime": {
     "end_time": "2023-11-10T16:44:32.265276Z",
     "start_time": "2023-11-10T16:44:32.263008Z"
    }
   },
   "outputs": [],
   "source": [
    "import pandas as pd\n",
    "import numpy as np"
   ]
  },
  {
   "cell_type": "code",
   "execution_count": 6,
   "id": "ec6d9ad7",
   "metadata": {
    "ExecuteTime": {
     "end_time": "2023-11-10T16:44:32.875954Z",
     "start_time": "2023-11-10T16:44:32.266369Z"
    },
    "run_control": {
     "marked": false
    }
   },
   "outputs": [
    {
     "data": {
      "text/plain": [
       "(8644, 524)"
      ]
     },
     "execution_count": 6,
     "metadata": {},
     "output_type": "execute_result"
    }
   ],
   "source": [
    "df_fea = pd.read_csv(\"./df_saki_tsfresh_generate_features_a1234.csv\")\n",
    "X = df_fea.drop([\"stay_id\",\"dataset\",'groupHPD'],axis=1)\n",
    "y = df_fea[[\"groupHPD\"]]\n",
    "X.shape"
   ]
  },
  {
   "cell_type": "markdown",
   "id": "878fd73d",
   "metadata": {
    "run_control": {
     "marked": true
    }
   },
   "source": [
    "## person相关系数 特征之间的线性相关"
   ]
  },
  {
   "cell_type": "code",
   "execution_count": 7,
   "id": "631295f3",
   "metadata": {
    "ExecuteTime": {
     "end_time": "2023-11-10T16:44:38.411105Z",
     "start_time": "2023-11-10T16:44:32.877000Z"
    }
   },
   "outputs": [
    {
     "name": "stdout",
     "output_type": "stream",
     "text": [
      "person相关系数大于0.9的特征: 396 剩余特征数： 128\n"
     ]
    },
    {
     "name": "stderr",
     "output_type": "stream",
     "text": [
      "<ipython-input-7-c0e409dc9687>:4: DeprecationWarning: `np.bool` is a deprecated alias for the builtin `bool`. To silence this warning, use `bool` by itself. Doing this will not modify any behavior and is safe. If you specifically wanted the numpy scalar type, use `np.bool_` here.\n",
      "Deprecated in NumPy 1.20; for more details and guidance: https://numpy.org/devdocs/release/1.20.0-notes.html#deprecations\n",
      "  upper = corr_df.where(np.triu(np.ones(corr_df.shape), k=1).astype(np.bool)) #返回上三角矩阵\n"
     ]
    }
   ],
   "source": [
    "import seaborn as sns\n",
    "corr_df=X.corr()\n",
    "threshold = 0.9 # 剔除相关性系数高于threshold的corr_drop\n",
    "upper = corr_df.where(np.triu(np.ones(corr_df.shape), k=1).astype(np.bool)) #返回上三角矩阵\n",
    "corr_drop = [column for column in upper.columns if any(upper[column].abs() > threshold)]\n",
    "diff_fea = list(set(X.columns.tolist()).difference(corr_drop))\n",
    "print(\"person相关系数大于0.9的特征:\",len(corr_drop), \"剩余特征数：\", len(diff_fea))\n",
    "X = X[diff_fea]"
   ]
  },
  {
   "cell_type": "markdown",
   "id": "d6bac899",
   "metadata": {},
   "source": [
    "## 信息量：可以通过计算某个特征对于分类这样的事件到底有多大信息量贡献\n",
    "- 特征与标签类的互信息越大，特征与标签“相关性越强”。反之。若两者互信息为0,说明两者独立，没什么关系。 \n"
   ]
  },
  {
   "cell_type": "code",
   "execution_count": 8,
   "id": "6cf5db1b",
   "metadata": {
    "ExecuteTime": {
     "end_time": "2023-11-10T16:44:50.923605Z",
     "start_time": "2023-11-10T16:44:38.412893Z"
    }
   },
   "outputs": [
    {
     "name": "stderr",
     "output_type": "stream",
     "text": [
      "/home/hanl/miniconda3/envs/sp_shock/lib/python3.9/site-packages/sklearn/utils/validation.py:1143: DataConversionWarning: A column-vector y was passed when a 1d array was expected. Please change the shape of y to (n_samples, ), for example using ravel().\n",
      "  y = column_or_1d(y, warn=True)\n"
     ]
    },
    {
     "name": "stdout",
     "output_type": "stream",
     "text": [
      "互信息筛选后的特征数量： 115\n"
     ]
    }
   ],
   "source": [
    "from sklearn.feature_selection import mutual_info_classif\n",
    "from sklearn.datasets import load_iris\n",
    "mic_res = mutual_info_classif(X,y,random_state=10)\n",
    "XT = X.T\n",
    "XT[\"MIC\"] = mic_res\n",
    "XT = XT.sort_values(\"MIC\",ascending=False)\n",
    "XT = XT[XT[\"MIC\"]>0]\n",
    "XT = XT.drop([\"MIC\"],axis=1)\n",
    "XTT = XT.T\n",
    "df_final = pd.concat([df_fea[[\"stay_id\",\"dataset\",'groupHPD']],XTT],axis=1)\n",
    "\n",
    "print(\"互信息筛选后的特征数量：\",XTT.shape[1])"
   ]
  },
  {
   "cell_type": "code",
   "execution_count": 9,
   "id": "a44238fc",
   "metadata": {
    "ExecuteTime": {
     "end_time": "2023-11-10T16:44:51.552434Z",
     "start_time": "2023-11-10T16:44:50.925171Z"
    }
   },
   "outputs": [],
   "source": [
    "df_final.to_csv(\"./df_saki_tsfresh_generate_features_a1234_CorrMICfilt.csv\",index=False)"
   ]
  }
 ],
 "metadata": {
  "kernelspec": {
   "display_name": "Python [conda env:sp_shock] *",
   "language": "python",
   "name": "conda-env-sp_shock-py"
  },
  "language_info": {
   "codemirror_mode": {
    "name": "ipython",
    "version": 3
   },
   "file_extension": ".py",
   "mimetype": "text/x-python",
   "name": "python",
   "nbconvert_exporter": "python",
   "pygments_lexer": "ipython3",
   "version": "3.9.5"
  },
  "toc": {
   "base_numbering": 1,
   "nav_menu": {},
   "number_sections": true,
   "sideBar": true,
   "skip_h1_title": false,
   "title_cell": "Table of Contents",
   "title_sidebar": "Contents",
   "toc_cell": false,
   "toc_position": {
    "height": "calc(100% - 180px)",
    "left": "10px",
    "top": "150px",
    "width": "226.435px"
   },
   "toc_section_display": true,
   "toc_window_display": true
  },
  "varInspector": {
   "cols": {
    "lenName": 16,
    "lenType": 16,
    "lenVar": 40
   },
   "kernels_config": {
    "python": {
     "delete_cmd_postfix": "",
     "delete_cmd_prefix": "del ",
     "library": "var_list.py",
     "varRefreshCmd": "print(var_dic_list())"
    },
    "r": {
     "delete_cmd_postfix": ") ",
     "delete_cmd_prefix": "rm(",
     "library": "var_list.r",
     "varRefreshCmd": "cat(var_dic_list()) "
    }
   },
   "types_to_exclude": [
    "module",
    "function",
    "builtin_function_or_method",
    "instance",
    "_Feature"
   ],
   "window_display": false
  }
 },
 "nbformat": 4,
 "nbformat_minor": 5
}
