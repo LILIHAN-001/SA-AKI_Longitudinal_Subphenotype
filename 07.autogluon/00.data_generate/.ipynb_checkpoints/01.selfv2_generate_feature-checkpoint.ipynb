{
 "cells": [
  {
   "cell_type": "code",
   "execution_count": 1,
   "id": "95dabb1a",
   "metadata": {
    "ExecuteTime": {
     "end_time": "2023-12-15T16:11:17.655123Z",
     "start_time": "2023-12-15T16:11:16.977297Z"
    },
    "run_control": {
     "marked": true
    }
   },
   "outputs": [
    {
     "name": "stdout",
     "output_type": "stream",
     "text": [
      "8313\n"
     ]
    },
    {
     "data": {
      "text/html": [
       "<div>\n",
       "<style scoped>\n",
       "    .dataframe tbody tr th:only-of-type {\n",
       "        vertical-align: middle;\n",
       "    }\n",
       "\n",
       "    .dataframe tbody tr th {\n",
       "        vertical-align: top;\n",
       "    }\n",
       "\n",
       "    .dataframe thead th {\n",
       "        text-align: right;\n",
       "    }\n",
       "</style>\n",
       "<table border=\"1\" class=\"dataframe\">\n",
       "  <thead>\n",
       "    <tr style=\"text-align: right;\">\n",
       "      <th></th>\n",
       "      <th>stay_id</th>\n",
       "      <th>time</th>\n",
       "      <th>aniongap</th>\n",
       "      <th>bilirubin</th>\n",
       "      <th>po2</th>\n",
       "      <th>mbp</th>\n",
       "      <th>calcium</th>\n",
       "      <th>baseexcess</th>\n",
       "      <th>heart_rate</th>\n",
       "      <th>temperature</th>\n",
       "      <th>...</th>\n",
       "      <th>hemoglobin</th>\n",
       "      <th>lactate</th>\n",
       "      <th>ph</th>\n",
       "      <th>spo2</th>\n",
       "      <th>glucose</th>\n",
       "      <th>urineoutput</th>\n",
       "      <th>sodium</th>\n",
       "      <th>fio2</th>\n",
       "      <th>dbp</th>\n",
       "      <th>creatinine</th>\n",
       "    </tr>\n",
       "  </thead>\n",
       "  <tbody>\n",
       "    <tr>\n",
       "      <th>2</th>\n",
       "      <td>5</td>\n",
       "      <td>1</td>\n",
       "      <td>10.0</td>\n",
       "      <td>5.0</td>\n",
       "      <td>95.0</td>\n",
       "      <td>72.807439</td>\n",
       "      <td>11.500000</td>\n",
       "      <td>2.70</td>\n",
       "      <td>96.275000</td>\n",
       "      <td>36.35</td>\n",
       "      <td>...</td>\n",
       "      <td>13.132095</td>\n",
       "      <td>2.35</td>\n",
       "      <td>7.320</td>\n",
       "      <td>96.500000</td>\n",
       "      <td>102.600001</td>\n",
       "      <td>40.000000</td>\n",
       "      <td>138.00</td>\n",
       "      <td>26.0</td>\n",
       "      <td>58.461111</td>\n",
       "      <td>0.6554</td>\n",
       "    </tr>\n",
       "    <tr>\n",
       "      <th>3</th>\n",
       "      <td>5</td>\n",
       "      <td>2</td>\n",
       "      <td>7.0</td>\n",
       "      <td>5.0</td>\n",
       "      <td>58.0</td>\n",
       "      <td>73.729776</td>\n",
       "      <td>11.799999</td>\n",
       "      <td>1.15</td>\n",
       "      <td>94.955556</td>\n",
       "      <td>36.30</td>\n",
       "      <td>...</td>\n",
       "      <td>13.051530</td>\n",
       "      <td>1.30</td>\n",
       "      <td>7.335</td>\n",
       "      <td>94.999999</td>\n",
       "      <td>117.899999</td>\n",
       "      <td>43.333333</td>\n",
       "      <td>137.25</td>\n",
       "      <td>26.0</td>\n",
       "      <td>60.433569</td>\n",
       "      <td>0.7571</td>\n",
       "    </tr>\n",
       "  </tbody>\n",
       "</table>\n",
       "<p>2 rows × 29 columns</p>\n",
       "</div>"
      ],
      "text/plain": [
       "   stay_id  time  aniongap  bilirubin   po2        mbp    calcium  baseexcess  \\\n",
       "2        5     1      10.0        5.0  95.0  72.807439  11.500000        2.70   \n",
       "3        5     2       7.0        5.0  58.0  73.729776  11.799999        1.15   \n",
       "\n",
       "   heart_rate  temperature  ...  hemoglobin  lactate     ph       spo2  \\\n",
       "2   96.275000        36.35  ...   13.132095     2.35  7.320  96.500000   \n",
       "3   94.955556        36.30  ...   13.051530     1.30  7.335  94.999999   \n",
       "\n",
       "      glucose  urineoutput  sodium  fio2        dbp  creatinine  \n",
       "2  102.600001    40.000000  138.00  26.0  58.461111      0.6554  \n",
       "3  117.899999    43.333333  137.25  26.0  60.433569      0.7571  \n",
       "\n",
       "[2 rows x 29 columns]"
      ]
     },
     "execution_count": 1,
     "metadata": {},
     "output_type": "execute_result"
    }
   ],
   "source": [
    "import pandas as pd\n",
    "import numpy as np\n",
    "time_lst = [ 1, 2,3,4] \n",
    "df = pd.read_csv(\"./df_saki_timeseries_feature.csv\")\n",
    "df = df[df[\"time\"].isin(time_lst)]\n",
    "print(len(df.stay_id.unique()))\n",
    "df_ = df.drop([\"dataset\",'groupHPD'],axis=1)\n",
    "df_.head(2)"
   ]
  },
  {
   "cell_type": "code",
   "execution_count": 2,
   "id": "1799e292",
   "metadata": {
    "ExecuteTime": {
     "end_time": "2023-12-15T16:11:17.661731Z",
     "start_time": "2023-12-15T16:11:17.656618Z"
    }
   },
   "outputs": [],
   "source": [
    "import pandas as pd\n",
    "\n",
    "def calculate_feature_changes(data, patient_id_col, time_col, feature_cols):\n",
    "    \"\"\"\n",
    "    计算不同时间点的特征差值和变化速度\n",
    "    \n",
    "    参数：\n",
    "    data (DataFrame): 包含患者临床数据的DataFrame\n",
    "    patient_id_col (str): 患者ID列的名称\n",
    "    time_col (str): 时间列的名称\n",
    "    feature_cols (list): 包含要计算差值和变化速度的特征列的列表\n",
    "    \n",
    "    返回值：\n",
    "    DataFrame: 包含特征差值和变化速度的结果DataFrame\n",
    "    \"\"\"\n",
    "    \n",
    "    result = pd.DataFrame(columns=[patient_id_col] + feature_cols)\n",
    "    \n",
    "    # 按照患者ID进行分组\n",
    "    grouped = data.groupby(patient_id_col)\n",
    "    \n",
    "    # 获取所有的时间点组合\n",
    "    timepoints = data[time_col].unique()\n",
    "    time_combinations = [(t1, t2) for t1 in timepoints for t2 in timepoints if t1 < t2]\n",
    "    \n",
    "    for patient_id, group in grouped:\n",
    "        for timepoint1, timepoint2 in time_combinations:\n",
    "            # 获取指定时间点的数据\n",
    "            timepoint1_data = group[group[time_col] == timepoint1]\n",
    "            timepoint2_data = group[group[time_col] == timepoint2]\n",
    "\n",
    "            if len(timepoint1_data) == 1 and len(timepoint2_data) == 1:\n",
    "                # 计算特征差值\n",
    "                feature_changes = timepoint2_data[feature_cols].values - timepoint1_data[feature_cols].values\n",
    "                feature_changes = feature_changes.flatten()\n",
    "\n",
    "                # 计算变化速度（假设时间间隔为1）\n",
    "                feature_speeds = feature_changes / ((timepoint2 - timepoint1)*6)\n",
    "\n",
    "                # 创建包含结果的Series\n",
    "                result_series = pd.Series(data=[patient_id] + list(feature_changes) + list(feature_speeds),\n",
    "                                          index=[patient_id_col] + [f\"{col}_diff_{timepoint1}_{timepoint2}\" for col in feature_cols] + [f\"{col}_speed_{timepoint1}_{timepoint2}\" for col in feature_cols])\n",
    "\n",
    "                # 将结果添加到结果DataFrame中\n",
    "                result = result.append(result_series, ignore_index=True)\n",
    "\n",
    "    return result"
   ]
  },
  {
   "cell_type": "markdown",
   "id": "092533d2",
   "metadata": {},
   "source": [
    "# 生成特征"
   ]
  },
  {
   "cell_type": "code",
   "execution_count": null,
   "id": "90a52311",
   "metadata": {
    "ExecuteTime": {
     "start_time": "2023-12-15T16:02:35.078Z"
    },
    "run_control": {
     "marked": true
    }
   },
   "outputs": [],
   "source": [
    "data = df_ \n",
    "feature_cols = ['bicarbonate', 'sodium', 'temperature', 'po2',\n",
    "       'fio2', 'dbp', 'creatinine', 'aniongap', 'heart_rate', 'pco2',\n",
    "       'hematocrit', 'baseexcess', 'potassium', 'wbc', 'calcium', 'resp_rate',\n",
    "       'chloride', 'glucose', 'urineoutput', 'spo2', 'hemoglobin',\n",
    "       'crea_divide_basecrea', 'sbp', 'mbp', 'lactate', 'ph']\n",
    "df_res1 = calculate_feature_changes(data, \"stay_id\", \"time\", feature_cols)\n",
    "df_res1 = df_res1.groupby('stay_id').first().reset_index()\n",
    "df_res1 = df_res1.drop(feature_cols,axis=1)\n",
    "df_res1.head(2)\n",
    "df_res1.to_csv(\"tmp_df_fea_change.csv\",index=False)\n",
    "# 这步竟然要10.5个小时，代码太拉了"
   ]
  },
  {
   "cell_type": "code",
   "execution_count": null,
   "id": "25d348b3",
   "metadata": {
    "ExecuteTime": {
     "start_time": "2023-12-15T16:02:35.082Z"
    }
   },
   "outputs": [],
   "source": [
    "tmp = df_.drop(\"time\",axis=1)\n",
    "df_res2 = tmp.groupby([\"stay_id\"]).agg([\"max\",\"min\",\"mean\"])\n",
    "df_res2.columns = ['_'.join(col) for col in df_res2.columns]\n",
    "df_res2 = df_res2.reset_index()\n",
    "df_res2.head(2)"
   ]
  },
  {
   "cell_type": "code",
   "execution_count": null,
   "id": "4ef3b398",
   "metadata": {
    "ExecuteTime": {
     "start_time": "2023-12-15T16:02:35.086Z"
    }
   },
   "outputs": [],
   "source": [
    "df_merge =  pd.merge(df_res1,df_res2,how=\"inner\",on=\"stay_id\")\n",
    "len(df_merge.stay_id.unique())"
   ]
  },
  {
   "cell_type": "code",
   "execution_count": null,
   "id": "69791a81",
   "metadata": {
    "ExecuteTime": {
     "start_time": "2023-12-15T16:02:35.088Z"
    }
   },
   "outputs": [],
   "source": [
    "tmp_df = df[[\"stay_id\",\"groupHPD\",\"dataset\"]].drop_duplicates()\n",
    "tmp_df.index = pd.RangeIndex(len(tmp_df.index))\n",
    "df_merge = pd.concat([tmp_df[[\"groupHPD\",\"dataset\"]],df_merge],axis=1)\n",
    "df_merge.to_csv(\"df_saki_selfv2_generate_features_a1234.csv\",index=False)\n",
    "df_merge.shape"
   ]
  },
  {
   "cell_type": "markdown",
   "id": "12724379",
   "metadata": {},
   "source": [
    "# 过滤特征"
   ]
  },
  {
   "cell_type": "code",
   "execution_count": null,
   "id": "f9cc24ac",
   "metadata": {
    "ExecuteTime": {
     "start_time": "2023-12-15T16:02:35.090Z"
    }
   },
   "outputs": [],
   "source": [
    "df_fea = pd.read_csv(\"./df_saki_selfv2_generate_features_a1234.csv\")\n",
    "X = df_fea.drop([\"stay_id\",\"dataset\",'groupHPD'],axis=1)\n",
    "y = df_fea[[\"groupHPD\"]]\n",
    "X.shape"
   ]
  },
  {
   "cell_type": "markdown",
   "id": "1d0118c3",
   "metadata": {},
   "source": [
    "## person相关系数 特征之间的线性相关"
   ]
  },
  {
   "cell_type": "code",
   "execution_count": null,
   "id": "3cd554c3",
   "metadata": {
    "ExecuteTime": {
     "start_time": "2023-12-15T16:02:35.094Z"
    }
   },
   "outputs": [],
   "source": [
    "import seaborn as sns\n",
    "corr_df=X.corr()\n",
    "threshold = 0.9 # 剔除相关性系数高于threshold的corr_drop\n",
    "upper = corr_df.where(np.triu(np.ones(corr_df.shape), k=1).astype(np.bool)) #返回上三角矩阵\n",
    "corr_drop = [column for column in upper.columns if any(upper[column].abs() > threshold)]\n",
    "diff_fea = list(set(X.columns.tolist()).difference(corr_drop))\n",
    "print(\"person相关系数大于0.9的特征:\",len(corr_drop), \"剩余特征数：\", len(diff_fea))\n",
    "X = X[diff_fea]"
   ]
  },
  {
   "cell_type": "markdown",
   "id": "6197acf6",
   "metadata": {
    "run_control": {
     "marked": true
    }
   },
   "source": [
    "## 信息量：可以通过计算某个特征对于分类这样的事件到底有多大信息量贡献\n",
    "- 特征与标签类的互信息越大，特征与标签“相关性越强”。反之。若两者互信息为0,说明两者独立，没什么关系。 \n",
    "- 互信息在已经给定另一个特征的情况下一个特征可以提供多少信息量。互信息会通过计算两个特征所共有的信息，把上述推理工程形式化表达出来。与相关性不同，它依赖的不是数据序列，而是数据的分布"
   ]
  },
  {
   "cell_type": "code",
   "execution_count": null,
   "id": "f5fe48dc",
   "metadata": {
    "ExecuteTime": {
     "start_time": "2023-12-15T16:02:35.097Z"
    }
   },
   "outputs": [],
   "source": [
    "from sklearn.feature_selection import mutual_info_classif\n",
    "from sklearn.datasets import load_iris\n",
    "mic_res = mutual_info_classif(X,y,random_state=10)\n",
    "XT = X.T\n",
    "XT[\"MIC\"] = mic_res\n",
    "XT = XT.sort_values(\"MIC\",ascending=False)\n",
    "XT = XT[XT[\"MIC\"]>0]\n",
    "XT = XT.drop([\"MIC\"],axis=1)\n",
    "XTT = XT.T\n",
    "df_final = pd.concat([df_fea[[\"stay_id\",\"dataset\",'groupHPD']],XTT],axis=1)\n",
    "\n",
    "print(\"互信息筛选后的特征数量：\",XTT.shape[1])"
   ]
  },
  {
   "cell_type": "code",
   "execution_count": null,
   "id": "bebe57cd",
   "metadata": {
    "ExecuteTime": {
     "start_time": "2023-12-15T16:02:35.102Z"
    }
   },
   "outputs": [],
   "source": [
    "df_final.to_csv(\"df_saki_selfv2_generate_features_a1234_CorrMICfilt.csv\",index=False)"
   ]
  },
  {
   "cell_type": "code",
   "execution_count": null,
   "id": "3e3d7ab6",
   "metadata": {},
   "outputs": [],
   "source": []
  }
 ],
 "metadata": {
  "kernelspec": {
   "display_name": "Python [conda env:mytensor]",
   "language": "python",
   "name": "conda-env-mytensor-py"
  },
  "language_info": {
   "codemirror_mode": {
    "name": "ipython",
    "version": 3
   },
   "file_extension": ".py",
   "mimetype": "text/x-python",
   "name": "python",
   "nbconvert_exporter": "python",
   "pygments_lexer": "ipython3",
   "version": "3.9.12"
  },
  "toc": {
   "base_numbering": 1,
   "nav_menu": {},
   "number_sections": true,
   "sideBar": true,
   "skip_h1_title": false,
   "title_cell": "Table of Contents",
   "title_sidebar": "Contents",
   "toc_cell": false,
   "toc_position": {},
   "toc_section_display": true,
   "toc_window_display": false
  },
  "varInspector": {
   "cols": {
    "lenName": 16,
    "lenType": 16,
    "lenVar": 40
   },
   "kernels_config": {
    "python": {
     "delete_cmd_postfix": "",
     "delete_cmd_prefix": "del ",
     "library": "var_list.py",
     "varRefreshCmd": "print(var_dic_list())"
    },
    "r": {
     "delete_cmd_postfix": ") ",
     "delete_cmd_prefix": "rm(",
     "library": "var_list.r",
     "varRefreshCmd": "cat(var_dic_list()) "
    }
   },
   "types_to_exclude": [
    "module",
    "function",
    "builtin_function_or_method",
    "instance",
    "_Feature"
   ],
   "window_display": false
  }
 },
 "nbformat": 4,
 "nbformat_minor": 5
}
