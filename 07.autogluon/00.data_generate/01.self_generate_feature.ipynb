{
 "cells": [
  {
   "cell_type": "code",
   "execution_count": 1,
   "id": "95dabb1a",
   "metadata": {
    "ExecuteTime": {
     "end_time": "2023-07-04T08:21:04.052365Z",
     "start_time": "2023-07-04T08:21:03.255337Z"
    },
    "run_control": {
     "marked": true
    }
   },
   "outputs": [
    {
     "data": {
      "text/html": [
       "<div>\n",
       "<style scoped>\n",
       "    .dataframe tbody tr th:only-of-type {\n",
       "        vertical-align: middle;\n",
       "    }\n",
       "\n",
       "    .dataframe tbody tr th {\n",
       "        vertical-align: top;\n",
       "    }\n",
       "\n",
       "    .dataframe thead th {\n",
       "        text-align: right;\n",
       "    }\n",
       "</style>\n",
       "<table border=\"1\" class=\"dataframe\">\n",
       "  <thead>\n",
       "    <tr style=\"text-align: right;\">\n",
       "      <th></th>\n",
       "      <th>stay_id</th>\n",
       "      <th>time</th>\n",
       "      <th>bicarbonate</th>\n",
       "      <th>sodium</th>\n",
       "      <th>temperature</th>\n",
       "      <th>po2</th>\n",
       "      <th>fio2</th>\n",
       "      <th>dbp</th>\n",
       "      <th>creatinine</th>\n",
       "      <th>aniongap</th>\n",
       "      <th>...</th>\n",
       "      <th>chloride</th>\n",
       "      <th>glucose</th>\n",
       "      <th>urineoutput</th>\n",
       "      <th>spo2</th>\n",
       "      <th>hemoglobin</th>\n",
       "      <th>crea_divide_basecrea</th>\n",
       "      <th>sbp</th>\n",
       "      <th>mbp</th>\n",
       "      <th>lactate</th>\n",
       "      <th>ph</th>\n",
       "    </tr>\n",
       "  </thead>\n",
       "  <tbody>\n",
       "    <tr>\n",
       "      <th>0</th>\n",
       "      <td>5</td>\n",
       "      <td>-2</td>\n",
       "      <td>21.0</td>\n",
       "      <td>140.0</td>\n",
       "      <td>35.8</td>\n",
       "      <td>162.0</td>\n",
       "      <td>41.0</td>\n",
       "      <td>70.2341</td>\n",
       "      <td>0.6554</td>\n",
       "      <td>11.5</td>\n",
       "      <td>...</td>\n",
       "      <td>105.0</td>\n",
       "      <td>76.200002</td>\n",
       "      <td>20.0</td>\n",
       "      <td>98.000002</td>\n",
       "      <td>14.28686</td>\n",
       "      <td>1.03</td>\n",
       "      <td>114.899234</td>\n",
       "      <td>84.676544</td>\n",
       "      <td>1.0</td>\n",
       "      <td>7.33</td>\n",
       "    </tr>\n",
       "    <tr>\n",
       "      <th>1</th>\n",
       "      <td>5</td>\n",
       "      <td>-1</td>\n",
       "      <td>21.0</td>\n",
       "      <td>140.0</td>\n",
       "      <td>35.8</td>\n",
       "      <td>162.0</td>\n",
       "      <td>41.0</td>\n",
       "      <td>70.2341</td>\n",
       "      <td>0.6554</td>\n",
       "      <td>11.5</td>\n",
       "      <td>...</td>\n",
       "      <td>105.0</td>\n",
       "      <td>76.200002</td>\n",
       "      <td>20.0</td>\n",
       "      <td>98.000002</td>\n",
       "      <td>14.28686</td>\n",
       "      <td>1.03</td>\n",
       "      <td>114.899234</td>\n",
       "      <td>84.676544</td>\n",
       "      <td>1.0</td>\n",
       "      <td>7.33</td>\n",
       "    </tr>\n",
       "  </tbody>\n",
       "</table>\n",
       "<p>2 rows × 28 columns</p>\n",
       "</div>"
      ],
      "text/plain": [
       "   stay_id  time  bicarbonate  sodium  temperature    po2  fio2      dbp  \\\n",
       "0        5    -2         21.0   140.0         35.8  162.0  41.0  70.2341   \n",
       "1        5    -1         21.0   140.0         35.8  162.0  41.0  70.2341   \n",
       "\n",
       "   creatinine  aniongap  ...  chloride    glucose  urineoutput       spo2  \\\n",
       "0      0.6554      11.5  ...     105.0  76.200002         20.0  98.000002   \n",
       "1      0.6554      11.5  ...     105.0  76.200002         20.0  98.000002   \n",
       "\n",
       "   hemoglobin  crea_divide_basecrea         sbp        mbp  lactate    ph  \n",
       "0    14.28686                  1.03  114.899234  84.676544      1.0  7.33  \n",
       "1    14.28686                  1.03  114.899234  84.676544      1.0  7.33  \n",
       "\n",
       "[2 rows x 28 columns]"
      ]
     },
     "execution_count": 1,
     "metadata": {},
     "output_type": "execute_result"
    }
   ],
   "source": [
    "import pandas as pd\n",
    "import numpy as np\n",
    "time_lst = [-2, -1,  1,  2,3,4] \n",
    "df = pd.read_csv(\"./df_saki_timeseries_feature.csv\")\n",
    "df = df[df[\"time\"].isin(time_lst)]\n",
    "\n",
    "df_ = df.drop([\"dataset\",'groupHPD'],axis=1)\n",
    "df_.head(2)"
   ]
  },
  {
   "cell_type": "code",
   "execution_count": 2,
   "id": "8fdfb766",
   "metadata": {
    "ExecuteTime": {
     "end_time": "2023-06-20T01:35:46.693902Z",
     "start_time": "2023-06-20T01:35:46.691950Z"
    }
   },
   "outputs": [],
   "source": [
    "# df = pd.read_csv(\"./df_saki_timeseries_feature.csv\")\n",
    "# df = df[[\"dataset\",\"groupHPD\",\"stay_id\"]].drop_duplicates()\n",
    "# print(df.groupby([\"dataset\"]).agg({\"stay_id\":\"count\"}))"
   ]
  },
  {
   "cell_type": "markdown",
   "id": "013a9544",
   "metadata": {},
   "source": [
    "# 生成特征"
   ]
  },
  {
   "cell_type": "code",
   "execution_count": 3,
   "id": "69791a81",
   "metadata": {
    "ExecuteTime": {
     "end_time": "2023-06-20T01:35:47.633400Z",
     "start_time": "2023-06-20T01:35:46.695499Z"
    }
   },
   "outputs": [
    {
     "data": {
      "text/plain": [
       "(8866, 133)"
      ]
     },
     "execution_count": 3,
     "metadata": {},
     "output_type": "execute_result"
    }
   ],
   "source": [
    "df_first = df_[df_[\"time\"]== min(df_[\"time\"])]\n",
    "df_first.columns = [col + \"_first\" for col in df_first.columns]\n",
    "df_first.index = pd.RangeIndex(len(df_first.index))\n",
    "\n",
    "df_last = df_[df_[\"time\"]== max(df_[\"time\"])]\n",
    "df_last.columns = [col + \"_last\" for col in df_last.columns]\n",
    "df_last.index = pd.RangeIndex(len(df_last.index))\n",
    "\n",
    "df_grouped = df_.groupby([\"stay_id\"]).agg([\"max\",\"min\",\"mean\"])\n",
    "df_grouped.columns = ['_'.join(col) for col in df_grouped.columns]\n",
    "df_grouped = df_grouped.reset_index()\n",
    "df_grouped = pd.concat([df_grouped, df_last,df_first], axis=1)\n",
    "df_grouped = df_grouped.drop(['time_max','time_min', 'time_mean','stay_id_last', 'time_last', 'stay_id_first','time_first'],axis=1)\n",
    "\n",
    "tmp_df = df[[\"stay_id\",\"groupHPD\",\"dataset\"]].drop_duplicates()\n",
    "tmp_df.index = pd.RangeIndex(len(tmp_df.index))\n",
    "df_grouped = pd.concat([tmp_df[[\"groupHPD\",\"dataset\"]],df_grouped],axis=1)\n",
    "df_grouped.to_csv(\"df_saki_self_generate_features_b21a1234.csv\",index=False)\n",
    "df_grouped.shape"
   ]
  },
  {
   "cell_type": "markdown",
   "id": "12724379",
   "metadata": {},
   "source": [
    "# 过滤特征"
   ]
  },
  {
   "cell_type": "code",
   "execution_count": 4,
   "id": "f9cc24ac",
   "metadata": {
    "ExecuteTime": {
     "end_time": "2023-06-20T01:35:47.786980Z",
     "start_time": "2023-06-20T01:35:47.634694Z"
    }
   },
   "outputs": [
    {
     "data": {
      "text/plain": [
       "(8866, 130)"
      ]
     },
     "execution_count": 4,
     "metadata": {},
     "output_type": "execute_result"
    }
   ],
   "source": [
    "df_fea = pd.read_csv(\"./df_saki_self_generate_features_b21a1234.csv\")\n",
    "X = df_fea.drop([\"stay_id\",\"dataset\",'groupHPD'],axis=1)\n",
    "y = df_fea[[\"groupHPD\"]]\n",
    "X.shape"
   ]
  },
  {
   "cell_type": "markdown",
   "id": "1d0118c3",
   "metadata": {},
   "source": [
    "## person相关系数 特征之间的线性相关"
   ]
  },
  {
   "cell_type": "code",
   "execution_count": 5,
   "id": "3cd554c3",
   "metadata": {
    "ExecuteTime": {
     "end_time": "2023-06-20T01:35:53.337307Z",
     "start_time": "2023-06-20T01:35:47.788062Z"
    }
   },
   "outputs": [
    {
     "name": "stdout",
     "output_type": "stream",
     "text": [
      "person相关系数大于0.9的特征: 21 剩余特征数： 109\n"
     ]
    },
    {
     "name": "stderr",
     "output_type": "stream",
     "text": [
      "<ipython-input-5-c0e409dc9687>:4: DeprecationWarning: `np.bool` is a deprecated alias for the builtin `bool`. To silence this warning, use `bool` by itself. Doing this will not modify any behavior and is safe. If you specifically wanted the numpy scalar type, use `np.bool_` here.\n",
      "Deprecated in NumPy 1.20; for more details and guidance: https://numpy.org/devdocs/release/1.20.0-notes.html#deprecations\n",
      "  upper = corr_df.where(np.triu(np.ones(corr_df.shape), k=1).astype(np.bool)) #返回上三角矩阵\n"
     ]
    }
   ],
   "source": [
    "import seaborn as sns\n",
    "corr_df=X.corr()\n",
    "threshold = 0.9 # 剔除相关性系数高于threshold的corr_drop\n",
    "upper = corr_df.where(np.triu(np.ones(corr_df.shape), k=1).astype(np.bool)) #返回上三角矩阵\n",
    "corr_drop = [column for column in upper.columns if any(upper[column].abs() > threshold)]\n",
    "diff_fea = list(set(X.columns.tolist()).difference(corr_drop))\n",
    "print(\"person相关系数大于0.9的特征:\",len(corr_drop), \"剩余特征数：\", len(diff_fea))\n",
    "X = X[diff_fea]"
   ]
  },
  {
   "cell_type": "markdown",
   "id": "6197acf6",
   "metadata": {
    "run_control": {
     "marked": true
    }
   },
   "source": [
    "## 信息量：可以通过计算某个特征对于分类这样的事件到底有多大信息量贡献\n",
    "- 特征与标签类的互信息越大，特征与标签“相关性越强”。反之。若两者互信息为0,说明两者独立，没什么关系。 \n",
    "- 互信息在已经给定另一个特征的情况下一个特征可以提供多少信息量。互信息会通过计算两个特征所共有的信息，把上述推理工程形式化表达出来。与相关性不同，它依赖的不是数据序列，而是数据的分布"
   ]
  },
  {
   "cell_type": "code",
   "execution_count": 6,
   "id": "f5fe48dc",
   "metadata": {
    "ExecuteTime": {
     "end_time": "2023-06-20T01:35:59.067712Z",
     "start_time": "2023-06-20T01:35:53.338747Z"
    }
   },
   "outputs": [
    {
     "name": "stderr",
     "output_type": "stream",
     "text": [
      "/home/hanl/miniconda3/envs/mytensor/lib/python3.9/site-packages/sklearn/utils/validation.py:993: DataConversionWarning: A column-vector y was passed when a 1d array was expected. Please change the shape of y to (n_samples, ), for example using ravel().\n",
      "  y = column_or_1d(y, warn=True)\n"
     ]
    },
    {
     "name": "stdout",
     "output_type": "stream",
     "text": [
      "互信息筛选后的特征数量： 100\n"
     ]
    }
   ],
   "source": [
    "from sklearn.feature_selection import mutual_info_classif\n",
    "from sklearn.datasets import load_iris\n",
    "mic_res = mutual_info_classif(X,y,random_state=10)\n",
    "XT = X.T\n",
    "XT[\"MIC\"] = mic_res\n",
    "XT = XT.sort_values(\"MIC\",ascending=False)\n",
    "XT = XT[XT[\"MIC\"]>0]\n",
    "XT = XT.drop([\"MIC\"],axis=1)\n",
    "XTT = XT.T\n",
    "df_final = pd.concat([df_fea[[\"stay_id\",\"dataset\",'groupHPD']],XTT],axis=1)\n",
    "\n",
    "print(\"互信息筛选后的特征数量：\",XTT.shape[1])"
   ]
  },
  {
   "cell_type": "code",
   "execution_count": 7,
   "id": "bebe57cd",
   "metadata": {
    "ExecuteTime": {
     "end_time": "2023-06-20T01:35:59.683725Z",
     "start_time": "2023-06-20T01:35:59.068999Z"
    }
   },
   "outputs": [],
   "source": [
    "df_final.to_csv(\"df_saki_self_generate_features_b21a1234_CorrMICfilt.csv\",index=False)"
   ]
  }
 ],
 "metadata": {
  "kernelspec": {
   "display_name": "Python [conda env:mytensor]",
   "language": "python",
   "name": "conda-env-mytensor-py"
  },
  "language_info": {
   "codemirror_mode": {
    "name": "ipython",
    "version": 3
   },
   "file_extension": ".py",
   "mimetype": "text/x-python",
   "name": "python",
   "nbconvert_exporter": "python",
   "pygments_lexer": "ipython3",
   "version": "3.9.12"
  },
  "toc": {
   "base_numbering": 1,
   "nav_menu": {},
   "number_sections": true,
   "sideBar": true,
   "skip_h1_title": false,
   "title_cell": "Table of Contents",
   "title_sidebar": "Contents",
   "toc_cell": false,
   "toc_position": {},
   "toc_section_display": true,
   "toc_window_display": false
  },
  "varInspector": {
   "cols": {
    "lenName": 16,
    "lenType": 16,
    "lenVar": 40
   },
   "kernels_config": {
    "python": {
     "delete_cmd_postfix": "",
     "delete_cmd_prefix": "del ",
     "library": "var_list.py",
     "varRefreshCmd": "print(var_dic_list())"
    },
    "r": {
     "delete_cmd_postfix": ") ",
     "delete_cmd_prefix": "rm(",
     "library": "var_list.r",
     "varRefreshCmd": "cat(var_dic_list()) "
    }
   },
   "types_to_exclude": [
    "module",
    "function",
    "builtin_function_or_method",
    "instance",
    "_Feature"
   ],
   "window_display": false
  }
 },
 "nbformat": 4,
 "nbformat_minor": 5
}
