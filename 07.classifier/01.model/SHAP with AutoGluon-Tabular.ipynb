{
 "cells": [
  {
   "cell_type": "code",
   "execution_count": 1,
   "metadata": {
    "ExecuteTime": {
     "end_time": "2023-07-05T02:02:18.686869Z",
     "start_time": "2023-07-05T02:02:18.241336Z"
    }
   },
   "outputs": [],
   "source": [
    "import pickle\n",
    "import pandas as pd\n",
    "\n",
    "def my_save(List,filename,Global):\n",
    "    # filename : name.pkl\n",
    "    my_pickle = {}\n",
    "    for key in List:\n",
    "        try:\n",
    "            my_pickle[key] = Global[key] #globals()[key]\n",
    "        except TypeError:\n",
    "            print('ERROR pickleing: {0}'.format(key))\n",
    "    with open(filename, 'wb') as f:   # Python 3: open(..., 'wb')\n",
    "        pickle.dump(my_pickle, f)\n",
    "\n",
    "\n",
    "def my_load(filename,Global):\n",
    "    with open(filename, 'rb') as f:  # Python 3: open(..., 'rb')\n",
    "        my_shelf = pickle.load(f)\n",
    "\n",
    "    for key in my_shelf:\n",
    "        Global[key] = my_shelf[key]\n",
    "    "
   ]
  },
  {
   "cell_type": "code",
   "execution_count": 2,
   "metadata": {
    "ExecuteTime": {
     "end_time": "2023-07-05T02:02:18.718458Z",
     "start_time": "2023-07-05T02:02:18.688283Z"
    }
   },
   "outputs": [],
   "source": [
    "save_path = './Result-b21a1234_raw_dataset_MimiceICU_AUMC_CorrMICfilt/'  # raw_dataset\n",
    "\n",
    "filename = save_path + r'/result/shap_related.pkl'\n",
    "my_load(filename, globals())"
   ]
  },
  {
   "cell_type": "code",
   "execution_count": 3,
   "metadata": {
    "ExecuteTime": {
     "end_time": "2023-07-05T02:02:20.827306Z",
     "start_time": "2023-07-05T02:02:18.719954Z"
    }
   },
   "outputs": [],
   "source": [
    "from autogluon.tabular import TabularDataset, TabularPredictor\n",
    "import pandas as pd\n",
    "import numpy as np\n",
    "import sklearn\n",
    "import shap\n",
    "\n",
    "import warnings\n",
    "warnings.filterwarnings('ignore')"
   ]
  },
  {
   "cell_type": "code",
   "execution_count": 4,
   "metadata": {
    "ExecuteTime": {
     "end_time": "2023-07-05T02:02:21.073626Z",
     "start_time": "2023-07-05T02:02:20.828948Z"
    }
   },
   "outputs": [],
   "source": [
    "import numpy as np\n",
    "import matplotlib.pyplot as plt\n",
    "from itertools import cycle\n",
    "from sklearn import svm, datasets\n",
    "from sklearn.metrics import roc_curve, auc\n",
    "from sklearn.model_selection import train_test_split\n",
    "from sklearn.preprocessing import label_binarize\n",
    "from sklearn.multiclass import OneVsRestClassifier\n",
    "from scipy import interp\n",
    "from autogluon.tabular import TabularDataset, TabularPredictor\n"
   ]
  },
  {
   "cell_type": "code",
   "execution_count": null,
   "metadata": {
    "ExecuteTime": {
     "end_time": "2023-07-05T02:16:32.160777Z",
     "start_time": "2023-07-05T02:16:32.123281Z"
    }
   },
   "outputs": [],
   "source": [
    "label = 'groupHPD'\n",
    "d2_= \"eICU_MIMIC\"\n",
    "save_path = './Result-b21a1234_raw_dataset_MimiceICU_AUMC_CorrMICfilt/'  # raw_dataset\n",
    "\n",
    "test_set1 = pd.read_csv(save_path + \"./input/test_set1.csv\")\n",
    "test_set1 = test_set1.drop(columns=[\"stay_id\"])\n",
    "print(d2_, \"samples\",test_set1.shape[0])\n",
    "y_test = test_set1[label]\n",
    "X_test = test_set1.drop(columns=[label]) \n",
    "\n",
    "predictor = TabularPredictor.load(save_path)  # unnecessary, just demonstrates how to load previously-trained predictor from file\n",
    "print(\"best model:\", predictor.get_model_best())\n",
    "\n",
    "best_model = \"CatBoost_BAG_L2\""
   ]
  },
  {
   "cell_type": "code",
   "execution_count": 6,
   "metadata": {
    "ExecuteTime": {
     "end_time": "2023-07-05T02:02:28.589605Z",
     "start_time": "2023-07-05T02:02:21.133441Z"
    }
   },
   "outputs": [],
   "source": [
    "n_classes = 3\n",
    "best_model = \"CatBoost_BAG_L2\"\n",
    "y_pred = predictor.predict(X_test,model=best_model)\n",
    "y_pred_proba  = predictor.predict_proba(X_test, as_pandas=True,model=best_model)\n",
    "\n",
    "y_score = label_binarize(y_pred, classes=[1, 2,3])\n",
    "y_test = label_binarize(y_test, classes=[1, 2,3])"
   ]
  },
  {
   "cell_type": "code",
   "execution_count": 24,
   "metadata": {
    "ExecuteTime": {
     "end_time": "2023-07-05T02:28:18.149454Z",
     "start_time": "2023-07-05T02:28:18.136818Z"
    }
   },
   "outputs": [
    {
     "name": "stdout",
     "output_type": "stream",
     "text": [
      "{'1': {'precision': 0.6360225140712945, 'recall': 0.5936952714535902, 'f1-score': 0.6141304347826088, 'support': 571}, '2': {'precision': 0.8312993539124193, 'recall': 0.908235294117647, 'f1-score': 0.8680659670164917, 'support': 1275}, '3': {'precision': 0.6962025316455697, 'recall': 0.34591194968553457, 'f1-score': 0.4621848739495798, 'support': 159}, 'accuracy': 0.774064837905237, 'macro avg': {'precision': 0.7211747998764279, 'recall': 0.6159475050855906, 'f1-score': 0.6481270919162267, 'support': 2005}, 'weighted avg': {'precision': 0.7649734335684236, 'recall': 0.774064837905237, 'f1-score': 0.7635610878627831, 'support': 2005}}\n"
     ]
    }
   ],
   "source": [
    "from sklearn.metrics import classification_report\n",
    "t = classification_report(y_test, y_pred, target_names=[\"1\",\"2\",\"3\"],output_dict=True)\n",
    "print(t)"
   ]
  },
  {
   "cell_type": "code",
   "execution_count": null,
   "metadata": {
    "ExecuteTime": {
     "end_time": "2023-07-05T02:10:59.568457Z",
     "start_time": "2023-07-05T02:10:59.557291Z"
    },
    "scrolled": true
   },
   "outputs": [
    {
     "data": {
      "text/plain": [
       "{0: 0.7292046789624995,\n",
       " 1: 0.7931587429492345,\n",
       " 2: 0.666455433130958,\n",
       " 'micro': 0.8305486284289276,\n",
       " 'macro': 0.7296062850142306}"
      ]
     },
     "execution_count": 15,
     "metadata": {},
     "output_type": "execute_result"
    }
   ],
   "source": [
    "fpr = dict()\n",
    "tpr = dict()\n",
    "roc_auc = dict()\n",
    "for i in range(n_classes):\n",
    "    fpr[i], tpr[i], _ = roc_curve(y_test[:, i], y_score[:, i])\n",
    "    roc_auc[i] = auc(fpr[i], tpr[i])\n",
    "\n",
    "# Compute micro-average ROC curve and ROC area\n",
    "fpr[\"micro\"], tpr[\"micro\"], _ = roc_curve(y_test.ravel(), y_score.ravel())\n",
    "roc_auc[\"micro\"] = auc(fpr[\"micro\"], tpr[\"micro\"])\n",
    "\n",
    "# Compute macro-average ROC curve and ROC area\n",
    "# First aggregate all false positive rates\n",
    "all_fpr = np.unique(np.concatenate([fpr[i] for i in range(n_classes)]))\n",
    "\n",
    "# Then interpolate all ROC curves at this points\n",
    "mean_tpr = np.zeros_like(all_fpr)\n",
    "for i in range(n_classes):\n",
    "    mean_tpr += interp(all_fpr, fpr[i], tpr[i])\n",
    "\n",
    "# Finally average it and compute AUC\n",
    "mean_tpr /= n_classes\n",
    "fpr[\"macro\"] = all_fpr\n",
    "tpr[\"macro\"] = mean_tpr\n",
    "roc_auc[\"macro\"] = auc(fpr[\"macro\"], tpr[\"macro\"])\n",
    "roc_auc"
   ]
  },
  {
   "cell_type": "code",
   "execution_count": null,
   "metadata": {},
   "outputs": [],
   "source": []
  },
  {
   "cell_type": "code",
   "execution_count": 28,
   "metadata": {
    "ExecuteTime": {
     "end_time": "2023-07-05T03:32:33.433226Z",
     "start_time": "2023-07-05T03:32:33.332094Z"
    },
    "collapsed": true
   },
   "outputs": [
    {
     "data": {
      "image/png": "[encoded data removed]",
      "text/plain": [
       "<Figure size 640x480 with 1 Axes>"
      ]
     },
     "metadata": {},
     "output_type": "display_data"
    }
   ],
   "source": [
    "lw=2\n",
    "plt.figure()\n",
    "plt.plot(fpr[\"micro\"], tpr[\"micro\"],\n",
    "         label='micro-average ROC curve (area = {0:0.2f})'\n",
    "               ''.format(roc_auc[\"micro\"]),\n",
    "         color='deeppink', linestyle=':', linewidth=4)\n",
    "plt.show()"
   ]
  },
  {
   "cell_type": "code",
   "execution_count": null,
   "metadata": {
    "ExecuteTime": {
     "end_time": "2023-07-05T02:02:28.862852Z",
     "start_time": "2023-07-05T02:09:18.293Z"
    }
   },
   "outputs": [],
   "source": [
    "# Plot all ROC curves\n",
    "lw=2\n",
    "plt.figure()\n",
    "plt.plot(fpr[\"micro\"], tpr[\"micro\"],\n",
    "         label='micro-average ROC curve (area = {0:0.2f})'\n",
    "               ''.format(roc_auc[\"micro\"]),\n",
    "         color='deeppink', linestyle=':', linewidth=4)\n",
    "\n",
    "plt.plot(fpr[\"macro\"], tpr[\"macro\"],\n",
    "         label='macro-average ROC curve (area = {0:0.2f})'\n",
    "               ''.format(roc_auc[\"macro\"]),\n",
    "         color='navy', linestyle=':', linewidth=4)\n",
    "\n",
    "colors = cycle(['aqua', 'darkorange', 'cornflowerblue'])\n",
    "for i, color in zip(range(n_classes), colors):\n",
    "    plt.plot(fpr[i], tpr[i], color=color, lw=lw,\n",
    "             label='ROC curve of class {0} (area = {1:0.2f})'\n",
    "             ''.format(i, roc_auc[i]))\n",
    "\n",
    "plt.plot([0, 1], [0, 1], 'k--', lw=lw)\n",
    "plt.xlim([0.0, 1.0])\n",
    "plt.ylim([0.0, 1.05])\n",
    "plt.xlabel('False Positive Rate')\n",
    "plt.ylabel('True Positive Rate')\n",
    "plt.title('Some extension of Receiver operating characteristic to multi-class')\n",
    "plt.legend(loc=\"lower right\")\n",
    "plt.show()"
   ]
  },
  {
   "cell_type": "markdown",
   "metadata": {},
   "source": [
    "# Explaining AutoGluon-Tabular Predictions with Kernel SHAP\n",
    "\n",
    "We recommend first starting with this tutorial before the other SHAP tutorials. This example uses the original version of <a href=\"https://archive.ics.uci.edu/ml/datasets/Adult\">adult census income dataset</a>, which is a binary classification task with categorical & numerical features. The code shown here should also work if you have text columns in your dataset and for regression or multiclass classification problems. We train an AutoGluon classifier and then explain each of its predictions via [Shapely values](https://papers.nips.cc/paper/7062-a-unified-approach-to-interpreting-model-predictions.pdf) that quantify how much each feature contributed to a particular AutoGluon-prediction deviating from some \"baseline\" value. We use the [Kernel SHAP variant](https://shap.readthedocs.io/en/latest/generated/shap.KernelExplainer.html) which is appropriate for explaining arbitrary black-box models like the potentially heterogeneous ensemble of many models that AutoGluon-Tabular uses to make its predictions.\n",
    "\n",
    "You must first install the [SHAP package](https://github.com/slundberg/shap/) (`pip install shap`).\n",
    "\n",
    "**Note:**  Unlike the [similar notebooks](https://shap.readthedocs.io/en/latest/example_notebooks/kernel_explainer/Census%20income%20classification%20with%20scikit-learn.html) from the SHAP package, this example shows you how to apply Kernel SHAP to data with categorical features. In the second half of this notebook, we also demonstrate Shapely values for interpreting predictions in multiclass classification tasks with more than 2 classes."
   ]
  },
  {
   "cell_type": "markdown",
   "metadata": {},
   "source": [
    "## Load the raw census data\n",
    "\n",
    "Note these data contain categorical as well as numerical features. We first consider predicting the `class` column, a binary classification task. "
   ]
  },
  {
   "cell_type": "code",
   "execution_count": null,
   "metadata": {
    "ExecuteTime": {
     "end_time": "2023-07-05T02:02:28.863537Z",
     "start_time": "2023-07-05T02:09:18.299Z"
    }
   },
   "outputs": [],
   "source": [
    "N_SUBSAMPLE = 500  # subsample datasets for faster demo\n",
    "N_TEST = 50\n",
    "\n",
    "train_data = TabularDataset('https://autogluon.s3.amazonaws.com/datasets/Inc/train.csv')  # can be local CSV file as well, returns Pandas DataFrame\n",
    "train_data = train_data.sample(N_SUBSAMPLE, random_state=0)\n",
    "test_data = TabularDataset('https://autogluon.s3.amazonaws.com/datasets/Inc/test.csv') # another Pandas DataFrame\n",
    "test_data = test_data.sample(N_TEST, random_state=0)\n",
    "\n",
    "label = 'class'\n",
    "\n",
    "y_train = train_data[label]\n",
    "y_test = test_data[label]\n",
    "X_train = pd.DataFrame(train_data.drop(columns=[label]))\n",
    "X_test = pd.DataFrame(test_data.drop(columns=[label]))\n",
    "\n",
    "display(train_data.head())"
   ]
  },
  {
   "cell_type": "markdown",
   "metadata": {},
   "source": [
    "## Train binary classifier using AutoGluon"
   ]
  },
  {
   "cell_type": "code",
   "execution_count": null,
   "metadata": {
    "ExecuteTime": {
     "end_time": "2023-07-05T02:02:28.864153Z",
     "start_time": "2023-07-05T02:09:18.301Z"
    }
   },
   "outputs": [],
   "source": [
    "predictor = TabularPredictor(label=label, problem_type='binary').fit(train_data, time_limit=20)"
   ]
  },
  {
   "cell_type": "markdown",
   "metadata": {},
   "source": [
    "### Explain predictions\n",
    "\n",
    "SHAP is intended to explain how much each feature contributes to a particular prediction. For  classification, \"how much\" is quantified in terms of the deviation between predicted probability of a particular class from a baseline reference value. In this example, we will  explain predictions of the \" >50K\" class."
   ]
  },
  {
   "cell_type": "code",
   "execution_count": null,
   "metadata": {
    "ExecuteTime": {
     "end_time": "2023-07-05T02:02:28.864829Z",
     "start_time": "2023-07-05T02:09:18.303Z"
    }
   },
   "outputs": [],
   "source": [
    "target_class = \" >50K\"  # can be any possible value of the label column"
   ]
  },
  {
   "cell_type": "markdown",
   "metadata": {},
   "source": [
    "Next we create a wrapper class around AutoGluon to allow it to be called for prediction inside of the `shap` package:"
   ]
  },
  {
   "cell_type": "code",
   "execution_count": null,
   "metadata": {
    "ExecuteTime": {
     "end_time": "2023-07-05T02:02:28.865461Z",
     "start_time": "2023-07-05T02:09:18.305Z"
    }
   },
   "outputs": [],
   "source": [
    "class AutogluonWrapper:\n",
    "    def __init__(self, predictor, feature_names, target_class=None):\n",
    "        self.ag_model = predictor\n",
    "        self.feature_names = feature_names\n",
    "        self.target_class = target_class\n",
    "        if target_class is None and predictor.problem_type != 'regression':\n",
    "            print(\"Since target_class not specified, SHAP will explain predictions for each class\")\n",
    "    \n",
    "    def predict_proba(self, X):\n",
    "        if isinstance(X, pd.Series):\n",
    "            X = X.values.reshape(1,-1)\n",
    "        if not isinstance(X, pd.DataFrame):\n",
    "            X = pd.DataFrame(X, columns=self.feature_names)\n",
    "        preds = self.ag_model.predict_proba(X)\n",
    "        if predictor.problem_type == \"regression\" or self.target_class is None:\n",
    "            return preds\n",
    "        else:\n",
    "            return preds[self.target_class]    "
   ]
  },
  {
   "cell_type": "markdown",
   "metadata": {},
   "source": [
    "Next, we must define the baseline reference value for SHAP. In this example, we aggregate all of the training examples with label \" <50K\" (the negative class in our binary classification task) as our baseline (and take a random subsample of these for efficiency)."
   ]
  },
  {
   "cell_type": "code",
   "execution_count": null,
   "metadata": {
    "ExecuteTime": {
     "end_time": "2023-07-05T02:02:28.866108Z",
     "start_time": "2023-07-05T02:09:18.307Z"
    }
   },
   "outputs": [],
   "source": [
    "negative_class = \" <=50K\"\n",
    "baseline = X_train[y_train==negative_class].sample(50, random_state=0)\n",
    "display(baseline.head())"
   ]
  },
  {
   "cell_type": "markdown",
   "metadata": {},
   "source": [
    "AutoGluon predictions will be interpreted in terms of their difference from the average prediction across the baseline feature-values (i.e. the prediction for a new datapoint will explained by quantifying how much each feature contributes to this prediction differing from the average prediction over the rows in our baseline DataFrame). With the target class and baseline we chose in this example, SHAP will indicate **why** a particular predicted probability of the \" >50K\" class deviated from the average predicted probability of the \" <=50K\" class across the training data. The **why** is reported in terms of how each individual feature contributed to the overall deviation of this prediction from the baseline value (ie. the Shapely values).\n",
    "\n",
    "We can now create a `KernelExplainer` which will return Kernel SHAP values to explain particular AutoGluon predictions."
   ]
  },
  {
   "cell_type": "code",
   "execution_count": null,
   "metadata": {
    "ExecuteTime": {
     "end_time": "2023-07-05T02:02:28.866737Z",
     "start_time": "2023-07-05T02:09:18.309Z"
    }
   },
   "outputs": [],
   "source": [
    "ag_wrapper = AutogluonWrapper(predictor, X_train.columns, target_class)\n",
    "explainer = shap.KernelExplainer(ag_wrapper.predict_proba, baseline)\n",
    "print(\"Baseline prediction: \", np.mean(ag_wrapper.predict_proba(baseline)))  # this is the same as explainer.expected_value\n",
    "\n",
    "NSHAP_SAMPLES = 100  # how many samples to use to approximate each Shapely value, larger values will be slower"
   ]
  },
  {
   "cell_type": "markdown",
   "metadata": {},
   "source": [
    "Let's first explain a prediction for a single datapoint from the training data."
   ]
  },
  {
   "cell_type": "code",
   "execution_count": null,
   "metadata": {
    "ExecuteTime": {
     "end_time": "2023-07-05T02:02:28.867407Z",
     "start_time": "2023-07-05T02:09:18.311Z"
    }
   },
   "outputs": [],
   "source": [
    "ROW_INDEX = 0  # index of an example datapoint\n",
    "single_datapoint = X_train.iloc[[ROW_INDEX]]\n",
    "single_prediction = ag_wrapper.predict_proba(single_datapoint)\n",
    "\n",
    "shap_values_single = explainer.shap_values(single_datapoint, nsamples=NSHAP_SAMPLES)\n",
    "shap.force_plot(explainer.expected_value, shap_values_single, X_train.iloc[ROW_INDEX,:])"
   ]
  },
  {
   "cell_type": "markdown",
   "metadata": {},
   "source": [
    "**Note:** If you ever see message \"Visualization omitted, Javascript library not loaded\", simply re-running the corresponding cells should show the plots. If you don't have Javascript, you may stil produce plots by adding argument: `force_plot(..., matplotlib=True)`."
   ]
  },
  {
   "cell_type": "markdown",
   "metadata": {},
   "source": [
    "We can also plot Kernel SHAP explanations aggregated across many predictions, say over all the datapoints in the test data."
   ]
  },
  {
   "cell_type": "code",
   "execution_count": null,
   "metadata": {
    "ExecuteTime": {
     "end_time": "2023-07-05T02:02:28.868018Z",
     "start_time": "2023-07-05T02:09:18.313Z"
    }
   },
   "outputs": [],
   "source": [
    "shap_values = explainer.shap_values(X_test, nsamples=NSHAP_SAMPLES)\n",
    "shap.force_plot(explainer.expected_value, shap_values, X_test)  # if you do not have add argument "
   ]
  },
  {
   "cell_type": "markdown",
   "metadata": {},
   "source": [
    "A summary plot is an even better way to see the relative impact of all features over many datapoints. Features are sorted by the sum of their SHAP value magnitudes across all samples."
   ]
  },
  {
   "cell_type": "code",
   "execution_count": null,
   "metadata": {
    "ExecuteTime": {
     "end_time": "2023-07-05T02:02:28.868608Z",
     "start_time": "2023-07-05T02:09:18.314Z"
    }
   },
   "outputs": [],
   "source": [
    "shap.summary_plot(shap_values, X_test)"
   ]
  },
  {
   "cell_type": "markdown",
   "metadata": {},
   "source": [
    "A dependence plot can be used to visualize how the number of years of education increases the chance of making over 50K annually."
   ]
  },
  {
   "cell_type": "code",
   "execution_count": null,
   "metadata": {
    "ExecuteTime": {
     "end_time": "2023-07-05T02:02:28.869202Z",
     "start_time": "2023-07-05T02:09:18.316Z"
    },
    "scrolled": true
   },
   "outputs": [],
   "source": [
    "shap.dependence_plot(\"education-num\", shap_values, X_test)"
   ]
  },
  {
   "cell_type": "markdown",
   "metadata": {},
   "source": [
    "## Scoring Overall Feature Importance via Permutation Shuffling\n",
    "\n",
    "Note that if you'd like to understand how much each feature contributes to AutoGluon's general predictive accuracy (rather than explaining individual predictions), AutoGluon offers a built-in method for this based on [permutation-shuffling](https://explained.ai/rf-importance/):"
   ]
  },
  {
   "cell_type": "code",
   "execution_count": null,
   "metadata": {
    "ExecuteTime": {
     "end_time": "2023-07-05T02:02:28.869846Z",
     "start_time": "2023-07-05T02:09:18.318Z"
    }
   },
   "outputs": [],
   "source": [
    "predictor.feature_importance(test_data)"
   ]
  },
  {
   "cell_type": "markdown",
   "metadata": {},
   "source": [
    "Features with near zero or negative importance score above hardly contribute at all to AutoGluon's overall accuracy on the test data, whereas features near the top of this list contain the most predictive signal."
   ]
  },
  {
   "cell_type": "markdown",
   "metadata": {},
   "source": [
    "# Explaining predictions for multiple classes\n",
    "\n",
    "Let's now repeat this same analysis for a multiclass classification problem with more than 2 classes. We'll use the same dataset and predict the `relationship` variable based on the other columns' values. For interpreting predictions in multiclass classification, SHAP will quantify how much each feature contributes to the predicted probability for each class separately."
   ]
  },
  {
   "cell_type": "code",
   "execution_count": null,
   "metadata": {
    "ExecuteTime": {
     "end_time": "2023-07-05T02:02:28.870455Z",
     "start_time": "2023-07-05T02:09:18.321Z"
    }
   },
   "outputs": [],
   "source": [
    "label = 'relationship'\n",
    "\n",
    "y_train = train_data[label]\n",
    "y_test = test_data[label]\n",
    "X_train = pd.DataFrame(train_data.drop(columns=[label]))\n",
    "X_test = pd.DataFrame(test_data.drop(columns=[label]))\n",
    "\n",
    "display(train_data.head())\n",
    "print(\"Possible classes: \\n\", train_data[label].value_counts())"
   ]
  },
  {
   "cell_type": "markdown",
   "metadata": {},
   "source": [
    "Fit an AutoGluon classifier:"
   ]
  },
  {
   "cell_type": "code",
   "execution_count": null,
   "metadata": {
    "ExecuteTime": {
     "end_time": "2023-07-05T02:02:28.871067Z",
     "start_time": "2023-07-05T02:09:18.323Z"
    }
   },
   "outputs": [],
   "source": [
    "predictor_multi = TabularPredictor(label=label, problem_type='multiclass').fit(train_data, time_limit=20)"
   ]
  },
  {
   "cell_type": "markdown",
   "metadata": {},
   "source": [
    "Now we will use a baseline value that is a vector of predicted probabilities (for each class), here simply taken over a random subsample of the training data. For a particular prediction, we will produce a separate set of Shapely values for each class, which quantify how much each feature contributes the particular prediction deviating from the baseline probability value for that class."
   ]
  },
  {
   "cell_type": "code",
   "execution_count": null,
   "metadata": {
    "ExecuteTime": {
     "end_time": "2023-07-05T02:02:28.871697Z",
     "start_time": "2023-07-05T02:09:18.324Z"
    },
    "scrolled": true
   },
   "outputs": [],
   "source": [
    "baseline = X_train.sample(100, random_state=0)\n",
    "\n",
    "ag_wrapper = AutogluonWrapper(predictor_multi, X_train.columns)\n",
    "explainer = shap.KernelExplainer(ag_wrapper.predict_proba, baseline)\n",
    "print(\"Baseline prediction: \\n\", ag_wrapper.predict_proba(baseline).mean())  # this is the same as explainer.expected_value\n",
    "\n",
    "NSHAP_SAMPLES = 100  # how many samples to use to approximate each Shapely value, larger values will be slower\n",
    "shap.initjs()"
   ]
  },
  {
   "cell_type": "markdown",
   "metadata": {},
   "source": [
    "Again we can compute the Shapely values for an individual prediction. Note that some SHAP functions like `force_plot`, `dependence_plot` will not work in this multiclass setting, as they can only operate with a single set of Shapely values. For these plots, we will thus only focus on the Shapely values corresponding to one target class of interest. "
   ]
  },
  {
   "cell_type": "code",
   "execution_count": null,
   "metadata": {
    "ExecuteTime": {
     "end_time": "2023-07-05T02:02:28.872340Z",
     "start_time": "2023-07-05T02:09:18.332Z"
    }
   },
   "outputs": [],
   "source": [
    "ROW_INDEX = 0  # index of an example datapoint\n",
    "class_of_interest = ' Not-in-family'  # can be any value in set(y_train)\n",
    "class_index = predictor_multi.class_labels.index(class_of_interest)\n",
    "\n",
    "single_datapoint = X_train.iloc[[ROW_INDEX]]\n",
    "single_prediction = ag_wrapper.predict_proba(single_datapoint)\n",
    "\n",
    "shap_values_single = explainer.shap_values(single_datapoint, nsamples=NSHAP_SAMPLES)\n",
    "print(\"Shapely values: \\n\", {predictor_multi.class_labels[i]:shap_values_single[i] for i in range(len(predictor_multi.class_labels))})\n",
    "\n",
    "print(f\"Force_plot for class: {class_of_interest}\")\n",
    "shap.force_plot(explainer.expected_value[class_index], shap_values_single[class_index], X_train.iloc[ROW_INDEX,:])"
   ]
  },
  {
   "cell_type": "markdown",
   "metadata": {},
   "source": [
    "Next we again plot aggregated Shapely values for predictions for every datapoint in the test data (for the class of interest), as well as a summary_plot, and dependence_plot (for the class of interest, as well as a particular feature of interest)."
   ]
  },
  {
   "cell_type": "code",
   "execution_count": null,
   "metadata": {
    "ExecuteTime": {
     "end_time": "2023-07-05T02:02:28.873027Z",
     "start_time": "2023-07-05T02:09:18.336Z"
    }
   },
   "outputs": [],
   "source": [
    "shap_values = explainer.shap_values(X_test, nsamples=NSHAP_SAMPLES)\n",
    "\n",
    "print(f\"Force_plot for class: {class_of_interest}\")\n",
    "shap.force_plot(explainer.expected_value[class_index], shap_values[class_index], X_test)"
   ]
  },
  {
   "cell_type": "code",
   "execution_count": null,
   "metadata": {
    "ExecuteTime": {
     "end_time": "2023-07-05T02:02:28.873635Z",
     "start_time": "2023-07-05T02:09:18.337Z"
    }
   },
   "outputs": [],
   "source": [
    "shap.summary_plot(shap_values, X_test)\n",
    "print({\"Class \"+str(i) : predictor_multi.class_labels[i] for i in range(len(predictor_multi.class_labels))})"
   ]
  },
  {
   "cell_type": "code",
   "execution_count": null,
   "metadata": {
    "ExecuteTime": {
     "end_time": "2023-07-05T02:02:28.874247Z",
     "start_time": "2023-07-05T02:09:18.339Z"
    }
   },
   "outputs": [],
   "source": [
    "dependence_feature = \"marital-status\"\n",
    "print(f\"Dependence_plot for class: {class_of_interest}  and for feature: {dependence_feature} \\n\")\n",
    "\n",
    "shap.dependence_plot(dependence_feature, shap_values[class_index], X_test)"
   ]
  },
  {
   "cell_type": "markdown",
   "metadata": {},
   "source": [
    "For multiclass problems, we can still score overall feature importance (how much each feature contributes to predictive accuracy) using AutoGluon's built-in permutation procedure:"
   ]
  },
  {
   "cell_type": "code",
   "execution_count": null,
   "metadata": {
    "ExecuteTime": {
     "end_time": "2023-07-05T02:02:28.874891Z",
     "start_time": "2023-07-05T02:09:18.342Z"
    }
   },
   "outputs": [],
   "source": [
    "predictor_multi.feature_importance(test_data)"
   ]
  }
 ],
 "metadata": {
  "anaconda-cloud": {},
  "kernelspec": {
   "display_name": "Python [conda env:sp_shock] *",
   "language": "python",
   "name": "conda-env-sp_shock-py"
  },
  "language_info": {
   "codemirror_mode": {
    "name": "ipython",
    "version": 3
   },
   "file_extension": ".py",
   "mimetype": "text/x-python",
   "name": "python",
   "nbconvert_exporter": "python",
   "pygments_lexer": "ipython3",
   "version": "3.9.5"
  },
  "toc": {
   "base_numbering": 1,
   "nav_menu": {},
   "number_sections": true,
   "sideBar": true,
   "skip_h1_title": false,
   "title_cell": "Table of Contents",
   "title_sidebar": "Contents",
   "toc_cell": false,
   "toc_position": {},
   "toc_section_display": true,
   "toc_window_display": false
  },
  "varInspector": {
   "cols": {
    "lenName": 16,
    "lenType": 16,
    "lenVar": 40
   },
   "kernels_config": {
    "python": {
     "delete_cmd_postfix": "",
     "delete_cmd_prefix": "del ",
     "library": "var_list.py",
     "varRefreshCmd": "print(var_dic_list())"
    },
    "r": {
     "delete_cmd_postfix": ") ",
     "delete_cmd_prefix": "rm(",
     "library": "var_list.r",
     "varRefreshCmd": "cat(var_dic_list()) "
    }
   },
   "types_to_exclude": [
    "module",
    "function",
    "builtin_function_or_method",
    "instance",
    "_Feature"
   ],
   "window_display": false
  }
 },
 "nbformat": 4,
 "nbformat_minor": 1
}
