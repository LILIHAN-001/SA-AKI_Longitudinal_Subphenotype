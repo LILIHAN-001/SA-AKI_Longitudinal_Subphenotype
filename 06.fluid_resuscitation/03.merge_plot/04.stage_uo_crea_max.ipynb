{
 "cells": [
  {
   "cell_type": "code",
   "execution_count": 1,
   "id": "0b6afbd8",
   "metadata": {
    "ExecuteTime": {
     "end_time": "2024-01-03T01:44:48.610220Z",
     "start_time": "2024-01-03T01:44:47.735398Z"
    }
   },
   "outputs": [],
   "source": [
    "import numpy as np\n",
    "import pandas as pd\n",
    "import datetime as dt\n",
    "import matplotlib.pyplot as plt\n",
    "\n",
    "import random\n",
    "import seaborn as sns\n",
    "pd.options.display.max_rows=300\n",
    "pd.set_option('display.max_columns', None)"
   ]
  },
  {
   "cell_type": "markdown",
   "id": "8c008a2f",
   "metadata": {},
   "source": [
    "# MIMIC "
   ]
  },
  {
   "cell_type": "code",
   "execution_count": 2,
   "id": "d1a39d4d",
   "metadata": {
    "ExecuteTime": {
     "end_time": "2024-01-03T01:44:49.042904Z",
     "start_time": "2024-01-03T01:44:48.611521Z"
    }
   },
   "outputs": [
    {
     "name": "stdout",
     "output_type": "stream",
     "text": [
      "纳入患者数量： 4713\n"
     ]
    },
    {
     "data": {
      "text/plain": [
       "2    3055\n",
       "1    1298\n",
       "3     360\n",
       "Name: groupHPD, dtype: int64"
      ]
     },
     "execution_count": 2,
     "metadata": {},
     "output_type": "execute_result"
    }
   ],
   "source": [
    "df_type = pd.read_csv(\"/public/hanl/jupyter_dir/kidney_sepsis_penotype_v3/01.MIMICIV_SAKI_trajCluster/df_mixAK_fea4_C3.csv\")\n",
    "df_type_filt = df_type.loc[:,[\"stay_id\",\"groupHPD\"]]\n",
    "df_type_filt = df_type_filt.drop_duplicates()\n",
    "all_lst = df_type_filt.stay_id.unique().tolist()\n",
    "print(\"纳入患者数量：\",len(all_lst))\n",
    "\n",
    "df_type_filt[\"groupHPD\"].value_counts()"
   ]
  },
  {
   "cell_type": "code",
   "execution_count": 3,
   "id": "63218da8",
   "metadata": {
    "ExecuteTime": {
     "end_time": "2024-01-03T01:44:49.094705Z",
     "start_time": "2024-01-03T01:44:49.044314Z"
    }
   },
   "outputs": [
    {
     "data": {
      "text/html": [
       "<div>\n",
       "<style scoped>\n",
       "    .dataframe tbody tr th:only-of-type {\n",
       "        vertical-align: middle;\n",
       "    }\n",
       "\n",
       "    .dataframe tbody tr th {\n",
       "        vertical-align: top;\n",
       "    }\n",
       "\n",
       "    .dataframe thead th {\n",
       "        text-align: right;\n",
       "    }\n",
       "</style>\n",
       "<table border=\"1\" class=\"dataframe\">\n",
       "  <thead>\n",
       "    <tr style=\"text-align: right;\">\n",
       "      <th></th>\n",
       "      <th>stay_id</th>\n",
       "      <th>saki_onset</th>\n",
       "    </tr>\n",
       "  </thead>\n",
       "  <tbody>\n",
       "    <tr>\n",
       "      <th>0</th>\n",
       "      <td>30024511</td>\n",
       "      <td>2176-08-21 04:00:00</td>\n",
       "    </tr>\n",
       "    <tr>\n",
       "      <th>1</th>\n",
       "      <td>30024934</td>\n",
       "      <td>2143-05-02 08:27:00</td>\n",
       "    </tr>\n",
       "  </tbody>\n",
       "</table>\n",
       "</div>"
      ],
      "text/plain": [
       "    stay_id          saki_onset\n",
       "0  30024511 2176-08-21 04:00:00\n",
       "1  30024934 2143-05-02 08:27:00"
      ]
     },
     "execution_count": 3,
     "metadata": {},
     "output_type": "execute_result"
    }
   ],
   "source": [
    "df_time = pd.read_csv(\"/public/hanl/jupyter_dir/kidney_sepsis_penotype_v3/00.data_mimic/disease_definition/AKI/sk_event_time.csv\")\n",
    "df_time = df_time[[\"stay_id\",\"saki_onset\"]]\n",
    "df_time[\"saki_onset\"] = pd.to_datetime(df_time[\"saki_onset\"])                                               \n",
    "# df_time[\"saki_onset_a1d\"] = df_time[\"saki_onset\"] + dt.timedelta(hours=24)\n",
    "df_time.head(2)"
   ]
  },
  {
   "cell_type": "code",
   "execution_count": 4,
   "id": "7c11b2a7",
   "metadata": {
    "ExecuteTime": {
     "end_time": "2024-01-03T01:44:54.968775Z",
     "start_time": "2024-01-03T01:44:49.095964Z"
    },
    "scrolled": true
   },
   "outputs": [
    {
     "data": {
      "text/html": [
       "<div>\n",
       "<style scoped>\n",
       "    .dataframe tbody tr th:only-of-type {\n",
       "        vertical-align: middle;\n",
       "    }\n",
       "\n",
       "    .dataframe tbody tr th {\n",
       "        vertical-align: top;\n",
       "    }\n",
       "\n",
       "    .dataframe thead th {\n",
       "        text-align: right;\n",
       "    }\n",
       "</style>\n",
       "<table border=\"1\" class=\"dataframe\">\n",
       "  <thead>\n",
       "    <tr style=\"text-align: right;\">\n",
       "      <th></th>\n",
       "      <th>stay_id</th>\n",
       "      <th>aki_stage_uo_max</th>\n",
       "      <th>aki_stage_creat_max</th>\n",
       "      <th>groupHPD</th>\n",
       "    </tr>\n",
       "  </thead>\n",
       "  <tbody>\n",
       "    <tr>\n",
       "      <th>0</th>\n",
       "      <td>30003598</td>\n",
       "      <td>3.0</td>\n",
       "      <td>1.0</td>\n",
       "      <td>1.0</td>\n",
       "    </tr>\n",
       "  </tbody>\n",
       "</table>\n",
       "</div>"
      ],
      "text/plain": [
       "    stay_id  aki_stage_uo_max  aki_stage_creat_max  groupHPD\n",
       "0  30003598               3.0                  1.0       1.0"
      ]
     },
     "execution_count": 4,
     "metadata": {},
     "output_type": "execute_result"
    }
   ],
   "source": [
    "df_stage =  pd.read_csv(\"/public/hanl/jupyter_dir/kidney_sepsis_penotype_v3/00.data_mimic/disease_definition/AKI/kdigo_stages.csv\")\n",
    "df_stage = pd.merge(df_stage,df_type_filt,how=\"inner\",on=\"stay_id\") #[df_stage[\"stay_id\"].isin(all_lst)]\n",
    "df_stage[\"charttime\"] = pd.to_datetime(df_stage[\"charttime\"], format='%d/%m/%Y %H:%M:%S')\n",
    "df_stage = pd.merge(df_stage,df_time,how=\"inner\",on=\"stay_id\")\n",
    "df_stage = df_stage[(df_stage[\"charttime\"] >= df_stage[\"saki_onset\"])] #(df_stage[\"charttime\"] <= df_stage[\"saki_onset_a1d\"]) & \n",
    "df_stage = df_stage[[\"stay_id\",\"aki_stage_uo\",\"aki_stage\",\"aki_stage_creat\",\"groupHPD\"]]\n",
    "df_stage = df_stage.groupby([\"stay_id\"]).agg({\"aki_stage_uo\":\"max\",\"aki_stage_creat\":\"max\",\"groupHPD\":\"mean\"}).reset_index()\n",
    "df_stage = df_stage.fillna(0)\n",
    "df_stage.columns = [\"stay_id\",\"aki_stage_uo_max\",\"aki_stage_creat_max\",\"groupHPD\"]\n",
    "df_stage.head(1)"
   ]
  },
  {
   "cell_type": "code",
   "execution_count": 5,
   "id": "d1a0ba95",
   "metadata": {
    "ExecuteTime": {
     "end_time": "2024-01-03T01:44:55.023099Z",
     "start_time": "2024-01-03T01:44:54.970151Z"
    }
   },
   "outputs": [
    {
     "data": {
      "text/html": [
       "<div>\n",
       "<style scoped>\n",
       "    .dataframe tbody tr th:only-of-type {\n",
       "        vertical-align: middle;\n",
       "    }\n",
       "\n",
       "    .dataframe tbody tr th {\n",
       "        vertical-align: top;\n",
       "    }\n",
       "\n",
       "    .dataframe thead th {\n",
       "        text-align: right;\n",
       "    }\n",
       "</style>\n",
       "<table border=\"1\" class=\"dataframe\">\n",
       "  <thead>\n",
       "    <tr style=\"text-align: right;\">\n",
       "      <th></th>\n",
       "      <th>stay_id</th>\n",
       "      <th>aki_stage_uo_max</th>\n",
       "      <th>aki_stage_creat_max</th>\n",
       "      <th>groupHPD</th>\n",
       "      <th>label_diu_res</th>\n",
       "    </tr>\n",
       "  </thead>\n",
       "  <tbody>\n",
       "    <tr>\n",
       "      <th>0</th>\n",
       "      <td>30003598</td>\n",
       "      <td>3.0</td>\n",
       "      <td>1.0</td>\n",
       "      <td>1.0</td>\n",
       "      <td>responsive</td>\n",
       "    </tr>\n",
       "    <tr>\n",
       "      <th>1</th>\n",
       "      <td>30004144</td>\n",
       "      <td>3.0</td>\n",
       "      <td>0.0</td>\n",
       "      <td>2.0</td>\n",
       "      <td>responsive</td>\n",
       "    </tr>\n",
       "    <tr>\n",
       "      <th>2</th>\n",
       "      <td>30005085</td>\n",
       "      <td>2.0</td>\n",
       "      <td>0.0</td>\n",
       "      <td>2.0</td>\n",
       "      <td>responsive</td>\n",
       "    </tr>\n",
       "    <tr>\n",
       "      <th>3</th>\n",
       "      <td>30006983</td>\n",
       "      <td>3.0</td>\n",
       "      <td>3.0</td>\n",
       "      <td>2.0</td>\n",
       "      <td>responsive</td>\n",
       "    </tr>\n",
       "    <tr>\n",
       "      <th>4</th>\n",
       "      <td>30008148</td>\n",
       "      <td>2.0</td>\n",
       "      <td>0.0</td>\n",
       "      <td>2.0</td>\n",
       "      <td>responsive</td>\n",
       "    </tr>\n",
       "    <tr>\n",
       "      <th>...</th>\n",
       "      <td>...</td>\n",
       "      <td>...</td>\n",
       "      <td>...</td>\n",
       "      <td>...</td>\n",
       "      <td>...</td>\n",
       "    </tr>\n",
       "    <tr>\n",
       "      <th>4708</th>\n",
       "      <td>39985287</td>\n",
       "      <td>2.0</td>\n",
       "      <td>1.0</td>\n",
       "      <td>1.0</td>\n",
       "      <td>responsive</td>\n",
       "    </tr>\n",
       "    <tr>\n",
       "      <th>4709</th>\n",
       "      <td>39989733</td>\n",
       "      <td>2.0</td>\n",
       "      <td>2.0</td>\n",
       "      <td>1.0</td>\n",
       "      <td>responsive</td>\n",
       "    </tr>\n",
       "    <tr>\n",
       "      <th>4710</th>\n",
       "      <td>39992167</td>\n",
       "      <td>2.0</td>\n",
       "      <td>0.0</td>\n",
       "      <td>2.0</td>\n",
       "      <td>responsive</td>\n",
       "    </tr>\n",
       "    <tr>\n",
       "      <th>4711</th>\n",
       "      <td>39993683</td>\n",
       "      <td>3.0</td>\n",
       "      <td>0.0</td>\n",
       "      <td>1.0</td>\n",
       "      <td>responsive</td>\n",
       "    </tr>\n",
       "    <tr>\n",
       "      <th>4712</th>\n",
       "      <td>39993968</td>\n",
       "      <td>3.0</td>\n",
       "      <td>1.0</td>\n",
       "      <td>1.0</td>\n",
       "      <td>Non-responsive</td>\n",
       "    </tr>\n",
       "  </tbody>\n",
       "</table>\n",
       "<p>4713 rows × 5 columns</p>\n",
       "</div>"
      ],
      "text/plain": [
       "       stay_id  aki_stage_uo_max  aki_stage_creat_max  groupHPD  \\\n",
       "0     30003598               3.0                  1.0       1.0   \n",
       "1     30004144               3.0                  0.0       2.0   \n",
       "2     30005085               2.0                  0.0       2.0   \n",
       "3     30006983               3.0                  3.0       2.0   \n",
       "4     30008148               2.0                  0.0       2.0   \n",
       "...        ...               ...                  ...       ...   \n",
       "4708  39985287               2.0                  1.0       1.0   \n",
       "4709  39989733               2.0                  2.0       1.0   \n",
       "4710  39992167               2.0                  0.0       2.0   \n",
       "4711  39993683               3.0                  0.0       1.0   \n",
       "4712  39993968               3.0                  1.0       1.0   \n",
       "\n",
       "       label_diu_res  \n",
       "0         responsive  \n",
       "1         responsive  \n",
       "2         responsive  \n",
       "3         responsive  \n",
       "4         responsive  \n",
       "...              ...  \n",
       "4708      responsive  \n",
       "4709      responsive  \n",
       "4710      responsive  \n",
       "4711      responsive  \n",
       "4712  Non-responsive  \n",
       "\n",
       "[4713 rows x 5 columns]"
      ]
     },
     "execution_count": 5,
     "metadata": {},
     "output_type": "execute_result"
    }
   ],
   "source": [
    "df_bt_at = pd.read_csv(\"/public/hanl/jupyter_dir/kidney_sepsis_penotype_v3/06.fluid_resuscitation/01.mimic/df_diuretic_responsitive.csv\")\n",
    "df_bt_at = df_bt_at[[\"stay_id\",\"label_diu_res\"]]\n",
    "df_stage = pd.merge(df_stage, df_bt_at,how=\"left\", on = \"stay_id\")\n",
    "df_stage"
   ]
  },
  {
   "cell_type": "code",
   "execution_count": 6,
   "id": "7243ff17",
   "metadata": {
    "ExecuteTime": {
     "end_time": "2024-01-03T01:44:55.537773Z",
     "start_time": "2024-01-03T01:44:55.024267Z"
    }
   },
   "outputs": [
    {
     "name": "stderr",
     "output_type": "stream",
     "text": [
      "<ipython-input-6-576761c03565>:42: UserWarning: You have mixed positional and keyword arguments, some input may be discarded.\n",
      "  fig.legend(legend_labels, bbox_to_anchor=(0.8, -0.15), ncol=6, loc='lower center', fontsize=12,\n"
     ]
    },
    {
     "data": {
      "image/png": "[encoded data removed]",
      "text/plain": [
       "<Figure size 1500x500 with 3 Axes>"
      ]
     },
     "metadata": {},
     "output_type": "display_data"
    }
   ],
   "source": [
    "df = df_stage\n",
    "grouped_df = df.groupby('groupHPD')\n",
    "\n",
    "# 创建子图\n",
    "fig, axes = plt.subplots(nrows=1, ncols=3, figsize=(15, 5), sharey=True)\n",
    "map_dict = {1:\"DR\",2:\"RR\",3:\"PW\"}\n",
    "colors_uo = ['#fee5d9', '#fcae91', '#fb6a4a',\"#cb181d\"]  # Customize these colors as needed\n",
    "colors_creat = ['#fee5d9', '#fcae91', '#fb6a4a',\"#cb181d\"]  # Customize these colors as needed\n",
    "\n",
    "# 循环绘制每个子图\n",
    "for i, (group, data_group) in enumerate(grouped_df):\n",
    "    ax = axes[i]\n",
    "    \n",
    "    # 计算占比\n",
    "    total_counts = data_group['label_diu_res'].count()\n",
    "    \n",
    "    # 处理数据并绘制堆叠图\n",
    "    data_group['count'] = 1\n",
    "    stacked_df_uo = data_group.pivot_table(index='label_diu_res', columns='aki_stage_uo_max', values='count', aggfunc='sum', fill_value=0)\n",
    "    stacked_df_creat = data_group.pivot_table(index='label_diu_res', columns='aki_stage_creat_max', values='count', aggfunc='sum', fill_value=0)\n",
    "    \n",
    "    # 绘制堆叠图\n",
    "    stacked_df_uo.div(stacked_df_uo.sum(1), axis=0).plot(kind='bar', stacked=True, ax=ax, \n",
    "                                                         rot=0, position=0,width=0.3\n",
    "                                                        ,color=colors_uo)\n",
    "    stacked_df_creat.div(stacked_df_creat.sum(1), axis=0).plot(kind='bar', stacked=True, ax=ax,\n",
    "                                                               rot=0, position=1,width=0.3\n",
    "                                                              ,color=colors_creat)\n",
    "    \n",
    "    # 添加标签\n",
    "    custom_xtick_labels = ['No diuretic', 'Diuretic \\nnon-responsive', 'Diuretic \\nresponsive']  # Customize these labels as needed\n",
    "    ax.set_xticklabels(custom_xtick_labels, rotation=15,size=15)\n",
    "    ax.set_xlabel('')\n",
    "    ax.set_ylabel('Percentage',size=15)\n",
    "    ax.set_title(map_dict[int(group)], fontsize=15)\n",
    "    ax.legend().set_visible(False)\n",
    "fig.suptitle('MIMIC-IV', fontsize=16)\n",
    "\n",
    "legend_labels = ['Max uo aki_stage'] #, 'Max crea aki_stage'\n",
    "legend_colors = colors_uo + colors_creat\n",
    "labels = [0,1,2,3] # ,0,1\n",
    "fig.legend(legend_labels, bbox_to_anchor=(0.8, -0.15), ncol=6, loc='lower center', fontsize=12,\n",
    "           title='Max aki stage (Crea + Uo)', title_fontsize=14, labels=labels)\n",
    "\n",
    "plt.tight_layout(rect=[0, 0, 1, 0.96])  # Adjust the rect parameter to make room for the suptitle\n",
    "plt.show()\n"
   ]
  },
  {
   "cell_type": "markdown",
   "id": "3ce088f0",
   "metadata": {},
   "source": [
    "# AUMC"
   ]
  },
  {
   "cell_type": "code",
   "execution_count": 7,
   "id": "87d00ccb",
   "metadata": {
    "ExecuteTime": {
     "end_time": "2024-01-03T01:44:55.686243Z",
     "start_time": "2024-01-03T01:44:55.538857Z"
    }
   },
   "outputs": [
    {
     "name": "stdout",
     "output_type": "stream",
     "text": [
      "纳入患者数量： 2183\n"
     ]
    },
    {
     "data": {
      "text/plain": [
       "2    1400\n",
       "1     564\n",
       "3     219\n",
       "Name: groupHPD, dtype: int64"
      ]
     },
     "execution_count": 7,
     "metadata": {},
     "output_type": "execute_result"
    }
   ],
   "source": [
    "df_type = pd.read_csv(\"/public/hanl/jupyter_dir/kidney_sepsis_penotype_v3/02.AUMCdb_SAKI_trajCluster/df_mixAK_fea3_C3_aumc.csv\")\n",
    "df_type_filt = df_type.loc[:,[\"stay_id\",\"groupHPD\"]]\n",
    "df_type_filt = df_type_filt.drop_duplicates()\n",
    "all_lst = df_type_filt.stay_id.unique().tolist()\n",
    "print(\"纳入患者数量：\",len(all_lst))\n",
    "\n",
    "df_type_filt[\"groupHPD\"].value_counts()"
   ]
  },
  {
   "cell_type": "code",
   "execution_count": 8,
   "id": "7ea56346",
   "metadata": {
    "ExecuteTime": {
     "end_time": "2024-01-03T01:44:55.703146Z",
     "start_time": "2024-01-03T01:44:55.687945Z"
    }
   },
   "outputs": [
    {
     "data": {
      "text/html": [
       "<div>\n",
       "<style scoped>\n",
       "    .dataframe tbody tr th:only-of-type {\n",
       "        vertical-align: middle;\n",
       "    }\n",
       "\n",
       "    .dataframe tbody tr th {\n",
       "        vertical-align: top;\n",
       "    }\n",
       "\n",
       "    .dataframe thead th {\n",
       "        text-align: right;\n",
       "    }\n",
       "</style>\n",
       "<table border=\"1\" class=\"dataframe\">\n",
       "  <thead>\n",
       "    <tr style=\"text-align: right;\">\n",
       "      <th></th>\n",
       "      <th>stay_id</th>\n",
       "      <th>saki_onset</th>\n",
       "    </tr>\n",
       "  </thead>\n",
       "  <tbody>\n",
       "    <tr>\n",
       "      <th>0</th>\n",
       "      <td>0</td>\n",
       "      <td>NaN</td>\n",
       "    </tr>\n",
       "    <tr>\n",
       "      <th>1</th>\n",
       "      <td>1</td>\n",
       "      <td>NaN</td>\n",
       "    </tr>\n",
       "  </tbody>\n",
       "</table>\n",
       "</div>"
      ],
      "text/plain": [
       "   stay_id  saki_onset\n",
       "0        0         NaN\n",
       "1        1         NaN"
      ]
     },
     "execution_count": 8,
     "metadata": {},
     "output_type": "execute_result"
    }
   ],
   "source": [
    "df_time = pd.read_csv(\"/public/hanl/jupyter_dir/kidney_sepsis_penotype_v3/00.data_aumc/disease_definition/AKI/aumcdb_sk_event_time.csv\")\n",
    "df_time = df_time[[\"stay_id\",\"saki_onset\"]]\n",
    "# df_time[\"saki_onset_a1d\"] = df_time[\"saki_onset\"] + 24\n",
    "df_time.head(2)"
   ]
  },
  {
   "cell_type": "code",
   "execution_count": 9,
   "id": "4efa2351",
   "metadata": {
    "ExecuteTime": {
     "end_time": "2024-01-03T01:44:56.676539Z",
     "start_time": "2024-01-03T01:44:55.704553Z"
    }
   },
   "outputs": [
    {
     "data": {
      "text/html": [
       "<div>\n",
       "<style scoped>\n",
       "    .dataframe tbody tr th:only-of-type {\n",
       "        vertical-align: middle;\n",
       "    }\n",
       "\n",
       "    .dataframe tbody tr th {\n",
       "        vertical-align: top;\n",
       "    }\n",
       "\n",
       "    .dataframe thead th {\n",
       "        text-align: right;\n",
       "    }\n",
       "</style>\n",
       "<table border=\"1\" class=\"dataframe\">\n",
       "  <thead>\n",
       "    <tr style=\"text-align: right;\">\n",
       "      <th></th>\n",
       "      <th>stay_id</th>\n",
       "      <th>aki_stage_uo_max</th>\n",
       "      <th>aki_stage_creat_max</th>\n",
       "      <th>groupHPD</th>\n",
       "    </tr>\n",
       "  </thead>\n",
       "  <tbody>\n",
       "    <tr>\n",
       "      <th>0</th>\n",
       "      <td>5</td>\n",
       "      <td>3.0</td>\n",
       "      <td>0.0</td>\n",
       "      <td>2.0</td>\n",
       "    </tr>\n",
       "  </tbody>\n",
       "</table>\n",
       "</div>"
      ],
      "text/plain": [
       "   stay_id  aki_stage_uo_max  aki_stage_creat_max  groupHPD\n",
       "0        5               3.0                  0.0       2.0"
      ]
     },
     "execution_count": 9,
     "metadata": {},
     "output_type": "execute_result"
    }
   ],
   "source": [
    "df_stage =  pd.read_csv(\"/public/hanl/jupyter_dir/kidney_sepsis_penotype_v3/00.data_aumc//disease_definition/AKI/kdigo_aki_stage.csv\")\n",
    "df_stage = df_stage.rename(columns={\"admissionid\":\"stay_id\"})\n",
    "df_stage = pd.merge(df_stage,df_type_filt,how=\"inner\",on=\"stay_id\") #[df_stage[\"stay_id\"].isin(all_lst)]\n",
    "df_stage = pd.merge(df_stage,df_time,how=\"inner\",on=\"stay_id\")\n",
    "df_stage = df_stage[df_stage[\"time\"] >= df_stage[\"saki_onset\"]] #(df_stage[\"time\"] <= df_stage[\"saki_onset_a1d\"]) & (\n",
    "df_stage = df_stage[[\"stay_id\",\"aki_stage_uo\",\"aki_stage\",\"aki_stage_creat\",\"groupHPD\"]]\n",
    "df_stage = df_stage.groupby([\"stay_id\"]).agg({\"aki_stage_uo\":\"max\",\"aki_stage_creat\":\"max\",\"groupHPD\":\"mean\"}).reset_index()\n",
    "df_stage = df_stage.fillna(0)\n",
    "df_stage.columns = [\"stay_id\",\"aki_stage_uo_max\",\"aki_stage_creat_max\",\"groupHPD\"]\n",
    "df_stage.head(1)"
   ]
  },
  {
   "cell_type": "code",
   "execution_count": 10,
   "id": "83f07586",
   "metadata": {
    "ExecuteTime": {
     "end_time": "2024-01-03T01:44:56.703386Z",
     "start_time": "2024-01-03T01:44:56.677711Z"
    }
   },
   "outputs": [
    {
     "data": {
      "text/html": [
       "<div>\n",
       "<style scoped>\n",
       "    .dataframe tbody tr th:only-of-type {\n",
       "        vertical-align: middle;\n",
       "    }\n",
       "\n",
       "    .dataframe tbody tr th {\n",
       "        vertical-align: top;\n",
       "    }\n",
       "\n",
       "    .dataframe thead th {\n",
       "        text-align: right;\n",
       "    }\n",
       "</style>\n",
       "<table border=\"1\" class=\"dataframe\">\n",
       "  <thead>\n",
       "    <tr style=\"text-align: right;\">\n",
       "      <th></th>\n",
       "      <th>stay_id</th>\n",
       "      <th>aki_stage_uo_max</th>\n",
       "      <th>aki_stage_creat_max</th>\n",
       "      <th>groupHPD</th>\n",
       "      <th>label_diu_res</th>\n",
       "    </tr>\n",
       "  </thead>\n",
       "  <tbody>\n",
       "    <tr>\n",
       "      <th>0</th>\n",
       "      <td>5</td>\n",
       "      <td>3.0</td>\n",
       "      <td>0.0</td>\n",
       "      <td>2.0</td>\n",
       "      <td>responsive</td>\n",
       "    </tr>\n",
       "    <tr>\n",
       "      <th>1</th>\n",
       "      <td>15</td>\n",
       "      <td>3.0</td>\n",
       "      <td>1.0</td>\n",
       "      <td>2.0</td>\n",
       "      <td>responsive</td>\n",
       "    </tr>\n",
       "    <tr>\n",
       "      <th>2</th>\n",
       "      <td>20</td>\n",
       "      <td>2.0</td>\n",
       "      <td>0.0</td>\n",
       "      <td>2.0</td>\n",
       "      <td>No diuretic</td>\n",
       "    </tr>\n",
       "    <tr>\n",
       "      <th>3</th>\n",
       "      <td>35</td>\n",
       "      <td>3.0</td>\n",
       "      <td>0.0</td>\n",
       "      <td>2.0</td>\n",
       "      <td>responsive</td>\n",
       "    </tr>\n",
       "    <tr>\n",
       "      <th>4</th>\n",
       "      <td>38</td>\n",
       "      <td>2.0</td>\n",
       "      <td>0.0</td>\n",
       "      <td>2.0</td>\n",
       "      <td>responsive</td>\n",
       "    </tr>\n",
       "    <tr>\n",
       "      <th>...</th>\n",
       "      <td>...</td>\n",
       "      <td>...</td>\n",
       "      <td>...</td>\n",
       "      <td>...</td>\n",
       "      <td>...</td>\n",
       "    </tr>\n",
       "    <tr>\n",
       "      <th>2178</th>\n",
       "      <td>23464</td>\n",
       "      <td>3.0</td>\n",
       "      <td>1.0</td>\n",
       "      <td>2.0</td>\n",
       "      <td>responsive</td>\n",
       "    </tr>\n",
       "    <tr>\n",
       "      <th>2179</th>\n",
       "      <td>23484</td>\n",
       "      <td>2.0</td>\n",
       "      <td>0.0</td>\n",
       "      <td>2.0</td>\n",
       "      <td>responsive</td>\n",
       "    </tr>\n",
       "    <tr>\n",
       "      <th>2180</th>\n",
       "      <td>23485</td>\n",
       "      <td>2.0</td>\n",
       "      <td>0.0</td>\n",
       "      <td>2.0</td>\n",
       "      <td>No diuretic</td>\n",
       "    </tr>\n",
       "    <tr>\n",
       "      <th>2181</th>\n",
       "      <td>23488</td>\n",
       "      <td>3.0</td>\n",
       "      <td>1.0</td>\n",
       "      <td>1.0</td>\n",
       "      <td>No diuretic</td>\n",
       "    </tr>\n",
       "    <tr>\n",
       "      <th>2182</th>\n",
       "      <td>23503</td>\n",
       "      <td>2.0</td>\n",
       "      <td>0.0</td>\n",
       "      <td>2.0</td>\n",
       "      <td>responsive</td>\n",
       "    </tr>\n",
       "  </tbody>\n",
       "</table>\n",
       "<p>2183 rows × 5 columns</p>\n",
       "</div>"
      ],
      "text/plain": [
       "      stay_id  aki_stage_uo_max  aki_stage_creat_max  groupHPD label_diu_res\n",
       "0           5               3.0                  0.0       2.0    responsive\n",
       "1          15               3.0                  1.0       2.0    responsive\n",
       "2          20               2.0                  0.0       2.0   No diuretic\n",
       "3          35               3.0                  0.0       2.0    responsive\n",
       "4          38               2.0                  0.0       2.0    responsive\n",
       "...       ...               ...                  ...       ...           ...\n",
       "2178    23464               3.0                  1.0       2.0    responsive\n",
       "2179    23484               2.0                  0.0       2.0    responsive\n",
       "2180    23485               2.0                  0.0       2.0   No diuretic\n",
       "2181    23488               3.0                  1.0       1.0   No diuretic\n",
       "2182    23503               2.0                  0.0       2.0    responsive\n",
       "\n",
       "[2183 rows x 5 columns]"
      ]
     },
     "execution_count": 10,
     "metadata": {},
     "output_type": "execute_result"
    }
   ],
   "source": [
    "df_bt_at = pd.read_csv(\"/public/hanl/jupyter_dir/kidney_sepsis_penotype_v3/06.fluid_resuscitation/02.aumc/df_diuretic_responsitive.csv\")\n",
    "df_bt_at = df_bt_at[[\"stay_id\",\"label_diu_res\"]]\n",
    "df_stage = pd.merge(df_stage, df_bt_at,how=\"left\", on = \"stay_id\")\n",
    "df_stage"
   ]
  },
  {
   "cell_type": "code",
   "execution_count": 11,
   "id": "d31c9530",
   "metadata": {
    "ExecuteTime": {
     "end_time": "2024-01-03T01:44:57.153312Z",
     "start_time": "2024-01-03T01:44:56.704495Z"
    },
    "run_control": {
     "marked": true
    }
   },
   "outputs": [
    {
     "name": "stderr",
     "output_type": "stream",
     "text": [
      "<ipython-input-11-1c2b258f1e0c>:42: UserWarning: You have mixed positional and keyword arguments, some input may be discarded.\n",
      "  fig.legend(legend_labels, bbox_to_anchor=(0.8, -0.15), ncol=6, loc='lower center', fontsize=12,\n"
     ]
    },
    {
     "data": {
      "image/png": "[encoded data removed]",
      "text/plain": [
       "<Figure size 1500x500 with 3 Axes>"
      ]
     },
     "metadata": {},
     "output_type": "display_data"
    }
   ],
   "source": [
    "df = df_stage\n",
    "grouped_df = df.groupby('groupHPD')\n",
    "\n",
    "# 创建子图\n",
    "fig, axes = plt.subplots(nrows=1, ncols=3, figsize=(15, 5), sharey=True)\n",
    "map_dict = {1:\"DR\",2:\"RR\",3:\"PW\"}\n",
    "colors_uo = ['#fee5d9', '#fcae91', '#fb6a4a',\"#cb181d\"]  # Customize these colors as needed\n",
    "colors_creat = ['#fee5d9', '#fcae91']  # Customize these colors as needed\n",
    "\n",
    "# 循环绘制每个子图\n",
    "for i, (group, data_group) in enumerate(grouped_df):\n",
    "    ax = axes[i]\n",
    "    \n",
    "    # 计算占比\n",
    "    total_counts = data_group['label_diu_res'].count()\n",
    "    \n",
    "    # 处理数据并绘制堆叠图\n",
    "    data_group['count'] = 1\n",
    "    stacked_df_uo = data_group.pivot_table(index='label_diu_res', columns='aki_stage_uo_max', values='count', aggfunc='sum', fill_value=0)\n",
    "    stacked_df_creat = data_group.pivot_table(index='label_diu_res', columns='aki_stage_creat_max', values='count', aggfunc='sum', fill_value=0)\n",
    "    \n",
    "    # 绘制堆叠图\n",
    "    stacked_df_uo.div(stacked_df_uo.sum(1), axis=0).plot(kind='bar', stacked=True, ax=ax, \n",
    "                                                         rot=0, position=0,width=0.3\n",
    "                                                        ,color=colors_uo)\n",
    "    stacked_df_creat.div(stacked_df_creat.sum(1), axis=0).plot(kind='bar', stacked=True, ax=ax,\n",
    "                                                               rot=0, position=1,width=0.3\n",
    "                                                              ,color=colors_creat)\n",
    "    \n",
    "    # 添加标签\n",
    "    custom_xtick_labels = ['No diuretic', 'Diuretic \\nnon-responsive', 'Diuretic \\nresponsive']  # Customize these labels as needed\n",
    "    ax.set_xticklabels(custom_xtick_labels, rotation=15,size=15)\n",
    "    ax.set_xlabel('')\n",
    "    ax.set_ylabel('Percentage',size=15)\n",
    "    ax.set_title(map_dict[int(group)], fontsize=15)\n",
    "    ax.legend().set_visible(False)\n",
    "fig.suptitle('AUMC', fontsize=16)\n",
    "\n",
    "legend_labels = ['Max uo aki_stage'] #, 'Max crea aki_stage'\n",
    "legend_colors = colors_uo + colors_creat\n",
    "labels = [0,1,2,3] # ,0,1\n",
    "fig.legend(legend_labels, bbox_to_anchor=(0.8, -0.15), ncol=6, loc='lower center', fontsize=12,\n",
    "           title='Max aki stage (Crea + Uo)', title_fontsize=14, labels=labels)\n",
    "\n",
    "plt.tight_layout(rect=[0, 0, 1, 0.96])  # Adjust the rect parameter to make room for the suptitle\n",
    "plt.show()\n"
   ]
  },
  {
   "cell_type": "code",
   "execution_count": null,
   "id": "c55cca58",
   "metadata": {},
   "outputs": [],
   "source": []
  },
  {
   "cell_type": "code",
   "execution_count": null,
   "id": "a7defe44",
   "metadata": {},
   "outputs": [],
   "source": []
  }
 ],
 "metadata": {
  "kernelspec": {
   "display_name": "Python [conda env:sp_shock] *",
   "language": "python",
   "name": "conda-env-sp_shock-py"
  },
  "language_info": {
   "codemirror_mode": {
    "name": "ipython",
    "version": 3
   },
   "file_extension": ".py",
   "mimetype": "text/x-python",
   "name": "python",
   "nbconvert_exporter": "python",
   "pygments_lexer": "ipython3",
   "version": "3.9.5"
  },
  "toc": {
   "base_numbering": 1,
   "nav_menu": {},
   "number_sections": true,
   "sideBar": true,
   "skip_h1_title": false,
   "title_cell": "Table of Contents",
   "title_sidebar": "Contents",
   "toc_cell": false,
   "toc_position": {},
   "toc_section_display": true,
   "toc_window_display": false
  },
  "varInspector": {
   "cols": {
    "lenName": 16,
    "lenType": 16,
    "lenVar": 40
   },
   "kernels_config": {
    "python": {
     "delete_cmd_postfix": "",
     "delete_cmd_prefix": "del ",
     "library": "var_list.py",
     "varRefreshCmd": "print(var_dic_list())"
    },
    "r": {
     "delete_cmd_postfix": ") ",
     "delete_cmd_prefix": "rm(",
     "library": "var_list.r",
     "varRefreshCmd": "cat(var_dic_list()) "
    }
   },
   "types_to_exclude": [
    "module",
    "function",
    "builtin_function_or_method",
    "instance",
    "_Feature"
   ],
   "window_display": false
  }
 },
 "nbformat": 4,
 "nbformat_minor": 5
}
