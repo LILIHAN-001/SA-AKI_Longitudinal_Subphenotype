{
 "cells": [
  {
   "cell_type": "code",
   "execution_count": 4,
   "id": "e1f1349e",
   "metadata": {
    "ExecuteTime": {
     "end_time": "2024-02-07T11:57:18.640133Z",
     "start_time": "2024-02-07T11:57:18.637885Z"
    }
   },
   "outputs": [],
   "source": [
    "import pandas as pd\n",
    "import os\n",
    "import numpy as np\n",
    "pd.options.display.max_rows=300\n",
    "pd.set_option('display.max_columns', None)# 列显示不全\n"
   ]
  },
  {
   "cell_type": "code",
   "execution_count": 5,
   "id": "ace387c9",
   "metadata": {
    "ExecuteTime": {
     "end_time": "2024-02-07T11:57:20.513090Z",
     "start_time": "2024-02-07T11:57:20.496577Z"
    }
   },
   "outputs": [
    {
     "data": {
      "text/html": [
       "<div>\n",
       "<style scoped>\n",
       "    .dataframe tbody tr th:only-of-type {\n",
       "        vertical-align: middle;\n",
       "    }\n",
       "\n",
       "    .dataframe tbody tr th {\n",
       "        vertical-align: top;\n",
       "    }\n",
       "\n",
       "    .dataframe thead th {\n",
       "        text-align: right;\n",
       "    }\n",
       "</style>\n",
       "<table border=\"1\" class=\"dataframe\">\n",
       "  <thead>\n",
       "    <tr style=\"text-align: right;\">\n",
       "      <th></th>\n",
       "      <th>subject_id</th>\n",
       "      <th>hadm_id</th>\n",
       "      <th>stay_id</th>\n",
       "      <th>starttime</th>\n",
       "      <th>endtime</th>\n",
       "      <th>storetime</th>\n",
       "      <th>itemid</th>\n",
       "      <th>amount</th>\n",
       "      <th>amountuom</th>\n",
       "      <th>rate</th>\n",
       "      <th>rateuom</th>\n",
       "      <th>orderid</th>\n",
       "      <th>linkorderid</th>\n",
       "      <th>ordercategoryname</th>\n",
       "      <th>secondaryordercategoryname</th>\n",
       "      <th>ordercomponenttypedescription</th>\n",
       "      <th>ordercategorydescription</th>\n",
       "      <th>patientweight</th>\n",
       "      <th>totalamount</th>\n",
       "      <th>totalamountuom</th>\n",
       "      <th>isopenbag</th>\n",
       "      <th>continueinnextdept</th>\n",
       "      <th>statusdescription</th>\n",
       "      <th>originalamount</th>\n",
       "      <th>originalrate</th>\n",
       "    </tr>\n",
       "  </thead>\n",
       "  <tbody>\n",
       "    <tr>\n",
       "      <th>0</th>\n",
       "      <td>10000032</td>\n",
       "      <td>29079034</td>\n",
       "      <td>39553978</td>\n",
       "      <td>2180-07-23 17:00:00</td>\n",
       "      <td>2180-07-23 17:01:00</td>\n",
       "      <td>2180-07-23 18:56:00</td>\n",
       "      <td>226452</td>\n",
       "      <td>200</td>\n",
       "      <td>ml</td>\n",
       "      <td>NaN</td>\n",
       "      <td>NaN</td>\n",
       "      <td>7140773</td>\n",
       "      <td>7140773</td>\n",
       "      <td>14-Oral/Gastric Intake</td>\n",
       "      <td>NaN</td>\n",
       "      <td>Main order parameter</td>\n",
       "      <td>Bolus</td>\n",
       "      <td>39.4</td>\n",
       "      <td>200</td>\n",
       "      <td>ml</td>\n",
       "      <td>0</td>\n",
       "      <td>0</td>\n",
       "      <td>FinishedRunning</td>\n",
       "      <td>200</td>\n",
       "      <td>200</td>\n",
       "    </tr>\n",
       "  </tbody>\n",
       "</table>\n",
       "</div>"
      ],
      "text/plain": [
       "   subject_id   hadm_id   stay_id            starttime              endtime  \\\n",
       "0    10000032  29079034  39553978  2180-07-23 17:00:00  2180-07-23 17:01:00   \n",
       "\n",
       "             storetime  itemid  amount amountuom  rate  rateuom  orderid  \\\n",
       "0  2180-07-23 18:56:00  226452     200        ml   NaN      NaN  7140773   \n",
       "\n",
       "   linkorderid       ordercategoryname  secondaryordercategoryname  \\\n",
       "0      7140773  14-Oral/Gastric Intake                         NaN   \n",
       "\n",
       "  ordercomponenttypedescription ordercategorydescription  patientweight  \\\n",
       "0          Main order parameter                    Bolus           39.4   \n",
       "\n",
       "   totalamount totalamountuom  isopenbag  continueinnextdept  \\\n",
       "0          200             ml          0                   0   \n",
       "\n",
       "  statusdescription  originalamount  originalrate  \n",
       "0   FinishedRunning             200           200  "
      ]
     },
     "execution_count": 5,
     "metadata": {},
     "output_type": "execute_result"
    }
   ],
   "source": [
    "df_fluidin = pd.read_csv(\"/public/hanl/jupyter_dir/database/mimicIV20/raw/raw/icu/inputevents.csv\",nrows=1)\n",
    "df_fluidin"
   ]
  },
  {
   "cell_type": "markdown",
   "id": "db87d050",
   "metadata": {},
   "source": [
    "# aumc"
   ]
  },
  {
   "cell_type": "code",
   "execution_count": 10,
   "id": "52a7a70d",
   "metadata": {
    "ExecuteTime": {
     "end_time": "2024-02-07T12:41:40.507256Z",
     "start_time": "2024-02-07T12:41:40.356324Z"
    }
   },
   "outputs": [
    {
     "name": "stdout",
     "output_type": "stream",
     "text": [
      "纳入患者数量： 2183\n"
     ]
    },
    {
     "data": {
      "text/plain": [
       "2    1400\n",
       "1     564\n",
       "3     219\n",
       "Name: groupHPD, dtype: int64"
      ]
     },
     "execution_count": 10,
     "metadata": {},
     "output_type": "execute_result"
    }
   ],
   "source": [
    "df_type = pd.read_csv(\"/public/hanl/jupyter_dir/kidney_sepsis_penotype_v3/02.AUMCdb_SAKI_trajCluster/df_mixAK_fea3_C3_aumc.csv\")\n",
    "df_type_filt = df_type.loc[:,[\"stay_id\",\"groupHPD\"]]\n",
    "df_type_filt = df_type_filt.drop_duplicates()\n",
    "all_lst = df_type_filt.stay_id.unique().tolist()\n",
    "print(\"纳入患者数量：\",len(all_lst))\n",
    "\n",
    "df_type_filt[\"groupHPD\"].value_counts()"
   ]
  },
  {
   "cell_type": "code",
   "execution_count": 14,
   "id": "4a2659f5",
   "metadata": {
    "ExecuteTime": {
     "end_time": "2024-02-07T12:44:10.245210Z",
     "start_time": "2024-02-07T12:43:57.734102Z"
    },
    "collapsed": true
   },
   "outputs": [
    {
     "data": {
      "text/html": [
       "<div>\n",
       "<style scoped>\n",
       "    .dataframe tbody tr th:only-of-type {\n",
       "        vertical-align: middle;\n",
       "    }\n",
       "\n",
       "    .dataframe tbody tr th {\n",
       "        vertical-align: top;\n",
       "    }\n",
       "\n",
       "    .dataframe thead th {\n",
       "        text-align: right;\n",
       "    }\n",
       "</style>\n",
       "<table border=\"1\" class=\"dataframe\">\n",
       "  <thead>\n",
       "    <tr style=\"text-align: right;\">\n",
       "      <th></th>\n",
       "      <th>stay_id</th>\n",
       "      <th>starttime</th>\n",
       "      <th>endtime</th>\n",
       "      <th>fluidin</th>\n",
       "    </tr>\n",
       "  </thead>\n",
       "  <tbody>\n",
       "    <tr>\n",
       "      <th>0</th>\n",
       "      <td>0</td>\n",
       "      <td>5.583333</td>\n",
       "      <td>5.600000</td>\n",
       "      <td>0.0</td>\n",
       "    </tr>\n",
       "    <tr>\n",
       "      <th>1</th>\n",
       "      <td>0</td>\n",
       "      <td>14.583333</td>\n",
       "      <td>14.600000</td>\n",
       "      <td>0.0</td>\n",
       "    </tr>\n",
       "    <tr>\n",
       "      <th>2</th>\n",
       "      <td>0</td>\n",
       "      <td>23.583333</td>\n",
       "      <td>23.600000</td>\n",
       "      <td>0.0</td>\n",
       "    </tr>\n",
       "    <tr>\n",
       "      <th>3</th>\n",
       "      <td>0</td>\n",
       "      <td>8.483333</td>\n",
       "      <td>9.483333</td>\n",
       "      <td>500.0</td>\n",
       "    </tr>\n",
       "    <tr>\n",
       "      <th>4</th>\n",
       "      <td>0</td>\n",
       "      <td>12.716667</td>\n",
       "      <td>13.716667</td>\n",
       "      <td>500.0</td>\n",
       "    </tr>\n",
       "    <tr>\n",
       "      <th>...</th>\n",
       "      <td>...</td>\n",
       "      <td>...</td>\n",
       "      <td>...</td>\n",
       "      <td>...</td>\n",
       "    </tr>\n",
       "    <tr>\n",
       "      <th>4907264</th>\n",
       "      <td>23552</td>\n",
       "      <td>18.950000</td>\n",
       "      <td>18.966667</td>\n",
       "      <td>0.0</td>\n",
       "    </tr>\n",
       "    <tr>\n",
       "      <th>4907265</th>\n",
       "      <td>23552</td>\n",
       "      <td>18.950000</td>\n",
       "      <td>18.966667</td>\n",
       "      <td>0.0</td>\n",
       "    </tr>\n",
       "    <tr>\n",
       "      <th>4907266</th>\n",
       "      <td>23552</td>\n",
       "      <td>4.250000</td>\n",
       "      <td>4.266667</td>\n",
       "      <td>0.0</td>\n",
       "    </tr>\n",
       "    <tr>\n",
       "      <th>4907267</th>\n",
       "      <td>23552</td>\n",
       "      <td>15.883333</td>\n",
       "      <td>15.900000</td>\n",
       "      <td>0.0</td>\n",
       "    </tr>\n",
       "    <tr>\n",
       "      <th>4907268</th>\n",
       "      <td>23552</td>\n",
       "      <td>15.883333</td>\n",
       "      <td>15.900000</td>\n",
       "      <td>0.0</td>\n",
       "    </tr>\n",
       "  </tbody>\n",
       "</table>\n",
       "<p>4907269 rows × 4 columns</p>\n",
       "</div>"
      ],
      "text/plain": [
       "         stay_id  starttime    endtime  fluidin\n",
       "0              0   5.583333   5.600000      0.0\n",
       "1              0  14.583333  14.600000      0.0\n",
       "2              0  23.583333  23.600000      0.0\n",
       "3              0   8.483333   9.483333    500.0\n",
       "4              0  12.716667  13.716667    500.0\n",
       "...          ...        ...        ...      ...\n",
       "4907264    23552  18.950000  18.966667      0.0\n",
       "4907265    23552  18.950000  18.966667      0.0\n",
       "4907266    23552   4.250000   4.266667      0.0\n",
       "4907267    23552  15.883333  15.900000      0.0\n",
       "4907268    23552  15.883333  15.900000      0.0\n",
       "\n",
       "[4907269 rows x 4 columns]"
      ]
     },
     "execution_count": 14,
     "metadata": {},
     "output_type": "execute_result"
    }
   ],
   "source": [
    "df_fluidin = pd.read_csv(\"/public/hanl/jupyter_dir/database/AMUCdb/raw/AmsterdamUMCdb-v1/drugitems.csv\", encoding='ISO-8859-1')\n",
    "df_fluidin =  df_fluidin[[\"admissionid\",\"start\",\"stop\",\"fluidin\"]]\n",
    "df_fluidin.columns = [\"stay_id\",\"starttime\",\"endtime\",\"fluidin\"]\n",
    "df_fluidin[\"starttime\"] = df_fluidin[\"starttime\"]/1000/60/60\n",
    "df_fluidin[\"endtime\"] = df_fluidin[\"endtime\"]/1000/60/60\n",
    "df_fluidin = df_fluidin[df_fluidin[\"fluidin\"]!=0]\n",
    "df_fluidin"
   ]
  },
  {
   "cell_type": "code",
   "execution_count": 12,
   "id": "c0941c50",
   "metadata": {
    "ExecuteTime": {
     "end_time": "2024-02-07T12:42:36.815628Z",
     "start_time": "2024-02-07T12:42:36.801949Z"
    },
    "run_control": {
     "marked": true
    }
   },
   "outputs": [],
   "source": [
    "df_time = pd.read_csv(\"/public/hanl/jupyter_dir/kidney_sepsis_penotype_v3/00.data_aumc/disease_definition/AKI/aumcdb_sk_event_time.csv\")\n",
    "df_time = df_time[df_time.stay_id.isin(all_lst)]\n",
    "df_time = df_time[[\"stay_id\",\"saki_onset\"]]"
   ]
  },
  {
   "cell_type": "code",
   "execution_count": 17,
   "id": "5df38dc1",
   "metadata": {
    "ExecuteTime": {
     "end_time": "2024-02-07T12:47:29.432898Z",
     "start_time": "2024-02-07T12:47:28.766908Z"
    },
    "run_control": {
     "marked": true
    }
   },
   "outputs": [],
   "source": [
    "df_fb_fluid =  pd.merge(df_fluidin, df_time,how=\"inner\",on=\"stay_id\")\n",
    "df_fb_fluid[\"time\"] = (df_fb_fluid[\"starttime\"] - df_fb_fluid[\"saki_onset\"])/24\n",
    "df_fb_fluid[\"time\"] = df_fb_fluid[\"time\"].map(lambda x:x//1) # -1指sepsis前6小时的数据，0指sepsis后第一个6小时的数据\n",
    "df_fb_fluid[\"time\"] = df_fb_fluid[\"time\"].map(lambda x: x+1 if x>=0 else x)\n",
    "df_fb_fluid = df_fb_fluid[(df_fb_fluid[\"time\"]>=-2) &(df_fb_fluid[\"time\"]<=7)] # 前七天与后7天\n",
    "df_fb_fluid = df_fb_fluid.groupby([\"stay_id\", \"time\"]).agg({\"fluidin\":\"sum\"}).reset_index()\n",
    "df_fb_fluid = df_fb_fluid.rename(columns={\"fluidin\":\"colloid_bolus\"})\n",
    "df_fb_fluid.to_csv(\"aumc_fluidin.csv\",index=False)"
   ]
  },
  {
   "cell_type": "code",
   "execution_count": 20,
   "id": "c9f01ca6",
   "metadata": {
    "ExecuteTime": {
     "end_time": "2024-02-07T12:48:19.046569Z",
     "start_time": "2024-02-07T12:48:19.043946Z"
    }
   },
   "outputs": [
    {
     "data": {
      "text/plain": [
       "'/public/hanl/jupyter_dir/kidney_sepsis_penotype_v3/06.fluid_resuscitation/00.data'"
      ]
     },
     "execution_count": 20,
     "metadata": {},
     "output_type": "execute_result"
    }
   ],
   "source": [
    "pwd"
   ]
  }
 ],
 "metadata": {
  "kernelspec": {
   "display_name": "Python [conda env:sp_shock] *",
   "language": "python",
   "name": "conda-env-sp_shock-py"
  },
  "language_info": {
   "codemirror_mode": {
    "name": "ipython",
    "version": 3
   },
   "file_extension": ".py",
   "mimetype": "text/x-python",
   "name": "python",
   "nbconvert_exporter": "python",
   "pygments_lexer": "ipython3",
   "version": "3.9.5"
  },
  "toc": {
   "base_numbering": 1,
   "nav_menu": {},
   "number_sections": true,
   "sideBar": true,
   "skip_h1_title": false,
   "title_cell": "Table of Contents",
   "title_sidebar": "Contents",
   "toc_cell": false,
   "toc_position": {},
   "toc_section_display": true,
   "toc_window_display": false
  },
  "varInspector": {
   "cols": {
    "lenName": 16,
    "lenType": 16,
    "lenVar": 40
   },
   "kernels_config": {
    "python": {
     "delete_cmd_postfix": "",
     "delete_cmd_prefix": "del ",
     "library": "var_list.py",
     "varRefreshCmd": "print(var_dic_list())"
    },
    "r": {
     "delete_cmd_postfix": ") ",
     "delete_cmd_prefix": "rm(",
     "library": "var_list.r",
     "varRefreshCmd": "cat(var_dic_list()) "
    }
   },
   "types_to_exclude": [
    "module",
    "function",
    "builtin_function_or_method",
    "instance",
    "_Feature"
   ],
   "window_display": false
  }
 },
 "nbformat": 4,
 "nbformat_minor": 5
}
