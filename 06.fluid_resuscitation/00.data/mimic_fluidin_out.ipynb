{
 "cells": [
  {
   "cell_type": "code",
   "execution_count": 1,
   "id": "e5391322",
   "metadata": {
    "ExecuteTime": {
     "end_time": "2024-02-07T13:03:03.492547Z",
     "start_time": "2024-02-07T13:03:03.157891Z"
    }
   },
   "outputs": [],
   "source": [
    "import pandas as pd\n",
    "import os\n",
    "import numpy as np\n",
    "pd.options.display.max_rows=300\n",
    "pd.set_option('display.max_columns', None)# 列显示不全\n"
   ]
  },
  {
   "cell_type": "code",
   "execution_count": 2,
   "id": "6114fbdd",
   "metadata": {
    "ExecuteTime": {
     "end_time": "2024-02-07T13:03:03.495293Z",
     "start_time": "2024-02-07T13:03:03.493802Z"
    }
   },
   "outputs": [],
   "source": [
    "# df_fluidin = pd.read_csv(\"/public/hanl/jupyter_dir/database/mimicIV20/raw/raw/icu/inputevents.csv\",nrows=1)\n",
    "# df_fluidin"
   ]
  },
  {
   "cell_type": "markdown",
   "id": "ce7533a4",
   "metadata": {},
   "source": [
    "# aumc"
   ]
  },
  {
   "cell_type": "code",
   "execution_count": 3,
   "id": "20d8cd26",
   "metadata": {
    "ExecuteTime": {
     "end_time": "2024-02-07T13:03:03.641665Z",
     "start_time": "2024-02-07T13:03:03.496579Z"
    }
   },
   "outputs": [
    {
     "name": "stdout",
     "output_type": "stream",
     "text": [
      "纳入患者数量： 2183\n"
     ]
    },
    {
     "data": {
      "text/plain": [
       "2    1400\n",
       "1     564\n",
       "3     219\n",
       "Name: groupHPD, dtype: int64"
      ]
     },
     "execution_count": 3,
     "metadata": {},
     "output_type": "execute_result"
    }
   ],
   "source": [
    "df_type = pd.read_csv(\"/public/hanl/jupyter_dir/kidney_sepsis_penotype_v3/02.AUMCdb_SAKI_trajCluster/df_mixAK_fea3_C3_aumc.csv\")\n",
    "df_type_filt = df_type.loc[:,[\"stay_id\",\"groupHPD\"]]\n",
    "df_type_filt = df_type_filt.drop_duplicates()\n",
    "all_lst = df_type_filt.stay_id.unique().tolist()\n",
    "print(\"纳入患者数量：\",len(all_lst))\n",
    "\n",
    "df_type_filt[\"groupHPD\"].value_counts()"
   ]
  },
  {
   "cell_type": "code",
   "execution_count": 4,
   "id": "e7f1de66",
   "metadata": {
    "ExecuteTime": {
     "end_time": "2024-02-07T13:03:15.767709Z",
     "start_time": "2024-02-07T13:03:03.642953Z"
    }
   },
   "outputs": [
    {
     "data": {
      "text/html": [
       "<div>\n",
       "<style scoped>\n",
       "    .dataframe tbody tr th:only-of-type {\n",
       "        vertical-align: middle;\n",
       "    }\n",
       "\n",
       "    .dataframe tbody tr th {\n",
       "        vertical-align: top;\n",
       "    }\n",
       "\n",
       "    .dataframe thead th {\n",
       "        text-align: right;\n",
       "    }\n",
       "</style>\n",
       "<table border=\"1\" class=\"dataframe\">\n",
       "  <thead>\n",
       "    <tr style=\"text-align: right;\">\n",
       "      <th></th>\n",
       "      <th>stay_id</th>\n",
       "      <th>starttime</th>\n",
       "      <th>endtime</th>\n",
       "      <th>fluidin</th>\n",
       "    </tr>\n",
       "  </thead>\n",
       "  <tbody>\n",
       "    <tr>\n",
       "      <th>0</th>\n",
       "      <td>0</td>\n",
       "      <td>5.583333</td>\n",
       "      <td>5.600000</td>\n",
       "      <td>0.0</td>\n",
       "    </tr>\n",
       "    <tr>\n",
       "      <th>1</th>\n",
       "      <td>0</td>\n",
       "      <td>14.583333</td>\n",
       "      <td>14.600000</td>\n",
       "      <td>0.0</td>\n",
       "    </tr>\n",
       "    <tr>\n",
       "      <th>2</th>\n",
       "      <td>0</td>\n",
       "      <td>23.583333</td>\n",
       "      <td>23.600000</td>\n",
       "      <td>0.0</td>\n",
       "    </tr>\n",
       "    <tr>\n",
       "      <th>3</th>\n",
       "      <td>0</td>\n",
       "      <td>8.483333</td>\n",
       "      <td>9.483333</td>\n",
       "      <td>500.0</td>\n",
       "    </tr>\n",
       "    <tr>\n",
       "      <th>4</th>\n",
       "      <td>0</td>\n",
       "      <td>12.716667</td>\n",
       "      <td>13.716667</td>\n",
       "      <td>500.0</td>\n",
       "    </tr>\n",
       "    <tr>\n",
       "      <th>...</th>\n",
       "      <td>...</td>\n",
       "      <td>...</td>\n",
       "      <td>...</td>\n",
       "      <td>...</td>\n",
       "    </tr>\n",
       "    <tr>\n",
       "      <th>4907264</th>\n",
       "      <td>23552</td>\n",
       "      <td>18.950000</td>\n",
       "      <td>18.966667</td>\n",
       "      <td>0.0</td>\n",
       "    </tr>\n",
       "    <tr>\n",
       "      <th>4907265</th>\n",
       "      <td>23552</td>\n",
       "      <td>18.950000</td>\n",
       "      <td>18.966667</td>\n",
       "      <td>0.0</td>\n",
       "    </tr>\n",
       "    <tr>\n",
       "      <th>4907266</th>\n",
       "      <td>23552</td>\n",
       "      <td>4.250000</td>\n",
       "      <td>4.266667</td>\n",
       "      <td>0.0</td>\n",
       "    </tr>\n",
       "    <tr>\n",
       "      <th>4907267</th>\n",
       "      <td>23552</td>\n",
       "      <td>15.883333</td>\n",
       "      <td>15.900000</td>\n",
       "      <td>0.0</td>\n",
       "    </tr>\n",
       "    <tr>\n",
       "      <th>4907268</th>\n",
       "      <td>23552</td>\n",
       "      <td>15.883333</td>\n",
       "      <td>15.900000</td>\n",
       "      <td>0.0</td>\n",
       "    </tr>\n",
       "  </tbody>\n",
       "</table>\n",
       "<p>4907269 rows × 4 columns</p>\n",
       "</div>"
      ],
      "text/plain": [
       "         stay_id  starttime    endtime  fluidin\n",
       "0              0   5.583333   5.600000      0.0\n",
       "1              0  14.583333  14.600000      0.0\n",
       "2              0  23.583333  23.600000      0.0\n",
       "3              0   8.483333   9.483333    500.0\n",
       "4              0  12.716667  13.716667    500.0\n",
       "...          ...        ...        ...      ...\n",
       "4907264    23552  18.950000  18.966667      0.0\n",
       "4907265    23552  18.950000  18.966667      0.0\n",
       "4907266    23552   4.250000   4.266667      0.0\n",
       "4907267    23552  15.883333  15.900000      0.0\n",
       "4907268    23552  15.883333  15.900000      0.0\n",
       "\n",
       "[4907269 rows x 4 columns]"
      ]
     },
     "execution_count": 4,
     "metadata": {},
     "output_type": "execute_result"
    }
   ],
   "source": [
    "df_fluidin = pd.read_csv(\"/public/hanl/jupyter_dir/database/AMUCdb/raw/AmsterdamUMCdb-v1/drugitems.csv\", encoding='ISO-8859-1')\n",
    "df_fluidin =  df_fluidin[[\"admissionid\",\"start\",\"stop\",\"fluidin\"]]\n",
    "df_fluidin.columns = [\"stay_id\",\"starttime\",\"endtime\",\"fluidin\"]\n",
    "df_fluidin[\"starttime\"] = df_fluidin[\"starttime\"]/1000/60/60\n",
    "df_fluidin[\"endtime\"] = df_fluidin[\"endtime\"]/1000/60/60\n",
    "# df_fluidin = df_fluidin[df_fluidin[\"fluidin\"]!=0]\n",
    "df_fluidin"
   ]
  },
  {
   "cell_type": "code",
   "execution_count": 5,
   "id": "5b2366c8",
   "metadata": {
    "ExecuteTime": {
     "end_time": "2024-02-07T13:03:15.783171Z",
     "start_time": "2024-02-07T13:03:15.769225Z"
    },
    "run_control": {
     "marked": true
    }
   },
   "outputs": [],
   "source": [
    "df_time = pd.read_csv(\"/public/hanl/jupyter_dir/kidney_sepsis_penotype_v3/00.data_aumc/disease_definition/AKI/aumcdb_sk_event_time.csv\")\n",
    "df_time = df_time[df_time.stay_id.isin(all_lst)]\n",
    "df_time = df_time[[\"stay_id\",\"saki_onset\"]]"
   ]
  },
  {
   "cell_type": "code",
   "execution_count": 6,
   "id": "b44f7787",
   "metadata": {
    "ExecuteTime": {
     "end_time": "2024-02-07T13:03:16.833768Z",
     "start_time": "2024-02-07T13:03:15.784224Z"
    },
    "run_control": {
     "marked": true
    }
   },
   "outputs": [],
   "source": [
    "df_fb_fluid =  pd.merge(df_fluidin, df_time,how=\"inner\",on=\"stay_id\")\n",
    "df_fb_fluid[\"time\"] = (df_fb_fluid[\"starttime\"] - df_fb_fluid[\"saki_onset\"])/24\n",
    "df_fb_fluid[\"time\"] = df_fb_fluid[\"time\"].map(lambda x:x//1) # -1指sepsis前6小时的数据，0指sepsis后第一个6小时的数据\n",
    "df_fb_fluid[\"time\"] = df_fb_fluid[\"time\"].map(lambda x: x+1 if x>=0 else x)\n",
    "df_fb_fluid = df_fb_fluid[(df_fb_fluid[\"time\"]>=-2) &(df_fb_fluid[\"time\"]<=7)] # 前七天与后7天\n",
    "df_fb_fluid = df_fb_fluid.groupby([\"stay_id\", \"time\"]).agg({\"fluidin\":\"sum\"}).reset_index()\n",
    "df_fb_fluid = df_fb_fluid.rename(columns={\"fluidin\":\"colloid_bolus\"})\n",
    "df_fb_fluid.to_csv(\"aumc_fluidin.csv\",index=False)"
   ]
  },
  {
   "cell_type": "code",
   "execution_count": 8,
   "id": "9746a0dd",
   "metadata": {
    "ExecuteTime": {
     "end_time": "2024-02-07T13:04:57.770723Z",
     "start_time": "2024-02-07T13:04:57.767815Z"
    }
   },
   "outputs": [
    {
     "data": {
      "text/plain": [
       "(13930, 3)"
      ]
     },
     "execution_count": 8,
     "metadata": {},
     "output_type": "execute_result"
    }
   ],
   "source": [
    "df_fb_fluid.shape"
   ]
  },
  {
   "cell_type": "code",
   "execution_count": 7,
   "id": "66e7b341",
   "metadata": {
    "ExecuteTime": {
     "end_time": "2024-02-07T13:03:16.837797Z",
     "start_time": "2024-02-07T13:03:16.834931Z"
    }
   },
   "outputs": [
    {
     "data": {
      "text/plain": [
       "'/public/hanl/jupyter_dir/kidney_sepsis_penotype_v3/06.fluid_resuscitation/00.data'"
      ]
     },
     "execution_count": 7,
     "metadata": {},
     "output_type": "execute_result"
    }
   ],
   "source": [
    "pwd"
   ]
  }
 ],
 "metadata": {
  "kernelspec": {
   "display_name": "Python [conda env:sp_shock] *",
   "language": "python",
   "name": "conda-env-sp_shock-py"
  },
  "language_info": {
   "codemirror_mode": {
    "name": "ipython",
    "version": 3
   },
   "file_extension": ".py",
   "mimetype": "text/x-python",
   "name": "python",
   "nbconvert_exporter": "python",
   "pygments_lexer": "ipython3",
   "version": "3.9.5"
  },
  "toc": {
   "base_numbering": 1,
   "nav_menu": {},
   "number_sections": true,
   "sideBar": true,
   "skip_h1_title": false,
   "title_cell": "Table of Contents",
   "title_sidebar": "Contents",
   "toc_cell": false,
   "toc_position": {},
   "toc_section_display": true,
   "toc_window_display": false
  },
  "varInspector": {
   "cols": {
    "lenName": 16,
    "lenType": 16,
    "lenVar": 40
   },
   "kernels_config": {
    "python": {
     "delete_cmd_postfix": "",
     "delete_cmd_prefix": "del ",
     "library": "var_list.py",
     "varRefreshCmd": "print(var_dic_list())"
    },
    "r": {
     "delete_cmd_postfix": ") ",
     "delete_cmd_prefix": "rm(",
     "library": "var_list.r",
     "varRefreshCmd": "cat(var_dic_list()) "
    }
   },
   "types_to_exclude": [
    "module",
    "function",
    "builtin_function_or_method",
    "instance",
    "_Feature"
   ],
   "window_display": false
  }
 },
 "nbformat": 4,
 "nbformat_minor": 5
}
