{
 "cells": [
  {
   "cell_type": "code",
   "execution_count": 1,
   "id": "820c6f98",
   "metadata": {
    "ExecuteTime": {
     "end_time": "2023-12-28T03:08:50.883365Z",
     "start_time": "2023-12-28T03:08:50.058741Z"
    }
   },
   "outputs": [],
   "source": [
    "import numpy as np\n",
    "import pandas as pd\n",
    "import datetime as dt\n",
    "import matplotlib.pyplot as plt\n",
    "import random\n",
    "import seaborn as sns\n",
    "pd.options.display.max_rows=300\n",
    "pd.set_option('display.max_columns', None)"
   ]
  },
  {
   "cell_type": "code",
   "execution_count": null,
   "id": "b8b6c0ed",
   "metadata": {
    "ExecuteTime": {
     "end_time": "2023-12-28T03:08:51.532841Z",
     "start_time": "2023-12-28T03:08:51.346937Z"
    }
   },
   "outputs": [],
   "source": [
    "df_type = pd.read_csv(\"../../02.AUMCdb_SAKI_trajCluster/df_mixAK_fea3_C3_aumc.csv\")\n",
    "df_type_filt = df_type.loc[:,[\"stay_id\",\"groupHPD\"]]\n",
    "df_type_filt = df_type_filt.drop_duplicates()\n",
    "all_lst = df_type_filt.stay_id.unique().tolist()\n",
    "print(\"Number of included patients:\",len(all_lst))\n",
    "\n",
    "df_type_filt_count = pd.DataFrame(df_type_filt[\"groupHPD\"].value_counts()).reset_index()\n",
    "df_type_filt_count.columns = [\"groupHPD\",\"count_all\"]\n",
    "df_type_filt_count"
   ]
  },
  {
   "cell_type": "code",
   "execution_count": 3,
   "id": "bf089649",
   "metadata": {
    "ExecuteTime": {
     "end_time": "2023-12-20T07:06:28.004410Z",
     "start_time": "2023-12-20T07:06:27.981798Z"
    }
   },
   "outputs": [
    {
     "data": {
      "text/html": [
       "<div>\n",
       "<style scoped>\n",
       "    .dataframe tbody tr th:only-of-type {\n",
       "        vertical-align: middle;\n",
       "    }\n",
       "\n",
       "    .dataframe tbody tr th {\n",
       "        vertical-align: top;\n",
       "    }\n",
       "\n",
       "    .dataframe thead th {\n",
       "        text-align: right;\n",
       "    }\n",
       "</style>\n",
       "<table border=\"1\" class=\"dataframe\">\n",
       "  <thead>\n",
       "    <tr style=\"text-align: right;\">\n",
       "      <th></th>\n",
       "      <th>stay_id</th>\n",
       "      <th>groupHPD</th>\n",
       "      <th>sepsis_onset</th>\n",
       "      <th>saki_onset</th>\n",
       "    </tr>\n",
       "  </thead>\n",
       "  <tbody>\n",
       "    <tr>\n",
       "      <th>0</th>\n",
       "      <td>5</td>\n",
       "      <td>2</td>\n",
       "      <td>0.0</td>\n",
       "      <td>3.0</td>\n",
       "    </tr>\n",
       "    <tr>\n",
       "      <th>1</th>\n",
       "      <td>15</td>\n",
       "      <td>2</td>\n",
       "      <td>1.0</td>\n",
       "      <td>3.0</td>\n",
       "    </tr>\n",
       "  </tbody>\n",
       "</table>\n",
       "</div>"
      ],
      "text/plain": [
       "   stay_id  groupHPD  sepsis_onset  saki_onset\n",
       "0        5         2           0.0         3.0\n",
       "1       15         2           1.0         3.0"
      ]
     },
     "execution_count": 3,
     "metadata": {},
     "output_type": "execute_result"
    }
   ],
   "source": [
    "df_time = pd.read_csv(\"/public/hanl/jupyter_dir/kidney_sepsis_penotype_v3/00.data_aumc/disease_definition//AKI/aumcdb_sk_event_time.csv\")\n",
    "df_time = df_time[[\"stay_id\",\"sepsis_onset\", \"saki_onset\"]]\n",
    "df_time = pd.merge(df_type_filt, df_time, how=\"inner\", on=\"stay_id\")\n",
    "df_time.head(2)"
   ]
  },
  {
   "cell_type": "markdown",
   "id": "26f34e3f",
   "metadata": {},
   "source": [
    "# Diuretic"
   ]
  },
  {
   "cell_type": "code",
   "execution_count": null,
   "id": "ce663ce9",
   "metadata": {
    "ExecuteTime": {
     "end_time": "2023-12-20T07:06:29.719359Z",
     "start_time": "2023-12-20T07:06:28.005913Z"
    },
    "collapsed": true
   },
   "outputs": [],
   "source": [
    "df_di = pd.read_csv(\"/public/hanl/jupyter_dir/database/AMUCdb/clean/medication//AUMCdb_diuretics.csv\")\n",
    "# Unit conversion\n",
    "df_di.loc[df_di[\"drug\"]=='Bumetanide (Burinex)',\"administered\"] *= 80\n",
    "df_di = df_di[['stay_id','starttime', 'endtime', 'administered']]\n",
    "df_di.columns = ['stay_id', 'starttime', 'endtime','amount']\n",
    "df_di = df_di[df_di[\"amount\"]>0]\n",
    "\n",
    "import datetime\n",
    "def dateHourRange(beginDateHour, endDateHour):\n",
    "    dhours = []\n",
    "    dhour = beginDateHour \n",
    "    date = beginDateHour\n",
    "    while date <= endDateHour:\n",
    "        dhours.append(date)\n",
    "        dhour = dhour + 61\n",
    "        date = dhour \n",
    "    return dhours\n",
    "\n",
    "tem_di = df_di\n",
    "tem_di[\"time_lst\"] = tem_di.apply(lambda x: dateHourRange(x['starttime'],x['endtime']),axis=1)\n",
    "tem_di[\"time_num\"] = tem_di[\"time_lst\"].map(lambda x: len(x))\n",
    "tem_di[\"amount_hourly\"] =  tem_di[\"amount\"]/tem_di[\"time_num\"] \n",
    "\n",
    "tem_di['idx'] = range(len(tem_di))\n",
    "tem_add = tem_di.set_index('idx').time_lst.apply(pd.Series).stack().reset_index(level=0).rename(columns={0:'diu_starttime'})\n",
    "tem_di_hourly = pd.merge(tem_di, tem_add,how=\"inner\", on=\"idx\")\n",
    "tem_di_hourly[\"diu_endtime\"] = tem_di_hourly[\"diu_starttime\"] + 60\n",
    "tem_di_hourly['diu_endtime'] = tem_di_hourly[['diu_endtime', 'endtime']].min(axis=1) \n",
    "tem_di_hourly = tem_di_hourly.loc[:,['stay_id', 'diu_starttime','diu_endtime',  'amount_hourly']] # 'starttime', 'endtime', 'amount',\n",
    "tem_di_hourly = tem_di_hourly.rename(columns={\"amount_hourly\":\"amount\"})\n",
    "tem_di_hourly.head(2)"
   ]
  },
  {
   "cell_type": "code",
   "execution_count": null,
   "id": "6e512121",
   "metadata": {
    "ExecuteTime": {
     "end_time": "2023-12-20T07:06:29.725202Z",
     "start_time": "2023-12-20T06:57:46.145Z"
    }
   },
   "outputs": [],
   "source": [
    "df_di = tem_di_hourly\n",
    "df_di = df_di[df_di[\"stay_id\"].isin(all_lst)]\n",
    "df_time_cut = df_time[['stay_id', 'saki_onset']]\n",
    "df_di = pd.merge(df_di,df_time_cut, how=\"right\",on=\"stay_id\")\n",
    "df_di = df_di[df_di[\"diu_starttime\"] >= df_di[\"saki_onset\"]]\n",
    "df_di = df_di.sort_values([\"stay_id\",\"diu_starttime\"])\n",
    "df_di = df_di.drop([\"saki_onset\",\"diu_endtime\"],axis=1)\n",
    "df_di.columns = [\"stay_id\",\"diuretic_time\",\"diuretic_amout\"]\n",
    "df_di[\"diuretic_time\"] = df_di[\"diuretic_time\"] / 60\n",
    "df_di.head(1)"
   ]
  },
  {
   "cell_type": "code",
   "execution_count": null,
   "id": "f0b537e8",
   "metadata": {
    "ExecuteTime": {
     "end_time": "2023-12-20T07:06:29.725951Z",
     "start_time": "2023-12-20T06:57:46.147Z"
    }
   },
   "outputs": [],
   "source": [
    "len(df_di.stay_id.unique())"
   ]
  },
  {
   "cell_type": "markdown",
   "id": "e25c5fb8",
   "metadata": {},
   "source": [
    "# UO"
   ]
  },
  {
   "cell_type": "code",
   "execution_count": null,
   "id": "6db01b14",
   "metadata": {
    "ExecuteTime": {
     "end_time": "2023-12-20T07:06:29.726554Z",
     "start_time": "2023-12-20T06:57:46.149Z"
    }
   },
   "outputs": [],
   "source": [
    "import datetime\n",
    "def dateHourRange_v2(beginDateHour, endDateHour):\n",
    "    beginDateHour= beginDateHour #.strftime('%Y-%m-%d %H:%M:%S')\n",
    "    endDateHour= endDateHour#.strftime('%Y-%m-%d %H:%M:%S')\n",
    "    dhours = []\n",
    "    dhour = endDateHour #datetime.datetime.strptime(endDateHour, \"%Y-%m-%d %H:%M:%S\")\n",
    "    date = endDateHour#[:]\n",
    "    while date > beginDateHour:\n",
    "        dhours.append(date)\n",
    "        dhour = dhour - 1 #datetime.timedelta(hours=1)\n",
    "        date = dhour#.strftime(\"%Y-%m-%d %H:%M:%S\")\n",
    "    return dhours"
   ]
  },
  {
   "cell_type": "code",
   "execution_count": null,
   "id": "3b510eda",
   "metadata": {
    "ExecuteTime": {
     "end_time": "2023-12-20T07:06:29.727160Z",
     "start_time": "2023-12-20T06:57:46.152Z"
    }
   },
   "outputs": [],
   "source": [
    "df_uo = pd.read_csv(\"../../00.data_aumc/feature_data/aumc_icu_feature.csv\")\n",
    "df_uo = df_uo[['stay_id', 'charttime','urineoutput']]\n",
    "df_uo = df_uo[df_uo[\"stay_id\"].isin(all_lst)]\n",
    "df_uo = df_uo[~df_uo.urineoutput.isnull()]\n",
    "df_uo.head(1)"
   ]
  },
  {
   "cell_type": "code",
   "execution_count": null,
   "id": "6bc33f20",
   "metadata": {
    "ExecuteTime": {
     "end_time": "2023-12-20T07:06:29.727820Z",
     "start_time": "2023-12-20T06:57:46.153Z"
    }
   },
   "outputs": [],
   "source": [
    "tmp = df_uo\n",
    "tmp['last_charttime'] = tmp.groupby('stay_id')['charttime'].shift(1)\n",
    "tmp[\"last_charttime\"].fillna(tmp[\"charttime\"] - 1, inplace=True)\n",
    "tmp[\"last_charttime\"] = tmp[\"last_charttime\"].astype(\"int64\")\n",
    "tmp[\"time_lst\"] = tmp.apply(lambda x: dateHourRange_v2(x['last_charttime'],x['charttime']),axis=1)\n",
    "tmp[\"time_num\"] = tmp[\"time_lst\"].map(lambda x: len(x))\n",
    "tmp[\"urineoutput_hourly\"] =  tmp[\"urineoutput\"]/tmp[\"time_num\"] \n",
    "\n",
    "tmp['idx'] = range(len(tmp))\n",
    "tem_add = tmp.set_index('idx').time_lst.apply(pd.Series).stack().reset_index(level=0).rename(columns={0:'uo_charttime_hourly'})\n",
    "tmp_hourly = pd.merge(tmp, tem_add,how=\"inner\", on=\"idx\")\n",
    "df_uo_hourly = tmp_hourly[[\"stay_id\",\"uo_charttime_hourly\",\"urineoutput_hourly\"]]\n",
    "df_uo_hourly = df_uo_hourly.sort_values([\"stay_id\",\"uo_charttime_hourly\"])\n",
    "df_uo_hourly.head()"
   ]
  },
  {
   "cell_type": "markdown",
   "id": "16f94993",
   "metadata": {},
   "source": [
    "# Diuretic reactivity"
   ]
  },
  {
   "cell_type": "code",
   "execution_count": null,
   "id": "cd728334",
   "metadata": {
    "ExecuteTime": {
     "end_time": "2023-12-20T07:06:29.728395Z",
     "start_time": "2023-12-20T06:57:46.156Z"
    }
   },
   "outputs": [],
   "source": [
    "df_merge = pd.merge(df_di, df_uo_hourly, how=\"left\", on=\"stay_id\")\n",
    "print(df_merge.shape)\n",
    "df_merge=df_merge[(df_merge[\"uo_charttime_hourly\"]<=df_merge[\"diuretic_time\"]+24) & (df_merge[\"uo_charttime_hourly\"]>=df_merge[\"diuretic_time\"]-24)]\n",
    "print(df_merge.shape)\n",
    "\n",
    "df_merge[\"uo_charttime_hourly_b\"] = df_merge[\"uo_charttime_hourly\"] - 1\n",
    "time_win = 2\n",
    "df_merge[\"diuretic_time_b\"] = df_merge[\"diuretic_time\"] - time_win  \n",
    "df_merge[\"diuretic_time_a\"] = df_merge[\"diuretic_time\"] + time_win  \n",
    "df_merge.head()"
   ]
  },
  {
   "cell_type": "code",
   "execution_count": null,
   "id": "070b8257",
   "metadata": {
    "ExecuteTime": {
     "end_time": "2023-12-20T07:06:29.728915Z",
     "start_time": "2023-12-20T06:57:46.158Z"
    },
    "run_control": {
     "marked": true
    }
   },
   "outputs": [],
   "source": [
    "# the urine volume 2 hours before the diuretic is used\n",
    "df_bt = df_merge  \n",
    "df_bt['intersection'] = df_bt.apply(lambda row: max(min(row['uo_charttime_hourly'], row['diuretic_time']) - max(row['uo_charttime_hourly_b'], row['diuretic_time_b']),0),axis=1)\n",
    "df_bt[\"urineoutput_before_useDiu\"] = df_bt[\"urineoutput_hourly\"] * df_bt[\"intersection\"]  \n",
    "df_bt = df_bt.groupby([\"stay_id\",\"diuretic_time\",\"diuretic_amout\"]).agg({\"urineoutput_before_useDiu\":\"sum\"}).reset_index()\n",
    "df_bt = pd.merge(df_di,df_bt,how=\"left\",on=[\"stay_id\",\"diuretic_time\",\"diuretic_amout\"])\n",
    "df_bt = df_bt.fillna(0)\n",
    "df_bt = df_bt.drop_duplicates()\n",
    "df_bt.to_csv(\"df_bt.csv\",index=False)\n",
    "df_bt.head()"
   ]
  },
  {
   "cell_type": "code",
   "execution_count": null,
   "id": "23d15f5f",
   "metadata": {
    "ExecuteTime": {
     "end_time": "2023-12-20T07:06:29.729422Z",
     "start_time": "2023-12-20T06:57:46.159Z"
    }
   },
   "outputs": [],
   "source": [
    "df_bt.shape,df_bt[df_bt[\"urineoutput_before_useDiu\"]<200].shape"
   ]
  },
  {
   "cell_type": "code",
   "execution_count": null,
   "id": "fcaea8b7",
   "metadata": {
    "ExecuteTime": {
     "end_time": "2023-12-20T07:06:29.730192Z",
     "start_time": "2023-12-20T06:57:46.161Z"
    }
   },
   "outputs": [],
   "source": [
    "# the urine volume 2 hours after the diuretic is used\n",
    "df_at = df_merge  \n",
    "df_at['intersection'] = df_at.apply(lambda row: max(min(row['uo_charttime_hourly'], row['diuretic_time_a']) - max(row['uo_charttime_hourly_b'], row['diuretic_time']),0),axis=1)\n",
    "df_at[\"urineoutput_after_useDiu\"] = df_at[\"urineoutput_hourly\"] * df_at[\"intersection\"] \n",
    "df_at = df_at.groupby([\"stay_id\",\"diuretic_time\",\"diuretic_amout\"]).agg({\"urineoutput_after_useDiu\":\"sum\"}).reset_index()\n",
    "df_at = pd.merge(df_di,df_at,how=\"left\",on=[\"stay_id\",\"diuretic_time\",\"diuretic_amout\"])\n",
    "df_at = df_at.fillna(0)\n",
    "df_at = df_at.drop_duplicates()\n",
    "df_at.to_csv(\"df_at.csv\",index=False)\n",
    "df_at.head()"
   ]
  },
  {
   "cell_type": "code",
   "execution_count": null,
   "id": "84d0c7b4",
   "metadata": {
    "ExecuteTime": {
     "end_time": "2023-12-20T07:06:29.730716Z",
     "start_time": "2023-12-20T06:57:46.162Z"
    }
   },
   "outputs": [],
   "source": [
    "df_at.shape,df_at[df_at[\"urineoutput_after_useDiu\"]<200].shape"
   ]
  },
  {
   "cell_type": "code",
   "execution_count": null,
   "id": "df41f799",
   "metadata": {
    "ExecuteTime": {
     "end_time": "2023-12-20T07:06:29.731251Z",
     "start_time": "2023-12-20T06:57:46.163Z"
    }
   },
   "outputs": [],
   "source": [
    "df_bt = pd.read_csv(\"df_bt.csv\")\n",
    "df_at = pd.read_csv(\"df_at.csv\")\n",
    "change_percent = 0.1\n",
    "df_bt_at = pd.merge(df_bt, df_at, how=\"inner\",on=[\"stay_id\",\"diuretic_time\",\"diuretic_amout\"])\n",
    "df_bt_at.loc[(df_bt_at[\"urineoutput_after_useDiu\"] <= df_bt_at[\"urineoutput_before_useDiu\"] + df_bt_at[\"urineoutput_before_useDiu\"]*change_percent) | (df_bt_at[\"urineoutput_after_useDiu\"] <=200),\"one_label_diu_res\"] = \"Non-responsive\"\n",
    "df_bt_at.loc[((df_bt_at[\"urineoutput_after_useDiu\"] > 200) & (df_bt_at[\"urineoutput_before_useDiu\"]>200)) | ((df_bt_at[\"urineoutput_after_useDiu\"] > df_bt_at[\"urineoutput_before_useDiu\"] + df_bt_at[\"urineoutput_before_useDiu\"]*change_percent) & (df_bt_at[\"urineoutput_after_useDiu\"] >200)),\"one_label_diu_res\"] = \"responsive\"\n",
    "df_bt_at.to_csv(\"tmp_df_diuretic_responsitive.csv\",index=False)"
   ]
  },
  {
   "cell_type": "code",
   "execution_count": null,
   "id": "01896498",
   "metadata": {
    "ExecuteTime": {
     "end_time": "2023-12-20T07:06:29.731779Z",
     "start_time": "2023-12-20T06:57:46.165Z"
    }
   },
   "outputs": [],
   "source": [
    "df_stat = df_bt_at.groupby(\"stay_id\").agg({'one_label_diu_res': lambda x: list(x)}).reset_index()\n",
    "\n",
    "def process_list(lst):\n",
    "    if len(lst) > 2:\n",
    "        counts = {}\n",
    "        for item in lst:\n",
    "            counts[item] = counts.get(item, 0) + 1\n",
    "        max_count = max(counts.values())\n",
    "        most_common = [k for k, v in counts.items() if v == max_count]\n",
    "        if len(most_common) > 1:\n",
    "            return most_common[1]\n",
    "        else:\n",
    "            return most_common[0]\n",
    "    elif len(lst) == 2:\n",
    "        return lst[-1]\n",
    "    else:\n",
    "        return lst[0]\n",
    "\n",
    "df_stat['label_diu_res'] = df_stat['one_label_diu_res'].apply(process_list)\n",
    "df_stat.head()"
   ]
  },
  {
   "cell_type": "code",
   "execution_count": null,
   "id": "f4fe5ec0",
   "metadata": {
    "ExecuteTime": {
     "end_time": "2023-12-20T07:06:29.732388Z",
     "start_time": "2023-12-20T06:57:46.166Z"
    }
   },
   "outputs": [],
   "source": [
    "tmp = pd.merge(df_bt_at,df_stat[['stay_id', 'label_diu_res']],how=\"inner\",on=\"stay_id\")\n",
    "df_bt_at = tmp[[\"stay_id\",\"label_diu_res\"]].drop_duplicates()"
   ]
  },
  {
   "cell_type": "code",
   "execution_count": null,
   "id": "aca5c74e",
   "metadata": {
    "ExecuteTime": {
     "end_time": "2023-12-20T07:06:29.732924Z",
     "start_time": "2023-12-20T06:57:46.168Z"
    }
   },
   "outputs": [],
   "source": [
    "df_sur = pd.read_csv(\"../../02.AUMCdb_SAKI_trajCluster/sk_survival.csv\")\n",
    "df_sur = df_sur[['stay_id','groupHPD', 'mortality_28d', 'survival_28day']]\n",
    "df_bt_at = pd.merge(df_bt_at,df_sur, how=\"right\",on=\"stay_id\")\n",
    "df_bt_at[\"label_diu_res\"] = df_bt_at[\"label_diu_res\"].fillna(\"No diuretic\")\n",
    "df_bt_at.head(1)"
   ]
  },
  {
   "cell_type": "code",
   "execution_count": null,
   "id": "77b50041",
   "metadata": {
    "ExecuteTime": {
     "end_time": "2023-12-20T07:06:29.733425Z",
     "start_time": "2023-12-20T06:57:46.169Z"
    }
   },
   "outputs": [],
   "source": [
    "df_bt_at.to_csv(\"df_diuretic_FST.csv\",index=False)"
   ]
  },
  {
   "cell_type": "markdown",
   "id": "ceceed0b",
   "metadata": {},
   "source": [
    "# merge"
   ]
  },
  {
   "cell_type": "code",
   "execution_count": 3,
   "id": "2b4956f3",
   "metadata": {
    "ExecuteTime": {
     "end_time": "2023-12-28T03:08:57.027225Z",
     "start_time": "2023-12-28T03:08:56.987067Z"
    }
   },
   "outputs": [
    {
     "data": {
      "text/html": [
       "<div>\n",
       "<style scoped>\n",
       "    .dataframe tbody tr th:only-of-type {\n",
       "        vertical-align: middle;\n",
       "    }\n",
       "\n",
       "    .dataframe tbody tr th {\n",
       "        vertical-align: top;\n",
       "    }\n",
       "\n",
       "    .dataframe thead th {\n",
       "        text-align: right;\n",
       "    }\n",
       "</style>\n",
       "<table border=\"1\" class=\"dataframe\">\n",
       "  <thead>\n",
       "    <tr style=\"text-align: right;\">\n",
       "      <th></th>\n",
       "      <th>groupHPD</th>\n",
       "      <th>label_diu_res</th>\n",
       "      <th>count</th>\n",
       "      <th>groupHPD_count</th>\n",
       "      <th>count_percentage</th>\n",
       "    </tr>\n",
       "  </thead>\n",
       "  <tbody>\n",
       "    <tr>\n",
       "      <th>0</th>\n",
       "      <td>1</td>\n",
       "      <td>No diuretic</td>\n",
       "      <td>119</td>\n",
       "      <td>564</td>\n",
       "      <td>21.099291</td>\n",
       "    </tr>\n",
       "    <tr>\n",
       "      <th>1</th>\n",
       "      <td>1</td>\n",
       "      <td>Non-responsive</td>\n",
       "      <td>138</td>\n",
       "      <td>564</td>\n",
       "      <td>24.468085</td>\n",
       "    </tr>\n",
       "    <tr>\n",
       "      <th>2</th>\n",
       "      <td>1</td>\n",
       "      <td>responsive</td>\n",
       "      <td>307</td>\n",
       "      <td>564</td>\n",
       "      <td>54.432624</td>\n",
       "    </tr>\n",
       "    <tr>\n",
       "      <th>3</th>\n",
       "      <td>2</td>\n",
       "      <td>No diuretic</td>\n",
       "      <td>445</td>\n",
       "      <td>1400</td>\n",
       "      <td>31.785714</td>\n",
       "    </tr>\n",
       "    <tr>\n",
       "      <th>4</th>\n",
       "      <td>2</td>\n",
       "      <td>Non-responsive</td>\n",
       "      <td>176</td>\n",
       "      <td>1400</td>\n",
       "      <td>12.571429</td>\n",
       "    </tr>\n",
       "    <tr>\n",
       "      <th>5</th>\n",
       "      <td>2</td>\n",
       "      <td>responsive</td>\n",
       "      <td>779</td>\n",
       "      <td>1400</td>\n",
       "      <td>55.642857</td>\n",
       "    </tr>\n",
       "    <tr>\n",
       "      <th>6</th>\n",
       "      <td>3</td>\n",
       "      <td>No diuretic</td>\n",
       "      <td>76</td>\n",
       "      <td>219</td>\n",
       "      <td>34.703196</td>\n",
       "    </tr>\n",
       "    <tr>\n",
       "      <th>7</th>\n",
       "      <td>3</td>\n",
       "      <td>Non-responsive</td>\n",
       "      <td>78</td>\n",
       "      <td>219</td>\n",
       "      <td>35.616438</td>\n",
       "    </tr>\n",
       "    <tr>\n",
       "      <th>8</th>\n",
       "      <td>3</td>\n",
       "      <td>responsive</td>\n",
       "      <td>65</td>\n",
       "      <td>219</td>\n",
       "      <td>29.680365</td>\n",
       "    </tr>\n",
       "  </tbody>\n",
       "</table>\n",
       "</div>"
      ],
      "text/plain": [
       "   groupHPD   label_diu_res  count  groupHPD_count  count_percentage\n",
       "0         1     No diuretic    119             564         21.099291\n",
       "1         1  Non-responsive    138             564         24.468085\n",
       "2         1      responsive    307             564         54.432624\n",
       "3         2     No diuretic    445            1400         31.785714\n",
       "4         2  Non-responsive    176            1400         12.571429\n",
       "5         2      responsive    779            1400         55.642857\n",
       "6         3     No diuretic     76             219         34.703196\n",
       "7         3  Non-responsive     78             219         35.616438\n",
       "8         3      responsive     65             219         29.680365"
      ]
     },
     "execution_count": 3,
     "metadata": {},
     "output_type": "execute_result"
    }
   ],
   "source": [
    "df_bt_at = pd.read_csv(\"df_diuretic_FST.csv\")\n",
    "\n",
    "result = df_bt_at.groupby([\"groupHPD\", \"label_diu_res\"])[\"stay_id\"].agg([\"count\"]).reset_index()\n",
    "df_count_all = pd.DataFrame(df_bt_at.groupby(\"groupHPD\")[\"stay_id\"].agg(\"count\")).reset_index()\n",
    "df_count_all.columns = [\"groupHPD\",\"groupHPD_count\"]\n",
    "\n",
    "result = pd.merge(result,df_count_all,how=\"inner\",on=\"groupHPD\")\n",
    "result[\"count_percentage\"] = result[\"count\"] / result[\"groupHPD_count\"] *100\n",
    "result"
   ]
  },
  {
   "cell_type": "code",
   "execution_count": 21,
   "id": "c49970e1",
   "metadata": {
    "ExecuteTime": {
     "end_time": "2023-12-20T07:42:41.397161Z",
     "start_time": "2023-12-20T07:42:41.240181Z"
    }
   },
   "outputs": [],
   "source": [
    "df_fea = pd.read_csv(\"./aumcdb_diuretic_survival.csv\")\n"
   ]
  },
  {
   "cell_type": "code",
   "execution_count": 22,
   "id": "c0eb8a8d",
   "metadata": {
    "ExecuteTime": {
     "end_time": "2023-12-20T07:42:41.683076Z",
     "start_time": "2023-12-20T07:42:41.398639Z"
    }
   },
   "outputs": [
    {
     "data": {
      "text/plain": [
       "responsive        1151\n",
       "No diuretic        640\n",
       "Non-responsive     392\n",
       "Name: label_diu_res, dtype: int64"
      ]
     },
     "execution_count": 22,
     "metadata": {},
     "output_type": "execute_result"
    }
   ],
   "source": [
    "df_fea = pd.read_csv(\"./aumcdb_diuretic_survival.csv\")\n",
    "df_fea = df_fea[df_fea[\"time\"]==1]\n",
    "df_fea = df_fea[['stay_id',  'creatinine', 'urineoutput','baseline_Scr',\n",
    "                 'colloid_bolus','sofa_norenal',\"Congestive_heart_failure\",\n",
    "                  'weight', 'age', 'gender', 'height', \n",
    "               \n",
    "       'respiration_sofa', 'cardiovascular_sofa', 'aniongap', 'pt', 'sbp',\n",
    "    'coagulation_sofa', 'cum_fluidbance', 'is_diu',\n",
    "       'baseexcess',   'hemoglobin',\n",
    "         'liver_sofa',\n",
    "       'furosemide_amount', 'fluidbance', 'gcs_verbal', 'gcs', 'mbp',\n",
    "       'potassium', 'spo2', 'platelet', 'renal_sofa', 'gcs_eyes',\n",
    "       'bicarbonate', 'sodium', 'temperature', 'gcs_motor', 'po2', \n",
    "       'ptt', 'glucose', 'pco2', 'chloride', 'rbc', 'wbc',\n",
    "       'ph', 'sofa', 'mchc',  'mcv', 'hematocrit',\n",
    "       'first_use_amount', 'cns_sofa',  'time',\n",
    "       'heart_rate', 'fio2',  'resp_rate',  \n",
    "       'furosemide_amount_kg', 'dbp', 'mch', 'is_diu_byid', 'lactate', 'rdw',\n",
    "       'calcium', 'first_use_time' \n",
    "              ]]\n",
    "df_bt_at_ = pd.merge(df_bt_at,df_fea, how=\"right\",on=\"stay_id\")\n",
    "df_bt_at_[\"gcs\"] = df_bt_at_[\"gcs\"].fillna(df_bt_at_[\"gcs\"].mean())\n",
    "df_bt_at_[\"platelet\"] = df_bt_at_[\"platelet\"].fillna(df_bt_at_[\"platelet\"].mean())\n",
    "df_bt_at_[\"rbc\"] = df_bt_at_[\"rbc\"].fillna(df_bt_at_[\"rbc\"].mean())\n",
    "df_bt_at_[\"mch\"] = df_bt_at_[\"mch\"].fillna(df_bt_at_[\"mch\"].mean())\n",
    "df_bt_at_[\"chloride\"] = df_bt_at_[\"chloride\"].fillna(df_bt_at_[\"chloride\"].mean())\n",
    "df_bt_at_[\"mcv\"] = df_bt_at_[\"mcv\"].fillna(df_bt_at_[\"mcv\"].mean())\n",
    "df_bt_at_[\"mchc\"] = df_bt_at_[\"mchc\"].fillna(df_bt_at_[\"mchc\"].mean())\n",
    "\n",
    "\n",
    "df_bt_at_.to_csv(\"df_diuretic_responsitive.csv\",index=False)\n",
    "df_bt_at_.label_diu_res.value_counts()"
   ]
  },
  {
   "cell_type": "code",
   "execution_count": null,
   "id": "0e03250c",
   "metadata": {},
   "outputs": [],
   "source": []
  }
 ],
 "metadata": {
  "kernelspec": {
   "display_name": "Python [conda env:sp_shock] *",
   "language": "python",
   "name": "conda-env-sp_shock-py"
  },
  "language_info": {
   "codemirror_mode": {
    "name": "ipython",
    "version": 3
   },
   "file_extension": ".py",
   "mimetype": "text/x-python",
   "name": "python",
   "nbconvert_exporter": "python",
   "pygments_lexer": "ipython3",
   "version": "3.9.5"
  },
  "toc": {
   "base_numbering": 1,
   "nav_menu": {},
   "number_sections": true,
   "sideBar": true,
   "skip_h1_title": false,
   "title_cell": "Table of Contents",
   "title_sidebar": "Contents",
   "toc_cell": false,
   "toc_position": {
    "height": "calc(100% - 180px)",
    "left": "10px",
    "top": "150px",
    "width": "164.948px"
   },
   "toc_section_display": true,
   "toc_window_display": true
  },
  "varInspector": {
   "cols": {
    "lenName": 16,
    "lenType": 16,
    "lenVar": 40
   },
   "kernels_config": {
    "python": {
     "delete_cmd_postfix": "",
     "delete_cmd_prefix": "del ",
     "library": "var_list.py",
     "varRefreshCmd": "print(var_dic_list())"
    },
    "r": {
     "delete_cmd_postfix": ") ",
     "delete_cmd_prefix": "rm(",
     "library": "var_list.r",
     "varRefreshCmd": "cat(var_dic_list()) "
    }
   },
   "types_to_exclude": [
    "module",
    "function",
    "builtin_function_or_method",
    "instance",
    "_Feature"
   ],
   "window_display": false
  }
 },
 "nbformat": 4,
 "nbformat_minor": 5
}
