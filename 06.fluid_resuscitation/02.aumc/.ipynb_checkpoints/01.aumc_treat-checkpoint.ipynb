{
 "cells": [
  {
   "cell_type": "code",
   "execution_count": 1,
   "id": "3d02de1c",
   "metadata": {
    "ExecuteTime": {
     "end_time": "2024-01-03T12:09:54.034556Z",
     "start_time": "2024-01-03T12:09:53.132689Z"
    }
   },
   "outputs": [],
   "source": [
    "import numpy as np\n",
    "import pandas as pd\n",
    "import datetime as dt\n",
    "import matplotlib.pyplot as plt\n",
    "import random\n",
    "import seaborn as sns\n",
    "pd.options.display.max_rows=300\n",
    "pd.set_option('display.max_columns', None)"
   ]
  },
  {
   "cell_type": "code",
   "execution_count": 2,
   "id": "5e36fd5e",
   "metadata": {
    "ExecuteTime": {
     "end_time": "2024-01-03T12:09:54.795983Z",
     "start_time": "2024-01-03T12:09:54.646073Z"
    }
   },
   "outputs": [
    {
     "name": "stdout",
     "output_type": "stream",
     "text": [
      "纳入患者数量： 2183\n"
     ]
    },
    {
     "data": {
      "text/html": [
       "<div>\n",
       "<style scoped>\n",
       "    .dataframe tbody tr th:only-of-type {\n",
       "        vertical-align: middle;\n",
       "    }\n",
       "\n",
       "    .dataframe tbody tr th {\n",
       "        vertical-align: top;\n",
       "    }\n",
       "\n",
       "    .dataframe thead th {\n",
       "        text-align: right;\n",
       "    }\n",
       "</style>\n",
       "<table border=\"1\" class=\"dataframe\">\n",
       "  <thead>\n",
       "    <tr style=\"text-align: right;\">\n",
       "      <th></th>\n",
       "      <th>groupHPD</th>\n",
       "      <th>count_all</th>\n",
       "    </tr>\n",
       "  </thead>\n",
       "  <tbody>\n",
       "    <tr>\n",
       "      <th>0</th>\n",
       "      <td>2</td>\n",
       "      <td>1400</td>\n",
       "    </tr>\n",
       "    <tr>\n",
       "      <th>1</th>\n",
       "      <td>1</td>\n",
       "      <td>564</td>\n",
       "    </tr>\n",
       "    <tr>\n",
       "      <th>2</th>\n",
       "      <td>3</td>\n",
       "      <td>219</td>\n",
       "    </tr>\n",
       "  </tbody>\n",
       "</table>\n",
       "</div>"
      ],
      "text/plain": [
       "   groupHPD  count_all\n",
       "0         2       1400\n",
       "1         1        564\n",
       "2         3        219"
      ]
     },
     "execution_count": 2,
     "metadata": {},
     "output_type": "execute_result"
    }
   ],
   "source": [
    "df_type = pd.read_csv(\"../../02.AUMCdb_SAKI_trajCluster/df_mixAK_fea3_C3_aumc.csv\")\n",
    "df_type_filt = df_type.loc[:,[\"stay_id\",\"groupHPD\"]]\n",
    "df_type_filt = df_type_filt.drop_duplicates()\n",
    "all_lst = df_type_filt.stay_id.unique().tolist()\n",
    "print(\"纳入患者数量：\",len(all_lst))\n",
    "\n",
    "df_type_filt_count = pd.DataFrame(df_type_filt[\"groupHPD\"].value_counts()).reset_index()\n",
    "df_type_filt_count.columns = [\"groupHPD\",\"count_all\"]\n",
    "df_type_filt_count"
   ]
  },
  {
   "cell_type": "code",
   "execution_count": 3,
   "id": "4f573103",
   "metadata": {
    "ExecuteTime": {
     "end_time": "2024-01-03T12:09:56.675733Z",
     "start_time": "2024-01-03T12:09:56.655982Z"
    },
    "run_control": {
     "marked": true
    }
   },
   "outputs": [
    {
     "data": {
      "text/html": [
       "<div>\n",
       "<style scoped>\n",
       "    .dataframe tbody tr th:only-of-type {\n",
       "        vertical-align: middle;\n",
       "    }\n",
       "\n",
       "    .dataframe tbody tr th {\n",
       "        vertical-align: top;\n",
       "    }\n",
       "\n",
       "    .dataframe thead th {\n",
       "        text-align: right;\n",
       "    }\n",
       "</style>\n",
       "<table border=\"1\" class=\"dataframe\">\n",
       "  <thead>\n",
       "    <tr style=\"text-align: right;\">\n",
       "      <th></th>\n",
       "      <th>stay_id</th>\n",
       "      <th>groupHPD</th>\n",
       "      <th>sepsis_onset</th>\n",
       "      <th>saki_onset</th>\n",
       "    </tr>\n",
       "  </thead>\n",
       "  <tbody>\n",
       "    <tr>\n",
       "      <th>0</th>\n",
       "      <td>5</td>\n",
       "      <td>2</td>\n",
       "      <td>0.0</td>\n",
       "      <td>3.0</td>\n",
       "    </tr>\n",
       "    <tr>\n",
       "      <th>1</th>\n",
       "      <td>15</td>\n",
       "      <td>2</td>\n",
       "      <td>1.0</td>\n",
       "      <td>3.0</td>\n",
       "    </tr>\n",
       "  </tbody>\n",
       "</table>\n",
       "</div>"
      ],
      "text/plain": [
       "   stay_id  groupHPD  sepsis_onset  saki_onset\n",
       "0        5         2           0.0         3.0\n",
       "1       15         2           1.0         3.0"
      ]
     },
     "execution_count": 3,
     "metadata": {},
     "output_type": "execute_result"
    }
   ],
   "source": [
    "df_time = pd.read_csv(\"/public/hanl/jupyter_dir/kidney_sepsis_penotype_v3/00.data_aumc/disease_definition/AKI/aumcdb_sk_event_time.csv\")\n",
    "df_time = df_time[[\"stay_id\",\"sepsis_onset\", \"saki_onset\"]]\n",
    "df_time = pd.merge(df_type_filt, df_time, how=\"inner\", on=\"stay_id\")\n",
    "df_time.head(2)"
   ]
  },
  {
   "cell_type": "markdown",
   "id": "a2baa915",
   "metadata": {},
   "source": [
    "# 获取输入数据"
   ]
  },
  {
   "cell_type": "markdown",
   "id": "3f0f6974",
   "metadata": {},
   "source": [
    "## 体重 + age + gender"
   ]
  },
  {
   "cell_type": "code",
   "execution_count": 4,
   "id": "90043f87",
   "metadata": {
    "ExecuteTime": {
     "end_time": "2023-12-20T07:40:20.878023Z",
     "start_time": "2023-12-20T07:40:20.807331Z"
    }
   },
   "outputs": [
    {
     "name": "stdout",
     "output_type": "stream",
     "text": [
      "2183\n"
     ]
    },
    {
     "data": {
      "text/html": [
       "<div>\n",
       "<style scoped>\n",
       "    .dataframe tbody tr th:only-of-type {\n",
       "        vertical-align: middle;\n",
       "    }\n",
       "\n",
       "    .dataframe tbody tr th {\n",
       "        vertical-align: top;\n",
       "    }\n",
       "\n",
       "    .dataframe thead th {\n",
       "        text-align: right;\n",
       "    }\n",
       "</style>\n",
       "<table border=\"1\" class=\"dataframe\">\n",
       "  <thead>\n",
       "    <tr style=\"text-align: right;\">\n",
       "      <th></th>\n",
       "      <th>stay_id</th>\n",
       "      <th>weight</th>\n",
       "      <th>gender</th>\n",
       "      <th>age</th>\n",
       "      <th>height</th>\n",
       "      <th>baseline_Scr</th>\n",
       "    </tr>\n",
       "  </thead>\n",
       "  <tbody>\n",
       "    <tr>\n",
       "      <th>0</th>\n",
       "      <td>5</td>\n",
       "      <td>65.0</td>\n",
       "      <td>1</td>\n",
       "      <td>55</td>\n",
       "      <td>165.0</td>\n",
       "      <td>0.63336</td>\n",
       "    </tr>\n",
       "  </tbody>\n",
       "</table>\n",
       "</div>"
      ],
      "text/plain": [
       "   stay_id  weight  gender  age  height  baseline_Scr\n",
       "0        5    65.0       1   55   165.0       0.63336"
      ]
     },
     "execution_count": 4,
     "metadata": {},
     "output_type": "execute_result"
    }
   ],
   "source": [
    "df_demo = pd.read_csv(\"../../00.data_aumc//feature_data/df_aumc_basicinfo.csv\")\n",
    "df_demo = df_demo[[\"stay_id\",\"weight\", 'gender', 'age',\"height\"]]\n",
    "df_demo = df_demo[df_demo[\"stay_id\"].isin(all_lst)].drop_duplicates()\n",
    "df_demo.loc[df_demo[\"weight\"]<10,\"weight\"] = np.nan\n",
    "df_demo[\"weight\"].fillna(df_demo[\"weight\"].mean(), inplace=True)\n",
    "\n",
    "df_demo.loc[df_demo[\"gender\"]==\"M\",\"gender\"] = 1\n",
    "df_demo.loc[df_demo[\"gender\"]==\"F\",\"gender\"] = 0\n",
    "df_demo.loc[df_demo[\"gender\"].isnull(),\"gender\"] = 2\n",
    "df_demo.gender = df_demo.gender.astype(\"int64\")\n",
    "\n",
    "df_base_crea = pd.read_csv(\"/public/hanl/jupyter_dir/kidney_sepsis_penotype_v3/00.data_aumc//disease_definition/AKI/baseline_creatinine.csv\")\n",
    "df_base_crea.columns = [\"stay_id\",\"baseline_Scr\"]\n",
    "df_base_crea[\"baseline_Scr\"] *= 0.01131\n",
    "df_demo = pd.merge(df_demo,df_base_crea,how=\"left\",on=\"stay_id\")\n",
    "print(len(df_demo.stay_id.unique()))\n",
    "df_demo.head(1)"
   ]
  },
  {
   "cell_type": "code",
   "execution_count": 5,
   "id": "6b675b66",
   "metadata": {
    "ExecuteTime": {
     "end_time": "2023-12-20T07:40:41.457646Z",
     "start_time": "2023-12-20T07:40:20.879077Z"
    }
   },
   "outputs": [
    {
     "data": {
      "text/html": [
       "<div>\n",
       "<style scoped>\n",
       "    .dataframe tbody tr th:only-of-type {\n",
       "        vertical-align: middle;\n",
       "    }\n",
       "\n",
       "    .dataframe tbody tr th {\n",
       "        vertical-align: top;\n",
       "    }\n",
       "\n",
       "    .dataframe thead th {\n",
       "        text-align: right;\n",
       "    }\n",
       "</style>\n",
       "<table border=\"1\" class=\"dataframe\">\n",
       "  <thead>\n",
       "    <tr style=\"text-align: right;\">\n",
       "      <th></th>\n",
       "      <th>stay_id</th>\n",
       "      <th>weight</th>\n",
       "      <th>gender</th>\n",
       "      <th>age</th>\n",
       "      <th>height</th>\n",
       "      <th>baseline_Scr</th>\n",
       "    </tr>\n",
       "  </thead>\n",
       "  <tbody>\n",
       "    <tr>\n",
       "      <th>0</th>\n",
       "      <td>5</td>\n",
       "      <td>65.0</td>\n",
       "      <td>1</td>\n",
       "      <td>55</td>\n",
       "      <td>165.0</td>\n",
       "      <td>0.63336</td>\n",
       "    </tr>\n",
       "  </tbody>\n",
       "</table>\n",
       "</div>"
      ],
      "text/plain": [
       "   stay_id  weight  gender  age  height  baseline_Scr\n",
       "0        5    65.0       1   55   165.0       0.63336"
      ]
     },
     "execution_count": 5,
     "metadata": {},
     "output_type": "execute_result"
    }
   ],
   "source": [
    "import miceforest as mf\n",
    "kernel = mf.ImputationKernel(\n",
    "    df_demo,\n",
    "    datasets=3,\n",
    "    save_all_iterations=True,\n",
    "    random_state=10\n",
    ")\n",
    "kernel.mice(iterations = 3, n_jobs=-1)\n",
    "df_demo = kernel.complete_data(dataset=1)\n",
    "df_demo.head(1)"
   ]
  },
  {
   "attachments": {
    "image.png": {
     "image/png": "[encoded data removed]"
    }
   },
   "cell_type": "markdown",
   "id": "9477720a",
   "metadata": {},
   "source": [
    "## 利尿剂\n",
    "- 单位转换\n",
    "'Furosemide (Lasix)', 'Bumetanide (Burinex)'\n",
    "![image.png](attachment:image.png)"
   ]
  },
  {
   "cell_type": "code",
   "execution_count": 6,
   "id": "7cbc47a0",
   "metadata": {
    "ExecuteTime": {
     "end_time": "2023-12-20T07:40:41.522368Z",
     "start_time": "2023-12-20T07:40:41.458993Z"
    }
   },
   "outputs": [
    {
     "data": {
      "text/html": [
       "<div>\n",
       "<style scoped>\n",
       "    .dataframe tbody tr th:only-of-type {\n",
       "        vertical-align: middle;\n",
       "    }\n",
       "\n",
       "    .dataframe tbody tr th {\n",
       "        vertical-align: top;\n",
       "    }\n",
       "\n",
       "    .dataframe thead th {\n",
       "        text-align: right;\n",
       "    }\n",
       "</style>\n",
       "<table border=\"1\" class=\"dataframe\">\n",
       "  <thead>\n",
       "    <tr style=\"text-align: right;\">\n",
       "      <th></th>\n",
       "      <th>stay_id</th>\n",
       "      <th>starttime</th>\n",
       "      <th>endtime</th>\n",
       "      <th>amount</th>\n",
       "    </tr>\n",
       "  </thead>\n",
       "  <tbody>\n",
       "    <tr>\n",
       "      <th>0</th>\n",
       "      <td>4</td>\n",
       "      <td>2212.0</td>\n",
       "      <td>2213.0</td>\n",
       "      <td>20.0</td>\n",
       "    </tr>\n",
       "  </tbody>\n",
       "</table>\n",
       "</div>"
      ],
      "text/plain": [
       "   stay_id  starttime  endtime  amount\n",
       "0        4     2212.0   2213.0    20.0"
      ]
     },
     "execution_count": 6,
     "metadata": {},
     "output_type": "execute_result"
    }
   ],
   "source": [
    "df_di = pd.read_csv(\"/public/hanl/jupyter_dir/database/AMUCdb/clean/medication/AUMCdb_diuretics.csv\")\n",
    "df_di = df_di[df_di.stay_id.isin(all_lst)]\n",
    "print(df_di.drug.unique(),df_di.drug.value_counts())\n",
    "# 药物单位转换\n",
    "df_di.loc[df_di[\"drug\"]=='Bumetanide (Burinex)',\"administered\"] *= 80\n",
    "df_di = df_di[['stay_id','starttime', 'endtime', 'administered']]\n",
    "df_di.columns = ['stay_id', 'starttime', 'endtime','amount']\n",
    "df_di.head(1)"
   ]
  },
  {
   "cell_type": "code",
   "execution_count": 7,
   "id": "149d196e",
   "metadata": {
    "ExecuteTime": {
     "end_time": "2023-12-20T07:40:50.477901Z",
     "start_time": "2023-12-20T07:40:41.523575Z"
    }
   },
   "outputs": [
    {
     "data": {
      "text/html": [
       "<div>\n",
       "<style scoped>\n",
       "    .dataframe tbody tr th:only-of-type {\n",
       "        vertical-align: middle;\n",
       "    }\n",
       "\n",
       "    .dataframe tbody tr th {\n",
       "        vertical-align: top;\n",
       "    }\n",
       "\n",
       "    .dataframe thead th {\n",
       "        text-align: right;\n",
       "    }\n",
       "</style>\n",
       "<table border=\"1\" class=\"dataframe\">\n",
       "  <thead>\n",
       "    <tr style=\"text-align: right;\">\n",
       "      <th></th>\n",
       "      <th>stay_id</th>\n",
       "      <th>diu_starttime</th>\n",
       "      <th>diu_endtime</th>\n",
       "      <th>amount</th>\n",
       "    </tr>\n",
       "  </thead>\n",
       "  <tbody>\n",
       "    <tr>\n",
       "      <th>0</th>\n",
       "      <td>4</td>\n",
       "      <td>2212.0</td>\n",
       "      <td>2213.0</td>\n",
       "      <td>20.0</td>\n",
       "    </tr>\n",
       "    <tr>\n",
       "      <th>1</th>\n",
       "      <td>5</td>\n",
       "      <td>2570.0</td>\n",
       "      <td>2571.0</td>\n",
       "      <td>20.0</td>\n",
       "    </tr>\n",
       "  </tbody>\n",
       "</table>\n",
       "</div>"
      ],
      "text/plain": [
       "   stay_id  diu_starttime  diu_endtime  amount\n",
       "0        4         2212.0       2213.0    20.0\n",
       "1        5         2570.0       2571.0    20.0"
      ]
     },
     "execution_count": 7,
     "metadata": {},
     "output_type": "execute_result"
    }
   ],
   "source": [
    "import datetime\n",
    "def dateHourRange(beginDateHour, endDateHour):\n",
    "    dhours = []\n",
    "    dhour = beginDateHour \n",
    "    date = beginDateHour\n",
    "    while date <= endDateHour:\n",
    "        dhours.append(date)\n",
    "        dhour = dhour + 61\n",
    "        date = dhour \n",
    "    return dhours\n",
    "\n",
    "tem_di = df_di\n",
    "tem_di[\"time_lst\"] = tem_di.apply(lambda x: dateHourRange(x['starttime'],x['endtime']),axis=1)\n",
    "tem_di[\"time_num\"] = tem_di[\"time_lst\"].map(lambda x: len(x))\n",
    "tem_di[\"amount_hourly\"] =  tem_di[\"amount\"]/tem_di[\"time_num\"] \n",
    "\n",
    "tem_di['idx'] = range(len(tem_di))\n",
    "tem_add = tem_di.set_index('idx').time_lst.apply(pd.Series).stack().reset_index(level=0).rename(columns={0:'diu_starttime'})\n",
    "tem_di_hourly = pd.merge(tem_di, tem_add,how=\"inner\", on=\"idx\")\n",
    "tem_di_hourly[\"diu_endtime\"] = tem_di_hourly[\"diu_starttime\"] + 60\n",
    "tem_di_hourly['diu_endtime'] = tem_di_hourly[['diu_endtime', 'endtime']].min(axis=1) \n",
    "tem_di_hourly = tem_di_hourly.loc[:,['stay_id', 'diu_starttime','diu_endtime',  'amount_hourly']] # 'starttime', 'endtime', 'amount',\n",
    "tem_di_hourly = tem_di_hourly.rename(columns={\"amount_hourly\":\"amount\"})\n",
    "tem_di_hourly.head(2)"
   ]
  },
  {
   "cell_type": "code",
   "execution_count": 8,
   "id": "e115210a",
   "metadata": {
    "ExecuteTime": {
     "end_time": "2023-12-20T07:40:50.621879Z",
     "start_time": "2023-12-20T07:40:50.479866Z"
    }
   },
   "outputs": [
    {
     "data": {
      "text/html": [
       "<div>\n",
       "<style scoped>\n",
       "    .dataframe tbody tr th:only-of-type {\n",
       "        vertical-align: middle;\n",
       "    }\n",
       "\n",
       "    .dataframe tbody tr th {\n",
       "        vertical-align: top;\n",
       "    }\n",
       "\n",
       "    .dataframe thead th {\n",
       "        text-align: right;\n",
       "    }\n",
       "</style>\n",
       "<table border=\"1\" class=\"dataframe\">\n",
       "  <thead>\n",
       "    <tr style=\"text-align: right;\">\n",
       "      <th></th>\n",
       "      <th>stay_id</th>\n",
       "      <th>time</th>\n",
       "      <th>furosemide_amount</th>\n",
       "      <th>is_diu</th>\n",
       "    </tr>\n",
       "  </thead>\n",
       "  <tbody>\n",
       "    <tr>\n",
       "      <th>0</th>\n",
       "      <td>5</td>\n",
       "      <td>2.0</td>\n",
       "      <td>20.0</td>\n",
       "      <td>1</td>\n",
       "    </tr>\n",
       "  </tbody>\n",
       "</table>\n",
       "</div>"
      ],
      "text/plain": [
       "   stay_id  time  furosemide_amount  is_diu\n",
       "0        5   2.0               20.0       1"
      ]
     },
     "execution_count": 8,
     "metadata": {},
     "output_type": "execute_result"
    }
   ],
   "source": [
    "# 24h hour window \n",
    "df_di = tem_di_hourly\n",
    "df_di[\"diu_starttime\"] = df_di[\"diu_starttime\"]/60\n",
    "df_di = df_di[df_di[\"stay_id\"].isin(all_lst)]\n",
    "df_time_cut = df_time[['stay_id', 'saki_onset']]\n",
    "df_di = pd.merge(df_di,df_time_cut, how=\"right\",on=\"stay_id\")\n",
    "\n",
    "df_di[\"time\"] = (df_di[\"diu_starttime\"] - df_di[\"saki_onset\"])/24 #.map(lambda x:x/np.timedelta64(24, 'h')).tolist()\n",
    "df_di[\"time\"] = df_di[\"time\"].map(lambda x:x//1) # -1指sepsis前6小时的数据，0指sepsis后第一个6小时的数据\n",
    "df_di[\"time\"] = df_di[\"time\"].map(lambda x: x+1 if x>=0 else x)\n",
    "df_di = df_di[(df_di[\"time\"]>=-2) &(df_di[\"time\"]<=7)] # 前七天与后7天\n",
    "df_di = df_di.groupby([\"stay_id\",\"time\"]).agg({\"amount\":\"sum\"}).reset_index()\n",
    "df_di = df_di.rename(columns={\"amount\":\"furosemide_amount\"})\n",
    "df_di[\"is_diu\"] = 0\n",
    "df_di.loc[df_di[\"furosemide_amount\"]!=0,\"is_diu\"] = 1\n",
    "df_di.head(1)"
   ]
  },
  {
   "cell_type": "markdown",
   "id": "5e240aaf",
   "metadata": {},
   "source": [
    "## 液体给入"
   ]
  },
  {
   "cell_type": "code",
   "execution_count": 9,
   "id": "89e38368",
   "metadata": {
    "ExecuteTime": {
     "end_time": "2023-12-20T07:40:55.505785Z",
     "start_time": "2023-12-20T07:40:50.623474Z"
    }
   },
   "outputs": [
    {
     "name": "stdout",
     "output_type": "stream",
     "text": [
      "2173\n"
     ]
    },
    {
     "data": {
      "text/html": [
       "<div>\n",
       "<style scoped>\n",
       "    .dataframe tbody tr th:only-of-type {\n",
       "        vertical-align: middle;\n",
       "    }\n",
       "\n",
       "    .dataframe tbody tr th {\n",
       "        vertical-align: top;\n",
       "    }\n",
       "\n",
       "    .dataframe thead th {\n",
       "        text-align: right;\n",
       "    }\n",
       "</style>\n",
       "<table border=\"1\" class=\"dataframe\">\n",
       "  <thead>\n",
       "    <tr style=\"text-align: right;\">\n",
       "      <th></th>\n",
       "      <th>stay_id</th>\n",
       "      <th>time</th>\n",
       "      <th>colloid_bolus</th>\n",
       "    </tr>\n",
       "  </thead>\n",
       "  <tbody>\n",
       "    <tr>\n",
       "      <th>0</th>\n",
       "      <td>5</td>\n",
       "      <td>-1.0</td>\n",
       "      <td>1206.381429</td>\n",
       "    </tr>\n",
       "  </tbody>\n",
       "</table>\n",
       "</div>"
      ],
      "text/plain": [
       "   stay_id  time  colloid_bolus\n",
       "0        5  -1.0    1206.381429"
      ]
     },
     "execution_count": 9,
     "metadata": {},
     "output_type": "execute_result"
    }
   ],
   "source": [
    "df_fluid = pd.read_csv(\"/public/hanl/jupyter_dir/database/AMUCdb/clean/treatment//AUMCdb_fluid_NoNut_hourly.csv\")\n",
    "df_fluid = df_fluid[df_fluid[\"stay_id\"].isin(all_lst)]\n",
    "df_fluid = df_fluid[df_fluid[\"amount\"]<9000]\n",
    "\n",
    "df_fluid = df_fluid[['stay_id', 'fluid_starttime', 'fluid_endtime','amount_hourly']]\n",
    "df_fluid[\"fluid_starttime\"] = df_fluid[\"fluid_starttime\"]/60\n",
    "df_fluid[\"fluid_endtime\"] = df_fluid[\"fluid_endtime\"]/60\n",
    "\n",
    "df_time_cut = df_time[['stay_id', 'saki_onset']]\n",
    "df_fluid = pd.merge(df_fluid, df_time_cut, how=\"right\",on=\"stay_id\")\n",
    "\n",
    "df_fluid[\"time\"] = (df_fluid[\"fluid_starttime\"] - df_fluid[\"saki_onset\"])/24\n",
    "df_fluid[\"time\"] = df_fluid[\"time\"].map(lambda x:x//1) # -1指sepsis前6小时的数据，0指sepsis后第一个6小时的数据\n",
    "df_fluid[\"time\"] = df_fluid[\"time\"].map(lambda x: x+1 if x>=0 else x)\n",
    "df_fluid = df_fluid[(df_fluid[\"time\"]>=-2) &(df_fluid[\"time\"]<=7)] # 前七天与后7天\n",
    "df_fluid = df_fluid.groupby([\"stay_id\", \"time\"]).agg({\"amount_hourly\":\"sum\"}).reset_index()\n",
    "df_fluid = df_fluid.rename(columns={\"amount_hourly\":\"colloid_bolus\"})\n",
    "print(len(df_fluid.stay_id.unique()))\n",
    "df_fluid.head(1)"
   ]
  },
  {
   "cell_type": "markdown",
   "id": "a1c13d2b",
   "metadata": {
    "ExecuteTime": {
     "end_time": "2023-05-02T12:07:31.117147Z",
     "start_time": "2023-05-02T12:07:31.115389Z"
    }
   },
   "source": [
    "## 尿量"
   ]
  },
  {
   "cell_type": "code",
   "execution_count": 10,
   "id": "300edc1e",
   "metadata": {
    "ExecuteTime": {
     "end_time": "2023-12-20T07:41:01.351552Z",
     "start_time": "2023-12-20T07:40:55.507295Z"
    }
   },
   "outputs": [
    {
     "name": "stdout",
     "output_type": "stream",
     "text": [
      "2183\n"
     ]
    },
    {
     "data": {
      "text/html": [
       "<div>\n",
       "<style scoped>\n",
       "    .dataframe tbody tr th:only-of-type {\n",
       "        vertical-align: middle;\n",
       "    }\n",
       "\n",
       "    .dataframe tbody tr th {\n",
       "        vertical-align: top;\n",
       "    }\n",
       "\n",
       "    .dataframe thead th {\n",
       "        text-align: right;\n",
       "    }\n",
       "</style>\n",
       "<table border=\"1\" class=\"dataframe\">\n",
       "  <thead>\n",
       "    <tr style=\"text-align: right;\">\n",
       "      <th></th>\n",
       "      <th>stay_id</th>\n",
       "      <th>time</th>\n",
       "      <th>urineoutput</th>\n",
       "    </tr>\n",
       "  </thead>\n",
       "  <tbody>\n",
       "    <tr>\n",
       "      <th>0</th>\n",
       "      <td>5</td>\n",
       "      <td>-1.0</td>\n",
       "      <td>40.0</td>\n",
       "    </tr>\n",
       "  </tbody>\n",
       "</table>\n",
       "</div>"
      ],
      "text/plain": [
       "   stay_id  time  urineoutput\n",
       "0        5  -1.0         40.0"
      ]
     },
     "execution_count": 10,
     "metadata": {},
     "output_type": "execute_result"
    }
   ],
   "source": [
    "df_uo = pd.read_csv(\"../../00.data_aumc/feature_data/aumc_icu_feature.csv\")\n",
    "df_uo = df_uo[['stay_id', 'charttime','urineoutput']]\n",
    "\n",
    "df_uo = df_uo[df_uo[\"stay_id\"].isin(all_lst)]\n",
    "\n",
    "df_time_cut = df_time[['stay_id','saki_onset']]\n",
    "df_uo = pd.merge(df_uo,df_time_cut, how=\"inner\",on=\"stay_id\")\n",
    "\n",
    "df_uo[\"time\"] = (df_uo[\"charttime\"] - df_uo[\"saki_onset\"])/24\n",
    "df_uo[\"time\"] = df_uo[\"time\"].map(lambda x:x//1) # -1指sepsis前6小时的数据，0指sepsis后第一个6小时的数据\n",
    "df_uo[\"time\"] = df_uo[\"time\"].map(lambda x: x+1 if x>=0 else x)\n",
    "df_uo = df_uo[(df_uo[\"time\"]>=-2) &(df_uo[\"time\"]<=7)] # 前七天与后7天\n",
    "df_uo = df_uo.groupby([\"stay_id\",\"time\"]).agg({\"urineoutput\":\"sum\"}).reset_index()\n",
    "print(len(df_uo.stay_id.unique()))\n",
    "df_uo.head(1)"
   ]
  },
  {
   "cell_type": "markdown",
   "id": "50798fcc",
   "metadata": {
    "run_control": {
     "marked": true
    }
   },
   "source": [
    "## 液体平衡 "
   ]
  },
  {
   "cell_type": "code",
   "execution_count": 11,
   "id": "21c65d06",
   "metadata": {
    "ExecuteTime": {
     "end_time": "2023-12-20T07:41:08.026076Z",
     "start_time": "2023-12-20T07:41:01.353024Z"
    }
   },
   "outputs": [],
   "source": [
    "df_fb_fluid = pd.read_csv(\"/public/hanl/jupyter_dir/database/AMUCdb/clean/treatment//AUMCdb_fluid_addNut_hourly.csv\")\n",
    "df_fb_fluid = df_fb_fluid[df_fb_fluid[\"stay_id\"].isin(all_lst)]\n",
    "df_fb_fluid = df_fb_fluid[['stay_id', 'fluid_starttime', 'fluid_endtime','amount_hourly']]\n",
    "df_fb_fluid[\"fluid_starttime\"] = df_fb_fluid[\"fluid_starttime\"]/60\n",
    "df_fb_fluid[\"fluid_endtime\"] = df_fb_fluid[\"fluid_endtime\"]/60\n",
    "\n",
    "df_time_cut = df_time[['stay_id', 'saki_onset']]\n",
    "df_fb_fluid = pd.merge(df_fb_fluid, df_time_cut, how=\"right\",on=\"stay_id\")\n",
    "\n",
    "df_fb_fluid[\"time\"] = (df_fb_fluid[\"fluid_starttime\"] - df_fb_fluid[\"saki_onset\"])/24\n",
    "df_fb_fluid[\"time\"] = df_fb_fluid[\"time\"].map(lambda x:x//1) # -1指sepsis前6小时的数据，0指sepsis后第一个6小时的数据\n",
    "df_fb_fluid[\"time\"] = df_fb_fluid[\"time\"].map(lambda x: x+1 if x>=0 else x)\n",
    "df_fb_fluid = df_fb_fluid[(df_fb_fluid[\"time\"]>=-2) &(df_fb_fluid[\"time\"]<=7)] # 前七天与后7天\n",
    "df_fb_fluid = df_fb_fluid.groupby([\"stay_id\", \"time\"]).agg({\"amount_hourly\":\"sum\"}).reset_index()\n",
    "df_fb_fluid = df_fb_fluid.rename(columns={\"amount_hourly\":\"colloid_bolus\"})"
   ]
  },
  {
   "cell_type": "code",
   "execution_count": 12,
   "id": "faa332af",
   "metadata": {
    "ExecuteTime": {
     "end_time": "2023-12-20T07:41:08.057355Z",
     "start_time": "2023-12-20T07:41:08.027801Z"
    }
   },
   "outputs": [
    {
     "data": {
      "text/html": [
       "<div>\n",
       "<style scoped>\n",
       "    .dataframe tbody tr th:only-of-type {\n",
       "        vertical-align: middle;\n",
       "    }\n",
       "\n",
       "    .dataframe tbody tr th {\n",
       "        vertical-align: top;\n",
       "    }\n",
       "\n",
       "    .dataframe thead th {\n",
       "        text-align: right;\n",
       "    }\n",
       "</style>\n",
       "<table border=\"1\" class=\"dataframe\">\n",
       "  <thead>\n",
       "    <tr style=\"text-align: right;\">\n",
       "      <th></th>\n",
       "      <th>stay_id</th>\n",
       "      <th>time</th>\n",
       "      <th>fluidbance</th>\n",
       "      <th>cum_fluidbance</th>\n",
       "    </tr>\n",
       "  </thead>\n",
       "  <tbody>\n",
       "    <tr>\n",
       "      <th>0</th>\n",
       "      <td>5</td>\n",
       "      <td>-1.0</td>\n",
       "      <td>1166.38</td>\n",
       "      <td>0.0</td>\n",
       "    </tr>\n",
       "  </tbody>\n",
       "</table>\n",
       "</div>"
      ],
      "text/plain": [
       "   stay_id  time  fluidbance  cum_fluidbance\n",
       "0        5  -1.0     1166.38             0.0"
      ]
     },
     "execution_count": 12,
     "metadata": {},
     "output_type": "execute_result"
    }
   ],
   "source": [
    "# 生成累计液体信息\n",
    "df_fb = pd.merge(df_fb_fluid, df_uo, how=\"outer\",on=[\"stay_id\",\"time\"])\n",
    "df_fb= df_fb.sort_values([\"stay_id\",\"time\"])\n",
    "df_fb = df_fb.fillna(0)\n",
    "df_fb[\"fluidbance\"] = round(df_fb[\"colloid_bolus\"] - df_fb[\"urineoutput\"], 2)\n",
    "df_fb[\"tmp_fluidbance\"] = df_fb[\"fluidbance\"]\n",
    "df_fb.loc[df_fb[\"time\"]<=0,\"tmp_fluidbance\"] = 0\n",
    "df_fb[\"cum_fluidbance\"] = df_fb.groupby('stay_id')['tmp_fluidbance'].cumsum()\n",
    "df_fb = df_fb[[\"stay_id\",\"time\",\"fluidbance\",\"cum_fluidbance\"]]\n",
    "df_fb.head(1)"
   ]
  },
  {
   "cell_type": "markdown",
   "id": "483d3de5",
   "metadata": {},
   "source": [
    "## 特征-psm"
   ]
  },
  {
   "cell_type": "code",
   "execution_count": 13,
   "id": "82aa6730",
   "metadata": {
    "ExecuteTime": {
     "end_time": "2023-12-20T07:41:15.782536Z",
     "start_time": "2023-12-20T07:41:08.058499Z"
    }
   },
   "outputs": [
    {
     "data": {
      "text/html": [
       "<div>\n",
       "<style scoped>\n",
       "    .dataframe tbody tr th:only-of-type {\n",
       "        vertical-align: middle;\n",
       "    }\n",
       "\n",
       "    .dataframe tbody tr th {\n",
       "        vertical-align: top;\n",
       "    }\n",
       "\n",
       "    .dataframe thead th {\n",
       "        text-align: right;\n",
       "    }\n",
       "</style>\n",
       "<table border=\"1\" class=\"dataframe\">\n",
       "  <thead>\n",
       "    <tr style=\"text-align: right;\">\n",
       "      <th></th>\n",
       "      <th>stay_id</th>\n",
       "      <th>time</th>\n",
       "      <th>charttime</th>\n",
       "      <th>baseexcess</th>\n",
       "      <th>rbc</th>\n",
       "      <th>mch</th>\n",
       "      <th>mcv</th>\n",
       "      <th>mchc</th>\n",
       "      <th>rdw</th>\n",
       "      <th>wbc</th>\n",
       "      <th>hematocrit</th>\n",
       "      <th>hemoglobin</th>\n",
       "      <th>pt</th>\n",
       "      <th>ptt</th>\n",
       "      <th>platelet</th>\n",
       "      <th>dbp</th>\n",
       "      <th>mbp</th>\n",
       "      <th>sbp</th>\n",
       "      <th>glucose</th>\n",
       "      <th>lactate</th>\n",
       "      <th>ph</th>\n",
       "      <th>temperature</th>\n",
       "      <th>resp_rate</th>\n",
       "      <th>heart_rate</th>\n",
       "      <th>spo2</th>\n",
       "      <th>bicarbonate</th>\n",
       "      <th>aniongap</th>\n",
       "      <th>calcium</th>\n",
       "      <th>sodium</th>\n",
       "      <th>potassium</th>\n",
       "      <th>chloride</th>\n",
       "      <th>creatinine</th>\n",
       "      <th>gcs</th>\n",
       "      <th>gcs_eyes</th>\n",
       "      <th>gcs_motor</th>\n",
       "      <th>gcs_verbal</th>\n",
       "      <th>po2</th>\n",
       "      <th>pco2</th>\n",
       "      <th>fio2</th>\n",
       "      <th>saki_onset</th>\n",
       "    </tr>\n",
       "  </thead>\n",
       "  <tbody>\n",
       "    <tr>\n",
       "      <th>0</th>\n",
       "      <td>5</td>\n",
       "      <td>-1.0</td>\n",
       "      <td>0.5</td>\n",
       "      <td>4.2</td>\n",
       "      <td>NaN</td>\n",
       "      <td>30.100952</td>\n",
       "      <td>96.0</td>\n",
       "      <td>30.6147</td>\n",
       "      <td>NaN</td>\n",
       "      <td>20.600001</td>\n",
       "      <td>0.443333</td>\n",
       "      <td>14.28686</td>\n",
       "      <td>10.3</td>\n",
       "      <td>34.0</td>\n",
       "      <td>NaN</td>\n",
       "      <td>70.2341</td>\n",
       "      <td>84.676544</td>\n",
       "      <td>114.899234</td>\n",
       "      <td>76.200002</td>\n",
       "      <td>1.0</td>\n",
       "      <td>7.33</td>\n",
       "      <td>35.8</td>\n",
       "      <td>19.124155</td>\n",
       "      <td>118.30542</td>\n",
       "      <td>98.000002</td>\n",
       "      <td>21.0</td>\n",
       "      <td>11.5</td>\n",
       "      <td>11.1</td>\n",
       "      <td>140.0</td>\n",
       "      <td>4.0</td>\n",
       "      <td>105.0</td>\n",
       "      <td>0.6554</td>\n",
       "      <td>15.0</td>\n",
       "      <td>4.0</td>\n",
       "      <td>6.0</td>\n",
       "      <td>5.0</td>\n",
       "      <td>162.0</td>\n",
       "      <td>42.0</td>\n",
       "      <td>41.0</td>\n",
       "      <td>3.0</td>\n",
       "    </tr>\n",
       "  </tbody>\n",
       "</table>\n",
       "</div>"
      ],
      "text/plain": [
       "   stay_id  time  charttime  baseexcess  rbc        mch   mcv     mchc  rdw  \\\n",
       "0        5  -1.0        0.5         4.2  NaN  30.100952  96.0  30.6147  NaN   \n",
       "\n",
       "         wbc  hematocrit  hemoglobin    pt   ptt  platelet      dbp  \\\n",
       "0  20.600001    0.443333    14.28686  10.3  34.0       NaN  70.2341   \n",
       "\n",
       "         mbp         sbp    glucose  lactate    ph  temperature  resp_rate  \\\n",
       "0  84.676544  114.899234  76.200002      1.0  7.33         35.8  19.124155   \n",
       "\n",
       "   heart_rate       spo2  bicarbonate  aniongap  calcium  sodium  potassium  \\\n",
       "0   118.30542  98.000002         21.0      11.5     11.1   140.0        4.0   \n",
       "\n",
       "   chloride  creatinine   gcs  gcs_eyes  gcs_motor  gcs_verbal    po2  pco2  \\\n",
       "0     105.0      0.6554  15.0       4.0        6.0         5.0  162.0  42.0   \n",
       "\n",
       "   fio2  saki_onset  \n",
       "0  41.0         3.0  "
      ]
     },
     "execution_count": 13,
     "metadata": {},
     "output_type": "execute_result"
    }
   ],
   "source": [
    "df_fea = pd.read_csv(\"../../00.data_aumc/feature_data/aumc_icu_feature.csv\")\n",
    "df_fea = df_fea.drop([\"urineoutput\"],axis=1)\n",
    "df_fea = df_fea[['stay_id', 'charttime', 'baseexcess', 'rbc', 'mch', 'mcv', 'mchc',\n",
    "       'rdw', 'wbc', 'hematocrit', 'hemoglobin', 'pt', 'ptt', 'platelet',\n",
    "       'dbp', 'mbp', 'sbp', 'glucose', 'lactate', 'ph', 'temperature',\n",
    "       'resp_rate', 'heart_rate', 'spo2', 'bicarbonate', 'aniongap', 'calcium',\n",
    "       'sodium', 'potassium', 'chloride', 'creatinine', 'gcs', 'gcs_eyes',\n",
    "       'gcs_motor', 'gcs_verbal', 'po2', 'pco2', 'fio2' ]]\n",
    "\n",
    "df_time_cut = df_time[['stay_id','saki_onset']]\n",
    "df_fea = pd.merge(df_fea,df_time_cut, how=\"inner\",on=\"stay_id\")\n",
    "\n",
    "df_fea[\"time\"] = (df_fea[\"charttime\"] - df_fea[\"saki_onset\"])/24\n",
    "df_fea[\"time\"] = df_fea[\"time\"].map(lambda x:x//1) # -1指sepsis前6小时的数据，0指sepsis后第一个6小时的数据\n",
    "df_fea[\"time\"] = df_fea[\"time\"].map(lambda x: x+1 if x>=0 else x)\n",
    "df_fea = df_fea[(df_fea[\"time\"]>=-2) &(df_fea[\"time\"]<=7)] # 前七天与后7天\n",
    "\n",
    "df_fea = df_fea.groupby([\"stay_id\",\"time\"]).agg('mean').reset_index()\n",
    "df_fea.head(1)"
   ]
  },
  {
   "cell_type": "markdown",
   "id": "90046418",
   "metadata": {},
   "source": [
    "## 特征-psm sofa "
   ]
  },
  {
   "cell_type": "code",
   "execution_count": 14,
   "id": "863e1cbc",
   "metadata": {
    "ExecuteTime": {
     "end_time": "2023-12-20T07:41:15.826953Z",
     "start_time": "2023-12-20T07:41:15.783774Z"
    }
   },
   "outputs": [
    {
     "data": {
      "text/html": [
       "<div>\n",
       "<style scoped>\n",
       "    .dataframe tbody tr th:only-of-type {\n",
       "        vertical-align: middle;\n",
       "    }\n",
       "\n",
       "    .dataframe tbody tr th {\n",
       "        vertical-align: top;\n",
       "    }\n",
       "\n",
       "    .dataframe thead th {\n",
       "        text-align: right;\n",
       "    }\n",
       "</style>\n",
       "<table border=\"1\" class=\"dataframe\">\n",
       "  <thead>\n",
       "    <tr style=\"text-align: right;\">\n",
       "      <th></th>\n",
       "      <th>stay_id</th>\n",
       "      <th>time</th>\n",
       "      <th>respiration_sofa</th>\n",
       "      <th>coagulation_sofa</th>\n",
       "      <th>liver_sofa</th>\n",
       "      <th>cardiovascular_sofa</th>\n",
       "      <th>cns_sofa</th>\n",
       "      <th>renal_sofa</th>\n",
       "      <th>sofa</th>\n",
       "      <th>groupHPD</th>\n",
       "    </tr>\n",
       "  </thead>\n",
       "  <tbody>\n",
       "    <tr>\n",
       "      <th>0</th>\n",
       "      <td>5</td>\n",
       "      <td>-2</td>\n",
       "      <td>0.0</td>\n",
       "      <td>0.0</td>\n",
       "      <td>0.0</td>\n",
       "      <td>4.0</td>\n",
       "      <td>0.0</td>\n",
       "      <td>0.0</td>\n",
       "      <td>4.0</td>\n",
       "      <td>2.0</td>\n",
       "    </tr>\n",
       "  </tbody>\n",
       "</table>\n",
       "</div>"
      ],
      "text/plain": [
       "   stay_id  time  respiration_sofa  coagulation_sofa  liver_sofa  \\\n",
       "0        5    -2               0.0               0.0         0.0   \n",
       "\n",
       "   cardiovascular_sofa  cns_sofa  renal_sofa  sofa  groupHPD  \n",
       "0                  4.0       0.0         0.0   4.0       2.0  "
      ]
     },
     "execution_count": 14,
     "metadata": {},
     "output_type": "execute_result"
    }
   ],
   "source": [
    "df_sofa = pd.read_csv(\"../../04.other_feature_in_three_dataset/03.sofa_feature/aumc_sofa_clean.csv\")\n",
    "df_sofa.head(1)"
   ]
  },
  {
   "cell_type": "code",
   "execution_count": 15,
   "id": "5b647872",
   "metadata": {
    "ExecuteTime": {
     "end_time": "2023-12-20T07:41:15.947901Z",
     "start_time": "2023-12-20T07:41:15.828174Z"
    }
   },
   "outputs": [
    {
     "data": {
      "text/html": [
       "<div>\n",
       "<style scoped>\n",
       "    .dataframe tbody tr th:only-of-type {\n",
       "        vertical-align: middle;\n",
       "    }\n",
       "\n",
       "    .dataframe tbody tr th {\n",
       "        vertical-align: top;\n",
       "    }\n",
       "\n",
       "    .dataframe thead th {\n",
       "        text-align: right;\n",
       "    }\n",
       "</style>\n",
       "<table border=\"1\" class=\"dataframe\">\n",
       "  <thead>\n",
       "    <tr style=\"text-align: right;\">\n",
       "      <th></th>\n",
       "      <th>stay_id</th>\n",
       "      <th>time</th>\n",
       "      <th>respiration_sofa</th>\n",
       "      <th>coagulation_sofa</th>\n",
       "      <th>liver_sofa</th>\n",
       "      <th>cardiovascular_sofa</th>\n",
       "      <th>cns_sofa</th>\n",
       "      <th>renal_sofa</th>\n",
       "      <th>sofa</th>\n",
       "    </tr>\n",
       "  </thead>\n",
       "  <tbody>\n",
       "    <tr>\n",
       "      <th>0</th>\n",
       "      <td>5</td>\n",
       "      <td>-1.0</td>\n",
       "      <td>0.5</td>\n",
       "      <td>0.0</td>\n",
       "      <td>0.0</td>\n",
       "      <td>2.5</td>\n",
       "      <td>0.0</td>\n",
       "      <td>0.75</td>\n",
       "      <td>3.75</td>\n",
       "    </tr>\n",
       "  </tbody>\n",
       "</table>\n",
       "</div>"
      ],
      "text/plain": [
       "   stay_id  time  respiration_sofa  coagulation_sofa  liver_sofa  \\\n",
       "0        5  -1.0               0.5               0.0         0.0   \n",
       "\n",
       "   cardiovascular_sofa  cns_sofa  renal_sofa  sofa  \n",
       "0                  2.5       0.0        0.75  3.75  "
      ]
     },
     "execution_count": 15,
     "metadata": {},
     "output_type": "execute_result"
    }
   ],
   "source": [
    "df_sofa = pd.read_csv(\"../../04.other_feature_in_three_dataset/03.sofa_feature/aumc_sofa_clean.csv\")\n",
    "df_sofa = df_sofa.rename(columns={\"time\":\"charttime\"})\n",
    "\n",
    "df_time_cut = df_time[['stay_id','saki_onset']]\n",
    "df_sofa = pd.merge(df_sofa,df_time_cut, how=\"inner\",on=\"stay_id\")\n",
    "\n",
    "df_sofa[\"time\"] = (df_sofa[\"charttime\"] - df_sofa[\"saki_onset\"])/24\n",
    "df_sofa[\"time\"] = df_sofa[\"time\"].map(lambda x:x//1) # -1指sepsis前6小时的数据，0指sepsis后第一个6小时的数据\n",
    "df_sofa[\"time\"] = df_sofa[\"time\"].map(lambda x: x+1 if x>=0 else x)\n",
    "df_sofa = df_sofa[(df_sofa[\"time\"]>=-2) &(df_sofa[\"time\"]<=7)] # 前七天与后7天\n",
    "\n",
    "df_sofa = df_sofa.groupby([\"stay_id\",\"time\"]).agg('mean').reset_index()\n",
    "df_sofa = df_sofa.drop(['groupHPD',\"charttime\",\"saki_onset\"],axis=1)\n",
    "df_sofa.head(1)"
   ]
  },
  {
   "cell_type": "markdown",
   "id": "2affbe90",
   "metadata": {},
   "source": [
    "## 生存"
   ]
  },
  {
   "cell_type": "code",
   "execution_count": 16,
   "id": "dbb38b2f",
   "metadata": {
    "ExecuteTime": {
     "end_time": "2023-12-20T07:41:15.961668Z",
     "start_time": "2023-12-20T07:41:15.949022Z"
    }
   },
   "outputs": [
    {
     "data": {
      "text/html": [
       "<div>\n",
       "<style scoped>\n",
       "    .dataframe tbody tr th:only-of-type {\n",
       "        vertical-align: middle;\n",
       "    }\n",
       "\n",
       "    .dataframe tbody tr th {\n",
       "        vertical-align: top;\n",
       "    }\n",
       "\n",
       "    .dataframe thead th {\n",
       "        text-align: right;\n",
       "    }\n",
       "</style>\n",
       "<table border=\"1\" class=\"dataframe\">\n",
       "  <thead>\n",
       "    <tr style=\"text-align: right;\">\n",
       "      <th></th>\n",
       "      <th>stay_id</th>\n",
       "      <th>groupHPD</th>\n",
       "      <th>mortality_28d</th>\n",
       "      <th>survival_28day</th>\n",
       "    </tr>\n",
       "  </thead>\n",
       "  <tbody>\n",
       "    <tr>\n",
       "      <th>0</th>\n",
       "      <td>5</td>\n",
       "      <td>2</td>\n",
       "      <td>0</td>\n",
       "      <td>2.0</td>\n",
       "    </tr>\n",
       "  </tbody>\n",
       "</table>\n",
       "</div>"
      ],
      "text/plain": [
       "   stay_id  groupHPD  mortality_28d  survival_28day\n",
       "0        5         2              0             2.0"
      ]
     },
     "execution_count": 16,
     "metadata": {},
     "output_type": "execute_result"
    }
   ],
   "source": [
    "df_sur = pd.read_csv(\"../../02.AUMCdb_SAKI_trajCluster/sk_survival.csv\")\n",
    "df_sur = df_sur[['stay_id','groupHPD', 'mortality_28d', 'survival_28day']]\n",
    "df_sur.head(1)"
   ]
  },
  {
   "cell_type": "code",
   "execution_count": 17,
   "id": "ac019174",
   "metadata": {
    "ExecuteTime": {
     "end_time": "2023-12-20T07:41:16.083323Z",
     "start_time": "2023-12-20T07:41:15.962724Z"
    }
   },
   "outputs": [
    {
     "name": "stderr",
     "output_type": "stream",
     "text": [
      "<ipython-input-17-079fde5957df>:5: SettingWithCopyWarning: \n",
      "A value is trying to be set on a copy of a slice from a DataFrame.\n",
      "Try using .loc[row_indexer,col_indexer] = value instead\n",
      "\n",
      "See the caveats in the documentation: https://pandas.pydata.org/pandas-docs/stable/user_guide/indexing.html#returning-a-view-versus-a-copy\n",
      "  df_CHF[\"Congestive_heart_failure\"] = 1\n"
     ]
    },
    {
     "data": {
      "text/html": [
       "<div>\n",
       "<style scoped>\n",
       "    .dataframe tbody tr th:only-of-type {\n",
       "        vertical-align: middle;\n",
       "    }\n",
       "\n",
       "    .dataframe tbody tr th {\n",
       "        vertical-align: top;\n",
       "    }\n",
       "\n",
       "    .dataframe thead th {\n",
       "        text-align: right;\n",
       "    }\n",
       "</style>\n",
       "<table border=\"1\" class=\"dataframe\">\n",
       "  <thead>\n",
       "    <tr style=\"text-align: right;\">\n",
       "      <th></th>\n",
       "      <th>stay_id</th>\n",
       "      <th>Congestive_heart_failure</th>\n",
       "    </tr>\n",
       "  </thead>\n",
       "  <tbody>\n",
       "    <tr>\n",
       "      <th>82</th>\n",
       "      <td>231</td>\n",
       "      <td>1</td>\n",
       "    </tr>\n",
       "  </tbody>\n",
       "</table>\n",
       "</div>"
      ],
      "text/plain": [
       "    stay_id  Congestive_heart_failure\n",
       "82      231                         1"
      ]
     },
     "execution_count": 17,
     "metadata": {},
     "output_type": "execute_result"
    }
   ],
   "source": [
    "df_dia = pd.read_csv(\"/public/hanl/jupyter_dir/database/AMUCdb/raw/diagnoses/combined_diagnoses.csv\")\n",
    "df_dia = df_dia[[\"admissionid\",\"diagnosis\"]] # Congestief hartfalen  'CHF, congestive heart failure'\n",
    "df_dia = df_dia[~df_dia[\"diagnosis\"].isnull()]\n",
    "df_CHF = df_dia[df_dia['diagnosis'].str.contains('CHF',case=False)]#.diagnosis.unique()\n",
    "df_CHF[\"Congestive_heart_failure\"] = 1\n",
    "df_CHF = df_CHF[[\"admissionid\",\"Congestive_heart_failure\"]]\n",
    "df_CHF.columns = [\"stay_id\",\"Congestive_heart_failure\"]\n",
    "df_CHF.head(1)"
   ]
  },
  {
   "cell_type": "markdown",
   "id": "1d774e1c",
   "metadata": {},
   "source": [
    "## 合并\n",
    "分类型\n",
    "- df_disease\n",
    "- df_basic\n",
    "- df_weight\n",
    "- df_sur\n",
    "\n",
    "连续型\n",
    "- df_fb\n",
    "- df_uo\n",
    "- df_fluid\n",
    "- df_fea\n",
    "- df_di"
   ]
  },
  {
   "cell_type": "code",
   "execution_count": 18,
   "id": "d9955f85",
   "metadata": {
    "ExecuteTime": {
     "end_time": "2023-12-20T07:41:17.941960Z",
     "start_time": "2023-12-20T07:41:16.084472Z"
    }
   },
   "outputs": [
    {
     "data": {
      "text/html": [
       "<div>\n",
       "<style scoped>\n",
       "    .dataframe tbody tr th:only-of-type {\n",
       "        vertical-align: middle;\n",
       "    }\n",
       "\n",
       "    .dataframe tbody tr th {\n",
       "        vertical-align: top;\n",
       "    }\n",
       "\n",
       "    .dataframe thead th {\n",
       "        text-align: right;\n",
       "    }\n",
       "</style>\n",
       "<table border=\"1\" class=\"dataframe\">\n",
       "  <thead>\n",
       "    <tr style=\"text-align: right;\">\n",
       "      <th></th>\n",
       "      <th>stay_id</th>\n",
       "      <th>time</th>\n",
       "      <th>charttime</th>\n",
       "      <th>baseexcess</th>\n",
       "      <th>rbc</th>\n",
       "      <th>mch</th>\n",
       "      <th>mcv</th>\n",
       "      <th>mchc</th>\n",
       "      <th>rdw</th>\n",
       "      <th>wbc</th>\n",
       "      <th>hematocrit</th>\n",
       "      <th>hemoglobin</th>\n",
       "      <th>pt</th>\n",
       "      <th>ptt</th>\n",
       "      <th>platelet</th>\n",
       "      <th>dbp</th>\n",
       "      <th>mbp</th>\n",
       "      <th>sbp</th>\n",
       "      <th>glucose</th>\n",
       "      <th>lactate</th>\n",
       "      <th>ph</th>\n",
       "      <th>temperature</th>\n",
       "      <th>resp_rate</th>\n",
       "      <th>heart_rate</th>\n",
       "      <th>spo2</th>\n",
       "      <th>bicarbonate</th>\n",
       "      <th>aniongap</th>\n",
       "      <th>calcium</th>\n",
       "      <th>sodium</th>\n",
       "      <th>potassium</th>\n",
       "      <th>chloride</th>\n",
       "      <th>creatinine</th>\n",
       "      <th>gcs</th>\n",
       "      <th>gcs_eyes</th>\n",
       "      <th>gcs_motor</th>\n",
       "      <th>gcs_verbal</th>\n",
       "      <th>po2</th>\n",
       "      <th>pco2</th>\n",
       "      <th>fio2</th>\n",
       "      <th>saki_onset</th>\n",
       "      <th>colloid_bolus</th>\n",
       "      <th>furosemide_amount</th>\n",
       "      <th>is_diu</th>\n",
       "      <th>urineoutput</th>\n",
       "      <th>fluidbance</th>\n",
       "      <th>cum_fluidbance</th>\n",
       "      <th>respiration_sofa</th>\n",
       "      <th>coagulation_sofa</th>\n",
       "      <th>liver_sofa</th>\n",
       "      <th>cardiovascular_sofa</th>\n",
       "      <th>cns_sofa</th>\n",
       "      <th>renal_sofa</th>\n",
       "      <th>sofa</th>\n",
       "    </tr>\n",
       "  </thead>\n",
       "  <tbody>\n",
       "    <tr>\n",
       "      <th>0</th>\n",
       "      <td>5</td>\n",
       "      <td>-2</td>\n",
       "      <td>0.5</td>\n",
       "      <td>4.2</td>\n",
       "      <td>3.0</td>\n",
       "      <td>30.100952</td>\n",
       "      <td>96.0</td>\n",
       "      <td>30.6147</td>\n",
       "      <td>13.9</td>\n",
       "      <td>20.600001</td>\n",
       "      <td>0.443333</td>\n",
       "      <td>14.28686</td>\n",
       "      <td>10.3</td>\n",
       "      <td>34.0</td>\n",
       "      <td>NaN</td>\n",
       "      <td>70.2341</td>\n",
       "      <td>84.676544</td>\n",
       "      <td>114.899234</td>\n",
       "      <td>76.200002</td>\n",
       "      <td>1.0</td>\n",
       "      <td>7.33</td>\n",
       "      <td>35.8</td>\n",
       "      <td>19.124155</td>\n",
       "      <td>118.30542</td>\n",
       "      <td>98.000002</td>\n",
       "      <td>21.0</td>\n",
       "      <td>11.5</td>\n",
       "      <td>11.1</td>\n",
       "      <td>140.0</td>\n",
       "      <td>4.0</td>\n",
       "      <td>105.0</td>\n",
       "      <td>0.6554</td>\n",
       "      <td>15.0</td>\n",
       "      <td>4.0</td>\n",
       "      <td>6.0</td>\n",
       "      <td>5.0</td>\n",
       "      <td>162.0</td>\n",
       "      <td>42.0</td>\n",
       "      <td>41.0</td>\n",
       "      <td>3.0</td>\n",
       "      <td>0.0</td>\n",
       "      <td>0.0</td>\n",
       "      <td>0.0</td>\n",
       "      <td>0.0</td>\n",
       "      <td>0.0</td>\n",
       "      <td>0.0</td>\n",
       "      <td>0.5</td>\n",
       "      <td>0.0</td>\n",
       "      <td>0.0</td>\n",
       "      <td>2.5</td>\n",
       "      <td>0.0</td>\n",
       "      <td>0.75</td>\n",
       "      <td>3.75</td>\n",
       "    </tr>\n",
       "  </tbody>\n",
       "</table>\n",
       "</div>"
      ],
      "text/plain": [
       "   stay_id  time  charttime  baseexcess  rbc        mch   mcv     mchc   rdw  \\\n",
       "0        5    -2        0.5         4.2  3.0  30.100952  96.0  30.6147  13.9   \n",
       "\n",
       "         wbc  hematocrit  hemoglobin    pt   ptt  platelet      dbp  \\\n",
       "0  20.600001    0.443333    14.28686  10.3  34.0       NaN  70.2341   \n",
       "\n",
       "         mbp         sbp    glucose  lactate    ph  temperature  resp_rate  \\\n",
       "0  84.676544  114.899234  76.200002      1.0  7.33         35.8  19.124155   \n",
       "\n",
       "   heart_rate       spo2  bicarbonate  aniongap  calcium  sodium  potassium  \\\n",
       "0   118.30542  98.000002         21.0      11.5     11.1   140.0        4.0   \n",
       "\n",
       "   chloride  creatinine   gcs  gcs_eyes  gcs_motor  gcs_verbal    po2  pco2  \\\n",
       "0     105.0      0.6554  15.0       4.0        6.0         5.0  162.0  42.0   \n",
       "\n",
       "   fio2  saki_onset  colloid_bolus  furosemide_amount  is_diu  urineoutput  \\\n",
       "0  41.0         3.0            0.0                0.0     0.0          0.0   \n",
       "\n",
       "   fluidbance  cum_fluidbance  respiration_sofa  coagulation_sofa  liver_sofa  \\\n",
       "0         0.0             0.0               0.5               0.0         0.0   \n",
       "\n",
       "   cardiovascular_sofa  cns_sofa  renal_sofa  sofa  \n",
       "0                  2.5       0.0        0.75  3.75  "
      ]
     },
     "execution_count": 18,
     "metadata": {},
     "output_type": "execute_result"
    }
   ],
   "source": [
    "# 连续型变量合并\n",
    "df_m1 = pd.merge(df_fea,df_fluid,how=\"outer\",on=[\"stay_id\",\"time\"])\n",
    "df_m1 = pd.merge(df_m1,df_di,how=\"outer\",on=[\"stay_id\",\"time\"])\n",
    "df_m1 = pd.merge(df_m1, df_uo, how=\"outer\",on=[\"stay_id\",\"time\"])\n",
    "df_m1 = pd.merge(df_m1, df_fb, how=\"outer\",on=[\"stay_id\",\"time\"])\n",
    "df_m1 = pd.merge(df_m1, df_sofa, how=\"outer\",on=[\"stay_id\",\"time\"])\n",
    "\n",
    "df_m1 = df_m1[df_m1[\"stay_id\"].isin(all_lst)]\n",
    "\n",
    "df_m1.loc[df_m1[\"time\"]==-1,\"time\"] = 0\n",
    "df_m1.loc[df_m1[\"time\"]==-2,\"time\"] = -1\n",
    "\n",
    "com_lst = []\n",
    "for i in df_m1.stay_id.unique().tolist():\n",
    "    max_t = int(max(df_m1[df_m1.stay_id==i].time))\n",
    "    for j in range(-1,max_t+1,1):\n",
    "        com_lst.append([i,j])\n",
    "df_complete = pd.DataFrame(com_lst,columns=[\"stay_id\", \"time\"])\n",
    "df_m1 = pd.merge(df_complete,df_m1,how=\"left\",on=[\"stay_id\",\"time\"])\n",
    "df_m1[[\"colloid_bolus\",\"urineoutput\",\"furosemide_amount\",\"is_diu\",\"fluidbance\",\"cum_fluidbance\"]] = df_m1[[\"colloid_bolus\",\"urineoutput\",\"furosemide_amount\",\"is_diu\",\"fluidbance\",\"cum_fluidbance\"]].fillna(0)\n",
    "\n",
    "df_m1['stay_id_tmp'] = df_m1['stay_id']\n",
    "df_m1 = df_m1.groupby('stay_id_tmp').fillna(method='ffill').fillna(method='bfill')\n",
    "df_m1.loc[df_m1[\"time\"]==-1,\"time\"] = -2\n",
    "df_m1.loc[df_m1[\"time\"]==0,\"time\"] = -1\n",
    "df_m1.head(1)"
   ]
  },
  {
   "cell_type": "code",
   "execution_count": 19,
   "id": "4b31e5a0",
   "metadata": {
    "ExecuteTime": {
     "end_time": "2023-12-20T07:41:17.966471Z",
     "start_time": "2023-12-20T07:41:17.943233Z"
    }
   },
   "outputs": [
    {
     "data": {
      "text/html": [
       "<div>\n",
       "<style scoped>\n",
       "    .dataframe tbody tr th:only-of-type {\n",
       "        vertical-align: middle;\n",
       "    }\n",
       "\n",
       "    .dataframe tbody tr th {\n",
       "        vertical-align: top;\n",
       "    }\n",
       "\n",
       "    .dataframe thead th {\n",
       "        text-align: right;\n",
       "    }\n",
       "</style>\n",
       "<table border=\"1\" class=\"dataframe\">\n",
       "  <thead>\n",
       "    <tr style=\"text-align: right;\">\n",
       "      <th></th>\n",
       "      <th>stay_id</th>\n",
       "      <th>groupHPD</th>\n",
       "      <th>mortality_28d</th>\n",
       "      <th>survival_28day</th>\n",
       "      <th>weight</th>\n",
       "      <th>gender</th>\n",
       "      <th>age</th>\n",
       "      <th>height</th>\n",
       "      <th>baseline_Scr</th>\n",
       "      <th>Congestive_heart_failure</th>\n",
       "    </tr>\n",
       "  </thead>\n",
       "  <tbody>\n",
       "    <tr>\n",
       "      <th>0</th>\n",
       "      <td>5</td>\n",
       "      <td>2</td>\n",
       "      <td>0</td>\n",
       "      <td>2.0</td>\n",
       "      <td>65.0</td>\n",
       "      <td>1</td>\n",
       "      <td>55</td>\n",
       "      <td>165.0</td>\n",
       "      <td>0.63336</td>\n",
       "      <td>0.0</td>\n",
       "    </tr>\n",
       "  </tbody>\n",
       "</table>\n",
       "</div>"
      ],
      "text/plain": [
       "   stay_id  groupHPD  mortality_28d  survival_28day  weight  gender  age  \\\n",
       "0        5         2              0             2.0    65.0       1   55   \n",
       "\n",
       "   height  baseline_Scr  Congestive_heart_failure  \n",
       "0   165.0       0.63336                       0.0  "
      ]
     },
     "execution_count": 19,
     "metadata": {},
     "output_type": "execute_result"
    }
   ],
   "source": [
    "# 分类变量合并\n",
    "df_m2 = pd.merge(df_sur,df_demo,how=\"left\",on=[\"stay_id\"])\n",
    "df_m2 = pd.merge(df_m2,df_CHF,how=\"left\",on=[\"stay_id\"])\n",
    "df_m2 = df_m2.fillna(0)\n",
    "df_m2.head(1)"
   ]
  },
  {
   "cell_type": "code",
   "execution_count": 20,
   "id": "fa3a031f",
   "metadata": {
    "ExecuteTime": {
     "end_time": "2023-12-20T07:41:20.026026Z",
     "start_time": "2023-12-20T07:41:17.983403Z"
    }
   },
   "outputs": [
    {
     "data": {
      "text/html": [
       "<div>\n",
       "<style scoped>\n",
       "    .dataframe tbody tr th:only-of-type {\n",
       "        vertical-align: middle;\n",
       "    }\n",
       "\n",
       "    .dataframe tbody tr th {\n",
       "        vertical-align: top;\n",
       "    }\n",
       "\n",
       "    .dataframe thead th {\n",
       "        text-align: right;\n",
       "    }\n",
       "</style>\n",
       "<table border=\"1\" class=\"dataframe\">\n",
       "  <thead>\n",
       "    <tr style=\"text-align: right;\">\n",
       "      <th></th>\n",
       "      <th>time</th>\n",
       "      <th>heart_rate</th>\n",
       "      <th>weight</th>\n",
       "      <th>survival_28day</th>\n",
       "      <th>rdw</th>\n",
       "      <th>first_use_time</th>\n",
       "      <th>platelet</th>\n",
       "      <th>sbp</th>\n",
       "      <th>gcs_verbal</th>\n",
       "      <th>liver_sofa</th>\n",
       "      <th>furosemide_amount_kg</th>\n",
       "      <th>mch</th>\n",
       "      <th>po2</th>\n",
       "      <th>potassium</th>\n",
       "      <th>mortality_28d</th>\n",
       "      <th>first_use_amount</th>\n",
       "      <th>creatinine</th>\n",
       "      <th>stay_id</th>\n",
       "      <th>mchc</th>\n",
       "      <th>temperature</th>\n",
       "      <th>spo2</th>\n",
       "      <th>gcs_motor</th>\n",
       "      <th>furosemide_amount</th>\n",
       "      <th>baseline_Scr</th>\n",
       "      <th>gcs_eyes</th>\n",
       "      <th>Congestive_heart_failure</th>\n",
       "      <th>cardiovascular_sofa</th>\n",
       "      <th>glucose</th>\n",
       "      <th>groupHPD</th>\n",
       "      <th>rbc</th>\n",
       "      <th>dbp</th>\n",
       "      <th>fluidbance</th>\n",
       "      <th>is_diu_byid</th>\n",
       "      <th>hemoglobin</th>\n",
       "      <th>cns_sofa</th>\n",
       "      <th>resp_rate</th>\n",
       "      <th>calcium</th>\n",
       "      <th>sodium</th>\n",
       "      <th>aniongap</th>\n",
       "      <th>height</th>\n",
       "      <th>coagulation_sofa</th>\n",
       "      <th>is_diu</th>\n",
       "      <th>bicarbonate</th>\n",
       "      <th>pt</th>\n",
       "      <th>gender</th>\n",
       "      <th>mcv</th>\n",
       "      <th>urineoutput</th>\n",
       "      <th>wbc</th>\n",
       "      <th>chloride</th>\n",
       "      <th>colloid_bolus</th>\n",
       "      <th>pco2</th>\n",
       "      <th>baseexcess</th>\n",
       "      <th>respiration_sofa</th>\n",
       "      <th>renal_sofa</th>\n",
       "      <th>sofa_norenal</th>\n",
       "      <th>hematocrit</th>\n",
       "      <th>mbp</th>\n",
       "      <th>ptt</th>\n",
       "      <th>ph</th>\n",
       "      <th>lactate</th>\n",
       "      <th>sofa</th>\n",
       "      <th>cum_fluidbance</th>\n",
       "      <th>gcs</th>\n",
       "      <th>fio2</th>\n",
       "      <th>age</th>\n",
       "    </tr>\n",
       "  </thead>\n",
       "  <tbody>\n",
       "    <tr>\n",
       "      <th>0</th>\n",
       "      <td>-2</td>\n",
       "      <td>118.30542</td>\n",
       "      <td>65.0</td>\n",
       "      <td>2.0</td>\n",
       "      <td>13.9</td>\n",
       "      <td>2.0</td>\n",
       "      <td>NaN</td>\n",
       "      <td>114.899234</td>\n",
       "      <td>5.0</td>\n",
       "      <td>0.0</td>\n",
       "      <td>0.0</td>\n",
       "      <td>30.100952</td>\n",
       "      <td>162.0</td>\n",
       "      <td>4.0</td>\n",
       "      <td>0</td>\n",
       "      <td>20.0</td>\n",
       "      <td>0.6554</td>\n",
       "      <td>5</td>\n",
       "      <td>30.6147</td>\n",
       "      <td>35.8</td>\n",
       "      <td>98.000002</td>\n",
       "      <td>6.0</td>\n",
       "      <td>0.0</td>\n",
       "      <td>0.63336</td>\n",
       "      <td>4.0</td>\n",
       "      <td>0.0</td>\n",
       "      <td>2.5</td>\n",
       "      <td>76.200002</td>\n",
       "      <td>2</td>\n",
       "      <td>3.0</td>\n",
       "      <td>70.2341</td>\n",
       "      <td>0.00</td>\n",
       "      <td>1</td>\n",
       "      <td>14.28686</td>\n",
       "      <td>0.0</td>\n",
       "      <td>19.124155</td>\n",
       "      <td>11.1</td>\n",
       "      <td>140.0</td>\n",
       "      <td>11.5</td>\n",
       "      <td>165.0</td>\n",
       "      <td>0.0</td>\n",
       "      <td>0.0</td>\n",
       "      <td>21.0</td>\n",
       "      <td>10.3</td>\n",
       "      <td>1</td>\n",
       "      <td>96.0</td>\n",
       "      <td>0.0</td>\n",
       "      <td>20.600001</td>\n",
       "      <td>105.0</td>\n",
       "      <td>0.000000</td>\n",
       "      <td>42.0</td>\n",
       "      <td>4.2</td>\n",
       "      <td>0.5</td>\n",
       "      <td>0.75</td>\n",
       "      <td>3.0</td>\n",
       "      <td>0.443333</td>\n",
       "      <td>84.676544</td>\n",
       "      <td>34.0</td>\n",
       "      <td>7.33</td>\n",
       "      <td>1.0</td>\n",
       "      <td>3.75</td>\n",
       "      <td>0.0</td>\n",
       "      <td>15.0</td>\n",
       "      <td>41.0</td>\n",
       "      <td>55</td>\n",
       "    </tr>\n",
       "    <tr>\n",
       "      <th>1</th>\n",
       "      <td>-1</td>\n",
       "      <td>118.30542</td>\n",
       "      <td>65.0</td>\n",
       "      <td>2.0</td>\n",
       "      <td>13.9</td>\n",
       "      <td>2.0</td>\n",
       "      <td>NaN</td>\n",
       "      <td>114.899234</td>\n",
       "      <td>5.0</td>\n",
       "      <td>0.0</td>\n",
       "      <td>0.0</td>\n",
       "      <td>30.100952</td>\n",
       "      <td>162.0</td>\n",
       "      <td>4.0</td>\n",
       "      <td>0</td>\n",
       "      <td>20.0</td>\n",
       "      <td>0.6554</td>\n",
       "      <td>5</td>\n",
       "      <td>30.6147</td>\n",
       "      <td>35.8</td>\n",
       "      <td>98.000002</td>\n",
       "      <td>6.0</td>\n",
       "      <td>0.0</td>\n",
       "      <td>0.63336</td>\n",
       "      <td>4.0</td>\n",
       "      <td>0.0</td>\n",
       "      <td>2.5</td>\n",
       "      <td>76.200002</td>\n",
       "      <td>2</td>\n",
       "      <td>3.0</td>\n",
       "      <td>70.2341</td>\n",
       "      <td>1166.38</td>\n",
       "      <td>1</td>\n",
       "      <td>14.28686</td>\n",
       "      <td>0.0</td>\n",
       "      <td>19.124155</td>\n",
       "      <td>11.1</td>\n",
       "      <td>140.0</td>\n",
       "      <td>11.5</td>\n",
       "      <td>165.0</td>\n",
       "      <td>0.0</td>\n",
       "      <td>0.0</td>\n",
       "      <td>21.0</td>\n",
       "      <td>10.3</td>\n",
       "      <td>1</td>\n",
       "      <td>96.0</td>\n",
       "      <td>40.0</td>\n",
       "      <td>20.600001</td>\n",
       "      <td>105.0</td>\n",
       "      <td>1206.381429</td>\n",
       "      <td>42.0</td>\n",
       "      <td>4.2</td>\n",
       "      <td>0.5</td>\n",
       "      <td>0.75</td>\n",
       "      <td>3.0</td>\n",
       "      <td>0.443333</td>\n",
       "      <td>84.676544</td>\n",
       "      <td>34.0</td>\n",
       "      <td>7.33</td>\n",
       "      <td>1.0</td>\n",
       "      <td>3.75</td>\n",
       "      <td>0.0</td>\n",
       "      <td>15.0</td>\n",
       "      <td>41.0</td>\n",
       "      <td>55</td>\n",
       "    </tr>\n",
       "  </tbody>\n",
       "</table>\n",
       "</div>"
      ],
      "text/plain": [
       "   time  heart_rate  weight  survival_28day   rdw  first_use_time  platelet  \\\n",
       "0    -2   118.30542    65.0             2.0  13.9             2.0       NaN   \n",
       "1    -1   118.30542    65.0             2.0  13.9             2.0       NaN   \n",
       "\n",
       "          sbp  gcs_verbal  liver_sofa  furosemide_amount_kg        mch    po2  \\\n",
       "0  114.899234         5.0         0.0                   0.0  30.100952  162.0   \n",
       "1  114.899234         5.0         0.0                   0.0  30.100952  162.0   \n",
       "\n",
       "   potassium  mortality_28d  first_use_amount  creatinine  stay_id     mchc  \\\n",
       "0        4.0              0              20.0      0.6554        5  30.6147   \n",
       "1        4.0              0              20.0      0.6554        5  30.6147   \n",
       "\n",
       "   temperature       spo2  gcs_motor  furosemide_amount  baseline_Scr  \\\n",
       "0         35.8  98.000002        6.0                0.0       0.63336   \n",
       "1         35.8  98.000002        6.0                0.0       0.63336   \n",
       "\n",
       "   gcs_eyes  Congestive_heart_failure  cardiovascular_sofa    glucose  \\\n",
       "0       4.0                       0.0                  2.5  76.200002   \n",
       "1       4.0                       0.0                  2.5  76.200002   \n",
       "\n",
       "   groupHPD  rbc      dbp  fluidbance  is_diu_byid  hemoglobin  cns_sofa  \\\n",
       "0         2  3.0  70.2341        0.00            1    14.28686       0.0   \n",
       "1         2  3.0  70.2341     1166.38            1    14.28686       0.0   \n",
       "\n",
       "   resp_rate  calcium  sodium  aniongap  height  coagulation_sofa  is_diu  \\\n",
       "0  19.124155     11.1   140.0      11.5   165.0               0.0     0.0   \n",
       "1  19.124155     11.1   140.0      11.5   165.0               0.0     0.0   \n",
       "\n",
       "   bicarbonate    pt  gender   mcv  urineoutput        wbc  chloride  \\\n",
       "0         21.0  10.3       1  96.0          0.0  20.600001     105.0   \n",
       "1         21.0  10.3       1  96.0         40.0  20.600001     105.0   \n",
       "\n",
       "   colloid_bolus  pco2  baseexcess  respiration_sofa  renal_sofa  \\\n",
       "0       0.000000  42.0         4.2               0.5        0.75   \n",
       "1    1206.381429  42.0         4.2               0.5        0.75   \n",
       "\n",
       "   sofa_norenal  hematocrit        mbp   ptt    ph  lactate  sofa  \\\n",
       "0           3.0    0.443333  84.676544  34.0  7.33      1.0  3.75   \n",
       "1           3.0    0.443333  84.676544  34.0  7.33      1.0  3.75   \n",
       "\n",
       "   cum_fluidbance   gcs  fio2  age  \n",
       "0             0.0  15.0  41.0   55  \n",
       "1             0.0  15.0  41.0   55  "
      ]
     },
     "execution_count": 20,
     "metadata": {},
     "output_type": "execute_result"
    }
   ],
   "source": [
    "df_m = pd.merge(df_m1, df_m2, how=\"inner\",on=\"stay_id\")\n",
    "df_sur_add = df_m \n",
    "df_sur_add[\"furosemide_amount_kg\"] = round(df_sur_add[\"furosemide_amount\"] / df_sur_add[\"weight\"],2)\n",
    "df_sur_add['sofa_norenal'] = df_sur_add['sofa'] - df_sur_add['renal_sofa']\n",
    "\n",
    "tmp = df_sur_add.groupby([\"stay_id\"]).agg({\"furosemide_amount\":\"sum\"}).reset_index()\n",
    "tmp[\"is_diu_byid\"] = 1\n",
    "tmp.loc[tmp[\"furosemide_amount\"]==0,\"is_diu_byid\"] = 0\n",
    "tmp = tmp[[\"stay_id\",\"is_diu_byid\"]]\n",
    "df_sur_add = pd.merge(df_sur_add,tmp,how=\"inner\",on=\"stay_id\")\n",
    "\n",
    "\n",
    "tmp = df_sur_add[(df_sur_add[\"is_diu\"]!=0)]  \n",
    "tmp = tmp.sort_values([\"stay_id\",\"time\"])\n",
    "tmp = tmp.groupby(\"stay_id\").first().reset_index()\n",
    "tmp =  tmp[[\"stay_id\",\"time\",\"furosemide_amount\"]]\n",
    "tmp.columns = [\"stay_id\", \"first_use_time\",\"first_use_amount\"]\n",
    "df_sur_add = pd.merge(df_sur_add,tmp,how=\"left\",on=\"stay_id\")\n",
    "df_sur_add.to_csv(\"./aumcdb_diuretic_survival_all.csv\",index=False)\n",
    "\n",
    "# 取和mimic交集的特征\n",
    "aumc_fea = df_sur_add.columns\n",
    "tmp_df = pd.read_csv(\"../01.mimic/mimic_diuretic_survival_all.csv\") \n",
    "tmp_df = tmp_df.rename(columns={'admission_age':'age'})\n",
    "mimic_fea = tmp_df.columns\n",
    "inter_lst = list(set(aumc_fea).intersection(set(mimic_fea)))\n",
    "df_sur_add = df_sur_add[inter_lst] \n",
    "df_sur_add[[\"first_use_time\",\"first_use_amount\"]] = df_sur_add[[\"first_use_time\",\"first_use_amount\"]].fillna(0)\n",
    "df_sur_add[\"rdw\"] = df_sur_add[\"rdw\"].fillna(df_sur_add[\"rdw\"].mean())\n",
    "df_sur_add.to_csv(\"./aumcdb_diuretic_survival.csv\",index=False)\n",
    "df_sur_add.head(2)\n"
   ]
  },
  {
   "cell_type": "code",
   "execution_count": 21,
   "id": "713078b0",
   "metadata": {
    "ExecuteTime": {
     "end_time": "2023-12-20T07:41:20.030272Z",
     "start_time": "2023-12-20T07:41:20.027160Z"
    }
   },
   "outputs": [
    {
     "data": {
      "text/plain": [
       "Index(['time', 'heart_rate', 'weight', 'survival_28day', 'rdw',\n",
       "       'first_use_time', 'platelet', 'sbp', 'gcs_verbal', 'liver_sofa',\n",
       "       'furosemide_amount_kg', 'mch', 'po2', 'potassium', 'mortality_28d',\n",
       "       'first_use_amount', 'creatinine', 'stay_id', 'mchc', 'temperature',\n",
       "       'spo2', 'gcs_motor', 'furosemide_amount', 'baseline_Scr', 'gcs_eyes',\n",
       "       'Congestive_heart_failure', 'cardiovascular_sofa', 'glucose',\n",
       "       'groupHPD', 'rbc', 'dbp', 'fluidbance', 'is_diu_byid', 'hemoglobin',\n",
       "       'cns_sofa', 'resp_rate', 'calcium', 'sodium', 'aniongap', 'height',\n",
       "       'coagulation_sofa', 'is_diu', 'bicarbonate', 'pt', 'gender', 'mcv',\n",
       "       'urineoutput', 'wbc', 'chloride', 'colloid_bolus', 'pco2', 'baseexcess',\n",
       "       'respiration_sofa', 'renal_sofa', 'sofa_norenal', 'hematocrit', 'mbp',\n",
       "       'ptt', 'ph', 'lactate', 'sofa', 'cum_fluidbance', 'gcs', 'fio2', 'age'],\n",
       "      dtype='object')"
      ]
     },
     "execution_count": 21,
     "metadata": {},
     "output_type": "execute_result"
    }
   ],
   "source": [
    "df_sur_add.columns"
   ]
  }
 ],
 "metadata": {
  "kernelspec": {
   "display_name": "Python [conda env:mytensor]",
   "language": "python",
   "name": "conda-env-mytensor-py"
  },
  "language_info": {
   "codemirror_mode": {
    "name": "ipython",
    "version": 3
   },
   "file_extension": ".py",
   "mimetype": "text/x-python",
   "name": "python",
   "nbconvert_exporter": "python",
   "pygments_lexer": "ipython3",
   "version": "3.9.12"
  },
  "toc": {
   "base_numbering": 1,
   "nav_menu": {},
   "number_sections": true,
   "sideBar": true,
   "skip_h1_title": false,
   "title_cell": "Table of Contents",
   "title_sidebar": "Contents",
   "toc_cell": false,
   "toc_position": {
    "height": "calc(100% - 180px)",
    "left": "10px",
    "top": "150px",
    "width": "202.306px"
   },
   "toc_section_display": true,
   "toc_window_display": true
  },
  "varInspector": {
   "cols": {
    "lenName": 16,
    "lenType": 16,
    "lenVar": 40
   },
   "kernels_config": {
    "python": {
     "delete_cmd_postfix": "",
     "delete_cmd_prefix": "del ",
     "library": "var_list.py",
     "varRefreshCmd": "print(var_dic_list())"
    },
    "r": {
     "delete_cmd_postfix": ") ",
     "delete_cmd_prefix": "rm(",
     "library": "var_list.r",
     "varRefreshCmd": "cat(var_dic_list()) "
    }
   },
   "types_to_exclude": [
    "module",
    "function",
    "builtin_function_or_method",
    "instance",
    "_Feature"
   ],
   "window_display": false
  }
 },
 "nbformat": 4,
 "nbformat_minor": 5
}
