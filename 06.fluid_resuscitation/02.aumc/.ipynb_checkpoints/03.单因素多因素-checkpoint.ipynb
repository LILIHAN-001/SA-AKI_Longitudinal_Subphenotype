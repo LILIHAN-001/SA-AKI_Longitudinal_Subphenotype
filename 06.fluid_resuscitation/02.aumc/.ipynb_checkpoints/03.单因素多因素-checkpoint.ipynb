{
 "cells": [
  {
   "cell_type": "code",
   "execution_count": 1,
   "id": "3e4e6dc1",
   "metadata": {
    "ExecuteTime": {
     "end_time": "2023-12-20T08:00:47.223592Z",
     "start_time": "2023-12-20T07:52:04.492Z"
    }
   },
   "outputs": [
    {
     "name": "stderr",
     "output_type": "stream",
     "text": [
      "Loading required package: ggplot2\n",
      "\n",
      "Loading required package: ggpubr\n",
      "\n",
      "\n",
      "Attaching package: ‘survminer’\n",
      "\n",
      "\n",
      "The following object is masked from ‘package:survival’:\n",
      "\n",
      "    myeloma\n",
      "\n",
      "\n",
      "\n",
      "Attaching package: ‘plotRCS’\n",
      "\n",
      "\n",
      "The following object is masked from ‘package:survival’:\n",
      "\n",
      "    cancer\n",
      "\n",
      "\n",
      "Loading required package: Hmisc\n",
      "\n",
      "\n",
      "Attaching package: ‘Hmisc’\n",
      "\n",
      "\n",
      "The following objects are masked from ‘package:base’:\n",
      "\n",
      "    format.pval, units\n",
      "\n",
      "\n"
     ]
    }
   ],
   "source": [
    "library(MatchIt)\n",
    "library(survival)\n",
    "library(survminer)\n",
    "library(tidyr)\n",
    "library(tableone)\n",
    "library(plotRCS)\n",
    "library(rms)"
   ]
  },
  {
   "cell_type": "code",
   "execution_count": 2,
   "id": "6c2808d6",
   "metadata": {
    "ExecuteTime": {
     "end_time": "2023-12-20T08:00:47.254414Z",
     "start_time": "2023-12-20T07:52:04.493Z"
    }
   },
   "outputs": [],
   "source": [
    "Pvalue_cut = 0.05"
   ]
  },
  {
   "cell_type": "code",
   "execution_count": 3,
   "id": "8399dd7e",
   "metadata": {
    "ExecuteTime": {
     "end_time": "2023-12-20T08:00:47.323236Z",
     "start_time": "2023-12-20T07:52:04.495Z"
    }
   },
   "outputs": [],
   "source": [
    "df_survival <- read.csv(\"df_diuretic_responsitive.csv\",as.is = TRUE)\n",
    "df_survival <- as.data.frame(df_survival)\n",
    "#df_survival$groupHPD <- as.factor(df_survival$groupHPD)\n",
    "df_select <-  df_survival\n",
    "# df_select <-  df_survival[df_survival$groupHPD==1,] \n",
    "#df_select <-  df_survival[df_survival$groupHPD==2,] \n",
    "#df_select <-  df_survival[df_survival$groupHPD==3,] \n"
   ]
  },
  {
   "cell_type": "markdown",
   "id": "4d7e4ece",
   "metadata": {},
   "source": [
    "# 单因素\n",
    "- 单因素分析是指在一个时间点上，研究不同水平的某因素对一个独立变量变量的影响程度的分析"
   ]
  },
  {
   "cell_type": "code",
   "execution_count": 4,
   "id": "a2ffdb1e",
   "metadata": {
    "ExecuteTime": {
     "end_time": "2023-12-20T08:00:47.793877Z",
     "start_time": "2023-12-20T07:52:04.497Z"
    },
    "run_control": {
     "marked": true
    }
   },
   "outputs": [
    {
     "name": "stderr",
     "output_type": "stream",
     "text": [
      "Warning message in coxph.fit(X, Y, istrat, offset, init, control, weights = weights, :\n",
      "“Loglik converged before variable  1 ; coefficient may be infinite. ”\n"
     ]
    },
    {
     "data": {
      "text/html": [
       "<table class=\"dataframe\">\n",
       "<caption>A data.frame: 43 × 4</caption>\n",
       "<thead>\n",
       "\t<tr><th></th><th scope=col>beta</th><th scope=col>HR (95% CI for HR)</th><th scope=col>wald.test</th><th scope=col>p.value</th></tr>\n",
       "\t<tr><th></th><th scope=col>&lt;chr&gt;</th><th scope=col>&lt;chr&gt;</th><th scope=col>&lt;chr&gt;</th><th scope=col>&lt;chr&gt;</th></tr>\n",
       "</thead>\n",
       "<tbody>\n",
       "\t<tr><th scope=row>creatinine</th><td>0.28    </td><td>1.3 (1.2-1.5)        </td><td>17  </td><td>3.6e-05</td></tr>\n",
       "\t<tr><th scope=row>urineoutput</th><td>-0.00031</td><td>1 (1-1)              </td><td>29  </td><td>5.6e-08</td></tr>\n",
       "\t<tr><th scope=row>baseline_Scr</th><td>0.3     </td><td>1.4 (0.96-1.9)       </td><td>3   </td><td>0.082  </td></tr>\n",
       "\t<tr><th scope=row>colloid_bolus</th><td>7.7e-05 </td><td>1 (1-1)              </td><td>22  </td><td>2.9e-06</td></tr>\n",
       "\t<tr><th scope=row>sofa_norenal</th><td>0.18    </td><td>1.2 (1.2-1.2)        </td><td>190 </td><td>8.1e-44</td></tr>\n",
       "\t<tr><th scope=row>Congestive_heart_failure</th><td>0.64    </td><td>1.9 (0.9-4)          </td><td>2.8 </td><td>0.091  </td></tr>\n",
       "\t<tr><th scope=row>weight</th><td>-0.017  </td><td>0.98 (0.98-0.99)     </td><td>25  </td><td>5.6e-07</td></tr>\n",
       "\t<tr><th scope=row>age</th><td>0.019   </td><td>1 (1-1)              </td><td>37  </td><td>1.3e-09</td></tr>\n",
       "\t<tr><th scope=row>gender</th><td>-0.1    </td><td>0.9 (0.77-1.1)       </td><td>1.5 </td><td>0.22   </td></tr>\n",
       "\t<tr><th scope=row>height</th><td>-0.0093 </td><td>0.99 (0.98-1)        </td><td>4   </td><td>0.046  </td></tr>\n",
       "\t<tr><th scope=row>aniongap</th><td>0.058   </td><td>1.1 (1-1.1)          </td><td>28  </td><td>1e-07  </td></tr>\n",
       "\t<tr><th scope=row>pt</th><td>0.0074  </td><td>1 (1-1)              </td><td>20  </td><td>6.2e-06</td></tr>\n",
       "\t<tr><th scope=row>sbp</th><td>-0.024  </td><td>0.98 (0.97-0.98)     </td><td>61  </td><td>4.9e-15</td></tr>\n",
       "\t<tr><th scope=row>cum_fluidbance</th><td>8.7e-05 </td><td>1 (1-1)              </td><td>30  </td><td>5.4e-08</td></tr>\n",
       "\t<tr><th scope=row>baseexcess</th><td>0.018   </td><td>1 (1-1)              </td><td>3.6 </td><td>0.059  </td></tr>\n",
       "\t<tr><th scope=row>hemoglobin</th><td>0.036   </td><td>1 (1-1.1)            </td><td>8   </td><td>0.0048 </td></tr>\n",
       "\t<tr><th scope=row>fluidbance</th><td>8.7e-05 </td><td>1 (1-1)              </td><td>30  </td><td>5.4e-08</td></tr>\n",
       "\t<tr><th scope=row>gcs</th><td>-0.058  </td><td>0.94 (0.93-0.96)     </td><td>42  </td><td>8.8e-11</td></tr>\n",
       "\t<tr><th scope=row>mbp</th><td>-0.027  </td><td>0.97 (0.96-0.98)     </td><td>27  </td><td>1.8e-07</td></tr>\n",
       "\t<tr><th scope=row>potassium</th><td>0.49    </td><td>1.6 (1.3-2)          </td><td>24  </td><td>7.4e-07</td></tr>\n",
       "\t<tr><th scope=row>spo2</th><td>-0.086  </td><td>0.92 (0.88-0.95)     </td><td>21  </td><td>5.2e-06</td></tr>\n",
       "\t<tr><th scope=row>bicarbonate</th><td>-0.076  </td><td>0.93 (0.91-0.95)     </td><td>45  </td><td>2.2e-11</td></tr>\n",
       "\t<tr><th scope=row>sodium</th><td>0.0041  </td><td>1 (1-1)              </td><td>1.5 </td><td>0.22   </td></tr>\n",
       "\t<tr><th scope=row>temperature</th><td>-0.27   </td><td>0.76 (0.73-0.8)      </td><td>130 </td><td>7.9e-30</td></tr>\n",
       "\t<tr><th scope=row>po2</th><td>-0.0012 </td><td>1 (1-1)              </td><td>0.42</td><td>0.52   </td></tr>\n",
       "\t<tr><th scope=row>ptt</th><td>0.018   </td><td>1 (1-1)              </td><td>57  </td><td>5.1e-14</td></tr>\n",
       "\t<tr><th scope=row>glucose</th><td>0.0022  </td><td>1 (1-1)              </td><td>3.4 </td><td>0.066  </td></tr>\n",
       "\t<tr><th scope=row>pco2</th><td>-0.00023</td><td>1 (0.99-1)           </td><td>0   </td><td>0.97   </td></tr>\n",
       "\t<tr><th scope=row>chloride</th><td>-0.0072 </td><td>0.99 (0.98-1)        </td><td>1.1 </td><td>0.3    </td></tr>\n",
       "\t<tr><th scope=row>rbc</th><td>-0.027  </td><td>0.97 (0.93-1)        </td><td>1.2 </td><td>0.27   </td></tr>\n",
       "\t<tr><th scope=row>wbc</th><td>0.01    </td><td>1 (1-1)              </td><td>2.7 </td><td>0.1    </td></tr>\n",
       "\t<tr><th scope=row>ph</th><td>-5.4    </td><td>0.0045 (0.0014-0.014)</td><td>86  </td><td>1.8e-20</td></tr>\n",
       "\t<tr><th scope=row>mchc</th><td>-0.037  </td><td>0.96 (0.91-1)        </td><td>1.8 </td><td>0.18   </td></tr>\n",
       "\t<tr><th scope=row>mcv</th><td>-0.00021</td><td>1 (1-1)              </td><td>0.01</td><td>0.91   </td></tr>\n",
       "\t<tr><th scope=row>hematocrit</th><td>-0.016  </td><td>0.98 (0.97-1)        </td><td>4.2 </td><td>0.04   </td></tr>\n",
       "\t<tr><th scope=row>heart_rate</th><td>0.0048  </td><td>1 (1-1)              </td><td>4.3 </td><td>0.039  </td></tr>\n",
       "\t<tr><th scope=row>fio2</th><td>0.014   </td><td>1 (1-1)              </td><td>18  </td><td>2.6e-05</td></tr>\n",
       "\t<tr><th scope=row>resp_rate</th><td>0.046   </td><td>1 (1-1.1)            </td><td>27  </td><td>1.8e-07</td></tr>\n",
       "\t<tr><th scope=row>dbp</th><td>-0.017  </td><td>0.98 (0.97-0.99)     </td><td>11  </td><td>0.00085</td></tr>\n",
       "\t<tr><th scope=row>mch</th><td>-0.0071 </td><td>0.99 (0.96-1)        </td><td>0.17</td><td>0.68   </td></tr>\n",
       "\t<tr><th scope=row>lactate</th><td>0.17    </td><td>1.2 (1.2-1.2)        </td><td>140 </td><td>1.6e-31</td></tr>\n",
       "\t<tr><th scope=row>rdw</th><td>-0.0019 </td><td>1 (0.97-1)           </td><td>0.01</td><td>0.91   </td></tr>\n",
       "\t<tr><th scope=row>calcium</th><td>0.00029 </td><td>1 (0.99-1)           </td><td>0.01</td><td>0.93   </td></tr>\n",
       "</tbody>\n",
       "</table>\n"
      ],
      "text/latex": [
       "A data.frame: 43 × 4\n",
       "\\begin{tabular}{r|llll}\n",
       "  & beta & HR (95\\% CI for HR) & wald.test & p.value\\\\\n",
       "  & <chr> & <chr> & <chr> & <chr>\\\\\n",
       "\\hline\n",
       "\tcreatinine & 0.28     & 1.3 (1.2-1.5)         & 17   & 3.6e-05\\\\\n",
       "\turineoutput & -0.00031 & 1 (1-1)               & 29   & 5.6e-08\\\\\n",
       "\tbaseline\\_Scr & 0.3      & 1.4 (0.96-1.9)        & 3    & 0.082  \\\\\n",
       "\tcolloid\\_bolus & 7.7e-05  & 1 (1-1)               & 22   & 2.9e-06\\\\\n",
       "\tsofa\\_norenal & 0.18     & 1.2 (1.2-1.2)         & 190  & 8.1e-44\\\\\n",
       "\tCongestive\\_heart\\_failure & 0.64     & 1.9 (0.9-4)           & 2.8  & 0.091  \\\\\n",
       "\tweight & -0.017   & 0.98 (0.98-0.99)      & 25   & 5.6e-07\\\\\n",
       "\tage & 0.019    & 1 (1-1)               & 37   & 1.3e-09\\\\\n",
       "\tgender & -0.1     & 0.9 (0.77-1.1)        & 1.5  & 0.22   \\\\\n",
       "\theight & -0.0093  & 0.99 (0.98-1)         & 4    & 0.046  \\\\\n",
       "\taniongap & 0.058    & 1.1 (1-1.1)           & 28   & 1e-07  \\\\\n",
       "\tpt & 0.0074   & 1 (1-1)               & 20   & 6.2e-06\\\\\n",
       "\tsbp & -0.024   & 0.98 (0.97-0.98)      & 61   & 4.9e-15\\\\\n",
       "\tcum\\_fluidbance & 8.7e-05  & 1 (1-1)               & 30   & 5.4e-08\\\\\n",
       "\tbaseexcess & 0.018    & 1 (1-1)               & 3.6  & 0.059  \\\\\n",
       "\themoglobin & 0.036    & 1 (1-1.1)             & 8    & 0.0048 \\\\\n",
       "\tfluidbance & 8.7e-05  & 1 (1-1)               & 30   & 5.4e-08\\\\\n",
       "\tgcs & -0.058   & 0.94 (0.93-0.96)      & 42   & 8.8e-11\\\\\n",
       "\tmbp & -0.027   & 0.97 (0.96-0.98)      & 27   & 1.8e-07\\\\\n",
       "\tpotassium & 0.49     & 1.6 (1.3-2)           & 24   & 7.4e-07\\\\\n",
       "\tspo2 & -0.086   & 0.92 (0.88-0.95)      & 21   & 5.2e-06\\\\\n",
       "\tbicarbonate & -0.076   & 0.93 (0.91-0.95)      & 45   & 2.2e-11\\\\\n",
       "\tsodium & 0.0041   & 1 (1-1)               & 1.5  & 0.22   \\\\\n",
       "\ttemperature & -0.27    & 0.76 (0.73-0.8)       & 130  & 7.9e-30\\\\\n",
       "\tpo2 & -0.0012  & 1 (1-1)               & 0.42 & 0.52   \\\\\n",
       "\tptt & 0.018    & 1 (1-1)               & 57   & 5.1e-14\\\\\n",
       "\tglucose & 0.0022   & 1 (1-1)               & 3.4  & 0.066  \\\\\n",
       "\tpco2 & -0.00023 & 1 (0.99-1)            & 0    & 0.97   \\\\\n",
       "\tchloride & -0.0072  & 0.99 (0.98-1)         & 1.1  & 0.3    \\\\\n",
       "\trbc & -0.027   & 0.97 (0.93-1)         & 1.2  & 0.27   \\\\\n",
       "\twbc & 0.01     & 1 (1-1)               & 2.7  & 0.1    \\\\\n",
       "\tph & -5.4     & 0.0045 (0.0014-0.014) & 86   & 1.8e-20\\\\\n",
       "\tmchc & -0.037   & 0.96 (0.91-1)         & 1.8  & 0.18   \\\\\n",
       "\tmcv & -0.00021 & 1 (1-1)               & 0.01 & 0.91   \\\\\n",
       "\thematocrit & -0.016   & 0.98 (0.97-1)         & 4.2  & 0.04   \\\\\n",
       "\theart\\_rate & 0.0048   & 1 (1-1)               & 4.3  & 0.039  \\\\\n",
       "\tfio2 & 0.014    & 1 (1-1)               & 18   & 2.6e-05\\\\\n",
       "\tresp\\_rate & 0.046    & 1 (1-1.1)             & 27   & 1.8e-07\\\\\n",
       "\tdbp & -0.017   & 0.98 (0.97-0.99)      & 11   & 0.00085\\\\\n",
       "\tmch & -0.0071  & 0.99 (0.96-1)         & 0.17 & 0.68   \\\\\n",
       "\tlactate & 0.17     & 1.2 (1.2-1.2)         & 140  & 1.6e-31\\\\\n",
       "\trdw & -0.0019  & 1 (0.97-1)            & 0.01 & 0.91   \\\\\n",
       "\tcalcium & 0.00029  & 1 (0.99-1)            & 0.01 & 0.93   \\\\\n",
       "\\end{tabular}\n"
      ],
      "text/markdown": [
       "\n",
       "A data.frame: 43 × 4\n",
       "\n",
       "| <!--/--> | beta &lt;chr&gt; | HR (95% CI for HR) &lt;chr&gt; | wald.test &lt;chr&gt; | p.value &lt;chr&gt; |\n",
       "|---|---|---|---|---|\n",
       "| creatinine | 0.28     | 1.3 (1.2-1.5)         | 17   | 3.6e-05 |\n",
       "| urineoutput | -0.00031 | 1 (1-1)               | 29   | 5.6e-08 |\n",
       "| baseline_Scr | 0.3      | 1.4 (0.96-1.9)        | 3    | 0.082   |\n",
       "| colloid_bolus | 7.7e-05  | 1 (1-1)               | 22   | 2.9e-06 |\n",
       "| sofa_norenal | 0.18     | 1.2 (1.2-1.2)         | 190  | 8.1e-44 |\n",
       "| Congestive_heart_failure | 0.64     | 1.9 (0.9-4)           | 2.8  | 0.091   |\n",
       "| weight | -0.017   | 0.98 (0.98-0.99)      | 25   | 5.6e-07 |\n",
       "| age | 0.019    | 1 (1-1)               | 37   | 1.3e-09 |\n",
       "| gender | -0.1     | 0.9 (0.77-1.1)        | 1.5  | 0.22    |\n",
       "| height | -0.0093  | 0.99 (0.98-1)         | 4    | 0.046   |\n",
       "| aniongap | 0.058    | 1.1 (1-1.1)           | 28   | 1e-07   |\n",
       "| pt | 0.0074   | 1 (1-1)               | 20   | 6.2e-06 |\n",
       "| sbp | -0.024   | 0.98 (0.97-0.98)      | 61   | 4.9e-15 |\n",
       "| cum_fluidbance | 8.7e-05  | 1 (1-1)               | 30   | 5.4e-08 |\n",
       "| baseexcess | 0.018    | 1 (1-1)               | 3.6  | 0.059   |\n",
       "| hemoglobin | 0.036    | 1 (1-1.1)             | 8    | 0.0048  |\n",
       "| fluidbance | 8.7e-05  | 1 (1-1)               | 30   | 5.4e-08 |\n",
       "| gcs | -0.058   | 0.94 (0.93-0.96)      | 42   | 8.8e-11 |\n",
       "| mbp | -0.027   | 0.97 (0.96-0.98)      | 27   | 1.8e-07 |\n",
       "| potassium | 0.49     | 1.6 (1.3-2)           | 24   | 7.4e-07 |\n",
       "| spo2 | -0.086   | 0.92 (0.88-0.95)      | 21   | 5.2e-06 |\n",
       "| bicarbonate | -0.076   | 0.93 (0.91-0.95)      | 45   | 2.2e-11 |\n",
       "| sodium | 0.0041   | 1 (1-1)               | 1.5  | 0.22    |\n",
       "| temperature | -0.27    | 0.76 (0.73-0.8)       | 130  | 7.9e-30 |\n",
       "| po2 | -0.0012  | 1 (1-1)               | 0.42 | 0.52    |\n",
       "| ptt | 0.018    | 1 (1-1)               | 57   | 5.1e-14 |\n",
       "| glucose | 0.0022   | 1 (1-1)               | 3.4  | 0.066   |\n",
       "| pco2 | -0.00023 | 1 (0.99-1)            | 0    | 0.97    |\n",
       "| chloride | -0.0072  | 0.99 (0.98-1)         | 1.1  | 0.3     |\n",
       "| rbc | -0.027   | 0.97 (0.93-1)         | 1.2  | 0.27    |\n",
       "| wbc | 0.01     | 1 (1-1)               | 2.7  | 0.1     |\n",
       "| ph | -5.4     | 0.0045 (0.0014-0.014) | 86   | 1.8e-20 |\n",
       "| mchc | -0.037   | 0.96 (0.91-1)         | 1.8  | 0.18    |\n",
       "| mcv | -0.00021 | 1 (1-1)               | 0.01 | 0.91    |\n",
       "| hematocrit | -0.016   | 0.98 (0.97-1)         | 4.2  | 0.04    |\n",
       "| heart_rate | 0.0048   | 1 (1-1)               | 4.3  | 0.039   |\n",
       "| fio2 | 0.014    | 1 (1-1)               | 18   | 2.6e-05 |\n",
       "| resp_rate | 0.046    | 1 (1-1.1)             | 27   | 1.8e-07 |\n",
       "| dbp | -0.017   | 0.98 (0.97-0.99)      | 11   | 0.00085 |\n",
       "| mch | -0.0071  | 0.99 (0.96-1)         | 0.17 | 0.68    |\n",
       "| lactate | 0.17     | 1.2 (1.2-1.2)         | 140  | 1.6e-31 |\n",
       "| rdw | -0.0019  | 1 (0.97-1)            | 0.01 | 0.91    |\n",
       "| calcium | 0.00029  | 1 (0.99-1)            | 0.01 | 0.93    |\n",
       "\n"
      ],
      "text/plain": [
       "                         beta     HR (95% CI for HR)    wald.test p.value\n",
       "creatinine               0.28     1.3 (1.2-1.5)         17        3.6e-05\n",
       "urineoutput              -0.00031 1 (1-1)               29        5.6e-08\n",
       "baseline_Scr             0.3      1.4 (0.96-1.9)        3         0.082  \n",
       "colloid_bolus            7.7e-05  1 (1-1)               22        2.9e-06\n",
       "sofa_norenal             0.18     1.2 (1.2-1.2)         190       8.1e-44\n",
       "Congestive_heart_failure 0.64     1.9 (0.9-4)           2.8       0.091  \n",
       "weight                   -0.017   0.98 (0.98-0.99)      25        5.6e-07\n",
       "age                      0.019    1 (1-1)               37        1.3e-09\n",
       "gender                   -0.1     0.9 (0.77-1.1)        1.5       0.22   \n",
       "height                   -0.0093  0.99 (0.98-1)         4         0.046  \n",
       "aniongap                 0.058    1.1 (1-1.1)           28        1e-07  \n",
       "pt                       0.0074   1 (1-1)               20        6.2e-06\n",
       "sbp                      -0.024   0.98 (0.97-0.98)      61        4.9e-15\n",
       "cum_fluidbance           8.7e-05  1 (1-1)               30        5.4e-08\n",
       "baseexcess               0.018    1 (1-1)               3.6       0.059  \n",
       "hemoglobin               0.036    1 (1-1.1)             8         0.0048 \n",
       "fluidbance               8.7e-05  1 (1-1)               30        5.4e-08\n",
       "gcs                      -0.058   0.94 (0.93-0.96)      42        8.8e-11\n",
       "mbp                      -0.027   0.97 (0.96-0.98)      27        1.8e-07\n",
       "potassium                0.49     1.6 (1.3-2)           24        7.4e-07\n",
       "spo2                     -0.086   0.92 (0.88-0.95)      21        5.2e-06\n",
       "bicarbonate              -0.076   0.93 (0.91-0.95)      45        2.2e-11\n",
       "sodium                   0.0041   1 (1-1)               1.5       0.22   \n",
       "temperature              -0.27    0.76 (0.73-0.8)       130       7.9e-30\n",
       "po2                      -0.0012  1 (1-1)               0.42      0.52   \n",
       "ptt                      0.018    1 (1-1)               57        5.1e-14\n",
       "glucose                  0.0022   1 (1-1)               3.4       0.066  \n",
       "pco2                     -0.00023 1 (0.99-1)            0         0.97   \n",
       "chloride                 -0.0072  0.99 (0.98-1)         1.1       0.3    \n",
       "rbc                      -0.027   0.97 (0.93-1)         1.2       0.27   \n",
       "wbc                      0.01     1 (1-1)               2.7       0.1    \n",
       "ph                       -5.4     0.0045 (0.0014-0.014) 86        1.8e-20\n",
       "mchc                     -0.037   0.96 (0.91-1)         1.8       0.18   \n",
       "mcv                      -0.00021 1 (1-1)               0.01      0.91   \n",
       "hematocrit               -0.016   0.98 (0.97-1)         4.2       0.04   \n",
       "heart_rate               0.0048   1 (1-1)               4.3       0.039  \n",
       "fio2                     0.014    1 (1-1)               18        2.6e-05\n",
       "resp_rate                0.046    1 (1-1.1)             27        1.8e-07\n",
       "dbp                      -0.017   0.98 (0.97-0.99)      11        0.00085\n",
       "mch                      -0.0071  0.99 (0.96-1)         0.17      0.68   \n",
       "lactate                  0.17     1.2 (1.2-1.2)         140       1.6e-31\n",
       "rdw                      -0.0019  1 (0.97-1)            0.01      0.91   \n",
       "calcium                  0.00029  1 (0.99-1)            0.01      0.93   "
      ]
     },
     "metadata": {},
     "output_type": "display_data"
    }
   ],
   "source": [
    "# 协变量设定：\n",
    "# demo\n",
    "# 器官障碍：肾脏，其他器官\n",
    "covariates <- c('creatinine', 'urineoutput', 'baseline_Scr',\n",
    "       'colloid_bolus', 'sofa_norenal', 'Congestive_heart_failure', 'weight',\n",
    "       'age', 'gender', 'height',\n",
    "       'aniongap', 'pt', 'sbp',  'cum_fluidbance',  \n",
    "       'baseexcess', 'hemoglobin', \n",
    "       'fluidbance',  'gcs', 'mbp', 'potassium', 'spo2',\n",
    "        'bicarbonate', 'sodium',\n",
    "       'temperature',  'po2', 'ptt', 'glucose', 'pco2', 'chloride',\n",
    "       'rbc', 'wbc', 'ph', 'mchc', 'mcv', 'hematocrit',\n",
    "         'heart_rate', 'fio2',\n",
    "       'resp_rate',  'dbp', 'mch', \n",
    "       'lactate', 'rdw', 'calcium' \n",
    "          #       'respiration_sofa', 'cardiovascular_sofa','cns_sofa','coagulation_sofa','liver_sofa', 'renal_sofa', 'sofa',\n",
    "                )\n",
    "\n",
    "# 得到一个列表分别为，对每个变量构建的生存对象公式\n",
    "univ_formulas <- sapply(covariates,function(x) as.formula(paste('Surv(survival_28day, mortality_28d)~', x)))\n",
    "\n",
    "univ_models <- lapply( univ_formulas, function(x){coxph(x, data = df_select)})\n",
    "\n",
    "# 结果总和\n",
    "univ_results <- lapply(univ_models,\n",
    "                       function(x){ \n",
    "                          x <- summary(x)\n",
    "                          p.value<-signif(x$wald[\"pvalue\"], digits=2)\n",
    "                          wald.test<-signif(x$wald[\"test\"], digits=2)\n",
    "                          beta<-signif(x$coef[1], digits=2);#coeficient beta\n",
    "                          HR <-signif(x$coef[2], digits=2);#exp(beta)\n",
    "                          HR.confint.lower <- signif(x$conf.int[,\"lower .95\"],2)\n",
    "                          HR.confint.upper <- signif(x$conf.int[,\"upper .95\"],2)\n",
    "                          HR <- paste0(HR, \" (\", \n",
    "                                       HR.confint.lower, \"-\", HR.confint.upper, \")\")\n",
    "                          res<-c(beta, HR, wald.test, p.value)\n",
    "                          names(res)<-c(\"beta\", \"HR (95% CI for HR)\",\"wald.test\", \"p.value\")\n",
    "                          return(res)\n",
    "                          #return(exp(cbind(coef(x),confint(x))))\n",
    "                         })\n",
    "res <- t(as.data.frame(univ_results, check.names = FALSE))\n",
    "res <- as.data.frame(res)\n",
    "res"
   ]
  },
  {
   "cell_type": "markdown",
   "id": "04f3aece",
   "metadata": {},
   "source": [
    "## p值为0.05 筛选协变量"
   ]
  },
  {
   "cell_type": "code",
   "execution_count": 5,
   "id": "63cb03a3",
   "metadata": {
    "ExecuteTime": {
     "end_time": "2023-12-20T08:00:47.815750Z",
     "start_time": "2023-12-20T07:52:04.500Z"
    }
   },
   "outputs": [
    {
     "name": "stdout",
     "output_type": "stream",
     "text": [
      "[1] \"总变量数：43\"\n",
      "[1] \"p值筛选后的变量数：27\"\n"
     ]
    },
    {
     "data": {
      "text/html": [
       "'Surv(survival_28day, mortality_28d) ~ + creatinine + urineoutput + colloid_bolus + sofa_norenal + weight + age + height + aniongap + pt + sbp + cum_fluidbance + hemoglobin + fluidbance + gcs + mbp + potassium + spo2 + bicarbonate + temperature + ptt + ph + hematocrit + heart_rate + fio2 + resp_rate + dbp + lactate'"
      ],
      "text/latex": [
       "'Surv(survival\\_28day, mortality\\_28d) \\textasciitilde{} + creatinine + urineoutput + colloid\\_bolus + sofa\\_norenal + weight + age + height + aniongap + pt + sbp + cum\\_fluidbance + hemoglobin + fluidbance + gcs + mbp + potassium + spo2 + bicarbonate + temperature + ptt + ph + hematocrit + heart\\_rate + fio2 + resp\\_rate + dbp + lactate'"
      ],
      "text/markdown": [
       "'Surv(survival_28day, mortality_28d) ~ + creatinine + urineoutput + colloid_bolus + sofa_norenal + weight + age + height + aniongap + pt + sbp + cum_fluidbance + hemoglobin + fluidbance + gcs + mbp + potassium + spo2 + bicarbonate + temperature + ptt + ph + hematocrit + heart_rate + fio2 + resp_rate + dbp + lactate'"
      ],
      "text/plain": [
       "[1] \"Surv(survival_28day, mortality_28d) ~ + creatinine + urineoutput + colloid_bolus + sofa_norenal + weight + age + height + aniongap + pt + sbp + cum_fluidbance + hemoglobin + fluidbance + gcs + mbp + potassium + spo2 + bicarbonate + temperature + ptt + ph + hematocrit + heart_rate + fio2 + resp_rate + dbp + lactate\""
      ]
     },
     "metadata": {},
     "output_type": "display_data"
    }
   ],
   "source": [
    "res$p.value <- as.numeric(res$p.value)\n",
    "print(paste0(\"总变量数：\",dim(res)[1]))\n",
    "print(paste0(\"p值筛选后的变量数：\",dim(res[res$p.value <= Pvalue_cut,])[1]))\n",
    "\n",
    "resstr <- paste(rownames(res[res$p.value <= Pvalue_cut,]), collapse = \" + \")\n",
    "resstr <- paste(\"Surv(survival_28day, mortality_28d) ~ +\", resstr)\n",
    "resstr"
   ]
  },
  {
   "cell_type": "markdown",
   "id": "91cf98a7",
   "metadata": {},
   "source": [
    "# 多因素\n",
    "- 多因素分析是对一个独立变量是否受一个或多个因素或变量影响而进行的分析。"
   ]
  },
  {
   "cell_type": "code",
   "execution_count": 6,
   "id": "a87ad36b",
   "metadata": {
    "ExecuteTime": {
     "end_time": "2023-12-20T08:00:47.866624Z",
     "start_time": "2023-12-20T07:52:04.501Z"
    }
   },
   "outputs": [
    {
     "data": {
      "text/plain": [
       "Call:\n",
       "coxph(formula = as.formula(resstr), data = df_select)\n",
       "\n",
       "  n= 2183, number of events= 545 \n",
       "\n",
       "                     coef  exp(coef)   se(coef)      z Pr(>|z|)    \n",
       "creatinine     -1.476e-01  8.628e-01  9.488e-02 -1.555 0.119860    \n",
       "urineoutput    -1.821e-04  9.998e-01  1.148e-04 -1.586 0.112644    \n",
       "colloid_bolus   8.526e-05  1.000e+00  9.762e-05  0.873 0.382436    \n",
       "sofa_norenal    1.334e-01  1.143e+00  1.613e-02  8.270  < 2e-16 ***\n",
       "weight         -1.571e-02  9.844e-01  4.149e-03 -3.787 0.000152 ***\n",
       "age             2.491e-02  1.025e+00  3.395e-03  7.335 2.21e-13 ***\n",
       "height          1.078e-02  1.011e+00  5.792e-03  1.861 0.062736 .  \n",
       "aniongap        3.996e-03  1.004e+00  1.279e-02  0.313 0.754654    \n",
       "pt              4.727e-03  1.005e+00  3.439e-03  1.374 0.169320    \n",
       "sbp            -7.564e-03  9.925e-01  5.228e-03 -1.447 0.147960    \n",
       "cum_fluidbance -1.064e-04  9.999e-01  1.002e-04 -1.062 0.288307    \n",
       "hemoglobin      3.057e-02  1.031e+00  1.715e-02  1.783 0.074628 .  \n",
       "fluidbance             NA         NA  0.000e+00     NA       NA    \n",
       "gcs            -3.932e-02  9.614e-01  9.301e-03 -4.227 2.37e-05 ***\n",
       "mbp             1.445e-02  1.015e+00  1.362e-02  1.061 0.288529    \n",
       "potassium       4.690e-01  1.598e+00  1.103e-01  4.254 2.10e-05 ***\n",
       "spo2           -6.264e-03  9.938e-01  2.411e-02 -0.260 0.794988    \n",
       "bicarbonate     4.837e-02  1.050e+00  1.456e-02  3.323 0.000891 ***\n",
       "temperature    -2.457e-01  7.822e-01  3.783e-02 -6.495 8.33e-11 ***\n",
       "ptt             2.102e-03  1.002e+00  2.938e-03  0.715 0.474496    \n",
       "ph             -6.262e-01  5.346e-01  8.241e-01 -0.760 0.447359    \n",
       "hematocrit     -1.647e-02  9.837e-01  7.871e-03 -2.093 0.036382 *  \n",
       "heart_rate      1.238e-02  1.012e+00  3.101e-03  3.992 6.54e-05 ***\n",
       "fio2           -4.356e-03  9.957e-01  4.257e-03 -1.023 0.306197    \n",
       "resp_rate       2.177e-02  1.022e+00  1.069e-02  2.037 0.041660 *  \n",
       "dbp            -7.523e-03  9.925e-01  1.037e-02 -0.726 0.468006    \n",
       "lactate         1.008e-01  1.106e+00  1.994e-02  5.057 4.26e-07 ***\n",
       "---\n",
       "Signif. codes:  0 ‘***’ 0.001 ‘**’ 0.01 ‘*’ 0.05 ‘.’ 0.1 ‘ ’ 1\n",
       "\n",
       "               exp(coef) exp(-coef) lower .95 upper .95\n",
       "creatinine        0.8628     1.1590    0.7164    1.0391\n",
       "urineoutput       0.9998     1.0002    0.9996    1.0000\n",
       "colloid_bolus     1.0001     0.9999    0.9999    1.0003\n",
       "sofa_norenal      1.1427     0.8751    1.1071    1.1794\n",
       "weight            0.9844     1.0158    0.9764    0.9924\n",
       "age               1.0252     0.9754    1.0184    1.0321\n",
       "height            1.0108     0.9893    0.9994    1.0224\n",
       "aniongap          1.0040     0.9960    0.9792    1.0295\n",
       "pt                1.0047     0.9953    0.9980    1.0115\n",
       "sbp               0.9925     1.0076    0.9823    1.0027\n",
       "cum_fluidbance    0.9999     1.0001    0.9997    1.0001\n",
       "hemoglobin        1.0310     0.9699    0.9970    1.0663\n",
       "fluidbance            NA         NA        NA        NA\n",
       "gcs               0.9614     1.0401    0.9441    0.9791\n",
       "mbp               1.0146     0.9856    0.9878    1.0420\n",
       "potassium         1.5984     0.6256    1.2878    1.9841\n",
       "spo2              0.9938     1.0063    0.9479    1.0418\n",
       "bicarbonate       1.0496     0.9528    1.0200    1.0799\n",
       "temperature       0.7822     1.2785    0.7263    0.8424\n",
       "ptt               1.0021     0.9979    0.9963    1.0079\n",
       "ph                0.5346     1.8705    0.1063    2.6887\n",
       "hematocrit        0.9837     1.0166    0.9686    0.9990\n",
       "heart_rate        1.0125     0.9877    1.0063    1.0186\n",
       "fio2              0.9957     1.0044    0.9874    1.0040\n",
       "resp_rate         1.0220     0.9785    1.0008    1.0436\n",
       "dbp               0.9925     1.0076    0.9725    1.0129\n",
       "lactate           1.1061     0.9041    1.0637    1.1501\n",
       "\n",
       "Concordance= 0.765  (se = 0.011 )\n",
       "Likelihood ratio test= 449.2  on 26 df,   p=<2e-16\n",
       "Wald test            = 462.6  on 26 df,   p=<2e-16\n",
       "Score (logrank) test = 493.4  on 26 df,   p=<2e-16\n"
      ]
     },
     "metadata": {},
     "output_type": "display_data"
    }
   ],
   "source": [
    "res.cox <- coxph(as.formula(resstr), data = df_select)\n",
    "summary(res.cox)"
   ]
  },
  {
   "cell_type": "code",
   "execution_count": 7,
   "id": "d98f3fd1",
   "metadata": {
    "ExecuteTime": {
     "end_time": "2023-12-20T08:00:47.952366Z",
     "start_time": "2023-12-20T07:52:04.504Z"
    }
   },
   "outputs": [
    {
     "name": "stderr",
     "output_type": "stream",
     "text": [
      "Warning message in eval(expr, envir, enclos):\n",
      "“NAs introduced by coercion”\n"
     ]
    },
    {
     "data": {
      "text/html": [
       "<table class=\"dataframe\">\n",
       "<caption>A data.frame: 27 × 6</caption>\n",
       "<thead>\n",
       "\t<tr><th></th><th scope=col>Variable</th><th scope=col>HR</th><th scope=col>CI5</th><th scope=col>CI95</th><th scope=col>HR (95% CI)</th><th scope=col>Pvalue</th></tr>\n",
       "\t<tr><th></th><th scope=col>&lt;chr&gt;</th><th scope=col>&lt;dbl&gt;</th><th scope=col>&lt;dbl&gt;</th><th scope=col>&lt;dbl&gt;</th><th scope=col>&lt;chr&gt;</th><th scope=col>&lt;dbl&gt;</th></tr>\n",
       "</thead>\n",
       "<tbody>\n",
       "\t<tr><th scope=row>creatinine</th><td>creatinine    </td><td>0.86</td><td>0.72</td><td>1.04</td><td>0.86 (0.72-1.04)</td><td>1.20e-01</td></tr>\n",
       "\t<tr><th scope=row>urineoutput</th><td>urineoutput   </td><td>1.00</td><td>1.00</td><td>1.00</td><td>1 (1-1)         </td><td>1.13e-01</td></tr>\n",
       "\t<tr><th scope=row>colloid_bolus</th><td>colloid_bolus </td><td>1.00</td><td>1.00</td><td>1.00</td><td>1 (1-1)         </td><td>3.82e-01</td></tr>\n",
       "\t<tr><th scope=row>sofa_norenal</th><td>sofa_norenal  </td><td>1.14</td><td>1.11</td><td>1.18</td><td>1.14 (1.11-1.18)</td><td>1.34e-16</td></tr>\n",
       "\t<tr><th scope=row>weight</th><td>weight        </td><td>0.98</td><td>0.98</td><td>0.99</td><td>0.98 (0.98-0.99)</td><td>1.52e-04</td></tr>\n",
       "\t<tr><th scope=row>age</th><td>age           </td><td>1.03</td><td>1.02</td><td>1.03</td><td>1.03 (1.02-1.03)</td><td>2.21e-13</td></tr>\n",
       "\t<tr><th scope=row>height</th><td>height        </td><td>1.01</td><td>1.00</td><td>1.02</td><td>1.01 (1-1.02)   </td><td>6.27e-02</td></tr>\n",
       "\t<tr><th scope=row>aniongap</th><td>aniongap      </td><td>1.00</td><td>0.98</td><td>1.03</td><td>1 (0.98-1.03)   </td><td>7.55e-01</td></tr>\n",
       "\t<tr><th scope=row>pt</th><td>pt            </td><td>1.00</td><td>1.00</td><td>1.01</td><td>1 (1-1.01)      </td><td>1.69e-01</td></tr>\n",
       "\t<tr><th scope=row>sbp</th><td>sbp           </td><td>0.99</td><td>0.98</td><td>1.00</td><td>0.99 (0.98-1)   </td><td>1.48e-01</td></tr>\n",
       "\t<tr><th scope=row>cum_fluidbance</th><td>cum_fluidbance</td><td>1.00</td><td>1.00</td><td>1.00</td><td>1 (1-1)         </td><td>2.88e-01</td></tr>\n",
       "\t<tr><th scope=row>hemoglobin</th><td>hemoglobin    </td><td>1.03</td><td>1.00</td><td>1.07</td><td>1.03 (1-1.07)   </td><td>7.46e-02</td></tr>\n",
       "\t<tr><th scope=row>fluidbance</th><td>fluidbance    </td><td>  NA</td><td>  NA</td><td>  NA</td><td>NA (NA-NA)      </td><td>      NA</td></tr>\n",
       "\t<tr><th scope=row>gcs</th><td>gcs           </td><td>0.96</td><td>0.94</td><td>0.98</td><td>0.96 (0.94-0.98)</td><td>2.37e-05</td></tr>\n",
       "\t<tr><th scope=row>mbp</th><td>mbp           </td><td>1.01</td><td>0.99</td><td>1.04</td><td>1.01 (0.99-1.04)</td><td>2.89e-01</td></tr>\n",
       "\t<tr><th scope=row>potassium</th><td>potassium     </td><td>1.60</td><td>1.29</td><td>1.98</td><td>1.6 (1.29-1.98) </td><td>2.10e-05</td></tr>\n",
       "\t<tr><th scope=row>spo2</th><td>spo2          </td><td>0.99</td><td>0.95</td><td>1.04</td><td>0.99 (0.95-1.04)</td><td>7.95e-01</td></tr>\n",
       "\t<tr><th scope=row>bicarbonate</th><td>bicarbonate   </td><td>1.05</td><td>1.02</td><td>1.08</td><td>1.05 (1.02-1.08)</td><td>8.91e-04</td></tr>\n",
       "\t<tr><th scope=row>temperature</th><td>temperature   </td><td>0.78</td><td>0.73</td><td>0.84</td><td>0.78 (0.73-0.84)</td><td>8.33e-11</td></tr>\n",
       "\t<tr><th scope=row>ptt</th><td>ptt           </td><td>1.00</td><td>1.00</td><td>1.01</td><td>1 (1-1.01)      </td><td>4.74e-01</td></tr>\n",
       "\t<tr><th scope=row>ph</th><td>ph            </td><td>0.53</td><td>0.11</td><td>2.69</td><td>0.53 (0.11-2.69)</td><td>4.47e-01</td></tr>\n",
       "\t<tr><th scope=row>hematocrit</th><td>hematocrit    </td><td>0.98</td><td>0.97</td><td>1.00</td><td>0.98 (0.97-1)   </td><td>3.64e-02</td></tr>\n",
       "\t<tr><th scope=row>heart_rate</th><td>heart_rate    </td><td>1.01</td><td>1.01</td><td>1.02</td><td>1.01 (1.01-1.02)</td><td>6.54e-05</td></tr>\n",
       "\t<tr><th scope=row>fio2</th><td>fio2          </td><td>1.00</td><td>0.99</td><td>1.00</td><td>1 (0.99-1)      </td><td>3.06e-01</td></tr>\n",
       "\t<tr><th scope=row>resp_rate</th><td>resp_rate     </td><td>1.02</td><td>1.00</td><td>1.04</td><td>1.02 (1-1.04)   </td><td>4.17e-02</td></tr>\n",
       "\t<tr><th scope=row>dbp</th><td>dbp           </td><td>0.99</td><td>0.97</td><td>1.01</td><td>0.99 (0.97-1.01)</td><td>4.68e-01</td></tr>\n",
       "\t<tr><th scope=row>lactate</th><td>lactate       </td><td>1.11</td><td>1.06</td><td>1.15</td><td>1.11 (1.06-1.15)</td><td>4.26e-07</td></tr>\n",
       "</tbody>\n",
       "</table>\n"
      ],
      "text/latex": [
       "A data.frame: 27 × 6\n",
       "\\begin{tabular}{r|llllll}\n",
       "  & Variable & HR & CI5 & CI95 & HR (95\\% CI) & Pvalue\\\\\n",
       "  & <chr> & <dbl> & <dbl> & <dbl> & <chr> & <dbl>\\\\\n",
       "\\hline\n",
       "\tcreatinine & creatinine     & 0.86 & 0.72 & 1.04 & 0.86 (0.72-1.04) & 1.20e-01\\\\\n",
       "\turineoutput & urineoutput    & 1.00 & 1.00 & 1.00 & 1 (1-1)          & 1.13e-01\\\\\n",
       "\tcolloid\\_bolus & colloid\\_bolus  & 1.00 & 1.00 & 1.00 & 1 (1-1)          & 3.82e-01\\\\\n",
       "\tsofa\\_norenal & sofa\\_norenal   & 1.14 & 1.11 & 1.18 & 1.14 (1.11-1.18) & 1.34e-16\\\\\n",
       "\tweight & weight         & 0.98 & 0.98 & 0.99 & 0.98 (0.98-0.99) & 1.52e-04\\\\\n",
       "\tage & age            & 1.03 & 1.02 & 1.03 & 1.03 (1.02-1.03) & 2.21e-13\\\\\n",
       "\theight & height         & 1.01 & 1.00 & 1.02 & 1.01 (1-1.02)    & 6.27e-02\\\\\n",
       "\taniongap & aniongap       & 1.00 & 0.98 & 1.03 & 1 (0.98-1.03)    & 7.55e-01\\\\\n",
       "\tpt & pt             & 1.00 & 1.00 & 1.01 & 1 (1-1.01)       & 1.69e-01\\\\\n",
       "\tsbp & sbp            & 0.99 & 0.98 & 1.00 & 0.99 (0.98-1)    & 1.48e-01\\\\\n",
       "\tcum\\_fluidbance & cum\\_fluidbance & 1.00 & 1.00 & 1.00 & 1 (1-1)          & 2.88e-01\\\\\n",
       "\themoglobin & hemoglobin     & 1.03 & 1.00 & 1.07 & 1.03 (1-1.07)    & 7.46e-02\\\\\n",
       "\tfluidbance & fluidbance     &   NA &   NA &   NA & NA (NA-NA)       &       NA\\\\\n",
       "\tgcs & gcs            & 0.96 & 0.94 & 0.98 & 0.96 (0.94-0.98) & 2.37e-05\\\\\n",
       "\tmbp & mbp            & 1.01 & 0.99 & 1.04 & 1.01 (0.99-1.04) & 2.89e-01\\\\\n",
       "\tpotassium & potassium      & 1.60 & 1.29 & 1.98 & 1.6 (1.29-1.98)  & 2.10e-05\\\\\n",
       "\tspo2 & spo2           & 0.99 & 0.95 & 1.04 & 0.99 (0.95-1.04) & 7.95e-01\\\\\n",
       "\tbicarbonate & bicarbonate    & 1.05 & 1.02 & 1.08 & 1.05 (1.02-1.08) & 8.91e-04\\\\\n",
       "\ttemperature & temperature    & 0.78 & 0.73 & 0.84 & 0.78 (0.73-0.84) & 8.33e-11\\\\\n",
       "\tptt & ptt            & 1.00 & 1.00 & 1.01 & 1 (1-1.01)       & 4.74e-01\\\\\n",
       "\tph & ph             & 0.53 & 0.11 & 2.69 & 0.53 (0.11-2.69) & 4.47e-01\\\\\n",
       "\thematocrit & hematocrit     & 0.98 & 0.97 & 1.00 & 0.98 (0.97-1)    & 3.64e-02\\\\\n",
       "\theart\\_rate & heart\\_rate     & 1.01 & 1.01 & 1.02 & 1.01 (1.01-1.02) & 6.54e-05\\\\\n",
       "\tfio2 & fio2           & 1.00 & 0.99 & 1.00 & 1 (0.99-1)       & 3.06e-01\\\\\n",
       "\tresp\\_rate & resp\\_rate      & 1.02 & 1.00 & 1.04 & 1.02 (1-1.04)    & 4.17e-02\\\\\n",
       "\tdbp & dbp            & 0.99 & 0.97 & 1.01 & 0.99 (0.97-1.01) & 4.68e-01\\\\\n",
       "\tlactate & lactate        & 1.11 & 1.06 & 1.15 & 1.11 (1.06-1.15) & 4.26e-07\\\\\n",
       "\\end{tabular}\n"
      ],
      "text/markdown": [
       "\n",
       "A data.frame: 27 × 6\n",
       "\n",
       "| <!--/--> | Variable &lt;chr&gt; | HR &lt;dbl&gt; | CI5 &lt;dbl&gt; | CI95 &lt;dbl&gt; | HR (95% CI) &lt;chr&gt; | Pvalue &lt;dbl&gt; |\n",
       "|---|---|---|---|---|---|---|\n",
       "| creatinine | creatinine     | 0.86 | 0.72 | 1.04 | 0.86 (0.72-1.04) | 1.20e-01 |\n",
       "| urineoutput | urineoutput    | 1.00 | 1.00 | 1.00 | 1 (1-1)          | 1.13e-01 |\n",
       "| colloid_bolus | colloid_bolus  | 1.00 | 1.00 | 1.00 | 1 (1-1)          | 3.82e-01 |\n",
       "| sofa_norenal | sofa_norenal   | 1.14 | 1.11 | 1.18 | 1.14 (1.11-1.18) | 1.34e-16 |\n",
       "| weight | weight         | 0.98 | 0.98 | 0.99 | 0.98 (0.98-0.99) | 1.52e-04 |\n",
       "| age | age            | 1.03 | 1.02 | 1.03 | 1.03 (1.02-1.03) | 2.21e-13 |\n",
       "| height | height         | 1.01 | 1.00 | 1.02 | 1.01 (1-1.02)    | 6.27e-02 |\n",
       "| aniongap | aniongap       | 1.00 | 0.98 | 1.03 | 1 (0.98-1.03)    | 7.55e-01 |\n",
       "| pt | pt             | 1.00 | 1.00 | 1.01 | 1 (1-1.01)       | 1.69e-01 |\n",
       "| sbp | sbp            | 0.99 | 0.98 | 1.00 | 0.99 (0.98-1)    | 1.48e-01 |\n",
       "| cum_fluidbance | cum_fluidbance | 1.00 | 1.00 | 1.00 | 1 (1-1)          | 2.88e-01 |\n",
       "| hemoglobin | hemoglobin     | 1.03 | 1.00 | 1.07 | 1.03 (1-1.07)    | 7.46e-02 |\n",
       "| fluidbance | fluidbance     |   NA |   NA |   NA | NA (NA-NA)       |       NA |\n",
       "| gcs | gcs            | 0.96 | 0.94 | 0.98 | 0.96 (0.94-0.98) | 2.37e-05 |\n",
       "| mbp | mbp            | 1.01 | 0.99 | 1.04 | 1.01 (0.99-1.04) | 2.89e-01 |\n",
       "| potassium | potassium      | 1.60 | 1.29 | 1.98 | 1.6 (1.29-1.98)  | 2.10e-05 |\n",
       "| spo2 | spo2           | 0.99 | 0.95 | 1.04 | 0.99 (0.95-1.04) | 7.95e-01 |\n",
       "| bicarbonate | bicarbonate    | 1.05 | 1.02 | 1.08 | 1.05 (1.02-1.08) | 8.91e-04 |\n",
       "| temperature | temperature    | 0.78 | 0.73 | 0.84 | 0.78 (0.73-0.84) | 8.33e-11 |\n",
       "| ptt | ptt            | 1.00 | 1.00 | 1.01 | 1 (1-1.01)       | 4.74e-01 |\n",
       "| ph | ph             | 0.53 | 0.11 | 2.69 | 0.53 (0.11-2.69) | 4.47e-01 |\n",
       "| hematocrit | hematocrit     | 0.98 | 0.97 | 1.00 | 0.98 (0.97-1)    | 3.64e-02 |\n",
       "| heart_rate | heart_rate     | 1.01 | 1.01 | 1.02 | 1.01 (1.01-1.02) | 6.54e-05 |\n",
       "| fio2 | fio2           | 1.00 | 0.99 | 1.00 | 1 (0.99-1)       | 3.06e-01 |\n",
       "| resp_rate | resp_rate      | 1.02 | 1.00 | 1.04 | 1.02 (1-1.04)    | 4.17e-02 |\n",
       "| dbp | dbp            | 0.99 | 0.97 | 1.01 | 0.99 (0.97-1.01) | 4.68e-01 |\n",
       "| lactate | lactate        | 1.11 | 1.06 | 1.15 | 1.11 (1.06-1.15) | 4.26e-07 |\n",
       "\n"
      ],
      "text/plain": [
       "               Variable       HR   CI5  CI95 HR (95% CI)      Pvalue  \n",
       "creatinine     creatinine     0.86 0.72 1.04 0.86 (0.72-1.04) 1.20e-01\n",
       "urineoutput    urineoutput    1.00 1.00 1.00 1 (1-1)          1.13e-01\n",
       "colloid_bolus  colloid_bolus  1.00 1.00 1.00 1 (1-1)          3.82e-01\n",
       "sofa_norenal   sofa_norenal   1.14 1.11 1.18 1.14 (1.11-1.18) 1.34e-16\n",
       "weight         weight         0.98 0.98 0.99 0.98 (0.98-0.99) 1.52e-04\n",
       "age            age            1.03 1.02 1.03 1.03 (1.02-1.03) 2.21e-13\n",
       "height         height         1.01 1.00 1.02 1.01 (1-1.02)    6.27e-02\n",
       "aniongap       aniongap       1.00 0.98 1.03 1 (0.98-1.03)    7.55e-01\n",
       "pt             pt             1.00 1.00 1.01 1 (1-1.01)       1.69e-01\n",
       "sbp            sbp            0.99 0.98 1.00 0.99 (0.98-1)    1.48e-01\n",
       "cum_fluidbance cum_fluidbance 1.00 1.00 1.00 1 (1-1)          2.88e-01\n",
       "hemoglobin     hemoglobin     1.03 1.00 1.07 1.03 (1-1.07)    7.46e-02\n",
       "fluidbance     fluidbance       NA   NA   NA NA (NA-NA)             NA\n",
       "gcs            gcs            0.96 0.94 0.98 0.96 (0.94-0.98) 2.37e-05\n",
       "mbp            mbp            1.01 0.99 1.04 1.01 (0.99-1.04) 2.89e-01\n",
       "potassium      potassium      1.60 1.29 1.98 1.6 (1.29-1.98)  2.10e-05\n",
       "spo2           spo2           0.99 0.95 1.04 0.99 (0.95-1.04) 7.95e-01\n",
       "bicarbonate    bicarbonate    1.05 1.02 1.08 1.05 (1.02-1.08) 8.91e-04\n",
       "temperature    temperature    0.78 0.73 0.84 0.78 (0.73-0.84) 8.33e-11\n",
       "ptt            ptt            1.00 1.00 1.01 1 (1-1.01)       4.74e-01\n",
       "ph             ph             0.53 0.11 2.69 0.53 (0.11-2.69) 4.47e-01\n",
       "hematocrit     hematocrit     0.98 0.97 1.00 0.98 (0.97-1)    3.64e-02\n",
       "heart_rate     heart_rate     1.01 1.01 1.02 1.01 (1.01-1.02) 6.54e-05\n",
       "fio2           fio2           1.00 0.99 1.00 1 (0.99-1)       3.06e-01\n",
       "resp_rate      resp_rate      1.02 1.00 1.04 1.02 (1-1.04)    4.17e-02\n",
       "dbp            dbp            0.99 0.97 1.01 0.99 (0.97-1.01) 4.68e-01\n",
       "lactate        lactate        1.11 1.06 1.15 1.11 (1.06-1.15) 4.26e-07"
      ]
     },
     "metadata": {},
     "output_type": "display_data"
    }
   ],
   "source": [
    "# 整合结果\n",
    "mul_cox <- summary(res.cox)\n",
    "mul_HR<- round(mul_cox$coefficients[,2],2) \n",
    "mul_Pvalue<- mul_cox$coefficients[,5] #round(mul_cox$coefficients[,5],4) \n",
    "mul_CI5<-round(mul_cox$conf.int[,3],2)\n",
    "mul_CI95<-round(mul_cox$conf.int[,4],2)\n",
    "mul_CI<-paste0(mul_HR,' (',mul_CI5,'-',mul_CI95,')')\n",
    "Variable<-row.names(data.frame(mul_cox$coefficients))\n",
    "mulcox_res<- data.frame(Variable,mul_HR,mul_CI5,mul_CI95,mul_CI,mul_Pvalue)\n",
    "colnames(mulcox_res)=c(\"Variable\",\"HR\",\"CI5\",\"CI95\",\"HR (95% CI)\",\"Pvalue\")\n",
    "mulcox_res$Pvalue <- sapply(mulcox_res$Pvalue, function(x) sprintf(\"%.2e\", x))\n",
    "mulcox_res$Pvalue <- as.numeric(mulcox_res$Pvalue)\n",
    "View(mulcox_res)"
   ]
  },
  {
   "cell_type": "markdown",
   "id": "81bdcc11",
   "metadata": {},
   "source": [
    "## p值为0.05 筛选协变量"
   ]
  },
  {
   "cell_type": "code",
   "execution_count": 8,
   "id": "6b289644",
   "metadata": {
    "ExecuteTime": {
     "end_time": "2023-12-20T08:00:47.973546Z",
     "start_time": "2023-12-20T07:52:04.506Z"
    }
   },
   "outputs": [
    {
     "name": "stdout",
     "output_type": "stream",
     "text": [
      "[1] \"总变量数：27\"\n",
      "[1] \"p值筛选后的变量数：12\"\n"
     ]
    },
    {
     "data": {
      "text/html": [
       "'sofa_norenal + weight + age + NA + gcs + potassium + bicarbonate + temperature + hematocrit + heart_rate + resp_rate + lactate'"
      ],
      "text/latex": [
       "'sofa\\_norenal + weight + age + NA + gcs + potassium + bicarbonate + temperature + hematocrit + heart\\_rate + resp\\_rate + lactate'"
      ],
      "text/markdown": [
       "'sofa_norenal + weight + age + NA + gcs + potassium + bicarbonate + temperature + hematocrit + heart_rate + resp_rate + lactate'"
      ],
      "text/plain": [
       "[1] \"sofa_norenal + weight + age + NA + gcs + potassium + bicarbonate + temperature + hematocrit + heart_rate + resp_rate + lactate\""
      ]
     },
     "metadata": {},
     "output_type": "display_data"
    }
   ],
   "source": [
    "print(paste0(\"总变量数：\",dim(mulcox_res)[1]))\n",
    "print(paste0(\"p值筛选后的变量数：\",dim(mulcox_res[mulcox_res$Pvalue <= Pvalue_cut,])[1]))\n",
    "mulcox_res_filt <- mulcox_res[mulcox_res$Pvalue <= Pvalue_cut,]\n",
    "\n",
    "paste(rownames(mulcox_res_filt), collapse = \" + \")"
   ]
  },
  {
   "cell_type": "code",
   "execution_count": 9,
   "id": "230d148d",
   "metadata": {
    "ExecuteTime": {
     "end_time": "2023-12-20T08:00:47.986979Z",
     "start_time": "2023-12-20T07:52:04.507Z"
    }
   },
   "outputs": [
    {
     "data": {
      "text/html": [
       "<style>\n",
       ".list-inline {list-style: none; margin:0; padding: 0}\n",
       ".list-inline>li {display: inline-block}\n",
       ".list-inline>li:not(:last-child)::after {content: \"\\00b7\"; padding: 0 .5ex}\n",
       "</style>\n",
       "<ol class=list-inline><li>'sofa_norenal'</li><li>'weight'</li><li>'age'</li><li>'NA'</li><li>'gcs'</li><li>'potassium'</li><li>'bicarbonate'</li><li>'temperature'</li><li>'hematocrit'</li><li>'heart_rate'</li><li>'resp_rate'</li><li>'lactate'</li></ol>\n"
      ],
      "text/latex": [
       "\\begin{enumerate*}\n",
       "\\item 'sofa\\_norenal'\n",
       "\\item 'weight'\n",
       "\\item 'age'\n",
       "\\item 'NA'\n",
       "\\item 'gcs'\n",
       "\\item 'potassium'\n",
       "\\item 'bicarbonate'\n",
       "\\item 'temperature'\n",
       "\\item 'hematocrit'\n",
       "\\item 'heart\\_rate'\n",
       "\\item 'resp\\_rate'\n",
       "\\item 'lactate'\n",
       "\\end{enumerate*}\n"
      ],
      "text/markdown": [
       "1. 'sofa_norenal'\n",
       "2. 'weight'\n",
       "3. 'age'\n",
       "4. 'NA'\n",
       "5. 'gcs'\n",
       "6. 'potassium'\n",
       "7. 'bicarbonate'\n",
       "8. 'temperature'\n",
       "9. 'hematocrit'\n",
       "10. 'heart_rate'\n",
       "11. 'resp_rate'\n",
       "12. 'lactate'\n",
       "\n",
       "\n"
      ],
      "text/plain": [
       " [1] \"sofa_norenal\" \"weight\"       \"age\"          \"NA\"           \"gcs\"         \n",
       " [6] \"potassium\"    \"bicarbonate\"  \"temperature\"  \"hematocrit\"   \"heart_rate\"  \n",
       "[11] \"resp_rate\"    \"lactate\"     "
      ]
     },
     "metadata": {},
     "output_type": "display_data"
    }
   ],
   "source": [
    "rownames(mulcox_res_filt)"
   ]
  },
  {
   "cell_type": "markdown",
   "id": "aaa9bad8",
   "metadata": {
    "run_control": {
     "marked": true
    }
   },
   "source": [
    "# 结果plot "
   ]
  },
  {
   "cell_type": "markdown",
   "id": "6721a2ef",
   "metadata": {},
   "source": [
    "## 森林图"
   ]
  },
  {
   "cell_type": "code",
   "execution_count": 10,
   "id": "312ef91c",
   "metadata": {
    "ExecuteTime": {
     "end_time": "2023-12-20T08:00:48.364058Z",
     "start_time": "2023-12-20T07:52:04.509Z"
    }
   },
   "outputs": [
    {
     "name": "stderr",
     "output_type": "stream",
     "text": [
      "Loading required package: grid\n",
      "\n",
      "Loading required package: checkmate\n",
      "\n",
      "Loading required package: abind\n",
      "\n"
     ]
    },
    {
     "data": {
      "image/png": "[encoded data removed]",
      "text/plain": [
       "plot without title"
      ]
     },
     "metadata": {
      "image/png": {
       "height": 420,
       "width": 420
      }
     },
     "output_type": "display_data"
    }
   ],
   "source": [
    "library(forestplot)\n",
    "dat=rbind(c(\"Variable\", NA,NA,NA,\"HR (95% CI)\", \"Pvalue\"),mulcox_res_filt)\n",
    "forestplot(dat[,c(1,5,6)], #显示表格的第1，5，6列内容\n",
    "           mean=dat[,2],   #第2列为HR，变成森林图的方块\n",
    "           lower=dat[,3], upper=dat[,4], #第3列为5%CI，第4列为95%CI，将化作线段，穿过方块\n",
    "           zero=1,            #零线或参考线位置为HR=1\n",
    "           boxsize=0.1,       #设置方块大小\n",
    "           graph.pos=3,#将森林图插在第3列\n",
    "           xticks=c(0.5,1,1.5) ,# 设置横轴数字\n",
    "           txt_gp=fpTxtGp (\n",
    "             label=gpar(cex=1.2) ,ticks=gpar(cex=1.2)\n",
    "            ),#调整字体\n",
    "           hrzl_lines=list(\"1\" = gpar(lty=1,lwd=1.5)\n",
    "                           ,\"2\" = gpar(lty=1,lwd=1.5)\n",
    "#                            ,\"3\"= gpar(lty=1,lwd=1.5)\n",
    "                          ), # 在1,2,7行添加横线\n",
    "           col=fpColors ( box = 'blue ' , #方块颜色 \n",
    "                          lines = ' black ' ,#置信区间横线颜色\n",
    "                          zero = \"grey\" ),#参考线颜色\n",
    "           lwd.zero=1,#参考线宽度\n",
    "           lwd.ci=1.5, # 置信区间横线宽度\n",
    "           lty.ci=7 ,# 置信区间横线类型\n",
    "           ci.vertices.height=0.1   #置信区间横线两端竖线高度     \n",
    ")"
   ]
  }
 ],
 "metadata": {
  "kernelspec": {
   "display_name": "R [conda env:R]",
   "language": "R",
   "name": "conda-env-R-r"
  },
  "language_info": {
   "codemirror_mode": "r",
   "file_extension": ".r",
   "mimetype": "text/x-r-source",
   "name": "R",
   "pygments_lexer": "r",
   "version": "4.2.2"
  },
  "toc": {
   "base_numbering": 1,
   "nav_menu": {},
   "number_sections": true,
   "sideBar": true,
   "skip_h1_title": false,
   "title_cell": "Table of Contents",
   "title_sidebar": "Contents",
   "toc_cell": false,
   "toc_position": {},
   "toc_section_display": true,
   "toc_window_display": false
  },
  "varInspector": {
   "cols": {
    "lenName": 16,
    "lenType": 16,
    "lenVar": 40
   },
   "kernels_config": {
    "python": {
     "delete_cmd_postfix": "",
     "delete_cmd_prefix": "del ",
     "library": "var_list.py",
     "varRefreshCmd": "print(var_dic_list())"
    },
    "r": {
     "delete_cmd_postfix": ") ",
     "delete_cmd_prefix": "rm(",
     "library": "var_list.r",
     "varRefreshCmd": "cat(var_dic_list()) "
    }
   },
   "types_to_exclude": [
    "module",
    "function",
    "builtin_function_or_method",
    "instance",
    "_Feature"
   ],
   "window_display": false
  }
 },
 "nbformat": 4,
 "nbformat_minor": 5
}
