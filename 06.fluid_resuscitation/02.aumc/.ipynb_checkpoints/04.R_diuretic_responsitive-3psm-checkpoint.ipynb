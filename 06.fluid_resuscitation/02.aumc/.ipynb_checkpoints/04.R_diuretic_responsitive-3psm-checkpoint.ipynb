{
 "cells": [
  {
   "cell_type": "code",
   "execution_count": 1,
   "id": "cc7d3585",
   "metadata": {
    "ExecuteTime": {
     "end_time": "2024-02-22T02:29:12.515955Z",
     "start_time": "2024-02-22T02:20:30.120Z"
    }
   },
   "outputs": [
    {
     "name": "stderr",
     "output_type": "stream",
     "text": [
      "Loading required package: ggplot2\n",
      "\n",
      "Loading required package: ggpubr\n",
      "\n",
      "\n",
      "Attaching package: ‘survminer’\n",
      "\n",
      "\n",
      "The following object is masked from ‘package:survival’:\n",
      "\n",
      "    myeloma\n",
      "\n",
      "\n",
      "Loading required package: scales\n",
      "\n",
      "Loading required package: reshape2\n",
      "\n",
      "\n",
      "Attaching package: ‘reshape2’\n",
      "\n",
      "\n",
      "The following object is masked from ‘package:tidyr’:\n",
      "\n",
      "    smiths\n",
      "\n",
      "\n",
      "Loading required package: ez\n",
      "\n"
     ]
    }
   ],
   "source": [
    "library(MatchIt)\n",
    "library(survival)\n",
    "library(survminer)\n",
    "library(tidyr)\n",
    "library(tableone)\n",
    "library(TriMatch)"
   ]
  },
  {
   "cell_type": "code",
   "execution_count": 2,
   "id": "7c86a3f3",
   "metadata": {
    "ExecuteTime": {
     "end_time": "2024-02-22T02:29:12.615164Z",
     "start_time": "2024-02-22T02:20:30.122Z"
    }
   },
   "outputs": [],
   "source": [
    "df_psm <- read.csv(\"df_diuretic_responsitive.csv\",as.is = TRUE)\n",
    "df_psm <- as.data.frame(df_psm)\n",
    "df_psm$group_creteria <- df_psm[ , \"label_diu_res\"]\n",
    "df_psm$label <- df_psm[ , \"label_diu_res\"]\n",
    "df_psm$group_creteria <- as.factor(df_psm$group_creteria)"
   ]
  },
  {
   "cell_type": "markdown",
   "id": "56d1aed6",
   "metadata": {},
   "source": [
    "# PSM"
   ]
  },
  {
   "cell_type": "code",
   "execution_count": 3,
   "id": "64297ab0",
   "metadata": {
    "ExecuteTime": {
     "end_time": "2024-02-22T02:29:12.635979Z",
     "start_time": "2024-02-22T02:20:30.123Z"
    }
   },
   "outputs": [
    {
     "name": "stdout",
     "output_type": "stream",
     "text": [
      "\n",
      "   No diuretic Non-responsive     responsive \n",
      "           640            392           1151 \n"
     ]
    }
   ],
   "source": [
    "match_var1 <- c('creatinine', 'urineoutput','sofa_norenal',\"colloid_bolus\" )   #,'Congestive_heart_failure'\n",
    "match_var2 <- c('creatinine', 'urineoutput','sofa_norenal',\"colloid_bolus\" )  \n",
    "match_var3 <- c('creatinine', 'urineoutput','sofa_norenal',\"colloid_bolus\"  )  \n",
    "\n",
    "# match_var1 <- c(\"colloid_bolus\",'urineoutput','creatinine','sofa_norenal','weight','age','gcs','potassium','bicarbonate','temperature','hematocrit','heart_rate','resp_rate','lactate')  \n",
    "# match_var2 <- c(\"colloid_bolus\",'urineoutput','creatinine','sofa_norenal','weight','age','gcs','potassium','bicarbonate','temperature','hematocrit','heart_rate','resp_rate','lactate') \n",
    "# match_var3 <- c(\"colloid_bolus\",'urineoutput','creatinine','sofa_norenal','weight','age','gcs','potassium','bicarbonate','temperature','hematocrit','heart_rate','resp_rate','lactate')\n",
    "\n",
    "print(table(df_psm$group_creteria))\n",
    "df <- df_psm"
   ]
  },
  {
   "cell_type": "code",
   "execution_count": 4,
   "id": "ea7af616",
   "metadata": {
    "ExecuteTime": {
     "end_time": "2024-02-22T02:29:12.916309Z",
     "start_time": "2024-02-22T02:20:30.125Z"
    }
   },
   "outputs": [
    {
     "name": "stdout",
     "output_type": "stream",
     "text": [
      "\n",
      "   No diuretic Non-responsive     responsive \n",
      "           119            138            307 \n"
     ]
    },
    {
     "name": "stderr",
     "output_type": "stream",
     "text": [
      "Using logistic regression to estimate propensity scores...\n",
      "\n"
     ]
    },
    {
     "name": "stdout",
     "output_type": "stream",
     "text": [
      "\n",
      "   No diuretic Non-responsive     responsive \n",
      "            97            107            102 \n",
      "                           Stratified by group_creteria\n",
      "                            No diuretic       Non-responsive   \n",
      "  n                              97               107          \n",
      "  creatinine (mean (SD))       1.35 (0.49)       1.49 (0.50)   \n",
      "  urineoutput (mean (SD))   1253.90 (965.60)  1223.93 (1119.83)\n",
      "  sofa_norenal (mean (SD))     6.98 (4.15)       7.54 (3.40)   \n",
      "  colloid_bolus (mean (SD)) 4089.41 (2482.58) 4120.02 (2639.98)\n",
      "                           Stratified by group_creteria\n",
      "                            responsive        p      test\n",
      "  n                             102                      \n",
      "  creatinine (mean (SD))       1.49 (0.45)     0.062     \n",
      "  urineoutput (mean (SD))   1250.52 (842.51)   0.972     \n",
      "  sofa_norenal (mean (SD))     6.97 (2.95)     0.410     \n",
      "  colloid_bolus (mean (SD)) 3953.69 (2219.84)  0.875     \n"
     ]
    }
   ],
   "source": [
    "df_ <- df[df$groupHPD==1,]\n",
    "print(table(df_$group_creteria))\n",
    "formu <- paste(match_var1, collapse = \" + \")\n",
    "formu <- paste(\"~\", formu)\n",
    "\n",
    "df_.tpsa <- trips(df_, df_$group_creteria, as.formula(formu))\n",
    "df_.matched.1to1 <- trimatch(df_.tpsa,caliper=0.1)# ,method=OneToN, M1=, M2=2) # ,caliper=0.13   \n",
    "# ,exact=df_[,c('creatinine','urineoutput','sofa_norenal','colloid_bolus','Congestive_heart_failure')]\n",
    "# df_.matched.1to1 <- df_.matched.1to1[!duplicated(df_.matched.1to1[,1]),]\n",
    "# df_.matched.1to1 <- df_.matched.1to1[!duplicated(df_.matched.1to1[,2]),]                                    \n",
    "# df_.matched.1to1 <- df_.matched.1to1[!duplicated(df_.matched.1to1[,3]),]\n",
    "df_merge <- cbind(df_,df_.tpsa$id) \n",
    "matched_id <- c(df_.matched.1to1[, 1],df_.matched.1to1[,2],df_.matched.1to1[,3])\n",
    "df_match <- df_merge[df_merge$`df_.tpsa$id` %in% matched_id, ]\n",
    "print(table(df_match$group_creteria))\n",
    "table1 <- CreateTableOne(vars = match_var1, data = df_match, strata = \"group_creteria\")  \n",
    "tab1_csv <- print(table1)\n",
    "df_match1 <- df_match"
   ]
  },
  {
   "cell_type": "code",
   "execution_count": 5,
   "id": "1768f9f1",
   "metadata": {
    "ExecuteTime": {
     "end_time": "2024-02-22T02:29:13.255200Z",
     "start_time": "2024-02-22T02:20:30.126Z"
    }
   },
   "outputs": [
    {
     "name": "stdout",
     "output_type": "stream",
     "text": [
      "\n",
      "   No diuretic Non-responsive     responsive \n",
      "           445            176            779 \n"
     ]
    },
    {
     "name": "stderr",
     "output_type": "stream",
     "text": [
      "Using logistic regression to estimate propensity scores...\n",
      "\n"
     ]
    },
    {
     "name": "stdout",
     "output_type": "stream",
     "text": [
      "\n",
      "   No diuretic Non-responsive     responsive \n",
      "           152             91            124 \n",
      "                           Stratified by group_creteria\n",
      "                            No diuretic       Non-responsive   \n",
      "  n                             152                91          \n",
      "  creatinine (mean (SD))       0.94 (0.24)       0.91 (0.25)   \n",
      "  urineoutput (mean (SD))   1504.13 (726.71)  1520.51 (785.75) \n",
      "  sofa_norenal (mean (SD))     4.76 (2.35)       5.15 (2.59)   \n",
      "  colloid_bolus (mean (SD)) 3049.06 (1563.83) 2850.08 (1236.83)\n",
      "                           Stratified by group_creteria\n",
      "                            responsive        p      test\n",
      "  n                             124                      \n",
      "  creatinine (mean (SD))       0.93 (0.22)     0.650     \n",
      "  urineoutput (mean (SD))   1459.93 (660.41)   0.807     \n",
      "  sofa_norenal (mean (SD))     5.13 (2.46)     0.342     \n",
      "  colloid_bolus (mean (SD)) 2947.41 (1030.50)  0.517     \n"
     ]
    }
   ],
   "source": [
    "df_ <- df[df$groupHPD==2,]\n",
    "print(table(df_$group_creteria))\n",
    "formu <- paste(match_var2, collapse = \" + \")\n",
    "formu <- paste(\"~\", formu)\n",
    "\n",
    "df_.tpsa <- trips(df_, df_$group_creteria, as.formula(formu))\n",
    "#df_.matched.1to1 <- trimatch(df_.tpsa, method=OneToN, M1=3, M2=3)#  \n",
    "df_.matched.1to1 <- trimatch(df_.tpsa, caliper=0.03)#  method=OneToN, M1=2, M2=2\n",
    "# df_.matched.1to1 <- df_.matched.1to1[!duplicated(df_.matched.1to1[,1]),]\n",
    "# df_.matched.1to1 <- df_.matched.1to1[!duplicated(df_.matched.1to1[,2]),]\n",
    "# df_.matched.1to1 <- df_.matched.1to1[!duplicated(df_.matched.1to1[,3]),]\n",
    "df_merge <- cbind(df_,df_.tpsa$id)\n",
    "matched_id <- c(df_.matched.1to1[, 1],df_.matched.1to1[,2],df_.matched.1to1[,3])\n",
    "df_match <- df_merge[df_merge$`df_.tpsa$id` %in% matched_id, ]\n",
    "print(table(df_match$group_creteria))\n",
    "table2 <- CreateTableOne(vars = match_var2, data = df_match, strata = \"group_creteria\")  \n",
    "tab2_csv <- print(table2)\n",
    "df_match2 <- df_match"
   ]
  },
  {
   "cell_type": "code",
   "execution_count": 6,
   "id": "cc98901b",
   "metadata": {
    "ExecuteTime": {
     "end_time": "2024-02-22T02:29:13.366060Z",
     "start_time": "2024-02-22T02:20:30.127Z"
    },
    "scrolled": false
   },
   "outputs": [
    {
     "name": "stdout",
     "output_type": "stream",
     "text": [
      "\n",
      "   No diuretic Non-responsive     responsive \n",
      "            76             78             65 \n"
     ]
    },
    {
     "name": "stderr",
     "output_type": "stream",
     "text": [
      "Using logistic regression to estimate propensity scores...\n",
      "\n"
     ]
    },
    {
     "name": "stdout",
     "output_type": "stream",
     "text": [
      "\n",
      "   No diuretic Non-responsive     responsive \n",
      "            64             41             48 \n",
      "                           Stratified by group_creteria\n",
      "                            No diuretic       Non-responsive   \n",
      "  n                              64                41          \n",
      "  creatinine (mean (SD))       1.58 (0.59)       1.52 (0.54)   \n",
      "  urineoutput (mean (SD))    807.30 (704.19)   973.15 (706.53) \n",
      "  sofa_norenal (mean (SD))     9.61 (3.11)       9.48 (3.29)   \n",
      "  colloid_bolus (mean (SD)) 4787.79 (2418.10) 4555.75 (2015.20)\n",
      "                           Stratified by group_creteria\n",
      "                            responsive        p      test\n",
      "  n                              48                      \n",
      "  creatinine (mean (SD))       1.60 (0.56)     0.820     \n",
      "  urineoutput (mean (SD))    975.20 (626.83)   0.330     \n",
      "  sofa_norenal (mean (SD))     9.02 (2.71)     0.586     \n",
      "  colloid_bolus (mean (SD)) 4649.09 (2644.27)  0.883     \n"
     ]
    }
   ],
   "source": [
    "df_ <- df[df$groupHPD==3,]\n",
    "print(table(df_$group_creteria))\n",
    "formu <- paste(match_var3, collapse = \" + \")\n",
    "formu <- paste(\"~\", formu)\n",
    "\n",
    "df_.tpsa <- trips(df_, df_$group_creteria, as.formula(formu))\n",
    "df_.matched.1to1 <- trimatch(df_.tpsa, caliper=0.2 )#\n",
    "# df_.matched.1to1 <- df_.matched.1to1[!duplicated(df_.matched.1to1[,1]),]\n",
    "# df_.matched.1to1 <- df_.matched.1to1[!duplicated(df_.matched.1to1[,2]),]\n",
    "# df_.matched.1to1 <- df_.matched.1to1[!duplicated(df_.matched.1to1[,3]),]\n",
    "df_merge <- cbind(df_,df_.tpsa$id)\n",
    "matched_id <- c(df_.matched.1to1[, 1],df_.matched.1to1[,2],df_.matched.1to1[,3])\n",
    "df_match <- df_merge[df_merge$`df_.tpsa$id` %in% matched_id, ]\n",
    "print(table(df_match$group_creteria))\n",
    "table3 <- CreateTableOne(vars = match_var3, data = df_match, strata = \"group_creteria\")  \n",
    "tab3_csv <- print(table3)\n",
    "df_match3 <- df_match"
   ]
  },
  {
   "cell_type": "code",
   "execution_count": 7,
   "id": "1af7d03c",
   "metadata": {
    "ExecuteTime": {
     "end_time": "2024-02-22T02:29:13.441197Z",
     "start_time": "2024-02-22T02:20:30.128Z"
    }
   },
   "outputs": [],
   "source": [
    "df_match <- rbind(df_match1,df_match2,df_match3)\n",
    "# matched_id <- c(df_match$stay_id)\n",
    "# df_match_add <- df_psm[df_psm$stay_id %in% matched_id, ]\n",
    "write.csv(df_match, file = \"df_diuretic_responsitive_match.csv\", row.names = FALSE)"
   ]
  },
  {
   "cell_type": "code",
   "execution_count": 8,
   "id": "c43159a4",
   "metadata": {
    "ExecuteTime": {
     "end_time": "2024-02-22T02:29:13.484015Z",
     "start_time": "2024-02-22T02:20:30.130Z"
    }
   },
   "outputs": [
    {
     "data": {
      "text/html": [
       "<table class=\"dataframe\">\n",
       "<caption>A matrix: 15 × 6 of type chr</caption>\n",
       "<thead>\n",
       "\t<tr><th></th><th scope=col>features</th><th scope=col>No diuretic</th><th scope=col>Non-responsive</th><th scope=col>responsive</th><th scope=col>p-value</th><th scope=col>subphenotypes</th></tr>\n",
       "</thead>\n",
       "<tbody>\n",
       "\t<tr><th scope=row>n</th><td>     97          </td><td>    107          </td><td>    102          </td><td>      </td><td></td><td>C1</td></tr>\n",
       "\t<tr><th scope=row>creatinine (mean (SD))</th><td>   1.35 (0.49)   </td><td>   1.49 (0.50)   </td><td>   1.49 (0.45)   </td><td> 0.062</td><td></td><td>C1</td></tr>\n",
       "\t<tr><th scope=row>urineoutput (mean (SD))</th><td>1253.90 (965.60) </td><td>1223.93 (1119.83)</td><td>1250.52 (842.51) </td><td> 0.972</td><td></td><td>C1</td></tr>\n",
       "\t<tr><th scope=row>sofa_norenal (mean (SD))</th><td>   6.98 (4.15)   </td><td>   7.54 (3.40)   </td><td>   6.97 (2.95)   </td><td> 0.410</td><td></td><td>C1</td></tr>\n",
       "\t<tr><th scope=row>colloid_bolus (mean (SD))</th><td>4089.41 (2482.58)</td><td>4120.02 (2639.98)</td><td>3953.69 (2219.84)</td><td> 0.875</td><td></td><td>C1</td></tr>\n",
       "\t<tr><th scope=row>n</th><td>    152          </td><td>     91          </td><td>    124          </td><td>      </td><td></td><td>C2</td></tr>\n",
       "\t<tr><th scope=row>creatinine (mean (SD))</th><td>   0.94 (0.24)   </td><td>   0.91 (0.25)   </td><td>   0.93 (0.22)   </td><td> 0.650</td><td></td><td>C2</td></tr>\n",
       "\t<tr><th scope=row>urineoutput (mean (SD))</th><td>1504.13 (726.71) </td><td>1520.51 (785.75) </td><td>1459.93 (660.41) </td><td> 0.807</td><td></td><td>C2</td></tr>\n",
       "\t<tr><th scope=row>sofa_norenal (mean (SD))</th><td>   4.76 (2.35)   </td><td>   5.15 (2.59)   </td><td>   5.13 (2.46)   </td><td> 0.342</td><td></td><td>C2</td></tr>\n",
       "\t<tr><th scope=row>colloid_bolus (mean (SD))</th><td>3049.06 (1563.83)</td><td>2850.08 (1236.83)</td><td>2947.41 (1030.50)</td><td> 0.517</td><td></td><td>C2</td></tr>\n",
       "\t<tr><th scope=row>n</th><td>     64          </td><td>     41          </td><td>     48          </td><td>      </td><td></td><td>C3</td></tr>\n",
       "\t<tr><th scope=row>creatinine (mean (SD))</th><td>   1.58 (0.59)   </td><td>   1.52 (0.54)   </td><td>   1.60 (0.56)   </td><td> 0.820</td><td></td><td>C3</td></tr>\n",
       "\t<tr><th scope=row>urineoutput (mean (SD))</th><td> 807.30 (704.19) </td><td> 973.15 (706.53) </td><td> 975.20 (626.83) </td><td> 0.330</td><td></td><td>C3</td></tr>\n",
       "\t<tr><th scope=row>sofa_norenal (mean (SD))</th><td>   9.61 (3.11)   </td><td>   9.48 (3.29)   </td><td>   9.02 (2.71)   </td><td> 0.586</td><td></td><td>C3</td></tr>\n",
       "\t<tr><th scope=row>colloid_bolus (mean (SD))</th><td>4787.79 (2418.10)</td><td>4555.75 (2015.20)</td><td>4649.09 (2644.27)</td><td> 0.883</td><td></td><td>C3</td></tr>\n",
       "</tbody>\n",
       "</table>\n"
      ],
      "text/latex": [
       "A matrix: 15 × 6 of type chr\n",
       "\\begin{tabular}{r|llllll}\n",
       "  & features & No diuretic & Non-responsive & responsive & p-value & subphenotypes\\\\\n",
       "\\hline\n",
       "\tn &      97           &     107           &     102           &        &  & C1\\\\\n",
       "\tcreatinine (mean (SD)) &    1.35 (0.49)    &    1.49 (0.50)    &    1.49 (0.45)    &  0.062 &  & C1\\\\\n",
       "\turineoutput (mean (SD)) & 1253.90 (965.60)  & 1223.93 (1119.83) & 1250.52 (842.51)  &  0.972 &  & C1\\\\\n",
       "\tsofa\\_norenal (mean (SD)) &    6.98 (4.15)    &    7.54 (3.40)    &    6.97 (2.95)    &  0.410 &  & C1\\\\\n",
       "\tcolloid\\_bolus (mean (SD)) & 4089.41 (2482.58) & 4120.02 (2639.98) & 3953.69 (2219.84) &  0.875 &  & C1\\\\\n",
       "\tn &     152           &      91           &     124           &        &  & C2\\\\\n",
       "\tcreatinine (mean (SD)) &    0.94 (0.24)    &    0.91 (0.25)    &    0.93 (0.22)    &  0.650 &  & C2\\\\\n",
       "\turineoutput (mean (SD)) & 1504.13 (726.71)  & 1520.51 (785.75)  & 1459.93 (660.41)  &  0.807 &  & C2\\\\\n",
       "\tsofa\\_norenal (mean (SD)) &    4.76 (2.35)    &    5.15 (2.59)    &    5.13 (2.46)    &  0.342 &  & C2\\\\\n",
       "\tcolloid\\_bolus (mean (SD)) & 3049.06 (1563.83) & 2850.08 (1236.83) & 2947.41 (1030.50) &  0.517 &  & C2\\\\\n",
       "\tn &      64           &      41           &      48           &        &  & C3\\\\\n",
       "\tcreatinine (mean (SD)) &    1.58 (0.59)    &    1.52 (0.54)    &    1.60 (0.56)    &  0.820 &  & C3\\\\\n",
       "\turineoutput (mean (SD)) &  807.30 (704.19)  &  973.15 (706.53)  &  975.20 (626.83)  &  0.330 &  & C3\\\\\n",
       "\tsofa\\_norenal (mean (SD)) &    9.61 (3.11)    &    9.48 (3.29)    &    9.02 (2.71)    &  0.586 &  & C3\\\\\n",
       "\tcolloid\\_bolus (mean (SD)) & 4787.79 (2418.10) & 4555.75 (2015.20) & 4649.09 (2644.27) &  0.883 &  & C3\\\\\n",
       "\\end{tabular}\n"
      ],
      "text/markdown": [
       "\n",
       "A matrix: 15 × 6 of type chr\n",
       "\n",
       "| <!--/--> | features | No diuretic | Non-responsive | responsive | p-value | subphenotypes |\n",
       "|---|---|---|---|---|---|---|\n",
       "| n |      97           |     107           |     102           | <!----> | <!----> | C1 |\n",
       "| creatinine (mean (SD)) |    1.35 (0.49)    |    1.49 (0.50)    |    1.49 (0.45)    |  0.062 | <!----> | C1 |\n",
       "| urineoutput (mean (SD)) | 1253.90 (965.60)  | 1223.93 (1119.83) | 1250.52 (842.51)  |  0.972 | <!----> | C1 |\n",
       "| sofa_norenal (mean (SD)) |    6.98 (4.15)    |    7.54 (3.40)    |    6.97 (2.95)    |  0.410 | <!----> | C1 |\n",
       "| colloid_bolus (mean (SD)) | 4089.41 (2482.58) | 4120.02 (2639.98) | 3953.69 (2219.84) |  0.875 | <!----> | C1 |\n",
       "| n |     152           |      91           |     124           | <!----> | <!----> | C2 |\n",
       "| creatinine (mean (SD)) |    0.94 (0.24)    |    0.91 (0.25)    |    0.93 (0.22)    |  0.650 | <!----> | C2 |\n",
       "| urineoutput (mean (SD)) | 1504.13 (726.71)  | 1520.51 (785.75)  | 1459.93 (660.41)  |  0.807 | <!----> | C2 |\n",
       "| sofa_norenal (mean (SD)) |    4.76 (2.35)    |    5.15 (2.59)    |    5.13 (2.46)    |  0.342 | <!----> | C2 |\n",
       "| colloid_bolus (mean (SD)) | 3049.06 (1563.83) | 2850.08 (1236.83) | 2947.41 (1030.50) |  0.517 | <!----> | C2 |\n",
       "| n |      64           |      41           |      48           | <!----> | <!----> | C3 |\n",
       "| creatinine (mean (SD)) |    1.58 (0.59)    |    1.52 (0.54)    |    1.60 (0.56)    |  0.820 | <!----> | C3 |\n",
       "| urineoutput (mean (SD)) |  807.30 (704.19)  |  973.15 (706.53)  |  975.20 (626.83)  |  0.330 | <!----> | C3 |\n",
       "| sofa_norenal (mean (SD)) |    9.61 (3.11)    |    9.48 (3.29)    |    9.02 (2.71)    |  0.586 | <!----> | C3 |\n",
       "| colloid_bolus (mean (SD)) | 4787.79 (2418.10) | 4555.75 (2015.20) | 4649.09 (2644.27) |  0.883 | <!----> | C3 |\n",
       "\n"
      ],
      "text/plain": [
       "                          features          No diuretic       Non-responsive   \n",
       "n                              97               107               102          \n",
       "creatinine (mean (SD))       1.35 (0.49)       1.49 (0.50)       1.49 (0.45)   \n",
       "urineoutput (mean (SD))   1253.90 (965.60)  1223.93 (1119.83) 1250.52 (842.51) \n",
       "sofa_norenal (mean (SD))     6.98 (4.15)       7.54 (3.40)       6.97 (2.95)   \n",
       "colloid_bolus (mean (SD)) 4089.41 (2482.58) 4120.02 (2639.98) 3953.69 (2219.84)\n",
       "n                             152                91               124          \n",
       "creatinine (mean (SD))       0.94 (0.24)       0.91 (0.25)       0.93 (0.22)   \n",
       "urineoutput (mean (SD))   1504.13 (726.71)  1520.51 (785.75)  1459.93 (660.41) \n",
       "sofa_norenal (mean (SD))     4.76 (2.35)       5.15 (2.59)       5.13 (2.46)   \n",
       "colloid_bolus (mean (SD)) 3049.06 (1563.83) 2850.08 (1236.83) 2947.41 (1030.50)\n",
       "n                              64                41                48          \n",
       "creatinine (mean (SD))       1.58 (0.59)       1.52 (0.54)       1.60 (0.56)   \n",
       "urineoutput (mean (SD))    807.30 (704.19)   973.15 (706.53)   975.20 (626.83) \n",
       "sofa_norenal (mean (SD))     9.61 (3.11)       9.48 (3.29)       9.02 (2.71)   \n",
       "colloid_bolus (mean (SD)) 4787.79 (2418.10) 4555.75 (2015.20) 4649.09 (2644.27)\n",
       "                          responsive p-value subphenotypes\n",
       "n                                            C1           \n",
       "creatinine (mean (SD))     0.062             C1           \n",
       "urineoutput (mean (SD))    0.972             C1           \n",
       "sofa_norenal (mean (SD))   0.410             C1           \n",
       "colloid_bolus (mean (SD))  0.875             C1           \n",
       "n                                            C2           \n",
       "creatinine (mean (SD))     0.650             C2           \n",
       "urineoutput (mean (SD))    0.807             C2           \n",
       "sofa_norenal (mean (SD))   0.342             C2           \n",
       "colloid_bolus (mean (SD))  0.517             C2           \n",
       "n                                            C3           \n",
       "creatinine (mean (SD))     0.820             C3           \n",
       "urineoutput (mean (SD))    0.330             C3           \n",
       "sofa_norenal (mean (SD))   0.586             C3           \n",
       "colloid_bolus (mean (SD))  0.883             C3           "
      ]
     },
     "metadata": {},
     "output_type": "display_data"
    }
   ],
   "source": [
    "tab1_csv1 <- cbind(tab1_csv, rep(\"C1\", nrow(tab1_csv)))\n",
    "tab2_csv1 <- cbind(tab2_csv, rep(\"C2\", nrow(tab2_csv)))\n",
    "tab3_csv1 <- cbind(tab3_csv, rep(\"C3\", nrow(tab3_csv)))\n",
    "tab_combind <- rbind(tab1_csv1,tab2_csv1,tab3_csv1)\n",
    "colnames(tab_combind) <- c(\"features\",'No diuretic','Non-responsive','responsive',\"p-value\",\"subphenotypes\")\n",
    "write.csv(tab_combind, file = \"aumcdb_3psm_macth.csv\")\n",
    "tab_combind"
   ]
  },
  {
   "cell_type": "markdown",
   "id": "dbffbbed",
   "metadata": {},
   "source": [
    "# survival"
   ]
  },
  {
   "cell_type": "code",
   "execution_count": 9,
   "id": "b9e1e271",
   "metadata": {
    "ExecuteTime": {
     "end_time": "2024-02-22T02:29:13.493538Z",
     "start_time": "2024-02-22T02:20:30.131Z"
    },
    "run_control": {
     "marked": true
    }
   },
   "outputs": [],
   "source": [
    "# df_match = read.csv(\"df_diuretic_responsitive.csv\",as.is = TRUE)\n",
    "# df_match <- as.data.frame(df_match)\n",
    "# df_match$group_creteria <- df_match[ , \"label_diu_res\"]\n",
    "# df_match$group_creteria <- as.factor(df_match$group_creteria)"
   ]
  },
  {
   "cell_type": "code",
   "execution_count": 10,
   "id": "6299af6e",
   "metadata": {
    "ExecuteTime": {
     "end_time": "2024-02-22T02:29:13.503720Z",
     "start_time": "2024-02-22T02:20:30.133Z"
    }
   },
   "outputs": [],
   "source": [
    "df_survival =  df_match[,c(\"survival_28day\",\"mortality_28d\", \"groupHPD\",\"group_creteria\")]"
   ]
  },
  {
   "cell_type": "code",
   "execution_count": 11,
   "id": "a3a68b31",
   "metadata": {
    "ExecuteTime": {
     "end_time": "2024-02-22T02:29:13.514919Z",
     "start_time": "2024-02-22T02:20:30.134Z"
    },
    "scrolled": false
   },
   "outputs": [],
   "source": [
    "survival_curve <- function(data,title,survival_day,expire_flag){\n",
    "    df_select <- data\n",
    "    fit <- survfit(Surv(survival_day,expire_flag) ~ label, data = df_select)\n",
    "    ggsurvplot(fit, data = df_select,\n",
    "               surv.median.line = hv,  # 增加中位生存时间,\n",
    "               conf.int = TRUE, # 增加置信区间,\n",
    "              # risk.table = TRUE, # 绘制累计风险曲线,\n",
    "#               title=title,,\n",
    "               pval = TRUE,\n",
    "               #add.all = TRUE, # 添加总患者生存曲线,\n",
    "               xlab = \"Follow up time (days)\",\n",
    "               legend = c(0.2,0.2)) # 指定图例位置,\n",
    "}\n",
    "\n",
    "# df_select <- df_survival\n",
    "# #df_select = df_select[df_select$group_creteria!=\"No diuretic\",]\n",
    "# fit <- survfit(Surv(survival_28day,mortality_28d) ~ group_creteria, data = df_select)\n",
    "# ggsurvplot(fit, data = df_select, \n",
    "#                surv.median.line = \"hv\",  # 增加中位生存时间,\n",
    "#                conf.int = TRUE, # 增加置信区间,\n",
    "#                risk.table = TRUE, # 绘制累计风险曲线,\n",
    "#                title=\"ALL: 28 day-Mortality - MIMIC\",\n",
    "#                pval = TRUE,\n",
    "#                #add.all = TRUE, # 添加总患者生存曲线,\n",
    "#                xlab = \"Follow up time(day)\",\n",
    "#                legend = c(0.8,0.2)) # 指定图例位置"
   ]
  },
  {
   "cell_type": "code",
   "execution_count": 17,
   "id": "566a0a66",
   "metadata": {
    "ExecuteTime": {
     "end_time": "2024-02-22T03:14:56.468461Z",
     "start_time": "2024-02-22T03:06:15.734Z"
    },
    "run_control": {
     "marked": true
    }
   },
   "outputs": [
    {
     "data": {
      "text/html": [
       "<strong>png:</strong> 2"
      ],
      "text/latex": [
       "\\textbf{png:} 2"
      ],
      "text/markdown": [
       "**png:** 2"
      ],
      "text/plain": [
       "png \n",
       "  2 "
      ]
     },
     "metadata": {},
     "output_type": "display_data"
    }
   ],
   "source": [
    "pdf(\"AUMC_C1_28d_mortality.pdf\")\n",
    "png(\"AUMC_C1_28d_mortality.png\")\n",
    "\n",
    "df_select <- df_survival[df_survival$groupHPD==1,]\n",
    "#df_select = df_select[df_select$group_creteria!=\"No diuretic\",]\n",
    "\n",
    "fit <- survfit(Surv(survival_28day,mortality_28d) ~ group_creteria, data = df_select)\n",
    "ggsurv <- ggsurvplot(fit, data = df_select, \n",
    "#                surv.median.line = \"hv\",  # 增加中位生存时间,\n",
    "               conf.int = TRUE, # 增加置信区间,\n",
    "#               risk.table = TRUE, # 绘制累计风险曲线,\n",
    "               title=\"AUMC: DR phenotype\",\n",
    "               palette = c(\"#f8746a\" ,\"#74a8ff\",\"#3fc968\"),\n",
    "               pval = TRUE,pval.size = 10,\n",
    "               #add.all = TRUE, # 添加总患者生存曲线,\n",
    "               xlab = \"Follow up time (days)\",\n",
    "               legend = \"none\",#legend = c(0.8,0.2),legend.title = \"\",legend.labs = c(\"No diuretic\", \"Non-Responsive\",\"Responsive\"),\n",
    "                font.main = 25,     #标题字体大小\n",
    "               font.x = 27,        #x坐标字体大小\n",
    "               font.y = 27,        #y坐标字体大小\n",
    "               font.tickslab = 16,\n",
    "               risk.table.fontsize = 16,\n",
    "tables.theme = theme_cleantable()+ theme( ))\n",
    "\n",
    "ggsurv$plot <- ggsurv$plot +\n",
    "  theme(legend.text = element_text(size = 16),axis.text.y = element_text(size = 25), axis.text.x = element_text(size = 25))  # 调整图例文本的字体大小为16\n",
    "ggsurv$table <- ggsurv$table +\n",
    "  theme(plot.title = element_text(size = 20, color = \"black\", face = \"bold\"))\n",
    "ggsurv\n",
    "dev.off()"
   ]
  },
  {
   "cell_type": "code",
   "execution_count": 13,
   "id": "cee3d189",
   "metadata": {
    "ExecuteTime": {
     "end_time": "2024-02-22T02:29:14.626285Z",
     "start_time": "2024-02-22T02:20:30.136Z"
    },
    "run_control": {
     "marked": true
    }
   },
   "outputs": [
    {
     "data": {
      "text/html": [
       "<strong>png:</strong> 2"
      ],
      "text/latex": [
       "\\textbf{png:} 2"
      ],
      "text/markdown": [
       "**png:** 2"
      ],
      "text/plain": [
       "png \n",
       "  2 "
      ]
     },
     "metadata": {},
     "output_type": "display_data"
    }
   ],
   "source": [
    "pdf(\"AUMC_C2_28d_mortality.pdf\")\n",
    "png(\"AUMC_C2_28d_mortality.png\")\n",
    "df_select <- df_survival[df_survival$groupHPD==2,]\n",
    "#df_select = df_select[df_select$group_creteria!=\"No diuretic\",] #Non-responsive\n",
    " \n",
    "fit <- survfit(Surv(survival_28day,mortality_28d) ~ group_creteria, data = df_select)\n",
    "ggsurv <- ggsurvplot(fit, data = df_select, \n",
    "#                surv.median.line = \"hv\",  # 增加中位生存时间,\n",
    "               conf.int = TRUE, # 增加置信区间,\n",
    "#               risk.table = TRUE, # 绘制累计风险曲线,\n",
    "               title=\"AUMC: RR phenotype\",\n",
    "               pval = TRUE,pval.size = 10,\n",
    "               #add.all = TRUE, # 添加总患者生存曲线,\n",
    "               xlab = \"Follow up time (days)\",\n",
    "               palette = c(\"#f8746a\" ,\"#74a8ff\",\"#3fc968\"),\n",
    "               legend = \"none\",#legend = c(0.8,0.2),legend.title = \"\",legend.labs = c(\"No diuretic\", \"Non-Responsive\",\"Responsive\"),\n",
    "                font.main = 25,     #标题字体大小\n",
    "               font.x = 27,        #x坐标字体大小\n",
    "               font.y = 27,        #y坐标字体大小\n",
    "               font.tickslab = 16,\n",
    "               risk.table.fontsize = 16,\n",
    "tables.theme = theme_cleantable()+ theme( ))\n",
    "\n",
    "ggsurv$plot <- ggsurv$plot +\n",
    "  theme(legend.text = element_text(size = 16),axis.text.y = element_text(size = 25), axis.text.x = element_text(size = 25))  # 调整图例文本的字体大小为16\n",
    "ggsurv$table <- ggsurv$table +\n",
    "  theme(plot.title = element_text(size = 20, color = \"black\", face = \"bold\"))\n",
    "ggsurv\n",
    "dev.off()"
   ]
  },
  {
   "cell_type": "code",
   "execution_count": 14,
   "id": "ceaad446",
   "metadata": {
    "ExecuteTime": {
     "end_time": "2024-02-22T02:29:15.008351Z",
     "start_time": "2024-02-22T02:20:30.138Z"
    },
    "run_control": {
     "marked": true
    }
   },
   "outputs": [
    {
     "data": {
      "text/html": [
       "<strong>png:</strong> 2"
      ],
      "text/latex": [
       "\\textbf{png:} 2"
      ],
      "text/markdown": [
       "**png:** 2"
      ],
      "text/plain": [
       "png \n",
       "  2 "
      ]
     },
     "metadata": {},
     "output_type": "display_data"
    }
   ],
   "source": [
    "pdf(\"AUMC_C3_28d_mortality.pdf\")\n",
    "png(\"AUMC_C3_28d_mortality.png\")\n",
    "\n",
    "df_select <- df_survival[df_survival$groupHPD==3,]\n",
    "#df_select = df_select[df_select$group_creteria!=\"No diuretic\",]\n",
    "\n",
    "fit <- survfit(Surv(survival_28day,mortality_28d) ~ group_creteria, data = df_select)\n",
    "ggsurv <- ggsurvplot(fit, data = df_select, \n",
    "#                surv.median.line = \"hv\",  # 增加中位生存时间,\n",
    "               conf.int = TRUE, # 增加置信区间,\n",
    "          #     risk.table = TRUE, # 绘制累计风险曲线,\n",
    "               title=\"AUMC: PW phenotype\",\n",
    "               pval = TRUE,pval.size = 10,\n",
    "               #add.all = TRUE, # 添加总患者生存曲线,\n",
    "               xlab = \"Follow up time (days)\",\n",
    "               palette = c(\"#f8746a\" ,\"#74a8ff\",\"#3fc968\"), # 红 蓝 绿\n",
    "               legend = \"none\",\n",
    "               #legend = c(0.8,0.2),legend.title = \"\",legend.labs = c(\"No diuretic\", \"Non-Responsive\",\"Responsive\"),\n",
    "                font.main = 25,     #标题字体大小\n",
    "               font.x = 27,        #x坐标字体大小\n",
    "               font.y = 27,        #y坐标字体大小\n",
    "               font.tickslab = 16,\n",
    "               risk.table.fontsize = 16,\n",
    "tables.theme = theme_cleantable()+ theme( ))\n",
    "\n",
    "ggsurv$plot <- ggsurv$plot +\n",
    "  theme(legend.text = element_text(size = 16),axis.text.y = element_text(size = 25), axis.text.x = element_text(size = 25))  # 调整图例文本的字体大小为16\n",
    "ggsurv$table <- ggsurv$table +\n",
    "  theme(plot.title = element_text(size = 20, color = \"black\", face = \"bold\"))\n",
    "ggsurv\n",
    "dev.off()"
   ]
  },
  {
   "cell_type": "code",
   "execution_count": 15,
   "id": "e755c25a",
   "metadata": {
    "ExecuteTime": {
     "end_time": "2024-02-22T02:29:15.632179Z",
     "start_time": "2024-02-22T02:20:30.139Z"
    }
   },
   "outputs": [
    {
     "data": {
      "text/html": [
       "<strong>png:</strong> 2"
      ],
      "text/latex": [
       "\\textbf{png:} 2"
      ],
      "text/markdown": [
       "**png:** 2"
      ],
      "text/plain": [
       "png \n",
       "  2 "
      ]
     },
     "metadata": {},
     "output_type": "display_data"
    }
   ],
   "source": [
    "# 产生legend\n",
    "df_select <- df_survival[df_survival$groupHPD==1,]\n",
    "#df_select = df_select[df_select$group_creteria!=\"No diuretic\",]\n",
    "pdf(\"AUMC_legend_28d_mortality.pdf\")\n",
    "fit <- survfit(Surv(survival_28day,mortality_28d) ~ group_creteria, data = df_select)\n",
    "ggsurv <- ggsurvplot(fit, data = df_select, \n",
    "               surv.median.line = \"hv\",  # 增加中位生存时间,\n",
    "               conf.int = TRUE, # 增加置信区间,\n",
    "#               risk.table = TRUE, # 绘制累计风险曲线,\n",
    "               title=\"AUMC: DR phenotype\",\n",
    "               palette = c(\"#f8746a\" ,\"#74a8ff\",\"#3fc968\"),\n",
    "               pval = TRUE,\n",
    "               #add.all = TRUE, # 添加总患者生存曲线,\n",
    "               xlab = \"Follow up time (days)\",\n",
    "               legend.title = \"\",legend.labs = c(\"No diuretic group\", \"Non-Responsive\",\"Responsive\"),#) # 指定图例位置 \n",
    "                           font.main = 25,     #标题字体大小\n",
    "               font.x = 20,        #x坐标字体大小\n",
    "               font.y = 20,        #y坐标字体大小\n",
    "               font.tickslab = 16,\n",
    "               risk.table.fontsize = 6,tables.theme = theme_cleantable()+ \n",
    "    theme(axis.text.y = element_text(size = 16))) # 指定图例位置\n",
    "ggsurv$plot <- ggsurv$plot +\n",
    "  theme(legend.text = element_text(size = 16))  # 调整图例文本的字体大小为16\n",
    "ggsurv$table <- ggsurv$table +\n",
    "  theme(plot.title = element_text(size = 20, color = \"black\", face = \"bold\"))\n",
    "ggsurv\n",
    "dev.off()"
   ]
  },
  {
   "cell_type": "code",
   "execution_count": null,
   "id": "a78df568",
   "metadata": {},
   "outputs": [],
   "source": []
  }
 ],
 "metadata": {
  "kernelspec": {
   "display_name": "R [conda env:R]",
   "language": "R",
   "name": "conda-env-R-r"
  },
  "language_info": {
   "codemirror_mode": "r",
   "file_extension": ".r",
   "mimetype": "text/x-r-source",
   "name": "R",
   "pygments_lexer": "r",
   "version": "4.2.2"
  },
  "toc": {
   "base_numbering": 1,
   "nav_menu": {},
   "number_sections": true,
   "sideBar": true,
   "skip_h1_title": false,
   "title_cell": "Table of Contents",
   "title_sidebar": "Contents",
   "toc_cell": false,
   "toc_position": {},
   "toc_section_display": true,
   "toc_window_display": false
  },
  "varInspector": {
   "cols": {
    "lenName": 16,
    "lenType": 16,
    "lenVar": 40
   },
   "kernels_config": {
    "python": {
     "delete_cmd_postfix": "",
     "delete_cmd_prefix": "del ",
     "library": "var_list.py",
     "varRefreshCmd": "print(var_dic_list())"
    },
    "r": {
     "delete_cmd_postfix": ") ",
     "delete_cmd_prefix": "rm(",
     "library": "var_list.r",
     "varRefreshCmd": "cat(var_dic_list()) "
    }
   },
   "types_to_exclude": [
    "module",
    "function",
    "builtin_function_or_method",
    "instance",
    "_Feature"
   ],
   "window_display": false
  }
 },
 "nbformat": 4,
 "nbformat_minor": 5
}
