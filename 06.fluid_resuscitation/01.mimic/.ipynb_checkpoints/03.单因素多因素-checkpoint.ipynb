{
 "cells": [
  {
   "cell_type": "code",
   "execution_count": 1,
   "id": "3e4e6dc1",
   "metadata": {
    "ExecuteTime": {
     "end_time": "2023-12-20T08:01:33.079590Z",
     "start_time": "2023-12-20T07:52:50.347Z"
    }
   },
   "outputs": [
    {
     "name": "stderr",
     "output_type": "stream",
     "text": [
      "Loading required package: ggplot2\n",
      "\n",
      "Loading required package: ggpubr\n",
      "\n",
      "\n",
      "Attaching package: ‘survminer’\n",
      "\n",
      "\n",
      "The following object is masked from ‘package:survival’:\n",
      "\n",
      "    myeloma\n",
      "\n",
      "\n",
      "\n",
      "Attaching package: ‘plotRCS’\n",
      "\n",
      "\n",
      "The following object is masked from ‘package:survival’:\n",
      "\n",
      "    cancer\n",
      "\n",
      "\n",
      "Loading required package: Hmisc\n",
      "\n",
      "\n",
      "Attaching package: ‘Hmisc’\n",
      "\n",
      "\n",
      "The following objects are masked from ‘package:base’:\n",
      "\n",
      "    format.pval, units\n",
      "\n",
      "\n"
     ]
    }
   ],
   "source": [
    "library(MatchIt)\n",
    "library(survival)\n",
    "library(survminer)\n",
    "library(tidyr)\n",
    "library(tableone)\n",
    "library(plotRCS)\n",
    "library(rms)"
   ]
  },
  {
   "cell_type": "code",
   "execution_count": 2,
   "id": "c073ef90",
   "metadata": {
    "ExecuteTime": {
     "end_time": "2023-12-20T08:01:33.110628Z",
     "start_time": "2023-12-20T07:52:50.350Z"
    }
   },
   "outputs": [],
   "source": [
    "Pvalue_cut = 0.05"
   ]
  },
  {
   "cell_type": "code",
   "execution_count": 3,
   "id": "8399dd7e",
   "metadata": {
    "ExecuteTime": {
     "end_time": "2023-12-20T08:01:33.229717Z",
     "start_time": "2023-12-20T07:52:50.352Z"
    }
   },
   "outputs": [],
   "source": [
    "df_survival <- read.csv(\"df_diuretic_responsitive.csv\",as.is = TRUE)\n",
    "df_survival <- as.data.frame(df_survival)\n",
    "#df_survival$groupHPD <- as.factor(df_survival$groupHPD)\n",
    "df_select <-  df_survival\n",
    "# df_select <-  df_survival[df_survival$groupHPD==1,] \n",
    "#df_select <-  df_survival[df_survival$groupHPD==2,] \n",
    "#df_select <-  df_survival[df_survival$groupHPD==3,] \n"
   ]
  },
  {
   "cell_type": "markdown",
   "id": "4d7e4ece",
   "metadata": {},
   "source": [
    "# 单因素\n",
    "- 单因素分析是指在一个时间点上，研究不同水平的某因素对一个独立变量变量的影响程度的分析"
   ]
  },
  {
   "cell_type": "code",
   "execution_count": 4,
   "id": "a2ffdb1e",
   "metadata": {
    "ExecuteTime": {
     "end_time": "2023-12-20T08:01:34.039394Z",
     "start_time": "2023-12-20T07:52:50.355Z"
    },
    "run_control": {
     "marked": true
    }
   },
   "outputs": [
    {
     "data": {
      "text/html": [
       "<table class=\"dataframe\">\n",
       "<caption>A data.frame: 44 × 4</caption>\n",
       "<thead>\n",
       "\t<tr><th></th><th scope=col>beta</th><th scope=col>HR (95% CI for HR)</th><th scope=col>wald.test</th><th scope=col>p.value</th></tr>\n",
       "\t<tr><th></th><th scope=col>&lt;chr&gt;</th><th scope=col>&lt;chr&gt;</th><th scope=col>&lt;chr&gt;</th><th scope=col>&lt;chr&gt;</th></tr>\n",
       "</thead>\n",
       "<tbody>\n",
       "\t<tr><th scope=row>creatinine</th><td>0.88    </td><td>2.4 (2.1-2.8)         </td><td>130 </td><td>3.9e-29</td></tr>\n",
       "\t<tr><th scope=row>urineoutput</th><td>-5e-04  </td><td>1 (1-1)               </td><td>100 </td><td>7.8e-24</td></tr>\n",
       "\t<tr><th scope=row>baseline_Scr</th><td>0.83    </td><td>2.3 (1.7-3)           </td><td>33  </td><td>9.7e-09</td></tr>\n",
       "\t<tr><th scope=row>colloid_bolus</th><td>6.5e-05 </td><td>1 (1-1)               </td><td>15  </td><td>0.00011</td></tr>\n",
       "\t<tr><th scope=row>sofa_norenal</th><td>0.13    </td><td>1.1 (1.1-1.2)         </td><td>110 </td><td>7.8e-25</td></tr>\n",
       "\t<tr><th scope=row>Congestive_heart_failure</th><td>0.13    </td><td>1.1 (0.98-1.3)        </td><td>2.7 </td><td>0.1    </td></tr>\n",
       "\t<tr><th scope=row>weight</th><td>-0.015  </td><td>0.98 (0.98-0.99)      </td><td>81  </td><td>2.6e-19</td></tr>\n",
       "\t<tr><th scope=row>age</th><td>0.018   </td><td>1 (1-1)               </td><td>52  </td><td>6.6e-13</td></tr>\n",
       "\t<tr><th scope=row>gender</th><td>-0.2    </td><td>0.82 (0.71-0.94)      </td><td>8   </td><td>0.0046 </td></tr>\n",
       "\t<tr><th scope=row>height</th><td>-0.017  </td><td>0.98 (0.98-0.99)      </td><td>26  </td><td>3.2e-07</td></tr>\n",
       "\t<tr><th scope=row>aniongap</th><td>0.14    </td><td>1.1 (1.1-1.2)         </td><td>320 </td><td>9.6e-71</td></tr>\n",
       "\t<tr><th scope=row>pt</th><td>0.044   </td><td>1 (1-1.1)             </td><td>140 </td><td>1.9e-32</td></tr>\n",
       "\t<tr><th scope=row>sbp</th><td>-0.018  </td><td>0.98 (0.98-0.99)      </td><td>47  </td><td>7.5e-12</td></tr>\n",
       "\t<tr><th scope=row>cum_fluidbance</th><td>1e-04   </td><td>1 (1-1)               </td><td>60  </td><td>1e-14  </td></tr>\n",
       "\t<tr><th scope=row>baseexcess</th><td>-0.098  </td><td>0.91 (0.89-0.92)      </td><td>130 </td><td>2.3e-30</td></tr>\n",
       "\t<tr><th scope=row>hemoglobin</th><td>-0.037  </td><td>0.96 (0.93-1)         </td><td>3.5 </td><td>0.063  </td></tr>\n",
       "\t<tr><th scope=row>fluidbance</th><td>0.00011 </td><td>1 (1-1)               </td><td>63  </td><td>1.8e-15</td></tr>\n",
       "\t<tr><th scope=row>gcs</th><td>-0.085  </td><td>0.92 (0.88-0.96)      </td><td>14  </td><td>0.00017</td></tr>\n",
       "\t<tr><th scope=row>mbp</th><td>-0.018  </td><td>0.98 (0.97-0.99)      </td><td>22  </td><td>3.4e-06</td></tr>\n",
       "\t<tr><th scope=row>potassium</th><td>0.31    </td><td>1.4 (1.2-1.6)         </td><td>20  </td><td>8e-06  </td></tr>\n",
       "\t<tr><th scope=row>spo2</th><td>-0.064  </td><td>0.94 (0.92-0.95)      </td><td>52  </td><td>4.9e-13</td></tr>\n",
       "\t<tr><th scope=row>platelet</th><td>-0.00066</td><td>1 (1-1)               </td><td>3.7 </td><td>0.055  </td></tr>\n",
       "\t<tr><th scope=row>bicarbonate</th><td>-0.09   </td><td>0.91 (0.9-0.93)       </td><td>110 </td><td>4.3e-26</td></tr>\n",
       "\t<tr><th scope=row>sodium</th><td>0.0063  </td><td>1 (0.99-1)            </td><td>0.86</td><td>0.35   </td></tr>\n",
       "\t<tr><th scope=row>temperature</th><td>-0.4    </td><td>0.67 (0.61-0.74)      </td><td>63  </td><td>2.6e-15</td></tr>\n",
       "\t<tr><th scope=row>po2</th><td>-0.002  </td><td>1 (1-1)               </td><td>6   </td><td>0.014  </td></tr>\n",
       "\t<tr><th scope=row>ptt</th><td>0.015   </td><td>1 (1-1)               </td><td>86  </td><td>2.2e-20</td></tr>\n",
       "\t<tr><th scope=row>glucose</th><td>0.0048  </td><td>1 (1-1)               </td><td>44  </td><td>2.6e-11</td></tr>\n",
       "\t<tr><th scope=row>pco2</th><td>-0.0047 </td><td>1 (0.99-1)            </td><td>1.2 </td><td>0.28   </td></tr>\n",
       "\t<tr><th scope=row>chloride</th><td>-5.1e-05</td><td>1 (0.99-1)            </td><td>0   </td><td>0.99   </td></tr>\n",
       "\t<tr><th scope=row>rbc</th><td>-0.15   </td><td>0.86 (0.77-0.96)      </td><td>7.4 </td><td>0.0064 </td></tr>\n",
       "\t<tr><th scope=row>wbc</th><td>0.0084  </td><td>1 (1-1)               </td><td>30  </td><td>4.4e-08</td></tr>\n",
       "\t<tr><th scope=row>ph</th><td>-6.3    </td><td>0.0018 (0.00062-0.005)</td><td>140 </td><td>2.4e-32</td></tr>\n",
       "\t<tr><th scope=row>mchc</th><td>-0.15   </td><td>0.86 (0.83-0.9)       </td><td>52  </td><td>4.4e-13</td></tr>\n",
       "\t<tr><th scope=row>mcv</th><td>0.037   </td><td>1 (1-1)               </td><td>65  </td><td>8.1e-16</td></tr>\n",
       "\t<tr><th scope=row>hematocrit</th><td>0.0017  </td><td>1 (0.99-1)            </td><td>0.07</td><td>0.79   </td></tr>\n",
       "\t<tr><th scope=row>heart_rate</th><td>0.015   </td><td>1 (1-1)               </td><td>51  </td><td>9.7e-13</td></tr>\n",
       "\t<tr><th scope=row>fio2</th><td>0.0096  </td><td>1 (1-1)               </td><td>14  </td><td>0.00017</td></tr>\n",
       "\t<tr><th scope=row>resp_rate</th><td>0.06    </td><td>1.1 (1-1.1)           </td><td>70  </td><td>5.9e-17</td></tr>\n",
       "\t<tr><th scope=row>dbp</th><td>-0.0097 </td><td>0.99 (0.98-1)         </td><td>6.6 </td><td>0.011  </td></tr>\n",
       "\t<tr><th scope=row>mch</th><td>0.039   </td><td>1 (1-1.1)             </td><td>8.3 </td><td>0.0039 </td></tr>\n",
       "\t<tr><th scope=row>lactate</th><td>0.23    </td><td>1.3 (1.2-1.3)         </td><td>300 </td><td>2.2e-66</td></tr>\n",
       "\t<tr><th scope=row>rdw</th><td>0.11    </td><td>1.1 (1.1-1.1)         </td><td>86  </td><td>1.9e-20</td></tr>\n",
       "\t<tr><th scope=row>calcium</th><td>0.017   </td><td>1 (0.91-1.1)          </td><td>0.1 </td><td>0.75   </td></tr>\n",
       "</tbody>\n",
       "</table>\n"
      ],
      "text/latex": [
       "A data.frame: 44 × 4\n",
       "\\begin{tabular}{r|llll}\n",
       "  & beta & HR (95\\% CI for HR) & wald.test & p.value\\\\\n",
       "  & <chr> & <chr> & <chr> & <chr>\\\\\n",
       "\\hline\n",
       "\tcreatinine & 0.88     & 2.4 (2.1-2.8)          & 130  & 3.9e-29\\\\\n",
       "\turineoutput & -5e-04   & 1 (1-1)                & 100  & 7.8e-24\\\\\n",
       "\tbaseline\\_Scr & 0.83     & 2.3 (1.7-3)            & 33   & 9.7e-09\\\\\n",
       "\tcolloid\\_bolus & 6.5e-05  & 1 (1-1)                & 15   & 0.00011\\\\\n",
       "\tsofa\\_norenal & 0.13     & 1.1 (1.1-1.2)          & 110  & 7.8e-25\\\\\n",
       "\tCongestive\\_heart\\_failure & 0.13     & 1.1 (0.98-1.3)         & 2.7  & 0.1    \\\\\n",
       "\tweight & -0.015   & 0.98 (0.98-0.99)       & 81   & 2.6e-19\\\\\n",
       "\tage & 0.018    & 1 (1-1)                & 52   & 6.6e-13\\\\\n",
       "\tgender & -0.2     & 0.82 (0.71-0.94)       & 8    & 0.0046 \\\\\n",
       "\theight & -0.017   & 0.98 (0.98-0.99)       & 26   & 3.2e-07\\\\\n",
       "\taniongap & 0.14     & 1.1 (1.1-1.2)          & 320  & 9.6e-71\\\\\n",
       "\tpt & 0.044    & 1 (1-1.1)              & 140  & 1.9e-32\\\\\n",
       "\tsbp & -0.018   & 0.98 (0.98-0.99)       & 47   & 7.5e-12\\\\\n",
       "\tcum\\_fluidbance & 1e-04    & 1 (1-1)                & 60   & 1e-14  \\\\\n",
       "\tbaseexcess & -0.098   & 0.91 (0.89-0.92)       & 130  & 2.3e-30\\\\\n",
       "\themoglobin & -0.037   & 0.96 (0.93-1)          & 3.5  & 0.063  \\\\\n",
       "\tfluidbance & 0.00011  & 1 (1-1)                & 63   & 1.8e-15\\\\\n",
       "\tgcs & -0.085   & 0.92 (0.88-0.96)       & 14   & 0.00017\\\\\n",
       "\tmbp & -0.018   & 0.98 (0.97-0.99)       & 22   & 3.4e-06\\\\\n",
       "\tpotassium & 0.31     & 1.4 (1.2-1.6)          & 20   & 8e-06  \\\\\n",
       "\tspo2 & -0.064   & 0.94 (0.92-0.95)       & 52   & 4.9e-13\\\\\n",
       "\tplatelet & -0.00066 & 1 (1-1)                & 3.7  & 0.055  \\\\\n",
       "\tbicarbonate & -0.09    & 0.91 (0.9-0.93)        & 110  & 4.3e-26\\\\\n",
       "\tsodium & 0.0063   & 1 (0.99-1)             & 0.86 & 0.35   \\\\\n",
       "\ttemperature & -0.4     & 0.67 (0.61-0.74)       & 63   & 2.6e-15\\\\\n",
       "\tpo2 & -0.002   & 1 (1-1)                & 6    & 0.014  \\\\\n",
       "\tptt & 0.015    & 1 (1-1)                & 86   & 2.2e-20\\\\\n",
       "\tglucose & 0.0048   & 1 (1-1)                & 44   & 2.6e-11\\\\\n",
       "\tpco2 & -0.0047  & 1 (0.99-1)             & 1.2  & 0.28   \\\\\n",
       "\tchloride & -5.1e-05 & 1 (0.99-1)             & 0    & 0.99   \\\\\n",
       "\trbc & -0.15    & 0.86 (0.77-0.96)       & 7.4  & 0.0064 \\\\\n",
       "\twbc & 0.0084   & 1 (1-1)                & 30   & 4.4e-08\\\\\n",
       "\tph & -6.3     & 0.0018 (0.00062-0.005) & 140  & 2.4e-32\\\\\n",
       "\tmchc & -0.15    & 0.86 (0.83-0.9)        & 52   & 4.4e-13\\\\\n",
       "\tmcv & 0.037    & 1 (1-1)                & 65   & 8.1e-16\\\\\n",
       "\thematocrit & 0.0017   & 1 (0.99-1)             & 0.07 & 0.79   \\\\\n",
       "\theart\\_rate & 0.015    & 1 (1-1)                & 51   & 9.7e-13\\\\\n",
       "\tfio2 & 0.0096   & 1 (1-1)                & 14   & 0.00017\\\\\n",
       "\tresp\\_rate & 0.06     & 1.1 (1-1.1)            & 70   & 5.9e-17\\\\\n",
       "\tdbp & -0.0097  & 0.99 (0.98-1)          & 6.6  & 0.011  \\\\\n",
       "\tmch & 0.039    & 1 (1-1.1)              & 8.3  & 0.0039 \\\\\n",
       "\tlactate & 0.23     & 1.3 (1.2-1.3)          & 300  & 2.2e-66\\\\\n",
       "\trdw & 0.11     & 1.1 (1.1-1.1)          & 86   & 1.9e-20\\\\\n",
       "\tcalcium & 0.017    & 1 (0.91-1.1)           & 0.1  & 0.75   \\\\\n",
       "\\end{tabular}\n"
      ],
      "text/markdown": [
       "\n",
       "A data.frame: 44 × 4\n",
       "\n",
       "| <!--/--> | beta &lt;chr&gt; | HR (95% CI for HR) &lt;chr&gt; | wald.test &lt;chr&gt; | p.value &lt;chr&gt; |\n",
       "|---|---|---|---|---|\n",
       "| creatinine | 0.88     | 2.4 (2.1-2.8)          | 130  | 3.9e-29 |\n",
       "| urineoutput | -5e-04   | 1 (1-1)                | 100  | 7.8e-24 |\n",
       "| baseline_Scr | 0.83     | 2.3 (1.7-3)            | 33   | 9.7e-09 |\n",
       "| colloid_bolus | 6.5e-05  | 1 (1-1)                | 15   | 0.00011 |\n",
       "| sofa_norenal | 0.13     | 1.1 (1.1-1.2)          | 110  | 7.8e-25 |\n",
       "| Congestive_heart_failure | 0.13     | 1.1 (0.98-1.3)         | 2.7  | 0.1     |\n",
       "| weight | -0.015   | 0.98 (0.98-0.99)       | 81   | 2.6e-19 |\n",
       "| age | 0.018    | 1 (1-1)                | 52   | 6.6e-13 |\n",
       "| gender | -0.2     | 0.82 (0.71-0.94)       | 8    | 0.0046  |\n",
       "| height | -0.017   | 0.98 (0.98-0.99)       | 26   | 3.2e-07 |\n",
       "| aniongap | 0.14     | 1.1 (1.1-1.2)          | 320  | 9.6e-71 |\n",
       "| pt | 0.044    | 1 (1-1.1)              | 140  | 1.9e-32 |\n",
       "| sbp | -0.018   | 0.98 (0.98-0.99)       | 47   | 7.5e-12 |\n",
       "| cum_fluidbance | 1e-04    | 1 (1-1)                | 60   | 1e-14   |\n",
       "| baseexcess | -0.098   | 0.91 (0.89-0.92)       | 130  | 2.3e-30 |\n",
       "| hemoglobin | -0.037   | 0.96 (0.93-1)          | 3.5  | 0.063   |\n",
       "| fluidbance | 0.00011  | 1 (1-1)                | 63   | 1.8e-15 |\n",
       "| gcs | -0.085   | 0.92 (0.88-0.96)       | 14   | 0.00017 |\n",
       "| mbp | -0.018   | 0.98 (0.97-0.99)       | 22   | 3.4e-06 |\n",
       "| potassium | 0.31     | 1.4 (1.2-1.6)          | 20   | 8e-06   |\n",
       "| spo2 | -0.064   | 0.94 (0.92-0.95)       | 52   | 4.9e-13 |\n",
       "| platelet | -0.00066 | 1 (1-1)                | 3.7  | 0.055   |\n",
       "| bicarbonate | -0.09    | 0.91 (0.9-0.93)        | 110  | 4.3e-26 |\n",
       "| sodium | 0.0063   | 1 (0.99-1)             | 0.86 | 0.35    |\n",
       "| temperature | -0.4     | 0.67 (0.61-0.74)       | 63   | 2.6e-15 |\n",
       "| po2 | -0.002   | 1 (1-1)                | 6    | 0.014   |\n",
       "| ptt | 0.015    | 1 (1-1)                | 86   | 2.2e-20 |\n",
       "| glucose | 0.0048   | 1 (1-1)                | 44   | 2.6e-11 |\n",
       "| pco2 | -0.0047  | 1 (0.99-1)             | 1.2  | 0.28    |\n",
       "| chloride | -5.1e-05 | 1 (0.99-1)             | 0    | 0.99    |\n",
       "| rbc | -0.15    | 0.86 (0.77-0.96)       | 7.4  | 0.0064  |\n",
       "| wbc | 0.0084   | 1 (1-1)                | 30   | 4.4e-08 |\n",
       "| ph | -6.3     | 0.0018 (0.00062-0.005) | 140  | 2.4e-32 |\n",
       "| mchc | -0.15    | 0.86 (0.83-0.9)        | 52   | 4.4e-13 |\n",
       "| mcv | 0.037    | 1 (1-1)                | 65   | 8.1e-16 |\n",
       "| hematocrit | 0.0017   | 1 (0.99-1)             | 0.07 | 0.79    |\n",
       "| heart_rate | 0.015    | 1 (1-1)                | 51   | 9.7e-13 |\n",
       "| fio2 | 0.0096   | 1 (1-1)                | 14   | 0.00017 |\n",
       "| resp_rate | 0.06     | 1.1 (1-1.1)            | 70   | 5.9e-17 |\n",
       "| dbp | -0.0097  | 0.99 (0.98-1)          | 6.6  | 0.011   |\n",
       "| mch | 0.039    | 1 (1-1.1)              | 8.3  | 0.0039  |\n",
       "| lactate | 0.23     | 1.3 (1.2-1.3)          | 300  | 2.2e-66 |\n",
       "| rdw | 0.11     | 1.1 (1.1-1.1)          | 86   | 1.9e-20 |\n",
       "| calcium | 0.017    | 1 (0.91-1.1)           | 0.1  | 0.75    |\n",
       "\n"
      ],
      "text/plain": [
       "                         beta     HR (95% CI for HR)     wald.test p.value\n",
       "creatinine               0.88     2.4 (2.1-2.8)          130       3.9e-29\n",
       "urineoutput              -5e-04   1 (1-1)                100       7.8e-24\n",
       "baseline_Scr             0.83     2.3 (1.7-3)            33        9.7e-09\n",
       "colloid_bolus            6.5e-05  1 (1-1)                15        0.00011\n",
       "sofa_norenal             0.13     1.1 (1.1-1.2)          110       7.8e-25\n",
       "Congestive_heart_failure 0.13     1.1 (0.98-1.3)         2.7       0.1    \n",
       "weight                   -0.015   0.98 (0.98-0.99)       81        2.6e-19\n",
       "age                      0.018    1 (1-1)                52        6.6e-13\n",
       "gender                   -0.2     0.82 (0.71-0.94)       8         0.0046 \n",
       "height                   -0.017   0.98 (0.98-0.99)       26        3.2e-07\n",
       "aniongap                 0.14     1.1 (1.1-1.2)          320       9.6e-71\n",
       "pt                       0.044    1 (1-1.1)              140       1.9e-32\n",
       "sbp                      -0.018   0.98 (0.98-0.99)       47        7.5e-12\n",
       "cum_fluidbance           1e-04    1 (1-1)                60        1e-14  \n",
       "baseexcess               -0.098   0.91 (0.89-0.92)       130       2.3e-30\n",
       "hemoglobin               -0.037   0.96 (0.93-1)          3.5       0.063  \n",
       "fluidbance               0.00011  1 (1-1)                63        1.8e-15\n",
       "gcs                      -0.085   0.92 (0.88-0.96)       14        0.00017\n",
       "mbp                      -0.018   0.98 (0.97-0.99)       22        3.4e-06\n",
       "potassium                0.31     1.4 (1.2-1.6)          20        8e-06  \n",
       "spo2                     -0.064   0.94 (0.92-0.95)       52        4.9e-13\n",
       "platelet                 -0.00066 1 (1-1)                3.7       0.055  \n",
       "bicarbonate              -0.09    0.91 (0.9-0.93)        110       4.3e-26\n",
       "sodium                   0.0063   1 (0.99-1)             0.86      0.35   \n",
       "temperature              -0.4     0.67 (0.61-0.74)       63        2.6e-15\n",
       "po2                      -0.002   1 (1-1)                6         0.014  \n",
       "ptt                      0.015    1 (1-1)                86        2.2e-20\n",
       "glucose                  0.0048   1 (1-1)                44        2.6e-11\n",
       "pco2                     -0.0047  1 (0.99-1)             1.2       0.28   \n",
       "chloride                 -5.1e-05 1 (0.99-1)             0         0.99   \n",
       "rbc                      -0.15    0.86 (0.77-0.96)       7.4       0.0064 \n",
       "wbc                      0.0084   1 (1-1)                30        4.4e-08\n",
       "ph                       -6.3     0.0018 (0.00062-0.005) 140       2.4e-32\n",
       "mchc                     -0.15    0.86 (0.83-0.9)        52        4.4e-13\n",
       "mcv                      0.037    1 (1-1)                65        8.1e-16\n",
       "hematocrit               0.0017   1 (0.99-1)             0.07      0.79   \n",
       "heart_rate               0.015    1 (1-1)                51        9.7e-13\n",
       "fio2                     0.0096   1 (1-1)                14        0.00017\n",
       "resp_rate                0.06     1.1 (1-1.1)            70        5.9e-17\n",
       "dbp                      -0.0097  0.99 (0.98-1)          6.6       0.011  \n",
       "mch                      0.039    1 (1-1.1)              8.3       0.0039 \n",
       "lactate                  0.23     1.3 (1.2-1.3)          300       2.2e-66\n",
       "rdw                      0.11     1.1 (1.1-1.1)          86        1.9e-20\n",
       "calcium                  0.017    1 (0.91-1.1)           0.1       0.75   "
      ]
     },
     "metadata": {},
     "output_type": "display_data"
    }
   ],
   "source": [
    "# 协变量设定：\n",
    "# demo\n",
    "# 器官障碍：肾脏，其他器官\n",
    "covariates <- c('creatinine', 'urineoutput', 'baseline_Scr',\n",
    "       'colloid_bolus', 'sofa_norenal', 'Congestive_heart_failure', 'weight',\n",
    "       'age', 'gender', 'height',\n",
    "       'aniongap', 'pt', 'sbp',  'cum_fluidbance',  \n",
    "       'baseexcess', 'hemoglobin', \n",
    "       'fluidbance',  'gcs', 'mbp', 'potassium', 'spo2',\n",
    "       'platelet',    'bicarbonate', 'sodium',\n",
    "       'temperature',  'po2', 'ptt', 'glucose', 'pco2', 'chloride',\n",
    "       'rbc', 'wbc', 'ph', 'mchc', 'mcv', 'hematocrit',\n",
    "         'heart_rate', 'fio2',\n",
    "       'resp_rate',  'dbp', 'mch', \n",
    "       'lactate', 'rdw', 'calcium' \n",
    "          #       'respiration_sofa', 'cardiovascular_sofa','cns_sofa','coagulation_sofa','liver_sofa', 'renal_sofa', 'sofa',\n",
    "                )\n",
    "\n",
    "# 得到一个列表分别为，对每个变量构建的生存对象公式\n",
    "univ_formulas <- sapply(covariates,function(x) as.formula(paste('Surv(survival_28day, mortality_28d)~', x)))\n",
    "\n",
    "univ_models <- lapply( univ_formulas, function(x){coxph(x, data = df_select)})\n",
    "\n",
    "# 结果总和\n",
    "univ_results <- lapply(univ_models,\n",
    "                       function(x){ \n",
    "                          x <- summary(x)\n",
    "                          p.value<-signif(x$wald[\"pvalue\"], digits=2)\n",
    "                          wald.test<-signif(x$wald[\"test\"], digits=2)\n",
    "                          beta<-signif(x$coef[1], digits=2);#coeficient beta\n",
    "                          HR <-signif(x$coef[2], digits=2);#exp(beta)\n",
    "                          HR.confint.lower <- signif(x$conf.int[,\"lower .95\"],2)\n",
    "                          HR.confint.upper <- signif(x$conf.int[,\"upper .95\"],2)\n",
    "                          HR <- paste0(HR, \" (\", \n",
    "                                       HR.confint.lower, \"-\", HR.confint.upper, \")\")\n",
    "                          res<-c(beta, HR, wald.test, p.value)\n",
    "                          names(res)<-c(\"beta\", \"HR (95% CI for HR)\",\"wald.test\", \"p.value\")\n",
    "                          return(res)\n",
    "                          #return(exp(cbind(coef(x),confint(x))))\n",
    "                         })\n",
    "res <- t(as.data.frame(univ_results, check.names = FALSE))\n",
    "res <- as.data.frame(res)\n",
    "res"
   ]
  },
  {
   "cell_type": "markdown",
   "id": "04f3aece",
   "metadata": {},
   "source": [
    "## p值为0.05 筛选协变量"
   ]
  },
  {
   "cell_type": "code",
   "execution_count": 5,
   "id": "63cb03a3",
   "metadata": {
    "ExecuteTime": {
     "end_time": "2023-12-20T08:01:34.061201Z",
     "start_time": "2023-12-20T07:52:50.359Z"
    }
   },
   "outputs": [
    {
     "name": "stdout",
     "output_type": "stream",
     "text": [
      "[1] \"总变量数：44\"\n",
      "[1] \"p值筛选后的变量数：36\"\n"
     ]
    },
    {
     "data": {
      "text/html": [
       "'Surv(survival_28day, mortality_28d) ~ + creatinine + urineoutput + baseline_Scr + colloid_bolus + sofa_norenal + weight + age + gender + height + aniongap + pt + sbp + cum_fluidbance + baseexcess + fluidbance + gcs + mbp + potassium + spo2 + bicarbonate + temperature + po2 + ptt + glucose + rbc + wbc + ph + mchc + mcv + heart_rate + fio2 + resp_rate + dbp + mch + lactate + rdw'"
      ],
      "text/latex": [
       "'Surv(survival\\_28day, mortality\\_28d) \\textasciitilde{} + creatinine + urineoutput + baseline\\_Scr + colloid\\_bolus + sofa\\_norenal + weight + age + gender + height + aniongap + pt + sbp + cum\\_fluidbance + baseexcess + fluidbance + gcs + mbp + potassium + spo2 + bicarbonate + temperature + po2 + ptt + glucose + rbc + wbc + ph + mchc + mcv + heart\\_rate + fio2 + resp\\_rate + dbp + mch + lactate + rdw'"
      ],
      "text/markdown": [
       "'Surv(survival_28day, mortality_28d) ~ + creatinine + urineoutput + baseline_Scr + colloid_bolus + sofa_norenal + weight + age + gender + height + aniongap + pt + sbp + cum_fluidbance + baseexcess + fluidbance + gcs + mbp + potassium + spo2 + bicarbonate + temperature + po2 + ptt + glucose + rbc + wbc + ph + mchc + mcv + heart_rate + fio2 + resp_rate + dbp + mch + lactate + rdw'"
      ],
      "text/plain": [
       "[1] \"Surv(survival_28day, mortality_28d) ~ + creatinine + urineoutput + baseline_Scr + colloid_bolus + sofa_norenal + weight + age + gender + height + aniongap + pt + sbp + cum_fluidbance + baseexcess + fluidbance + gcs + mbp + potassium + spo2 + bicarbonate + temperature + po2 + ptt + glucose + rbc + wbc + ph + mchc + mcv + heart_rate + fio2 + resp_rate + dbp + mch + lactate + rdw\""
      ]
     },
     "metadata": {},
     "output_type": "display_data"
    }
   ],
   "source": [
    "res$p.value <- as.numeric(res$p.value)\n",
    "print(paste0(\"总变量数：\",dim(res)[1]))\n",
    "print(paste0(\"p值筛选后的变量数：\",dim(res[res$p.value <= Pvalue_cut,])[1]))\n",
    "\n",
    "resstr <- paste(rownames(res[res$p.value <= Pvalue_cut,]), collapse = \" + \")\n",
    "resstr <- paste(\"Surv(survival_28day, mortality_28d) ~ +\", resstr)\n",
    "resstr"
   ]
  },
  {
   "cell_type": "markdown",
   "id": "91cf98a7",
   "metadata": {},
   "source": [
    "# 多因素\n",
    "- 多因素分析是对一个独立变量是否受一个或多个因素或变量影响而进行的分析。"
   ]
  },
  {
   "cell_type": "code",
   "execution_count": 6,
   "id": "a87ad36b",
   "metadata": {
    "ExecuteTime": {
     "end_time": "2023-12-20T08:01:34.178621Z",
     "start_time": "2023-12-20T07:52:50.366Z"
    }
   },
   "outputs": [
    {
     "data": {
      "text/plain": [
       "Call:\n",
       "coxph(formula = as.formula(resstr), data = df_select)\n",
       "\n",
       "  n= 4713, number of events= 804 \n",
       "\n",
       "                     coef  exp(coef)   se(coef)      z Pr(>|z|)    \n",
       "creatinine      3.171e-01  1.373e+00  1.269e-01  2.498 0.012473 *  \n",
       "urineoutput    -2.299e-04  9.998e-01  1.421e-04 -1.617 0.105826    \n",
       "baseline_Scr    8.811e-02  1.092e+00  1.829e-01  0.482 0.630060    \n",
       "colloid_bolus  -2.449e-05  1.000e+00  1.363e-04 -0.180 0.857396    \n",
       "sofa_norenal    5.615e-02  1.058e+00  1.573e-02  3.571 0.000356 ***\n",
       "weight         -9.766e-03  9.903e-01  1.874e-03 -5.211 1.88e-07 ***\n",
       "age             1.236e-02  1.012e+00  2.767e-03  4.467 7.92e-06 ***\n",
       "gender          2.384e-01  1.269e+00  1.023e-01  2.330 0.019811 *  \n",
       "height         -4.836e-03  9.952e-01  4.781e-03 -1.011 0.311807    \n",
       "aniongap        5.327e-02  1.055e+00  1.424e-02  3.740 0.000184 ***\n",
       "pt              8.485e-03  1.009e+00  5.108e-03  1.661 0.096689 .  \n",
       "sbp            -5.251e-03  9.948e-01  4.046e-03 -1.298 0.194316    \n",
       "cum_fluidbance  4.281e-05  1.000e+00  6.255e-05  0.684 0.493705    \n",
       "baseexcess      2.628e-02  1.027e+00  2.037e-02  1.290 0.196881    \n",
       "fluidbance     -7.346e-05  9.999e-01  1.498e-04 -0.490 0.623964    \n",
       "gcs            -3.462e-02  9.660e-01  2.475e-02 -1.399 0.161889    \n",
       "mbp             1.064e-02  1.011e+00  9.570e-03  1.112 0.266141    \n",
       "potassium       5.902e-02  1.061e+00  7.584e-02  0.778 0.436433    \n",
       "spo2           -6.707e-03  9.933e-01  9.991e-03 -0.671 0.502022    \n",
       "bicarbonate    -1.025e-02  9.898e-01  1.661e-02 -0.617 0.537301    \n",
       "temperature    -1.673e-01  8.459e-01  5.641e-02 -2.966 0.003017 ** \n",
       "po2             1.175e-03  1.001e+00  7.832e-04  1.501 0.133448    \n",
       "ptt             7.867e-03  1.008e+00  1.886e-03  4.170 3.04e-05 ***\n",
       "glucose         1.883e-03  1.002e+00  6.782e-04  2.776 0.005505 ** \n",
       "rbc             5.484e-02  1.056e+00  6.756e-02  0.812 0.416915    \n",
       "wbc             2.466e-03  1.002e+00  1.981e-03  1.245 0.213129    \n",
       "ph             -1.904e+00  1.489e-01  8.735e-01 -2.180 0.029259 *  \n",
       "mchc           -1.416e-01  8.680e-01  1.578e-01 -0.897 0.369705    \n",
       "mcv            -9.052e-03  9.910e-01  5.579e-02 -0.162 0.871121    \n",
       "heart_rate      9.701e-03  1.010e+00  2.508e-03  3.868 0.000110 ***\n",
       "fio2            2.192e-03  1.002e+00  2.929e-03  0.748 0.454199    \n",
       "resp_rate       2.719e-02  1.028e+00  8.618e-03  3.154 0.001608 ** \n",
       "dbp            -9.437e-03  9.906e-01  7.945e-03 -1.188 0.234902    \n",
       "mch             7.958e-02  1.083e+00  1.719e-01  0.463 0.643504    \n",
       "lactate         3.397e-02  1.035e+00  2.664e-02  1.275 0.202312    \n",
       "rdw             5.202e-02  1.053e+00  1.423e-02  3.656 0.000256 ***\n",
       "---\n",
       "Signif. codes:  0 ‘***’ 0.001 ‘**’ 0.01 ‘*’ 0.05 ‘.’ 0.1 ‘ ’ 1\n",
       "\n",
       "               exp(coef) exp(-coef) lower .95 upper .95\n",
       "creatinine        1.3731     0.7283   1.07073    1.7609\n",
       "urineoutput       0.9998     1.0002   0.99949    1.0000\n",
       "baseline_Scr      1.0921     0.9157   0.76305    1.5631\n",
       "colloid_bolus     1.0000     1.0000   0.99971    1.0002\n",
       "sofa_norenal      1.0578     0.9454   1.02565    1.0909\n",
       "weight            0.9903     1.0098   0.98665    0.9939\n",
       "age               1.0124     0.9877   1.00696    1.0179\n",
       "gender            1.2693     0.7879   1.03858    1.5512\n",
       "height            0.9952     1.0048   0.98589    1.0045\n",
       "aniongap          1.0547     0.9481   1.02568    1.0846\n",
       "pt                1.0085     0.9916   0.99847    1.0187\n",
       "sbp               0.9948     1.0053   0.98691    1.0027\n",
       "cum_fluidbance    1.0000     1.0000   0.99992    1.0002\n",
       "baseexcess        1.0266     0.9741   0.98646    1.0684\n",
       "fluidbance        0.9999     1.0001   0.99963    1.0002\n",
       "gcs               0.9660     1.0352   0.92023    1.0140\n",
       "mbp               1.0107     0.9894   0.99192    1.0298\n",
       "potassium         1.0608     0.9427   0.91428    1.2308\n",
       "spo2              0.9933     1.0067   0.97405    1.0130\n",
       "bicarbonate       0.9898     1.0103   0.95811    1.0226\n",
       "temperature       0.8459     1.1821   0.75740    0.9448\n",
       "po2               1.0012     0.9988   0.99964    1.0027\n",
       "ptt               1.0079     0.9922   1.00418    1.0116\n",
       "glucose           1.0019     0.9981   1.00055    1.0032\n",
       "rbc               1.0564     0.9466   0.92536    1.2059\n",
       "wbc               1.0025     0.9975   0.99858    1.0064\n",
       "ph                0.1489     6.7145   0.02688    0.8252\n",
       "mchc              0.8680     1.1521   0.63705    1.1827\n",
       "mcv               0.9910     1.0091   0.88834    1.1055\n",
       "heart_rate        1.0097     0.9903   1.00480    1.0147\n",
       "fio2              1.0022     0.9978   0.99646    1.0080\n",
       "resp_rate         1.0276     0.9732   1.01035    1.0451\n",
       "dbp               0.9906     1.0095   0.97530    1.0062\n",
       "mch               1.0828     0.9235   0.77304    1.5168\n",
       "lactate           1.0346     0.9666   0.98192    1.0900\n",
       "rdw               1.0534     0.9493   1.02443    1.0832\n",
       "\n",
       "Concordance= 0.758  (se = 0.01 )\n",
       "Likelihood ratio test= 637.5  on 36 df,   p=<2e-16\n",
       "Wald test            = 762.2  on 36 df,   p=<2e-16\n",
       "Score (logrank) test = 821.9  on 36 df,   p=<2e-16\n"
      ]
     },
     "metadata": {},
     "output_type": "display_data"
    }
   ],
   "source": [
    "res.cox <- coxph(as.formula(resstr), data = df_select)\n",
    "summary(res.cox)"
   ]
  },
  {
   "cell_type": "code",
   "execution_count": 7,
   "id": "d98f3fd1",
   "metadata": {
    "ExecuteTime": {
     "end_time": "2023-12-20T08:01:34.265465Z",
     "start_time": "2023-12-20T07:52:50.372Z"
    }
   },
   "outputs": [
    {
     "data": {
      "text/html": [
       "<table class=\"dataframe\">\n",
       "<caption>A data.frame: 36 × 6</caption>\n",
       "<thead>\n",
       "\t<tr><th></th><th scope=col>Variable</th><th scope=col>HR</th><th scope=col>CI5</th><th scope=col>CI95</th><th scope=col>HR (95% CI)</th><th scope=col>Pvalue</th></tr>\n",
       "\t<tr><th></th><th scope=col>&lt;chr&gt;</th><th scope=col>&lt;dbl&gt;</th><th scope=col>&lt;dbl&gt;</th><th scope=col>&lt;dbl&gt;</th><th scope=col>&lt;chr&gt;</th><th scope=col>&lt;dbl&gt;</th></tr>\n",
       "</thead>\n",
       "<tbody>\n",
       "\t<tr><th scope=row>creatinine</th><td>creatinine    </td><td>1.37</td><td>1.07</td><td>1.76</td><td>1.37 (1.07-1.76)</td><td>1.25e-02</td></tr>\n",
       "\t<tr><th scope=row>urineoutput</th><td>urineoutput   </td><td>1.00</td><td>1.00</td><td>1.00</td><td>1 (1-1)         </td><td>1.06e-01</td></tr>\n",
       "\t<tr><th scope=row>baseline_Scr</th><td>baseline_Scr  </td><td>1.09</td><td>0.76</td><td>1.56</td><td>1.09 (0.76-1.56)</td><td>6.30e-01</td></tr>\n",
       "\t<tr><th scope=row>colloid_bolus</th><td>colloid_bolus </td><td>1.00</td><td>1.00</td><td>1.00</td><td>1 (1-1)         </td><td>8.57e-01</td></tr>\n",
       "\t<tr><th scope=row>sofa_norenal</th><td>sofa_norenal  </td><td>1.06</td><td>1.03</td><td>1.09</td><td>1.06 (1.03-1.09)</td><td>3.56e-04</td></tr>\n",
       "\t<tr><th scope=row>weight</th><td>weight        </td><td>0.99</td><td>0.99</td><td>0.99</td><td>0.99 (0.99-0.99)</td><td>1.88e-07</td></tr>\n",
       "\t<tr><th scope=row>age</th><td>age           </td><td>1.01</td><td>1.01</td><td>1.02</td><td>1.01 (1.01-1.02)</td><td>7.92e-06</td></tr>\n",
       "\t<tr><th scope=row>gender</th><td>gender        </td><td>1.27</td><td>1.04</td><td>1.55</td><td>1.27 (1.04-1.55)</td><td>1.98e-02</td></tr>\n",
       "\t<tr><th scope=row>height</th><td>height        </td><td>1.00</td><td>0.99</td><td>1.00</td><td>1 (0.99-1)      </td><td>3.12e-01</td></tr>\n",
       "\t<tr><th scope=row>aniongap</th><td>aniongap      </td><td>1.05</td><td>1.03</td><td>1.08</td><td>1.05 (1.03-1.08)</td><td>1.84e-04</td></tr>\n",
       "\t<tr><th scope=row>pt</th><td>pt            </td><td>1.01</td><td>1.00</td><td>1.02</td><td>1.01 (1-1.02)   </td><td>9.67e-02</td></tr>\n",
       "\t<tr><th scope=row>sbp</th><td>sbp           </td><td>0.99</td><td>0.99</td><td>1.00</td><td>0.99 (0.99-1)   </td><td>1.94e-01</td></tr>\n",
       "\t<tr><th scope=row>cum_fluidbance</th><td>cum_fluidbance</td><td>1.00</td><td>1.00</td><td>1.00</td><td>1 (1-1)         </td><td>4.94e-01</td></tr>\n",
       "\t<tr><th scope=row>baseexcess</th><td>baseexcess    </td><td>1.03</td><td>0.99</td><td>1.07</td><td>1.03 (0.99-1.07)</td><td>1.97e-01</td></tr>\n",
       "\t<tr><th scope=row>fluidbance</th><td>fluidbance    </td><td>1.00</td><td>1.00</td><td>1.00</td><td>1 (1-1)         </td><td>6.24e-01</td></tr>\n",
       "\t<tr><th scope=row>gcs</th><td>gcs           </td><td>0.97</td><td>0.92</td><td>1.01</td><td>0.97 (0.92-1.01)</td><td>1.62e-01</td></tr>\n",
       "\t<tr><th scope=row>mbp</th><td>mbp           </td><td>1.01</td><td>0.99</td><td>1.03</td><td>1.01 (0.99-1.03)</td><td>2.66e-01</td></tr>\n",
       "\t<tr><th scope=row>potassium</th><td>potassium     </td><td>1.06</td><td>0.91</td><td>1.23</td><td>1.06 (0.91-1.23)</td><td>4.36e-01</td></tr>\n",
       "\t<tr><th scope=row>spo2</th><td>spo2          </td><td>0.99</td><td>0.97</td><td>1.01</td><td>0.99 (0.97-1.01)</td><td>5.02e-01</td></tr>\n",
       "\t<tr><th scope=row>bicarbonate</th><td>bicarbonate   </td><td>0.99</td><td>0.96</td><td>1.02</td><td>0.99 (0.96-1.02)</td><td>5.37e-01</td></tr>\n",
       "\t<tr><th scope=row>temperature</th><td>temperature   </td><td>0.85</td><td>0.76</td><td>0.94</td><td>0.85 (0.76-0.94)</td><td>3.02e-03</td></tr>\n",
       "\t<tr><th scope=row>po2</th><td>po2           </td><td>1.00</td><td>1.00</td><td>1.00</td><td>1 (1-1)         </td><td>1.33e-01</td></tr>\n",
       "\t<tr><th scope=row>ptt</th><td>ptt           </td><td>1.01</td><td>1.00</td><td>1.01</td><td>1.01 (1-1.01)   </td><td>3.04e-05</td></tr>\n",
       "\t<tr><th scope=row>glucose</th><td>glucose       </td><td>1.00</td><td>1.00</td><td>1.00</td><td>1 (1-1)         </td><td>5.50e-03</td></tr>\n",
       "\t<tr><th scope=row>rbc</th><td>rbc           </td><td>1.06</td><td>0.93</td><td>1.21</td><td>1.06 (0.93-1.21)</td><td>4.17e-01</td></tr>\n",
       "\t<tr><th scope=row>wbc</th><td>wbc           </td><td>1.00</td><td>1.00</td><td>1.01</td><td>1 (1-1.01)      </td><td>2.13e-01</td></tr>\n",
       "\t<tr><th scope=row>ph</th><td>ph            </td><td>0.15</td><td>0.03</td><td>0.83</td><td>0.15 (0.03-0.83)</td><td>2.93e-02</td></tr>\n",
       "\t<tr><th scope=row>mchc</th><td>mchc          </td><td>0.87</td><td>0.64</td><td>1.18</td><td>0.87 (0.64-1.18)</td><td>3.70e-01</td></tr>\n",
       "\t<tr><th scope=row>mcv</th><td>mcv           </td><td>0.99</td><td>0.89</td><td>1.11</td><td>0.99 (0.89-1.11)</td><td>8.71e-01</td></tr>\n",
       "\t<tr><th scope=row>heart_rate</th><td>heart_rate    </td><td>1.01</td><td>1.00</td><td>1.01</td><td>1.01 (1-1.01)   </td><td>1.10e-04</td></tr>\n",
       "\t<tr><th scope=row>fio2</th><td>fio2          </td><td>1.00</td><td>1.00</td><td>1.01</td><td>1 (1-1.01)      </td><td>4.54e-01</td></tr>\n",
       "\t<tr><th scope=row>resp_rate</th><td>resp_rate     </td><td>1.03</td><td>1.01</td><td>1.05</td><td>1.03 (1.01-1.05)</td><td>1.61e-03</td></tr>\n",
       "\t<tr><th scope=row>dbp</th><td>dbp           </td><td>0.99</td><td>0.98</td><td>1.01</td><td>0.99 (0.98-1.01)</td><td>2.35e-01</td></tr>\n",
       "\t<tr><th scope=row>mch</th><td>mch           </td><td>1.08</td><td>0.77</td><td>1.52</td><td>1.08 (0.77-1.52)</td><td>6.44e-01</td></tr>\n",
       "\t<tr><th scope=row>lactate</th><td>lactate       </td><td>1.03</td><td>0.98</td><td>1.09</td><td>1.03 (0.98-1.09)</td><td>2.02e-01</td></tr>\n",
       "\t<tr><th scope=row>rdw</th><td>rdw           </td><td>1.05</td><td>1.02</td><td>1.08</td><td>1.05 (1.02-1.08)</td><td>2.56e-04</td></tr>\n",
       "</tbody>\n",
       "</table>\n"
      ],
      "text/latex": [
       "A data.frame: 36 × 6\n",
       "\\begin{tabular}{r|llllll}\n",
       "  & Variable & HR & CI5 & CI95 & HR (95\\% CI) & Pvalue\\\\\n",
       "  & <chr> & <dbl> & <dbl> & <dbl> & <chr> & <dbl>\\\\\n",
       "\\hline\n",
       "\tcreatinine & creatinine     & 1.37 & 1.07 & 1.76 & 1.37 (1.07-1.76) & 1.25e-02\\\\\n",
       "\turineoutput & urineoutput    & 1.00 & 1.00 & 1.00 & 1 (1-1)          & 1.06e-01\\\\\n",
       "\tbaseline\\_Scr & baseline\\_Scr   & 1.09 & 0.76 & 1.56 & 1.09 (0.76-1.56) & 6.30e-01\\\\\n",
       "\tcolloid\\_bolus & colloid\\_bolus  & 1.00 & 1.00 & 1.00 & 1 (1-1)          & 8.57e-01\\\\\n",
       "\tsofa\\_norenal & sofa\\_norenal   & 1.06 & 1.03 & 1.09 & 1.06 (1.03-1.09) & 3.56e-04\\\\\n",
       "\tweight & weight         & 0.99 & 0.99 & 0.99 & 0.99 (0.99-0.99) & 1.88e-07\\\\\n",
       "\tage & age            & 1.01 & 1.01 & 1.02 & 1.01 (1.01-1.02) & 7.92e-06\\\\\n",
       "\tgender & gender         & 1.27 & 1.04 & 1.55 & 1.27 (1.04-1.55) & 1.98e-02\\\\\n",
       "\theight & height         & 1.00 & 0.99 & 1.00 & 1 (0.99-1)       & 3.12e-01\\\\\n",
       "\taniongap & aniongap       & 1.05 & 1.03 & 1.08 & 1.05 (1.03-1.08) & 1.84e-04\\\\\n",
       "\tpt & pt             & 1.01 & 1.00 & 1.02 & 1.01 (1-1.02)    & 9.67e-02\\\\\n",
       "\tsbp & sbp            & 0.99 & 0.99 & 1.00 & 0.99 (0.99-1)    & 1.94e-01\\\\\n",
       "\tcum\\_fluidbance & cum\\_fluidbance & 1.00 & 1.00 & 1.00 & 1 (1-1)          & 4.94e-01\\\\\n",
       "\tbaseexcess & baseexcess     & 1.03 & 0.99 & 1.07 & 1.03 (0.99-1.07) & 1.97e-01\\\\\n",
       "\tfluidbance & fluidbance     & 1.00 & 1.00 & 1.00 & 1 (1-1)          & 6.24e-01\\\\\n",
       "\tgcs & gcs            & 0.97 & 0.92 & 1.01 & 0.97 (0.92-1.01) & 1.62e-01\\\\\n",
       "\tmbp & mbp            & 1.01 & 0.99 & 1.03 & 1.01 (0.99-1.03) & 2.66e-01\\\\\n",
       "\tpotassium & potassium      & 1.06 & 0.91 & 1.23 & 1.06 (0.91-1.23) & 4.36e-01\\\\\n",
       "\tspo2 & spo2           & 0.99 & 0.97 & 1.01 & 0.99 (0.97-1.01) & 5.02e-01\\\\\n",
       "\tbicarbonate & bicarbonate    & 0.99 & 0.96 & 1.02 & 0.99 (0.96-1.02) & 5.37e-01\\\\\n",
       "\ttemperature & temperature    & 0.85 & 0.76 & 0.94 & 0.85 (0.76-0.94) & 3.02e-03\\\\\n",
       "\tpo2 & po2            & 1.00 & 1.00 & 1.00 & 1 (1-1)          & 1.33e-01\\\\\n",
       "\tptt & ptt            & 1.01 & 1.00 & 1.01 & 1.01 (1-1.01)    & 3.04e-05\\\\\n",
       "\tglucose & glucose        & 1.00 & 1.00 & 1.00 & 1 (1-1)          & 5.50e-03\\\\\n",
       "\trbc & rbc            & 1.06 & 0.93 & 1.21 & 1.06 (0.93-1.21) & 4.17e-01\\\\\n",
       "\twbc & wbc            & 1.00 & 1.00 & 1.01 & 1 (1-1.01)       & 2.13e-01\\\\\n",
       "\tph & ph             & 0.15 & 0.03 & 0.83 & 0.15 (0.03-0.83) & 2.93e-02\\\\\n",
       "\tmchc & mchc           & 0.87 & 0.64 & 1.18 & 0.87 (0.64-1.18) & 3.70e-01\\\\\n",
       "\tmcv & mcv            & 0.99 & 0.89 & 1.11 & 0.99 (0.89-1.11) & 8.71e-01\\\\\n",
       "\theart\\_rate & heart\\_rate     & 1.01 & 1.00 & 1.01 & 1.01 (1-1.01)    & 1.10e-04\\\\\n",
       "\tfio2 & fio2           & 1.00 & 1.00 & 1.01 & 1 (1-1.01)       & 4.54e-01\\\\\n",
       "\tresp\\_rate & resp\\_rate      & 1.03 & 1.01 & 1.05 & 1.03 (1.01-1.05) & 1.61e-03\\\\\n",
       "\tdbp & dbp            & 0.99 & 0.98 & 1.01 & 0.99 (0.98-1.01) & 2.35e-01\\\\\n",
       "\tmch & mch            & 1.08 & 0.77 & 1.52 & 1.08 (0.77-1.52) & 6.44e-01\\\\\n",
       "\tlactate & lactate        & 1.03 & 0.98 & 1.09 & 1.03 (0.98-1.09) & 2.02e-01\\\\\n",
       "\trdw & rdw            & 1.05 & 1.02 & 1.08 & 1.05 (1.02-1.08) & 2.56e-04\\\\\n",
       "\\end{tabular}\n"
      ],
      "text/markdown": [
       "\n",
       "A data.frame: 36 × 6\n",
       "\n",
       "| <!--/--> | Variable &lt;chr&gt; | HR &lt;dbl&gt; | CI5 &lt;dbl&gt; | CI95 &lt;dbl&gt; | HR (95% CI) &lt;chr&gt; | Pvalue &lt;dbl&gt; |\n",
       "|---|---|---|---|---|---|---|\n",
       "| creatinine | creatinine     | 1.37 | 1.07 | 1.76 | 1.37 (1.07-1.76) | 1.25e-02 |\n",
       "| urineoutput | urineoutput    | 1.00 | 1.00 | 1.00 | 1 (1-1)          | 1.06e-01 |\n",
       "| baseline_Scr | baseline_Scr   | 1.09 | 0.76 | 1.56 | 1.09 (0.76-1.56) | 6.30e-01 |\n",
       "| colloid_bolus | colloid_bolus  | 1.00 | 1.00 | 1.00 | 1 (1-1)          | 8.57e-01 |\n",
       "| sofa_norenal | sofa_norenal   | 1.06 | 1.03 | 1.09 | 1.06 (1.03-1.09) | 3.56e-04 |\n",
       "| weight | weight         | 0.99 | 0.99 | 0.99 | 0.99 (0.99-0.99) | 1.88e-07 |\n",
       "| age | age            | 1.01 | 1.01 | 1.02 | 1.01 (1.01-1.02) | 7.92e-06 |\n",
       "| gender | gender         | 1.27 | 1.04 | 1.55 | 1.27 (1.04-1.55) | 1.98e-02 |\n",
       "| height | height         | 1.00 | 0.99 | 1.00 | 1 (0.99-1)       | 3.12e-01 |\n",
       "| aniongap | aniongap       | 1.05 | 1.03 | 1.08 | 1.05 (1.03-1.08) | 1.84e-04 |\n",
       "| pt | pt             | 1.01 | 1.00 | 1.02 | 1.01 (1-1.02)    | 9.67e-02 |\n",
       "| sbp | sbp            | 0.99 | 0.99 | 1.00 | 0.99 (0.99-1)    | 1.94e-01 |\n",
       "| cum_fluidbance | cum_fluidbance | 1.00 | 1.00 | 1.00 | 1 (1-1)          | 4.94e-01 |\n",
       "| baseexcess | baseexcess     | 1.03 | 0.99 | 1.07 | 1.03 (0.99-1.07) | 1.97e-01 |\n",
       "| fluidbance | fluidbance     | 1.00 | 1.00 | 1.00 | 1 (1-1)          | 6.24e-01 |\n",
       "| gcs | gcs            | 0.97 | 0.92 | 1.01 | 0.97 (0.92-1.01) | 1.62e-01 |\n",
       "| mbp | mbp            | 1.01 | 0.99 | 1.03 | 1.01 (0.99-1.03) | 2.66e-01 |\n",
       "| potassium | potassium      | 1.06 | 0.91 | 1.23 | 1.06 (0.91-1.23) | 4.36e-01 |\n",
       "| spo2 | spo2           | 0.99 | 0.97 | 1.01 | 0.99 (0.97-1.01) | 5.02e-01 |\n",
       "| bicarbonate | bicarbonate    | 0.99 | 0.96 | 1.02 | 0.99 (0.96-1.02) | 5.37e-01 |\n",
       "| temperature | temperature    | 0.85 | 0.76 | 0.94 | 0.85 (0.76-0.94) | 3.02e-03 |\n",
       "| po2 | po2            | 1.00 | 1.00 | 1.00 | 1 (1-1)          | 1.33e-01 |\n",
       "| ptt | ptt            | 1.01 | 1.00 | 1.01 | 1.01 (1-1.01)    | 3.04e-05 |\n",
       "| glucose | glucose        | 1.00 | 1.00 | 1.00 | 1 (1-1)          | 5.50e-03 |\n",
       "| rbc | rbc            | 1.06 | 0.93 | 1.21 | 1.06 (0.93-1.21) | 4.17e-01 |\n",
       "| wbc | wbc            | 1.00 | 1.00 | 1.01 | 1 (1-1.01)       | 2.13e-01 |\n",
       "| ph | ph             | 0.15 | 0.03 | 0.83 | 0.15 (0.03-0.83) | 2.93e-02 |\n",
       "| mchc | mchc           | 0.87 | 0.64 | 1.18 | 0.87 (0.64-1.18) | 3.70e-01 |\n",
       "| mcv | mcv            | 0.99 | 0.89 | 1.11 | 0.99 (0.89-1.11) | 8.71e-01 |\n",
       "| heart_rate | heart_rate     | 1.01 | 1.00 | 1.01 | 1.01 (1-1.01)    | 1.10e-04 |\n",
       "| fio2 | fio2           | 1.00 | 1.00 | 1.01 | 1 (1-1.01)       | 4.54e-01 |\n",
       "| resp_rate | resp_rate      | 1.03 | 1.01 | 1.05 | 1.03 (1.01-1.05) | 1.61e-03 |\n",
       "| dbp | dbp            | 0.99 | 0.98 | 1.01 | 0.99 (0.98-1.01) | 2.35e-01 |\n",
       "| mch | mch            | 1.08 | 0.77 | 1.52 | 1.08 (0.77-1.52) | 6.44e-01 |\n",
       "| lactate | lactate        | 1.03 | 0.98 | 1.09 | 1.03 (0.98-1.09) | 2.02e-01 |\n",
       "| rdw | rdw            | 1.05 | 1.02 | 1.08 | 1.05 (1.02-1.08) | 2.56e-04 |\n",
       "\n"
      ],
      "text/plain": [
       "               Variable       HR   CI5  CI95 HR (95% CI)      Pvalue  \n",
       "creatinine     creatinine     1.37 1.07 1.76 1.37 (1.07-1.76) 1.25e-02\n",
       "urineoutput    urineoutput    1.00 1.00 1.00 1 (1-1)          1.06e-01\n",
       "baseline_Scr   baseline_Scr   1.09 0.76 1.56 1.09 (0.76-1.56) 6.30e-01\n",
       "colloid_bolus  colloid_bolus  1.00 1.00 1.00 1 (1-1)          8.57e-01\n",
       "sofa_norenal   sofa_norenal   1.06 1.03 1.09 1.06 (1.03-1.09) 3.56e-04\n",
       "weight         weight         0.99 0.99 0.99 0.99 (0.99-0.99) 1.88e-07\n",
       "age            age            1.01 1.01 1.02 1.01 (1.01-1.02) 7.92e-06\n",
       "gender         gender         1.27 1.04 1.55 1.27 (1.04-1.55) 1.98e-02\n",
       "height         height         1.00 0.99 1.00 1 (0.99-1)       3.12e-01\n",
       "aniongap       aniongap       1.05 1.03 1.08 1.05 (1.03-1.08) 1.84e-04\n",
       "pt             pt             1.01 1.00 1.02 1.01 (1-1.02)    9.67e-02\n",
       "sbp            sbp            0.99 0.99 1.00 0.99 (0.99-1)    1.94e-01\n",
       "cum_fluidbance cum_fluidbance 1.00 1.00 1.00 1 (1-1)          4.94e-01\n",
       "baseexcess     baseexcess     1.03 0.99 1.07 1.03 (0.99-1.07) 1.97e-01\n",
       "fluidbance     fluidbance     1.00 1.00 1.00 1 (1-1)          6.24e-01\n",
       "gcs            gcs            0.97 0.92 1.01 0.97 (0.92-1.01) 1.62e-01\n",
       "mbp            mbp            1.01 0.99 1.03 1.01 (0.99-1.03) 2.66e-01\n",
       "potassium      potassium      1.06 0.91 1.23 1.06 (0.91-1.23) 4.36e-01\n",
       "spo2           spo2           0.99 0.97 1.01 0.99 (0.97-1.01) 5.02e-01\n",
       "bicarbonate    bicarbonate    0.99 0.96 1.02 0.99 (0.96-1.02) 5.37e-01\n",
       "temperature    temperature    0.85 0.76 0.94 0.85 (0.76-0.94) 3.02e-03\n",
       "po2            po2            1.00 1.00 1.00 1 (1-1)          1.33e-01\n",
       "ptt            ptt            1.01 1.00 1.01 1.01 (1-1.01)    3.04e-05\n",
       "glucose        glucose        1.00 1.00 1.00 1 (1-1)          5.50e-03\n",
       "rbc            rbc            1.06 0.93 1.21 1.06 (0.93-1.21) 4.17e-01\n",
       "wbc            wbc            1.00 1.00 1.01 1 (1-1.01)       2.13e-01\n",
       "ph             ph             0.15 0.03 0.83 0.15 (0.03-0.83) 2.93e-02\n",
       "mchc           mchc           0.87 0.64 1.18 0.87 (0.64-1.18) 3.70e-01\n",
       "mcv            mcv            0.99 0.89 1.11 0.99 (0.89-1.11) 8.71e-01\n",
       "heart_rate     heart_rate     1.01 1.00 1.01 1.01 (1-1.01)    1.10e-04\n",
       "fio2           fio2           1.00 1.00 1.01 1 (1-1.01)       4.54e-01\n",
       "resp_rate      resp_rate      1.03 1.01 1.05 1.03 (1.01-1.05) 1.61e-03\n",
       "dbp            dbp            0.99 0.98 1.01 0.99 (0.98-1.01) 2.35e-01\n",
       "mch            mch            1.08 0.77 1.52 1.08 (0.77-1.52) 6.44e-01\n",
       "lactate        lactate        1.03 0.98 1.09 1.03 (0.98-1.09) 2.02e-01\n",
       "rdw            rdw            1.05 1.02 1.08 1.05 (1.02-1.08) 2.56e-04"
      ]
     },
     "metadata": {},
     "output_type": "display_data"
    }
   ],
   "source": [
    "# 整合结果\n",
    "mul_cox <- summary(res.cox)\n",
    "mul_HR<- round(mul_cox$coefficients[,2],2) \n",
    "mul_Pvalue<- mul_cox$coefficients[,5] #round(mul_cox$coefficients[,5],4) \n",
    "mul_CI5<-round(mul_cox$conf.int[,3],2)\n",
    "mul_CI95<-round(mul_cox$conf.int[,4],2)\n",
    "mul_CI<-paste0(mul_HR,' (',mul_CI5,'-',mul_CI95,')')\n",
    "Variable<-row.names(data.frame(mul_cox$coefficients))\n",
    "mulcox_res<- data.frame(Variable,mul_HR,mul_CI5,mul_CI95,mul_CI,mul_Pvalue)\n",
    "colnames(mulcox_res)=c(\"Variable\",\"HR\",\"CI5\",\"CI95\",\"HR (95% CI)\",\"Pvalue\")\n",
    "mulcox_res$Pvalue <- sapply(mulcox_res$Pvalue, function(x) sprintf(\"%.2e\", x))\n",
    "mulcox_res$Pvalue <- as.numeric(mulcox_res$Pvalue)\n",
    "View(mulcox_res)"
   ]
  },
  {
   "cell_type": "markdown",
   "id": "81bdcc11",
   "metadata": {},
   "source": [
    "## p值为0.05 筛选协变量"
   ]
  },
  {
   "cell_type": "code",
   "execution_count": 8,
   "id": "6b289644",
   "metadata": {
    "ExecuteTime": {
     "end_time": "2023-12-20T08:01:34.283411Z",
     "start_time": "2023-12-20T07:52:50.375Z"
    }
   },
   "outputs": [
    {
     "name": "stdout",
     "output_type": "stream",
     "text": [
      "[1] \"总变量数：36\"\n",
      "[1] \"p值筛选后的变量数：13\"\n"
     ]
    },
    {
     "data": {
      "text/html": [
       "'creatinine + sofa_norenal + weight + age + gender + aniongap + temperature + ptt + glucose + ph + heart_rate + resp_rate + rdw'"
      ],
      "text/latex": [
       "'creatinine + sofa\\_norenal + weight + age + gender + aniongap + temperature + ptt + glucose + ph + heart\\_rate + resp\\_rate + rdw'"
      ],
      "text/markdown": [
       "'creatinine + sofa_norenal + weight + age + gender + aniongap + temperature + ptt + glucose + ph + heart_rate + resp_rate + rdw'"
      ],
      "text/plain": [
       "[1] \"creatinine + sofa_norenal + weight + age + gender + aniongap + temperature + ptt + glucose + ph + heart_rate + resp_rate + rdw\""
      ]
     },
     "metadata": {},
     "output_type": "display_data"
    }
   ],
   "source": [
    "print(paste0(\"总变量数：\",dim(mulcox_res)[1]))\n",
    "print(paste0(\"p值筛选后的变量数：\",dim(mulcox_res[mulcox_res$Pvalue <= Pvalue_cut,])[1]))\n",
    "mulcox_res_filt <- mulcox_res[mulcox_res$Pvalue <= Pvalue_cut,]\n",
    "\n",
    "paste(rownames(mulcox_res_filt), collapse = \" + \")"
   ]
  },
  {
   "cell_type": "code",
   "execution_count": 9,
   "id": "230d148d",
   "metadata": {
    "ExecuteTime": {
     "end_time": "2023-12-20T08:01:34.294949Z",
     "start_time": "2023-12-20T07:52:50.377Z"
    }
   },
   "outputs": [
    {
     "data": {
      "text/html": [
       "<style>\n",
       ".list-inline {list-style: none; margin:0; padding: 0}\n",
       ".list-inline>li {display: inline-block}\n",
       ".list-inline>li:not(:last-child)::after {content: \"\\00b7\"; padding: 0 .5ex}\n",
       "</style>\n",
       "<ol class=list-inline><li>'creatinine'</li><li>'sofa_norenal'</li><li>'weight'</li><li>'age'</li><li>'gender'</li><li>'aniongap'</li><li>'temperature'</li><li>'ptt'</li><li>'glucose'</li><li>'ph'</li><li>'heart_rate'</li><li>'resp_rate'</li><li>'rdw'</li></ol>\n"
      ],
      "text/latex": [
       "\\begin{enumerate*}\n",
       "\\item 'creatinine'\n",
       "\\item 'sofa\\_norenal'\n",
       "\\item 'weight'\n",
       "\\item 'age'\n",
       "\\item 'gender'\n",
       "\\item 'aniongap'\n",
       "\\item 'temperature'\n",
       "\\item 'ptt'\n",
       "\\item 'glucose'\n",
       "\\item 'ph'\n",
       "\\item 'heart\\_rate'\n",
       "\\item 'resp\\_rate'\n",
       "\\item 'rdw'\n",
       "\\end{enumerate*}\n"
      ],
      "text/markdown": [
       "1. 'creatinine'\n",
       "2. 'sofa_norenal'\n",
       "3. 'weight'\n",
       "4. 'age'\n",
       "5. 'gender'\n",
       "6. 'aniongap'\n",
       "7. 'temperature'\n",
       "8. 'ptt'\n",
       "9. 'glucose'\n",
       "10. 'ph'\n",
       "11. 'heart_rate'\n",
       "12. 'resp_rate'\n",
       "13. 'rdw'\n",
       "\n",
       "\n"
      ],
      "text/plain": [
       " [1] \"creatinine\"   \"sofa_norenal\" \"weight\"       \"age\"          \"gender\"      \n",
       " [6] \"aniongap\"     \"temperature\"  \"ptt\"          \"glucose\"      \"ph\"          \n",
       "[11] \"heart_rate\"   \"resp_rate\"    \"rdw\"         "
      ]
     },
     "metadata": {},
     "output_type": "display_data"
    }
   ],
   "source": [
    "rownames(mulcox_res_filt)"
   ]
  },
  {
   "cell_type": "markdown",
   "id": "aaa9bad8",
   "metadata": {
    "run_control": {
     "marked": true
    }
   },
   "source": [
    "# 结果plot "
   ]
  },
  {
   "cell_type": "markdown",
   "id": "6721a2ef",
   "metadata": {},
   "source": [
    "## 森林图"
   ]
  },
  {
   "cell_type": "code",
   "execution_count": 10,
   "id": "312ef91c",
   "metadata": {
    "ExecuteTime": {
     "end_time": "2023-12-20T08:01:34.685668Z",
     "start_time": "2023-12-20T07:52:50.380Z"
    }
   },
   "outputs": [
    {
     "name": "stderr",
     "output_type": "stream",
     "text": [
      "Loading required package: grid\n",
      "\n",
      "Loading required package: checkmate\n",
      "\n",
      "Loading required package: abind\n",
      "\n"
     ]
    },
    {
     "data": {
      "image/png": "[encoded data removed]",
      "text/plain": [
       "plot without title"
      ]
     },
     "metadata": {
      "image/png": {
       "height": 420,
       "width": 420
      }
     },
     "output_type": "display_data"
    }
   ],
   "source": [
    "library(forestplot)\n",
    "dat=rbind(c(\"Variable\", NA,NA,NA,\"HR (95% CI)\", \"Pvalue\"),mulcox_res_filt)\n",
    "forestplot(dat[,c(1,5,6)], #显示表格的第1，5，6列内容\n",
    "           mean=dat[,2],   #第2列为HR，变成森林图的方块\n",
    "           lower=dat[,3], upper=dat[,4], #第3列为5%CI，第4列为95%CI，将化作线段，穿过方块\n",
    "           zero=1,            #零线或参考线位置为HR=1\n",
    "           boxsize=0.1,       #设置方块大小\n",
    "           graph.pos=3,#将森林图插在第3列\n",
    "           xticks=c(0.5,1,1.5) ,# 设置横轴数字\n",
    "           txt_gp=fpTxtGp (\n",
    "             label=gpar(cex=1.2) ,ticks=gpar(cex=1.2)\n",
    "            ),#调整字体\n",
    "           hrzl_lines=list(\"1\" = gpar(lty=1,lwd=1.5)\n",
    "                           ,\"2\" = gpar(lty=1,lwd=1.5)\n",
    "#                            ,\"3\"= gpar(lty=1,lwd=1.5)\n",
    "                          ), # 在1,2,7行添加横线\n",
    "           col=fpColors ( box = 'blue ' , #方块颜色 \n",
    "                          lines = ' black ' ,#置信区间横线颜色\n",
    "                          zero = \"grey\" ),#参考线颜色\n",
    "           lwd.zero=1,#参考线宽度\n",
    "           lwd.ci=1.5, # 置信区间横线宽度\n",
    "           lty.ci=7 ,# 置信区间横线类型\n",
    "           ci.vertices.height=0.1   #置信区间横线两端竖线高度     \n",
    ")"
   ]
  }
 ],
 "metadata": {
  "kernelspec": {
   "display_name": "R [conda env:R]",
   "language": "R",
   "name": "conda-env-R-r"
  },
  "language_info": {
   "codemirror_mode": "r",
   "file_extension": ".r",
   "mimetype": "text/x-r-source",
   "name": "R",
   "pygments_lexer": "r",
   "version": "4.2.2"
  },
  "toc": {
   "base_numbering": 1,
   "nav_menu": {},
   "number_sections": true,
   "sideBar": true,
   "skip_h1_title": false,
   "title_cell": "Table of Contents",
   "title_sidebar": "Contents",
   "toc_cell": false,
   "toc_position": {},
   "toc_section_display": true,
   "toc_window_display": false
  },
  "varInspector": {
   "cols": {
    "lenName": 16,
    "lenType": 16,
    "lenVar": 40
   },
   "kernels_config": {
    "python": {
     "delete_cmd_postfix": "",
     "delete_cmd_prefix": "del ",
     "library": "var_list.py",
     "varRefreshCmd": "print(var_dic_list())"
    },
    "r": {
     "delete_cmd_postfix": ") ",
     "delete_cmd_prefix": "rm(",
     "library": "var_list.r",
     "varRefreshCmd": "cat(var_dic_list()) "
    }
   },
   "types_to_exclude": [
    "module",
    "function",
    "builtin_function_or_method",
    "instance",
    "_Feature"
   ],
   "window_display": false
  }
 },
 "nbformat": 4,
 "nbformat_minor": 5
}
