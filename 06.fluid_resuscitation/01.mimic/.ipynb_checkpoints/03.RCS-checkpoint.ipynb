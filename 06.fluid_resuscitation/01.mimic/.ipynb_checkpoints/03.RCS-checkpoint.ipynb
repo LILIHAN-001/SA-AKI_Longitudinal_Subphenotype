{
 "cells": [
  {
   "cell_type": "code",
   "execution_count": 1,
   "id": "700e7cb9",
   "metadata": {
    "ExecuteTime": {
     "end_time": "2023-05-29T07:44:11.387948Z",
     "start_time": "2023-05-29T07:24:28.561Z"
    }
   },
   "outputs": [],
   "source": [
    "# # 单因素与多因素\n",
    "# https://mp.weixin.qq.com/s?__biz=MzU4OTc0OTg2MA==&mid=2247499382&idx=1&sn=8f0eae47260e8419b266d10d059b4212&chksm=fdca757dcabdfc6ba2b81b289af53e973b3161ac6401f6e6df2614deca9691cf58d7e1d955cc&cur_album_id=1338647583367200769&scene=189#wechat_redirect\n",
    "# # 画RCS图的软件ggrcs， \n",
    "# https://mp.weixin.qq.com/s/QEAH30Ljr-3cUMvJ2UNKJQ"
   ]
  },
  {
   "cell_type": "code",
   "execution_count": 2,
   "id": "fe34796c",
   "metadata": {
    "ExecuteTime": {
     "end_time": "2023-05-29T07:44:13.621205Z",
     "start_time": "2023-05-29T07:24:28.564Z"
    },
    "collapsed": true
   },
   "outputs": [
    {
     "name": "stderr",
     "output_type": "stream",
     "text": [
      "Loading required package: ggplot2\n",
      "\n",
      "Loading required package: ggpubr\n",
      "\n",
      "\n",
      "Attaching package: ‘survminer’\n",
      "\n",
      "\n",
      "The following object is masked from ‘package:survival’:\n",
      "\n",
      "    myeloma\n",
      "\n",
      "\n",
      "\n",
      "Attaching package: ‘plotRCS’\n",
      "\n",
      "\n",
      "The following object is masked from ‘package:survival’:\n",
      "\n",
      "    cancer\n",
      "\n",
      "\n",
      "Loading required package: Hmisc\n",
      "\n",
      "\n",
      "Attaching package: ‘Hmisc’\n",
      "\n",
      "\n",
      "The following objects are masked from ‘package:base’:\n",
      "\n",
      "    format.pval, units\n",
      "\n",
      "\n"
     ]
    }
   ],
   "source": [
    "library(MatchIt)\n",
    "library(survival)\n",
    "library(survminer)\n",
    "library(tidyr)\n",
    "library(tableone)\n",
    "library(plotRCS)\n",
    "library(rms)"
   ]
  },
  {
   "cell_type": "markdown",
   "id": "bec29789",
   "metadata": {},
   "source": [
    "# rms\n",
    "- 判断研究自变量与因变量之间的非线性关系\n",
    "- 节点个数： Harrel建议节点数，大多数研究者推荐的节点为3-5个。(1) 使用AIC最小的节点；\n",
    "- "
   ]
  },
  {
   "cell_type": "code",
   "execution_count": 3,
   "id": "f077cc68",
   "metadata": {
    "ExecuteTime": {
     "end_time": "2023-05-29T07:44:13.975582Z",
     "start_time": "2023-05-29T07:24:28.567Z"
    }
   },
   "outputs": [],
   "source": [
    "df_survival <- read.csv(\"mimic_fluid_survival.csv\",as.is = TRUE)\n",
    "df_survival <- as.data.frame(df_survival)\n",
    "df_survival$groupHPD <- as.factor(df_survival$groupHPD)\n",
    "df_select <- df_survival # subset(df_survival, groupHPD == c(3))\n",
    "dd <- datadist(df_select) #为后续程序设定数据环境\n",
    "options(datadist='dd') #为后续程序设定数据环境"
   ]
  },
  {
   "cell_type": "code",
   "execution_count": 4,
   "id": "ef67ac8f",
   "metadata": {
    "ExecuteTime": {
     "end_time": "2023-05-29T07:44:14.001622Z",
     "start_time": "2023-05-29T07:24:28.568Z"
    }
   },
   "outputs": [
    {
     "data": {
      "text/html": [
       "-490.08"
      ],
      "text/latex": [
       "-490.08"
      ],
      "text/markdown": [
       "-490.08"
      ],
      "text/plain": [
       "[1] -490.08"
      ]
     },
     "metadata": {},
     "output_type": "display_data"
    }
   ],
   "source": [
    "median(df_select$fluidbance)"
   ]
  },
  {
   "cell_type": "markdown",
   "id": "cf478f41",
   "metadata": {},
   "source": [
    "## 选择k"
   ]
  },
  {
   "cell_type": "code",
   "execution_count": 5,
   "id": "ec69884d",
   "metadata": {
    "ExecuteTime": {
     "end_time": "2023-05-29T07:44:14.924885Z",
     "start_time": "2023-05-29T07:24:28.570Z"
    }
   },
   "outputs": [
    {
     "name": "stdout",
     "output_type": "stream",
     "text": [
      "[1] \"k=3: AIC=85955.7991176661\"\n",
      "[1] \"k=4: AIC=85951.3493229886\"\n",
      "[1] \"k=5: AIC=85934.7773972874\"\n",
      "[1] \"best knots based AKI = 5\"\n"
     ]
    }
   ],
   "source": [
    " for (knot in 3:5) {\n",
    "  fit <- cph(Surv(survival_28day,mortality_28d_bak)~rcs(fluidbance,knot) + weight + groupHPD,data=df_select,x= TRUE, y= TRUE, surv = TRUE)\n",
    "  tmp <- extractAIC(fit)\n",
    "  print(paste0(\"k=\",knot,\": AIC=\",tmp[2]))\n",
    "  if(knot==3){AIC=tmp[2];nk=3}\n",
    "  if(tmp[2]<AIC){AIC=tmp[2];nk=knot}\n",
    "}\n",
    "print(paste0(\"best knots based AKI = \", nk)) #4"
   ]
  },
  {
   "cell_type": "markdown",
   "id": "dbd705f6",
   "metadata": {},
   "source": [
    "## 非线性关系"
   ]
  },
  {
   "cell_type": "code",
   "execution_count": 6,
   "id": "ea70fbcd",
   "metadata": {
    "ExecuteTime": {
     "end_time": "2023-05-29T07:44:15.085270Z",
     "start_time": "2023-05-29T07:24:28.571Z"
    }
   },
   "outputs": [
    {
     "data": {
      "text/html": [
       "<table class=\"dataframe\">\n",
       "<caption>A anova.rms: 4 × 3 of type dbl</caption>\n",
       "<thead>\n",
       "\t<tr><th></th><th scope=col>Chi-Square</th><th scope=col>d.f.</th><th scope=col>P</th></tr>\n",
       "</thead>\n",
       "<tbody>\n",
       "\t<tr><th scope=row>fluidbance</th><td>596.7994</td><td>4</td><td>0.000000e+00</td></tr>\n",
       "\t<tr><th scope=row> Nonlinear</th><td> 61.5583</td><td>3</td><td>2.731149e-13</td></tr>\n",
       "\t<tr><th scope=row>weight</th><td>334.3298</td><td>1</td><td>0.000000e+00</td></tr>\n",
       "\t<tr><th scope=row>TOTAL</th><td>942.9423</td><td>5</td><td>0.000000e+00</td></tr>\n",
       "</tbody>\n",
       "</table>\n"
      ],
      "text/latex": [
       "A anova.rms: 4 × 3 of type dbl\n",
       "\\begin{tabular}{r|lll}\n",
       "  & Chi-Square & d.f. & P\\\\\n",
       "\\hline\n",
       "\tfluidbance & 596.7994 & 4 & 0.000000e+00\\\\\n",
       "\t Nonlinear &  61.5583 & 3 & 2.731149e-13\\\\\n",
       "\tweight & 334.3298 & 1 & 0.000000e+00\\\\\n",
       "\tTOTAL & 942.9423 & 5 & 0.000000e+00\\\\\n",
       "\\end{tabular}\n"
      ],
      "text/markdown": [
       "\n",
       "A anova.rms: 4 × 3 of type dbl\n",
       "\n",
       "| <!--/--> | Chi-Square | d.f. | P |\n",
       "|---|---|---|---|\n",
       "| fluidbance | 596.7994 | 4 | 0.000000e+00 |\n",
       "|  Nonlinear |  61.5583 | 3 | 2.731149e-13 |\n",
       "| weight | 334.3298 | 1 | 0.000000e+00 |\n",
       "| TOTAL | 942.9423 | 5 | 0.000000e+00 |\n",
       "\n"
      ],
      "text/plain": [
       "           Chi-Square d.f. P           \n",
       "fluidbance 596.7994   4    0.000000e+00\n",
       " Nonlinear  61.5583   3    2.731149e-13\n",
       "weight     334.3298   1    0.000000e+00\n",
       "TOTAL      942.9423   5    0.000000e+00"
      ]
     },
     "metadata": {},
     "output_type": "display_data"
    }
   ],
   "source": [
    "fit <- cph(Surv(survival_28day,mortality_28d_bak) ~ rcs(fluidbance,5) + weight , data=df_select) \n",
    "anova(fit) ## P<0.05为存在非线性关系\n",
    "# fit"
   ]
  },
  {
   "cell_type": "markdown",
   "id": "ffc4269d",
   "metadata": {},
   "source": [
    "## 训练+"
   ]
  },
  {
   "cell_type": "code",
   "execution_count": 7,
   "id": "23193864",
   "metadata": {
    "ExecuteTime": {
     "end_time": "2023-05-29T07:44:15.116689Z",
     "start_time": "2023-05-29T07:24:28.574Z"
    }
   },
   "outputs": [
    {
     "name": "stdout",
     "output_type": "stream",
     "text": [
      "[1] -464.8408\n"
     ]
    },
    {
     "data": {
      "text/html": [
       "<table class=\"dataframe\">\n",
       "<caption>A Predict: 1 × 5</caption>\n",
       "<thead>\n",
       "\t<tr><th></th><th scope=col>fluidbance</th><th scope=col>weight</th><th scope=col>yhat</th><th scope=col>lower</th><th scope=col>upper</th></tr>\n",
       "\t<tr><th></th><th scope=col>&lt;dbl&gt;</th><th scope=col>&lt;dbl&gt;</th><th scope=col>&lt;dbl&gt;</th><th scope=col>&lt;dbl&gt;</th><th scope=col>&lt;dbl&gt;</th></tr>\n",
       "</thead>\n",
       "<tbody>\n",
       "\t<tr><th scope=row>73</th><td>-464.8408</td><td>83.1</td><td>1.00976</td><td>1.008318</td><td>1.011205</td></tr>\n",
       "</tbody>\n",
       "</table>\n"
      ],
      "text/latex": [
       "A Predict: 1 × 5\n",
       "\\begin{tabular}{r|lllll}\n",
       "  & fluidbance & weight & yhat & lower & upper\\\\\n",
       "  & <dbl> & <dbl> & <dbl> & <dbl> & <dbl>\\\\\n",
       "\\hline\n",
       "\t73 & -464.8408 & 83.1 & 1.00976 & 1.008318 & 1.011205\\\\\n",
       "\\end{tabular}\n"
      ],
      "text/markdown": [
       "\n",
       "A Predict: 1 × 5\n",
       "\n",
       "| <!--/--> | fluidbance &lt;dbl&gt; | weight &lt;dbl&gt; | yhat &lt;dbl&gt; | lower &lt;dbl&gt; | upper &lt;dbl&gt; |\n",
       "|---|---|---|---|---|---|\n",
       "| 73 | -464.8408 | 83.1 | 1.00976 | 1.008318 | 1.011205 |\n",
       "\n"
      ],
      "text/plain": [
       "   fluidbance weight yhat    lower    upper   \n",
       "73 -464.8408  83.1   1.00976 1.008318 1.011205"
      ]
     },
     "metadata": {},
     "output_type": "display_data"
    }
   ],
   "source": [
    "HR<-Predict(fit, fluidbance,fun=exp, ref.zero = TRUE) ####预测HR值\n",
    "HR1_cutbin <- HR[HR$yhat >= 0.98 & HR$yhat <= 1.02, ]\n",
    "HR1_cutpoint <- HR[which.min(abs(HR$yhat - 1)), ]\n",
    "print(HR1_cutpoint$fluidbance)\n",
    "HR1_cutbin"
   ]
  },
  {
   "cell_type": "code",
   "execution_count": 14,
   "id": "b77e2be7",
   "metadata": {
    "ExecuteTime": {
     "end_time": "2023-05-29T07:47:06.383724Z",
     "start_time": "2023-05-29T07:27:23.251Z"
    },
    "scrolled": false
   },
   "outputs": [
    {
     "data": {
      "image/png": "[encoded data removed]",
      "text/plain": [
       "plot without title"
      ]
     },
     "metadata": {
      "image/png": {
       "height": 420,
       "width": 420
      }
     },
     "output_type": "display_data"
    }
   ],
   "source": [
    "ggplot() +\n",
    "  geom_histogram(data = HR, aes(x = fluidbance),fill = \"#e5f5f9\", color = \"#bdbdbd\",binwidth = 500,alpha=0.2) +\n",
    "  geom_line(data = HR, aes(x = fluidbance, y = yhat),\n",
    "            linetype = \"solid\", size = 1, alpha = 0.7, color = \"#0070b9\") +\n",
    "  geom_ribbon(data = HR, aes(x = fluidbance, ymin = lower, ymax = upper),\n",
    "              alpha = 0.1, fill = \"#0070b9\") +\n",
    "  theme_classic() +\n",
    "  geom_hline(yintercept = 1, linetype = 2, size = 1) +\n",
    "  geom_vline(xintercept = HR1_cutpoint$fluidbance, size = 1, color = '#d40e8c') + \n",
    "  geom_text(aes(x = HR1_cutpoint$fluidbance, y = 1.5, label = round(HR1_cutpoint$fluidbance, 2)),\n",
    "            vjust = 0, hjust = 0, color = \"black\") +\n",
    "  labs(title = \"C3\", x = \"fluidbance\", y = \"HR (95%CI)\") +\n",
    "\n",
    "  scale_y_continuous(sec.axis = sec_axis(~ . / max(., na.rm = TRUE),\n",
    "                                         name = \"Density\")) +\n",
    "  geom_histogram(data = HR, aes(x = fluidbance, y = ..density..),\n",
    "                 fill = \"gray\", color = \"black\", alpha = 0.5, binwidth = 1000) +\n",
    "  geom_density(data = HR, aes(x = fluidbance, y = ..scaled.. * max(..density..)),\n",
    "               color = \"blue\", size = 1)"
   ]
  },
  {
   "cell_type": "code",
   "execution_count": 9,
   "id": "e182d8ba",
   "metadata": {
    "ExecuteTime": {
     "end_time": "2023-05-29T07:44:41.064521Z",
     "start_time": "2023-05-29T07:24:28.576Z"
    }
   },
   "outputs": [
    {
     "name": "stderr",
     "output_type": "stream",
     "text": [
      "\u001b[1m\u001b[22m`stat_bin()` using `bins = 30`. Pick better value with `binwidth`.\n"
     ]
    },
    {
     "data": {
      "text/plain": [
       "NULL"
      ]
     },
     "metadata": {},
     "output_type": "display_data"
    },
    {
     "data": {
      "image/png": "[encoded data removed]",
      "text/plain": [
       "plot without title"
      ]
     },
     "metadata": {
      "image/png": {
       "height": 420,
       "width": 420
      }
     },
     "output_type": "display_data"
    }
   ],
   "source": [
    "ggplot()+\n",
    "  geom_histogram(data = HR, aes(x = fluidbance, y = ..density..),\n",
    "                 fill = \"#0070b9\", color = \"black\") +\n",
    "  geom_line(data=HR, aes(fluidbance,yhat),\n",
    "            linetype=\"solid\",size=1,alpha = 0.7,colour=\"#0070b9\")+\n",
    "  geom_ribbon(data=HR, \n",
    "              aes(fluidbance,ymin = lower, ymax = upper),\n",
    "              alpha = 0.1,fill=\"#0070b9\")+\n",
    "  theme_classic()+\n",
    "  geom_hline(yintercept=1, linetype=2,size=1)+\n",
    "  geom_vline(xintercept=HR1_cutpoint$fluidbance,size=1,color = '#d40e8c')+ \n",
    "  geom_text(aes(x = HR1_cutpoint$fluidbance, y = 1.5, label = round(HR1_cutpoint$fluidbance,2)),vjust = 0, hjust = 0, color = \"black\")\n",
    "  labs(title = \"C3\", x=\"fluidbance\", y=\"HR (95%CI)\") +\n",
    "  scale_y_continuous(sec.axis = sec_axis(~ . * 1, name = \"Density\"))"
   ]
  },
  {
   "cell_type": "markdown",
   "id": "2d04c9ec",
   "metadata": {},
   "source": [
    "## 分组"
   ]
  },
  {
   "cell_type": "code",
   "execution_count": 10,
   "id": "1c75f4b6",
   "metadata": {
    "ExecuteTime": {
     "end_time": "2023-05-29T07:44:41.079563Z",
     "start_time": "2023-05-29T07:24:28.577Z"
    }
   },
   "outputs": [
    {
     "ename": "ERROR",
     "evalue": "Error in Predict(fit, fluidbance, groupHPD = c(1, 2, 3), fun = exp, type = \"predictions\", : predictors(s) not in model: groupHPD\n",
     "output_type": "error",
     "traceback": [
      "Error in Predict(fit, fluidbance, groupHPD = c(1, 2, 3), fun = exp, type = \"predictions\", : predictors(s) not in model: groupHPD\nTraceback:\n",
      "1. Predict(fit, fluidbance, groupHPD = c(1, 2, 3), fun = exp, type = \"predictions\", \n .     ref.zero = TRUE, conf.int = 0.95, digits = 2)",
      "2. stop(paste(\"predictors(s) not in model:\", paste(names(factors)[which == \n .     0L], collapse = \" \")))"
     ]
    }
   ],
   "source": [
    "### groupHPD分组\n",
    "HR1 <- Predict(fit, fluidbance, groupHPD=c(1,2,3),\n",
    "               fun=exp,type=\"predictions\",\n",
    "               ref.zero=TRUE, conf.int = 0.95, digits=2)\n",
    "HR1$groupHPD <- as.factor(HR1$groupHPD )\n",
    "head(HR1)"
   ]
  },
  {
   "cell_type": "code",
   "execution_count": null,
   "id": "fc072fcd",
   "metadata": {
    "ExecuteTime": {
     "end_time": "2023-05-29T07:44:41.081506Z",
     "start_time": "2023-05-29T07:24:28.579Z"
    },
    "scrolled": true
   },
   "outputs": [],
   "source": [
    "C1 <- subset(HR1,groupHPD == 1)\n",
    "C1 <- C1[which.min(abs(C1$yhat - 1)), ]\n",
    "C1_cutpoint <- C1$fluidbance\n",
    "print(paste(\"C1_cutpoint:\",C1_cutpoint))\n",
    "\n",
    "C2 <- subset(HR1,groupHPD == 2)\n",
    "C2 <- C2[which.min(abs(C2$yhat - 1)), ]\n",
    "C2_cutpoint <- C2$fluidbance\n",
    "print(paste(\"C2_cutpoint:\",C2_cutpoint))\n",
    "\n",
    "C3 <- subset(HR1,groupHPD == 3)\n",
    "C3 <- C3[which.min(abs(C3$yhat - 1)), ]\n",
    "C3_cutpoint <- C3$fluidbance\n",
    "print(paste(\"C3_cutpoint:\",C3_cutpoint))\n"
   ]
  },
  {
   "cell_type": "code",
   "execution_count": null,
   "id": "bacc7d10",
   "metadata": {
    "ExecuteTime": {
     "end_time": "2023-05-29T07:44:41.083137Z",
     "start_time": "2023-05-29T07:24:28.581Z"
    }
   },
   "outputs": [],
   "source": [
    "ggplot()+\n",
    "  geom_line(data=HR1, aes(fluidbance, yhat, color = groupHPD),linetype=\"solid\",size=1,alpha = 0.7)+\n",
    "  geom_ribbon(data=HR1,  aes(fluidbance, ymin = lower, ymax = upper, fill = groupHPD), alpha = 0.1)+\n",
    "  geom_vline(xintercept = c(C1_cutpoint, C2_cutpoint, C3_cutpoint), color = c(\"red\", \"green\", \"blue\")) +\n",
    "  geom_text(aes(x = c(C1_cutpoint, C2_cutpoint, C3_cutpoint), y = c(3, 2, 4), label = c(round(C1_cutpoint,2), round(C2_cutpoint,2), round(C3_cutpoint,2))),vjust = 1, hjust = 0, color = \"red\") +\n",
    "  theme_classic() +\n",
    "  geom_hline(yintercept=1, linetype=2,size=1) +\n",
    "  labs(title = \"RCS\", x=\"fluidbance\", y=\"HR (95%CI)\") "
   ]
  },
  {
   "cell_type": "code",
   "execution_count": null,
   "id": "e01de17b",
   "metadata": {},
   "outputs": [],
   "source": []
  },
  {
   "cell_type": "code",
   "execution_count": null,
   "id": "76b2a606",
   "metadata": {},
   "outputs": [],
   "source": []
  }
 ],
 "metadata": {
  "kernelspec": {
   "display_name": "R [conda env:R]",
   "language": "R",
   "name": "conda-env-R-r"
  },
  "language_info": {
   "codemirror_mode": "r",
   "file_extension": ".r",
   "mimetype": "text/x-r-source",
   "name": "R",
   "pygments_lexer": "r",
   "version": "4.2.2"
  },
  "toc": {
   "base_numbering": 1,
   "nav_menu": {},
   "number_sections": true,
   "sideBar": true,
   "skip_h1_title": false,
   "title_cell": "Table of Contents",
   "title_sidebar": "Contents",
   "toc_cell": false,
   "toc_position": {},
   "toc_section_display": true,
   "toc_window_display": false
  },
  "varInspector": {
   "cols": {
    "lenName": 16,
    "lenType": 16,
    "lenVar": 40
   },
   "kernels_config": {
    "python": {
     "delete_cmd_postfix": "",
     "delete_cmd_prefix": "del ",
     "library": "var_list.py",
     "varRefreshCmd": "print(var_dic_list())"
    },
    "r": {
     "delete_cmd_postfix": ") ",
     "delete_cmd_prefix": "rm(",
     "library": "var_list.r",
     "varRefreshCmd": "cat(var_dic_list()) "
    }
   },
   "types_to_exclude": [
    "module",
    "function",
    "builtin_function_or_method",
    "instance",
    "_Feature"
   ],
   "window_display": false
  }
 },
 "nbformat": 4,
 "nbformat_minor": 5
}
