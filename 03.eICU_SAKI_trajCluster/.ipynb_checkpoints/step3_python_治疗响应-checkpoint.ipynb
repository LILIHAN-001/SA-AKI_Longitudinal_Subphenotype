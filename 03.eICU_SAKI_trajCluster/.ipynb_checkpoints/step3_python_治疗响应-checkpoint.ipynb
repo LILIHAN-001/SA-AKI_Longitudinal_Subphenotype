{
 "cells": [
  {
   "cell_type": "code",
   "execution_count": 1,
   "id": "13a0d758",
   "metadata": {
    "ExecuteTime": {
     "end_time": "2023-01-06T02:16:31.732205Z",
     "start_time": "2023-01-06T02:16:30.156246Z"
    }
   },
   "outputs": [],
   "source": [
    "import pandas as pd\n",
    "import numpy as np\n",
    "import matplotlib.pyplot as plt\n",
    "pd.options.display.max_rows = 300\n",
    "import math\n",
    "import datetime as dt\n",
    "from tableone import TableOne, load_dataset\n",
    "import itertools\n",
    "import random\n",
    "import scipy.stats as stats"
   ]
  },
  {
   "cell_type": "code",
   "execution_count": 2,
   "id": "83651e40",
   "metadata": {
    "ExecuteTime": {
     "end_time": "2023-01-06T02:16:32.081270Z",
     "start_time": "2023-01-06T02:16:31.733854Z"
    }
   },
   "outputs": [
    {
     "name": "stdout",
     "output_type": "stream",
     "text": [
      "纳入患者数量： 7135\n"
     ]
    },
    {
     "data": {
      "text/plain": [
       "2    5569\n",
       "3     914\n",
       "1     652\n",
       "Name: groupHPD, dtype: int64"
      ]
     },
     "execution_count": 2,
     "metadata": {},
     "output_type": "execute_result"
    }
   ],
   "source": [
    "df_type = pd.read_csv(\"df_mixAK_fea3_C3.csv\")\n",
    "df_type_filt = df_type.loc[:,[\"stay_id\",\"groupHPD\"]]\n",
    "df_type_filt = df_type_filt.drop_duplicates()\n",
    "all_lst = df_type_filt.stay_id.unique().tolist()\n",
    "print(\"纳入患者数量：\",len(all_lst))\n",
    "\n",
    "df_type_filt[\"groupHPD\"].value_counts()"
   ]
  },
  {
   "cell_type": "code",
   "execution_count": 3,
   "id": "c4f34d29",
   "metadata": {
    "ExecuteTime": {
     "end_time": "2023-01-06T02:16:32.084343Z",
     "start_time": "2023-01-06T02:16:32.082429Z"
    }
   },
   "outputs": [],
   "source": [
    "## 升压药\n",
    "# Dobutamine, Dopamine, Epinephrine, Norepinephrine, Phenylephrine, Vasopressin\n",
    "\n",
    "## "
   ]
  },
  {
   "cell_type": "code",
   "execution_count": 4,
   "id": "8b497771",
   "metadata": {
    "ExecuteTime": {
     "end_time": "2023-01-06T02:16:35.254235Z",
     "start_time": "2023-01-06T02:16:32.086175Z"
    }
   },
   "outputs": [],
   "source": [
    "data_dir = \"/public/hanl/jupyter_dir/kidney_sepsis_penotype/00.data/treatment/\"\n",
    "infile = data_dir + \"vaso_with_type.csv\"\n",
    "df_vaso = pd.read_csv(infile)\n",
    "df_vaso = df_vaso.sort_values([\"stay_id\",\"starttime\",\"endtime\",\"vaso_type\"])"
   ]
  },
  {
   "cell_type": "markdown",
   "id": "80106a8b",
   "metadata": {
    "ExecuteTime": {
     "end_time": "2023-01-05T11:03:34.942455Z",
     "start_time": "2023-01-05T11:03:34.940302Z"
    }
   },
   "source": [
    "# 加压素\n",
    "- 在saki发作后6小时内是否使用加压素\n",
    "- 在saki发作后使用什么类型的加压素对生存的影响\n",
    "- 剂量大小"
   ]
  },
  {
   "cell_type": "markdown",
   "id": "9e773115",
   "metadata": {},
   "source": [
    "## 生成文件"
   ]
  },
  {
   "cell_type": "code",
   "execution_count": 85,
   "id": "2e8c8960",
   "metadata": {
    "ExecuteTime": {
     "end_time": "2023-01-06T07:46:25.014882Z",
     "start_time": "2023-01-06T07:46:24.990614Z"
    }
   },
   "outputs": [],
   "source": [
    "df_time = pd.read_csv(\"sk_event_time.csv\")\n",
    "df_time = df_time.loc[:,[\"stay_id\",\"saki_onset\",\"intime\"]]\n",
    "df_time[\"saki_onset\"] = pd.to_datetime(df_time[\"saki_onset\"])\n",
    "df_time[\"intime\"] = pd.to_datetime(df_time[\"intime\"])\n",
    "df_time.loc[:, 'saki_onset_anh'] = df_time.saki_onset + dt.timedelta(hours=12)\n"
   ]
  },
  {
   "cell_type": "code",
   "execution_count": 7,
   "id": "aca4fcce",
   "metadata": {
    "ExecuteTime": {
     "end_time": "2023-01-06T02:16:35.485599Z",
     "start_time": "2023-01-06T02:16:35.442441Z"
    }
   },
   "outputs": [],
   "source": [
    "df_vaso_filt = pd.merge(df_time,df_vaso,how=\"inner\",on=\"stay_id\")\n",
    "df_vaso_filt = df_vaso_filt[(df_vaso_filt[\"starttime\"]<=df_vaso_filt[\"saki_onset_anh\"]) & (df_vaso_filt[\"endtime\"]>=df_vaso_filt[\"saki_onset\"])]\n",
    "\n",
    "df_vaso_filt_grouped = df_vaso_filt.groupby([\"stay_id\",\"vaso_type\"]).sum()\n",
    "df_vaso_filt_grouped = df_vaso_filt_grouped.reset_index()\n",
    "df_vaso_filt_grouped = df_vaso_filt_grouped.loc[:,[\"stay_id\",\"vaso_type\",\"vaso_amount\"]]\n",
    "df_vaso_filt_grouped[\"with_vaso\"] = 1\n",
    "with_vaso_instayid = df_vaso_filt_grouped.stay_id.unique()\\\n",
    "\n",
    "# 构建dataframe\n",
    "df_time[\"vaso_type\"] = \"dobutamine,dopamine,epinephrine,norepinephrine,phenylephrine,vasopressin\"\n",
    "df = df_time.loc[:,[\"stay_id\",\"vaso_type\"]]\n",
    "df = df.set_index([\"stay_id\"])[\"vaso_type\"].str.split(\",\", expand=True).stack().reset_index(drop=True,level=-1).reset_index().rename(columns={0:'vaso_type'})\n",
    "\n",
    "df_vaso_filt_grouped = pd.merge(df, df_vaso_filt_grouped, how=\"outer\",on =[\"stay_id\",\"vaso_type\"])\n",
    "df_vaso_filt_grouped = df_vaso_filt_grouped.fillna(0)"
   ]
  },
  {
   "cell_type": "code",
   "execution_count": 8,
   "id": "487314e6",
   "metadata": {
    "ExecuteTime": {
     "end_time": "2023-01-06T02:16:38.735868Z",
     "start_time": "2023-01-06T02:16:35.486723Z"
    }
   },
   "outputs": [
    {
     "data": {
      "text/html": [
       "<div>\n",
       "<style scoped>\n",
       "    .dataframe tbody tr th:only-of-type {\n",
       "        vertical-align: middle;\n",
       "    }\n",
       "\n",
       "    .dataframe tbody tr th {\n",
       "        vertical-align: top;\n",
       "    }\n",
       "\n",
       "    .dataframe thead th {\n",
       "        text-align: right;\n",
       "    }\n",
       "</style>\n",
       "<table border=\"1\" class=\"dataframe\">\n",
       "  <thead>\n",
       "    <tr style=\"text-align: right;\">\n",
       "      <th></th>\n",
       "      <th>stay_id</th>\n",
       "      <th>hospital_survival_day</th>\n",
       "      <th>hospital_expire_flag</th>\n",
       "      <th>groupHPD</th>\n",
       "    </tr>\n",
       "  </thead>\n",
       "  <tbody>\n",
       "    <tr>\n",
       "      <th>0</th>\n",
       "      <td>30002415</td>\n",
       "      <td>4.0</td>\n",
       "      <td>0</td>\n",
       "      <td>2</td>\n",
       "    </tr>\n",
       "    <tr>\n",
       "      <th>1</th>\n",
       "      <td>30003598</td>\n",
       "      <td>16.0</td>\n",
       "      <td>0</td>\n",
       "      <td>3</td>\n",
       "    </tr>\n",
       "  </tbody>\n",
       "</table>\n",
       "</div>"
      ],
      "text/plain": [
       "    stay_id  hospital_survival_day  hospital_expire_flag  groupHPD\n",
       "0  30002415                    4.0                     0         2\n",
       "1  30003598                   16.0                     0         3"
      ]
     },
     "execution_count": 8,
     "metadata": {},
     "output_type": "execute_result"
    }
   ],
   "source": [
    "# 生存时间数据准备\n",
    "df_demo = pd.read_csv(\"/public/hanl/jupyter_dir/kidney_sepsis_penotype/00.data/feature_data/sk_icu_basicinfo.csv\")\n",
    "df_demo = df_demo.loc[:,[\"stay_id\",\"hadm_id\"]]\n",
    "\n",
    "df_admit = pd.read_csv(\"/public/hanl/jupyter_dir/kidney_sepsis_penotype/00.data/feature_data/admissions.csv\")\n",
    "df_admit = df_admit.loc[:,['hadm_id',\"dischtime\",\"deathtime\",\"hospital_expire_flag\"]]\n",
    "df_admit[\"dischtime\"] = pd.to_datetime(df_admit[\"dischtime\"], format='%d/%m/%Y %H:%M:%S')\n",
    "df_admit[\"deathtime\"] = pd.to_datetime(df_admit[\"deathtime\"], format='%d/%m/%Y %H:%M:%S')\n",
    "df_admit= pd.merge(df_demo,df_admit,how=\"inner\",on=\"hadm_id\")\n",
    "\n",
    "df_time_cut = df_time.loc[:,[\"stay_id\",\"saki_onset\",\"intime\"]]\n",
    "\n",
    "df_admit = pd.merge(df_time_cut,df_admit,how=\"inner\",on=\"stay_id\")\n",
    "df_admit.loc[:, 'saki_onset_bnh'] = df_admit.saki_onset + dt.timedelta(hours=-24)\n",
    "df_admit[\"starttime\"] = df_admit[['saki_onset_bnh', 'intime']].max(axis=1)\n",
    "\n",
    "df_admit[\"hospital_survival_day\"] = (df_admit[\"dischtime\"] - df_admit[\"starttime\"]).map(lambda x:x/np.timedelta64(24, 'h')).tolist()\n",
    "#df_admit[\"survival_hour\"] = (df_admit[\"deathtime\"] - df_admit[\"sepsis_onset_b3h\"]).map(lambda x:x/np.timedelta64(1, 'h')).tolist()\n",
    "#df_admit[\"expire_flag\"] = 1\n",
    "#df_admit.loc[df_admit[\"survival_hour\"].isnull(),\"expire_flag\"] = 0\n",
    "df_admit = df_admit.loc[:,['stay_id','hospital_survival_day','hospital_expire_flag']]\n",
    "df_admit[\"hospital_survival_day\"] = round(df_admit[\"hospital_survival_day\"],0)\n",
    "\n",
    "df_admit = pd.merge(df_admit, df_type_filt,how=\"inner\",on=\"stay_id\")\n",
    "df_admit = df_admit.drop_duplicates()\n",
    "change_lst = df_admit[(df_admit[\"hospital_survival_day\"]>30) & (df_admit[\"hospital_expire_flag\"]==1)].stay_id.tolist()\n",
    "df_admit.loc[(df_admit[\"hospital_survival_day\"]>30) & (df_admit[\"hospital_expire_flag\"]==1), \"hospital_expire_flag\"] = 0\n",
    "df_admit.loc[(df_admit[\"hospital_survival_day\"]>30),\"hospital_survival_day\"] = 30\n",
    "\n",
    "df_admit.head(2)\n"
   ]
  },
  {
   "cell_type": "code",
   "execution_count": 9,
   "id": "84f0f89c",
   "metadata": {
    "ExecuteTime": {
     "end_time": "2023-01-06T02:16:38.745480Z",
     "start_time": "2023-01-06T02:16:38.737422Z"
    }
   },
   "outputs": [],
   "source": [
    "df_vaso_stat = pd.merge(df_admit, df_vaso_filt_grouped, how=\"inner\",on=\"stay_id\")\n",
    "df_vaso_stat[\"with_vaso_instayid\"] = 0\n",
    "df_vaso_stat.loc[df_vaso_stat[\"stay_id\"].isin(with_vaso_instayid),\"with_vaso_instayid\"] = 1"
   ]
  },
  {
   "cell_type": "code",
   "execution_count": 14,
   "id": "d9f39c30",
   "metadata": {
    "ExecuteTime": {
     "end_time": "2023-01-06T06:42:00.117529Z",
     "start_time": "2023-01-06T06:42:00.106452Z"
    }
   },
   "outputs": [],
   "source": [
    "df_vaso_stat.loc[df_vaso_stat[\"groupHPD\"]==1,\"groupHPD\"] = \"C1\"\n",
    "df_vaso_stat.loc[df_vaso_stat[\"groupHPD\"]==2,\"groupHPD\"] = \"C2\"\n",
    "df_vaso_stat.loc[df_vaso_stat[\"groupHPD\"]==3,\"groupHPD\"] = \"C3\"\n"
   ]
  },
  {
   "cell_type": "code",
   "execution_count": 11,
   "id": "09870c22",
   "metadata": {
    "ExecuteTime": {
     "end_time": "2023-01-06T02:16:38.760033Z",
     "start_time": "2023-01-06T02:16:38.752183Z"
    }
   },
   "outputs": [
    {
     "data": {
      "text/html": [
       "<div>\n",
       "<style scoped>\n",
       "    .dataframe tbody tr th:only-of-type {\n",
       "        vertical-align: middle;\n",
       "    }\n",
       "\n",
       "    .dataframe tbody tr th {\n",
       "        vertical-align: top;\n",
       "    }\n",
       "\n",
       "    .dataframe thead th {\n",
       "        text-align: right;\n",
       "    }\n",
       "</style>\n",
       "<table border=\"1\" class=\"dataframe\">\n",
       "  <thead>\n",
       "    <tr style=\"text-align: right;\">\n",
       "      <th></th>\n",
       "      <th>stay_id</th>\n",
       "      <th>hospital_survival_day</th>\n",
       "      <th>hospital_expire_flag</th>\n",
       "      <th>groupHPD</th>\n",
       "      <th>vaso_type</th>\n",
       "      <th>vaso_amount</th>\n",
       "      <th>with_vaso</th>\n",
       "      <th>with_vaso_instayid</th>\n",
       "    </tr>\n",
       "  </thead>\n",
       "  <tbody>\n",
       "    <tr>\n",
       "      <th>0</th>\n",
       "      <td>30002415</td>\n",
       "      <td>4.0</td>\n",
       "      <td>0</td>\n",
       "      <td>2</td>\n",
       "      <td>dobutamine</td>\n",
       "      <td>0.0</td>\n",
       "      <td>0.0</td>\n",
       "      <td>0</td>\n",
       "    </tr>\n",
       "    <tr>\n",
       "      <th>1</th>\n",
       "      <td>30002415</td>\n",
       "      <td>4.0</td>\n",
       "      <td>0</td>\n",
       "      <td>2</td>\n",
       "      <td>dopamine</td>\n",
       "      <td>0.0</td>\n",
       "      <td>0.0</td>\n",
       "      <td>0</td>\n",
       "    </tr>\n",
       "  </tbody>\n",
       "</table>\n",
       "</div>"
      ],
      "text/plain": [
       "    stay_id  hospital_survival_day  hospital_expire_flag  groupHPD  \\\n",
       "0  30002415                    4.0                     0         2   \n",
       "1  30002415                    4.0                     0         2   \n",
       "\n",
       "    vaso_type  vaso_amount  with_vaso  with_vaso_instayid  \n",
       "0  dobutamine          0.0        0.0                   0  \n",
       "1    dopamine          0.0        0.0                   0  "
      ]
     },
     "execution_count": 11,
     "metadata": {},
     "output_type": "execute_result"
    }
   ],
   "source": [
    "df_vaso_stat.head(2)"
   ]
  },
  {
   "cell_type": "code",
   "execution_count": 15,
   "id": "285da1b5",
   "metadata": {
    "ExecuteTime": {
     "end_time": "2023-01-06T06:42:02.946879Z",
     "start_time": "2023-01-06T06:42:02.639975Z"
    }
   },
   "outputs": [],
   "source": [
    "df_vaso_stat.to_csv(\"df_vaso_stat.csv\",index=False)"
   ]
  },
  {
   "cell_type": "markdown",
   "id": "d21520e1",
   "metadata": {},
   "source": [
    "# 液体复苏"
   ]
  },
  {
   "cell_type": "code",
   "execution_count": 49,
   "id": "91455e16",
   "metadata": {
    "ExecuteTime": {
     "end_time": "2023-01-06T07:22:56.888735Z",
     "start_time": "2023-01-06T07:22:14.122802Z"
    },
    "run_control": {
     "marked": true
    }
   },
   "outputs": [
    {
     "data": {
      "text/html": [
       "<div>\n",
       "<style scoped>\n",
       "    .dataframe tbody tr th:only-of-type {\n",
       "        vertical-align: middle;\n",
       "    }\n",
       "\n",
       "    .dataframe tbody tr th {\n",
       "        vertical-align: top;\n",
       "    }\n",
       "\n",
       "    .dataframe thead th {\n",
       "        text-align: right;\n",
       "    }\n",
       "</style>\n",
       "<table border=\"1\" class=\"dataframe\">\n",
       "  <thead>\n",
       "    <tr style=\"text-align: right;\">\n",
       "      <th></th>\n",
       "      <th>stay_id</th>\n",
       "      <th>fuild_strattime</th>\n",
       "      <th>colloid_bolus_hourly</th>\n",
       "      <th>fuild_endtime</th>\n",
       "    </tr>\n",
       "  </thead>\n",
       "  <tbody>\n",
       "    <tr>\n",
       "      <th>1119</th>\n",
       "      <td>34807493</td>\n",
       "      <td>2156-04-30 22:00:00</td>\n",
       "      <td>4.861111</td>\n",
       "      <td>2156-04-30 23:00:00</td>\n",
       "    </tr>\n",
       "    <tr>\n",
       "      <th>1120</th>\n",
       "      <td>34807493</td>\n",
       "      <td>2156-04-30 23:00:00</td>\n",
       "      <td>4.861111</td>\n",
       "      <td>2156-05-01 00:00:00</td>\n",
       "    </tr>\n",
       "  </tbody>\n",
       "</table>\n",
       "</div>"
      ],
      "text/plain": [
       "       stay_id     fuild_strattime  colloid_bolus_hourly       fuild_endtime\n",
       "1119  34807493 2156-04-30 22:00:00              4.861111 2156-04-30 23:00:00\n",
       "1120  34807493 2156-04-30 23:00:00              4.861111 2156-05-01 00:00:00"
      ]
     },
     "execution_count": 49,
     "metadata": {},
     "output_type": "execute_result"
    }
   ],
   "source": [
    "data_dir = \"/public/hanl/jupyter_dir/kidney_sepsis_penotype/00.data/treatment/\"\n",
    "infile = data_dir + \"fluids_bolus_hourly.csv\"\n",
    "df_fuild = pd.read_csv(infile)\n",
    "df_fuild = df_fuild.loc[:,[\"stay_id\",\"charttime\",\"colloid_bolus_hourly\"]]\n",
    "df_fuild = df_fuild[df_fuild[\"stay_id\"].isin(all_lst)]\n",
    "df_fuild[\"charttime\"] = pd.to_datetime(df_fuild[\"charttime\"])\n",
    "df_fuild.loc[:, 'fuild_endtime'] = df_fuild.charttime + dt.timedelta(hours=1)\n",
    "df_fuild = df_fuild.rename(columns={\"charttime\":\"fuild_strattime\"})\n",
    "df_fuild.head(2)"
   ]
  },
  {
   "cell_type": "code",
   "execution_count": 104,
   "id": "72108226",
   "metadata": {
    "ExecuteTime": {
     "end_time": "2023-01-06T08:47:25.274048Z",
     "start_time": "2023-01-06T08:47:25.244607Z"
    },
    "run_control": {
     "marked": true
    }
   },
   "outputs": [
    {
     "data": {
      "text/html": [
       "<div>\n",
       "<style scoped>\n",
       "    .dataframe tbody tr th:only-of-type {\n",
       "        vertical-align: middle;\n",
       "    }\n",
       "\n",
       "    .dataframe tbody tr th {\n",
       "        vertical-align: top;\n",
       "    }\n",
       "\n",
       "    .dataframe thead th {\n",
       "        text-align: right;\n",
       "    }\n",
       "</style>\n",
       "<table border=\"1\" class=\"dataframe\">\n",
       "  <thead>\n",
       "    <tr style=\"text-align: right;\">\n",
       "      <th></th>\n",
       "      <th>stay_id</th>\n",
       "      <th>saki_onset</th>\n",
       "      <th>intime</th>\n",
       "      <th>saki_onset_anh</th>\n",
       "    </tr>\n",
       "  </thead>\n",
       "  <tbody>\n",
       "    <tr>\n",
       "      <th>0</th>\n",
       "      <td>30002415</td>\n",
       "      <td>2126-12-18</td>\n",
       "      <td>2126-12-17 09:54:03</td>\n",
       "      <td>2126-12-18 12:00:00</td>\n",
       "    </tr>\n",
       "  </tbody>\n",
       "</table>\n",
       "</div>"
      ],
      "text/plain": [
       "    stay_id saki_onset              intime      saki_onset_anh\n",
       "0  30002415 2126-12-18 2126-12-17 09:54:03 2126-12-18 12:00:00"
      ]
     },
     "execution_count": 104,
     "metadata": {},
     "output_type": "execute_result"
    }
   ],
   "source": [
    "df_time = pd.read_csv(\"sk_event_time.csv\")\n",
    "df_time = df_time.loc[:,[\"stay_id\",\"saki_onset\",\"intime\"]]\n",
    "df_time[\"saki_onset\"] = pd.to_datetime(df_time[\"saki_onset\"])\n",
    "df_time[\"intime\"] = pd.to_datetime(df_time[\"intime\"])\n",
    "df_time.loc[:, 'saki_onset_anh'] = df_time.saki_onset + dt.timedelta(hours=12)\n",
    "df_time.head(1)"
   ]
  },
  {
   "cell_type": "code",
   "execution_count": 105,
   "id": "4063ecfb",
   "metadata": {
    "ExecuteTime": {
     "end_time": "2023-01-06T08:47:27.380311Z",
     "start_time": "2023-01-06T08:47:27.161882Z"
    }
   },
   "outputs": [
    {
     "name": "stderr",
     "output_type": "stream",
     "text": [
      "/tmp/ipykernel_21783/3215632735.py:18: DeprecationWarning: `np.str` is a deprecated alias for the builtin `str`. To silence this warning, use `str` by itself. Doing this will not modify any behavior and is safe. If you specifically wanted the numpy scalar type, use `np.str_` here.\n",
      "Deprecated in NumPy 1.20; for more details and guidance: https://numpy.org/devdocs/release/1.20.0-notes.html#deprecations\n",
      "  df_fuild_filt_grouped['bin_range'] = df_fuild_filt_grouped['bin_range'].astype(np.str)\n",
      "/tmp/ipykernel_21783/3215632735.py:23: DeprecationWarning: `np.str` is a deprecated alias for the builtin `str`. To silence this warning, use `str` by itself. Doing this will not modify any behavior and is safe. If you specifically wanted the numpy scalar type, use `np.str_` here.\n",
      "Deprecated in NumPy 1.20; for more details and guidance: https://numpy.org/devdocs/release/1.20.0-notes.html#deprecations\n",
      "  df_fuild_filt_grouped['bin_range_sim'] = df_fuild_filt_grouped['bin_range_sim'].astype(np.str)\n"
     ]
    }
   ],
   "source": [
    "# 获取saki发作后12内的液体给入量\n",
    "df_fuild_filt = pd.merge(df_time,df_fuild,how=\"inner\",on=\"stay_id\")\n",
    "df_fuild_filt = df_fuild_filt[(df_fuild_filt[\"fuild_strattime\"]<=df_fuild_filt[\"saki_onset_anh\"]) & (df_fuild_filt[\"fuild_endtime\"]>=df_fuild_filt[\"saki_onset\"])]\n",
    "df_fuild_filt_grouped = df_fuild_filt.groupby([\"stay_id\"]).sum()\n",
    "df_fuild_filt_grouped = df_fuild_filt_grouped.reset_index()\n",
    "df_fuild_filt_grouped[\"is_bolus\"] = 1\n",
    "\n",
    "# 添加那些无液体复苏记录的患者\n",
    "df_time = df_time.loc[:,[\"stay_id\",\"saki_onset\"]]\n",
    "df_fuild_filt_grouped = pd.merge(df_fuild_filt_grouped,df_time,how=\"outer\",on=\"stay_id\" )\n",
    "df_fuild_filt_grouped = df_fuild_filt_grouped.drop([\"saki_onset\"],axis=1)\n",
    "df_fuild_filt_grouped = df_fuild_filt_grouped.fillna(0)\n",
    "\n",
    "# 给fuild指定range\n",
    "fuild_bins = [-1,0,500,1000,1500, 2000,2500,3000,3500,4000,4500,5000,11000]\n",
    "r1,r2 = pd.cut(x=df_fuild_filt_grouped[\"colloid_bolus_hourly\"],bins=fuild_bins,right=True,retbins=True)\n",
    "df_fuild_filt_grouped[\"bin_range\"] = r1\n",
    "df_fuild_filt_grouped['bin_range'] = df_fuild_filt_grouped['bin_range'].astype(np.str)\n",
    "\n",
    "fuild_bins = [-1,0, 2000,3000,4000,11000]\n",
    "r1,r2 = pd.cut(x=df_fuild_filt_grouped[\"colloid_bolus_hourly\"],bins=fuild_bins,right=True,retbins=True)\n",
    "df_fuild_filt_grouped[\"bin_range_sim\"] = r1\n",
    "df_fuild_filt_grouped['bin_range_sim'] = df_fuild_filt_grouped['bin_range_sim'].astype(np.str)"
   ]
  },
  {
   "cell_type": "code",
   "execution_count": 97,
   "id": "e6f3c5b3",
   "metadata": {
    "ExecuteTime": {
     "end_time": "2023-01-06T08:21:25.286238Z",
     "start_time": "2023-01-06T08:21:22.025549Z"
    }
   },
   "outputs": [
    {
     "data": {
      "text/html": [
       "<div>\n",
       "<style scoped>\n",
       "    .dataframe tbody tr th:only-of-type {\n",
       "        vertical-align: middle;\n",
       "    }\n",
       "\n",
       "    .dataframe tbody tr th {\n",
       "        vertical-align: top;\n",
       "    }\n",
       "\n",
       "    .dataframe thead th {\n",
       "        text-align: right;\n",
       "    }\n",
       "</style>\n",
       "<table border=\"1\" class=\"dataframe\">\n",
       "  <thead>\n",
       "    <tr style=\"text-align: right;\">\n",
       "      <th></th>\n",
       "      <th>stay_id</th>\n",
       "      <th>hospital_survival_day</th>\n",
       "      <th>hospital_expire_flag</th>\n",
       "      <th>groupHPD</th>\n",
       "    </tr>\n",
       "  </thead>\n",
       "  <tbody>\n",
       "    <tr>\n",
       "      <th>0</th>\n",
       "      <td>30002415</td>\n",
       "      <td>4.0</td>\n",
       "      <td>0</td>\n",
       "      <td>2</td>\n",
       "    </tr>\n",
       "    <tr>\n",
       "      <th>1</th>\n",
       "      <td>30003598</td>\n",
       "      <td>16.0</td>\n",
       "      <td>0</td>\n",
       "      <td>3</td>\n",
       "    </tr>\n",
       "  </tbody>\n",
       "</table>\n",
       "</div>"
      ],
      "text/plain": [
       "    stay_id  hospital_survival_day  hospital_expire_flag  groupHPD\n",
       "0  30002415                    4.0                     0         2\n",
       "1  30003598                   16.0                     0         3"
      ]
     },
     "execution_count": 97,
     "metadata": {},
     "output_type": "execute_result"
    }
   ],
   "source": [
    "df_time = pd.read_csv(\"sk_event_time.csv\")\n",
    "df_time = df_time.loc[:,[\"stay_id\",\"saki_onset\",\"intime\"]]\n",
    "df_time[\"saki_onset\"] = pd.to_datetime(df_time[\"saki_onset\"])\n",
    "df_time[\"intime\"] = pd.to_datetime(df_time[\"intime\"])\n",
    "df_time.loc[:, 'saki_onset_anh'] = df_time.saki_onset + dt.timedelta(hours=12)\n",
    "\n",
    "# 生存时间数据准备\n",
    "df_demo = pd.read_csv(\"/public/hanl/jupyter_dir/kidney_sepsis_penotype/00.data/feature_data/sk_icu_basicinfo.csv\")\n",
    "df_demo = df_demo.loc[:,[\"stay_id\",\"hadm_id\"]]\n",
    "\n",
    "df_admit = pd.read_csv(\"/public/hanl/jupyter_dir/kidney_sepsis_penotype/00.data/feature_data/admissions.csv\")\n",
    "df_admit = df_admit.loc[:,['hadm_id',\"dischtime\",\"deathtime\",\"hospital_expire_flag\"]]\n",
    "df_admit[\"dischtime\"] = pd.to_datetime(df_admit[\"dischtime\"], format='%d/%m/%Y %H:%M:%S')\n",
    "df_admit[\"deathtime\"] = pd.to_datetime(df_admit[\"deathtime\"], format='%d/%m/%Y %H:%M:%S')\n",
    "df_admit= pd.merge(df_demo,df_admit,how=\"inner\",on=\"hadm_id\")\n",
    "\n",
    "df_time_cut = df_time.loc[:,[\"stay_id\",\"saki_onset\",\"intime\"]]\n",
    "\n",
    "df_admit = pd.merge(df_time_cut,df_admit,how=\"inner\",on=\"stay_id\")\n",
    "df_admit.loc[:, 'saki_onset_bnh'] = df_admit.saki_onset + dt.timedelta(hours=-24)\n",
    "df_admit[\"starttime\"] = df_admit[['saki_onset_bnh', 'intime']].max(axis=1)\n",
    "\n",
    "df_admit[\"hospital_survival_day\"] = (df_admit[\"dischtime\"] - df_admit[\"starttime\"]).map(lambda x:x/np.timedelta64(24, 'h')).tolist()\n",
    "#df_admit[\"survival_hour\"] = (df_admit[\"deathtime\"] - df_admit[\"sepsis_onset_b3h\"]).map(lambda x:x/np.timedelta64(1, 'h')).tolist()\n",
    "#df_admit[\"expire_flag\"] = 1\n",
    "#df_admit.loc[df_admit[\"survival_hour\"].isnull(),\"expire_flag\"] = 0\n",
    "df_admit = df_admit.loc[:,['stay_id','hospital_survival_day','hospital_expire_flag']]\n",
    "df_admit[\"hospital_survival_day\"] = round(df_admit[\"hospital_survival_day\"],0)\n",
    "\n",
    "df_admit = pd.merge(df_admit, df_type_filt,how=\"inner\",on=\"stay_id\")\n",
    "df_admit = df_admit.drop_duplicates()\n",
    "change_lst = df_admit[(df_admit[\"hospital_survival_day\"]>30) & (df_admit[\"hospital_expire_flag\"]==1)].stay_id.tolist()\n",
    "df_admit.loc[(df_admit[\"hospital_survival_day\"]>30) & (df_admit[\"hospital_expire_flag\"]==1), \"hospital_expire_flag\"] = 0\n",
    "df_admit.loc[(df_admit[\"hospital_survival_day\"]>30),\"hospital_survival_day\"] = 30\n",
    "\n",
    "df_admit.head(2)"
   ]
  },
  {
   "cell_type": "code",
   "execution_count": 106,
   "id": "40eda4b9",
   "metadata": {
    "ExecuteTime": {
     "end_time": "2023-01-06T08:47:31.620656Z",
     "start_time": "2023-01-06T08:47:31.603304Z"
    }
   },
   "outputs": [
    {
     "data": {
      "text/html": [
       "<div>\n",
       "<style scoped>\n",
       "    .dataframe tbody tr th:only-of-type {\n",
       "        vertical-align: middle;\n",
       "    }\n",
       "\n",
       "    .dataframe tbody tr th {\n",
       "        vertical-align: top;\n",
       "    }\n",
       "\n",
       "    .dataframe thead th {\n",
       "        text-align: right;\n",
       "    }\n",
       "</style>\n",
       "<table border=\"1\" class=\"dataframe\">\n",
       "  <thead>\n",
       "    <tr style=\"text-align: right;\">\n",
       "      <th></th>\n",
       "      <th>stay_id</th>\n",
       "      <th>colloid_bolus_hourly</th>\n",
       "      <th>is_bolus</th>\n",
       "      <th>bin_range</th>\n",
       "      <th>bin_range_sim</th>\n",
       "      <th>hospital_survival_day</th>\n",
       "      <th>hospital_expire_flag</th>\n",
       "      <th>groupHPD</th>\n",
       "    </tr>\n",
       "  </thead>\n",
       "  <tbody>\n",
       "    <tr>\n",
       "      <th>0</th>\n",
       "      <td>30002415</td>\n",
       "      <td>280.333333</td>\n",
       "      <td>1.0</td>\n",
       "      <td>(0, 500]</td>\n",
       "      <td>(0, 2000]</td>\n",
       "      <td>4.0</td>\n",
       "      <td>0</td>\n",
       "      <td>C2</td>\n",
       "    </tr>\n",
       "    <tr>\n",
       "      <th>1</th>\n",
       "      <td>30003598</td>\n",
       "      <td>2446.964286</td>\n",
       "      <td>1.0</td>\n",
       "      <td>(2000, 2500]</td>\n",
       "      <td>(2000, 3000]</td>\n",
       "      <td>16.0</td>\n",
       "      <td>0</td>\n",
       "      <td>C3</td>\n",
       "    </tr>\n",
       "  </tbody>\n",
       "</table>\n",
       "</div>"
      ],
      "text/plain": [
       "    stay_id  colloid_bolus_hourly  is_bolus     bin_range bin_range_sim  \\\n",
       "0  30002415            280.333333       1.0      (0, 500]     (0, 2000]   \n",
       "1  30003598           2446.964286       1.0  (2000, 2500]  (2000, 3000]   \n",
       "\n",
       "   hospital_survival_day  hospital_expire_flag groupHPD  \n",
       "0                    4.0                     0       C2  \n",
       "1                   16.0                     0       C3  "
      ]
     },
     "execution_count": 106,
     "metadata": {},
     "output_type": "execute_result"
    }
   ],
   "source": [
    "# 添加生存信息与类标签\n",
    "df_fuild_filt_grouped = pd.merge(df_fuild_filt_grouped,df_admit,how=\"inner\",on=\"stay_id\")\n",
    "\n",
    "df_fuild_filt_grouped.loc[df_fuild_filt_grouped[\"groupHPD\"]==1,\"groupHPD\"] = \"C1\"\n",
    "df_fuild_filt_grouped.loc[df_fuild_filt_grouped[\"groupHPD\"]==2,\"groupHPD\"] = \"C2\"\n",
    "df_fuild_filt_grouped.loc[df_fuild_filt_grouped[\"groupHPD\"]==3,\"groupHPD\"] = \"C3\"\n",
    "\n",
    "df_fuild_filt_grouped.head(2)"
   ]
  },
  {
   "cell_type": "code",
   "execution_count": 107,
   "id": "ae0c8e76",
   "metadata": {
    "ExecuteTime": {
     "end_time": "2023-01-06T08:47:34.181185Z",
     "start_time": "2023-01-06T08:47:34.148766Z"
    }
   },
   "outputs": [],
   "source": [
    "df_fuild_filt_grouped.to_csv(\"df_fuild_stat.csv\",index=False)"
   ]
  }
 ],
 "metadata": {
  "celltoolbar": "原始单元格格式",
  "kernelspec": {
   "display_name": "Python [conda env:AUMCdb]",
   "language": "python",
   "name": "conda-env-AUMCdb-py"
  },
  "language_info": {
   "codemirror_mode": {
    "name": "ipython",
    "version": 3
   },
   "file_extension": ".py",
   "mimetype": "text/x-python",
   "name": "python",
   "nbconvert_exporter": "python",
   "pygments_lexer": "ipython3",
   "version": "3.8.13"
  },
  "toc": {
   "base_numbering": 1,
   "nav_menu": {},
   "number_sections": true,
   "sideBar": true,
   "skip_h1_title": false,
   "title_cell": "Table of Contents",
   "title_sidebar": "Contents",
   "toc_cell": false,
   "toc_position": {},
   "toc_section_display": true,
   "toc_window_display": false
  },
  "varInspector": {
   "cols": {
    "lenName": 16,
    "lenType": 16,
    "lenVar": 40
   },
   "kernels_config": {
    "python": {
     "delete_cmd_postfix": "",
     "delete_cmd_prefix": "del ",
     "library": "var_list.py",
     "varRefreshCmd": "print(var_dic_list())"
    },
    "r": {
     "delete_cmd_postfix": ") ",
     "delete_cmd_prefix": "rm(",
     "library": "var_list.r",
     "varRefreshCmd": "cat(var_dic_list()) "
    }
   },
   "types_to_exclude": [
    "module",
    "function",
    "builtin_function_or_method",
    "instance",
    "_Feature"
   ],
   "window_display": false
  }
 },
 "nbformat": 4,
 "nbformat_minor": 5
}
