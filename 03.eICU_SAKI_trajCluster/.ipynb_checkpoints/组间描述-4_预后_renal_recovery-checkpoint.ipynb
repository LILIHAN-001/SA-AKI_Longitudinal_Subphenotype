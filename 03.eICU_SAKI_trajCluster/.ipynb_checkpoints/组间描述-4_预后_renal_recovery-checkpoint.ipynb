{
 "cells": [
  {
   "cell_type": "code",
   "execution_count": 1,
   "id": "c2e3c5b2",
   "metadata": {
    "ExecuteTime": {
     "end_time": "2023-08-07T02:37:25.507197Z",
     "start_time": "2023-08-07T02:37:25.505165Z"
    }
   },
   "outputs": [],
   "source": [
    "# df_stage = pd.read_csv(\"/public/hanl/jupyter_dir/kidney_sepsis_penotype_v2/00.data_eicu///disease_definition/AKI/eicu_kdigo_stages_based_time.csv\")\n",
    "# df_stage = df_stage[df_stage['time']>=0]\n",
    "# df_stage = df_stage[df_stage[\"stay_id\"].isin(all_lst)]\n",
    "# df_stage = df_stage.groupby([\"stay_id\"]).agg({\"time\":\"count\"}).reset_index()\n",
    "# df_stage[df_stage[\"time\"]<4].shape ## 297291.0,263616.0"
   ]
  },
  {
   "cell_type": "markdown",
   "id": "ea7f2482",
   "metadata": {},
   "source": [
    "# def"
   ]
  },
  {
   "cell_type": "code",
   "execution_count": 2,
   "id": "8afe3825",
   "metadata": {
    "ExecuteTime": {
     "end_time": "2023-08-07T02:37:26.448368Z",
     "start_time": "2023-08-07T02:37:25.510041Z"
    }
   },
   "outputs": [],
   "source": [
    "import pandas as pd\n",
    "import time\n",
    "import numpy as np\n",
    "import matplotlib.pyplot as plt\n",
    "pd.options.display.max_rows = 300\n",
    "import math\n",
    "import datetime as dt\n",
    "from tableone import TableOne, load_dataset\n",
    "import itertools\n",
    "import random\n",
    "import scipy.stats as stats"
   ]
  },
  {
   "cell_type": "code",
   "execution_count": 3,
   "id": "f649a5a9",
   "metadata": {
    "ExecuteTime": {
     "end_time": "2023-08-07T02:37:26.597771Z",
     "start_time": "2023-08-07T02:37:26.449683Z"
    }
   },
   "outputs": [
    {
     "name": "stdout",
     "output_type": "stream",
     "text": [
      "纳入患者数量： 1970\n"
     ]
    },
    {
     "name": "stderr",
     "output_type": "stream",
     "text": [
      "/home/hanl/miniconda3/envs/mytensor/lib/python3.9/site-packages/ipykernel/ipkernel.py:287: DeprecationWarning: `should_run_async` will not call `transform_cell` automatically in the future. Please pass the result to `transformed_cell` argument and any exception that happen during thetransform in `preprocessing_exc_tuple` in IPython 7.17 and above.\n",
      "  and should_run_async(code)\n"
     ]
    },
    {
     "data": {
      "text/plain": [
       "2    1136\n",
       "1     648\n",
       "3     186\n",
       "Name: groupHPD, dtype: int64"
      ]
     },
     "execution_count": 3,
     "metadata": {},
     "output_type": "execute_result"
    }
   ],
   "source": [
    "df_type = pd.read_csv(\"df_mixAK_fea4_C3_eicu.csv\")\n",
    "df_type_filt = df_type.loc[:,[\"stay_id\",\"groupHPD\"]]\n",
    "df_type_filt = df_type_filt.drop_duplicates()\n",
    "all_lst = df_type_filt.stay_id.unique().tolist()\n",
    "print(\"纳入患者数量：\",len(all_lst))\n",
    "\n",
    "df_type_filt[\"groupHPD\"].value_counts()"
   ]
  },
  {
   "cell_type": "markdown",
   "id": "a67e1cd4",
   "metadata": {},
   "source": [
    "# 定义恢复模式\n",
    "先判断一下每个时间的肾脏情况，再考虑时间来综合判断恢复模式\n",
    "\n",
    "肾脏情况判定：\n",
    "- 尿量不满足KDIGO AKI 定义时，判定为完全恢复C(complete recovery)\n",
    "- 肌酐不满足KDIGO AKI 定义时，判定为完全恢复C(complete recovery)\n",
    "- 否则都为尚未恢复P (partial)\n",
    "\n",
    "- 肌酐在基线肌酐的30%内时，判定为完全恢复\n",
    "\n",
    "恢复模式判定：\n",
    "- 快速恢复QR，3天内恢复(quick recovery ) \n",
    "- 缓慢恢复SR，7天内恢复（slow recovery） \n",
    "- 恶化W（worse） \n",
    "- 恢复指连续5个点 \"不满足AKI定义的数量\" 大于 \"满足AKI定义的数量\"\n"
   ]
  },
  {
   "cell_type": "markdown",
   "id": "d67d8521",
   "metadata": {},
   "source": [
    "# 肾脏情况判定"
   ]
  },
  {
   "cell_type": "markdown",
   "id": "96cb4e0f",
   "metadata": {},
   "source": [
    "## 获取数据-aki stage,aki_stage_uo，aki_stage_cre"
   ]
  },
  {
   "cell_type": "code",
   "execution_count": 4,
   "id": "783e9e1b",
   "metadata": {
    "ExecuteTime": {
     "end_time": "2023-08-07T02:37:26.694848Z",
     "start_time": "2023-08-07T02:37:26.598947Z"
    },
    "run_control": {
     "marked": true
    }
   },
   "outputs": [
    {
     "name": "stderr",
     "output_type": "stream",
     "text": [
      "/home/hanl/miniconda3/envs/mytensor/lib/python3.9/site-packages/ipykernel/ipkernel.py:287: DeprecationWarning: `should_run_async` will not call `transform_cell` automatically in the future. Please pass the result to `transformed_cell` argument and any exception that happen during thetransform in `preprocessing_exc_tuple` in IPython 7.17 and above.\n",
      "  and should_run_async(code)\n"
     ]
    },
    {
     "data": {
      "text/html": [
       "<div>\n",
       "<style scoped>\n",
       "    .dataframe tbody tr th:only-of-type {\n",
       "        vertical-align: middle;\n",
       "    }\n",
       "\n",
       "    .dataframe tbody tr th {\n",
       "        vertical-align: top;\n",
       "    }\n",
       "\n",
       "    .dataframe thead th {\n",
       "        text-align: right;\n",
       "    }\n",
       "</style>\n",
       "<table border=\"1\" class=\"dataframe\">\n",
       "  <thead>\n",
       "    <tr style=\"text-align: right;\">\n",
       "      <th></th>\n",
       "      <th>stay_id</th>\n",
       "      <th>time</th>\n",
       "      <th>aki_stage_uo</th>\n",
       "      <th>aki_stage_creat</th>\n",
       "      <th>aki_stage</th>\n",
       "    </tr>\n",
       "  </thead>\n",
       "  <tbody>\n",
       "    <tr>\n",
       "      <th>63</th>\n",
       "      <td>243208.0</td>\n",
       "      <td>0</td>\n",
       "      <td>3.0</td>\n",
       "      <td>0.0</td>\n",
       "      <td>3.0</td>\n",
       "    </tr>\n",
       "    <tr>\n",
       "      <th>64</th>\n",
       "      <td>243208.0</td>\n",
       "      <td>1</td>\n",
       "      <td>3.0</td>\n",
       "      <td>0.0</td>\n",
       "      <td>3.0</td>\n",
       "    </tr>\n",
       "    <tr>\n",
       "      <th>65</th>\n",
       "      <td>243208.0</td>\n",
       "      <td>2</td>\n",
       "      <td>2.0</td>\n",
       "      <td>0.0</td>\n",
       "      <td>2.0</td>\n",
       "    </tr>\n",
       "  </tbody>\n",
       "</table>\n",
       "</div>"
      ],
      "text/plain": [
       "     stay_id  time  aki_stage_uo  aki_stage_creat  aki_stage\n",
       "63  243208.0     0           3.0              0.0        3.0\n",
       "64  243208.0     1           3.0              0.0        3.0\n",
       "65  243208.0     2           2.0              0.0        2.0"
      ]
     },
     "execution_count": 4,
     "metadata": {},
     "output_type": "execute_result"
    }
   ],
   "source": [
    "## 获取每个时间点 由尿量或肌酐定义的最大stages\n",
    "df_stage = pd.read_csv(\"/public/hanl/jupyter_dir/kidney_sepsis_penotype_v2/00.data_eicu///disease_definition/AKI/eicu_kdigo_stages_based_time.csv\")\n",
    "df_stage = df_stage[df_stage['time']>=0]\n",
    "df_stage = df_stage[df_stage[\"stay_id\"].isin(all_lst)]\n",
    "filt_id_lst = df_stage[df_stage[\"time\"]>=2].stay_id.unique()\n",
    "df_stage = df_stage[df_stage[\"stay_id\"].isin(filt_id_lst)]\n",
    "\n",
    "df_stage.head(3)"
   ]
  },
  {
   "cell_type": "code",
   "execution_count": 5,
   "id": "d882506b",
   "metadata": {
    "ExecuteTime": {
     "end_time": "2023-08-07T02:37:37.312076Z",
     "start_time": "2023-08-07T02:37:26.696012Z"
    }
   },
   "outputs": [
    {
     "name": "stdout",
     "output_type": "stream",
     "text": [
      "aki_stage_creat\n"
     ]
    },
    {
     "name": "stderr",
     "output_type": "stream",
     "text": [
      "/home/hanl/miniconda3/envs/mytensor/lib/python3.9/site-packages/ipykernel/ipkernel.py:287: DeprecationWarning: `should_run_async` will not call `transform_cell` automatically in the future. Please pass the result to `transformed_cell` argument and any exception that happen during thetransform in `preprocessing_exc_tuple` in IPython 7.17 and above.\n",
      "  and should_run_async(code)\n"
     ]
    },
    {
     "name": "stdout",
     "output_type": "stream",
     "text": [
      "aki_stage_uo\n",
      "aki_stage\n"
     ]
    },
    {
     "data": {
      "text/html": [
       "<div>\n",
       "<style scoped>\n",
       "    .dataframe tbody tr th:only-of-type {\n",
       "        vertical-align: middle;\n",
       "    }\n",
       "\n",
       "    .dataframe tbody tr th {\n",
       "        vertical-align: top;\n",
       "    }\n",
       "\n",
       "    .dataframe thead th {\n",
       "        text-align: right;\n",
       "    }\n",
       "</style>\n",
       "<table border=\"1\" class=\"dataframe\">\n",
       "  <thead>\n",
       "    <tr style=\"text-align: right;\">\n",
       "      <th></th>\n",
       "      <th>stay_id</th>\n",
       "      <th>time</th>\n",
       "      <th>aki_stage_uo</th>\n",
       "      <th>aki_stage_creat</th>\n",
       "      <th>aki_stage</th>\n",
       "      <th>state_crea_start</th>\n",
       "      <th>state_crea_max</th>\n",
       "      <th>state_crea_end</th>\n",
       "      <th>state_uo_start</th>\n",
       "      <th>state_uo_max</th>\n",
       "      <th>state_uo_end</th>\n",
       "      <th>state_start</th>\n",
       "      <th>state_max</th>\n",
       "      <th>state_end</th>\n",
       "    </tr>\n",
       "  </thead>\n",
       "  <tbody>\n",
       "    <tr>\n",
       "      <th>0</th>\n",
       "      <td>243208.0</td>\n",
       "      <td>0</td>\n",
       "      <td>3.0</td>\n",
       "      <td>0.0</td>\n",
       "      <td>3.0</td>\n",
       "      <td>0.0</td>\n",
       "      <td>0.0</td>\n",
       "      <td>0.0</td>\n",
       "      <td>3.0</td>\n",
       "      <td>3.0</td>\n",
       "      <td>3.0</td>\n",
       "      <td>3.0</td>\n",
       "      <td>3.0</td>\n",
       "      <td>0.0</td>\n",
       "    </tr>\n",
       "    <tr>\n",
       "      <th>1</th>\n",
       "      <td>243208.0</td>\n",
       "      <td>1</td>\n",
       "      <td>3.0</td>\n",
       "      <td>0.0</td>\n",
       "      <td>3.0</td>\n",
       "      <td>0.0</td>\n",
       "      <td>0.0</td>\n",
       "      <td>0.0</td>\n",
       "      <td>3.0</td>\n",
       "      <td>3.0</td>\n",
       "      <td>3.0</td>\n",
       "      <td>3.0</td>\n",
       "      <td>3.0</td>\n",
       "      <td>0.0</td>\n",
       "    </tr>\n",
       "  </tbody>\n",
       "</table>\n",
       "</div>"
      ],
      "text/plain": [
       "    stay_id  time  aki_stage_uo  aki_stage_creat  aki_stage  state_crea_start  \\\n",
       "0  243208.0     0           3.0              0.0        3.0               0.0   \n",
       "1  243208.0     1           3.0              0.0        3.0               0.0   \n",
       "\n",
       "   state_crea_max  state_crea_end  state_uo_start  state_uo_max  state_uo_end  \\\n",
       "0             0.0             0.0             3.0           3.0           3.0   \n",
       "1             0.0             0.0             3.0           3.0           3.0   \n",
       "\n",
       "   state_start  state_max  state_end  \n",
       "0          3.0        3.0        0.0  \n",
       "1          3.0        3.0        0.0  "
      ]
     },
     "execution_count": 5,
     "metadata": {},
     "output_type": "execute_result"
    }
   ],
   "source": [
    "## 获取变化过程\n",
    "ss = \"aki_stage_creat\"  \n",
    "print(ss)\n",
    "tmp_df = pd.DataFrame(columns=[\"stay_id\", \"state_crea_start\", \"state_crea_max\", \"state_crea_end\"])\n",
    "for i,j in df_stage.groupby([\"stay_id\"]):\n",
    "    sstart = j[j[\"time\"]==0][ss].tolist()[0]\n",
    "    smax = sorted(j[ss].tolist()[1:-1])[-1]\n",
    "    send = j[ss].tolist()[-1] \n",
    "    tmp_df.loc[len(tmp_df)] = [i, sstart, smax, send]\n",
    "df = pd.merge(df_stage, tmp_df, how=\"inner\",on=\"stay_id\")\n",
    "\n",
    "ss = \"aki_stage_uo\"  \n",
    "print(ss)\n",
    "tmp_df = pd.DataFrame(columns=[\"stay_id\", \"state_uo_start\", \"state_uo_max\", \"state_uo_end\"])\n",
    "for i,j in df_stage.groupby([\"stay_id\"]):\n",
    "    sstart = j[j[\"time\"]==0][ss].tolist()[0]\n",
    "    smax = sorted(j[ss].tolist()[1:-1])[-1]\n",
    "    send = j[ss].tolist()[-1] \n",
    "    tmp_df.loc[len(tmp_df)] = [i, sstart, smax, send]\n",
    "df = pd.merge(df, tmp_df, how=\"inner\",on=\"stay_id\")\n",
    "\n",
    "ss = \"aki_stage\" \n",
    "print(ss)\n",
    "tmp_df = pd.DataFrame(columns=[\"stay_id\", \"state_start\", \"state_max\", \"state_end\"])\n",
    "for i,j in df_stage.groupby([\"stay_id\"]):\n",
    "    sstart = j[j[\"time\"]==0][ss].tolist()[0]\n",
    "    smax = sorted(j[ss].tolist()[1:-1])[-1]\n",
    "    send = j[ss].tolist()[-1] \n",
    "    tmp_df.loc[len(tmp_df)] = [i, sstart, smax, send]\n",
    "df = pd.merge(df, tmp_df, how=\"inner\",on=\"stay_id\")\n",
    "df.head(2)"
   ]
  },
  {
   "cell_type": "markdown",
   "id": "59164866",
   "metadata": {
    "run_control": {
     "marked": true
    }
   },
   "source": [
    "## 定义变化过程 by 变好/变坏/不变\n",
    "- 第一个点：time = 1 时的state\n",
    "- 第二个点：整个过程中stages最大的点\n",
    "- 第三个点：倒数5个点更多的一个状态"
   ]
  },
  {
   "cell_type": "code",
   "execution_count": 6,
   "id": "e4685e55",
   "metadata": {
    "ExecuteTime": {
     "end_time": "2023-08-07T02:37:37.370974Z",
     "start_time": "2023-08-07T02:37:37.313338Z"
    }
   },
   "outputs": [
    {
     "name": "stderr",
     "output_type": "stream",
     "text": [
      "/home/hanl/miniconda3/envs/mytensor/lib/python3.9/site-packages/ipykernel/ipkernel.py:287: DeprecationWarning: `should_run_async` will not call `transform_cell` automatically in the future. Please pass the result to `transformed_cell` argument and any exception that happen during thetransform in `preprocessing_exc_tuple` in IPython 7.17 and above.\n",
      "  and should_run_async(code)\n"
     ]
    }
   ],
   "source": [
    "df_cut = df[['stay_id','time','state_crea_start', 'state_crea_max', 'state_crea_end', 'state_uo_start',\n",
    "             'state_uo_max', 'state_uo_end','state_start','state_max', 'state_end']].drop_duplicates()\n",
    "\n",
    "#################\n",
    "t0 = \"state_crea_start\"\n",
    "tm = \"state_crea_max\"\n",
    "t1 = \"state_crea_end\"\n",
    "tc = \"state_crea_change\"\n",
    "# B\n",
    "df_cut.loc[ (df_cut[tm] >= df_cut[t0]) &  (df_cut[tm] >= df_cut[t1]) & (df_cut[t1]==0), tc] = \"CB\"\n",
    "df_cut.loc[ (df_cut[tm] >= df_cut[t0]) &  (df_cut[tm] >= df_cut[t1]) & (df_cut[t1]!=0), tc] = \"PB\"\n",
    "df_cut.loc[ (df_cut[tm] <= df_cut[t0]) &  (df_cut[t1] <= df_cut[tm]) & (df_cut[t1]!=0), tc] = \"PB\"\n",
    "df_cut.loc[ (df_cut[tm] <= df_cut[t0]) &  (df_cut[t1] <= df_cut[tm]) & (df_cut[t1]==0), tc] = \"CB\"\n",
    "\n",
    "# W\n",
    "df_cut.loc[ (df_cut[tm] >= df_cut[t0]) &  (df_cut[t1] >= df_cut[tm]),tc] = \"W\"\n",
    "# S\n",
    "df_cut.loc[ (df_cut[tm] == df_cut[t0]) &  (df_cut[t1] == df_cut[tm]),tc] = \"S\"\n",
    "\n",
    "#################\n",
    "t0 = \"state_uo_start\"\n",
    "tm = \"state_uo_max\"\n",
    "t1 = \"state_uo_end\"\n",
    "tc = \"state_uo_change\"\n",
    "# B\n",
    "df_cut.loc[ (df_cut[tm] >= df_cut[t0]) &  (df_cut[tm] >= df_cut[t1]) & (df_cut[t1]==0), tc] = \"CB\"\n",
    "df_cut.loc[ (df_cut[tm] >= df_cut[t0]) &  (df_cut[tm] >= df_cut[t1]) & (df_cut[t1]!=0), tc] = \"PB\"\n",
    "df_cut.loc[ (df_cut[tm] <= df_cut[t0]) &  (df_cut[t1] <= df_cut[tm]) & (df_cut[t1]!=0), tc] = \"PB\"\n",
    "df_cut.loc[ (df_cut[tm] <= df_cut[t0]) &  (df_cut[t1] <= df_cut[tm]) & (df_cut[t1]==0), tc] = \"CB\"\n",
    "\n",
    "# W\n",
    "df_cut.loc[ (df_cut[tm] >= df_cut[t0]) &  (df_cut[t1] >= df_cut[tm]),tc] = \"W\"\n",
    "# S\n",
    "df_cut.loc[ (df_cut[tm] == df_cut[t0]) &  (df_cut[t1] == df_cut[tm]),tc] = \"S\"\n",
    "\n",
    "#################\n",
    "t0 = \"state_start\"\n",
    "tm = \"state_max\"\n",
    "t1 = \"state_end\"\n",
    "tc = \"state_change\"\n",
    "# B\n",
    "df_cut.loc[ (df_cut[tm] >= df_cut[t0]) &  (df_cut[tm] >= df_cut[t1]) & (df_cut[t1]==0), tc] = \"CB\"\n",
    "df_cut.loc[ (df_cut[tm] >= df_cut[t0]) &  (df_cut[tm] >= df_cut[t1]) & (df_cut[t1]!=0), tc] = \"PB\"\n",
    "df_cut.loc[ (df_cut[tm] <= df_cut[t0]) &  (df_cut[t1] <= df_cut[tm]) & (df_cut[t1]!=0), tc] = \"PB\"\n",
    "df_cut.loc[ (df_cut[tm] <= df_cut[t0]) &  (df_cut[t1] <= df_cut[tm]) & (df_cut[t1]==0), tc] = \"CB\"\n",
    "\n",
    "# W\n",
    "df_cut.loc[ (df_cut[tm] >= df_cut[t0]) &  (df_cut[t1] >= df_cut[tm]),tc] = \"W\"\n",
    "# S\n",
    "df_cut.loc[ (df_cut[tm] == df_cut[t0]) &  (df_cut[t1] == df_cut[tm]),tc] = \"S\"\n"
   ]
  },
  {
   "cell_type": "code",
   "execution_count": 7,
   "id": "285093d7",
   "metadata": {
    "ExecuteTime": {
     "end_time": "2023-08-07T02:37:37.795445Z",
     "start_time": "2023-08-07T02:37:37.371944Z"
    }
   },
   "outputs": [
    {
     "name": "stderr",
     "output_type": "stream",
     "text": [
      "/home/hanl/miniconda3/envs/mytensor/lib/python3.9/site-packages/ipykernel/ipkernel.py:287: DeprecationWarning: `should_run_async` will not call `transform_cell` automatically in the future. Please pass the result to `transformed_cell` argument and any exception that happen during thetransform in `preprocessing_exc_tuple` in IPython 7.17 and above.\n",
      "  and should_run_async(code)\n"
     ]
    },
    {
     "ename": "NameError",
     "evalue": "name 's' is not defined",
     "output_type": "error",
     "traceback": [
      "\u001b[0;31m---------------------------------------------------------------------------\u001b[0m",
      "\u001b[0;31mNameError\u001b[0m                                 Traceback (most recent call last)",
      "Input \u001b[0;32mIn [7]\u001b[0m, in \u001b[0;36m<cell line: 1>\u001b[0;34m()\u001b[0m\n\u001b[0;32m----> 1\u001b[0m \u001b[43ms\u001b[49m\n",
      "\u001b[0;31mNameError\u001b[0m: name 's' is not defined"
     ]
    }
   ],
   "source": [
    "s"
   ]
  },
  {
   "cell_type": "code",
   "execution_count": null,
   "id": "e7b0c135",
   "metadata": {
    "ExecuteTime": {
     "end_time": "2023-08-07T02:37:37.798826Z",
     "start_time": "2023-08-07T02:28:38.252Z"
    },
    "run_control": {
     "marked": true
    }
   },
   "outputs": [],
   "source": [
    "df_cut1 = df_cut[['stay_id','state_crea_change','state_uo_change', 'state_change']].drop_duplicates()\n",
    "df_cut1 = pd.merge(df_cut1,df_type_filt, how=\"inner\",on=\"stay_id\")\n",
    "df_type_filt_count = pd.DataFrame(df_type_filt.groupHPD.value_counts()).reset_index()\n",
    "df_type_filt_count.columns = [\"groupHPD\",\"count\"]\n",
    "\n",
    "fea = \"state_change\" \n",
    "print(fea)\n",
    "##\n",
    "tmp_df = pd.DataFrame(df_cut1[df_cut1[\"groupHPD\"]==3][[fea]].value_counts()).reset_index()\n",
    "tmp_df[\"groupHPD\"]=3\n",
    "df_out = tmp_df\n",
    "\n",
    "tmp_df = pd.DataFrame(df_cut1[df_cut1[\"groupHPD\"]==2][[fea]].value_counts()).reset_index()\n",
    "tmp_df[\"groupHPD\"]=2\n",
    "df_out = pd.concat([df_out,tmp_df],axis=0)\n",
    "\n",
    "tmp_df = pd.DataFrame(df_cut1[df_cut1[\"groupHPD\"]==1][[fea]].value_counts()).reset_index()\n",
    "tmp_df[\"groupHPD\"]=1\n",
    "df_out = pd.concat([df_out,tmp_df],axis=0)\n",
    "df_out = df_out.sort_values([\"groupHPD\"])\n",
    "df_out = pd.merge(df_out,df_type_filt_count, how=\"inner\",on=\"groupHPD\")\n",
    "df_out[\"percent\"] = round(df_out[0] /df_out[\"count\"] *100,2)\n",
    "df_out.columns = ['type', 0, 'groupHPD', 'count', 'percent']\n",
    "df_out.head(2)"
   ]
  },
  {
   "cell_type": "code",
   "execution_count": null,
   "id": "0c9f84bb",
   "metadata": {
    "ExecuteTime": {
     "end_time": "2023-08-07T02:37:37.799406Z",
     "start_time": "2023-08-07T02:28:38.254Z"
    }
   },
   "outputs": [],
   "source": [
    "df_out[\"dataset\"] = \"eICU\"\n",
    "df_out.columns = ['type', 'count', 'groupHPD', 'count_all', 'percent', 'dataset']\n",
    "df_out.to_csv(\"./result/eICU_renal_recovery_1.csv\",index=False)\n",
    "df_out.head()"
   ]
  },
  {
   "cell_type": "code",
   "execution_count": null,
   "id": "322dcf2c",
   "metadata": {
    "ExecuteTime": {
     "end_time": "2023-08-07T02:37:37.799971Z",
     "start_time": "2023-08-07T02:28:38.257Z"
    }
   },
   "outputs": [],
   "source": [
    "#plot\n",
    "def text(y1,y2,y3,y4, sizes):\n",
    "    plt.text(0,y1[0]/2 ,y1[0],size=sizes)\n",
    "    plt.text(1,y1[1]/2,y1[1],size=sizes)\n",
    "    plt.text(2,y1[2]/2,y1[2],size=sizes)\n",
    "    \n",
    "    plt.text(0,y1[0]+ y2[0]/2 ,y2[0],size=sizes)\n",
    "    plt.text(1,y1[1]+ y2[1]/2 ,y2[1],size=sizes)\n",
    "    plt.text(2,y1[2]+ y2[2]/2 ,y2[2],size=sizes)\n",
    "    \n",
    "    plt.text(0,y1[0]+ y2[0] +y3[0]/2 ,y3[0],size=sizes)\n",
    "    plt.text(1,y1[1]+ y2[1] +y3[1]/2 ,y3[1],size=sizes)\n",
    "    plt.text(2,y1[2]+ y2[2] +y3[2]/2 ,y3[2],size=sizes)\n",
    "    \n",
    "    plt.text(0,y1[0]+ y2[0] +y3[0] + y4[0]/2,y4[0],size=sizes)\n",
    "    plt.text(1,y1[1]+ y2[1] +y3[1] + y4[1]/2,y4[1],size=sizes)\n",
    "    plt.text(2,y1[2]+ y2[2] +y3[2] + y4[2]/2,y4[2],size=sizes)\n",
    "    \n",
    "#三组诊断时的AKI等级分布\n",
    "y1 = df_out[df_out[\"type\"]==\"S\"][\"percent\"].tolist()\n",
    "y2 = df_out[df_out[\"type\"]==\"CB\"][\"percent\"].tolist()\n",
    "y3 = df_out[df_out[\"type\"]==\"PB\"][\"percent\"].tolist()\n",
    "y4 = df_out[df_out[\"type\"]==\"W\"][\"percent\"].tolist()\n",
    "\n",
    "x = [\"C1\",\"C2\",\"C3\"]\n",
    "y1 = np.array(y1)\n",
    "y2 = np.array(y2)\n",
    "y3 = np.array(y3)\n",
    "y4 = np.array(y4)\n",
    "\n",
    "plt.figure(figsize=(12, 6))\n",
    "plt.bar(x,y1,width=0.4,label='steady',color='#ffffb3',edgecolor='grey')\n",
    "plt.bar(x,y2,width=0.4,bottom=y1,label='full recovery',color='#74c476',edgecolor='grey')\n",
    "plt.bar(x,y3,width=0.4,bottom=y1+y2,label='partial recovery',color='#bcbddc',edgecolor='grey')\n",
    "plt.bar(x,y4,width=0.4,bottom=y1+y2+y3,label='worsen',color='#fd8d3c',edgecolor='grey')\n",
    "\n",
    "text(y1,y2,y3,y4,10)\n",
    "plt.yticks(np.arange(0,110,20),[f'{i}%' for i in range(0,120,20)])\n",
    "plt.grid(axis='y',alpha=0.5,ls='--')\n",
    "\n",
    "plt.legend(frameon=False,bbox_to_anchor=(1.01,1))\n",
    "plt.title(fea)\n",
    "plt.tight_layout()\n",
    "plt.show()"
   ]
  },
  {
   "cell_type": "markdown",
   "id": "6dcad943",
   "metadata": {},
   "source": [
    "# 恢复模式判定(多少天恢复)\n",
    "- 3天内恢复/7天内恢复/7天内不恢复"
   ]
  },
  {
   "cell_type": "code",
   "execution_count": null,
   "id": "bb401314",
   "metadata": {
    "ExecuteTime": {
     "end_time": "2023-08-07T02:37:37.800492Z",
     "start_time": "2023-08-07T02:28:38.260Z"
    },
    "run_control": {
     "marked": true
    }
   },
   "outputs": [],
   "source": [
    "df_ = df_cut[[\"stay_id\",\"time\",\"state_change\",\"state_uo_change\",\"state_crea_change\"]]\n",
    "df_.head(1)"
   ]
  },
  {
   "cell_type": "code",
   "execution_count": null,
   "id": "17dc0eb4",
   "metadata": {
    "ExecuteTime": {
     "end_time": "2023-08-07T02:37:37.800969Z",
     "start_time": "2023-08-07T02:28:38.262Z"
    },
    "run_control": {
     "marked": true
    }
   },
   "outputs": [],
   "source": [
    "## 定义恢复模式\n",
    "# 快速恢复QR，48小时内恢复(quick recovery ) - 缓慢恢复SR，7天内恢复（slow recovery） - 恶化（worse） - 不清晰（unknow）\n",
    "def state_definition(d,t,fea):\n",
    "    # 快速恢复\n",
    "    if list(set(d[fea].tolist()))[0] ==\"W\":\n",
    "        s = \"W\"\n",
    "    elif max(d[\"time\"]) > t and list(set(d[fea].tolist()))[0] ==\"CB\":\n",
    "        s = \"Slow_CB\"\n",
    "    elif max(d[\"time\"]) > t and list(set(d[fea].tolist()))[0] ==\"PB\":\n",
    "        s = \"Slow_PB\"\n",
    "    elif max(d[\"time\"]) <= t and list(set(d[fea].tolist()))[0] ==\"CB\":\n",
    "        s = \"fast_CB\"\n",
    "    elif max(d[\"time\"]) <= t and list(set(d[fea].tolist()))[0] ==\"PB\":\n",
    "        s = \"fast_PB\"\n",
    "    elif list(set(d[fea].tolist()))[0] ==\"S\":\n",
    "        s = \"S\"\n",
    "    else:\n",
    "        s = \"unknow\"\n",
    "    return s\n",
    "\n",
    "## 得到每个stay_id的恢复模式\n",
    "df_stayid_s = pd.DataFrame(columns=[\"stay_id\",\"stayid_state\"])\n",
    "id_lst = df_.stay_id.unique()\n",
    "fea = \"state_change\"\n",
    "for id_ in id_lst:\n",
    "    d = df_[df_[\"stay_id\"]==id_]\n",
    "    stayid_s = state_definition(d,12,fea)\n",
    "    df_stayid_s.loc[len(df_stayid_s)] = [id_, stayid_s]\n",
    "\n",
    "df_count_all = pd.DataFrame(df_type_filt[\"groupHPD\"].value_counts()).reset_index()\n",
    "df_count_all.columns = [\"groupHPD\", \"count_all\"]\n",
    "\n",
    "tmp_df = pd.merge(df_stayid_s,df_type_filt, how=\"inner\",on=\"stay_id\")\n",
    "tmp_df = tmp_df.groupby([\"groupHPD\",\"stayid_state\"]).agg({\"stay_id\":\"count\"}).reset_index()\n",
    "tmp_df = pd.merge(tmp_df,df_count_all, how=\"inner\",on=\"groupHPD\")\n",
    "tmp_df[\"percent(%)\"] = round(tmp_df[\"stay_id\"]/tmp_df[\"count_all\"]*100,2)\n",
    "#tmp_df.sort_values([\"groupHPD\",'stayid_state'])"
   ]
  },
  {
   "cell_type": "code",
   "execution_count": null,
   "id": "a3a5f310",
   "metadata": {
    "ExecuteTime": {
     "end_time": "2023-08-07T02:37:37.801517Z",
     "start_time": "2023-08-07T02:28:38.266Z"
    }
   },
   "outputs": [],
   "source": [
    "tmp_df[\"dataset\"] = \"eICU\"\n",
    "tmp_df.to_csv(\"./result/eICU_renal_recovery_2.csv\",index=False)\n",
    "tmp_df.head()"
   ]
  },
  {
   "cell_type": "code",
   "execution_count": null,
   "id": "407338b9",
   "metadata": {
    "ExecuteTime": {
     "end_time": "2023-08-07T02:37:37.802062Z",
     "start_time": "2023-08-07T02:28:38.268Z"
    },
    "run_control": {
     "marked": true
    },
    "scrolled": false
   },
   "outputs": [],
   "source": [
    "def text(y1,y2,y3,y4,y5,y6,sizes):\n",
    "    plt.text(0,y1[0]/2 ,y1[0],size=sizes)\n",
    "    plt.text(1,y1[1]/2,y1[1],size=sizes)\n",
    "    plt.text(2,y1[2]/2,y1[2],size=sizes)\n",
    "    \n",
    "    plt.text(0,y1[0]+ y2[0]/2 ,y2[0],size=sizes)\n",
    "    plt.text(1,y1[1]+ y2[1]/2 ,y2[1],size=sizes)\n",
    "    plt.text(2,y1[2]+ y2[2]/2 ,y2[2],size=sizes)\n",
    "    \n",
    "    plt.text(0,y1[0]+ y2[0] +y3[0]/2 ,y3[0],size=sizes)\n",
    "    plt.text(1,y1[1]+ y2[1] +y3[1]/2 ,y3[1],size=sizes)\n",
    "    plt.text(2,y1[2]+ y2[2] +y3[2]/2 ,y3[2],size=sizes)\n",
    "    \n",
    "    plt.text(0,y1[0]+ y2[0] +y3[0] + y4[0]/2,y4[0],size=sizes)\n",
    "    plt.text(1,y1[1]+ y2[1] +y3[1] + y4[1]/2,y4[1],size=sizes)\n",
    "    plt.text(2,y1[2]+ y2[2] +y3[2] + y4[2]/2,y4[2],size=sizes)\n",
    "    \n",
    "    plt.text(0,y1[0]+ y2[0] +y3[0] + y4[0]+y5[0]/2,y5[0],size=sizes)\n",
    "    plt.text(1,y1[1]+ y2[1] +y3[1] + y4[1]+y5[1]/2,y5[1],size=sizes)\n",
    "    plt.text(2,y1[2]+ y2[2] +y3[2] + y4[2]+y5[2]/2,y5[2],size=sizes)\n",
    "    \n",
    "    plt.text(0,y1[0]+ y2[0] +y3[0] + y4[0]+y5[0]+y6[0]/2,y6[0],size=sizes)\n",
    "    plt.text(1,y1[1]+ y2[1] +y3[1] + y4[1]+y5[1]+y6[1]/2,y6[1],size=sizes)\n",
    "    plt.text(2,y1[2]+ y2[2] +y3[2] + y4[2]+y5[2]+y6[2]/2,y6[2],size=sizes)    \n",
    "\n",
    "    \n",
    "#三组诊断时的AKI等级分布\n",
    "y1 = tmp_df[tmp_df[\"stayid_state\"]==\"fast_CB\"].loc[:,[\"groupHPD\",\"percent(%)\"]].sort_values(\"groupHPD\")[\"percent(%)\"].tolist()\n",
    "y2 = tmp_df[tmp_df[\"stayid_state\"]==\"Slow_CB\"].loc[:,[\"groupHPD\",\"percent(%)\"]].sort_values(\"groupHPD\")[\"percent(%)\"].tolist()\n",
    "y3 = tmp_df[tmp_df[\"stayid_state\"]==\"fast_PB\"].loc[:,[\"groupHPD\",\"percent(%)\"]].sort_values(\"groupHPD\")[\"percent(%)\"].tolist()\n",
    "y4 = tmp_df[tmp_df[\"stayid_state\"]==\"Slow_PB\"].loc[:,[\"groupHPD\",\"percent(%)\"]].sort_values(\"groupHPD\")[\"percent(%)\"].tolist()\n",
    "y5 = tmp_df[tmp_df[\"stayid_state\"]==\"S\"].loc[:,[\"groupHPD\",\"percent(%)\"]].sort_values(\"groupHPD\")[\"percent(%)\"].tolist()\n",
    "y6 = tmp_df[tmp_df[\"stayid_state\"]==\"W\"].loc[:,[\"groupHPD\",\"percent(%)\"]].sort_values(\"groupHPD\")[\"percent(%)\"].tolist()\n",
    "\n",
    "x = [\"C1\",\"C2\",\"C3\"]\n",
    "y1 = np.array(y1)\n",
    "y2 = np.array(y2)\n",
    "y3 = np.array(y3)\n",
    "\n",
    "plt.figure(figsize=(12, 5)) \n",
    "plt.bar(x,y1,width=0.4,label='3Day_full recovery',color='#c7e9c0',edgecolor='grey')\n",
    "plt.bar(x,y2,width=0.4,bottom=y1,label='7Day_full recovery',color='#74c476',edgecolor='grey')\n",
    "plt.bar(x,y3,width=0.4,bottom=y1+y2,label='3Day_partial recovery',color='#bcbddc',edgecolor='grey')\n",
    "plt.bar(x,y4,width=0.4,bottom=y1+y2+y3,label='7Day_partial recovery',color='#756bb1',edgecolor='grey')\n",
    "plt.bar(x,y5,width=0.4,bottom=y1+y2+y3+y4,label='steady',color='#ffffb3',edgecolor='grey')\n",
    "plt.bar(x,y6,width=0.4,bottom=y1+y2+y3+y4+y5,label='worsen',color='#fd8d3c',edgecolor='grey')\n",
    "text(y1,y2,y3,y4,y5,y6,10)\n",
    "\n",
    "plt.yticks(np.arange(0,120,20),[f'{i}%' for i in range(0,120,20)])\n",
    "plt.grid(axis='y',alpha=0.5,ls='--')\n",
    "\n",
    "plt.legend(frameon=False,bbox_to_anchor=(1.01,1))\n",
    "plt.title(\"recovery type\")\n",
    "plt.tight_layout()\n",
    "plt.show()"
   ]
  },
  {
   "cell_type": "markdown",
   "id": "53138897",
   "metadata": {},
   "source": [
    "# 每个患者恢复到AKI 0的时间长度"
   ]
  },
  {
   "cell_type": "code",
   "execution_count": null,
   "id": "a8163c4e",
   "metadata": {
    "ExecuteTime": {
     "end_time": "2023-08-07T02:37:37.802597Z",
     "start_time": "2023-08-07T02:28:38.271Z"
    }
   },
   "outputs": [],
   "source": [
    "# df_stage = pd.read_csv(\"/public/hanl/jupyter_dir/kidney_sepsis_penotype_v2/00.data_mimic//disease_definition/AKI/kdigo_stages_based_time.csv\")\n",
    "\n",
    "# df_len = df_stage\n",
    "# df_len = df_len[df_len[\"aki_stage\"]>0]\n",
    "# df_len = df_len.sort_values([\"stay_id\",\"time\"],ascending=False)\n",
    "# df_len = df_len.groupby([\"stay_id\"]).head(1)\n",
    "# df_len = pd.merge(df_len,df_type_filt,how=\"inner\",on=\"stay_id\")\n",
    "# df_len[\"time\"] = df_len[\"time\"]*6 /24\n",
    "# df_len = df_len.rename(columns={\"time\":\"during_time\"})\n",
    "\n",
    "# df_ = df_cut[[\"stay_id\",\"state_change\",\"state_uo_change\",\"state_crea_change\"]].drop_duplicates()\n",
    "# df_len = pd.merge(df_len, df_, how=\"left\",on=['stay_id'])\n",
    "\n",
    "# import seaborn as sns\n",
    "# sns.boxplot(x=\"state_change\",y=\"during_time\",data=df_len,hue=\"groupHPD\",palette=\"Set3\") \n",
    "# plt.legend(loc='upper right')\n",
    "# plt.ylabel(\"during_time (day)\")\n",
    "# plt.show()"
   ]
  },
  {
   "cell_type": "markdown",
   "id": "dc799461",
   "metadata": {},
   "source": [
    "## SAKI的整个病程长短"
   ]
  },
  {
   "cell_type": "markdown",
   "id": "e768027e",
   "metadata": {},
   "source": [
    "### 第一个记录 - 到7天内的最后一个记录"
   ]
  },
  {
   "cell_type": "code",
   "execution_count": 9,
   "id": "7acd1a03",
   "metadata": {
    "ExecuteTime": {
     "end_time": "2023-08-07T02:38:07.117274Z",
     "start_time": "2023-08-07T02:38:06.897187Z"
    }
   },
   "outputs": [
    {
     "name": "stderr",
     "output_type": "stream",
     "text": [
      "/home/hanl/miniconda3/envs/mytensor/lib/python3.9/site-packages/ipykernel/ipkernel.py:287: DeprecationWarning: `should_run_async` will not call `transform_cell` automatically in the future. Please pass the result to `transformed_cell` argument and any exception that happen during thetransform in `preprocessing_exc_tuple` in IPython 7.17 and above.\n",
      "  and should_run_async(code)\n"
     ]
    },
    {
     "name": "stdout",
     "output_type": "stream",
     "text": [
      "1956\n",
      "p-value annotation legend:\n",
      "      ns: p <= 1.00e+00\n",
      "       *: 1.00e-02 < p <= 5.00e-02\n",
      "      **: 1.00e-03 < p <= 1.00e-02\n",
      "     ***: 1.00e-04 < p <= 1.00e-03\n",
      "    ****: p <= 1.00e-04\n",
      "\n",
      "1 vs. 2: Mann-Whitney-Wilcoxon test two-sided, P_val:1.542e-05 U_stat=4.077e+05\n",
      "2 vs. 3: Mann-Whitney-Wilcoxon test two-sided, P_val:9.604e-17 U_stat=6.488e+04\n",
      "1 vs. 3: Mann-Whitney-Wilcoxon test two-sided, P_val:1.550e-08 U_stat=4.379e+04\n"
     ]
    },
    {
     "data": {
      "image/png": "[encoded data removed]",
      "text/plain": [
       "<Figure size 300x200 with 1 Axes>"
      ]
     },
     "metadata": {},
     "output_type": "display_data"
    }
   ],
   "source": [
    "df_stage = pd.read_csv(\"/public/hanl/jupyter_dir/kidney_sepsis_penotype_v2/00.data_eicu/disease_definition/AKI/eicu_kdigo_stages_based_time.csv\")\n",
    "\n",
    "df_len = df_stage\n",
    "df_len = df_len[df_len[\"aki_stage\"]>0]\n",
    "df_len = df_len.sort_values([\"stay_id\",\"time\"],ascending=False)\n",
    "df_len = df_len.groupby([\"stay_id\"]).head(1)\n",
    "df_len = pd.merge(df_len,df_type_filt,how=\"inner\",on=\"stay_id\")\n",
    "df_len[\"time\"] = df_len[\"time\"]*6 #/24\n",
    "df_len = df_len.rename(columns={\"time\":\"during_time\"})\n",
    "\n",
    "df_ = df_cut[[\"stay_id\",\"state_change\",\"state_uo_change\",\"state_crea_change\"]].drop_duplicates()\n",
    "df_len = pd.merge(df_len, df_, how=\"left\",on=['stay_id'])\n",
    "print(len(df_len.stay_id.unique()))\n",
    "\n",
    "import seaborn as sns\n",
    "fig, ax = plt.subplots(1,1, figsize=(3,2))\n",
    "ax=plt.gca()\n",
    "ax.spines['right'].set_visible(False)\n",
    "ax.spines['left'].set_visible(False)\n",
    "ax.spines['top'].set_visible(False)\n",
    "f1 = plt.boxplot([df_len[df_len[\"groupHPD\"]==1][\"during_time\"], df_len[df_len[\"groupHPD\"]==2][\"during_time\"], df_len[df_len[\"groupHPD\"]==3][\"during_time\"]],\n",
    "           whis=(10,90),showfliers=False,showmeans=True,vert=False,patch_artist=True,meanprops={'marker':'D','markerfacecolor':'black','markersize':4},medianprops={'color':'black'}) \n",
    "color = [\"#74a8ff\",\"#3fc968\",\"#f8746a\"]\n",
    "for box,c in zip(f1['boxes'], color):\n",
    "    box.set(facecolor = c,edgecolor='black')\n",
    "plt.yticks([1,2,3],[\"C1\",\"C2\",\"C3\"])\n",
    "\n",
    "\n",
    "from statannotations.Annotator import Annotator\n",
    "box_pairs = [(2,1),(3,1),(3,2)]\n",
    "fig_args = {'x': 'groupHPD',\n",
    "            'y': 'during_time',\n",
    "            'data': df_len,\n",
    "            'dodge': True}\n",
    "annotator = Annotator(ax=ax, pairs=box_pairs, **fig_args)\n",
    "\n",
    "fig_args_horiz = {**fig_args,'x': 'during_time', 'y': 'groupHPD'}\n",
    "configuration = {'test':'Mann-Whitney', 'comparisons_correction':None, 'text_format':'star', 'loc':'outside'}\n",
    "annotator.new_plot(ax, orient='h', **fig_args_horiz)\n",
    "annotator.configure(**configuration).apply_test()\n",
    "annotator.apply_and_annotate()\n",
    "plt.xlabel(\"First to last AKI_stages (Hours)\")\n",
    "plt.show()"
   ]
  },
  {
   "cell_type": "markdown",
   "id": "1e399e75",
   "metadata": {},
   "source": [
    "### 初诊段到出ICU"
   ]
  },
  {
   "cell_type": "code",
   "execution_count": 11,
   "id": "7bfe01af",
   "metadata": {
    "ExecuteTime": {
     "end_time": "2023-08-07T02:39:02.402430Z",
     "start_time": "2023-08-07T02:39:02.199517Z"
    }
   },
   "outputs": [
    {
     "name": "stdout",
     "output_type": "stream",
     "text": [
      "1970\n"
     ]
    },
    {
     "name": "stderr",
     "output_type": "stream",
     "text": [
      "/home/hanl/miniconda3/envs/mytensor/lib/python3.9/site-packages/ipykernel/ipkernel.py:287: DeprecationWarning: `should_run_async` will not call `transform_cell` automatically in the future. Please pass the result to `transformed_cell` argument and any exception that happen during thetransform in `preprocessing_exc_tuple` in IPython 7.17 and above.\n",
      "  and should_run_async(code)\n"
     ]
    },
    {
     "data": {
      "image/png": "[encoded data removed]",
      "text/plain": [
       "<Figure size 500x250 with 1 Axes>"
      ]
     },
     "metadata": {},
     "output_type": "display_data"
    }
   ],
   "source": [
    "df_icu = pd.read_csv(\"/public/hanl/jupyter_dir/kidney_sepsis_penotype_v2/00.data_eicu/disease_definition/AKI/eicu_saki_event_time.csv\")\n",
    "df_icu = df_icu[[\"stay_id\",\"saki_onset\",\"outtime\"]]\n",
    "df_icu = pd.merge(df_icu,df_type_filt,how=\"inner\",on=\"stay_id\")\n",
    "print(len(df_icu.stay_id.unique()))\n",
    "\n",
    "df_icu[\"during_time\"] = (df_icu[\"outtime\"] - df_icu[\"saki_onset\"])/24 #.map(lambda x:x/np.timedelta64(24, 'h')).tolist()\n",
    "\n",
    "import seaborn as sns\n",
    "plt.figure(figsize=(5,2.5)) \n",
    "ax=plt.gca()\n",
    "ax.spines['right'].set_visible(False)\n",
    "ax.spines['left'].set_visible(False)\n",
    "ax.spines['top'].set_visible(False)\n",
    "plt.boxplot([df_icu[df_icu[\"groupHPD\"]==3][\"during_time\"], df_icu[df_icu[\"groupHPD\"]==2][\"during_time\"], df_icu[df_icu[\"groupHPD\"]==1][\"during_time\"]],\n",
    "           whis=(10,90),showfliers=False,showmeans=True,vert=False) \n",
    "plt.xlabel(\"First to last AKI_stages (Day)\")\n",
    "\n",
    "plt.yticks([1,2,3], [\"C3\",\"C2\",\"C1\"])\n",
    "plt.show()"
   ]
  },
  {
   "cell_type": "markdown",
   "id": "392b3db6",
   "metadata": {},
   "source": [
    "## AKI发生到发展至最高AKI stages的时间"
   ]
  },
  {
   "cell_type": "code",
   "execution_count": 12,
   "id": "b29604a6",
   "metadata": {
    "ExecuteTime": {
     "end_time": "2023-08-07T02:39:12.440375Z",
     "start_time": "2023-08-07T02:39:12.164685Z"
    },
    "run_control": {
     "marked": true
    }
   },
   "outputs": [
    {
     "name": "stderr",
     "output_type": "stream",
     "text": [
      "/home/hanl/miniconda3/envs/mytensor/lib/python3.9/site-packages/ipykernel/ipkernel.py:287: DeprecationWarning: `should_run_async` will not call `transform_cell` automatically in the future. Please pass the result to `transformed_cell` argument and any exception that happen during thetransform in `preprocessing_exc_tuple` in IPython 7.17 and above.\n",
      "  and should_run_async(code)\n"
     ]
    },
    {
     "name": "stdout",
     "output_type": "stream",
     "text": [
      "初诊段为AKI 2/3的患者： 982\n",
      "p-value annotation legend:\n",
      "      ns: p <= 1.00e+00\n",
      "       *: 1.00e-02 < p <= 5.00e-02\n",
      "      **: 1.00e-03 < p <= 1.00e-02\n",
      "     ***: 1.00e-04 < p <= 1.00e-03\n",
      "    ****: p <= 1.00e-04\n",
      "\n",
      "1 vs. 2: Mann-Whitney-Wilcoxon test two-sided, P_val:1.360e-02 U_stat=7.744e+04\n",
      "2 vs. 3: Mann-Whitney-Wilcoxon test two-sided, P_val:1.963e-11 U_stat=4.491e+04\n",
      "1 vs. 3: Mann-Whitney-Wilcoxon test two-sided, P_val:4.200e-06 U_stat=2.961e+04\n"
     ]
    },
    {
     "data": {
      "image/png": "[encoded data removed]",
      "text/plain": [
       "<Figure size 300x200 with 1 Axes>"
      ]
     },
     "metadata": {},
     "output_type": "display_data"
    }
   ],
   "source": [
    "df_time = pd.read_csv(\"/public/hanl/jupyter_dir/kidney_sepsis_penotype_v2/00.data_eicu//disease_definition/AKI/eicu_sk_first_and_max_stage.csv\")\n",
    "df_time = pd.merge(df_time,df_type_filt,how=\"inner\",on=\"stay_id\")\n",
    "print(\"初诊段为AKI 2/3的患者：\",df_time[df_time[\"first_aki_stage\"].isin([2,3])].shape[0])\n",
    "df_time = df_time[~df_time[\"first_aki_stage\"].isin([2,3])]\n",
    "#df_time = df_time[df_time[\"first_aki_stage\"].isin([1])]\n",
    "\n",
    "df_time[\"during_time\"] = (df_time[\"max_aki_time\"] - df_time[\"first_aki_onset\"])#/24 #.map(lambda x:x/np.timedelta64(24, 'h')).tolist()\n",
    "\n",
    "import seaborn as sns\n",
    "fig, ax = plt.subplots(1,1, figsize=(3,2))\n",
    "ax=plt.gca()\n",
    "ax.spines['right'].set_visible(False)\n",
    "ax.spines['left'].set_visible(False)\n",
    "ax.spines['top'].set_visible(False) \n",
    "f1 = plt.boxplot([df_time[df_time[\"groupHPD\"]==1][\"during_time\"], df_time[df_time[\"groupHPD\"]==2][\"during_time\"], df_time[df_time[\"groupHPD\"]==3][\"during_time\"]],\n",
    "           whis=(10,90),showfliers=False,showmeans=True,vert=False,patch_artist=True,meanprops={'marker':'D','markerfacecolor':'black','markersize':4},medianprops={'color':'black'}) \n",
    "color = [\"#74a8ff\",\"#3fc968\",\"#f8746a\"]\n",
    "for box,c in zip(f1['boxes'], color):\n",
    "    box.set(facecolor = c,edgecolor='black')\n",
    "    \n",
    "plt.xlabel(\"First to max AKI_stages (Hours)\")\n",
    "plt.yticks([1,2,3],[\"C1\",\"C2\",\"C3\"]) \n",
    "\n",
    "from statannotations.Annotator import Annotator\n",
    "box_pairs = [(2,1),(3,1),(3,2)]\n",
    "fig_args = {'x': 'groupHPD',\n",
    "            'y': 'during_time',\n",
    "            'data': df_time,\n",
    "            'dodge': True}\n",
    "annotator = Annotator(ax=ax, pairs=box_pairs, **fig_args)\n",
    "\n",
    "fig_args_horiz = {**fig_args,'x': 'during_time', 'y': 'groupHPD'}\n",
    "configuration = {'test':'Mann-Whitney', 'comparisons_correction':None, 'text_format':'star', 'loc':'outside'}\n",
    "annotator.new_plot(ax, orient='h', **fig_args_horiz)\n",
    "annotator.configure(**configuration).apply_test()\n",
    "annotator.apply_and_annotate()\n",
    "\n",
    "plt.show()"
   ]
  },
  {
   "cell_type": "code",
   "execution_count": null,
   "id": "fb1f7474",
   "metadata": {
    "ExecuteTime": {
     "end_time": "2023-08-07T02:37:37.805113Z",
     "start_time": "2023-08-07T02:28:38.283Z"
    }
   },
   "outputs": [],
   "source": [
    "df_time_all = pd.read_csv(\"/public/hanl/jupyter_dir/kidney_sepsis_penotype_v2/04.other_feature_in_three_dataset/04.survival_treatment/df_time_all.csv\")\n",
    "dataset_dict = {\"mimic\":\"MIMIC\",\"aumcdb\":\"AUMCdb\",\"eicu\":\"eICU\"}\n",
    "df_time_all = df_time_all[df_time_all[\"dataset\"]==\"eicu\"]\n",
    "\n",
    "import seaborn as sns\n",
    "fig, ax = plt.subplots(1,1, figsize=(3,2))\n",
    "ax=plt.gca()\n",
    "ax.spines['right'].set_visible(False)\n",
    "ax.spines['left'].set_visible(False)\n",
    "ax.spines['top'].set_visible(False)\n",
    "f1 = plt.boxplot([df_time_all[df_time_all[\"groupHPD\"]==1][\"los_saki-sepsis\"], df_time_all[df_time_all[\"groupHPD\"]==2][\"los_saki-sepsis\"], df_time_all[df_time_all[\"groupHPD\"]==3][\"los_saki-sepsis\"]],\n",
    "           whis=(10,90),showfliers=False,showmeans=True,vert=False,patch_artist=True,meanprops={'marker':'D','markerfacecolor':'black','markersize':4},medianprops={'color':'black'}) \n",
    "\n",
    "color = [\"#74a8ff\",\"#3fc968\",\"#f8746a\"]\n",
    "for box,c in zip(f1['boxes'], color):\n",
    "    box.set(facecolor = c,edgecolor='black')\n",
    "plt.xlabel(\"Sepsis to SA-AKI (Hours)\")\n",
    "plt.yticks([1,2,3],[\"C1\",\"C2\",\"C3\"]) \n",
    "\n",
    "from statannotations.Annotator import Annotator\n",
    "box_pairs = [(2,1),(3,1),(3,2)]\n",
    "fig_args = {'x': 'groupHPD',\n",
    "            'y': 'los_saki-sepsis',\n",
    "            'data': df_time_all,\n",
    "            'dodge': True}\n",
    "annotator = Annotator(ax=ax, pairs=box_pairs, **fig_args)\n",
    "\n",
    "fig_args_horiz = {**fig_args,'x': 'los_saki-sepsis', 'y': 'groupHPD'}\n",
    "configuration = {'test':'Mann-Whitney', 'comparisons_correction':None, 'text_format':'star', 'loc':'outside'}\n",
    "annotator.new_plot(ax, orient='h', **fig_args_horiz)\n",
    "annotator.configure(**configuration).apply_test()\n",
    "annotator.apply_and_annotate()\n",
    "\n",
    "plt.show()"
   ]
  },
  {
   "cell_type": "code",
   "execution_count": null,
   "id": "06bd9d1d",
   "metadata": {
    "ExecuteTime": {
     "end_time": "2023-08-07T02:37:37.805610Z",
     "start_time": "2023-08-07T02:28:38.286Z"
    }
   },
   "outputs": [],
   "source": [
    "stop!"
   ]
  },
  {
   "cell_type": "markdown",
   "id": "716bbc0f",
   "metadata": {},
   "source": [
    "# 基于不同定义的恢复v2"
   ]
  },
  {
   "cell_type": "code",
   "execution_count": null,
   "id": "c9169b20",
   "metadata": {
    "ExecuteTime": {
     "end_time": "2023-08-07T02:37:37.806070Z",
     "start_time": "2023-08-07T02:28:38.288Z"
    }
   },
   "outputs": [],
   "source": [
    "df_cut.state_crea_change.unique()"
   ]
  },
  {
   "cell_type": "code",
   "execution_count": null,
   "id": "620e878f",
   "metadata": {
    "ExecuteTime": {
     "end_time": "2023-08-07T02:37:37.806599Z",
     "start_time": "2023-08-07T02:28:38.291Z"
    }
   },
   "outputs": [],
   "source": [
    "df_ = df_cut[[\"stay_id\",\"state_change\",\"state_uo_change\",\"state_crea_change\"]].drop_duplicates()\n",
    "\n",
    "df_.loc[(df_[\"state_uo_change\"].isin([\"CB\",\"PB\"])) &(df_[\"state_crea_change\"].isin([\"CB\",\"PB\"])),\"type\"] = \"UC_CC\"\n",
    "df_.loc[(df_[\"state_uo_change\"].isin([\"W\",\"S\"])) &(df_[\"state_crea_change\"].isin([\"W\",\"S\"])) ,\"type\"] = \"UC_PP\"\n",
    "df_.loc[(df_[\"state_uo_change\"].isin([\"CB\",\"PB\"])) &(df_[\"state_crea_change\"].isin([\"W\",\"S\"])) ,\"type\"] = \"UC_CP\"\n",
    "df_.loc[(df_[\"state_uo_change\"].isin([\"W\",\"S\"])) &(df_[\"state_crea_change\"].isin([\"CB\",\"PB\"])),\"type\"] = \"UC_PC\""
   ]
  },
  {
   "cell_type": "code",
   "execution_count": null,
   "id": "79a49d55",
   "metadata": {
    "ExecuteTime": {
     "end_time": "2023-08-07T02:37:37.807107Z",
     "start_time": "2023-08-07T02:28:38.293Z"
    }
   },
   "outputs": [],
   "source": [
    "df_sur = pd.read_csv(\"sk_survival.csv\")\n",
    "df_sur = df_sur[['stay_id', 'groupHPD','mortality_28d', 'survival_28day']]\n",
    "\n",
    "df_creauo = df_\n",
    "df_admit = pd.merge(df_sur,df_creauo,how=\"inner\",on=\"stay_id\")\n",
    "map_dict = {\"UC_CC\":1,\"UC_PC\":2,\"UC_CP\":3,'UC_PP':4}\n",
    "df_admit[\"type_num\"] = df_admit[\"type\"].map(map_dict)\n",
    "df_admit.to_csv(\"sk_survival_肌酐尿量分别是否恢复_v2.csv\", index=False)\n",
    "\n",
    "df_type_filt_count = pd.DataFrame(df_type_filt.groupHPD.value_counts()).reset_index()\n",
    "df_type_filt_count.columns = [\"groupHPD\",\"count\"]\n",
    "\n",
    "df = df_admit.groupby(['groupHPD',\"type_num\"]).agg({\"stay_id\":\"count\"}).reset_index()\n",
    "df = pd.merge(df, df_type_filt_count, how=\"left\",on=\"groupHPD\")\n",
    "df[\"percent\"] = round(df[\"stay_id\"] /df[\"count\"]*100 ,2) \n",
    "df[\"label\"] = df[\"groupHPD\"].astype(\"str\") + \"_\" + df[\"type_num\"].astype(\"int\").astype(\"str\")\n",
    "df"
   ]
  },
  {
   "cell_type": "code",
   "execution_count": null,
   "id": "b5240a0b",
   "metadata": {
    "ExecuteTime": {
     "end_time": "2023-08-07T02:37:37.807660Z",
     "start_time": "2023-08-07T02:28:38.296Z"
    }
   },
   "outputs": [],
   "source": [
    "#plot\n",
    "def text(y1,y2,y3,y4, sizes):\n",
    "    plt.text(0,y1[0]/2 ,y1[0],size=sizes)\n",
    "    plt.text(1,y1[1]/2,y1[1],size=sizes)\n",
    "    plt.text(2,y1[2]/2,y1[2],size=sizes)\n",
    "    \n",
    "    plt.text(0,y1[0]+ y2[0]/2 ,y2[0],size=sizes)\n",
    "    plt.text(1,y1[1]+ y2[1]/2 ,y2[1],size=sizes)\n",
    "    plt.text(2,y1[2]+ y2[2]/2 ,y2[2],size=sizes)\n",
    "    \n",
    "    plt.text(0,y1[0]+ y2[0] +y3[0]/2 ,y3[0],size=sizes)\n",
    "    plt.text(1,y1[1]+ y2[1] +y3[1]/2 ,y3[1],size=sizes)\n",
    "    plt.text(2,y1[2]+ y2[2] +y3[2]/2 ,y3[2],size=sizes)\n",
    "    \n",
    "    plt.text(0,y1[0]+ y2[0] +y3[0] + y4[0]/2,y4[0],size=sizes)\n",
    "    plt.text(1,y1[1]+ y2[1] +y3[1] + y4[1]/2,y4[1],size=sizes)\n",
    "    plt.text(2,y1[2]+ y2[2] +y3[2] + y4[2]/2,y4[2],size=sizes)\n",
    "    \n",
    "#三组诊断时的AKI等级分布\n",
    "y1 = df[df[\"type_num\"]==1][\"percent\"].tolist()\n",
    "y2 = df[df[\"type_num\"]==2][\"percent\"].tolist()\n",
    "y3 = df[df[\"type_num\"]==3][\"percent\"].tolist()\n",
    "y4 = df[df[\"type_num\"]==4][\"percent\"].tolist()\n",
    "\n",
    "x = [\"C1\",\"C2\",\"C3\"]\n",
    "y1 = np.array(y1)\n",
    "y2 = np.array(y2)\n",
    "y3 = np.array(y3)\n",
    "y4 = np.array(y4)\n",
    "\n",
    "plt.figure(figsize=(9, 5))\n",
    "plt.bar(x,y1,width=0.4,label='crea recovery + uo recovery',color='#ffffb3',edgecolor='grey')\n",
    "plt.bar(x,y2,width=0.4,bottom=y1,label='crea recovery + uo no recovery',color='#74c476',edgecolor='grey')\n",
    "plt.bar(x,y3,width=0.4,bottom=y1+y2,label='uo recovery + crea no recovery',color='#bcbddc',edgecolor='grey')\n",
    "plt.bar(x,y4,width=0.4,bottom=y1+y2+y3,label='crea no recovery + uo no recovery',color='#fd8d3c',edgecolor='grey')\n",
    "\n",
    "\n",
    "text(y1,y2,y3,y4,8)\n",
    "plt.yticks(np.arange(0,120,20),[f'{i}%' for i in range(0,120,20)])\n",
    "plt.grid(axis='y',alpha=0.5,ls='--')\n",
    "\n",
    "plt.legend(frameon=False,bbox_to_anchor=(1.01,1))\n",
    "plt.tight_layout()\n",
    "plt.show()"
   ]
  },
  {
   "cell_type": "markdown",
   "id": "b01d652e",
   "metadata": {},
   "source": [
    "# 基于不同定义的恢复v1"
   ]
  },
  {
   "cell_type": "code",
   "execution_count": null,
   "id": "6d13f07b",
   "metadata": {
    "ExecuteTime": {
     "end_time": "2023-08-07T02:37:37.808159Z",
     "start_time": "2023-08-07T02:28:38.299Z"
    }
   },
   "outputs": [],
   "source": [
    "df_stage = pd.read_csv(\"/public/hanl/jupyter_dir/kidney_sepsis_penotype_v2/00.data_mimic//disease_definition/AKI/kdigo_stages_based_time.csv\")\n",
    "df = df_stage\n",
    "\n",
    "df.loc[df[\"aki_stage_uo\"]==0,\"state_uo\"] = \"C\"\n",
    "df.loc[df[\"aki_stage_uo\"].isin([1,2,3]),\"state_uo\"] = \"P\"\n",
    "df.loc[df[\"aki_stage_creat\"].isin([1,2,3]),\"state_crea\"] = \"P\"\n",
    "df.loc[df[\"aki_stage_creat\"]==0,\"state_crea\"] = \"C\"\n",
    "df.loc[df[\"aki_stage\"].isin([1,2,3]),\"state\"] = \"P\"\n",
    "df.loc[df[\"aki_stage\"]==0,\"state\"] = \"C\"\n",
    "\n",
    "df_ = df.loc[:,[\"stay_id\",\"time\",\"state_uo\",\"state_crea\",\"state\"]]"
   ]
  },
  {
   "cell_type": "code",
   "execution_count": null,
   "id": "3962422a",
   "metadata": {
    "ExecuteTime": {
     "end_time": "2023-08-07T02:37:37.808686Z",
     "start_time": "2023-08-07T02:28:38.301Z"
    }
   },
   "outputs": [],
   "source": [
    "df = df_.sort_values([\"stay_id\",\"time\"],ascending=False)\n",
    "df = df.groupby([\"stay_id\"]).head(5)\n",
    "\n",
    "tmp_df = pd.DataFrame(columns=[\"stay_id\",\"uo_state_by_id\",\"crea_state_by_id\",\"state_by_id\" ])\n",
    "for i,j in df.groupby([\"stay_id\"]):\n",
    "    uo_state_by_id = j[\"state_uo\"].value_counts().head(1).index[0]\n",
    "    crea_state_by_id = j[\"state_crea\"].value_counts().head(1).index[0]\n",
    "    state_by_id = j[\"state\"].value_counts().head(1).index[0]\n",
    "    tmp_df.loc[len(tmp_df)] = [i, uo_state_by_id, crea_state_by_id, state_by_id]\n",
    "    \n",
    "tmp_df.loc[(tmp_df[\"uo_state_by_id\"]==\"C\")&(tmp_df[\"crea_state_by_id\"]==\"C\"),\"type\"] = \"UC_CC\"\n",
    "tmp_df.loc[(tmp_df[\"uo_state_by_id\"]==\"P\")&(tmp_df[\"crea_state_by_id\"]==\"P\"),\"type\"] = \"UC_PP\"\n",
    "tmp_df.loc[(tmp_df[\"uo_state_by_id\"]==\"C\")&(tmp_df[\"crea_state_by_id\"]==\"P\"),\"type\"] = \"UC_CP\"\n",
    "tmp_df.loc[(tmp_df[\"uo_state_by_id\"]==\"P\")&(tmp_df[\"crea_state_by_id\"]==\"C\"),\"type\"] = \"UC_PC\"\n",
    "tmp_df = tmp_df[['stay_id', 'type']]\n",
    "tmp_df.to_csv(\"肌酐尿量分别是否恢复.csv\",index=False)"
   ]
  },
  {
   "cell_type": "markdown",
   "id": "af47b24d",
   "metadata": {},
   "source": [
    "肌酐尿量都恢复 - UC_CC\n",
    "\n",
    "肌酐恢复尿量未恢复 - UC_PC\n",
    "\n",
    "尿量恢复肌酐未恢复 - UC_CP\n",
    "\n",
    "尿量肌酐都未恢复 - UC_PP"
   ]
  },
  {
   "cell_type": "code",
   "execution_count": null,
   "id": "13bc1f82",
   "metadata": {
    "ExecuteTime": {
     "end_time": "2023-08-07T02:37:37.809173Z",
     "start_time": "2023-08-07T02:28:38.303Z"
    }
   },
   "outputs": [],
   "source": [
    "df_sur = pd.read_csv(\"sk_survival.csv\")\n",
    "df_sur = df_sur[['stay_id', 'groupHPD','mortality_28d', 'survival_28day']]\n",
    "\n",
    "df_creauo = pd.read_csv(\"肌酐尿量分别是否恢复.csv\")\n",
    "df_admit = pd.merge(df_sur,df_creauo,how=\"inner\",on=\"stay_id\")\n",
    "map_dict = {\"UC_CC\":1,\"UC_PC\":2,\"UC_CP\":3,'UC_PP':4}\n",
    "df_admit[\"type_num\"] = df_admit[\"type\"].map(map_dict)\n",
    "df_admit.to_csv(\"sk_survival_肌酐尿量分别是否恢复.csv\", index=False)\n",
    "\n",
    "df_type_filt_count = pd.DataFrame(df_type_filt.groupHPD.value_counts()).reset_index()\n",
    "df_type_filt_count.columns = [\"groupHPD\",\"count\"]\n",
    "\n",
    "df = df_admit.groupby(['groupHPD',\"type_num\"]).agg({\"stay_id\":\"count\"}).reset_index()\n",
    "df = pd.merge(df, df_type_filt_count, how=\"left\",on=\"groupHPD\")\n",
    "df[\"percent\"] = round(df[\"stay_id\"] /df[\"count\"]*100 ,2) \n",
    "df[\"label\"] = df[\"groupHPD\"].astype(\"str\") + \"_\" + df[\"type_num\"].astype(\"str\")\n",
    "df"
   ]
  },
  {
   "cell_type": "code",
   "execution_count": null,
   "id": "077be478",
   "metadata": {
    "ExecuteTime": {
     "end_time": "2023-08-07T02:37:37.809680Z",
     "start_time": "2023-08-07T02:28:38.305Z"
    },
    "scrolled": false
   },
   "outputs": [],
   "source": [
    "#plot\n",
    "def text(y1,y2,y3,y4, sizes):\n",
    "    plt.text(0,y1[0]/2 ,y1[0],size=sizes)\n",
    "    plt.text(1,y1[1]/2,y1[1],size=sizes)\n",
    "    plt.text(2,y1[2]/2,y1[2],size=sizes)\n",
    "    \n",
    "    plt.text(0,y1[0]+ y2[0]/2 ,y2[0],size=sizes)\n",
    "    plt.text(1,y1[1]+ y2[1]/2 ,y2[1],size=sizes)\n",
    "    plt.text(2,y1[2]+ y2[2]/2 ,y2[2],size=sizes)\n",
    "    \n",
    "    plt.text(0,y1[0]+ y2[0] +y3[0]/2 ,y3[0],size=sizes)\n",
    "    plt.text(1,y1[1]+ y2[1] +y3[1]/2 ,y3[1],size=sizes)\n",
    "    plt.text(2,y1[2]+ y2[2] +y3[2]/2 ,y3[2],size=sizes)\n",
    "    \n",
    "    plt.text(0,y1[0]+ y2[0] +y3[0] + y4[0]/2,y4[0],size=sizes)\n",
    "    plt.text(1,y1[1]+ y2[1] +y3[1] + y4[1]/2,y4[1],size=sizes)\n",
    "    plt.text(2,y1[2]+ y2[2] +y3[2] + y4[2]/2,y4[2],size=sizes)\n",
    "    \n",
    "#三组诊断时的AKI等级分布\n",
    "y1 = df[df[\"type_num\"]==1][\"percent\"].tolist()\n",
    "y2 = df[df[\"type_num\"]==2][\"percent\"].tolist()\n",
    "y3 = df[df[\"type_num\"]==3][\"percent\"].tolist()\n",
    "y4 = df[df[\"type_num\"]==4][\"percent\"].tolist()\n",
    "\n",
    "x = [\"C1\",\"C2\",\"C3\"]\n",
    "y1 = np.array(y1)\n",
    "y2 = np.array(y2)\n",
    "y3 = np.array(y3)\n",
    "y4 = np.array(y4)\n",
    "\n",
    "plt.figure(figsize=(9, 5))\n",
    "plt.bar(x,y1,width=0.4,label='crea recovery + uo recovery',color='#ffffb3',edgecolor='grey')\n",
    "plt.bar(x,y2,width=0.4,bottom=y1,label='crea recovery + uo no recovery',color='#74c476',edgecolor='grey')\n",
    "plt.bar(x,y3,width=0.4,bottom=y1+y2,label='uo recovery + crea no recovery',color='#bcbddc',edgecolor='grey')\n",
    "plt.bar(x,y4,width=0.4,bottom=y1+y2+y3,label='crea no recovery + uo no recovery',color='#fd8d3c',edgecolor='grey')\n",
    "\n",
    "\n",
    "text(y1,y2,y3,y4,8)\n",
    "plt.yticks(np.arange(0,120,20),[f'{i}%' for i in range(0,120,20)])\n",
    "plt.grid(axis='y',alpha=0.5,ls='--')\n",
    "\n",
    "plt.legend(frameon=False,bbox_to_anchor=(1.01,1))\n",
    "plt.tight_layout()\n",
    "plt.show()"
   ]
  },
  {
   "cell_type": "code",
   "execution_count": null,
   "id": "6742bc99",
   "metadata": {
    "ExecuteTime": {
     "end_time": "2023-08-07T02:37:37.810217Z",
     "start_time": "2023-08-07T02:28:38.307Z"
    }
   },
   "outputs": [],
   "source": [
    "df_count_all = pd.DataFrame(df_type_filt[\"groupHPD\"].value_counts()).reset_index()\n",
    "df_count_all.columns = [\"groupHPD\", \"count_all\"]\n",
    "\n",
    "df_state = df_.loc[:,[\"stay_id\", \"time\", \"state\",\"state_uo\",\"state_crea\"]]\n",
    "df_state =  pd.merge(df_state,df_type_filt, how=\"inner\",on=\"stay_id\")\n",
    "df_state = df_state[df_state['time'].isin([-2,-1,1,2,3,4,5,6,7,8,9,10,11,12,13,14,15,16])]\n",
    "\n",
    "df_state_count = df_state.groupby([\"time\",\"groupHPD\"]).agg({\"stay_id\":\"count\"}).reset_index()\n",
    "df_state_count.columns = [\"time\",\"groupHPD\",\"count\"]\n",
    "\n",
    "df_state_count.head(2)"
   ]
  },
  {
   "cell_type": "code",
   "execution_count": null,
   "id": "5e6fd3e5",
   "metadata": {
    "ExecuteTime": {
     "end_time": "2023-08-07T02:37:37.810755Z",
     "start_time": "2023-08-07T02:28:38.309Z"
    }
   },
   "outputs": [],
   "source": [
    "from matplotlib import pyplot as plt \n",
    "def feature_line_chart_plot(df, df_state_count,fea,label_lst,t1_lst,t2_lst,t3_lst):\n",
    "    df1 = df[df[\"stay_id\"].isin(t1_lst)]\n",
    "    df2 = df[df[\"stay_id\"].isin(t2_lst)]\n",
    "    df3 = df[df[\"stay_id\"].isin(t3_lst)]\n",
    "\n",
    "    df1 = df1.groupby([\"time\",\"groupHPD\",fea]).agg({\"stay_id\":\"count\"}).reset_index()\n",
    "    df1 = df1[df1[fea]==\"C\"]\n",
    "    df1 = pd.merge(df1,df_state_count, how=\"left\",on=[\"time\",\"groupHPD\"])\n",
    "    df1[\"percent\"] = round(df1[\"stay_id\"]/df1[\"count\"]*100, 4)\n",
    "    \n",
    "    df2 = df2.groupby([\"time\",\"groupHPD\",fea]).agg({\"stay_id\":\"count\"}).reset_index()\n",
    "    df2 = df2[df2[fea]==\"C\"]\n",
    "    df2 = pd.merge(df2,df_state_count, how=\"left\",on=[\"time\",\"groupHPD\"])\n",
    "    df2[\"percent\"] = round(df2[\"stay_id\"]/df2[\"count\"]*100, 4)\n",
    "    \n",
    "    df3 = df3.groupby([\"time\",\"groupHPD\",fea]).agg({\"stay_id\":\"count\"}).reset_index()\n",
    "    df3 = df3[df3[fea]==\"C\"]\n",
    "    df3 = pd.merge(df3,df_state_count, how=\"left\",on=[\"time\",\"groupHPD\"])\n",
    "    df3[\"percent\"] = round(df3[\"stay_id\"]/df3[\"count\"]*100, 4)\n",
    "    \n",
    "    x1 = df1[\"time\"].tolist()\n",
    "    y1 =  df1[\"percent\"].tolist()\n",
    "    x2 = df2[\"time\"].tolist()\n",
    "    y2 =  df2[\"percent\"].tolist()\n",
    "    x3 = df3[\"time\"].tolist()\n",
    "    y3 =  df3[\"percent\"].tolist()\n",
    "\n",
    "    plt.figure(figsize=(3, 2)) \n",
    "    plt.plot(x1,y1,'s-',color = '#1b9e77',label=label_lst[0],linewidth=2,markersize=3)\n",
    "    plt.plot(x2,y2,'o-',color = '#d95f02',label=label_lst[1],linewidth=2,markersize=3)\n",
    "    plt.plot(x3,y3,'o-',color = '#7570b3',label=label_lst[2],linewidth=2,markersize=3)\n",
    "    \n",
    "    plt.xlabel(\"time after S-AKI (6 hour-window)\")\n",
    "    plt.ylabel(\"Recovery ratio(%)\")\n",
    "    plt.title(fea)\n",
    "    plt.legend(label_lst)\n",
    "    plt.show()\n",
    "\n",
    "t1_lst = df_type_filt[df_type_filt[\"groupHPD\"]==1].stay_id.unique()\n",
    "t2_lst = df_type_filt[df_type_filt[\"groupHPD\"]==2].stay_id.unique()\n",
    "t3_lst = df_type_filt[df_type_filt[\"groupHPD\"]==3].stay_id.unique()\n",
    "label_lst = [\"C1\", \"C2\", \"C3\"]\n",
    "fea_lst = [\"state_crea\",\"state_uo\",\"state\"]\n",
    "\n",
    "for fea in fea_lst:\n",
    "    feature_line_chart_plot(df_state, df_state_count, fea, label_lst,t1_lst,t2_lst,t3_lst)"
   ]
  }
 ],
 "metadata": {
  "kernelspec": {
   "display_name": "Python [conda env:mytensor]",
   "language": "python",
   "name": "conda-env-mytensor-py"
  },
  "language_info": {
   "codemirror_mode": {
    "name": "ipython",
    "version": 3
   },
   "file_extension": ".py",
   "mimetype": "text/x-python",
   "name": "python",
   "nbconvert_exporter": "python",
   "pygments_lexer": "ipython3",
   "version": "3.9.12"
  },
  "toc": {
   "base_numbering": 1,
   "nav_menu": {},
   "number_sections": true,
   "sideBar": true,
   "skip_h1_title": false,
   "title_cell": "Table of Contents",
   "title_sidebar": "Contents",
   "toc_cell": false,
   "toc_position": {
    "height": "calc(100% - 180px)",
    "left": "10px",
    "top": "150px",
    "width": "164.988px"
   },
   "toc_section_display": true,
   "toc_window_display": true
  },
  "varInspector": {
   "cols": {
    "lenName": 16,
    "lenType": 16,
    "lenVar": 40
   },
   "kernels_config": {
    "python": {
     "delete_cmd_postfix": "",
     "delete_cmd_prefix": "del ",
     "library": "var_list.py",
     "varRefreshCmd": "print(var_dic_list())"
    },
    "r": {
     "delete_cmd_postfix": ") ",
     "delete_cmd_prefix": "rm(",
     "library": "var_list.r",
     "varRefreshCmd": "cat(var_dic_list()) "
    }
   },
   "types_to_exclude": [
    "module",
    "function",
    "builtin_function_or_method",
    "instance",
    "_Feature"
   ],
   "window_display": false
  }
 },
 "nbformat": 4,
 "nbformat_minor": 5
}
