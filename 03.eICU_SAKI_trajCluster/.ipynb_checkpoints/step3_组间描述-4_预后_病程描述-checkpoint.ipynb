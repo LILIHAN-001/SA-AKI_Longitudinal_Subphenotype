{
 "cells": [
  {
   "cell_type": "markdown",
   "id": "ea7f2482",
   "metadata": {},
   "source": [
    "# def"
   ]
  },
  {
   "cell_type": "code",
   "execution_count": 1,
   "id": "8afe3825",
   "metadata": {
    "ExecuteTime": {
     "end_time": "2023-12-18T08:40:55.406146Z",
     "start_time": "2023-12-18T08:40:54.491336Z"
    }
   },
   "outputs": [],
   "source": [
    "import pandas as pd\n",
    "import time\n",
    "import numpy as np\n",
    "import matplotlib.pyplot as plt\n",
    "pd.options.display.max_rows = 300\n",
    "import math\n",
    "import datetime as dt\n",
    "from tableone import TableOne, load_dataset\n",
    "import itertools\n",
    "import random\n",
    "import scipy.stats as stats"
   ]
  },
  {
   "cell_type": "code",
   "execution_count": 2,
   "id": "f649a5a9",
   "metadata": {
    "ExecuteTime": {
     "end_time": "2023-12-18T08:40:55.491489Z",
     "start_time": "2023-12-18T08:40:55.407674Z"
    }
   },
   "outputs": [
    {
     "name": "stdout",
     "output_type": "stream",
     "text": [
      "纳入患者数量： 1417\n"
     ]
    },
    {
     "name": "stderr",
     "output_type": "stream",
     "text": [
      "/home/hanl/miniconda3/envs/mytensor/lib/python3.9/site-packages/ipykernel/ipkernel.py:287: DeprecationWarning: `should_run_async` will not call `transform_cell` automatically in the future. Please pass the result to `transformed_cell` argument and any exception that happen during thetransform in `preprocessing_exc_tuple` in IPython 7.17 and above.\n",
      "  and should_run_async(code)\n"
     ]
    },
    {
     "data": {
      "text/plain": [
       "2    869\n",
       "1    423\n",
       "3    125\n",
       "Name: groupHPD, dtype: int64"
      ]
     },
     "execution_count": 2,
     "metadata": {},
     "output_type": "execute_result"
    }
   ],
   "source": [
    "df_type = pd.read_csv(\"df_mixAK_fea4_C3_eicu.csv\")\n",
    "df_type_filt = df_type.loc[:,[\"stay_id\",\"groupHPD\"]]\n",
    "df_type_filt = df_type_filt.drop_duplicates()\n",
    "all_lst = df_type_filt.stay_id.unique().tolist()\n",
    "print(\"纳入患者数量：\",len(all_lst))\n",
    "\n",
    "df_type_filt[\"groupHPD\"].value_counts()"
   ]
  },
  {
   "cell_type": "markdown",
   "id": "dc799461",
   "metadata": {},
   "source": [
    "# SAKI的整个病程长短"
   ]
  },
  {
   "cell_type": "code",
   "execution_count": 3,
   "id": "8ac09a4c",
   "metadata": {
    "ExecuteTime": {
     "end_time": "2023-12-18T08:40:55.499693Z",
     "start_time": "2023-12-18T08:40:55.492901Z"
    }
   },
   "outputs": [
    {
     "name": "stdout",
     "output_type": "stream",
     "text": [
      "778\n"
     ]
    },
    {
     "name": "stderr",
     "output_type": "stream",
     "text": [
      "/home/hanl/miniconda3/envs/mytensor/lib/python3.9/site-packages/ipykernel/ipkernel.py:287: DeprecationWarning: `should_run_async` will not call `transform_cell` automatically in the future. Please pass the result to `transformed_cell` argument and any exception that happen during thetransform in `preprocessing_exc_tuple` in IPython 7.17 and above.\n",
      "  and should_run_async(code)\n"
     ]
    }
   ],
   "source": [
    "df_first_aki = pd.read_csv(\"/public/hanl/jupyter_dir/kidney_sepsis_penotype_v3/00.data_eicu/disease_definition/AKI/eicu_sk_first_and_max_stage.csv\")\n",
    "first_aki_lst = df_first_aki[df_first_aki.first_aki_stage == 1].stay_id.unique()\n",
    "print(len(first_aki_lst))"
   ]
  },
  {
   "cell_type": "markdown",
   "id": "d5498ca3",
   "metadata": {},
   "source": [
    "## sepsis to sa-aki"
   ]
  },
  {
   "cell_type": "code",
   "execution_count": 4,
   "id": "1873380b",
   "metadata": {
    "ExecuteTime": {
     "end_time": "2023-12-18T08:40:55.896578Z",
     "start_time": "2023-12-18T08:40:55.500899Z"
    }
   },
   "outputs": [
    {
     "name": "stderr",
     "output_type": "stream",
     "text": [
      "/home/hanl/miniconda3/envs/mytensor/lib/python3.9/site-packages/ipykernel/ipkernel.py:287: DeprecationWarning: `should_run_async` will not call `transform_cell` automatically in the future. Please pass the result to `transformed_cell` argument and any exception that happen during thetransform in `preprocessing_exc_tuple` in IPython 7.17 and above.\n",
      "  and should_run_async(code)\n",
      "/home/hanl/miniconda3/envs/mytensor/lib/python3.9/site-packages/ipykernel/pylab/backend_inline.py:164: DeprecationWarning: `configure_inline_support` is deprecated since IPython 7.23, directly use `matplotlib_inline.backend_inline.configure_inline_support()`\n",
      "  configure_inline_support(ip, backend)\n"
     ]
    },
    {
     "name": "stdout",
     "output_type": "stream",
     "text": [
      "p-value annotation legend:\n",
      "      ns: p <= 1.00e+00\n",
      "       *: 1.00e-02 < p <= 5.00e-02\n",
      "      **: 1.00e-03 < p <= 1.00e-02\n",
      "     ***: 1.00e-04 < p <= 1.00e-03\n",
      "    ****: p <= 1.00e-04\n",
      "\n",
      "1 vs. 2: Mann-Whitney-Wilcoxon test two-sided, P_val:7.152e-02 U_stat=5.001e+04\n",
      "2 vs. 3: Mann-Whitney-Wilcoxon test two-sided, P_val:2.249e-01 U_stat=1.936e+04\n",
      "1 vs. 3: Mann-Whitney-Wilcoxon test two-sided, P_val:2.727e-02 U_stat=1.479e+04\n"
     ]
    },
    {
     "data": {
      "image/png": "[encoded data removed]",
      "text/plain": [
       "<Figure size 300x200 with 1 Axes>"
      ]
     },
     "metadata": {},
     "output_type": "display_data"
    }
   ],
   "source": [
    "df_time_all = pd.read_csv(\"/public/hanl/jupyter_dir/kidney_sepsis_penotype_v3/04.other_feature_in_three_dataset/04.survival_treatment/df_time_all.csv\")\n",
    "dataset_dict = {\"mimic\":\"MIMIC\",\"aumcdb\":\"AUMCdb\",\"eicu\":\"eICU\"}\n",
    "df_time_all = df_time_all[df_time_all[\"dataset\"]==\"eicu\"]\n",
    "df_time_all = df_time_all[df_time_all[\"stay_id\"].isin(first_aki_lst)]\n",
    "df_time_all[\"los_saki-sepsis\"] = df_time_all[\"los_saki-sepsis\"]/24\n",
    "import seaborn as sns\n",
    "fig, ax = plt.subplots(1,1, figsize=(3,2))\n",
    "ax=plt.gca()\n",
    "ax.spines['right'].set_visible(False)\n",
    "ax.spines['left'].set_visible(False)\n",
    "ax.spines['top'].set_visible(False)\n",
    "f1 = plt.boxplot([df_time_all[df_time_all[\"groupHPD\"]==1][\"los_saki-sepsis\"], df_time_all[df_time_all[\"groupHPD\"]==2][\"los_saki-sepsis\"], df_time_all[df_time_all[\"groupHPD\"]==3][\"los_saki-sepsis\"]],\n",
    "           whis=(10,90),showfliers=False,showmeans=True,vert=False,patch_artist=True,meanprops={'marker':'D','markerfacecolor':'black','markersize':3,'markeredgecolor':'black'},medianprops={'color':'black'}) \n",
    "\n",
    "color = [\"#74a8ff\",\"#3fc968\",\"#f8746a\"]\n",
    "for box,c in zip(f1['boxes'], color):\n",
    "    box.set(facecolor = c,edgecolor='black')\n",
    "plt.xlabel(\"Sepsis to SA-AKI (Day)\")\n",
    "plt.yticks([1,2,3],[\"C1\",\"C2\",\"C3\"]) \n",
    "\n",
    "from statannotations.Annotator import Annotator\n",
    "box_pairs = [(2,1),(3,1),(3,2)]\n",
    "fig_args = {'x': 'groupHPD',\n",
    "            'y': 'los_saki-sepsis',\n",
    "            'data': df_time_all,\n",
    "            'dodge': True}\n",
    "annotator = Annotator(ax=ax, pairs=box_pairs, **fig_args)\n",
    "\n",
    "fig_args_horiz = {**fig_args,'x': 'los_saki-sepsis', 'y': 'groupHPD'}\n",
    "configuration = {'test':'Mann-Whitney', 'comparisons_correction':None, 'text_format':'star', 'loc':'outside'}\n",
    "annotator.new_plot(ax, orient='h', **fig_args_horiz)\n",
    "annotator.configure(**configuration).apply_test()\n",
    "annotator.apply_and_annotate()\n",
    "plt.savefig('./result/eicu_time_interval_sepsis2saaaki.pdf', bbox_inches = 'tight')\n",
    "plt.show()"
   ]
  },
  {
   "cell_type": "code",
   "execution_count": 5,
   "id": "0df619bf",
   "metadata": {
    "ExecuteTime": {
     "end_time": "2023-12-18T08:40:55.924844Z",
     "start_time": "2023-12-18T08:40:55.897675Z"
    }
   },
   "outputs": [
    {
     "name": "stderr",
     "output_type": "stream",
     "text": [
      "/home/hanl/miniconda3/envs/mytensor/lib/python3.9/site-packages/ipykernel/ipkernel.py:287: DeprecationWarning: `should_run_async` will not call `transform_cell` automatically in the future. Please pass the result to `transformed_cell` argument and any exception that happen during thetransform in `preprocessing_exc_tuple` in IPython 7.17 and above.\n",
      "  and should_run_async(code)\n"
     ]
    },
    {
     "data": {
      "text/html": [
       "<div>\n",
       "<style scoped>\n",
       "    .dataframe tbody tr th:only-of-type {\n",
       "        vertical-align: middle;\n",
       "    }\n",
       "\n",
       "    .dataframe tbody tr th {\n",
       "        vertical-align: top;\n",
       "    }\n",
       "\n",
       "    .dataframe thead th {\n",
       "        text-align: right;\n",
       "    }\n",
       "</style>\n",
       "<table border=\"1\" class=\"dataframe\">\n",
       "  <thead>\n",
       "    <tr style=\"text-align: right;\">\n",
       "      <th></th>\n",
       "      <th>class</th>\n",
       "      <th>Mean</th>\n",
       "      <th>q10</th>\n",
       "      <th>q25</th>\n",
       "      <th>q50</th>\n",
       "      <th>q75</th>\n",
       "      <th>q90</th>\n",
       "    </tr>\n",
       "  </thead>\n",
       "  <tbody>\n",
       "    <tr>\n",
       "      <th>0</th>\n",
       "      <td>C1</td>\n",
       "      <td>0.70</td>\n",
       "      <td>0.04</td>\n",
       "      <td>0.10</td>\n",
       "      <td>0.25</td>\n",
       "      <td>0.75</td>\n",
       "      <td>1.67</td>\n",
       "    </tr>\n",
       "    <tr>\n",
       "      <th>1</th>\n",
       "      <td>C2</td>\n",
       "      <td>0.68</td>\n",
       "      <td>0.08</td>\n",
       "      <td>0.12</td>\n",
       "      <td>0.33</td>\n",
       "      <td>0.83</td>\n",
       "      <td>1.65</td>\n",
       "    </tr>\n",
       "    <tr>\n",
       "      <th>2</th>\n",
       "      <td>C3</td>\n",
       "      <td>0.94</td>\n",
       "      <td>0.04</td>\n",
       "      <td>0.12</td>\n",
       "      <td>0.46</td>\n",
       "      <td>1.23</td>\n",
       "      <td>2.83</td>\n",
       "    </tr>\n",
       "  </tbody>\n",
       "</table>\n",
       "</div>"
      ],
      "text/plain": [
       "  class  Mean   q10   q25   q50   q75   q90\n",
       "0    C1  0.70  0.04  0.10  0.25  0.75  1.67\n",
       "1    C2  0.68  0.08  0.12  0.33  0.83  1.65\n",
       "2    C3  0.94  0.04  0.12  0.46  1.23  2.83"
      ]
     },
     "execution_count": 5,
     "metadata": {},
     "output_type": "execute_result"
    }
   ],
   "source": [
    "# 输出每个数据组的中值、均值和分位数\n",
    "data_groups = [\n",
    "    df_time_all[df_time_all[\"groupHPD\"]==1][\"los_saki-sepsis\"], \n",
    "    df_time_all[df_time_all[\"groupHPD\"]==2][\"los_saki-sepsis\"], \n",
    "    df_time_all[df_time_all[\"groupHPD\"]==3][\"los_saki-sepsis\"]\n",
    "]\n",
    "\n",
    "df_out = pd.DataFrame(columns = [\"class\",\"Mean\",\"q10\",\"q25\",\"q50\",\"q75\",\"q90\"])\n",
    "for i, group_data in enumerate(data_groups):\n",
    "    i = \"C\" + str(int(i)+1) \n",
    "    mean = round(np.mean(group_data),2)\n",
    "    q10 = round(np.percentile(group_data, 10),2)\n",
    "    q25 = round(np.percentile(group_data, 25),2)\n",
    "    q50 = round(np.percentile(group_data, 50),2)\n",
    "    q75 = round(np.percentile(group_data, 75),2)\n",
    "    q90 = round(np.percentile(group_data, 90),2)\n",
    "    df_out.loc[len(df_out)] = [i,mean,q10,q25,q50,q75,q90]\n",
    "df_out"
   ]
  },
  {
   "cell_type": "markdown",
   "id": "774e12bb",
   "metadata": {},
   "source": [
    "## first AKI stage to max AKI stages"
   ]
  },
  {
   "cell_type": "code",
   "execution_count": 6,
   "id": "ea314edc",
   "metadata": {
    "ExecuteTime": {
     "end_time": "2023-12-18T08:40:56.173825Z",
     "start_time": "2023-12-18T08:40:55.925953Z"
    }
   },
   "outputs": [
    {
     "name": "stderr",
     "output_type": "stream",
     "text": [
      "/home/hanl/miniconda3/envs/mytensor/lib/python3.9/site-packages/ipykernel/ipkernel.py:287: DeprecationWarning: `should_run_async` will not call `transform_cell` automatically in the future. Please pass the result to `transformed_cell` argument and any exception that happen during thetransform in `preprocessing_exc_tuple` in IPython 7.17 and above.\n",
      "  and should_run_async(code)\n"
     ]
    },
    {
     "name": "stdout",
     "output_type": "stream",
     "text": [
      "初诊段为AKI 2/3的患者： 212\n",
      "p-value annotation legend:\n",
      "      ns: p <= 1.00e+00\n",
      "       *: 1.00e-02 < p <= 5.00e-02\n",
      "      **: 1.00e-03 < p <= 1.00e-02\n",
      "     ***: 1.00e-04 < p <= 1.00e-03\n",
      "    ****: p <= 1.00e-04\n",
      "\n",
      "1 vs. 2: Mann-Whitney-Wilcoxon test two-sided, P_val:1.600e-01 U_stat=3.524e+04\n",
      "2 vs. 3: Mann-Whitney-Wilcoxon test two-sided, P_val:7.341e-02 U_stat=9.118e+03\n",
      "1 vs. 3: Mann-Whitney-Wilcoxon test two-sided, P_val:3.668e-01 U_stat=4.592e+03\n"
     ]
    },
    {
     "data": {
      "image/png": "[encoded data removed]",
      "text/plain": [
       "<Figure size 300x200 with 1 Axes>"
      ]
     },
     "metadata": {},
     "output_type": "display_data"
    }
   ],
   "source": [
    "df_time = pd.read_csv(\"/public/hanl/jupyter_dir/kidney_sepsis_penotype_v3/00.data_eicu/disease_definition/AKI/eicu_sk_first_and_max_stage.csv\")\n",
    "df_time = pd.merge(df_time,df_type_filt,how=\"inner\",on=\"stay_id\")\n",
    "print(\"初诊段为AKI 2/3的患者：\",df_time[df_time[\"first_aki_stage\"].isin([3])].shape[0])\n",
    "df_time = df_time[~df_time[\"first_aki_stage\"].isin([2,3])]\n",
    "df_time = df_time[df_time[\"max_aki_stage\"]!=df_time[\"first_aki_stage\"]]\n",
    "\n",
    "df_time[\"during_time\"] = (df_time[\"max_aki_time\"] - df_time[\"first_aki_onset\"]) / 24\n",
    "\n",
    "import seaborn as sns\n",
    "fig, ax = plt.subplots(1,1, figsize=(3,2))\n",
    "ax=plt.gca()\n",
    "ax.spines['right'].set_visible(False)\n",
    "ax.spines['left'].set_visible(False)\n",
    "ax.spines['top'].set_visible(False) \n",
    "f1 = plt.boxplot([df_time[df_time[\"groupHPD\"]==1][\"during_time\"], df_time[df_time[\"groupHPD\"]==2][\"during_time\"], df_time[df_time[\"groupHPD\"]==3][\"during_time\"]],\n",
    "           whis=(10,90),showfliers=False,showmeans=True,vert=False,patch_artist=True,meanprops={'marker':'D','markerfacecolor':'black','markersize':3,'markeredgecolor':'black'},medianprops={'color':'black'}) \n",
    "color = [\"#74a8ff\",\"#3fc968\",\"#f8746a\"]\n",
    "for box,c in zip(f1['boxes'], color):\n",
    "    box.set(facecolor = c,edgecolor='black')\n",
    "    \n",
    "plt.xlabel(\"First to max AKI_stages (day)\")\n",
    "plt.yticks([1,2,3],[\"C1\",\"C2\",\"C3\"]) \n",
    "\n",
    "from statannotations.Annotator import Annotator\n",
    "box_pairs = [(2,1),(3,1),(3,2)]\n",
    "fig_args = {'x': 'groupHPD',\n",
    "            'y': 'during_time',\n",
    "            'data': df_time,\n",
    "            'dodge': True}\n",
    "annotator = Annotator(ax=ax, pairs=box_pairs, **fig_args)\n",
    "\n",
    "fig_args_horiz = {**fig_args,'x': 'during_time', 'y': 'groupHPD'}\n",
    "configuration = {'test':'Mann-Whitney', 'comparisons_correction':None, 'text_format':'star', 'loc':'outside'}\n",
    "annotator.new_plot(ax, orient='h', **fig_args_horiz)\n",
    "annotator.configure(**configuration).apply_test()\n",
    "annotator.apply_and_annotate()\n",
    "plt.savefig('./result/eicu_time_interval_first2max_AKIstages.pdf', bbox_inches = 'tight')\n",
    "plt.show()"
   ]
  },
  {
   "cell_type": "code",
   "execution_count": 7,
   "id": "732b8821",
   "metadata": {
    "ExecuteTime": {
     "end_time": "2023-12-18T08:40:56.203066Z",
     "start_time": "2023-12-18T08:40:56.175802Z"
    }
   },
   "outputs": [
    {
     "name": "stderr",
     "output_type": "stream",
     "text": [
      "/home/hanl/miniconda3/envs/mytensor/lib/python3.9/site-packages/ipykernel/ipkernel.py:287: DeprecationWarning: `should_run_async` will not call `transform_cell` automatically in the future. Please pass the result to `transformed_cell` argument and any exception that happen during thetransform in `preprocessing_exc_tuple` in IPython 7.17 and above.\n",
      "  and should_run_async(code)\n"
     ]
    },
    {
     "data": {
      "text/html": [
       "<div>\n",
       "<style scoped>\n",
       "    .dataframe tbody tr th:only-of-type {\n",
       "        vertical-align: middle;\n",
       "    }\n",
       "\n",
       "    .dataframe tbody tr th {\n",
       "        vertical-align: top;\n",
       "    }\n",
       "\n",
       "    .dataframe thead th {\n",
       "        text-align: right;\n",
       "    }\n",
       "</style>\n",
       "<table border=\"1\" class=\"dataframe\">\n",
       "  <thead>\n",
       "    <tr style=\"text-align: right;\">\n",
       "      <th></th>\n",
       "      <th>class</th>\n",
       "      <th>Mean</th>\n",
       "      <th>q10</th>\n",
       "      <th>q25</th>\n",
       "      <th>q50</th>\n",
       "      <th>q75</th>\n",
       "      <th>q90</th>\n",
       "    </tr>\n",
       "  </thead>\n",
       "  <tbody>\n",
       "    <tr>\n",
       "      <th>0</th>\n",
       "      <td>C1</td>\n",
       "      <td>0.87</td>\n",
       "      <td>0.12</td>\n",
       "      <td>0.25</td>\n",
       "      <td>0.38</td>\n",
       "      <td>0.81</td>\n",
       "      <td>2.69</td>\n",
       "    </tr>\n",
       "    <tr>\n",
       "      <th>1</th>\n",
       "      <td>C2</td>\n",
       "      <td>0.78</td>\n",
       "      <td>0.12</td>\n",
       "      <td>0.17</td>\n",
       "      <td>0.33</td>\n",
       "      <td>0.90</td>\n",
       "      <td>1.86</td>\n",
       "    </tr>\n",
       "    <tr>\n",
       "      <th>2</th>\n",
       "      <td>C3</td>\n",
       "      <td>0.86</td>\n",
       "      <td>0.12</td>\n",
       "      <td>0.25</td>\n",
       "      <td>0.38</td>\n",
       "      <td>1.17</td>\n",
       "      <td>2.10</td>\n",
       "    </tr>\n",
       "  </tbody>\n",
       "</table>\n",
       "</div>"
      ],
      "text/plain": [
       "  class  Mean   q10   q25   q50   q75   q90\n",
       "0    C1  0.87  0.12  0.25  0.38  0.81  2.69\n",
       "1    C2  0.78  0.12  0.17  0.33  0.90  1.86\n",
       "2    C3  0.86  0.12  0.25  0.38  1.17  2.10"
      ]
     },
     "execution_count": 7,
     "metadata": {},
     "output_type": "execute_result"
    }
   ],
   "source": [
    "# 输出每个数据组的中值、均值和分位数\n",
    "data_groups = [df_time[df_time[\"groupHPD\"]==1][\"during_time\"],\n",
    "               df_time[df_time[\"groupHPD\"]==2][\"during_time\"], \n",
    "               df_time[df_time[\"groupHPD\"]==3][\"during_time\"]]\n",
    "\n",
    "df_out = pd.DataFrame(columns = [\"class\",\"Mean\",\"q10\",\"q25\",\"q50\",\"q75\",\"q90\"])\n",
    "for i, group_data in enumerate(data_groups):\n",
    "    i = \"C\" + str(int(i)+1) \n",
    "    mean = round(np.mean(group_data),2)\n",
    "    q10 = round(np.percentile(group_data, 10),2)\n",
    "    q25 = round(np.percentile(group_data, 25),2)\n",
    "    q50 = round(np.percentile(group_data, 50),2)\n",
    "    q75 = round(np.percentile(group_data, 75),2)\n",
    "    q90 = round(np.percentile(group_data, 90),2)\n",
    "    df_out.loc[len(df_out)] = [i,mean,q10,q25,q50,q75,q90]\n",
    "df_out"
   ]
  },
  {
   "cell_type": "code",
   "execution_count": null,
   "id": "7cb58558",
   "metadata": {},
   "outputs": [],
   "source": [
    "0.33[0.17,0.90]\n",
    "0.38[0.25,0.81]\n",
    "0.38[0.25,1.17]"
   ]
  },
  {
   "cell_type": "markdown",
   "id": "18d51d8b",
   "metadata": {},
   "source": [
    "## first AKI to AKI endtime (有7天限制)"
   ]
  },
  {
   "cell_type": "code",
   "execution_count": 8,
   "id": "5739a92e",
   "metadata": {
    "ExecuteTime": {
     "end_time": "2023-12-18T08:40:56.445991Z",
     "start_time": "2023-12-18T08:40:56.205027Z"
    }
   },
   "outputs": [
    {
     "name": "stderr",
     "output_type": "stream",
     "text": [
      "/home/hanl/miniconda3/envs/mytensor/lib/python3.9/site-packages/ipykernel/ipkernel.py:287: DeprecationWarning: `should_run_async` will not call `transform_cell` automatically in the future. Please pass the result to `transformed_cell` argument and any exception that happen during thetransform in `preprocessing_exc_tuple` in IPython 7.17 and above.\n",
      "  and should_run_async(code)\n"
     ]
    },
    {
     "name": "stdout",
     "output_type": "stream",
     "text": [
      "初诊段为AKI 2/3的患者： 639\n",
      "778\n",
      "p-value annotation legend:\n",
      "      ns: p <= 1.00e+00\n",
      "       *: 1.00e-02 < p <= 5.00e-02\n",
      "      **: 1.00e-03 < p <= 1.00e-02\n",
      "     ***: 1.00e-04 < p <= 1.00e-03\n",
      "    ****: p <= 1.00e-04\n",
      "\n",
      "1 vs. 2: Mann-Whitney-Wilcoxon test two-sided, P_val:4.148e-03 U_stat=6.303e+04\n",
      "2 vs. 3: Mann-Whitney-Wilcoxon test two-sided, P_val:3.422e-10 U_stat=1.102e+04\n",
      "1 vs. 3: Mann-Whitney-Wilcoxon test two-sided, P_val:3.698e-05 U_stat=8.182e+03\n"
     ]
    },
    {
     "data": {
      "image/png": "[encoded data removed]",
      "text/plain": [
       "<Figure size 300x200 with 1 Axes>"
      ]
     },
     "metadata": {},
     "output_type": "display_data"
    }
   ],
   "source": [
    "df_time = pd.read_csv(\"/public/hanl/jupyter_dir/kidney_sepsis_penotype_v3/00.data_eicu//disease_definition/AKI/eicu_sk_first_and_max_stage.csv\")\n",
    "df_time = pd.merge(df_time,df_type_filt,how=\"inner\",on=\"stay_id\")\n",
    "print(\"初诊段为AKI 2/3的患者：\",df_time[df_time[\"first_aki_stage\"].isin([2,3])].shape[0])\n",
    "df_time = df_time[~df_time[\"first_aki_stage\"].isin([2,3])]\n",
    "\n",
    "df_time[\"during_time\"] = (df_time[\"aki_endtime\"] - df_time[\"first_aki_onset\"] )/24\n",
    "\n",
    "print(len(df_time.stay_id.unique()))\n",
    "\n",
    "import seaborn as sns\n",
    "fig, ax = plt.subplots(1,1, figsize=(3,2))\n",
    "ax=plt.gca()\n",
    "ax.spines['right'].set_visible(False)\n",
    "ax.spines['left'].set_visible(False)\n",
    "ax.spines['top'].set_visible(False) \n",
    "f1 = plt.boxplot([df_time[df_time[\"groupHPD\"]==1][\"during_time\"], df_time[df_time[\"groupHPD\"]==2][\"during_time\"], df_time[df_time[\"groupHPD\"]==3][\"during_time\"]],\n",
    "           whis=(10,90),showfliers=False,showmeans=True,vert=False,patch_artist=True,meanprops={'marker':'D','markerfacecolor':'black','markersize':3,'markeredgecolor':'black'},medianprops={'color':'black'}) \n",
    "color = [\"#74a8ff\",\"#3fc968\",\"#f8746a\"]\n",
    "for box,c in zip(f1['boxes'], color):\n",
    "    box.set(facecolor = c,edgecolor='black')\n",
    "    \n",
    "plt.xlabel(\"First to end AKI_stages (day)\")\n",
    "plt.yticks([1,2,3],[\"C1\",\"C2\",\"C3\"]) \n",
    "\n",
    "from statannotations.Annotator import Annotator\n",
    "box_pairs = [(2,1),(3,1),(3,2)]\n",
    "fig_args = {'x': 'groupHPD',\n",
    "            'y': 'during_time',\n",
    "            'data': df_time,\n",
    "            'dodge': True}\n",
    "annotator = Annotator(ax=ax, pairs=box_pairs, **fig_args)\n",
    "\n",
    "fig_args_horiz = {**fig_args,'x': 'during_time', 'y': 'groupHPD'}\n",
    "configuration = {'test':'Mann-Whitney', 'comparisons_correction':None, 'text_format':'star', 'loc':'outside'}\n",
    "annotator.new_plot(ax, orient='h', **fig_args_horiz)\n",
    "annotator.configure(**configuration).apply_test()\n",
    "annotator.apply_and_annotate()\n",
    "plt.savefig('./result/eicu_time_interval_first2end_AKIstages_in7day.pdf', bbox_inches = 'tight')\n",
    "plt.show()"
   ]
  },
  {
   "cell_type": "code",
   "execution_count": 9,
   "id": "ce594ee0",
   "metadata": {
    "ExecuteTime": {
     "end_time": "2023-12-18T08:40:56.470798Z",
     "start_time": "2023-12-18T08:40:56.447329Z"
    }
   },
   "outputs": [
    {
     "name": "stderr",
     "output_type": "stream",
     "text": [
      "/home/hanl/miniconda3/envs/mytensor/lib/python3.9/site-packages/ipykernel/ipkernel.py:287: DeprecationWarning: `should_run_async` will not call `transform_cell` automatically in the future. Please pass the result to `transformed_cell` argument and any exception that happen during thetransform in `preprocessing_exc_tuple` in IPython 7.17 and above.\n",
      "  and should_run_async(code)\n"
     ]
    },
    {
     "data": {
      "text/html": [
       "<div>\n",
       "<style scoped>\n",
       "    .dataframe tbody tr th:only-of-type {\n",
       "        vertical-align: middle;\n",
       "    }\n",
       "\n",
       "    .dataframe tbody tr th {\n",
       "        vertical-align: top;\n",
       "    }\n",
       "\n",
       "    .dataframe thead th {\n",
       "        text-align: right;\n",
       "    }\n",
       "</style>\n",
       "<table border=\"1\" class=\"dataframe\">\n",
       "  <thead>\n",
       "    <tr style=\"text-align: right;\">\n",
       "      <th></th>\n",
       "      <th>class</th>\n",
       "      <th>Mean</th>\n",
       "      <th>q10</th>\n",
       "      <th>q25</th>\n",
       "      <th>q50</th>\n",
       "      <th>q75</th>\n",
       "      <th>q90</th>\n",
       "    </tr>\n",
       "  </thead>\n",
       "  <tbody>\n",
       "    <tr>\n",
       "      <th>0</th>\n",
       "      <td>C1</td>\n",
       "      <td>2.73</td>\n",
       "      <td>0.38</td>\n",
       "      <td>0.92</td>\n",
       "      <td>1.88</td>\n",
       "      <td>4.43</td>\n",
       "      <td>6.88</td>\n",
       "    </tr>\n",
       "    <tr>\n",
       "      <th>1</th>\n",
       "      <td>C2</td>\n",
       "      <td>2.21</td>\n",
       "      <td>0.25</td>\n",
       "      <td>0.79</td>\n",
       "      <td>1.46</td>\n",
       "      <td>3.25</td>\n",
       "      <td>5.50</td>\n",
       "    </tr>\n",
       "    <tr>\n",
       "      <th>2</th>\n",
       "      <td>C3</td>\n",
       "      <td>3.69</td>\n",
       "      <td>1.11</td>\n",
       "      <td>1.58</td>\n",
       "      <td>3.00</td>\n",
       "      <td>6.71</td>\n",
       "      <td>7.00</td>\n",
       "    </tr>\n",
       "  </tbody>\n",
       "</table>\n",
       "</div>"
      ],
      "text/plain": [
       "  class  Mean   q10   q25   q50   q75   q90\n",
       "0    C1  2.73  0.38  0.92  1.88  4.43  6.88\n",
       "1    C2  2.21  0.25  0.79  1.46  3.25  5.50\n",
       "2    C3  3.69  1.11  1.58  3.00  6.71  7.00"
      ]
     },
     "execution_count": 9,
     "metadata": {},
     "output_type": "execute_result"
    }
   ],
   "source": [
    "# 输出每个数据组的中值、均值和分位数\n",
    "data_groups = [df_time[df_time[\"groupHPD\"]==1][\"during_time\"],\n",
    "               df_time[df_time[\"groupHPD\"]==2][\"during_time\"],\n",
    "               df_time[df_time[\"groupHPD\"]==3][\"during_time\"]]\n",
    "\n",
    "df_out = pd.DataFrame(columns = [\"class\",\"Mean\",\"q10\",\"q25\",\"q50\",\"q75\",\"q90\"])\n",
    "for i, group_data in enumerate(data_groups):\n",
    "    i = \"C\" + str(int(i)+1) \n",
    "    mean = round(np.mean(group_data),2)\n",
    "    q10 = round(np.percentile(group_data, 10),2)\n",
    "    q25 = round(np.percentile(group_data, 25),2)\n",
    "    q50 = round(np.percentile(group_data, 50),2)\n",
    "    q75 = round(np.percentile(group_data, 75),2)\n",
    "    q90 = round(np.percentile(group_data, 90),2)\n",
    "    df_out.loc[len(df_out)] = [i,mean,q10,q25,q50,q75,q90]\n",
    "df_out"
   ]
  },
  {
   "cell_type": "code",
   "execution_count": null,
   "id": "188eb4cd",
   "metadata": {},
   "outputs": [],
   "source": [
    "1.46[0.79,3.25]\n",
    "1.88[0.92,4.43]\n",
    "3.00[1.58,6.71]"
   ]
  },
  {
   "cell_type": "code",
   "execution_count": 10,
   "id": "088cf359",
   "metadata": {
    "ExecuteTime": {
     "end_time": "2023-12-18T08:40:56.499139Z",
     "start_time": "2023-12-18T08:40:56.471814Z"
    }
   },
   "outputs": [
    {
     "name": "stderr",
     "output_type": "stream",
     "text": [
      "/home/hanl/miniconda3/envs/mytensor/lib/python3.9/site-packages/ipykernel/ipkernel.py:287: DeprecationWarning: `should_run_async` will not call `transform_cell` automatically in the future. Please pass the result to `transformed_cell` argument and any exception that happen during thetransform in `preprocessing_exc_tuple` in IPython 7.17 and above.\n",
      "  and should_run_async(code)\n"
     ]
    },
    {
     "data": {
      "text/html": [
       "<div>\n",
       "<style scoped>\n",
       "    .dataframe tbody tr th:only-of-type {\n",
       "        vertical-align: middle;\n",
       "    }\n",
       "\n",
       "    .dataframe tbody tr th {\n",
       "        vertical-align: top;\n",
       "    }\n",
       "\n",
       "    .dataframe thead th {\n",
       "        text-align: right;\n",
       "    }\n",
       "</style>\n",
       "<table border=\"1\" class=\"dataframe\">\n",
       "  <thead>\n",
       "    <tr style=\"text-align: right;\">\n",
       "      <th></th>\n",
       "      <th>class</th>\n",
       "      <th>Mean</th>\n",
       "      <th>q10</th>\n",
       "      <th>q25</th>\n",
       "      <th>q50</th>\n",
       "      <th>q75</th>\n",
       "      <th>q90</th>\n",
       "    </tr>\n",
       "  </thead>\n",
       "  <tbody>\n",
       "    <tr>\n",
       "      <th>0</th>\n",
       "      <td>C0</td>\n",
       "      <td>2.6</td>\n",
       "      <td>0.3</td>\n",
       "      <td>0.9</td>\n",
       "      <td>1.7</td>\n",
       "      <td>4.0</td>\n",
       "      <td>6.5</td>\n",
       "    </tr>\n",
       "    <tr>\n",
       "      <th>1</th>\n",
       "      <td>C1</td>\n",
       "      <td>2.7</td>\n",
       "      <td>0.4</td>\n",
       "      <td>0.9</td>\n",
       "      <td>1.9</td>\n",
       "      <td>4.4</td>\n",
       "      <td>6.9</td>\n",
       "    </tr>\n",
       "    <tr>\n",
       "      <th>2</th>\n",
       "      <td>C2</td>\n",
       "      <td>2.2</td>\n",
       "      <td>0.2</td>\n",
       "      <td>0.8</td>\n",
       "      <td>1.5</td>\n",
       "      <td>3.2</td>\n",
       "      <td>5.5</td>\n",
       "    </tr>\n",
       "    <tr>\n",
       "      <th>3</th>\n",
       "      <td>C3</td>\n",
       "      <td>3.7</td>\n",
       "      <td>1.1</td>\n",
       "      <td>1.6</td>\n",
       "      <td>3.0</td>\n",
       "      <td>6.7</td>\n",
       "      <td>7.0</td>\n",
       "    </tr>\n",
       "  </tbody>\n",
       "</table>\n",
       "</div>"
      ],
      "text/plain": [
       "  class  Mean  q10  q25  q50  q75  q90\n",
       "0    C0   2.6  0.3  0.9  1.7  4.0  6.5\n",
       "1    C1   2.7  0.4  0.9  1.9  4.4  6.9\n",
       "2    C2   2.2  0.2  0.8  1.5  3.2  5.5\n",
       "3    C3   3.7  1.1  1.6  3.0  6.7  7.0"
      ]
     },
     "execution_count": 10,
     "metadata": {},
     "output_type": "execute_result"
    }
   ],
   "source": [
    "# 输出每个数据组的中值、均值和分位数\n",
    "data_groups = [df_time[\"during_time\"],\n",
    "               df_time[df_time[\"groupHPD\"]==1][\"during_time\"],\n",
    "               df_time[df_time[\"groupHPD\"]==2][\"during_time\"],\n",
    "               df_time[df_time[\"groupHPD\"]==3][\"during_time\"]]\n",
    "\n",
    "df_out = pd.DataFrame(columns = [\"class\",\"Mean\",\"q10\",\"q25\",\"q50\",\"q75\",\"q90\"])\n",
    "for i, group_data in enumerate(data_groups):\n",
    "    i = \"C\" + str(int(i)) \n",
    "    mean = round(np.mean(group_data),1)\n",
    "    q10 = round(np.percentile(group_data, 10),1)\n",
    "    q25 = round(np.percentile(group_data, 25),1)\n",
    "    q50 = round(np.percentile(group_data, 50),1)\n",
    "    q75 = round(np.percentile(group_data, 75),1)\n",
    "    q90 = round(np.percentile(group_data, 90),1)\n",
    "    df_out.loc[len(df_out)] = [i,mean,q10,q25,q50,q75,q90]\n",
    "df_out\n",
    "# C0 指all patients"
   ]
  },
  {
   "cell_type": "code",
   "execution_count": 11,
   "id": "9a5b1799",
   "metadata": {
    "ExecuteTime": {
     "end_time": "2023-12-18T08:40:56.504462Z",
     "start_time": "2023-12-18T08:40:56.500120Z"
    }
   },
   "outputs": [
    {
     "name": "stdout",
     "output_type": "stream",
     "text": [
      "all:1.7[0.9,4.0]\n",
      "C1:1.9[0.9,4.4]\n",
      "C2:1.5[0.8,3.2]\n",
      "C3:3.0[1.6,6.7]\n"
     ]
    },
    {
     "name": "stderr",
     "output_type": "stream",
     "text": [
      "/home/hanl/miniconda3/envs/mytensor/lib/python3.9/site-packages/ipykernel/ipkernel.py:287: DeprecationWarning: `should_run_async` will not call `transform_cell` automatically in the future. Please pass the result to `transformed_cell` argument and any exception that happen during thetransform in `preprocessing_exc_tuple` in IPython 7.17 and above.\n",
      "  and should_run_async(code)\n"
     ]
    }
   ],
   "source": [
    "print(\"all:\"+str(df_out.iloc[0,4])+\"[\"+str(df_out.iloc[0,3])+\",\" +str(df_out.iloc[0,5]) +\"]\")\n",
    "print(\"C1:\"+str(df_out.iloc[1,4])+\"[\"+str(df_out.iloc[1,3])+\",\" +str(df_out.iloc[1,5]) +\"]\")\n",
    "print(\"C2:\"+str(df_out.iloc[2,4])+\"[\"+str(df_out.iloc[2,3])+\",\" +str(df_out.iloc[2,5]) +\"]\")\n",
    "print(\"C3:\"+str(df_out.iloc[3,4])+\"[\"+str(df_out.iloc[3,3])+\",\" +str(df_out.iloc[3,5]) +\"]\")"
   ]
  },
  {
   "cell_type": "code",
   "execution_count": 12,
   "id": "29c6d655",
   "metadata": {
    "ExecuteTime": {
     "end_time": "2023-12-18T08:40:56.508547Z",
     "start_time": "2023-12-18T08:40:56.505520Z"
    }
   },
   "outputs": [
    {
     "name": "stdout",
     "output_type": "stream",
     "text": [
      "F-statistic: 19.525689531308196\n",
      "P-value: 5.331272492075399e-09\n"
     ]
    },
    {
     "name": "stderr",
     "output_type": "stream",
     "text": [
      "/home/hanl/miniconda3/envs/mytensor/lib/python3.9/site-packages/ipykernel/ipkernel.py:287: DeprecationWarning: `should_run_async` will not call `transform_cell` automatically in the future. Please pass the result to `transformed_cell` argument and any exception that happen during thetransform in `preprocessing_exc_tuple` in IPython 7.17 and above.\n",
      "  and should_run_async(code)\n"
     ]
    }
   ],
   "source": [
    "import scipy.stats as stats\n",
    "f_statistic, p_value = stats.f_oneway(data_groups[1],data_groups[2],data_groups[3])\n",
    "print(\"F-statistic:\", f_statistic)\n",
    "print(\"P-value:\", p_value)\n"
   ]
  },
  {
   "cell_type": "markdown",
   "id": "ba05afcb",
   "metadata": {},
   "source": [
    "## first AKI to AKI endtime (无7天限制)"
   ]
  },
  {
   "cell_type": "code",
   "execution_count": 13,
   "id": "f363e53e",
   "metadata": {
    "ExecuteTime": {
     "end_time": "2023-12-18T08:40:56.814766Z",
     "start_time": "2023-12-18T08:40:56.509565Z"
    }
   },
   "outputs": [
    {
     "name": "stderr",
     "output_type": "stream",
     "text": [
      "/home/hanl/miniconda3/envs/mytensor/lib/python3.9/site-packages/ipykernel/ipkernel.py:287: DeprecationWarning: `should_run_async` will not call `transform_cell` automatically in the future. Please pass the result to `transformed_cell` argument and any exception that happen during thetransform in `preprocessing_exc_tuple` in IPython 7.17 and above.\n",
      "  and should_run_async(code)\n"
     ]
    },
    {
     "name": "stdout",
     "output_type": "stream",
     "text": [
      "初诊段为AKI 2/3的患者： 639\n",
      "778\n",
      "p-value annotation legend:\n",
      "      ns: p <= 1.00e+00\n",
      "       *: 1.00e-02 < p <= 5.00e-02\n",
      "      **: 1.00e-03 < p <= 1.00e-02\n",
      "     ***: 1.00e-04 < p <= 1.00e-03\n",
      "    ****: p <= 1.00e-04\n",
      "\n",
      "1 vs. 2: Mann-Whitney-Wilcoxon test two-sided, P_val:9.327e-03 U_stat=6.235e+04\n",
      "2 vs. 3: Mann-Whitney-Wilcoxon test two-sided, P_val:2.531e-09 U_stat=1.143e+04\n",
      "1 vs. 3: Mann-Whitney-Wilcoxon test two-sided, P_val:7.515e-05 U_stat=8.317e+03\n"
     ]
    },
    {
     "data": {
      "image/png": "[encoded data removed]",
      "text/plain": [
       "<Figure size 300x200 with 1 Axes>"
      ]
     },
     "metadata": {},
     "output_type": "display_data"
    }
   ],
   "source": [
    "df_time = pd.read_csv(\"/public/hanl/jupyter_dir/kidney_sepsis_penotype_v3/00.data_eicu//disease_definition/AKI/eicu_sk_first_and_max_stage.csv\")\n",
    "df_time = pd.merge(df_time,df_type_filt,how=\"inner\",on=\"stay_id\")\n",
    "print(\"初诊段为AKI 2/3的患者：\",df_time[df_time[\"first_aki_stage\"].isin([2,3])].shape[0])\n",
    "df_time = df_time[~df_time[\"first_aki_stage\"].isin([2,3])]\n",
    "\n",
    "\n",
    "df_time[\"during_time\"] = (df_time[\"aki_endtime_H7D\"] - df_time[\"first_aki_onset\"])/24\n",
    "print(len(df_time.stay_id.unique()))\n",
    "\n",
    "import seaborn as sns\n",
    "fig, ax = plt.subplots(1,1, figsize=(3,2))\n",
    "ax=plt.gca()\n",
    "ax.spines['right'].set_visible(False)\n",
    "ax.spines['left'].set_visible(False)\n",
    "ax.spines['top'].set_visible(False) \n",
    "f1 = plt.boxplot([df_time[df_time[\"groupHPD\"]==1][\"during_time\"], df_time[df_time[\"groupHPD\"]==2][\"during_time\"], df_time[df_time[\"groupHPD\"]==3][\"during_time\"]],\n",
    "           whis=(10,90),showfliers=False,showmeans=True,vert=False,patch_artist=True,meanprops={'marker':'D','markerfacecolor':'black','markersize':3,'markeredgecolor':'black'},medianprops={'color':'black'}) \n",
    "color = [\"#74a8ff\",\"#3fc968\",\"#f8746a\"]\n",
    "for box,c in zip(f1['boxes'], color):\n",
    "    box.set(facecolor = c,edgecolor='black')\n",
    "    \n",
    "plt.xlabel(\"First to end AKI_stages (day)\")\n",
    "plt.yticks([1,2,3],[\"C1\",\"C2\",\"C3\"]) \n",
    "\n",
    "from statannotations.Annotator import Annotator\n",
    "box_pairs = [(2,1),(3,1),(3,2)]\n",
    "fig_args = {'x': 'groupHPD',\n",
    "            'y': 'during_time',\n",
    "            'data': df_time,\n",
    "            'dodge': True}\n",
    "annotator = Annotator(ax=ax, pairs=box_pairs, **fig_args)\n",
    "\n",
    "fig_args_horiz = {**fig_args,'x': 'during_time', 'y': 'groupHPD'}\n",
    "configuration = {'test':'Mann-Whitney', 'comparisons_correction':None, 'text_format':'star', 'loc':'outside'}\n",
    "annotator.new_plot(ax, orient='h', **fig_args_horiz)\n",
    "annotator.configure(**configuration).apply_test()\n",
    "annotator.apply_and_annotate()\n",
    "plt.savefig('./result/eicu_time_interval_first2end_AKIstages_no7day.pdf', bbox_inches = 'tight')\n",
    "plt.show()"
   ]
  },
  {
   "cell_type": "code",
   "execution_count": 14,
   "id": "058c3213",
   "metadata": {
    "ExecuteTime": {
     "end_time": "2023-12-18T08:40:56.839643Z",
     "start_time": "2023-12-18T08:40:56.815831Z"
    }
   },
   "outputs": [
    {
     "name": "stderr",
     "output_type": "stream",
     "text": [
      "/home/hanl/miniconda3/envs/mytensor/lib/python3.9/site-packages/ipykernel/ipkernel.py:287: DeprecationWarning: `should_run_async` will not call `transform_cell` automatically in the future. Please pass the result to `transformed_cell` argument and any exception that happen during thetransform in `preprocessing_exc_tuple` in IPython 7.17 and above.\n",
      "  and should_run_async(code)\n"
     ]
    },
    {
     "data": {
      "text/html": [
       "<div>\n",
       "<style scoped>\n",
       "    .dataframe tbody tr th:only-of-type {\n",
       "        vertical-align: middle;\n",
       "    }\n",
       "\n",
       "    .dataframe tbody tr th {\n",
       "        vertical-align: top;\n",
       "    }\n",
       "\n",
       "    .dataframe thead th {\n",
       "        text-align: right;\n",
       "    }\n",
       "</style>\n",
       "<table border=\"1\" class=\"dataframe\">\n",
       "  <thead>\n",
       "    <tr style=\"text-align: right;\">\n",
       "      <th></th>\n",
       "      <th>class</th>\n",
       "      <th>Mean</th>\n",
       "      <th>q10</th>\n",
       "      <th>q25</th>\n",
       "      <th>q50</th>\n",
       "      <th>q75</th>\n",
       "      <th>q90</th>\n",
       "    </tr>\n",
       "  </thead>\n",
       "  <tbody>\n",
       "    <tr>\n",
       "      <th>0</th>\n",
       "      <td>C1</td>\n",
       "      <td>3.26</td>\n",
       "      <td>0.38</td>\n",
       "      <td>0.92</td>\n",
       "      <td>1.9</td>\n",
       "      <td>4.69</td>\n",
       "      <td>7.42</td>\n",
       "    </tr>\n",
       "    <tr>\n",
       "      <th>1</th>\n",
       "      <td>C2</td>\n",
       "      <td>2.52</td>\n",
       "      <td>0.28</td>\n",
       "      <td>0.79</td>\n",
       "      <td>1.5</td>\n",
       "      <td>3.58</td>\n",
       "      <td>6.02</td>\n",
       "    </tr>\n",
       "    <tr>\n",
       "      <th>2</th>\n",
       "      <td>C3</td>\n",
       "      <td>5.35</td>\n",
       "      <td>1.11</td>\n",
       "      <td>1.58</td>\n",
       "      <td>3.0</td>\n",
       "      <td>6.71</td>\n",
       "      <td>12.37</td>\n",
       "    </tr>\n",
       "  </tbody>\n",
       "</table>\n",
       "</div>"
      ],
      "text/plain": [
       "  class  Mean   q10   q25  q50   q75    q90\n",
       "0    C1  3.26  0.38  0.92  1.9  4.69   7.42\n",
       "1    C2  2.52  0.28  0.79  1.5  3.58   6.02\n",
       "2    C3  5.35  1.11  1.58  3.0  6.71  12.37"
      ]
     },
     "execution_count": 14,
     "metadata": {},
     "output_type": "execute_result"
    }
   ],
   "source": [
    "# 输出每个数据组的中值、均值和分位数\n",
    "data_groups = [df_time[df_time[\"groupHPD\"]==1][\"during_time\"],\n",
    "               df_time[df_time[\"groupHPD\"]==2][\"during_time\"],\n",
    "               df_time[df_time[\"groupHPD\"]==3][\"during_time\"]]\n",
    "\n",
    "df_out = pd.DataFrame(columns = [\"class\",\"Mean\",\"q10\",\"q25\",\"q50\",\"q75\",\"q90\"])\n",
    "for i, group_data in enumerate(data_groups):\n",
    "    i = \"C\" + str(int(i)+1) \n",
    "    mean = round(np.mean(group_data),2)\n",
    "    q10 = round(np.percentile(group_data, 10),2)\n",
    "    q25 = round(np.percentile(group_data, 25),2)\n",
    "    q50 = round(np.percentile(group_data, 50),2)\n",
    "    q75 = round(np.percentile(group_data, 75),2)\n",
    "    q90 = round(np.percentile(group_data, 90),2)\n",
    "    df_out.loc[len(df_out)] = [i,mean,q10,q25,q50,q75,q90]\n",
    "df_out"
   ]
  },
  {
   "cell_type": "code",
   "execution_count": null,
   "id": "72fab9c5",
   "metadata": {},
   "outputs": [],
   "source": []
  },
  {
   "cell_type": "markdown",
   "id": "108484ce",
   "metadata": {},
   "source": [
    "## first AKI to outICU"
   ]
  },
  {
   "cell_type": "code",
   "execution_count": 15,
   "id": "7bfe01af",
   "metadata": {
    "ExecuteTime": {
     "end_time": "2023-12-18T08:40:57.161345Z",
     "start_time": "2023-12-18T08:40:56.840716Z"
    }
   },
   "outputs": [
    {
     "name": "stderr",
     "output_type": "stream",
     "text": [
      "/home/hanl/miniconda3/envs/mytensor/lib/python3.9/site-packages/ipykernel/ipkernel.py:287: DeprecationWarning: `should_run_async` will not call `transform_cell` automatically in the future. Please pass the result to `transformed_cell` argument and any exception that happen during thetransform in `preprocessing_exc_tuple` in IPython 7.17 and above.\n",
      "  and should_run_async(code)\n"
     ]
    },
    {
     "name": "stdout",
     "output_type": "stream",
     "text": [
      "1417\n",
      "p-value annotation legend:\n",
      "      ns: p <= 1.00e+00\n",
      "       *: 1.00e-02 < p <= 5.00e-02\n",
      "      **: 1.00e-03 < p <= 1.00e-02\n",
      "     ***: 1.00e-04 < p <= 1.00e-03\n",
      "    ****: p <= 1.00e-04\n",
      "\n",
      "1 vs. 2: Mann-Whitney-Wilcoxon test two-sided, P_val:1.546e-06 U_stat=2.140e+05\n",
      "2 vs. 3: Mann-Whitney-Wilcoxon test two-sided, P_val:1.183e-08 U_stat=3.720e+04\n",
      "1 vs. 3: Mann-Whitney-Wilcoxon test two-sided, P_val:1.382e-02 U_stat=2.261e+04\n"
     ]
    },
    {
     "data": {
      "image/png": "[encoded data removed]",
      "text/plain": [
       "<Figure size 300x200 with 1 Axes>"
      ]
     },
     "metadata": {},
     "output_type": "display_data"
    }
   ],
   "source": [
    "df_icu = pd.read_csv(\"/public/hanl/jupyter_dir/kidney_sepsis_penotype_v3/00.data_eicu/disease_definition/AKI/eicu_saki_event_time.csv\")\n",
    "df_icu = df_icu[[\"stay_id\",\"saki_onset\",\"outtime\"]]\n",
    "df_icu = pd.merge(df_icu,df_type_filt,how=\"inner\",on=\"stay_id\")\n",
    "print(len(df_icu.stay_id.unique()))\n",
    "df_icu[\"during_time\"] = (df_icu[\"outtime\"] - df_icu[\"saki_onset\"])/24 #.map(lambda x:x/np.timedelta64(24, 'h')).tolist()\n",
    "\n",
    "import seaborn as sns\n",
    "fig, ax = plt.subplots(1,1, figsize=(3,2))\n",
    "ax=plt.gca()\n",
    "ax.spines['right'].set_visible(False)\n",
    "ax.spines['left'].set_visible(False)\n",
    "ax.spines['top'].set_visible(False)\n",
    "\n",
    "f1 = plt.boxplot([df_icu[df_icu[\"groupHPD\"]==1][\"during_time\"], df_icu[df_icu[\"groupHPD\"]==2][\"during_time\"], df_icu[df_icu[\"groupHPD\"]==3][\"during_time\"]],\n",
    "           whis=(10,90),showfliers=False,showmeans=True,vert=False,patch_artist=True,meanprops={'marker':'D','markerfacecolor':'black','markersize':3,'markeredgecolor':'black'},medianprops={'color':'black'}) \n",
    "\n",
    "color = [\"#74a8ff\",\"#3fc968\",\"#f8746a\"]\n",
    "for box,c in zip(f1['boxes'], color):\n",
    "    box.set(facecolor = c,edgecolor='black')\n",
    "plt.yticks([1,2,3],[\"C1\",\"C2\",\"C3\"]) \n",
    "\n",
    "from statannotations.Annotator import Annotator\n",
    "box_pairs = [(2,1),(3,1),(3,2)]\n",
    "fig_args = {'x': 'groupHPD',\n",
    "            'y': 'during_time',\n",
    "            'data': df_icu,\n",
    "            'dodge': True}\n",
    "annotator = Annotator(ax=ax, pairs=box_pairs, **fig_args)\n",
    "\n",
    "fig_args_horiz = {**fig_args,'x': 'during_time', 'y': 'groupHPD'}\n",
    "configuration = {'test':'Mann-Whitney', 'comparisons_correction':None, 'text_format':'star', 'loc':'outside'}\n",
    "annotator.new_plot(ax, orient='h', **fig_args_horiz)\n",
    "annotator.configure(**configuration).apply_test()\n",
    "annotator.apply_and_annotate()\n",
    "plt.xlabel(\"First diagnose to out ICU (Hours)\")\n",
    "plt.savefig('./result/eicu_time_interval_first2out_AKI.pdf', bbox_inches = 'tight')\n",
    "plt.show()"
   ]
  },
  {
   "cell_type": "code",
   "execution_count": 16,
   "id": "fb1f7474",
   "metadata": {
    "ExecuteTime": {
     "end_time": "2023-12-18T08:40:57.186288Z",
     "start_time": "2023-12-18T08:40:57.162457Z"
    }
   },
   "outputs": [
    {
     "name": "stderr",
     "output_type": "stream",
     "text": [
      "/home/hanl/miniconda3/envs/mytensor/lib/python3.9/site-packages/ipykernel/ipkernel.py:287: DeprecationWarning: `should_run_async` will not call `transform_cell` automatically in the future. Please pass the result to `transformed_cell` argument and any exception that happen during thetransform in `preprocessing_exc_tuple` in IPython 7.17 and above.\n",
      "  and should_run_async(code)\n"
     ]
    },
    {
     "data": {
      "text/html": [
       "<div>\n",
       "<style scoped>\n",
       "    .dataframe tbody tr th:only-of-type {\n",
       "        vertical-align: middle;\n",
       "    }\n",
       "\n",
       "    .dataframe tbody tr th {\n",
       "        vertical-align: top;\n",
       "    }\n",
       "\n",
       "    .dataframe thead th {\n",
       "        text-align: right;\n",
       "    }\n",
       "</style>\n",
       "<table border=\"1\" class=\"dataframe\">\n",
       "  <thead>\n",
       "    <tr style=\"text-align: right;\">\n",
       "      <th></th>\n",
       "      <th>class</th>\n",
       "      <th>Mean</th>\n",
       "      <th>q10</th>\n",
       "      <th>q25</th>\n",
       "      <th>q50</th>\n",
       "      <th>q75</th>\n",
       "      <th>q90</th>\n",
       "    </tr>\n",
       "  </thead>\n",
       "  <tbody>\n",
       "    <tr>\n",
       "      <th>0</th>\n",
       "      <td>C1</td>\n",
       "      <td>4.86</td>\n",
       "      <td>0.85</td>\n",
       "      <td>1.38</td>\n",
       "      <td>2.64</td>\n",
       "      <td>5.76</td>\n",
       "      <td>11.17</td>\n",
       "    </tr>\n",
       "    <tr>\n",
       "      <th>1</th>\n",
       "      <td>C2</td>\n",
       "      <td>3.24</td>\n",
       "      <td>0.66</td>\n",
       "      <td>1.14</td>\n",
       "      <td>1.98</td>\n",
       "      <td>3.68</td>\n",
       "      <td>6.76</td>\n",
       "    </tr>\n",
       "    <tr>\n",
       "      <th>2</th>\n",
       "      <td>C3</td>\n",
       "      <td>5.88</td>\n",
       "      <td>1.18</td>\n",
       "      <td>1.82</td>\n",
       "      <td>3.25</td>\n",
       "      <td>7.17</td>\n",
       "      <td>13.55</td>\n",
       "    </tr>\n",
       "  </tbody>\n",
       "</table>\n",
       "</div>"
      ],
      "text/plain": [
       "  class  Mean   q10   q25   q50   q75    q90\n",
       "0    C1  4.86  0.85  1.38  2.64  5.76  11.17\n",
       "1    C2  3.24  0.66  1.14  1.98  3.68   6.76\n",
       "2    C3  5.88  1.18  1.82  3.25  7.17  13.55"
      ]
     },
     "execution_count": 16,
     "metadata": {},
     "output_type": "execute_result"
    }
   ],
   "source": [
    "# 输出每个数据组的中值、均值和分位数\n",
    "data_groups = [\n",
    "    df_icu[df_icu[\"groupHPD\"]==1][\"during_time\"], \n",
    "    df_icu[df_icu[\"groupHPD\"]==2][\"during_time\"], \n",
    "    df_icu[df_icu[\"groupHPD\"]==3][\"during_time\"]\n",
    "]\n",
    "\n",
    "df_out = pd.DataFrame(columns = [\"class\",\"Mean\",\"q10\",\"q25\",\"q50\",\"q75\",\"q90\"])\n",
    "for i, group_data in enumerate(data_groups):\n",
    "    i = \"C\" + str(int(i)+1) \n",
    "    mean = round(np.mean(group_data),2)\n",
    "    q10 = round(np.percentile(group_data, 10),2)\n",
    "    q25 = round(np.percentile(group_data, 25),2)\n",
    "    q50 = round(np.percentile(group_data, 50),2)\n",
    "    q75 = round(np.percentile(group_data, 75),2)\n",
    "    q90 = round(np.percentile(group_data, 90),2)\n",
    "    df_out.loc[len(df_out)] = [i,mean,q10,q25,q50,q75,q90]\n",
    "df_out"
   ]
  }
 ],
 "metadata": {
  "kernelspec": {
   "display_name": "Python [conda env:mytensor]",
   "language": "python",
   "name": "conda-env-mytensor-py"
  },
  "language_info": {
   "codemirror_mode": {
    "name": "ipython",
    "version": 3
   },
   "file_extension": ".py",
   "mimetype": "text/x-python",
   "name": "python",
   "nbconvert_exporter": "python",
   "pygments_lexer": "ipython3",
   "version": "3.9.12"
  },
  "toc": {
   "base_numbering": 1,
   "nav_menu": {},
   "number_sections": true,
   "sideBar": true,
   "skip_h1_title": false,
   "title_cell": "Table of Contents",
   "title_sidebar": "Contents",
   "toc_cell": false,
   "toc_position": {
    "height": "calc(100% - 180px)",
    "left": "10px",
    "top": "150px",
    "width": "189.988px"
   },
   "toc_section_display": true,
   "toc_window_display": true
  },
  "varInspector": {
   "cols": {
    "lenName": 16,
    "lenType": 16,
    "lenVar": 40
   },
   "kernels_config": {
    "python": {
     "delete_cmd_postfix": "",
     "delete_cmd_prefix": "del ",
     "library": "var_list.py",
     "varRefreshCmd": "print(var_dic_list())"
    },
    "r": {
     "delete_cmd_postfix": ") ",
     "delete_cmd_prefix": "rm(",
     "library": "var_list.r",
     "varRefreshCmd": "cat(var_dic_list()) "
    }
   },
   "types_to_exclude": [
    "module",
    "function",
    "builtin_function_or_method",
    "instance",
    "_Feature"
   ],
   "window_display": false
  }
 },
 "nbformat": 4,
 "nbformat_minor": 5
}
