{
 "cells": [
  {
   "cell_type": "markdown",
   "id": "ea7f2482",
   "metadata": {},
   "source": [
    "# def"
   ]
  },
  {
   "cell_type": "code",
   "execution_count": 1,
   "id": "8afe3825",
   "metadata": {
    "ExecuteTime": {
     "end_time": "2024-03-25T08:51:02.526630Z",
     "start_time": "2024-03-25T08:51:00.752608Z"
    }
   },
   "outputs": [
    {
     "name": "stderr",
     "output_type": "stream",
     "text": [
      "/home/hanl/miniconda3/envs/mytensor/lib/python3.9/site-packages/scipy/__init__.py:138: UserWarning: A NumPy version >=1.16.5 and <1.23.0 is required for this version of SciPy (detected version 1.26.4)\n",
      "  warnings.warn(f\"A NumPy version >={np_minversion} and <{np_maxversion} is required for this version of \"\n"
     ]
    }
   ],
   "source": [
    "import pandas as pd\n",
    "import time\n",
    "import numpy as np\n",
    "import matplotlib.pyplot as plt\n",
    "pd.options.display.max_rows = 300\n",
    "import math\n",
    "import datetime as dt\n",
    "from tableone import TableOne, load_dataset\n",
    "import itertools\n",
    "import random\n",
    "import scipy.stats as stats"
   ]
  },
  {
   "cell_type": "code",
   "execution_count": null,
   "id": "f649a5a9",
   "metadata": {
    "ExecuteTime": {
     "end_time": "2024-03-25T08:51:02.727029Z",
     "start_time": "2024-03-25T08:51:02.528054Z"
    }
   },
   "outputs": [],
   "source": [
    "df_type = pd.read_csv(\"df_mixAK_fea4_C3_eicu.csv\")\n",
    "df_type_filt = df_type.loc[:,[\"stay_id\",\"groupHPD\"]]\n",
    "df_type_filt = df_type_filt.drop_duplicates()\n",
    "all_lst = df_type_filt.stay_id.unique().tolist()\n",
    "print(\"Number of included patients:\",len(all_lst))\n",
    "\n",
    "df_type_filt[\"groupHPD\"].value_counts()"
   ]
  },
  {
   "cell_type": "markdown",
   "id": "58f77149",
   "metadata": {},
   "source": [
    "# Define the recovery mode\n",
    "First, assess the condition of the kidneys at each time, and then consider the time to comprehensively determine the recovery mode\n",
    "\n",
    "Determination of kidney condition:\n",
    "- When the urine volume does not meet the definition of KDIGO AKI, it is determined as complete recovery C(complete recovery).\n",
    "- When creatinine does not meet the definition of KDIGO AKI, it is determined as complete recovery C(complete recovery).\n",
    "- Otherwise, it indicates that P (partial) has not been restored yet.\n",
    "- Complete recovery is determined when the creatinine level is within 30% of the baseline creatinine\n",
    "\n",
    "Recovery mode determination\n",
    "- quick recovery of QR, recovery within 3 days\n",
    "- slow recovery SR, recovery within 7 days (slow recovery)\n",
    "- worse\n",
    "- Recovery refers to the situation where the number of consecutive points \"not meeting the AKI definition\" is greater than the number of points \"meeting the AKI definition\"."
   ]
  },
  {
   "cell_type": "markdown",
   "id": "c9772251",
   "metadata": {},
   "source": [
    "# Define of kidney condition"
   ]
  },
  {
   "cell_type": "markdown",
   "id": "3bc54473",
   "metadata": {},
   "source": [
    "## Obtain data-aki stage,aki_stage_uo，aki_stage_cre"
   ]
  },
  {
   "cell_type": "code",
   "execution_count": 3,
   "id": "6767ee4c",
   "metadata": {
    "ExecuteTime": {
     "end_time": "2024-03-25T08:51:02.760151Z",
     "start_time": "2024-03-25T08:51:02.728361Z"
    }
   },
   "outputs": [
    {
     "name": "stderr",
     "output_type": "stream",
     "text": [
      "/home/hanl/miniconda3/envs/mytensor/lib/python3.9/site-packages/ipykernel/ipkernel.py:287: DeprecationWarning: `should_run_async` will not call `transform_cell` automatically in the future. Please pass the result to `transformed_cell` argument and any exception that happen during thetransform in `preprocessing_exc_tuple` in IPython 7.17 and above.\n",
      "  and should_run_async(code)\n"
     ]
    },
    {
     "data": {
      "text/html": [
       "<div>\n",
       "<style scoped>\n",
       "    .dataframe tbody tr th:only-of-type {\n",
       "        vertical-align: middle;\n",
       "    }\n",
       "\n",
       "    .dataframe tbody tr th {\n",
       "        vertical-align: top;\n",
       "    }\n",
       "\n",
       "    .dataframe thead th {\n",
       "        text-align: right;\n",
       "    }\n",
       "</style>\n",
       "<table border=\"1\" class=\"dataframe\">\n",
       "  <thead>\n",
       "    <tr style=\"text-align: right;\">\n",
       "      <th></th>\n",
       "      <th>stay_id</th>\n",
       "      <th>first_aki_onset</th>\n",
       "      <th>aki_endtime</th>\n",
       "      <th>aki_endstage</th>\n",
       "      <th>los_saaki</th>\n",
       "    </tr>\n",
       "  </thead>\n",
       "  <tbody>\n",
       "    <tr>\n",
       "      <th>0</th>\n",
       "      <td>243208.0</td>\n",
       "      <td>14</td>\n",
       "      <td>48</td>\n",
       "      <td>0</td>\n",
       "      <td>34.0</td>\n",
       "    </tr>\n",
       "    <tr>\n",
       "      <th>1</th>\n",
       "      <td>243765.0</td>\n",
       "      <td>21</td>\n",
       "      <td>159</td>\n",
       "      <td>0</td>\n",
       "      <td>138.0</td>\n",
       "    </tr>\n",
       "  </tbody>\n",
       "</table>\n",
       "</div>"
      ],
      "text/plain": [
       "    stay_id  first_aki_onset  aki_endtime  aki_endstage  los_saaki\n",
       "0  243208.0               14           48             0       34.0\n",
       "1  243765.0               21          159             0      138.0"
      ]
     },
     "execution_count": 3,
     "metadata": {},
     "output_type": "execute_result"
    }
   ],
   "source": [
    "df_time = pd.read_csv(\"/public/hanl/jupyter_dir/kidney_sepsis_penotype_v3/00.data_eicu/disease_definition/AKI/eicu_sk_first_and_max_stage.csv\")\n",
    "df_time = df_time[[\"stay_id\",\"first_aki_onset\",\"aki_endtime\",\"aki_endstage\"]]\n",
    "df_time[\"los_saaki\"] = (df_time[\"aki_endtime\"] - df_time[\"first_aki_onset\"])/1\n",
    "df_time.head(2)"
   ]
  },
  {
   "cell_type": "code",
   "execution_count": null,
   "id": "783e9e1b",
   "metadata": {
    "ExecuteTime": {
     "end_time": "2024-03-25T08:51:02.862689Z",
     "start_time": "2024-03-25T08:51:02.761403Z"
    },
    "run_control": {
     "marked": true
    }
   },
   "outputs": [
    {
     "name": "stderr",
     "output_type": "stream",
     "text": [
      "/home/hanl/miniconda3/envs/mytensor/lib/python3.9/site-packages/ipykernel/ipkernel.py:287: DeprecationWarning: `should_run_async` will not call `transform_cell` automatically in the future. Please pass the result to `transformed_cell` argument and any exception that happen during thetransform in `preprocessing_exc_tuple` in IPython 7.17 and above.\n",
      "  and should_run_async(code)\n"
     ]
    },
    {
     "data": {
      "text/html": [
       "<div>\n",
       "<style scoped>\n",
       "    .dataframe tbody tr th:only-of-type {\n",
       "        vertical-align: middle;\n",
       "    }\n",
       "\n",
       "    .dataframe tbody tr th {\n",
       "        vertical-align: top;\n",
       "    }\n",
       "\n",
       "    .dataframe thead th {\n",
       "        text-align: right;\n",
       "    }\n",
       "</style>\n",
       "<table border=\"1\" class=\"dataframe\">\n",
       "  <thead>\n",
       "    <tr style=\"text-align: right;\">\n",
       "      <th></th>\n",
       "      <th>stay_id</th>\n",
       "      <th>time</th>\n",
       "      <th>aki_stage_uo</th>\n",
       "      <th>aki_stage_creat</th>\n",
       "      <th>aki_stage</th>\n",
       "    </tr>\n",
       "  </thead>\n",
       "  <tbody>\n",
       "    <tr>\n",
       "      <th>30</th>\n",
       "      <td>243208.0</td>\n",
       "      <td>0</td>\n",
       "      <td>3.0</td>\n",
       "      <td>0.0</td>\n",
       "      <td>3.0</td>\n",
       "    </tr>\n",
       "    <tr>\n",
       "      <th>31</th>\n",
       "      <td>243208.0</td>\n",
       "      <td>1</td>\n",
       "      <td>3.0</td>\n",
       "      <td>0.0</td>\n",
       "      <td>3.0</td>\n",
       "    </tr>\n",
       "    <tr>\n",
       "      <th>32</th>\n",
       "      <td>243208.0</td>\n",
       "      <td>2</td>\n",
       "      <td>2.0</td>\n",
       "      <td>0.0</td>\n",
       "      <td>2.0</td>\n",
       "    </tr>\n",
       "  </tbody>\n",
       "</table>\n",
       "</div>"
      ],
      "text/plain": [
       "     stay_id  time  aki_stage_uo  aki_stage_creat  aki_stage\n",
       "30  243208.0     0           3.0              0.0        3.0\n",
       "31  243208.0     1           3.0              0.0        3.0\n",
       "32  243208.0     2           2.0              0.0        2.0"
      ]
     },
     "execution_count": 4,
     "metadata": {},
     "output_type": "execute_result"
    }
   ],
   "source": [
    "## Obtain the maximum stages defined by urine volume or creatinine at each time point\n",
    "df_stage = pd.read_csv(\"/public/hanl/jupyter_dir/kidney_sepsis_penotype_v3/00.data_eicu/disease_definition/AKI/eicu_kdigo_stages_based_time.csv\")\n",
    "df_stage = df_stage[df_stage['time']>=0]\n",
    "df_stage = df_stage[df_stage[\"stay_id\"].isin(all_lst)]\n",
    "filt_id_lst = df_stage[df_stage[\"time\"]>=2].stay_id.unique()\n",
    "df_stage = df_stage[df_stage[\"stay_id\"].isin(filt_id_lst)]\n",
    "df_stage.head(3)"
   ]
  },
  {
   "cell_type": "code",
   "execution_count": null,
   "id": "d882506b",
   "metadata": {
    "ExecuteTime": {
     "end_time": "2024-03-25T08:51:07.048556Z",
     "start_time": "2024-03-25T08:51:02.863796Z"
    }
   },
   "outputs": [
    {
     "name": "stdout",
     "output_type": "stream",
     "text": [
      "aki_stage_creat\n"
     ]
    },
    {
     "name": "stderr",
     "output_type": "stream",
     "text": [
      "/home/hanl/miniconda3/envs/mytensor/lib/python3.9/site-packages/ipykernel/ipkernel.py:287: DeprecationWarning: `should_run_async` will not call `transform_cell` automatically in the future. Please pass the result to `transformed_cell` argument and any exception that happen during thetransform in `preprocessing_exc_tuple` in IPython 7.17 and above.\n",
      "  and should_run_async(code)\n"
     ]
    },
    {
     "name": "stdout",
     "output_type": "stream",
     "text": [
      "aki_stage_uo\n",
      "aki_stage\n"
     ]
    },
    {
     "data": {
      "text/html": [
       "<div>\n",
       "<style scoped>\n",
       "    .dataframe tbody tr th:only-of-type {\n",
       "        vertical-align: middle;\n",
       "    }\n",
       "\n",
       "    .dataframe tbody tr th {\n",
       "        vertical-align: top;\n",
       "    }\n",
       "\n",
       "    .dataframe thead th {\n",
       "        text-align: right;\n",
       "    }\n",
       "</style>\n",
       "<table border=\"1\" class=\"dataframe\">\n",
       "  <thead>\n",
       "    <tr style=\"text-align: right;\">\n",
       "      <th></th>\n",
       "      <th>stay_id</th>\n",
       "      <th>time</th>\n",
       "      <th>aki_stage_uo</th>\n",
       "      <th>aki_stage_creat</th>\n",
       "      <th>aki_stage</th>\n",
       "      <th>state_crea_start</th>\n",
       "      <th>state_crea_max</th>\n",
       "      <th>state_crea_end</th>\n",
       "      <th>state_uo_start</th>\n",
       "      <th>state_uo_max</th>\n",
       "      <th>state_uo_end</th>\n",
       "      <th>state_start</th>\n",
       "      <th>state_max</th>\n",
       "      <th>state_end</th>\n",
       "    </tr>\n",
       "  </thead>\n",
       "  <tbody>\n",
       "    <tr>\n",
       "      <th>0</th>\n",
       "      <td>243208.0</td>\n",
       "      <td>0</td>\n",
       "      <td>3.0</td>\n",
       "      <td>0.0</td>\n",
       "      <td>3.0</td>\n",
       "      <td>0.0</td>\n",
       "      <td>0.0</td>\n",
       "      <td>0.0</td>\n",
       "      <td>3.0</td>\n",
       "      <td>3.0</td>\n",
       "      <td>2.0</td>\n",
       "      <td>3.0</td>\n",
       "      <td>3.0</td>\n",
       "      <td>0</td>\n",
       "    </tr>\n",
       "    <tr>\n",
       "      <th>1</th>\n",
       "      <td>243208.0</td>\n",
       "      <td>1</td>\n",
       "      <td>3.0</td>\n",
       "      <td>0.0</td>\n",
       "      <td>3.0</td>\n",
       "      <td>0.0</td>\n",
       "      <td>0.0</td>\n",
       "      <td>0.0</td>\n",
       "      <td>3.0</td>\n",
       "      <td>3.0</td>\n",
       "      <td>2.0</td>\n",
       "      <td>3.0</td>\n",
       "      <td>3.0</td>\n",
       "      <td>0</td>\n",
       "    </tr>\n",
       "  </tbody>\n",
       "</table>\n",
       "</div>"
      ],
      "text/plain": [
       "    stay_id  time  aki_stage_uo  aki_stage_creat  aki_stage  state_crea_start  \\\n",
       "0  243208.0     0           3.0              0.0        3.0               0.0   \n",
       "1  243208.0     1           3.0              0.0        3.0               0.0   \n",
       "\n",
       "   state_crea_max  state_crea_end  state_uo_start  state_uo_max  state_uo_end  \\\n",
       "0             0.0             0.0             3.0           3.0           2.0   \n",
       "1             0.0             0.0             3.0           3.0           2.0   \n",
       "\n",
       "   state_start  state_max  state_end  \n",
       "0          3.0        3.0          0  \n",
       "1          3.0        3.0          0  "
      ]
     },
     "execution_count": 5,
     "metadata": {},
     "output_type": "execute_result"
    }
   ],
   "source": [
    "## Obtain the change process\n",
    "ss = \"aki_stage_creat\"  \n",
    "print(ss)\n",
    "tmp_df = pd.DataFrame(columns=[\"stay_id\", \"state_crea_start\", \"state_crea_max\", \"state_crea_end\"])\n",
    "for i,j in df_stage.groupby([\"stay_id\"]):\n",
    "    sstart = j[j[\"time\"]==0][ss].tolist()[0]\n",
    "    smax = sorted(j[ss].tolist()[1:-1])[-1]\n",
    "    send = j[ss].tolist()[-1] \n",
    "    tmp_df.loc[len(tmp_df)] = [i[0], sstart, smax, send]\n",
    "df = pd.merge(df_stage, tmp_df, how=\"inner\",on=\"stay_id\")\n",
    "\n",
    "ss = \"aki_stage_uo\"  \n",
    "print(ss)\n",
    "tmp_df = pd.DataFrame(columns=[\"stay_id\", \"state_uo_start\", \"state_uo_max\", \"state_uo_end\"])\n",
    "for i,j in df_stage.groupby([\"stay_id\"]):\n",
    "    sstart = j[j[\"time\"]==0][ss].tolist()[0]\n",
    "    smax = sorted(j[ss].tolist()[1:-1])[-1]\n",
    "    send = j[ss].tolist()[-1] \n",
    "    tmp_df.loc[len(tmp_df)] = [i[0], sstart, smax, send]\n",
    "df = pd.merge(df, tmp_df, how=\"inner\",on=\"stay_id\")\n",
    "\n",
    "ss = \"aki_stage\" \n",
    "print(ss)\n",
    "tmp_df = pd.DataFrame(columns=[\"stay_id\", \"state_start\", \"state_max\", \"state_end\"])\n",
    "for i,j in df_stage.groupby([\"stay_id\"]):\n",
    "    sstart = j[j[\"time\"]==0][ss].tolist()[0]\n",
    "    smax = sorted(j[ss].tolist()[1:-1])[-1]\n",
    "    send = j[ss].tolist()[-1] \n",
    "    tmp_df.loc[len(tmp_df)] = [i[0], sstart, smax, send]\n",
    "df = pd.merge(df, tmp_df, how=\"inner\",on=\"stay_id\")\n",
    "\n",
    "#Replace the final status of the AKI disease course\n",
    "df = df.drop([\"state_end\"],axis=1)\n",
    "tmp_df = df_time[[\"stay_id\",\"aki_endstage\"]]\n",
    "tmp_df.columns = [\"stay_id\",\"state_end\"]\n",
    "df = pd.merge(df, tmp_df,how=\"left\",on=\"stay_id\")\n",
    "df.head(2)"
   ]
  },
  {
   "cell_type": "markdown",
   "id": "ca906ded",
   "metadata": {},
   "source": [
    "## Define the change process by getting better/getting worse/remaining unchanged\n",
    "- The first point: The state when time = 1\n",
    "- The second point: The point with the largest number of stages throughout the entire process\n",
    "- The third point: A state where there are more than five points from the end"
   ]
  },
  {
   "cell_type": "code",
   "execution_count": 6,
   "id": "e4685e55",
   "metadata": {
    "ExecuteTime": {
     "end_time": "2024-03-25T08:51:07.096420Z",
     "start_time": "2024-03-25T08:51:07.049743Z"
    }
   },
   "outputs": [
    {
     "name": "stderr",
     "output_type": "stream",
     "text": [
      "/home/hanl/miniconda3/envs/mytensor/lib/python3.9/site-packages/ipykernel/ipkernel.py:287: DeprecationWarning: `should_run_async` will not call `transform_cell` automatically in the future. Please pass the result to `transformed_cell` argument and any exception that happen during thetransform in `preprocessing_exc_tuple` in IPython 7.17 and above.\n",
      "  and should_run_async(code)\n"
     ]
    }
   ],
   "source": [
    "df_cut = df[['stay_id','time','state_crea_start', 'state_crea_max', 'state_crea_end', 'state_uo_start',\n",
    "             'state_uo_max', 'state_uo_end','state_start','state_max', 'state_end']].drop_duplicates()\n",
    "\n",
    "#################\n",
    "t0 = \"state_crea_start\"\n",
    "tm = \"state_crea_max\"\n",
    "t1 = \"state_crea_end\"\n",
    "tc = \"state_crea_change\"\n",
    "# B\n",
    "df_cut.loc[ (df_cut[tm] >= df_cut[t0]) &  (df_cut[tm] >= df_cut[t1]) & (df_cut[t1]==0), tc] = \"CB\"\n",
    "df_cut.loc[ (df_cut[tm] >= df_cut[t0]) &  (df_cut[tm] >= df_cut[t1]) & (df_cut[t1]!=0), tc] = \"PB\"\n",
    "df_cut.loc[ (df_cut[tm] <= df_cut[t0]) &  (df_cut[t1] <= df_cut[tm]) & (df_cut[t1]!=0), tc] = \"PB\"\n",
    "df_cut.loc[ (df_cut[tm] <= df_cut[t0]) &  (df_cut[t1] <= df_cut[tm]) & (df_cut[t1]==0), tc] = \"CB\"\n",
    "\n",
    "# W\n",
    "df_cut.loc[ (df_cut[tm] >= df_cut[t0]) &  (df_cut[t1] >= df_cut[tm]),tc] = \"W\"\n",
    "# S\n",
    "df_cut.loc[ (df_cut[tm] == df_cut[t0]) &  (df_cut[t1] == df_cut[tm]),tc] = \"S\"\n",
    "\n",
    "#################\n",
    "t0 = \"state_uo_start\"\n",
    "tm = \"state_uo_max\"\n",
    "t1 = \"state_uo_end\"\n",
    "tc = \"state_uo_change\"\n",
    "# B\n",
    "df_cut.loc[ (df_cut[tm] >= df_cut[t0]) &  (df_cut[tm] >= df_cut[t1]) & (df_cut[t1]==0), tc] = \"CB\"\n",
    "df_cut.loc[ (df_cut[tm] >= df_cut[t0]) &  (df_cut[tm] >= df_cut[t1]) & (df_cut[t1]!=0), tc] = \"PB\"\n",
    "df_cut.loc[ (df_cut[tm] <= df_cut[t0]) &  (df_cut[t1] <= df_cut[tm]) & (df_cut[t1]!=0), tc] = \"PB\"\n",
    "df_cut.loc[ (df_cut[tm] <= df_cut[t0]) &  (df_cut[t1] <= df_cut[tm]) & (df_cut[t1]==0), tc] = \"CB\"\n",
    "\n",
    "# W\n",
    "df_cut.loc[ (df_cut[tm] >= df_cut[t0]) &  (df_cut[t1] >= df_cut[tm]),tc] = \"W\"\n",
    "# S\n",
    "df_cut.loc[ (df_cut[tm] == df_cut[t0]) &  (df_cut[t1] == df_cut[tm]),tc] = \"S\"\n",
    "\n",
    "#################\n",
    "t0 = \"state_start\"\n",
    "tm = \"state_max\"\n",
    "t1 = \"state_end\"\n",
    "tc = \"state_change\"\n",
    "# B\n",
    "df_cut.loc[ (df_cut[tm] >= df_cut[t0]) &  (df_cut[tm] >= df_cut[t1]) & (df_cut[t1]==0), tc] = \"CB\"\n",
    "df_cut.loc[ (df_cut[tm] >= df_cut[t0]) &  (df_cut[tm] >= df_cut[t1]) & (df_cut[t1]!=0), tc] = \"PB\"\n",
    "df_cut.loc[ (df_cut[tm] <= df_cut[t0]) &  (df_cut[t1] <= df_cut[tm]) & (df_cut[t1]!=0), tc] = \"PB\"\n",
    "df_cut.loc[ (df_cut[tm] <= df_cut[t0]) &  (df_cut[t1] <= df_cut[tm]) & (df_cut[t1]==0), tc] = \"CB\"\n",
    "\n",
    "# W\n",
    "df_cut.loc[ (df_cut[tm] >= df_cut[t0]) &  (df_cut[t1] >= df_cut[tm]),tc] = \"W\"\n",
    "# S\n",
    "df_cut.loc[ (df_cut[tm] == df_cut[t0]) &  (df_cut[t1] == df_cut[tm]),tc] = \"S\"\n",
    "df_cut = df_cut[['stay_id','state_crea_change','state_uo_change', 'state_change']].drop_duplicates()\n"
   ]
  },
  {
   "cell_type": "code",
   "execution_count": 7,
   "id": "3d983d9e",
   "metadata": {
    "ExecuteTime": {
     "end_time": "2024-03-25T08:51:07.112298Z",
     "start_time": "2024-03-25T08:51:07.097925Z"
    }
   },
   "outputs": [
    {
     "name": "stderr",
     "output_type": "stream",
     "text": [
      "/home/hanl/miniconda3/envs/mytensor/lib/python3.9/site-packages/ipykernel/ipkernel.py:287: DeprecationWarning: `should_run_async` will not call `transform_cell` automatically in the future. Please pass the result to `transformed_cell` argument and any exception that happen during thetransform in `preprocessing_exc_tuple` in IPython 7.17 and above.\n",
      "  and should_run_async(code)\n"
     ]
    }
   ],
   "source": [
    "def determine_state_change(row):\n",
    "    if pd.isna(row['state_change']):\n",
    "        if pd.notna(row['state_crea_change']) and pd.notna(row['state_uo_change']):\n",
    "            if row['state_crea_change'] == row['state_uo_change']:\n",
    "                return row['state_crea_change']\n",
    "            else:\n",
    "                return 'S'\n",
    "        else:\n",
    "            return 'S'\n",
    "    else:\n",
    "        return row['state_change']\n",
    "\n",
    "df_cut['state_change'] = df_cut.apply(determine_state_change, axis=1)"
   ]
  },
  {
   "cell_type": "code",
   "execution_count": 8,
   "id": "e7b0c135",
   "metadata": {
    "ExecuteTime": {
     "end_time": "2024-03-25T08:51:07.115104Z",
     "start_time": "2024-03-25T08:51:07.113265Z"
    },
    "run_control": {
     "marked": true
    }
   },
   "outputs": [
    {
     "name": "stderr",
     "output_type": "stream",
     "text": [
      "/home/hanl/miniconda3/envs/mytensor/lib/python3.9/site-packages/ipykernel/ipkernel.py:287: DeprecationWarning: `should_run_async` will not call `transform_cell` automatically in the future. Please pass the result to `transformed_cell` argument and any exception that happen during thetransform in `preprocessing_exc_tuple` in IPython 7.17 and above.\n",
      "  and should_run_async(code)\n"
     ]
    }
   ],
   "source": [
    "# df_cut1 = pd.merge(df_cut,df_type_filt, how=\"inner\",on=\"stay_id\")\n",
    "# df_type_filt_count = pd.DataFrame(df_type_filt.groupHPD.value_counts()).reset_index()\n",
    "# df_type_filt_count.columns = [\"groupHPD\",\"count\"]\n",
    "\n",
    "# fea = \"state_change\" \n",
    "# print(fea)\n",
    "# ##\n",
    "# tmp_df = pd.DataFrame(df_cut1[df_cut1[\"groupHPD\"]==3][[fea]].value_counts()).reset_index()\n",
    "# tmp_df[\"groupHPD\"]=3\n",
    "# df_out = tmp_df\n",
    "\n",
    "# tmp_df = pd.DataFrame(df_cut1[df_cut1[\"groupHPD\"]==2][[fea]].value_counts()).reset_index()\n",
    "# tmp_df[\"groupHPD\"]=2\n",
    "# df_out = pd.concat([df_out,tmp_df],axis=0)\n",
    "\n",
    "# tmp_df = pd.DataFrame(df_cut1[df_cut1[\"groupHPD\"]==1][[fea]].value_counts()).reset_index()\n",
    "# tmp_df[\"groupHPD\"]=1\n",
    "# df_out = pd.concat([df_out,tmp_df],axis=0)\n",
    "# df_out = df_out.sort_values([\"groupHPD\"])\n",
    "# df_out = pd.merge(df_out,df_type_filt_count, how=\"inner\",on=\"groupHPD\")\n",
    "# df_out[\"percent\"] = round(df_out[0] /df_out[\"count\"] *100,2)\n",
    "# df_out.columns = ['type', 0, 'groupHPD', 'count', 'percent']\n",
    "# df_out.head(2)"
   ]
  },
  {
   "cell_type": "code",
   "execution_count": 9,
   "id": "0c9f84bb",
   "metadata": {
    "ExecuteTime": {
     "end_time": "2024-03-25T08:51:07.118849Z",
     "start_time": "2024-03-25T08:51:07.116715Z"
    }
   },
   "outputs": [
    {
     "name": "stderr",
     "output_type": "stream",
     "text": [
      "/home/hanl/miniconda3/envs/mytensor/lib/python3.9/site-packages/ipykernel/ipkernel.py:287: DeprecationWarning: `should_run_async` will not call `transform_cell` automatically in the future. Please pass the result to `transformed_cell` argument and any exception that happen during thetransform in `preprocessing_exc_tuple` in IPython 7.17 and above.\n",
      "  and should_run_async(code)\n"
     ]
    }
   ],
   "source": [
    "# df_out[\"dataset\"] = \"eICU\"\n",
    "# df_out.columns = ['type', 'count', 'groupHPD', 'count_all', 'percent', 'dataset']\n",
    "# df_out.to_csv(\"./result/eICU_renal_recovery_1.csv\",index=False)\n",
    "# df_out.head()"
   ]
  },
  {
   "cell_type": "code",
   "execution_count": null,
   "id": "322dcf2c",
   "metadata": {
    "ExecuteTime": {
     "end_time": "2024-03-25T08:51:07.122244Z",
     "start_time": "2024-03-25T08:51:07.119949Z"
    }
   },
   "outputs": [
    {
     "name": "stderr",
     "output_type": "stream",
     "text": [
      "/home/hanl/miniconda3/envs/mytensor/lib/python3.9/site-packages/ipykernel/ipkernel.py:287: DeprecationWarning: `should_run_async` will not call `transform_cell` automatically in the future. Please pass the result to `transformed_cell` argument and any exception that happen during thetransform in `preprocessing_exc_tuple` in IPython 7.17 and above.\n",
      "  and should_run_async(code)\n"
     ]
    }
   ],
   "source": [
    "# The distribution of AKI grades at the time of diagnosis in the three groups\n",
    "# y1 = df_out[df_out[\"type\"]==\"S\"][\"percent\"].tolist()\n",
    "# y2 = df_out[df_out[\"type\"]==\"CB\"][\"percent\"].tolist()\n",
    "# y3 = df_out[df_out[\"type\"]==\"PB\"][\"percent\"].tolist()\n",
    "# y4 = df_out[df_out[\"type\"]==\"W\"][\"percent\"].tolist()\n",
    "\n",
    "# x = [\"C1\",\"C2\",\"C3\"]\n",
    "# y1 = np.array(y1)\n",
    "# y2 = np.array(y2)\n",
    "# y3 = np.array(y3)\n",
    "# y4 = np.array(y4)\n",
    "\n",
    "# plt.figure(figsize=(12, 6))\n",
    "# plt.bar(x,y1,width=0.4,label='steady',color='#ffffb3',edgecolor='grey')\n",
    "# plt.bar(x,y2,width=0.4,bottom=y1,label='full recovery',color='#74c476',edgecolor='grey')\n",
    "# plt.bar(x,y3,width=0.4,bottom=y1+y2,label='partial recovery',color='#bcbddc',edgecolor='grey')\n",
    "# plt.bar(x,y4,width=0.4,bottom=y1+y2+y3,label='worsen',color='#fd8d3c',edgecolor='grey')\n",
    "\n",
    "# plt.yticks(np.arange(0,110,20),[f'{i}%' for i in range(0,120,20)])\n",
    "# plt.grid(axis='y',alpha=0.5,ls='--')\n",
    "\n",
    "# plt.legend(frameon=False,bbox_to_anchor=(1.01,1))\n",
    "# plt.title(fea)\n",
    "# plt.tight_layout()\n",
    "# plt.show()"
   ]
  },
  {
   "cell_type": "markdown",
   "id": "76525946",
   "metadata": {},
   "source": [
    "# Recovery Mode determination\n",
    "- Recovery within 3 days/Recovery within 7 days/No recovery within 7 days"
   ]
  },
  {
   "cell_type": "code",
   "execution_count": 11,
   "id": "bb401314",
   "metadata": {
    "ExecuteTime": {
     "end_time": "2024-03-25T08:51:07.139243Z",
     "start_time": "2024-03-25T08:51:07.123066Z"
    },
    "run_control": {
     "marked": true
    }
   },
   "outputs": [
    {
     "name": "stderr",
     "output_type": "stream",
     "text": [
      "/home/hanl/miniconda3/envs/mytensor/lib/python3.9/site-packages/ipykernel/ipkernel.py:287: DeprecationWarning: `should_run_async` will not call `transform_cell` automatically in the future. Please pass the result to `transformed_cell` argument and any exception that happen during thetransform in `preprocessing_exc_tuple` in IPython 7.17 and above.\n",
      "  and should_run_async(code)\n"
     ]
    },
    {
     "data": {
      "text/html": [
       "<div>\n",
       "<style scoped>\n",
       "    .dataframe tbody tr th:only-of-type {\n",
       "        vertical-align: middle;\n",
       "    }\n",
       "\n",
       "    .dataframe tbody tr th {\n",
       "        vertical-align: top;\n",
       "    }\n",
       "\n",
       "    .dataframe thead th {\n",
       "        text-align: right;\n",
       "    }\n",
       "</style>\n",
       "<table border=\"1\" class=\"dataframe\">\n",
       "  <thead>\n",
       "    <tr style=\"text-align: right;\">\n",
       "      <th></th>\n",
       "      <th>stay_id</th>\n",
       "      <th>state_change</th>\n",
       "      <th>los_saaki</th>\n",
       "      <th>stayid_state</th>\n",
       "    </tr>\n",
       "  </thead>\n",
       "  <tbody>\n",
       "    <tr>\n",
       "      <th>0</th>\n",
       "      <td>243208.0</td>\n",
       "      <td>CB</td>\n",
       "      <td>34.0</td>\n",
       "      <td>Rapidly revered AKI</td>\n",
       "    </tr>\n",
       "  </tbody>\n",
       "</table>\n",
       "</div>"
      ],
      "text/plain": [
       "    stay_id state_change  los_saaki         stayid_state\n",
       "0  243208.0           CB       34.0  Rapidly revered AKI"
      ]
     },
     "execution_count": 11,
     "metadata": {},
     "output_type": "execute_result"
    }
   ],
   "source": [
    "df_ = df_cut[[\"stay_id\",\"state_change\"]].drop_duplicates()\n",
    "df_ = pd.merge(df_,df_time[[\"stay_id\",\"los_saaki\"]],how=\"inner\",on=\"stay_id\")\n",
    "\n",
    "df_.loc[(df_[\"state_change\"]==\"CB\") & (df_[\"los_saaki\"]<=48),\"stayid_state\"] = \"Rapidly revered AKI\"\n",
    "df_.loc[(df_[\"state_change\"]==\"CB\") & (df_[\"los_saaki\"]>48),\"stayid_state\"] = \"Persistent AKI with full renal recovery\"\n",
    "df_.loc[(df_[\"state_change\"]==\"PB\"),\"stayid_state\"] = \"Persistent AKI with partial renal recovery\"\n",
    "df_.loc[(df_[\"state_change\"]==\"W\"),\"stayid_state\"] = \"Persistent AKI with worsening renal function\"\n",
    "df_.loc[(df_[\"state_change\"]==\"S\"),\"stayid_state\"] = \"Persistent AKI with worsening renal function\" #\"Persistent AKI with steady renal function\"\n",
    "df_stayid_s = df_\n",
    "df_.head(1)"
   ]
  },
  {
   "cell_type": "code",
   "execution_count": 12,
   "id": "d6b707be",
   "metadata": {
    "ExecuteTime": {
     "end_time": "2024-03-25T08:51:07.158216Z",
     "start_time": "2024-03-25T08:51:07.140410Z"
    }
   },
   "outputs": [
    {
     "name": "stderr",
     "output_type": "stream",
     "text": [
      "/home/hanl/miniconda3/envs/mytensor/lib/python3.9/site-packages/ipykernel/ipkernel.py:287: DeprecationWarning: `should_run_async` will not call `transform_cell` automatically in the future. Please pass the result to `transformed_cell` argument and any exception that happen during thetransform in `preprocessing_exc_tuple` in IPython 7.17 and above.\n",
      "  and should_run_async(code)\n"
     ]
    },
    {
     "data": {
      "text/html": [
       "<div>\n",
       "<style scoped>\n",
       "    .dataframe tbody tr th:only-of-type {\n",
       "        vertical-align: middle;\n",
       "    }\n",
       "\n",
       "    .dataframe tbody tr th {\n",
       "        vertical-align: top;\n",
       "    }\n",
       "\n",
       "    .dataframe thead th {\n",
       "        text-align: right;\n",
       "    }\n",
       "</style>\n",
       "<table border=\"1\" class=\"dataframe\">\n",
       "  <thead>\n",
       "    <tr style=\"text-align: right;\">\n",
       "      <th></th>\n",
       "      <th>groupHPD</th>\n",
       "      <th>stayid_state</th>\n",
       "      <th>stay_id</th>\n",
       "      <th>count_all</th>\n",
       "      <th>percent(%)</th>\n",
       "    </tr>\n",
       "  </thead>\n",
       "  <tbody>\n",
       "    <tr>\n",
       "      <th>0</th>\n",
       "      <td>1</td>\n",
       "      <td>Persistent AKI with full renal recovery</td>\n",
       "      <td>144</td>\n",
       "      <td>423</td>\n",
       "      <td>34.04</td>\n",
       "    </tr>\n",
       "    <tr>\n",
       "      <th>1</th>\n",
       "      <td>1</td>\n",
       "      <td>Persistent AKI with partial renal recovery</td>\n",
       "      <td>80</td>\n",
       "      <td>423</td>\n",
       "      <td>18.91</td>\n",
       "    </tr>\n",
       "    <tr>\n",
       "      <th>2</th>\n",
       "      <td>1</td>\n",
       "      <td>Persistent AKI with worsening renal function</td>\n",
       "      <td>79</td>\n",
       "      <td>423</td>\n",
       "      <td>18.68</td>\n",
       "    </tr>\n",
       "    <tr>\n",
       "      <th>3</th>\n",
       "      <td>1</td>\n",
       "      <td>Rapidly revered AKI</td>\n",
       "      <td>117</td>\n",
       "      <td>423</td>\n",
       "      <td>27.66</td>\n",
       "    </tr>\n",
       "    <tr>\n",
       "      <th>4</th>\n",
       "      <td>2</td>\n",
       "      <td>Persistent AKI with full renal recovery</td>\n",
       "      <td>272</td>\n",
       "      <td>869</td>\n",
       "      <td>31.30</td>\n",
       "    </tr>\n",
       "    <tr>\n",
       "      <th>5</th>\n",
       "      <td>2</td>\n",
       "      <td>Persistent AKI with partial renal recovery</td>\n",
       "      <td>83</td>\n",
       "      <td>869</td>\n",
       "      <td>9.55</td>\n",
       "    </tr>\n",
       "    <tr>\n",
       "      <th>6</th>\n",
       "      <td>2</td>\n",
       "      <td>Persistent AKI with worsening renal function</td>\n",
       "      <td>179</td>\n",
       "      <td>869</td>\n",
       "      <td>20.60</td>\n",
       "    </tr>\n",
       "    <tr>\n",
       "      <th>7</th>\n",
       "      <td>2</td>\n",
       "      <td>Rapidly revered AKI</td>\n",
       "      <td>316</td>\n",
       "      <td>869</td>\n",
       "      <td>36.36</td>\n",
       "    </tr>\n",
       "    <tr>\n",
       "      <th>8</th>\n",
       "      <td>3</td>\n",
       "      <td>Persistent AKI with full renal recovery</td>\n",
       "      <td>6</td>\n",
       "      <td>125</td>\n",
       "      <td>4.80</td>\n",
       "    </tr>\n",
       "    <tr>\n",
       "      <th>9</th>\n",
       "      <td>3</td>\n",
       "      <td>Persistent AKI with partial renal recovery</td>\n",
       "      <td>40</td>\n",
       "      <td>125</td>\n",
       "      <td>32.00</td>\n",
       "    </tr>\n",
       "    <tr>\n",
       "      <th>10</th>\n",
       "      <td>3</td>\n",
       "      <td>Persistent AKI with worsening renal function</td>\n",
       "      <td>77</td>\n",
       "      <td>125</td>\n",
       "      <td>61.60</td>\n",
       "    </tr>\n",
       "    <tr>\n",
       "      <th>11</th>\n",
       "      <td>3</td>\n",
       "      <td>Rapidly revered AKI</td>\n",
       "      <td>2</td>\n",
       "      <td>125</td>\n",
       "      <td>1.60</td>\n",
       "    </tr>\n",
       "  </tbody>\n",
       "</table>\n",
       "</div>"
      ],
      "text/plain": [
       "    groupHPD                                  stayid_state  stay_id  \\\n",
       "0          1       Persistent AKI with full renal recovery      144   \n",
       "1          1    Persistent AKI with partial renal recovery       80   \n",
       "2          1  Persistent AKI with worsening renal function       79   \n",
       "3          1                           Rapidly revered AKI      117   \n",
       "4          2       Persistent AKI with full renal recovery      272   \n",
       "5          2    Persistent AKI with partial renal recovery       83   \n",
       "6          2  Persistent AKI with worsening renal function      179   \n",
       "7          2                           Rapidly revered AKI      316   \n",
       "8          3       Persistent AKI with full renal recovery        6   \n",
       "9          3    Persistent AKI with partial renal recovery       40   \n",
       "10         3  Persistent AKI with worsening renal function       77   \n",
       "11         3                           Rapidly revered AKI        2   \n",
       "\n",
       "    count_all  percent(%)  \n",
       "0         423       34.04  \n",
       "1         423       18.91  \n",
       "2         423       18.68  \n",
       "3         423       27.66  \n",
       "4         869       31.30  \n",
       "5         869        9.55  \n",
       "6         869       20.60  \n",
       "7         869       36.36  \n",
       "8         125        4.80  \n",
       "9         125       32.00  \n",
       "10        125       61.60  \n",
       "11        125        1.60  "
      ]
     },
     "execution_count": 12,
     "metadata": {},
     "output_type": "execute_result"
    }
   ],
   "source": [
    "df_count_all = pd.DataFrame(df_type_filt[\"groupHPD\"].value_counts()).reset_index()\n",
    "df_count_all.columns = [\"groupHPD\", \"count_all\"]\n",
    "\n",
    "tmp_df = pd.merge(df_stayid_s,df_type_filt, how=\"inner\",on=\"stay_id\")\n",
    "tmp_df = tmp_df.groupby([\"groupHPD\",\"stayid_state\"]).agg({\"stay_id\":\"count\"}).reset_index()\n",
    "tmp_df = pd.merge(tmp_df,df_count_all, how=\"inner\",on=\"groupHPD\")\n",
    "tmp_df[\"percent(%)\"] = round(tmp_df[\"stay_id\"]/tmp_df[\"count_all\"]*100,2)\n",
    "tmp_df.sort_values([\"groupHPD\",'stayid_state'])"
   ]
  },
  {
   "cell_type": "code",
   "execution_count": 13,
   "id": "a3a5f310",
   "metadata": {
    "ExecuteTime": {
     "end_time": "2024-03-25T08:51:07.169972Z",
     "start_time": "2024-03-25T08:51:07.159290Z"
    }
   },
   "outputs": [
    {
     "name": "stderr",
     "output_type": "stream",
     "text": [
      "/home/hanl/miniconda3/envs/mytensor/lib/python3.9/site-packages/ipykernel/ipkernel.py:287: DeprecationWarning: `should_run_async` will not call `transform_cell` automatically in the future. Please pass the result to `transformed_cell` argument and any exception that happen during thetransform in `preprocessing_exc_tuple` in IPython 7.17 and above.\n",
      "  and should_run_async(code)\n"
     ]
    },
    {
     "data": {
      "text/html": [
       "<div>\n",
       "<style scoped>\n",
       "    .dataframe tbody tr th:only-of-type {\n",
       "        vertical-align: middle;\n",
       "    }\n",
       "\n",
       "    .dataframe tbody tr th {\n",
       "        vertical-align: top;\n",
       "    }\n",
       "\n",
       "    .dataframe thead th {\n",
       "        text-align: right;\n",
       "    }\n",
       "</style>\n",
       "<table border=\"1\" class=\"dataframe\">\n",
       "  <thead>\n",
       "    <tr style=\"text-align: right;\">\n",
       "      <th></th>\n",
       "      <th>groupHPD</th>\n",
       "      <th>stayid_state</th>\n",
       "      <th>stay_id</th>\n",
       "      <th>count_all</th>\n",
       "      <th>percent(%)</th>\n",
       "      <th>dataset</th>\n",
       "    </tr>\n",
       "  </thead>\n",
       "  <tbody>\n",
       "    <tr>\n",
       "      <th>0</th>\n",
       "      <td>1</td>\n",
       "      <td>Persistent AKI with full renal recovery</td>\n",
       "      <td>144</td>\n",
       "      <td>423</td>\n",
       "      <td>34.04</td>\n",
       "      <td>eICU</td>\n",
       "    </tr>\n",
       "    <tr>\n",
       "      <th>1</th>\n",
       "      <td>1</td>\n",
       "      <td>Persistent AKI with partial renal recovery</td>\n",
       "      <td>80</td>\n",
       "      <td>423</td>\n",
       "      <td>18.91</td>\n",
       "      <td>eICU</td>\n",
       "    </tr>\n",
       "    <tr>\n",
       "      <th>2</th>\n",
       "      <td>1</td>\n",
       "      <td>Persistent AKI with worsening renal function</td>\n",
       "      <td>79</td>\n",
       "      <td>423</td>\n",
       "      <td>18.68</td>\n",
       "      <td>eICU</td>\n",
       "    </tr>\n",
       "    <tr>\n",
       "      <th>3</th>\n",
       "      <td>1</td>\n",
       "      <td>Rapidly revered AKI</td>\n",
       "      <td>117</td>\n",
       "      <td>423</td>\n",
       "      <td>27.66</td>\n",
       "      <td>eICU</td>\n",
       "    </tr>\n",
       "    <tr>\n",
       "      <th>4</th>\n",
       "      <td>2</td>\n",
       "      <td>Persistent AKI with full renal recovery</td>\n",
       "      <td>272</td>\n",
       "      <td>869</td>\n",
       "      <td>31.30</td>\n",
       "      <td>eICU</td>\n",
       "    </tr>\n",
       "    <tr>\n",
       "      <th>5</th>\n",
       "      <td>2</td>\n",
       "      <td>Persistent AKI with partial renal recovery</td>\n",
       "      <td>83</td>\n",
       "      <td>869</td>\n",
       "      <td>9.55</td>\n",
       "      <td>eICU</td>\n",
       "    </tr>\n",
       "    <tr>\n",
       "      <th>6</th>\n",
       "      <td>2</td>\n",
       "      <td>Persistent AKI with worsening renal function</td>\n",
       "      <td>179</td>\n",
       "      <td>869</td>\n",
       "      <td>20.60</td>\n",
       "      <td>eICU</td>\n",
       "    </tr>\n",
       "    <tr>\n",
       "      <th>7</th>\n",
       "      <td>2</td>\n",
       "      <td>Rapidly revered AKI</td>\n",
       "      <td>316</td>\n",
       "      <td>869</td>\n",
       "      <td>36.36</td>\n",
       "      <td>eICU</td>\n",
       "    </tr>\n",
       "    <tr>\n",
       "      <th>8</th>\n",
       "      <td>3</td>\n",
       "      <td>Persistent AKI with full renal recovery</td>\n",
       "      <td>6</td>\n",
       "      <td>125</td>\n",
       "      <td>4.80</td>\n",
       "      <td>eICU</td>\n",
       "    </tr>\n",
       "    <tr>\n",
       "      <th>9</th>\n",
       "      <td>3</td>\n",
       "      <td>Persistent AKI with partial renal recovery</td>\n",
       "      <td>40</td>\n",
       "      <td>125</td>\n",
       "      <td>32.00</td>\n",
       "      <td>eICU</td>\n",
       "    </tr>\n",
       "    <tr>\n",
       "      <th>10</th>\n",
       "      <td>3</td>\n",
       "      <td>Persistent AKI with worsening renal function</td>\n",
       "      <td>77</td>\n",
       "      <td>125</td>\n",
       "      <td>61.60</td>\n",
       "      <td>eICU</td>\n",
       "    </tr>\n",
       "    <tr>\n",
       "      <th>11</th>\n",
       "      <td>3</td>\n",
       "      <td>Rapidly revered AKI</td>\n",
       "      <td>2</td>\n",
       "      <td>125</td>\n",
       "      <td>1.60</td>\n",
       "      <td>eICU</td>\n",
       "    </tr>\n",
       "  </tbody>\n",
       "</table>\n",
       "</div>"
      ],
      "text/plain": [
       "    groupHPD                                  stayid_state  stay_id  \\\n",
       "0          1       Persistent AKI with full renal recovery      144   \n",
       "1          1    Persistent AKI with partial renal recovery       80   \n",
       "2          1  Persistent AKI with worsening renal function       79   \n",
       "3          1                           Rapidly revered AKI      117   \n",
       "4          2       Persistent AKI with full renal recovery      272   \n",
       "5          2    Persistent AKI with partial renal recovery       83   \n",
       "6          2  Persistent AKI with worsening renal function      179   \n",
       "7          2                           Rapidly revered AKI      316   \n",
       "8          3       Persistent AKI with full renal recovery        6   \n",
       "9          3    Persistent AKI with partial renal recovery       40   \n",
       "10         3  Persistent AKI with worsening renal function       77   \n",
       "11         3                           Rapidly revered AKI        2   \n",
       "\n",
       "    count_all  percent(%) dataset  \n",
       "0         423       34.04    eICU  \n",
       "1         423       18.91    eICU  \n",
       "2         423       18.68    eICU  \n",
       "3         423       27.66    eICU  \n",
       "4         869       31.30    eICU  \n",
       "5         869        9.55    eICU  \n",
       "6         869       20.60    eICU  \n",
       "7         869       36.36    eICU  \n",
       "8         125        4.80    eICU  \n",
       "9         125       32.00    eICU  \n",
       "10        125       61.60    eICU  \n",
       "11        125        1.60    eICU  "
      ]
     },
     "execution_count": 13,
     "metadata": {},
     "output_type": "execute_result"
    }
   ],
   "source": [
    "tmp_df[\"dataset\"] = \"eICU\"\n",
    "tmp_df.to_csv(\"./result/eICU_renal_recovery_2.csv\",index=False)\n",
    "tmp_df"
   ]
  },
  {
   "cell_type": "code",
   "execution_count": null,
   "id": "407338b9",
   "metadata": {
    "ExecuteTime": {
     "end_time": "2024-03-25T08:51:07.481316Z",
     "start_time": "2024-03-25T08:51:07.170854Z"
    },
    "run_control": {
     "marked": true
    }
   },
   "outputs": [
    {
     "name": "stderr",
     "output_type": "stream",
     "text": [
      "/home/hanl/miniconda3/envs/mytensor/lib/python3.9/site-packages/ipykernel/ipkernel.py:287: DeprecationWarning: `should_run_async` will not call `transform_cell` automatically in the future. Please pass the result to `transformed_cell` argument and any exception that happen during thetransform in `preprocessing_exc_tuple` in IPython 7.17 and above.\n",
      "  and should_run_async(code)\n",
      "/home/hanl/miniconda3/envs/mytensor/lib/python3.9/site-packages/ipykernel/pylab/backend_inline.py:164: DeprecationWarning: `configure_inline_support` is deprecated since IPython 7.23, directly use `matplotlib_inline.backend_inline.configure_inline_support()`\n",
      "  configure_inline_support(ip, backend)\n"
     ]
    },
    {
     "data": {
      "image/png": "[encoded data removed]",
      "text/plain": [
       "<Figure size 1200x500 with 1 Axes>"
      ]
     },
     "metadata": {},
     "output_type": "display_data"
    }
   ],
   "source": [
    "#The distribution of AKI grades at the time of diagnosis in the three groups\n",
    "y1 = tmp_df[tmp_df[\"stayid_state\"]==\"Rapidly revered AKI\"].loc[:,[\"groupHPD\",\"percent(%)\"]].sort_values(\"groupHPD\")[\"percent(%)\"].tolist()\n",
    "y2 = tmp_df[tmp_df[\"stayid_state\"]==\"Persistent AKI with full renal recovery\"].loc[:,[\"groupHPD\",\"percent(%)\"]].sort_values(\"groupHPD\")[\"percent(%)\"].tolist()\n",
    "y3 = tmp_df[tmp_df[\"stayid_state\"]==\"Persistent AKI with partial renal recovery\"].loc[:,[\"groupHPD\",\"percent(%)\"]].sort_values(\"groupHPD\")[\"percent(%)\"].tolist()\n",
    "y4 = tmp_df[tmp_df[\"stayid_state\"]==\"Persistent AKI with worsening renal function\"].loc[:,[\"groupHPD\",\"percent(%)\"]].sort_values(\"groupHPD\")[\"percent(%)\"].tolist()\n",
    "#y5 = tmp_df[tmp_df[\"stayid_state\"]==\"Persistent AKI with worsening renal function\"].loc[:,[\"groupHPD\",\"percent(%)\"]].sort_values(\"groupHPD\")[\"percent(%)\"].tolist()\n",
    "\n",
    "x = [\"C1\",\"C2\",\"C3\"]\n",
    "y1 = np.array(y1)\n",
    "y2 = np.array(y2)\n",
    "y3 = np.array(y3)\n",
    "\n",
    "plt.figure(figsize=(12, 5)) \n",
    "plt.bar(x,y1,width=0.4,label='Rapidly revered AKI',color='#c7e9c0',edgecolor='grey')\n",
    "plt.bar(x,y2,width=0.4,bottom=y1,label='Persistent AKI with full renal recovery',color='#74c476',edgecolor='grey')\n",
    "plt.bar(x,y3,width=0.4,bottom=y1+y2,label='Persistent AKI with partial renal recovery',color='#bcbddc',edgecolor='grey')\n",
    "plt.bar(x,y4,width=0.4,bottom=y1+y2+y3,label='Persistent AKI with worsening renal function',color='#ffffb3',edgecolor='grey')\n",
    "#plt.bar(x,y5,width=0.4,bottom=y1+y2+y3+y4,label='Persistent AKI with worsening renal function',color='#fd8d3c',edgecolor='grey')\n",
    "\n",
    "plt.yticks(np.arange(0,120,20),[f'{i}%' for i in range(0,120,20)])\n",
    "plt.grid(axis='y',alpha=0.5,ls='--')\n",
    "\n",
    "plt.legend(frameon=False,bbox_to_anchor=(1.01,1))\n",
    "plt.title(\"recovery type\")\n",
    "plt.tight_layout()\n",
    "plt.show()"
   ]
  },
  {
   "cell_type": "code",
   "execution_count": 15,
   "id": "3e562c1c",
   "metadata": {
    "ExecuteTime": {
     "end_time": "2024-03-25T08:51:07.505601Z",
     "start_time": "2024-03-25T08:51:07.493091Z"
    }
   },
   "outputs": [
    {
     "name": "stderr",
     "output_type": "stream",
     "text": [
      "/home/hanl/miniconda3/envs/mytensor/lib/python3.9/site-packages/ipykernel/ipkernel.py:287: DeprecationWarning: `should_run_async` will not call `transform_cell` automatically in the future. Please pass the result to `transformed_cell` argument and any exception that happen during thetransform in `preprocessing_exc_tuple` in IPython 7.17 and above.\n",
      "  and should_run_async(code)\n"
     ]
    }
   ],
   "source": [
    "# tmp_df = df_stayid_s[[\"stay_id\",\"stayid_state\"]]\n",
    "\n",
    "# df_admit = pd.read_csv(\"sk_survival.csv\")\n",
    "# df_admit = df_admit.loc[:,[\"stay_id\",\"groupHPD\", \"mortality_28d\"]]\n",
    "# df_admit = pd.merge(df_admit,tmp_df,how=\"inner\",on=\"stay_id\")\n",
    "\n",
    "# df_admit = df_admit.groupby([\"groupHPD\",\"stayid_state\"]).agg({\"mortality_28d\":\"sum\",\"stay_id\":\"count\"}).reset_index()\n",
    "# df_admit[\"mortality_percent\"] = (df_admit[\"mortality_28d\"]/df_admit[\"stay_id\"])*100\n",
    "# df_admit"
   ]
  },
  {
   "cell_type": "markdown",
   "id": "2d8f26d4",
   "metadata": {},
   "source": [
    "# Recovery mode determination - Degree"
   ]
  },
  {
   "cell_type": "code",
   "execution_count": 16,
   "id": "a765b25b",
   "metadata": {
    "ExecuteTime": {
     "end_time": "2024-03-25T08:51:07.544067Z",
     "start_time": "2024-03-25T08:51:07.528437Z"
    }
   },
   "outputs": [
    {
     "name": "stderr",
     "output_type": "stream",
     "text": [
      "/home/hanl/miniconda3/envs/mytensor/lib/python3.9/site-packages/ipykernel/ipkernel.py:287: DeprecationWarning: `should_run_async` will not call `transform_cell` automatically in the future. Please pass the result to `transformed_cell` argument and any exception that happen during thetransform in `preprocessing_exc_tuple` in IPython 7.17 and above.\n",
      "  and should_run_async(code)\n"
     ]
    },
    {
     "data": {
      "text/html": [
       "<div>\n",
       "<style scoped>\n",
       "    .dataframe tbody tr th:only-of-type {\n",
       "        vertical-align: middle;\n",
       "    }\n",
       "\n",
       "    .dataframe tbody tr th {\n",
       "        vertical-align: top;\n",
       "    }\n",
       "\n",
       "    .dataframe thead th {\n",
       "        text-align: right;\n",
       "    }\n",
       "</style>\n",
       "<table border=\"1\" class=\"dataframe\">\n",
       "  <thead>\n",
       "    <tr style=\"text-align: right;\">\n",
       "      <th></th>\n",
       "      <th>stay_id</th>\n",
       "      <th>state_change</th>\n",
       "      <th>los_saaki</th>\n",
       "      <th>stayid_state</th>\n",
       "    </tr>\n",
       "  </thead>\n",
       "  <tbody>\n",
       "    <tr>\n",
       "      <th>0</th>\n",
       "      <td>243208.0</td>\n",
       "      <td>CB</td>\n",
       "      <td>34.0</td>\n",
       "      <td>Full renal recovery</td>\n",
       "    </tr>\n",
       "  </tbody>\n",
       "</table>\n",
       "</div>"
      ],
      "text/plain": [
       "    stay_id state_change  los_saaki         stayid_state\n",
       "0  243208.0           CB       34.0  Full renal recovery"
      ]
     },
     "execution_count": 16,
     "metadata": {},
     "output_type": "execute_result"
    }
   ],
   "source": [
    "df_ = df_cut[[\"stay_id\",\"state_change\"]].drop_duplicates()\n",
    "df_ = pd.merge(df_,df_time[[\"stay_id\",\"los_saaki\"]],how=\"inner\",on=\"stay_id\")\n",
    "\n",
    "df_.loc[(df_[\"state_change\"]==\"CB\"),\"stayid_state\"] = \"Full renal recovery\"\n",
    "df_.loc[(df_[\"state_change\"]==\"PB\"),\"stayid_state\"] = \"Partial renal recovery\"\n",
    "df_.loc[(df_[\"state_change\"]==\"W\"),\"stayid_state\"] = \"Worsening renal function\"\n",
    "df_.loc[(df_[\"state_change\"]==\"S\"),\"stayid_state\"] = \"Worsening renal function\" #\"Persistent AKI with steady renal function\"\n",
    "df_stayid_s = df_\n",
    "df_stayid_s.head(1)"
   ]
  },
  {
   "cell_type": "code",
   "execution_count": null,
   "id": "23ed9e03",
   "metadata": {
    "ExecuteTime": {
     "end_time": "2024-03-25T08:51:07.546916Z",
     "start_time": "2024-03-25T08:51:07.545120Z"
    }
   },
   "outputs": [
    {
     "name": "stderr",
     "output_type": "stream",
     "text": [
      "/home/hanl/miniconda3/envs/mytensor/lib/python3.9/site-packages/ipykernel/ipkernel.py:287: DeprecationWarning: `should_run_async` will not call `transform_cell` automatically in the future. Please pass the result to `transformed_cell` argument and any exception that happen during thetransform in `preprocessing_exc_tuple` in IPython 7.17 and above.\n",
      "  and should_run_async(code)\n"
     ]
    }
   ],
   "source": [
    "\n",
    "# df_stage = pd.read_csv(\"/public/hanl/jupyter_dir/kidney_sepsis_penotype_v3/00.data_eicu/disease_definition/AKI/eicu_sk_first_and_max_stage.csv\")\n",
    "# df_stage = pd.merge(df_stage,df_type_filt,how=\"inner\",on=\"stay_id\")\n",
    "\n",
    "# stage3_lst = df_stage[(df_stage[\"first_aki_stage\"].isin([2,3])) & (df_stage[\"groupHPD\"].isin([1,2]))][\"stay_id\"]\n",
    "# print(len(stage3_lst),len(stage3_lst)/df_stage.shape[0])\n",
    "\n",
    "# tmp_df = pd.DataFrame(df_stayid_s[df_stayid_s[\"stay_id\"].isin(stage3_lst)].stayid_state.value_counts())\n",
    "# tmp_df[\"stage23\"] = len(stage3_lst)\n",
    "# tmp_df[\"percent\"] = tmp_df[\"stayid_state\"]/tmp_df[\"stage23\"]\n",
    "# tmp_df"
   ]
  },
  {
   "cell_type": "code",
   "execution_count": 18,
   "id": "67033d8c",
   "metadata": {
    "ExecuteTime": {
     "end_time": "2024-03-25T08:51:07.564995Z",
     "start_time": "2024-03-25T08:51:07.547779Z"
    }
   },
   "outputs": [
    {
     "name": "stderr",
     "output_type": "stream",
     "text": [
      "/home/hanl/miniconda3/envs/mytensor/lib/python3.9/site-packages/ipykernel/ipkernel.py:287: DeprecationWarning: `should_run_async` will not call `transform_cell` automatically in the future. Please pass the result to `transformed_cell` argument and any exception that happen during thetransform in `preprocessing_exc_tuple` in IPython 7.17 and above.\n",
      "  and should_run_async(code)\n"
     ]
    },
    {
     "data": {
      "text/html": [
       "<div>\n",
       "<style scoped>\n",
       "    .dataframe tbody tr th:only-of-type {\n",
       "        vertical-align: middle;\n",
       "    }\n",
       "\n",
       "    .dataframe tbody tr th {\n",
       "        vertical-align: top;\n",
       "    }\n",
       "\n",
       "    .dataframe thead th {\n",
       "        text-align: right;\n",
       "    }\n",
       "</style>\n",
       "<table border=\"1\" class=\"dataframe\">\n",
       "  <thead>\n",
       "    <tr style=\"text-align: right;\">\n",
       "      <th></th>\n",
       "      <th>groupHPD</th>\n",
       "      <th>stayid_state</th>\n",
       "      <th>stay_id</th>\n",
       "      <th>count_all</th>\n",
       "      <th>percent(%)</th>\n",
       "    </tr>\n",
       "  </thead>\n",
       "  <tbody>\n",
       "    <tr>\n",
       "      <th>0</th>\n",
       "      <td>1</td>\n",
       "      <td>Full renal recovery</td>\n",
       "      <td>261</td>\n",
       "      <td>420</td>\n",
       "      <td>62.14</td>\n",
       "    </tr>\n",
       "    <tr>\n",
       "      <th>1</th>\n",
       "      <td>1</td>\n",
       "      <td>Partial renal recovery</td>\n",
       "      <td>80</td>\n",
       "      <td>420</td>\n",
       "      <td>19.05</td>\n",
       "    </tr>\n",
       "    <tr>\n",
       "      <th>2</th>\n",
       "      <td>1</td>\n",
       "      <td>Worsening renal function</td>\n",
       "      <td>79</td>\n",
       "      <td>420</td>\n",
       "      <td>18.81</td>\n",
       "    </tr>\n",
       "    <tr>\n",
       "      <th>3</th>\n",
       "      <td>2</td>\n",
       "      <td>Full renal recovery</td>\n",
       "      <td>588</td>\n",
       "      <td>850</td>\n",
       "      <td>69.18</td>\n",
       "    </tr>\n",
       "    <tr>\n",
       "      <th>4</th>\n",
       "      <td>2</td>\n",
       "      <td>Partial renal recovery</td>\n",
       "      <td>83</td>\n",
       "      <td>850</td>\n",
       "      <td>9.76</td>\n",
       "    </tr>\n",
       "    <tr>\n",
       "      <th>5</th>\n",
       "      <td>2</td>\n",
       "      <td>Worsening renal function</td>\n",
       "      <td>179</td>\n",
       "      <td>850</td>\n",
       "      <td>21.06</td>\n",
       "    </tr>\n",
       "    <tr>\n",
       "      <th>6</th>\n",
       "      <td>3</td>\n",
       "      <td>Full renal recovery</td>\n",
       "      <td>8</td>\n",
       "      <td>125</td>\n",
       "      <td>6.40</td>\n",
       "    </tr>\n",
       "    <tr>\n",
       "      <th>7</th>\n",
       "      <td>3</td>\n",
       "      <td>Partial renal recovery</td>\n",
       "      <td>40</td>\n",
       "      <td>125</td>\n",
       "      <td>32.00</td>\n",
       "    </tr>\n",
       "    <tr>\n",
       "      <th>8</th>\n",
       "      <td>3</td>\n",
       "      <td>Worsening renal function</td>\n",
       "      <td>77</td>\n",
       "      <td>125</td>\n",
       "      <td>61.60</td>\n",
       "    </tr>\n",
       "  </tbody>\n",
       "</table>\n",
       "</div>"
      ],
      "text/plain": [
       "   groupHPD              stayid_state  stay_id  count_all  percent(%)\n",
       "0         1       Full renal recovery      261        420       62.14\n",
       "1         1    Partial renal recovery       80        420       19.05\n",
       "2         1  Worsening renal function       79        420       18.81\n",
       "3         2       Full renal recovery      588        850       69.18\n",
       "4         2    Partial renal recovery       83        850        9.76\n",
       "5         2  Worsening renal function      179        850       21.06\n",
       "6         3       Full renal recovery        8        125        6.40\n",
       "7         3    Partial renal recovery       40        125       32.00\n",
       "8         3  Worsening renal function       77        125       61.60"
      ]
     },
     "execution_count": 18,
     "metadata": {},
     "output_type": "execute_result"
    }
   ],
   "source": [
    "tmp_df = pd.merge(df_stayid_s,df_type_filt, how=\"inner\",on=\"stay_id\")\n",
    "\n",
    "df_count_all = pd.DataFrame(tmp_df[\"groupHPD\"].value_counts()).reset_index()\n",
    "df_count_all.columns = [\"groupHPD\", \"count_all\"]\n",
    "\n",
    "tmp_df = tmp_df.groupby([\"groupHPD\",\"stayid_state\"]).agg({\"stay_id\":\"count\"}).reset_index()\n",
    "tmp_df = pd.merge(tmp_df,df_count_all, how=\"inner\",on=\"groupHPD\")\n",
    "tmp_df[\"percent(%)\"] = round(tmp_df[\"stay_id\"]/tmp_df[\"count_all\"]*100,2)\n",
    "tmp_df.sort_values([\"groupHPD\",'stayid_state'])"
   ]
  },
  {
   "cell_type": "code",
   "execution_count": 19,
   "id": "af83e182",
   "metadata": {
    "ExecuteTime": {
     "end_time": "2024-03-25T08:51:07.614490Z",
     "start_time": "2024-03-25T08:51:07.565816Z"
    }
   },
   "outputs": [
    {
     "name": "stderr",
     "output_type": "stream",
     "text": [
      "/home/hanl/miniconda3/envs/mytensor/lib/python3.9/site-packages/ipykernel/ipkernel.py:287: DeprecationWarning: `should_run_async` will not call `transform_cell` automatically in the future. Please pass the result to `transformed_cell` argument and any exception that happen during thetransform in `preprocessing_exc_tuple` in IPython 7.17 and above.\n",
      "  and should_run_async(code)\n"
     ]
    },
    {
     "data": {
      "text/html": [
       "<div>\n",
       "<style scoped>\n",
       "    .dataframe tbody tr th:only-of-type {\n",
       "        vertical-align: middle;\n",
       "    }\n",
       "\n",
       "    .dataframe tbody tr th {\n",
       "        vertical-align: top;\n",
       "    }\n",
       "\n",
       "    .dataframe thead th {\n",
       "        text-align: right;\n",
       "    }\n",
       "</style>\n",
       "<table border=\"1\" class=\"dataframe\">\n",
       "  <thead>\n",
       "    <tr style=\"text-align: right;\">\n",
       "      <th></th>\n",
       "      <th>groupHPD</th>\n",
       "      <th>stayid_state</th>\n",
       "      <th>stay_id</th>\n",
       "      <th>count_all</th>\n",
       "      <th>percent(%)</th>\n",
       "      <th>dataset</th>\n",
       "    </tr>\n",
       "  </thead>\n",
       "  <tbody>\n",
       "    <tr>\n",
       "      <th>0</th>\n",
       "      <td>1</td>\n",
       "      <td>Full renal recovery</td>\n",
       "      <td>261</td>\n",
       "      <td>420</td>\n",
       "      <td>62.14</td>\n",
       "      <td>eICU</td>\n",
       "    </tr>\n",
       "    <tr>\n",
       "      <th>1</th>\n",
       "      <td>1</td>\n",
       "      <td>Partial renal recovery</td>\n",
       "      <td>80</td>\n",
       "      <td>420</td>\n",
       "      <td>19.05</td>\n",
       "      <td>eICU</td>\n",
       "    </tr>\n",
       "    <tr>\n",
       "      <th>2</th>\n",
       "      <td>1</td>\n",
       "      <td>Worsening renal function</td>\n",
       "      <td>79</td>\n",
       "      <td>420</td>\n",
       "      <td>18.81</td>\n",
       "      <td>eICU</td>\n",
       "    </tr>\n",
       "    <tr>\n",
       "      <th>3</th>\n",
       "      <td>2</td>\n",
       "      <td>Full renal recovery</td>\n",
       "      <td>588</td>\n",
       "      <td>850</td>\n",
       "      <td>69.18</td>\n",
       "      <td>eICU</td>\n",
       "    </tr>\n",
       "    <tr>\n",
       "      <th>4</th>\n",
       "      <td>2</td>\n",
       "      <td>Partial renal recovery</td>\n",
       "      <td>83</td>\n",
       "      <td>850</td>\n",
       "      <td>9.76</td>\n",
       "      <td>eICU</td>\n",
       "    </tr>\n",
       "    <tr>\n",
       "      <th>5</th>\n",
       "      <td>2</td>\n",
       "      <td>Worsening renal function</td>\n",
       "      <td>179</td>\n",
       "      <td>850</td>\n",
       "      <td>21.06</td>\n",
       "      <td>eICU</td>\n",
       "    </tr>\n",
       "    <tr>\n",
       "      <th>6</th>\n",
       "      <td>3</td>\n",
       "      <td>Full renal recovery</td>\n",
       "      <td>8</td>\n",
       "      <td>125</td>\n",
       "      <td>6.40</td>\n",
       "      <td>eICU</td>\n",
       "    </tr>\n",
       "    <tr>\n",
       "      <th>7</th>\n",
       "      <td>3</td>\n",
       "      <td>Partial renal recovery</td>\n",
       "      <td>40</td>\n",
       "      <td>125</td>\n",
       "      <td>32.00</td>\n",
       "      <td>eICU</td>\n",
       "    </tr>\n",
       "    <tr>\n",
       "      <th>8</th>\n",
       "      <td>3</td>\n",
       "      <td>Worsening renal function</td>\n",
       "      <td>77</td>\n",
       "      <td>125</td>\n",
       "      <td>61.60</td>\n",
       "      <td>eICU</td>\n",
       "    </tr>\n",
       "  </tbody>\n",
       "</table>\n",
       "</div>"
      ],
      "text/plain": [
       "   groupHPD              stayid_state  stay_id  count_all  percent(%) dataset\n",
       "0         1       Full renal recovery      261        420       62.14    eICU\n",
       "1         1    Partial renal recovery       80        420       19.05    eICU\n",
       "2         1  Worsening renal function       79        420       18.81    eICU\n",
       "3         2       Full renal recovery      588        850       69.18    eICU\n",
       "4         2    Partial renal recovery       83        850        9.76    eICU\n",
       "5         2  Worsening renal function      179        850       21.06    eICU\n",
       "6         3       Full renal recovery        8        125        6.40    eICU\n",
       "7         3    Partial renal recovery       40        125       32.00    eICU\n",
       "8         3  Worsening renal function       77        125       61.60    eICU"
      ]
     },
     "execution_count": 19,
     "metadata": {},
     "output_type": "execute_result"
    }
   ],
   "source": [
    "tmp_df[\"dataset\"] = \"eICU\"\n",
    "tmp_df.to_csv(\"./result/eICU_renal_recovery_extent.csv\",index=False)\n",
    "tmp_df"
   ]
  },
  {
   "cell_type": "markdown",
   "id": "9160ab21",
   "metadata": {},
   "source": [
    "# Recovery mode determination - Time"
   ]
  },
  {
   "cell_type": "code",
   "execution_count": 20,
   "id": "77e0c35f",
   "metadata": {
    "ExecuteTime": {
     "end_time": "2024-03-25T08:51:07.630058Z",
     "start_time": "2024-03-25T08:51:07.615456Z"
    }
   },
   "outputs": [
    {
     "name": "stderr",
     "output_type": "stream",
     "text": [
      "/home/hanl/miniconda3/envs/mytensor/lib/python3.9/site-packages/ipykernel/ipkernel.py:287: DeprecationWarning: `should_run_async` will not call `transform_cell` automatically in the future. Please pass the result to `transformed_cell` argument and any exception that happen during thetransform in `preprocessing_exc_tuple` in IPython 7.17 and above.\n",
      "  and should_run_async(code)\n"
     ]
    },
    {
     "data": {
      "text/html": [
       "<div>\n",
       "<style scoped>\n",
       "    .dataframe tbody tr th:only-of-type {\n",
       "        vertical-align: middle;\n",
       "    }\n",
       "\n",
       "    .dataframe tbody tr th {\n",
       "        vertical-align: top;\n",
       "    }\n",
       "\n",
       "    .dataframe thead th {\n",
       "        text-align: right;\n",
       "    }\n",
       "</style>\n",
       "<table border=\"1\" class=\"dataframe\">\n",
       "  <thead>\n",
       "    <tr style=\"text-align: right;\">\n",
       "      <th></th>\n",
       "      <th>stay_id</th>\n",
       "      <th>state_change</th>\n",
       "      <th>los_saaki</th>\n",
       "      <th>stayid_state</th>\n",
       "    </tr>\n",
       "  </thead>\n",
       "  <tbody>\n",
       "    <tr>\n",
       "      <th>0</th>\n",
       "      <td>243208.0</td>\n",
       "      <td>CB</td>\n",
       "      <td>34.0</td>\n",
       "      <td>Transient AKI</td>\n",
       "    </tr>\n",
       "  </tbody>\n",
       "</table>\n",
       "</div>"
      ],
      "text/plain": [
       "    stay_id state_change  los_saaki   stayid_state\n",
       "0  243208.0           CB       34.0  Transient AKI"
      ]
     },
     "execution_count": 20,
     "metadata": {},
     "output_type": "execute_result"
    }
   ],
   "source": [
    "df_ = df_cut[[\"stay_id\",\"state_change\"]].drop_duplicates()\n",
    "df_ = pd.merge(df_,df_time[[\"stay_id\",\"los_saaki\"]],how=\"inner\",on=\"stay_id\")\n",
    "\n",
    "df_.loc[(df_[\"state_change\"]==\"CB\") & (df_[\"los_saaki\"]<=48),\"stayid_state\"] = \"Transient AKI\"\n",
    "df_.loc[(df_[\"state_change\"]==\"CB\") & (df_[\"los_saaki\"]>48),\"stayid_state\"] = \"Persistent AKI\"\n",
    "df_.loc[(df_[\"state_change\"]==\"PB\"),\"stayid_state\"] = \"Persistent AKI\"\n",
    "df_.loc[(df_[\"state_change\"]==\"W\"),\"stayid_state\"] = \"Persistent AKI\"\n",
    "df_.loc[(df_[\"state_change\"]==\"S\"),\"stayid_state\"] = \"Persistent AKI\" #\"Persistent AKI with steady renal function\"\n",
    "df_stayid_s = df_\n",
    "df_stayid_s.head(1)"
   ]
  },
  {
   "cell_type": "code",
   "execution_count": 21,
   "id": "b8a5d063",
   "metadata": {
    "ExecuteTime": {
     "end_time": "2024-03-25T08:51:07.649390Z",
     "start_time": "2024-03-25T08:51:07.630966Z"
    }
   },
   "outputs": [
    {
     "name": "stderr",
     "output_type": "stream",
     "text": [
      "/home/hanl/miniconda3/envs/mytensor/lib/python3.9/site-packages/ipykernel/ipkernel.py:287: DeprecationWarning: `should_run_async` will not call `transform_cell` automatically in the future. Please pass the result to `transformed_cell` argument and any exception that happen during thetransform in `preprocessing_exc_tuple` in IPython 7.17 and above.\n",
      "  and should_run_async(code)\n"
     ]
    },
    {
     "data": {
      "text/html": [
       "<div>\n",
       "<style scoped>\n",
       "    .dataframe tbody tr th:only-of-type {\n",
       "        vertical-align: middle;\n",
       "    }\n",
       "\n",
       "    .dataframe tbody tr th {\n",
       "        vertical-align: top;\n",
       "    }\n",
       "\n",
       "    .dataframe thead th {\n",
       "        text-align: right;\n",
       "    }\n",
       "</style>\n",
       "<table border=\"1\" class=\"dataframe\">\n",
       "  <thead>\n",
       "    <tr style=\"text-align: right;\">\n",
       "      <th></th>\n",
       "      <th>groupHPD</th>\n",
       "      <th>stayid_state</th>\n",
       "      <th>stay_id</th>\n",
       "      <th>count_all</th>\n",
       "      <th>percent(%)</th>\n",
       "    </tr>\n",
       "  </thead>\n",
       "  <tbody>\n",
       "    <tr>\n",
       "      <th>0</th>\n",
       "      <td>1</td>\n",
       "      <td>Persistent AKI</td>\n",
       "      <td>303</td>\n",
       "      <td>420</td>\n",
       "      <td>72.14</td>\n",
       "    </tr>\n",
       "    <tr>\n",
       "      <th>1</th>\n",
       "      <td>1</td>\n",
       "      <td>Transient AKI</td>\n",
       "      <td>117</td>\n",
       "      <td>420</td>\n",
       "      <td>27.86</td>\n",
       "    </tr>\n",
       "    <tr>\n",
       "      <th>2</th>\n",
       "      <td>2</td>\n",
       "      <td>Persistent AKI</td>\n",
       "      <td>534</td>\n",
       "      <td>850</td>\n",
       "      <td>62.82</td>\n",
       "    </tr>\n",
       "    <tr>\n",
       "      <th>3</th>\n",
       "      <td>2</td>\n",
       "      <td>Transient AKI</td>\n",
       "      <td>316</td>\n",
       "      <td>850</td>\n",
       "      <td>37.18</td>\n",
       "    </tr>\n",
       "    <tr>\n",
       "      <th>4</th>\n",
       "      <td>3</td>\n",
       "      <td>Persistent AKI</td>\n",
       "      <td>123</td>\n",
       "      <td>125</td>\n",
       "      <td>98.40</td>\n",
       "    </tr>\n",
       "    <tr>\n",
       "      <th>5</th>\n",
       "      <td>3</td>\n",
       "      <td>Transient AKI</td>\n",
       "      <td>2</td>\n",
       "      <td>125</td>\n",
       "      <td>1.60</td>\n",
       "    </tr>\n",
       "  </tbody>\n",
       "</table>\n",
       "</div>"
      ],
      "text/plain": [
       "   groupHPD    stayid_state  stay_id  count_all  percent(%)\n",
       "0         1  Persistent AKI      303        420       72.14\n",
       "1         1   Transient AKI      117        420       27.86\n",
       "2         2  Persistent AKI      534        850       62.82\n",
       "3         2   Transient AKI      316        850       37.18\n",
       "4         3  Persistent AKI      123        125       98.40\n",
       "5         3   Transient AKI        2        125        1.60"
      ]
     },
     "execution_count": 21,
     "metadata": {},
     "output_type": "execute_result"
    }
   ],
   "source": [
    "tmp_df = pd.merge(df_stayid_s,df_type_filt, how=\"inner\",on=\"stay_id\")\n",
    "\n",
    "df_count_all = pd.DataFrame(tmp_df[\"groupHPD\"].value_counts()).reset_index()\n",
    "df_count_all.columns = [\"groupHPD\", \"count_all\"]\n",
    "\n",
    "tmp_df = tmp_df.groupby([\"groupHPD\",\"stayid_state\"]).agg({\"stay_id\":\"count\"}).reset_index()\n",
    "tmp_df = pd.merge(tmp_df,df_count_all, how=\"inner\",on=\"groupHPD\")\n",
    "tmp_df[\"percent(%)\"] = round(tmp_df[\"stay_id\"]/tmp_df[\"count_all\"]*100,2)\n",
    "tmp_df.sort_values([\"groupHPD\",'stayid_state'])"
   ]
  },
  {
   "cell_type": "code",
   "execution_count": 22,
   "id": "79f24f52",
   "metadata": {
    "ExecuteTime": {
     "end_time": "2024-03-25T08:51:07.663078Z",
     "start_time": "2024-03-25T08:51:07.650334Z"
    }
   },
   "outputs": [
    {
     "name": "stderr",
     "output_type": "stream",
     "text": [
      "/home/hanl/miniconda3/envs/mytensor/lib/python3.9/site-packages/ipykernel/ipkernel.py:287: DeprecationWarning: `should_run_async` will not call `transform_cell` automatically in the future. Please pass the result to `transformed_cell` argument and any exception that happen during thetransform in `preprocessing_exc_tuple` in IPython 7.17 and above.\n",
      "  and should_run_async(code)\n"
     ]
    },
    {
     "data": {
      "text/html": [
       "<div>\n",
       "<style scoped>\n",
       "    .dataframe tbody tr th:only-of-type {\n",
       "        vertical-align: middle;\n",
       "    }\n",
       "\n",
       "    .dataframe tbody tr th {\n",
       "        vertical-align: top;\n",
       "    }\n",
       "\n",
       "    .dataframe thead th {\n",
       "        text-align: right;\n",
       "    }\n",
       "</style>\n",
       "<table border=\"1\" class=\"dataframe\">\n",
       "  <thead>\n",
       "    <tr style=\"text-align: right;\">\n",
       "      <th></th>\n",
       "      <th>groupHPD</th>\n",
       "      <th>stayid_state</th>\n",
       "      <th>stay_id</th>\n",
       "      <th>count_all</th>\n",
       "      <th>percent(%)</th>\n",
       "      <th>dataset</th>\n",
       "    </tr>\n",
       "  </thead>\n",
       "  <tbody>\n",
       "    <tr>\n",
       "      <th>0</th>\n",
       "      <td>1</td>\n",
       "      <td>Persistent AKI</td>\n",
       "      <td>303</td>\n",
       "      <td>420</td>\n",
       "      <td>72.14</td>\n",
       "      <td>eICU</td>\n",
       "    </tr>\n",
       "    <tr>\n",
       "      <th>1</th>\n",
       "      <td>1</td>\n",
       "      <td>Transient AKI</td>\n",
       "      <td>117</td>\n",
       "      <td>420</td>\n",
       "      <td>27.86</td>\n",
       "      <td>eICU</td>\n",
       "    </tr>\n",
       "    <tr>\n",
       "      <th>2</th>\n",
       "      <td>2</td>\n",
       "      <td>Persistent AKI</td>\n",
       "      <td>534</td>\n",
       "      <td>850</td>\n",
       "      <td>62.82</td>\n",
       "      <td>eICU</td>\n",
       "    </tr>\n",
       "    <tr>\n",
       "      <th>3</th>\n",
       "      <td>2</td>\n",
       "      <td>Transient AKI</td>\n",
       "      <td>316</td>\n",
       "      <td>850</td>\n",
       "      <td>37.18</td>\n",
       "      <td>eICU</td>\n",
       "    </tr>\n",
       "    <tr>\n",
       "      <th>4</th>\n",
       "      <td>3</td>\n",
       "      <td>Persistent AKI</td>\n",
       "      <td>123</td>\n",
       "      <td>125</td>\n",
       "      <td>98.40</td>\n",
       "      <td>eICU</td>\n",
       "    </tr>\n",
       "    <tr>\n",
       "      <th>5</th>\n",
       "      <td>3</td>\n",
       "      <td>Transient AKI</td>\n",
       "      <td>2</td>\n",
       "      <td>125</td>\n",
       "      <td>1.60</td>\n",
       "      <td>eICU</td>\n",
       "    </tr>\n",
       "  </tbody>\n",
       "</table>\n",
       "</div>"
      ],
      "text/plain": [
       "   groupHPD    stayid_state  stay_id  count_all  percent(%) dataset\n",
       "0         1  Persistent AKI      303        420       72.14    eICU\n",
       "1         1   Transient AKI      117        420       27.86    eICU\n",
       "2         2  Persistent AKI      534        850       62.82    eICU\n",
       "3         2   Transient AKI      316        850       37.18    eICU\n",
       "4         3  Persistent AKI      123        125       98.40    eICU\n",
       "5         3   Transient AKI        2        125        1.60    eICU"
      ]
     },
     "execution_count": 22,
     "metadata": {},
     "output_type": "execute_result"
    }
   ],
   "source": [
    "tmp_df[\"dataset\"] = \"eICU\"\n",
    "tmp_df.to_csv(\"./result/eICU_renal_recovery_time.csv\",index=False)\n",
    "tmp_df"
   ]
  },
  {
   "cell_type": "code",
   "execution_count": null,
   "id": "b098e9fc",
   "metadata": {},
   "outputs": [],
   "source": []
  }
 ],
 "metadata": {
  "kernelspec": {
   "display_name": "Python [conda env:mytensor]",
   "language": "python",
   "name": "conda-env-mytensor-py"
  },
  "language_info": {
   "codemirror_mode": {
    "name": "ipython",
    "version": 3
   },
   "file_extension": ".py",
   "mimetype": "text/x-python",
   "name": "python",
   "nbconvert_exporter": "python",
   "pygments_lexer": "ipython3",
   "version": "3.9.12"
  },
  "toc": {
   "base_numbering": 1,
   "nav_menu": {},
   "number_sections": true,
   "sideBar": true,
   "skip_h1_title": false,
   "title_cell": "Table of Contents",
   "title_sidebar": "Contents",
   "toc_cell": false,
   "toc_position": {
    "height": "calc(100% - 180px)",
    "left": "10px",
    "top": "150px",
    "width": "164.977px"
   },
   "toc_section_display": true,
   "toc_window_display": true
  },
  "varInspector": {
   "cols": {
    "lenName": 16,
    "lenType": 16,
    "lenVar": 40
   },
   "kernels_config": {
    "python": {
     "delete_cmd_postfix": "",
     "delete_cmd_prefix": "del ",
     "library": "var_list.py",
     "varRefreshCmd": "print(var_dic_list())"
    },
    "r": {
     "delete_cmd_postfix": ") ",
     "delete_cmd_prefix": "rm(",
     "library": "var_list.r",
     "varRefreshCmd": "cat(var_dic_list()) "
    }
   },
   "types_to_exclude": [
    "module",
    "function",
    "builtin_function_or_method",
    "instance",
    "_Feature"
   ],
   "window_display": false
  }
 },
 "nbformat": 4,
 "nbformat_minor": 5
}
