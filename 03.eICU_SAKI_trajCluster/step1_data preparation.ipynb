{
 "cells": [
  {
   "cell_type": "code",
   "execution_count": 1,
   "id": "0e71d70c",
   "metadata": {
    "ExecuteTime": {
     "end_time": "2023-12-14T06:41:59.245532Z",
     "start_time": "2023-12-14T06:41:58.194637Z"
    }
   },
   "outputs": [],
   "source": [
    "import pandas as pd\n",
    "import numpy as np\n",
    "import matplotlib.pyplot as plt\n",
    "pd.options.display.max_rows = 300\n",
    "import datetime as dt\n",
    "import math\n",
    "import seaborn as sns\n",
    "import miceforest as mf\n",
    "from tableone import TableOne, load_dataset"
   ]
  },
  {
   "cell_type": "markdown",
   "id": "49f550c4",
   "metadata": {},
   "source": [
    "# Screen patients with S-AKI according to the definition"
   ]
  },
  {
   "cell_type": "markdown",
   "id": "845e446f",
   "metadata": {},
   "source": [
    "## sepsis "
   ]
  },
  {
   "cell_type": "code",
   "execution_count": null,
   "id": "9a79312a",
   "metadata": {
    "ExecuteTime": {
     "end_time": "2023-12-14T06:41:59.263277Z",
     "start_time": "2023-12-14T06:41:59.246715Z"
    }
   },
   "outputs": [],
   "source": [
    "data_dir = \"/public/hanl/jupyter_dir/kidney_sepsis_penotype_v3/00.data_eicu/disease_definition/sepsis/\"\n",
    "infile = data_dir + \"eicu_sepsis3.csv\"\n",
    "df_sepsis = pd.read_csv(infile)\n",
    "\n",
    "sepsis_lst = df_sepsis.stay_id.tolist()\n",
    "print(\"The number of sepsis patients is (by sepsis3)：\",df_sepsis.shape[0])\n",
    "df_sepsis.head(1)"
   ]
  },
  {
   "cell_type": "markdown",
   "id": "ad92c1f4",
   "metadata": {},
   "source": [
    "## CKD"
   ]
  },
  {
   "cell_type": "code",
   "execution_count": null,
   "id": "03861660",
   "metadata": {
    "ExecuteTime": {
     "end_time": "2023-12-14T06:41:59.345202Z",
     "start_time": "2023-12-14T06:41:59.264410Z"
    },
    "run_control": {
     "marked": true
    }
   },
   "outputs": [],
   "source": [
    "data_dir = \"/public/hanl/jupyter_dir/kidney_sepsis_penotype_v3/00.data_eicu/disease_definition//CKD/\"\n",
    "infile = data_dir + \"eicu_ckd.csv\"\n",
    "df_ckd = pd.read_csv(infile)\n",
    "ckd_lst = set(df_ckd.stay_id.tolist())\n",
    "print(\"The number of ckd patients (by ICD):\",len(ckd_lst))"
   ]
  },
  {
   "cell_type": "markdown",
   "id": "12eb0ddc",
   "metadata": {},
   "source": [
    "## AKI"
   ]
  },
  {
   "cell_type": "code",
   "execution_count": null,
   "id": "ebe14f22",
   "metadata": {
    "ExecuteTime": {
     "end_time": "2023-12-14T06:41:59.352732Z",
     "start_time": "2023-12-14T06:41:59.346293Z"
    }
   },
   "outputs": [],
   "source": [
    "data_dir = \"/public/hanl/jupyter_dir/kidney_sepsis_penotype_v3/00.data_eicu/disease_definition/AKI/\"\n",
    "infile = data_dir + \"eicu_sk_first_and_max_stage.csv\"\n",
    "df_aki = pd.read_csv(infile)\n",
    "df_aki = df_aki[[\"stay_id\", \"first_aki_onset\"]]\n",
    "df_aki.columns = [\"stay_id\", \"aki_onset\"]\n",
    "aki_lst = df_aki.stay_id.tolist()\n",
    "print(\"The number of aki patients is (by KDIGO):\",len(aki_lst))\n"
   ]
  },
  {
   "cell_type": "markdown",
   "id": "7d799b9c",
   "metadata": {},
   "source": [
    "## sepsis without CKD;  sepsis with AKI"
   ]
  },
  {
   "cell_type": "code",
   "execution_count": 5,
   "id": "fa4a9022",
   "metadata": {
    "ExecuteTime": {
     "end_time": "2023-12-14T06:41:59.360513Z",
     "start_time": "2023-12-14T06:41:59.353600Z"
    },
    "run_control": {
     "marked": true
    }
   },
   "outputs": [
    {
     "name": "stdout",
     "output_type": "stream",
     "text": [
      "sepsis_minus_ckd_lst: 12513\n",
      "sepsis_minusCKD_addAKI_lst: 1748  sepsis_noKidney: 10765\n"
     ]
    },
    {
     "name": "stderr",
     "output_type": "stream",
     "text": [
      "/home/hanl/miniconda3/envs/mytensor/lib/python3.9/site-packages/ipykernel/ipkernel.py:287: DeprecationWarning: `should_run_async` will not call `transform_cell` automatically in the future. Please pass the result to `transformed_cell` argument and any exception that happen during thetransform in `preprocessing_exc_tuple` in IPython 7.17 and above.\n",
      "  and should_run_async(code)\n"
     ]
    }
   ],
   "source": [
    "sepsis_minus_ckd_lst = list(set(sepsis_lst).difference(ckd_lst))\n",
    "print(\"sepsis_minus_ckd_lst: \" +str(len(sepsis_minus_ckd_lst)))\n",
    "\n",
    "sepsis_minusCKD_addAKI_lst = list(set(sepsis_minus_ckd_lst).intersection(aki_lst))\n",
    "\n",
    "sepsis_noKidney_lst = list(set(sepsis_lst).difference(ckd_lst, aki_lst))\n",
    "print(\"sepsis_minusCKD_addAKI_lst:\",len(sepsis_minusCKD_addAKI_lst),\" sepsis_noKidney:\",len(sepsis_noKidney_lst))\n"
   ]
  },
  {
   "cell_type": "markdown",
   "id": "9f464763",
   "metadata": {},
   "source": [
    "# S-AKI inclusion criteria"
   ]
  },
  {
   "cell_type": "markdown",
   "id": "31623d17",
   "metadata": {},
   "source": [
    "## Patients who developed AKI within one week after sepsis"
   ]
  },
  {
   "cell_type": "code",
   "execution_count": null,
   "id": "33c16ccf",
   "metadata": {
    "ExecuteTime": {
     "end_time": "2023-12-14T06:41:59.371518Z",
     "start_time": "2023-12-14T06:41:59.361345Z"
    }
   },
   "outputs": [],
   "source": [
    "df_sepsis = df_sepsis[df_sepsis[\"stay_id\"].isin(sepsis_minusCKD_addAKI_lst)]\n",
    "df_aki = df_aki[df_aki[\"stay_id\"].isin(sepsis_minusCKD_addAKI_lst)]\n",
    "df_sepsis_aki = pd.merge(df_sepsis, df_aki, how=\"inner\", on = [\"stay_id\"])\n",
    "\n",
    "df_sepsis_aki[\"time_aki_minus_sepsis\"] =  df_sepsis_aki[\"aki_onset\"] - df_sepsis_aki[\"sepsis_onset\"]\n",
    "df_sepsis_aki = df_sepsis_aki[(df_sepsis_aki[\"time_aki_minus_sepsis\"]>0) & (df_sepsis_aki[\"time_aki_minus_sepsis\"]<=168)]\n",
    "saki_lst = df_sepsis_aki.stay_id.unique().tolist()\n",
    "print(\"The number of patients who developed AKI within one week after sepsis:\",len(saki_lst))\n"
   ]
  },
  {
   "cell_type": "markdown",
   "id": "30a6f1dc",
   "metadata": {},
   "source": [
    "## Excluding age<18 and los<1"
   ]
  },
  {
   "cell_type": "code",
   "execution_count": null,
   "id": "17e5ec20",
   "metadata": {
    "ExecuteTime": {
     "end_time": "2023-12-14T06:41:59.577192Z",
     "start_time": "2023-12-14T06:41:59.372417Z"
    }
   },
   "outputs": [],
   "source": [
    "df_demo =  pd.read_csv(\"/public/hanl/jupyter_dir/kidney_sepsis_penotype_v3/00.data_eicu/feature_data/df_eicu_sk_icudetails.csv\")\n",
    "df_demo = df_demo[df_demo[\"stay_id\"].isin(saki_lst)]\n",
    "df_demo = df_demo[df_demo[\"icu_los_hours\"]>=24]\n",
    "df_demo = df_demo[(df_demo[\"age\"]>=18)]\n",
    "\n",
    "saki_lst_filt_lst = list(df_demo.stay_id.unique())\n",
    "print(\"saki, Age >17 and los greater than 1 day:\",len(saki_lst_filt_lst))\n",
    "all_lst = saki_lst_filt_lst"
   ]
  },
  {
   "cell_type": "markdown",
   "id": "33d39829",
   "metadata": {},
   "source": [
    "## Patients with baseline creatinine greater than 1.5 and less than 0.5 were excluded"
   ]
  },
  {
   "cell_type": "code",
   "execution_count": null,
   "id": "88475fd9",
   "metadata": {
    "ExecuteTime": {
     "end_time": "2023-12-14T06:41:59.733634Z",
     "start_time": "2023-12-14T06:41:59.578752Z"
    }
   },
   "outputs": [],
   "source": [
    "df_base_crea = pd.read_csv(\"../00.data_eicu/disease_definition/AKI/df_base_crea.csv\")\n",
    "df_base_crea = df_base_crea[(df_base_crea[\"baseline_creatinine\"]>=0.5) &(df_base_crea[\"baseline_creatinine\"]<1.5)]\n",
    "df_base_crea = df_base_crea[~df_base_crea.isnull().T.any()]\n",
    "\n",
    "df_base_crea = df_base_crea[df_base_crea[\"stay_id\"].isin(all_lst)]\n",
    "\n",
    "all_lst = df_base_crea.stay_id.unique()\n",
    "print(\"Patients with no baseline, a baseline that is too low, or a baseline that has reached renal failure or uremia were excluded:\",len(all_lst))"
   ]
  },
  {
   "cell_type": "markdown",
   "id": "cec1e975",
   "metadata": {},
   "source": [
    "# Clinical data acquisition for clustering"
   ]
  },
  {
   "cell_type": "markdown",
   "id": "1fbd2dfc",
   "metadata": {},
   "source": [
    "## Load files"
   ]
  },
  {
   "cell_type": "code",
   "execution_count": null,
   "id": "326cec51",
   "metadata": {
    "ExecuteTime": {
     "end_time": "2023-12-14T06:41:59.827667Z",
     "start_time": "2023-12-14T06:41:59.734851Z"
    }
   },
   "outputs": [
    {
     "name": "stderr",
     "output_type": "stream",
     "text": [
      "/home/hanl/miniconda3/envs/mytensor/lib/python3.9/site-packages/ipykernel/ipkernel.py:287: DeprecationWarning: `should_run_async` will not call `transform_cell` automatically in the future. Please pass the result to `transformed_cell` argument and any exception that happen during thetransform in `preprocessing_exc_tuple` in IPython 7.17 and above.\n",
      "  and should_run_async(code)\n"
     ]
    },
    {
     "name": "stdout",
     "output_type": "stream",
     "text": [
      "1417\n"
     ]
    }
   ],
   "source": [
    "# Import the time file\n",
    "df_time =  pd.read_csv(\"/public/hanl/jupyter_dir/kidney_sepsis_penotype_v3/00.data_eicu/disease_definition/AKI/eicu_saki_event_time.csv\")\n",
    "df_time = df_time[(df_time[\"saki_onset\"]<=df_time[\"outtime\"]) & (df_time[\"saki_onset\"]>=df_time[\"intime\"])]\n",
    "df_time = df_time[[\"stay_id\",\"saki_onset\"]]\n",
    "df_time = df_time[df_time[\"stay_id\"].isin(all_lst)]\n",
    "print(len(df_time.stay_id.unique()))"
   ]
  },
  {
   "cell_type": "code",
   "execution_count": null,
   "id": "4db6078d",
   "metadata": {
    "ExecuteTime": {
     "end_time": "2023-12-14T06:42:37.355902Z",
     "start_time": "2023-12-14T06:41:59.828645Z"
    },
    "run_control": {
     "marked": true
    }
   },
   "outputs": [
    {
     "name": "stderr",
     "output_type": "stream",
     "text": [
      "/home/hanl/miniconda3/envs/mytensor/lib/python3.9/site-packages/ipykernel/ipkernel.py:287: DeprecationWarning: `should_run_async` will not call `transform_cell` automatically in the future. Please pass the result to `transformed_cell` argument and any exception that happen during thetransform in `preprocessing_exc_tuple` in IPython 7.17 and above.\n",
      "  and should_run_async(code)\n"
     ]
    },
    {
     "data": {
      "text/html": [
       "<div>\n",
       "<style scoped>\n",
       "    .dataframe tbody tr th:only-of-type {\n",
       "        vertical-align: middle;\n",
       "    }\n",
       "\n",
       "    .dataframe tbody tr th {\n",
       "        vertical-align: top;\n",
       "    }\n",
       "\n",
       "    .dataframe thead th {\n",
       "        text-align: right;\n",
       "    }\n",
       "</style>\n",
       "<table border=\"1\" class=\"dataframe\">\n",
       "  <thead>\n",
       "    <tr style=\"text-align: right;\">\n",
       "      <th></th>\n",
       "      <th>stay_id</th>\n",
       "      <th>charttime</th>\n",
       "      <th>fio2</th>\n",
       "      <th>po2</th>\n",
       "      <th>pco2</th>\n",
       "      <th>ph</th>\n",
       "      <th>aniongap</th>\n",
       "      <th>baseexcess</th>\n",
       "      <th>peep</th>\n",
       "      <th>urineoutput</th>\n",
       "      <th>...</th>\n",
       "      <th>alt</th>\n",
       "      <th>ast</th>\n",
       "      <th>alp</th>\n",
       "      <th>heart_rate</th>\n",
       "      <th>resp_rate</th>\n",
       "      <th>spo2</th>\n",
       "      <th>temperature</th>\n",
       "      <th>sbp</th>\n",
       "      <th>dbp</th>\n",
       "      <th>mbp</th>\n",
       "    </tr>\n",
       "  </thead>\n",
       "  <tbody>\n",
       "    <tr>\n",
       "      <th>104572</th>\n",
       "      <td>243208</td>\n",
       "      <td>-5.5</td>\n",
       "      <td>NaN</td>\n",
       "      <td>NaN</td>\n",
       "      <td>NaN</td>\n",
       "      <td>NaN</td>\n",
       "      <td>13.0</td>\n",
       "      <td>NaN</td>\n",
       "      <td>NaN</td>\n",
       "      <td>NaN</td>\n",
       "      <td>...</td>\n",
       "      <td>NaN</td>\n",
       "      <td>NaN</td>\n",
       "      <td>NaN</td>\n",
       "      <td>NaN</td>\n",
       "      <td>NaN</td>\n",
       "      <td>NaN</td>\n",
       "      <td>NaN</td>\n",
       "      <td>NaN</td>\n",
       "      <td>NaN</td>\n",
       "      <td>NaN</td>\n",
       "    </tr>\n",
       "  </tbody>\n",
       "</table>\n",
       "<p>1 rows × 39 columns</p>\n",
       "</div>"
      ],
      "text/plain": [
       "        stay_id  charttime  fio2  po2  pco2  ph  aniongap  baseexcess  peep  \\\n",
       "104572   243208       -5.5   NaN  NaN   NaN NaN      13.0         NaN   NaN   \n",
       "\n",
       "        urineoutput  ...  alt  ast  alp  heart_rate  resp_rate  spo2  \\\n",
       "104572          NaN  ...  NaN  NaN  NaN         NaN        NaN   NaN   \n",
       "\n",
       "        temperature  sbp  dbp  mbp  \n",
       "104572          NaN  NaN  NaN  NaN  \n",
       "\n",
       "[1 rows x 39 columns]"
      ]
     },
     "execution_count": 10,
     "metadata": {},
     "output_type": "execute_result"
    }
   ],
   "source": [
    "# Import the clinical feature file\n",
    "data_dir = \"/public/hanl/jupyter_dir/kidney_sepsis_penotype_v3/00.data_eicu/feature_data/\"\n",
    "infile = data_dir + \"eicu_data_merge.csv\"\n",
    "df_fea = pd.read_csv(infile)\n",
    "df_fea = df_fea[df_fea[\"stay_id\"].isin(all_lst)]\n",
    "df_fea[\"charttime\"] = df_fea[\"charttime\"]/60\n",
    "df_fea = df_fea.drop_duplicates()\n",
    "df_fea.head(1)"
   ]
  },
  {
   "cell_type": "markdown",
   "id": "40acaa1a",
   "metadata": {},
   "source": [
    "## Obtain data by time window\n"
   ]
  },
  {
   "cell_type": "code",
   "execution_count": null,
   "id": "dc3b855a",
   "metadata": {
    "ExecuteTime": {
     "end_time": "2023-12-14T06:42:51.462810Z",
     "start_time": "2023-12-14T06:42:37.357097Z"
    }
   },
   "outputs": [],
   "source": [
    "df_fea_add  = pd.merge(df_fea,df_time, how=\"left\", on=\"stay_id\")\n",
    "df_fea_add[\"time\"] = (df_fea_add[\"charttime\"] - df_fea_add[\"saki_onset\"])/6\n",
    "df_fea_add[\"time\"] = df_fea_add[\"time\"].map(lambda x:x//1) \n",
    "df_fea_add[\"time\"] = df_fea_add[\"time\"].map(lambda x: x+1 if x>=0 else x)\n",
    "df_fea_add = df_fea_add[(df_fea_add[\"time\"]>=-4) &(df_fea_add[\"time\"]<=28)]\n",
    "\n",
    "df_fea_add = df_fea_add.drop([\"charttime\",\"saki_onset\"],axis=1)\n",
    "df_fea_add = df_fea_add.groupby([\"stay_id\",\"time\"]).agg(\"mean\").reset_index()\n",
    "\n",
    "# condition2: There must be a record of one day or more after SAKI occurs\n",
    "tmp_df = df_fea_add[df_fea_add[\"time\"]>=0][[\"stay_id\",\"time\"]]\n",
    "tmp_df = tmp_df.groupby(\"stay_id\").agg(['max','count']).reset_index()\n",
    "tmp_df.columns = ['_'.join(col) for col in tmp_df.columns]\n",
    "stay_lst = tmp_df[(tmp_df[\"time_max\"]>=4) & (tmp_df[\"time_count\"]>=4)][\"stay_id_\"].tolist()\n",
    "df_fea_add = df_fea_add[df_fea_add[\"stay_id\"].isin(stay_lst)]\n",
    "all_lst = df_fea_add.stay_id.unique()\n",
    "print(\"Patients who recorded more than one day after the occurrence of saki:\", len(all_lst))\n",
    "\n",
    "#  condition3: SAKI must have at least 4 data recording points\n",
    "df_stage = pd.read_csv(\"/public/hanl/jupyter_dir/kidney_sepsis_penotype_v3/00.data_eicu//disease_definition/AKI/kdigo_aki_stage.csv\")\n",
    "df_stage = df_stage[df_stage[\"stay_id\"].isin(all_lst)]\n",
    "df_stage =df_stage[df_stage[\"aki_stage\"]>0]\n",
    "df_stage = df_stage.sort_values([\"stay_id\",\"time\"])\n",
    "df_stage = df_stage.groupby(\"stay_id\").agg({\"aki_stage\":\"count\"}).reset_index()\n",
    "df_stage = df_stage[df_stage.aki_stage >=4]\n",
    "all_lst = df_stage.stay_id.unique()\n",
    "print(\"AKI has at least four data recording points\", len(all_lst))\n",
    "df_fea_add = df_fea_add[df_fea_add[\"stay_id\"].isin(all_lst)]\n",
    "\n",
    "all_lst = df_fea_add.stay_id.unique()\n",
    "print(\"Finally, the number of included patients:\",len(all_lst))\n",
    "df_fea_add.head(1)"
   ]
  },
  {
   "cell_type": "code",
   "execution_count": null,
   "id": "9f28cf16",
   "metadata": {
    "ExecuteTime": {
     "end_time": "2023-12-14T06:42:51.470291Z",
     "start_time": "2023-12-14T06:42:51.463815Z"
    }
   },
   "outputs": [
    {
     "name": "stderr",
     "output_type": "stream",
     "text": [
      "/home/hanl/miniconda3/envs/mytensor/lib/python3.9/site-packages/ipykernel/ipkernel.py:287: DeprecationWarning: `should_run_async` will not call `transform_cell` automatically in the future. Please pass the result to `transformed_cell` argument and any exception that happen during thetransform in `preprocessing_exc_tuple` in IPython 7.17 and above.\n",
      "  and should_run_async(code)\n"
     ]
    },
    {
     "data": {
      "text/plain": [
       "((15522, 39), (15647, 39))"
      ]
     },
     "execution_count": 12,
     "metadata": {},
     "output_type": "execute_result"
    }
   ],
   "source": [
    "#The proportion of urine output with a null value is so large that forward interpolation leads to a sharp increase in urine output\n",
    "df_fea_add[df_fea_add[\"urineoutput\"].isnull()].shape,df_fea_add[~df_fea_add[\"urineoutput\"].isnull()].shape"
   ]
  },
  {
   "cell_type": "markdown",
   "id": "b1c5334c",
   "metadata": {},
   "source": [
    "## Forward interpolation"
   ]
  },
  {
   "cell_type": "code",
   "execution_count": null,
   "id": "070629a6",
   "metadata": {
    "ExecuteTime": {
     "end_time": "2023-12-14T06:42:53.250388Z",
     "start_time": "2023-12-14T06:42:51.471147Z"
    }
   },
   "outputs": [
    {
     "name": "stderr",
     "output_type": "stream",
     "text": [
      "/home/hanl/miniconda3/envs/mytensor/lib/python3.9/site-packages/ipykernel/ipkernel.py:287: DeprecationWarning: `should_run_async` will not call `transform_cell` automatically in the future. Please pass the result to `transformed_cell` argument and any exception that happen during thetransform in `preprocessing_exc_tuple` in IPython 7.17 and above.\n",
      "  and should_run_async(code)\n"
     ]
    }
   ],
   "source": [
    "df_fea_add[\"urineoutput\"] = df_fea_add[\"urineoutput\"].fillna(0)\n",
    "# ## Forward interpolation\n",
    "tmp_df = pd.DataFrame()\n",
    "df_fea_add = df_fea_add.sort_values(by=[\"stay_id\",\"time\"])\n",
    "for i,j in df_fea_add.groupby([\"stay_id\"]):\n",
    "    j = j.fillna(method=\"ffill\")\n",
    "    tmp_df = pd.concat([tmp_df, j], axis=0)\n",
    "df_im = tmp_df"
   ]
  },
  {
   "cell_type": "code",
   "execution_count": null,
   "id": "cf87694c",
   "metadata": {
    "ExecuteTime": {
     "end_time": "2023-12-14T06:42:53.739970Z",
     "start_time": "2023-12-14T06:42:53.251400Z"
    }
   },
   "outputs": [
    {
     "name": "stderr",
     "output_type": "stream",
     "text": [
      "/home/hanl/miniconda3/envs/mytensor/lib/python3.9/site-packages/ipykernel/ipkernel.py:287: DeprecationWarning: `should_run_async` will not call `transform_cell` automatically in the future. Please pass the result to `transformed_cell` argument and any exception that happen during thetransform in `preprocessing_exc_tuple` in IPython 7.17 and above.\n",
      "  and should_run_async(code)\n"
     ]
    },
    {
     "data": {
      "text/plain": [
       "(35,\n",
       " \"['stay_id', 'time', 'fio2', 'po2', 'pco2', 'ph', 'aniongap', 'baseexcess', 'urineoutput', 'albumin', 'bilirubin', 'bun', 'calcium', 'chloride', 'creatinine', 'glucose', 'bicarbonate', 'hematocrit', 'hemoglobin', 'inr', 'lactate', 'platelets', 'potassium', 'sodium', 'wbc', 'alt', 'ast', 'alp', 'heart_rate', 'resp_rate', 'spo2', 'temperature', 'mbp', 'sbp', 'dbp']\")"
      ]
     },
     "execution_count": 14,
     "metadata": {},
     "output_type": "execute_result"
    }
   ],
   "source": [
    "# ind according to na\n",
    "df = df_im\n",
    "tmp_df = pd.DataFrame(df.isna().sum()/df.shape[0])\n",
    "tmp_df = tmp_df.reset_index()\n",
    "\n",
    "fea_lst = tmp_df[tmp_df[0]<=0.6][\"index\"].tolist()\n",
    "fea_lst.extend([\"mbp\",\"sbp\",\"dbp\"])\n",
    "df_im = df_im[fea_lst]\n",
    "df_im.to_csv(\"./df_im_By_ffill.csv\",index=False)\n",
    "len(fea_lst), str(fea_lst)"
   ]
  },
  {
   "cell_type": "markdown",
   "id": "f406191a",
   "metadata": {},
   "source": [
    "## Multiple interpolation"
   ]
  },
  {
   "cell_type": "code",
   "execution_count": null,
   "id": "f7902592",
   "metadata": {
    "ExecuteTime": {
     "end_time": "2023-12-14T06:44:10.158425Z",
     "start_time": "2023-12-14T06:42:53.740907Z"
    }
   },
   "outputs": [
    {
     "name": "stderr",
     "output_type": "stream",
     "text": [
      "/home/hanl/miniconda3/envs/mytensor/lib/python3.9/site-packages/ipykernel/ipkernel.py:287: DeprecationWarning: `should_run_async` will not call `transform_cell` automatically in the future. Please pass the result to `transformed_cell` argument and any exception that happen during thetransform in `preprocessing_exc_tuple` in IPython 7.17 and above.\n",
      "  and should_run_async(code)\n"
     ]
    },
    {
     "data": {
      "text/html": [
       "<div>\n",
       "<style scoped>\n",
       "    .dataframe tbody tr th:only-of-type {\n",
       "        vertical-align: middle;\n",
       "    }\n",
       "\n",
       "    .dataframe tbody tr th {\n",
       "        vertical-align: top;\n",
       "    }\n",
       "\n",
       "    .dataframe thead th {\n",
       "        text-align: right;\n",
       "    }\n",
       "</style>\n",
       "<table border=\"1\" class=\"dataframe\">\n",
       "  <thead>\n",
       "    <tr style=\"text-align: right;\">\n",
       "      <th></th>\n",
       "      <th>stay_id</th>\n",
       "      <th>time</th>\n",
       "      <th>fio2</th>\n",
       "      <th>po2</th>\n",
       "      <th>pco2</th>\n",
       "      <th>ph</th>\n",
       "      <th>aniongap</th>\n",
       "      <th>baseexcess</th>\n",
       "      <th>urineoutput</th>\n",
       "      <th>albumin</th>\n",
       "      <th>...</th>\n",
       "      <th>alt</th>\n",
       "      <th>ast</th>\n",
       "      <th>alp</th>\n",
       "      <th>heart_rate</th>\n",
       "      <th>resp_rate</th>\n",
       "      <th>spo2</th>\n",
       "      <th>temperature</th>\n",
       "      <th>mbp</th>\n",
       "      <th>sbp</th>\n",
       "      <th>dbp</th>\n",
       "    </tr>\n",
       "  </thead>\n",
       "  <tbody>\n",
       "    <tr>\n",
       "      <th>0</th>\n",
       "      <td>243208</td>\n",
       "      <td>-4.0</td>\n",
       "      <td>0.55</td>\n",
       "      <td>72.5</td>\n",
       "      <td>32.1</td>\n",
       "      <td>7.386</td>\n",
       "      <td>13.0</td>\n",
       "      <td>-4.8</td>\n",
       "      <td>0.0</td>\n",
       "      <td>3.0</td>\n",
       "      <td>...</td>\n",
       "      <td>18.0</td>\n",
       "      <td>20.0</td>\n",
       "      <td>68.0</td>\n",
       "      <td>107.25</td>\n",
       "      <td>20.0</td>\n",
       "      <td>93.5</td>\n",
       "      <td>36.8</td>\n",
       "      <td>86.470588</td>\n",
       "      <td>109.0</td>\n",
       "      <td>74.0</td>\n",
       "    </tr>\n",
       "  </tbody>\n",
       "</table>\n",
       "<p>1 rows × 35 columns</p>\n",
       "</div>"
      ],
      "text/plain": [
       "   stay_id  time  fio2   po2  pco2     ph  aniongap  baseexcess  urineoutput  \\\n",
       "0   243208  -4.0  0.55  72.5  32.1  7.386      13.0        -4.8          0.0   \n",
       "\n",
       "   albumin  ...   alt   ast   alp  heart_rate  resp_rate  spo2  temperature  \\\n",
       "0      3.0  ...  18.0  20.0  68.0      107.25       20.0  93.5         36.8   \n",
       "\n",
       "         mbp    sbp   dbp  \n",
       "0  86.470588  109.0  74.0  \n",
       "\n",
       "[1 rows x 35 columns]"
      ]
     },
     "execution_count": 15,
     "metadata": {},
     "output_type": "execute_result"
    }
   ],
   "source": [
    "# Multiple interpolation\n",
    "df_im = pd.read_csv(\"./df_im_By_ffill.csv\")\n",
    "\n",
    "kernel = mf.ImputationKernel(\n",
    "    df_im,\n",
    "    datasets=3,\n",
    "    save_all_iterations=True,\n",
    "    random_state=10\n",
    ")\n",
    "kernel.mice(iterations = 3, n_jobs=-1)\n",
    "df_im2 = kernel.complete_data(dataset=1)\n",
    "df_im2.to_csv(\"df_im_By_MI.csv\",index=False)\n",
    "df_im2.head(1)"
   ]
  },
  {
   "cell_type": "markdown",
   "id": "987f7942",
   "metadata": {},
   "source": [
    "## Add additional feature - Baseline creatinine rate of change"
   ]
  },
  {
   "cell_type": "code",
   "execution_count": null,
   "id": "ab7cf689",
   "metadata": {
    "ExecuteTime": {
     "end_time": "2023-12-14T06:44:10.781524Z",
     "start_time": "2023-12-14T06:44:10.159614Z"
    }
   },
   "outputs": [
    {
     "name": "stderr",
     "output_type": "stream",
     "text": [
      "/home/hanl/miniconda3/envs/mytensor/lib/python3.9/site-packages/ipykernel/ipkernel.py:287: DeprecationWarning: `should_run_async` will not call `transform_cell` automatically in the future. Please pass the result to `transformed_cell` argument and any exception that happen during thetransform in `preprocessing_exc_tuple` in IPython 7.17 and above.\n",
      "  and should_run_async(code)\n"
     ]
    },
    {
     "data": {
      "text/html": [
       "<div>\n",
       "<style scoped>\n",
       "    .dataframe tbody tr th:only-of-type {\n",
       "        vertical-align: middle;\n",
       "    }\n",
       "\n",
       "    .dataframe tbody tr th {\n",
       "        vertical-align: top;\n",
       "    }\n",
       "\n",
       "    .dataframe thead th {\n",
       "        text-align: right;\n",
       "    }\n",
       "</style>\n",
       "<table border=\"1\" class=\"dataframe\">\n",
       "  <thead>\n",
       "    <tr style=\"text-align: right;\">\n",
       "      <th></th>\n",
       "      <th>stay_id</th>\n",
       "      <th>time</th>\n",
       "      <th>fio2</th>\n",
       "      <th>po2</th>\n",
       "      <th>pco2</th>\n",
       "      <th>ph</th>\n",
       "      <th>aniongap</th>\n",
       "      <th>baseexcess</th>\n",
       "      <th>urineoutput</th>\n",
       "      <th>albumin</th>\n",
       "      <th>...</th>\n",
       "      <th>ast</th>\n",
       "      <th>alp</th>\n",
       "      <th>heart_rate</th>\n",
       "      <th>resp_rate</th>\n",
       "      <th>spo2</th>\n",
       "      <th>temperature</th>\n",
       "      <th>mbp</th>\n",
       "      <th>sbp</th>\n",
       "      <th>dbp</th>\n",
       "      <th>crea_divide_basecrea</th>\n",
       "    </tr>\n",
       "  </thead>\n",
       "  <tbody>\n",
       "    <tr>\n",
       "      <th>0</th>\n",
       "      <td>243208</td>\n",
       "      <td>-4.0</td>\n",
       "      <td>0.55</td>\n",
       "      <td>72.5</td>\n",
       "      <td>32.1</td>\n",
       "      <td>7.386</td>\n",
       "      <td>13.0</td>\n",
       "      <td>-4.8</td>\n",
       "      <td>0.0</td>\n",
       "      <td>3.0</td>\n",
       "      <td>...</td>\n",
       "      <td>20.0</td>\n",
       "      <td>68.0</td>\n",
       "      <td>107.25</td>\n",
       "      <td>20.0</td>\n",
       "      <td>93.5</td>\n",
       "      <td>36.8</td>\n",
       "      <td>86.470588</td>\n",
       "      <td>109.000000</td>\n",
       "      <td>74.00</td>\n",
       "      <td>1.0</td>\n",
       "    </tr>\n",
       "    <tr>\n",
       "      <th>1</th>\n",
       "      <td>243208</td>\n",
       "      <td>-3.0</td>\n",
       "      <td>0.30</td>\n",
       "      <td>54.0</td>\n",
       "      <td>31.5</td>\n",
       "      <td>7.420</td>\n",
       "      <td>13.0</td>\n",
       "      <td>-4.2</td>\n",
       "      <td>0.0</td>\n",
       "      <td>3.5</td>\n",
       "      <td>...</td>\n",
       "      <td>46.0</td>\n",
       "      <td>268.0</td>\n",
       "      <td>112.00</td>\n",
       "      <td>20.0</td>\n",
       "      <td>95.0</td>\n",
       "      <td>37.8</td>\n",
       "      <td>82.800000</td>\n",
       "      <td>120.333333</td>\n",
       "      <td>65.75</td>\n",
       "      <td>1.0</td>\n",
       "    </tr>\n",
       "  </tbody>\n",
       "</table>\n",
       "<p>2 rows × 36 columns</p>\n",
       "</div>"
      ],
      "text/plain": [
       "   stay_id  time  fio2   po2  pco2     ph  aniongap  baseexcess  urineoutput  \\\n",
       "0   243208  -4.0  0.55  72.5  32.1  7.386      13.0        -4.8          0.0   \n",
       "1   243208  -3.0  0.30  54.0  31.5  7.420      13.0        -4.2          0.0   \n",
       "\n",
       "   albumin  ...   ast    alp  heart_rate  resp_rate  spo2  temperature  \\\n",
       "0      3.0  ...  20.0   68.0      107.25       20.0  93.5         36.8   \n",
       "1      3.5  ...  46.0  268.0      112.00       20.0  95.0         37.8   \n",
       "\n",
       "         mbp         sbp    dbp  crea_divide_basecrea  \n",
       "0  86.470588  109.000000  74.00                   1.0  \n",
       "1  82.800000  120.333333  65.75                   1.0  \n",
       "\n",
       "[2 rows x 36 columns]"
      ]
     },
     "execution_count": 16,
     "metadata": {},
     "output_type": "execute_result"
    }
   ],
   "source": [
    "# add creatinine change number is taken as the characteristic\n",
    "df_base_crea = pd.read_csv(\"/public/hanl/jupyter_dir/kidney_sepsis_penotype_v3/00.data_eicu/disease_definition/AKI/df_base_crea.csv\")\n",
    "df_feaf = pd.merge(df_im2,df_base_crea,how=\"inner\",on=\"stay_id\")\n",
    "df_feaf[\"crea_divide_basecrea\"] = round(df_feaf[\"creatinine\"]/df_feaf[\"baseline_creatinine\"],2)\n",
    "df_feaf = df_feaf.drop([\"baseline_creatinine\"],axis=1)\n",
    "df_feaf.to_csv(\"sk_feature_timescale_eicu.csv\",index=False)\n",
    "df_feaf.head(2)"
   ]
  },
  {
   "cell_type": "markdown",
   "id": "6cabc137",
   "metadata": {},
   "source": [
    "## Different outputs\n",
    "- Only include the average value"
   ]
  },
  {
   "cell_type": "code",
   "execution_count": 17,
   "id": "976340ba",
   "metadata": {
    "ExecuteTime": {
     "end_time": "2023-12-14T06:44:11.360519Z",
     "start_time": "2023-12-14T06:44:10.782545Z"
    },
    "run_control": {
     "marked": true
    }
   },
   "outputs": [
    {
     "name": "stderr",
     "output_type": "stream",
     "text": [
      "/home/hanl/miniconda3/envs/mytensor/lib/python3.9/site-packages/ipykernel/ipkernel.py:287: DeprecationWarning: `should_run_async` will not call `transform_cell` automatically in the future. Please pass the result to `transformed_cell` argument and any exception that happen during thetransform in `preprocessing_exc_tuple` in IPython 7.17 and above.\n",
      "  and should_run_async(code)\n"
     ]
    },
    {
     "data": {
      "text/plain": [
       "1417"
      ]
     },
     "execution_count": 17,
     "metadata": {},
     "output_type": "execute_result"
    }
   ],
   "source": [
    "df_feaf.to_csv(\"sk_feature_timescale_eicu.csv\",index=False)\n",
    "len(df_feaf.stay_id.unique())"
   ]
  },
  {
   "cell_type": "code",
   "execution_count": null,
   "id": "26509497",
   "metadata": {
    "ExecuteTime": {
     "end_time": "2023-12-14T06:44:11.368625Z",
     "start_time": "2023-12-14T06:44:11.361474Z"
    },
    "run_control": {
     "marked": true
    }
   },
   "outputs": [
    {
     "name": "stderr",
     "output_type": "stream",
     "text": [
      "/home/hanl/miniconda3/envs/mytensor/lib/python3.9/site-packages/ipykernel/ipkernel.py:287: DeprecationWarning: `should_run_async` will not call `transform_cell` automatically in the future. Please pass the result to `transformed_cell` argument and any exception that happen during thetransform in `preprocessing_exc_tuple` in IPython 7.17 and above.\n",
      "  and should_run_async(code)\n"
     ]
    },
    {
     "data": {
      "text/plain": [
       "-1.0    1.000000\n",
       "-2.0    0.969654\n",
       "-3.0    0.767819\n",
       "-4.0    0.589273\n",
       "Name: time, dtype: float64"
      ]
     },
     "execution_count": 18,
     "metadata": {},
     "output_type": "execute_result"
    }
   ],
   "source": [
    "# The starting point of clustering for the final 51,912 patients was determined: It was finally decided to start 12 hours before the onset of SAKI\n",
    "df = df_feaf\n",
    "tmp_df = df[df[\"time\"].isin([-4,-3,-2,-1])]\n",
    "tmp_df[\"time\"].value_counts()/len(df.stay_id.unique())"
   ]
  },
  {
   "cell_type": "code",
   "execution_count": 19,
   "id": "677f2795",
   "metadata": {
    "ExecuteTime": {
     "end_time": "2023-12-14T06:44:11.889394Z",
     "start_time": "2023-12-14T06:44:11.369573Z"
    }
   },
   "outputs": [
    {
     "name": "stderr",
     "output_type": "stream",
     "text": [
      "/home/hanl/miniconda3/envs/mytensor/lib/python3.9/site-packages/ipykernel/ipkernel.py:287: DeprecationWarning: `should_run_async` will not call `transform_cell` automatically in the future. Please pass the result to `transformed_cell` argument and any exception that happen during thetransform in `preprocessing_exc_tuple` in IPython 7.17 and above.\n",
      "  and should_run_async(code)\n"
     ]
    }
   ],
   "source": [
    "df = df_feaf[df_feaf[\"time\"]>=-2]\n",
    "df.to_csv(\"sk_feature_timescale_Fb2_eicu.csv\",index=False)"
   ]
  }
 ],
 "metadata": {
  "kernelspec": {
   "display_name": "Python [conda env:mytensor]",
   "language": "python",
   "name": "conda-env-mytensor-py"
  },
  "language_info": {
   "codemirror_mode": {
    "name": "ipython",
    "version": 3
   },
   "file_extension": ".py",
   "mimetype": "text/x-python",
   "name": "python",
   "nbconvert_exporter": "python",
   "pygments_lexer": "ipython3",
   "version": "3.9.12"
  },
  "toc": {
   "base_numbering": 1,
   "nav_menu": {},
   "number_sections": true,
   "sideBar": true,
   "skip_h1_title": false,
   "title_cell": "Table of Contents",
   "title_sidebar": "Contents",
   "toc_cell": false,
   "toc_position": {
    "height": "calc(100% - 180px)",
    "left": "10px",
    "top": "150px",
    "width": "225.451px"
   },
   "toc_section_display": true,
   "toc_window_display": true
  },
  "varInspector": {
   "cols": {
    "lenName": 16,
    "lenType": 16,
    "lenVar": 40
   },
   "kernels_config": {
    "python": {
     "delete_cmd_postfix": "",
     "delete_cmd_prefix": "del ",
     "library": "var_list.py",
     "varRefreshCmd": "print(var_dic_list())"
    },
    "r": {
     "delete_cmd_postfix": ") ",
     "delete_cmd_prefix": "rm(",
     "library": "var_list.r",
     "varRefreshCmd": "cat(var_dic_list()) "
    }
   },
   "oldHeight": 478.81926,
   "position": {
    "height": "500.799px",
    "left": "1068.23px",
    "right": "20px",
    "top": "74.9699px",
    "width": "349.977px"
   },
   "types_to_exclude": [
    "module",
    "function",
    "builtin_function_or_method",
    "instance",
    "_Feature"
   ],
   "varInspector_section_display": "block",
   "window_display": false
  }
 },
 "nbformat": 4,
 "nbformat_minor": 5
}
