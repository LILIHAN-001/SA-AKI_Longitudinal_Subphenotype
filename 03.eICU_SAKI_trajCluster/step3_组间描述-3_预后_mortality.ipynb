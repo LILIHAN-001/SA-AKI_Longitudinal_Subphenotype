{
 "cells": [
  {
   "cell_type": "markdown",
   "id": "5d094976",
   "metadata": {},
   "source": [
    "# def"
   ]
  },
  {
   "cell_type": "code",
   "execution_count": 1,
   "id": "f6b5692f",
   "metadata": {
    "ExecuteTime": {
     "end_time": "2024-02-21T13:13:27.345223Z",
     "start_time": "2024-02-21T13:04:45.694Z"
    }
   },
   "outputs": [
    {
     "name": "stderr",
     "output_type": "stream",
     "text": [
      "Loading required package: ggplot2\n",
      "\n",
      "Loading required package: ggpubr\n",
      "\n",
      "\n",
      "Attaching package: ‘survminer’\n",
      "\n",
      "\n",
      "The following object is masked from ‘package:survival’:\n",
      "\n",
      "    myeloma\n",
      "\n",
      "\n"
     ]
    }
   ],
   "source": [
    "library(MatchIt)\n",
    "library(survival)\n",
    "library(survminer)\n",
    "library(tidyr)\n",
    "library(tableone)"
   ]
  },
  {
   "cell_type": "code",
   "execution_count": 2,
   "id": "8572d569",
   "metadata": {
    "ExecuteTime": {
     "end_time": "2024-02-21T13:13:27.381870Z",
     "start_time": "2024-02-21T13:04:45.697Z"
    }
   },
   "outputs": [],
   "source": [
    "#函数\n",
    "survival_curve <- function(data,title,survival_day,expire_flag){\n",
    "    df_select <- data\n",
    "    fit <- survfit(Surv(survival_day,expire_flag) ~ groupHPD, data = df_select)\n",
    "\n",
    "    ggsurvplot(fit, data = df_select, \n",
    "               surv.median.line = \"hv\",  # 增加中位生存时间\n",
    "               conf.int = TRUE, # 增加置信区间\n",
    "              # risk.table = TRUE, # 绘制累计风险曲线\n",
    "#               title=title,\n",
    "               pval = TRUE,\n",
    "               #add.all = TRUE, # 添加总患者生存曲线\n",
    "               xlab = \"Follow up time(day)\",\n",
    "               legend = c(0.2,0.2)) # 指定图例位置\n",
    "  #  ggsave(paste0(\"./plot_survival/plot/\",title,\".pdf\"), print(pp))\n",
    "}"
   ]
  },
  {
   "cell_type": "markdown",
   "id": "da1877d7",
   "metadata": {},
   "source": [
    "# 28d mortality - 未配对数据"
   ]
  },
  {
   "cell_type": "code",
   "execution_count": 3,
   "id": "d4e72f3a",
   "metadata": {
    "ExecuteTime": {
     "end_time": "2024-02-21T13:13:28.895596Z",
     "start_time": "2024-02-21T13:04:45.699Z"
    }
   },
   "outputs": [
    {
     "name": "stderr",
     "output_type": "stream",
     "text": [
      "Warning message in do_once((if (is_R_CMD_check()) stop else warning)(\"The function xfun::isFALSE() will be deprecated in the future. Please \", :\n",
      "“The function xfun::isFALSE() will be deprecated in the future. Please consider using base::isFALSE(x) or identical(x, FALSE) instead.”\n"
     ]
    },
    {
     "data": {
      "text/html": [
       "<strong>png:</strong> 2"
      ],
      "text/latex": [
       "\\textbf{png:} 2"
      ],
      "text/markdown": [
       "**png:** 2"
      ],
      "text/plain": [
       "png \n",
       "  2 "
      ]
     },
     "metadata": {},
     "output_type": "display_data"
    }
   ],
   "source": [
    "df_survival <- read.csv(\"sk_survival.csv\",as.is = TRUE)\n",
    "df_survival <- as.data.frame(df_survival)\n",
    "df_select =  df_survival[,c(\"survival_28day\",\"mortality_28d\",\"groupHPD\")]\n",
    "df_select=as.data.frame(lapply(df_select,as.numeric))\n",
    "\n",
    "pdf(\"eicu_28d_mortality.pdf\")\n",
    "png(\"eicu_28d_mortality.png\")\n",
    "fit <- survfit(Surv(survival_28day,mortality_28d) ~ groupHPD, data = df_select)\n",
    "ggsurv <- ggsurvplot(fit, data = df_select, \n",
    "               surv.median.line = \"hv\",  # 增加中位生存时间\n",
    "               conf.int = TRUE, # 增加置信区间\n",
    "               risk.table = TRUE, # 绘制累计风险曲线\n",
    "               risk.table.height = 0.25,\n",
    "               title=\"eICU\",\n",
    "               pval = TRUE,pval.size = 7,\n",
    "               palette = c(\"#74a8ff\",\"#3fc968\",\"#f8746a\"),\n",
    "               xlab = \"Follow up time (days)\",\n",
    "               legend = c(0.8,0.2),\n",
    "               legend.title = \"\",legend.labs = c(\" DR \", \" RR \",\" PW \"), \n",
    "               font.main = 25,     #标题字体大小\n",
    "               font.x = 20,        #x坐标字体大小\n",
    "               font.y = 20,        #y坐标字体大小\n",
    "               font.tickslab = 16,\n",
    "               risk.table.fontsize = 6,tables.theme = theme_cleantable()+ \n",
    "    theme(axis.text.y = element_text(size = 16))\n",
    "          )  \n",
    "ggsurv$plot <- ggsurv$plot +\n",
    "  theme(legend.text = element_text(size = 16),plot.title = element_text(hjust = 0.5))  # 调整图例文本的字体大小为16\n",
    "ggsurv$table <- ggsurv$table +\n",
    "  theme(plot.title = element_text(size = 20, color = \"black\", face = \"bold\"))\n",
    "ggsurv\n",
    "dev.off()"
   ]
  },
  {
   "cell_type": "code",
   "execution_count": 4,
   "id": "f22b0bc8",
   "metadata": {
    "ExecuteTime": {
     "end_time": "2024-02-21T13:13:28.908767Z",
     "start_time": "2024-02-21T13:04:45.700Z"
    }
   },
   "outputs": [
    {
     "ename": "ERROR",
     "evalue": "Error in eval(expr, envir, enclos): object 'sss' not found\n",
     "output_type": "error",
     "traceback": [
      "Error in eval(expr, envir, enclos): object 'sss' not found\nTraceback:\n"
     ]
    }
   ],
   "source": [
    "sss"
   ]
  },
  {
   "cell_type": "code",
   "execution_count": null,
   "id": "d4f86430",
   "metadata": {
    "ExecuteTime": {
     "end_time": "2024-02-21T13:13:28.910598Z",
     "start_time": "2024-02-21T13:04:45.701Z"
    }
   },
   "outputs": [],
   "source": [
    "df_survival <- read.csv(\"sk_survival.csv\",as.is = TRUE)\n",
    "df_survival <- as.data.frame(df_survival)\n",
    "df_select =  df_survival[,c(\"survival_28day\",\"mortality_28d\",\"groupHPD\")]\n",
    "df_select=as.data.frame(lapply(df_select,as.numeric))\n",
    "\n",
    "#pdf(\"eicu_28d_mortality.pdf\")\n",
    "fit <- survfit(Surv(survival_28day,mortality_28d) ~ groupHPD, data = df_select)\n",
    "ggsurvplot(fit, data = df_select, \n",
    "               surv.median.line = \"hv\",  # 增加中位生存时间\n",
    "               conf.int = TRUE, # 增加置信区间\n",
    "               risk.table = TRUE, # 绘制累计风险曲线\n",
    "               title=\"eICU: 28 day-Mortality\",\n",
    "               pval = TRUE,\n",
    "               #add.all = TRUE, # 添加总患者生存曲线\n",
    "               xlab = \"Follow up time(day)\",\n",
    "               palette = c(\"#74a8ff\",\"#3fc968\",\"#f8746a\"),\n",
    "               legend = c(0.8,0.2),legend.title = \"\",legend.labs = c(\" C1 \", \" C2 \",\" C3 \")) # 指定图例位置\n",
    "#dev.off()"
   ]
  },
  {
   "cell_type": "code",
   "execution_count": null,
   "id": "22337e56",
   "metadata": {
    "ExecuteTime": {
     "end_time": "2024-02-21T13:13:28.912167Z",
     "start_time": "2024-02-21T13:04:45.702Z"
    }
   },
   "outputs": [],
   "source": [
    "stop!"
   ]
  },
  {
   "cell_type": "markdown",
   "id": "ed10b008",
   "metadata": {
    "ExecuteTime": {
     "end_time": "2023-02-14T11:46:25.763096Z",
     "start_time": "2023-02-14T11:42:20.680Z"
    }
   },
   "source": [
    "# 7d mortality - 未配对数据"
   ]
  },
  {
   "cell_type": "code",
   "execution_count": null,
   "id": "958ddccb",
   "metadata": {
    "ExecuteTime": {
     "end_time": "2024-02-21T13:13:28.913746Z",
     "start_time": "2024-02-21T13:04:45.704Z"
    }
   },
   "outputs": [],
   "source": [
    "df_survival <- read.csv(\"sk_survival.csv\",as.is = TRUE)\n",
    "df_survival <- as.data.frame(df_survival)\n",
    "df_select =  df_survival[,c(\"survival_7day\",\"mortality_7d\",\"groupHPD\")]\n",
    "df_select=as.data.frame(lapply(df_select,as.numeric))\n",
    "\n",
    "fit <- survfit(Surv(survival_7day,mortality_7d) ~ groupHPD, data = df_select)\n",
    "ggsurvplot(fit, data = df_select, \n",
    "               surv.median.line = \"hv\",  # 增加中位生存时间\n",
    "               conf.int = TRUE, # 增加置信区间\n",
    "               risk.table = TRUE, # 绘制累计风险曲线\n",
    "               title=\"7 day-Mortality\",\n",
    "               pval = TRUE,\n",
    "               #add.all = TRUE, # 添加总患者生存曲线\n",
    "               xlab = \"Follow up time(day)\",\n",
    "               legend = c(0.8,0.2)) # 指定图例位置"
   ]
  },
  {
   "cell_type": "markdown",
   "id": "5761f4dc",
   "metadata": {},
   "source": [
    "# 28 mortality 数据配对\n",
    "- ICU类型\n",
    "- 疾病\n",
    "- 年龄"
   ]
  },
  {
   "cell_type": "code",
   "execution_count": null,
   "id": "d73b0ec6",
   "metadata": {
    "ExecuteTime": {
     "end_time": "2024-02-21T13:13:28.915308Z",
     "start_time": "2024-02-21T13:04:45.706Z"
    }
   },
   "outputs": [],
   "source": [
    "df_match_fea <- read.csv(\"df_match_fea.csv\",as.is = TRUE)\n",
    "df_match_fea <- as.data.frame(df_match_fea)\n",
    "df_match_fea"
   ]
  },
  {
   "cell_type": "code",
   "execution_count": null,
   "id": "6e784652",
   "metadata": {
    "ExecuteTime": {
     "end_time": "2024-02-21T13:13:28.916909Z",
     "start_time": "2024-02-21T13:04:45.707Z"
    }
   },
   "outputs": [],
   "source": [
    "df_match_fea$group_creteria <- df_match_fea[ , \"groupHPD\"]\n",
    "data_match <- matchit(group_creteria~  age + first_careunit + myocardial_infarct + congestive_heart_failure + peripheral_vascular_disease + cerebrovascular_disease + Acidosis + Hyperlipidemia + Hypertension + diabetes_mellitus + respiratory_failure + septic_shock + liver_disease, data = df_match_fea, method=\"nearest\", ratio=1, distance = 'logit',caliper = 0.2)\n",
    "d1 <- data_match$match.matrix\n",
    "d2 <- rownames(d1)\n",
    "rownames(d1) <- NULL\n",
    "pairs <- cbind(d2, d1) # pair 为治疗组：对照组 数字代表数据框的索引\n",
    "pairs <- as.data.frame(pairs) # pairs[which(pairs$d2 %in% 10007),]\n",
    "df_match_byClass <- match.data(data_match)\n",
    "print(summary(data_match)$nn)"
   ]
  },
  {
   "cell_type": "markdown",
   "id": "295a83cd",
   "metadata": {},
   "source": [
    "# 肾恢复模式生存图"
   ]
  },
  {
   "cell_type": "code",
   "execution_count": null,
   "id": "a750f6fd",
   "metadata": {
    "ExecuteTime": {
     "end_time": "2024-02-21T13:13:28.918504Z",
     "start_time": "2024-02-21T13:04:45.709Z"
    }
   },
   "outputs": [],
   "source": [
    "df_survival <- read.csv(\"sk_survival_include_recoverymode.csv\",as.is = TRUE)\n",
    "df_survival <- as.data.frame(df_survival)\n",
    "df_select =  df_survival[,c(\"survival_28day\",\"mortality_28d\",\"groupHPD\")]\n",
    "df_select=as.data.frame(lapply(df_select,as.numeric))\n",
    "#df_select <- subset(df_select, groupHPD == c(1,2))\n",
    "\n",
    "fit <- survfit(Surv(survival_28day,mortality_28d) ~ groupHPD, data = df_select)\n",
    "ggsurvplot(fit, data = df_select, \n",
    "               surv.median.line = \"hv\",  # 增加中位生存时间\n",
    "               conf.int = TRUE, # 增加置信区间\n",
    "               risk.table = TRUE, # 绘制累计风险曲线\n",
    "               title=\"28 day-Mortality\",\n",
    "               pval = TRUE,\n",
    "               #add.all = TRUE, # 添加总患者生存曲线\n",
    "               xlab = \"Follow up time(day)\",\n",
    "               legend = c(0.8,0.2)) # 指定图例位置"
   ]
  },
  {
   "cell_type": "code",
   "execution_count": null,
   "id": "df1174a7",
   "metadata": {
    "ExecuteTime": {
     "end_time": "2024-02-21T13:13:28.920083Z",
     "start_time": "2024-02-21T13:04:45.710Z"
    }
   },
   "outputs": [],
   "source": [
    "df_survival <- read.csv(\"sk_survival_include_recoverymode.csv\",as.is = TRUE)\n",
    "df_survival <- as.data.frame(df_survival)\n",
    "df_select =  df_survival[,c(\"survival_28day\",\"mortality_28d\",\"groupHPD\",\"stayid_state_num\")]\n",
    "df_select=as.data.frame(lapply(df_select,as.numeric))\n",
    "\n",
    "fit <- survfit(Surv(survival_28day,mortality_28d) ~ stayid_state_num, data = df_select)\n",
    "ggsurvplot(fit, data = df_select, \n",
    "               surv.median.line = \"hv\",  # 增加中位生存时间\n",
    "               conf.int = TRUE, # 增加置信区间\n",
    "               risk.table = TRUE, # 绘制累计风险曲线\n",
    "               title=\"28 day-Mortality\",\n",
    "               pval = TRUE,\n",
    "               #add.all = TRUE, # 添加总患者生存曲线\n",
    "               xlab = \"Follow up time(day)\",\n",
    "               legend = c(0.8,0.2)) # 指定图例位置"
   ]
  },
  {
   "cell_type": "code",
   "execution_count": null,
   "id": "430a3754",
   "metadata": {
    "ExecuteTime": {
     "end_time": "2024-02-21T13:13:28.921671Z",
     "start_time": "2024-02-21T13:04:45.712Z"
    }
   },
   "outputs": [],
   "source": [
    "df_survival <- read.csv(\"sk_survival_include_recoverymode.csv\",as.is = TRUE)\n",
    "df_survival <- as.data.frame(df_survival)\n",
    "df_select =  df_survival[,c(\"survival_28day\",\"mortality_28d\",\"groupHPD\",\"stayid_state_num\")]\n",
    "\n",
    "df_select <- subset(df_select, groupHPD == 3)\n",
    "#df_select <- subset(df_select, stayid_state_num == 1)#c(1,2)\n",
    "df_select = tidyr::unite(df_select, \"class\", groupHPD, stayid_state_num)\n",
    "\n",
    "fit <- survfit(Surv(survival_28day,mortality_28d) ~ class, data = df_select)\n",
    "ggsurvplot(fit, data = df_select, \n",
    "               surv.median.line = \"hv\",  # 增加中位生存时间\n",
    "               conf.int = TRUE, # 增加置信区间\n",
    "               risk.table = TRUE, # 绘制累计风险曲线\n",
    "               title=\"28 day-Mortality\",\n",
    "               pval = TRUE,\n",
    "               #add.all = TRUE, # 添加总患者生存曲线\n",
    "               xlab = \"Follow up time(day)\",\n",
    "               legend = c(0.8,0.2)) # 指定图例位置"
   ]
  },
  {
   "cell_type": "code",
   "execution_count": null,
   "id": "8ad077e6",
   "metadata": {
    "ExecuteTime": {
     "end_time": "2024-02-21T13:13:28.923283Z",
     "start_time": "2024-02-21T13:04:45.714Z"
    }
   },
   "outputs": [],
   "source": [
    "df_survival <- read.csv(\"sk_survival_include_recoverymode.csv\",as.is = TRUE)\n",
    "df_survival <- as.data.frame(df_survival)\n",
    "df_select =  df_survival[,c(\"survival_28day\",\"mortality_28d\",\"groupHPD\",\"stayid_state_num\")]\n",
    "\n",
    "#df_select <- subset(df_select, groupHPD == c(1,3))\n",
    "df_select <- subset(df_select, stayid_state_num == 3)\n",
    "df_select = tidyr::unite(df_select, \"class\", groupHPD, stayid_state_num)\n",
    "\n",
    "fit <- survfit(Surv(survival_28day,mortality_28d) ~ class, data = df_select)\n",
    "ggsurvplot(fit, data = df_select, \n",
    "               surv.median.line = \"hv\",  # 增加中位生存时间\n",
    "               conf.int = TRUE, # 增加置信区间\n",
    "               risk.table = TRUE, # 绘制累计风险曲线\n",
    "               title=\"28 day-Mortality\",\n",
    "               pval = TRUE,\n",
    "               #add.all = TRUE, # 添加总患者生存曲线\n",
    "               xlab = \"Follow up time(day)\",\n",
    "               legend = c(0.8,0.2)) # 指定图例位置"
   ]
  },
  {
   "cell_type": "markdown",
   "id": "cebb6d27",
   "metadata": {},
   "source": [
    "# 肌酐尿量分别恢复情况的预后\n",
    "- \"UC_CC\":1,\n",
    "- \"UC_PC\":2\n",
    "- \"UC_CP\":3\n",
    "- 'UC_PP':4"
   ]
  },
  {
   "cell_type": "code",
   "execution_count": null,
   "id": "166e235e",
   "metadata": {
    "ExecuteTime": {
     "end_time": "2024-02-21T13:13:28.924912Z",
     "start_time": "2024-02-21T13:04:45.715Z"
    }
   },
   "outputs": [],
   "source": [
    "df_survival <- read.csv(\"sk_survival_肌酐尿量分别是否恢复.csv\",as.is = TRUE)\n",
    "df_survival <- as.data.frame(df_survival)\n",
    "df_select =  df_survival[,c(\"survival_28day\",\"mortality_28d\",\"groupHPD\",\"type_num\")]\n",
    "df_select=as.data.frame(lapply(df_select,as.numeric))\n",
    "df_select <- subset(df_select, type_num == c(2,3))\n",
    "\n",
    "fit <- survfit(Surv(survival_28day,mortality_28d) ~ type_num, data = df_select)\n",
    "ggsurvplot(fit, data = df_select, \n",
    "               surv.median.line = \"hv\",  # 增加中位生存时间\n",
    "               conf.int = TRUE, # 增加置信区间\n",
    "               risk.table = TRUE, # 绘制累计风险曲线\n",
    "               title=\"28 day-Mortality\",\n",
    "               pval = TRUE,\n",
    "               #add.all = TRUE, # 添加总患者生存曲线\n",
    "               xlab = \"Follow up time(day)\",\n",
    "               legend = c(0.8,0.2)) # 指定图例位置"
   ]
  },
  {
   "cell_type": "code",
   "execution_count": null,
   "id": "bedb9cdb",
   "metadata": {
    "ExecuteTime": {
     "end_time": "2024-02-21T13:13:28.926556Z",
     "start_time": "2024-02-21T13:04:45.717Z"
    }
   },
   "outputs": [],
   "source": [
    "df_survival <- read.csv(\"sk_survival_肌酐尿量分别是否恢复.csv\",as.is = TRUE)\n",
    "df_survival <- as.data.frame(df_survival)\n",
    "df_select =  df_survival[,c(\"survival_28day\",\"mortality_28d\",\"groupHPD\",\"type_num\")]\n",
    "\n",
    "df_select <- subset(df_select, groupHPD == 1)\n",
    "df_select = tidyr::unite(df_select, \"class\", groupHPD, type_num)\n",
    "\n",
    "fit <- survfit(Surv(survival_28day,mortality_28d) ~ class, data = df_select)\n",
    "ggsurvplot(fit, data = df_select, \n",
    "               surv.median.line = \"hv\",  # 增加中位生存时间\n",
    "               conf.int = TRUE, # 增加置信区间\n",
    "               risk.table = TRUE, # 绘制累计风险曲线\n",
    "               title=\"28 day-Mortality\",\n",
    "               pval = TRUE,\n",
    "               #add.all = TRUE, # 添加总患者生存曲线\n",
    "               xlab = \"Follow up time(day)\",\n",
    "               legend = c(0.8,0.2)) # 指定图例位置"
   ]
  },
  {
   "cell_type": "code",
   "execution_count": null,
   "id": "bc957082",
   "metadata": {
    "ExecuteTime": {
     "end_time": "2024-02-21T13:13:28.928184Z",
     "start_time": "2024-02-21T13:04:45.718Z"
    }
   },
   "outputs": [],
   "source": [
    "df_survival <- read.csv(\"sk_survival_肌酐尿量分别是否恢复.csv\",as.is = TRUE)\n",
    "df_survival <- as.data.frame(df_survival)\n",
    "df_select =  df_survival[,c(\"survival_28day\",\"mortality_28d\",\"groupHPD\",\"type_num\")]\n",
    "\n",
    "#df_select <- subset(df_select, groupHPD == c(1,2)) \n",
    "df_select <- subset(df_select, type_num == 3) # c(3,2)\n",
    "df_select = tidyr::unite(df_select, \"class\", groupHPD, type_num)\n",
    "\n",
    "fit <- survfit(Surv(survival_28day,mortality_28d) ~ class, data = df_select)\n",
    "ggsurvplot(fit, data = df_select, \n",
    "               surv.median.line = \"hv\",  # 增加中位生存时间\n",
    "               conf.int = TRUE, # 增加置信区间\n",
    "               risk.table = TRUE, # 绘制累计风险曲线\n",
    "               title=\"28 day-Mortality\",\n",
    "               pval = TRUE,\n",
    "               #add.all = TRUE, # 添加总患者生存曲线\n",
    "               xlab = \"Follow up time(day)\",\n",
    "               legend = c(0.8,0.2)) # 指定图例位置"
   ]
  }
 ],
 "metadata": {
  "kernelspec": {
   "display_name": "R [conda env:R]",
   "language": "R",
   "name": "conda-env-R-r"
  },
  "language_info": {
   "codemirror_mode": "r",
   "file_extension": ".r",
   "mimetype": "text/x-r-source",
   "name": "R",
   "pygments_lexer": "r",
   "version": "4.2.2"
  },
  "toc": {
   "base_numbering": 1,
   "nav_menu": {},
   "number_sections": true,
   "sideBar": true,
   "skip_h1_title": false,
   "title_cell": "Table of Contents",
   "title_sidebar": "Contents",
   "toc_cell": false,
   "toc_position": {
    "height": "calc(100% - 180px)",
    "left": "10px",
    "top": "150px",
    "width": "177.986px"
   },
   "toc_section_display": true,
   "toc_window_display": true
  },
  "varInspector": {
   "cols": {
    "lenName": 16,
    "lenType": 16,
    "lenVar": 40
   },
   "kernels_config": {
    "python": {
     "delete_cmd_postfix": "",
     "delete_cmd_prefix": "del ",
     "library": "var_list.py",
     "varRefreshCmd": "print(var_dic_list())"
    },
    "r": {
     "delete_cmd_postfix": ") ",
     "delete_cmd_prefix": "rm(",
     "library": "var_list.r",
     "varRefreshCmd": "cat(var_dic_list()) "
    }
   },
   "types_to_exclude": [
    "module",
    "function",
    "builtin_function_or_method",
    "instance",
    "_Feature"
   ],
   "window_display": false
  }
 },
 "nbformat": 4,
 "nbformat_minor": 5
}
