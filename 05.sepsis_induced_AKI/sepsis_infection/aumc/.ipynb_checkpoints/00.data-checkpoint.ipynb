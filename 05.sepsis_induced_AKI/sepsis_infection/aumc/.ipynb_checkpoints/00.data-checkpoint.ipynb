{
 "cells": [
  {
   "cell_type": "code",
   "execution_count": 88,
   "id": "86c71153",
   "metadata": {
    "ExecuteTime": {
     "end_time": "2024-01-27T16:46:57.275625Z",
     "start_time": "2024-01-27T16:46:57.273590Z"
    }
   },
   "outputs": [],
   "source": [
    "import numpy as np\n",
    "import os\n",
    "import math\n",
    "import pandas as pd\n",
    "import matplotlib.pyplot as plt"
   ]
  },
  {
   "cell_type": "code",
   "execution_count": 89,
   "id": "e3bf9c90",
   "metadata": {
    "ExecuteTime": {
     "end_time": "2024-01-27T17:09:02.791570Z",
     "start_time": "2024-01-27T16:46:58.150074Z"
    },
    "collapsed": true
   },
   "outputs": [
    {
     "name": "stderr",
     "output_type": "stream",
     "text": [
      "<ipython-input-89-75290a5eea7f>:10: DtypeWarning: Columns (7,10,12) have mixed types. Specify dtype option on import or set low_memory=False.\n",
      "  tmp_df = pd.read_csv(infile,header=None, encoding='unicode_escape')\n",
      "<ipython-input-89-75290a5eea7f>:10: DtypeWarning: Columns (7,10,12) have mixed types. Specify dtype option on import or set low_memory=False.\n",
      "  tmp_df = pd.read_csv(infile,header=None, encoding='unicode_escape')\n",
      "<ipython-input-89-75290a5eea7f>:10: DtypeWarning: Columns (7,10,12) have mixed types. Specify dtype option on import or set low_memory=False.\n",
      "  tmp_df = pd.read_csv(infile,header=None, encoding='unicode_escape')\n",
      "<ipython-input-89-75290a5eea7f>:10: DtypeWarning: Columns (7,10,12) have mixed types. Specify dtype option on import or set low_memory=False.\n",
      "  tmp_df = pd.read_csv(infile,header=None, encoding='unicode_escape')\n",
      "<ipython-input-89-75290a5eea7f>:10: DtypeWarning: Columns (7,10,12) have mixed types. Specify dtype option on import or set low_memory=False.\n",
      "  tmp_df = pd.read_csv(infile,header=None, encoding='unicode_escape')\n",
      "<ipython-input-89-75290a5eea7f>:10: DtypeWarning: Columns (7,10,12) have mixed types. Specify dtype option on import or set low_memory=False.\n",
      "  tmp_df = pd.read_csv(infile,header=None, encoding='unicode_escape')\n",
      "<ipython-input-89-75290a5eea7f>:10: DtypeWarning: Columns (7,10,12) have mixed types. Specify dtype option on import or set low_memory=False.\n",
      "  tmp_df = pd.read_csv(infile,header=None, encoding='unicode_escape')\n",
      "<ipython-input-89-75290a5eea7f>:10: DtypeWarning: Columns (7,10,12) have mixed types. Specify dtype option on import or set low_memory=False.\n",
      "  tmp_df = pd.read_csv(infile,header=None, encoding='unicode_escape')\n",
      "<ipython-input-89-75290a5eea7f>:10: DtypeWarning: Columns (7,10,12) have mixed types. Specify dtype option on import or set low_memory=False.\n",
      "  tmp_df = pd.read_csv(infile,header=None, encoding='unicode_escape')\n",
      "<ipython-input-89-75290a5eea7f>:10: DtypeWarning: Columns (7,10,12) have mixed types. Specify dtype option on import or set low_memory=False.\n",
      "  tmp_df = pd.read_csv(infile,header=None, encoding='unicode_escape')\n",
      "<ipython-input-89-75290a5eea7f>:10: DtypeWarning: Columns (0,1,4,5,7,8,9,10,11,12,13,14) have mixed types. Specify dtype option on import or set low_memory=False.\n",
      "  tmp_df = pd.read_csv(infile,header=None, encoding='unicode_escape')\n",
      "<ipython-input-89-75290a5eea7f>:10: DtypeWarning: Columns (7,10,12) have mixed types. Specify dtype option on import or set low_memory=False.\n",
      "  tmp_df = pd.read_csv(infile,header=None, encoding='unicode_escape')\n",
      "<ipython-input-89-75290a5eea7f>:10: DtypeWarning: Columns (7,10,12) have mixed types. Specify dtype option on import or set low_memory=False.\n",
      "  tmp_df = pd.read_csv(infile,header=None, encoding='unicode_escape')\n",
      "<ipython-input-89-75290a5eea7f>:10: DtypeWarning: Columns (7,10,12) have mixed types. Specify dtype option on import or set low_memory=False.\n",
      "  tmp_df = pd.read_csv(infile,header=None, encoding='unicode_escape')\n",
      "<ipython-input-89-75290a5eea7f>:10: DtypeWarning: Columns (7,10,12) have mixed types. Specify dtype option on import or set low_memory=False.\n",
      "  tmp_df = pd.read_csv(infile,header=None, encoding='unicode_escape')\n",
      "<ipython-input-89-75290a5eea7f>:10: DtypeWarning: Columns (7,10,12) have mixed types. Specify dtype option on import or set low_memory=False.\n",
      "  tmp_df = pd.read_csv(infile,header=None, encoding='unicode_escape')\n",
      "<ipython-input-89-75290a5eea7f>:10: DtypeWarning: Columns (7,10,12) have mixed types. Specify dtype option on import or set low_memory=False.\n",
      "  tmp_df = pd.read_csv(infile,header=None, encoding='unicode_escape')\n",
      "<ipython-input-89-75290a5eea7f>:10: DtypeWarning: Columns (7,10,12) have mixed types. Specify dtype option on import or set low_memory=False.\n",
      "  tmp_df = pd.read_csv(infile,header=None, encoding='unicode_escape')\n",
      "<ipython-input-89-75290a5eea7f>:10: DtypeWarning: Columns (7,10,12) have mixed types. Specify dtype option on import or set low_memory=False.\n",
      "  tmp_df = pd.read_csv(infile,header=None, encoding='unicode_escape')\n",
      "<ipython-input-89-75290a5eea7f>:10: DtypeWarning: Columns (7,10,12) have mixed types. Specify dtype option on import or set low_memory=False.\n",
      "  tmp_df = pd.read_csv(infile,header=None, encoding='unicode_escape')\n",
      "<ipython-input-89-75290a5eea7f>:10: DtypeWarning: Columns (7,10,12) have mixed types. Specify dtype option on import or set low_memory=False.\n",
      "  tmp_df = pd.read_csv(infile,header=None, encoding='unicode_escape')\n",
      "<ipython-input-89-75290a5eea7f>:10: DtypeWarning: Columns (7,10,12) have mixed types. Specify dtype option on import or set low_memory=False.\n",
      "  tmp_df = pd.read_csv(infile,header=None, encoding='unicode_escape')\n",
      "<ipython-input-89-75290a5eea7f>:10: DtypeWarning: Columns (7,10,12) have mixed types. Specify dtype option on import or set low_memory=False.\n",
      "  tmp_df = pd.read_csv(infile,header=None, encoding='unicode_escape')\n",
      "<ipython-input-89-75290a5eea7f>:10: DtypeWarning: Columns (7,10,12) have mixed types. Specify dtype option on import or set low_memory=False.\n",
      "  tmp_df = pd.read_csv(infile,header=None, encoding='unicode_escape')\n",
      "<ipython-input-89-75290a5eea7f>:10: DtypeWarning: Columns (7,10,12) have mixed types. Specify dtype option on import or set low_memory=False.\n",
      "  tmp_df = pd.read_csv(infile,header=None, encoding='unicode_escape')\n",
      "<ipython-input-89-75290a5eea7f>:10: DtypeWarning: Columns (7,10,12) have mixed types. Specify dtype option on import or set low_memory=False.\n",
      "  tmp_df = pd.read_csv(infile,header=None, encoding='unicode_escape')\n",
      "<ipython-input-89-75290a5eea7f>:10: DtypeWarning: Columns (7,10,12) have mixed types. Specify dtype option on import or set low_memory=False.\n",
      "  tmp_df = pd.read_csv(infile,header=None, encoding='unicode_escape')\n",
      "<ipython-input-89-75290a5eea7f>:10: DtypeWarning: Columns (7,10,12) have mixed types. Specify dtype option on import or set low_memory=False.\n",
      "  tmp_df = pd.read_csv(infile,header=None, encoding='unicode_escape')\n",
      "<ipython-input-89-75290a5eea7f>:10: DtypeWarning: Columns (7,10,12) have mixed types. Specify dtype option on import or set low_memory=False.\n",
      "  tmp_df = pd.read_csv(infile,header=None, encoding='unicode_escape')\n",
      "<ipython-input-89-75290a5eea7f>:10: DtypeWarning: Columns (7,10,12) have mixed types. Specify dtype option on import or set low_memory=False.\n",
      "  tmp_df = pd.read_csv(infile,header=None, encoding='unicode_escape')\n",
      "<ipython-input-89-75290a5eea7f>:10: DtypeWarning: Columns (7,10,12) have mixed types. Specify dtype option on import or set low_memory=False.\n",
      "  tmp_df = pd.read_csv(infile,header=None, encoding='unicode_escape')\n",
      "<ipython-input-89-75290a5eea7f>:10: DtypeWarning: Columns (7,10,12) have mixed types. Specify dtype option on import or set low_memory=False.\n",
      "  tmp_df = pd.read_csv(infile,header=None, encoding='unicode_escape')\n",
      "<ipython-input-89-75290a5eea7f>:10: DtypeWarning: Columns (7,10,12) have mixed types. Specify dtype option on import or set low_memory=False.\n",
      "  tmp_df = pd.read_csv(infile,header=None, encoding='unicode_escape')\n",
      "<ipython-input-89-75290a5eea7f>:10: DtypeWarning: Columns (7,10,12) have mixed types. Specify dtype option on import or set low_memory=False.\n",
      "  tmp_df = pd.read_csv(infile,header=None, encoding='unicode_escape')\n",
      "<ipython-input-89-75290a5eea7f>:10: DtypeWarning: Columns (7,10,12) have mixed types. Specify dtype option on import or set low_memory=False.\n",
      "  tmp_df = pd.read_csv(infile,header=None, encoding='unicode_escape')\n",
      "<ipython-input-89-75290a5eea7f>:10: DtypeWarning: Columns (7,10,12) have mixed types. Specify dtype option on import or set low_memory=False.\n",
      "  tmp_df = pd.read_csv(infile,header=None, encoding='unicode_escape')\n",
      "<ipython-input-89-75290a5eea7f>:10: DtypeWarning: Columns (7,10,12) have mixed types. Specify dtype option on import or set low_memory=False.\n",
      "  tmp_df = pd.read_csv(infile,header=None, encoding='unicode_escape')\n",
      "<ipython-input-89-75290a5eea7f>:10: DtypeWarning: Columns (7,10,12) have mixed types. Specify dtype option on import or set low_memory=False.\n",
      "  tmp_df = pd.read_csv(infile,header=None, encoding='unicode_escape')\n",
      "<ipython-input-89-75290a5eea7f>:10: DtypeWarning: Columns (7,10,12) have mixed types. Specify dtype option on import or set low_memory=False.\n",
      "  tmp_df = pd.read_csv(infile,header=None, encoding='unicode_escape')\n"
     ]
    },
    {
     "name": "stderr",
     "output_type": "stream",
     "text": [
      "<ipython-input-89-75290a5eea7f>:10: DtypeWarning: Columns (7,10,12) have mixed types. Specify dtype option on import or set low_memory=False.\n",
      "  tmp_df = pd.read_csv(infile,header=None, encoding='unicode_escape')\n",
      "<ipython-input-89-75290a5eea7f>:10: DtypeWarning: Columns (7,10,12) have mixed types. Specify dtype option on import or set low_memory=False.\n",
      "  tmp_df = pd.read_csv(infile,header=None, encoding='unicode_escape')\n",
      "<ipython-input-89-75290a5eea7f>:10: DtypeWarning: Columns (7,10,12) have mixed types. Specify dtype option on import or set low_memory=False.\n",
      "  tmp_df = pd.read_csv(infile,header=None, encoding='unicode_escape')\n",
      "<ipython-input-89-75290a5eea7f>:10: DtypeWarning: Columns (7,10,12) have mixed types. Specify dtype option on import or set low_memory=False.\n",
      "  tmp_df = pd.read_csv(infile,header=None, encoding='unicode_escape')\n",
      "<ipython-input-89-75290a5eea7f>:10: DtypeWarning: Columns (7,10,12) have mixed types. Specify dtype option on import or set low_memory=False.\n",
      "  tmp_df = pd.read_csv(infile,header=None, encoding='unicode_escape')\n",
      "<ipython-input-89-75290a5eea7f>:10: DtypeWarning: Columns (7,10,12) have mixed types. Specify dtype option on import or set low_memory=False.\n",
      "  tmp_df = pd.read_csv(infile,header=None, encoding='unicode_escape')\n",
      "<ipython-input-89-75290a5eea7f>:10: DtypeWarning: Columns (7,10,12) have mixed types. Specify dtype option on import or set low_memory=False.\n",
      "  tmp_df = pd.read_csv(infile,header=None, encoding='unicode_escape')\n",
      "<ipython-input-89-75290a5eea7f>:10: DtypeWarning: Columns (7,10,12) have mixed types. Specify dtype option on import or set low_memory=False.\n",
      "  tmp_df = pd.read_csv(infile,header=None, encoding='unicode_escape')\n",
      "<ipython-input-89-75290a5eea7f>:10: DtypeWarning: Columns (7,10,12) have mixed types. Specify dtype option on import or set low_memory=False.\n",
      "  tmp_df = pd.read_csv(infile,header=None, encoding='unicode_escape')\n",
      "<ipython-input-89-75290a5eea7f>:10: DtypeWarning: Columns (7,10,12) have mixed types. Specify dtype option on import or set low_memory=False.\n",
      "  tmp_df = pd.read_csv(infile,header=None, encoding='unicode_escape')\n",
      "<ipython-input-89-75290a5eea7f>:10: DtypeWarning: Columns (7,10,12) have mixed types. Specify dtype option on import or set low_memory=False.\n",
      "  tmp_df = pd.read_csv(infile,header=None, encoding='unicode_escape')\n",
      "<ipython-input-89-75290a5eea7f>:10: DtypeWarning: Columns (7,10,12) have mixed types. Specify dtype option on import or set low_memory=False.\n",
      "  tmp_df = pd.read_csv(infile,header=None, encoding='unicode_escape')\n",
      "<ipython-input-89-75290a5eea7f>:10: DtypeWarning: Columns (7,10,12) have mixed types. Specify dtype option on import or set low_memory=False.\n",
      "  tmp_df = pd.read_csv(infile,header=None, encoding='unicode_escape')\n",
      "<ipython-input-89-75290a5eea7f>:10: DtypeWarning: Columns (7,10,12) have mixed types. Specify dtype option on import or set low_memory=False.\n",
      "  tmp_df = pd.read_csv(infile,header=None, encoding='unicode_escape')\n",
      "<ipython-input-89-75290a5eea7f>:10: DtypeWarning: Columns (7,10,12) have mixed types. Specify dtype option on import or set low_memory=False.\n",
      "  tmp_df = pd.read_csv(infile,header=None, encoding='unicode_escape')\n",
      "<ipython-input-89-75290a5eea7f>:10: DtypeWarning: Columns (7,10,12) have mixed types. Specify dtype option on import or set low_memory=False.\n",
      "  tmp_df = pd.read_csv(infile,header=None, encoding='unicode_escape')\n",
      "<ipython-input-89-75290a5eea7f>:10: DtypeWarning: Columns (7,10,12) have mixed types. Specify dtype option on import or set low_memory=False.\n",
      "  tmp_df = pd.read_csv(infile,header=None, encoding='unicode_escape')\n",
      "<ipython-input-89-75290a5eea7f>:10: DtypeWarning: Columns (7,10,12) have mixed types. Specify dtype option on import or set low_memory=False.\n",
      "  tmp_df = pd.read_csv(infile,header=None, encoding='unicode_escape')\n",
      "<ipython-input-89-75290a5eea7f>:10: DtypeWarning: Columns (7,10,12) have mixed types. Specify dtype option on import or set low_memory=False.\n",
      "  tmp_df = pd.read_csv(infile,header=None, encoding='unicode_escape')\n",
      "<ipython-input-89-75290a5eea7f>:10: DtypeWarning: Columns (7,10,12) have mixed types. Specify dtype option on import or set low_memory=False.\n",
      "  tmp_df = pd.read_csv(infile,header=None, encoding='unicode_escape')\n",
      "<ipython-input-89-75290a5eea7f>:10: DtypeWarning: Columns (7,10,12) have mixed types. Specify dtype option on import or set low_memory=False.\n",
      "  tmp_df = pd.read_csv(infile,header=None, encoding='unicode_escape')\n",
      "<ipython-input-89-75290a5eea7f>:10: DtypeWarning: Columns (7,10,12) have mixed types. Specify dtype option on import or set low_memory=False.\n",
      "  tmp_df = pd.read_csv(infile,header=None, encoding='unicode_escape')\n",
      "<ipython-input-89-75290a5eea7f>:10: DtypeWarning: Columns (7,10,12) have mixed types. Specify dtype option on import or set low_memory=False.\n",
      "  tmp_df = pd.read_csv(infile,header=None, encoding='unicode_escape')\n",
      "<ipython-input-89-75290a5eea7f>:10: DtypeWarning: Columns (7,10,12) have mixed types. Specify dtype option on import or set low_memory=False.\n",
      "  tmp_df = pd.read_csv(infile,header=None, encoding='unicode_escape')\n",
      "<ipython-input-89-75290a5eea7f>:10: DtypeWarning: Columns (7,10,12) have mixed types. Specify dtype option on import or set low_memory=False.\n",
      "  tmp_df = pd.read_csv(infile,header=None, encoding='unicode_escape')\n",
      "<ipython-input-89-75290a5eea7f>:10: DtypeWarning: Columns (7,10,12) have mixed types. Specify dtype option on import or set low_memory=False.\n",
      "  tmp_df = pd.read_csv(infile,header=None, encoding='unicode_escape')\n",
      "<ipython-input-89-75290a5eea7f>:10: DtypeWarning: Columns (7,10,12) have mixed types. Specify dtype option on import or set low_memory=False.\n",
      "  tmp_df = pd.read_csv(infile,header=None, encoding='unicode_escape')\n",
      "<ipython-input-89-75290a5eea7f>:10: DtypeWarning: Columns (7,10,12) have mixed types. Specify dtype option on import or set low_memory=False.\n",
      "  tmp_df = pd.read_csv(infile,header=None, encoding='unicode_escape')\n",
      "<ipython-input-89-75290a5eea7f>:10: DtypeWarning: Columns (7,10,12) have mixed types. Specify dtype option on import or set low_memory=False.\n",
      "  tmp_df = pd.read_csv(infile,header=None, encoding='unicode_escape')\n",
      "<ipython-input-89-75290a5eea7f>:10: DtypeWarning: Columns (7,10,12) have mixed types. Specify dtype option on import or set low_memory=False.\n",
      "  tmp_df = pd.read_csv(infile,header=None, encoding='unicode_escape')\n",
      "<ipython-input-89-75290a5eea7f>:10: DtypeWarning: Columns (7,10,12) have mixed types. Specify dtype option on import or set low_memory=False.\n",
      "  tmp_df = pd.read_csv(infile,header=None, encoding='unicode_escape')\n",
      "<ipython-input-89-75290a5eea7f>:10: DtypeWarning: Columns (7,10,12) have mixed types. Specify dtype option on import or set low_memory=False.\n",
      "  tmp_df = pd.read_csv(infile,header=None, encoding='unicode_escape')\n",
      "<ipython-input-89-75290a5eea7f>:10: DtypeWarning: Columns (7,10,12) have mixed types. Specify dtype option on import or set low_memory=False.\n",
      "  tmp_df = pd.read_csv(infile,header=None, encoding='unicode_escape')\n",
      "<ipython-input-89-75290a5eea7f>:10: DtypeWarning: Columns (7,10,12) have mixed types. Specify dtype option on import or set low_memory=False.\n",
      "  tmp_df = pd.read_csv(infile,header=None, encoding='unicode_escape')\n",
      "<ipython-input-89-75290a5eea7f>:10: DtypeWarning: Columns (7,10,12) have mixed types. Specify dtype option on import or set low_memory=False.\n",
      "  tmp_df = pd.read_csv(infile,header=None, encoding='unicode_escape')\n",
      "<ipython-input-89-75290a5eea7f>:10: DtypeWarning: Columns (7,10,12) have mixed types. Specify dtype option on import or set low_memory=False.\n",
      "  tmp_df = pd.read_csv(infile,header=None, encoding='unicode_escape')\n",
      "<ipython-input-89-75290a5eea7f>:10: DtypeWarning: Columns (7,10,12) have mixed types. Specify dtype option on import or set low_memory=False.\n",
      "  tmp_df = pd.read_csv(infile,header=None, encoding='unicode_escape')\n",
      "<ipython-input-89-75290a5eea7f>:10: DtypeWarning: Columns (7,10,12) have mixed types. Specify dtype option on import or set low_memory=False.\n",
      "  tmp_df = pd.read_csv(infile,header=None, encoding='unicode_escape')\n",
      "<ipython-input-89-75290a5eea7f>:10: DtypeWarning: Columns (7,10,12) have mixed types. Specify dtype option on import or set low_memory=False.\n",
      "  tmp_df = pd.read_csv(infile,header=None, encoding='unicode_escape')\n"
     ]
    },
    {
     "name": "stderr",
     "output_type": "stream",
     "text": [
      "<ipython-input-89-75290a5eea7f>:10: DtypeWarning: Columns (7,10,12) have mixed types. Specify dtype option on import or set low_memory=False.\n",
      "  tmp_df = pd.read_csv(infile,header=None, encoding='unicode_escape')\n",
      "<ipython-input-89-75290a5eea7f>:10: DtypeWarning: Columns (7,10,12) have mixed types. Specify dtype option on import or set low_memory=False.\n",
      "  tmp_df = pd.read_csv(infile,header=None, encoding='unicode_escape')\n",
      "<ipython-input-89-75290a5eea7f>:10: DtypeWarning: Columns (7,10,12) have mixed types. Specify dtype option on import or set low_memory=False.\n",
      "  tmp_df = pd.read_csv(infile,header=None, encoding='unicode_escape')\n",
      "<ipython-input-89-75290a5eea7f>:10: DtypeWarning: Columns (7,10,12) have mixed types. Specify dtype option on import or set low_memory=False.\n",
      "  tmp_df = pd.read_csv(infile,header=None, encoding='unicode_escape')\n",
      "<ipython-input-89-75290a5eea7f>:10: DtypeWarning: Columns (7,10,12) have mixed types. Specify dtype option on import or set low_memory=False.\n",
      "  tmp_df = pd.read_csv(infile,header=None, encoding='unicode_escape')\n",
      "<ipython-input-89-75290a5eea7f>:10: DtypeWarning: Columns (7,10,12) have mixed types. Specify dtype option on import or set low_memory=False.\n",
      "  tmp_df = pd.read_csv(infile,header=None, encoding='unicode_escape')\n",
      "<ipython-input-89-75290a5eea7f>:10: DtypeWarning: Columns (7,10,12) have mixed types. Specify dtype option on import or set low_memory=False.\n",
      "  tmp_df = pd.read_csv(infile,header=None, encoding='unicode_escape')\n",
      "<ipython-input-89-75290a5eea7f>:10: DtypeWarning: Columns (7,10,12) have mixed types. Specify dtype option on import or set low_memory=False.\n",
      "  tmp_df = pd.read_csv(infile,header=None, encoding='unicode_escape')\n",
      "<ipython-input-89-75290a5eea7f>:10: DtypeWarning: Columns (7,10,12) have mixed types. Specify dtype option on import or set low_memory=False.\n",
      "  tmp_df = pd.read_csv(infile,header=None, encoding='unicode_escape')\n",
      "<ipython-input-89-75290a5eea7f>:10: DtypeWarning: Columns (7,10,12) have mixed types. Specify dtype option on import or set low_memory=False.\n",
      "  tmp_df = pd.read_csv(infile,header=None, encoding='unicode_escape')\n",
      "<ipython-input-89-75290a5eea7f>:10: DtypeWarning: Columns (7,10,12) have mixed types. Specify dtype option on import or set low_memory=False.\n",
      "  tmp_df = pd.read_csv(infile,header=None, encoding='unicode_escape')\n",
      "<ipython-input-89-75290a5eea7f>:10: DtypeWarning: Columns (7,10,12) have mixed types. Specify dtype option on import or set low_memory=False.\n",
      "  tmp_df = pd.read_csv(infile,header=None, encoding='unicode_escape')\n",
      "<ipython-input-89-75290a5eea7f>:10: DtypeWarning: Columns (7,10,12) have mixed types. Specify dtype option on import or set low_memory=False.\n",
      "  tmp_df = pd.read_csv(infile,header=None, encoding='unicode_escape')\n",
      "<ipython-input-89-75290a5eea7f>:10: DtypeWarning: Columns (7,10,12) have mixed types. Specify dtype option on import or set low_memory=False.\n",
      "  tmp_df = pd.read_csv(infile,header=None, encoding='unicode_escape')\n",
      "<ipython-input-89-75290a5eea7f>:10: DtypeWarning: Columns (7,10,12) have mixed types. Specify dtype option on import or set low_memory=False.\n",
      "  tmp_df = pd.read_csv(infile,header=None, encoding='unicode_escape')\n",
      "<ipython-input-89-75290a5eea7f>:10: DtypeWarning: Columns (7,10,12) have mixed types. Specify dtype option on import or set low_memory=False.\n",
      "  tmp_df = pd.read_csv(infile,header=None, encoding='unicode_escape')\n",
      "<ipython-input-89-75290a5eea7f>:10: DtypeWarning: Columns (7,10,12) have mixed types. Specify dtype option on import or set low_memory=False.\n",
      "  tmp_df = pd.read_csv(infile,header=None, encoding='unicode_escape')\n",
      "<ipython-input-89-75290a5eea7f>:10: DtypeWarning: Columns (7,10,12) have mixed types. Specify dtype option on import or set low_memory=False.\n",
      "  tmp_df = pd.read_csv(infile,header=None, encoding='unicode_escape')\n",
      "<ipython-input-89-75290a5eea7f>:10: DtypeWarning: Columns (7,10,12) have mixed types. Specify dtype option on import or set low_memory=False.\n",
      "  tmp_df = pd.read_csv(infile,header=None, encoding='unicode_escape')\n",
      "<ipython-input-89-75290a5eea7f>:10: DtypeWarning: Columns (7,10,12) have mixed types. Specify dtype option on import or set low_memory=False.\n",
      "  tmp_df = pd.read_csv(infile,header=None, encoding='unicode_escape')\n",
      "<ipython-input-89-75290a5eea7f>:10: DtypeWarning: Columns (7,10,12) have mixed types. Specify dtype option on import or set low_memory=False.\n",
      "  tmp_df = pd.read_csv(infile,header=None, encoding='unicode_escape')\n",
      "<ipython-input-89-75290a5eea7f>:10: DtypeWarning: Columns (7,10,12) have mixed types. Specify dtype option on import or set low_memory=False.\n",
      "  tmp_df = pd.read_csv(infile,header=None, encoding='unicode_escape')\n"
     ]
    }
   ],
   "source": [
    "# 10079 6825 crp\n",
    "# 15775 pct Procalcitonin\n",
    "# 6786 11856  Neutrofielen  \n",
    "# 6779 9965 wbc\n",
    "select_fea_lst = [6825,10079,15775,6786,11856,6779,9965]\n",
    "\n",
    "df_fea_select = pd.DataFrame()\n",
    "for file in os.listdir(\"/public/hanl/jupyter_dir/database/AMUCdb/raw//AmsterdamUMCdb-v1/numericitems_split/\"):\n",
    "    infile = \"/public/hanl/jupyter_dir/database/AMUCdb/raw/AmsterdamUMCdb-v1/numericitems_split/\" + file\n",
    "    tmp_df = pd.read_csv(infile,header=None, encoding='unicode_escape')\n",
    "    tmp_df.columns = ['admissionid', 'itemid', 'item', 'tag', 'value', 'unitid', 'unit',\n",
    "       'comment', 'measuredat', 'registeredat', 'registeredby', 'updatedat',\n",
    "       'updatedby', 'islabresult', 'fluidout']\n",
    "    tmp_df = tmp_df[tmp_df.itemid.isin(select_fea_lst)]\n",
    "    df_fea_select = pd.concat([df_fea_select,tmp_df],axis=0)\n",
    "df_fea_select.to_csv(\"tmp_df_infection_feature.csv\")"
   ]
  },
  {
   "cell_type": "code",
   "execution_count": 90,
   "id": "af6a42d8",
   "metadata": {
    "ExecuteTime": {
     "end_time": "2024-01-27T17:10:07.505669Z",
     "start_time": "2024-01-27T17:10:07.333700Z"
    }
   },
   "outputs": [
    {
     "name": "stdout",
     "output_type": "stream",
     "text": [
      "纳入患者数量： 2183\n"
     ]
    },
    {
     "data": {
      "text/plain": [
       "2    1400\n",
       "1     564\n",
       "3     219\n",
       "Name: groupHPD, dtype: int64"
      ]
     },
     "execution_count": 90,
     "metadata": {},
     "output_type": "execute_result"
    }
   ],
   "source": [
    "df_type = pd.read_csv(\"/public/hanl/jupyter_dir/kidney_sepsis_penotype_v3/02.AUMCdb_SAKI_trajCluster/df_mixAK_fea3_C3_aumc.csv\")\n",
    "df_type_filt = df_type.loc[:,[\"stay_id\",\"groupHPD\"]]\n",
    "df_type_filt = df_type_filt.drop_duplicates()\n",
    "all_lst = df_type_filt.stay_id.unique().tolist()\n",
    "print(\"纳入患者数量：\",len(all_lst))\n",
    "\n",
    "df_type_filt[\"groupHPD\"].value_counts()"
   ]
  },
  {
   "cell_type": "code",
   "execution_count": 91,
   "id": "e0e29062",
   "metadata": {
    "ExecuteTime": {
     "end_time": "2024-01-27T17:10:14.129854Z",
     "start_time": "2024-01-27T17:10:13.643015Z"
    }
   },
   "outputs": [
    {
     "data": {
      "text/html": [
       "<div>\n",
       "<style scoped>\n",
       "    .dataframe tbody tr th:only-of-type {\n",
       "        vertical-align: middle;\n",
       "    }\n",
       "\n",
       "    .dataframe tbody tr th {\n",
       "        vertical-align: top;\n",
       "    }\n",
       "\n",
       "    .dataframe thead th {\n",
       "        text-align: right;\n",
       "    }\n",
       "</style>\n",
       "<table border=\"1\" class=\"dataframe\">\n",
       "  <thead>\n",
       "    <tr style=\"text-align: right;\">\n",
       "      <th></th>\n",
       "      <th>itemid</th>\n",
       "      <th>unit</th>\n",
       "    </tr>\n",
       "  </thead>\n",
       "  <tbody>\n",
       "    <tr>\n",
       "      <th>0</th>\n",
       "      <td>9965</td>\n",
       "      <td>10^9/l</td>\n",
       "    </tr>\n",
       "    <tr>\n",
       "      <th>12</th>\n",
       "      <td>10079</td>\n",
       "      <td>mg/l</td>\n",
       "    </tr>\n",
       "    <tr>\n",
       "      <th>215</th>\n",
       "      <td>11856</td>\n",
       "      <td>Geen</td>\n",
       "    </tr>\n",
       "    <tr>\n",
       "      <th>235</th>\n",
       "      <td>6779</td>\n",
       "      <td>10^9/l</td>\n",
       "    </tr>\n",
       "    <tr>\n",
       "      <th>941</th>\n",
       "      <td>6825</td>\n",
       "      <td>mg/l</td>\n",
       "    </tr>\n",
       "    <tr>\n",
       "      <th>1427</th>\n",
       "      <td>15775</td>\n",
       "      <td>µg/l</td>\n",
       "    </tr>\n",
       "    <tr>\n",
       "      <th>5648</th>\n",
       "      <td>6786</td>\n",
       "      <td>None</td>\n",
       "    </tr>\n",
       "  </tbody>\n",
       "</table>\n",
       "</div>"
      ],
      "text/plain": [
       "      itemid    unit\n",
       "0       9965  10^9/l\n",
       "12     10079    mg/l\n",
       "215    11856    Geen\n",
       "235     6779  10^9/l\n",
       "941     6825    mg/l\n",
       "1427   15775    µg/l\n",
       "5648    6786    None"
      ]
     },
     "execution_count": 91,
     "metadata": {},
     "output_type": "execute_result"
    }
   ],
   "source": [
    "df_fea = pd.read_csv(\"./tmp_df_infection_feature.csv\") #, usecols=['stay_id', 'charttime','neutrophils','crp','wbc']\n",
    "df_fea = df_fea[df_fea[\"value\"]<9999]\n",
    "# df_fea = df_fea[df_fea[\"stay_id\"].isin(all_lst)] \n",
    "df_fea = df_fea[df_fea[\"itemid\"]!=14254]\n",
    "df_fea.loc[df_fea[\"itemid\"].isin([10079,6825]),\"feature\"] = \"crp\"\n",
    "df_fea.loc[df_fea[\"itemid\"].isin([15775]),\"feature\"] = \"PCT\"\n",
    "df_fea.loc[df_fea[\"itemid\"].isin([6786, 11856]),\"feature\"] = \"neutrophils\"\n",
    "df_fea.loc[df_fea[\"itemid\"].isin([6779, 9965]),\"feature\"] = \"wbc\"\n",
    "df_fea[[\"itemid\",\"unit\"]].drop_duplicates()"
   ]
  },
  {
   "cell_type": "code",
   "execution_count": 61,
   "id": "0cbd5887",
   "metadata": {
    "ExecuteTime": {
     "end_time": "2024-01-27T14:29:55.548401Z",
     "start_time": "2024-01-27T14:29:54.876310Z"
    }
   },
   "outputs": [
    {
     "data": {
      "text/html": [
       "<div>\n",
       "<style scoped>\n",
       "    .dataframe tbody tr th:only-of-type {\n",
       "        vertical-align: middle;\n",
       "    }\n",
       "\n",
       "    .dataframe tbody tr th {\n",
       "        vertical-align: top;\n",
       "    }\n",
       "\n",
       "    .dataframe thead th {\n",
       "        text-align: right;\n",
       "    }\n",
       "</style>\n",
       "<table border=\"1\" class=\"dataframe\">\n",
       "  <thead>\n",
       "    <tr style=\"text-align: right;\">\n",
       "      <th>feature</th>\n",
       "      <th>stay_id</th>\n",
       "      <th>charttime</th>\n",
       "      <th>PCT</th>\n",
       "      <th>crp</th>\n",
       "      <th>neutrophils</th>\n",
       "      <th>wbc</th>\n",
       "    </tr>\n",
       "  </thead>\n",
       "  <tbody>\n",
       "    <tr>\n",
       "      <th>0</th>\n",
       "      <td>5</td>\n",
       "      <td>-957660000</td>\n",
       "      <td>NaN</td>\n",
       "      <td>25.0</td>\n",
       "      <td>NaN</td>\n",
       "      <td>10.5</td>\n",
       "    </tr>\n",
       "  </tbody>\n",
       "</table>\n",
       "</div>"
      ],
      "text/plain": [
       "feature  stay_id  charttime  PCT   crp  neutrophils   wbc\n",
       "0              5 -957660000  NaN  25.0          NaN  10.5"
      ]
     },
     "execution_count": 61,
     "metadata": {},
     "output_type": "execute_result"
    }
   ],
   "source": [
    "df_fea = pd.read_csv(\"./tmp_df_infection_feature.csv\") #, usecols=['stay_id', 'charttime','neutrophils','crp','wbc']\n",
    "df_fea = df_fea[df_fea[\"value\"]<9999]\n",
    "# df_fea = df_fea[df_fea[\"stay_id\"].isin(all_lst)] \n",
    "df_fea = df_fea[df_fea[\"itemid\"]!=14254]\n",
    "df_fea.loc[df_fea[\"itemid\"].isin([10079,6825]),\"feature\"] = \"crp\"\n",
    "df_fea.loc[df_fea[\"itemid\"].isin([15775]),\"feature\"] = \"PCT\"\n",
    "df_fea.loc[df_fea[\"itemid\"].isin([6786, 11856]),\"feature\"] = \"neutrophils\"\n",
    "df_fea.loc[df_fea[\"itemid\"].isin([6779, 9965]),\"feature\"] = \"wbc\"\n",
    "df_fea = df_fea[[ 'admissionid',\"itemid\", 'value','measuredat',\"feature\"]]\n",
    "df_fea.columns = ['stay_id',\"itemid\", 'value','charttime',\"feature\"]\n",
    "df_fea = df_fea.pivot(index=['stay_id', 'charttime' ,\"itemid\"], columns='feature', values='value').reset_index()\n",
    "df_fea = df_fea.groupby(['stay_id', 'charttime' ]).agg(\"mean\").reset_index()\n",
    "df_fea = df_fea[['stay_id', 'charttime', 'PCT', 'crp', 'neutrophils', 'wbc']]\n",
    "df_fea[\"charttime\"] = df_fea[\"charttime\"]/1000/60/60\n",
    "df_fea.head(1)"
   ]
  },
  {
   "cell_type": "code",
   "execution_count": 69,
   "id": "0b299067",
   "metadata": {
    "ExecuteTime": {
     "end_time": "2024-01-27T14:35:00.605310Z",
     "start_time": "2024-01-27T14:35:00.588247Z"
    }
   },
   "outputs": [
    {
     "data": {
      "text/html": [
       "<div>\n",
       "<style scoped>\n",
       "    .dataframe tbody tr th:only-of-type {\n",
       "        vertical-align: middle;\n",
       "    }\n",
       "\n",
       "    .dataframe tbody tr th {\n",
       "        vertical-align: top;\n",
       "    }\n",
       "\n",
       "    .dataframe thead th {\n",
       "        text-align: right;\n",
       "    }\n",
       "</style>\n",
       "<table border=\"1\" class=\"dataframe\">\n",
       "  <thead>\n",
       "    <tr style=\"text-align: right;\">\n",
       "      <th></th>\n",
       "      <th>stay_id</th>\n",
       "      <th>saki_onset</th>\n",
       "    </tr>\n",
       "  </thead>\n",
       "  <tbody>\n",
       "    <tr>\n",
       "      <th>0</th>\n",
       "      <td>0</td>\n",
       "      <td>NaN</td>\n",
       "    </tr>\n",
       "  </tbody>\n",
       "</table>\n",
       "</div>"
      ],
      "text/plain": [
       "   stay_id  saki_onset\n",
       "0        0         NaN"
      ]
     },
     "execution_count": 69,
     "metadata": {},
     "output_type": "execute_result"
    }
   ],
   "source": [
    "df_time = pd.read_csv(\"/public/hanl/jupyter_dir/kidney_sepsis_penotype_v3/00.data_aumc//disease_definition/AKI/aumcdb_sk_event_time.csv\")\n",
    "df_time = df_time[[\"stay_id\",\"saki_onset\"]]\n",
    "df_time.head(1)"
   ]
  },
  {
   "cell_type": "code",
   "execution_count": 73,
   "id": "deae845e",
   "metadata": {
    "ExecuteTime": {
     "end_time": "2024-01-27T14:35:32.610765Z",
     "start_time": "2024-01-27T14:35:32.490553Z"
    }
   },
   "outputs": [
    {
     "data": {
      "text/html": [
       "<div>\n",
       "<style scoped>\n",
       "    .dataframe tbody tr th:only-of-type {\n",
       "        vertical-align: middle;\n",
       "    }\n",
       "\n",
       "    .dataframe tbody tr th {\n",
       "        vertical-align: top;\n",
       "    }\n",
       "\n",
       "    .dataframe thead th {\n",
       "        text-align: right;\n",
       "    }\n",
       "</style>\n",
       "<table border=\"1\" class=\"dataframe\">\n",
       "  <thead>\n",
       "    <tr style=\"text-align: right;\">\n",
       "      <th></th>\n",
       "      <th>stay_id</th>\n",
       "      <th>time</th>\n",
       "      <th>PCT</th>\n",
       "      <th>crp</th>\n",
       "      <th>neutrophils</th>\n",
       "      <th>wbc</th>\n",
       "    </tr>\n",
       "  </thead>\n",
       "  <tbody>\n",
       "    <tr>\n",
       "      <th>0</th>\n",
       "      <td>5</td>\n",
       "      <td>-1.0</td>\n",
       "      <td>NaN</td>\n",
       "      <td>43.0</td>\n",
       "      <td>NaN</td>\n",
       "      <td>20.600001</td>\n",
       "    </tr>\n",
       "  </tbody>\n",
       "</table>\n",
       "</div>"
      ],
      "text/plain": [
       "   stay_id  time  PCT   crp  neutrophils        wbc\n",
       "0        5  -1.0  NaN  43.0          NaN  20.600001"
      ]
     },
     "execution_count": 73,
     "metadata": {},
     "output_type": "execute_result"
    }
   ],
   "source": [
    "#  condition1: -4 <= time <= 28\n",
    "df_fea_add = pd.merge(df_fea, df_time, how=\"inner\", on=\"stay_id\")\n",
    "df_fea_add[\"time\"] = (df_fea_add[\"charttime\"] - df_fea_add[\"saki_onset\"])/24\n",
    "df_fea_add[\"time\"] = df_fea_add[\"time\"].map(lambda x:x//1) # -1指sepsis前6小时的数据，0指sepsis后第一个6小时的数据\n",
    "df_fea_add[\"time\"] = df_fea_add[\"time\"].map(lambda x: x+1 if x>=0 else x)\n",
    "df_fea_add = df_fea_add[(df_fea_add[\"time\"]>=-2) &(df_fea_add[\"time\"]<=7)]\n",
    "df_fea_add = df_fea_add.drop([\"charttime\",\"saki_onset\"],axis=1)\n",
    "df_fea_add = df_fea_add.groupby([\"stay_id\",\"time\"]).agg( \"mean\" ).reset_index()\n",
    "df_fea_add = df_fea_add[df_fea_add.stay_id.isin(all_lst)]\n",
    "df_fea_add.head(1)"
   ]
  },
  {
   "cell_type": "code",
   "execution_count": 81,
   "id": "c25a674a",
   "metadata": {
    "ExecuteTime": {
     "end_time": "2024-01-27T14:37:46.483238Z",
     "start_time": "2024-01-27T14:37:45.251152Z"
    }
   },
   "outputs": [
    {
     "name": "stderr",
     "output_type": "stream",
     "text": [
      "<ipython-input-81-28d4b8720dc9>:4: FutureWarning: In a future version of pandas, a length 1 tuple will be returned when iterating over a groupby with a grouper equal to a list of length 1. Don't supply a list with a single grouper to avoid this warning.\n",
      "  for i,j in df_fea_add.groupby([\"stay_id\"]):\n"
     ]
    },
    {
     "data": {
      "text/plain": [
       "index              0\n",
       "stay_id            0\n",
       "time               0\n",
       "PCT            13412\n",
       "crp             1131\n",
       "neutrophils    12671\n",
       "wbc                0\n",
       "dtype: int64"
      ]
     },
     "execution_count": 81,
     "metadata": {},
     "output_type": "execute_result"
    }
   ],
   "source": [
    "# 前向插补\n",
    "tmp_df = pd.DataFrame()\n",
    "df_fea_add = df_fea_add.sort_values(by=[\"stay_id\",\"time\"])\n",
    "for i,j in df_fea_add.groupby([\"stay_id\"]):\n",
    "    j = j.fillna(method=\"ffill\")\n",
    "    j = j.fillna(method=\"bfill\")\n",
    "    tmp_df = pd.concat([tmp_df, j], axis=0)\n",
    "df_im = tmp_df\n",
    "df_im = df_im.reset_index()\n",
    "df_im.to_csv(\"df_infection_feature.csv\",index=False)\n",
    "df_im.isna().sum()"
   ]
  },
  {
   "cell_type": "code",
   "execution_count": null,
   "id": "19332610",
   "metadata": {},
   "outputs": [],
   "source": []
  }
 ],
 "metadata": {
  "kernelspec": {
   "display_name": "Python [conda env:sp_shock] *",
   "language": "python",
   "name": "conda-env-sp_shock-py"
  },
  "language_info": {
   "codemirror_mode": {
    "name": "ipython",
    "version": 3
   },
   "file_extension": ".py",
   "mimetype": "text/x-python",
   "name": "python",
   "nbconvert_exporter": "python",
   "pygments_lexer": "ipython3",
   "version": "3.9.5"
  },
  "toc": {
   "base_numbering": 1,
   "nav_menu": {},
   "number_sections": true,
   "sideBar": true,
   "skip_h1_title": false,
   "title_cell": "Table of Contents",
   "title_sidebar": "Contents",
   "toc_cell": false,
   "toc_position": {},
   "toc_section_display": true,
   "toc_window_display": false
  },
  "varInspector": {
   "cols": {
    "lenName": 16,
    "lenType": 16,
    "lenVar": 40
   },
   "kernels_config": {
    "python": {
     "delete_cmd_postfix": "",
     "delete_cmd_prefix": "del ",
     "library": "var_list.py",
     "varRefreshCmd": "print(var_dic_list())"
    },
    "r": {
     "delete_cmd_postfix": ") ",
     "delete_cmd_prefix": "rm(",
     "library": "var_list.r",
     "varRefreshCmd": "cat(var_dic_list()) "
    }
   },
   "types_to_exclude": [
    "module",
    "function",
    "builtin_function_or_method",
    "instance",
    "_Feature"
   ],
   "window_display": false
  }
 },
 "nbformat": 4,
 "nbformat_minor": 5
}
