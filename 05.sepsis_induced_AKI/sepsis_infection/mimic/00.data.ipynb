{
 "cells": [
  {
   "cell_type": "code",
   "execution_count": null,
   "id": "15ca10aa",
   "metadata": {},
   "outputs": [],
   "source": [
    "# crp，pct，wbc，neutrophils"
   ]
  },
  {
   "cell_type": "code",
   "execution_count": 2,
   "id": "c3aaf54f",
   "metadata": {
    "ExecuteTime": {
     "end_time": "2024-01-26T08:41:31.769977Z",
     "start_time": "2024-01-26T08:41:26.732871Z"
    }
   },
   "outputs": [],
   "source": [
    "import pandas as pd\n",
    "import numpy as np\n",
    "import matplotlib.pyplot as plt\n",
    "pd.options.display.max_rows = 300\n",
    "import datetime as dt\n",
    "import math\n",
    "import seaborn as sns\n",
    "import miceforest as mf\n",
    "from tableone import TableOne, load_dataset"
   ]
  },
  {
   "cell_type": "code",
   "execution_count": null,
   "id": "4f06b3a1",
   "metadata": {
    "ExecuteTime": {
     "end_time": "2024-01-26T08:43:55.355954Z",
     "start_time": "2024-01-26T08:43:54.899406Z"
    }
   },
   "outputs": [],
   "source": [
    "df_type = pd.read_csv(\"/public/hanl/jupyter_dir/kidney_sepsis_penotype_v3/01.MIMICIV_SAKI_trajCluster/df_mixAK_fea4_C3.csv\")\n",
    "df_type_filt = df_type.loc[:,[\"stay_id\",\"groupHPD\"]]\n",
    "df_type_filt = df_type_filt.drop_duplicates()\n",
    "all_lst = df_type_filt.stay_id.unique().tolist()\n",
    "print(\"Number of included patients:\",len(all_lst))\n",
    "\n",
    "df_type_filt[\"groupHPD\"].value_counts()"
   ]
  },
  {
   "cell_type": "code",
   "execution_count": 15,
   "id": "4abb548c",
   "metadata": {
    "ExecuteTime": {
     "end_time": "2024-01-26T08:47:14.032145Z",
     "start_time": "2024-01-26T08:47:13.983934Z"
    }
   },
   "outputs": [
    {
     "name": "stderr",
     "output_type": "stream",
     "text": [
      "/home/hanl/miniconda3/envs/mytensor/lib/python3.9/site-packages/ipykernel/ipkernel.py:287: DeprecationWarning: `should_run_async` will not call `transform_cell` automatically in the future. Please pass the result to `transformed_cell` argument and any exception that happen during thetransform in `preprocessing_exc_tuple` in IPython 7.17 and above.\n",
      "  and should_run_async(code)\n"
     ]
    }
   ],
   "source": [
    "df_time = pd.read_csv(\"/public/hanl/jupyter_dir/kidney_sepsis_penotype_v3/00.data_mimic/disease_definition/AKI/sk_event_time.csv\")\n",
    "df_time = df_time[[\"stay_id\",\"saki_onset\"]]\n",
    "df_time[\"saki_onset\"] = pd.to_datetime(df_time[\"saki_onset\"])"
   ]
  },
  {
   "cell_type": "code",
   "execution_count": 13,
   "id": "237fe676",
   "metadata": {
    "ExecuteTime": {
     "end_time": "2024-01-26T08:46:42.754864Z",
     "start_time": "2024-01-26T08:46:21.973025Z"
    },
    "run_control": {
     "marked": true
    }
   },
   "outputs": [
    {
     "name": "stderr",
     "output_type": "stream",
     "text": [
      "/home/hanl/miniconda3/envs/mytensor/lib/python3.9/site-packages/ipykernel/ipkernel.py:287: DeprecationWarning: `should_run_async` will not call `transform_cell` automatically in the future. Please pass the result to `transformed_cell` argument and any exception that happen during thetransform in `preprocessing_exc_tuple` in IPython 7.17 and above.\n",
      "  and should_run_async(code)\n"
     ]
    }
   ],
   "source": [
    "data_dir = \"/public/hanl/jupyter_dir/kidney_sepsis_penotype_v3/00.data_mimic/feature_data/\"\n",
    "infile = data_dir + \"sk_icu_feature.csv\"\n",
    "df_fea = pd.read_csv(infile, usecols=['stay_id', 'charttime','neutrophils','crp','wbc'])\n",
    "df_fea = df_fea[df_fea[\"stay_id\"].isin(all_lst)] \n",
    "df_fea[\"charttime\"] = pd.to_datetime(df_fea[\"charttime\"])"
   ]
  },
  {
   "cell_type": "code",
   "execution_count": null,
   "id": "970284ab",
   "metadata": {
    "ExecuteTime": {
     "end_time": "2024-01-26T08:47:39.837907Z",
     "start_time": "2024-01-26T08:47:17.105186Z"
    }
   },
   "outputs": [
    {
     "name": "stderr",
     "output_type": "stream",
     "text": [
      "/home/hanl/miniconda3/envs/mytensor/lib/python3.9/site-packages/ipykernel/ipkernel.py:287: DeprecationWarning: `should_run_async` will not call `transform_cell` automatically in the future. Please pass the result to `transformed_cell` argument and any exception that happen during thetransform in `preprocessing_exc_tuple` in IPython 7.17 and above.\n",
      "  and should_run_async(code)\n"
     ]
    }
   ],
   "source": [
    "#  condition1: -4 <= time <= 28\n",
    "df_fea_add = pd.merge(df_fea, df_time, how=\"inner\", on=\"stay_id\")\n",
    "df_fea_add[\"time\"] = (df_fea_add[\"charttime\"] - df_fea_add[\"saki_onset\"]).map(lambda x:x/np.timedelta64(24, 'h')).tolist()\n",
    "df_fea_add[\"time\"] = df_fea_add[\"time\"].map(lambda x:x//1) # -1 refers to the data of the first 6 hours before sepsis, and 0 refers to the data of the first 6 hours after sepsis\n",
    "df_fea_add[\"time\"] = df_fea_add[\"time\"].map(lambda x: x+1 if x>=0 else x)\n",
    "df_fea_add = df_fea_add[(df_fea_add[\"time\"]>=-2) &(df_fea_add[\"time\"]<=7)]\n"
   ]
  },
  {
   "cell_type": "code",
   "execution_count": 18,
   "id": "d8faf654",
   "metadata": {
    "ExecuteTime": {
     "end_time": "2024-01-26T08:51:08.335379Z",
     "start_time": "2024-01-26T08:51:08.233285Z"
    }
   },
   "outputs": [
    {
     "name": "stderr",
     "output_type": "stream",
     "text": [
      "/home/hanl/miniconda3/envs/mytensor/lib/python3.9/site-packages/ipykernel/ipkernel.py:287: DeprecationWarning: `should_run_async` will not call `transform_cell` automatically in the future. Please pass the result to `transformed_cell` argument and any exception that happen during thetransform in `preprocessing_exc_tuple` in IPython 7.17 and above.\n",
      "  and should_run_async(code)\n"
     ]
    }
   ],
   "source": [
    "df_fea_add = df_fea_add.drop([\"charttime\",\"saki_onset\"],axis=1)\n",
    "df_fea_add = df_fea_add.groupby([\"stay_id\",\"time\"]).agg( \"mean\" ) "
   ]
  },
  {
   "cell_type": "code",
   "execution_count": null,
   "id": "23d5dfc4",
   "metadata": {
    "ExecuteTime": {
     "end_time": "2024-01-26T08:51:20.055110Z",
     "start_time": "2024-01-26T08:51:11.910911Z"
    }
   },
   "outputs": [
    {
     "name": "stderr",
     "output_type": "stream",
     "text": [
      "/home/hanl/miniconda3/envs/mytensor/lib/python3.9/site-packages/ipykernel/ipkernel.py:287: DeprecationWarning: `should_run_async` will not call `transform_cell` automatically in the future. Please pass the result to `transformed_cell` argument and any exception that happen during thetransform in `preprocessing_exc_tuple` in IPython 7.17 and above.\n",
      "  and should_run_async(code)\n"
     ]
    }
   ],
   "source": [
    "# Forward interpolation\n",
    "tmp_df = pd.DataFrame()\n",
    "df_fea_add = df_fea_add.sort_values(by=[\"stay_id\",\"time\"])\n",
    "for i,j in df_fea_add.groupby([\"stay_id\"]):\n",
    "    j = j.fillna(method=\"ffill\")\n",
    "    j = j.fillna(method=\"bfill\")\n",
    "    tmp_df = pd.concat([tmp_df, j], axis=0)\n",
    "df_im = tmp_df\n",
    "df_im = df_im.reset_index()"
   ]
  },
  {
   "cell_type": "code",
   "execution_count": 27,
   "id": "68306065",
   "metadata": {
    "ExecuteTime": {
     "end_time": "2024-01-26T08:57:04.731134Z",
     "start_time": "2024-01-26T08:57:04.583269Z"
    }
   },
   "outputs": [
    {
     "name": "stderr",
     "output_type": "stream",
     "text": [
      "/home/hanl/miniconda3/envs/mytensor/lib/python3.9/site-packages/ipykernel/ipkernel.py:287: DeprecationWarning: `should_run_async` will not call `transform_cell` automatically in the future. Please pass the result to `transformed_cell` argument and any exception that happen during thetransform in `preprocessing_exc_tuple` in IPython 7.17 and above.\n",
      "  and should_run_async(code)\n"
     ]
    }
   ],
   "source": [
    "df_im.to_csv(\"df_infection_feature.csv\",index=False)\n",
    "df_im.columns"
   ]
  }
 ],
 "metadata": {
  "kernelspec": {
   "display_name": "Python [conda env:mytensor]",
   "language": "python",
   "name": "conda-env-mytensor-py"
  },
  "language_info": {
   "codemirror_mode": {
    "name": "ipython",
    "version": 3
   },
   "file_extension": ".py",
   "mimetype": "text/x-python",
   "name": "python",
   "nbconvert_exporter": "python",
   "pygments_lexer": "ipython3",
   "version": "3.9.12"
  },
  "toc": {
   "base_numbering": 1,
   "nav_menu": {},
   "number_sections": true,
   "sideBar": true,
   "skip_h1_title": false,
   "title_cell": "Table of Contents",
   "title_sidebar": "Contents",
   "toc_cell": false,
   "toc_position": {},
   "toc_section_display": true,
   "toc_window_display": false
  },
  "varInspector": {
   "cols": {
    "lenName": 16,
    "lenType": 16,
    "lenVar": 40
   },
   "kernels_config": {
    "python": {
     "delete_cmd_postfix": "",
     "delete_cmd_prefix": "del ",
     "library": "var_list.py",
     "varRefreshCmd": "print(var_dic_list())"
    },
    "r": {
     "delete_cmd_postfix": ") ",
     "delete_cmd_prefix": "rm(",
     "library": "var_list.r",
     "varRefreshCmd": "cat(var_dic_list()) "
    }
   },
   "types_to_exclude": [
    "module",
    "function",
    "builtin_function_or_method",
    "instance",
    "_Feature"
   ],
   "window_display": false
  }
 },
 "nbformat": 4,
 "nbformat_minor": 5
}
