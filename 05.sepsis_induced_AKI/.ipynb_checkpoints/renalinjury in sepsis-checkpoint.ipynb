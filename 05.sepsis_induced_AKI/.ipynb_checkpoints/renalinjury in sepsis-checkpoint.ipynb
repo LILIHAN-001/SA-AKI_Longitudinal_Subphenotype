{
 "cells": [
  {
   "cell_type": "markdown",
   "id": "45054902",
   "metadata": {},
   "source": [
    "- 探究sepsis对三类S-AKI的影响\n",
    "1. sepsis 与AKI发生间隙 \n",
    "2. sepsis时的sofa高低与对AKI的影响\n",
    "3. sepsis时的sofa有无renal sofa 对AKI的影响"
   ]
  },
  {
   "cell_type": "code",
   "execution_count": 1,
   "id": "02e66352",
   "metadata": {
    "ExecuteTime": {
     "end_time": "2023-07-19T08:51:56.050231Z",
     "start_time": "2023-07-19T08:51:54.898779Z"
    }
   },
   "outputs": [],
   "source": [
    "import numpy as np\n",
    "import pandas as pd\n",
    "import matplotlib.pyplot as plt\n",
    "np.random.seed(19680804)\n",
    "import datetime as dt\n",
    "pd.options.display.max_rows=300\n",
    "import seaborn as sns\n",
    "from statannot import add_stat_annotation\n",
    "# test： t-test_ind, t-test_welch, t-test_paired, Mann-Whitney, Mann-Whitney-gt, Mann-Whitney-ls, \n",
    "# Levene, Wilcoxon, Kruskal, Brunner-Munzel.\n",
    "# 计算p值前要去掉空值"
   ]
  },
  {
   "cell_type": "markdown",
   "id": "023e9dd4",
   "metadata": {},
   "source": [
    "#  sepsis 与AKI发生间隙 "
   ]
  },
  {
   "cell_type": "code",
   "execution_count": 42,
   "id": "82cdfc41",
   "metadata": {
    "ExecuteTime": {
     "end_time": "2023-07-20T02:26:32.924874Z",
     "start_time": "2023-07-20T02:26:32.831201Z"
    },
    "scrolled": false
   },
   "outputs": [
    {
     "data": {
      "image/png": "[encoded data removed]",
      "text/plain": [
       "<Figure size 300x150 with 1 Axes>"
      ]
     },
     "metadata": {},
     "output_type": "display_data"
    }
   ],
   "source": [
    "df_time_all = pd.read_csv(\"/public/hanl/jupyter_dir/kidney_sepsis_penotype_v2/04.other_feature_in_three_dataset/04.survival_treatment/df_time_all.csv\")\n",
    "dataset_dict = {\"mimic\":\"MIMIC\",\"aumcdb\":\"AUMCdb\",\"eicu\":\"eICU\"}\n",
    "def plot_box1(select_dataset):\n",
    "    import seaborn as sns\n",
    "    df_time = df_time_all[df_time_all[\"dataset\"]==select_dataset]\n",
    "    tit = df_time.dataset.unique()[0]\n",
    "    \n",
    "    df_time = df_time[[\"stay_id\",\"los_saki-sepsis\",\"groupHPD\"]]\n",
    "    fig = plt.figure(figsize=(3,1.5))\n",
    "    ax = sns.boxplot(x=\"groupHPD\",y=\"los_saki-sepsis\", width=0.3,data=df_time,palette=[\"#74a8ff\",\"#3fc968\",\"#f8746a\"], showfliers=False,showmeans=True,#箱图显示均值，\n",
    "                meanprops = {'marker':'D','markerfacecolor':'white'},whis=0.5)\n",
    "    plt.ylabel(\"Hours Sepsis to SA-AKI\")\n",
    "    plt.xlabel(\"\")\n",
    "    #plt.xticks([0,1,2],[\"C1\",\"C2\",\"C3\"])\n",
    "    data_p = df_time\n",
    "\n",
    "    # 添加P值\n",
    "#     from statannotations.Annotator import Annotator\n",
    "#     box_pairs = [(1,2),(1,3),(2,3)]\n",
    "#     annotator =  Annotator(ax, data=data_p, x=\"groupHPD\",y=\"los_saki-sepsis\",\n",
    "#                           pairs=box_pairs)\n",
    "#     annotator.configure(test='Mann-Whitney', text_format='star',line_height=0.009,line_width=1,loc='outside') #t-test_ind， Mann-Whitney Wilcoxon\n",
    "#     annotator.apply_and_annotate()\n",
    "#     plt.title(dataset_dict[tit],x=-0.2,y=1.5)\n",
    "    plt.show()\n",
    "select_dataset = \"mimic\"\n",
    "plot_box1(select_dataset)\n",
    "# select_dataset = \"aumcdb\"\n",
    "# plot_box1(select_dataset)\n",
    "# select_dataset = \"eicu\"\n",
    "# plot_box1(select_dataset)"
   ]
  },
  {
   "cell_type": "markdown",
   "id": "ee02d829",
   "metadata": {},
   "source": [
    "# feature in sepsis and AKI onset"
   ]
  },
  {
   "cell_type": "code",
   "execution_count": 3,
   "id": "0649a07b",
   "metadata": {
    "ExecuteTime": {
     "end_time": "2023-05-25T03:23:57.482991Z",
     "start_time": "2023-05-25T03:23:55.455227Z"
    }
   },
   "outputs": [],
   "source": [
    "df_type_filt1 = pd.read_csv(\"/public/hanl/jupyter_dir/kidney_sepsis_penotype_v2/01.MIMICIV_SAKI_trajCluster//df_mixAK_fea4_C3.csv\")\n",
    "df_type_filt1 = df_type_filt1[[\"stay_id\",\"groupHPD\"]].drop_duplicates()\n",
    "df_t1 = pd.read_csv(\"/public/hanl/jupyter_dir/kidney_sepsis_penotype_v2/00.data_mimic/disease_definition/AKI/sk_event_time.csv\")\n",
    "df_t1 = df_t1[[\"stay_id\",\"sepsis_onset\", \"saki_onset\"]]\n",
    "df_t1 = pd.merge(df_type_filt1, df_t1, how=\"inner\", on=\"stay_id\")\n",
    "\n",
    "df_type_filt2 = pd.read_csv(\"/public/hanl/jupyter_dir/kidney_sepsis_penotype_v2//02.AUMCdb_SAKI_trajCluster/df_mixAK_fea3_C3_aumc.csv\")\n",
    "df_type_filt2 = df_type_filt2[[\"stay_id\",\"groupHPD\"]].drop_duplicates()\n",
    "df_t2 = pd.read_csv(\"/public/hanl/jupyter_dir/kidney_sepsis_penotype_v2/00.data_aumc/disease_definition/AKI/aumcdb_sk_event_time.csv\")\n",
    "df_t2 = df_t2[[\"stay_id\",\"sepsis_onset\", \"saki_onset\"]]\n",
    "df_t2 = pd.merge(df_type_filt2, df_t2, how=\"inner\", on=\"stay_id\")\n",
    "\n",
    "df_type_filt3 = pd.read_csv(\"/public/hanl/jupyter_dir/kidney_sepsis_penotype_v2//03.eICU_SAKI_trajCluster/df_mixAK_fea4_C3_eicu.csv\")\n",
    "df_type_filt3 = df_type_filt3[[\"stay_id\",\"groupHPD\"]].drop_duplicates()\n",
    "df_t3 = pd.read_csv(\"/public/hanl/jupyter_dir/kidney_sepsis_penotype_v2/00.data_eicu/disease_definition/AKI/eicu_saki_event_time.csv\")\n",
    "df_t3 = df_t3[[\"stay_id\",\"sepsis_onset\", \"saki_onset\"]]\n",
    "df_t3 = pd.merge(df_type_filt3, df_t3, how=\"inner\", on=\"stay_id\")\n"
   ]
  },
  {
   "cell_type": "code",
   "execution_count": 4,
   "id": "a4afe37e",
   "metadata": {
    "ExecuteTime": {
     "end_time": "2023-05-25T03:23:57.494450Z",
     "start_time": "2023-05-25T03:23:57.484714Z"
    }
   },
   "outputs": [],
   "source": [
    "def fea_boxplot2(df_start,df_end,tit):\n",
    "    import seaborn as sns\n",
    "    from statannot import add_stat_annotation\n",
    "    from statannotations.Annotator import Annotator\n",
    "    df_start[\"status\"] = \"Sepsis\"\n",
    "    df_end[\"status\"] = \"S-AKI\"\n",
    "    data_p = pd.concat([df_start, df_end], axis=0)\n",
    "    map_dict ={1:\"C1\",2:\"C2\",3:\"C3\"}\n",
    "    data_p[\"groupHPD\"] = data_p[\"groupHPD\"].map(map_dict)\n",
    "    fig = plt.figure(figsize=(4,3))\n",
    "    ax= sns.boxplot(x=\"groupHPD\",y=fea,hue=\"status\",\n",
    "                    showfliers=False,showmeans=True,\n",
    "                    data=data_p,order=[\"C1\",\"C2\",\"C3\"],palette='Set2',saturation=0.4)\n",
    "    add_stat_annotation(ax,data=data_p,x=\"groupHPD\",y=fea,hue=\"status\",order=[\"C1\",\"C2\",\"C3\"],test=\"Mann-Whitney\",box_pairs=[((\"C2\",\"Sepsis\"),(\"C2\",\"S-AKI\")),((\"C1\",\"Sepsis\"),(\"C1\",\"S-AKI\")),((\"C3\",\"Sepsis\"),(\"C3\",\"S-AKI\"))],loc='outside')\n",
    "    plt.legend(loc='upper right')\n",
    "    plt.title(tit,x=-0.2,y=1)\n",
    "    plt.show()"
   ]
  },
  {
   "cell_type": "markdown",
   "id": "ca424980",
   "metadata": {},
   "source": [
    "## sofa in sepsis and AKI onset"
   ]
  },
  {
   "attachments": {
    "image.png": {
     "image/png": "[encoded data removed]"
    }
   },
   "cell_type": "markdown",
   "id": "990a16d1",
   "metadata": {},
   "source": [
    "![image.png](attachment:image.png)"
   ]
  },
  {
   "cell_type": "markdown",
   "id": "459c082f",
   "metadata": {},
   "source": [
    "### mimic"
   ]
  },
  {
   "cell_type": "code",
   "execution_count": 5,
   "id": "3c4a3af5",
   "metadata": {
    "ExecuteTime": {
     "end_time": "2023-05-25T03:24:26.825408Z",
     "start_time": "2023-05-25T03:23:57.495741Z"
    }
   },
   "outputs": [
    {
     "data": {
      "text/html": [
       "<div>\n",
       "<style scoped>\n",
       "    .dataframe tbody tr th:only-of-type {\n",
       "        vertical-align: middle;\n",
       "    }\n",
       "\n",
       "    .dataframe tbody tr th {\n",
       "        vertical-align: top;\n",
       "    }\n",
       "\n",
       "    .dataframe thead th {\n",
       "        text-align: right;\n",
       "    }\n",
       "</style>\n",
       "<table border=\"1\" class=\"dataframe\">\n",
       "  <thead>\n",
       "    <tr style=\"text-align: right;\">\n",
       "      <th></th>\n",
       "      <th>stay_id</th>\n",
       "      <th>groupHPD</th>\n",
       "      <th>charttime</th>\n",
       "      <th>respiration_sofa</th>\n",
       "      <th>coagulation_sofa</th>\n",
       "      <th>liver_sofa</th>\n",
       "      <th>cardiovascular_sofa</th>\n",
       "      <th>cns_sofa</th>\n",
       "      <th>renal_sofa</th>\n",
       "      <th>sofa</th>\n",
       "      <th>sepsis_onset</th>\n",
       "      <th>saki_onset</th>\n",
       "      <th>sofa_norenal</th>\n",
       "    </tr>\n",
       "  </thead>\n",
       "  <tbody>\n",
       "    <tr>\n",
       "      <th>0</th>\n",
       "      <td>30003598</td>\n",
       "      <td>1</td>\n",
       "      <td>2189-04-14 21:00:00</td>\n",
       "      <td>2</td>\n",
       "      <td>0</td>\n",
       "      <td>0</td>\n",
       "      <td>1</td>\n",
       "      <td>0</td>\n",
       "      <td>0</td>\n",
       "      <td>3</td>\n",
       "      <td>2189-04-14 21:00:00</td>\n",
       "      <td>2189-04-15 03:04:00</td>\n",
       "      <td>3</td>\n",
       "    </tr>\n",
       "    <tr>\n",
       "      <th>125</th>\n",
       "      <td>30004144</td>\n",
       "      <td>2</td>\n",
       "      <td>2126-04-05 00:00:00</td>\n",
       "      <td>0</td>\n",
       "      <td>0</td>\n",
       "      <td>0</td>\n",
       "      <td>1</td>\n",
       "      <td>1</td>\n",
       "      <td>0</td>\n",
       "      <td>2</td>\n",
       "      <td>2126-04-05 00:00:00</td>\n",
       "      <td>2126-04-05 06:00:00</td>\n",
       "      <td>2</td>\n",
       "    </tr>\n",
       "  </tbody>\n",
       "</table>\n",
       "</div>"
      ],
      "text/plain": [
       "      stay_id  groupHPD           charttime  respiration_sofa  \\\n",
       "0    30003598         1 2189-04-14 21:00:00                 2   \n",
       "125  30004144         2 2126-04-05 00:00:00                 0   \n",
       "\n",
       "     coagulation_sofa  liver_sofa  cardiovascular_sofa  cns_sofa  renal_sofa  \\\n",
       "0                   0           0                    1         0           0   \n",
       "125                 0           0                    1         1           0   \n",
       "\n",
       "     sofa        sepsis_onset           saki_onset  sofa_norenal  \n",
       "0       3 2189-04-14 21:00:00  2189-04-15 03:04:00             3  \n",
       "125     2 2126-04-05 00:00:00  2126-04-05 06:00:00             2  "
      ]
     },
     "execution_count": 5,
     "metadata": {},
     "output_type": "execute_result"
    }
   ],
   "source": [
    "df = pd.read_csv(\"/public/hanl/jupyter_dir/kidney_sepsis_penotype_v2/04.other_feature_in_three_dataset//03.sofa_feature/mimic_sofa.csv\")\n",
    "df = pd.merge(df,df_t1, how=\"inner\",on=\"stay_id\") \n",
    "df[\"endtime\"] = pd.to_datetime(df[\"endtime\"], format='%d/%m/%Y %H:%M:%S')\n",
    "df[\"charttime\"] = df.endtime #+ dt.timedelta(hours=0.5)\n",
    "df = df.sort_values([\"stay_id\",\"charttime\"])\n",
    "df = df[['stay_id','groupHPD', 'charttime', 'respiration_24hours', 'coagulation_24hours', 'liver_24hours',\n",
    "       'cardiovascular_24hours', 'cns_24hours', 'renal_24hours','sofa_24hours','sepsis_onset', 'saki_onset']]\n",
    "df = df.rename(columns={'respiration_24hours':\"respiration_sofa\", 'coagulation_24hours':\"coagulation_sofa\", 'liver_24hours': 'liver_sofa',\n",
    "       'cardiovascular_24hours':\"cardiovascular_sofa\", 'cns_24hours':'cns_sofa', 'renal_24hours':'renal_sofa','sofa_24hours':\"sofa\"})\n",
    "df[\"sofa_norenal\"] = df['respiration_sofa'] + df['coagulation_sofa'] +  df['liver_sofa'] + df['cardiovascular_sofa'] + df['cns_sofa'] \n",
    "\n",
    "df[\"sepsis_onset\"] = pd.to_datetime(df[\"sepsis_onset\"])\n",
    "df_sepsis_sofa_mimic = df[df[\"sepsis_onset\"]==df[\"charttime\"]]\n",
    "df_sepsis_sofa_mimic.head(2)"
   ]
  },
  {
   "cell_type": "code",
   "execution_count": 6,
   "id": "dd455b06",
   "metadata": {
    "ExecuteTime": {
     "end_time": "2023-05-25T03:24:26.828982Z",
     "start_time": "2023-05-25T03:24:26.826967Z"
    }
   },
   "outputs": [],
   "source": [
    "# import math\n",
    "# fea_lst = ['respiration_sofa', 'coagulation_sofa', 'liver_sofa','cardiovascular_sofa', 'cns_sofa', 'renal_sofa',\"sofa\"]\n",
    "# df_start = df_mimic_sofa_seps\n",
    "# df_end = df_mimic_sofa_saki\n",
    "\n",
    "# for fea in fea_lst:\n",
    "#     fix_feature = ['stay_id', 'groupHPD']\n",
    "#     fix_feature.append(fea)\n",
    "#     df_start_ = df_start[fix_feature].dropna(how='all', subset=[fea])\n",
    "#     df_end_ = df_end[fix_feature].dropna(how='all', subset=[fea])\n",
    "#     fea_boxplot2(df_start_,df_end_,\"MIMIC\")"
   ]
  },
  {
   "cell_type": "markdown",
   "id": "de8293d7",
   "metadata": {
    "run_control": {
     "marked": true
    }
   },
   "source": [
    "### aumcdb"
   ]
  },
  {
   "cell_type": "code",
   "execution_count": 7,
   "id": "083b87a1",
   "metadata": {
    "ExecuteTime": {
     "end_time": "2023-05-25T03:24:28.359571Z",
     "start_time": "2023-05-25T03:24:26.830041Z"
    },
    "scrolled": true
   },
   "outputs": [
    {
     "data": {
      "text/html": [
       "<div>\n",
       "<style scoped>\n",
       "    .dataframe tbody tr th:only-of-type {\n",
       "        vertical-align: middle;\n",
       "    }\n",
       "\n",
       "    .dataframe tbody tr th {\n",
       "        vertical-align: top;\n",
       "    }\n",
       "\n",
       "    .dataframe thead th {\n",
       "        text-align: right;\n",
       "    }\n",
       "</style>\n",
       "<table border=\"1\" class=\"dataframe\">\n",
       "  <thead>\n",
       "    <tr style=\"text-align: right;\">\n",
       "      <th></th>\n",
       "      <th>stay_id</th>\n",
       "      <th>charttime</th>\n",
       "      <th>respiration_sofa</th>\n",
       "      <th>coagulation_sofa</th>\n",
       "      <th>liver_sofa</th>\n",
       "      <th>cardiovascular_sofa</th>\n",
       "      <th>cns_sofa</th>\n",
       "      <th>renal_sofa</th>\n",
       "      <th>sofa</th>\n",
       "      <th>groupHPD</th>\n",
       "      <th>sepsis_onset</th>\n",
       "      <th>saki_onset</th>\n",
       "      <th>sofa_norenal</th>\n",
       "    </tr>\n",
       "  </thead>\n",
       "  <tbody>\n",
       "    <tr>\n",
       "      <th>1</th>\n",
       "      <td>5</td>\n",
       "      <td>0.0</td>\n",
       "      <td>0.0</td>\n",
       "      <td>0.0</td>\n",
       "      <td>0.0</td>\n",
       "      <td>4.0</td>\n",
       "      <td>0.0</td>\n",
       "      <td>0.0</td>\n",
       "      <td>4.0</td>\n",
       "      <td>2</td>\n",
       "      <td>0.0</td>\n",
       "      <td>3.0</td>\n",
       "      <td>4.0</td>\n",
       "    </tr>\n",
       "    <tr>\n",
       "      <th>72</th>\n",
       "      <td>15</td>\n",
       "      <td>1.0</td>\n",
       "      <td>2.0</td>\n",
       "      <td>0.0</td>\n",
       "      <td>0.0</td>\n",
       "      <td>4.0</td>\n",
       "      <td>0.0</td>\n",
       "      <td>0.0</td>\n",
       "      <td>6.0</td>\n",
       "      <td>2</td>\n",
       "      <td>1.0</td>\n",
       "      <td>3.0</td>\n",
       "      <td>6.0</td>\n",
       "    </tr>\n",
       "  </tbody>\n",
       "</table>\n",
       "</div>"
      ],
      "text/plain": [
       "    stay_id  charttime  respiration_sofa  coagulation_sofa  liver_sofa  \\\n",
       "1         5        0.0               0.0               0.0         0.0   \n",
       "72       15        1.0               2.0               0.0         0.0   \n",
       "\n",
       "    cardiovascular_sofa  cns_sofa  renal_sofa  sofa  groupHPD  sepsis_onset  \\\n",
       "1                   4.0       0.0         0.0   4.0         2           0.0   \n",
       "72                  4.0       0.0         0.0   6.0         2           1.0   \n",
       "\n",
       "    saki_onset  sofa_norenal  \n",
       "1          3.0           4.0  \n",
       "72         3.0           6.0  "
      ]
     },
     "execution_count": 7,
     "metadata": {},
     "output_type": "execute_result"
    }
   ],
   "source": [
    "df = pd.read_csv(\"/public/hanl/jupyter_dir/kidney_sepsis_penotype_v2/04.other_feature_in_three_dataset/03.sofa_feature/aumcdb_sofa.csv\") # hour\n",
    "df = df.rename(columns={'admissionid':'stay_id','time':'charttime','sofa_respiration_score':\"respiration_sofa\", 'sofa_coagulation_score':\"coagulation_sofa\", 'sofa_liver_score': 'liver_sofa',\n",
    "        'sofa_cardiovascular_score':\"cardiovascular_sofa\", 'sofa_cns_score':'cns_sofa', 'sofa_renal_score':'renal_sofa','sofa_total_score':\"sofa\"})\n",
    "df = pd.merge(df,df_t2, how=\"inner\",on=\"stay_id\") #df[df[\"stay_id\"].isin(all_lst)]\n",
    "df = df.sort_values([\"stay_id\",\"charttime\"])\n",
    "df = df.fillna(0)\n",
    "df[\"sofa_norenal\"] = df['respiration_sofa'] + df['coagulation_sofa'] +  df['liver_sofa'] + df['cardiovascular_sofa'] + df['cns_sofa'] \n",
    "df_sepsis_sofa_aumc = df[df[\"sepsis_onset\"]==df[\"charttime\"]]\n",
    "df_sepsis_sofa_aumc.head(2)"
   ]
  },
  {
   "cell_type": "markdown",
   "id": "679ed696",
   "metadata": {},
   "source": [
    "### eicu"
   ]
  },
  {
   "cell_type": "code",
   "execution_count": 8,
   "id": "860d45a7",
   "metadata": {
    "ExecuteTime": {
     "end_time": "2023-05-25T03:25:11.087695Z",
     "start_time": "2023-05-25T03:24:28.361421Z"
    }
   },
   "outputs": [
    {
     "data": {
      "text/html": [
       "<div>\n",
       "<style scoped>\n",
       "    .dataframe tbody tr th:only-of-type {\n",
       "        vertical-align: middle;\n",
       "    }\n",
       "\n",
       "    .dataframe tbody tr th {\n",
       "        vertical-align: top;\n",
       "    }\n",
       "\n",
       "    .dataframe thead th {\n",
       "        text-align: right;\n",
       "    }\n",
       "</style>\n",
       "<table border=\"1\" class=\"dataframe\">\n",
       "  <thead>\n",
       "    <tr style=\"text-align: right;\">\n",
       "      <th></th>\n",
       "      <th>stay_id</th>\n",
       "      <th>charttime</th>\n",
       "      <th>respiration_sofa</th>\n",
       "      <th>coagulation_sofa</th>\n",
       "      <th>liver_sofa</th>\n",
       "      <th>cardiovascular_sofa</th>\n",
       "      <th>cns_sofa</th>\n",
       "      <th>renal_sofa</th>\n",
       "      <th>sofa</th>\n",
       "      <th>groupHPD</th>\n",
       "      <th>sepsis_onset</th>\n",
       "      <th>saki_onset</th>\n",
       "      <th>sofa_norenal</th>\n",
       "    </tr>\n",
       "  </thead>\n",
       "  <tbody>\n",
       "    <tr>\n",
       "      <th>4</th>\n",
       "      <td>243208</td>\n",
       "      <td>4</td>\n",
       "      <td>0</td>\n",
       "      <td>0</td>\n",
       "      <td>0</td>\n",
       "      <td>1</td>\n",
       "      <td>0</td>\n",
       "      <td>1</td>\n",
       "      <td>2</td>\n",
       "      <td>1</td>\n",
       "      <td>4.0</td>\n",
       "      <td>12.0</td>\n",
       "      <td>1</td>\n",
       "    </tr>\n",
       "    <tr>\n",
       "      <th>28</th>\n",
       "      <td>243765</td>\n",
       "      <td>0</td>\n",
       "      <td>0</td>\n",
       "      <td>0</td>\n",
       "      <td>0</td>\n",
       "      <td>0</td>\n",
       "      <td>0</td>\n",
       "      <td>3</td>\n",
       "      <td>3</td>\n",
       "      <td>2</td>\n",
       "      <td>0.0</td>\n",
       "      <td>20.0</td>\n",
       "      <td>0</td>\n",
       "    </tr>\n",
       "  </tbody>\n",
       "</table>\n",
       "</div>"
      ],
      "text/plain": [
       "    stay_id  charttime  respiration_sofa  coagulation_sofa  liver_sofa  \\\n",
       "4    243208          4                 0                 0           0   \n",
       "28   243765          0                 0                 0           0   \n",
       "\n",
       "    cardiovascular_sofa  cns_sofa  renal_sofa  sofa  groupHPD  sepsis_onset  \\\n",
       "4                     1         0           1     2         1           4.0   \n",
       "28                    0         0           3     3         2           0.0   \n",
       "\n",
       "    saki_onset  sofa_norenal  \n",
       "4         12.0             1  \n",
       "28        20.0             0  "
      ]
     },
     "execution_count": 8,
     "metadata": {},
     "output_type": "execute_result"
    }
   ],
   "source": [
    "df = pd.read_csv(\"/public/hanl/jupyter_dir/kidney_sepsis_penotype_v2/04.other_feature_in_three_dataset/03.sofa_feature/eicu_sofa.csv\") # hour\n",
    "df = df.rename(columns={'patientunitstayid':'stay_id','hr':'charttime','respiration_24hours':\"respiration_sofa\", 'coagulation_24hours':\"coagulation_sofa\", 'liver_24hours': 'liver_sofa',\n",
    "        'cardiovascular_24hours':\"cardiovascular_sofa\", 'cns_24hours':'cns_sofa', 'renal_24hours':'renal_sofa','sofa_24hours':\"sofa\"})\n",
    "df = pd.merge(df,df_t3, how=\"inner\",on=\"stay_id\") \n",
    "df = df.sort_values([\"stay_id\",\"charttime\"])\n",
    "df = df[['stay_id', 'charttime','respiration_sofa', 'coagulation_sofa', 'liver_sofa',\n",
    "       'cardiovascular_sofa', 'cns_sofa', 'renal_sofa', 'sofa', 'groupHPD', 'sepsis_onset', 'saki_onset']]\n",
    "df[\"sofa\"] = df[\"respiration_sofa\"] + df[\"coagulation_sofa\"] + df[\"liver_sofa\"] + df[\"cardiovascular_sofa\"] + df[\"cns_sofa\"] + df[\"renal_sofa\"] \n",
    "df[\"sofa_norenal\"] = df['respiration_sofa'] + df['coagulation_sofa'] +  df['liver_sofa'] + df['cardiovascular_sofa'] + df['cns_sofa'] \n",
    "\n",
    "df_sepsis_sofa_eicu = df[df[\"sepsis_onset\"]==df[\"charttime\"]]\n",
    "df_sepsis_sofa_eicu.head(2)"
   ]
  },
  {
   "cell_type": "markdown",
   "id": "5f5bb3a7",
   "metadata": {},
   "source": [
    "# with renal sofa or not"
   ]
  },
  {
   "cell_type": "code",
   "execution_count": 9,
   "id": "05be5328",
   "metadata": {
    "ExecuteTime": {
     "end_time": "2023-05-25T03:25:11.135806Z",
     "start_time": "2023-05-25T03:25:11.089601Z"
    }
   },
   "outputs": [
    {
     "data": {
      "text/html": [
       "<div>\n",
       "<style scoped>\n",
       "    .dataframe tbody tr th:only-of-type {\n",
       "        vertical-align: middle;\n",
       "    }\n",
       "\n",
       "    .dataframe tbody tr th {\n",
       "        vertical-align: top;\n",
       "    }\n",
       "\n",
       "    .dataframe thead th {\n",
       "        text-align: right;\n",
       "    }\n",
       "</style>\n",
       "<table border=\"1\" class=\"dataframe\">\n",
       "  <thead>\n",
       "    <tr style=\"text-align: right;\">\n",
       "      <th></th>\n",
       "      <th>groupHPD</th>\n",
       "      <th>is_renalinjury</th>\n",
       "      <th>stay_id</th>\n",
       "      <th>count_all</th>\n",
       "      <th>percent</th>\n",
       "    </tr>\n",
       "  </thead>\n",
       "  <tbody>\n",
       "    <tr>\n",
       "      <th>0</th>\n",
       "      <td>1</td>\n",
       "      <td>0</td>\n",
       "      <td>428</td>\n",
       "      <td>564</td>\n",
       "      <td>75.89</td>\n",
       "    </tr>\n",
       "    <tr>\n",
       "      <th>1</th>\n",
       "      <td>1</td>\n",
       "      <td>1</td>\n",
       "      <td>136</td>\n",
       "      <td>564</td>\n",
       "      <td>24.11</td>\n",
       "    </tr>\n",
       "    <tr>\n",
       "      <th>2</th>\n",
       "      <td>2</td>\n",
       "      <td>0</td>\n",
       "      <td>1249</td>\n",
       "      <td>1400</td>\n",
       "      <td>89.21</td>\n",
       "    </tr>\n",
       "    <tr>\n",
       "      <th>3</th>\n",
       "      <td>2</td>\n",
       "      <td>1</td>\n",
       "      <td>151</td>\n",
       "      <td>1400</td>\n",
       "      <td>10.79</td>\n",
       "    </tr>\n",
       "    <tr>\n",
       "      <th>4</th>\n",
       "      <td>3</td>\n",
       "      <td>0</td>\n",
       "      <td>177</td>\n",
       "      <td>219</td>\n",
       "      <td>80.82</td>\n",
       "    </tr>\n",
       "    <tr>\n",
       "      <th>5</th>\n",
       "      <td>3</td>\n",
       "      <td>1</td>\n",
       "      <td>42</td>\n",
       "      <td>219</td>\n",
       "      <td>19.18</td>\n",
       "    </tr>\n",
       "  </tbody>\n",
       "</table>\n",
       "</div>"
      ],
      "text/plain": [
       "   groupHPD  is_renalinjury  stay_id  count_all  percent\n",
       "0         1               0      428        564    75.89\n",
       "1         1               1      136        564    24.11\n",
       "2         2               0     1249       1400    89.21\n",
       "3         2               1      151       1400    10.79\n",
       "4         3               0      177        219    80.82\n",
       "5         3               1       42        219    19.18"
      ]
     },
     "execution_count": 9,
     "metadata": {},
     "output_type": "execute_result"
    }
   ],
   "source": [
    "df = df_sepsis_sofa_aumc\n",
    "df[\"is_renalinjury\"] = 0\n",
    "df.loc[df[\"renal_sofa\"]>0,\"is_renalinjury\"] = 1\n",
    "df_stat = df.groupby([\"groupHPD\",\"is_renalinjury\"]).agg({\"stay_id\":\"count\"}).reset_index()\n",
    "df_count_all = df.groupby([\"groupHPD\"]).agg({\"stay_id\":\"count\"}).reset_index()\n",
    "df_count_all.columns = [\"groupHPD\",\"count_all\"]\n",
    "df_stat = pd.merge(df_stat, df_count_all, how=\"left\",on=\"groupHPD\")\n",
    "df_stat[\"percent\"] = round(df_stat[\"stay_id\"] / df_stat[\"count_all\"]*100,2)\n",
    "df_stat"
   ]
  },
  {
   "cell_type": "code",
   "execution_count": 10,
   "id": "0f0ae6a4",
   "metadata": {
    "ExecuteTime": {
     "end_time": "2023-05-25T03:25:11.178995Z",
     "start_time": "2023-05-25T03:25:11.136684Z"
    }
   },
   "outputs": [
    {
     "data": {
      "text/html": [
       "<div>\n",
       "<style scoped>\n",
       "    .dataframe tbody tr th:only-of-type {\n",
       "        vertical-align: middle;\n",
       "    }\n",
       "\n",
       "    .dataframe tbody tr th {\n",
       "        vertical-align: top;\n",
       "    }\n",
       "\n",
       "    .dataframe thead th {\n",
       "        text-align: right;\n",
       "    }\n",
       "</style>\n",
       "<table border=\"1\" class=\"dataframe\">\n",
       "  <thead>\n",
       "    <tr style=\"text-align: right;\">\n",
       "      <th></th>\n",
       "      <th>groupHPD</th>\n",
       "      <th>is_renalinjury</th>\n",
       "      <th>stay_id</th>\n",
       "      <th>count_all</th>\n",
       "      <th>percent</th>\n",
       "    </tr>\n",
       "  </thead>\n",
       "  <tbody>\n",
       "    <tr>\n",
       "      <th>0</th>\n",
       "      <td>1</td>\n",
       "      <td>0</td>\n",
       "      <td>960</td>\n",
       "      <td>1298</td>\n",
       "      <td>73.96</td>\n",
       "    </tr>\n",
       "    <tr>\n",
       "      <th>1</th>\n",
       "      <td>1</td>\n",
       "      <td>1</td>\n",
       "      <td>338</td>\n",
       "      <td>1298</td>\n",
       "      <td>26.04</td>\n",
       "    </tr>\n",
       "    <tr>\n",
       "      <th>2</th>\n",
       "      <td>2</td>\n",
       "      <td>0</td>\n",
       "      <td>2739</td>\n",
       "      <td>3055</td>\n",
       "      <td>89.66</td>\n",
       "    </tr>\n",
       "    <tr>\n",
       "      <th>3</th>\n",
       "      <td>2</td>\n",
       "      <td>1</td>\n",
       "      <td>316</td>\n",
       "      <td>3055</td>\n",
       "      <td>10.34</td>\n",
       "    </tr>\n",
       "    <tr>\n",
       "      <th>4</th>\n",
       "      <td>3</td>\n",
       "      <td>0</td>\n",
       "      <td>281</td>\n",
       "      <td>360</td>\n",
       "      <td>78.06</td>\n",
       "    </tr>\n",
       "    <tr>\n",
       "      <th>5</th>\n",
       "      <td>3</td>\n",
       "      <td>1</td>\n",
       "      <td>79</td>\n",
       "      <td>360</td>\n",
       "      <td>21.94</td>\n",
       "    </tr>\n",
       "  </tbody>\n",
       "</table>\n",
       "</div>"
      ],
      "text/plain": [
       "   groupHPD  is_renalinjury  stay_id  count_all  percent\n",
       "0         1               0      960       1298    73.96\n",
       "1         1               1      338       1298    26.04\n",
       "2         2               0     2739       3055    89.66\n",
       "3         2               1      316       3055    10.34\n",
       "4         3               0      281        360    78.06\n",
       "5         3               1       79        360    21.94"
      ]
     },
     "execution_count": 10,
     "metadata": {},
     "output_type": "execute_result"
    }
   ],
   "source": [
    "df = df_sepsis_sofa_mimic\n",
    "df[\"is_renalinjury\"] = 0\n",
    "df.loc[df[\"renal_sofa\"]>0,\"is_renalinjury\"] = 1\n",
    "df_stat = df.groupby([\"groupHPD\",\"is_renalinjury\"]).agg({\"stay_id\":\"count\"}).reset_index()\n",
    "df_count_all = df.groupby([\"groupHPD\"]).agg({\"stay_id\":\"count\"}).reset_index()\n",
    "df_count_all.columns = [\"groupHPD\",\"count_all\"]\n",
    "df_stat = pd.merge(df_stat, df_count_all, how=\"left\",on=\"groupHPD\")\n",
    "df_stat[\"percent\"] = round(df_stat[\"stay_id\"] / df_stat[\"count_all\"]*100,2)\n",
    "df_stat"
   ]
  },
  {
   "cell_type": "code",
   "execution_count": 11,
   "id": "50441eec",
   "metadata": {
    "ExecuteTime": {
     "end_time": "2023-05-25T03:25:11.334002Z",
     "start_time": "2023-05-25T03:25:11.179775Z"
    }
   },
   "outputs": [
    {
     "data": {
      "text/html": [
       "<div>\n",
       "<style scoped>\n",
       "    .dataframe tbody tr th:only-of-type {\n",
       "        vertical-align: middle;\n",
       "    }\n",
       "\n",
       "    .dataframe tbody tr th {\n",
       "        vertical-align: top;\n",
       "    }\n",
       "\n",
       "    .dataframe thead th {\n",
       "        text-align: right;\n",
       "    }\n",
       "</style>\n",
       "<table border=\"1\" class=\"dataframe\">\n",
       "  <thead>\n",
       "    <tr style=\"text-align: right;\">\n",
       "      <th></th>\n",
       "      <th>groupHPD</th>\n",
       "      <th>is_renalinjury</th>\n",
       "      <th>stay_id</th>\n",
       "      <th>count_all</th>\n",
       "      <th>percent</th>\n",
       "    </tr>\n",
       "  </thead>\n",
       "  <tbody>\n",
       "    <tr>\n",
       "      <th>0</th>\n",
       "      <td>1</td>\n",
       "      <td>0</td>\n",
       "      <td>181</td>\n",
       "      <td>647</td>\n",
       "      <td>27.98</td>\n",
       "    </tr>\n",
       "    <tr>\n",
       "      <th>1</th>\n",
       "      <td>1</td>\n",
       "      <td>1</td>\n",
       "      <td>466</td>\n",
       "      <td>647</td>\n",
       "      <td>72.02</td>\n",
       "    </tr>\n",
       "    <tr>\n",
       "      <th>2</th>\n",
       "      <td>2</td>\n",
       "      <td>0</td>\n",
       "      <td>451</td>\n",
       "      <td>1133</td>\n",
       "      <td>39.81</td>\n",
       "    </tr>\n",
       "    <tr>\n",
       "      <th>3</th>\n",
       "      <td>2</td>\n",
       "      <td>1</td>\n",
       "      <td>682</td>\n",
       "      <td>1133</td>\n",
       "      <td>60.19</td>\n",
       "    </tr>\n",
       "    <tr>\n",
       "      <th>4</th>\n",
       "      <td>3</td>\n",
       "      <td>0</td>\n",
       "      <td>90</td>\n",
       "      <td>186</td>\n",
       "      <td>48.39</td>\n",
       "    </tr>\n",
       "    <tr>\n",
       "      <th>5</th>\n",
       "      <td>3</td>\n",
       "      <td>1</td>\n",
       "      <td>96</td>\n",
       "      <td>186</td>\n",
       "      <td>51.61</td>\n",
       "    </tr>\n",
       "  </tbody>\n",
       "</table>\n",
       "</div>"
      ],
      "text/plain": [
       "   groupHPD  is_renalinjury  stay_id  count_all  percent\n",
       "0         1               0      181        647    27.98\n",
       "1         1               1      466        647    72.02\n",
       "2         2               0      451       1133    39.81\n",
       "3         2               1      682       1133    60.19\n",
       "4         3               0       90        186    48.39\n",
       "5         3               1       96        186    51.61"
      ]
     },
     "execution_count": 11,
     "metadata": {},
     "output_type": "execute_result"
    }
   ],
   "source": [
    "df = df_sepsis_sofa_eicu\n",
    "df[\"is_renalinjury\"] = 0\n",
    "df.loc[df[\"renal_sofa\"]>0,\"is_renalinjury\"] = 1\n",
    "df_stat = df.groupby([\"groupHPD\",\"is_renalinjury\"]).agg({\"stay_id\":\"count\"}).reset_index()\n",
    "df_count_all = df.groupby([\"groupHPD\"]).agg({\"stay_id\":\"count\"}).reset_index()\n",
    "df_count_all.columns = [\"groupHPD\",\"count_all\"]\n",
    "df_stat = pd.merge(df_stat, df_count_all, how=\"left\",on=\"groupHPD\")\n",
    "df_stat[\"percent\"] = round(df_stat[\"stay_id\"] / df_stat[\"count_all\"]*100,2)\n",
    "df_stat"
   ]
  },
  {
   "cell_type": "markdown",
   "id": "5cbd0e68",
   "metadata": {},
   "source": [
    "# sofa 高低与AKI纵向亚型"
   ]
  },
  {
   "cell_type": "code",
   "execution_count": 99,
   "id": "65d59dea",
   "metadata": {
    "ExecuteTime": {
     "end_time": "2023-05-25T08:54:00.198125Z",
     "start_time": "2023-05-25T08:54:00.019875Z"
    },
    "scrolled": false
   },
   "outputs": [
    {
     "name": "stdout",
     "output_type": "stream",
     "text": [
      "p-value annotation legend:\n",
      "ns: 5.00e-02 < p <= 1.00e+00\n",
      "*: 1.00e-02 < p <= 5.00e-02\n",
      "**: 1.00e-03 < p <= 1.00e-02\n",
      "***: 1.00e-04 < p <= 1.00e-03\n",
      "****: p <= 1.00e-04\n",
      "\n",
      "1 v.s. 2: Welch's t-test independent samples with Bonferroni correction, P_val=2.622e-14 stat=7.813e+00\n",
      "2 v.s. 3: Welch's t-test independent samples with Bonferroni correction, P_val=6.829e-08 stat=-5.702e+00\n",
      "1 v.s. 3: Welch's t-test independent samples with Bonferroni correction, P_val=3.624e-01 stat=-1.554e+00\n"
     ]
    },
    {
     "data": {
      "image/png": "[encoded data removed]",
      "text/plain": [
       "<Figure size 400x300 with 1 Axes>"
      ]
     },
     "metadata": {},
     "output_type": "display_data"
    }
   ],
   "source": [
    "df = df_sepsis_sofa_mimic\n",
    "fea = \"sofa\"\n",
    "fig = plt.figure(figsize=(4,3))\n",
    "ax = sns.boxplot(x=\"groupHPD\",y=fea,showfliers=False,showmeans=True,data=df,palette='Set2',saturation=0.4)\n",
    "add_stat_annotation(ax,data=df,x=\"groupHPD\",y=fea,test=\"t-test_welch\",box_pairs=[(1,2),(2,3),(1,3)],loc='outside',line_offset=0.05)\n",
    "plt.title(\"MIMIC\",x=-0.2,y=1)\n",
    "plt.show()"
   ]
  },
  {
   "cell_type": "code",
   "execution_count": 100,
   "id": "7cdd3864",
   "metadata": {
    "ExecuteTime": {
     "end_time": "2023-05-25T08:54:06.130736Z",
     "start_time": "2023-05-25T08:54:05.976389Z"
    }
   },
   "outputs": [
    {
     "name": "stdout",
     "output_type": "stream",
     "text": [
      "p-value annotation legend:\n",
      "ns: 5.00e-02 < p <= 1.00e+00\n",
      "*: 1.00e-02 < p <= 5.00e-02\n",
      "**: 1.00e-03 < p <= 1.00e-02\n",
      "***: 1.00e-04 < p <= 1.00e-03\n",
      "****: p <= 1.00e-04\n",
      "\n",
      "1 v.s. 2: Welch's t-test independent samples with Bonferroni correction, P_val=1.604e-06 stat=5.029e+00\n",
      "2 v.s. 3: Welch's t-test independent samples with Bonferroni correction, P_val=6.821e-06 stat=-4.796e+00\n",
      "1 v.s. 3: Welch's t-test independent samples with Bonferroni correction, P_val=1.336e-01 stat=-2.014e+00\n"
     ]
    },
    {
     "data": {
      "image/png": "[encoded data removed]",
      "text/plain": [
       "<Figure size 400x300 with 1 Axes>"
      ]
     },
     "metadata": {},
     "output_type": "display_data"
    }
   ],
   "source": [
    "df = df_sepsis_sofa_mimic\n",
    "fea = \"sofa_norenal\"\n",
    "fig = plt.figure(figsize=(4,3))\n",
    "ax = sns.boxplot(x=\"groupHPD\",y=fea,showfliers=False,showmeans=True,data=df,palette='Set2',saturation=0.4)\n",
    "add_stat_annotation(ax,data=df,x=\"groupHPD\",y=fea,test=\"t-test_welch\",box_pairs=[(1,2),(2,3),(1,3)],loc='outside',line_offset=0.05)\n",
    "plt.title(\"MIMIC\",x=-0.2,y=1)\n",
    "plt.show()"
   ]
  },
  {
   "cell_type": "code",
   "execution_count": 101,
   "id": "771edc44",
   "metadata": {
    "ExecuteTime": {
     "end_time": "2023-05-25T08:54:13.730576Z",
     "start_time": "2023-05-25T08:54:13.568303Z"
    }
   },
   "outputs": [
    {
     "name": "stdout",
     "output_type": "stream",
     "text": [
      "p-value annotation legend:\n",
      "ns: 5.00e-02 < p <= 1.00e+00\n",
      "*: 1.00e-02 < p <= 5.00e-02\n",
      "**: 1.00e-03 < p <= 1.00e-02\n",
      "***: 1.00e-04 < p <= 1.00e-03\n",
      "****: p <= 1.00e-04\n",
      "\n",
      "1 v.s. 2: Welch's t-test independent samples with Bonferroni correction, P_val=1.451e-28 stat=1.139e+01\n",
      "2 v.s. 3: Welch's t-test independent samples with Bonferroni correction, P_val=2.189e-06 stat=-5.032e+00\n",
      "1 v.s. 3: Welch's t-test independent samples with Bonferroni correction, P_val=1.397e-01 stat=1.994e+00\n"
     ]
    },
    {
     "data": {
      "image/png": "[encoded data removed]",
      "text/plain": [
       "<Figure size 400x300 with 1 Axes>"
      ]
     },
     "metadata": {},
     "output_type": "display_data"
    }
   ],
   "source": [
    "df = df_sepsis_sofa_mimic\n",
    "fea = \"renal_sofa\"\n",
    "fig = plt.figure(figsize=(4,3))\n",
    "ax = sns.boxplot(x=\"groupHPD\",y=fea,showfliers=False,showmeans=True,data=df,palette='Set2',saturation=0.4)\n",
    "add_stat_annotation(ax,data=df,x=\"groupHPD\",y=fea,test=\"t-test_welch\",box_pairs=[(1,2),(2,3),(1,3)], loc='outside', line_offset=0.4)\n",
    "plt.title(\"MIMIC\",x=-0.2,y=1)\n",
    "plt.show()"
   ]
  },
  {
   "cell_type": "code",
   "execution_count": 104,
   "id": "d5000ef8",
   "metadata": {
    "ExecuteTime": {
     "end_time": "2023-05-25T08:54:32.710274Z",
     "start_time": "2023-05-25T08:54:32.555497Z"
    }
   },
   "outputs": [
    {
     "name": "stdout",
     "output_type": "stream",
     "text": [
      "p-value annotation legend:\n",
      "ns: 5.00e-02 < p <= 1.00e+00\n",
      "*: 1.00e-02 < p <= 5.00e-02\n",
      "**: 1.00e-03 < p <= 1.00e-02\n",
      "***: 1.00e-04 < p <= 1.00e-03\n",
      "****: p <= 1.00e-04\n",
      "\n",
      "1 v.s. 2: Welch's t-test independent samples with Bonferroni correction, P_val=2.491e-02 stat=2.645e+00\n",
      "2 v.s. 3: Welch's t-test independent samples with Bonferroni correction, P_val=3.945e-03 stat=-3.245e+00\n",
      "1 v.s. 3: Welch's t-test independent samples with Bonferroni correction, P_val=8.069e-01 stat=-1.107e+00\n"
     ]
    },
    {
     "data": {
      "image/png": "[encoded data removed]",
      "text/plain": [
       "<Figure size 400x300 with 1 Axes>"
      ]
     },
     "metadata": {},
     "output_type": "display_data"
    }
   ],
   "source": [
    "df = df_sepsis_sofa_aumc\n",
    "fea = \"sofa\"\n",
    "fig = plt.figure(figsize=(4,3))\n",
    "ax = sns.boxplot(x=\"groupHPD\",y=fea,showfliers=False,showmeans=True,data=df,palette='Set2',saturation=0.4)\n",
    "add_stat_annotation(ax,data=df,x=\"groupHPD\",y=fea,test=\"t-test_welch\",box_pairs=[(1,2),(2,3),(1,3)],loc='outside',line_offset=0.05)\n",
    "plt.title(\"AUMCdb\",x=-0.2,y=1)\n",
    "plt.show()"
   ]
  },
  {
   "cell_type": "code",
   "execution_count": 105,
   "id": "25bd3613",
   "metadata": {
    "ExecuteTime": {
     "end_time": "2023-05-25T08:54:49.100839Z",
     "start_time": "2023-05-25T08:54:48.930661Z"
    }
   },
   "outputs": [
    {
     "name": "stdout",
     "output_type": "stream",
     "text": [
      "p-value annotation legend:\n",
      "ns: 5.00e-02 < p <= 1.00e+00\n",
      "*: 1.00e-02 < p <= 5.00e-02\n",
      "**: 1.00e-03 < p <= 1.00e-02\n",
      "***: 1.00e-04 < p <= 1.00e-03\n",
      "****: p <= 1.00e-04\n",
      "\n",
      "1 v.s. 2: Welch's t-test independent samples with Bonferroni correction, P_val=3.908e-01 stat=1.514e+00\n",
      "2 v.s. 3: Welch's t-test independent samples with Bonferroni correction, P_val=1.463e-02 stat=-2.837e+00\n",
      "1 v.s. 3: Welch's t-test independent samples with Bonferroni correction, P_val=4.063e-01 stat=-1.496e+00\n"
     ]
    },
    {
     "data": {
      "image/png": "[encoded data removed]",
      "text/plain": [
       "<Figure size 400x300 with 1 Axes>"
      ]
     },
     "metadata": {},
     "output_type": "display_data"
    }
   ],
   "source": [
    "df = df_sepsis_sofa_aumc\n",
    "fea = \"sofa_norenal\"\n",
    "fig = plt.figure(figsize=(4,3))\n",
    "ax = sns.boxplot(x=\"groupHPD\",y=fea,showfliers=False,showmeans=True,data=df,palette='Set2',saturation=0.4)\n",
    "add_stat_annotation(ax,data=df,x=\"groupHPD\",y=fea,test=\"t-test_welch\",box_pairs=[(1,2),(2,3),(1,3)],loc='outside',line_offset=0.05)\n",
    "plt.title(\"AUMCdb\",x=-0.2,y=1)\n",
    "plt.show()"
   ]
  },
  {
   "cell_type": "code",
   "execution_count": 108,
   "id": "0b2c896b",
   "metadata": {
    "ExecuteTime": {
     "end_time": "2023-05-25T08:55:57.544718Z",
     "start_time": "2023-05-25T08:55:57.376776Z"
    }
   },
   "outputs": [
    {
     "name": "stdout",
     "output_type": "stream",
     "text": [
      "p-value annotation legend:\n",
      "ns: 5.00e-02 < p <= 1.00e+00\n",
      "*: 1.00e-02 < p <= 5.00e-02\n",
      "**: 1.00e-03 < p <= 1.00e-02\n",
      "***: 1.00e-04 < p <= 1.00e-03\n",
      "****: p <= 1.00e-04\n",
      "\n",
      "1 v.s. 2: Welch's t-test independent samples with Bonferroni correction, P_val=4.836e-05 stat=4.335e+00\n",
      "2 v.s. 3: Welch's t-test independent samples with Bonferroni correction, P_val=2.853e-01 stat=-1.675e+00\n",
      "1 v.s. 3: Welch's t-test independent samples with Bonferroni correction, P_val=5.054e-01 stat=1.379e+00\n"
     ]
    },
    {
     "data": {
      "image/png": "[encoded data removed]",
      "text/plain": [
       "<Figure size 400x300 with 1 Axes>"
      ]
     },
     "metadata": {},
     "output_type": "display_data"
    }
   ],
   "source": [
    "df = df_sepsis_sofa_aumc\n",
    "fea = \"renal_sofa\"\n",
    "fig = plt.figure(figsize=(4,3))\n",
    "ax = sns.boxplot(x=\"groupHPD\",y=fea,showfliers=False,showmeans=True,data=df,palette='Set2',saturation=0.4)\n",
    "add_stat_annotation(ax,data=df,x=\"groupHPD\",y=fea,test=\"t-test_welch\",box_pairs=[(1,2),(2,3),(1,3)],loc='outside',line_offset=0.05)\n",
    "plt.title(\"AUMCdb\",x=-0.2,y=1)\n",
    "plt.show()"
   ]
  },
  {
   "cell_type": "code",
   "execution_count": 109,
   "id": "a242720f",
   "metadata": {
    "ExecuteTime": {
     "end_time": "2023-05-25T08:56:12.726337Z",
     "start_time": "2023-05-25T08:56:12.564621Z"
    }
   },
   "outputs": [
    {
     "name": "stdout",
     "output_type": "stream",
     "text": [
      "p-value annotation legend:\n",
      "ns: 5.00e-02 < p <= 1.00e+00\n",
      "*: 1.00e-02 < p <= 5.00e-02\n",
      "**: 1.00e-03 < p <= 1.00e-02\n",
      "***: 1.00e-04 < p <= 1.00e-03\n",
      "****: p <= 1.00e-04\n",
      "\n",
      "1 v.s. 2: Welch's t-test independent samples with Bonferroni correction, P_val=1.000e+00 stat=6.912e-01\n",
      "2 v.s. 3: Welch's t-test independent samples with Bonferroni correction, P_val=1.000e+00 stat=-4.412e-01\n",
      "1 v.s. 3: Welch's t-test independent samples with Bonferroni correction, P_val=1.000e+00 stat=-2.202e-02\n"
     ]
    },
    {
     "data": {
      "image/png": "[encoded data removed]",
      "text/plain": [
       "<Figure size 400x300 with 1 Axes>"
      ]
     },
     "metadata": {},
     "output_type": "display_data"
    }
   ],
   "source": [
    "df = df_sepsis_sofa_eicu\n",
    "fea = \"sofa\"\n",
    "fig = plt.figure(figsize=(4,3))\n",
    "ax = sns.boxplot(x=\"groupHPD\",y=fea,showfliers=False,showmeans=True,data=df,palette='Set2',saturation=0.4)\n",
    "add_stat_annotation(ax,data=df,x=\"groupHPD\",y=fea,test=\"t-test_welch\",box_pairs=[(1,2),(2,3),(1,3)],loc='outside',line_offset=0.05)\n",
    "plt.title(\"eICU\",x=-0.2,y=1)\n",
    "plt.show()"
   ]
  },
  {
   "cell_type": "code",
   "execution_count": 110,
   "id": "58da15b9",
   "metadata": {
    "ExecuteTime": {
     "end_time": "2023-05-25T08:56:23.239336Z",
     "start_time": "2023-05-25T08:56:23.082445Z"
    }
   },
   "outputs": [
    {
     "name": "stdout",
     "output_type": "stream",
     "text": [
      "p-value annotation legend:\n",
      "ns: 5.00e-02 < p <= 1.00e+00\n",
      "*: 1.00e-02 < p <= 5.00e-02\n",
      "**: 1.00e-03 < p <= 1.00e-02\n",
      "***: 1.00e-04 < p <= 1.00e-03\n",
      "****: p <= 1.00e-04\n",
      "\n",
      "1 v.s. 2: Welch's t-test independent samples with Bonferroni correction, P_val=1.000e+00 stat=4.404e-01\n",
      "2 v.s. 3: Welch's t-test independent samples with Bonferroni correction, P_val=4.096e-04 stat=-3.879e+00\n",
      "1 v.s. 3: Welch's t-test independent samples with Bonferroni correction, P_val=1.932e-03 stat=-3.451e+00\n"
     ]
    },
    {
     "data": {
      "image/png": "[encoded data removed]",
      "text/plain": [
       "<Figure size 400x300 with 1 Axes>"
      ]
     },
     "metadata": {},
     "output_type": "display_data"
    }
   ],
   "source": [
    "df = df_sepsis_sofa_eicu\n",
    "fea = \"sofa_norenal\"\n",
    "fig = plt.figure(figsize=(4,3))\n",
    "ax = sns.boxplot(x=\"groupHPD\",y=fea,showfliers=False,showmeans=True,data=df,palette='Set2',saturation=0.4)\n",
    "add_stat_annotation(ax,data=df,x=\"groupHPD\",y=fea,test=\"t-test_welch\",box_pairs=[(1,2),(2,3),(1,3)],loc='outside',line_offset=0.05)\n",
    "plt.title(\"eICU\",x=-0.2,y=1)\n",
    "plt.show()"
   ]
  },
  {
   "cell_type": "code",
   "execution_count": 111,
   "id": "584f8edc",
   "metadata": {
    "ExecuteTime": {
     "end_time": "2023-05-25T08:56:32.021835Z",
     "start_time": "2023-05-25T08:56:31.855698Z"
    }
   },
   "outputs": [
    {
     "name": "stdout",
     "output_type": "stream",
     "text": [
      "p-value annotation legend:\n",
      "ns: 5.00e-02 < p <= 1.00e+00\n",
      "*: 1.00e-02 < p <= 5.00e-02\n",
      "**: 1.00e-03 < p <= 1.00e-02\n",
      "***: 1.00e-04 < p <= 1.00e-03\n",
      "****: p <= 1.00e-04\n",
      "\n",
      "1 v.s. 2: Welch's t-test independent samples with Bonferroni correction, P_val=1.000e+00 stat=4.191e-01\n",
      "2 v.s. 3: Welch's t-test independent samples with Bonferroni correction, P_val=5.604e-06 stat=4.877e+00\n",
      "1 v.s. 3: Welch's t-test independent samples with Bonferroni correction, P_val=4.018e-06 stat=4.932e+00\n"
     ]
    },
    {
     "data": {
      "image/png": "[encoded data removed]",
      "text/plain": [
       "<Figure size 400x300 with 1 Axes>"
      ]
     },
     "metadata": {},
     "output_type": "display_data"
    }
   ],
   "source": [
    "df = df_sepsis_sofa_eicu\n",
    "fea = \"renal_sofa\"\n",
    "fig = plt.figure(figsize=(4,3))\n",
    "ax = sns.boxplot(x=\"groupHPD\",y=fea,showfliers=False,showmeans=True,data=df,palette='Set2',saturation=0.4)\n",
    "add_stat_annotation(ax,data=df,x=\"groupHPD\",y=fea,test=\"t-test_welch\",box_pairs=[(1,2),(2,3),(1,3)],loc='outside',line_offset=0.15)\n",
    "plt.title(\"eICU\",x=-0.2,y=1)\n",
    "plt.show()"
   ]
  },
  {
   "cell_type": "code",
   "execution_count": null,
   "id": "7060cd91",
   "metadata": {},
   "outputs": [],
   "source": []
  }
 ],
 "metadata": {
  "kernelspec": {
   "display_name": "Python [conda env:sp_shock] *",
   "language": "python",
   "name": "conda-env-sp_shock-py"
  },
  "language_info": {
   "codemirror_mode": {
    "name": "ipython",
    "version": 3
   },
   "file_extension": ".py",
   "mimetype": "text/x-python",
   "name": "python",
   "nbconvert_exporter": "python",
   "pygments_lexer": "ipython3",
   "version": "3.9.5"
  },
  "toc": {
   "base_numbering": 1,
   "nav_menu": {},
   "number_sections": true,
   "sideBar": true,
   "skip_h1_title": false,
   "title_cell": "Table of Contents",
   "title_sidebar": "Contents",
   "toc_cell": false,
   "toc_position": {
    "height": "calc(100% - 180px)",
    "left": "10px",
    "top": "150px",
    "width": "165px"
   },
   "toc_section_display": true,
   "toc_window_display": true
  },
  "varInspector": {
   "cols": {
    "lenName": 16,
    "lenType": 16,
    "lenVar": 40
   },
   "kernels_config": {
    "python": {
     "delete_cmd_postfix": "",
     "delete_cmd_prefix": "del ",
     "library": "var_list.py",
     "varRefreshCmd": "print(var_dic_list())"
    },
    "r": {
     "delete_cmd_postfix": ") ",
     "delete_cmd_prefix": "rm(",
     "library": "var_list.r",
     "varRefreshCmd": "cat(var_dic_list()) "
    }
   },
   "types_to_exclude": [
    "module",
    "function",
    "builtin_function_or_method",
    "instance",
    "_Feature"
   ],
   "window_display": false
  }
 },
 "nbformat": 4,
 "nbformat_minor": 5
}
