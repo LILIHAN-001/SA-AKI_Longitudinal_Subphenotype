{
 "cells": [
  {
   "cell_type": "markdown",
   "id": "45054902",
   "metadata": {},
   "source": [
    "1. gap between sepsis and AKI \n",
    "2. sofa in sepsis and AKI onset\n",
    "3. mbp, lactate in sepsis and AKI onset\n"
   ]
  },
  {
   "cell_type": "code",
   "execution_count": null,
   "id": "02e66352",
   "metadata": {
    "ExecuteTime": {
     "end_time": "2023-09-26T08:24:32.800449Z",
     "start_time": "2023-09-26T08:24:32.229639Z"
    }
   },
   "outputs": [],
   "source": [
    "import numpy as np\n",
    "import pandas as pd\n",
    "import matplotlib.pyplot as plt\n",
    "np.random.seed(19680804)\n",
    "import datetime as dt\n",
    "# test： t-test_ind, t-test_welch, t-test_paired, Mann-Whitney, Mann-Whitney-gt, Mann-Whitney-ls, \n",
    "# Levene, Wilcoxon, Kruskal, Brunner-Munzel."
   ]
  },
  {
   "cell_type": "markdown",
   "id": "023e9dd4",
   "metadata": {},
   "source": [
    "#  gap between sepsis and AKI "
   ]
  },
  {
   "cell_type": "code",
   "execution_count": null,
   "id": "82cdfc41",
   "metadata": {
    "ExecuteTime": {
     "end_time": "2023-09-26T08:24:32.812272Z",
     "start_time": "2023-09-26T08:24:32.801673Z"
    },
    "scrolled": true
   },
   "outputs": [],
   "source": [
    "df_time_all = pd.read_csv(\"/public/hanl/jupyter_dir/kidney_sepsis_penotype_v2/04.other_feature_in_three_dataset/04.survival_treatment/df_time_all.csv\")\n",
    "select_dataset = \"aumcdb\"\n",
    "\n",
    "def plot_box1(select_dataset):\n",
    "    import seaborn as sns\n",
    "    df_time = df_time_all[df_time_all[\"dataset\"]==select_dataset]\n",
    "    tit = df_time.dataset.unique()[0]\n",
    "    df_time = df_time[[\"stay_id\",\"los_saki-sepsis\",\"groupHPD\"]]\n",
    "    fig = plt.figure(figsize=(4,3))\n",
    "    ax = sns.boxplot(x=\"groupHPD\",y=\"los_saki-sepsis\", data=df_time,palette=\"Set3\", showfliers=False,showmeans=True,\n",
    "                meanprops = {'marker':'D','markerfacecolor':'white'},whis=0.5)\n",
    "    data_p = df_time\n",
    "\n",
    "\n",
    "    from statannotations.Annotator import Annotator\n",
    "    box_pairs = [(1,2),(1,3),(2,3)]\n",
    "    annotator =  Annotator(ax, data=data_p, x=\"groupHPD\",y=\"los_saki-sepsis\",\n",
    "                          pairs=box_pairs)\n",
    "    annotator.configure(test='t-test_welch', text_format='star',line_height=0.03,line_width=1,loc='outside') #t-test_ind， Mann-Whitney Wilcoxon\n",
    "    annotator.apply_and_annotate()\n",
    "    plt.title(tit,x=-0.2,y=1)\n",
    "    plt.show()\n",
    "# select_dataset = \"mimic\"\n",
    "# plot_box1(select_dataset)\n",
    "# select_dataset = \"aumcdb\"\n",
    "# plot_box1(select_dataset)\n",
    "# select_dataset = \"eicu\"\n",
    "# plot_box1(select_dataset)"
   ]
  },
  {
   "cell_type": "markdown",
   "id": "ee02d829",
   "metadata": {},
   "source": [
    "# feature in sepsis and AKI onset"
   ]
  },
  {
   "cell_type": "code",
   "execution_count": 3,
   "id": "0649a07b",
   "metadata": {
    "ExecuteTime": {
     "end_time": "2023-09-26T08:24:33.676840Z",
     "start_time": "2023-09-26T08:24:32.813557Z"
    }
   },
   "outputs": [],
   "source": [
    "df_type_filt1 = pd.read_csv(\"/public/hanl/jupyter_dir/kidney_sepsis_penotype_v2/01.MIMICIV_SAKI_trajCluster//df_mixAK_fea4_C3.csv\")\n",
    "df_type_filt1 = df_type_filt1[[\"stay_id\",\"groupHPD\"]].drop_duplicates()\n",
    "df_t1 = pd.read_csv(\"/public/hanl/jupyter_dir/kidney_sepsis_penotype_v2/00.data_mimic/disease_definition/AKI/sk_event_time.csv\")\n",
    "df_t1 = df_t1[[\"stay_id\",\"sepsis_onset\", \"saki_onset\"]]\n",
    "df_t1 = pd.merge(df_type_filt1, df_t1, how=\"inner\", on=\"stay_id\")\n",
    "\n",
    "df_type_filt2 = pd.read_csv(\"/public/hanl/jupyter_dir/kidney_sepsis_penotype_v2//02.AUMCdb_SAKI_trajCluster/df_mixAK_fea3_C3_aumc.csv\")\n",
    "df_type_filt2 = df_type_filt2[[\"stay_id\",\"groupHPD\"]].drop_duplicates()\n",
    "df_t2 = pd.read_csv(\"/public/hanl/jupyter_dir/kidney_sepsis_penotype_v2/00.data_aumc/disease_definition/AKI/aumcdb_sk_event_time.csv\")\n",
    "df_t2 = df_t2[[\"stay_id\",\"sepsis_onset\", \"saki_onset\"]]\n",
    "df_t2 = pd.merge(df_type_filt2, df_t2, how=\"inner\", on=\"stay_id\")\n",
    "\n",
    "df_type_filt3 = pd.read_csv(\"/public/hanl/jupyter_dir/kidney_sepsis_penotype_v2//03.eICU_SAKI_trajCluster/df_mixAK_fea4_C3_eicu.csv\")\n",
    "df_type_filt3 = df_type_filt3[[\"stay_id\",\"groupHPD\"]].drop_duplicates()\n",
    "df_t3 = pd.read_csv(\"/public/hanl/jupyter_dir/kidney_sepsis_penotype_v2/00.data_eicu/disease_definition/AKI/eicu_saki_event_time.csv\")\n",
    "df_t3 = df_t3[[\"stay_id\",\"sepsis_onset\", \"saki_onset\"]]\n",
    "df_t3 = pd.merge(df_type_filt3, df_t3, how=\"inner\", on=\"stay_id\")\n"
   ]
  },
  {
   "cell_type": "code",
   "execution_count": 4,
   "id": "a4afe37e",
   "metadata": {
    "ExecuteTime": {
     "end_time": "2023-09-26T08:24:33.683450Z",
     "start_time": "2023-09-26T08:24:33.678397Z"
    }
   },
   "outputs": [],
   "source": [
    "def fea_boxplot2(df_start,df_end,tit):\n",
    "    import seaborn as sns\n",
    "    from statannot import add_stat_annotation\n",
    "    from statannotations.Annotator import Annotator\n",
    "    df_start[\"status\"] = \"Sepsis\"\n",
    "    df_end[\"status\"] = \"S-AKI\"\n",
    "    data_p = pd.concat([df_start, df_end], axis=0)\n",
    "    map_dict ={1:\"C1\",2:\"C2\",3:\"C3\"}\n",
    "    data_p[\"groupHPD\"] = data_p[\"groupHPD\"].map(map_dict)\n",
    "    fig = plt.figure(figsize=(4,3))\n",
    "    ax= sns.boxplot(x=\"groupHPD\",y=fea,hue=\"status\",\n",
    "                    showfliers=False,showmeans=True,\n",
    "                    data=data_p,order=[\"C1\",\"C2\",\"C3\"],palette='Set2',saturation=0.4)\n",
    "    add_stat_annotation(ax,data=data_p,x=\"groupHPD\",y=fea,hue=\"status\",order=[\"C1\",\"C2\",\"C3\"],test=\"t-test_welch\",box_pairs=[((\"C2\",\"Sepsis\"),(\"C2\",\"S-AKI\")),((\"C1\",\"Sepsis\"),(\"C1\",\"S-AKI\")),((\"C3\",\"Sepsis\"),(\"C3\",\"S-AKI\"))],loc='outside')\n",
    "    plt.legend(loc='upper right') #Mann-Whitney\n",
    "    plt.title(tit,x=-0.2,y=1)\n",
    "    plt.show()"
   ]
  },
  {
   "cell_type": "markdown",
   "id": "a9735592",
   "metadata": {},
   "source": [
    "## mbp,lactate in sepsis and AKI onset"
   ]
  },
  {
   "cell_type": "code",
   "execution_count": 5,
   "id": "ece27144",
   "metadata": {
    "ExecuteTime": {
     "end_time": "2023-09-26T08:24:33.686401Z",
     "start_time": "2023-09-26T08:24:33.684674Z"
    }
   },
   "outputs": [],
   "source": [
    "sepsis_start_cut_t = -12\n",
    "sepsis_end_cut_t = 0\n",
    "saki_start_cut_t = 0\n",
    "saki_end_cut_t = 12\n"
   ]
  },
  {
   "cell_type": "markdown",
   "id": "7586c28b",
   "metadata": {
    "run_control": {
     "marked": true
    }
   },
   "source": [
    "### mimic"
   ]
  },
  {
   "cell_type": "code",
   "execution_count": 6,
   "id": "de7d5eaf",
   "metadata": {
    "ExecuteTime": {
     "end_time": "2023-09-26T08:24:33.688914Z",
     "start_time": "2023-09-26T08:24:33.687391Z"
    },
    "scrolled": true
   },
   "outputs": [],
   "source": [
    "# df_mimic = pd.read_csv(\"/public/hanl/jupyter_dir/kidney_sepsis_penotype_v2/00.data_mimic/feature_data/sk_icu_feature.csv\")\n",
    "# df_mimic = df_mimic[['stay_id', 'charttime','mbp','urineoutput','lactate','creatinine']]\n",
    "# df_mimic = pd.merge(df_mimic, df_t1, how=\"inner\", on=\"stay_id\")\n",
    "# df_mimic[\"charttime\"] = pd.to_datetime(df_mimic[\"charttime\"])\n",
    "# df_mimic = df_mimic.sort_values('charttime')\n",
    "# df_mimic[\"sepsis_onset\"] = pd.to_datetime(df_mimic[\"sepsis_onset\"])\n",
    "# df_mimic[\"saki_onset\"] = pd.to_datetime(df_mimic[\"saki_onset\"])\n",
    "# df_mimic[\"sepsis_time\"] = (df_mimic[\"charttime\"] - df_mimic[\"sepsis_onset\"]).map(lambda x:x/np.timedelta64(1, 'h')).tolist()\n",
    "# df_mimic[\"saki_time\"] = (df_mimic[\"charttime\"] - df_mimic[\"saki_onset\"]).map(lambda x:x/np.timedelta64(1, 'h')).tolist()\n",
    "# df_mimic[\"stay_id_copy\"] = df_mimic[\"stay_id\"]\n",
    "# df_mimic = df_mimic.groupby('stay_id_copy').fillna(method='ffill')#.fillna(method='bfill')\n",
    "\n",
    "# df_mimic_seps = df_mimic[(df_mimic[\"sepsis_time\"] <=sepsis_end_cut_t) &(df_mimic[\"sepsis_time\"] >= sepsis_start_cut_t)]\n",
    "# df_mimic_saki = df_mimic[(df_mimic[\"saki_time\"] <=saki_end_cut_t) &(df_mimic[\"saki_time\"] >= saki_start_cut_t)]\n",
    "# df_mimic_saki = df_mimic_saki.groupby([\"stay_id\",\"groupHPD\"]).agg({'mbp':\"mean\",'urineoutput':\"mean\",'lactate':\"mean\",'creatinine':\"mean\"}).reset_index()\n",
    "# df_mimic_seps = df_mimic_seps.groupby([\"stay_id\",\"groupHPD\"]).agg({'mbp':\"mean\",'urineoutput':\"mean\",'lactate':\"mean\",'creatinine':\"mean\"}).reset_index()\n",
    "# df_mimic_saki.isna().sum()/df_t1.shape[0], df_mimic_seps.isna().sum()/df_t1.shape[0]"
   ]
  },
  {
   "cell_type": "code",
   "execution_count": 7,
   "id": "771bcda2",
   "metadata": {
    "ExecuteTime": {
     "end_time": "2023-09-26T08:24:33.691288Z",
     "start_time": "2023-09-26T08:24:33.689886Z"
    },
    "scrolled": true
   },
   "outputs": [],
   "source": [
    "# import math\n",
    "# fea_lst = ['mbp','urineoutput','lactate','creatinine']\n",
    "# df_start = df_mimic_seps\n",
    "# df_end = df_mimic_saki\n",
    "# for fea in fea_lst:\n",
    "#     fix_feature = ['stay_id', 'groupHPD']\n",
    "#     fix_feature.append(fea)\n",
    "#     df_start_ = df_start[fix_feature].dropna(how='all', subset=[fea])\n",
    "#     df_end_ = df_end[fix_feature].dropna(how='all', subset=[fea])\n",
    "#     fea_boxplot2(df_start_,df_end_,\"MIMIC\")"
   ]
  },
  {
   "cell_type": "markdown",
   "id": "e1b0b256",
   "metadata": {},
   "source": [
    "### aumc"
   ]
  },
  {
   "cell_type": "code",
   "execution_count": 8,
   "id": "71bed5e3",
   "metadata": {
    "ExecuteTime": {
     "end_time": "2023-09-26T08:24:33.694323Z",
     "start_time": "2023-09-26T08:24:33.692864Z"
    }
   },
   "outputs": [],
   "source": [
    "# df_aumc = pd.read_csv(\"/public/hanl/jupyter_dir/kidney_sepsis_penotype_v2/00.data_aumc/feature_data/aumc_icu_feature.csv\")\n",
    "# df_aumc = df_aumc[['stay_id', 'charttime','mbp','urineoutput','lactate','creatinine']]\n",
    "# df_aumc = pd.merge(df_aumc, df_t2, how=\"inner\", on=\"stay_id\")\n",
    "# df_aumc = df_aumc.sort_values('charttime')\n",
    "# df_aumc[\"sepsis_time\"] = (df_aumc[\"charttime\"] - df_aumc[\"sepsis_onset\"])/1\n",
    "# df_aumc[\"saki_time\"] = (df_aumc[\"charttime\"] - df_aumc[\"saki_onset\"])/1\n",
    "# df_aumc[\"stay_id_copy\"] = df_aumc[\"stay_id\"]\n",
    "# df_aumc = df_aumc.groupby('stay_id_copy').fillna(method='ffill')#.fillna(method='bfill')\n",
    "\n",
    "\n",
    "# df_aumc_seps = df_aumc[(df_aumc[\"sepsis_time\"] <= sepsis_end_cut_t) &(df_aumc[\"sepsis_time\"] >= sepsis_start_cut_t)]\n",
    "# df_aumc_saki = df_aumc[(df_aumc[\"saki_time\"] <= saki_end_cut_t) &(df_aumc[\"saki_time\"] >= saki_start_cut_t)]\n",
    "# df_aumc_saki = df_aumc_saki.groupby([\"stay_id\",\"groupHPD\"]).agg({'mbp':\"mean\",'urineoutput':\"mean\",'lactate':\"mean\",'creatinine':\"mean\"}).reset_index()\n",
    "# df_aumc_seps = df_aumc_seps.groupby([\"stay_id\",\"groupHPD\"]).agg({'mbp':\"mean\",'urineoutput':\"mean\",'lactate':\"mean\",'creatinine':\"mean\"}).reset_index()\n",
    "# df_aumc_saki.isna().sum()/df_aumc_saki.shape[0], df_aumc_seps.isna().sum()/df_aumc_seps.shape[0]"
   ]
  },
  {
   "cell_type": "code",
   "execution_count": 9,
   "id": "86101cb4",
   "metadata": {
    "ExecuteTime": {
     "end_time": "2023-09-26T08:24:33.696914Z",
     "start_time": "2023-09-26T08:24:33.695512Z"
    },
    "scrolled": true
   },
   "outputs": [],
   "source": [
    "# import math\n",
    "# fea_lst = ['mbp','lactate','urineoutput','creatinine']\n",
    "# df_start = df_aumc_seps\n",
    "# df_end = df_aumc_saki\n",
    "# # for fea in fea_lst:\n",
    "# #     fea_boxplot2(df_start,df_end,\"AUMCdb\")\n",
    "# for fea in fea_lst:\n",
    "#     fix_feature = ['stay_id', 'groupHPD']\n",
    "#     fix_feature.append(fea)\n",
    "#     df_start_ = df_start[fix_feature].dropna(how='all', subset=[fea])\n",
    "#     df_end_ = df_end[fix_feature].dropna(how='all', subset=[fea])\n",
    "#     fea_boxplot2(df_start_,df_end_,\"AUMCdb\")"
   ]
  },
  {
   "cell_type": "markdown",
   "id": "724ffe6a",
   "metadata": {},
   "source": [
    "### eicu "
   ]
  },
  {
   "cell_type": "code",
   "execution_count": 10,
   "id": "85bb3f97",
   "metadata": {
    "ExecuteTime": {
     "end_time": "2023-09-26T08:24:33.699282Z",
     "start_time": "2023-09-26T08:24:33.697856Z"
    }
   },
   "outputs": [],
   "source": [
    "# df_eicu = pd.read_csv(\"/public/hanl/jupyter_dir/kidney_sepsis_penotype_v2/00.data_eicu/feature_data/eicu_data_merge.csv\")\n",
    "# df_eicu = df_eicu[['stay_id', 'charttime','mbp','urineoutput','lactate','creatinine']]\n",
    "# df_eicu = pd.merge(df_eicu, df_t3, how=\"inner\", on=\"stay_id\")\n",
    "# df_eicu[\"sepsis_time\"] = (df_eicu[\"charttime\"] - df_eicu[\"sepsis_onset\"])/1\n",
    "# df_eicu[\"saki_time\"] = ( df_eicu[\"charttime\"] - df_eicu[\"saki_onset\"] )/1\n",
    "# df_eicu[\"stay_id_copy\"] = df_eicu[\"stay_id\"]\n",
    "# df_eicu = df_eicu.groupby('stay_id_copy').fillna(method='ffill')#.fillna(method='bfill')\n",
    "\n",
    "# df_eicu_seps = df_eicu[(df_eicu[\"sepsis_time\"] <=sepsis_end_cut_t) &(df_eicu[\"sepsis_time\"] >= sepsis_start_cut_t)]\n",
    "# df_eicu_saki = df_eicu[(df_eicu[\"saki_time\"] <=saki_end_cut_t) &(df_eicu[\"saki_time\"] >= saki_start_cut_t)]\n",
    "# df_eicu_saki = df_eicu_saki.groupby([\"stay_id\",\"groupHPD\"]).agg({'mbp':\"mean\",'urineoutput':\"mean\",'lactate':\"mean\",'creatinine':\"mean\"}).reset_index()\n",
    "# df_eicu_seps = df_eicu_seps.groupby([\"stay_id\",\"groupHPD\"]).agg({'mbp':\"mean\",'urineoutput':\"mean\",'lactate':\"mean\",'creatinine':\"mean\"}).reset_index()\n",
    "# df_eicu_saki.isna().sum()/df_t3.shape[0], df_eicu_seps.isna().sum()/df_t3.shape[0]"
   ]
  },
  {
   "cell_type": "code",
   "execution_count": 11,
   "id": "9b30667c",
   "metadata": {
    "ExecuteTime": {
     "end_time": "2023-09-26T08:24:33.701624Z",
     "start_time": "2023-09-26T08:24:33.700233Z"
    },
    "scrolled": true
   },
   "outputs": [],
   "source": [
    "# import math\n",
    "# fea_lst = ['mbp','urineoutput','lactate','creatinine']\n",
    "# df_start = df_eicu_seps\n",
    "# df_end = df_eicu_saki\n",
    "# # for fea in fea_lst:\n",
    "# #     fea_boxplot2(df_start,df_end,\"eICU\")\n",
    "# for fea in fea_lst:\n",
    "#     fix_feature = ['stay_id', 'groupHPD']\n",
    "#     fix_feature.append(fea)\n",
    "#     df_start_ = df_start[fix_feature].dropna(how='all', subset=[fea])\n",
    "#     df_end_ = df_end[fix_feature].dropna(how='all', subset=[fea])\n",
    "#     fea_boxplot2(df_start_,df_end_,\"eICU\")"
   ]
  },
  {
   "cell_type": "markdown",
   "id": "ca424980",
   "metadata": {},
   "source": [
    "## sofa in sepsis and AKI onset"
   ]
  },
  {
   "cell_type": "markdown",
   "id": "459c082f",
   "metadata": {},
   "source": [
    "### mimic"
   ]
  },
  {
   "cell_type": "code",
   "execution_count": 12,
   "id": "853bdcde",
   "metadata": {
    "ExecuteTime": {
     "end_time": "2023-09-26T08:24:58.850463Z",
     "start_time": "2023-09-26T08:24:33.702492Z"
    }
   },
   "outputs": [
    {
     "data": {
      "text/plain": [
       "(stay_id                0.0\n",
       " groupHPD               0.0\n",
       " respiration_sofa       0.0\n",
       " coagulation_sofa       0.0\n",
       " liver_sofa             0.0\n",
       " cardiovascular_sofa    0.0\n",
       " cns_sofa               0.0\n",
       " renal_sofa             0.0\n",
       " sofa                   0.0\n",
       " sofa_norenal           0.0\n",
       " dtype: float64,\n",
       " stay_id                0.0\n",
       " groupHPD               0.0\n",
       " respiration_sofa       0.0\n",
       " coagulation_sofa       0.0\n",
       " liver_sofa             0.0\n",
       " cardiovascular_sofa    0.0\n",
       " cns_sofa               0.0\n",
       " renal_sofa             0.0\n",
       " sofa                   0.0\n",
       " sofa_norenal           0.0\n",
       " dtype: float64)"
      ]
     },
     "execution_count": 12,
     "metadata": {},
     "output_type": "execute_result"
    }
   ],
   "source": [
    "df = pd.read_csv(\"/public/hanl/jupyter_dir/kidney_sepsis_penotype_v2/04.other_feature_in_three_dataset/03.sofa_feature/mimic_sofa.csv\")\n",
    "df = pd.merge(df,df_t1, how=\"inner\",on=\"stay_id\") \n",
    "df[\"starttime\"] = pd.to_datetime(df[\"starttime\"], format='%d/%m/%Y %H:%M:%S')\n",
    "df[\"charttime\"] = df.starttime + dt.timedelta(hours=0.5)\n",
    "df = df.sort_values([\"stay_id\",\"charttime\"])\n",
    "df = df[['stay_id','groupHPD', 'charttime', 'respiration_24hours', 'coagulation_24hours', 'liver_24hours',\n",
    "       'cardiovascular_24hours', 'cns_24hours', 'renal_24hours','sofa_24hours','sepsis_onset', 'saki_onset']]\n",
    "df = df.rename(columns={'respiration_24hours':\"respiration_sofa\", 'coagulation_24hours':\"coagulation_sofa\", 'liver_24hours': 'liver_sofa',\n",
    "       'cardiovascular_24hours':\"cardiovascular_sofa\", 'cns_24hours':'cns_sofa', 'renal_24hours':'renal_sofa','sofa_24hours':\"sofa\"})\n",
    "\n",
    "df[\"sepsis_onset\"] = pd.to_datetime(df[\"sepsis_onset\"])\n",
    "df[\"saki_onset\"] = pd.to_datetime(df[\"saki_onset\"])\n",
    "df[\"sepsis_time\"] = (df[\"charttime\"] - df[\"sepsis_onset\"]).map(lambda x:x/np.timedelta64(1, 'h')).tolist()\n",
    "df[\"saki_time\"] = (df[\"charttime\"] - df[\"saki_onset\"]).map(lambda x:x/np.timedelta64(1, 'h')).tolist()\n",
    "df[\"stay_id_copy\"] = df[\"stay_id\"]\n",
    "df = df.groupby('stay_id_copy').fillna(method='ffill')#.fillna(method='bfill')\n",
    "df[\"sofa\"] = df[\"respiration_sofa\"] + df[\"coagulation_sofa\"] + df[\"liver_sofa\"] + df[\"cardiovascular_sofa\"] + df[\"cns_sofa\"] + df[\"renal_sofa\"] \n",
    "df[\"sofa_norenal\"] = df[\"respiration_sofa\"] + df[\"coagulation_sofa\"] + df[\"liver_sofa\"] + df[\"cardiovascular_sofa\"] + df[\"cns_sofa\"]  \n",
    "df_mimic_sofa = df\n",
    "\n",
    "df_mimic_sofa_seps = df_mimic_sofa[(df_mimic_sofa[\"sepsis_time\"] <=sepsis_end_cut_t) &(df_mimic_sofa[\"sepsis_time\"] >= sepsis_start_cut_t)]\n",
    "df_mimic_sofa_saki = df_mimic_sofa[(df_mimic_sofa[\"saki_time\"] <=saki_end_cut_t) &(df_mimic_sofa[\"saki_time\"] >= saki_start_cut_t)]\n",
    "df_mimic_sofa_saki = df_mimic_sofa_saki.groupby([\"stay_id\",\"groupHPD\"]).agg({'respiration_sofa':\"mean\", 'coagulation_sofa':\"mean\",'liver_sofa':\"mean\", 'cardiovascular_sofa':\"mean\",\n",
    "                'cns_sofa':\"mean\", 'renal_sofa':\"mean\",\"sofa\":\"mean\",\"sofa_norenal\":\"mean\"}).reset_index()\n",
    "df_mimic_sofa_seps = df_mimic_sofa_seps.groupby([\"stay_id\",\"groupHPD\"]).agg({'respiration_sofa':\"mean\", 'coagulation_sofa':\"mean\",'liver_sofa':\"mean\", 'cardiovascular_sofa':\"mean\",\n",
    "                'cns_sofa':\"mean\", 'renal_sofa':\"mean\",\"sofa\":\"mean\",\"sofa_norenal\":\"mean\"}).reset_index()\n",
    "df_mimic_sofa_seps.isna().sum()/df_t1.shape[0], df_mimic_sofa_saki.isna().sum()/df_t1.shape[0]"
   ]
  },
  {
   "cell_type": "code",
   "execution_count": 13,
   "id": "5caf3d73",
   "metadata": {
    "ExecuteTime": {
     "end_time": "2023-09-26T08:24:58.853208Z",
     "start_time": "2023-09-26T08:24:58.851546Z"
    }
   },
   "outputs": [],
   "source": [
    "# import math\n",
    "# fea_lst = ['respiration_sofa', 'coagulation_sofa', 'liver_sofa','cardiovascular_sofa', 'cns_sofa', 'renal_sofa',\"sofa\",\"sofa_norenal\"]\n",
    "# df_start = df_mimic_sofa_seps\n",
    "# df_end = df_mimic_sofa_saki\n",
    "\n",
    "# for fea in fea_lst:\n",
    "#     fix_feature = ['stay_id', 'groupHPD']\n",
    "#     fix_feature.append(fea)\n",
    "#     df_start_ = df_start[fix_feature].dropna(how='all', subset=[fea])\n",
    "#     df_end_ = df_end[fix_feature].dropna(how='all', subset=[fea])\n",
    "#     fea_boxplot2(df_start_,df_end_,\"MIMIC\")"
   ]
  },
  {
   "cell_type": "code",
   "execution_count": 14,
   "id": "6855ed63",
   "metadata": {
    "ExecuteTime": {
     "end_time": "2023-09-26T08:24:58.887779Z",
     "start_time": "2023-09-26T08:24:58.854318Z"
    }
   },
   "outputs": [],
   "source": [
    "sub_sofa_lst = ['respiration_sofa', 'coagulation_sofa', 'liver_sofa',\n",
    "       'cardiovascular_sofa', 'cns_sofa', 'renal_sofa']\n",
    "total_sofa_lst = ['sofa','sofa_norenal']\n",
    "\n",
    "df_start = df_mimic_sofa_seps\n",
    "df_end = df_mimic_sofa_saki\n",
    "\n",
    "df_start_ = df_start\n",
    "df_start_ = df_start_.set_index([\"stay_id\",\"groupHPD\"])\n",
    "df_start_ = df_start_.stack().reset_index()\n",
    "df_start_.columns = [\"stay_id\",\"groupHPD\",\"sub_sofa\",\"value\"]\n",
    "df_start_[\"label\"] = df_start_[\"sub_sofa\"] +\"_\"+ df_start_[\"groupHPD\"].map(str)\n",
    "\n",
    "df_end_ = df_end\n",
    "df_end_ = df_end_.set_index([\"stay_id\",\"groupHPD\"])\n",
    "df_end_ = df_end_.stack().reset_index()\n",
    "df_end_.columns = [\"stay_id\",\"groupHPD\",\"sub_sofa\",\"value\"]\n",
    "df_end_[\"label\"] = df_end_[\"sub_sofa\"] +\"_\"+ df_end_[\"groupHPD\"].map(str)"
   ]
  },
  {
   "cell_type": "code",
   "execution_count": 15,
   "id": "00831338",
   "metadata": {
    "ExecuteTime": {
     "end_time": "2023-09-26T08:25:03.108841Z",
     "start_time": "2023-09-26T08:24:58.888780Z"
    },
    "scrolled": false
   },
   "outputs": [
    {
     "name": "stdout",
     "output_type": "stream",
     "text": [
      "['cardiovascular_sofa_1', 'cardiovascular_sofa_2', 'cardiovascular_sofa_3', 'cns_sofa_1', 'cns_sofa_2', 'cns_sofa_3', 'coagulation_sofa_1', 'coagulation_sofa_2', 'coagulation_sofa_3', 'liver_sofa_1', 'liver_sofa_2', 'liver_sofa_3', 'renal_sofa_1', 'renal_sofa_2', 'renal_sofa_3', 'respiration_sofa_1', 'respiration_sofa_2', 'respiration_sofa_3']\n",
      "p-value annotation legend:\n",
      "ns: 5.00e-02 < p <= 1.00e+00\n",
      "*: 1.00e-02 < p <= 5.00e-02\n",
      "**: 1.00e-03 < p <= 1.00e-02\n",
      "***: 1.00e-04 < p <= 1.00e-03\n",
      "****: p <= 1.00e-04\n",
      "\n",
      "liver_sofa_1_Sepsis v.s. liver_sofa_1_SA-AKI: Welch's t-test independent samples with Bonferroni correction, P_val=1.456e-06 stat=-5.381e+00\n",
      "liver_sofa_2_Sepsis v.s. liver_sofa_2_SA-AKI: Welch's t-test independent samples with Bonferroni correction, P_val=1.834e-11 stat=-7.144e+00\n",
      "liver_sofa_3_Sepsis v.s. liver_sofa_3_SA-AKI: Welch's t-test independent samples with Bonferroni correction, P_val=7.646e-05 stat=-4.636e+00\n",
      "renal_sofa_1_Sepsis v.s. renal_sofa_1_SA-AKI: Welch's t-test independent samples with Bonferroni correction, P_val=2.431e-48 stat=-1.516e+01\n",
      "renal_sofa_2_Sepsis v.s. renal_sofa_2_SA-AKI: Welch's t-test independent samples with Bonferroni correction, P_val=2.576e-12 stat=-7.413e+00\n",
      "renal_sofa_3_Sepsis v.s. renal_sofa_3_SA-AKI: Welch's t-test independent samples with Bonferroni correction, P_val=1.432e-33 stat=-1.312e+01\n",
      "respiration_sofa_1_Sepsis v.s. respiration_sofa_1_SA-AKI: Welch's t-test independent samples with Bonferroni correction, P_val=1.066e-100 stat=-2.259e+01\n",
      "respiration_sofa_2_Sepsis v.s. respiration_sofa_2_SA-AKI: Welch's t-test independent samples with Bonferroni correction, P_val=1.763e-173 stat=-2.922e+01\n",
      "respiration_sofa_3_Sepsis v.s. respiration_sofa_3_SA-AKI: Welch's t-test independent samples with Bonferroni correction, P_val=1.431e-37 stat=-1.403e+01\n",
      "coagulation_sofa_3_Sepsis v.s. coagulation_sofa_3_SA-AKI: Welch's t-test independent samples with Bonferroni correction, P_val=2.351e-07 stat=-5.754e+00\n",
      "cardiovascular_sofa_2_Sepsis v.s. cardiovascular_sofa_2_SA-AKI: Welch's t-test independent samples with Bonferroni correction, P_val=1.338e-82 stat=-1.971e+01\n",
      "cardiovascular_sofa_1_Sepsis v.s. cardiovascular_sofa_1_SA-AKI: Welch's t-test independent samples with Bonferroni correction, P_val=9.298e-54 stat=-1.600e+01\n",
      "cardiovascular_sofa_3_Sepsis v.s. cardiovascular_sofa_3_SA-AKI: Welch's t-test independent samples with Bonferroni correction, P_val=7.209e-22 stat=-1.026e+01\n",
      "cns_sofa_1_Sepsis v.s. cns_sofa_1_SA-AKI: Welch's t-test independent samples with Bonferroni correction, P_val=5.905e-24 stat=-1.049e+01\n",
      "cns_sofa_2_Sepsis v.s. cns_sofa_2_SA-AKI: Welch's t-test independent samples with Bonferroni correction, P_val=9.133e-64 stat=-1.725e+01\n",
      "cns_sofa_3_Sepsis v.s. cns_sofa_3_SA-AKI: Welch's t-test independent samples with Bonferroni correction, P_val=3.187e-10 stat=-6.865e+00\n",
      "coagulation_sofa_1_Sepsis v.s. coagulation_sofa_1_SA-AKI: Welch's t-test independent samples with Bonferroni correction, P_val=6.379e-14 stat=-7.919e+00\n",
      "coagulation_sofa_2_Sepsis v.s. coagulation_sofa_2_SA-AKI: Welch's t-test independent samples with Bonferroni correction, P_val=1.545e-31 stat=-1.200e+01\n"
     ]
    },
    {
     "data": {
      "image/png": "[encoded data removed]",
      "text/plain": [
       "<Figure size 1600x300 with 1 Axes>"
      ]
     },
     "metadata": {},
     "output_type": "display_data"
    }
   ],
   "source": [
    "def fea_boxplot3(df_start,df_end,tit,select_lst):\n",
    "    import seaborn as sns\n",
    "    from statannot import add_stat_annotation\n",
    "    from statannotations.Annotator import Annotator\n",
    "    df_start[\"status\"] = \"Sepsis\"\n",
    "    df_end[\"status\"] = \"SA-AKI\"\n",
    "    data_p = pd.concat([df_start, df_end], axis=0)\n",
    "    data_p = data_p[data_p[\"sub_sofa\"].isin(select_lst)]\n",
    "    data_p = data_p.sort_values([\"sub_sofa\",\"groupHPD\"])\n",
    "    tit_lst = data_p.label.unique().tolist()\n",
    "    print(tit_lst)\n",
    "    box_pairs = []\n",
    "    for i in ['cardiovascular_sofa_1', 'cardiovascular_sofa_2', 'cardiovascular_sofa_3', 'cns_sofa_1', 'cns_sofa_2', 'cns_sofa_3', 'coagulation_sofa_1', 'coagulation_sofa_2', 'coagulation_sofa_3', 'liver_sofa_1', 'liver_sofa_2', 'liver_sofa_3', 'renal_sofa_1', 'renal_sofa_2', 'renal_sofa_3', 'respiration_sofa_1', 'respiration_sofa_2', 'respiration_sofa_3']:\n",
    "        j = ((i, \"Sepsis\"), (i, \"SA-AKI\"))\n",
    "        box_pairs.append(j)\n",
    "    size=12\n",
    "    map_dict ={1:\"C1\",2:\"C2\",3:\"C3\"}\n",
    "    data_p[\"groupHPD\"] = data_p[\"groupHPD\"].map(map_dict)\n",
    "    fig = plt.figure(figsize=(16,3))\n",
    "    ax = sns.boxplot(x=\"label\",y=\"value\",hue=\"status\",\n",
    "                    showfliers=False,showmeans=True,\n",
    "                    data=data_p,palette=[\"#a1d99b\",\"#ff7f00\"],saturation=0.9,width=0.5,meanprops = {'markersize':5,'marker':'D', 'markerfacecolor':'white','markeredgecolor':'black'}) #order=[\"C1\",\"C2\",\"C3\"]\n",
    "\n",
    "#    positions = [x for x in range(1, len(select_lst) * 8) if x % 4 != 0] #[x for x in range(1, len(select_lst) * 5) if x % 5 != 0]  # Define the desired positions\n",
    "    \n",
    "    add_stat_annotation(ax,data=data_p,x=\"label\",y=\"value\",hue=\"status\",order=tit_lst,test=\"t-test_welch\",box_pairs=box_pairs,loc='outside')\n",
    "    plt.legend(bbox_to_anchor=(1,1.02),frameon=False) #Mann-Whitney\n",
    "    plt.title(tit,x=0,y=1.1)\n",
    "#    plt.xticks([x for x in range(1, len(select_lst) * 4) if x % 4 != 0],[\"C1\",\"C2\",\"C3\"]*len(select_lst))\n",
    "    plt.xticks(list(range(0,len(select_lst)*3)),[\"C1\",\"C2\",\"C3\"]*len(select_lst))\n",
    "#    plt.xticks(rotation=90) #list(range(1,len(select_lst)*3+1)),  [x for x in range(1, len(select_lst)*4) if x % 4 != 0],\n",
    "    plt.ylim(0,6)\n",
    "    plt.xlabel(\"\")\n",
    "    plt.ylabel(\"Value\",fontsize=size)\n",
    "    plt.axhline(y=5, color='black', linestyle='-',lw=1)\n",
    "    \n",
    "    tit_lst = data_p.sub_sofa.unique().tolist()\n",
    "    tit_lst = [word.capitalize() for word in tit_lst]\n",
    "    plt.text(0,5.4,tit_lst[0],fontsize=size)\n",
    "    plt.text(3.5,5.4,tit_lst[1],fontsize=size)\n",
    "    plt.text(6,5.4,tit_lst[2],fontsize=size)\n",
    "    plt.text(9.4,5.4,tit_lst[3],fontsize=size)\n",
    "    plt.text(12.4,5.4,tit_lst[4],fontsize=size)\n",
    "    plt.text(15.1,5.4,tit_lst[5],fontsize=size)\n",
    "    plt.show()\n",
    "    \n",
    "fea_boxplot3(df_start_,df_end_,\"MIMIC\",sub_sofa_lst)"
   ]
  },
  {
   "cell_type": "code",
   "execution_count": 16,
   "id": "26a47b47",
   "metadata": {
    "ExecuteTime": {
     "end_time": "2023-09-26T08:25:03.905517Z",
     "start_time": "2023-09-26T08:25:03.109932Z"
    }
   },
   "outputs": [
    {
     "name": "stdout",
     "output_type": "stream",
     "text": [
      "['sofa_1', 'sofa_2', 'sofa_3', 'sofa_norenal_1', 'sofa_norenal_2', 'sofa_norenal_3']\n",
      "p-value annotation legend:\n",
      "ns: 5.00e-02 < p <= 1.00e+00\n",
      "*: 1.00e-02 < p <= 5.00e-02\n",
      "**: 1.00e-03 < p <= 1.00e-02\n",
      "***: 1.00e-04 < p <= 1.00e-03\n",
      "****: p <= 1.00e-04\n",
      "\n",
      "sofa_2_Sepsis v.s. sofa_2_SA-AKI: Welch's t-test independent samples with Bonferroni correction, P_val=0.000e+00 stat=-4.242e+01\n",
      "sofa_1_Sepsis v.s. sofa_1_SA-AKI: Welch's t-test independent samples with Bonferroni correction, P_val=2.470e-172 stat=-3.056e+01\n",
      "sofa_3_Sepsis v.s. sofa_3_SA-AKI: Welch's t-test independent samples with Bonferroni correction, P_val=7.161e-71 stat=-2.038e+01\n",
      "sofa_norenal_1_Sepsis v.s. sofa_norenal_1_SA-AKI: Welch's t-test independent samples with Bonferroni correction, P_val=1.610e-150 stat=-2.823e+01\n",
      "sofa_norenal_2_Sepsis v.s. sofa_norenal_2_SA-AKI: Welch's t-test independent samples with Bonferroni correction, P_val=0.000e+00 stat=-4.215e+01\n",
      "sofa_norenal_3_Sepsis v.s. sofa_norenal_3_SA-AKI: Welch's t-test independent samples with Bonferroni correction, P_val=4.565e-61 stat=-1.854e+01\n"
     ]
    },
    {
     "data": {
      "image/png": "[encoded data removed]",
      "text/plain": [
       "<Figure size 500x300 with 1 Axes>"
      ]
     },
     "metadata": {},
     "output_type": "display_data"
    }
   ],
   "source": [
    "def fea_boxplot3(df_start,df_end,tit,select_lst):\n",
    "    import seaborn as sns\n",
    "    from statannot import add_stat_annotation\n",
    "    from statannotations.Annotator import Annotator\n",
    "    df_start[\"status\"] = \"Sepsis\"\n",
    "    df_end[\"status\"] = \"SA-AKI\"\n",
    "    data_p = pd.concat([df_start, df_end], axis=0)\n",
    "    data_p = data_p[data_p[\"sub_sofa\"].isin(select_lst)]\n",
    "    data_p = data_p.sort_values([\"sub_sofa\",\"groupHPD\"])\n",
    "    tit_lst = data_p.label.unique().tolist()\n",
    "    print(tit_lst)\n",
    "    box_pairs = []\n",
    "    for i in tit_lst:\n",
    "        j = ((i, \"Sepsis\"), (i, \"SA-AKI\"))\n",
    "        box_pairs.append(j)\n",
    "    size=9\n",
    "    map_dict ={1:\"C1\",2:\"C2\",3:\"C3\"}\n",
    "    data_p[\"groupHPD\"] = data_p[\"groupHPD\"].map(map_dict)\n",
    "    fig = plt.figure(figsize=(5,3))\n",
    "    \n",
    "    ax = sns.boxplot(x=\"label\",y=\"value\",hue=\"status\",\n",
    "                    showfliers=False,showmeans=True,meanprops = {'markersize':5,'marker':'D', 'markerfacecolor':'white','markeredgecolor':'black'},\n",
    "                    data=data_p,palette=[\"#a1d99b\",\"#ff7f00\"],saturation=0.9,width=0.5) #order=[\"C1\",\"C2\",\"C3\"]\n",
    "    ax.yaxis.tick_right()\n",
    "    add_stat_annotation(ax,data=data_p,x=\"label\",y=\"value\",hue=\"status\",order=tit_lst,test=\"t-test_welch\",box_pairs=box_pairs,loc='outside')\n",
    "    plt.legend(bbox_to_anchor=(1.08,1.02),frameon=False) #Mann-Whitney\n",
    "    plt.title(tit,x=0,y=1.1)\n",
    "    plt.xticks(list(range(0,len(select_lst)*3)),[\"C1\",\"C2\",\"C3\"]*len(select_lst))\n",
    "    plt.ylim(0,26)\n",
    "    plt.xlabel(\"\")\n",
    "    plt.ylabel(\"\")\n",
    "    plt.ylabel(\"Total-sofa\",fontsize=size)\n",
    "    plt.axhline(y=22, color='black', linestyle='-',lw=1)\n",
    "    \n",
    "    tit_lst = data_p.sub_sofa.unique().tolist()\n",
    "    tit_lst = [word.capitalize() for word in tit_lst]\n",
    "    plt.text(0.8,23.3,tit_lst[0],fontsize=size)\n",
    "    plt.text(3.4,23.3,tit_lst[1],fontsize=size)\n",
    "    plt.show()\n",
    "    \n",
    "fea_boxplot3(df_start_,df_end_,\"MIMIC\",total_sofa_lst)"
   ]
  },
  {
   "cell_type": "markdown",
   "id": "de8293d7",
   "metadata": {
    "run_control": {
     "marked": true
    }
   },
   "source": [
    "### aumcdb"
   ]
  },
  {
   "cell_type": "code",
   "execution_count": 17,
   "id": "0f4003f9",
   "metadata": {
    "ExecuteTime": {
     "end_time": "2023-09-26T08:25:05.607185Z",
     "start_time": "2023-09-26T08:25:03.906503Z"
    },
    "run_control": {
     "marked": true
    }
   },
   "outputs": [
    {
     "data": {
      "text/plain": [
       "(stay_id                0.000000\n",
       " groupHPD               0.000000\n",
       " respiration_sofa       0.326615\n",
       " coagulation_sofa       0.052222\n",
       " liver_sofa             0.431516\n",
       " cardiovascular_sofa    0.133303\n",
       " cns_sofa               0.707742\n",
       " renal_sofa             0.007787\n",
       " sofa                   0.852038\n",
       " sofa_norenal           0.852038\n",
       " dtype: float64,\n",
       " stay_id                0.000000\n",
       " groupHPD               0.000000\n",
       " respiration_sofa       0.029317\n",
       " coagulation_sofa       0.004123\n",
       " liver_sofa             0.207055\n",
       " cardiovascular_sofa    0.013743\n",
       " cns_sofa               0.445259\n",
       " renal_sofa             0.000000\n",
       " sofa                   0.535502\n",
       " sofa_norenal           0.535502\n",
       " dtype: float64)"
      ]
     },
     "execution_count": 17,
     "metadata": {},
     "output_type": "execute_result"
    }
   ],
   "source": [
    "df = pd.read_csv(\"/public/hanl/jupyter_dir/kidney_sepsis_penotype_v2/04.other_feature_in_three_dataset/03.sofa_feature/aumcdb_sofa.csv\") # hour\n",
    "df = df.rename(columns={'admissionid':'stay_id','time':'charttime','sofa_respiration_score':\"respiration_sofa\", 'sofa_coagulation_score':\"coagulation_sofa\", 'sofa_liver_score': 'liver_sofa',\n",
    "        'sofa_cardiovascular_score':\"cardiovascular_sofa\", 'sofa_cns_score':'cns_sofa', 'sofa_renal_score':'renal_sofa','sofa_total_score':\"sofa\"})\n",
    "df = pd.merge(df,df_t2, how=\"inner\",on=\"stay_id\") #df[df[\"stay_id\"].isin(all_lst)]\n",
    "df = df.sort_values([\"stay_id\",\"charttime\"])\n",
    "df[\"sepsis_time\"] = (df[\"charttime\"] - df[\"sepsis_onset\"] )/1\n",
    "df[\"saki_time\"] = (df[\"charttime\"] - df[\"saki_onset\"] )/1\n",
    "df[\"stay_id_copy\"] = df[\"stay_id\"]\n",
    "df = df.groupby('stay_id_copy').fillna(method='ffill')#.fillna(method='bfill')\n",
    "df[\"sofa\"] = df[\"respiration_sofa\"] + df[\"coagulation_sofa\"] + df[\"liver_sofa\"] + df[\"cardiovascular_sofa\"] + df[\"cns_sofa\"] + df[\"renal_sofa\"] \n",
    "df[\"sofa_norenal\"] = df[\"respiration_sofa\"] + df[\"coagulation_sofa\"] + df[\"liver_sofa\"] + df[\"cardiovascular_sofa\"] + df[\"cns_sofa\"]  \n",
    "df_aumc_sofa = df\n",
    "\n",
    "df_aumc_sofa_seps = df_aumc_sofa[(df_aumc_sofa[\"sepsis_time\"] <=sepsis_end_cut_t) &(df_aumc_sofa[\"sepsis_time\"] >= sepsis_start_cut_t)]\n",
    "df_aumc_sofa_saki = df_aumc_sofa[(df_aumc_sofa[\"saki_time\"] <=saki_end_cut_t) &(df_aumc_sofa[\"saki_time\"] >= saki_start_cut_t)]\n",
    "df_aumc_sofa_saki = df_aumc_sofa_saki.groupby([\"stay_id\",\"groupHPD\"]).agg({'respiration_sofa':\"mean\", 'coagulation_sofa':\"mean\",'liver_sofa':\"mean\", 'cardiovascular_sofa':\"mean\",\n",
    "                'cns_sofa':\"mean\", 'renal_sofa':\"mean\",\"sofa\":\"mean\",\"sofa_norenal\":\"mean\"}).reset_index()\n",
    "df_aumc_sofa_seps = df_aumc_sofa_seps.groupby([\"stay_id\",\"groupHPD\"]).agg({'respiration_sofa':\"mean\", 'coagulation_sofa':\"mean\",'liver_sofa':\"mean\", 'cardiovascular_sofa':\"mean\",\n",
    "                'cns_sofa':\"mean\", 'renal_sofa':\"mean\",\"sofa\":\"mean\",\"sofa_norenal\":\"mean\"}).reset_index()\n",
    "\n",
    "df_aumc_sofa_seps.isna().sum()/df_t2.shape[0], df_aumc_sofa_saki.isna().sum()/df_t2.shape[0]"
   ]
  },
  {
   "cell_type": "code",
   "execution_count": 18,
   "id": "09024592",
   "metadata": {
    "ExecuteTime": {
     "end_time": "2023-09-26T08:25:05.609842Z",
     "start_time": "2023-09-26T08:25:05.608258Z"
    }
   },
   "outputs": [],
   "source": [
    "# import math\n",
    "# fea_lst = ['respiration_sofa', 'coagulation_sofa', 'liver_sofa','cardiovascular_sofa', 'cns_sofa', 'renal_sofa',\"sofa\",\"sofa_norenal\"]\n",
    "# df_start = df_aumc_sofa_seps\n",
    "# df_end = df_aumc_sofa_saki\n",
    "# # for fea in fea_lst:\n",
    "# #     fea_boxplot2(df_start,df_end,\"AUMCdb\")\n",
    "# for fea in fea_lst:\n",
    "#     fix_feature = ['stay_id', 'groupHPD']\n",
    "#     fix_feature.append(fea)\n",
    "#     df_start_ = df_start[fix_feature].dropna(how='all', subset=[fea])\n",
    "#     df_end_ = df_end[fix_feature].dropna(how='all', subset=[fea])\n",
    "#     fea_boxplot2(df_start_,df_end_,\"AUMCdb\")"
   ]
  },
  {
   "cell_type": "code",
   "execution_count": 19,
   "id": "d3fbf656",
   "metadata": {
    "ExecuteTime": {
     "end_time": "2023-09-26T08:25:05.630889Z",
     "start_time": "2023-09-26T08:25:05.610906Z"
    }
   },
   "outputs": [],
   "source": [
    "sub_sofa_lst = ['respiration_sofa', 'coagulation_sofa', 'liver_sofa',\n",
    "       'cardiovascular_sofa', 'cns_sofa', 'renal_sofa']\n",
    "total_sofa_lst = ['sofa','sofa_norenal']\n",
    "\n",
    "df_start = df_aumc_sofa_seps\n",
    "df_end = df_aumc_sofa_saki\n",
    "\n",
    "df_start_ = df_start\n",
    "df_start_ = df_start_.set_index([\"stay_id\",\"groupHPD\"])\n",
    "df_start_ = df_start_.stack().reset_index()\n",
    "df_start_.columns = [\"stay_id\",\"groupHPD\",\"sub_sofa\",\"value\"]\n",
    "df_start_[\"label\"] = df_start_[\"sub_sofa\"] +\"_\"+ df_start_[\"groupHPD\"].map(str)\n",
    "\n",
    "df_end_ = df_end\n",
    "df_end_ = df_end_.set_index([\"stay_id\",\"groupHPD\"])\n",
    "df_end_ = df_end_.stack().reset_index()\n",
    "df_end_.columns = [\"stay_id\",\"groupHPD\",\"sub_sofa\",\"value\"]\n",
    "df_end_[\"label\"] = df_end_[\"sub_sofa\"] +\"_\"+ df_end_[\"groupHPD\"].map(str)"
   ]
  },
  {
   "cell_type": "code",
   "execution_count": 20,
   "id": "4b2d80af",
   "metadata": {
    "ExecuteTime": {
     "end_time": "2023-09-26T08:25:09.462818Z",
     "start_time": "2023-09-26T08:25:05.631800Z"
    }
   },
   "outputs": [
    {
     "name": "stdout",
     "output_type": "stream",
     "text": [
      "['cardiovascular_sofa_1', 'cardiovascular_sofa_2', 'cardiovascular_sofa_3', 'cns_sofa_1', 'cns_sofa_2', 'cns_sofa_3', 'coagulation_sofa_1', 'coagulation_sofa_2', 'coagulation_sofa_3', 'liver_sofa_1', 'liver_sofa_2', 'liver_sofa_3', 'renal_sofa_1', 'renal_sofa_2', 'renal_sofa_3', 'respiration_sofa_1', 'respiration_sofa_2', 'respiration_sofa_3']\n",
      "p-value annotation legend:\n",
      "ns: 5.00e-02 < p <= 1.00e+00\n",
      "*: 1.00e-02 < p <= 5.00e-02\n",
      "**: 1.00e-03 < p <= 1.00e-02\n",
      "***: 1.00e-04 < p <= 1.00e-03\n",
      "****: p <= 1.00e-04\n",
      "\n",
      "liver_sofa_1_Sepsis v.s. liver_sofa_1_SA-AKI: Welch's t-test independent samples with Bonferroni correction, P_val=1.000e+00 stat=-1.382e+00\n",
      "liver_sofa_2_Sepsis v.s. liver_sofa_2_SA-AKI: Welch's t-test independent samples with Bonferroni correction, P_val=1.000e+00 stat=-1.216e+00\n",
      "liver_sofa_3_Sepsis v.s. liver_sofa_3_SA-AKI: Welch's t-test independent samples with Bonferroni correction, P_val=1.000e+00 stat=-1.153e+00\n",
      "renal_sofa_1_Sepsis v.s. renal_sofa_1_SA-AKI: Welch's t-test independent samples with Bonferroni correction, P_val=1.485e-15 stat=-8.478e+00\n",
      "renal_sofa_2_Sepsis v.s. renal_sofa_2_SA-AKI: Welch's t-test independent samples with Bonferroni correction, P_val=1.688e-06 stat=-5.353e+00\n",
      "renal_sofa_3_Sepsis v.s. renal_sofa_3_SA-AKI: Welch's t-test independent samples with Bonferroni correction, P_val=3.253e-12 stat=-7.660e+00\n",
      "respiration_sofa_1_Sepsis v.s. respiration_sofa_1_SA-AKI: Welch's t-test independent samples with Bonferroni correction, P_val=1.000e+00 stat=1.881e-01\n",
      "respiration_sofa_2_Sepsis v.s. respiration_sofa_2_SA-AKI: Welch's t-test independent samples with Bonferroni correction, P_val=5.445e-02 stat=2.969e+00\n",
      "respiration_sofa_3_Sepsis v.s. respiration_sofa_3_SA-AKI: Welch's t-test independent samples with Bonferroni correction, P_val=5.848e-01 stat=-2.151e+00\n",
      "coagulation_sofa_3_Sepsis v.s. coagulation_sofa_3_SA-AKI: Welch's t-test independent samples with Bonferroni correction, P_val=1.000e+00 stat=-1.018e+00\n",
      "cardiovascular_sofa_2_Sepsis v.s. cardiovascular_sofa_2_SA-AKI: Welch's t-test independent samples with Bonferroni correction, P_val=1.706e-15 stat=-8.367e+00\n",
      "cardiovascular_sofa_1_Sepsis v.s. cardiovascular_sofa_1_SA-AKI: Welch's t-test independent samples with Bonferroni correction, P_val=1.237e-14 stat=-8.210e+00\n",
      "cardiovascular_sofa_3_Sepsis v.s. cardiovascular_sofa_3_SA-AKI: Welch's t-test independent samples with Bonferroni correction, P_val=5.014e-12 stat=-7.592e+00\n",
      "cns_sofa_1_Sepsis v.s. cns_sofa_1_SA-AKI: Welch's t-test independent samples with Bonferroni correction, P_val=1.000e+00 stat=2.291e-02\n",
      "cns_sofa_2_Sepsis v.s. cns_sofa_2_SA-AKI: Welch's t-test independent samples with Bonferroni correction, P_val=1.000e+00 stat=5.718e-02\n",
      "cns_sofa_3_Sepsis v.s. cns_sofa_3_SA-AKI: Welch's t-test independent samples with Bonferroni correction, P_val=1.000e+00 stat=-2.049e-01\n",
      "coagulation_sofa_1_Sepsis v.s. coagulation_sofa_1_SA-AKI: Welch's t-test independent samples with Bonferroni correction, P_val=1.000e+00 stat=-1.073e+00\n",
      "coagulation_sofa_2_Sepsis v.s. coagulation_sofa_2_SA-AKI: Welch's t-test independent samples with Bonferroni correction, P_val=1.000e+00 stat=-6.379e-01\n"
     ]
    },
    {
     "data": {
      "image/png": "[encoded data removed]",
      "text/plain": [
       "<Figure size 1600x300 with 1 Axes>"
      ]
     },
     "metadata": {},
     "output_type": "display_data"
    }
   ],
   "source": [
    "def fea_boxplot3(df_start,df_end,tit,select_lst):\n",
    "    import seaborn as sns\n",
    "    from statannot import add_stat_annotation\n",
    "    from statannotations.Annotator import Annotator\n",
    "    df_start[\"status\"] = \"Sepsis\"\n",
    "    df_end[\"status\"] = \"SA-AKI\"\n",
    "    data_p = pd.concat([df_start, df_end], axis=0)\n",
    "    data_p = data_p[data_p[\"sub_sofa\"].isin(select_lst)]\n",
    "    data_p = data_p.sort_values([\"sub_sofa\",\"groupHPD\"])\n",
    "    tit_lst = data_p.label.unique().tolist()\n",
    "    print(tit_lst)\n",
    "    box_pairs = []\n",
    "    for i in ['cardiovascular_sofa_1', 'cardiovascular_sofa_2', 'cardiovascular_sofa_3', 'cns_sofa_1', 'cns_sofa_2', 'cns_sofa_3', 'coagulation_sofa_1', 'coagulation_sofa_2', 'coagulation_sofa_3', 'liver_sofa_1', 'liver_sofa_2', 'liver_sofa_3', 'renal_sofa_1', 'renal_sofa_2', 'renal_sofa_3', 'respiration_sofa_1', 'respiration_sofa_2', 'respiration_sofa_3']:\n",
    "        j = ((i, \"Sepsis\"), (i, \"SA-AKI\"))\n",
    "        box_pairs.append(j)\n",
    "    size=12\n",
    "    map_dict ={1:\"C1\",2:\"C2\",3:\"C3\"}\n",
    "    data_p[\"groupHPD\"] = data_p[\"groupHPD\"].map(map_dict)\n",
    "    fig = plt.figure(figsize=(16,3))\n",
    "    ax = sns.boxplot(x=\"label\",y=\"value\",hue=\"status\",\n",
    "                    showfliers=False,showmeans=True,meanprops = {'markersize':5,'marker':'D', 'markerfacecolor':'white','markeredgecolor':'black'},\n",
    "                    data=data_p,palette=[\"#a1d99b\",\"#ff7f00\"],saturation=0.9,width=0.5) #order=[\"C1\",\"C2\",\"C3\"]\n",
    "\n",
    "#    positions = [x for x in range(1, len(select_lst) * 8) if x % 4 != 0] #[x for x in range(1, len(select_lst) * 5) if x % 5 != 0]  # Define the desired positions\n",
    "    \n",
    "    add_stat_annotation(ax,data=data_p,x=\"label\",y=\"value\",hue=\"status\",order=tit_lst,test=\"t-test_welch\",box_pairs=box_pairs,loc='outside')\n",
    "    plt.legend(bbox_to_anchor=(1,1.02),frameon=False) #Mann-Whitney\n",
    "    plt.title(tit,x=0,y=1.1)\n",
    "#    plt.xticks([x for x in range(1, len(select_lst) * 4) if x % 4 != 0],[\"C1\",\"C2\",\"C3\"]*len(select_lst))\n",
    "    plt.xticks(list(range(0,len(select_lst)*3)),[\"C1\",\"C2\",\"C3\"]*len(select_lst))\n",
    "#    plt.xticks(rotation=90) #list(range(1,len(select_lst)*3+1)),  [x for x in range(1, len(select_lst)*4) if x % 4 != 0],\n",
    "    plt.ylim(0,6)\n",
    "    plt.ylabel(\"Value\",fontsize=size)\n",
    "    plt.xlabel(\"\")\n",
    "    plt.axhline(y=5, color='black', linestyle='-',lw=1)\n",
    "    \n",
    "    tit_lst = data_p.sub_sofa.unique().tolist()\n",
    "    tit_lst = [word.capitalize() for word in tit_lst]\n",
    "\n",
    "    plt.text(0,5.4,tit_lst[0],fontsize=size)\n",
    "    plt.text(3.5,5.4,tit_lst[1],fontsize=size)\n",
    "    plt.text(6,5.4,tit_lst[2],fontsize=size)\n",
    "    plt.text(9.4,5.4,tit_lst[3],fontsize=size)\n",
    "    plt.text(12.4,5.4,tit_lst[4],fontsize=size)\n",
    "    plt.text(15.1,5.4,tit_lst[5],fontsize=size)\n",
    "    plt.show()\n",
    "    \n",
    "fea_boxplot3(df_start_,df_end_,\"AUMCdb\",sub_sofa_lst)"
   ]
  },
  {
   "cell_type": "code",
   "execution_count": 21,
   "id": "09abba6b",
   "metadata": {
    "ExecuteTime": {
     "end_time": "2023-09-26T08:25:10.143782Z",
     "start_time": "2023-09-26T08:25:09.463823Z"
    }
   },
   "outputs": [
    {
     "name": "stdout",
     "output_type": "stream",
     "text": [
      "['sofa_1', 'sofa_2', 'sofa_3', 'sofa_norenal_1', 'sofa_norenal_2', 'sofa_norenal_3']\n",
      "p-value annotation legend:\n",
      "ns: 5.00e-02 < p <= 1.00e+00\n",
      "*: 1.00e-02 < p <= 5.00e-02\n",
      "**: 1.00e-03 < p <= 1.00e-02\n",
      "***: 1.00e-04 < p <= 1.00e-03\n",
      "****: p <= 1.00e-04\n",
      "\n",
      "sofa_2_Sepsis v.s. sofa_2_SA-AKI: Welch's t-test independent samples with Bonferroni correction, P_val=2.344e-05 stat=-4.679e+00\n",
      "sofa_1_Sepsis v.s. sofa_1_SA-AKI: Welch's t-test independent samples with Bonferroni correction, P_val=7.324e-04 stat=-3.961e+00\n",
      "sofa_3_Sepsis v.s. sofa_3_SA-AKI: Welch's t-test independent samples with Bonferroni correction, P_val=9.258e-04 stat=-4.179e+00\n",
      "sofa_norenal_1_Sepsis v.s. sofa_norenal_1_SA-AKI: Welch's t-test independent samples with Bonferroni correction, P_val=7.889e-03 stat=-3.291e+00\n",
      "sofa_norenal_2_Sepsis v.s. sofa_norenal_2_SA-AKI: Welch's t-test independent samples with Bonferroni correction, P_val=3.832e-04 stat=-4.039e+00\n",
      "sofa_norenal_3_Sepsis v.s. sofa_norenal_3_SA-AKI: Welch's t-test independent samples with Bonferroni correction, P_val=3.841e-03 stat=-3.703e+00\n"
     ]
    },
    {
     "data": {
      "image/png": "[encoded data removed]",
      "text/plain": [
       "<Figure size 500x300 with 1 Axes>"
      ]
     },
     "metadata": {},
     "output_type": "display_data"
    }
   ],
   "source": [
    "def fea_boxplot3(df_start,df_end,tit,select_lst):\n",
    "    import seaborn as sns\n",
    "    from statannot import add_stat_annotation\n",
    "    from statannotations.Annotator import Annotator\n",
    "    df_start[\"status\"] = \"Sepsis\"\n",
    "    df_end[\"status\"] = \"SA-AKI\"\n",
    "    data_p = pd.concat([df_start, df_end], axis=0)\n",
    "    data_p = data_p[data_p[\"sub_sofa\"].isin(select_lst)]\n",
    "    data_p = data_p.sort_values([\"sub_sofa\",\"groupHPD\"])\n",
    "    tit_lst = data_p.label.unique().tolist()\n",
    "    print(tit_lst)\n",
    "    box_pairs = []\n",
    "    for i in tit_lst:\n",
    "        j = ((i, \"Sepsis\"), (i, \"SA-AKI\"))\n",
    "        box_pairs.append(j)\n",
    "    size=9\n",
    "    map_dict ={1:\"C1\",2:\"C2\",3:\"C3\"}\n",
    "    data_p[\"groupHPD\"] = data_p[\"groupHPD\"].map(map_dict)\n",
    "    fig = plt.figure(figsize=(5,3))\n",
    "    ax = sns.boxplot(x=\"label\",y=\"value\",hue=\"status\",\n",
    "                    showfliers=False,showmeans=True,meanprops = {'markersize':5,'marker':'D', 'markerfacecolor':'white','markeredgecolor':'black'},\n",
    "                    data=data_p,palette=[\"#a1d99b\",\"#ff7f00\"],saturation=0.9,width=0.5) #order=[\"C1\",\"C2\",\"C3\"]\n",
    "    ax.yaxis.tick_right()\n",
    "    add_stat_annotation(ax,data=data_p,x=\"label\",y=\"value\",hue=\"status\",order=tit_lst,test=\"t-test_welch\",box_pairs=box_pairs,loc='outside')\n",
    "    plt.legend(bbox_to_anchor=(1.08,1.02),frameon=False) #Mann-Whitney\n",
    "    plt.title(tit,x=0,y=1.1)\n",
    "    plt.xticks(list(range(0,len(select_lst)*3)),[\"C1\",\"C2\",\"C3\"]*len(select_lst))\n",
    "    plt.ylim(0,26)\n",
    "    plt.xlabel(\"\")\n",
    "    plt.ylabel(\"\")\n",
    "    plt.axhline(y=22.5, color='black', linestyle='-',lw=1)\n",
    "    \n",
    "    tit_lst = data_p.sub_sofa.unique().tolist()\n",
    "    tit_lst = [word.capitalize() for word in tit_lst]\n",
    "    plt.text(0.8,23.7,tit_lst[0],fontsize=size)\n",
    "    plt.text(3.4,23.7,tit_lst[1],fontsize=size)\n",
    "    plt.show()\n",
    "    \n",
    "fea_boxplot3(df_start_,df_end_,\"AUMCdb\",total_sofa_lst)"
   ]
  },
  {
   "cell_type": "code",
   "execution_count": null,
   "id": "898deea8",
   "metadata": {},
   "outputs": [],
   "source": []
  },
  {
   "cell_type": "markdown",
   "id": "679ed696",
   "metadata": {},
   "source": [
    "### eicu"
   ]
  },
  {
   "cell_type": "code",
   "execution_count": 22,
   "id": "774215e3",
   "metadata": {
    "ExecuteTime": {
     "end_time": "2023-09-26T08:25:28.984275Z",
     "start_time": "2023-09-26T08:25:10.144780Z"
    },
    "run_control": {
     "marked": true
    }
   },
   "outputs": [
    {
     "data": {
      "text/plain": [
       "(stay_id                0.0\n",
       " groupHPD               0.0\n",
       " respiration_sofa       0.0\n",
       " coagulation_sofa       0.0\n",
       " liver_sofa             0.0\n",
       " cardiovascular_sofa    0.0\n",
       " cns_sofa               0.0\n",
       " renal_sofa             0.0\n",
       " sofa                   0.0\n",
       " sofa_norenal           0.0\n",
       " dtype: float64,\n",
       " stay_id                0.0\n",
       " groupHPD               0.0\n",
       " respiration_sofa       0.0\n",
       " coagulation_sofa       0.0\n",
       " liver_sofa             0.0\n",
       " cardiovascular_sofa    0.0\n",
       " cns_sofa               0.0\n",
       " renal_sofa             0.0\n",
       " sofa                   0.0\n",
       " sofa_norenal           0.0\n",
       " dtype: float64)"
      ]
     },
     "execution_count": 22,
     "metadata": {},
     "output_type": "execute_result"
    }
   ],
   "source": [
    "df = pd.read_csv(\"/public/hanl/jupyter_dir/kidney_sepsis_penotype_v2/04.other_feature_in_three_dataset/03.sofa_feature/eicu_sofa.csv\") # hour\n",
    "df = df.rename(columns={'patientunitstayid':'stay_id', 'hr':\"charttime\",'respiration_24hours':\"respiration_sofa\", 'coagulation_24hours':\"coagulation_sofa\", 'liver_24hours': 'liver_sofa',\n",
    "       'cardiovascular_24hours':\"cardiovascular_sofa\", 'cns_24hours':'cns_sofa', 'renal_24hours':'renal_sofa','sofa_24hours':\"sofa\"})\n",
    "df = df[['stay_id','charttime','respiration_sofa', 'coagulation_sofa', 'liver_sofa','cardiovascular_sofa', 'cns_sofa', 'renal_sofa', 'sofa']]\n",
    "df[\"sofa\"] = df[\"respiration_sofa\"] + df[\"coagulation_sofa\"] + df[\"liver_sofa\"] + df[\"cardiovascular_sofa\"] + df[\"cns_sofa\"] + df[\"renal_sofa\"] \n",
    "\n",
    "df = pd.merge(df,df_t3, how=\"inner\",on=\"stay_id\") \n",
    "df = df.sort_values([\"stay_id\",\"charttime\"])\n",
    "df[\"sepsis_time\"] = (df[\"charttime\"] - df[\"sepsis_onset\"])/1\n",
    "df[\"saki_time\"] = (df[\"charttime\"] - df[\"saki_onset\"] )/1\n",
    "df[\"stay_id_copy\"] = df[\"stay_id\"]\n",
    "df = df.groupby('stay_id_copy').fillna(method='ffill') #.fillna(method='bfill')\n",
    "df[\"sofa\"] = df[\"respiration_sofa\"] + df[\"coagulation_sofa\"] + df[\"liver_sofa\"] + df[\"cardiovascular_sofa\"] + df[\"cns_sofa\"] + df[\"renal_sofa\"] \n",
    "df[\"sofa_norenal\"] = df[\"respiration_sofa\"] + df[\"coagulation_sofa\"] + df[\"liver_sofa\"] + df[\"cardiovascular_sofa\"] + df[\"cns_sofa\"]  \n",
    "df_eicu_sofa = df\n",
    "\n",
    "df_eicu_sofa_seps = df_eicu_sofa[(df_eicu_sofa[\"sepsis_time\"] <=sepsis_end_cut_t) &(df_eicu_sofa[\"sepsis_time\"] >= sepsis_start_cut_t)]\n",
    "df_eicu_sofa_saki = df_eicu_sofa[(df_eicu_sofa[\"saki_time\"] <=saki_end_cut_t) &(df_eicu_sofa[\"saki_time\"] >= saki_start_cut_t)]\n",
    "df_eicu_sofa_saki = df_eicu_sofa_saki.groupby([\"stay_id\",\"groupHPD\"]).agg({'respiration_sofa':\"mean\", 'coagulation_sofa':\"mean\",'liver_sofa':\"mean\", 'cardiovascular_sofa':\"mean\",\n",
    "                'cns_sofa':\"mean\", 'renal_sofa':\"mean\",\"sofa\":\"mean\",\"sofa_norenal\":\"mean\"}).reset_index()\n",
    "df_eicu_sofa_seps = df_eicu_sofa_seps.groupby([\"stay_id\",\"groupHPD\"]).agg({'respiration_sofa':\"mean\", 'coagulation_sofa':\"mean\",'liver_sofa':\"mean\", 'cardiovascular_sofa':\"mean\",\n",
    "                'cns_sofa':\"mean\", 'renal_sofa':\"mean\",\"sofa\":\"mean\",\"sofa_norenal\":\"mean\"}).reset_index()\n",
    "\n",
    "\n",
    "df_eicu_sofa_seps.isna().sum()/df_t3.shape[0], df_eicu_sofa_saki.isna().sum()/df_t3.shape[0]"
   ]
  },
  {
   "cell_type": "code",
   "execution_count": 23,
   "id": "e9d5cfe8",
   "metadata": {
    "ExecuteTime": {
     "end_time": "2023-09-26T08:25:28.989026Z",
     "start_time": "2023-09-26T08:25:28.987411Z"
    }
   },
   "outputs": [],
   "source": [
    "# import math\n",
    "# fea_lst = ['respiration_sofa', 'coagulation_sofa', 'liver_sofa','cardiovascular_sofa', 'cns_sofa', 'renal_sofa',\"sofa\",\"sofa_norenal\"]\n",
    "# df_start = df_eicu_sofa_seps\n",
    "# df_end = df_eicu_sofa_saki\n",
    "# # for fea in fea_lst:\n",
    "# #     fea_boxplot2(df_start,df_end,\"eICU\")\n",
    "# for fea in fea_lst:\n",
    "#     fix_feature = ['stay_id', 'groupHPD']\n",
    "#     fix_feature.append(fea)\n",
    "#     df_start_ = df_start[fix_feature].dropna(how='all', subset=[fea])\n",
    "#     df_end_ = df_end[fix_feature].dropna(how='all', subset=[fea])\n",
    "#     fea_boxplot2(df_start_,df_end_,\"eICU\")"
   ]
  },
  {
   "cell_type": "code",
   "execution_count": 24,
   "id": "220a0828",
   "metadata": {
    "ExecuteTime": {
     "end_time": "2023-09-26T08:25:29.010776Z",
     "start_time": "2023-09-26T08:25:28.990764Z"
    }
   },
   "outputs": [],
   "source": [
    "sub_sofa_lst = ['respiration_sofa', 'coagulation_sofa', 'liver_sofa',\n",
    "       'cardiovascular_sofa', 'cns_sofa', 'renal_sofa']\n",
    "total_sofa_lst = ['sofa','sofa_norenal']\n",
    "\n",
    "df_start = df_eicu_sofa_seps\n",
    "df_end = df_eicu_sofa_saki\n",
    "\n",
    "df_start_ = df_start\n",
    "df_start_ = df_start_.set_index([\"stay_id\",\"groupHPD\"])\n",
    "df_start_ = df_start_.stack().reset_index()\n",
    "df_start_.columns = [\"stay_id\",\"groupHPD\",\"sub_sofa\",\"value\"]\n",
    "df_start_[\"label\"] = df_start_[\"sub_sofa\"] +\"_\"+ df_start_[\"groupHPD\"].map(str)\n",
    "\n",
    "df_end_ = df_end\n",
    "df_end_ = df_end_.set_index([\"stay_id\",\"groupHPD\"])\n",
    "df_end_ = df_end_.stack().reset_index()\n",
    "df_end_.columns = [\"stay_id\",\"groupHPD\",\"sub_sofa\",\"value\"]\n",
    "df_end_[\"label\"] = df_end_[\"sub_sofa\"] +\"_\"+ df_end_[\"groupHPD\"].map(str)"
   ]
  },
  {
   "cell_type": "code",
   "execution_count": 25,
   "id": "d84b566b",
   "metadata": {
    "ExecuteTime": {
     "end_time": "2023-09-26T08:25:29.013048Z",
     "start_time": "2023-09-26T08:25:29.011673Z"
    }
   },
   "outputs": [],
   "source": [
    "# positions = [x for x in range(1, len(sub_sofa_lst) * 4) if x % 4 != 0]\n",
    "# map_dict = dict(zip(['cardiovascular_sofa_1', 'cardiovascular_sofa_2', 'cardiovascular_sofa_3', 'cns_sofa_1', 'cns_sofa_2', 'cns_sofa_3', 'coagulation_sofa_1', 'coagulation_sofa_2', 'coagulation_sofa_3', 'liver_sofa_1', 'liver_sofa_2', 'liver_sofa_3', 'renal_sofa_1', 'renal_sofa_2', 'renal_sofa_3', 'respiration_sofa_1', 'respiration_sofa_2', 'respiration_sofa_3'], positions))\n",
    "# df_end_[\"nx\"] = df_end_[\"label\"].map(map_dict)\n",
    "# df_start_[\"nx\"] = df_start_[\"label\"].map(map_dict)"
   ]
  },
  {
   "cell_type": "code",
   "execution_count": 26,
   "id": "6687c903",
   "metadata": {
    "ExecuteTime": {
     "end_time": "2023-09-26T08:25:31.085365Z",
     "start_time": "2023-09-26T08:25:29.014080Z"
    }
   },
   "outputs": [
    {
     "name": "stdout",
     "output_type": "stream",
     "text": [
      "['cardiovascular_sofa_1', 'cardiovascular_sofa_2', 'cardiovascular_sofa_3', 'cns_sofa_1', 'cns_sofa_2', 'cns_sofa_3', 'coagulation_sofa_1', 'coagulation_sofa_2', 'coagulation_sofa_3', 'liver_sofa_1', 'liver_sofa_2', 'liver_sofa_3', 'renal_sofa_1', 'renal_sofa_2', 'renal_sofa_3', 'respiration_sofa_1', 'respiration_sofa_2', 'respiration_sofa_3']\n",
      "p-value annotation legend:\n",
      "ns: 5.00e-02 < p <= 1.00e+00\n",
      "*: 1.00e-02 < p <= 5.00e-02\n",
      "**: 1.00e-03 < p <= 1.00e-02\n",
      "***: 1.00e-04 < p <= 1.00e-03\n",
      "****: p <= 1.00e-04\n",
      "\n",
      "liver_sofa_1_Sepsis v.s. liver_sofa_1_SA-AKI: Welch's t-test independent samples with Bonferroni correction, P_val=1.000e+00 stat=-5.984e-01\n",
      "liver_sofa_2_Sepsis v.s. liver_sofa_2_SA-AKI: Welch's t-test independent samples with Bonferroni correction, P_val=1.000e+00 stat=9.160e-01\n",
      "liver_sofa_3_Sepsis v.s. liver_sofa_3_SA-AKI: Welch's t-test independent samples with Bonferroni correction, P_val=1.000e+00 stat=-1.023e+00\n",
      "renal_sofa_1_Sepsis v.s. renal_sofa_1_SA-AKI: Welch's t-test independent samples with Bonferroni correction, P_val=4.055e-33 stat=-1.262e+01\n",
      "renal_sofa_2_Sepsis v.s. renal_sofa_2_SA-AKI: Welch's t-test independent samples with Bonferroni correction, P_val=6.926e-26 stat=-1.096e+01\n",
      "renal_sofa_3_Sepsis v.s. renal_sofa_3_SA-AKI: Welch's t-test independent samples with Bonferroni correction, P_val=7.909e-12 stat=-7.532e+00\n",
      "respiration_sofa_1_Sepsis v.s. respiration_sofa_1_SA-AKI: Welch's t-test independent samples with Bonferroni correction, P_val=1.000e+00 stat=-9.964e-01\n",
      "respiration_sofa_2_Sepsis v.s. respiration_sofa_2_SA-AKI: Welch's t-test independent samples with Bonferroni correction, P_val=1.000e+00 stat=-1.787e+00\n",
      "respiration_sofa_3_Sepsis v.s. respiration_sofa_3_SA-AKI: Welch's t-test independent samples with Bonferroni correction, P_val=1.000e+00 stat=-1.569e+00\n",
      "coagulation_sofa_3_Sepsis v.s. coagulation_sofa_3_SA-AKI: Welch's t-test independent samples with Bonferroni correction, P_val=1.000e+00 stat=-1.056e+00\n",
      "cardiovascular_sofa_2_Sepsis v.s. cardiovascular_sofa_2_SA-AKI: Welch's t-test independent samples with Bonferroni correction, P_val=5.361e-27 stat=-1.122e+01\n",
      "cardiovascular_sofa_1_Sepsis v.s. cardiovascular_sofa_1_SA-AKI: Welch's t-test independent samples with Bonferroni correction, P_val=3.285e-31 stat=-1.228e+01\n",
      "cardiovascular_sofa_3_Sepsis v.s. cardiovascular_sofa_3_SA-AKI: Welch's t-test independent samples with Bonferroni correction, P_val=1.620e-11 stat=-7.474e+00\n",
      "cns_sofa_1_Sepsis v.s. cns_sofa_1_SA-AKI: Welch's t-test independent samples with Bonferroni correction, P_val=4.432e-08 stat=-6.012e+00\n",
      "cns_sofa_2_Sepsis v.s. cns_sofa_2_SA-AKI: Welch's t-test independent samples with Bonferroni correction, P_val=2.227e-06 stat=-5.309e+00\n",
      "cns_sofa_3_Sepsis v.s. cns_sofa_3_SA-AKI: Welch's t-test independent samples with Bonferroni correction, P_val=9.223e-05 stat=-4.637e+00\n",
      "coagulation_sofa_1_Sepsis v.s. coagulation_sofa_1_SA-AKI: Welch's t-test independent samples with Bonferroni correction, P_val=3.178e-01 stat=-2.376e+00\n",
      "coagulation_sofa_2_Sepsis v.s. coagulation_sofa_2_SA-AKI: Welch's t-test independent samples with Bonferroni correction, P_val=4.570e-02 stat=-3.023e+00\n"
     ]
    },
    {
     "data": {
      "image/png": "[encoded data removed]",
      "text/plain": [
       "<Figure size 1600x300 with 1 Axes>"
      ]
     },
     "metadata": {},
     "output_type": "display_data"
    }
   ],
   "source": [
    "def fea_boxplot3(df_start,df_end,tit,select_lst):\n",
    "    import seaborn as sns\n",
    "    from statannot import add_stat_annotation\n",
    "    from statannotations.Annotator import Annotator\n",
    "    df_start[\"status\"] = \"Sepsis\"\n",
    "    df_end[\"status\"] = \"SA-AKI\"\n",
    "    data_p = pd.concat([df_start, df_end], axis=0)\n",
    "    data_p = data_p[data_p[\"sub_sofa\"].isin(select_lst)]\n",
    "    data_p = data_p.sort_values([\"sub_sofa\",\"groupHPD\"])\n",
    "    tit_lst = data_p.label.unique().tolist()\n",
    "    print(tit_lst)\n",
    "    box_pairs = []\n",
    "    for i in tit_lst:#['cardiovascular_sofa_1', 'cardiovascular_sofa_2', 'cardiovascular_sofa_3', 'cns_sofa_1', 'cns_sofa_2', 'cns_sofa_3', 'coagulation_sofa_1', 'coagulation_sofa_2', 'coagulation_sofa_3', 'liver_sofa_1', 'liver_sofa_2', 'liver_sofa_3', 'renal_sofa_1', 'renal_sofa_2', 'renal_sofa_3', 'respiration_sofa_1', 'respiration_sofa_2', 'respiration_sofa_3']:\n",
    "        j = ((i, \"Sepsis\"), (i, \"SA-AKI\"))\n",
    "        box_pairs.append(j)\n",
    "    size=12\n",
    "    map_dict ={1:\"C1\",2:\"C2\",3:\"C3\"}\n",
    "    data_p[\"groupHPD\"] = data_p[\"groupHPD\"].map(map_dict)\n",
    "    fig = plt.figure(figsize=(16,3))\n",
    "    ax = sns.boxplot(x=\"label\",y=\"value\",hue=\"status\",\n",
    "                    showfliers=False,showmeans=True,meanprops = {'markersize':5,'marker':'D', 'markerfacecolor':'white','markeredgecolor':'black'},\n",
    "                    data=data_p,palette=[\"#a1d99b\",\"#ff7f00\"],saturation=0.9,width=0.5) #order=[\"C1\",\"C2\",\"C3\"]\n",
    "    \n",
    "    add_stat_annotation(ax,data=data_p,x=\"label\",y=\"value\",hue=\"status\",order=tit_lst,test=\"t-test_welch\",box_pairs=box_pairs,loc='outside')\n",
    "    plt.legend(bbox_to_anchor=(1,1.02),frameon=False) #Mann-Whitney\n",
    "    plt.title(tit,x=0,y=1.1)\n",
    "#    plt.xticks([x for x in range(1, len(select_lst) * 4) if x % 4 != 0],[\"C1\",\"C2\",\"C3\"]*len(select_lst))\n",
    "    plt.xticks(list(range(0,len(select_lst)*3)),[\"C1\",\"C2\",\"C3\"]*len(select_lst))\n",
    "#    plt.xticks(rotation=90) #list(range(1,len(select_lst)*3+1)),  [x for x in range(1, len(select_lst)*4) if x % 4 != 0],\n",
    "    plt.ylim(0,6)\n",
    "    plt.ylabel(\"Value\",fontsize=size)\n",
    "    plt.xlabel(\"\")\n",
    "    plt.axhline(y=5, color='black', linestyle='-',lw=1)\n",
    "    \n",
    "    tit_lst = data_p.sub_sofa.unique().tolist()\n",
    "    tit_lst = [word.capitalize() for word in tit_lst]\n",
    "\n",
    "    plt.text(0,5.4,tit_lst[0],fontsize=size)\n",
    "    plt.text(3.5,5.4,tit_lst[1],fontsize=size)\n",
    "    plt.text(6,5.4,tit_lst[2],fontsize=size)\n",
    "    plt.text(9.4,5.4,tit_lst[3],fontsize=size)\n",
    "    plt.text(12.4,5.4,tit_lst[4],fontsize=size)\n",
    "    plt.text(15.1,5.4,tit_lst[5],fontsize=size)\n",
    "    plt.show()\n",
    "    \n",
    "fea_boxplot3(df_start_,df_end_,\"eICU\",sub_sofa_lst)"
   ]
  },
  {
   "cell_type": "code",
   "execution_count": 27,
   "id": "d0106d13",
   "metadata": {
    "ExecuteTime": {
     "end_time": "2023-09-26T08:25:31.796226Z",
     "start_time": "2023-09-26T08:25:31.086487Z"
    }
   },
   "outputs": [
    {
     "name": "stdout",
     "output_type": "stream",
     "text": [
      "['sofa_1', 'sofa_2', 'sofa_3', 'sofa_norenal_1', 'sofa_norenal_2', 'sofa_norenal_3']\n",
      "p-value annotation legend:\n",
      "ns: 5.00e-02 < p <= 1.00e+00\n",
      "*: 1.00e-02 < p <= 5.00e-02\n",
      "**: 1.00e-03 < p <= 1.00e-02\n",
      "***: 1.00e-04 < p <= 1.00e-03\n",
      "****: p <= 1.00e-04\n",
      "\n",
      "sofa_2_Sepsis v.s. sofa_2_SA-AKI: Welch's t-test independent samples with Bonferroni correction, P_val=1.096e-41 stat=-1.403e+01\n",
      "sofa_1_Sepsis v.s. sofa_1_SA-AKI: Welch's t-test independent samples with Bonferroni correction, P_val=1.597e-42 stat=-1.442e+01\n",
      "sofa_3_Sepsis v.s. sofa_3_SA-AKI: Welch's t-test independent samples with Bonferroni correction, P_val=1.336e-15 stat=-8.730e+00\n",
      "sofa_norenal_1_Sepsis v.s. sofa_norenal_1_SA-AKI: Welch's t-test independent samples with Bonferroni correction, P_val=7.340e-18 stat=-8.972e+00\n",
      "sofa_norenal_2_Sepsis v.s. sofa_norenal_2_SA-AKI: Welch's t-test independent samples with Bonferroni correction, P_val=3.610e-17 stat=-8.724e+00\n",
      "sofa_norenal_3_Sepsis v.s. sofa_norenal_3_SA-AKI: Welch's t-test independent samples with Bonferroni correction, P_val=2.684e-08 stat=-6.052e+00\n"
     ]
    },
    {
     "data": {
      "image/png": "[encoded data removed]",
      "text/plain": [
       "<Figure size 500x300 with 1 Axes>"
      ]
     },
     "metadata": {},
     "output_type": "display_data"
    }
   ],
   "source": [
    "def fea_boxplot3(df_start,df_end,tit,select_lst):\n",
    "    import seaborn as sns\n",
    "    from statannot import add_stat_annotation\n",
    "    from statannotations.Annotator import Annotator\n",
    "    df_start[\"status\"] = \"Sepsis\"\n",
    "    df_end[\"status\"] = \"SA-AKI\"\n",
    "    data_p = pd.concat([df_start, df_end], axis=0)\n",
    "    data_p = data_p[data_p[\"sub_sofa\"].isin(select_lst)]\n",
    "    data_p = data_p.sort_values([\"sub_sofa\",\"groupHPD\"])\n",
    "    tit_lst = data_p.label.unique().tolist()\n",
    "    print(tit_lst)\n",
    "    box_pairs = []\n",
    "    for i in tit_lst:\n",
    "        j = ((i, \"Sepsis\"), (i, \"SA-AKI\"))\n",
    "        box_pairs.append(j)\n",
    "    size=9\n",
    "    map_dict ={1:\"C1\",2:\"C2\",3:\"C3\"}\n",
    "    data_p[\"groupHPD\"] = data_p[\"groupHPD\"].map(map_dict)\n",
    "    fig = plt.figure(figsize=(5,3))\n",
    "    ax = sns.boxplot(x=\"label\",y=\"value\",hue=\"status\",\n",
    "                    showfliers=False,showmeans=True,meanprops = {'markersize':5,'marker':'D', 'markerfacecolor':'white','markeredgecolor':'black'},\n",
    "                    data=data_p,palette=[\"#a1d99b\",\"#ff7f00\"],saturation=0.9,width=0.5) #order=[\"C1\",\"C2\",\"C3\"]\n",
    "    ax.yaxis.tick_right()\n",
    "    add_stat_annotation(ax,data=data_p,x=\"label\",y=\"value\",hue=\"status\",order=tit_lst,test=\"t-test_welch\",box_pairs=box_pairs,loc='outside')\n",
    "    plt.legend(bbox_to_anchor=(1.08,1.02),frameon=False) #Mann-Whitney\n",
    "    plt.title(tit,x=0,y=1.1)\n",
    "    plt.xticks(list(range(0,len(select_lst)*3)),[\"C1\",\"C2\",\"C3\"]*len(select_lst))\n",
    "    plt.ylim(0,26)\n",
    "    plt.ylabel(\"\")\n",
    "    plt.xlabel(\"\")\n",
    "    plt.ylabel(\"Total-sofa\",fontsize=size)\n",
    "    plt.axhline(y=22.5, color='black', linestyle='-',lw=1)\n",
    "    \n",
    "    tit_lst = data_p.sub_sofa.unique().tolist()\n",
    "    tit_lst = [word.capitalize() for word in tit_lst]\n",
    "    plt.text(0.8,23.7,tit_lst[0],fontsize=size)\n",
    "    plt.text(3.4,23.7,tit_lst[1],fontsize=size)\n",
    "    plt.show()\n",
    "    \n",
    "fea_boxplot3(df_start_,df_end_,\"eICU\",total_sofa_lst)"
   ]
  },
  {
   "cell_type": "code",
   "execution_count": null,
   "id": "62401019",
   "metadata": {},
   "outputs": [],
   "source": []
  }
 ],
 "metadata": {
  "kernelspec": {
   "display_name": "Python [conda env:sp_shock] *",
   "language": "python",
   "name": "conda-env-sp_shock-py"
  },
  "language_info": {
   "codemirror_mode": {
    "name": "ipython",
    "version": 3
   },
   "file_extension": ".py",
   "mimetype": "text/x-python",
   "name": "python",
   "nbconvert_exporter": "python",
   "pygments_lexer": "ipython3",
   "version": "3.9.5"
  },
  "toc": {
   "base_numbering": 1,
   "nav_menu": {},
   "number_sections": true,
   "sideBar": true,
   "skip_h1_title": false,
   "title_cell": "Table of Contents",
   "title_sidebar": "Contents",
   "toc_cell": false,
   "toc_position": {
    "height": "calc(100% - 180px)",
    "left": "10px",
    "top": "150px",
    "width": "165px"
   },
   "toc_section_display": true,
   "toc_window_display": true
  },
  "varInspector": {
   "cols": {
    "lenName": 16,
    "lenType": 16,
    "lenVar": 40
   },
   "kernels_config": {
    "python": {
     "delete_cmd_postfix": "",
     "delete_cmd_prefix": "del ",
     "library": "var_list.py",
     "varRefreshCmd": "print(var_dic_list())"
    },
    "r": {
     "delete_cmd_postfix": ") ",
     "delete_cmd_prefix": "rm(",
     "library": "var_list.r",
     "varRefreshCmd": "cat(var_dic_list()) "
    }
   },
   "types_to_exclude": [
    "module",
    "function",
    "builtin_function_or_method",
    "instance",
    "_Feature"
   ],
   "window_display": false
  }
 },
 "nbformat": 4,
 "nbformat_minor": 5
}
